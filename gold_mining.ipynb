{
 "cells": [
  {
   "cell_type": "markdown",
   "metadata": {},
   "source": [
    "# Восстановление золота из руды"
   ]
  },
  {
   "cell_type": "markdown",
   "metadata": {},
   "source": [
    "**Задача:** прототип модели машинного обучения.\n",
    "Модель должна предсказать коэффициент восстановления золота из золотосодержащей руды. \n",
    "Модель поможет оптимизировать производство, чтобы не запускать предприятие с убыточными характеристиками."
   ]
  },
  {
   "cell_type": "code",
   "execution_count": 2,
   "metadata": {},
   "outputs": [],
   "source": [
    "import pandas as pd\n",
    "import numpy as np\n",
    "import seaborn as sns\n",
    "import matplotlib.pyplot as plt\n",
    "import mitosheet as mt\n",
    "from sklearn.linear_model import LinearRegression, Lasso, Ridge\n",
    "from sklearn.ensemble import RandomForestRegressor\n",
    "from sklearn.metrics import make_scorer\n",
    "from sklearn.metrics import mean_absolute_error\n",
    "from sklearn.model_selection import GridSearchCV\n",
    "from sklearn.pipeline import Pipeline\n",
    "from scipy import stats as st\n",
    "from sklearn.preprocessing import StandardScaler\n",
    "from sklearn.impute import SimpleImputer\n",
    "from sklearn.model_selection import cross_val_score\n",
    "import warnings\n",
    "warnings.filterwarnings(\"ignore\")"
   ]
  },
  {
   "cell_type": "markdown",
   "metadata": {},
   "source": [
    "## Подготовка данных"
   ]
  },
  {
   "cell_type": "markdown",
   "metadata": {},
   "source": [
    "**Загрузка данных**"
   ]
  },
  {
   "cell_type": "code",
   "execution_count": 3,
   "metadata": {},
   "outputs": [],
   "source": [
    "df = pd.read_csv('/datasets/gold_recovery_full_new.csv') # полная\n",
    "train = pd.read_csv('/datasets/gold_recovery_train_new.csv') # обучаяющая\n",
    "test = pd.read_csv('/datasets/gold_recovery_test_new.csv') # тестовая"
   ]
  },
  {
   "cell_type": "markdown",
   "metadata": {},
   "source": [
    "**Параметры датасетов**"
   ]
  },
  {
   "cell_type": "code",
   "execution_count": 4,
   "metadata": {},
   "outputs": [
    {
     "name": "stdout",
     "output_type": "stream",
     "text": [
      "Количество образцов обучающей выборки: 14149\n",
      " Количество образцов тестовой выборки: 5290\n",
      " Сумма выборок: 19439\n",
      " Количество образцов подготовленной выборки (контрольная сумма):19439\n"
     ]
    }
   ],
   "source": [
    "print(f'Количество образцов обучающей выборки: {len(train)}\\n',\n",
    "    f'Количество образцов тестовой выборки: {len(test)}\\n',\n",
    "    f'Сумма выборок: {len(train) + len(test)}\\n',\n",
    "    f'Количество образцов подготовленной выборки (контрольная сумма):{len(df)}')"
   ]
  },
  {
   "cell_type": "code",
   "execution_count": 5,
   "metadata": {},
   "outputs": [
    {
     "data": {
      "text/plain": [
       "(19439, 87)"
      ]
     },
     "execution_count": 5,
     "metadata": {},
     "output_type": "execute_result"
    }
   ],
   "source": [
    "df.shape"
   ]
  },
  {
   "cell_type": "code",
   "execution_count": 6,
   "metadata": {
    "scrolled": true
   },
   "outputs": [
    {
     "data": {
      "text/plain": [
       "Index(['date', 'final.output.concentrate_ag', 'final.output.concentrate_pb',\n",
       "       'final.output.concentrate_sol', 'final.output.concentrate_au',\n",
       "       'final.output.recovery', 'final.output.tail_ag', 'final.output.tail_pb',\n",
       "       'final.output.tail_sol', 'final.output.tail_au',\n",
       "       'primary_cleaner.input.sulfate', 'primary_cleaner.input.depressant',\n",
       "       'primary_cleaner.input.feed_size', 'primary_cleaner.input.xanthate',\n",
       "       'primary_cleaner.output.concentrate_ag',\n",
       "       'primary_cleaner.output.concentrate_pb',\n",
       "       'primary_cleaner.output.concentrate_sol',\n",
       "       'primary_cleaner.output.concentrate_au',\n",
       "       'primary_cleaner.output.tail_ag', 'primary_cleaner.output.tail_pb',\n",
       "       'primary_cleaner.output.tail_sol', 'primary_cleaner.output.tail_au',\n",
       "       'primary_cleaner.state.floatbank8_a_air',\n",
       "       'primary_cleaner.state.floatbank8_a_level',\n",
       "       'primary_cleaner.state.floatbank8_b_air',\n",
       "       'primary_cleaner.state.floatbank8_b_level',\n",
       "       'primary_cleaner.state.floatbank8_c_air',\n",
       "       'primary_cleaner.state.floatbank8_c_level',\n",
       "       'primary_cleaner.state.floatbank8_d_air',\n",
       "       'primary_cleaner.state.floatbank8_d_level',\n",
       "       'rougher.calculation.sulfate_to_au_concentrate',\n",
       "       'rougher.calculation.floatbank10_sulfate_to_au_feed',\n",
       "       'rougher.calculation.floatbank11_sulfate_to_au_feed',\n",
       "       'rougher.calculation.au_pb_ratio', 'rougher.input.feed_ag',\n",
       "       'rougher.input.feed_pb', 'rougher.input.feed_rate',\n",
       "       'rougher.input.feed_size', 'rougher.input.feed_sol',\n",
       "       'rougher.input.feed_au', 'rougher.input.floatbank10_sulfate',\n",
       "       'rougher.input.floatbank10_xanthate',\n",
       "       'rougher.input.floatbank11_sulfate',\n",
       "       'rougher.input.floatbank11_xanthate', 'rougher.output.concentrate_ag',\n",
       "       'rougher.output.concentrate_pb', 'rougher.output.concentrate_sol',\n",
       "       'rougher.output.concentrate_au', 'rougher.output.recovery',\n",
       "       'rougher.output.tail_ag', 'rougher.output.tail_pb',\n",
       "       'rougher.output.tail_sol', 'rougher.output.tail_au',\n",
       "       'rougher.state.floatbank10_a_air', 'rougher.state.floatbank10_a_level',\n",
       "       'rougher.state.floatbank10_b_air', 'rougher.state.floatbank10_b_level',\n",
       "       'rougher.state.floatbank10_c_air', 'rougher.state.floatbank10_c_level',\n",
       "       'rougher.state.floatbank10_d_air', 'rougher.state.floatbank10_d_level',\n",
       "       'rougher.state.floatbank10_e_air', 'rougher.state.floatbank10_e_level',\n",
       "       'rougher.state.floatbank10_f_air', 'rougher.state.floatbank10_f_level',\n",
       "       'secondary_cleaner.output.tail_ag', 'secondary_cleaner.output.tail_pb',\n",
       "       'secondary_cleaner.output.tail_sol', 'secondary_cleaner.output.tail_au',\n",
       "       'secondary_cleaner.state.floatbank2_a_air',\n",
       "       'secondary_cleaner.state.floatbank2_a_level',\n",
       "       'secondary_cleaner.state.floatbank2_b_air',\n",
       "       'secondary_cleaner.state.floatbank2_b_level',\n",
       "       'secondary_cleaner.state.floatbank3_a_air',\n",
       "       'secondary_cleaner.state.floatbank3_a_level',\n",
       "       'secondary_cleaner.state.floatbank3_b_air',\n",
       "       'secondary_cleaner.state.floatbank3_b_level',\n",
       "       'secondary_cleaner.state.floatbank4_a_air',\n",
       "       'secondary_cleaner.state.floatbank4_a_level',\n",
       "       'secondary_cleaner.state.floatbank4_b_air',\n",
       "       'secondary_cleaner.state.floatbank4_b_level',\n",
       "       'secondary_cleaner.state.floatbank5_a_air',\n",
       "       'secondary_cleaner.state.floatbank5_a_level',\n",
       "       'secondary_cleaner.state.floatbank5_b_air',\n",
       "       'secondary_cleaner.state.floatbank5_b_level',\n",
       "       'secondary_cleaner.state.floatbank6_a_air',\n",
       "       'secondary_cleaner.state.floatbank6_a_level'],\n",
       "      dtype='object')"
      ]
     },
     "execution_count": 6,
     "metadata": {},
     "output_type": "execute_result"
    }
   ],
   "source": [
    "df.columns"
   ]
  },
  {
   "cell_type": "markdown",
   "metadata": {},
   "source": [
    "Rougher feed — исходное сырье  \n",
    "Rougher additions (или reagent additions) — флотационные реагенты: Xanthate, Sulphate, Depressant  \n",
    "Rougher process (англ. «грубый процесс») — флотация  \n",
    "Rougher tails — отвальные хвосты  \n",
    "Float banks — флотационная установка  \n",
    "Cleaner process — очистка  \n",
    "Rougher Au — черновой концентрат золота  \n",
    "Final Au — финальный концентрат золота  \n",
    "air amount — объём воздуха  \n",
    "fluid levels — уровень жидкости  \n",
    "feed size — размер гранул сырья  \n",
    "feed rate — скорость подачи  \n",
    "rougher — флотация  \n",
    "primary_cleaner — первичная очистка  \n",
    "secondary_cleaner — вторичная очистка  \n",
    "final — финальные характеристики  \n",
    "input — параметры сырья  \n",
    "output — параметры продукта  \n",
    "state — параметры, характеризующие текущее состояние этапа  \n",
    "calculation — расчётные характеристики  "
   ]
  },
  {
   "cell_type": "markdown",
   "metadata": {},
   "source": [
    "Наименование признаков указано по принципу _этап_тип_параметра_название_параметра  \n",
    "\n",
    "Целевые признаки:\n",
    "    rougher.output.recovery;\n",
    "    final.output.recovery."
   ]
  },
  {
   "cell_type": "code",
   "execution_count": 7,
   "metadata": {},
   "outputs": [
    {
     "data": {
      "text/plain": [
       "((14149, 87), (5290, 53))"
      ]
     },
     "execution_count": 7,
     "metadata": {},
     "output_type": "execute_result"
    }
   ],
   "source": [
    "train.shape, test.shape"
   ]
  },
  {
   "cell_type": "markdown",
   "metadata": {},
   "source": [
    "Количество столбцов в тесте и трейне отличается. Выясним какие признаки не попали в тест."
   ]
  },
  {
   "cell_type": "code",
   "execution_count": 8,
   "metadata": {
    "scrolled": true
   },
   "outputs": [
    {
     "name": "stdout",
     "output_type": "stream",
     "text": [
      "['final.output.concentrate_ag', 'final.output.concentrate_pb', 'final.output.concentrate_sol', 'final.output.concentrate_au', 'final.output.recovery', 'final.output.tail_ag', 'final.output.tail_pb', 'final.output.tail_sol', 'final.output.tail_au', 'primary_cleaner.output.concentrate_ag', 'primary_cleaner.output.concentrate_pb', 'primary_cleaner.output.concentrate_sol', 'primary_cleaner.output.concentrate_au', 'primary_cleaner.output.tail_ag', 'primary_cleaner.output.tail_pb', 'primary_cleaner.output.tail_sol', 'primary_cleaner.output.tail_au', 'rougher.calculation.sulfate_to_au_concentrate', 'rougher.calculation.floatbank10_sulfate_to_au_feed', 'rougher.calculation.floatbank11_sulfate_to_au_feed', 'rougher.calculation.au_pb_ratio', 'rougher.output.concentrate_ag', 'rougher.output.concentrate_pb', 'rougher.output.concentrate_sol', 'rougher.output.concentrate_au', 'rougher.output.recovery', 'rougher.output.tail_ag', 'rougher.output.tail_pb', 'rougher.output.tail_sol', 'rougher.output.tail_au', 'secondary_cleaner.output.tail_ag', 'secondary_cleaner.output.tail_pb', 'secondary_cleaner.output.tail_sol', 'secondary_cleaner.output.tail_au']\n"
     ]
    }
   ],
   "source": [
    "lst_3 = [] \n",
    "\n",
    "for i in train.columns:  \n",
    "    if i not in test.columns:  \n",
    "        lst_3.append(i) \n",
    "print(lst_3)"
   ]
  },
  {
   "cell_type": "markdown",
   "metadata": {},
   "source": [
    "Отсутствуют признаки из **output** - параметры продуктов, **calculation** - расчётные характеристики.  \n",
    "Отсутствуют целевые признаки"
   ]
  },
  {
   "cell_type": "markdown",
   "metadata": {},
   "source": [
    "**Дубликаты**"
   ]
  },
  {
   "cell_type": "code",
   "execution_count": 9,
   "metadata": {},
   "outputs": [
    {
     "name": "stdout",
     "output_type": "stream",
     "text": [
      "Количество полных дубликтов в датасете 0\n"
     ]
    }
   ],
   "source": [
    "mydups = df.duplicated().sum()\n",
    "print('Количество полных дубликтов в датасете', mydups)"
   ]
  },
  {
   "cell_type": "markdown",
   "metadata": {},
   "source": [
    "**Период времени**"
   ]
  },
  {
   "cell_type": "code",
   "execution_count": 12,
   "metadata": {},
   "outputs": [
    {
     "name": "stdout",
     "output_type": "stream",
     "text": [
      "Данные доступны за период от 2016-01-15 00:00:00 до 2018-08-18 10:59:59\n"
     ]
    }
   ],
   "source": [
    "print('Данные доступны за период от', pd.to_datetime(df['date'].min()), 'до', pd.to_datetime(df['date'].max()))"
   ]
  },
  {
   "cell_type": "markdown",
   "metadata": {},
   "source": [
    "**Проверка эффективности обогащения в обучающей выборке**"
   ]
  },
  {
   "cell_type": "code",
   "execution_count": 13,
   "metadata": {},
   "outputs": [],
   "source": [
    "def check(data):\n",
    "    C = data['rougher.output.concentrate_au']\n",
    "    F = data['rougher.input.feed_au']\n",
    "    T = data['rougher.output.tail_au']\n",
    "    \n",
    "    check = (((C * (F-T))) / (F * (C-T)))*100\n",
    "    return check"
   ]
  },
  {
   "cell_type": "code",
   "execution_count": 14,
   "metadata": {},
   "outputs": [
    {
     "data": {
      "text/html": [
       "<div>\n",
       "<style scoped>\n",
       "    .dataframe tbody tr th:only-of-type {\n",
       "        vertical-align: middle;\n",
       "    }\n",
       "\n",
       "    .dataframe tbody tr th {\n",
       "        vertical-align: top;\n",
       "    }\n",
       "\n",
       "    .dataframe thead th {\n",
       "        text-align: right;\n",
       "    }\n",
       "</style>\n",
       "<table border=\"1\" class=\"dataframe\">\n",
       "  <thead>\n",
       "    <tr style=\"text-align: right;\">\n",
       "      <th></th>\n",
       "      <th>rougher.output.concentrate_au</th>\n",
       "      <th>rougher.input.feed_au</th>\n",
       "      <th>rougher.output.tail_au</th>\n",
       "      <th>rougher.output.recovery</th>\n",
       "      <th>test_recovery</th>\n",
       "    </tr>\n",
       "  </thead>\n",
       "  <tbody>\n",
       "    <tr>\n",
       "      <th>0</th>\n",
       "      <td>19.793808</td>\n",
       "      <td>6.486150</td>\n",
       "      <td>1.170244</td>\n",
       "      <td>87.107763</td>\n",
       "      <td>87.107763</td>\n",
       "    </tr>\n",
       "    <tr>\n",
       "      <th>1</th>\n",
       "      <td>20.050975</td>\n",
       "      <td>6.478583</td>\n",
       "      <td>1.184827</td>\n",
       "      <td>86.843261</td>\n",
       "      <td>86.843261</td>\n",
       "    </tr>\n",
       "    <tr>\n",
       "      <th>2</th>\n",
       "      <td>19.737170</td>\n",
       "      <td>6.362222</td>\n",
       "      <td>1.162562</td>\n",
       "      <td>86.842308</td>\n",
       "      <td>86.842308</td>\n",
       "    </tr>\n",
       "    <tr>\n",
       "      <th>3</th>\n",
       "      <td>19.320810</td>\n",
       "      <td>6.118189</td>\n",
       "      <td>1.079755</td>\n",
       "      <td>87.226430</td>\n",
       "      <td>87.226430</td>\n",
       "    </tr>\n",
       "    <tr>\n",
       "      <th>4</th>\n",
       "      <td>19.216101</td>\n",
       "      <td>5.663707</td>\n",
       "      <td>1.012642</td>\n",
       "      <td>86.688794</td>\n",
       "      <td>86.688794</td>\n",
       "    </tr>\n",
       "    <tr>\n",
       "      <th>5</th>\n",
       "      <td>18.950385</td>\n",
       "      <td>5.687168</td>\n",
       "      <td>0.915835</td>\n",
       "      <td>88.156912</td>\n",
       "      <td>88.156912</td>\n",
       "    </tr>\n",
       "    <tr>\n",
       "      <th>6</th>\n",
       "      <td>19.319591</td>\n",
       "      <td>6.038436</td>\n",
       "      <td>0.986248</td>\n",
       "      <td>88.168065</td>\n",
       "      <td>88.168065</td>\n",
       "    </tr>\n",
       "  </tbody>\n",
       "</table>\n",
       "</div>"
      ],
      "text/plain": [
       "   rougher.output.concentrate_au  rougher.input.feed_au  \\\n",
       "0                      19.793808               6.486150   \n",
       "1                      20.050975               6.478583   \n",
       "2                      19.737170               6.362222   \n",
       "3                      19.320810               6.118189   \n",
       "4                      19.216101               5.663707   \n",
       "5                      18.950385               5.687168   \n",
       "6                      19.319591               6.038436   \n",
       "\n",
       "   rougher.output.tail_au  rougher.output.recovery  test_recovery  \n",
       "0                1.170244                87.107763      87.107763  \n",
       "1                1.184827                86.843261      86.843261  \n",
       "2                1.162562                86.842308      86.842308  \n",
       "3                1.079755                87.226430      87.226430  \n",
       "4                1.012642                86.688794      86.688794  \n",
       "5                0.915835                88.156912      88.156912  \n",
       "6                0.986248                88.168065      88.168065  "
      ]
     },
     "execution_count": 14,
     "metadata": {},
     "output_type": "execute_result"
    }
   ],
   "source": [
    "train_recovery = train [['rougher.output.concentrate_au', \n",
    "                    'rougher.input.feed_au', \n",
    "                    'rougher.output.tail_au',\n",
    "                    'rougher.output.recovery']].copy()\n",
    "train_recovery = train_recovery.dropna(axis=0)\n",
    "train_recovery['test_recovery'] = train_recovery.apply(check, axis=1)\n",
    "train_recovery.head(7)"
   ]
  },
  {
   "cell_type": "code",
   "execution_count": 15,
   "metadata": {
    "scrolled": true
   },
   "outputs": [
    {
     "name": "stdout",
     "output_type": "stream",
     "text": [
      "МАЕ: 0.00000000000000974\n"
     ]
    }
   ],
   "source": [
    "MAE = mean_absolute_error(train_recovery['rougher.output.recovery'], train_recovery['test_recovery'])\n",
    "print('МАЕ: {:.17f}'.format(MAE))"
   ]
  },
  {
   "cell_type": "markdown",
   "metadata": {},
   "source": [
    "Ошибка минимальна, значения рассчитаны корректно."
   ]
  },
  {
   "cell_type": "markdown",
   "metadata": {},
   "source": [
    "### Обучающая выборка"
   ]
  },
  {
   "cell_type": "code",
   "execution_count": 16,
   "metadata": {
    "scrolled": true
   },
   "outputs": [
    {
     "name": "stdout",
     "output_type": "stream",
     "text": [
      "<class 'pandas.core.frame.DataFrame'>\n",
      "RangeIndex: 14149 entries, 0 to 14148\n",
      "Data columns (total 87 columns):\n",
      " #   Column                                              Non-Null Count  Dtype  \n",
      "---  ------                                              --------------  -----  \n",
      " 0   date                                                14149 non-null  object \n",
      " 1   final.output.concentrate_ag                         14148 non-null  float64\n",
      " 2   final.output.concentrate_pb                         14148 non-null  float64\n",
      " 3   final.output.concentrate_sol                        13938 non-null  float64\n",
      " 4   final.output.concentrate_au                         14149 non-null  float64\n",
      " 5   final.output.recovery                               14149 non-null  float64\n",
      " 6   final.output.tail_ag                                14149 non-null  float64\n",
      " 7   final.output.tail_pb                                14049 non-null  float64\n",
      " 8   final.output.tail_sol                               14144 non-null  float64\n",
      " 9   final.output.tail_au                                14149 non-null  float64\n",
      " 10  primary_cleaner.input.sulfate                       14129 non-null  float64\n",
      " 11  primary_cleaner.input.depressant                    14117 non-null  float64\n",
      " 12  primary_cleaner.input.feed_size                     14149 non-null  float64\n",
      " 13  primary_cleaner.input.xanthate                      14049 non-null  float64\n",
      " 14  primary_cleaner.output.concentrate_ag               14149 non-null  float64\n",
      " 15  primary_cleaner.output.concentrate_pb               14063 non-null  float64\n",
      " 16  primary_cleaner.output.concentrate_sol              13863 non-null  float64\n",
      " 17  primary_cleaner.output.concentrate_au               14149 non-null  float64\n",
      " 18  primary_cleaner.output.tail_ag                      14148 non-null  float64\n",
      " 19  primary_cleaner.output.tail_pb                      14134 non-null  float64\n",
      " 20  primary_cleaner.output.tail_sol                     14103 non-null  float64\n",
      " 21  primary_cleaner.output.tail_au                      14149 non-null  float64\n",
      " 22  primary_cleaner.state.floatbank8_a_air              14145 non-null  float64\n",
      " 23  primary_cleaner.state.floatbank8_a_level            14148 non-null  float64\n",
      " 24  primary_cleaner.state.floatbank8_b_air              14145 non-null  float64\n",
      " 25  primary_cleaner.state.floatbank8_b_level            14148 non-null  float64\n",
      " 26  primary_cleaner.state.floatbank8_c_air              14147 non-null  float64\n",
      " 27  primary_cleaner.state.floatbank8_c_level            14148 non-null  float64\n",
      " 28  primary_cleaner.state.floatbank8_d_air              14146 non-null  float64\n",
      " 29  primary_cleaner.state.floatbank8_d_level            14148 non-null  float64\n",
      " 30  rougher.calculation.sulfate_to_au_concentrate       14148 non-null  float64\n",
      " 31  rougher.calculation.floatbank10_sulfate_to_au_feed  14148 non-null  float64\n",
      " 32  rougher.calculation.floatbank11_sulfate_to_au_feed  14148 non-null  float64\n",
      " 33  rougher.calculation.au_pb_ratio                     14149 non-null  float64\n",
      " 34  rougher.input.feed_ag                               14149 non-null  float64\n",
      " 35  rougher.input.feed_pb                               14049 non-null  float64\n",
      " 36  rougher.input.feed_rate                             14141 non-null  float64\n",
      " 37  rougher.input.feed_size                             14005 non-null  float64\n",
      " 38  rougher.input.feed_sol                              14071 non-null  float64\n",
      " 39  rougher.input.feed_au                               14149 non-null  float64\n",
      " 40  rougher.input.floatbank10_sulfate                   14120 non-null  float64\n",
      " 41  rougher.input.floatbank10_xanthate                  14141 non-null  float64\n",
      " 42  rougher.input.floatbank11_sulfate                   14113 non-null  float64\n",
      " 43  rougher.input.floatbank11_xanthate                  13721 non-null  float64\n",
      " 44  rougher.output.concentrate_ag                       14149 non-null  float64\n",
      " 45  rougher.output.concentrate_pb                       14149 non-null  float64\n",
      " 46  rougher.output.concentrate_sol                      14127 non-null  float64\n",
      " 47  rougher.output.concentrate_au                       14149 non-null  float64\n",
      " 48  rougher.output.recovery                             14149 non-null  float64\n",
      " 49  rougher.output.tail_ag                              14148 non-null  float64\n",
      " 50  rougher.output.tail_pb                              14149 non-null  float64\n",
      " 51  rougher.output.tail_sol                             14149 non-null  float64\n",
      " 52  rougher.output.tail_au                              14149 non-null  float64\n",
      " 53  rougher.state.floatbank10_a_air                     14148 non-null  float64\n",
      " 54  rougher.state.floatbank10_a_level                   14148 non-null  float64\n",
      " 55  rougher.state.floatbank10_b_air                     14148 non-null  float64\n",
      " 56  rougher.state.floatbank10_b_level                   14148 non-null  float64\n",
      " 57  rougher.state.floatbank10_c_air                     14148 non-null  float64\n",
      " 58  rougher.state.floatbank10_c_level                   14148 non-null  float64\n",
      " 59  rougher.state.floatbank10_d_air                     14149 non-null  float64\n",
      " 60  rougher.state.floatbank10_d_level                   14149 non-null  float64\n",
      " 61  rougher.state.floatbank10_e_air                     13713 non-null  float64\n",
      " 62  rougher.state.floatbank10_e_level                   14149 non-null  float64\n",
      " 63  rougher.state.floatbank10_f_air                     14149 non-null  float64\n",
      " 64  rougher.state.floatbank10_f_level                   14149 non-null  float64\n",
      " 65  secondary_cleaner.output.tail_ag                    14147 non-null  float64\n",
      " 66  secondary_cleaner.output.tail_pb                    14139 non-null  float64\n",
      " 67  secondary_cleaner.output.tail_sol                   12544 non-null  float64\n",
      " 68  secondary_cleaner.output.tail_au                    14149 non-null  float64\n",
      " 69  secondary_cleaner.state.floatbank2_a_air            13932 non-null  float64\n",
      " 70  secondary_cleaner.state.floatbank2_a_level          14148 non-null  float64\n",
      " 71  secondary_cleaner.state.floatbank2_b_air            14128 non-null  float64\n",
      " 72  secondary_cleaner.state.floatbank2_b_level          14148 non-null  float64\n",
      " 73  secondary_cleaner.state.floatbank3_a_air            14145 non-null  float64\n",
      " 74  secondary_cleaner.state.floatbank3_a_level          14148 non-null  float64\n",
      " 75  secondary_cleaner.state.floatbank3_b_air            14148 non-null  float64\n",
      " 76  secondary_cleaner.state.floatbank3_b_level          14148 non-null  float64\n",
      " 77  secondary_cleaner.state.floatbank4_a_air            14143 non-null  float64\n",
      " 78  secondary_cleaner.state.floatbank4_a_level          14148 non-null  float64\n",
      " 79  secondary_cleaner.state.floatbank4_b_air            14148 non-null  float64\n",
      " 80  secondary_cleaner.state.floatbank4_b_level          14148 non-null  float64\n",
      " 81  secondary_cleaner.state.floatbank5_a_air            14148 non-null  float64\n",
      " 82  secondary_cleaner.state.floatbank5_a_level          14148 non-null  float64\n",
      " 83  secondary_cleaner.state.floatbank5_b_air            14148 non-null  float64\n",
      " 84  secondary_cleaner.state.floatbank5_b_level          14148 non-null  float64\n",
      " 85  secondary_cleaner.state.floatbank6_a_air            14147 non-null  float64\n",
      " 86  secondary_cleaner.state.floatbank6_a_level          14148 non-null  float64\n",
      "dtypes: float64(86), object(1)\n",
      "memory usage: 9.4+ MB\n"
     ]
    }
   ],
   "source": [
    "train.info()"
   ]
  },
  {
   "cell_type": "code",
   "execution_count": 17,
   "metadata": {},
   "outputs": [
    {
     "data": {
      "text/html": [
       "<style  type=\"text/css\" >\n",
       "#T_6fc13_row0_col0,#T_6fc13_row1_col0,#T_6fc13_row2_col0,#T_6fc13_row4_col0,#T_6fc13_row5_col0,#T_6fc13_row6_col0,#T_6fc13_row8_col0,#T_6fc13_row9_col0,#T_6fc13_row12_col0,#T_6fc13_row14_col0,#T_6fc13_row17_col0,#T_6fc13_row18_col0,#T_6fc13_row21_col0,#T_6fc13_row22_col0,#T_6fc13_row23_col0,#T_6fc13_row24_col0,#T_6fc13_row25_col0,#T_6fc13_row26_col0,#T_6fc13_row27_col0,#T_6fc13_row28_col0,#T_6fc13_row29_col0,#T_6fc13_row30_col0,#T_6fc13_row31_col0,#T_6fc13_row32_col0,#T_6fc13_row33_col0,#T_6fc13_row34_col0,#T_6fc13_row39_col0,#T_6fc13_row44_col0,#T_6fc13_row45_col0,#T_6fc13_row47_col0,#T_6fc13_row48_col0,#T_6fc13_row49_col0,#T_6fc13_row50_col0,#T_6fc13_row51_col0,#T_6fc13_row52_col0,#T_6fc13_row53_col0,#T_6fc13_row54_col0,#T_6fc13_row55_col0,#T_6fc13_row56_col0,#T_6fc13_row57_col0,#T_6fc13_row58_col0,#T_6fc13_row59_col0,#T_6fc13_row60_col0,#T_6fc13_row62_col0,#T_6fc13_row63_col0,#T_6fc13_row64_col0,#T_6fc13_row65_col0,#T_6fc13_row68_col0,#T_6fc13_row70_col0,#T_6fc13_row72_col0,#T_6fc13_row73_col0,#T_6fc13_row74_col0,#T_6fc13_row75_col0,#T_6fc13_row76_col0,#T_6fc13_row77_col0,#T_6fc13_row78_col0,#T_6fc13_row79_col0,#T_6fc13_row80_col0,#T_6fc13_row81_col0,#T_6fc13_row82_col0,#T_6fc13_row83_col0,#T_6fc13_row84_col0,#T_6fc13_row85_col0,#T_6fc13_row86_col0{\n",
       "            background-color:  #ff0000;\n",
       "            color:  #f1f1f1;\n",
       "        }#T_6fc13_row3_col0,#T_6fc13_row69_col0{\n",
       "            background-color:  #c6ff00;\n",
       "            color:  #000000;\n",
       "        }#T_6fc13_row7_col0,#T_6fc13_row13_col0,#T_6fc13_row35_col0{\n",
       "            background-color:  #0061b9;\n",
       "            color:  #f1f1f1;\n",
       "        }#T_6fc13_row10_col0,#T_6fc13_row19_col0,#T_6fc13_row36_col0,#T_6fc13_row41_col0,#T_6fc13_row66_col0,#T_6fc13_row71_col0{\n",
       "            background-color:  #ff2100;\n",
       "            color:  #f1f1f1;\n",
       "        }#T_6fc13_row11_col0,#T_6fc13_row40_col0,#T_6fc13_row46_col0{\n",
       "            background-color:  #ff8200;\n",
       "            color:  #000000;\n",
       "        }#T_6fc13_row15_col0,#T_6fc13_row38_col0{\n",
       "            background-color:  #0bbd39;\n",
       "            color:  #000000;\n",
       "        }#T_6fc13_row16_col0{\n",
       "            background-color:  #8600e9;\n",
       "            color:  #f1f1f1;\n",
       "        }#T_6fc13_row20_col0,#T_6fc13_row42_col0{\n",
       "            background-color:  #ffd800;\n",
       "            color:  #000000;\n",
       "        }#T_6fc13_row37_col0{\n",
       "            background-color:  #cb00a3;\n",
       "            color:  #f1f1f1;\n",
       "        }#T_6fc13_row43_col0{\n",
       "            background-color:  #2000ff;\n",
       "            color:  #f1f1f1;\n",
       "        }#T_6fc13_row61_col0{\n",
       "            background-color:  #a300ce;\n",
       "            color:  #f1f1f1;\n",
       "        }#T_6fc13_row67_col0{\n",
       "            background-color:  #54ff00;\n",
       "            color:  #000000;\n",
       "        }</style><table id=\"T_6fc13_\" ><thead>    <tr>        <th class=\"blank level0\" ></th>        <th class=\"col_heading level0 col0\" >0</th>    </tr></thead><tbody>\n",
       "                <tr>\n",
       "                        <th id=\"T_6fc13_level0_row0\" class=\"row_heading level0 row0\" >date</th>\n",
       "                        <td id=\"T_6fc13_row0_col0\" class=\"data row0 col0\" >0.000000</td>\n",
       "            </tr>\n",
       "            <tr>\n",
       "                        <th id=\"T_6fc13_level0_row1\" class=\"row_heading level0 row1\" >final.output.concentrate_ag</th>\n",
       "                        <td id=\"T_6fc13_row1_col0\" class=\"data row1 col0\" >0.000000</td>\n",
       "            </tr>\n",
       "            <tr>\n",
       "                        <th id=\"T_6fc13_level0_row2\" class=\"row_heading level0 row2\" >final.output.concentrate_pb</th>\n",
       "                        <td id=\"T_6fc13_row2_col0\" class=\"data row2 col0\" >0.000000</td>\n",
       "            </tr>\n",
       "            <tr>\n",
       "                        <th id=\"T_6fc13_level0_row3\" class=\"row_heading level0 row3\" >final.output.concentrate_sol</th>\n",
       "                        <td id=\"T_6fc13_row3_col0\" class=\"data row3 col0\" >1.500000</td>\n",
       "            </tr>\n",
       "            <tr>\n",
       "                        <th id=\"T_6fc13_level0_row4\" class=\"row_heading level0 row4\" >final.output.concentrate_au</th>\n",
       "                        <td id=\"T_6fc13_row4_col0\" class=\"data row4 col0\" >0.000000</td>\n",
       "            </tr>\n",
       "            <tr>\n",
       "                        <th id=\"T_6fc13_level0_row5\" class=\"row_heading level0 row5\" >final.output.recovery</th>\n",
       "                        <td id=\"T_6fc13_row5_col0\" class=\"data row5 col0\" >0.000000</td>\n",
       "            </tr>\n",
       "            <tr>\n",
       "                        <th id=\"T_6fc13_level0_row6\" class=\"row_heading level0 row6\" >final.output.tail_ag</th>\n",
       "                        <td id=\"T_6fc13_row6_col0\" class=\"data row6 col0\" >0.000000</td>\n",
       "            </tr>\n",
       "            <tr>\n",
       "                        <th id=\"T_6fc13_level0_row7\" class=\"row_heading level0 row7\" >final.output.tail_pb</th>\n",
       "                        <td id=\"T_6fc13_row7_col0\" class=\"data row7 col0\" >0.700000</td>\n",
       "            </tr>\n",
       "            <tr>\n",
       "                        <th id=\"T_6fc13_level0_row8\" class=\"row_heading level0 row8\" >final.output.tail_sol</th>\n",
       "                        <td id=\"T_6fc13_row8_col0\" class=\"data row8 col0\" >0.000000</td>\n",
       "            </tr>\n",
       "            <tr>\n",
       "                        <th id=\"T_6fc13_level0_row9\" class=\"row_heading level0 row9\" >final.output.tail_au</th>\n",
       "                        <td id=\"T_6fc13_row9_col0\" class=\"data row9 col0\" >0.000000</td>\n",
       "            </tr>\n",
       "            <tr>\n",
       "                        <th id=\"T_6fc13_level0_row10\" class=\"row_heading level0 row10\" >primary_cleaner.input.sulfate</th>\n",
       "                        <td id=\"T_6fc13_row10_col0\" class=\"data row10 col0\" >0.100000</td>\n",
       "            </tr>\n",
       "            <tr>\n",
       "                        <th id=\"T_6fc13_level0_row11\" class=\"row_heading level0 row11\" >primary_cleaner.input.depressant</th>\n",
       "                        <td id=\"T_6fc13_row11_col0\" class=\"data row11 col0\" >0.200000</td>\n",
       "            </tr>\n",
       "            <tr>\n",
       "                        <th id=\"T_6fc13_level0_row12\" class=\"row_heading level0 row12\" >primary_cleaner.input.feed_size</th>\n",
       "                        <td id=\"T_6fc13_row12_col0\" class=\"data row12 col0\" >0.000000</td>\n",
       "            </tr>\n",
       "            <tr>\n",
       "                        <th id=\"T_6fc13_level0_row13\" class=\"row_heading level0 row13\" >primary_cleaner.input.xanthate</th>\n",
       "                        <td id=\"T_6fc13_row13_col0\" class=\"data row13 col0\" >0.700000</td>\n",
       "            </tr>\n",
       "            <tr>\n",
       "                        <th id=\"T_6fc13_level0_row14\" class=\"row_heading level0 row14\" >primary_cleaner.output.concentrate_ag</th>\n",
       "                        <td id=\"T_6fc13_row14_col0\" class=\"data row14 col0\" >0.000000</td>\n",
       "            </tr>\n",
       "            <tr>\n",
       "                        <th id=\"T_6fc13_level0_row15\" class=\"row_heading level0 row15\" >primary_cleaner.output.concentrate_pb</th>\n",
       "                        <td id=\"T_6fc13_row15_col0\" class=\"data row15 col0\" >0.600000</td>\n",
       "            </tr>\n",
       "            <tr>\n",
       "                        <th id=\"T_6fc13_level0_row16\" class=\"row_heading level0 row16\" >primary_cleaner.output.concentrate_sol</th>\n",
       "                        <td id=\"T_6fc13_row16_col0\" class=\"data row16 col0\" >2.000000</td>\n",
       "            </tr>\n",
       "            <tr>\n",
       "                        <th id=\"T_6fc13_level0_row17\" class=\"row_heading level0 row17\" >primary_cleaner.output.concentrate_au</th>\n",
       "                        <td id=\"T_6fc13_row17_col0\" class=\"data row17 col0\" >0.000000</td>\n",
       "            </tr>\n",
       "            <tr>\n",
       "                        <th id=\"T_6fc13_level0_row18\" class=\"row_heading level0 row18\" >primary_cleaner.output.tail_ag</th>\n",
       "                        <td id=\"T_6fc13_row18_col0\" class=\"data row18 col0\" >0.000000</td>\n",
       "            </tr>\n",
       "            <tr>\n",
       "                        <th id=\"T_6fc13_level0_row19\" class=\"row_heading level0 row19\" >primary_cleaner.output.tail_pb</th>\n",
       "                        <td id=\"T_6fc13_row19_col0\" class=\"data row19 col0\" >0.100000</td>\n",
       "            </tr>\n",
       "            <tr>\n",
       "                        <th id=\"T_6fc13_level0_row20\" class=\"row_heading level0 row20\" >primary_cleaner.output.tail_sol</th>\n",
       "                        <td id=\"T_6fc13_row20_col0\" class=\"data row20 col0\" >0.300000</td>\n",
       "            </tr>\n",
       "            <tr>\n",
       "                        <th id=\"T_6fc13_level0_row21\" class=\"row_heading level0 row21\" >primary_cleaner.output.tail_au</th>\n",
       "                        <td id=\"T_6fc13_row21_col0\" class=\"data row21 col0\" >0.000000</td>\n",
       "            </tr>\n",
       "            <tr>\n",
       "                        <th id=\"T_6fc13_level0_row22\" class=\"row_heading level0 row22\" >primary_cleaner.state.floatbank8_a_air</th>\n",
       "                        <td id=\"T_6fc13_row22_col0\" class=\"data row22 col0\" >0.000000</td>\n",
       "            </tr>\n",
       "            <tr>\n",
       "                        <th id=\"T_6fc13_level0_row23\" class=\"row_heading level0 row23\" >primary_cleaner.state.floatbank8_a_level</th>\n",
       "                        <td id=\"T_6fc13_row23_col0\" class=\"data row23 col0\" >0.000000</td>\n",
       "            </tr>\n",
       "            <tr>\n",
       "                        <th id=\"T_6fc13_level0_row24\" class=\"row_heading level0 row24\" >primary_cleaner.state.floatbank8_b_air</th>\n",
       "                        <td id=\"T_6fc13_row24_col0\" class=\"data row24 col0\" >0.000000</td>\n",
       "            </tr>\n",
       "            <tr>\n",
       "                        <th id=\"T_6fc13_level0_row25\" class=\"row_heading level0 row25\" >primary_cleaner.state.floatbank8_b_level</th>\n",
       "                        <td id=\"T_6fc13_row25_col0\" class=\"data row25 col0\" >0.000000</td>\n",
       "            </tr>\n",
       "            <tr>\n",
       "                        <th id=\"T_6fc13_level0_row26\" class=\"row_heading level0 row26\" >primary_cleaner.state.floatbank8_c_air</th>\n",
       "                        <td id=\"T_6fc13_row26_col0\" class=\"data row26 col0\" >0.000000</td>\n",
       "            </tr>\n",
       "            <tr>\n",
       "                        <th id=\"T_6fc13_level0_row27\" class=\"row_heading level0 row27\" >primary_cleaner.state.floatbank8_c_level</th>\n",
       "                        <td id=\"T_6fc13_row27_col0\" class=\"data row27 col0\" >0.000000</td>\n",
       "            </tr>\n",
       "            <tr>\n",
       "                        <th id=\"T_6fc13_level0_row28\" class=\"row_heading level0 row28\" >primary_cleaner.state.floatbank8_d_air</th>\n",
       "                        <td id=\"T_6fc13_row28_col0\" class=\"data row28 col0\" >0.000000</td>\n",
       "            </tr>\n",
       "            <tr>\n",
       "                        <th id=\"T_6fc13_level0_row29\" class=\"row_heading level0 row29\" >primary_cleaner.state.floatbank8_d_level</th>\n",
       "                        <td id=\"T_6fc13_row29_col0\" class=\"data row29 col0\" >0.000000</td>\n",
       "            </tr>\n",
       "            <tr>\n",
       "                        <th id=\"T_6fc13_level0_row30\" class=\"row_heading level0 row30\" >rougher.calculation.sulfate_to_au_concentrate</th>\n",
       "                        <td id=\"T_6fc13_row30_col0\" class=\"data row30 col0\" >0.000000</td>\n",
       "            </tr>\n",
       "            <tr>\n",
       "                        <th id=\"T_6fc13_level0_row31\" class=\"row_heading level0 row31\" >rougher.calculation.floatbank10_sulfate_to_au_feed</th>\n",
       "                        <td id=\"T_6fc13_row31_col0\" class=\"data row31 col0\" >0.000000</td>\n",
       "            </tr>\n",
       "            <tr>\n",
       "                        <th id=\"T_6fc13_level0_row32\" class=\"row_heading level0 row32\" >rougher.calculation.floatbank11_sulfate_to_au_feed</th>\n",
       "                        <td id=\"T_6fc13_row32_col0\" class=\"data row32 col0\" >0.000000</td>\n",
       "            </tr>\n",
       "            <tr>\n",
       "                        <th id=\"T_6fc13_level0_row33\" class=\"row_heading level0 row33\" >rougher.calculation.au_pb_ratio</th>\n",
       "                        <td id=\"T_6fc13_row33_col0\" class=\"data row33 col0\" >0.000000</td>\n",
       "            </tr>\n",
       "            <tr>\n",
       "                        <th id=\"T_6fc13_level0_row34\" class=\"row_heading level0 row34\" >rougher.input.feed_ag</th>\n",
       "                        <td id=\"T_6fc13_row34_col0\" class=\"data row34 col0\" >0.000000</td>\n",
       "            </tr>\n",
       "            <tr>\n",
       "                        <th id=\"T_6fc13_level0_row35\" class=\"row_heading level0 row35\" >rougher.input.feed_pb</th>\n",
       "                        <td id=\"T_6fc13_row35_col0\" class=\"data row35 col0\" >0.700000</td>\n",
       "            </tr>\n",
       "            <tr>\n",
       "                        <th id=\"T_6fc13_level0_row36\" class=\"row_heading level0 row36\" >rougher.input.feed_rate</th>\n",
       "                        <td id=\"T_6fc13_row36_col0\" class=\"data row36 col0\" >0.100000</td>\n",
       "            </tr>\n",
       "            <tr>\n",
       "                        <th id=\"T_6fc13_level0_row37\" class=\"row_heading level0 row37\" >rougher.input.feed_size</th>\n",
       "                        <td id=\"T_6fc13_row37_col0\" class=\"data row37 col0\" >1.000000</td>\n",
       "            </tr>\n",
       "            <tr>\n",
       "                        <th id=\"T_6fc13_level0_row38\" class=\"row_heading level0 row38\" >rougher.input.feed_sol</th>\n",
       "                        <td id=\"T_6fc13_row38_col0\" class=\"data row38 col0\" >0.600000</td>\n",
       "            </tr>\n",
       "            <tr>\n",
       "                        <th id=\"T_6fc13_level0_row39\" class=\"row_heading level0 row39\" >rougher.input.feed_au</th>\n",
       "                        <td id=\"T_6fc13_row39_col0\" class=\"data row39 col0\" >0.000000</td>\n",
       "            </tr>\n",
       "            <tr>\n",
       "                        <th id=\"T_6fc13_level0_row40\" class=\"row_heading level0 row40\" >rougher.input.floatbank10_sulfate</th>\n",
       "                        <td id=\"T_6fc13_row40_col0\" class=\"data row40 col0\" >0.200000</td>\n",
       "            </tr>\n",
       "            <tr>\n",
       "                        <th id=\"T_6fc13_level0_row41\" class=\"row_heading level0 row41\" >rougher.input.floatbank10_xanthate</th>\n",
       "                        <td id=\"T_6fc13_row41_col0\" class=\"data row41 col0\" >0.100000</td>\n",
       "            </tr>\n",
       "            <tr>\n",
       "                        <th id=\"T_6fc13_level0_row42\" class=\"row_heading level0 row42\" >rougher.input.floatbank11_sulfate</th>\n",
       "                        <td id=\"T_6fc13_row42_col0\" class=\"data row42 col0\" >0.300000</td>\n",
       "            </tr>\n",
       "            <tr>\n",
       "                        <th id=\"T_6fc13_level0_row43\" class=\"row_heading level0 row43\" >rougher.input.floatbank11_xanthate</th>\n",
       "                        <td id=\"T_6fc13_row43_col0\" class=\"data row43 col0\" >3.000000</td>\n",
       "            </tr>\n",
       "            <tr>\n",
       "                        <th id=\"T_6fc13_level0_row44\" class=\"row_heading level0 row44\" >rougher.output.concentrate_ag</th>\n",
       "                        <td id=\"T_6fc13_row44_col0\" class=\"data row44 col0\" >0.000000</td>\n",
       "            </tr>\n",
       "            <tr>\n",
       "                        <th id=\"T_6fc13_level0_row45\" class=\"row_heading level0 row45\" >rougher.output.concentrate_pb</th>\n",
       "                        <td id=\"T_6fc13_row45_col0\" class=\"data row45 col0\" >0.000000</td>\n",
       "            </tr>\n",
       "            <tr>\n",
       "                        <th id=\"T_6fc13_level0_row46\" class=\"row_heading level0 row46\" >rougher.output.concentrate_sol</th>\n",
       "                        <td id=\"T_6fc13_row46_col0\" class=\"data row46 col0\" >0.200000</td>\n",
       "            </tr>\n",
       "            <tr>\n",
       "                        <th id=\"T_6fc13_level0_row47\" class=\"row_heading level0 row47\" >rougher.output.concentrate_au</th>\n",
       "                        <td id=\"T_6fc13_row47_col0\" class=\"data row47 col0\" >0.000000</td>\n",
       "            </tr>\n",
       "            <tr>\n",
       "                        <th id=\"T_6fc13_level0_row48\" class=\"row_heading level0 row48\" >rougher.output.recovery</th>\n",
       "                        <td id=\"T_6fc13_row48_col0\" class=\"data row48 col0\" >0.000000</td>\n",
       "            </tr>\n",
       "            <tr>\n",
       "                        <th id=\"T_6fc13_level0_row49\" class=\"row_heading level0 row49\" >rougher.output.tail_ag</th>\n",
       "                        <td id=\"T_6fc13_row49_col0\" class=\"data row49 col0\" >0.000000</td>\n",
       "            </tr>\n",
       "            <tr>\n",
       "                        <th id=\"T_6fc13_level0_row50\" class=\"row_heading level0 row50\" >rougher.output.tail_pb</th>\n",
       "                        <td id=\"T_6fc13_row50_col0\" class=\"data row50 col0\" >0.000000</td>\n",
       "            </tr>\n",
       "            <tr>\n",
       "                        <th id=\"T_6fc13_level0_row51\" class=\"row_heading level0 row51\" >rougher.output.tail_sol</th>\n",
       "                        <td id=\"T_6fc13_row51_col0\" class=\"data row51 col0\" >0.000000</td>\n",
       "            </tr>\n",
       "            <tr>\n",
       "                        <th id=\"T_6fc13_level0_row52\" class=\"row_heading level0 row52\" >rougher.output.tail_au</th>\n",
       "                        <td id=\"T_6fc13_row52_col0\" class=\"data row52 col0\" >0.000000</td>\n",
       "            </tr>\n",
       "            <tr>\n",
       "                        <th id=\"T_6fc13_level0_row53\" class=\"row_heading level0 row53\" >rougher.state.floatbank10_a_air</th>\n",
       "                        <td id=\"T_6fc13_row53_col0\" class=\"data row53 col0\" >0.000000</td>\n",
       "            </tr>\n",
       "            <tr>\n",
       "                        <th id=\"T_6fc13_level0_row54\" class=\"row_heading level0 row54\" >rougher.state.floatbank10_a_level</th>\n",
       "                        <td id=\"T_6fc13_row54_col0\" class=\"data row54 col0\" >0.000000</td>\n",
       "            </tr>\n",
       "            <tr>\n",
       "                        <th id=\"T_6fc13_level0_row55\" class=\"row_heading level0 row55\" >rougher.state.floatbank10_b_air</th>\n",
       "                        <td id=\"T_6fc13_row55_col0\" class=\"data row55 col0\" >0.000000</td>\n",
       "            </tr>\n",
       "            <tr>\n",
       "                        <th id=\"T_6fc13_level0_row56\" class=\"row_heading level0 row56\" >rougher.state.floatbank10_b_level</th>\n",
       "                        <td id=\"T_6fc13_row56_col0\" class=\"data row56 col0\" >0.000000</td>\n",
       "            </tr>\n",
       "            <tr>\n",
       "                        <th id=\"T_6fc13_level0_row57\" class=\"row_heading level0 row57\" >rougher.state.floatbank10_c_air</th>\n",
       "                        <td id=\"T_6fc13_row57_col0\" class=\"data row57 col0\" >0.000000</td>\n",
       "            </tr>\n",
       "            <tr>\n",
       "                        <th id=\"T_6fc13_level0_row58\" class=\"row_heading level0 row58\" >rougher.state.floatbank10_c_level</th>\n",
       "                        <td id=\"T_6fc13_row58_col0\" class=\"data row58 col0\" >0.000000</td>\n",
       "            </tr>\n",
       "            <tr>\n",
       "                        <th id=\"T_6fc13_level0_row59\" class=\"row_heading level0 row59\" >rougher.state.floatbank10_d_air</th>\n",
       "                        <td id=\"T_6fc13_row59_col0\" class=\"data row59 col0\" >0.000000</td>\n",
       "            </tr>\n",
       "            <tr>\n",
       "                        <th id=\"T_6fc13_level0_row60\" class=\"row_heading level0 row60\" >rougher.state.floatbank10_d_level</th>\n",
       "                        <td id=\"T_6fc13_row60_col0\" class=\"data row60 col0\" >0.000000</td>\n",
       "            </tr>\n",
       "            <tr>\n",
       "                        <th id=\"T_6fc13_level0_row61\" class=\"row_heading level0 row61\" >rougher.state.floatbank10_e_air</th>\n",
       "                        <td id=\"T_6fc13_row61_col0\" class=\"data row61 col0\" >3.100000</td>\n",
       "            </tr>\n",
       "            <tr>\n",
       "                        <th id=\"T_6fc13_level0_row62\" class=\"row_heading level0 row62\" >rougher.state.floatbank10_e_level</th>\n",
       "                        <td id=\"T_6fc13_row62_col0\" class=\"data row62 col0\" >0.000000</td>\n",
       "            </tr>\n",
       "            <tr>\n",
       "                        <th id=\"T_6fc13_level0_row63\" class=\"row_heading level0 row63\" >rougher.state.floatbank10_f_air</th>\n",
       "                        <td id=\"T_6fc13_row63_col0\" class=\"data row63 col0\" >0.000000</td>\n",
       "            </tr>\n",
       "            <tr>\n",
       "                        <th id=\"T_6fc13_level0_row64\" class=\"row_heading level0 row64\" >rougher.state.floatbank10_f_level</th>\n",
       "                        <td id=\"T_6fc13_row64_col0\" class=\"data row64 col0\" >0.000000</td>\n",
       "            </tr>\n",
       "            <tr>\n",
       "                        <th id=\"T_6fc13_level0_row65\" class=\"row_heading level0 row65\" >secondary_cleaner.output.tail_ag</th>\n",
       "                        <td id=\"T_6fc13_row65_col0\" class=\"data row65 col0\" >0.000000</td>\n",
       "            </tr>\n",
       "            <tr>\n",
       "                        <th id=\"T_6fc13_level0_row66\" class=\"row_heading level0 row66\" >secondary_cleaner.output.tail_pb</th>\n",
       "                        <td id=\"T_6fc13_row66_col0\" class=\"data row66 col0\" >0.100000</td>\n",
       "            </tr>\n",
       "            <tr>\n",
       "                        <th id=\"T_6fc13_level0_row67\" class=\"row_heading level0 row67\" >secondary_cleaner.output.tail_sol</th>\n",
       "                        <td id=\"T_6fc13_row67_col0\" class=\"data row67 col0\" >11.300000</td>\n",
       "            </tr>\n",
       "            <tr>\n",
       "                        <th id=\"T_6fc13_level0_row68\" class=\"row_heading level0 row68\" >secondary_cleaner.output.tail_au</th>\n",
       "                        <td id=\"T_6fc13_row68_col0\" class=\"data row68 col0\" >0.000000</td>\n",
       "            </tr>\n",
       "            <tr>\n",
       "                        <th id=\"T_6fc13_level0_row69\" class=\"row_heading level0 row69\" >secondary_cleaner.state.floatbank2_a_air</th>\n",
       "                        <td id=\"T_6fc13_row69_col0\" class=\"data row69 col0\" >1.500000</td>\n",
       "            </tr>\n",
       "            <tr>\n",
       "                        <th id=\"T_6fc13_level0_row70\" class=\"row_heading level0 row70\" >secondary_cleaner.state.floatbank2_a_level</th>\n",
       "                        <td id=\"T_6fc13_row70_col0\" class=\"data row70 col0\" >0.000000</td>\n",
       "            </tr>\n",
       "            <tr>\n",
       "                        <th id=\"T_6fc13_level0_row71\" class=\"row_heading level0 row71\" >secondary_cleaner.state.floatbank2_b_air</th>\n",
       "                        <td id=\"T_6fc13_row71_col0\" class=\"data row71 col0\" >0.100000</td>\n",
       "            </tr>\n",
       "            <tr>\n",
       "                        <th id=\"T_6fc13_level0_row72\" class=\"row_heading level0 row72\" >secondary_cleaner.state.floatbank2_b_level</th>\n",
       "                        <td id=\"T_6fc13_row72_col0\" class=\"data row72 col0\" >0.000000</td>\n",
       "            </tr>\n",
       "            <tr>\n",
       "                        <th id=\"T_6fc13_level0_row73\" class=\"row_heading level0 row73\" >secondary_cleaner.state.floatbank3_a_air</th>\n",
       "                        <td id=\"T_6fc13_row73_col0\" class=\"data row73 col0\" >0.000000</td>\n",
       "            </tr>\n",
       "            <tr>\n",
       "                        <th id=\"T_6fc13_level0_row74\" class=\"row_heading level0 row74\" >secondary_cleaner.state.floatbank3_a_level</th>\n",
       "                        <td id=\"T_6fc13_row74_col0\" class=\"data row74 col0\" >0.000000</td>\n",
       "            </tr>\n",
       "            <tr>\n",
       "                        <th id=\"T_6fc13_level0_row75\" class=\"row_heading level0 row75\" >secondary_cleaner.state.floatbank3_b_air</th>\n",
       "                        <td id=\"T_6fc13_row75_col0\" class=\"data row75 col0\" >0.000000</td>\n",
       "            </tr>\n",
       "            <tr>\n",
       "                        <th id=\"T_6fc13_level0_row76\" class=\"row_heading level0 row76\" >secondary_cleaner.state.floatbank3_b_level</th>\n",
       "                        <td id=\"T_6fc13_row76_col0\" class=\"data row76 col0\" >0.000000</td>\n",
       "            </tr>\n",
       "            <tr>\n",
       "                        <th id=\"T_6fc13_level0_row77\" class=\"row_heading level0 row77\" >secondary_cleaner.state.floatbank4_a_air</th>\n",
       "                        <td id=\"T_6fc13_row77_col0\" class=\"data row77 col0\" >0.000000</td>\n",
       "            </tr>\n",
       "            <tr>\n",
       "                        <th id=\"T_6fc13_level0_row78\" class=\"row_heading level0 row78\" >secondary_cleaner.state.floatbank4_a_level</th>\n",
       "                        <td id=\"T_6fc13_row78_col0\" class=\"data row78 col0\" >0.000000</td>\n",
       "            </tr>\n",
       "            <tr>\n",
       "                        <th id=\"T_6fc13_level0_row79\" class=\"row_heading level0 row79\" >secondary_cleaner.state.floatbank4_b_air</th>\n",
       "                        <td id=\"T_6fc13_row79_col0\" class=\"data row79 col0\" >0.000000</td>\n",
       "            </tr>\n",
       "            <tr>\n",
       "                        <th id=\"T_6fc13_level0_row80\" class=\"row_heading level0 row80\" >secondary_cleaner.state.floatbank4_b_level</th>\n",
       "                        <td id=\"T_6fc13_row80_col0\" class=\"data row80 col0\" >0.000000</td>\n",
       "            </tr>\n",
       "            <tr>\n",
       "                        <th id=\"T_6fc13_level0_row81\" class=\"row_heading level0 row81\" >secondary_cleaner.state.floatbank5_a_air</th>\n",
       "                        <td id=\"T_6fc13_row81_col0\" class=\"data row81 col0\" >0.000000</td>\n",
       "            </tr>\n",
       "            <tr>\n",
       "                        <th id=\"T_6fc13_level0_row82\" class=\"row_heading level0 row82\" >secondary_cleaner.state.floatbank5_a_level</th>\n",
       "                        <td id=\"T_6fc13_row82_col0\" class=\"data row82 col0\" >0.000000</td>\n",
       "            </tr>\n",
       "            <tr>\n",
       "                        <th id=\"T_6fc13_level0_row83\" class=\"row_heading level0 row83\" >secondary_cleaner.state.floatbank5_b_air</th>\n",
       "                        <td id=\"T_6fc13_row83_col0\" class=\"data row83 col0\" >0.000000</td>\n",
       "            </tr>\n",
       "            <tr>\n",
       "                        <th id=\"T_6fc13_level0_row84\" class=\"row_heading level0 row84\" >secondary_cleaner.state.floatbank5_b_level</th>\n",
       "                        <td id=\"T_6fc13_row84_col0\" class=\"data row84 col0\" >0.000000</td>\n",
       "            </tr>\n",
       "            <tr>\n",
       "                        <th id=\"T_6fc13_level0_row85\" class=\"row_heading level0 row85\" >secondary_cleaner.state.floatbank6_a_air</th>\n",
       "                        <td id=\"T_6fc13_row85_col0\" class=\"data row85 col0\" >0.000000</td>\n",
       "            </tr>\n",
       "            <tr>\n",
       "                        <th id=\"T_6fc13_level0_row86\" class=\"row_heading level0 row86\" >secondary_cleaner.state.floatbank6_a_level</th>\n",
       "                        <td id=\"T_6fc13_row86_col0\" class=\"data row86 col0\" >0.000000</td>\n",
       "            </tr>\n",
       "    </tbody></table>"
      ],
      "text/plain": [
       "<pandas.io.formats.style.Styler at 0x7f33f1e881c0>"
      ]
     },
     "execution_count": 17,
     "metadata": {},
     "output_type": "execute_result"
    }
   ],
   "source": [
    "pd.DataFrame(round(train.isna().mean()*100,1)).style.background_gradient('prism')"
   ]
  },
  {
   "cell_type": "markdown",
   "metadata": {},
   "source": [
    "### Тестовая выборка"
   ]
  },
  {
   "cell_type": "code",
   "execution_count": 18,
   "metadata": {
    "scrolled": true
   },
   "outputs": [
    {
     "name": "stdout",
     "output_type": "stream",
     "text": [
      "<class 'pandas.core.frame.DataFrame'>\n",
      "RangeIndex: 5290 entries, 0 to 5289\n",
      "Data columns (total 53 columns):\n",
      " #   Column                                      Non-Null Count  Dtype  \n",
      "---  ------                                      --------------  -----  \n",
      " 0   date                                        5290 non-null   object \n",
      " 1   primary_cleaner.input.sulfate               5286 non-null   float64\n",
      " 2   primary_cleaner.input.depressant            5285 non-null   float64\n",
      " 3   primary_cleaner.input.feed_size             5290 non-null   float64\n",
      " 4   primary_cleaner.input.xanthate              5286 non-null   float64\n",
      " 5   primary_cleaner.state.floatbank8_a_air      5290 non-null   float64\n",
      " 6   primary_cleaner.state.floatbank8_a_level    5290 non-null   float64\n",
      " 7   primary_cleaner.state.floatbank8_b_air      5290 non-null   float64\n",
      " 8   primary_cleaner.state.floatbank8_b_level    5290 non-null   float64\n",
      " 9   primary_cleaner.state.floatbank8_c_air      5290 non-null   float64\n",
      " 10  primary_cleaner.state.floatbank8_c_level    5290 non-null   float64\n",
      " 11  primary_cleaner.state.floatbank8_d_air      5290 non-null   float64\n",
      " 12  primary_cleaner.state.floatbank8_d_level    5290 non-null   float64\n",
      " 13  rougher.input.feed_ag                       5290 non-null   float64\n",
      " 14  rougher.input.feed_pb                       5290 non-null   float64\n",
      " 15  rougher.input.feed_rate                     5287 non-null   float64\n",
      " 16  rougher.input.feed_size                     5289 non-null   float64\n",
      " 17  rougher.input.feed_sol                      5269 non-null   float64\n",
      " 18  rougher.input.feed_au                       5290 non-null   float64\n",
      " 19  rougher.input.floatbank10_sulfate           5285 non-null   float64\n",
      " 20  rougher.input.floatbank10_xanthate          5290 non-null   float64\n",
      " 21  rougher.input.floatbank11_sulfate           5282 non-null   float64\n",
      " 22  rougher.input.floatbank11_xanthate          5265 non-null   float64\n",
      " 23  rougher.state.floatbank10_a_air             5290 non-null   float64\n",
      " 24  rougher.state.floatbank10_a_level           5290 non-null   float64\n",
      " 25  rougher.state.floatbank10_b_air             5290 non-null   float64\n",
      " 26  rougher.state.floatbank10_b_level           5290 non-null   float64\n",
      " 27  rougher.state.floatbank10_c_air             5290 non-null   float64\n",
      " 28  rougher.state.floatbank10_c_level           5290 non-null   float64\n",
      " 29  rougher.state.floatbank10_d_air             5290 non-null   float64\n",
      " 30  rougher.state.floatbank10_d_level           5290 non-null   float64\n",
      " 31  rougher.state.floatbank10_e_air             5290 non-null   float64\n",
      " 32  rougher.state.floatbank10_e_level           5290 non-null   float64\n",
      " 33  rougher.state.floatbank10_f_air             5290 non-null   float64\n",
      " 34  rougher.state.floatbank10_f_level           5290 non-null   float64\n",
      " 35  secondary_cleaner.state.floatbank2_a_air    5287 non-null   float64\n",
      " 36  secondary_cleaner.state.floatbank2_a_level  5290 non-null   float64\n",
      " 37  secondary_cleaner.state.floatbank2_b_air    5288 non-null   float64\n",
      " 38  secondary_cleaner.state.floatbank2_b_level  5290 non-null   float64\n",
      " 39  secondary_cleaner.state.floatbank3_a_air    5281 non-null   float64\n",
      " 40  secondary_cleaner.state.floatbank3_a_level  5290 non-null   float64\n",
      " 41  secondary_cleaner.state.floatbank3_b_air    5290 non-null   float64\n",
      " 42  secondary_cleaner.state.floatbank3_b_level  5290 non-null   float64\n",
      " 43  secondary_cleaner.state.floatbank4_a_air    5290 non-null   float64\n",
      " 44  secondary_cleaner.state.floatbank4_a_level  5290 non-null   float64\n",
      " 45  secondary_cleaner.state.floatbank4_b_air    5290 non-null   float64\n",
      " 46  secondary_cleaner.state.floatbank4_b_level  5290 non-null   float64\n",
      " 47  secondary_cleaner.state.floatbank5_a_air    5290 non-null   float64\n",
      " 48  secondary_cleaner.state.floatbank5_a_level  5290 non-null   float64\n",
      " 49  secondary_cleaner.state.floatbank5_b_air    5290 non-null   float64\n",
      " 50  secondary_cleaner.state.floatbank5_b_level  5290 non-null   float64\n",
      " 51  secondary_cleaner.state.floatbank6_a_air    5290 non-null   float64\n",
      " 52  secondary_cleaner.state.floatbank6_a_level  5290 non-null   float64\n",
      "dtypes: float64(52), object(1)\n",
      "memory usage: 2.1+ MB\n"
     ]
    }
   ],
   "source": [
    "test.info()"
   ]
  },
  {
   "cell_type": "code",
   "execution_count": 19,
   "metadata": {
    "scrolled": true
   },
   "outputs": [
    {
     "data": {
      "text/html": [
       "<style  type=\"text/css\" >\n",
       "#T_da61e_row0_col0,#T_da61e_row3_col0,#T_da61e_row5_col0,#T_da61e_row6_col0,#T_da61e_row7_col0,#T_da61e_row8_col0,#T_da61e_row9_col0,#T_da61e_row10_col0,#T_da61e_row11_col0,#T_da61e_row12_col0,#T_da61e_row13_col0,#T_da61e_row14_col0,#T_da61e_row16_col0,#T_da61e_row18_col0,#T_da61e_row20_col0,#T_da61e_row23_col0,#T_da61e_row24_col0,#T_da61e_row25_col0,#T_da61e_row26_col0,#T_da61e_row27_col0,#T_da61e_row28_col0,#T_da61e_row29_col0,#T_da61e_row30_col0,#T_da61e_row31_col0,#T_da61e_row32_col0,#T_da61e_row33_col0,#T_da61e_row34_col0,#T_da61e_row36_col0,#T_da61e_row37_col0,#T_da61e_row38_col0,#T_da61e_row40_col0,#T_da61e_row41_col0,#T_da61e_row42_col0,#T_da61e_row43_col0,#T_da61e_row44_col0,#T_da61e_row45_col0,#T_da61e_row46_col0,#T_da61e_row47_col0,#T_da61e_row48_col0,#T_da61e_row49_col0,#T_da61e_row50_col0,#T_da61e_row51_col0,#T_da61e_row52_col0{\n",
       "            background-color:  #ff0000;\n",
       "            color:  #f1f1f1;\n",
       "        }#T_da61e_row1_col0,#T_da61e_row2_col0,#T_da61e_row4_col0,#T_da61e_row15_col0,#T_da61e_row19_col0,#T_da61e_row35_col0{\n",
       "            background-color:  #ff2a00;\n",
       "            color:  #f1f1f1;\n",
       "        }#T_da61e_row17_col0{\n",
       "            background-color:  #bdff00;\n",
       "            color:  #000000;\n",
       "        }#T_da61e_row21_col0,#T_da61e_row39_col0{\n",
       "            background-color:  #ff9500;\n",
       "            color:  #000000;\n",
       "        }#T_da61e_row22_col0{\n",
       "            background-color:  #54ff00;\n",
       "            color:  #000000;\n",
       "        }</style><table id=\"T_da61e_\" ><thead>    <tr>        <th class=\"blank level0\" ></th>        <th class=\"col_heading level0 col0\" >0</th>    </tr></thead><tbody>\n",
       "                <tr>\n",
       "                        <th id=\"T_da61e_level0_row0\" class=\"row_heading level0 row0\" >date</th>\n",
       "                        <td id=\"T_da61e_row0_col0\" class=\"data row0 col0\" >0.000000</td>\n",
       "            </tr>\n",
       "            <tr>\n",
       "                        <th id=\"T_da61e_level0_row1\" class=\"row_heading level0 row1\" >primary_cleaner.input.sulfate</th>\n",
       "                        <td id=\"T_da61e_row1_col0\" class=\"data row1 col0\" >0.100000</td>\n",
       "            </tr>\n",
       "            <tr>\n",
       "                        <th id=\"T_da61e_level0_row2\" class=\"row_heading level0 row2\" >primary_cleaner.input.depressant</th>\n",
       "                        <td id=\"T_da61e_row2_col0\" class=\"data row2 col0\" >0.100000</td>\n",
       "            </tr>\n",
       "            <tr>\n",
       "                        <th id=\"T_da61e_level0_row3\" class=\"row_heading level0 row3\" >primary_cleaner.input.feed_size</th>\n",
       "                        <td id=\"T_da61e_row3_col0\" class=\"data row3 col0\" >0.000000</td>\n",
       "            </tr>\n",
       "            <tr>\n",
       "                        <th id=\"T_da61e_level0_row4\" class=\"row_heading level0 row4\" >primary_cleaner.input.xanthate</th>\n",
       "                        <td id=\"T_da61e_row4_col0\" class=\"data row4 col0\" >0.100000</td>\n",
       "            </tr>\n",
       "            <tr>\n",
       "                        <th id=\"T_da61e_level0_row5\" class=\"row_heading level0 row5\" >primary_cleaner.state.floatbank8_a_air</th>\n",
       "                        <td id=\"T_da61e_row5_col0\" class=\"data row5 col0\" >0.000000</td>\n",
       "            </tr>\n",
       "            <tr>\n",
       "                        <th id=\"T_da61e_level0_row6\" class=\"row_heading level0 row6\" >primary_cleaner.state.floatbank8_a_level</th>\n",
       "                        <td id=\"T_da61e_row6_col0\" class=\"data row6 col0\" >0.000000</td>\n",
       "            </tr>\n",
       "            <tr>\n",
       "                        <th id=\"T_da61e_level0_row7\" class=\"row_heading level0 row7\" >primary_cleaner.state.floatbank8_b_air</th>\n",
       "                        <td id=\"T_da61e_row7_col0\" class=\"data row7 col0\" >0.000000</td>\n",
       "            </tr>\n",
       "            <tr>\n",
       "                        <th id=\"T_da61e_level0_row8\" class=\"row_heading level0 row8\" >primary_cleaner.state.floatbank8_b_level</th>\n",
       "                        <td id=\"T_da61e_row8_col0\" class=\"data row8 col0\" >0.000000</td>\n",
       "            </tr>\n",
       "            <tr>\n",
       "                        <th id=\"T_da61e_level0_row9\" class=\"row_heading level0 row9\" >primary_cleaner.state.floatbank8_c_air</th>\n",
       "                        <td id=\"T_da61e_row9_col0\" class=\"data row9 col0\" >0.000000</td>\n",
       "            </tr>\n",
       "            <tr>\n",
       "                        <th id=\"T_da61e_level0_row10\" class=\"row_heading level0 row10\" >primary_cleaner.state.floatbank8_c_level</th>\n",
       "                        <td id=\"T_da61e_row10_col0\" class=\"data row10 col0\" >0.000000</td>\n",
       "            </tr>\n",
       "            <tr>\n",
       "                        <th id=\"T_da61e_level0_row11\" class=\"row_heading level0 row11\" >primary_cleaner.state.floatbank8_d_air</th>\n",
       "                        <td id=\"T_da61e_row11_col0\" class=\"data row11 col0\" >0.000000</td>\n",
       "            </tr>\n",
       "            <tr>\n",
       "                        <th id=\"T_da61e_level0_row12\" class=\"row_heading level0 row12\" >primary_cleaner.state.floatbank8_d_level</th>\n",
       "                        <td id=\"T_da61e_row12_col0\" class=\"data row12 col0\" >0.000000</td>\n",
       "            </tr>\n",
       "            <tr>\n",
       "                        <th id=\"T_da61e_level0_row13\" class=\"row_heading level0 row13\" >rougher.input.feed_ag</th>\n",
       "                        <td id=\"T_da61e_row13_col0\" class=\"data row13 col0\" >0.000000</td>\n",
       "            </tr>\n",
       "            <tr>\n",
       "                        <th id=\"T_da61e_level0_row14\" class=\"row_heading level0 row14\" >rougher.input.feed_pb</th>\n",
       "                        <td id=\"T_da61e_row14_col0\" class=\"data row14 col0\" >0.000000</td>\n",
       "            </tr>\n",
       "            <tr>\n",
       "                        <th id=\"T_da61e_level0_row15\" class=\"row_heading level0 row15\" >rougher.input.feed_rate</th>\n",
       "                        <td id=\"T_da61e_row15_col0\" class=\"data row15 col0\" >0.100000</td>\n",
       "            </tr>\n",
       "            <tr>\n",
       "                        <th id=\"T_da61e_level0_row16\" class=\"row_heading level0 row16\" >rougher.input.feed_size</th>\n",
       "                        <td id=\"T_da61e_row16_col0\" class=\"data row16 col0\" >0.000000</td>\n",
       "            </tr>\n",
       "            <tr>\n",
       "                        <th id=\"T_da61e_level0_row17\" class=\"row_heading level0 row17\" >rougher.input.feed_sol</th>\n",
       "                        <td id=\"T_da61e_row17_col0\" class=\"data row17 col0\" >0.400000</td>\n",
       "            </tr>\n",
       "            <tr>\n",
       "                        <th id=\"T_da61e_level0_row18\" class=\"row_heading level0 row18\" >rougher.input.feed_au</th>\n",
       "                        <td id=\"T_da61e_row18_col0\" class=\"data row18 col0\" >0.000000</td>\n",
       "            </tr>\n",
       "            <tr>\n",
       "                        <th id=\"T_da61e_level0_row19\" class=\"row_heading level0 row19\" >rougher.input.floatbank10_sulfate</th>\n",
       "                        <td id=\"T_da61e_row19_col0\" class=\"data row19 col0\" >0.100000</td>\n",
       "            </tr>\n",
       "            <tr>\n",
       "                        <th id=\"T_da61e_level0_row20\" class=\"row_heading level0 row20\" >rougher.input.floatbank10_xanthate</th>\n",
       "                        <td id=\"T_da61e_row20_col0\" class=\"data row20 col0\" >0.000000</td>\n",
       "            </tr>\n",
       "            <tr>\n",
       "                        <th id=\"T_da61e_level0_row21\" class=\"row_heading level0 row21\" >rougher.input.floatbank11_sulfate</th>\n",
       "                        <td id=\"T_da61e_row21_col0\" class=\"data row21 col0\" >0.200000</td>\n",
       "            </tr>\n",
       "            <tr>\n",
       "                        <th id=\"T_da61e_level0_row22\" class=\"row_heading level0 row22\" >rougher.input.floatbank11_xanthate</th>\n",
       "                        <td id=\"T_da61e_row22_col0\" class=\"data row22 col0\" >0.500000</td>\n",
       "            </tr>\n",
       "            <tr>\n",
       "                        <th id=\"T_da61e_level0_row23\" class=\"row_heading level0 row23\" >rougher.state.floatbank10_a_air</th>\n",
       "                        <td id=\"T_da61e_row23_col0\" class=\"data row23 col0\" >0.000000</td>\n",
       "            </tr>\n",
       "            <tr>\n",
       "                        <th id=\"T_da61e_level0_row24\" class=\"row_heading level0 row24\" >rougher.state.floatbank10_a_level</th>\n",
       "                        <td id=\"T_da61e_row24_col0\" class=\"data row24 col0\" >0.000000</td>\n",
       "            </tr>\n",
       "            <tr>\n",
       "                        <th id=\"T_da61e_level0_row25\" class=\"row_heading level0 row25\" >rougher.state.floatbank10_b_air</th>\n",
       "                        <td id=\"T_da61e_row25_col0\" class=\"data row25 col0\" >0.000000</td>\n",
       "            </tr>\n",
       "            <tr>\n",
       "                        <th id=\"T_da61e_level0_row26\" class=\"row_heading level0 row26\" >rougher.state.floatbank10_b_level</th>\n",
       "                        <td id=\"T_da61e_row26_col0\" class=\"data row26 col0\" >0.000000</td>\n",
       "            </tr>\n",
       "            <tr>\n",
       "                        <th id=\"T_da61e_level0_row27\" class=\"row_heading level0 row27\" >rougher.state.floatbank10_c_air</th>\n",
       "                        <td id=\"T_da61e_row27_col0\" class=\"data row27 col0\" >0.000000</td>\n",
       "            </tr>\n",
       "            <tr>\n",
       "                        <th id=\"T_da61e_level0_row28\" class=\"row_heading level0 row28\" >rougher.state.floatbank10_c_level</th>\n",
       "                        <td id=\"T_da61e_row28_col0\" class=\"data row28 col0\" >0.000000</td>\n",
       "            </tr>\n",
       "            <tr>\n",
       "                        <th id=\"T_da61e_level0_row29\" class=\"row_heading level0 row29\" >rougher.state.floatbank10_d_air</th>\n",
       "                        <td id=\"T_da61e_row29_col0\" class=\"data row29 col0\" >0.000000</td>\n",
       "            </tr>\n",
       "            <tr>\n",
       "                        <th id=\"T_da61e_level0_row30\" class=\"row_heading level0 row30\" >rougher.state.floatbank10_d_level</th>\n",
       "                        <td id=\"T_da61e_row30_col0\" class=\"data row30 col0\" >0.000000</td>\n",
       "            </tr>\n",
       "            <tr>\n",
       "                        <th id=\"T_da61e_level0_row31\" class=\"row_heading level0 row31\" >rougher.state.floatbank10_e_air</th>\n",
       "                        <td id=\"T_da61e_row31_col0\" class=\"data row31 col0\" >0.000000</td>\n",
       "            </tr>\n",
       "            <tr>\n",
       "                        <th id=\"T_da61e_level0_row32\" class=\"row_heading level0 row32\" >rougher.state.floatbank10_e_level</th>\n",
       "                        <td id=\"T_da61e_row32_col0\" class=\"data row32 col0\" >0.000000</td>\n",
       "            </tr>\n",
       "            <tr>\n",
       "                        <th id=\"T_da61e_level0_row33\" class=\"row_heading level0 row33\" >rougher.state.floatbank10_f_air</th>\n",
       "                        <td id=\"T_da61e_row33_col0\" class=\"data row33 col0\" >0.000000</td>\n",
       "            </tr>\n",
       "            <tr>\n",
       "                        <th id=\"T_da61e_level0_row34\" class=\"row_heading level0 row34\" >rougher.state.floatbank10_f_level</th>\n",
       "                        <td id=\"T_da61e_row34_col0\" class=\"data row34 col0\" >0.000000</td>\n",
       "            </tr>\n",
       "            <tr>\n",
       "                        <th id=\"T_da61e_level0_row35\" class=\"row_heading level0 row35\" >secondary_cleaner.state.floatbank2_a_air</th>\n",
       "                        <td id=\"T_da61e_row35_col0\" class=\"data row35 col0\" >0.100000</td>\n",
       "            </tr>\n",
       "            <tr>\n",
       "                        <th id=\"T_da61e_level0_row36\" class=\"row_heading level0 row36\" >secondary_cleaner.state.floatbank2_a_level</th>\n",
       "                        <td id=\"T_da61e_row36_col0\" class=\"data row36 col0\" >0.000000</td>\n",
       "            </tr>\n",
       "            <tr>\n",
       "                        <th id=\"T_da61e_level0_row37\" class=\"row_heading level0 row37\" >secondary_cleaner.state.floatbank2_b_air</th>\n",
       "                        <td id=\"T_da61e_row37_col0\" class=\"data row37 col0\" >0.000000</td>\n",
       "            </tr>\n",
       "            <tr>\n",
       "                        <th id=\"T_da61e_level0_row38\" class=\"row_heading level0 row38\" >secondary_cleaner.state.floatbank2_b_level</th>\n",
       "                        <td id=\"T_da61e_row38_col0\" class=\"data row38 col0\" >0.000000</td>\n",
       "            </tr>\n",
       "            <tr>\n",
       "                        <th id=\"T_da61e_level0_row39\" class=\"row_heading level0 row39\" >secondary_cleaner.state.floatbank3_a_air</th>\n",
       "                        <td id=\"T_da61e_row39_col0\" class=\"data row39 col0\" >0.200000</td>\n",
       "            </tr>\n",
       "            <tr>\n",
       "                        <th id=\"T_da61e_level0_row40\" class=\"row_heading level0 row40\" >secondary_cleaner.state.floatbank3_a_level</th>\n",
       "                        <td id=\"T_da61e_row40_col0\" class=\"data row40 col0\" >0.000000</td>\n",
       "            </tr>\n",
       "            <tr>\n",
       "                        <th id=\"T_da61e_level0_row41\" class=\"row_heading level0 row41\" >secondary_cleaner.state.floatbank3_b_air</th>\n",
       "                        <td id=\"T_da61e_row41_col0\" class=\"data row41 col0\" >0.000000</td>\n",
       "            </tr>\n",
       "            <tr>\n",
       "                        <th id=\"T_da61e_level0_row42\" class=\"row_heading level0 row42\" >secondary_cleaner.state.floatbank3_b_level</th>\n",
       "                        <td id=\"T_da61e_row42_col0\" class=\"data row42 col0\" >0.000000</td>\n",
       "            </tr>\n",
       "            <tr>\n",
       "                        <th id=\"T_da61e_level0_row43\" class=\"row_heading level0 row43\" >secondary_cleaner.state.floatbank4_a_air</th>\n",
       "                        <td id=\"T_da61e_row43_col0\" class=\"data row43 col0\" >0.000000</td>\n",
       "            </tr>\n",
       "            <tr>\n",
       "                        <th id=\"T_da61e_level0_row44\" class=\"row_heading level0 row44\" >secondary_cleaner.state.floatbank4_a_level</th>\n",
       "                        <td id=\"T_da61e_row44_col0\" class=\"data row44 col0\" >0.000000</td>\n",
       "            </tr>\n",
       "            <tr>\n",
       "                        <th id=\"T_da61e_level0_row45\" class=\"row_heading level0 row45\" >secondary_cleaner.state.floatbank4_b_air</th>\n",
       "                        <td id=\"T_da61e_row45_col0\" class=\"data row45 col0\" >0.000000</td>\n",
       "            </tr>\n",
       "            <tr>\n",
       "                        <th id=\"T_da61e_level0_row46\" class=\"row_heading level0 row46\" >secondary_cleaner.state.floatbank4_b_level</th>\n",
       "                        <td id=\"T_da61e_row46_col0\" class=\"data row46 col0\" >0.000000</td>\n",
       "            </tr>\n",
       "            <tr>\n",
       "                        <th id=\"T_da61e_level0_row47\" class=\"row_heading level0 row47\" >secondary_cleaner.state.floatbank5_a_air</th>\n",
       "                        <td id=\"T_da61e_row47_col0\" class=\"data row47 col0\" >0.000000</td>\n",
       "            </tr>\n",
       "            <tr>\n",
       "                        <th id=\"T_da61e_level0_row48\" class=\"row_heading level0 row48\" >secondary_cleaner.state.floatbank5_a_level</th>\n",
       "                        <td id=\"T_da61e_row48_col0\" class=\"data row48 col0\" >0.000000</td>\n",
       "            </tr>\n",
       "            <tr>\n",
       "                        <th id=\"T_da61e_level0_row49\" class=\"row_heading level0 row49\" >secondary_cleaner.state.floatbank5_b_air</th>\n",
       "                        <td id=\"T_da61e_row49_col0\" class=\"data row49 col0\" >0.000000</td>\n",
       "            </tr>\n",
       "            <tr>\n",
       "                        <th id=\"T_da61e_level0_row50\" class=\"row_heading level0 row50\" >secondary_cleaner.state.floatbank5_b_level</th>\n",
       "                        <td id=\"T_da61e_row50_col0\" class=\"data row50 col0\" >0.000000</td>\n",
       "            </tr>\n",
       "            <tr>\n",
       "                        <th id=\"T_da61e_level0_row51\" class=\"row_heading level0 row51\" >secondary_cleaner.state.floatbank6_a_air</th>\n",
       "                        <td id=\"T_da61e_row51_col0\" class=\"data row51 col0\" >0.000000</td>\n",
       "            </tr>\n",
       "            <tr>\n",
       "                        <th id=\"T_da61e_level0_row52\" class=\"row_heading level0 row52\" >secondary_cleaner.state.floatbank6_a_level</th>\n",
       "                        <td id=\"T_da61e_row52_col0\" class=\"data row52 col0\" >0.000000</td>\n",
       "            </tr>\n",
       "    </tbody></table>"
      ],
      "text/plain": [
       "<pandas.io.formats.style.Styler at 0x7f33f2c2c370>"
      ]
     },
     "execution_count": 19,
     "metadata": {},
     "output_type": "execute_result"
    }
   ],
   "source": [
    "pd.DataFrame(round(test.isna().mean()*100,1)).style.background_gradient('prism')"
   ]
  },
  {
   "cell_type": "markdown",
   "metadata": {},
   "source": [
    "### Разделение выборок по процессам"
   ]
  },
  {
   "cell_type": "code",
   "execution_count": 20,
   "metadata": {},
   "outputs": [
    {
     "data": {
      "text/plain": [
       "Index(['rougher.input.feed_ag', 'rougher.input.feed_pb',\n",
       "       'rougher.input.feed_rate', 'rougher.input.feed_size',\n",
       "       'rougher.input.feed_sol', 'rougher.input.feed_au',\n",
       "       'rougher.input.floatbank10_sulfate',\n",
       "       'rougher.input.floatbank10_xanthate',\n",
       "       'rougher.input.floatbank11_sulfate',\n",
       "       'rougher.input.floatbank11_xanthate', 'rougher.state.floatbank10_a_air',\n",
       "       'rougher.state.floatbank10_a_level', 'rougher.state.floatbank10_b_air',\n",
       "       'rougher.state.floatbank10_b_level', 'rougher.state.floatbank10_c_air',\n",
       "       'rougher.state.floatbank10_c_level', 'rougher.state.floatbank10_d_air',\n",
       "       'rougher.state.floatbank10_d_level', 'rougher.state.floatbank10_e_air',\n",
       "       'rougher.state.floatbank10_e_level', 'rougher.state.floatbank10_f_air',\n",
       "       'rougher.state.floatbank10_f_level'],\n",
       "      dtype='object')"
      ]
     },
     "execution_count": 20,
     "metadata": {},
     "output_type": "execute_result"
    }
   ],
   "source": [
    "X_train = train[test.columns]\n",
    "rougher_cols = X_train.columns.str.contains('rougher')\n",
    "X_train_rougher = X_train.loc[:, rougher_cols]\n",
    "X_test_rougher = test.loc[:, rougher_cols]\n",
    "y_train_rougher = train[['rougher.output.recovery']]\n",
    "X_train_rougher.columns"
   ]
  },
  {
   "cell_type": "code",
   "execution_count": 21,
   "metadata": {},
   "outputs": [
    {
     "data": {
      "text/plain": [
       "Index(['primary_cleaner.input.sulfate', 'primary_cleaner.input.depressant',\n",
       "       'primary_cleaner.input.feed_size', 'primary_cleaner.input.xanthate',\n",
       "       'primary_cleaner.state.floatbank8_a_air',\n",
       "       'primary_cleaner.state.floatbank8_a_level',\n",
       "       'primary_cleaner.state.floatbank8_b_air',\n",
       "       'primary_cleaner.state.floatbank8_b_level',\n",
       "       'primary_cleaner.state.floatbank8_c_air',\n",
       "       'primary_cleaner.state.floatbank8_c_level',\n",
       "       'primary_cleaner.state.floatbank8_d_air',\n",
       "       'primary_cleaner.state.floatbank8_d_level',\n",
       "       'secondary_cleaner.state.floatbank2_a_air',\n",
       "       'secondary_cleaner.state.floatbank2_a_level',\n",
       "       'secondary_cleaner.state.floatbank2_b_air',\n",
       "       'secondary_cleaner.state.floatbank2_b_level',\n",
       "       'secondary_cleaner.state.floatbank3_a_air',\n",
       "       'secondary_cleaner.state.floatbank3_a_level',\n",
       "       'secondary_cleaner.state.floatbank3_b_air',\n",
       "       'secondary_cleaner.state.floatbank3_b_level',\n",
       "       'secondary_cleaner.state.floatbank4_a_air',\n",
       "       'secondary_cleaner.state.floatbank4_a_level',\n",
       "       'secondary_cleaner.state.floatbank4_b_air',\n",
       "       'secondary_cleaner.state.floatbank4_b_level',\n",
       "       'secondary_cleaner.state.floatbank5_a_air',\n",
       "       'secondary_cleaner.state.floatbank5_a_level',\n",
       "       'secondary_cleaner.state.floatbank5_b_air',\n",
       "       'secondary_cleaner.state.floatbank5_b_level',\n",
       "       'secondary_cleaner.state.floatbank6_a_air',\n",
       "       'secondary_cleaner.state.floatbank6_a_level'],\n",
       "      dtype='object')"
      ]
     },
     "execution_count": 21,
     "metadata": {},
     "output_type": "execute_result"
    }
   ],
   "source": [
    "final_cols = X_train.columns.str.contains('cleaner')\n",
    "X_train_final = X_train.loc[:, final_cols]\n",
    "X_test_final = test.loc[:, final_cols]\n",
    "y_train_final = train[['final.output.recovery']]\n",
    "X_train_final.columns"
   ]
  },
  {
   "cell_type": "code",
   "execution_count": 22,
   "metadata": {},
   "outputs": [
    {
     "data": {
      "text/plain": [
       "((14149, 22), (14149, 1), (5290, 22))"
      ]
     },
     "execution_count": 22,
     "metadata": {},
     "output_type": "execute_result"
    }
   ],
   "source": [
    "X_train_rougher.shape, y_train_rougher.shape, X_test_rougher.shape"
   ]
  },
  {
   "cell_type": "code",
   "execution_count": 23,
   "metadata": {},
   "outputs": [
    {
     "data": {
      "text/plain": [
       "((14149, 30), (14149, 1), (5290, 30))"
      ]
     },
     "execution_count": 23,
     "metadata": {},
     "output_type": "execute_result"
    }
   ],
   "source": [
    "X_train_final.shape, y_train_final.shape, X_test_final.shape"
   ]
  },
  {
   "cell_type": "markdown",
   "metadata": {},
   "source": [
    "**Вывод**  \n",
    "Дано три датасета:\n",
    "- data\n",
    "- train\n",
    "- test \n",
    "\n",
    "В тестовой выборке отсутствуют некоторые признаки, которые могут быть в обучающей. Также в тестовом наборе нет целевых признаков. Исходный датасет содержит обучающую и тестовую выборки со всеми признаками. \n",
    "\n",
    "Обучающую и тестовуе выборки разделили на две - для этапа флотации и для этапа обработки концентрат."
   ]
  },
  {
   "cell_type": "markdown",
   "metadata": {},
   "source": [
    "В тестовой выборке отсутствуют признаки следующие признаки:  \n",
    "\n",
    "*['final.output.concentrate_ag', 'final.output.concentrate_pb', 'final.output.concentrate_sol', 'final.output.concentrate_au', 'final.output.recovery', 'final.output.tail_ag', 'final.output.tail_pb', 'final.output.tail_sol', 'final.output.tail_au', 'primary_cleaner.output.concentrate_ag', 'primary_cleaner.output.concentrate_pb', 'primary_cleaner.output.concentrate_sol', 'primary_cleaner.output.concentrate_au', 'primary_cleaner.output.tail_ag', 'primary_cleaner.output.tail_pb', 'primary_cleaner.output.tail_sol', 'primary_cleaner.output.tail_au', 'rougher.calculation.sulfate_to_au_concentrate', 'rougher.calculation.floatbank10_sulfate_to_au_feed', 'rougher.calculation.floatbank11_sulfate_to_au_feed', 'rougher.calculation.au_pb_ratio', 'rougher.output.concentrate_ag', 'rougher.output.concentrate_pb', 'rougher.output.concentrate_sol', 'rougher.output.concentrate_au', 'rougher.output.recovery', 'rougher.output.tail_ag', 'rougher.output.tail_pb', 'rougher.output.tail_sol', 'rougher.output.tail_au', 'secondary_cleaner.output.tail_ag', 'secondary_cleaner.output.tail_pb', 'secondary_cleaner.output.tail_sol', 'secondary_cleaner.output.tail_au']*\n",
    "\n",
    "**output** - параметры продуктов  \n",
    "**calculation** - расчётные характеристики  \n",
    "Вероятно, что данные по этим признакам рассчитываются на выходе продукции и доступны после этапа производства"
   ]
  },
  {
   "cell_type": "markdown",
   "metadata": {},
   "source": [
    "## Анализ"
   ]
  },
  {
   "cell_type": "markdown",
   "metadata": {},
   "source": [
    "Создадим словарь обозначений элементов."
   ]
  },
  {
   "cell_type": "code",
   "execution_count": 24,
   "metadata": {},
   "outputs": [],
   "source": [
    "elements = {'золото': 'au', 'серебро': 'ag', 'свинец': 'pb'}"
   ]
  },
  {
   "cell_type": "markdown",
   "metadata": {},
   "source": [
    "### Концентрация металлов"
   ]
  },
  {
   "cell_type": "markdown",
   "metadata": {},
   "source": [
    "Напишем функции для построения график, которые помогут понять концентрацию на различных этапах"
   ]
  },
  {
   "cell_type": "code",
   "execution_count": 25,
   "metadata": {},
   "outputs": [],
   "source": [
    "def fraction(elem):\n",
    "    \n",
    "    cols = ['rougher.input.feed_'+elem, 'rougher.output.concentrate_'+elem, \n",
    "            'primary_cleaner.output.concentrate_'+elem, 'final.output.concentrate_'+elem]\n",
    "    fig_dims = (15, 10)\n",
    "    fig1, ax1 = plt.subplots(figsize=fig_dims) \n",
    "    for col in cols:\n",
    "                \n",
    "        sns.kdeplot(train[col], shade=True, alpha=.42, ax=ax1)\n",
    "        plt.title('Концентрация металла ' + str(elem).title() + ' на различных этапах очистки', fontsize=15)\n",
    "def boxplot(elem):\n",
    "\n",
    "    cols = ['rougher.input.feed_'+elem, 'rougher.output.concentrate_'+elem, \n",
    "            'primary_cleaner.output.concentrate_'+elem, 'final.output.concentrate_'+elem]\n",
    "    plt.figure(figsize=(15,10))\n",
    "    sns.boxplot(data=df[cols], linewidth=0.42, palette=\"Set2\")\n",
    "    plt.title('Концентрация металла ' + str(elem).title() + ' на различных этапах очистки', fontsize=15)"
   ]
  },
  {
   "cell_type": "markdown",
   "metadata": {},
   "source": [
    "**Золото**"
   ]
  },
  {
   "cell_type": "code",
   "execution_count": 26,
   "metadata": {},
   "outputs": [
    {
     "data": {
      "image/png": "[encoded data removed]",
      "text/plain": [
       "<Figure size 1080x720 with 1 Axes>"
      ]
     },
     "metadata": {
      "needs_background": "light"
     },
     "output_type": "display_data"
    }
   ],
   "source": [
    "fraction(elements['золото'])"
   ]
  },
  {
   "cell_type": "code",
   "execution_count": 27,
   "metadata": {},
   "outputs": [
    {
     "data": {
      "image/png": "[encoded data removed]",
      "text/plain": [
       "<Figure size 1080x720 with 1 Axes>"
      ]
     },
     "metadata": {
      "needs_background": "light"
     },
     "output_type": "display_data"
    }
   ],
   "source": [
    "boxplot(elements['золото'])"
   ]
  },
  {
   "cell_type": "markdown",
   "metadata": {},
   "source": [
    "**Вывод:** концентрация содержания золота повышается поэтапно  и достигиает своих максимальных значений в конце процесса"
   ]
  },
  {
   "cell_type": "markdown",
   "metadata": {},
   "source": [
    "<div class=\"alert alert-success\">\n",
    "<h2> Комментарий ревьюера <a class=\"tocSkip\"> </h2>\n",
    "\n",
    "<b>Верно!👍:\\\n",
    "</b> Мне интересно было изучить твои графики, практичный и красочный графический анализ. "
   ]
  },
  {
   "cell_type": "markdown",
   "metadata": {},
   "source": [
    "**Серебро**"
   ]
  },
  {
   "cell_type": "code",
   "execution_count": 28,
   "metadata": {},
   "outputs": [
    {
     "data": {
      "image/png": "[encoded data removed]",
      "text/plain": [
       "<Figure size 1080x720 with 1 Axes>"
      ]
     },
     "metadata": {
      "needs_background": "light"
     },
     "output_type": "display_data"
    }
   ],
   "source": [
    "fraction(elements['серебро'])"
   ]
  },
  {
   "cell_type": "code",
   "execution_count": 29,
   "metadata": {},
   "outputs": [
    {
     "data": {
      "image/png": "[encoded data removed]",
      "text/plain": [
       "<Figure size 1080x720 with 1 Axes>"
      ]
     },
     "metadata": {
      "needs_background": "light"
     },
     "output_type": "display_data"
    }
   ],
   "source": [
    "boxplot(elements['серебро'])"
   ]
  },
  {
   "cell_type": "markdown",
   "metadata": {},
   "source": [
    "**Вывод**: концентрация содержания серебра повышается по завершению этапа флотации но начинает снижаться до минимального значения по сравнению со всеми этапами"
   ]
  },
  {
   "cell_type": "markdown",
   "metadata": {},
   "source": [
    "**Свинец**"
   ]
  },
  {
   "cell_type": "code",
   "execution_count": 30,
   "metadata": {},
   "outputs": [
    {
     "data": {
      "image/png": "[encoded data removed]",
      "text/plain": [
       "<Figure size 1080x720 with 1 Axes>"
      ]
     },
     "metadata": {
      "needs_background": "light"
     },
     "output_type": "display_data"
    }
   ],
   "source": [
    "fraction(elements['свинец'])"
   ]
  },
  {
   "cell_type": "code",
   "execution_count": 31,
   "metadata": {},
   "outputs": [
    {
     "data": {
      "image/png": "[encoded data removed]",
      "text/plain": [
       "<Figure size 1080x720 with 1 Axes>"
      ]
     },
     "metadata": {
      "needs_background": "light"
     },
     "output_type": "display_data"
    }
   ],
   "source": [
    "boxplot(elements['свинец'])"
   ]
  },
  {
   "cell_type": "markdown",
   "metadata": {},
   "source": [
    "**Вывод**: содержание свинца начинает подниматься по завершению эатапа флотации и сохраняется либо незначительно увеличивается на этапах очистки"
   ]
  },
  {
   "cell_type": "markdown",
   "metadata": {},
   "source": [
    "### Размеры гранул"
   ]
  },
  {
   "cell_type": "code",
   "execution_count": 32,
   "metadata": {},
   "outputs": [
    {
     "data": {
      "image/png": "[encoded data removed]",
      "text/plain": [
       "<Figure size 1080x720 with 1 Axes>"
      ]
     },
     "metadata": {
      "needs_background": "light"
     },
     "output_type": "display_data"
    }
   ],
   "source": [
    "plt.figure(figsize=(15,10))\n",
    "sns.kdeplot(train['rougher.input.feed_size'].dropna(), label='train', shade=True, alpha=.33)\n",
    "sns.kdeplot(test['rougher.input.feed_size'].dropna(), label='test', shade=True, alpha=.33)\n",
    "plt.title('Распределения размеров зерен в выборках (сырье)')\n",
    "plt.legend()\n",
    "plt.show()"
   ]
  },
  {
   "cell_type": "markdown",
   "metadata": {},
   "source": [
    "**Вывод**: размеры находятся на примерно одинаковом уровне."
   ]
  },
  {
   "cell_type": "markdown",
   "metadata": {},
   "source": [
    "### Суммарная концентрация"
   ]
  },
  {
   "cell_type": "code",
   "execution_count": 33,
   "metadata": {},
   "outputs": [
    {
     "data": {
      "text/html": [
       "<div>\n",
       "<style scoped>\n",
       "    .dataframe tbody tr th:only-of-type {\n",
       "        vertical-align: middle;\n",
       "    }\n",
       "\n",
       "    .dataframe tbody tr th {\n",
       "        vertical-align: top;\n",
       "    }\n",
       "\n",
       "    .dataframe thead th {\n",
       "        text-align: right;\n",
       "    }\n",
       "</style>\n",
       "<table border=\"1\" class=\"dataframe\">\n",
       "  <thead>\n",
       "    <tr style=\"text-align: right;\">\n",
       "      <th></th>\n",
       "      <th>сырье</th>\n",
       "      <th>черновой концентрат</th>\n",
       "      <th>концентрат после очистки</th>\n",
       "      <th>финальный концентрат</th>\n",
       "    </tr>\n",
       "  </thead>\n",
       "  <tbody>\n",
       "    <tr>\n",
       "      <th>0</th>\n",
       "      <td>14.871440</td>\n",
       "      <td>38.395653</td>\n",
       "      <td>53.111627</td>\n",
       "      <td>58.137072</td>\n",
       "    </tr>\n",
       "    <tr>\n",
       "      <th>1</th>\n",
       "      <td>14.905729</td>\n",
       "      <td>38.945647</td>\n",
       "      <td>53.174338</td>\n",
       "      <td>58.699942</td>\n",
       "    </tr>\n",
       "    <tr>\n",
       "      <th>2</th>\n",
       "      <td>14.638299</td>\n",
       "      <td>38.649756</td>\n",
       "      <td>52.927464</td>\n",
       "      <td>58.927421</td>\n",
       "    </tr>\n",
       "    <tr>\n",
       "      <th>3</th>\n",
       "      <td>14.199305</td>\n",
       "      <td>38.411473</td>\n",
       "      <td>43.979185</td>\n",
       "      <td>58.714815</td>\n",
       "    </tr>\n",
       "    <tr>\n",
       "      <th>4</th>\n",
       "      <td>13.511497</td>\n",
       "      <td>38.867359</td>\n",
       "      <td>52.121146</td>\n",
       "      <td>59.065251</td>\n",
       "    </tr>\n",
       "  </tbody>\n",
       "</table>\n",
       "</div>"
      ],
      "text/plain": [
       "       сырье  черновой концентрат  концентрат после очистки  \\\n",
       "0  14.871440            38.395653                 53.111627   \n",
       "1  14.905729            38.945647                 53.174338   \n",
       "2  14.638299            38.649756                 52.927464   \n",
       "3  14.199305            38.411473                 43.979185   \n",
       "4  13.511497            38.867359                 52.121146   \n",
       "\n",
       "   финальный концентрат  \n",
       "0             58.137072  \n",
       "1             58.699942  \n",
       "2             58.927421  \n",
       "3             58.714815  \n",
       "4             59.065251  "
      ]
     },
     "execution_count": 33,
     "metadata": {},
     "output_type": "execute_result"
    }
   ],
   "source": [
    "crude = 'rougher.input.feed_'\n",
    "crude_out = 'rougher.output.concentrate_'\n",
    "prim_clean = 'primary_cleaner.output.concentrate_'\n",
    "final = 'final.output.concentrate_'\n",
    "\n",
    "df['сырье'] = df[[crude+'au', crude+'ag', crude+'pb']].sum(axis=1)\n",
    "df['черновой концентрат'] = df[[crude_out+'au', crude_out+'ag', crude_out+'pb']].sum(axis=1)\n",
    "df['концентрат после очистки'] = df[[prim_clean+'au', prim_clean+'ag', prim_clean+'pb']].sum(axis=1)\n",
    "df['финальный концентрат'] = df[[final+'au', final+'ag', final+'pb']].sum(axis=1)\n",
    "df[['сырье', 'черновой концентрат', 'концентрат после очистки', 'финальный концентрат']].head()"
   ]
  },
  {
   "cell_type": "code",
   "execution_count": 34,
   "metadata": {},
   "outputs": [
    {
     "data": {
      "image/png": "[encoded data removed]",
      "text/plain": [
       "<Figure size 1080x720 with 1 Axes>"
      ]
     },
     "metadata": {
      "needs_background": "light"
     },
     "output_type": "display_data"
    }
   ],
   "source": [
    "col_1 = ['сырье', 'черновой концентрат', 'концентрат после очистки', 'финальный концентрат']\n",
    "\n",
    "fig_dims = (15, 10)\n",
    "fig1, ax1 = plt.subplots(figsize=fig_dims) \n",
    "for col in col_1:\n",
    "                \n",
    "    sns.kdeplot(df[col], shade=True, alpha=.33, ax=ax1)\n",
    "    plt.title('Суммарная концентрация всех веществ', fontsize=15)"
   ]
  },
  {
   "cell_type": "code",
   "execution_count": 35,
   "metadata": {},
   "outputs": [
    {
     "data": {
      "text/html": [
       "<div>\n",
       "<style scoped>\n",
       "    .dataframe tbody tr th:only-of-type {\n",
       "        vertical-align: middle;\n",
       "    }\n",
       "\n",
       "    .dataframe tbody tr th {\n",
       "        vertical-align: top;\n",
       "    }\n",
       "\n",
       "    .dataframe thead th {\n",
       "        text-align: right;\n",
       "    }\n",
       "</style>\n",
       "<table border=\"1\" class=\"dataframe\">\n",
       "  <thead>\n",
       "    <tr style=\"text-align: right;\">\n",
       "      <th></th>\n",
       "      <th>count</th>\n",
       "      <th>mean</th>\n",
       "      <th>std</th>\n",
       "      <th>min</th>\n",
       "      <th>25%</th>\n",
       "      <th>50%</th>\n",
       "      <th>75%</th>\n",
       "      <th>max</th>\n",
       "    </tr>\n",
       "  </thead>\n",
       "  <tbody>\n",
       "    <tr>\n",
       "      <th>сырье</th>\n",
       "      <td>19439.0</td>\n",
       "      <td>20.640600</td>\n",
       "      <td>4.494362</td>\n",
       "      <td>0.03</td>\n",
       "      <td>17.252879</td>\n",
       "      <td>20.141216</td>\n",
       "      <td>23.797381</td>\n",
       "      <td>33.498784</td>\n",
       "    </tr>\n",
       "    <tr>\n",
       "      <th>черновой концентрат</th>\n",
       "      <td>19439.0</td>\n",
       "      <td>39.373032</td>\n",
       "      <td>6.863389</td>\n",
       "      <td>0.00</td>\n",
       "      <td>38.394639</td>\n",
       "      <td>40.312648</td>\n",
       "      <td>42.365102</td>\n",
       "      <td>55.568687</td>\n",
       "    </tr>\n",
       "    <tr>\n",
       "      <th>концентрат после очистки</th>\n",
       "      <td>19439.0</td>\n",
       "      <td>50.332682</td>\n",
       "      <td>7.671672</td>\n",
       "      <td>0.00</td>\n",
       "      <td>50.038524</td>\n",
       "      <td>51.905758</td>\n",
       "      <td>53.386172</td>\n",
       "      <td>60.269003</td>\n",
       "    </tr>\n",
       "    <tr>\n",
       "      <th>финальный концентрат</th>\n",
       "      <td>19439.0</td>\n",
       "      <td>59.223099</td>\n",
       "      <td>6.097603</td>\n",
       "      <td>0.00</td>\n",
       "      <td>59.298323</td>\n",
       "      <td>60.306921</td>\n",
       "      <td>61.096667</td>\n",
       "      <td>64.968881</td>\n",
       "    </tr>\n",
       "  </tbody>\n",
       "</table>\n",
       "</div>"
      ],
      "text/plain": [
       "                            count       mean       std   min        25%  \\\n",
       "сырье                     19439.0  20.640600  4.494362  0.03  17.252879   \n",
       "черновой концентрат       19439.0  39.373032  6.863389  0.00  38.394639   \n",
       "концентрат после очистки  19439.0  50.332682  7.671672  0.00  50.038524   \n",
       "финальный концентрат      19439.0  59.223099  6.097603  0.00  59.298323   \n",
       "\n",
       "                                50%        75%        max  \n",
       "сырье                     20.141216  23.797381  33.498784  \n",
       "черновой концентрат       40.312648  42.365102  55.568687  \n",
       "концентрат после очистки  51.905758  53.386172  60.269003  \n",
       "финальный концентрат      60.306921  61.096667  64.968881  "
      ]
     },
     "execution_count": 35,
     "metadata": {},
     "output_type": "execute_result"
    }
   ],
   "source": [
    "df[['сырье', 'черновой концентрат', 'концентрат после очистки', 'финальный концентрат']].describe().T"
   ]
  },
  {
   "cell_type": "markdown",
   "metadata": {},
   "source": [
    "**Вывод**  \n",
    "Проанализировали концентрации металлов на различных стадиях производства:\n",
    "\n",
    "**золото:**   \n",
    "повышается по мере очистки и достигиает своих максимальных значений в конце технологического процесса  \n",
    "**серебро:**   \n",
    "повышается по завершению этапа флотации и по мере очистики начианет снижаться  \n",
    "**свинец:**   \n",
    "содержание свинца начинает подниматься по завершению эатапа флотации и сохраняется либо незначительно увеличивается на этапах очистки\n"
   ]
  },
  {
   "cell_type": "markdown",
   "metadata": {},
   "source": [
    "Обнаружены выбросы и нулевые значения концентрация, которые можно принять за аномалии. Избавимся от них.\n"
   ]
  },
  {
   "cell_type": "code",
   "execution_count": 36,
   "metadata": {},
   "outputs": [
    {
     "data": {
      "text/plain": [
       "(19439, 91)"
      ]
     },
     "execution_count": 36,
     "metadata": {},
     "output_type": "execute_result"
    }
   ],
   "source": [
    "df.shape"
   ]
  },
  {
   "cell_type": "code",
   "execution_count": 37,
   "metadata": {},
   "outputs": [
    {
     "name": "stdout",
     "output_type": "stream",
     "text": [
      "Найдены выбросы: 476\n"
     ]
    }
   ],
   "source": [
    "crude = 'rougher.input.feed_'\n",
    "crude_out = 'rougher.output.concentrate_'\n",
    "prim_clean = 'primary_cleaner.output.concentrate_'\n",
    "final = 'final.output.concentrate_'\n",
    "\n",
    "cols_clean = [crude+'au', crude+'ag', crude+'pb', \n",
    "             crude_out+'au', crude_out+'ag', crude_out+'pb',\n",
    "             prim_clean+'au', prim_clean+'ag', prim_clean+'pb',\n",
    "             final+'au', final+'ag', final+'pb']\n",
    "for col in cols_clean:\n",
    "    q25, q75 = df[col].quantile(q=0.25), df[col].quantile(q=0.75)\n",
    "    iqr = q75 - q25\n",
    "    cut_off = iqr * 1.5\n",
    "    lower, upper = q25 - cut_off, q75 + cut_off\n",
    "    outliers = [x for x in df[col] if x < lower or x > upper]\n",
    "    outliers_removed = [x for x in df[col] if x > lower and x < upper]\n",
    "\n",
    "print('Найдены выбросы: %d' % len(outliers))"
   ]
  },
  {
   "cell_type": "code",
   "execution_count": 38,
   "metadata": {},
   "outputs": [
    {
     "data": {
      "text/html": [
       "<div>\n",
       "<style scoped>\n",
       "    .dataframe tbody tr th:only-of-type {\n",
       "        vertical-align: middle;\n",
       "    }\n",
       "\n",
       "    .dataframe tbody tr th {\n",
       "        vertical-align: top;\n",
       "    }\n",
       "\n",
       "    .dataframe thead th {\n",
       "        text-align: right;\n",
       "    }\n",
       "</style>\n",
       "<table border=\"1\" class=\"dataframe\">\n",
       "  <thead>\n",
       "    <tr style=\"text-align: right;\">\n",
       "      <th></th>\n",
       "      <th>rougher.input.feed_au</th>\n",
       "      <th>rougher.input.feed_ag</th>\n",
       "      <th>rougher.input.feed_pb</th>\n",
       "      <th>rougher.output.concentrate_au</th>\n",
       "      <th>rougher.output.concentrate_ag</th>\n",
       "      <th>rougher.output.concentrate_pb</th>\n",
       "      <th>primary_cleaner.output.concentrate_au</th>\n",
       "      <th>primary_cleaner.output.concentrate_ag</th>\n",
       "      <th>primary_cleaner.output.concentrate_pb</th>\n",
       "      <th>final.output.concentrate_au</th>\n",
       "      <th>final.output.concentrate_ag</th>\n",
       "      <th>final.output.concentrate_pb</th>\n",
       "    </tr>\n",
       "  </thead>\n",
       "  <tbody>\n",
       "    <tr>\n",
       "      <th>43</th>\n",
       "      <td>6.845632</td>\n",
       "      <td>6.988699</td>\n",
       "      <td>2.552393</td>\n",
       "      <td>19.161033</td>\n",
       "      <td>12.046412</td>\n",
       "      <td>7.158107</td>\n",
       "      <td>36.080017</td>\n",
       "      <td>8.830847</td>\n",
       "      <td>9.610998</td>\n",
       "      <td>45.358076</td>\n",
       "      <td>5.110753</td>\n",
       "      <td>10.726356</td>\n",
       "    </tr>\n",
       "    <tr>\n",
       "      <th>52</th>\n",
       "      <td>7.275418</td>\n",
       "      <td>7.634960</td>\n",
       "      <td>3.084302</td>\n",
       "      <td>18.861112</td>\n",
       "      <td>11.116853</td>\n",
       "      <td>7.855568</td>\n",
       "      <td>34.413681</td>\n",
       "      <td>9.492328</td>\n",
       "      <td>10.462952</td>\n",
       "      <td>43.561270</td>\n",
       "      <td>5.311343</td>\n",
       "      <td>11.675848</td>\n",
       "    </tr>\n",
       "    <tr>\n",
       "      <th>53</th>\n",
       "      <td>7.275729</td>\n",
       "      <td>7.383200</td>\n",
       "      <td>2.806724</td>\n",
       "      <td>19.326225</td>\n",
       "      <td>10.795206</td>\n",
       "      <td>7.549066</td>\n",
       "      <td>36.076596</td>\n",
       "      <td>8.777859</td>\n",
       "      <td>10.486529</td>\n",
       "      <td>44.180403</td>\n",
       "      <td>4.936983</td>\n",
       "      <td>11.510876</td>\n",
       "    </tr>\n",
       "    <tr>\n",
       "      <th>54</th>\n",
       "      <td>7.265136</td>\n",
       "      <td>7.363098</td>\n",
       "      <td>2.686249</td>\n",
       "      <td>18.084765</td>\n",
       "      <td>11.594501</td>\n",
       "      <td>6.652797</td>\n",
       "      <td>38.268395</td>\n",
       "      <td>8.009489</td>\n",
       "      <td>10.060492</td>\n",
       "      <td>45.490060</td>\n",
       "      <td>4.562255</td>\n",
       "      <td>11.015968</td>\n",
       "    </tr>\n",
       "    <tr>\n",
       "      <th>55</th>\n",
       "      <td>7.094447</td>\n",
       "      <td>7.435331</td>\n",
       "      <td>2.565581</td>\n",
       "      <td>19.107428</td>\n",
       "      <td>11.304290</td>\n",
       "      <td>7.130568</td>\n",
       "      <td>37.821583</td>\n",
       "      <td>8.321753</td>\n",
       "      <td>9.737570</td>\n",
       "      <td>46.924587</td>\n",
       "      <td>4.498173</td>\n",
       "      <td>10.570763</td>\n",
       "    </tr>\n",
       "  </tbody>\n",
       "</table>\n",
       "</div>"
      ],
      "text/plain": [
       "    rougher.input.feed_au  rougher.input.feed_ag  rougher.input.feed_pb  \\\n",
       "43               6.845632               6.988699               2.552393   \n",
       "52               7.275418               7.634960               3.084302   \n",
       "53               7.275729               7.383200               2.806724   \n",
       "54               7.265136               7.363098               2.686249   \n",
       "55               7.094447               7.435331               2.565581   \n",
       "\n",
       "    rougher.output.concentrate_au  rougher.output.concentrate_ag  \\\n",
       "43                      19.161033                      12.046412   \n",
       "52                      18.861112                      11.116853   \n",
       "53                      19.326225                      10.795206   \n",
       "54                      18.084765                      11.594501   \n",
       "55                      19.107428                      11.304290   \n",
       "\n",
       "    rougher.output.concentrate_pb  primary_cleaner.output.concentrate_au  \\\n",
       "43                       7.158107                              36.080017   \n",
       "52                       7.855568                              34.413681   \n",
       "53                       7.549066                              36.076596   \n",
       "54                       6.652797                              38.268395   \n",
       "55                       7.130568                              37.821583   \n",
       "\n",
       "    primary_cleaner.output.concentrate_ag  \\\n",
       "43                               8.830847   \n",
       "52                               9.492328   \n",
       "53                               8.777859   \n",
       "54                               8.009489   \n",
       "55                               8.321753   \n",
       "\n",
       "    primary_cleaner.output.concentrate_pb  final.output.concentrate_au  \\\n",
       "43                               9.610998                    45.358076   \n",
       "52                              10.462952                    43.561270   \n",
       "53                              10.486529                    44.180403   \n",
       "54                              10.060492                    45.490060   \n",
       "55                               9.737570                    46.924587   \n",
       "\n",
       "    final.output.concentrate_ag  final.output.concentrate_pb  \n",
       "43                     5.110753                    10.726356  \n",
       "52                     5.311343                    11.675848  \n",
       "53                     4.936983                    11.510876  \n",
       "54                     4.562255                    11.015968  \n",
       "55                     4.498173                    10.570763  "
      ]
     },
     "execution_count": 38,
     "metadata": {},
     "output_type": "execute_result"
    }
   ],
   "source": [
    "low = .10\n",
    "high = .95\n",
    "quant_df = df[cols_clean].quantile([low, high])\n",
    "df_clean = df[cols_clean].apply(lambda x: x[(x > quant_df.loc[low, x.name]) & \n",
    "                                     (x < quant_df.loc[high, x.name])], axis=0)\n",
    "df_clean.dropna(inplace=True)\n",
    "df_clean.head()"
   ]
  },
  {
   "cell_type": "code",
   "execution_count": 39,
   "metadata": {},
   "outputs": [],
   "source": [
    "df_clean['сырье'] = df_clean[[crude+'au', crude+'ag', crude+'pb']].sum(axis=1)\n",
    "df_clean['черновой концентрат'] = df_clean[[crude_out+'au', crude_out+'ag', crude_out+'pb']].sum(axis=1)\n",
    "df_clean['концентрат после очистки'] = df_clean[[prim_clean+'au', prim_clean+'ag', prim_clean+'pb']].sum(axis=1)\n",
    "df_clean['финальный концентрат'] = df_clean[[final+'au', final+'ag', final+'pb']].sum(axis=1)"
   ]
  },
  {
   "cell_type": "code",
   "execution_count": 40,
   "metadata": {},
   "outputs": [
    {
     "data": {
      "image/png": "[encoded data removed]",
      "text/plain": [
       "<Figure size 1080x720 with 1 Axes>"
      ]
     },
     "metadata": {
      "needs_background": "light"
     },
     "output_type": "display_data"
    }
   ],
   "source": [
    "col_1 = ['сырье', 'черновой концентрат', 'концентрат после очистки', 'финальный концентрат']\n",
    "\n",
    "plt.figure(figsize=(15,10))\n",
    "sns.boxplot(data=df_clean[col_1], linewidth=0.42, palette=\"Set2\")\n",
    "plt.title('Суммарная концентрация всех веществ после обработки', fontsize=15)\n",
    "plt.show()"
   ]
  },
  {
   "cell_type": "code",
   "execution_count": 41,
   "metadata": {},
   "outputs": [
    {
     "data": {
      "text/plain": [
       "(6751, 16)"
      ]
     },
     "execution_count": 41,
     "metadata": {},
     "output_type": "execute_result"
    }
   ],
   "source": [
    "df_clean.shape"
   ]
  },
  {
   "cell_type": "markdown",
   "metadata": {},
   "source": [
    "Подготовим очищенные данные"
   ]
  },
  {
   "cell_type": "markdown",
   "metadata": {},
   "source": [
    "**Rougher**"
   ]
  },
  {
   "cell_type": "code",
   "execution_count": 42,
   "metadata": {},
   "outputs": [
    {
     "data": {
      "text/plain": [
       "((5343, 22), (1468, 22), (5343, 1))"
      ]
     },
     "execution_count": 42,
     "metadata": {},
     "output_type": "execute_result"
    }
   ],
   "source": [
    "X_train_rougher_clean = X_train_rougher[X_train_rougher.index.isin(df_clean.index)]\n",
    "X_test_rougher_clean = X_test_rougher[X_test_rougher.index.isin(df_clean.index)]\n",
    "y_train_rougher_clean = train[['rougher.output.recovery']][train.index.isin(df_clean.index)]\n",
    "X_train_rougher_clean.shape, X_test_rougher_clean.shape, y_train_rougher_clean.shape"
   ]
  },
  {
   "cell_type": "markdown",
   "metadata": {},
   "source": [
    "**Final**"
   ]
  },
  {
   "cell_type": "code",
   "execution_count": 43,
   "metadata": {},
   "outputs": [
    {
     "data": {
      "text/plain": [
       "((5343, 30), (1468, 30), (5343, 1))"
      ]
     },
     "execution_count": 43,
     "metadata": {},
     "output_type": "execute_result"
    }
   ],
   "source": [
    "X_train_final_clean = X_train_final[X_train_final.index.isin(df_clean.index)]\n",
    "X_test_final_clean = X_test_final[X_test_final.index.isin(df_clean.index)]\n",
    "y_train_final_clean = train[['final.output.recovery']][train.index.isin(df_clean.index)]\n",
    "X_train_final_clean.shape, X_test_final_clean.shape, y_train_final_clean.shape"
   ]
  },
  {
   "cell_type": "markdown",
   "metadata": {},
   "source": [
    "## Модель"
   ]
  },
  {
   "cell_type": "markdown",
   "metadata": {},
   "source": [
    "### sMAPE"
   ]
  },
  {
   "cell_type": "code",
   "execution_count": 44,
   "metadata": {},
   "outputs": [],
   "source": [
    "def smape(y_true, y_pred):\n",
    "    y_true = np.array(y_true)\n",
    "    y_pred = np.array(y_pred)\n",
    "    total = 0\n",
    "    for i in range(len(y_true)):\n",
    "        total += abs(y_true[i] - y_pred[i]) / ((abs(y_true[i]) + abs(y_pred[i]))/2)\n",
    "        smape = abs(total*100 / len(y_true))\n",
    "    return abs(smape)"
   ]
  },
  {
   "cell_type": "code",
   "execution_count": 45,
   "metadata": {},
   "outputs": [],
   "source": [
    "scorer = make_scorer(smape, greater_is_better=False)"
   ]
  },
  {
   "cell_type": "code",
   "execution_count": 46,
   "metadata": {},
   "outputs": [],
   "source": [
    "def smape_final(smape_rougher, smape_final):\n",
    "    smape_final = (0.25 * smape_rougher + 0.75 * smape_final)\n",
    "    return smape_final"
   ]
  },
  {
   "cell_type": "markdown",
   "metadata": {},
   "source": [
    "Подготовлены функции расчёта целевой метрики."
   ]
  },
  {
   "cell_type": "markdown",
   "metadata": {},
   "source": [
    "### Pipeline"
   ]
  },
  {
   "cell_type": "markdown",
   "metadata": {},
   "source": [
    "На предыдущем этапе выяснили:\n",
    "- нулевые значений целевых признаков\n",
    "- nan пропуски в признаках\n",
    "\n",
    "Напишем функции, которые необходимо будет применять перед обучением модели для автоматизации процесса\n"
   ]
  },
  {
   "cell_type": "code",
   "execution_count": 47,
   "metadata": {},
   "outputs": [],
   "source": [
    "def ffill_y (target):\n",
    "    target = target.ffill()\n",
    "    return target\n",
    "\n",
    "def drop_zeros(X_train, y_train):\n",
    "    y_train = y_train[(y_train != 0).all(1)]  \n",
    "    X_train = X_train.loc[y_train.index, :]\n",
    "    return X_train, y_train"
   ]
  },
  {
   "cell_type": "code",
   "execution_count": 48,
   "metadata": {},
   "outputs": [],
   "source": [
    "y_train_rougher_1 = ffill_y(y_train_rougher)\n",
    "y_train_final_1 =  ffill_y(y_train_final)\n",
    "\n",
    "X_train_rougher_pred, y_train_rougher_pred = drop_zeros(X_train_rougher, y_train_rougher_1)\n",
    "X_train_final_pred, y_train_final_pred = drop_zeros(X_train_final, y_train_final_1)"
   ]
  },
  {
   "cell_type": "markdown",
   "metadata": {},
   "source": [
    "**Выборка с выбросами**"
   ]
  },
  {
   "cell_type": "code",
   "execution_count": 49,
   "metadata": {},
   "outputs": [],
   "source": [
    "num_pipeline_rougher = Pipeline([\n",
    "        ('imputer', SimpleImputer(missing_values=np.nan, strategy='mean')),\n",
    "        ('std_scaler', StandardScaler()),\n",
    "    ])\n",
    "\n",
    "num_pipeline_final = Pipeline([\n",
    "        ('imputer', SimpleImputer(missing_values=np.nan, strategy='mean')),\n",
    "        ('std_scaler', StandardScaler()),\n",
    "    ])"
   ]
  },
  {
   "cell_type": "code",
   "execution_count": 50,
   "metadata": {},
   "outputs": [],
   "source": [
    "X_train_rougher_prep = num_pipeline_rougher.fit_transform(X_train_rougher_pred)\n",
    "X_train_final_prep = num_pipeline_final.fit_transform(X_train_final_pred)"
   ]
  },
  {
   "cell_type": "markdown",
   "metadata": {},
   "source": [
    "**Без выбросов**"
   ]
  },
  {
   "cell_type": "code",
   "execution_count": 51,
   "metadata": {},
   "outputs": [],
   "source": [
    "num_pipeline_rougher_clean = Pipeline([\n",
    "        ('imputer', SimpleImputer(missing_values=np.nan, strategy='mean')),\n",
    "        ('std_scaler', StandardScaler()),\n",
    "    ])\n",
    "\n",
    "num_pipeline_final_clean = Pipeline([\n",
    "        ('imputer', SimpleImputer(missing_values=np.nan, strategy='mean')),\n",
    "        ('std_scaler', StandardScaler()),\n",
    "    ])"
   ]
  },
  {
   "cell_type": "code",
   "execution_count": 52,
   "metadata": {},
   "outputs": [],
   "source": [
    "y_train_rougher_2 = ffill_y(y_train_rougher_clean)\n",
    "y_train_final_2 =  ffill_y(y_train_final_clean)\n",
    "\n",
    "X_train_rougher_pred_clean, y_train_rougher_pred_clean = drop_zeros(X_train_rougher_clean, y_train_rougher_2)\n",
    "X_train_final_pred_clean, y_train_final_pred_clean = drop_zeros(X_train_final_clean, y_train_final_2)"
   ]
  },
  {
   "cell_type": "code",
   "execution_count": 53,
   "metadata": {},
   "outputs": [],
   "source": [
    "X_train_rougher_prep_clean = num_pipeline_rougher_clean.fit_transform(X_train_rougher_pred_clean)\n",
    "X_train_final_prep_clean = num_pipeline_final_clean.fit_transform(X_train_final_pred_clean)"
   ]
  },
  {
   "cell_type": "markdown",
   "metadata": {},
   "source": [
    "### Подбор модели"
   ]
  },
  {
   "cell_type": "code",
   "execution_count": 54,
   "metadata": {},
   "outputs": [],
   "source": [
    "models = [RandomForestRegressor(random_state=1589), LinearRegression(), Lasso(alpha=0.1)]"
   ]
  },
  {
   "cell_type": "code",
   "execution_count": 55,
   "metadata": {},
   "outputs": [
    {
     "name": "stdout",
     "output_type": "stream",
     "text": [
      "CPU times: user 1min 12s, sys: 3.49 s, total: 1min 15s\n",
      "Wall time: 1min 15s\n"
     ]
    }
   ],
   "source": [
    "%%time\n",
    "results_cross_val = []\n",
    "for model in models: \n",
    "            \n",
    "    cross_val_score_rougher = cross_val_score(model, \n",
    "                                              X_train_rougher_prep_clean, \n",
    "                                              y_train_rougher_pred_clean, \n",
    "                                              cv=5, scoring=scorer).mean()\n",
    "    cross_val_score_final = cross_val_score(model, \n",
    "                                            X_train_final_prep_clean, \n",
    "                                            y_train_final_pred_clean, \n",
    "                                            cv=5, scoring=scorer).mean()\n",
    "\n",
    "    results_cross_val.append({'model name': model.__class__.__name__, \n",
    "                              'cross_val_score_rougher': cross_val_score_rougher, \n",
    "                              'cross_val_score_final': cross_val_score_final}) \n",
    "              \n",
    "result_clean = pd.DataFrame(results_cross_val)"
   ]
  },
  {
   "cell_type": "code",
   "execution_count": 56,
   "metadata": {},
   "outputs": [
    {
     "data": {
      "text/html": [
       "<div>\n",
       "<style scoped>\n",
       "    .dataframe tbody tr th:only-of-type {\n",
       "        vertical-align: middle;\n",
       "    }\n",
       "\n",
       "    .dataframe tbody tr th {\n",
       "        vertical-align: top;\n",
       "    }\n",
       "\n",
       "    .dataframe thead th {\n",
       "        text-align: right;\n",
       "    }\n",
       "</style>\n",
       "<table border=\"1\" class=\"dataframe\">\n",
       "  <thead>\n",
       "    <tr style=\"text-align: right;\">\n",
       "      <th></th>\n",
       "      <th>model name</th>\n",
       "      <th>cross_val_score_rougher</th>\n",
       "      <th>cross_val_score_final</th>\n",
       "    </tr>\n",
       "  </thead>\n",
       "  <tbody>\n",
       "    <tr>\n",
       "      <th>0</th>\n",
       "      <td>RandomForestRegressor</td>\n",
       "      <td>-6.234666</td>\n",
       "      <td>-10.689302</td>\n",
       "    </tr>\n",
       "    <tr>\n",
       "      <th>1</th>\n",
       "      <td>LinearRegression</td>\n",
       "      <td>-6.404057</td>\n",
       "      <td>-9.951867</td>\n",
       "    </tr>\n",
       "    <tr>\n",
       "      <th>2</th>\n",
       "      <td>Lasso</td>\n",
       "      <td>-6.197943</td>\n",
       "      <td>-9.519289</td>\n",
       "    </tr>\n",
       "  </tbody>\n",
       "</table>\n",
       "</div>"
      ],
      "text/plain": [
       "              model name  cross_val_score_rougher  cross_val_score_final\n",
       "0  RandomForestRegressor                -6.234666             -10.689302\n",
       "1       LinearRegression                -6.404057              -9.951867\n",
       "2                  Lasso                -6.197943              -9.519289"
      ]
     },
     "execution_count": 56,
     "metadata": {},
     "output_type": "execute_result"
    }
   ],
   "source": [
    "result_clean"
   ]
  },
  {
   "cell_type": "markdown",
   "metadata": {},
   "source": [
    "Лучший результат **Lasso**. Попробуем подобрать параметры для улучшения результата."
   ]
  },
  {
   "cell_type": "code",
   "execution_count": 57,
   "metadata": {},
   "outputs": [
    {
     "name": "stdout",
     "output_type": "stream",
     "text": [
      "CPU times: user 14.5 s, sys: 26.1 s, total: 40.6 s\n",
      "Wall time: 40.8 s\n"
     ]
    },
    {
     "data": {
      "text/plain": [
       "GridSearchCV(cv=5, estimator=Lasso(alpha=0.1, max_iter=750, normalize=True),\n",
       "             param_grid=[{'alpha': [0.1, 0.2, 0, 3],\n",
       "                          'fit_intercept': [True, False],\n",
       "                          'normalize': [True, False]}],\n",
       "             return_train_score=True,\n",
       "             scoring=make_scorer(smape, greater_is_better=False))"
      ]
     },
     "execution_count": 57,
     "metadata": {},
     "output_type": "execute_result"
    }
   ],
   "source": [
    "%%time\n",
    "param_grid = [{'fit_intercept': [True, False],\n",
    "               'alpha': [0.1, 0.2, 0,3],\n",
    "              'normalize': [True, False]}\n",
    "             ]\n",
    "\n",
    "lasso_reg = Lasso(alpha=0.1, normalize=True, max_iter=750)\n",
    "\n",
    "grid_search_clean = GridSearchCV(lasso_reg, param_grid, cv=5,\n",
    "                           scoring=scorer, return_train_score=True)\n",
    "grid_search_clean.fit(X_train_rougher_prep_clean, y_train_rougher_pred_clean)"
   ]
  },
  {
   "cell_type": "code",
   "execution_count": 58,
   "metadata": {},
   "outputs": [
    {
     "data": {
      "text/plain": [
       "{'alpha': 0.2, 'fit_intercept': True, 'normalize': False}"
      ]
     },
     "execution_count": 58,
     "metadata": {},
     "output_type": "execute_result"
    }
   ],
   "source": [
    "grid_search_clean.best_params_"
   ]
  },
  {
   "cell_type": "markdown",
   "metadata": {},
   "source": [
    "**Rougher**"
   ]
  },
  {
   "cell_type": "code",
   "execution_count": 59,
   "metadata": {},
   "outputs": [],
   "source": [
    "final_model = grid_search_clean.best_estimator_\n",
    "\n",
    "X_test_rougher_pred_clean = num_pipeline_rougher_clean.transform(X_test_rougher_clean)\n",
    "y_test_clean = ffill_y(df.loc[X_test_rougher_clean.index, 'rougher.output.recovery'])\n",
    "\n",
    "final_predictions = final_model.predict(X_test_rougher_pred_clean) "
   ]
  },
  {
   "cell_type": "code",
   "execution_count": 60,
   "metadata": {},
   "outputs": [
    {
     "data": {
      "text/plain": [
       "8.146431825047463"
      ]
     },
     "execution_count": 60,
     "metadata": {},
     "output_type": "execute_result"
    }
   ],
   "source": [
    "rougher_clean = smape(final_predictions, y_test_clean)\n",
    "rougher_clean "
   ]
  },
  {
   "cell_type": "markdown",
   "metadata": {},
   "source": [
    "**Final**"
   ]
  },
  {
   "cell_type": "code",
   "execution_count": 61,
   "metadata": {},
   "outputs": [
    {
     "name": "stdout",
     "output_type": "stream",
     "text": [
      "CPU times: user 18.4 s, sys: 35.9 s, total: 54.3 s\n",
      "Wall time: 54.3 s\n"
     ]
    },
    {
     "data": {
      "text/plain": [
       "GridSearchCV(cv=5, estimator=Lasso(alpha=0.1, max_iter=750, normalize=True),\n",
       "             param_grid=[{'alpha': [0.1, 0.2, 0, 3],\n",
       "                          'fit_intercept': [True, False],\n",
       "                          'normalize': [True, False]}],\n",
       "             return_train_score=True,\n",
       "             scoring=make_scorer(smape, greater_is_better=False))"
      ]
     },
     "execution_count": 61,
     "metadata": {},
     "output_type": "execute_result"
    }
   ],
   "source": [
    "%%time\n",
    "param_grid = [{'fit_intercept': [True, False],\n",
    "               'alpha': [0.1, 0.2, 0,3],\n",
    "              'normalize': [True, False]},\n",
    "             ]\n",
    "\n",
    "lasso_reg_final_clean = Lasso(alpha=0.1, normalize=True, max_iter=750)\n",
    "\n",
    "grid_search_final_clean = GridSearchCV(lasso_reg_final_clean, param_grid, cv=5,\n",
    "                           scoring=scorer, return_train_score=True)\n",
    "grid_search_final_clean.fit(X_train_final_prep_clean, y_train_final_pred_clean)"
   ]
  },
  {
   "cell_type": "code",
   "execution_count": 62,
   "metadata": {},
   "outputs": [],
   "source": [
    "final_model_fin = grid_search_final_clean.best_estimator_\n",
    "X_test_final_pred_clean = num_pipeline_final_clean.transform(X_test_final_clean)\n",
    "y_test_fin_clean = ffill_y(df.loc[X_test_final_clean.index, 'final.output.recovery'])\n",
    "\n",
    "final_predictions_final = final_model_fin.predict(X_test_final_pred_clean)\n"
   ]
  },
  {
   "cell_type": "code",
   "execution_count": 63,
   "metadata": {},
   "outputs": [
    {
     "data": {
      "text/plain": [
       "9.025618084365028"
      ]
     },
     "execution_count": 63,
     "metadata": {},
     "output_type": "execute_result"
    }
   ],
   "source": [
    "final_clean = smape(final_predictions_final, y_test_fin_clean)\n",
    "final_clean"
   ]
  },
  {
   "cell_type": "markdown",
   "metadata": {},
   "source": [
    "**Константная модель**"
   ]
  },
  {
   "cell_type": "code",
   "execution_count": 64,
   "metadata": {},
   "outputs": [
    {
     "name": "stdout",
     "output_type": "stream",
     "text": [
      "7.030476031310527\n",
      "6.381394978071765\n"
     ]
    }
   ],
   "source": [
    "predicted_valid_rog = pd.Series(y_train_rougher_pred_clean['rougher.output.recovery'].mean(), index=y_test_clean.index)\n",
    "rog = smape(y_test_clean, predicted_valid_rog)\n",
    "\n",
    "predicted_valid_fin = pd.Series(y_train_final_pred_clean['final.output.recovery'].mean(), index=y_test_fin_clean.index)\n",
    "fin = smape(y_test_fin_clean, predicted_valid_fin)\n",
    "\n",
    "\n",
    "print(rog)\n",
    "print(fin)"
   ]
  },
  {
   "cell_type": "markdown",
   "metadata": {},
   "source": [
    "**Вывод**"
   ]
  },
  {
   "cell_type": "markdown",
   "metadata": {},
   "source": [
    "В результате проведенного исследования, выяснили что предоставленный тестовый сет отличается по содержанию от обучающего.  \n",
    "\n",
    "В ходе исследования выяснили, что в сетах присутствуют аномалии - нулевые значения концентраций веществ, что может являться ошибкой.\n",
    "\n",
    "Мы обучили модели на двух группах даннах - с выбросами и без выбросов. Лучший результат по метрике sMAPE показала модель Lasso, модель незначительно лучше константной.\n"
   ]
  }
 ],
 "metadata": {
  "ExecuteTimeLog": [
   {
    "duration": 2579,
    "start_time": "2023-02-08T08:51:16.044Z"
   },
   {
    "duration": 4,
    "start_time": "2023-02-08T08:51:52.457Z"
   },
   {
    "duration": 4,
    "start_time": "2023-02-08T08:52:33.419Z"
   },
   {
    "duration": 1048,
    "start_time": "2023-02-08T08:54:21.797Z"
   },
   {
    "duration": 4,
    "start_time": "2023-02-08T08:55:22.463Z"
   },
   {
    "duration": 1680,
    "start_time": "2023-02-08T09:04:25.328Z"
   },
   {
    "duration": 4,
    "start_time": "2023-02-08T09:04:27.010Z"
   },
   {
    "duration": 5,
    "start_time": "2023-02-08T09:04:55.856Z"
   },
   {
    "duration": 101,
    "start_time": "2023-02-08T09:06:02.692Z"
   },
   {
    "duration": 4,
    "start_time": "2023-02-08T09:07:07.944Z"
   },
   {
    "duration": 556,
    "start_time": "2023-02-08T09:07:21.522Z"
   },
   {
    "duration": 5,
    "start_time": "2023-02-08T14:13:04.956Z"
   },
   {
    "duration": 6,
    "start_time": "2023-02-08T14:13:14.030Z"
   },
   {
    "duration": 4,
    "start_time": "2023-02-08T14:20:03.507Z"
   },
   {
    "duration": 9,
    "start_time": "2023-02-08T14:50:59.880Z"
   },
   {
    "duration": 14,
    "start_time": "2023-02-08T14:51:35.760Z"
   },
   {
    "duration": 5,
    "start_time": "2023-02-08T14:56:38.495Z"
   },
   {
    "duration": 5,
    "start_time": "2023-02-08T14:56:55.257Z"
   },
   {
    "duration": 5,
    "start_time": "2023-02-08T14:57:15.848Z"
   },
   {
    "duration": 5,
    "start_time": "2023-02-08T14:57:25.980Z"
   },
   {
    "duration": 4,
    "start_time": "2023-02-08T15:00:31.864Z"
   },
   {
    "duration": 4,
    "start_time": "2023-02-08T15:11:23.130Z"
   },
   {
    "duration": 248,
    "start_time": "2023-02-08T15:11:57.585Z"
   },
   {
    "duration": 255,
    "start_time": "2023-02-08T15:12:03.158Z"
   },
   {
    "duration": 8,
    "start_time": "2023-02-08T15:12:21.189Z"
   },
   {
    "duration": 4,
    "start_time": "2023-02-08T15:12:35.862Z"
   },
   {
    "duration": 5,
    "start_time": "2023-02-08T15:13:03.885Z"
   },
   {
    "duration": 5,
    "start_time": "2023-02-08T15:13:47.324Z"
   },
   {
    "duration": 23,
    "start_time": "2023-02-08T15:20:23.594Z"
   },
   {
    "duration": 21,
    "start_time": "2023-02-08T15:20:48.719Z"
   },
   {
    "duration": 23,
    "start_time": "2023-02-08T15:20:55.879Z"
   },
   {
    "duration": 7,
    "start_time": "2023-02-08T15:21:52.046Z"
   },
   {
    "duration": 13,
    "start_time": "2023-02-08T15:23:52.261Z"
   },
   {
    "duration": 18,
    "start_time": "2023-02-08T15:24:09.500Z"
   },
   {
    "duration": 12,
    "start_time": "2023-02-08T15:35:22.364Z"
   },
   {
    "duration": 23,
    "start_time": "2023-02-08T15:42:03.179Z"
   },
   {
    "duration": 24,
    "start_time": "2023-02-08T15:42:07.132Z"
   },
   {
    "duration": 8,
    "start_time": "2023-02-08T15:42:38.575Z"
   },
   {
    "duration": 5,
    "start_time": "2023-02-08T15:42:51.845Z"
   },
   {
    "duration": 4,
    "start_time": "2023-02-08T15:42:52.476Z"
   },
   {
    "duration": 4,
    "start_time": "2023-02-08T15:44:50.688Z"
   },
   {
    "duration": 7,
    "start_time": "2023-02-08T15:44:51.253Z"
   },
   {
    "duration": 5,
    "start_time": "2023-02-08T15:44:57.213Z"
   },
   {
    "duration": 4,
    "start_time": "2023-02-08T15:45:32.853Z"
   },
   {
    "duration": 1245,
    "start_time": "2023-02-08T15:46:30.224Z"
   },
   {
    "duration": 6,
    "start_time": "2023-02-08T15:47:10.118Z"
   },
   {
    "duration": 976,
    "start_time": "2023-02-08T15:47:11.481Z"
   },
   {
    "duration": 1231,
    "start_time": "2023-02-08T15:47:21.323Z"
   },
   {
    "duration": 1104,
    "start_time": "2023-02-08T15:47:33.866Z"
   },
   {
    "duration": 253,
    "start_time": "2023-02-08T15:49:18.135Z"
   },
   {
    "duration": 230,
    "start_time": "2023-02-08T15:50:32.720Z"
   },
   {
    "duration": 240,
    "start_time": "2023-02-08T15:52:10.257Z"
   },
   {
    "duration": 468,
    "start_time": "2023-02-08T15:53:23.353Z"
   },
   {
    "duration": 480,
    "start_time": "2023-02-08T15:53:34.736Z"
   },
   {
    "duration": 468,
    "start_time": "2023-02-08T15:53:41.852Z"
   },
   {
    "duration": 474,
    "start_time": "2023-02-08T15:54:10.838Z"
   },
   {
    "duration": 50,
    "start_time": "2023-02-08T15:56:23.824Z"
   },
   {
    "duration": 30,
    "start_time": "2023-02-08T15:56:30.061Z"
   },
   {
    "duration": 1447,
    "start_time": "2023-02-08T15:57:41.219Z"
   },
   {
    "duration": 29,
    "start_time": "2023-02-08T15:57:54.182Z"
   },
   {
    "duration": 4,
    "start_time": "2023-02-08T15:59:29.125Z"
   },
   {
    "duration": 19,
    "start_time": "2023-02-08T16:00:15.156Z"
   },
   {
    "duration": 188,
    "start_time": "2023-02-08T16:00:26.004Z"
   },
   {
    "duration": 4,
    "start_time": "2023-02-08T16:02:50.818Z"
   },
   {
    "duration": 3,
    "start_time": "2023-02-08T16:03:01.577Z"
   },
   {
    "duration": 3,
    "start_time": "2023-02-08T16:03:09.213Z"
   },
   {
    "duration": 5,
    "start_time": "2023-02-08T16:07:04.753Z"
   },
   {
    "duration": 5,
    "start_time": "2023-02-08T16:08:04.904Z"
   },
   {
    "duration": 10,
    "start_time": "2023-02-08T16:08:14.028Z"
   },
   {
    "duration": 14,
    "start_time": "2023-02-08T16:08:53.383Z"
   },
   {
    "duration": 8,
    "start_time": "2023-02-08T16:09:25.124Z"
   },
   {
    "duration": 11,
    "start_time": "2023-02-08T16:43:58.536Z"
   },
   {
    "duration": 39,
    "start_time": "2023-02-08T16:44:08.423Z"
   },
   {
    "duration": 3,
    "start_time": "2023-02-08T16:45:02.458Z"
   },
   {
    "duration": 3,
    "start_time": "2023-02-08T16:45:14.315Z"
   },
   {
    "duration": 265415,
    "start_time": "2023-02-08T16:45:16.236Z"
   },
   {
    "duration": 8,
    "start_time": "2023-02-08T16:55:12.987Z"
   },
   {
    "duration": 15,
    "start_time": "2023-02-08T17:17:04.415Z"
   },
   {
    "duration": 14,
    "start_time": "2023-02-08T17:17:09.403Z"
   },
   {
    "duration": 44,
    "start_time": "2023-02-08T17:17:19.299Z"
   },
   {
    "duration": 26,
    "start_time": "2023-02-08T17:17:36.740Z"
   },
   {
    "duration": 26,
    "start_time": "2023-02-08T17:17:45.321Z"
   },
   {
    "duration": 27,
    "start_time": "2023-02-08T17:19:15.167Z"
   },
   {
    "duration": 15,
    "start_time": "2023-02-08T17:20:33.262Z"
   },
   {
    "duration": 16,
    "start_time": "2023-02-08T17:21:32.843Z"
   },
   {
    "duration": 15,
    "start_time": "2023-02-08T17:21:39.421Z"
   },
   {
    "duration": 27,
    "start_time": "2023-02-08T17:21:45.722Z"
   },
   {
    "duration": 25,
    "start_time": "2023-02-08T17:22:00.850Z"
   },
   {
    "duration": 30007,
    "start_time": "2023-02-08T17:23:31.338Z"
   },
   {
    "duration": 3,
    "start_time": "2023-02-08T17:27:05.092Z"
   },
   {
    "duration": 3,
    "start_time": "2023-02-08T17:29:19.572Z"
   },
   {
    "duration": 4,
    "start_time": "2023-02-08T17:29:26.457Z"
   },
   {
    "duration": 206,
    "start_time": "2023-02-08T17:29:55.972Z"
   },
   {
    "duration": 13,
    "start_time": "2023-02-08T17:30:08.641Z"
   },
   {
    "duration": 30181,
    "start_time": "2023-02-09T05:44:11.268Z"
   },
   {
    "duration": 3,
    "start_time": "2023-02-09T05:45:05.281Z"
   },
   {
    "duration": 250,
    "start_time": "2023-02-09T05:45:14.430Z"
   },
   {
    "duration": 14,
    "start_time": "2023-02-09T05:45:22.445Z"
   },
   {
    "duration": 3,
    "start_time": "2023-02-09T05:45:38.983Z"
   },
   {
    "duration": 5,
    "start_time": "2023-02-09T05:45:43.705Z"
   },
   {
    "duration": 23,
    "start_time": "2023-02-09T05:48:38.869Z"
   },
   {
    "duration": 4,
    "start_time": "2023-02-09T05:48:47.241Z"
   },
   {
    "duration": 3,
    "start_time": "2023-02-09T05:52:25.800Z"
   },
   {
    "duration": 250238,
    "start_time": "2023-02-09T05:52:26.503Z"
   },
   {
    "duration": 9,
    "start_time": "2023-02-09T05:56:40.010Z"
   },
   {
    "duration": 9141,
    "start_time": "2023-02-09T05:58:15.808Z"
   },
   {
    "duration": 4,
    "start_time": "2023-02-09T05:58:34.899Z"
   },
   {
    "duration": 25,
    "start_time": "2023-02-09T05:58:44.024Z"
   },
   {
    "duration": 7010,
    "start_time": "2023-02-09T05:58:54.132Z"
   },
   {
    "duration": 27,
    "start_time": "2023-02-09T05:59:09.913Z"
   },
   {
    "duration": 4,
    "start_time": "2023-02-09T05:59:14.498Z"
   },
   {
    "duration": 23,
    "start_time": "2023-02-09T05:59:43.813Z"
   },
   {
    "duration": 25,
    "start_time": "2023-02-09T06:03:10.806Z"
   },
   {
    "duration": 4,
    "start_time": "2023-02-09T06:03:12.515Z"
   },
   {
    "duration": 61,
    "start_time": "2023-02-09T06:03:28.788Z"
   },
   {
    "duration": 5,
    "start_time": "2023-02-09T06:03:28.940Z"
   },
   {
    "duration": 21,
    "start_time": "2023-02-09T06:03:30.380Z"
   },
   {
    "duration": 5,
    "start_time": "2023-02-09T06:03:30.913Z"
   },
   {
    "duration": 24,
    "start_time": "2023-02-09T06:03:37.752Z"
   },
   {
    "duration": 21,
    "start_time": "2023-02-09T06:03:57.366Z"
   },
   {
    "duration": 4,
    "start_time": "2023-02-09T06:04:20.143Z"
   },
   {
    "duration": 21,
    "start_time": "2023-02-09T06:04:29.412Z"
   },
   {
    "duration": 535,
    "start_time": "2023-02-09T06:09:16.637Z"
   },
   {
    "duration": 50,
    "start_time": "2023-02-09T13:29:42.604Z"
   },
   {
    "duration": 5228,
    "start_time": "2023-02-09T15:47:52.886Z"
   },
   {
    "duration": 3226,
    "start_time": "2023-02-09T15:47:58.116Z"
   },
   {
    "duration": 2220,
    "start_time": "2023-02-09T15:48:03.472Z"
   },
   {
    "duration": 4,
    "start_time": "2023-02-09T15:48:07.015Z"
   },
   {
    "duration": 5,
    "start_time": "2023-02-09T15:48:07.610Z"
   },
   {
    "duration": 5,
    "start_time": "2023-02-09T15:48:08.080Z"
   },
   {
    "duration": 4,
    "start_time": "2023-02-09T15:48:09.680Z"
   },
   {
    "duration": 5,
    "start_time": "2023-02-09T15:48:10.704Z"
   },
   {
    "duration": 109,
    "start_time": "2023-02-09T15:48:12.091Z"
   },
   {
    "duration": 2569,
    "start_time": "2023-02-09T15:48:12.980Z"
   },
   {
    "duration": 5,
    "start_time": "2023-02-09T15:48:15.552Z"
   },
   {
    "duration": 19,
    "start_time": "2023-02-09T15:48:15.560Z"
   },
   {
    "duration": 3,
    "start_time": "2023-02-09T15:48:27.564Z"
   },
   {
    "duration": 168,
    "start_time": "2023-02-09T15:48:29.225Z"
   },
   {
    "duration": 29,
    "start_time": "2023-02-09T15:48:40.133Z"
   },
   {
    "duration": 4,
    "start_time": "2023-02-09T15:48:56.875Z"
   },
   {
    "duration": 181,
    "start_time": "2023-02-09T15:48:57.309Z"
   },
   {
    "duration": 151,
    "start_time": "2023-02-09T21:52:52.022Z"
   },
   {
    "duration": 51,
    "start_time": "2023-02-09T21:53:11.857Z"
   },
   {
    "duration": 143,
    "start_time": "2023-02-09T21:54:15.712Z"
   },
   {
    "duration": 1329,
    "start_time": "2023-02-09T21:54:22.714Z"
   },
   {
    "duration": 11,
    "start_time": "2023-02-09T21:54:40.618Z"
   },
   {
    "duration": 1426,
    "start_time": "2023-02-09T21:54:41.760Z"
   },
   {
    "duration": 133,
    "start_time": "2023-02-10T05:58:22.613Z"
   },
   {
    "duration": 47,
    "start_time": "2023-02-10T05:58:27.407Z"
   },
   {
    "duration": 11,
    "start_time": "2023-02-10T05:58:29.468Z"
   },
   {
    "duration": 1252,
    "start_time": "2023-02-10T05:58:31.750Z"
   },
   {
    "duration": 143,
    "start_time": "2023-02-10T06:00:07.285Z"
   },
   {
    "duration": 138,
    "start_time": "2023-02-10T06:00:11.582Z"
   },
   {
    "duration": 142,
    "start_time": "2023-02-10T06:00:17.678Z"
   },
   {
    "duration": 50,
    "start_time": "2023-02-10T06:00:21.705Z"
   },
   {
    "duration": 16,
    "start_time": "2023-02-10T06:04:24.362Z"
   },
   {
    "duration": 2359,
    "start_time": "2023-02-10T06:04:33.903Z"
   },
   {
    "duration": 2942,
    "start_time": "2023-02-10T06:04:36.264Z"
   },
   {
    "duration": 1942,
    "start_time": "2023-02-10T06:04:39.208Z"
   },
   {
    "duration": 4,
    "start_time": "2023-02-10T06:04:41.152Z"
   },
   {
    "duration": 8,
    "start_time": "2023-02-10T06:04:41.158Z"
   },
   {
    "duration": 7,
    "start_time": "2023-02-10T06:04:41.168Z"
   },
   {
    "duration": 5,
    "start_time": "2023-02-10T06:04:41.177Z"
   },
   {
    "duration": 5,
    "start_time": "2023-02-10T06:04:41.184Z"
   },
   {
    "duration": 100,
    "start_time": "2023-02-10T06:04:41.194Z"
   },
   {
    "duration": 2212,
    "start_time": "2023-02-10T06:04:41.297Z"
   },
   {
    "duration": 5,
    "start_time": "2023-02-10T06:04:43.511Z"
   },
   {
    "duration": 21,
    "start_time": "2023-02-10T06:04:43.518Z"
   },
   {
    "duration": 54,
    "start_time": "2023-02-10T06:04:43.541Z"
   },
   {
    "duration": 313,
    "start_time": "2023-02-10T06:04:43.597Z"
   },
   {
    "duration": 5,
    "start_time": "2023-02-10T06:04:43.911Z"
   },
   {
    "duration": 47,
    "start_time": "2023-02-10T06:04:43.917Z"
   },
   {
    "duration": 47,
    "start_time": "2023-02-10T06:04:43.966Z"
   },
   {
    "duration": 12,
    "start_time": "2023-02-10T06:04:44.015Z"
   },
   {
    "duration": 15,
    "start_time": "2023-02-10T06:04:44.028Z"
   },
   {
    "duration": 11,
    "start_time": "2023-02-10T06:04:44.044Z"
   },
   {
    "duration": 35,
    "start_time": "2023-02-10T06:04:44.057Z"
   },
   {
    "duration": 4,
    "start_time": "2023-02-10T06:04:44.094Z"
   },
   {
    "duration": 25,
    "start_time": "2023-02-10T06:04:44.099Z"
   },
   {
    "duration": 5,
    "start_time": "2023-02-10T06:04:44.125Z"
   },
   {
    "duration": 7,
    "start_time": "2023-02-10T06:04:44.131Z"
   },
   {
    "duration": 1040,
    "start_time": "2023-02-10T06:04:44.140Z"
   },
   {
    "duration": 185,
    "start_time": "2023-02-10T06:04:45.183Z"
   },
   {
    "duration": 987,
    "start_time": "2023-02-10T06:04:45.373Z"
   },
   {
    "duration": 180,
    "start_time": "2023-02-10T06:04:46.362Z"
   },
   {
    "duration": 1138,
    "start_time": "2023-02-10T06:04:46.543Z"
   },
   {
    "duration": 184,
    "start_time": "2023-02-10T06:04:47.682Z"
   },
   {
    "duration": 435,
    "start_time": "2023-02-10T06:04:47.867Z"
   },
   {
    "duration": 57,
    "start_time": "2023-02-10T06:04:48.304Z"
   },
   {
    "duration": 1116,
    "start_time": "2023-02-10T06:04:48.362Z"
   },
   {
    "duration": 29,
    "start_time": "2023-02-10T06:04:49.480Z"
   },
   {
    "duration": 174,
    "start_time": "2023-02-10T06:04:49.510Z"
   },
   {
    "duration": 147,
    "start_time": "2023-02-10T06:04:49.685Z"
   },
   {
    "duration": 42,
    "start_time": "2023-02-10T06:04:49.834Z"
   },
   {
    "duration": 22,
    "start_time": "2023-02-10T06:04:49.878Z"
   },
   {
    "duration": 1073,
    "start_time": "2023-02-10T06:04:49.902Z"
   },
   {
    "duration": 3,
    "start_time": "2023-02-10T06:04:50.977Z"
   },
   {
    "duration": 13,
    "start_time": "2023-02-10T06:04:50.981Z"
   },
   {
    "duration": 8,
    "start_time": "2023-02-10T06:04:50.995Z"
   },
   {
    "duration": 8,
    "start_time": "2023-02-10T06:04:51.005Z"
   },
   {
    "duration": 52,
    "start_time": "2023-02-10T06:04:51.014Z"
   },
   {
    "duration": 12,
    "start_time": "2023-02-10T06:04:51.068Z"
   },
   {
    "duration": 43,
    "start_time": "2023-02-10T06:04:51.082Z"
   },
   {
    "duration": 3,
    "start_time": "2023-02-10T06:04:51.126Z"
   },
   {
    "duration": 58565,
    "start_time": "2023-02-10T06:04:51.131Z"
   },
   {
    "duration": 11,
    "start_time": "2023-02-10T06:05:49.698Z"
   },
   {
    "duration": 0,
    "start_time": "2023-02-10T06:05:49.710Z"
   },
   {
    "duration": 0,
    "start_time": "2023-02-10T06:05:49.711Z"
   },
   {
    "duration": 0,
    "start_time": "2023-02-10T06:05:49.712Z"
   },
   {
    "duration": 0,
    "start_time": "2023-02-10T06:05:49.713Z"
   },
   {
    "duration": 0,
    "start_time": "2023-02-10T06:05:49.714Z"
   },
   {
    "duration": 0,
    "start_time": "2023-02-10T06:05:49.715Z"
   },
   {
    "duration": 0,
    "start_time": "2023-02-10T06:05:49.716Z"
   },
   {
    "duration": 0,
    "start_time": "2023-02-10T06:05:49.717Z"
   },
   {
    "duration": 0,
    "start_time": "2023-02-10T06:05:49.718Z"
   },
   {
    "duration": 0,
    "start_time": "2023-02-10T06:05:49.726Z"
   },
   {
    "duration": 4,
    "start_time": "2023-02-10T06:05:52.030Z"
   },
   {
    "duration": 144,
    "start_time": "2023-02-10T06:06:03.324Z"
   },
   {
    "duration": 44,
    "start_time": "2023-02-10T06:06:10.924Z"
   },
   {
    "duration": 11,
    "start_time": "2023-02-10T06:06:18.375Z"
   },
   {
    "duration": 154,
    "start_time": "2023-02-10T06:06:29.130Z"
   },
   {
    "duration": 152,
    "start_time": "2023-02-10T06:06:59.296Z"
   },
   {
    "duration": 3,
    "start_time": "2023-02-10T06:10:32.281Z"
   },
   {
    "duration": 138,
    "start_time": "2023-02-10T06:10:48.275Z"
   },
   {
    "duration": 45,
    "start_time": "2023-02-10T06:10:49.628Z"
   },
   {
    "duration": 11,
    "start_time": "2023-02-10T06:10:51.617Z"
   },
   {
    "duration": 3,
    "start_time": "2023-02-10T06:10:54.585Z"
   },
   {
    "duration": 141,
    "start_time": "2023-02-10T06:11:12.165Z"
   },
   {
    "duration": 43,
    "start_time": "2023-02-10T06:11:12.690Z"
   },
   {
    "duration": 11,
    "start_time": "2023-02-10T06:11:15.029Z"
   },
   {
    "duration": 158,
    "start_time": "2023-02-10T06:11:15.865Z"
   },
   {
    "duration": 4,
    "start_time": "2023-02-10T06:11:16.966Z"
   },
   {
    "duration": 4,
    "start_time": "2023-02-10T06:11:35.501Z"
   },
   {
    "duration": 9,
    "start_time": "2023-02-10T06:13:02.362Z"
   },
   {
    "duration": 9,
    "start_time": "2023-02-10T06:13:04.404Z"
   },
   {
    "duration": 7,
    "start_time": "2023-02-10T06:16:10.388Z"
   },
   {
    "duration": 3,
    "start_time": "2023-02-10T06:16:12.834Z"
   },
   {
    "duration": 20,
    "start_time": "2023-02-10T06:16:29.839Z"
   },
   {
    "duration": 4,
    "start_time": "2023-02-10T06:16:32.426Z"
   },
   {
    "duration": 86,
    "start_time": "2023-02-10T06:16:33.432Z"
   },
   {
    "duration": 92,
    "start_time": "2023-02-10T06:16:59.837Z"
   },
   {
    "duration": 89,
    "start_time": "2023-02-10T06:17:39.188Z"
   },
   {
    "duration": 11,
    "start_time": "2023-02-10T06:17:39.402Z"
   },
   {
    "duration": 4,
    "start_time": "2023-02-10T06:19:07.598Z"
   },
   {
    "duration": 9,
    "start_time": "2023-02-10T06:19:14.289Z"
   },
   {
    "duration": 18,
    "start_time": "2023-02-10T06:19:25.117Z"
   },
   {
    "duration": 3,
    "start_time": "2023-02-10T06:19:58.177Z"
   },
   {
    "duration": 101,
    "start_time": "2023-02-10T06:19:58.716Z"
   },
   {
    "duration": 2582,
    "start_time": "2023-02-10T06:20:07.746Z"
   },
   {
    "duration": 2429,
    "start_time": "2023-02-10T06:20:10.330Z"
   },
   {
    "duration": 678,
    "start_time": "2023-02-10T06:20:12.761Z"
   },
   {
    "duration": 4,
    "start_time": "2023-02-10T06:20:13.441Z"
   },
   {
    "duration": 11,
    "start_time": "2023-02-10T06:20:13.446Z"
   },
   {
    "duration": 8,
    "start_time": "2023-02-10T06:20:13.459Z"
   },
   {
    "duration": 9,
    "start_time": "2023-02-10T06:20:13.468Z"
   },
   {
    "duration": 18,
    "start_time": "2023-02-10T06:20:13.478Z"
   },
   {
    "duration": 133,
    "start_time": "2023-02-10T06:20:13.498Z"
   },
   {
    "duration": 2414,
    "start_time": "2023-02-10T06:20:13.635Z"
   },
   {
    "duration": 5,
    "start_time": "2023-02-10T06:20:16.051Z"
   },
   {
    "duration": 15,
    "start_time": "2023-02-10T06:20:16.058Z"
   },
   {
    "duration": 22,
    "start_time": "2023-02-10T06:20:16.074Z"
   },
   {
    "duration": 339,
    "start_time": "2023-02-10T06:20:16.098Z"
   },
   {
    "duration": 4,
    "start_time": "2023-02-10T06:20:16.439Z"
   },
   {
    "duration": 63,
    "start_time": "2023-02-10T06:20:16.444Z"
   },
   {
    "duration": 35,
    "start_time": "2023-02-10T06:20:16.509Z"
   },
   {
    "duration": 12,
    "start_time": "2023-02-10T06:20:16.546Z"
   },
   {
    "duration": 41,
    "start_time": "2023-02-10T06:20:16.559Z"
   },
   {
    "duration": 13,
    "start_time": "2023-02-10T06:20:16.602Z"
   },
   {
    "duration": 26,
    "start_time": "2023-02-10T06:20:16.616Z"
   },
   {
    "duration": 11,
    "start_time": "2023-02-10T06:20:16.644Z"
   },
   {
    "duration": 5,
    "start_time": "2023-02-10T06:20:16.656Z"
   },
   {
    "duration": 8,
    "start_time": "2023-02-10T06:20:16.662Z"
   },
   {
    "duration": 35,
    "start_time": "2023-02-10T06:20:16.671Z"
   },
   {
    "duration": 990,
    "start_time": "2023-02-10T06:20:16.707Z"
   },
   {
    "duration": 202,
    "start_time": "2023-02-10T06:20:17.699Z"
   },
   {
    "duration": 972,
    "start_time": "2023-02-10T06:20:17.905Z"
   },
   {
    "duration": 184,
    "start_time": "2023-02-10T06:20:18.879Z"
   },
   {
    "duration": 1126,
    "start_time": "2023-02-10T06:20:19.065Z"
   },
   {
    "duration": 203,
    "start_time": "2023-02-10T06:20:20.193Z"
   },
   {
    "duration": 419,
    "start_time": "2023-02-10T06:20:20.398Z"
   },
   {
    "duration": 58,
    "start_time": "2023-02-10T06:20:20.818Z"
   },
   {
    "duration": 1135,
    "start_time": "2023-02-10T06:20:20.878Z"
   },
   {
    "duration": 30,
    "start_time": "2023-02-10T06:20:22.014Z"
   },
   {
    "duration": 4,
    "start_time": "2023-02-10T06:20:22.046Z"
   },
   {
    "duration": 180,
    "start_time": "2023-02-10T06:20:22.052Z"
   },
   {
    "duration": 71,
    "start_time": "2023-02-10T06:20:22.234Z"
   },
   {
    "duration": 17,
    "start_time": "2023-02-10T06:20:22.307Z"
   },
   {
    "duration": 239,
    "start_time": "2023-02-10T06:20:22.327Z"
   },
   {
    "duration": 4,
    "start_time": "2023-02-10T06:20:22.568Z"
   },
   {
    "duration": 21,
    "start_time": "2023-02-10T06:20:22.574Z"
   },
   {
    "duration": 7,
    "start_time": "2023-02-10T06:20:22.597Z"
   },
   {
    "duration": 4,
    "start_time": "2023-02-10T06:20:22.605Z"
   },
   {
    "duration": 6,
    "start_time": "2023-02-10T06:20:22.610Z"
   },
   {
    "duration": 10,
    "start_time": "2023-02-10T06:20:22.618Z"
   },
   {
    "duration": 19,
    "start_time": "2023-02-10T06:20:22.629Z"
   },
   {
    "duration": 12,
    "start_time": "2023-02-10T06:20:22.650Z"
   },
   {
    "duration": 31,
    "start_time": "2023-02-10T06:20:22.664Z"
   },
   {
    "duration": 25,
    "start_time": "2023-02-10T06:20:22.697Z"
   },
   {
    "duration": 3,
    "start_time": "2023-02-10T06:20:22.724Z"
   },
   {
    "duration": 255,
    "start_time": "2023-02-10T06:20:22.729Z"
   },
   {
    "duration": 13,
    "start_time": "2023-02-10T06:20:22.987Z"
   },
   {
    "duration": 0,
    "start_time": "2023-02-10T06:20:23.002Z"
   },
   {
    "duration": 0,
    "start_time": "2023-02-10T06:20:23.004Z"
   },
   {
    "duration": 0,
    "start_time": "2023-02-10T06:20:23.006Z"
   },
   {
    "duration": 0,
    "start_time": "2023-02-10T06:20:23.007Z"
   },
   {
    "duration": 0,
    "start_time": "2023-02-10T06:20:23.008Z"
   },
   {
    "duration": 0,
    "start_time": "2023-02-10T06:20:23.009Z"
   },
   {
    "duration": 0,
    "start_time": "2023-02-10T06:20:23.010Z"
   },
   {
    "duration": 0,
    "start_time": "2023-02-10T06:20:23.011Z"
   },
   {
    "duration": 0,
    "start_time": "2023-02-10T06:20:23.012Z"
   },
   {
    "duration": 85,
    "start_time": "2023-02-10T06:20:51.063Z"
   },
   {
    "duration": 87304,
    "start_time": "2023-02-10T06:21:08.600Z"
   },
   {
    "duration": 12,
    "start_time": "2023-02-10T06:22:46.386Z"
   },
   {
    "duration": 8,
    "start_time": "2023-02-10T06:22:50.639Z"
   },
   {
    "duration": 41422,
    "start_time": "2023-02-10T06:26:02.183Z"
   },
   {
    "duration": 12,
    "start_time": "2023-02-10T06:27:33.145Z"
   },
   {
    "duration": 4,
    "start_time": "2023-02-10T06:27:42.788Z"
   },
   {
    "duration": 8,
    "start_time": "2023-02-10T06:28:06.623Z"
   },
   {
    "duration": 5,
    "start_time": "2023-02-10T06:28:16.476Z"
   },
   {
    "duration": 6,
    "start_time": "2023-02-10T06:28:23.362Z"
   },
   {
    "duration": 77,
    "start_time": "2023-02-10T06:29:48.611Z"
   },
   {
    "duration": 60678,
    "start_time": "2023-02-10T06:30:10.518Z"
   },
   {
    "duration": 10,
    "start_time": "2023-02-10T06:31:26.597Z"
   },
   {
    "duration": 6,
    "start_time": "2023-02-10T06:31:37.220Z"
   },
   {
    "duration": 10,
    "start_time": "2023-02-10T06:32:35.434Z"
   },
   {
    "duration": 10,
    "start_time": "2023-02-10T06:32:57.191Z"
   },
   {
    "duration": 14,
    "start_time": "2023-02-10T06:33:05.698Z"
   },
   {
    "duration": 11,
    "start_time": "2023-02-10T06:33:59.177Z"
   },
   {
    "duration": 2563,
    "start_time": "2023-02-10T06:34:17.108Z"
   },
   {
    "duration": 2409,
    "start_time": "2023-02-10T06:34:19.674Z"
   },
   {
    "duration": 750,
    "start_time": "2023-02-10T06:34:22.085Z"
   },
   {
    "duration": 4,
    "start_time": "2023-02-10T06:34:22.837Z"
   },
   {
    "duration": 11,
    "start_time": "2023-02-10T06:34:22.843Z"
   },
   {
    "duration": 14,
    "start_time": "2023-02-10T06:34:22.855Z"
   },
   {
    "duration": 7,
    "start_time": "2023-02-10T06:34:22.870Z"
   },
   {
    "duration": 8,
    "start_time": "2023-02-10T06:34:22.879Z"
   },
   {
    "duration": 128,
    "start_time": "2023-02-10T06:34:22.892Z"
   },
   {
    "duration": 2501,
    "start_time": "2023-02-10T06:34:23.021Z"
   },
   {
    "duration": 5,
    "start_time": "2023-02-10T06:34:25.524Z"
   },
   {
    "duration": 16,
    "start_time": "2023-02-10T06:34:25.530Z"
   },
   {
    "duration": 5,
    "start_time": "2023-02-10T06:34:25.547Z"
   },
   {
    "duration": 389,
    "start_time": "2023-02-10T06:34:25.554Z"
   },
   {
    "duration": 4,
    "start_time": "2023-02-10T06:34:25.945Z"
   },
   {
    "duration": 62,
    "start_time": "2023-02-10T06:34:25.952Z"
   },
   {
    "duration": 35,
    "start_time": "2023-02-10T06:34:26.016Z"
   },
   {
    "duration": 11,
    "start_time": "2023-02-10T06:34:26.053Z"
   },
   {
    "duration": 22,
    "start_time": "2023-02-10T06:34:26.093Z"
   },
   {
    "duration": 11,
    "start_time": "2023-02-10T06:34:26.116Z"
   },
   {
    "duration": 14,
    "start_time": "2023-02-10T06:34:26.128Z"
   },
   {
    "duration": 6,
    "start_time": "2023-02-10T06:34:26.144Z"
   },
   {
    "duration": 10,
    "start_time": "2023-02-10T06:34:26.151Z"
   },
   {
    "duration": 7,
    "start_time": "2023-02-10T06:34:26.162Z"
   },
   {
    "duration": 29,
    "start_time": "2023-02-10T06:34:26.171Z"
   },
   {
    "duration": 981,
    "start_time": "2023-02-10T06:34:26.202Z"
   },
   {
    "duration": 208,
    "start_time": "2023-02-10T06:34:27.185Z"
   },
   {
    "duration": 993,
    "start_time": "2023-02-10T06:34:27.395Z"
   },
   {
    "duration": 198,
    "start_time": "2023-02-10T06:34:28.389Z"
   },
   {
    "duration": 1105,
    "start_time": "2023-02-10T06:34:28.593Z"
   },
   {
    "duration": 201,
    "start_time": "2023-02-10T06:34:29.700Z"
   },
   {
    "duration": 438,
    "start_time": "2023-02-10T06:34:29.903Z"
   },
   {
    "duration": 72,
    "start_time": "2023-02-10T06:34:30.343Z"
   },
   {
    "duration": 1178,
    "start_time": "2023-02-10T06:34:30.416Z"
   },
   {
    "duration": 31,
    "start_time": "2023-02-10T06:34:31.596Z"
   },
   {
    "duration": 4,
    "start_time": "2023-02-10T06:34:31.629Z"
   },
   {
    "duration": 189,
    "start_time": "2023-02-10T06:34:31.634Z"
   },
   {
    "duration": 45,
    "start_time": "2023-02-10T06:34:31.825Z"
   },
   {
    "duration": 37,
    "start_time": "2023-02-10T06:34:31.872Z"
   },
   {
    "duration": 178,
    "start_time": "2023-02-10T06:34:31.911Z"
   },
   {
    "duration": 9,
    "start_time": "2023-02-10T06:34:32.096Z"
   },
   {
    "duration": 16,
    "start_time": "2023-02-10T06:34:32.107Z"
   },
   {
    "duration": 9,
    "start_time": "2023-02-10T06:34:32.124Z"
   },
   {
    "duration": 12,
    "start_time": "2023-02-10T06:34:32.135Z"
   },
   {
    "duration": 5,
    "start_time": "2023-02-10T06:34:32.148Z"
   },
   {
    "duration": 5,
    "start_time": "2023-02-10T06:34:32.155Z"
   },
   {
    "duration": 11,
    "start_time": "2023-02-10T06:34:32.162Z"
   },
   {
    "duration": 7,
    "start_time": "2023-02-10T06:34:32.174Z"
   },
   {
    "duration": 16,
    "start_time": "2023-02-10T06:34:32.183Z"
   },
   {
    "duration": 39,
    "start_time": "2023-02-10T06:34:32.201Z"
   },
   {
    "duration": 6,
    "start_time": "2023-02-10T06:34:32.242Z"
   },
   {
    "duration": 86643,
    "start_time": "2023-02-10T06:34:32.250Z"
   },
   {
    "duration": 14,
    "start_time": "2023-02-10T06:35:58.895Z"
   },
   {
    "duration": 41784,
    "start_time": "2023-02-10T06:35:58.911Z"
   },
   {
    "duration": 10,
    "start_time": "2023-02-10T06:36:40.697Z"
   },
   {
    "duration": 98,
    "start_time": "2023-02-10T06:36:40.711Z"
   },
   {
    "duration": 85,
    "start_time": "2023-02-10T06:36:40.814Z"
   },
   {
    "duration": 58995,
    "start_time": "2023-02-10T06:36:40.901Z"
   },
   {
    "duration": 10,
    "start_time": "2023-02-10T06:37:39.898Z"
   },
   {
    "duration": 133,
    "start_time": "2023-02-10T06:37:39.995Z"
   },
   {
    "duration": 24,
    "start_time": "2023-02-10T06:37:40.130Z"
   },
   {
    "duration": 177,
    "start_time": "2023-02-10T06:37:49.263Z"
   },
   {
    "duration": 10,
    "start_time": "2023-02-10T06:39:00.768Z"
   },
   {
    "duration": 9,
    "start_time": "2023-02-10T06:39:07.607Z"
   },
   {
    "duration": 10,
    "start_time": "2023-02-10T06:39:22.806Z"
   },
   {
    "duration": 12,
    "start_time": "2023-02-10T06:43:45.372Z"
   },
   {
    "duration": 5,
    "start_time": "2023-02-10T06:43:58.673Z"
   },
   {
    "duration": 11,
    "start_time": "2023-02-10T06:44:06.612Z"
   },
   {
    "duration": 4,
    "start_time": "2023-02-10T06:44:21.207Z"
   },
   {
    "duration": 39,
    "start_time": "2023-02-10T06:44:21.868Z"
   },
   {
    "duration": 4,
    "start_time": "2023-02-10T06:51:47.460Z"
   },
   {
    "duration": 7,
    "start_time": "2023-02-10T06:51:53.725Z"
   },
   {
    "duration": 18,
    "start_time": "2023-02-10T06:52:00.953Z"
   },
   {
    "duration": 13,
    "start_time": "2023-02-10T06:52:36.553Z"
   },
   {
    "duration": 7,
    "start_time": "2023-02-10T06:53:39.013Z"
   },
   {
    "duration": 4,
    "start_time": "2023-02-10T06:55:29.502Z"
   },
   {
    "duration": 20,
    "start_time": "2023-02-10T06:55:31.152Z"
   },
   {
    "duration": 5,
    "start_time": "2023-02-10T06:55:42.730Z"
   },
   {
    "duration": 19,
    "start_time": "2023-02-10T06:55:43.629Z"
   },
   {
    "duration": 23,
    "start_time": "2023-02-10T06:55:56.980Z"
   },
   {
    "duration": 73,
    "start_time": "2023-02-10T06:56:38.439Z"
   },
   {
    "duration": 19,
    "start_time": "2023-02-10T06:56:53.826Z"
   },
   {
    "duration": 10,
    "start_time": "2023-02-10T06:57:16.800Z"
   },
   {
    "duration": 9,
    "start_time": "2023-02-10T06:57:23.224Z"
   },
   {
    "duration": 10,
    "start_time": "2023-02-10T06:57:40.987Z"
   },
   {
    "duration": 2450,
    "start_time": "2023-02-10T06:59:49.813Z"
   },
   {
    "duration": 2360,
    "start_time": "2023-02-10T06:59:52.266Z"
   },
   {
    "duration": 745,
    "start_time": "2023-02-10T06:59:54.627Z"
   },
   {
    "duration": 4,
    "start_time": "2023-02-10T06:59:55.374Z"
   },
   {
    "duration": 15,
    "start_time": "2023-02-10T06:59:55.381Z"
   },
   {
    "duration": 7,
    "start_time": "2023-02-10T06:59:55.398Z"
   },
   {
    "duration": 8,
    "start_time": "2023-02-10T06:59:55.407Z"
   },
   {
    "duration": 8,
    "start_time": "2023-02-10T06:59:55.416Z"
   },
   {
    "duration": 115,
    "start_time": "2023-02-10T06:59:55.425Z"
   },
   {
    "duration": 2283,
    "start_time": "2023-02-10T06:59:55.542Z"
   },
   {
    "duration": 5,
    "start_time": "2023-02-10T06:59:57.827Z"
   },
   {
    "duration": 17,
    "start_time": "2023-02-10T06:59:57.833Z"
   },
   {
    "duration": 7,
    "start_time": "2023-02-10T06:59:57.852Z"
   },
   {
    "duration": 344,
    "start_time": "2023-02-10T06:59:57.862Z"
   },
   {
    "duration": 5,
    "start_time": "2023-02-10T06:59:58.207Z"
   },
   {
    "duration": 21,
    "start_time": "2023-02-10T06:59:58.213Z"
   },
   {
    "duration": 35,
    "start_time": "2023-02-10T06:59:58.236Z"
   },
   {
    "duration": 31,
    "start_time": "2023-02-10T06:59:58.272Z"
   },
   {
    "duration": 13,
    "start_time": "2023-02-10T06:59:58.305Z"
   },
   {
    "duration": 12,
    "start_time": "2023-02-10T06:59:58.320Z"
   },
   {
    "duration": 27,
    "start_time": "2023-02-10T06:59:58.334Z"
   },
   {
    "duration": 12,
    "start_time": "2023-02-10T06:59:58.362Z"
   },
   {
    "duration": 19,
    "start_time": "2023-02-10T06:59:58.375Z"
   },
   {
    "duration": 6,
    "start_time": "2023-02-10T06:59:58.395Z"
   },
   {
    "duration": 5,
    "start_time": "2023-02-10T06:59:58.403Z"
   },
   {
    "duration": 1167,
    "start_time": "2023-02-10T06:59:58.409Z"
   },
   {
    "duration": 192,
    "start_time": "2023-02-10T06:59:59.578Z"
   },
   {
    "duration": 1010,
    "start_time": "2023-02-10T06:59:59.771Z"
   },
   {
    "duration": 192,
    "start_time": "2023-02-10T07:00:00.783Z"
   },
   {
    "duration": 1208,
    "start_time": "2023-02-10T07:00:00.978Z"
   },
   {
    "duration": 219,
    "start_time": "2023-02-10T07:00:02.188Z"
   },
   {
    "duration": 419,
    "start_time": "2023-02-10T07:00:02.409Z"
   },
   {
    "duration": 68,
    "start_time": "2023-02-10T07:00:02.830Z"
   },
   {
    "duration": 1106,
    "start_time": "2023-02-10T07:00:02.899Z"
   },
   {
    "duration": 35,
    "start_time": "2023-02-10T07:00:04.006Z"
   },
   {
    "duration": 18,
    "start_time": "2023-02-10T07:00:04.043Z"
   },
   {
    "duration": 212,
    "start_time": "2023-02-10T07:00:04.062Z"
   },
   {
    "duration": 61,
    "start_time": "2023-02-10T07:00:04.275Z"
   },
   {
    "duration": 16,
    "start_time": "2023-02-10T07:00:04.338Z"
   },
   {
    "duration": 207,
    "start_time": "2023-02-10T07:00:04.357Z"
   },
   {
    "duration": 5,
    "start_time": "2023-02-10T07:00:04.568Z"
   },
   {
    "duration": 19,
    "start_time": "2023-02-10T07:00:04.574Z"
   },
   {
    "duration": 10,
    "start_time": "2023-02-10T07:00:04.595Z"
   },
   {
    "duration": 10,
    "start_time": "2023-02-10T07:00:04.607Z"
   },
   {
    "duration": 9,
    "start_time": "2023-02-10T07:00:04.619Z"
   },
   {
    "duration": 7,
    "start_time": "2023-02-10T07:00:04.630Z"
   },
   {
    "duration": 9,
    "start_time": "2023-02-10T07:00:04.639Z"
   },
   {
    "duration": 12,
    "start_time": "2023-02-10T07:00:04.650Z"
   },
   {
    "duration": 4,
    "start_time": "2023-02-10T07:00:04.664Z"
   },
   {
    "duration": 39,
    "start_time": "2023-02-10T07:00:04.670Z"
   },
   {
    "duration": 3,
    "start_time": "2023-02-10T07:00:04.711Z"
   },
   {
    "duration": 12,
    "start_time": "2023-02-10T07:00:04.716Z"
   },
   {
    "duration": 19,
    "start_time": "2023-02-10T07:00:04.730Z"
   },
   {
    "duration": 3,
    "start_time": "2023-02-10T07:00:04.751Z"
   },
   {
    "duration": 81547,
    "start_time": "2023-02-10T07:00:04.756Z"
   },
   {
    "duration": 7,
    "start_time": "2023-02-10T07:01:26.305Z"
   },
   {
    "duration": 43991,
    "start_time": "2023-02-10T07:01:26.314Z"
   },
   {
    "duration": 5,
    "start_time": "2023-02-10T07:02:10.307Z"
   },
   {
    "duration": 278,
    "start_time": "2023-02-10T07:02:10.314Z"
   },
   {
    "duration": 16,
    "start_time": "2023-02-10T07:02:10.595Z"
   },
   {
    "duration": 76686,
    "start_time": "2023-02-10T07:02:10.613Z"
   },
   {
    "duration": 105,
    "start_time": "2023-02-10T07:03:27.301Z"
   },
   {
    "duration": 101,
    "start_time": "2023-02-10T07:03:27.493Z"
   },
   {
    "duration": 165,
    "start_time": "2023-02-10T07:03:27.596Z"
   },
   {
    "duration": 84,
    "start_time": "2023-02-10T15:09:50.886Z"
   },
   {
    "duration": 5127,
    "start_time": "2023-02-10T23:28:33.384Z"
   },
   {
    "duration": 2734,
    "start_time": "2023-02-10T23:28:38.513Z"
   },
   {
    "duration": 1975,
    "start_time": "2023-02-10T23:28:41.249Z"
   },
   {
    "duration": 4,
    "start_time": "2023-02-10T23:28:43.226Z"
   },
   {
    "duration": 13,
    "start_time": "2023-02-10T23:28:43.233Z"
   },
   {
    "duration": 10,
    "start_time": "2023-02-10T23:28:43.247Z"
   },
   {
    "duration": 7,
    "start_time": "2023-02-10T23:28:43.258Z"
   },
   {
    "duration": 4,
    "start_time": "2023-02-10T23:28:43.266Z"
   },
   {
    "duration": 99,
    "start_time": "2023-02-10T23:28:43.272Z"
   },
   {
    "duration": 2186,
    "start_time": "2023-02-10T23:28:43.373Z"
   },
   {
    "duration": 5,
    "start_time": "2023-02-10T23:28:45.561Z"
   },
   {
    "duration": 16,
    "start_time": "2023-02-10T23:28:45.568Z"
   },
   {
    "duration": 5,
    "start_time": "2023-02-10T23:28:45.586Z"
   },
   {
    "duration": 357,
    "start_time": "2023-02-10T23:28:45.594Z"
   },
   {
    "duration": 5,
    "start_time": "2023-02-10T23:28:45.953Z"
   },
   {
    "duration": 22,
    "start_time": "2023-02-10T23:28:45.960Z"
   },
   {
    "duration": 60,
    "start_time": "2023-02-10T23:28:45.984Z"
   },
   {
    "duration": 13,
    "start_time": "2023-02-10T23:28:46.046Z"
   },
   {
    "duration": 16,
    "start_time": "2023-02-10T23:28:46.060Z"
   },
   {
    "duration": 12,
    "start_time": "2023-02-10T23:28:46.077Z"
   },
   {
    "duration": 14,
    "start_time": "2023-02-10T23:28:46.090Z"
   },
   {
    "duration": 41,
    "start_time": "2023-02-10T23:28:46.106Z"
   },
   {
    "duration": 8,
    "start_time": "2023-02-10T23:28:46.149Z"
   },
   {
    "duration": 5,
    "start_time": "2023-02-10T23:28:46.158Z"
   },
   {
    "duration": 8,
    "start_time": "2023-02-10T23:28:46.165Z"
   },
   {
    "duration": 1052,
    "start_time": "2023-02-10T23:28:46.174Z"
   },
   {
    "duration": 181,
    "start_time": "2023-02-10T23:28:47.228Z"
   },
   {
    "duration": 1001,
    "start_time": "2023-02-10T23:28:47.410Z"
   },
   {
    "duration": 184,
    "start_time": "2023-02-10T23:28:48.412Z"
   },
   {
    "duration": 1110,
    "start_time": "2023-02-10T23:28:48.598Z"
   },
   {
    "duration": 191,
    "start_time": "2023-02-10T23:28:49.709Z"
   },
   {
    "duration": 430,
    "start_time": "2023-02-10T23:28:49.901Z"
   },
   {
    "duration": 63,
    "start_time": "2023-02-10T23:28:50.332Z"
   },
   {
    "duration": 1130,
    "start_time": "2023-02-10T23:28:50.397Z"
   },
   {
    "duration": 26,
    "start_time": "2023-02-10T23:28:51.528Z"
   },
   {
    "duration": 3,
    "start_time": "2023-02-10T23:28:51.556Z"
   },
   {
    "duration": 153,
    "start_time": "2023-02-10T23:28:51.560Z"
   },
   {
    "duration": 52,
    "start_time": "2023-02-10T23:28:51.714Z"
   },
   {
    "duration": 13,
    "start_time": "2023-02-10T23:28:51.768Z"
   },
   {
    "duration": 186,
    "start_time": "2023-02-10T23:28:51.783Z"
   },
   {
    "duration": 3,
    "start_time": "2023-02-10T23:28:51.973Z"
   },
   {
    "duration": 15,
    "start_time": "2023-02-10T23:28:51.978Z"
   },
   {
    "duration": 17,
    "start_time": "2023-02-10T23:28:51.995Z"
   },
   {
    "duration": 4,
    "start_time": "2023-02-10T23:28:52.013Z"
   },
   {
    "duration": 5,
    "start_time": "2023-02-10T23:28:52.018Z"
   },
   {
    "duration": 3,
    "start_time": "2023-02-10T23:28:52.038Z"
   },
   {
    "duration": 7,
    "start_time": "2023-02-10T23:28:52.042Z"
   },
   {
    "duration": 13,
    "start_time": "2023-02-10T23:28:52.050Z"
   },
   {
    "duration": 4,
    "start_time": "2023-02-10T23:28:52.065Z"
   },
   {
    "duration": 32,
    "start_time": "2023-02-10T23:28:52.070Z"
   },
   {
    "duration": 4,
    "start_time": "2023-02-10T23:28:52.104Z"
   },
   {
    "duration": 28,
    "start_time": "2023-02-10T23:28:52.109Z"
   },
   {
    "duration": 17,
    "start_time": "2023-02-10T23:28:52.139Z"
   },
   {
    "duration": 3,
    "start_time": "2023-02-10T23:28:52.158Z"
   },
   {
    "duration": 77675,
    "start_time": "2023-02-10T23:28:52.162Z"
   },
   {
    "duration": 9,
    "start_time": "2023-02-10T23:30:09.839Z"
   },
   {
    "duration": 41496,
    "start_time": "2023-02-10T23:30:09.849Z"
   },
   {
    "duration": 5,
    "start_time": "2023-02-10T23:30:51.437Z"
   },
   {
    "duration": 98,
    "start_time": "2023-02-10T23:30:51.444Z"
   },
   {
    "duration": 101,
    "start_time": "2023-02-10T23:30:51.544Z"
   },
   {
    "duration": 59503,
    "start_time": "2023-02-10T23:30:51.737Z"
   },
   {
    "duration": 92,
    "start_time": "2023-02-10T23:31:51.246Z"
   },
   {
    "duration": 108,
    "start_time": "2023-02-10T23:31:51.343Z"
   },
   {
    "duration": 173,
    "start_time": "2023-02-10T23:31:51.538Z"
   },
   {
    "duration": 11,
    "start_time": "2023-02-10T23:32:09.813Z"
   },
   {
    "duration": 2277,
    "start_time": "2023-02-10T23:33:33.949Z"
   },
   {
    "duration": 2261,
    "start_time": "2023-02-10T23:33:36.228Z"
   },
   {
    "duration": 660,
    "start_time": "2023-02-10T23:33:38.491Z"
   },
   {
    "duration": 3,
    "start_time": "2023-02-10T23:33:39.153Z"
   },
   {
    "duration": 9,
    "start_time": "2023-02-10T23:33:39.158Z"
   },
   {
    "duration": 6,
    "start_time": "2023-02-10T23:33:39.169Z"
   },
   {
    "duration": 7,
    "start_time": "2023-02-10T23:33:39.177Z"
   },
   {
    "duration": 7,
    "start_time": "2023-02-10T23:33:39.185Z"
   },
   {
    "duration": 116,
    "start_time": "2023-02-10T23:33:39.194Z"
   },
   {
    "duration": 2079,
    "start_time": "2023-02-10T23:33:39.312Z"
   },
   {
    "duration": 4,
    "start_time": "2023-02-10T23:33:41.393Z"
   },
   {
    "duration": 14,
    "start_time": "2023-02-10T23:33:41.399Z"
   },
   {
    "duration": 3,
    "start_time": "2023-02-10T23:33:41.414Z"
   },
   {
    "duration": 371,
    "start_time": "2023-02-10T23:33:41.419Z"
   },
   {
    "duration": 4,
    "start_time": "2023-02-10T23:33:41.792Z"
   },
   {
    "duration": 19,
    "start_time": "2023-02-10T23:33:41.797Z"
   },
   {
    "duration": 37,
    "start_time": "2023-02-10T23:33:41.837Z"
   },
   {
    "duration": 14,
    "start_time": "2023-02-10T23:33:41.877Z"
   },
   {
    "duration": 15,
    "start_time": "2023-02-10T23:33:41.893Z"
   },
   {
    "duration": 15,
    "start_time": "2023-02-10T23:33:41.939Z"
   },
   {
    "duration": 12,
    "start_time": "2023-02-10T23:33:41.956Z"
   },
   {
    "duration": 6,
    "start_time": "2023-02-10T23:33:41.970Z"
   },
   {
    "duration": 6,
    "start_time": "2023-02-10T23:33:41.978Z"
   },
   {
    "duration": 4,
    "start_time": "2023-02-10T23:33:41.986Z"
   },
   {
    "duration": 5,
    "start_time": "2023-02-10T23:33:41.991Z"
   },
   {
    "duration": 1144,
    "start_time": "2023-02-10T23:33:41.997Z"
   },
   {
    "duration": 188,
    "start_time": "2023-02-10T23:33:43.143Z"
   },
   {
    "duration": 1170,
    "start_time": "2023-02-10T23:33:43.337Z"
   },
   {
    "duration": 180,
    "start_time": "2023-02-10T23:33:44.508Z"
   },
   {
    "duration": 1129,
    "start_time": "2023-02-10T23:33:44.690Z"
   },
   {
    "duration": 207,
    "start_time": "2023-02-10T23:33:45.821Z"
   },
   {
    "duration": 429,
    "start_time": "2023-02-10T23:33:46.029Z"
   },
   {
    "duration": 62,
    "start_time": "2023-02-10T23:33:46.459Z"
   },
   {
    "duration": 994,
    "start_time": "2023-02-10T23:33:46.523Z"
   },
   {
    "duration": 30,
    "start_time": "2023-02-10T23:33:47.519Z"
   },
   {
    "duration": 3,
    "start_time": "2023-02-10T23:33:47.550Z"
   },
   {
    "duration": 148,
    "start_time": "2023-02-10T23:33:47.555Z"
   },
   {
    "duration": 49,
    "start_time": "2023-02-10T23:33:47.705Z"
   },
   {
    "duration": 11,
    "start_time": "2023-02-10T23:33:47.755Z"
   },
   {
    "duration": 173,
    "start_time": "2023-02-10T23:33:47.768Z"
   },
   {
    "duration": 4,
    "start_time": "2023-02-10T23:33:47.943Z"
   },
   {
    "duration": 10,
    "start_time": "2023-02-10T23:33:47.948Z"
   },
   {
    "duration": 8,
    "start_time": "2023-02-10T23:33:47.959Z"
   },
   {
    "duration": 4,
    "start_time": "2023-02-10T23:33:47.968Z"
   },
   {
    "duration": 4,
    "start_time": "2023-02-10T23:33:47.973Z"
   },
   {
    "duration": 8,
    "start_time": "2023-02-10T23:33:47.979Z"
   },
   {
    "duration": 6,
    "start_time": "2023-02-10T23:33:47.988Z"
   },
   {
    "duration": 11,
    "start_time": "2023-02-10T23:33:47.996Z"
   },
   {
    "duration": 30,
    "start_time": "2023-02-10T23:33:48.008Z"
   },
   {
    "duration": 31,
    "start_time": "2023-02-10T23:33:48.039Z"
   },
   {
    "duration": 3,
    "start_time": "2023-02-10T23:33:48.072Z"
   },
   {
    "duration": 10,
    "start_time": "2023-02-10T23:33:48.077Z"
   },
   {
    "duration": 17,
    "start_time": "2023-02-10T23:33:48.088Z"
   },
   {
    "duration": 3,
    "start_time": "2023-02-10T23:33:48.106Z"
   },
   {
    "duration": 75637,
    "start_time": "2023-02-10T23:33:48.111Z"
   },
   {
    "duration": 8,
    "start_time": "2023-02-10T23:35:03.749Z"
   },
   {
    "duration": 40791,
    "start_time": "2023-02-10T23:35:03.758Z"
   },
   {
    "duration": 85,
    "start_time": "2023-02-10T23:35:44.554Z"
   },
   {
    "duration": 99,
    "start_time": "2023-02-10T23:35:44.641Z"
   },
   {
    "duration": 99,
    "start_time": "2023-02-10T23:35:44.745Z"
   },
   {
    "duration": 54489,
    "start_time": "2023-02-10T23:35:44.851Z"
   },
   {
    "duration": 96,
    "start_time": "2023-02-10T23:36:39.343Z"
   },
   {
    "duration": 101,
    "start_time": "2023-02-10T23:36:39.443Z"
   },
   {
    "duration": 102,
    "start_time": "2023-02-10T23:36:39.545Z"
   }
  ],
  "kernelspec": {
   "display_name": "Python 3 (ipykernel)",
   "language": "python",
   "name": "python3"
  },
  "language_info": {
   "codemirror_mode": {
    "name": "ipython",
    "version": 3
   },
   "file_extension": ".py",
   "mimetype": "text/x-python",
   "name": "python",
   "nbconvert_exporter": "python",
   "pygments_lexer": "ipython3",
   "version": "3.9.5"
  },
  "toc": {
   "base_numbering": 1,
   "nav_menu": {},
   "number_sections": true,
   "sideBar": true,
   "skip_h1_title": true,
   "title_cell": "Содержание",
   "title_sidebar": "Contents",
   "toc_cell": true,
   "toc_position": {
    "height": "calc(100% - 180px)",
    "left": "10px",
    "top": "150px",
    "width": "165px"
   },
   "toc_section_display": true,
   "toc_window_display": true
  }
 },
 "nbformat": 4,
 "nbformat_minor": 2
}
