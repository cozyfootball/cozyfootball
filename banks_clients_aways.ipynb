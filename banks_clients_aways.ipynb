{
 "cells": [
  {
   "cell_type": "markdown",
   "metadata": {
    "toc": true
   },
   "source": [
    "<h1>Содержание<span class=\"tocSkip\"></span></h1>\n",
    "<div class=\"toc\"><ul class=\"toc-item\"><li><span><a href=\"#Подготовка-данных\" data-toc-modified-id=\"Подготовка-данных-1\"><span class=\"toc-item-num\">1&nbsp;&nbsp;</span>Подготовка данных</a></span></li><li><span><a href=\"#Исследование-задачи\" data-toc-modified-id=\"Исследование-задачи-2\"><span class=\"toc-item-num\">2&nbsp;&nbsp;</span>Исследование задачи</a></span><ul class=\"toc-item\"><li><span><a href=\"#Подбор-моделей\" data-toc-modified-id=\"Подбор-моделей-2.1\"><span class=\"toc-item-num\">2.1&nbsp;&nbsp;</span>Подбор моделей</a></span></li></ul></li><li><span><a href=\"#Улучшение-моделей\" data-toc-modified-id=\"Улучшение-моделей-3\"><span class=\"toc-item-num\">3&nbsp;&nbsp;</span>Улучшение моделей</a></span><ul class=\"toc-item\"><li><span><a href=\"#Upsampling\" data-toc-modified-id=\"Upsampling-3.1\"><span class=\"toc-item-num\">3.1&nbsp;&nbsp;</span>Upsampling</a></span></li><li><span><a href=\"#Downsampling\" data-toc-modified-id=\"Downsampling-3.2\"><span class=\"toc-item-num\">3.2&nbsp;&nbsp;</span>Downsampling</a></span></li><li><span><a href=\"#Подбор-порога\" data-toc-modified-id=\"Подбор-порога-3.3\"><span class=\"toc-item-num\">3.3&nbsp;&nbsp;</span>Подбор порога</a></span></li><li><span><a href=\"#Настройка-гиперпараметров\" data-toc-modified-id=\"Настройка-гиперпараметров-3.4\"><span class=\"toc-item-num\">3.4&nbsp;&nbsp;</span>Настройка гиперпараметров</a></span></li><li><span><a href=\"#Тест-моделей\" data-toc-modified-id=\"Тест-моделей-3.5\"><span class=\"toc-item-num\">3.5&nbsp;&nbsp;</span>Тест моделей</a></span></li></ul></li><li><span><a href=\"#Вывод\" data-toc-modified-id=\"Вывод-4\"><span class=\"toc-item-num\">4&nbsp;&nbsp;</span>Вывод</a></span><ul class=\"toc-item\"><li><span><a href=\"#Проверка-модели-на-адекватность\" data-toc-modified-id=\"Проверка-модели-на-адекватность-4.1\"><span class=\"toc-item-num\">4.1&nbsp;&nbsp;</span>Проверка модели на адекватность</a></span></li></ul></li></ul></div>"
   ]
  },
  {
   "cell_type": "markdown",
   "metadata": {},
   "source": [
    "# Отток клиентов"
   ]
  },
  {
   "cell_type": "markdown",
   "metadata": {},
   "source": [
    "Дано: отток клиентов банка. \n",
    "\n",
    "Нужно спрогнозировать, уйдёт клиент из банка в ближайшее время или нет. Вам предоставлены исторические данные о поведении клиентов и расторжении договоров с банком. \n",
    "\n",
    "Задача: построить модель с предельно большим значением *F1*-меры. Минимальное значение для решения задачи - 0.55 \n",
    "\n",
    "Источник данных: [https://www.kaggle.com/barelydedicated/bank-customer-churn-modeling](https://www.kaggle.com/barelydedicated/bank-customer-churn-modeling)"
   ]
  },
  {
   "cell_type": "markdown",
   "metadata": {},
   "source": [
    "## Подготовка данных"
   ]
  },
  {
   "cell_type": "markdown",
   "metadata": {},
   "source": [
    "**Необходимые для проекта импорты**"
   ]
  },
  {
   "cell_type": "code",
   "execution_count": 2,
   "metadata": {},
   "outputs": [],
   "source": [
    "import pandas as pd\n",
    "import numpy as np\n",
    "%matplotlib inline\n",
    "import matplotlib.pyplot as plt\n",
    "import seaborn as sns\n",
    "sns.set_style(\"darkgrid\")\n",
    "from sklearn.linear_model import LogisticRegression\n",
    "from sklearn.ensemble import RandomForestClassifier\n",
    "from sklearn.metrics import f1_score, roc_auc_score, roc_curve, precision_score, recall_score\n",
    "from sklearn.metrics import precision_recall_curve, accuracy_score\n",
    "from catboost import CatBoostClassifier\n",
    "from sklearn.preprocessing import StandardScaler\n",
    "from sklearn.model_selection import train_test_split, GridSearchCV\n",
    "from catboost import Pool, cv\n",
    "from sklearn.utils import shuffle\n",
    "import warnings\n",
    "warnings.filterwarnings(\"ignore\")"
   ]
  },
  {
   "cell_type": "markdown",
   "metadata": {},
   "source": [
    "**Изучение датасета**"
   ]
  },
  {
   "cell_type": "code",
   "execution_count": 3,
   "metadata": {},
   "outputs": [
    {
     "data": {
      "text/html": [
       "<div>\n",
       "<style scoped>\n",
       "    .dataframe tbody tr th:only-of-type {\n",
       "        vertical-align: middle;\n",
       "    }\n",
       "\n",
       "    .dataframe tbody tr th {\n",
       "        vertical-align: top;\n",
       "    }\n",
       "\n",
       "    .dataframe thead th {\n",
       "        text-align: right;\n",
       "    }\n",
       "</style>\n",
       "<table border=\"1\" class=\"dataframe\">\n",
       "  <thead>\n",
       "    <tr style=\"text-align: right;\">\n",
       "      <th></th>\n",
       "      <th>RowNumber</th>\n",
       "      <th>CustomerId</th>\n",
       "      <th>Surname</th>\n",
       "      <th>CreditScore</th>\n",
       "      <th>Geography</th>\n",
       "      <th>Gender</th>\n",
       "      <th>Age</th>\n",
       "      <th>Tenure</th>\n",
       "      <th>Balance</th>\n",
       "      <th>NumOfProducts</th>\n",
       "      <th>HasCrCard</th>\n",
       "      <th>IsActiveMember</th>\n",
       "      <th>EstimatedSalary</th>\n",
       "      <th>Exited</th>\n",
       "    </tr>\n",
       "  </thead>\n",
       "  <tbody>\n",
       "    <tr>\n",
       "      <th>0</th>\n",
       "      <td>1</td>\n",
       "      <td>15634602</td>\n",
       "      <td>Hargrave</td>\n",
       "      <td>619</td>\n",
       "      <td>France</td>\n",
       "      <td>Female</td>\n",
       "      <td>42</td>\n",
       "      <td>2.0</td>\n",
       "      <td>0.00</td>\n",
       "      <td>1</td>\n",
       "      <td>1</td>\n",
       "      <td>1</td>\n",
       "      <td>101348.88</td>\n",
       "      <td>1</td>\n",
       "    </tr>\n",
       "    <tr>\n",
       "      <th>1</th>\n",
       "      <td>2</td>\n",
       "      <td>15647311</td>\n",
       "      <td>Hill</td>\n",
       "      <td>608</td>\n",
       "      <td>Spain</td>\n",
       "      <td>Female</td>\n",
       "      <td>41</td>\n",
       "      <td>1.0</td>\n",
       "      <td>83807.86</td>\n",
       "      <td>1</td>\n",
       "      <td>0</td>\n",
       "      <td>1</td>\n",
       "      <td>112542.58</td>\n",
       "      <td>0</td>\n",
       "    </tr>\n",
       "    <tr>\n",
       "      <th>2</th>\n",
       "      <td>3</td>\n",
       "      <td>15619304</td>\n",
       "      <td>Onio</td>\n",
       "      <td>502</td>\n",
       "      <td>France</td>\n",
       "      <td>Female</td>\n",
       "      <td>42</td>\n",
       "      <td>8.0</td>\n",
       "      <td>159660.80</td>\n",
       "      <td>3</td>\n",
       "      <td>1</td>\n",
       "      <td>0</td>\n",
       "      <td>113931.57</td>\n",
       "      <td>1</td>\n",
       "    </tr>\n",
       "    <tr>\n",
       "      <th>3</th>\n",
       "      <td>4</td>\n",
       "      <td>15701354</td>\n",
       "      <td>Boni</td>\n",
       "      <td>699</td>\n",
       "      <td>France</td>\n",
       "      <td>Female</td>\n",
       "      <td>39</td>\n",
       "      <td>1.0</td>\n",
       "      <td>0.00</td>\n",
       "      <td>2</td>\n",
       "      <td>0</td>\n",
       "      <td>0</td>\n",
       "      <td>93826.63</td>\n",
       "      <td>0</td>\n",
       "    </tr>\n",
       "    <tr>\n",
       "      <th>4</th>\n",
       "      <td>5</td>\n",
       "      <td>15737888</td>\n",
       "      <td>Mitchell</td>\n",
       "      <td>850</td>\n",
       "      <td>Spain</td>\n",
       "      <td>Female</td>\n",
       "      <td>43</td>\n",
       "      <td>2.0</td>\n",
       "      <td>125510.82</td>\n",
       "      <td>1</td>\n",
       "      <td>1</td>\n",
       "      <td>1</td>\n",
       "      <td>79084.10</td>\n",
       "      <td>0</td>\n",
       "    </tr>\n",
       "    <tr>\n",
       "      <th>5</th>\n",
       "      <td>6</td>\n",
       "      <td>15574012</td>\n",
       "      <td>Chu</td>\n",
       "      <td>645</td>\n",
       "      <td>Spain</td>\n",
       "      <td>Male</td>\n",
       "      <td>44</td>\n",
       "      <td>8.0</td>\n",
       "      <td>113755.78</td>\n",
       "      <td>2</td>\n",
       "      <td>1</td>\n",
       "      <td>0</td>\n",
       "      <td>149756.71</td>\n",
       "      <td>1</td>\n",
       "    </tr>\n",
       "    <tr>\n",
       "      <th>6</th>\n",
       "      <td>7</td>\n",
       "      <td>15592531</td>\n",
       "      <td>Bartlett</td>\n",
       "      <td>822</td>\n",
       "      <td>France</td>\n",
       "      <td>Male</td>\n",
       "      <td>50</td>\n",
       "      <td>7.0</td>\n",
       "      <td>0.00</td>\n",
       "      <td>2</td>\n",
       "      <td>1</td>\n",
       "      <td>1</td>\n",
       "      <td>10062.80</td>\n",
       "      <td>0</td>\n",
       "    </tr>\n",
       "  </tbody>\n",
       "</table>\n",
       "</div>"
      ],
      "text/plain": [
       "   RowNumber  CustomerId   Surname  CreditScore Geography  Gender  Age  \\\n",
       "0          1    15634602  Hargrave          619    France  Female   42   \n",
       "1          2    15647311      Hill          608     Spain  Female   41   \n",
       "2          3    15619304      Onio          502    France  Female   42   \n",
       "3          4    15701354      Boni          699    France  Female   39   \n",
       "4          5    15737888  Mitchell          850     Spain  Female   43   \n",
       "5          6    15574012       Chu          645     Spain    Male   44   \n",
       "6          7    15592531  Bartlett          822    France    Male   50   \n",
       "\n",
       "   Tenure    Balance  NumOfProducts  HasCrCard  IsActiveMember  \\\n",
       "0     2.0       0.00              1          1               1   \n",
       "1     1.0   83807.86              1          0               1   \n",
       "2     8.0  159660.80              3          1               0   \n",
       "3     1.0       0.00              2          0               0   \n",
       "4     2.0  125510.82              1          1               1   \n",
       "5     8.0  113755.78              2          1               0   \n",
       "6     7.0       0.00              2          1               1   \n",
       "\n",
       "   EstimatedSalary  Exited  \n",
       "0        101348.88       1  \n",
       "1        112542.58       0  \n",
       "2        113931.57       1  \n",
       "3         93826.63       0  \n",
       "4         79084.10       0  \n",
       "5        149756.71       1  \n",
       "6         10062.80       0  "
      ]
     },
     "execution_count": 3,
     "metadata": {},
     "output_type": "execute_result"
    }
   ],
   "source": [
    "try:\n",
    "    df = pd.read_csv('/datasets/Churn.csv')\n",
    "except:\n",
    "    df = pd.read_csv('https://code.s3.yandex.net/datasets/Churn.csv')\n",
    "df.head(7)"
   ]
  },
  {
   "cell_type": "code",
   "execution_count": 4,
   "metadata": {},
   "outputs": [
    {
     "data": {
      "text/plain": [
       "(10000, 14)"
      ]
     },
     "execution_count": 4,
     "metadata": {},
     "output_type": "execute_result"
    }
   ],
   "source": [
    "df.shape"
   ]
  },
  {
   "cell_type": "code",
   "execution_count": 5,
   "metadata": {},
   "outputs": [
    {
     "name": "stdout",
     "output_type": "stream",
     "text": [
      "<class 'pandas.core.frame.DataFrame'>\n",
      "RangeIndex: 10000 entries, 0 to 9999\n",
      "Data columns (total 14 columns):\n",
      " #   Column           Non-Null Count  Dtype  \n",
      "---  ------           --------------  -----  \n",
      " 0   RowNumber        10000 non-null  int64  \n",
      " 1   CustomerId       10000 non-null  int64  \n",
      " 2   Surname          10000 non-null  object \n",
      " 3   CreditScore      10000 non-null  int64  \n",
      " 4   Geography        10000 non-null  object \n",
      " 5   Gender           10000 non-null  object \n",
      " 6   Age              10000 non-null  int64  \n",
      " 7   Tenure           9091 non-null   float64\n",
      " 8   Balance          10000 non-null  float64\n",
      " 9   NumOfProducts    10000 non-null  int64  \n",
      " 10  HasCrCard        10000 non-null  int64  \n",
      " 11  IsActiveMember   10000 non-null  int64  \n",
      " 12  EstimatedSalary  10000 non-null  float64\n",
      " 13  Exited           10000 non-null  int64  \n",
      "dtypes: float64(3), int64(8), object(3)\n",
      "memory usage: 1.1+ MB\n"
     ]
    }
   ],
   "source": [
    "df.info()"
   ]
  },
  {
   "cell_type": "markdown",
   "metadata": {},
   "source": [
    "Наблюдаем пропуски в столбце tenure. Решим в дальнейшем, что с ними делать - здесь имеет место быть либо технические особенности (например, если клиент в банке менее 1 года - ставится NaN) - так или иначе, восстановить по другим признакам данные мы не можем."
   ]
  },
  {
   "cell_type": "code",
   "execution_count": 6,
   "metadata": {},
   "outputs": [
    {
     "data": {
      "text/html": [
       "<div>\n",
       "<style scoped>\n",
       "    .dataframe tbody tr th:only-of-type {\n",
       "        vertical-align: middle;\n",
       "    }\n",
       "\n",
       "    .dataframe tbody tr th {\n",
       "        vertical-align: top;\n",
       "    }\n",
       "\n",
       "    .dataframe thead th {\n",
       "        text-align: right;\n",
       "    }\n",
       "</style>\n",
       "<table border=\"1\" class=\"dataframe\">\n",
       "  <thead>\n",
       "    <tr style=\"text-align: right;\">\n",
       "      <th></th>\n",
       "      <th>count</th>\n",
       "      <th>mean</th>\n",
       "      <th>std</th>\n",
       "      <th>min</th>\n",
       "      <th>25%</th>\n",
       "      <th>50%</th>\n",
       "      <th>75%</th>\n",
       "      <th>max</th>\n",
       "    </tr>\n",
       "  </thead>\n",
       "  <tbody>\n",
       "    <tr>\n",
       "      <th>RowNumber</th>\n",
       "      <td>10000.0</td>\n",
       "      <td>5.000500e+03</td>\n",
       "      <td>2886.895680</td>\n",
       "      <td>1.00</td>\n",
       "      <td>2500.75</td>\n",
       "      <td>5.000500e+03</td>\n",
       "      <td>7.500250e+03</td>\n",
       "      <td>10000.00</td>\n",
       "    </tr>\n",
       "    <tr>\n",
       "      <th>CustomerId</th>\n",
       "      <td>10000.0</td>\n",
       "      <td>1.569094e+07</td>\n",
       "      <td>71936.186123</td>\n",
       "      <td>15565701.00</td>\n",
       "      <td>15628528.25</td>\n",
       "      <td>1.569074e+07</td>\n",
       "      <td>1.575323e+07</td>\n",
       "      <td>15815690.00</td>\n",
       "    </tr>\n",
       "    <tr>\n",
       "      <th>CreditScore</th>\n",
       "      <td>10000.0</td>\n",
       "      <td>6.505288e+02</td>\n",
       "      <td>96.653299</td>\n",
       "      <td>350.00</td>\n",
       "      <td>584.00</td>\n",
       "      <td>6.520000e+02</td>\n",
       "      <td>7.180000e+02</td>\n",
       "      <td>850.00</td>\n",
       "    </tr>\n",
       "    <tr>\n",
       "      <th>Age</th>\n",
       "      <td>10000.0</td>\n",
       "      <td>3.892180e+01</td>\n",
       "      <td>10.487806</td>\n",
       "      <td>18.00</td>\n",
       "      <td>32.00</td>\n",
       "      <td>3.700000e+01</td>\n",
       "      <td>4.400000e+01</td>\n",
       "      <td>92.00</td>\n",
       "    </tr>\n",
       "    <tr>\n",
       "      <th>Tenure</th>\n",
       "      <td>9091.0</td>\n",
       "      <td>4.997690e+00</td>\n",
       "      <td>2.894723</td>\n",
       "      <td>0.00</td>\n",
       "      <td>2.00</td>\n",
       "      <td>5.000000e+00</td>\n",
       "      <td>7.000000e+00</td>\n",
       "      <td>10.00</td>\n",
       "    </tr>\n",
       "    <tr>\n",
       "      <th>Balance</th>\n",
       "      <td>10000.0</td>\n",
       "      <td>7.648589e+04</td>\n",
       "      <td>62397.405202</td>\n",
       "      <td>0.00</td>\n",
       "      <td>0.00</td>\n",
       "      <td>9.719854e+04</td>\n",
       "      <td>1.276442e+05</td>\n",
       "      <td>250898.09</td>\n",
       "    </tr>\n",
       "    <tr>\n",
       "      <th>NumOfProducts</th>\n",
       "      <td>10000.0</td>\n",
       "      <td>1.530200e+00</td>\n",
       "      <td>0.581654</td>\n",
       "      <td>1.00</td>\n",
       "      <td>1.00</td>\n",
       "      <td>1.000000e+00</td>\n",
       "      <td>2.000000e+00</td>\n",
       "      <td>4.00</td>\n",
       "    </tr>\n",
       "    <tr>\n",
       "      <th>HasCrCard</th>\n",
       "      <td>10000.0</td>\n",
       "      <td>7.055000e-01</td>\n",
       "      <td>0.455840</td>\n",
       "      <td>0.00</td>\n",
       "      <td>0.00</td>\n",
       "      <td>1.000000e+00</td>\n",
       "      <td>1.000000e+00</td>\n",
       "      <td>1.00</td>\n",
       "    </tr>\n",
       "    <tr>\n",
       "      <th>IsActiveMember</th>\n",
       "      <td>10000.0</td>\n",
       "      <td>5.151000e-01</td>\n",
       "      <td>0.499797</td>\n",
       "      <td>0.00</td>\n",
       "      <td>0.00</td>\n",
       "      <td>1.000000e+00</td>\n",
       "      <td>1.000000e+00</td>\n",
       "      <td>1.00</td>\n",
       "    </tr>\n",
       "    <tr>\n",
       "      <th>EstimatedSalary</th>\n",
       "      <td>10000.0</td>\n",
       "      <td>1.000902e+05</td>\n",
       "      <td>57510.492818</td>\n",
       "      <td>11.58</td>\n",
       "      <td>51002.11</td>\n",
       "      <td>1.001939e+05</td>\n",
       "      <td>1.493882e+05</td>\n",
       "      <td>199992.48</td>\n",
       "    </tr>\n",
       "    <tr>\n",
       "      <th>Exited</th>\n",
       "      <td>10000.0</td>\n",
       "      <td>2.037000e-01</td>\n",
       "      <td>0.402769</td>\n",
       "      <td>0.00</td>\n",
       "      <td>0.00</td>\n",
       "      <td>0.000000e+00</td>\n",
       "      <td>0.000000e+00</td>\n",
       "      <td>1.00</td>\n",
       "    </tr>\n",
       "  </tbody>\n",
       "</table>\n",
       "</div>"
      ],
      "text/plain": [
       "                   count          mean           std          min  \\\n",
       "RowNumber        10000.0  5.000500e+03   2886.895680         1.00   \n",
       "CustomerId       10000.0  1.569094e+07  71936.186123  15565701.00   \n",
       "CreditScore      10000.0  6.505288e+02     96.653299       350.00   \n",
       "Age              10000.0  3.892180e+01     10.487806        18.00   \n",
       "Tenure            9091.0  4.997690e+00      2.894723         0.00   \n",
       "Balance          10000.0  7.648589e+04  62397.405202         0.00   \n",
       "NumOfProducts    10000.0  1.530200e+00      0.581654         1.00   \n",
       "HasCrCard        10000.0  7.055000e-01      0.455840         0.00   \n",
       "IsActiveMember   10000.0  5.151000e-01      0.499797         0.00   \n",
       "EstimatedSalary  10000.0  1.000902e+05  57510.492818        11.58   \n",
       "Exited           10000.0  2.037000e-01      0.402769         0.00   \n",
       "\n",
       "                         25%           50%           75%          max  \n",
       "RowNumber            2500.75  5.000500e+03  7.500250e+03     10000.00  \n",
       "CustomerId       15628528.25  1.569074e+07  1.575323e+07  15815690.00  \n",
       "CreditScore           584.00  6.520000e+02  7.180000e+02       850.00  \n",
       "Age                    32.00  3.700000e+01  4.400000e+01        92.00  \n",
       "Tenure                  2.00  5.000000e+00  7.000000e+00        10.00  \n",
       "Balance                 0.00  9.719854e+04  1.276442e+05    250898.09  \n",
       "NumOfProducts           1.00  1.000000e+00  2.000000e+00         4.00  \n",
       "HasCrCard               0.00  1.000000e+00  1.000000e+00         1.00  \n",
       "IsActiveMember          0.00  1.000000e+00  1.000000e+00         1.00  \n",
       "EstimatedSalary     51002.11  1.001939e+05  1.493882e+05    199992.48  \n",
       "Exited                  0.00  0.000000e+00  0.000000e+00         1.00  "
      ]
     },
     "execution_count": 6,
     "metadata": {},
     "output_type": "execute_result"
    }
   ],
   "source": [
    "df.describe().T"
   ]
  },
  {
   "cell_type": "markdown",
   "metadata": {},
   "source": [
    "**Признаки:**\n",
    "\n",
    "- RowNumber — индекс строки в данных\n",
    "- CustomerId — уникальный идентификатор клиента\n",
    "- Surname — фамилия\n",
    "- CreditScore — кредитный рейтинг\n",
    "- Geography — страна проживания\n",
    "- Gender — пол\n",
    "- Age — возраст\n",
    "- Tenure — сколько лет человек является клиентом банка\n",
    "- Balance — баланс на счёте\n",
    "- NumOfProducts — количество продуктов банка, используемых клиентом\n",
    "- HasCrCard — наличие кредитной карты\n",
    "- IsActiveMember — активность клиента\n",
    "- EstimatedSalary — предполагаемая зарплата\n",
    "\n",
    "**Таргет:**\n",
    "- Exited — факт ухода клиента"
   ]
  },
  {
   "cell_type": "code",
   "execution_count": 7,
   "metadata": {},
   "outputs": [
    {
     "data": {
      "text/html": [
       "<div>\n",
       "<style scoped>\n",
       "    .dataframe tbody tr th:only-of-type {\n",
       "        vertical-align: middle;\n",
       "    }\n",
       "\n",
       "    .dataframe tbody tr th {\n",
       "        vertical-align: top;\n",
       "    }\n",
       "\n",
       "    .dataframe thead th {\n",
       "        text-align: right;\n",
       "    }\n",
       "</style>\n",
       "<table border=\"1\" class=\"dataframe\">\n",
       "  <thead>\n",
       "    <tr style=\"text-align: right;\">\n",
       "      <th></th>\n",
       "      <th>Exited</th>\n",
       "    </tr>\n",
       "  </thead>\n",
       "  <tbody>\n",
       "    <tr>\n",
       "      <th>0</th>\n",
       "      <td>7963</td>\n",
       "    </tr>\n",
       "    <tr>\n",
       "      <th>1</th>\n",
       "      <td>2037</td>\n",
       "    </tr>\n",
       "  </tbody>\n",
       "</table>\n",
       "</div>"
      ],
      "text/plain": [
       "   Exited\n",
       "0    7963\n",
       "1    2037"
      ]
     },
     "execution_count": 7,
     "metadata": {},
     "output_type": "execute_result"
    }
   ],
   "source": [
    "df['Exited'].value_counts().to_frame()"
   ]
  },
  {
   "cell_type": "code",
   "execution_count": 8,
   "metadata": {},
   "outputs": [
    {
     "data": {
      "text/plain": [
       "Index(['rownumber', 'customerid', 'surname', 'creditscore', 'geography',\n",
       "       'gender', 'age', 'tenure', 'balance', 'numofproducts', 'hascrcard',\n",
       "       'isactivemember', 'estimatedsalary', 'exited'],\n",
       "      dtype='object')"
      ]
     },
     "execution_count": 8,
     "metadata": {},
     "output_type": "execute_result"
    }
   ],
   "source": [
    "df.columns = df.columns.str.lower()\n",
    "df.columns"
   ]
  },
  {
   "cell_type": "code",
   "execution_count": 9,
   "metadata": {},
   "outputs": [
    {
     "data": {
      "image/png": "[encoded data removed]",
      "text/plain": [
       "<Figure size 1440x1080 with 12 Axes>"
      ]
     },
     "metadata": {},
     "output_type": "display_data"
    }
   ],
   "source": [
    "df.hist(bins=50, figsize=(20,15))\n",
    "plt.show()"
   ]
  },
  {
   "cell_type": "code",
   "execution_count": 10,
   "metadata": {},
   "outputs": [
    {
     "data": {
      "image/png": "[encoded data removed]",
      "text/plain": [
       "<Figure size 432x288 with 1 Axes>"
      ]
     },
     "metadata": {},
     "output_type": "display_data"
    }
   ],
   "source": [
    "df['gender'].hist()\n",
    "plt.show()"
   ]
  },
  {
   "cell_type": "code",
   "execution_count": 11,
   "metadata": {},
   "outputs": [
    {
     "data": {
      "image/png": "[encoded data removed]",
      "text/plain": [
       "<Figure size 432x288 with 1 Axes>"
      ]
     },
     "metadata": {},
     "output_type": "display_data"
    }
   ],
   "source": [
    "df['geography'].hist()\n",
    "plt.show()"
   ]
  },
  {
   "cell_type": "markdown",
   "metadata": {},
   "source": [
    "**Проверка на дупликаты**"
   ]
  },
  {
   "cell_type": "code",
   "execution_count": 12,
   "metadata": {},
   "outputs": [
    {
     "name": "stdout",
     "output_type": "stream",
     "text": [
      "Количество полных дубликтов в датасете 0\n"
     ]
    }
   ],
   "source": [
    "mydups = df.duplicated().sum()\n",
    "print('Количество полных дубликтов в датасете', mydups)"
   ]
  },
  {
   "cell_type": "markdown",
   "metadata": {},
   "source": [
    "**Пропуски**"
   ]
  },
  {
   "cell_type": "code",
   "execution_count": 13,
   "metadata": {},
   "outputs": [
    {
     "data": {
      "text/html": [
       "<style  type=\"text/css\" >\n",
       "#T_6fdbc_row0_col0,#T_6fdbc_row1_col0,#T_6fdbc_row2_col0,#T_6fdbc_row3_col0,#T_6fdbc_row4_col0,#T_6fdbc_row5_col0,#T_6fdbc_row6_col0,#T_6fdbc_row8_col0,#T_6fdbc_row9_col0,#T_6fdbc_row10_col0,#T_6fdbc_row11_col0,#T_6fdbc_row12_col0,#T_6fdbc_row13_col0{\n",
       "            background-color:  #0000ff;\n",
       "            color:  #f1f1f1;\n",
       "        }#T_6fdbc_row7_col0{\n",
       "            background-color:  #ff0000;\n",
       "            color:  #f1f1f1;\n",
       "        }</style><table id=\"T_6fdbc_\" ><thead>    <tr>        <th class=\"blank level0\" ></th>        <th class=\"col_heading level0 col0\" >0</th>    </tr></thead><tbody>\n",
       "                <tr>\n",
       "                        <th id=\"T_6fdbc_level0_row0\" class=\"row_heading level0 row0\" >rownumber</th>\n",
       "                        <td id=\"T_6fdbc_row0_col0\" class=\"data row0 col0\" >0.000000</td>\n",
       "            </tr>\n",
       "            <tr>\n",
       "                        <th id=\"T_6fdbc_level0_row1\" class=\"row_heading level0 row1\" >customerid</th>\n",
       "                        <td id=\"T_6fdbc_row1_col0\" class=\"data row1 col0\" >0.000000</td>\n",
       "            </tr>\n",
       "            <tr>\n",
       "                        <th id=\"T_6fdbc_level0_row2\" class=\"row_heading level0 row2\" >surname</th>\n",
       "                        <td id=\"T_6fdbc_row2_col0\" class=\"data row2 col0\" >0.000000</td>\n",
       "            </tr>\n",
       "            <tr>\n",
       "                        <th id=\"T_6fdbc_level0_row3\" class=\"row_heading level0 row3\" >creditscore</th>\n",
       "                        <td id=\"T_6fdbc_row3_col0\" class=\"data row3 col0\" >0.000000</td>\n",
       "            </tr>\n",
       "            <tr>\n",
       "                        <th id=\"T_6fdbc_level0_row4\" class=\"row_heading level0 row4\" >geography</th>\n",
       "                        <td id=\"T_6fdbc_row4_col0\" class=\"data row4 col0\" >0.000000</td>\n",
       "            </tr>\n",
       "            <tr>\n",
       "                        <th id=\"T_6fdbc_level0_row5\" class=\"row_heading level0 row5\" >gender</th>\n",
       "                        <td id=\"T_6fdbc_row5_col0\" class=\"data row5 col0\" >0.000000</td>\n",
       "            </tr>\n",
       "            <tr>\n",
       "                        <th id=\"T_6fdbc_level0_row6\" class=\"row_heading level0 row6\" >age</th>\n",
       "                        <td id=\"T_6fdbc_row6_col0\" class=\"data row6 col0\" >0.000000</td>\n",
       "            </tr>\n",
       "            <tr>\n",
       "                        <th id=\"T_6fdbc_level0_row7\" class=\"row_heading level0 row7\" >tenure</th>\n",
       "                        <td id=\"T_6fdbc_row7_col0\" class=\"data row7 col0\" >9.100000</td>\n",
       "            </tr>\n",
       "            <tr>\n",
       "                        <th id=\"T_6fdbc_level0_row8\" class=\"row_heading level0 row8\" >balance</th>\n",
       "                        <td id=\"T_6fdbc_row8_col0\" class=\"data row8 col0\" >0.000000</td>\n",
       "            </tr>\n",
       "            <tr>\n",
       "                        <th id=\"T_6fdbc_level0_row9\" class=\"row_heading level0 row9\" >numofproducts</th>\n",
       "                        <td id=\"T_6fdbc_row9_col0\" class=\"data row9 col0\" >0.000000</td>\n",
       "            </tr>\n",
       "            <tr>\n",
       "                        <th id=\"T_6fdbc_level0_row10\" class=\"row_heading level0 row10\" >hascrcard</th>\n",
       "                        <td id=\"T_6fdbc_row10_col0\" class=\"data row10 col0\" >0.000000</td>\n",
       "            </tr>\n",
       "            <tr>\n",
       "                        <th id=\"T_6fdbc_level0_row11\" class=\"row_heading level0 row11\" >isactivemember</th>\n",
       "                        <td id=\"T_6fdbc_row11_col0\" class=\"data row11 col0\" >0.000000</td>\n",
       "            </tr>\n",
       "            <tr>\n",
       "                        <th id=\"T_6fdbc_level0_row12\" class=\"row_heading level0 row12\" >estimatedsalary</th>\n",
       "                        <td id=\"T_6fdbc_row12_col0\" class=\"data row12 col0\" >0.000000</td>\n",
       "            </tr>\n",
       "            <tr>\n",
       "                        <th id=\"T_6fdbc_level0_row13\" class=\"row_heading level0 row13\" >exited</th>\n",
       "                        <td id=\"T_6fdbc_row13_col0\" class=\"data row13 col0\" >0.000000</td>\n",
       "            </tr>\n",
       "    </tbody></table>"
      ],
      "text/plain": [
       "<pandas.io.formats.style.Styler at 0x7f4cb9515c10>"
      ]
     },
     "execution_count": 13,
     "metadata": {},
     "output_type": "execute_result"
    }
   ],
   "source": [
    "pd.DataFrame(round(df.isna().mean()*100,1)).style.background_gradient('bwr')"
   ]
  },
  {
   "cell_type": "markdown",
   "metadata": {},
   "source": [
    "**Таргет**"
   ]
  },
  {
   "cell_type": "code",
   "execution_count": 14,
   "metadata": {},
   "outputs": [
    {
     "data": {
      "text/plain": [
       "0    7963\n",
       "1    2037\n",
       "Name: exited, dtype: int64"
      ]
     },
     "execution_count": 14,
     "metadata": {},
     "output_type": "execute_result"
    }
   ],
   "source": [
    "df['exited'].value_counts()"
   ]
  },
  {
   "cell_type": "code",
   "execution_count": 15,
   "metadata": {},
   "outputs": [
    {
     "data": {
      "text/html": [
       "<div>\n",
       "<style scoped>\n",
       "    .dataframe tbody tr th:only-of-type {\n",
       "        vertical-align: middle;\n",
       "    }\n",
       "\n",
       "    .dataframe tbody tr th {\n",
       "        vertical-align: top;\n",
       "    }\n",
       "\n",
       "    .dataframe thead th {\n",
       "        text-align: right;\n",
       "    }\n",
       "</style>\n",
       "<table border=\"1\" class=\"dataframe\">\n",
       "  <thead>\n",
       "    <tr style=\"text-align: right;\">\n",
       "      <th></th>\n",
       "      <th>numofproducts</th>\n",
       "    </tr>\n",
       "  </thead>\n",
       "  <tbody>\n",
       "    <tr>\n",
       "      <th>1</th>\n",
       "      <td>467</td>\n",
       "    </tr>\n",
       "    <tr>\n",
       "      <th>2</th>\n",
       "      <td>406</td>\n",
       "    </tr>\n",
       "    <tr>\n",
       "      <th>3</th>\n",
       "      <td>32</td>\n",
       "    </tr>\n",
       "    <tr>\n",
       "      <th>4</th>\n",
       "      <td>4</td>\n",
       "    </tr>\n",
       "  </tbody>\n",
       "</table>\n",
       "</div>"
      ],
      "text/plain": [
       "   numofproducts\n",
       "1            467\n",
       "2            406\n",
       "3             32\n",
       "4              4"
      ]
     },
     "execution_count": 15,
     "metadata": {},
     "output_type": "execute_result"
    }
   ],
   "source": [
    "df[(df['tenure'].isna() == True)]['numofproducts'].value_counts().to_frame()"
   ]
  },
  {
   "cell_type": "code",
   "execution_count": 16,
   "metadata": {},
   "outputs": [
    {
     "name": "stdout",
     "output_type": "stream",
     "text": [
      "Доля ушедших клиентов 0.2037\n"
     ]
    }
   ],
   "source": [
    "print('Доля ушедших клиентов', df['exited'].mean())"
   ]
  },
  {
   "cell_type": "markdown",
   "metadata": {},
   "source": [
    "Мы предварительно рассмотрели наш сет данных:\n",
    "\n",
    "- пропуски обнаружены в одном столбце tenure - заменили на 0, необходимо уточнить причину появления\n",
    "- дубликатов не обнаружено, удалять строки не требуется\n",
    "- в процессе подготовки признаков для анализа - удалим столбцы customer_id, row_number и surname\n"
   ]
  },
  {
   "cell_type": "code",
   "execution_count": 17,
   "metadata": {},
   "outputs": [
    {
     "data": {
      "text/html": [
       "<div>\n",
       "<style scoped>\n",
       "    .dataframe tbody tr th:only-of-type {\n",
       "        vertical-align: middle;\n",
       "    }\n",
       "\n",
       "    .dataframe tbody tr th {\n",
       "        vertical-align: top;\n",
       "    }\n",
       "\n",
       "    .dataframe thead th {\n",
       "        text-align: right;\n",
       "    }\n",
       "</style>\n",
       "<table border=\"1\" class=\"dataframe\">\n",
       "  <thead>\n",
       "    <tr style=\"text-align: right;\">\n",
       "      <th></th>\n",
       "      <th>rownumber</th>\n",
       "      <th>customerid</th>\n",
       "      <th>surname</th>\n",
       "      <th>creditscore</th>\n",
       "      <th>geography</th>\n",
       "      <th>gender</th>\n",
       "      <th>age</th>\n",
       "      <th>tenure</th>\n",
       "      <th>balance</th>\n",
       "      <th>numofproducts</th>\n",
       "      <th>hascrcard</th>\n",
       "      <th>isactivemember</th>\n",
       "      <th>estimatedsalary</th>\n",
       "      <th>exited</th>\n",
       "    </tr>\n",
       "  </thead>\n",
       "  <tbody>\n",
       "    <tr>\n",
       "      <th>0</th>\n",
       "      <td>1</td>\n",
       "      <td>15634602</td>\n",
       "      <td>Hargrave</td>\n",
       "      <td>619</td>\n",
       "      <td>France</td>\n",
       "      <td>Female</td>\n",
       "      <td>42</td>\n",
       "      <td>2.0</td>\n",
       "      <td>0.00</td>\n",
       "      <td>1</td>\n",
       "      <td>1</td>\n",
       "      <td>1</td>\n",
       "      <td>101348.88</td>\n",
       "      <td>1</td>\n",
       "    </tr>\n",
       "    <tr>\n",
       "      <th>1</th>\n",
       "      <td>2</td>\n",
       "      <td>15647311</td>\n",
       "      <td>Hill</td>\n",
       "      <td>608</td>\n",
       "      <td>Spain</td>\n",
       "      <td>Female</td>\n",
       "      <td>41</td>\n",
       "      <td>1.0</td>\n",
       "      <td>83807.86</td>\n",
       "      <td>1</td>\n",
       "      <td>0</td>\n",
       "      <td>1</td>\n",
       "      <td>112542.58</td>\n",
       "      <td>0</td>\n",
       "    </tr>\n",
       "    <tr>\n",
       "      <th>2</th>\n",
       "      <td>3</td>\n",
       "      <td>15619304</td>\n",
       "      <td>Onio</td>\n",
       "      <td>502</td>\n",
       "      <td>France</td>\n",
       "      <td>Female</td>\n",
       "      <td>42</td>\n",
       "      <td>8.0</td>\n",
       "      <td>159660.80</td>\n",
       "      <td>3</td>\n",
       "      <td>1</td>\n",
       "      <td>0</td>\n",
       "      <td>113931.57</td>\n",
       "      <td>1</td>\n",
       "    </tr>\n",
       "    <tr>\n",
       "      <th>3</th>\n",
       "      <td>4</td>\n",
       "      <td>15701354</td>\n",
       "      <td>Boni</td>\n",
       "      <td>699</td>\n",
       "      <td>France</td>\n",
       "      <td>Female</td>\n",
       "      <td>39</td>\n",
       "      <td>1.0</td>\n",
       "      <td>0.00</td>\n",
       "      <td>2</td>\n",
       "      <td>0</td>\n",
       "      <td>0</td>\n",
       "      <td>93826.63</td>\n",
       "      <td>0</td>\n",
       "    </tr>\n",
       "    <tr>\n",
       "      <th>4</th>\n",
       "      <td>5</td>\n",
       "      <td>15737888</td>\n",
       "      <td>Mitchell</td>\n",
       "      <td>850</td>\n",
       "      <td>Spain</td>\n",
       "      <td>Female</td>\n",
       "      <td>43</td>\n",
       "      <td>2.0</td>\n",
       "      <td>125510.82</td>\n",
       "      <td>1</td>\n",
       "      <td>1</td>\n",
       "      <td>1</td>\n",
       "      <td>79084.10</td>\n",
       "      <td>0</td>\n",
       "    </tr>\n",
       "    <tr>\n",
       "      <th>...</th>\n",
       "      <td>...</td>\n",
       "      <td>...</td>\n",
       "      <td>...</td>\n",
       "      <td>...</td>\n",
       "      <td>...</td>\n",
       "      <td>...</td>\n",
       "      <td>...</td>\n",
       "      <td>...</td>\n",
       "      <td>...</td>\n",
       "      <td>...</td>\n",
       "      <td>...</td>\n",
       "      <td>...</td>\n",
       "      <td>...</td>\n",
       "      <td>...</td>\n",
       "    </tr>\n",
       "    <tr>\n",
       "      <th>9995</th>\n",
       "      <td>9996</td>\n",
       "      <td>15606229</td>\n",
       "      <td>Obijiaku</td>\n",
       "      <td>771</td>\n",
       "      <td>France</td>\n",
       "      <td>Male</td>\n",
       "      <td>39</td>\n",
       "      <td>5.0</td>\n",
       "      <td>0.00</td>\n",
       "      <td>2</td>\n",
       "      <td>1</td>\n",
       "      <td>0</td>\n",
       "      <td>96270.64</td>\n",
       "      <td>0</td>\n",
       "    </tr>\n",
       "    <tr>\n",
       "      <th>9996</th>\n",
       "      <td>9997</td>\n",
       "      <td>15569892</td>\n",
       "      <td>Johnstone</td>\n",
       "      <td>516</td>\n",
       "      <td>France</td>\n",
       "      <td>Male</td>\n",
       "      <td>35</td>\n",
       "      <td>10.0</td>\n",
       "      <td>57369.61</td>\n",
       "      <td>1</td>\n",
       "      <td>1</td>\n",
       "      <td>1</td>\n",
       "      <td>101699.77</td>\n",
       "      <td>0</td>\n",
       "    </tr>\n",
       "    <tr>\n",
       "      <th>9997</th>\n",
       "      <td>9998</td>\n",
       "      <td>15584532</td>\n",
       "      <td>Liu</td>\n",
       "      <td>709</td>\n",
       "      <td>France</td>\n",
       "      <td>Female</td>\n",
       "      <td>36</td>\n",
       "      <td>7.0</td>\n",
       "      <td>0.00</td>\n",
       "      <td>1</td>\n",
       "      <td>0</td>\n",
       "      <td>1</td>\n",
       "      <td>42085.58</td>\n",
       "      <td>1</td>\n",
       "    </tr>\n",
       "    <tr>\n",
       "      <th>9998</th>\n",
       "      <td>9999</td>\n",
       "      <td>15682355</td>\n",
       "      <td>Sabbatini</td>\n",
       "      <td>772</td>\n",
       "      <td>Germany</td>\n",
       "      <td>Male</td>\n",
       "      <td>42</td>\n",
       "      <td>3.0</td>\n",
       "      <td>75075.31</td>\n",
       "      <td>2</td>\n",
       "      <td>1</td>\n",
       "      <td>0</td>\n",
       "      <td>92888.52</td>\n",
       "      <td>1</td>\n",
       "    </tr>\n",
       "    <tr>\n",
       "      <th>9999</th>\n",
       "      <td>10000</td>\n",
       "      <td>15628319</td>\n",
       "      <td>Walker</td>\n",
       "      <td>792</td>\n",
       "      <td>France</td>\n",
       "      <td>Female</td>\n",
       "      <td>28</td>\n",
       "      <td>NaN</td>\n",
       "      <td>130142.79</td>\n",
       "      <td>1</td>\n",
       "      <td>1</td>\n",
       "      <td>0</td>\n",
       "      <td>38190.78</td>\n",
       "      <td>0</td>\n",
       "    </tr>\n",
       "  </tbody>\n",
       "</table>\n",
       "<p>10000 rows × 14 columns</p>\n",
       "</div>"
      ],
      "text/plain": [
       "      rownumber  customerid    surname  creditscore geography  gender  age  \\\n",
       "0             1    15634602   Hargrave          619    France  Female   42   \n",
       "1             2    15647311       Hill          608     Spain  Female   41   \n",
       "2             3    15619304       Onio          502    France  Female   42   \n",
       "3             4    15701354       Boni          699    France  Female   39   \n",
       "4             5    15737888   Mitchell          850     Spain  Female   43   \n",
       "...         ...         ...        ...          ...       ...     ...  ...   \n",
       "9995       9996    15606229   Obijiaku          771    France    Male   39   \n",
       "9996       9997    15569892  Johnstone          516    France    Male   35   \n",
       "9997       9998    15584532        Liu          709    France  Female   36   \n",
       "9998       9999    15682355  Sabbatini          772   Germany    Male   42   \n",
       "9999      10000    15628319     Walker          792    France  Female   28   \n",
       "\n",
       "      tenure    balance  numofproducts  hascrcard  isactivemember  \\\n",
       "0        2.0       0.00              1          1               1   \n",
       "1        1.0   83807.86              1          0               1   \n",
       "2        8.0  159660.80              3          1               0   \n",
       "3        1.0       0.00              2          0               0   \n",
       "4        2.0  125510.82              1          1               1   \n",
       "...      ...        ...            ...        ...             ...   \n",
       "9995     5.0       0.00              2          1               0   \n",
       "9996    10.0   57369.61              1          1               1   \n",
       "9997     7.0       0.00              1          0               1   \n",
       "9998     3.0   75075.31              2          1               0   \n",
       "9999     NaN  130142.79              1          1               0   \n",
       "\n",
       "      estimatedsalary  exited  \n",
       "0           101348.88       1  \n",
       "1           112542.58       0  \n",
       "2           113931.57       1  \n",
       "3            93826.63       0  \n",
       "4            79084.10       0  \n",
       "...               ...     ...  \n",
       "9995         96270.64       0  \n",
       "9996        101699.77       0  \n",
       "9997         42085.58       1  \n",
       "9998         92888.52       1  \n",
       "9999         38190.78       0  \n",
       "\n",
       "[10000 rows x 14 columns]"
      ]
     },
     "execution_count": 17,
     "metadata": {},
     "output_type": "execute_result"
    }
   ],
   "source": [
    "df"
   ]
  },
  {
   "cell_type": "markdown",
   "metadata": {},
   "source": [
    "## Исследование задачи"
   ]
  },
  {
   "cell_type": "markdown",
   "metadata": {},
   "source": [
    "Очистим датасет от столбцов, которые малополезны для анализа."
   ]
  },
  {
   "cell_type": "code",
   "execution_count": 18,
   "metadata": {},
   "outputs": [
    {
     "data": {
      "text/html": [
       "<div>\n",
       "<style scoped>\n",
       "    .dataframe tbody tr th:only-of-type {\n",
       "        vertical-align: middle;\n",
       "    }\n",
       "\n",
       "    .dataframe tbody tr th {\n",
       "        vertical-align: top;\n",
       "    }\n",
       "\n",
       "    .dataframe thead th {\n",
       "        text-align: right;\n",
       "    }\n",
       "</style>\n",
       "<table border=\"1\" class=\"dataframe\">\n",
       "  <thead>\n",
       "    <tr style=\"text-align: right;\">\n",
       "      <th></th>\n",
       "      <th>creditscore</th>\n",
       "      <th>geography</th>\n",
       "      <th>gender</th>\n",
       "      <th>age</th>\n",
       "      <th>tenure</th>\n",
       "      <th>balance</th>\n",
       "      <th>numofproducts</th>\n",
       "      <th>hascrcard</th>\n",
       "      <th>isactivemember</th>\n",
       "      <th>estimatedsalary</th>\n",
       "      <th>exited</th>\n",
       "    </tr>\n",
       "  </thead>\n",
       "  <tbody>\n",
       "    <tr>\n",
       "      <th>0</th>\n",
       "      <td>619</td>\n",
       "      <td>France</td>\n",
       "      <td>Female</td>\n",
       "      <td>42</td>\n",
       "      <td>2.0</td>\n",
       "      <td>0.00</td>\n",
       "      <td>1</td>\n",
       "      <td>1</td>\n",
       "      <td>1</td>\n",
       "      <td>101348.88</td>\n",
       "      <td>1</td>\n",
       "    </tr>\n",
       "    <tr>\n",
       "      <th>1</th>\n",
       "      <td>608</td>\n",
       "      <td>Spain</td>\n",
       "      <td>Female</td>\n",
       "      <td>41</td>\n",
       "      <td>1.0</td>\n",
       "      <td>83807.86</td>\n",
       "      <td>1</td>\n",
       "      <td>0</td>\n",
       "      <td>1</td>\n",
       "      <td>112542.58</td>\n",
       "      <td>0</td>\n",
       "    </tr>\n",
       "    <tr>\n",
       "      <th>2</th>\n",
       "      <td>502</td>\n",
       "      <td>France</td>\n",
       "      <td>Female</td>\n",
       "      <td>42</td>\n",
       "      <td>8.0</td>\n",
       "      <td>159660.80</td>\n",
       "      <td>3</td>\n",
       "      <td>1</td>\n",
       "      <td>0</td>\n",
       "      <td>113931.57</td>\n",
       "      <td>1</td>\n",
       "    </tr>\n",
       "    <tr>\n",
       "      <th>3</th>\n",
       "      <td>699</td>\n",
       "      <td>France</td>\n",
       "      <td>Female</td>\n",
       "      <td>39</td>\n",
       "      <td>1.0</td>\n",
       "      <td>0.00</td>\n",
       "      <td>2</td>\n",
       "      <td>0</td>\n",
       "      <td>0</td>\n",
       "      <td>93826.63</td>\n",
       "      <td>0</td>\n",
       "    </tr>\n",
       "    <tr>\n",
       "      <th>4</th>\n",
       "      <td>850</td>\n",
       "      <td>Spain</td>\n",
       "      <td>Female</td>\n",
       "      <td>43</td>\n",
       "      <td>2.0</td>\n",
       "      <td>125510.82</td>\n",
       "      <td>1</td>\n",
       "      <td>1</td>\n",
       "      <td>1</td>\n",
       "      <td>79084.10</td>\n",
       "      <td>0</td>\n",
       "    </tr>\n",
       "  </tbody>\n",
       "</table>\n",
       "</div>"
      ],
      "text/plain": [
       "   creditscore geography  gender  age  tenure    balance  numofproducts  \\\n",
       "0          619    France  Female   42     2.0       0.00              1   \n",
       "1          608     Spain  Female   41     1.0   83807.86              1   \n",
       "2          502    France  Female   42     8.0  159660.80              3   \n",
       "3          699    France  Female   39     1.0       0.00              2   \n",
       "4          850     Spain  Female   43     2.0  125510.82              1   \n",
       "\n",
       "   hascrcard  isactivemember  estimatedsalary  exited  \n",
       "0          1               1        101348.88       1  \n",
       "1          0               1        112542.58       0  \n",
       "2          1               0        113931.57       1  \n",
       "3          0               0         93826.63       0  \n",
       "4          1               1         79084.10       0  "
      ]
     },
     "execution_count": 18,
     "metadata": {},
     "output_type": "execute_result"
    }
   ],
   "source": [
    "data = df.drop(['rownumber', 'customerid', 'surname'], axis=1).copy()\n",
    "data.head()"
   ]
  },
  {
   "cell_type": "markdown",
   "metadata": {},
   "source": [
    "**Категориальная переменная - пол**"
   ]
  },
  {
   "cell_type": "code",
   "execution_count": 19,
   "metadata": {},
   "outputs": [
    {
     "data": {
      "text/plain": [
       "Male      5457\n",
       "Female    4543\n",
       "Name: gender, dtype: int64"
      ]
     },
     "execution_count": 19,
     "metadata": {},
     "output_type": "execute_result"
    }
   ],
   "source": [
    "data['gender'].value_counts()"
   ]
  },
  {
   "cell_type": "markdown",
   "metadata": {},
   "source": [
    "**Категориальная переменная - страна проживания**"
   ]
  },
  {
   "cell_type": "code",
   "execution_count": 20,
   "metadata": {},
   "outputs": [
    {
     "data": {
      "text/plain": [
       "France     5014\n",
       "Germany    2509\n",
       "Spain      2477\n",
       "Name: geography, dtype: int64"
      ]
     },
     "execution_count": 20,
     "metadata": {},
     "output_type": "execute_result"
    }
   ],
   "source": [
    "data['geography'].value_counts()"
   ]
  },
  {
   "cell_type": "code",
   "execution_count": 21,
   "metadata": {},
   "outputs": [
    {
     "data": {
      "text/plain": [
       "1.0     952\n",
       "2.0     950\n",
       "8.0     933\n",
       "3.0     928\n",
       "5.0     927\n",
       "7.0     925\n",
       "NaN     909\n",
       "4.0     885\n",
       "9.0     882\n",
       "6.0     881\n",
       "10.0    446\n",
       "0.0     382\n",
       "Name: tenure, dtype: int64"
      ]
     },
     "execution_count": 21,
     "metadata": {},
     "output_type": "execute_result"
    }
   ],
   "source": [
    "data['tenure'].value_counts(dropna=False) "
   ]
  },
  {
   "cell_type": "markdown",
   "metadata": {},
   "source": [
    "Предположим, что пропуски в данном столбце это новые клиенты со стажем до года. Заменим на 0."
   ]
  },
  {
   "cell_type": "code",
   "execution_count": 22,
   "metadata": {},
   "outputs": [],
   "source": [
    "data['tenure'] = data['tenure'].fillna(0).astype('int64')"
   ]
  },
  {
   "cell_type": "code",
   "execution_count": 23,
   "metadata": {},
   "outputs": [
    {
     "data": {
      "text/plain": [
       "Index(['creditscore', 'geography', 'gender', 'age', 'tenure', 'balance',\n",
       "       'numofproducts', 'hascrcard', 'isactivemember', 'estimatedsalary',\n",
       "       'exited'],\n",
       "      dtype='object')"
      ]
     },
     "execution_count": 23,
     "metadata": {},
     "output_type": "execute_result"
    }
   ],
   "source": [
    "data.columns"
   ]
  },
  {
   "cell_type": "markdown",
   "metadata": {},
   "source": [
    "**One-hot Encoding**"
   ]
  },
  {
   "cell_type": "code",
   "execution_count": 24,
   "metadata": {},
   "outputs": [
    {
     "data": {
      "text/html": [
       "<div>\n",
       "<style scoped>\n",
       "    .dataframe tbody tr th:only-of-type {\n",
       "        vertical-align: middle;\n",
       "    }\n",
       "\n",
       "    .dataframe tbody tr th {\n",
       "        vertical-align: top;\n",
       "    }\n",
       "\n",
       "    .dataframe thead th {\n",
       "        text-align: right;\n",
       "    }\n",
       "</style>\n",
       "<table border=\"1\" class=\"dataframe\">\n",
       "  <thead>\n",
       "    <tr style=\"text-align: right;\">\n",
       "      <th></th>\n",
       "      <th>creditscore</th>\n",
       "      <th>age</th>\n",
       "      <th>tenure</th>\n",
       "      <th>balance</th>\n",
       "      <th>numofproducts</th>\n",
       "      <th>hascrcard</th>\n",
       "      <th>isactivemember</th>\n",
       "      <th>estimatedsalary</th>\n",
       "      <th>exited</th>\n",
       "      <th>Male</th>\n",
       "      <th>Germany</th>\n",
       "      <th>Spain</th>\n",
       "    </tr>\n",
       "  </thead>\n",
       "  <tbody>\n",
       "    <tr>\n",
       "      <th>0</th>\n",
       "      <td>619</td>\n",
       "      <td>42</td>\n",
       "      <td>2</td>\n",
       "      <td>0.00</td>\n",
       "      <td>1</td>\n",
       "      <td>1</td>\n",
       "      <td>1</td>\n",
       "      <td>101348.88</td>\n",
       "      <td>1</td>\n",
       "      <td>0</td>\n",
       "      <td>0</td>\n",
       "      <td>0</td>\n",
       "    </tr>\n",
       "    <tr>\n",
       "      <th>1</th>\n",
       "      <td>608</td>\n",
       "      <td>41</td>\n",
       "      <td>1</td>\n",
       "      <td>83807.86</td>\n",
       "      <td>1</td>\n",
       "      <td>0</td>\n",
       "      <td>1</td>\n",
       "      <td>112542.58</td>\n",
       "      <td>0</td>\n",
       "      <td>0</td>\n",
       "      <td>0</td>\n",
       "      <td>1</td>\n",
       "    </tr>\n",
       "    <tr>\n",
       "      <th>2</th>\n",
       "      <td>502</td>\n",
       "      <td>42</td>\n",
       "      <td>8</td>\n",
       "      <td>159660.80</td>\n",
       "      <td>3</td>\n",
       "      <td>1</td>\n",
       "      <td>0</td>\n",
       "      <td>113931.57</td>\n",
       "      <td>1</td>\n",
       "      <td>0</td>\n",
       "      <td>0</td>\n",
       "      <td>0</td>\n",
       "    </tr>\n",
       "    <tr>\n",
       "      <th>3</th>\n",
       "      <td>699</td>\n",
       "      <td>39</td>\n",
       "      <td>1</td>\n",
       "      <td>0.00</td>\n",
       "      <td>2</td>\n",
       "      <td>0</td>\n",
       "      <td>0</td>\n",
       "      <td>93826.63</td>\n",
       "      <td>0</td>\n",
       "      <td>0</td>\n",
       "      <td>0</td>\n",
       "      <td>0</td>\n",
       "    </tr>\n",
       "    <tr>\n",
       "      <th>4</th>\n",
       "      <td>850</td>\n",
       "      <td>43</td>\n",
       "      <td>2</td>\n",
       "      <td>125510.82</td>\n",
       "      <td>1</td>\n",
       "      <td>1</td>\n",
       "      <td>1</td>\n",
       "      <td>79084.10</td>\n",
       "      <td>0</td>\n",
       "      <td>0</td>\n",
       "      <td>0</td>\n",
       "      <td>1</td>\n",
       "    </tr>\n",
       "  </tbody>\n",
       "</table>\n",
       "</div>"
      ],
      "text/plain": [
       "   creditscore  age  tenure    balance  numofproducts  hascrcard  \\\n",
       "0          619   42       2       0.00              1          1   \n",
       "1          608   41       1   83807.86              1          0   \n",
       "2          502   42       8  159660.80              3          1   \n",
       "3          699   39       1       0.00              2          0   \n",
       "4          850   43       2  125510.82              1          1   \n",
       "\n",
       "   isactivemember  estimatedsalary  exited  Male  Germany  Spain  \n",
       "0               1        101348.88       1     0        0      0  \n",
       "1               1        112542.58       0     0        0      1  \n",
       "2               0        113931.57       1     0        0      0  \n",
       "3               0         93826.63       0     0        0      0  \n",
       "4               1         79084.10       0     0        0      1  "
      ]
     },
     "execution_count": 24,
     "metadata": {},
     "output_type": "execute_result"
    }
   ],
   "source": [
    "# проведем кодирования двух признаков\n",
    "gender_ohe = pd.get_dummies(df[\"gender\"], drop_first=True)\n",
    "country_ohe = pd.get_dummies(df[\"geography\"], drop_first=True)\n",
    "\n",
    "#удалим категориальные признаки\n",
    "data.drop([\"gender\", \"geography\"], axis=1,  inplace=True)\n",
    "\n",
    "#объединим новые столбцы\n",
    "df_ohe = pd.concat([data, gender_ohe, country_ohe], axis=1)\n",
    "\n",
    "df_ohe.head()"
   ]
  },
  {
   "cell_type": "markdown",
   "metadata": {},
   "source": [
    "**Разделение выборки.**"
   ]
  },
  {
   "cell_type": "code",
   "execution_count": 25,
   "metadata": {},
   "outputs": [],
   "source": [
    "def split_data(data, target_column):\n",
    "    return data.drop(columns=[target_column], axis=1), data[target_column]"
   ]
  },
  {
   "cell_type": "code",
   "execution_count": 26,
   "metadata": {},
   "outputs": [],
   "source": [
    "features, target = split_data(df_ohe,'exited')"
   ]
  },
  {
   "cell_type": "code",
   "execution_count": 27,
   "metadata": {},
   "outputs": [],
   "source": [
    "features_df, features_valid, target_df, target_valid = ( \n",
    "                                train_test_split(\n",
    "                                features, target, test_size=0.20, random_state=1589)\n",
    ")\n",
    "features_train, features_test, target_train, target_test = ( \n",
    "                                train_test_split(\n",
    "                                features_df, target_df, test_size=0.25, random_state=1589)\n",
    ")"
   ]
  },
  {
   "cell_type": "code",
   "execution_count": 28,
   "metadata": {},
   "outputs": [
    {
     "name": "stdout",
     "output_type": "stream",
     "text": [
      "Количество образцов обучающей выборки: 6000\n",
      "Количество образцов валидационной выборки: 2000\n",
      "Количество образцов тестовой выборки: 2000\n",
      "Сумма выборок: 10000\n",
      "\n",
      "Количество образцов подготовленной выборки (контрольная сумма): 10000\n"
     ]
    }
   ],
   "source": [
    "print('Количество образцов обучающей выборки:', len(features_train))\n",
    "print('Количество образцов валидационной выборки:', len(features_valid))\n",
    "print('Количество образцов тестовой выборки:', len(features_test))\n",
    "print('Сумма выборок:', len(features_train) + len(features_test) + len(features_test))\n",
    "print()\n",
    "print('Количество образцов подготовленной выборки (контрольная сумма):', len(df_ohe))"
   ]
  },
  {
   "cell_type": "code",
   "execution_count": 29,
   "metadata": {},
   "outputs": [
    {
     "data": {
      "text/plain": [
       "Index(['creditscore', 'age', 'tenure', 'balance', 'numofproducts', 'hascrcard',\n",
       "       'isactivemember', 'estimatedsalary', 'Male', 'Germany', 'Spain'],\n",
       "      dtype='object')"
      ]
     },
     "execution_count": 29,
     "metadata": {},
     "output_type": "execute_result"
    }
   ],
   "source": [
    "features_df.columns"
   ]
  },
  {
   "cell_type": "markdown",
   "metadata": {},
   "source": [
    "**Стандартизация**"
   ]
  },
  {
   "cell_type": "code",
   "execution_count": 30,
   "metadata": {},
   "outputs": [
    {
     "data": {
      "text/html": [
       "<div>\n",
       "<style scoped>\n",
       "    .dataframe tbody tr th:only-of-type {\n",
       "        vertical-align: middle;\n",
       "    }\n",
       "\n",
       "    .dataframe tbody tr th {\n",
       "        vertical-align: top;\n",
       "    }\n",
       "\n",
       "    .dataframe thead th {\n",
       "        text-align: right;\n",
       "    }\n",
       "</style>\n",
       "<table border=\"1\" class=\"dataframe\">\n",
       "  <thead>\n",
       "    <tr style=\"text-align: right;\">\n",
       "      <th></th>\n",
       "      <th>creditscore</th>\n",
       "      <th>age</th>\n",
       "      <th>tenure</th>\n",
       "      <th>balance</th>\n",
       "      <th>numofproducts</th>\n",
       "      <th>hascrcard</th>\n",
       "      <th>isactivemember</th>\n",
       "      <th>estimatedsalary</th>\n",
       "      <th>Male</th>\n",
       "      <th>Germany</th>\n",
       "      <th>Spain</th>\n",
       "    </tr>\n",
       "  </thead>\n",
       "  <tbody>\n",
       "    <tr>\n",
       "      <th>4770</th>\n",
       "      <td>-0.371823</td>\n",
       "      <td>-1.894506</td>\n",
       "      <td>5</td>\n",
       "      <td>-1.231292</td>\n",
       "      <td>2</td>\n",
       "      <td>1</td>\n",
       "      <td>0</td>\n",
       "      <td>1.027345</td>\n",
       "      <td>1</td>\n",
       "      <td>0</td>\n",
       "      <td>1</td>\n",
       "    </tr>\n",
       "    <tr>\n",
       "      <th>4816</th>\n",
       "      <td>-0.526749</td>\n",
       "      <td>-0.945798</td>\n",
       "      <td>8</td>\n",
       "      <td>-1.231292</td>\n",
       "      <td>2</td>\n",
       "      <td>0</td>\n",
       "      <td>1</td>\n",
       "      <td>-1.150551</td>\n",
       "      <td>1</td>\n",
       "      <td>0</td>\n",
       "      <td>0</td>\n",
       "    </tr>\n",
       "    <tr>\n",
       "      <th>473</th>\n",
       "      <td>1.384000</td>\n",
       "      <td>-1.040669</td>\n",
       "      <td>0</td>\n",
       "      <td>-1.231292</td>\n",
       "      <td>2</td>\n",
       "      <td>1</td>\n",
       "      <td>0</td>\n",
       "      <td>-0.411374</td>\n",
       "      <td>1</td>\n",
       "      <td>0</td>\n",
       "      <td>0</td>\n",
       "    </tr>\n",
       "    <tr>\n",
       "      <th>3340</th>\n",
       "      <td>0.805611</td>\n",
       "      <td>-0.945798</td>\n",
       "      <td>0</td>\n",
       "      <td>0.534116</td>\n",
       "      <td>1</td>\n",
       "      <td>1</td>\n",
       "      <td>1</td>\n",
       "      <td>-1.310604</td>\n",
       "      <td>1</td>\n",
       "      <td>1</td>\n",
       "      <td>0</td>\n",
       "    </tr>\n",
       "    <tr>\n",
       "      <th>1992</th>\n",
       "      <td>-0.392480</td>\n",
       "      <td>-0.945798</td>\n",
       "      <td>6</td>\n",
       "      <td>1.757978</td>\n",
       "      <td>2</td>\n",
       "      <td>1</td>\n",
       "      <td>1</td>\n",
       "      <td>-0.411184</td>\n",
       "      <td>0</td>\n",
       "      <td>0</td>\n",
       "      <td>0</td>\n",
       "    </tr>\n",
       "  </tbody>\n",
       "</table>\n",
       "</div>"
      ],
      "text/plain": [
       "      creditscore       age  tenure   balance  numofproducts  hascrcard  \\\n",
       "4770    -0.371823 -1.894506       5 -1.231292              2          1   \n",
       "4816    -0.526749 -0.945798       8 -1.231292              2          0   \n",
       "473      1.384000 -1.040669       0 -1.231292              2          1   \n",
       "3340     0.805611 -0.945798       0  0.534116              1          1   \n",
       "1992    -0.392480 -0.945798       6  1.757978              2          1   \n",
       "\n",
       "      isactivemember  estimatedsalary  Male  Germany  Spain  \n",
       "4770               0         1.027345     1        0      1  \n",
       "4816               1        -1.150551     1        0      0  \n",
       "473                0        -0.411374     1        0      0  \n",
       "3340               1        -1.310604     1        1      0  \n",
       "1992               1        -0.411184     0        0      0  "
      ]
     },
     "execution_count": 30,
     "metadata": {},
     "output_type": "execute_result"
    }
   ],
   "source": [
    "numeric = ['creditscore', 'age', 'balance', 'estimatedsalary']\n",
    "scaler = StandardScaler()\n",
    "scaler.fit(features_train[numeric])\n",
    "pd.options.mode.chained_assignment = None\n",
    "features_train[numeric] = scaler.transform(features_train[numeric])\n",
    "features_train.head()"
   ]
  },
  {
   "cell_type": "code",
   "execution_count": 31,
   "metadata": {},
   "outputs": [
    {
     "data": {
      "text/html": [
       "<div>\n",
       "<style scoped>\n",
       "    .dataframe tbody tr th:only-of-type {\n",
       "        vertical-align: middle;\n",
       "    }\n",
       "\n",
       "    .dataframe tbody tr th {\n",
       "        vertical-align: top;\n",
       "    }\n",
       "\n",
       "    .dataframe thead th {\n",
       "        text-align: right;\n",
       "    }\n",
       "</style>\n",
       "<table border=\"1\" class=\"dataframe\">\n",
       "  <thead>\n",
       "    <tr style=\"text-align: right;\">\n",
       "      <th></th>\n",
       "      <th>creditscore</th>\n",
       "      <th>age</th>\n",
       "      <th>tenure</th>\n",
       "      <th>balance</th>\n",
       "      <th>numofproducts</th>\n",
       "      <th>hascrcard</th>\n",
       "      <th>isactivemember</th>\n",
       "      <th>estimatedsalary</th>\n",
       "      <th>Male</th>\n",
       "      <th>Germany</th>\n",
       "      <th>Spain</th>\n",
       "    </tr>\n",
       "  </thead>\n",
       "  <tbody>\n",
       "    <tr>\n",
       "      <th>1509</th>\n",
       "      <td>-1.270392</td>\n",
       "      <td>-0.186832</td>\n",
       "      <td>6</td>\n",
       "      <td>0.439081</td>\n",
       "      <td>1</td>\n",
       "      <td>1</td>\n",
       "      <td>0</td>\n",
       "      <td>1.674434</td>\n",
       "      <td>1</td>\n",
       "      <td>0</td>\n",
       "      <td>0</td>\n",
       "    </tr>\n",
       "    <tr>\n",
       "      <th>6883</th>\n",
       "      <td>0.413133</td>\n",
       "      <td>-0.850928</td>\n",
       "      <td>9</td>\n",
       "      <td>-1.231292</td>\n",
       "      <td>1</td>\n",
       "      <td>1</td>\n",
       "      <td>0</td>\n",
       "      <td>-0.892235</td>\n",
       "      <td>1</td>\n",
       "      <td>0</td>\n",
       "      <td>0</td>\n",
       "    </tr>\n",
       "    <tr>\n",
       "      <th>8799</th>\n",
       "      <td>-2.034691</td>\n",
       "      <td>-0.471444</td>\n",
       "      <td>4</td>\n",
       "      <td>-1.231292</td>\n",
       "      <td>2</td>\n",
       "      <td>1</td>\n",
       "      <td>0</td>\n",
       "      <td>1.704112</td>\n",
       "      <td>1</td>\n",
       "      <td>0</td>\n",
       "      <td>0</td>\n",
       "    </tr>\n",
       "    <tr>\n",
       "      <th>9166</th>\n",
       "      <td>-0.247883</td>\n",
       "      <td>-0.376574</td>\n",
       "      <td>2</td>\n",
       "      <td>0.987658</td>\n",
       "      <td>1</td>\n",
       "      <td>1</td>\n",
       "      <td>1</td>\n",
       "      <td>1.242193</td>\n",
       "      <td>0</td>\n",
       "      <td>1</td>\n",
       "      <td>0</td>\n",
       "    </tr>\n",
       "    <tr>\n",
       "      <th>9227</th>\n",
       "      <td>1.291045</td>\n",
       "      <td>-0.756057</td>\n",
       "      <td>5</td>\n",
       "      <td>-1.231292</td>\n",
       "      <td>2</td>\n",
       "      <td>1</td>\n",
       "      <td>0</td>\n",
       "      <td>-0.143139</td>\n",
       "      <td>0</td>\n",
       "      <td>0</td>\n",
       "      <td>0</td>\n",
       "    </tr>\n",
       "  </tbody>\n",
       "</table>\n",
       "</div>"
      ],
      "text/plain": [
       "      creditscore       age  tenure   balance  numofproducts  hascrcard  \\\n",
       "1509    -1.270392 -0.186832       6  0.439081              1          1   \n",
       "6883     0.413133 -0.850928       9 -1.231292              1          1   \n",
       "8799    -2.034691 -0.471444       4 -1.231292              2          1   \n",
       "9166    -0.247883 -0.376574       2  0.987658              1          1   \n",
       "9227     1.291045 -0.756057       5 -1.231292              2          1   \n",
       "\n",
       "      isactivemember  estimatedsalary  Male  Germany  Spain  \n",
       "1509               0         1.674434     1        0      0  \n",
       "6883               0        -0.892235     1        0      0  \n",
       "8799               0         1.704112     1        0      0  \n",
       "9166               1         1.242193     0        1      0  \n",
       "9227               0        -0.143139     0        0      0  "
      ]
     },
     "execution_count": 31,
     "metadata": {},
     "output_type": "execute_result"
    }
   ],
   "source": [
    "features_valid[numeric] = scaler.transform(features_valid[numeric])\n",
    "features_valid.head()"
   ]
  },
  {
   "cell_type": "code",
   "execution_count": 32,
   "metadata": {},
   "outputs": [
    {
     "data": {
      "text/html": [
       "<div>\n",
       "<style scoped>\n",
       "    .dataframe tbody tr th:only-of-type {\n",
       "        vertical-align: middle;\n",
       "    }\n",
       "\n",
       "    .dataframe tbody tr th {\n",
       "        vertical-align: top;\n",
       "    }\n",
       "\n",
       "    .dataframe thead th {\n",
       "        text-align: right;\n",
       "    }\n",
       "</style>\n",
       "<table border=\"1\" class=\"dataframe\">\n",
       "  <thead>\n",
       "    <tr style=\"text-align: right;\">\n",
       "      <th></th>\n",
       "      <th>creditscore</th>\n",
       "      <th>age</th>\n",
       "      <th>tenure</th>\n",
       "      <th>balance</th>\n",
       "      <th>numofproducts</th>\n",
       "      <th>hascrcard</th>\n",
       "      <th>isactivemember</th>\n",
       "      <th>estimatedsalary</th>\n",
       "      <th>Male</th>\n",
       "      <th>Germany</th>\n",
       "      <th>Spain</th>\n",
       "    </tr>\n",
       "  </thead>\n",
       "  <tbody>\n",
       "    <tr>\n",
       "      <th>2033</th>\n",
       "      <td>0.144596</td>\n",
       "      <td>0.192651</td>\n",
       "      <td>8</td>\n",
       "      <td>-1.231292</td>\n",
       "      <td>2</td>\n",
       "      <td>1</td>\n",
       "      <td>0</td>\n",
       "      <td>0.544199</td>\n",
       "      <td>1</td>\n",
       "      <td>0</td>\n",
       "      <td>1</td>\n",
       "    </tr>\n",
       "    <tr>\n",
       "      <th>3458</th>\n",
       "      <td>1.229075</td>\n",
       "      <td>-0.186832</td>\n",
       "      <td>9</td>\n",
       "      <td>-1.231292</td>\n",
       "      <td>2</td>\n",
       "      <td>0</td>\n",
       "      <td>0</td>\n",
       "      <td>-1.359978</td>\n",
       "      <td>0</td>\n",
       "      <td>0</td>\n",
       "      <td>0</td>\n",
       "    </tr>\n",
       "    <tr>\n",
       "      <th>6049</th>\n",
       "      <td>-0.609376</td>\n",
       "      <td>0.192651</td>\n",
       "      <td>0</td>\n",
       "      <td>-1.231292</td>\n",
       "      <td>2</td>\n",
       "      <td>1</td>\n",
       "      <td>0</td>\n",
       "      <td>-0.608421</td>\n",
       "      <td>1</td>\n",
       "      <td>0</td>\n",
       "      <td>1</td>\n",
       "    </tr>\n",
       "    <tr>\n",
       "      <th>5709</th>\n",
       "      <td>-0.072300</td>\n",
       "      <td>0.002909</td>\n",
       "      <td>9</td>\n",
       "      <td>-1.231292</td>\n",
       "      <td>1</td>\n",
       "      <td>1</td>\n",
       "      <td>0</td>\n",
       "      <td>-1.690034</td>\n",
       "      <td>0</td>\n",
       "      <td>0</td>\n",
       "      <td>0</td>\n",
       "    </tr>\n",
       "    <tr>\n",
       "      <th>2704</th>\n",
       "      <td>0.691999</td>\n",
       "      <td>-1.135540</td>\n",
       "      <td>2</td>\n",
       "      <td>-1.231292</td>\n",
       "      <td>2</td>\n",
       "      <td>0</td>\n",
       "      <td>0</td>\n",
       "      <td>-1.298759</td>\n",
       "      <td>1</td>\n",
       "      <td>0</td>\n",
       "      <td>0</td>\n",
       "    </tr>\n",
       "  </tbody>\n",
       "</table>\n",
       "</div>"
      ],
      "text/plain": [
       "      creditscore       age  tenure   balance  numofproducts  hascrcard  \\\n",
       "2033     0.144596  0.192651       8 -1.231292              2          1   \n",
       "3458     1.229075 -0.186832       9 -1.231292              2          0   \n",
       "6049    -0.609376  0.192651       0 -1.231292              2          1   \n",
       "5709    -0.072300  0.002909       9 -1.231292              1          1   \n",
       "2704     0.691999 -1.135540       2 -1.231292              2          0   \n",
       "\n",
       "      isactivemember  estimatedsalary  Male  Germany  Spain  \n",
       "2033               0         0.544199     1        0      1  \n",
       "3458               0        -1.359978     0        0      0  \n",
       "6049               0        -0.608421     1        0      1  \n",
       "5709               0        -1.690034     0        0      0  \n",
       "2704               0        -1.298759     1        0      0  "
      ]
     },
     "execution_count": 32,
     "metadata": {},
     "output_type": "execute_result"
    }
   ],
   "source": [
    "features_test[numeric] = scaler.transform(features_test[numeric])\n",
    "features_test.head()"
   ]
  },
  {
   "cell_type": "markdown",
   "metadata": {},
   "source": [
    "### Подбор моделей"
   ]
  },
  {
   "cell_type": "markdown",
   "metadata": {},
   "source": [
    "**Случайный лес**"
   ]
  },
  {
   "cell_type": "code",
   "execution_count": 33,
   "metadata": {},
   "outputs": [
    {
     "name": "stdout",
     "output_type": "stream",
     "text": [
      "F1: 0.5445705024311183\n"
     ]
    }
   ],
   "source": [
    "model = RandomForestClassifier(random_state=1589, n_estimators=10)\n",
    "model.fit(features_train, target_train)\n",
    "predicted_valid = model.predict(features_valid)\n",
    "print(\"F1:\", f1_score(target_valid, predicted_valid))"
   ]
  },
  {
   "cell_type": "markdown",
   "metadata": {},
   "source": [
    "Попробуем установить параметр class_weight"
   ]
  },
  {
   "cell_type": "code",
   "execution_count": 34,
   "metadata": {},
   "outputs": [
    {
     "name": "stdout",
     "output_type": "stream",
     "text": [
      "F1: 0.5163398692810458\n"
     ]
    }
   ],
   "source": [
    "model = RandomForestClassifier(random_state=1589, n_estimators=10, class_weight='balanced')\n",
    "model.fit(features_train, target_train)\n",
    "predicted_valid = model.predict(features_valid)\n",
    "print(\"F1:\", f1_score(target_valid, predicted_valid))"
   ]
  },
  {
   "cell_type": "markdown",
   "metadata": {},
   "source": [
    "Показатель F1 ухудшился."
   ]
  },
  {
   "cell_type": "markdown",
   "metadata": {},
   "source": [
    "**Логистическая регрессия**"
   ]
  },
  {
   "cell_type": "code",
   "execution_count": 35,
   "metadata": {},
   "outputs": [
    {
     "name": "stdout",
     "output_type": "stream",
     "text": [
      "F1: 0.3303085299455536\n"
     ]
    }
   ],
   "source": [
    "model = LogisticRegression(random_state=1589, solver='liblinear')\n",
    "model.fit(features_train, target_train)\n",
    "predicted_valid = model.predict(features_valid)\n",
    "print(\"F1:\", f1_score(target_valid, predicted_valid))"
   ]
  },
  {
   "cell_type": "code",
   "execution_count": 36,
   "metadata": {},
   "outputs": [
    {
     "name": "stdout",
     "output_type": "stream",
     "text": [
      "F1: 0.5013286093888397\n"
     ]
    }
   ],
   "source": [
    "model = LogisticRegression(random_state=1589, solver='liblinear', class_weight='balanced')\n",
    "model.fit(features_train, target_train)\n",
    "predicted_valid = model.predict(features_valid)\n",
    "print(\"F1:\", f1_score(target_valid, predicted_valid))"
   ]
  },
  {
   "cell_type": "markdown",
   "metadata": {},
   "source": [
    "Балансировка классов позволила увеличить F1 почти в два раза."
   ]
  },
  {
   "cell_type": "markdown",
   "metadata": {},
   "source": [
    "**Catboost**"
   ]
  },
  {
   "cell_type": "code",
   "execution_count": 37,
   "metadata": {},
   "outputs": [
    {
     "name": "stdout",
     "output_type": "stream",
     "text": [
      "Learning rate set to 0.022141\n",
      "0:\tlearn: 0.6770168\ttotal: 49.6ms\tremaining: 49.6s\n",
      "100:\tlearn: 0.3319145\ttotal: 264ms\tremaining: 2.35s\n",
      "200:\tlearn: 0.3064607\ttotal: 481ms\tremaining: 1.91s\n",
      "300:\tlearn: 0.2915482\ttotal: 695ms\tremaining: 1.61s\n",
      "400:\tlearn: 0.2791969\ttotal: 916ms\tremaining: 1.37s\n",
      "500:\tlearn: 0.2678517\ttotal: 1.14s\tremaining: 1.14s\n",
      "600:\tlearn: 0.2571642\ttotal: 1.36s\tremaining: 900ms\n",
      "700:\tlearn: 0.2477392\ttotal: 1.58s\tremaining: 674ms\n",
      "800:\tlearn: 0.2383122\ttotal: 1.81s\tremaining: 451ms\n",
      "900:\tlearn: 0.2303955\ttotal: 2.02s\tremaining: 223ms\n",
      "999:\tlearn: 0.2228253\ttotal: 2.24s\tremaining: 0us\n",
      "F1: 0.5873261205564142\n"
     ]
    }
   ],
   "source": [
    "model = CatBoostClassifier(verbose=100, random_state=1589)\n",
    "model.fit(features_train, target_train)\n",
    "predicted_valid = model.predict(features_valid)\n",
    "print(\"F1:\", f1_score(target_valid, predicted_valid))"
   ]
  },
  {
   "cell_type": "markdown",
   "metadata": {},
   "source": [
    "Catboost сходу демонстрирует лучшие показатели в сравнении с другими рассматриваемыми моделями."
   ]
  },
  {
   "cell_type": "markdown",
   "metadata": {},
   "source": [
    "Поставлена задача классификации. \n",
    "Для того, чтобы улучшить результаты прогнозирования и облегчить обучение модели, были преобразованы данные:\n",
    "\n",
    "- удалили лишние признаки - такие как фамилия, id клиента и номер строки\n",
    "- провели кодирование категорийных переменных\n",
    "- провели масштабирование количетвенных переменных\n",
    "- разделили выборки в соотношении 60%:20%:20% - обучающую, валидационную для подбора гиперпараметров и проверке модели, тестовую - для итоговой проверки модели и проведении оценки\n",
    "- Попробовали обучить модели на объектах с дисбалансом классов"
   ]
  },
  {
   "cell_type": "markdown",
   "metadata": {},
   "source": [
    "## Улучшение моделей"
   ]
  },
  {
   "cell_type": "markdown",
   "metadata": {},
   "source": [
    "### Upsampling"
   ]
  },
  {
   "cell_type": "code",
   "execution_count": 38,
   "metadata": {},
   "outputs": [
    {
     "name": "stdout",
     "output_type": "stream",
     "text": [
      "(10916, 11)\n",
      "(10916,)\n"
     ]
    }
   ],
   "source": [
    "def upsample(features, target, repeat):\n",
    "    \n",
    "    features_zeros = features[target == 0]\n",
    "    features_ones = features[target == 1]\n",
    "    target_zeros = target[target == 0]\n",
    "    target_ones = target[target == 1]\n",
    "    \n",
    "    features_upsampled = pd.concat([features_zeros] + [features_ones] * repeat)\n",
    "    target_upsampled = pd.concat([target_zeros] + [target_ones] * repeat)\n",
    "    \n",
    "    features_upsampled = shuffle(features_upsampled, random_state=12345)\n",
    "    target_upsampled = shuffle(target_upsampled, random_state=12345)\n",
    "    \n",
    "    return features_upsampled, target_upsampled\n",
    "\n",
    "    \n",
    "    \n",
    "features_upsampled, target_upsampled = upsample(features_train, target_train, 5)\n",
    "\n",
    "print(features_upsampled.shape)\n",
    "print(target_upsampled.shape)"
   ]
  },
  {
   "cell_type": "markdown",
   "metadata": {},
   "source": [
    "**Логистическая регрессия**"
   ]
  },
  {
   "cell_type": "code",
   "execution_count": 39,
   "metadata": {},
   "outputs": [
    {
     "name": "stdout",
     "output_type": "stream",
     "text": [
      "F1: 0.5011494252873563\n"
     ]
    }
   ],
   "source": [
    "model = LogisticRegression(random_state=1529, solver='liblinear')\n",
    "model.fit(features_upsampled, target_upsampled)\n",
    "predicted_valid = model.predict(features_valid)\n",
    "print(\"F1:\", f1_score(target_valid, predicted_valid))"
   ]
  },
  {
   "cell_type": "markdown",
   "metadata": {},
   "source": [
    "Показатель F1 на том же уровне, что и показатель модели с параметром баланса классов."
   ]
  },
  {
   "cell_type": "markdown",
   "metadata": {},
   "source": [
    "**Случайный лес**"
   ]
  },
  {
   "cell_type": "code",
   "execution_count": 40,
   "metadata": {},
   "outputs": [
    {
     "name": "stdout",
     "output_type": "stream",
     "text": [
      "F1: 0.608695652173913\n"
     ]
    }
   ],
   "source": [
    "model = RandomForestClassifier(random_state=1589, n_estimators=10)\n",
    "model.fit(features_upsampled, target_upsampled)\n",
    "predicted_valid = model.predict(features_valid)\n",
    "print(\"F1:\", f1_score(target_valid, predicted_valid))"
   ]
  },
  {
   "cell_type": "markdown",
   "metadata": {},
   "source": [
    "Значительное улучшение показателя F1."
   ]
  },
  {
   "cell_type": "markdown",
   "metadata": {},
   "source": [
    "**Catboost**"
   ]
  },
  {
   "cell_type": "code",
   "execution_count": 41,
   "metadata": {},
   "outputs": [
    {
     "name": "stdout",
     "output_type": "stream",
     "text": [
      "Learning rate set to 0.028588\n",
      "0:\tlearn: 0.6772501\ttotal: 4.83ms\tremaining: 4.82s\n",
      "100:\tlearn: 0.4197333\ttotal: 383ms\tremaining: 3.4s\n",
      "200:\tlearn: 0.3816198\ttotal: 790ms\tremaining: 3.14s\n",
      "300:\tlearn: 0.3539000\ttotal: 1.17s\tremaining: 2.72s\n",
      "400:\tlearn: 0.3287711\ttotal: 1.56s\tremaining: 2.33s\n",
      "500:\tlearn: 0.3075927\ttotal: 1.93s\tremaining: 1.93s\n",
      "600:\tlearn: 0.2882717\ttotal: 2.35s\tremaining: 1.56s\n",
      "700:\tlearn: 0.2717396\ttotal: 2.73s\tremaining: 1.16s\n",
      "800:\tlearn: 0.2562649\ttotal: 3.15s\tremaining: 784ms\n",
      "900:\tlearn: 0.2417487\ttotal: 3.56s\tremaining: 391ms\n",
      "999:\tlearn: 0.2280442\ttotal: 3.94s\tremaining: 0us\n",
      "F1: 0.6143790849673203\n"
     ]
    }
   ],
   "source": [
    "model = CatBoostClassifier(verbose=100, random_state=1589)\n",
    "model.fit(features_upsampled, target_upsampled)\n",
    "predicted_valid = model.predict(features_valid)\n",
    "print(\"F1:\", f1_score(target_valid, predicted_valid))"
   ]
  },
  {
   "cell_type": "markdown",
   "metadata": {},
   "source": [
    "Показатель подрос."
   ]
  },
  {
   "cell_type": "markdown",
   "metadata": {},
   "source": [
    "**Вывод**: техника Upsample позволила улучшить показатели всех моделей за счёт увеличения количества целевого класса до уровня нецелевого класса."
   ]
  },
  {
   "cell_type": "markdown",
   "metadata": {},
   "source": [
    "### Downsampling"
   ]
  },
  {
   "cell_type": "code",
   "execution_count": 42,
   "metadata": {},
   "outputs": [
    {
     "name": "stdout",
     "output_type": "stream",
     "text": [
      "(1706, 11)\n",
      "(1706,)\n"
     ]
    }
   ],
   "source": [
    "def downsample(features, target, fraction):\n",
    "    features_zeros = features[target == 0]\n",
    "    features_ones = features[target == 1]\n",
    "    target_zeros = target[target == 0]\n",
    "    target_ones = target[target == 1]\n",
    "\n",
    "    features_sample = features_zeros.sample(frac=0.1, random_state=12345)\n",
    "    target_sample = target_zeros.sample(frac=0.1, random_state=12345)\n",
    "    \n",
    "    features_downsampled = pd.concat([features_sample] + [features_ones])\n",
    "    target_downsampled = pd.concat([target_sample] + [target_ones])\n",
    "    \n",
    "    features_downsampled = shuffle(features_downsampled, random_state=12345)\n",
    "    target_downsampled = shuffle(target_downsampled, random_state=12345)\n",
    "    \n",
    "\n",
    "    \n",
    "    return features_downsampled, target_downsampled\n",
    "\n",
    "features_downsampled, target_downsampled = downsample(features_train, target_train, 0.1)\n",
    "\n",
    "print(features_downsampled.shape)\n",
    "print(target_downsampled.shape)"
   ]
  },
  {
   "cell_type": "markdown",
   "metadata": {},
   "source": [
    "**Логистическая регрессия**"
   ]
  },
  {
   "cell_type": "code",
   "execution_count": 43,
   "metadata": {},
   "outputs": [
    {
     "name": "stdout",
     "output_type": "stream",
     "text": [
      "F1: 0.41163556531284295\n"
     ]
    }
   ],
   "source": [
    "model = LogisticRegression(random_state=1589, solver='liblinear')\n",
    "model.fit(features_downsampled, target_downsampled)\n",
    "predicted_valid = model.predict(features_valid)\n",
    "print(\"F1:\", f1_score(target_valid, predicted_valid))"
   ]
  },
  {
   "cell_type": "markdown",
   "metadata": {},
   "source": [
    "**Случайный лес**"
   ]
  },
  {
   "cell_type": "code",
   "execution_count": 44,
   "metadata": {},
   "outputs": [
    {
     "name": "stdout",
     "output_type": "stream",
     "text": [
      "F1: 0.4910522548317824\n"
     ]
    }
   ],
   "source": [
    "model = RandomForestClassifier(random_state=1589, n_estimators=10)\n",
    "model.fit(features_downsampled, target_downsampled)\n",
    "predicted_valid = model.predict(features_valid)\n",
    "print(\"F1:\", f1_score(target_valid, predicted_valid))"
   ]
  },
  {
   "cell_type": "markdown",
   "metadata": {},
   "source": [
    "**Catboost**"
   ]
  },
  {
   "cell_type": "code",
   "execution_count": 45,
   "metadata": {},
   "outputs": [
    {
     "name": "stdout",
     "output_type": "stream",
     "text": [
      "Learning rate set to 0.012942\n",
      "0:\tlearn: 0.6875072\ttotal: 1.67ms\tremaining: 1.67s\n",
      "100:\tlearn: 0.4225220\ttotal: 149ms\tremaining: 1.32s\n",
      "200:\tlearn: 0.3726834\ttotal: 282ms\tremaining: 1.12s\n",
      "300:\tlearn: 0.3441045\ttotal: 414ms\tremaining: 961ms\n",
      "400:\tlearn: 0.3236211\ttotal: 541ms\tremaining: 808ms\n",
      "500:\tlearn: 0.3049910\ttotal: 698ms\tremaining: 695ms\n",
      "600:\tlearn: 0.2883139\ttotal: 867ms\tremaining: 576ms\n",
      "700:\tlearn: 0.2733251\ttotal: 1.01s\tremaining: 433ms\n",
      "800:\tlearn: 0.2604211\ttotal: 1.15s\tremaining: 286ms\n",
      "900:\tlearn: 0.2476842\ttotal: 1.29s\tremaining: 142ms\n",
      "999:\tlearn: 0.2351627\ttotal: 1.45s\tremaining: 0us\n",
      "F1: 0.501023890784983\n"
     ]
    }
   ],
   "source": [
    "model = CatBoostClassifier(verbose=100, random_state=1589)\n",
    "model.fit(features_downsampled, target_downsampled)\n",
    "predicted_valid = model.predict(features_valid)\n",
    "print(\"F1:\", f1_score(target_valid, predicted_valid))"
   ]
  },
  {
   "cell_type": "markdown",
   "metadata": {},
   "source": [
    "**Вывод**: техника downsampling привела к ухудшению показателей всех моделей, по сравнению с техникой upsampling."
   ]
  },
  {
   "cell_type": "markdown",
   "metadata": {},
   "source": [
    "### Подбор порога"
   ]
  },
  {
   "cell_type": "markdown",
   "metadata": {},
   "source": [
    "**Логистическая регрессия**"
   ]
  },
  {
   "cell_type": "code",
   "execution_count": 46,
   "metadata": {},
   "outputs": [
    {
     "name": "stdout",
     "output_type": "stream",
     "text": [
      "Порог = 0.00 | Точность = 0.202, Полнота = 1.000 | F1-мера = 0.336\n",
      "Порог = 0.05 | Точность = 0.225, Полнота = 0.975 | F1-мера = 0.366\n",
      "Порог = 0.10 | Точность = 0.279, Полнота = 0.913 | F1-мера = 0.428\n",
      "Порог = 0.15 | Точность = 0.332, Полнота = 0.834 | F1-мера = 0.475\n",
      "Порог = 0.20 | Точность = 0.381, Полнота = 0.725 | F1-мера = 0.499\n",
      "Порог = 0.25 | Точность = 0.428, Полнота = 0.594 | F1-мера = 0.497\n",
      "Порог = 0.30 | Точность = 0.489, Полнота = 0.510 | F1-мера = 0.499\n",
      "Порог = 0.35 | Точность = 0.534, Полнота = 0.431 | F1-мера = 0.477\n",
      "Порог = 0.40 | Точность = 0.546, Полнота = 0.337 | F1-мера = 0.417\n",
      "Порог = 0.45 | Точность = 0.583, Полнота = 0.277 | F1-мера = 0.376\n",
      "Порог = 0.50 | Точность = 0.619, Полнота = 0.225 | F1-мера = 0.330\n",
      "Порог = 0.55 | Точность = 0.643, Полнота = 0.178 | F1-мера = 0.279\n",
      "Порог = 0.60 | Точность = 0.691, Полнота = 0.139 | F1-мера = 0.231\n",
      "Порог = 0.65 | Точность = 0.700, Полнота = 0.087 | F1-мера = 0.154\n",
      "Порог = 0.70 | Точность = 0.688, Полнота = 0.054 | F1-мера = 0.101\n",
      "Порог = 0.75 | Точность = 0.625, Полнота = 0.025 | F1-мера = 0.048\n",
      "Порог = 0.80 | Точность = 0.500, Полнота = 0.012 | F1-мера = 0.024\n",
      "Порог = 0.85 | Точность = 0.333, Полнота = 0.002 | F1-мера = 0.005\n",
      "Порог = 0.90 | Точность = 0.000, Полнота = 0.000 | F1-мера = 0.000\n"
     ]
    },
    {
     "data": {
      "image/png": "[encoded data removed]",
      "text/plain": [
       "<Figure size 720x720 with 1 Axes>"
      ]
     },
     "metadata": {},
     "output_type": "display_data"
    }
   ],
   "source": [
    "model = LogisticRegression(random_state=42, solver='liblinear')\n",
    "model.fit(features_train, target_train)\n",
    "probabilities_valid = model.predict_proba(features_valid)\n",
    "probabilities_one_valid = probabilities_valid[:, 1]\n",
    "\n",
    "for threshold in np.arange(0, 0.95, 0.05):\n",
    "    predicted_valid = probabilities_one_valid > threshold\n",
    "    precision = precision_score(target_valid, predicted_valid)\n",
    "    recall = recall_score(target_valid, predicted_valid)\n",
    "    f1 = f1_score(target_valid, predicted_valid)\n",
    "    print(\"Порог = {:.2f} | Точность = {:.3f}, Полнота = {:.3f} | F1-мера = {:.3f}\".format(\n",
    "        threshold, precision, recall, f1))\n",
    "\n",
    "precision, recall, thresholds = precision_recall_curve(target_valid, probabilities_valid[:, 1])    \n",
    "plt.figure(figsize=(10, 10))\n",
    "plt.step(recall, precision, where='post')\n",
    "plt.xlabel('Recall')\n",
    "plt.ylabel('Precision')\n",
    "plt.ylim([0.0, 1.05])\n",
    "plt.xlim([0.0, 1.0])\n",
    "plt.title('PR кривая')\n",
    "plt.show() "
   ]
  },
  {
   "cell_type": "markdown",
   "metadata": {},
   "source": [
    "Для порога 0 полнота равна 1 - все ответы положительные. При пороге 0.85 модель перестает давать правильные ответы. "
   ]
  },
  {
   "cell_type": "markdown",
   "metadata": {},
   "source": [
    "**Случайный лес**"
   ]
  },
  {
   "cell_type": "code",
   "execution_count": 47,
   "metadata": {},
   "outputs": [
    {
     "name": "stdout",
     "output_type": "stream",
     "text": [
      "Порог = 0.00 | Точность = 0.284, Полнота = 0.886 | F1-мера = 0.430\n",
      "Порог = 0.05 | Точность = 0.284, Полнота = 0.886 | F1-мера = 0.430\n",
      "Порог = 0.10 | Точность = 0.377, Полнота = 0.792 | F1-мера = 0.511\n",
      "Порог = 0.15 | Точность = 0.377, Полнота = 0.792 | F1-мера = 0.511\n",
      "Порог = 0.20 | Точность = 0.475, Полнота = 0.688 | F1-мера = 0.562\n",
      "Порог = 0.25 | Точность = 0.475, Полнота = 0.688 | F1-мера = 0.562\n",
      "Порог = 0.30 | Точность = 0.564, Полнота = 0.587 | F1-мера = 0.575\n",
      "Порог = 0.35 | Точность = 0.564, Полнота = 0.587 | F1-мера = 0.575\n",
      "Порог = 0.40 | Точность = 0.677, Полнота = 0.498 | F1-мера = 0.573\n",
      "Порог = 0.45 | Точность = 0.677, Полнота = 0.498 | F1-мера = 0.573\n",
      "Порог = 0.50 | Точность = 0.789, Полнота = 0.416 | F1-мера = 0.545\n",
      "Порог = 0.55 | Точность = 0.789, Полнота = 0.416 | F1-мера = 0.545\n",
      "Порог = 0.60 | Точность = 0.841, Полнота = 0.354 | F1-мера = 0.498\n",
      "Порог = 0.65 | Точность = 0.841, Полнота = 0.354 | F1-мера = 0.498\n",
      "Порог = 0.70 | Точность = 0.876, Полнота = 0.280 | F1-мера = 0.424\n",
      "Порог = 0.75 | Точность = 0.876, Полнота = 0.280 | F1-мера = 0.424\n",
      "Порог = 0.80 | Точность = 0.893, Полнота = 0.166 | F1-мера = 0.280\n",
      "Порог = 0.85 | Точность = 0.893, Полнота = 0.166 | F1-мера = 0.280\n",
      "Порог = 0.90 | Точность = 0.903, Полнота = 0.069 | F1-мера = 0.129\n"
     ]
    },
    {
     "data": {
      "image/png": "[encoded data removed]",
      "text/plain": [
       "<Figure size 720x720 with 1 Axes>"
      ]
     },
     "metadata": {},
     "output_type": "display_data"
    }
   ],
   "source": [
    "model = RandomForestClassifier(random_state=1589, n_estimators=10)\n",
    "model.fit(features_train, target_train)\n",
    "probabilities_valid = model.predict_proba(features_valid)\n",
    "probabilities_one_valid = probabilities_valid[:, 1]\n",
    "\n",
    "for threshold in np.arange(0, 0.95, 0.05):\n",
    "    predicted_valid = probabilities_one_valid > threshold\n",
    "    precision = precision_score(target_valid, predicted_valid)\n",
    "    recall = recall_score(target_valid, predicted_valid)\n",
    "    f1 = f1_score(target_valid, predicted_valid)\n",
    "    print(\"Порог = {:.2f} | Точность = {:.3f}, Полнота = {:.3f} | F1-мера = {:.3f}\".format(\n",
    "        threshold, precision, recall, f1))\n",
    "    \n",
    "precision, recall, thresholds = precision_recall_curve(target_valid, probabilities_valid[:, 1])    \n",
    "plt.figure(figsize=(10, 10))\n",
    "plt.step(recall, precision, where='post')\n",
    "plt.xlabel('Recall')\n",
    "plt.ylabel('Precision')\n",
    "plt.ylim([0.0, 1.05])\n",
    "plt.xlim([0.0, 1.0])\n",
    "plt.title('PR кривая')\n",
    "plt.show() "
   ]
  },
  {
   "cell_type": "markdown",
   "metadata": {},
   "source": [
    "Самый высокий показатель достигаем при пороге 0.3"
   ]
  },
  {
   "cell_type": "markdown",
   "metadata": {},
   "source": [
    "**Catboost**"
   ]
  },
  {
   "cell_type": "code",
   "execution_count": 48,
   "metadata": {},
   "outputs": [
    {
     "name": "stdout",
     "output_type": "stream",
     "text": [
      "Learning rate set to 0.022141\n",
      "0:\tlearn: 0.6770168\ttotal: 2.5ms\tremaining: 2.5s\n",
      "100:\tlearn: 0.3319145\ttotal: 223ms\tremaining: 1.99s\n",
      "200:\tlearn: 0.3064607\ttotal: 438ms\tremaining: 1.74s\n",
      "300:\tlearn: 0.2915482\ttotal: 652ms\tremaining: 1.51s\n",
      "400:\tlearn: 0.2791969\ttotal: 899ms\tremaining: 1.34s\n",
      "500:\tlearn: 0.2678517\ttotal: 1.11s\tremaining: 1.11s\n",
      "600:\tlearn: 0.2571642\ttotal: 1.34s\tremaining: 889ms\n",
      "700:\tlearn: 0.2477392\ttotal: 1.55s\tremaining: 664ms\n",
      "800:\tlearn: 0.2383122\ttotal: 1.78s\tremaining: 442ms\n",
      "900:\tlearn: 0.2303955\ttotal: 2s\tremaining: 219ms\n",
      "999:\tlearn: 0.2228253\ttotal: 2.2s\tremaining: 0us\n",
      "Порог = 0.00 | Точность = 0.202, Полнота = 1.000 | F1-мера = 0.336\n",
      "Порог = 0.05 | Точность = 0.310, Полнота = 0.955 | F1-мера = 0.468\n",
      "Порог = 0.10 | Точность = 0.397, Полнота = 0.879 | F1-мера = 0.547\n",
      "Порог = 0.15 | Точность = 0.467, Полнота = 0.797 | F1-мера = 0.589\n",
      "Порог = 0.20 | Точность = 0.524, Полнота = 0.738 | F1-мера = 0.613\n",
      "Порог = 0.25 | Точность = 0.578, Полнота = 0.698 | F1-мера = 0.632\n",
      "Порог = 0.30 | Точность = 0.618, Полнота = 0.641 | F1-мера = 0.629\n",
      "Порог = 0.35 | Точность = 0.667, Полнота = 0.584 | F1-мера = 0.623\n",
      "Порог = 0.40 | Точность = 0.696, Полнота = 0.537 | F1-мера = 0.606\n",
      "Порог = 0.45 | Точность = 0.737, Полнота = 0.507 | F1-мера = 0.601\n",
      "Порог = 0.50 | Точность = 0.782, Полнота = 0.470 | F1-мера = 0.587\n",
      "Порог = 0.55 | Точность = 0.829, Полнота = 0.431 | F1-мера = 0.567\n",
      "Порог = 0.60 | Точность = 0.865, Полнота = 0.396 | F1-мера = 0.543\n",
      "Порог = 0.65 | Точность = 0.867, Полнота = 0.354 | F1-мера = 0.503\n",
      "Порог = 0.70 | Точность = 0.905, Полнота = 0.329 | F1-мера = 0.483\n",
      "Порог = 0.75 | Точность = 0.912, Полнота = 0.309 | F1-мера = 0.462\n",
      "Порог = 0.80 | Точность = 0.935, Полнота = 0.285 | F1-мера = 0.436\n",
      "Порог = 0.85 | Точность = 0.942, Полнота = 0.243 | F1-мера = 0.386\n",
      "Порог = 0.90 | Точность = 0.938, Полнота = 0.188 | F1-мера = 0.313\n"
     ]
    },
    {
     "data": {
      "image/png": "[encoded data removed]",
      "text/plain": [
       "<Figure size 720x720 with 1 Axes>"
      ]
     },
     "metadata": {},
     "output_type": "display_data"
    }
   ],
   "source": [
    "model = CatBoostClassifier(verbose=100, random_state=1589)\n",
    "model.fit(features_train, target_train)\n",
    "probabilities_valid = model.predict_proba(features_valid)\n",
    "probabilities_one_valid = probabilities_valid[:, 1]\n",
    "\n",
    "for threshold in np.arange(0, 0.95, 0.05):\n",
    "    predicted_valid = probabilities_one_valid > threshold\n",
    "    precision = precision_score(target_valid, predicted_valid)\n",
    "    recall = recall_score(target_valid, predicted_valid)\n",
    "    f1 = f1_score(target_valid, predicted_valid)\n",
    "    print(\"Порог = {:.2f} | Точность = {:.3f}, Полнота = {:.3f} | F1-мера = {:.3f}\".format(\n",
    "        threshold, precision, recall, f1))\n",
    "    \n",
    "precision, recall, thresholds = precision_recall_curve(target_valid, probabilities_valid[:, 1])    \n",
    "plt.figure(figsize=(10, 10))\n",
    "plt.step(recall, precision, where='post')\n",
    "plt.xlabel('Recall')\n",
    "plt.ylabel('Precision')\n",
    "plt.ylim([0.0, 1.05])\n",
    "plt.xlim([0.0, 1.0])\n",
    "plt.title('PR кривая')\n",
    "plt.show() "
   ]
  },
  {
   "cell_type": "markdown",
   "metadata": {},
   "source": [
    "Лучший показатель при пороге 0.25"
   ]
  },
  {
   "cell_type": "markdown",
   "metadata": {},
   "source": [
    "Остановимся на upsampling, обучим наши модели и подберем гиперпараметры.  "
   ]
  },
  {
   "cell_type": "markdown",
   "metadata": {},
   "source": [
    "### Настройка гиперпараметров"
   ]
  },
  {
   "cell_type": "markdown",
   "metadata": {},
   "source": [
    "Обучать модели будем на увеличенной выборке, проверять параметры будем на валидационной выборке и оценивать по F1-мере."
   ]
  },
  {
   "cell_type": "markdown",
   "metadata": {},
   "source": [
    "**Логистическая регрессия**"
   ]
  },
  {
   "cell_type": "code",
   "execution_count": 49,
   "metadata": {},
   "outputs": [
    {
     "data": {
      "text/html": [
       "<style>#sk-container-id-1 {color: black;background-color: white;}#sk-container-id-1 pre{padding: 0;}#sk-container-id-1 div.sk-toggleable {background-color: white;}#sk-container-id-1 label.sk-toggleable__label {cursor: pointer;display: block;width: 100%;margin-bottom: 0;padding: 0.3em;box-sizing: border-box;text-align: center;}#sk-container-id-1 label.sk-toggleable__label-arrow:before {content: \"▸\";float: left;margin-right: 0.25em;color: #696969;}#sk-container-id-1 label.sk-toggleable__label-arrow:hover:before {color: black;}#sk-container-id-1 div.sk-estimator:hover label.sk-toggleable__label-arrow:before {color: black;}#sk-container-id-1 div.sk-toggleable__content {max-height: 0;max-width: 0;overflow: hidden;text-align: left;background-color: #f0f8ff;}#sk-container-id-1 div.sk-toggleable__content pre {margin: 0.2em;color: black;border-radius: 0.25em;background-color: #f0f8ff;}#sk-container-id-1 input.sk-toggleable__control:checked~div.sk-toggleable__content {max-height: 200px;max-width: 100%;overflow: auto;}#sk-container-id-1 input.sk-toggleable__control:checked~label.sk-toggleable__label-arrow:before {content: \"▾\";}#sk-container-id-1 div.sk-estimator input.sk-toggleable__control:checked~label.sk-toggleable__label {background-color: #d4ebff;}#sk-container-id-1 div.sk-label input.sk-toggleable__control:checked~label.sk-toggleable__label {background-color: #d4ebff;}#sk-container-id-1 input.sk-hidden--visually {border: 0;clip: rect(1px 1px 1px 1px);clip: rect(1px, 1px, 1px, 1px);height: 1px;margin: -1px;overflow: hidden;padding: 0;position: absolute;width: 1px;}#sk-container-id-1 div.sk-estimator {font-family: monospace;background-color: #f0f8ff;border: 1px dotted black;border-radius: 0.25em;box-sizing: border-box;margin-bottom: 0.5em;}#sk-container-id-1 div.sk-estimator:hover {background-color: #d4ebff;}#sk-container-id-1 div.sk-parallel-item::after {content: \"\";width: 100%;border-bottom: 1px solid gray;flex-grow: 1;}#sk-container-id-1 div.sk-label:hover label.sk-toggleable__label {background-color: #d4ebff;}#sk-container-id-1 div.sk-serial::before {content: \"\";position: absolute;border-left: 1px solid gray;box-sizing: border-box;top: 0;bottom: 0;left: 50%;z-index: 0;}#sk-container-id-1 div.sk-serial {display: flex;flex-direction: column;align-items: center;background-color: white;padding-right: 0.2em;padding-left: 0.2em;position: relative;}#sk-container-id-1 div.sk-item {position: relative;z-index: 1;}#sk-container-id-1 div.sk-parallel {display: flex;align-items: stretch;justify-content: center;background-color: white;position: relative;}#sk-container-id-1 div.sk-item::before, #sk-container-id-1 div.sk-parallel-item::before {content: \"\";position: absolute;border-left: 1px solid gray;box-sizing: border-box;top: 0;bottom: 0;left: 50%;z-index: -1;}#sk-container-id-1 div.sk-parallel-item {display: flex;flex-direction: column;z-index: 1;position: relative;background-color: white;}#sk-container-id-1 div.sk-parallel-item:first-child::after {align-self: flex-end;width: 50%;}#sk-container-id-1 div.sk-parallel-item:last-child::after {align-self: flex-start;width: 50%;}#sk-container-id-1 div.sk-parallel-item:only-child::after {width: 0;}#sk-container-id-1 div.sk-dashed-wrapped {border: 1px dashed gray;margin: 0 0.4em 0.5em 0.4em;box-sizing: border-box;padding-bottom: 0.4em;background-color: white;}#sk-container-id-1 div.sk-label label {font-family: monospace;font-weight: bold;display: inline-block;line-height: 1.2em;}#sk-container-id-1 div.sk-label-container {text-align: center;}#sk-container-id-1 div.sk-container {/* jupyter's `normalize.less` sets `[hidden] { display: none; }` but bootstrap.min.css set `[hidden] { display: none !important; }` so we also need the `!important` here to be able to override the default hidden behavior on the sphinx rendered scikit-learn.org. See: https://github.com/scikit-learn/scikit-learn/issues/21755 */display: inline-block !important;position: relative;}#sk-container-id-1 div.sk-text-repr-fallback {display: none;}</style><div id=\"sk-container-id-1\" class=\"sk-top-container\"><div class=\"sk-text-repr-fallback\"><pre>GridSearchCV(cv=5,\n",
       "             estimator=LogisticRegression(random_state=1589,\n",
       "                                          solver=&#x27;liblinear&#x27;),\n",
       "             param_grid={&#x27;C&#x27;: [0.5, 1, 1.5], &#x27;class_weight&#x27;: [None, &#x27;balanced&#x27;],\n",
       "                         &#x27;intercept_scaling&#x27;: [0.5, 1.0, 1.5]},\n",
       "             scoring=&#x27;f1&#x27;)</pre><b>In a Jupyter environment, please rerun this cell to show the HTML representation or trust the notebook. <br />On GitHub, the HTML representation is unable to render, please try loading this page with nbviewer.org.</b></div><div class=\"sk-container\" hidden><div class=\"sk-item sk-dashed-wrapped\"><div class=\"sk-label-container\"><div class=\"sk-label sk-toggleable\"><input class=\"sk-toggleable__control sk-hidden--visually\" id=\"sk-estimator-id-1\" type=\"checkbox\" ><label for=\"sk-estimator-id-1\" class=\"sk-toggleable__label sk-toggleable__label-arrow\">GridSearchCV</label><div class=\"sk-toggleable__content\"><pre>GridSearchCV(cv=5,\n",
       "             estimator=LogisticRegression(random_state=1589,\n",
       "                                          solver=&#x27;liblinear&#x27;),\n",
       "             param_grid={&#x27;C&#x27;: [0.5, 1, 1.5], &#x27;class_weight&#x27;: [None, &#x27;balanced&#x27;],\n",
       "                         &#x27;intercept_scaling&#x27;: [0.5, 1.0, 1.5]},\n",
       "             scoring=&#x27;f1&#x27;)</pre></div></div></div><div class=\"sk-parallel\"><div class=\"sk-parallel-item\"><div class=\"sk-item\"><div class=\"sk-label-container\"><div class=\"sk-label sk-toggleable\"><input class=\"sk-toggleable__control sk-hidden--visually\" id=\"sk-estimator-id-2\" type=\"checkbox\" ><label for=\"sk-estimator-id-2\" class=\"sk-toggleable__label sk-toggleable__label-arrow\">estimator: LogisticRegression</label><div class=\"sk-toggleable__content\"><pre>LogisticRegression(random_state=1589, solver=&#x27;liblinear&#x27;)</pre></div></div></div><div class=\"sk-serial\"><div class=\"sk-item\"><div class=\"sk-estimator sk-toggleable\"><input class=\"sk-toggleable__control sk-hidden--visually\" id=\"sk-estimator-id-3\" type=\"checkbox\" ><label for=\"sk-estimator-id-3\" class=\"sk-toggleable__label sk-toggleable__label-arrow\">LogisticRegression</label><div class=\"sk-toggleable__content\"><pre>LogisticRegression(random_state=1589, solver=&#x27;liblinear&#x27;)</pre></div></div></div></div></div></div></div></div></div></div>"
      ],
      "text/plain": [
       "GridSearchCV(cv=5,\n",
       "             estimator=LogisticRegression(random_state=1589,\n",
       "                                          solver='liblinear'),\n",
       "             param_grid={'C': [0.5, 1, 1.5], 'class_weight': [None, 'balanced'],\n",
       "                         'intercept_scaling': [0.5, 1.0, 1.5]},\n",
       "             scoring='f1')"
      ]
     },
     "execution_count": 49,
     "metadata": {},
     "output_type": "execute_result"
    }
   ],
   "source": [
    "par_grid_logist = {\n",
    "                   'intercept_scaling': [0.5, 1.0, 1.5],\n",
    "                   'class_weight': [None, 'balanced'],\n",
    "                   'C': [0.5, 1, 1.5]\n",
    "                   }\n",
    "model = LogisticRegression(solver='liblinear',random_state=1589)\n",
    "\n",
    "grid_search = GridSearchCV(model, par_grid_logist, cv=5,\n",
    "                           scoring='f1')\n",
    "grid_search.fit(features_upsampled, target_upsampled)"
   ]
  },
  {
   "cell_type": "code",
   "execution_count": 50,
   "metadata": {},
   "outputs": [
    {
     "data": {
      "text/plain": [
       "{'C': 0.5, 'class_weight': None, 'intercept_scaling': 0.5}"
      ]
     },
     "execution_count": 50,
     "metadata": {},
     "output_type": "execute_result"
    }
   ],
   "source": [
    "grid_search.best_params_"
   ]
  },
  {
   "cell_type": "code",
   "execution_count": 51,
   "metadata": {},
   "outputs": [
    {
     "name": "stdout",
     "output_type": "stream",
     "text": [
      "F1: 0.5003837298541827\n"
     ]
    }
   ],
   "source": [
    "model_lreg = LogisticRegression(C=0.5, class_weight=None, intercept_scaling=0.5,\n",
    "                                solver='liblinear', random_state=1589\n",
    ")\n",
    "model_lreg.fit(features_upsampled, target_upsampled)\n",
    "predicted_valid = model_lreg.predict(features_valid)\n",
    "print(\"F1:\", f1_score(target_valid, predicted_valid))"
   ]
  },
  {
   "cell_type": "markdown",
   "metadata": {},
   "source": [
    "Итоговое значение ниже целевого минимума на валидационной выборке."
   ]
  },
  {
   "cell_type": "code",
   "execution_count": 52,
   "metadata": {},
   "outputs": [
    {
     "data": {
      "image/png": "[encoded data removed]",
      "text/plain": [
       "<Figure size 720x720 with 1 Axes>"
      ]
     },
     "metadata": {},
     "output_type": "display_data"
    },
    {
     "name": "stdout",
     "output_type": "stream",
     "text": [
      "AUC: 0.7852629717859003\n"
     ]
    }
   ],
   "source": [
    "probabilities_valid = model_lreg.predict_proba(features_valid)\n",
    "probabilities_one_valid = probabilities_valid[:, 1]\n",
    "\n",
    "fpr, tpr, thresholds = roc_curve(target_valid, probabilities_one_valid) \n",
    "\n",
    "plt.figure(figsize=(10, 10))\n",
    "plt.plot(fpr, tpr, linestyle='-')\n",
    "plt.plot([0, 1], [0, 1], linestyle='--')\n",
    "plt.xlim([0.0, 1.0])\n",
    "plt.ylim([0.0, 1.0])\n",
    "plt.xlabel('False Positive Rate')\n",
    "plt.ylabel('True Positive Rate')\n",
    "plt.title('ROC-кривая')\n",
    "\n",
    "plt.show()\n",
    "\n",
    "auc_roc = roc_auc_score (target_valid, probabilities_one_valid)\n",
    "\n",
    "print(\"AUC:\", auc_roc)"
   ]
  },
  {
   "cell_type": "markdown",
   "metadata": {},
   "source": [
    "**Случайный лес**"
   ]
  },
  {
   "cell_type": "code",
   "execution_count": 53,
   "metadata": {},
   "outputs": [
    {
     "data": {
      "text/html": [
       "<style>#sk-container-id-2 {color: black;background-color: white;}#sk-container-id-2 pre{padding: 0;}#sk-container-id-2 div.sk-toggleable {background-color: white;}#sk-container-id-2 label.sk-toggleable__label {cursor: pointer;display: block;width: 100%;margin-bottom: 0;padding: 0.3em;box-sizing: border-box;text-align: center;}#sk-container-id-2 label.sk-toggleable__label-arrow:before {content: \"▸\";float: left;margin-right: 0.25em;color: #696969;}#sk-container-id-2 label.sk-toggleable__label-arrow:hover:before {color: black;}#sk-container-id-2 div.sk-estimator:hover label.sk-toggleable__label-arrow:before {color: black;}#sk-container-id-2 div.sk-toggleable__content {max-height: 0;max-width: 0;overflow: hidden;text-align: left;background-color: #f0f8ff;}#sk-container-id-2 div.sk-toggleable__content pre {margin: 0.2em;color: black;border-radius: 0.25em;background-color: #f0f8ff;}#sk-container-id-2 input.sk-toggleable__control:checked~div.sk-toggleable__content {max-height: 200px;max-width: 100%;overflow: auto;}#sk-container-id-2 input.sk-toggleable__control:checked~label.sk-toggleable__label-arrow:before {content: \"▾\";}#sk-container-id-2 div.sk-estimator input.sk-toggleable__control:checked~label.sk-toggleable__label {background-color: #d4ebff;}#sk-container-id-2 div.sk-label input.sk-toggleable__control:checked~label.sk-toggleable__label {background-color: #d4ebff;}#sk-container-id-2 input.sk-hidden--visually {border: 0;clip: rect(1px 1px 1px 1px);clip: rect(1px, 1px, 1px, 1px);height: 1px;margin: -1px;overflow: hidden;padding: 0;position: absolute;width: 1px;}#sk-container-id-2 div.sk-estimator {font-family: monospace;background-color: #f0f8ff;border: 1px dotted black;border-radius: 0.25em;box-sizing: border-box;margin-bottom: 0.5em;}#sk-container-id-2 div.sk-estimator:hover {background-color: #d4ebff;}#sk-container-id-2 div.sk-parallel-item::after {content: \"\";width: 100%;border-bottom: 1px solid gray;flex-grow: 1;}#sk-container-id-2 div.sk-label:hover label.sk-toggleable__label {background-color: #d4ebff;}#sk-container-id-2 div.sk-serial::before {content: \"\";position: absolute;border-left: 1px solid gray;box-sizing: border-box;top: 0;bottom: 0;left: 50%;z-index: 0;}#sk-container-id-2 div.sk-serial {display: flex;flex-direction: column;align-items: center;background-color: white;padding-right: 0.2em;padding-left: 0.2em;position: relative;}#sk-container-id-2 div.sk-item {position: relative;z-index: 1;}#sk-container-id-2 div.sk-parallel {display: flex;align-items: stretch;justify-content: center;background-color: white;position: relative;}#sk-container-id-2 div.sk-item::before, #sk-container-id-2 div.sk-parallel-item::before {content: \"\";position: absolute;border-left: 1px solid gray;box-sizing: border-box;top: 0;bottom: 0;left: 50%;z-index: -1;}#sk-container-id-2 div.sk-parallel-item {display: flex;flex-direction: column;z-index: 1;position: relative;background-color: white;}#sk-container-id-2 div.sk-parallel-item:first-child::after {align-self: flex-end;width: 50%;}#sk-container-id-2 div.sk-parallel-item:last-child::after {align-self: flex-start;width: 50%;}#sk-container-id-2 div.sk-parallel-item:only-child::after {width: 0;}#sk-container-id-2 div.sk-dashed-wrapped {border: 1px dashed gray;margin: 0 0.4em 0.5em 0.4em;box-sizing: border-box;padding-bottom: 0.4em;background-color: white;}#sk-container-id-2 div.sk-label label {font-family: monospace;font-weight: bold;display: inline-block;line-height: 1.2em;}#sk-container-id-2 div.sk-label-container {text-align: center;}#sk-container-id-2 div.sk-container {/* jupyter's `normalize.less` sets `[hidden] { display: none; }` but bootstrap.min.css set `[hidden] { display: none !important; }` so we also need the `!important` here to be able to override the default hidden behavior on the sphinx rendered scikit-learn.org. See: https://github.com/scikit-learn/scikit-learn/issues/21755 */display: inline-block !important;position: relative;}#sk-container-id-2 div.sk-text-repr-fallback {display: none;}</style><div id=\"sk-container-id-2\" class=\"sk-top-container\"><div class=\"sk-text-repr-fallback\"><pre>GridSearchCV(cv=5, estimator=RandomForestClassifier(random_state=1589),\n",
       "             param_grid={&#x27;criterion&#x27;: [&#x27;gini&#x27;, &#x27;entropy&#x27;],\n",
       "                         &#x27;min_samples_split&#x27;: range(5, 15),\n",
       "                         &#x27;n_estimators&#x27;: [3, 10, 30]},\n",
       "             scoring=&#x27;accuracy&#x27;)</pre><b>In a Jupyter environment, please rerun this cell to show the HTML representation or trust the notebook. <br />On GitHub, the HTML representation is unable to render, please try loading this page with nbviewer.org.</b></div><div class=\"sk-container\" hidden><div class=\"sk-item sk-dashed-wrapped\"><div class=\"sk-label-container\"><div class=\"sk-label sk-toggleable\"><input class=\"sk-toggleable__control sk-hidden--visually\" id=\"sk-estimator-id-4\" type=\"checkbox\" ><label for=\"sk-estimator-id-4\" class=\"sk-toggleable__label sk-toggleable__label-arrow\">GridSearchCV</label><div class=\"sk-toggleable__content\"><pre>GridSearchCV(cv=5, estimator=RandomForestClassifier(random_state=1589),\n",
       "             param_grid={&#x27;criterion&#x27;: [&#x27;gini&#x27;, &#x27;entropy&#x27;],\n",
       "                         &#x27;min_samples_split&#x27;: range(5, 15),\n",
       "                         &#x27;n_estimators&#x27;: [3, 10, 30]},\n",
       "             scoring=&#x27;accuracy&#x27;)</pre></div></div></div><div class=\"sk-parallel\"><div class=\"sk-parallel-item\"><div class=\"sk-item\"><div class=\"sk-label-container\"><div class=\"sk-label sk-toggleable\"><input class=\"sk-toggleable__control sk-hidden--visually\" id=\"sk-estimator-id-5\" type=\"checkbox\" ><label for=\"sk-estimator-id-5\" class=\"sk-toggleable__label sk-toggleable__label-arrow\">estimator: RandomForestClassifier</label><div class=\"sk-toggleable__content\"><pre>RandomForestClassifier(random_state=1589)</pre></div></div></div><div class=\"sk-serial\"><div class=\"sk-item\"><div class=\"sk-estimator sk-toggleable\"><input class=\"sk-toggleable__control sk-hidden--visually\" id=\"sk-estimator-id-6\" type=\"checkbox\" ><label for=\"sk-estimator-id-6\" class=\"sk-toggleable__label sk-toggleable__label-arrow\">RandomForestClassifier</label><div class=\"sk-toggleable__content\"><pre>RandomForestClassifier(random_state=1589)</pre></div></div></div></div></div></div></div></div></div></div>"
      ],
      "text/plain": [
       "GridSearchCV(cv=5, estimator=RandomForestClassifier(random_state=1589),\n",
       "             param_grid={'criterion': ['gini', 'entropy'],\n",
       "                         'min_samples_split': range(5, 15),\n",
       "                         'n_estimators': [3, 10, 30]},\n",
       "             scoring='accuracy')"
      ]
     },
     "execution_count": 53,
     "metadata": {},
     "output_type": "execute_result"
    }
   ],
   "source": [
    "par_grid_ensemble = {'n_estimators': [3, 10, 30],\n",
    "                     'criterion': ['gini', 'entropy'],\n",
    "                     'min_samples_split': range(5, 15)\n",
    "                    }\n",
    "model = RandomForestClassifier(random_state=1589)\n",
    "\n",
    "grid_search = GridSearchCV(model, par_grid_ensemble, cv=5,\n",
    "                           scoring='accuracy'\n",
    "                          )\n",
    "grid_search.fit(features_upsampled, target_upsampled)"
   ]
  },
  {
   "cell_type": "code",
   "execution_count": 54,
   "metadata": {},
   "outputs": [
    {
     "data": {
      "text/plain": [
       "{'criterion': 'entropy', 'min_samples_split': 5, 'n_estimators': 30}"
      ]
     },
     "execution_count": 54,
     "metadata": {},
     "output_type": "execute_result"
    }
   ],
   "source": [
    "grid_search.best_params_"
   ]
  },
  {
   "cell_type": "code",
   "execution_count": 55,
   "metadata": {},
   "outputs": [
    {
     "name": "stdout",
     "output_type": "stream",
     "text": [
      "F1: 0.5945205479452055\n"
     ]
    }
   ],
   "source": [
    "model_rfc = RandomForestClassifier(random_state=1589, criterion='entropy', \n",
    "                               min_samples_split=5, n_estimators=30\n",
    "                              )\n",
    "model_rfc.fit(features_upsampled, target_upsampled)\n",
    "predicted_valid = model_rfc.predict(features_valid)\n",
    "print(\"F1:\", f1_score(target_valid, predicted_valid))"
   ]
  },
  {
   "cell_type": "code",
   "execution_count": 56,
   "metadata": {},
   "outputs": [
    {
     "data": {
      "image/png": "[encoded data removed]",
      "text/plain": [
       "<Figure size 720x720 with 1 Axes>"
      ]
     },
     "metadata": {},
     "output_type": "display_data"
    },
    {
     "name": "stdout",
     "output_type": "stream",
     "text": [
      "AUC: 0.8469177274870343\n"
     ]
    }
   ],
   "source": [
    "probabilities_valid = model_rfc.predict_proba(features_valid)\n",
    "probabilities_one_valid = probabilities_valid[:, 1]\n",
    "\n",
    "fpr, tpr, thresholds = roc_curve(target_valid, probabilities_one_valid) \n",
    "\n",
    "plt.figure(figsize=(10, 10))\n",
    "plt.plot(fpr, tpr, linestyle='-')\n",
    "plt.plot([0, 1], [0, 1], linestyle='--')\n",
    "plt.xlim([0.0, 1.0])\n",
    "plt.ylim([0.0, 1.0])\n",
    "plt.xlabel('False Positive Rate')\n",
    "plt.ylabel('True Positive Rate')\n",
    "plt.title('ROC-кривая')\n",
    "plt.show()\n",
    "\n",
    "auc_roc = roc_auc_score (target_valid, probabilities_one_valid)\n",
    "\n",
    "print(\"AUC:\", auc_roc)"
   ]
  },
  {
   "cell_type": "markdown",
   "metadata": {},
   "source": [
    "**Catboost + СV**"
   ]
  },
  {
   "cell_type": "code",
   "execution_count": 57,
   "metadata": {},
   "outputs": [
    {
     "data": {
      "text/plain": [
       "<catboost.core.CatBoostClassifier at 0x7f4cba21b6d0>"
      ]
     },
     "execution_count": 57,
     "metadata": {},
     "output_type": "execute_result"
    }
   ],
   "source": [
    "model_cat = CatBoostClassifier(\n",
    "                           custom_loss=['F1'],\n",
    "                           random_seed=1589,\n",
    "                           logging_level='Silent'\n",
    ")\n",
    "model_cat.fit(\n",
    "          features_train, target_train,\n",
    "          eval_set=(features_valid, target_valid)\n",
    "\n",
    ")"
   ]
  },
  {
   "cell_type": "code",
   "execution_count": 58,
   "metadata": {},
   "outputs": [],
   "source": [
    "cv_params = model_cat.get_params()\n",
    "cv_params.update({\n",
    "                 'loss_function': 'Logloss'\n",
    "})\n",
    "cv_data = cv(\n",
    "             Pool(features_train, target_train),\n",
    "             cv_params\n",
    ")"
   ]
  },
  {
   "cell_type": "code",
   "execution_count": 59,
   "metadata": {},
   "outputs": [
    {
     "name": "stdout",
     "output_type": "stream",
     "text": [
      "Точная F1-мера: 0.6164757298962341\n"
     ]
    }
   ],
   "source": [
    "print('Точная F1-мера: {}'.format(np.max(cv_data['test-F1-mean'])))"
   ]
  },
  {
   "cell_type": "markdown",
   "metadata": {},
   "source": [
    "**Итог:** Случайный лес и Catboost показали приемлимые результаты на валидационной выборке. Посмотрим, что они покажут на тесте."
   ]
  },
  {
   "cell_type": "markdown",
   "metadata": {},
   "source": [
    "### Тест моделей"
   ]
  },
  {
   "cell_type": "code",
   "execution_count": 60,
   "metadata": {},
   "outputs": [],
   "source": [
    "#для удобства вывода в дальнейшем - соберем показатели в списки\n",
    "\n",
    "table_of_model = []\n",
    "table_of_prec = []\n",
    "table_of_acc = []"
   ]
  },
  {
   "cell_type": "markdown",
   "metadata": {},
   "source": [
    "**Логистическая регрессия**"
   ]
  },
  {
   "cell_type": "code",
   "execution_count": 61,
   "metadata": {},
   "outputs": [
    {
     "name": "stdout",
     "output_type": "stream",
     "text": [
      "Accuracy\n",
      "Тестовая выборка: 0.655\n",
      "F1-мера\n",
      "Тестовая выборка: 0.4659442724458204\n"
     ]
    }
   ],
   "source": [
    "predictions_test = model_lreg.predict(features_test)\n",
    "test_f1 = f1_score(target_test, predictions_test)\n",
    "test_acc = accuracy_score(target_test, predictions_test)\n",
    "\n",
    "print(\"Accuracy\")\n",
    "print(\"Тестовая выборка:\", test_acc)\n",
    "print(\"F1-мера\")\n",
    "print(\"Тестовая выборка:\", test_f1)\n",
    "\n",
    "table_of_acc.append(round(test_acc, 2))\n",
    "table_of_prec.append(round(test_f1, 2))\n",
    "table_of_model.append('LogisticRegression')"
   ]
  },
  {
   "cell_type": "markdown",
   "metadata": {},
   "source": [
    "**Случайный лес**"
   ]
  },
  {
   "cell_type": "code",
   "execution_count": 62,
   "metadata": {},
   "outputs": [
    {
     "name": "stdout",
     "output_type": "stream",
     "text": [
      "Accuracy\n",
      "Тестовая выборка: 0.837\n",
      "F1-мера\n",
      "Тестовая выборка: 0.5664893617021277\n"
     ]
    }
   ],
   "source": [
    "predictions_test = model_rfc.predict(features_test)\n",
    "test_f1 = f1_score(target_test, predictions_test)\n",
    "test_acc = accuracy_score(target_test, predictions_test)\n",
    "\n",
    "print(\"Accuracy\")\n",
    "print(\"Тестовая выборка:\", test_acc)\n",
    "print(\"F1-мера\")\n",
    "print(\"Тестовая выборка:\", test_f1)\n",
    "\n",
    "table_of_acc.append(round(test_acc, 2))\n",
    "table_of_prec.append(round(test_f1, 2))\n",
    "table_of_model.append('RandomForestClassifier')"
   ]
  },
  {
   "cell_type": "markdown",
   "metadata": {},
   "source": [
    "**Catboost**"
   ]
  },
  {
   "cell_type": "code",
   "execution_count": 63,
   "metadata": {},
   "outputs": [
    {
     "name": "stdout",
     "output_type": "stream",
     "text": [
      "Accuracy\n",
      "Тестовая выборка: 0.837\n",
      "F1-мера\n",
      "Тестовая выборка: 0.5664893617021277\n"
     ]
    }
   ],
   "source": [
    "predictions = model_cat.predict(features_test)\n",
    "test_f1 = f1_score(target_test, predictions_test)\n",
    "test_acc = accuracy_score(target_test, predictions_test)\n",
    "\n",
    "print(\"Accuracy\")\n",
    "print(\"Тестовая выборка:\", test_acc)\n",
    "print(\"F1-мера\")\n",
    "print(\"Тестовая выборка:\", test_f1)\n",
    "\n",
    "table_of_acc.append(round(test_acc, 2))\n",
    "table_of_prec.append(round(test_f1, 2))\n",
    "table_of_model.append('Catboost')"
   ]
  },
  {
   "cell_type": "code",
   "execution_count": 64,
   "metadata": {},
   "outputs": [
    {
     "data": {
      "image/png": "[encoded data removed]",
      "text/plain": [
       "<Figure size 864x216 with 1 Axes>"
      ]
     },
     "metadata": {},
     "output_type": "display_data"
    }
   ],
   "source": [
    "fi = model_cat.get_feature_importance(prettified=True)\n",
    "\n",
    "plt.figure(figsize=(12, 3));\n",
    "sns.barplot(x=\"Importances\", y=\"Feature Id\", data=fi);\n",
    "plt.title('CatBoost features importance:');"
   ]
  },
  {
   "cell_type": "markdown",
   "metadata": {},
   "source": [
    "## Вывод"
   ]
  },
  {
   "cell_type": "code",
   "execution_count": 65,
   "metadata": {},
   "outputs": [
    {
     "data": {
      "text/html": [
       "<div>\n",
       "<style scoped>\n",
       "    .dataframe tbody tr th:only-of-type {\n",
       "        vertical-align: middle;\n",
       "    }\n",
       "\n",
       "    .dataframe tbody tr th {\n",
       "        vertical-align: top;\n",
       "    }\n",
       "\n",
       "    .dataframe thead th {\n",
       "        text-align: right;\n",
       "    }\n",
       "</style>\n",
       "<table border=\"1\" class=\"dataframe\">\n",
       "  <thead>\n",
       "    <tr style=\"text-align: right;\">\n",
       "      <th></th>\n",
       "      <th>Model</th>\n",
       "      <th>Accuracy</th>\n",
       "      <th>F1 score</th>\n",
       "      <th>Порог тестирования</th>\n",
       "    </tr>\n",
       "  </thead>\n",
       "  <tbody>\n",
       "    <tr>\n",
       "      <th>0</th>\n",
       "      <td>RandomForestClassifier</td>\n",
       "      <td>0.84</td>\n",
       "      <td>0.57</td>\n",
       "      <td>Прошла тест</td>\n",
       "    </tr>\n",
       "    <tr>\n",
       "      <th>1</th>\n",
       "      <td>Catboost</td>\n",
       "      <td>0.84</td>\n",
       "      <td>0.57</td>\n",
       "      <td>Прошла тест</td>\n",
       "    </tr>\n",
       "    <tr>\n",
       "      <th>2</th>\n",
       "      <td>LogisticRegression</td>\n",
       "      <td>0.66</td>\n",
       "      <td>0.47</td>\n",
       "      <td>Не прошла тест</td>\n",
       "    </tr>\n",
       "  </tbody>\n",
       "</table>\n",
       "</div>"
      ],
      "text/plain": [
       "                    Model  Accuracy  F1 score Порог тестирования\n",
       "0  RandomForestClassifier      0.84      0.57        Прошла тест\n",
       "1                Catboost      0.84      0.57        Прошла тест\n",
       "2      LogisticRegression      0.66      0.47     Не прошла тест"
      ]
     },
     "execution_count": 65,
     "metadata": {},
     "output_type": "execute_result"
    }
   ],
   "source": [
    "table_of_models = (pd.DataFrame({'Model':table_of_model, 'Accuracy':table_of_acc, \n",
    "                                'F1 score':table_of_prec}).sort_values(by='F1 score', ascending=False).\n",
    "                  reset_index(drop=True))\n",
    "table_of_models['Порог тестирования'] = (\n",
    "                   table_of_models['F1 score'].apply(lambda x: 'Прошла тест' if x>0.55 else 'Не прошла тест')\n",
    ")\n",
    "table_of_models"
   ]
  },
  {
   "cell_type": "markdown",
   "metadata": {},
   "source": [
    "Наилучший результат получили на Случайном лесе и Catboost- 0.57.  \n",
    "Логистическая регрессия не прошла заявленный порог допустимости."
   ]
  },
  {
   "cell_type": "markdown",
   "metadata": {},
   "source": [
    "### Проверка модели на адекватность"
   ]
  },
  {
   "cell_type": "markdown",
   "metadata": {},
   "source": [
    "Константное сравнение"
   ]
  },
  {
   "cell_type": "code",
   "execution_count": 66,
   "metadata": {},
   "outputs": [
    {
     "name": "stdout",
     "output_type": "stream",
     "text": [
      "Accuracy\n",
      "Константа: 0.7963\n"
     ]
    }
   ],
   "source": [
    "target_const = target*0\n",
    "acc_const = accuracy_score(target, target_const)\n",
    "\n",
    "\n",
    "print(\"Accuracy\")\n",
    "print(\"Константа:\", acc_const)"
   ]
  },
  {
   "cell_type": "markdown",
   "metadata": {},
   "source": [
    "**Случайный лес и Catboost прошли проверку на адекватность**. Правильность моделей выше, чем у случайной."
   ]
  },
  {
   "cell_type": "markdown",
   "metadata": {},
   "source": [
    "**Были изучены исторические данные о поведении клиентов и расторжении договоров с банком.\n",
    "На основе этих данных были определены признаки для обучения модели с целью прогнозирования оттока клиентов. \n",
    "Лучших результаты достигнуты на моделях - Случайный Лес и Catboost.**"
   ]
  }
 ],
 "metadata": {
  "ExecuteTimeLog": [
   {
    "duration": 1595,
    "start_time": "2023-01-16T06:58:13.705Z"
   },
   {
    "duration": 136,
    "start_time": "2023-01-16T06:59:06.213Z"
   },
   {
    "duration": 121,
    "start_time": "2023-01-16T06:59:19.940Z"
   },
   {
    "duration": 12,
    "start_time": "2023-01-16T07:00:05.580Z"
   },
   {
    "duration": 4,
    "start_time": "2023-01-16T07:00:08.195Z"
   },
   {
    "duration": 14,
    "start_time": "2023-01-16T07:00:19.001Z"
   },
   {
    "duration": 37,
    "start_time": "2023-01-16T07:00:38.363Z"
   },
   {
    "duration": 5,
    "start_time": "2023-01-16T07:02:10.770Z"
   },
   {
    "duration": 16,
    "start_time": "2023-01-16T07:07:13.322Z"
   },
   {
    "duration": 12,
    "start_time": "2023-01-16T07:07:18.313Z"
   },
   {
    "duration": 52,
    "start_time": "2023-01-16T07:08:09.563Z"
   },
   {
    "duration": 5,
    "start_time": "2023-01-16T07:08:31.852Z"
   },
   {
    "duration": 63,
    "start_time": "2023-01-16T07:08:56.555Z"
   },
   {
    "duration": 16,
    "start_time": "2023-01-16T07:08:59.947Z"
   },
   {
    "duration": 4,
    "start_time": "2023-01-16T07:09:19.259Z"
   },
   {
    "duration": 9,
    "start_time": "2023-01-16T07:10:52.944Z"
   },
   {
    "duration": 19,
    "start_time": "2023-01-16T07:11:40.170Z"
   },
   {
    "duration": 1091,
    "start_time": "2023-01-16T07:12:07.944Z"
   },
   {
    "duration": 21,
    "start_time": "2023-01-16T07:40:53.894Z"
   },
   {
    "duration": 5,
    "start_time": "2023-01-16T07:41:01.073Z"
   },
   {
    "duration": 19,
    "start_time": "2023-01-16T07:41:34.984Z"
   },
   {
    "duration": 865,
    "start_time": "2023-01-16T08:42:41.019Z"
   },
   {
    "duration": 1915,
    "start_time": "2023-01-16T08:42:55.475Z"
   },
   {
    "duration": 1922,
    "start_time": "2023-01-16T08:43:02.756Z"
   },
   {
    "duration": 1975,
    "start_time": "2023-01-16T08:43:16.591Z"
   },
   {
    "duration": 1969,
    "start_time": "2023-01-16T08:43:32.419Z"
   },
   {
    "duration": 2056,
    "start_time": "2023-01-16T08:43:44.294Z"
   },
   {
    "duration": 6,
    "start_time": "2023-01-16T08:44:29.630Z"
   },
   {
    "duration": 8,
    "start_time": "2023-01-16T08:44:54.448Z"
   },
   {
    "duration": 6,
    "start_time": "2023-01-16T08:47:16.895Z"
   },
   {
    "duration": 4,
    "start_time": "2023-01-16T08:47:28.980Z"
   },
   {
    "duration": 14,
    "start_time": "2023-01-16T08:47:42.750Z"
   },
   {
    "duration": 1951,
    "start_time": "2023-01-16T08:50:23.385Z"
   },
   {
    "duration": 1959,
    "start_time": "2023-01-16T08:50:40.648Z"
   },
   {
    "duration": 3,
    "start_time": "2023-01-16T08:51:19.466Z"
   },
   {
    "duration": 20,
    "start_time": "2023-01-16T08:53:20.218Z"
   },
   {
    "duration": 24,
    "start_time": "2023-01-16T08:53:30.573Z"
   },
   {
    "duration": 16,
    "start_time": "2023-01-16T09:03:43.839Z"
   },
   {
    "duration": 16,
    "start_time": "2023-01-16T09:04:31.233Z"
   },
   {
    "duration": 19,
    "start_time": "2023-01-16T09:06:07.484Z"
   },
   {
    "duration": 17,
    "start_time": "2023-01-16T09:07:39.796Z"
   },
   {
    "duration": 1317,
    "start_time": "2023-01-16T09:08:35.732Z"
   },
   {
    "duration": 52,
    "start_time": "2023-01-16T09:08:37.051Z"
   },
   {
    "duration": 5,
    "start_time": "2023-01-16T09:08:37.104Z"
   },
   {
    "duration": 15,
    "start_time": "2023-01-16T09:08:37.111Z"
   },
   {
    "duration": 38,
    "start_time": "2023-01-16T09:08:37.127Z"
   },
   {
    "duration": 5,
    "start_time": "2023-01-16T09:08:37.167Z"
   },
   {
    "duration": 24,
    "start_time": "2023-01-16T09:08:37.174Z"
   },
   {
    "duration": 1857,
    "start_time": "2023-01-16T09:08:37.199Z"
   },
   {
    "duration": 12,
    "start_time": "2023-01-16T09:08:39.057Z"
   },
   {
    "duration": 61,
    "start_time": "2023-01-16T09:08:39.072Z"
   },
   {
    "duration": 5,
    "start_time": "2023-01-16T09:08:39.135Z"
   },
   {
    "duration": 5,
    "start_time": "2023-01-16T09:08:39.142Z"
   },
   {
    "duration": 991,
    "start_time": "2023-01-16T09:08:39.149Z"
   },
   {
    "duration": 20,
    "start_time": "2023-01-16T09:08:40.141Z"
   },
   {
    "duration": 6,
    "start_time": "2023-01-16T09:08:40.163Z"
   },
   {
    "duration": 16,
    "start_time": "2023-01-16T09:08:40.170Z"
   },
   {
    "duration": 6,
    "start_time": "2023-01-16T09:08:40.188Z"
   },
   {
    "duration": 142,
    "start_time": "2023-01-16T09:08:40.195Z"
   },
   {
    "duration": 7,
    "start_time": "2023-01-16T09:08:40.339Z"
   },
   {
    "duration": 14,
    "start_time": "2023-01-16T09:08:40.347Z"
   },
   {
    "duration": 2054,
    "start_time": "2023-01-16T09:08:40.363Z"
   },
   {
    "duration": 5,
    "start_time": "2023-01-16T09:08:42.418Z"
   },
   {
    "duration": 24,
    "start_time": "2023-01-16T09:08:42.425Z"
   },
   {
    "duration": 15,
    "start_time": "2023-01-16T09:08:42.450Z"
   },
   {
    "duration": 16,
    "start_time": "2023-01-16T09:08:42.467Z"
   },
   {
    "duration": 106,
    "start_time": "2023-01-16T09:08:42.485Z"
   },
   {
    "duration": 22,
    "start_time": "2023-01-16T09:10:09.344Z"
   },
   {
    "duration": 9,
    "start_time": "2023-01-16T09:12:07.721Z"
   },
   {
    "duration": 129,
    "start_time": "2023-01-16T09:12:38.489Z"
   },
   {
    "duration": 36,
    "start_time": "2023-01-16T09:12:46.906Z"
   },
   {
    "duration": 16,
    "start_time": "2023-01-16T10:18:42.556Z"
   },
   {
    "duration": 31,
    "start_time": "2023-01-16T10:19:00.150Z"
   },
   {
    "duration": 61,
    "start_time": "2023-01-16T10:19:18.763Z"
   },
   {
    "duration": 54,
    "start_time": "2023-01-16T10:20:05.834Z"
   },
   {
    "duration": 103,
    "start_time": "2023-01-16T10:20:31.151Z"
   },
   {
    "duration": 14,
    "start_time": "2023-01-16T10:23:00.924Z"
   },
   {
    "duration": 46,
    "start_time": "2023-01-16T10:23:17.076Z"
   },
   {
    "duration": 13,
    "start_time": "2023-01-16T10:23:42.569Z"
   },
   {
    "duration": 19,
    "start_time": "2023-01-16T10:25:45.961Z"
   },
   {
    "duration": 36,
    "start_time": "2023-01-16T10:26:01.962Z"
   },
   {
    "duration": 9818,
    "start_time": "2023-01-16T12:42:02.307Z"
   },
   {
    "duration": 5,
    "start_time": "2023-01-16T12:42:25.534Z"
   },
   {
    "duration": 13932,
    "start_time": "2023-01-16T12:43:27.299Z"
   },
   {
    "duration": 4,
    "start_time": "2023-01-16T12:44:05.004Z"
   },
   {
    "duration": 14184,
    "start_time": "2023-01-16T12:44:57.258Z"
   },
   {
    "duration": 10,
    "start_time": "2023-01-16T12:46:11.548Z"
   },
   {
    "duration": 3,
    "start_time": "2023-01-16T12:46:16.859Z"
   },
   {
    "duration": 13842,
    "start_time": "2023-01-16T12:47:16.171Z"
   },
   {
    "duration": 4,
    "start_time": "2023-01-16T12:48:02.724Z"
   },
   {
    "duration": 41,
    "start_time": "2023-01-16T12:49:07.248Z"
   },
   {
    "duration": 13808,
    "start_time": "2023-01-16T12:50:15.404Z"
   },
   {
    "duration": 13720,
    "start_time": "2023-01-16T12:53:09.640Z"
   },
   {
    "duration": 4,
    "start_time": "2023-01-16T12:53:49.993Z"
   },
   {
    "duration": 7357,
    "start_time": "2023-01-16T12:55:07.541Z"
   },
   {
    "duration": 4,
    "start_time": "2023-01-16T12:55:17.400Z"
   },
   {
    "duration": 58,
    "start_time": "2023-01-16T12:58:07.060Z"
   },
   {
    "duration": 37381,
    "start_time": "2023-01-16T12:58:16.299Z"
   },
   {
    "duration": 4,
    "start_time": "2023-01-16T13:05:55.181Z"
   },
   {
    "duration": 288,
    "start_time": "2023-01-16T13:06:49.948Z"
   },
   {
    "duration": 44533,
    "start_time": "2023-01-16T13:07:46.977Z"
   },
   {
    "duration": 3,
    "start_time": "2023-01-16T13:08:34.690Z"
   },
   {
    "duration": 220,
    "start_time": "2023-01-16T13:09:44.306Z"
   },
   {
    "duration": 213,
    "start_time": "2023-01-16T13:10:38.177Z"
   },
   {
    "duration": 44674,
    "start_time": "2023-01-16T13:11:14.321Z"
   },
   {
    "duration": 4,
    "start_time": "2023-01-16T13:12:17.599Z"
   },
   {
    "duration": 119491,
    "start_time": "2023-01-16T13:12:42.375Z"
   },
   {
    "duration": 4,
    "start_time": "2023-01-16T13:14:41.868Z"
   },
   {
    "duration": 4,
    "start_time": "2023-01-16T13:15:50.612Z"
   },
   {
    "duration": 231,
    "start_time": "2023-01-16T13:15:52.531Z"
   },
   {
    "duration": 10,
    "start_time": "2023-01-16T13:16:06.874Z"
   },
   {
    "duration": 3,
    "start_time": "2023-01-16T13:16:23.878Z"
   },
   {
    "duration": 188,
    "start_time": "2023-01-16T13:16:30.574Z"
   },
   {
    "duration": 219,
    "start_time": "2023-01-16T13:16:54.255Z"
   },
   {
    "duration": 61527,
    "start_time": "2023-01-16T13:17:17.594Z"
   },
   {
    "duration": 4,
    "start_time": "2023-01-16T13:18:40.285Z"
   },
   {
    "duration": 320,
    "start_time": "2023-01-16T13:18:47.848Z"
   },
   {
    "duration": 282,
    "start_time": "2023-01-16T13:18:57.024Z"
   },
   {
    "duration": 161,
    "start_time": "2023-01-16T13:20:32.911Z"
   },
   {
    "duration": 169,
    "start_time": "2023-01-16T13:20:48.892Z"
   },
   {
    "duration": 157,
    "start_time": "2023-01-16T13:21:32.003Z"
   },
   {
    "duration": 191,
    "start_time": "2023-01-16T13:21:35.209Z"
   },
   {
    "duration": 1368,
    "start_time": "2023-01-16T13:22:05.001Z"
   },
   {
    "duration": 62,
    "start_time": "2023-01-16T13:22:06.371Z"
   },
   {
    "duration": 4,
    "start_time": "2023-01-16T13:22:06.434Z"
   },
   {
    "duration": 15,
    "start_time": "2023-01-16T13:22:06.439Z"
   },
   {
    "duration": 37,
    "start_time": "2023-01-16T13:22:06.458Z"
   },
   {
    "duration": 4,
    "start_time": "2023-01-16T13:22:06.496Z"
   },
   {
    "duration": 21,
    "start_time": "2023-01-16T13:22:06.501Z"
   },
   {
    "duration": 1857,
    "start_time": "2023-01-16T13:22:06.523Z"
   },
   {
    "duration": 26,
    "start_time": "2023-01-16T13:22:08.382Z"
   },
   {
    "duration": 56,
    "start_time": "2023-01-16T13:22:08.411Z"
   },
   {
    "duration": 5,
    "start_time": "2023-01-16T13:22:08.469Z"
   },
   {
    "duration": 5,
    "start_time": "2023-01-16T13:22:08.476Z"
   },
   {
    "duration": 1033,
    "start_time": "2023-01-16T13:22:08.483Z"
   },
   {
    "duration": 168,
    "start_time": "2023-01-16T13:22:09.521Z"
   },
   {
    "duration": 6,
    "start_time": "2023-01-16T13:22:09.691Z"
   },
   {
    "duration": 25,
    "start_time": "2023-01-16T13:22:09.699Z"
   },
   {
    "duration": 10,
    "start_time": "2023-01-16T13:22:09.725Z"
   },
   {
    "duration": 8,
    "start_time": "2023-01-16T13:22:09.737Z"
   },
   {
    "duration": 5,
    "start_time": "2023-01-16T13:22:09.747Z"
   },
   {
    "duration": 21,
    "start_time": "2023-01-16T13:22:09.753Z"
   },
   {
    "duration": 1988,
    "start_time": "2023-01-16T13:22:09.775Z"
   },
   {
    "duration": 4,
    "start_time": "2023-01-16T13:22:11.765Z"
   },
   {
    "duration": 24,
    "start_time": "2023-01-16T13:22:11.771Z"
   },
   {
    "duration": 15,
    "start_time": "2023-01-16T13:22:11.797Z"
   },
   {
    "duration": 16,
    "start_time": "2023-01-16T13:22:11.813Z"
   },
   {
    "duration": 76,
    "start_time": "2023-01-16T13:22:11.830Z"
   },
   {
    "duration": 30,
    "start_time": "2023-01-16T13:22:11.908Z"
   },
   {
    "duration": 205,
    "start_time": "2023-01-16T13:22:11.940Z"
   },
   {
    "duration": 15,
    "start_time": "2023-01-16T13:22:12.147Z"
   },
   {
    "duration": 68,
    "start_time": "2023-01-16T13:22:12.163Z"
   },
   {
    "duration": 41,
    "start_time": "2023-01-16T13:22:12.322Z"
   },
   {
    "duration": 149,
    "start_time": "2023-01-16T13:22:12.364Z"
   },
   {
    "duration": 15,
    "start_time": "2023-01-16T13:22:12.514Z"
   },
   {
    "duration": 91,
    "start_time": "2023-01-16T13:22:12.530Z"
   },
   {
    "duration": 108,
    "start_time": "2023-01-16T13:22:12.624Z"
   },
   {
    "duration": 51,
    "start_time": "2023-01-16T13:22:12.734Z"
   },
   {
    "duration": 14117,
    "start_time": "2023-01-16T13:22:12.787Z"
   },
   {
    "duration": 3,
    "start_time": "2023-01-16T13:22:26.906Z"
   },
   {
    "duration": 48,
    "start_time": "2023-01-16T13:22:26.911Z"
   },
   {
    "duration": 148,
    "start_time": "2023-01-16T13:22:26.961Z"
   },
   {
    "duration": 62586,
    "start_time": "2023-01-16T13:22:27.112Z"
   },
   {
    "duration": 3,
    "start_time": "2023-01-16T13:23:29.700Z"
   },
   {
    "duration": 298,
    "start_time": "2023-01-16T13:23:29.705Z"
   },
   {
    "duration": 164,
    "start_time": "2023-01-16T13:23:30.004Z"
   },
   {
    "duration": 15757,
    "start_time": "2023-01-17T09:01:21.098Z"
   },
   {
    "duration": 4,
    "start_time": "2023-01-17T09:02:34.807Z"
   },
   {
    "duration": 143,
    "start_time": "2023-01-17T09:03:17.088Z"
   },
   {
    "duration": 31,
    "start_time": "2023-01-17T09:03:29.652Z"
   },
   {
    "duration": 355,
    "start_time": "2023-01-17T09:03:45.631Z"
   },
   {
    "duration": 1472,
    "start_time": "2023-01-17T09:10:23.438Z"
   },
   {
    "duration": 54,
    "start_time": "2023-01-17T09:10:24.911Z"
   },
   {
    "duration": 4,
    "start_time": "2023-01-17T09:10:24.967Z"
   },
   {
    "duration": 15,
    "start_time": "2023-01-17T09:10:24.972Z"
   },
   {
    "duration": 36,
    "start_time": "2023-01-17T09:10:24.989Z"
   },
   {
    "duration": 23,
    "start_time": "2023-01-17T09:10:25.026Z"
   },
   {
    "duration": 4,
    "start_time": "2023-01-17T09:10:25.050Z"
   },
   {
    "duration": 1933,
    "start_time": "2023-01-17T09:10:25.055Z"
   },
   {
    "duration": 11,
    "start_time": "2023-01-17T09:10:26.989Z"
   },
   {
    "duration": 59,
    "start_time": "2023-01-17T09:10:27.002Z"
   },
   {
    "duration": 5,
    "start_time": "2023-01-17T09:10:27.063Z"
   },
   {
    "duration": 5,
    "start_time": "2023-01-17T09:10:27.070Z"
   },
   {
    "duration": 991,
    "start_time": "2023-01-17T09:10:27.076Z"
   },
   {
    "duration": 18,
    "start_time": "2023-01-17T09:10:28.069Z"
   },
   {
    "duration": 6,
    "start_time": "2023-01-17T09:10:28.088Z"
   },
   {
    "duration": 7,
    "start_time": "2023-01-17T09:10:28.095Z"
   },
   {
    "duration": 6,
    "start_time": "2023-01-17T09:10:28.104Z"
   },
   {
    "duration": 145,
    "start_time": "2023-01-17T09:10:28.111Z"
   },
   {
    "duration": 4,
    "start_time": "2023-01-17T09:10:28.258Z"
   },
   {
    "duration": 14,
    "start_time": "2023-01-17T09:10:28.263Z"
   },
   {
    "duration": 2000,
    "start_time": "2023-01-17T09:10:28.278Z"
   },
   {
    "duration": 4,
    "start_time": "2023-01-17T09:10:30.280Z"
   },
   {
    "duration": 30,
    "start_time": "2023-01-17T09:10:30.286Z"
   },
   {
    "duration": 16,
    "start_time": "2023-01-17T09:10:30.317Z"
   },
   {
    "duration": 22,
    "start_time": "2023-01-17T09:10:30.334Z"
   },
   {
    "duration": 82,
    "start_time": "2023-01-17T09:10:30.357Z"
   },
   {
    "duration": 21,
    "start_time": "2023-01-17T09:10:30.441Z"
   },
   {
    "duration": 225,
    "start_time": "2023-01-17T09:10:30.467Z"
   },
   {
    "duration": 13,
    "start_time": "2023-01-17T09:10:30.694Z"
   },
   {
    "duration": 48,
    "start_time": "2023-01-17T09:10:30.708Z"
   },
   {
    "duration": 221,
    "start_time": "2023-01-17T09:10:30.758Z"
   },
   {
    "duration": 120,
    "start_time": "2023-01-17T09:10:30.981Z"
   },
   {
    "duration": 13,
    "start_time": "2023-01-17T09:10:31.103Z"
   },
   {
    "duration": 32,
    "start_time": "2023-01-17T09:10:31.117Z"
   },
   {
    "duration": 198,
    "start_time": "2023-01-17T09:10:31.151Z"
   },
   {
    "duration": 37,
    "start_time": "2023-01-17T09:10:31.351Z"
   },
   {
    "duration": 14558,
    "start_time": "2023-01-17T09:10:31.390Z"
   },
   {
    "duration": 4,
    "start_time": "2023-01-17T09:10:45.949Z"
   },
   {
    "duration": 52,
    "start_time": "2023-01-17T09:10:45.955Z"
   },
   {
    "duration": 142,
    "start_time": "2023-01-17T09:10:46.009Z"
   },
   {
    "duration": 0,
    "start_time": "2023-01-17T09:10:46.153Z"
   },
   {
    "duration": 0,
    "start_time": "2023-01-17T09:10:46.155Z"
   },
   {
    "duration": 0,
    "start_time": "2023-01-17T09:10:46.157Z"
   },
   {
    "duration": 0,
    "start_time": "2023-01-17T09:10:46.158Z"
   },
   {
    "duration": 0,
    "start_time": "2023-01-17T09:10:46.160Z"
   },
   {
    "duration": 0,
    "start_time": "2023-01-17T09:10:46.161Z"
   },
   {
    "duration": 0,
    "start_time": "2023-01-17T09:10:46.163Z"
   },
   {
    "duration": 0,
    "start_time": "2023-01-17T09:10:46.164Z"
   },
   {
    "duration": 9,
    "start_time": "2023-01-17T09:12:21.570Z"
   },
   {
    "duration": 142,
    "start_time": "2023-01-17T09:12:44.734Z"
   },
   {
    "duration": 6456,
    "start_time": "2023-01-17T09:12:45.732Z"
   },
   {
    "duration": 9,
    "start_time": "2023-01-17T09:12:52.190Z"
   },
   {
    "duration": 1327,
    "start_time": "2023-01-17T09:12:57.159Z"
   },
   {
    "duration": 53,
    "start_time": "2023-01-17T09:12:58.488Z"
   },
   {
    "duration": 4,
    "start_time": "2023-01-17T09:12:58.543Z"
   },
   {
    "duration": 16,
    "start_time": "2023-01-17T09:12:58.549Z"
   },
   {
    "duration": 39,
    "start_time": "2023-01-17T09:12:58.569Z"
   },
   {
    "duration": 5,
    "start_time": "2023-01-17T09:12:58.609Z"
   },
   {
    "duration": 9,
    "start_time": "2023-01-17T09:12:58.616Z"
   },
   {
    "duration": 1890,
    "start_time": "2023-01-17T09:12:58.628Z"
   },
   {
    "duration": 11,
    "start_time": "2023-01-17T09:13:00.520Z"
   },
   {
    "duration": 61,
    "start_time": "2023-01-17T09:13:00.532Z"
   },
   {
    "duration": 6,
    "start_time": "2023-01-17T09:13:00.595Z"
   },
   {
    "duration": 31,
    "start_time": "2023-01-17T09:13:00.602Z"
   },
   {
    "duration": 1043,
    "start_time": "2023-01-17T09:13:00.635Z"
   },
   {
    "duration": 170,
    "start_time": "2023-01-17T09:13:01.681Z"
   },
   {
    "duration": 8,
    "start_time": "2023-01-17T09:13:01.853Z"
   },
   {
    "duration": 24,
    "start_time": "2023-01-17T09:13:01.862Z"
   },
   {
    "duration": 10,
    "start_time": "2023-01-17T09:13:01.888Z"
   },
   {
    "duration": 17,
    "start_time": "2023-01-17T09:13:01.900Z"
   },
   {
    "duration": 31,
    "start_time": "2023-01-17T09:13:01.919Z"
   },
   {
    "duration": 25,
    "start_time": "2023-01-17T09:13:01.952Z"
   },
   {
    "duration": 2033,
    "start_time": "2023-01-17T09:13:01.979Z"
   },
   {
    "duration": 4,
    "start_time": "2023-01-17T09:13:04.014Z"
   },
   {
    "duration": 53,
    "start_time": "2023-01-17T09:13:04.020Z"
   },
   {
    "duration": 24,
    "start_time": "2023-01-17T09:13:04.074Z"
   },
   {
    "duration": 34,
    "start_time": "2023-01-17T09:13:04.100Z"
   },
   {
    "duration": 86,
    "start_time": "2023-01-17T09:13:04.136Z"
   },
   {
    "duration": 30,
    "start_time": "2023-01-17T09:13:04.224Z"
   },
   {
    "duration": 223,
    "start_time": "2023-01-17T09:13:04.257Z"
   },
   {
    "duration": 13,
    "start_time": "2023-01-17T09:13:04.481Z"
   },
   {
    "duration": 54,
    "start_time": "2023-01-17T09:13:04.495Z"
   },
   {
    "duration": 217,
    "start_time": "2023-01-17T09:13:04.551Z"
   },
   {
    "duration": 109,
    "start_time": "2023-01-17T09:13:04.770Z"
   },
   {
    "duration": 12,
    "start_time": "2023-01-17T09:13:04.880Z"
   },
   {
    "duration": 60,
    "start_time": "2023-01-17T09:13:04.894Z"
   },
   {
    "duration": 102,
    "start_time": "2023-01-17T09:13:04.956Z"
   },
   {
    "duration": 104,
    "start_time": "2023-01-17T09:13:05.059Z"
   },
   {
    "duration": 13935,
    "start_time": "2023-01-17T09:13:05.164Z"
   },
   {
    "duration": 4,
    "start_time": "2023-01-17T09:13:19.101Z"
   },
   {
    "duration": 57,
    "start_time": "2023-01-17T09:13:19.107Z"
   },
   {
    "duration": 163,
    "start_time": "2023-01-17T09:13:19.166Z"
   },
   {
    "duration": 16431,
    "start_time": "2023-01-17T09:13:19.332Z"
   },
   {
    "duration": 5,
    "start_time": "2023-01-17T09:13:35.765Z"
   },
   {
    "duration": 106,
    "start_time": "2023-01-17T09:13:35.771Z"
   },
   {
    "duration": 398,
    "start_time": "2023-01-17T09:13:35.879Z"
   },
   {
    "duration": 61974,
    "start_time": "2023-01-17T09:13:36.279Z"
   },
   {
    "duration": 4,
    "start_time": "2023-01-17T09:14:38.255Z"
   },
   {
    "duration": 318,
    "start_time": "2023-01-17T09:14:38.261Z"
   },
   {
    "duration": 168,
    "start_time": "2023-01-17T09:14:38.580Z"
   },
   {
    "duration": 10,
    "start_time": "2023-01-17T09:14:38.750Z"
   },
   {
    "duration": 9,
    "start_time": "2023-01-17T09:15:08.479Z"
   },
   {
    "duration": 22,
    "start_time": "2023-01-17T09:15:23.743Z"
   },
   {
    "duration": 179,
    "start_time": "2023-01-17T09:23:28.582Z"
   },
   {
    "duration": 84,
    "start_time": "2023-01-17T09:23:39.973Z"
   },
   {
    "duration": 154,
    "start_time": "2023-01-17T09:23:46.860Z"
   },
   {
    "duration": 284,
    "start_time": "2023-01-17T09:24:15.853Z"
   },
   {
    "duration": 554,
    "start_time": "2023-01-17T09:29:01.691Z"
   },
   {
    "duration": 1014,
    "start_time": "2023-01-17T09:29:09.234Z"
   },
   {
    "duration": 60,
    "start_time": "2023-01-17T09:29:21.920Z"
   },
   {
    "duration": 143517,
    "start_time": "2023-01-17T09:29:40.585Z"
   },
   {
    "duration": 4,
    "start_time": "2023-01-17T09:38:02.509Z"
   },
   {
    "duration": 288,
    "start_time": "2023-01-17T09:39:20.471Z"
   },
   {
    "duration": 10,
    "start_time": "2023-01-17T09:41:06.413Z"
   },
   {
    "duration": 11,
    "start_time": "2023-01-17T09:49:15.808Z"
   },
   {
    "duration": 4,
    "start_time": "2023-01-17T09:49:47.562Z"
   },
   {
    "duration": 10,
    "start_time": "2023-01-17T09:50:36.952Z"
   },
   {
    "duration": 15,
    "start_time": "2023-01-17T09:50:45.338Z"
   },
   {
    "duration": 11,
    "start_time": "2023-01-17T09:59:46.980Z"
   },
   {
    "duration": 10,
    "start_time": "2023-01-17T10:00:04.208Z"
   },
   {
    "duration": 11,
    "start_time": "2023-01-17T10:00:18.227Z"
   },
   {
    "duration": 7,
    "start_time": "2023-01-17T10:00:27.576Z"
   },
   {
    "duration": 5,
    "start_time": "2023-01-17T10:00:38.705Z"
   },
   {
    "duration": 6,
    "start_time": "2023-01-17T10:03:38.647Z"
   },
   {
    "duration": 5,
    "start_time": "2023-01-17T10:03:49.931Z"
   },
   {
    "duration": 72,
    "start_time": "2023-01-17T10:07:57.904Z"
   },
   {
    "duration": 1308,
    "start_time": "2023-01-17T10:08:10.362Z"
   },
   {
    "duration": 50,
    "start_time": "2023-01-17T10:08:11.672Z"
   },
   {
    "duration": 4,
    "start_time": "2023-01-17T10:08:11.723Z"
   },
   {
    "duration": 23,
    "start_time": "2023-01-17T10:08:11.728Z"
   },
   {
    "duration": 56,
    "start_time": "2023-01-17T10:08:11.753Z"
   },
   {
    "duration": 5,
    "start_time": "2023-01-17T10:08:11.811Z"
   },
   {
    "duration": 29,
    "start_time": "2023-01-17T10:08:11.818Z"
   },
   {
    "duration": 1911,
    "start_time": "2023-01-17T10:08:11.849Z"
   },
   {
    "duration": 11,
    "start_time": "2023-01-17T10:08:13.762Z"
   },
   {
    "duration": 45,
    "start_time": "2023-01-17T10:08:13.776Z"
   },
   {
    "duration": 26,
    "start_time": "2023-01-17T10:08:13.822Z"
   },
   {
    "duration": 4,
    "start_time": "2023-01-17T10:08:13.849Z"
   },
   {
    "duration": 1005,
    "start_time": "2023-01-17T10:08:13.854Z"
   },
   {
    "duration": 18,
    "start_time": "2023-01-17T10:08:14.861Z"
   },
   {
    "duration": 7,
    "start_time": "2023-01-17T10:08:14.880Z"
   },
   {
    "duration": 11,
    "start_time": "2023-01-17T10:08:14.889Z"
   },
   {
    "duration": 12,
    "start_time": "2023-01-17T10:08:14.902Z"
   },
   {
    "duration": 140,
    "start_time": "2023-01-17T10:08:14.915Z"
   },
   {
    "duration": 6,
    "start_time": "2023-01-17T10:08:15.057Z"
   },
   {
    "duration": 15,
    "start_time": "2023-01-17T10:08:15.064Z"
   },
   {
    "duration": 1994,
    "start_time": "2023-01-17T10:08:15.080Z"
   },
   {
    "duration": 4,
    "start_time": "2023-01-17T10:08:17.076Z"
   },
   {
    "duration": 28,
    "start_time": "2023-01-17T10:08:17.081Z"
   },
   {
    "duration": 15,
    "start_time": "2023-01-17T10:08:17.110Z"
   },
   {
    "duration": 29,
    "start_time": "2023-01-17T10:08:17.127Z"
   },
   {
    "duration": 77,
    "start_time": "2023-01-17T10:08:17.158Z"
   },
   {
    "duration": 23,
    "start_time": "2023-01-17T10:08:17.247Z"
   },
   {
    "duration": 196,
    "start_time": "2023-01-17T10:08:17.275Z"
   },
   {
    "duration": 14,
    "start_time": "2023-01-17T10:08:17.472Z"
   },
   {
    "duration": 62,
    "start_time": "2023-01-17T10:08:17.487Z"
   },
   {
    "duration": 128,
    "start_time": "2023-01-17T10:08:17.551Z"
   },
   {
    "duration": 115,
    "start_time": "2023-01-17T10:08:17.680Z"
   },
   {
    "duration": 11,
    "start_time": "2023-01-17T10:08:17.797Z"
   },
   {
    "duration": 39,
    "start_time": "2023-01-17T10:08:17.810Z"
   },
   {
    "duration": 102,
    "start_time": "2023-01-17T10:08:17.851Z"
   },
   {
    "duration": 36,
    "start_time": "2023-01-17T10:08:17.955Z"
   },
   {
    "duration": 14358,
    "start_time": "2023-01-17T10:08:17.993Z"
   },
   {
    "duration": 4,
    "start_time": "2023-01-17T10:08:32.352Z"
   },
   {
    "duration": 48,
    "start_time": "2023-01-17T10:08:32.358Z"
   },
   {
    "duration": 166,
    "start_time": "2023-01-17T10:08:32.408Z"
   },
   {
    "duration": 16887,
    "start_time": "2023-01-17T10:08:32.576Z"
   },
   {
    "duration": 4,
    "start_time": "2023-01-17T10:08:49.465Z"
   },
   {
    "duration": 34,
    "start_time": "2023-01-17T10:08:49.471Z"
   },
   {
    "duration": 319,
    "start_time": "2023-01-17T10:08:49.549Z"
   },
   {
    "duration": 145070,
    "start_time": "2023-01-17T10:08:49.870Z"
   },
   {
    "duration": 8,
    "start_time": "2023-01-17T10:11:14.941Z"
   },
   {
    "duration": 294,
    "start_time": "2023-01-17T10:11:14.951Z"
   },
   {
    "duration": 158,
    "start_time": "2023-01-17T10:11:15.247Z"
   },
   {
    "duration": 44,
    "start_time": "2023-01-17T10:11:15.407Z"
   },
   {
    "duration": 102,
    "start_time": "2023-01-17T10:11:15.453Z"
   },
   {
    "duration": 31,
    "start_time": "2023-01-17T10:11:15.557Z"
   },
   {
    "duration": 20,
    "start_time": "2023-01-17T10:11:15.591Z"
   },
   {
    "duration": 8,
    "start_time": "2023-01-17T10:11:15.613Z"
   },
   {
    "duration": 35,
    "start_time": "2023-01-17T10:11:15.623Z"
   },
   {
    "duration": 5,
    "start_time": "2023-01-17T10:11:15.660Z"
   },
   {
    "duration": 817,
    "start_time": "2023-01-17T12:25:54.091Z"
   },
   {
    "duration": 882,
    "start_time": "2023-01-17T12:26:06.537Z"
   },
   {
    "duration": 1317,
    "start_time": "2023-01-17T12:26:25.479Z"
   },
   {
    "duration": 64,
    "start_time": "2023-01-17T12:26:26.798Z"
   },
   {
    "duration": 4,
    "start_time": "2023-01-17T12:26:26.863Z"
   },
   {
    "duration": 26,
    "start_time": "2023-01-17T12:26:26.869Z"
   },
   {
    "duration": 56,
    "start_time": "2023-01-17T12:26:26.896Z"
   },
   {
    "duration": 4,
    "start_time": "2023-01-17T12:26:26.953Z"
   },
   {
    "duration": 1911,
    "start_time": "2023-01-17T12:26:26.959Z"
   },
   {
    "duration": 12,
    "start_time": "2023-01-17T12:26:28.871Z"
   },
   {
    "duration": 49,
    "start_time": "2023-01-17T12:26:28.884Z"
   },
   {
    "duration": 6,
    "start_time": "2023-01-17T12:26:28.949Z"
   },
   {
    "duration": 5,
    "start_time": "2023-01-17T12:26:28.957Z"
   },
   {
    "duration": 1003,
    "start_time": "2023-01-17T12:26:28.963Z"
   },
   {
    "duration": 4,
    "start_time": "2023-01-17T12:26:29.967Z"
   },
   {
    "duration": 9,
    "start_time": "2023-01-17T12:26:29.972Z"
   },
   {
    "duration": 9,
    "start_time": "2023-01-17T12:26:29.982Z"
   },
   {
    "duration": 5,
    "start_time": "2023-01-17T12:26:29.992Z"
   },
   {
    "duration": 7,
    "start_time": "2023-01-17T12:26:29.999Z"
   },
   {
    "duration": 20,
    "start_time": "2023-01-17T12:26:30.007Z"
   },
   {
    "duration": 133,
    "start_time": "2023-01-17T12:26:30.029Z"
   },
   {
    "duration": 2098,
    "start_time": "2023-01-17T12:26:30.163Z"
   },
   {
    "duration": 4,
    "start_time": "2023-01-17T12:26:32.263Z"
   },
   {
    "duration": 45,
    "start_time": "2023-01-17T12:26:32.268Z"
   },
   {
    "duration": 16,
    "start_time": "2023-01-17T12:26:32.315Z"
   },
   {
    "duration": 20,
    "start_time": "2023-01-17T12:26:32.333Z"
   },
   {
    "duration": 81,
    "start_time": "2023-01-17T12:26:32.354Z"
   },
   {
    "duration": 22,
    "start_time": "2023-01-17T12:26:32.436Z"
   },
   {
    "duration": 210,
    "start_time": "2023-01-17T12:26:32.460Z"
   },
   {
    "duration": 13,
    "start_time": "2023-01-17T12:26:32.673Z"
   },
   {
    "duration": 62,
    "start_time": "2023-01-17T12:26:32.687Z"
   },
   {
    "duration": 139,
    "start_time": "2023-01-17T12:26:32.752Z"
   },
   {
    "duration": 120,
    "start_time": "2023-01-17T12:26:32.893Z"
   },
   {
    "duration": 13,
    "start_time": "2023-01-17T12:26:33.014Z"
   },
   {
    "duration": 25,
    "start_time": "2023-01-17T12:26:33.028Z"
   },
   {
    "duration": 194,
    "start_time": "2023-01-17T12:26:33.055Z"
   },
   {
    "duration": 41,
    "start_time": "2023-01-17T12:26:33.251Z"
   },
   {
    "duration": 14425,
    "start_time": "2023-01-17T12:26:33.293Z"
   },
   {
    "duration": 4,
    "start_time": "2023-01-17T12:26:47.719Z"
   },
   {
    "duration": 57,
    "start_time": "2023-01-17T12:26:47.724Z"
   },
   {
    "duration": 147,
    "start_time": "2023-01-17T12:26:47.783Z"
   },
   {
    "duration": 17333,
    "start_time": "2023-01-17T12:26:47.932Z"
   },
   {
    "duration": 5,
    "start_time": "2023-01-17T12:27:05.266Z"
   },
   {
    "duration": 83,
    "start_time": "2023-01-17T12:27:05.272Z"
   },
   {
    "duration": 407,
    "start_time": "2023-01-17T12:27:05.358Z"
   },
   {
    "duration": 145742,
    "start_time": "2023-01-17T12:27:05.766Z"
   },
   {
    "duration": 4,
    "start_time": "2023-01-17T12:29:31.510Z"
   },
   {
    "duration": 304,
    "start_time": "2023-01-17T12:29:31.515Z"
   },
   {
    "duration": 169,
    "start_time": "2023-01-17T12:29:31.820Z"
   },
   {
    "duration": 9,
    "start_time": "2023-01-17T12:29:31.991Z"
   },
   {
    "duration": 99,
    "start_time": "2023-01-17T12:29:32.052Z"
   },
   {
    "duration": 25,
    "start_time": "2023-01-17T12:29:32.153Z"
   },
   {
    "duration": 7,
    "start_time": "2023-01-17T12:29:32.179Z"
   },
   {
    "duration": 8,
    "start_time": "2023-01-17T12:29:32.187Z"
   },
   {
    "duration": 14,
    "start_time": "2023-01-17T12:29:32.197Z"
   },
   {
    "duration": 4,
    "start_time": "2023-01-17T12:29:32.213Z"
   },
   {
    "duration": 245,
    "start_time": "2023-01-17T12:35:11.604Z"
   },
   {
    "duration": 272,
    "start_time": "2023-01-17T12:35:19.215Z"
   },
   {
    "duration": 6,
    "start_time": "2023-01-17T12:36:34.431Z"
   },
   {
    "duration": 99,
    "start_time": "2023-01-17T12:36:49.657Z"
   },
   {
    "duration": 212,
    "start_time": "2023-01-17T12:36:54.544Z"
   },
   {
    "duration": 5,
    "start_time": "2023-01-17T12:37:01.500Z"
   },
   {
    "duration": 6,
    "start_time": "2023-01-17T12:37:08.816Z"
   },
   {
    "duration": 5,
    "start_time": "2023-01-17T12:37:14.681Z"
   },
   {
    "duration": 6,
    "start_time": "2023-01-17T12:37:21.824Z"
   },
   {
    "duration": 4,
    "start_time": "2023-01-17T12:37:39.114Z"
   },
   {
    "duration": 45,
    "start_time": "2023-01-17T12:37:41.456Z"
   },
   {
    "duration": 5,
    "start_time": "2023-01-17T12:37:43.024Z"
   },
   {
    "duration": 13,
    "start_time": "2023-01-17T12:37:43.444Z"
   },
   {
    "duration": 40,
    "start_time": "2023-01-17T12:37:44.416Z"
   },
   {
    "duration": 5,
    "start_time": "2023-01-17T12:37:46.340Z"
   },
   {
    "duration": 1928,
    "start_time": "2023-01-17T12:37:47.120Z"
   },
   {
    "duration": 10,
    "start_time": "2023-01-17T12:37:51.953Z"
   },
   {
    "duration": 13,
    "start_time": "2023-01-17T12:37:53.560Z"
   },
   {
    "duration": 6,
    "start_time": "2023-01-17T12:37:55.623Z"
   },
   {
    "duration": 4,
    "start_time": "2023-01-17T12:37:56.134Z"
   },
   {
    "duration": 1102,
    "start_time": "2023-01-17T12:37:57.749Z"
   },
   {
    "duration": 5,
    "start_time": "2023-01-17T12:38:01.160Z"
   },
   {
    "duration": 5,
    "start_time": "2023-01-17T12:38:06.113Z"
   },
   {
    "duration": 6,
    "start_time": "2023-01-17T12:38:08.111Z"
   },
   {
    "duration": 6,
    "start_time": "2023-01-17T12:38:11.479Z"
   },
   {
    "duration": 6,
    "start_time": "2023-01-17T12:38:12.507Z"
   },
   {
    "duration": 37,
    "start_time": "2023-01-17T12:40:33.126Z"
   },
   {
    "duration": 28,
    "start_time": "2023-01-17T12:40:36.838Z"
   },
   {
    "duration": 7,
    "start_time": "2023-01-17T12:40:43.483Z"
   },
   {
    "duration": 12,
    "start_time": "2023-01-17T12:40:54.876Z"
   },
   {
    "duration": 13,
    "start_time": "2023-01-17T12:40:58.758Z"
   },
   {
    "duration": 11,
    "start_time": "2023-01-17T12:41:03.502Z"
   },
   {
    "duration": 11,
    "start_time": "2023-01-17T12:41:10.328Z"
   },
   {
    "duration": 3,
    "start_time": "2023-01-17T12:46:27.503Z"
   },
   {
    "duration": 47,
    "start_time": "2023-01-17T13:08:06.376Z"
   },
   {
    "duration": 48,
    "start_time": "2023-01-17T13:09:17.160Z"
   },
   {
    "duration": 55,
    "start_time": "2023-01-17T13:14:22.820Z"
   },
   {
    "duration": 1374,
    "start_time": "2023-01-17T13:17:11.838Z"
   },
   {
    "duration": 51,
    "start_time": "2023-01-17T13:17:13.214Z"
   },
   {
    "duration": 4,
    "start_time": "2023-01-17T13:17:13.266Z"
   },
   {
    "duration": 22,
    "start_time": "2023-01-17T13:17:13.271Z"
   },
   {
    "duration": 61,
    "start_time": "2023-01-17T13:17:13.295Z"
   },
   {
    "duration": 4,
    "start_time": "2023-01-17T13:17:13.358Z"
   },
   {
    "duration": 1907,
    "start_time": "2023-01-17T13:17:13.363Z"
   },
   {
    "duration": 14,
    "start_time": "2023-01-17T13:17:15.272Z"
   },
   {
    "duration": 93,
    "start_time": "2023-01-17T13:17:15.288Z"
   },
   {
    "duration": 6,
    "start_time": "2023-01-17T13:17:15.384Z"
   },
   {
    "duration": 23,
    "start_time": "2023-01-17T13:17:15.392Z"
   },
   {
    "duration": 1026,
    "start_time": "2023-01-17T13:17:15.417Z"
   },
   {
    "duration": 7,
    "start_time": "2023-01-17T13:17:16.444Z"
   },
   {
    "duration": 13,
    "start_time": "2023-01-17T13:17:16.452Z"
   },
   {
    "duration": 7,
    "start_time": "2023-01-17T13:17:16.466Z"
   },
   {
    "duration": 10,
    "start_time": "2023-01-17T13:17:16.475Z"
   },
   {
    "duration": 7,
    "start_time": "2023-01-17T13:17:16.486Z"
   },
   {
    "duration": 6,
    "start_time": "2023-01-17T13:17:16.495Z"
   },
   {
    "duration": 133,
    "start_time": "2023-01-17T13:17:16.502Z"
   },
   {
    "duration": 19,
    "start_time": "2023-01-17T13:17:16.637Z"
   },
   {
    "duration": 2004,
    "start_time": "2023-01-17T13:17:16.657Z"
   },
   {
    "duration": 5,
    "start_time": "2023-01-17T13:17:18.663Z"
   },
   {
    "duration": 27,
    "start_time": "2023-01-17T13:17:18.669Z"
   },
   {
    "duration": 17,
    "start_time": "2023-01-17T13:17:18.697Z"
   },
   {
    "duration": 33,
    "start_time": "2023-01-17T13:17:18.716Z"
   },
   {
    "duration": 80,
    "start_time": "2023-01-17T13:17:18.751Z"
   },
   {
    "duration": 33,
    "start_time": "2023-01-17T13:17:18.833Z"
   },
   {
    "duration": 200,
    "start_time": "2023-01-17T13:17:18.872Z"
   },
   {
    "duration": 15,
    "start_time": "2023-01-17T13:17:19.073Z"
   },
   {
    "duration": 59,
    "start_time": "2023-01-17T13:17:19.090Z"
   },
   {
    "duration": 131,
    "start_time": "2023-01-17T13:17:19.151Z"
   },
   {
    "duration": 117,
    "start_time": "2023-01-17T13:17:19.283Z"
   },
   {
    "duration": 12,
    "start_time": "2023-01-17T13:17:19.401Z"
   },
   {
    "duration": 35,
    "start_time": "2023-01-17T13:17:19.414Z"
   },
   {
    "duration": 108,
    "start_time": "2023-01-17T13:17:19.451Z"
   },
   {
    "duration": 36,
    "start_time": "2023-01-17T13:17:19.561Z"
   },
   {
    "duration": 14346,
    "start_time": "2023-01-17T13:17:19.599Z"
   },
   {
    "duration": 3,
    "start_time": "2023-01-17T13:17:33.948Z"
   },
   {
    "duration": 57,
    "start_time": "2023-01-17T13:17:33.953Z"
   },
   {
    "duration": 158,
    "start_time": "2023-01-17T13:17:34.012Z"
   },
   {
    "duration": 17280,
    "start_time": "2023-01-17T13:17:34.171Z"
   },
   {
    "duration": 4,
    "start_time": "2023-01-17T13:17:51.453Z"
   },
   {
    "duration": 28,
    "start_time": "2023-01-17T13:17:51.458Z"
   },
   {
    "duration": 335,
    "start_time": "2023-01-17T13:17:51.549Z"
   },
   {
    "duration": 146963,
    "start_time": "2023-01-17T13:17:51.886Z"
   },
   {
    "duration": 4,
    "start_time": "2023-01-17T13:20:18.851Z"
   },
   {
    "duration": 343,
    "start_time": "2023-01-17T13:20:18.856Z"
   },
   {
    "duration": 197,
    "start_time": "2023-01-17T13:20:19.202Z"
   },
   {
    "duration": 58,
    "start_time": "2023-01-17T13:20:19.402Z"
   },
   {
    "duration": 100,
    "start_time": "2023-01-17T13:20:19.462Z"
   },
   {
    "duration": 25,
    "start_time": "2023-01-17T13:20:19.564Z"
   },
   {
    "duration": 10,
    "start_time": "2023-01-17T13:20:19.590Z"
   },
   {
    "duration": 5,
    "start_time": "2023-01-17T13:20:19.649Z"
   },
   {
    "duration": 22,
    "start_time": "2023-01-17T13:20:19.656Z"
   },
   {
    "duration": 6,
    "start_time": "2023-01-17T13:20:19.681Z"
   },
   {
    "duration": 991,
    "start_time": "2023-01-17T13:21:21.035Z"
   },
   {
    "duration": 56,
    "start_time": "2023-01-17T13:22:41.334Z"
   },
   {
    "duration": 114,
    "start_time": "2023-01-17T13:23:08.138Z"
   },
   {
    "duration": 844,
    "start_time": "2023-01-17T13:23:15.790Z"
   },
   {
    "duration": 1469,
    "start_time": "2023-01-17T13:23:22.703Z"
   },
   {
    "duration": 295,
    "start_time": "2023-01-17T13:24:46.166Z"
   },
   {
    "duration": 1443,
    "start_time": "2023-01-17T13:25:35.900Z"
   },
   {
    "duration": 1523,
    "start_time": "2023-01-18T08:55:34.280Z"
   },
   {
    "duration": 105,
    "start_time": "2023-01-18T08:55:35.805Z"
   },
   {
    "duration": 5,
    "start_time": "2023-01-18T08:55:35.911Z"
   },
   {
    "duration": 35,
    "start_time": "2023-01-18T08:55:35.918Z"
   },
   {
    "duration": 53,
    "start_time": "2023-01-18T08:55:35.955Z"
   },
   {
    "duration": 4,
    "start_time": "2023-01-18T08:55:36.010Z"
   },
   {
    "duration": 2113,
    "start_time": "2023-01-18T08:55:36.016Z"
   },
   {
    "duration": 18,
    "start_time": "2023-01-18T08:55:38.130Z"
   },
   {
    "duration": 57,
    "start_time": "2023-01-18T08:55:38.150Z"
   },
   {
    "duration": 6,
    "start_time": "2023-01-18T08:55:38.209Z"
   },
   {
    "duration": 5,
    "start_time": "2023-01-18T08:55:38.238Z"
   },
   {
    "duration": 1245,
    "start_time": "2023-01-18T08:55:38.245Z"
   },
   {
    "duration": 5,
    "start_time": "2023-01-18T08:55:39.493Z"
   },
   {
    "duration": 13,
    "start_time": "2023-01-18T08:55:39.500Z"
   },
   {
    "duration": 13,
    "start_time": "2023-01-18T08:55:39.514Z"
   },
   {
    "duration": 9,
    "start_time": "2023-01-18T08:55:39.530Z"
   },
   {
    "duration": 9,
    "start_time": "2023-01-18T08:55:39.541Z"
   },
   {
    "duration": 9,
    "start_time": "2023-01-18T08:55:39.552Z"
   },
   {
    "duration": 127,
    "start_time": "2023-01-18T08:55:39.562Z"
   },
   {
    "duration": 17,
    "start_time": "2023-01-18T08:55:39.691Z"
   },
   {
    "duration": 2842,
    "start_time": "2023-01-18T08:55:39.710Z"
   },
   {
    "duration": 4,
    "start_time": "2023-01-18T08:55:42.554Z"
   },
   {
    "duration": 50,
    "start_time": "2023-01-18T08:55:42.560Z"
   },
   {
    "duration": 33,
    "start_time": "2023-01-18T08:55:42.612Z"
   },
   {
    "duration": 37,
    "start_time": "2023-01-18T08:55:42.647Z"
   },
   {
    "duration": 93,
    "start_time": "2023-01-18T08:55:42.686Z"
   },
   {
    "duration": 62,
    "start_time": "2023-01-18T08:55:42.781Z"
   },
   {
    "duration": 121,
    "start_time": "2023-01-18T08:55:42.848Z"
   },
   {
    "duration": 15,
    "start_time": "2023-01-18T08:55:42.970Z"
   },
   {
    "duration": 152,
    "start_time": "2023-01-18T08:55:42.987Z"
   },
   {
    "duration": 130,
    "start_time": "2023-01-18T08:55:43.143Z"
   },
   {
    "duration": 125,
    "start_time": "2023-01-18T08:55:43.275Z"
   },
   {
    "duration": 16,
    "start_time": "2023-01-18T08:55:43.402Z"
   },
   {
    "duration": 34,
    "start_time": "2023-01-18T08:55:43.420Z"
   },
   {
    "duration": 180,
    "start_time": "2023-01-18T08:55:43.460Z"
   },
   {
    "duration": 53,
    "start_time": "2023-01-18T08:55:43.641Z"
   },
   {
    "duration": 16082,
    "start_time": "2023-01-18T08:55:43.695Z"
   },
   {
    "duration": 5,
    "start_time": "2023-01-18T08:55:59.778Z"
   },
   {
    "duration": 62,
    "start_time": "2023-01-18T08:55:59.785Z"
   },
   {
    "duration": 188,
    "start_time": "2023-01-18T08:55:59.849Z"
   },
   {
    "duration": 17513,
    "start_time": "2023-01-18T08:56:00.039Z"
   },
   {
    "duration": 5,
    "start_time": "2023-01-18T08:56:17.554Z"
   },
   {
    "duration": 78,
    "start_time": "2023-01-18T08:56:17.561Z"
   },
   {
    "duration": 404,
    "start_time": "2023-01-18T08:56:17.641Z"
   },
   {
    "duration": 165396,
    "start_time": "2023-01-18T08:56:18.047Z"
   },
   {
    "duration": 4,
    "start_time": "2023-01-18T08:59:03.445Z"
   },
   {
    "duration": 343,
    "start_time": "2023-01-18T08:59:03.451Z"
   },
   {
    "duration": 1601,
    "start_time": "2023-01-18T08:59:03.796Z"
   },
   {
    "duration": 246,
    "start_time": "2023-01-18T08:59:05.399Z"
   },
   {
    "duration": 12,
    "start_time": "2023-01-18T08:59:05.647Z"
   },
   {
    "duration": 107,
    "start_time": "2023-01-18T08:59:05.737Z"
   },
   {
    "duration": 120,
    "start_time": "2023-01-18T08:59:05.846Z"
   },
   {
    "duration": 22,
    "start_time": "2023-01-18T08:59:05.968Z"
   },
   {
    "duration": 4,
    "start_time": "2023-01-18T08:59:05.992Z"
   },
   {
    "duration": 45,
    "start_time": "2023-01-18T08:59:05.998Z"
   },
   {
    "duration": 5,
    "start_time": "2023-01-18T08:59:06.044Z"
   },
   {
    "duration": 119,
    "start_time": "2023-01-18T13:32:26.024Z"
   },
   {
    "duration": 14171,
    "start_time": "2023-01-18T13:32:38.919Z"
   },
   {
    "duration": 15992,
    "start_time": "2023-01-18T13:34:40.313Z"
   },
   {
    "duration": 191,
    "start_time": "2023-01-18T13:36:07.730Z"
   },
   {
    "duration": 202,
    "start_time": "2023-01-18T13:36:33.750Z"
   },
   {
    "duration": 18,
    "start_time": "2023-01-18T13:38:04.237Z"
   },
   {
    "duration": 109,
    "start_time": "2023-01-18T13:39:07.574Z"
   },
   {
    "duration": 128,
    "start_time": "2023-01-18T13:39:29.993Z"
   },
   {
    "duration": 4,
    "start_time": "2023-01-18T15:23:41.777Z"
   },
   {
    "duration": 48,
    "start_time": "2023-01-18T15:35:25.269Z"
   },
   {
    "duration": 79,
    "start_time": "2023-01-18T15:52:59.311Z"
   },
   {
    "duration": 24,
    "start_time": "2023-01-18T15:53:14.052Z"
   },
   {
    "duration": 75,
    "start_time": "2023-01-18T15:53:29.767Z"
   },
   {
    "duration": 37,
    "start_time": "2023-01-18T15:53:35.890Z"
   },
   {
    "duration": 31,
    "start_time": "2023-01-18T15:53:42.628Z"
   },
   {
    "duration": 49,
    "start_time": "2023-01-18T15:53:45.859Z"
   },
   {
    "duration": 111,
    "start_time": "2023-01-18T15:53:50.480Z"
   },
   {
    "duration": 77,
    "start_time": "2023-01-18T16:03:16.031Z"
   },
   {
    "duration": 80,
    "start_time": "2023-01-18T16:03:18.110Z"
   },
   {
    "duration": 665,
    "start_time": "2023-01-18T16:06:02.210Z"
   },
   {
    "duration": 665,
    "start_time": "2023-01-18T16:06:08.414Z"
   },
   {
    "duration": 442,
    "start_time": "2023-01-18T16:06:27.607Z"
   },
   {
    "duration": 22,
    "start_time": "2023-01-18T16:06:30.921Z"
   },
   {
    "duration": 256,
    "start_time": "2023-01-18T16:06:35.598Z"
   },
   {
    "duration": 52,
    "start_time": "2023-01-18T16:10:06.512Z"
   },
   {
    "duration": 36,
    "start_time": "2023-01-18T16:10:11.944Z"
   },
   {
    "duration": 36,
    "start_time": "2023-01-18T16:10:15.129Z"
   },
   {
    "duration": 141,
    "start_time": "2023-01-18T16:11:56.312Z"
   },
   {
    "duration": 689,
    "start_time": "2023-01-18T16:16:14.300Z"
   },
   {
    "duration": 718,
    "start_time": "2023-01-18T16:16:14.991Z"
   },
   {
    "duration": 188,
    "start_time": "2023-01-18T16:16:17.991Z"
   },
   {
    "duration": 315,
    "start_time": "2023-01-18T16:16:21.134Z"
   },
   {
    "duration": 242,
    "start_time": "2023-01-18T16:16:22.113Z"
   },
   {
    "duration": 337,
    "start_time": "2023-01-18T16:16:22.929Z"
   },
   {
    "duration": 34,
    "start_time": "2023-01-18T16:16:44.677Z"
   },
   {
    "duration": 34,
    "start_time": "2023-01-18T16:16:45.141Z"
   },
   {
    "duration": 149,
    "start_time": "2023-01-18T16:16:45.708Z"
   },
   {
    "duration": 16,
    "start_time": "2023-01-18T16:21:44.534Z"
   },
   {
    "duration": 13,
    "start_time": "2023-01-18T16:22:09.722Z"
   },
   {
    "duration": 14,
    "start_time": "2023-01-18T16:29:29.081Z"
   },
   {
    "duration": 6,
    "start_time": "2023-01-18T16:30:57.441Z"
   },
   {
    "duration": 14,
    "start_time": "2023-01-18T16:31:00.767Z"
   },
   {
    "duration": 12,
    "start_time": "2023-01-18T16:31:03.521Z"
   },
   {
    "duration": 13,
    "start_time": "2023-01-18T16:31:06.296Z"
   },
   {
    "duration": 57,
    "start_time": "2023-01-18T16:31:11.218Z"
   },
   {
    "duration": 13,
    "start_time": "2023-01-18T16:31:31.934Z"
   },
   {
    "duration": 12,
    "start_time": "2023-01-18T16:31:39.670Z"
   },
   {
    "duration": 6,
    "start_time": "2023-01-18T16:31:41.849Z"
   },
   {
    "duration": 12,
    "start_time": "2023-01-18T16:31:44.653Z"
   },
   {
    "duration": 5,
    "start_time": "2023-01-18T16:31:47.521Z"
   },
   {
    "duration": 16,
    "start_time": "2023-01-18T16:31:52.951Z"
   },
   {
    "duration": 16,
    "start_time": "2023-01-18T16:31:55.743Z"
   },
   {
    "duration": 17,
    "start_time": "2023-01-18T16:31:58.234Z"
   },
   {
    "duration": 42,
    "start_time": "2023-01-18T16:35:16.266Z"
   },
   {
    "duration": 79,
    "start_time": "2023-01-18T16:35:30.669Z"
   },
   {
    "duration": 43,
    "start_time": "2023-01-18T16:35:32.615Z"
   },
   {
    "duration": 107,
    "start_time": "2023-01-18T16:35:34.889Z"
   },
   {
    "duration": 894,
    "start_time": "2023-01-18T16:35:51.049Z"
   },
   {
    "duration": 43,
    "start_time": "2023-01-18T16:35:56.349Z"
   },
   {
    "duration": 800,
    "start_time": "2023-01-18T16:36:22.756Z"
   },
   {
    "duration": 15,
    "start_time": "2023-01-18T16:37:09.497Z"
   },
   {
    "duration": 16,
    "start_time": "2023-01-18T16:37:13.462Z"
   },
   {
    "duration": 17,
    "start_time": "2023-01-18T16:37:16.392Z"
   },
   {
    "duration": 16,
    "start_time": "2023-01-18T16:37:19.110Z"
   },
   {
    "duration": 15,
    "start_time": "2023-01-18T16:37:22.683Z"
   },
   {
    "duration": 16,
    "start_time": "2023-01-18T16:37:25.794Z"
   },
   {
    "duration": 17,
    "start_time": "2023-01-18T16:37:29.398Z"
   },
   {
    "duration": 20,
    "start_time": "2023-01-18T16:37:33.476Z"
   },
   {
    "duration": 19,
    "start_time": "2023-01-18T16:37:37.535Z"
   },
   {
    "duration": 22,
    "start_time": "2023-01-18T16:37:41.247Z"
   },
   {
    "duration": 19,
    "start_time": "2023-01-18T16:37:44.143Z"
   },
   {
    "duration": 17,
    "start_time": "2023-01-18T16:37:46.948Z"
   },
   {
    "duration": 17,
    "start_time": "2023-01-18T16:37:54.574Z"
   },
   {
    "duration": 20,
    "start_time": "2023-01-18T16:37:56.396Z"
   },
   {
    "duration": 45,
    "start_time": "2023-01-18T16:37:58.443Z"
   },
   {
    "duration": 1391,
    "start_time": "2023-01-18T16:39:19.512Z"
   },
   {
    "duration": 142,
    "start_time": "2023-01-18T16:39:20.905Z"
   },
   {
    "duration": 0,
    "start_time": "2023-01-18T16:39:21.051Z"
   },
   {
    "duration": 0,
    "start_time": "2023-01-18T16:39:21.052Z"
   },
   {
    "duration": 0,
    "start_time": "2023-01-18T16:39:21.053Z"
   },
   {
    "duration": 0,
    "start_time": "2023-01-18T16:39:21.054Z"
   },
   {
    "duration": 0,
    "start_time": "2023-01-18T16:39:21.054Z"
   },
   {
    "duration": 0,
    "start_time": "2023-01-18T16:39:21.055Z"
   },
   {
    "duration": 0,
    "start_time": "2023-01-18T16:39:21.056Z"
   },
   {
    "duration": 0,
    "start_time": "2023-01-18T16:39:21.057Z"
   },
   {
    "duration": 0,
    "start_time": "2023-01-18T16:39:21.058Z"
   },
   {
    "duration": 0,
    "start_time": "2023-01-18T16:39:21.059Z"
   },
   {
    "duration": 0,
    "start_time": "2023-01-18T16:39:21.063Z"
   },
   {
    "duration": 0,
    "start_time": "2023-01-18T16:39:21.064Z"
   },
   {
    "duration": 0,
    "start_time": "2023-01-18T16:39:21.065Z"
   },
   {
    "duration": 0,
    "start_time": "2023-01-18T16:39:21.066Z"
   },
   {
    "duration": 0,
    "start_time": "2023-01-18T16:39:21.067Z"
   },
   {
    "duration": 0,
    "start_time": "2023-01-18T16:39:21.068Z"
   },
   {
    "duration": 0,
    "start_time": "2023-01-18T16:39:21.069Z"
   },
   {
    "duration": 0,
    "start_time": "2023-01-18T16:39:21.070Z"
   },
   {
    "duration": 0,
    "start_time": "2023-01-18T16:39:21.071Z"
   },
   {
    "duration": 0,
    "start_time": "2023-01-18T16:39:21.072Z"
   },
   {
    "duration": 0,
    "start_time": "2023-01-18T16:39:21.073Z"
   },
   {
    "duration": 0,
    "start_time": "2023-01-18T16:39:21.074Z"
   },
   {
    "duration": 0,
    "start_time": "2023-01-18T16:39:21.075Z"
   },
   {
    "duration": 0,
    "start_time": "2023-01-18T16:39:21.076Z"
   },
   {
    "duration": 0,
    "start_time": "2023-01-18T16:39:21.077Z"
   },
   {
    "duration": 0,
    "start_time": "2023-01-18T16:39:21.078Z"
   },
   {
    "duration": 0,
    "start_time": "2023-01-18T16:39:21.079Z"
   },
   {
    "duration": 0,
    "start_time": "2023-01-18T16:39:21.079Z"
   },
   {
    "duration": 0,
    "start_time": "2023-01-18T16:39:21.080Z"
   },
   {
    "duration": 0,
    "start_time": "2023-01-18T16:39:21.081Z"
   },
   {
    "duration": 0,
    "start_time": "2023-01-18T16:39:21.083Z"
   },
   {
    "duration": 0,
    "start_time": "2023-01-18T16:39:21.084Z"
   },
   {
    "duration": 0,
    "start_time": "2023-01-18T16:39:21.085Z"
   },
   {
    "duration": 0,
    "start_time": "2023-01-18T16:39:21.085Z"
   },
   {
    "duration": 0,
    "start_time": "2023-01-18T16:39:21.086Z"
   },
   {
    "duration": 0,
    "start_time": "2023-01-18T16:39:21.087Z"
   },
   {
    "duration": 0,
    "start_time": "2023-01-18T16:39:21.089Z"
   },
   {
    "duration": 0,
    "start_time": "2023-01-18T16:39:21.090Z"
   },
   {
    "duration": 0,
    "start_time": "2023-01-18T16:39:21.148Z"
   },
   {
    "duration": 0,
    "start_time": "2023-01-18T16:39:21.150Z"
   },
   {
    "duration": 0,
    "start_time": "2023-01-18T16:39:21.151Z"
   },
   {
    "duration": 0,
    "start_time": "2023-01-18T16:39:21.152Z"
   },
   {
    "duration": 0,
    "start_time": "2023-01-18T16:39:21.153Z"
   },
   {
    "duration": 0,
    "start_time": "2023-01-18T16:39:21.154Z"
   },
   {
    "duration": 0,
    "start_time": "2023-01-18T16:39:21.155Z"
   },
   {
    "duration": 0,
    "start_time": "2023-01-18T16:39:21.156Z"
   },
   {
    "duration": 0,
    "start_time": "2023-01-18T16:39:21.158Z"
   },
   {
    "duration": 0,
    "start_time": "2023-01-18T16:39:21.159Z"
   },
   {
    "duration": 0,
    "start_time": "2023-01-18T16:39:21.159Z"
   },
   {
    "duration": 0,
    "start_time": "2023-01-18T16:39:21.160Z"
   },
   {
    "duration": 0,
    "start_time": "2023-01-18T16:39:21.161Z"
   },
   {
    "duration": 0,
    "start_time": "2023-01-18T16:39:21.162Z"
   },
   {
    "duration": 0,
    "start_time": "2023-01-18T16:39:21.163Z"
   },
   {
    "duration": 0,
    "start_time": "2023-01-18T16:39:21.164Z"
   },
   {
    "duration": 0,
    "start_time": "2023-01-18T16:39:21.165Z"
   },
   {
    "duration": 0,
    "start_time": "2023-01-18T16:39:21.166Z"
   },
   {
    "duration": 0,
    "start_time": "2023-01-18T16:39:21.167Z"
   },
   {
    "duration": 0,
    "start_time": "2023-01-18T16:39:21.168Z"
   },
   {
    "duration": 0,
    "start_time": "2023-01-18T16:39:21.169Z"
   },
   {
    "duration": 0,
    "start_time": "2023-01-18T16:39:21.170Z"
   },
   {
    "duration": 10,
    "start_time": "2023-01-18T16:53:43.140Z"
   },
   {
    "duration": 1361,
    "start_time": "2023-01-18T16:54:21.517Z"
   },
   {
    "duration": 54,
    "start_time": "2023-01-18T16:54:22.880Z"
   },
   {
    "duration": 4,
    "start_time": "2023-01-18T16:54:22.936Z"
   },
   {
    "duration": 12,
    "start_time": "2023-01-18T16:54:22.942Z"
   },
   {
    "duration": 36,
    "start_time": "2023-01-18T16:54:22.956Z"
   },
   {
    "duration": 4,
    "start_time": "2023-01-18T16:54:22.994Z"
   },
   {
    "duration": 1883,
    "start_time": "2023-01-18T16:54:23.000Z"
   },
   {
    "duration": 100,
    "start_time": "2023-01-18T16:54:24.898Z"
   },
   {
    "duration": 113,
    "start_time": "2023-01-18T16:54:24.999Z"
   },
   {
    "duration": 10,
    "start_time": "2023-01-18T16:54:25.115Z"
   },
   {
    "duration": 65,
    "start_time": "2023-01-18T16:54:25.126Z"
   },
   {
    "duration": 5,
    "start_time": "2023-01-18T16:54:25.192Z"
   },
   {
    "duration": 5,
    "start_time": "2023-01-18T16:54:25.199Z"
   },
   {
    "duration": 1219,
    "start_time": "2023-01-18T16:54:25.206Z"
   },
   {
    "duration": 4,
    "start_time": "2023-01-18T16:54:26.426Z"
   },
   {
    "duration": 16,
    "start_time": "2023-01-18T16:54:26.432Z"
   },
   {
    "duration": 8,
    "start_time": "2023-01-18T16:54:26.450Z"
   },
   {
    "duration": 12,
    "start_time": "2023-01-18T16:54:26.459Z"
   },
   {
    "duration": 3,
    "start_time": "2023-01-18T16:54:26.473Z"
   },
   {
    "duration": 16,
    "start_time": "2023-01-18T16:54:26.478Z"
   },
   {
    "duration": 6,
    "start_time": "2023-01-18T16:54:26.495Z"
   },
   {
    "duration": 17,
    "start_time": "2023-01-18T16:54:26.502Z"
   },
   {
    "duration": 10,
    "start_time": "2023-01-18T16:54:26.521Z"
   },
   {
    "duration": 16,
    "start_time": "2023-01-18T16:54:26.532Z"
   },
   {
    "duration": 19,
    "start_time": "2023-01-18T16:54:26.549Z"
   },
   {
    "duration": 15,
    "start_time": "2023-01-18T16:54:26.569Z"
   },
   {
    "duration": 16,
    "start_time": "2023-01-18T16:54:26.585Z"
   },
   {
    "duration": 679,
    "start_time": "2023-01-18T16:54:26.605Z"
   },
   {
    "duration": 631,
    "start_time": "2023-01-18T16:54:27.286Z"
   },
   {
    "duration": 196,
    "start_time": "2023-01-18T16:54:27.919Z"
   },
   {
    "duration": 433,
    "start_time": "2023-01-18T16:54:28.116Z"
   },
   {
    "duration": 498,
    "start_time": "2023-01-18T16:54:28.551Z"
   },
   {
    "duration": 410,
    "start_time": "2023-01-18T16:54:29.051Z"
   },
   {
    "duration": 35,
    "start_time": "2023-01-18T16:54:29.462Z"
   },
   {
    "duration": 50,
    "start_time": "2023-01-18T16:54:29.498Z"
   },
   {
    "duration": 143,
    "start_time": "2023-01-18T16:54:29.550Z"
   },
   {
    "duration": 15,
    "start_time": "2023-01-18T16:54:29.695Z"
   },
   {
    "duration": 341,
    "start_time": "2023-01-18T16:54:29.712Z"
   },
   {
    "duration": 126,
    "start_time": "2023-01-18T16:54:30.055Z"
   },
   {
    "duration": 944,
    "start_time": "2023-01-18T16:54:30.183Z"
   },
   {
    "duration": 24,
    "start_time": "2023-01-18T16:54:31.128Z"
   },
   {
    "duration": 17,
    "start_time": "2023-01-18T16:54:31.154Z"
   },
   {
    "duration": 184,
    "start_time": "2023-01-18T16:54:31.173Z"
   },
   {
    "duration": 43,
    "start_time": "2023-01-18T16:54:31.359Z"
   },
   {
    "duration": 13237,
    "start_time": "2023-01-18T16:54:31.403Z"
   },
   {
    "duration": 7,
    "start_time": "2023-01-18T16:54:44.641Z"
   },
   {
    "duration": 41,
    "start_time": "2023-01-18T16:54:44.649Z"
   },
   {
    "duration": 157,
    "start_time": "2023-01-18T16:54:44.691Z"
   },
   {
    "duration": 16604,
    "start_time": "2023-01-18T16:54:44.850Z"
   },
   {
    "duration": 3,
    "start_time": "2023-01-18T16:55:01.457Z"
   },
   {
    "duration": 86,
    "start_time": "2023-01-18T16:55:01.462Z"
   },
   {
    "duration": 447,
    "start_time": "2023-01-18T16:55:01.550Z"
   },
   {
    "duration": 134784,
    "start_time": "2023-01-18T16:55:01.999Z"
   },
   {
    "duration": 4,
    "start_time": "2023-01-18T16:57:16.785Z"
   },
   {
    "duration": 283,
    "start_time": "2023-01-18T16:57:16.790Z"
   },
   {
    "duration": 1323,
    "start_time": "2023-01-18T16:57:17.075Z"
   },
   {
    "duration": 222,
    "start_time": "2023-01-18T16:57:18.400Z"
   },
   {
    "duration": 95,
    "start_time": "2023-01-18T16:57:18.624Z"
   },
   {
    "duration": 27,
    "start_time": "2023-01-18T16:57:18.721Z"
   },
   {
    "duration": 4,
    "start_time": "2023-01-18T16:57:18.750Z"
   },
   {
    "duration": 33,
    "start_time": "2023-01-18T16:57:18.755Z"
   },
   {
    "duration": 4,
    "start_time": "2023-01-18T16:57:18.790Z"
   },
   {
    "duration": 274,
    "start_time": "2023-01-18T17:23:41.641Z"
   },
   {
    "duration": 1335,
    "start_time": "2023-01-18T17:23:43.280Z"
   },
   {
    "duration": 2225,
    "start_time": "2023-01-18T17:23:51.516Z"
   },
   {
    "duration": 130,
    "start_time": "2023-01-18T17:23:57.415Z"
   },
   {
    "duration": 3145,
    "start_time": "2023-01-18T17:24:02.897Z"
   },
   {
    "duration": 175,
    "start_time": "2023-01-18T17:24:09.844Z"
   },
   {
    "duration": 315,
    "start_time": "2023-01-18T17:24:33.320Z"
   },
   {
    "duration": 3674,
    "start_time": "2023-01-18T17:24:40.995Z"
   },
   {
    "duration": 182,
    "start_time": "2023-01-18T17:24:49.396Z"
   },
   {
    "duration": 1119,
    "start_time": "2023-01-18T17:25:06.673Z"
   },
   {
    "duration": 5648,
    "start_time": "2023-01-18T17:25:15.810Z"
   },
   {
    "duration": 978,
    "start_time": "2023-01-18T17:25:29.942Z"
   },
   {
    "duration": 998,
    "start_time": "2023-01-18T17:25:41.338Z"
   },
   {
    "duration": 5040,
    "start_time": "2023-01-18T17:25:43.617Z"
   },
   {
    "duration": 883,
    "start_time": "2023-01-18T17:25:56.058Z"
   },
   {
    "duration": 996,
    "start_time": "2023-01-18T17:26:02.040Z"
   },
   {
    "duration": 61,
    "start_time": "2023-01-18T17:26:06.630Z"
   },
   {
    "duration": 1940,
    "start_time": "2023-01-18T17:26:38.005Z"
   },
   {
    "duration": 117,
    "start_time": "2023-01-18T17:26:44.051Z"
   },
   {
    "duration": 144,
    "start_time": "2023-01-18T17:27:11.721Z"
   },
   {
    "duration": 54,
    "start_time": "2023-01-18T17:27:17.117Z"
   },
   {
    "duration": 681,
    "start_time": "2023-01-18T17:27:23.380Z"
   },
   {
    "duration": 8972,
    "start_time": "2023-01-18T17:27:32.400Z"
   },
   {
    "duration": 2931,
    "start_time": "2023-01-18T17:27:49.426Z"
   },
   {
    "duration": 1446,
    "start_time": "2023-01-18T17:28:00.538Z"
   },
   {
    "duration": 85,
    "start_time": "2023-01-18T17:28:13.375Z"
   },
   {
    "duration": 20,
    "start_time": "2023-01-18T17:28:41.974Z"
   },
   {
    "duration": 980,
    "start_time": "2023-01-18T17:28:56.284Z"
   },
   {
    "duration": 1371,
    "start_time": "2023-01-18T17:28:59.635Z"
   },
   {
    "duration": 83,
    "start_time": "2023-01-18T17:29:03.755Z"
   },
   {
    "duration": 137481,
    "start_time": "2023-01-18T17:30:12.145Z"
   },
   {
    "duration": 4,
    "start_time": "2023-01-18T17:32:44.372Z"
   },
   {
    "duration": 963,
    "start_time": "2023-01-18T17:32:57.567Z"
   },
   {
    "duration": 1424,
    "start_time": "2023-01-18T17:33:37.499Z"
   },
   {
    "duration": 55,
    "start_time": "2023-01-18T17:33:38.925Z"
   },
   {
    "duration": 5,
    "start_time": "2023-01-18T17:33:38.982Z"
   },
   {
    "duration": 19,
    "start_time": "2023-01-18T17:33:38.989Z"
   },
   {
    "duration": 50,
    "start_time": "2023-01-18T17:33:39.010Z"
   },
   {
    "duration": 5,
    "start_time": "2023-01-18T17:33:39.062Z"
   },
   {
    "duration": 1937,
    "start_time": "2023-01-18T17:33:39.068Z"
   },
   {
    "duration": 113,
    "start_time": "2023-01-18T17:33:41.007Z"
   },
   {
    "duration": 107,
    "start_time": "2023-01-18T17:33:41.122Z"
   },
   {
    "duration": 12,
    "start_time": "2023-01-18T17:33:41.247Z"
   },
   {
    "duration": 47,
    "start_time": "2023-01-18T17:33:41.261Z"
   },
   {
    "duration": 4,
    "start_time": "2023-01-18T17:33:41.310Z"
   },
   {
    "duration": 5,
    "start_time": "2023-01-18T17:33:41.316Z"
   },
   {
    "duration": 1157,
    "start_time": "2023-01-18T17:33:41.322Z"
   },
   {
    "duration": 4,
    "start_time": "2023-01-18T17:33:42.481Z"
   },
   {
    "duration": 30,
    "start_time": "2023-01-18T17:33:42.487Z"
   },
   {
    "duration": 11,
    "start_time": "2023-01-18T17:33:42.519Z"
   },
   {
    "duration": 11,
    "start_time": "2023-01-18T17:33:42.532Z"
   },
   {
    "duration": 5,
    "start_time": "2023-01-18T17:33:42.545Z"
   },
   {
    "duration": 8,
    "start_time": "2023-01-18T17:33:42.552Z"
   },
   {
    "duration": 5,
    "start_time": "2023-01-18T17:33:42.561Z"
   },
   {
    "duration": 15,
    "start_time": "2023-01-18T17:33:42.568Z"
   },
   {
    "duration": 8,
    "start_time": "2023-01-18T17:33:42.584Z"
   },
   {
    "duration": 5,
    "start_time": "2023-01-18T17:33:42.593Z"
   },
   {
    "duration": 48,
    "start_time": "2023-01-18T17:33:42.599Z"
   },
   {
    "duration": 15,
    "start_time": "2023-01-18T17:33:42.649Z"
   },
   {
    "duration": 15,
    "start_time": "2023-01-18T17:33:42.665Z"
   },
   {
    "duration": 687,
    "start_time": "2023-01-18T17:33:42.685Z"
   },
   {
    "duration": 643,
    "start_time": "2023-01-18T17:33:43.374Z"
   },
   {
    "duration": 214,
    "start_time": "2023-01-18T17:33:44.018Z"
   },
   {
    "duration": 320,
    "start_time": "2023-01-18T17:33:44.234Z"
   },
   {
    "duration": 696,
    "start_time": "2023-01-18T17:33:44.556Z"
   },
   {
    "duration": 379,
    "start_time": "2023-01-18T17:33:45.254Z"
   },
   {
    "duration": 37,
    "start_time": "2023-01-18T17:33:45.634Z"
   },
   {
    "duration": 33,
    "start_time": "2023-01-18T17:33:45.672Z"
   },
   {
    "duration": 181,
    "start_time": "2023-01-18T17:33:45.707Z"
   },
   {
    "duration": 18,
    "start_time": "2023-01-18T17:33:45.890Z"
   },
   {
    "duration": 354,
    "start_time": "2023-01-18T17:33:45.910Z"
   },
   {
    "duration": 132,
    "start_time": "2023-01-18T17:33:46.349Z"
   },
   {
    "duration": 904,
    "start_time": "2023-01-18T17:33:46.483Z"
   },
   {
    "duration": 16,
    "start_time": "2023-01-18T17:33:47.392Z"
   },
   {
    "duration": 39,
    "start_time": "2023-01-18T17:33:47.410Z"
   },
   {
    "duration": 117,
    "start_time": "2023-01-18T17:33:47.451Z"
   },
   {
    "duration": 42,
    "start_time": "2023-01-18T17:33:47.571Z"
   },
   {
    "duration": 13115,
    "start_time": "2023-01-18T17:33:47.614Z"
   },
   {
    "duration": 3,
    "start_time": "2023-01-18T17:34:00.731Z"
   },
   {
    "duration": 55,
    "start_time": "2023-01-18T17:34:00.736Z"
   },
   {
    "duration": 145,
    "start_time": "2023-01-18T17:34:00.793Z"
   },
   {
    "duration": 16709,
    "start_time": "2023-01-18T17:34:00.940Z"
   },
   {
    "duration": 4,
    "start_time": "2023-01-18T17:34:17.651Z"
   },
   {
    "duration": 26,
    "start_time": "2023-01-18T17:34:17.657Z"
   },
   {
    "duration": 332,
    "start_time": "2023-01-18T17:34:17.749Z"
   },
   {
    "duration": 67592,
    "start_time": "2023-01-18T17:34:18.083Z"
   },
   {
    "duration": 10,
    "start_time": "2023-01-18T17:35:25.676Z"
   },
   {
    "duration": 0,
    "start_time": "2023-01-18T17:35:25.688Z"
   },
   {
    "duration": 0,
    "start_time": "2023-01-18T17:35:25.689Z"
   },
   {
    "duration": 0,
    "start_time": "2023-01-18T17:35:25.691Z"
   },
   {
    "duration": 0,
    "start_time": "2023-01-18T17:35:25.692Z"
   },
   {
    "duration": 0,
    "start_time": "2023-01-18T17:35:25.694Z"
   },
   {
    "duration": 0,
    "start_time": "2023-01-18T17:35:25.695Z"
   },
   {
    "duration": 0,
    "start_time": "2023-01-18T17:35:25.696Z"
   },
   {
    "duration": 0,
    "start_time": "2023-01-18T17:35:25.698Z"
   },
   {
    "duration": 1341,
    "start_time": "2023-01-18T17:39:31.055Z"
   },
   {
    "duration": 54,
    "start_time": "2023-01-18T17:39:32.397Z"
   },
   {
    "duration": 3,
    "start_time": "2023-01-18T17:39:32.452Z"
   },
   {
    "duration": 15,
    "start_time": "2023-01-18T17:39:32.457Z"
   },
   {
    "duration": 37,
    "start_time": "2023-01-18T17:39:32.474Z"
   },
   {
    "duration": 4,
    "start_time": "2023-01-18T17:39:32.512Z"
   },
   {
    "duration": 1921,
    "start_time": "2023-01-18T17:39:32.517Z"
   },
   {
    "duration": 111,
    "start_time": "2023-01-18T17:39:34.440Z"
   },
   {
    "duration": 109,
    "start_time": "2023-01-18T17:39:34.552Z"
   },
   {
    "duration": 10,
    "start_time": "2023-01-18T17:39:34.663Z"
   },
   {
    "duration": 47,
    "start_time": "2023-01-18T17:39:34.674Z"
   },
   {
    "duration": 5,
    "start_time": "2023-01-18T17:39:34.722Z"
   },
   {
    "duration": 4,
    "start_time": "2023-01-18T17:39:34.749Z"
   },
   {
    "duration": 1182,
    "start_time": "2023-01-18T17:39:34.755Z"
   },
   {
    "duration": 9,
    "start_time": "2023-01-18T17:39:35.939Z"
   },
   {
    "duration": 6,
    "start_time": "2023-01-18T17:39:35.949Z"
   },
   {
    "duration": 11,
    "start_time": "2023-01-18T17:39:35.956Z"
   },
   {
    "duration": 19,
    "start_time": "2023-01-18T17:39:35.969Z"
   },
   {
    "duration": 14,
    "start_time": "2023-01-18T17:39:35.990Z"
   },
   {
    "duration": 32,
    "start_time": "2023-01-18T17:39:36.006Z"
   },
   {
    "duration": 9,
    "start_time": "2023-01-18T17:39:36.040Z"
   },
   {
    "duration": 17,
    "start_time": "2023-01-18T17:39:36.051Z"
   },
   {
    "duration": 10,
    "start_time": "2023-01-18T17:39:36.069Z"
   },
   {
    "duration": 4,
    "start_time": "2023-01-18T17:39:36.080Z"
   },
   {
    "duration": 25,
    "start_time": "2023-01-18T17:39:36.085Z"
   },
   {
    "duration": 16,
    "start_time": "2023-01-18T17:39:36.111Z"
   },
   {
    "duration": 34,
    "start_time": "2023-01-18T17:39:36.129Z"
   },
   {
    "duration": 660,
    "start_time": "2023-01-18T17:39:36.166Z"
   },
   {
    "duration": 644,
    "start_time": "2023-01-18T17:39:36.827Z"
   },
   {
    "duration": 191,
    "start_time": "2023-01-18T17:39:37.473Z"
   },
   {
    "duration": 287,
    "start_time": "2023-01-18T17:39:37.665Z"
   },
   {
    "duration": 495,
    "start_time": "2023-01-18T17:39:37.954Z"
   },
   {
    "duration": 409,
    "start_time": "2023-01-18T17:39:38.451Z"
   },
   {
    "duration": 33,
    "start_time": "2023-01-18T17:39:38.862Z"
   },
   {
    "duration": 51,
    "start_time": "2023-01-18T17:39:38.897Z"
   },
   {
    "duration": 150,
    "start_time": "2023-01-18T17:39:38.950Z"
   },
   {
    "duration": 17,
    "start_time": "2023-01-18T17:39:39.102Z"
   },
   {
    "duration": 328,
    "start_time": "2023-01-18T17:39:39.120Z"
   },
   {
    "duration": 128,
    "start_time": "2023-01-18T17:39:39.453Z"
   },
   {
    "duration": 907,
    "start_time": "2023-01-18T17:39:39.583Z"
   },
   {
    "duration": 15,
    "start_time": "2023-01-18T17:39:40.491Z"
   },
   {
    "duration": 42,
    "start_time": "2023-01-18T17:39:40.507Z"
   },
   {
    "duration": 104,
    "start_time": "2023-01-18T17:39:40.552Z"
   },
   {
    "duration": 43,
    "start_time": "2023-01-18T17:39:40.657Z"
   },
   {
    "duration": 14311,
    "start_time": "2023-01-18T17:39:40.701Z"
   },
   {
    "duration": 3,
    "start_time": "2023-01-18T17:39:55.014Z"
   },
   {
    "duration": 47,
    "start_time": "2023-01-18T17:39:55.018Z"
   },
   {
    "duration": 159,
    "start_time": "2023-01-18T17:39:55.067Z"
   },
   {
    "duration": 16826,
    "start_time": "2023-01-18T17:39:55.228Z"
   },
   {
    "duration": 4,
    "start_time": "2023-01-18T17:40:12.056Z"
   },
   {
    "duration": 92,
    "start_time": "2023-01-18T17:40:12.061Z"
   },
   {
    "duration": 404,
    "start_time": "2023-01-18T17:40:12.155Z"
   },
   {
    "duration": 303318,
    "start_time": "2023-01-18T17:40:12.560Z"
   },
   {
    "duration": 4,
    "start_time": "2023-01-18T17:45:15.880Z"
   },
   {
    "duration": 1006,
    "start_time": "2023-01-18T17:45:15.885Z"
   },
   {
    "duration": 1355,
    "start_time": "2023-01-18T17:45:16.893Z"
   },
   {
    "duration": 221,
    "start_time": "2023-01-18T17:45:18.250Z"
   },
   {
    "duration": 89,
    "start_time": "2023-01-18T17:45:18.472Z"
   },
   {
    "duration": 18,
    "start_time": "2023-01-18T17:45:18.562Z"
   },
   {
    "duration": 4,
    "start_time": "2023-01-18T17:45:18.582Z"
   },
   {
    "duration": 25,
    "start_time": "2023-01-18T17:45:18.587Z"
   },
   {
    "duration": 5,
    "start_time": "2023-01-18T17:45:18.614Z"
   },
   {
    "duration": 1438,
    "start_time": "2023-01-18T17:45:43.064Z"
   },
   {
    "duration": 81,
    "start_time": "2023-01-18T17:45:49.917Z"
   },
   {
    "duration": 46,
    "start_time": "2023-01-19T12:12:05.144Z"
   },
   {
    "duration": 1612,
    "start_time": "2023-01-19T12:12:33.615Z"
   },
   {
    "duration": 0,
    "start_time": "2023-01-19T12:12:35.230Z"
   },
   {
    "duration": 0,
    "start_time": "2023-01-19T12:12:35.231Z"
   },
   {
    "duration": 0,
    "start_time": "2023-01-19T12:12:35.232Z"
   },
   {
    "duration": 0,
    "start_time": "2023-01-19T12:12:35.233Z"
   },
   {
    "duration": 0,
    "start_time": "2023-01-19T12:12:35.234Z"
   },
   {
    "duration": 0,
    "start_time": "2023-01-19T12:12:35.235Z"
   },
   {
    "duration": 0,
    "start_time": "2023-01-19T12:12:35.236Z"
   },
   {
    "duration": 0,
    "start_time": "2023-01-19T12:12:35.237Z"
   },
   {
    "duration": 0,
    "start_time": "2023-01-19T12:12:35.244Z"
   },
   {
    "duration": 0,
    "start_time": "2023-01-19T12:12:35.244Z"
   },
   {
    "duration": 0,
    "start_time": "2023-01-19T12:12:35.246Z"
   },
   {
    "duration": 0,
    "start_time": "2023-01-19T12:12:35.247Z"
   },
   {
    "duration": 0,
    "start_time": "2023-01-19T12:12:35.247Z"
   },
   {
    "duration": 0,
    "start_time": "2023-01-19T12:12:35.248Z"
   },
   {
    "duration": 0,
    "start_time": "2023-01-19T12:12:35.249Z"
   },
   {
    "duration": 0,
    "start_time": "2023-01-19T12:12:35.251Z"
   },
   {
    "duration": 0,
    "start_time": "2023-01-19T12:12:35.252Z"
   },
   {
    "duration": 0,
    "start_time": "2023-01-19T12:12:35.253Z"
   },
   {
    "duration": 0,
    "start_time": "2023-01-19T12:12:35.254Z"
   },
   {
    "duration": 0,
    "start_time": "2023-01-19T12:12:35.256Z"
   },
   {
    "duration": 0,
    "start_time": "2023-01-19T12:12:35.257Z"
   },
   {
    "duration": 0,
    "start_time": "2023-01-19T12:12:35.258Z"
   },
   {
    "duration": 0,
    "start_time": "2023-01-19T12:12:35.259Z"
   },
   {
    "duration": 0,
    "start_time": "2023-01-19T12:12:35.260Z"
   },
   {
    "duration": 0,
    "start_time": "2023-01-19T12:12:35.261Z"
   },
   {
    "duration": 0,
    "start_time": "2023-01-19T12:12:35.262Z"
   },
   {
    "duration": 0,
    "start_time": "2023-01-19T12:12:35.263Z"
   },
   {
    "duration": 0,
    "start_time": "2023-01-19T12:12:35.264Z"
   },
   {
    "duration": 0,
    "start_time": "2023-01-19T12:12:35.265Z"
   },
   {
    "duration": 0,
    "start_time": "2023-01-19T12:12:35.266Z"
   },
   {
    "duration": 0,
    "start_time": "2023-01-19T12:12:35.266Z"
   },
   {
    "duration": 0,
    "start_time": "2023-01-19T12:12:35.268Z"
   },
   {
    "duration": 0,
    "start_time": "2023-01-19T12:12:35.269Z"
   },
   {
    "duration": 0,
    "start_time": "2023-01-19T12:12:35.270Z"
   },
   {
    "duration": 0,
    "start_time": "2023-01-19T12:12:35.271Z"
   },
   {
    "duration": 0,
    "start_time": "2023-01-19T12:12:35.272Z"
   },
   {
    "duration": 0,
    "start_time": "2023-01-19T12:12:35.272Z"
   },
   {
    "duration": 0,
    "start_time": "2023-01-19T12:12:35.273Z"
   },
   {
    "duration": 0,
    "start_time": "2023-01-19T12:12:35.274Z"
   },
   {
    "duration": 0,
    "start_time": "2023-01-19T12:12:35.275Z"
   },
   {
    "duration": 0,
    "start_time": "2023-01-19T12:12:35.277Z"
   },
   {
    "duration": 0,
    "start_time": "2023-01-19T12:12:35.278Z"
   },
   {
    "duration": 0,
    "start_time": "2023-01-19T12:12:35.279Z"
   },
   {
    "duration": 0,
    "start_time": "2023-01-19T12:12:35.345Z"
   },
   {
    "duration": 0,
    "start_time": "2023-01-19T12:12:35.346Z"
   },
   {
    "duration": 0,
    "start_time": "2023-01-19T12:12:35.348Z"
   },
   {
    "duration": 0,
    "start_time": "2023-01-19T12:12:35.349Z"
   },
   {
    "duration": 0,
    "start_time": "2023-01-19T12:12:35.350Z"
   },
   {
    "duration": 0,
    "start_time": "2023-01-19T12:12:35.352Z"
   },
   {
    "duration": 0,
    "start_time": "2023-01-19T12:12:35.353Z"
   },
   {
    "duration": 0,
    "start_time": "2023-01-19T12:12:35.355Z"
   },
   {
    "duration": 0,
    "start_time": "2023-01-19T12:12:35.356Z"
   },
   {
    "duration": 0,
    "start_time": "2023-01-19T12:12:35.357Z"
   },
   {
    "duration": 0,
    "start_time": "2023-01-19T12:12:35.358Z"
   },
   {
    "duration": 0,
    "start_time": "2023-01-19T12:12:35.359Z"
   },
   {
    "duration": 0,
    "start_time": "2023-01-19T12:12:35.361Z"
   },
   {
    "duration": 0,
    "start_time": "2023-01-19T12:12:35.362Z"
   },
   {
    "duration": 0,
    "start_time": "2023-01-19T12:12:35.363Z"
   },
   {
    "duration": 0,
    "start_time": "2023-01-19T12:12:35.365Z"
   },
   {
    "duration": 0,
    "start_time": "2023-01-19T12:12:35.366Z"
   },
   {
    "duration": 0,
    "start_time": "2023-01-19T12:12:35.367Z"
   },
   {
    "duration": 0,
    "start_time": "2023-01-19T12:12:35.368Z"
   },
   {
    "duration": 0,
    "start_time": "2023-01-19T12:12:35.369Z"
   },
   {
    "duration": 4,
    "start_time": "2023-01-19T12:31:13.543Z"
   },
   {
    "duration": 2793,
    "start_time": "2023-01-19T12:31:29.405Z"
   },
   {
    "duration": 1292,
    "start_time": "2023-01-19T12:31:46.398Z"
   },
   {
    "duration": 182,
    "start_time": "2023-01-19T12:31:47.692Z"
   },
   {
    "duration": 4,
    "start_time": "2023-01-19T12:31:47.875Z"
   },
   {
    "duration": 29,
    "start_time": "2023-01-19T12:31:47.881Z"
   },
   {
    "duration": 41,
    "start_time": "2023-01-19T12:31:47.911Z"
   },
   {
    "duration": 5,
    "start_time": "2023-01-19T12:31:47.954Z"
   },
   {
    "duration": 1845,
    "start_time": "2023-01-19T12:31:47.961Z"
   },
   {
    "duration": 101,
    "start_time": "2023-01-19T12:31:49.807Z"
   },
   {
    "duration": 114,
    "start_time": "2023-01-19T12:31:49.910Z"
   },
   {
    "duration": 19,
    "start_time": "2023-01-19T12:31:50.027Z"
   },
   {
    "duration": 50,
    "start_time": "2023-01-19T12:31:50.048Z"
   },
   {
    "duration": 5,
    "start_time": "2023-01-19T12:31:50.100Z"
   },
   {
    "duration": 26,
    "start_time": "2023-01-19T12:31:50.106Z"
   },
   {
    "duration": 1129,
    "start_time": "2023-01-19T12:31:50.134Z"
   },
   {
    "duration": 4,
    "start_time": "2023-01-19T12:31:51.264Z"
   },
   {
    "duration": 17,
    "start_time": "2023-01-19T12:31:51.270Z"
   },
   {
    "duration": 9,
    "start_time": "2023-01-19T12:31:51.288Z"
   },
   {
    "duration": 9,
    "start_time": "2023-01-19T12:31:51.299Z"
   },
   {
    "duration": 14,
    "start_time": "2023-01-19T12:31:51.309Z"
   },
   {
    "duration": 12,
    "start_time": "2023-01-19T12:31:51.325Z"
   },
   {
    "duration": 5,
    "start_time": "2023-01-19T12:31:51.338Z"
   },
   {
    "duration": 22,
    "start_time": "2023-01-19T12:31:51.344Z"
   },
   {
    "duration": 21,
    "start_time": "2023-01-19T12:31:51.367Z"
   },
   {
    "duration": 9,
    "start_time": "2023-01-19T12:31:51.389Z"
   },
   {
    "duration": 24,
    "start_time": "2023-01-19T12:31:51.399Z"
   },
   {
    "duration": 18,
    "start_time": "2023-01-19T12:31:51.425Z"
   },
   {
    "duration": 19,
    "start_time": "2023-01-19T12:31:51.445Z"
   },
   {
    "duration": 676,
    "start_time": "2023-01-19T12:31:51.467Z"
   },
   {
    "duration": 650,
    "start_time": "2023-01-19T12:31:52.144Z"
   },
   {
    "duration": 204,
    "start_time": "2023-01-19T12:31:52.796Z"
   },
   {
    "duration": 446,
    "start_time": "2023-01-19T12:31:53.002Z"
   },
   {
    "duration": 304,
    "start_time": "2023-01-19T12:31:53.451Z"
   },
   {
    "duration": 418,
    "start_time": "2023-01-19T12:31:53.845Z"
   },
   {
    "duration": 34,
    "start_time": "2023-01-19T12:31:54.264Z"
   },
   {
    "duration": 49,
    "start_time": "2023-01-19T12:31:54.300Z"
   },
   {
    "duration": 146,
    "start_time": "2023-01-19T12:31:54.351Z"
   },
   {
    "duration": 16,
    "start_time": "2023-01-19T12:31:54.499Z"
   },
   {
    "duration": 431,
    "start_time": "2023-01-19T12:31:54.517Z"
   },
   {
    "duration": 421,
    "start_time": "2023-01-19T12:31:54.950Z"
   },
   {
    "duration": 39,
    "start_time": "2023-01-19T12:31:55.373Z"
   },
   {
    "duration": 152,
    "start_time": "2023-01-19T12:31:55.414Z"
   },
   {
    "duration": 886,
    "start_time": "2023-01-19T12:31:55.567Z"
   },
   {
    "duration": 191,
    "start_time": "2023-01-19T12:31:56.455Z"
   },
   {
    "duration": 14,
    "start_time": "2023-01-19T12:31:56.648Z"
   },
   {
    "duration": 82,
    "start_time": "2023-01-19T12:31:56.663Z"
   },
   {
    "duration": 108,
    "start_time": "2023-01-19T12:31:56.747Z"
   },
   {
    "duration": 44,
    "start_time": "2023-01-19T12:31:56.857Z"
   },
   {
    "duration": 14153,
    "start_time": "2023-01-19T12:31:56.902Z"
   },
   {
    "duration": 3,
    "start_time": "2023-01-19T12:32:11.057Z"
   },
   {
    "duration": 49,
    "start_time": "2023-01-19T12:32:11.061Z"
   },
   {
    "duration": 162,
    "start_time": "2023-01-19T12:32:11.112Z"
   },
   {
    "duration": 16673,
    "start_time": "2023-01-19T12:32:11.276Z"
   },
   {
    "duration": 3,
    "start_time": "2023-01-19T12:32:27.951Z"
   },
   {
    "duration": 32,
    "start_time": "2023-01-19T12:32:27.956Z"
   },
   {
    "duration": 319,
    "start_time": "2023-01-19T12:32:28.045Z"
   },
   {
    "duration": 300393,
    "start_time": "2023-01-19T12:32:28.365Z"
   },
   {
    "duration": 4,
    "start_time": "2023-01-19T12:37:28.761Z"
   },
   {
    "duration": 1352,
    "start_time": "2023-01-19T12:37:28.766Z"
   },
   {
    "duration": 218,
    "start_time": "2023-01-19T12:37:30.120Z"
   },
   {
    "duration": 77,
    "start_time": "2023-01-19T12:37:30.344Z"
   },
   {
    "duration": 145,
    "start_time": "2023-01-19T12:37:30.423Z"
   },
   {
    "duration": 56,
    "start_time": "2023-01-19T12:37:30.570Z"
   },
   {
    "duration": 89,
    "start_time": "2023-01-19T12:37:30.628Z"
   },
   {
    "duration": 21,
    "start_time": "2023-01-19T12:37:30.719Z"
   },
   {
    "duration": 5,
    "start_time": "2023-01-19T13:22:12.675Z"
   },
   {
    "duration": 4,
    "start_time": "2023-01-19T13:22:17.066Z"
   },
   {
    "duration": 135,
    "start_time": "2023-01-19T13:22:20.266Z"
   },
   {
    "duration": 44,
    "start_time": "2023-01-19T13:22:28.856Z"
   },
   {
    "duration": 529,
    "start_time": "2023-01-19T13:22:36.972Z"
   },
   {
    "duration": 389,
    "start_time": "2023-01-19T13:23:21.218Z"
   },
   {
    "duration": 355,
    "start_time": "2023-01-19T13:24:53.211Z"
   },
   {
    "duration": 49,
    "start_time": "2023-01-19T13:25:12.966Z"
   },
   {
    "duration": 14,
    "start_time": "2023-01-19T13:25:33.268Z"
   },
   {
    "duration": 82,
    "start_time": "2023-01-19T13:25:55.286Z"
   },
   {
    "duration": 85,
    "start_time": "2023-01-19T13:26:50.983Z"
   },
   {
    "duration": 380,
    "start_time": "2023-01-19T13:27:09.971Z"
   },
   {
    "duration": 362,
    "start_time": "2023-01-19T13:27:18.815Z"
   },
   {
    "duration": 41,
    "start_time": "2023-01-19T13:27:42.794Z"
   },
   {
    "duration": 143,
    "start_time": "2023-01-19T13:27:47.968Z"
   },
   {
    "duration": 11,
    "start_time": "2023-01-19T13:30:16.542Z"
   },
   {
    "duration": 10,
    "start_time": "2023-01-19T13:30:48.423Z"
   },
   {
    "duration": 262,
    "start_time": "2023-01-19T13:31:04.345Z"
   },
   {
    "duration": 236,
    "start_time": "2023-01-19T13:31:14.916Z"
   },
   {
    "duration": 608,
    "start_time": "2023-01-19T13:31:17.246Z"
   },
   {
    "duration": 59,
    "start_time": "2023-01-19T13:32:05.775Z"
   },
   {
    "duration": 612,
    "start_time": "2023-01-19T13:32:18.344Z"
   },
   {
    "duration": 567,
    "start_time": "2023-01-19T13:32:28.786Z"
   },
   {
    "duration": 32,
    "start_time": "2023-01-19T13:32:55.592Z"
   },
   {
    "duration": 303,
    "start_time": "2023-01-19T13:33:06.266Z"
   },
   {
    "duration": 11,
    "start_time": "2023-01-19T13:34:39.742Z"
   },
   {
    "duration": 11,
    "start_time": "2023-01-19T13:35:02.990Z"
   },
   {
    "duration": 28571,
    "start_time": "2023-01-19T13:35:41.467Z"
   },
   {
    "duration": 90,
    "start_time": "2023-01-19T13:37:15.065Z"
   },
   {
    "duration": 26938,
    "start_time": "2023-01-19T13:37:37.047Z"
   },
   {
    "duration": 1997,
    "start_time": "2023-01-19T13:38:16.605Z"
   },
   {
    "duration": 264,
    "start_time": "2023-01-19T13:38:21.936Z"
   },
   {
    "duration": 116,
    "start_time": "2023-01-19T13:38:36.572Z"
   },
   {
    "duration": 1323,
    "start_time": "2023-01-19T13:40:26.442Z"
   },
   {
    "duration": 51,
    "start_time": "2023-01-19T13:40:27.767Z"
   },
   {
    "duration": 3,
    "start_time": "2023-01-19T13:40:27.819Z"
   },
   {
    "duration": 15,
    "start_time": "2023-01-19T13:40:27.824Z"
   },
   {
    "duration": 36,
    "start_time": "2023-01-19T13:40:27.841Z"
   },
   {
    "duration": 5,
    "start_time": "2023-01-19T13:40:27.878Z"
   },
   {
    "duration": 1859,
    "start_time": "2023-01-19T13:40:27.885Z"
   },
   {
    "duration": 101,
    "start_time": "2023-01-19T13:40:29.746Z"
   },
   {
    "duration": 119,
    "start_time": "2023-01-19T13:40:29.849Z"
   },
   {
    "duration": 11,
    "start_time": "2023-01-19T13:40:29.970Z"
   },
   {
    "duration": 45,
    "start_time": "2023-01-19T13:40:29.983Z"
   },
   {
    "duration": 5,
    "start_time": "2023-01-19T13:40:30.045Z"
   },
   {
    "duration": 11,
    "start_time": "2023-01-19T13:40:30.052Z"
   },
   {
    "duration": 22,
    "start_time": "2023-01-19T13:40:30.066Z"
   },
   {
    "duration": 14,
    "start_time": "2023-01-19T13:40:30.090Z"
   },
   {
    "duration": 18,
    "start_time": "2023-01-19T13:40:30.105Z"
   },
   {
    "duration": 14,
    "start_time": "2023-01-19T13:40:30.125Z"
   },
   {
    "duration": 25,
    "start_time": "2023-01-19T13:40:30.141Z"
   },
   {
    "duration": 18,
    "start_time": "2023-01-19T13:40:30.167Z"
   },
   {
    "duration": 8,
    "start_time": "2023-01-19T13:40:30.186Z"
   },
   {
    "duration": 31,
    "start_time": "2023-01-19T13:40:30.195Z"
   },
   {
    "duration": 34,
    "start_time": "2023-01-19T13:40:30.227Z"
   },
   {
    "duration": 31,
    "start_time": "2023-01-19T13:40:30.263Z"
   },
   {
    "duration": 75,
    "start_time": "2023-01-19T13:40:30.295Z"
   },
   {
    "duration": 32,
    "start_time": "2023-01-19T13:40:30.372Z"
   },
   {
    "duration": 37,
    "start_time": "2023-01-19T13:40:30.406Z"
   },
   {
    "duration": 807,
    "start_time": "2023-01-19T13:40:30.445Z"
   },
   {
    "duration": 669,
    "start_time": "2023-01-19T13:40:31.254Z"
   },
   {
    "duration": 203,
    "start_time": "2023-01-19T13:40:31.925Z"
   },
   {
    "duration": 415,
    "start_time": "2023-01-19T13:40:32.129Z"
   },
   {
    "duration": 399,
    "start_time": "2023-01-19T13:40:32.546Z"
   },
   {
    "duration": 410,
    "start_time": "2023-01-19T13:40:32.947Z"
   },
   {
    "duration": 32,
    "start_time": "2023-01-19T13:40:33.358Z"
   },
   {
    "duration": 33,
    "start_time": "2023-01-19T13:40:33.391Z"
   },
   {
    "duration": 157,
    "start_time": "2023-01-19T13:40:33.426Z"
   },
   {
    "duration": 15,
    "start_time": "2023-01-19T13:40:33.585Z"
   },
   {
    "duration": 547,
    "start_time": "2023-01-19T13:40:33.601Z"
   },
   {
    "duration": 446,
    "start_time": "2023-01-19T13:40:34.151Z"
   },
   {
    "duration": 53,
    "start_time": "2023-01-19T13:40:34.599Z"
   },
   {
    "duration": 144,
    "start_time": "2023-01-19T13:40:34.654Z"
   },
   {
    "duration": 955,
    "start_time": "2023-01-19T13:40:34.802Z"
   },
   {
    "duration": 195,
    "start_time": "2023-01-19T13:40:35.759Z"
   },
   {
    "duration": 16,
    "start_time": "2023-01-19T13:40:35.955Z"
   },
   {
    "duration": 72,
    "start_time": "2023-01-19T13:40:35.973Z"
   },
   {
    "duration": 423,
    "start_time": "2023-01-19T13:40:36.048Z"
   },
   {
    "duration": 20,
    "start_time": "2023-01-19T13:40:36.473Z"
   },
   {
    "duration": 150,
    "start_time": "2023-01-19T13:40:36.494Z"
   },
   {
    "duration": 43,
    "start_time": "2023-01-19T13:40:36.645Z"
   },
   {
    "duration": 155,
    "start_time": "2023-01-19T13:40:36.689Z"
   },
   {
    "duration": 369,
    "start_time": "2023-01-19T13:40:36.846Z"
   },
   {
    "duration": 356,
    "start_time": "2023-01-19T13:40:37.217Z"
   },
   {
    "duration": 39,
    "start_time": "2023-01-19T13:40:37.575Z"
   },
   {
    "duration": 152,
    "start_time": "2023-01-19T13:40:37.615Z"
   },
   {
    "duration": 582,
    "start_time": "2023-01-19T13:40:37.769Z"
   },
   {
    "duration": 792,
    "start_time": "2023-01-19T13:40:38.353Z"
   },
   {
    "duration": 115,
    "start_time": "2023-01-19T13:40:39.147Z"
   },
   {
    "duration": 411,
    "start_time": "2023-01-19T13:40:39.264Z"
   },
   {
    "duration": 26921,
    "start_time": "2023-01-19T13:40:39.676Z"
   },
   {
    "duration": 27431,
    "start_time": "2023-01-19T13:41:06.598Z"
   },
   {
    "duration": 2091,
    "start_time": "2023-01-19T13:41:34.031Z"
   },
   {
    "duration": 250,
    "start_time": "2023-01-19T13:41:36.123Z"
   },
   {
    "duration": 121,
    "start_time": "2023-01-19T13:41:36.374Z"
   },
   {
    "duration": 23,
    "start_time": "2023-01-19T13:41:36.496Z"
   },
   {
    "duration": 4,
    "start_time": "2023-01-19T13:41:36.520Z"
   },
   {
    "duration": 45,
    "start_time": "2023-01-19T13:41:36.525Z"
   },
   {
    "duration": 4,
    "start_time": "2023-01-19T13:41:36.571Z"
   },
   {
    "duration": 122,
    "start_time": "2023-01-19T13:43:11.239Z"
   },
   {
    "duration": 2034,
    "start_time": "2023-01-19T13:43:33.193Z"
   },
   {
    "duration": 119,
    "start_time": "2023-01-19T13:43:41.853Z"
   },
   {
    "duration": 41057,
    "start_time": "2023-01-19T13:44:09.464Z"
   },
   {
    "duration": 52627,
    "start_time": "2023-01-19T13:45:15.765Z"
   },
   {
    "duration": 3881,
    "start_time": "2023-01-19T13:46:20.993Z"
   },
   {
    "duration": 209,
    "start_time": "2023-01-19T13:46:28.341Z"
   },
   {
    "duration": 4012,
    "start_time": "2023-01-19T13:47:32.704Z"
   },
   {
    "duration": 211,
    "start_time": "2023-01-19T13:47:42.849Z"
   },
   {
    "duration": 132,
    "start_time": "2023-01-19T13:47:55.185Z"
   },
   {
    "duration": 16,
    "start_time": "2023-01-19T13:48:00.457Z"
   },
   {
    "duration": 8085,
    "start_time": "2023-01-19T13:48:21.542Z"
   },
   {
    "duration": 573,
    "start_time": "2023-01-19T13:49:02.059Z"
   },
   {
    "duration": 444,
    "start_time": "2023-01-19T13:49:19.138Z"
   },
   {
    "duration": 19352,
    "start_time": "2023-01-19T13:49:39.600Z"
   },
   {
    "duration": 11078,
    "start_time": "2023-01-19T13:50:31.003Z"
   },
   {
    "duration": 1238,
    "start_time": "2023-01-19T13:50:44.757Z"
   },
   {
    "duration": 74,
    "start_time": "2023-01-19T13:50:49.071Z"
   },
   {
    "duration": 1208,
    "start_time": "2023-01-19T13:51:57.439Z"
   },
   {
    "duration": 231,
    "start_time": "2023-01-19T13:52:01.635Z"
   },
   {
    "duration": 90,
    "start_time": "2023-01-19T13:52:05.079Z"
   },
   {
    "duration": 78,
    "start_time": "2023-01-19T13:52:19.069Z"
   },
   {
    "duration": 1547,
    "start_time": "2023-01-19T13:53:13.928Z"
   },
   {
    "duration": 1232,
    "start_time": "2023-01-19T14:01:39.243Z"
   },
   {
    "duration": 91,
    "start_time": "2023-01-19T14:01:44.788Z"
   },
   {
    "duration": 1842,
    "start_time": "2023-01-19T14:01:57.276Z"
   },
   {
    "duration": 103,
    "start_time": "2023-01-19T14:02:02.236Z"
   },
   {
    "duration": 1159,
    "start_time": "2023-01-19T14:04:33.225Z"
   },
   {
    "duration": 69,
    "start_time": "2023-01-19T14:04:37.960Z"
   },
   {
    "duration": 4762,
    "start_time": "2023-01-19T14:05:07.692Z"
   },
   {
    "duration": 271,
    "start_time": "2023-01-19T14:05:47.185Z"
   },
   {
    "duration": 4964,
    "start_time": "2023-01-19T14:06:00.191Z"
   },
   {
    "duration": 5351,
    "start_time": "2023-01-19T14:06:21.666Z"
   },
   {
    "duration": 5587,
    "start_time": "2023-01-19T14:06:34.275Z"
   },
   {
    "duration": 4954,
    "start_time": "2023-01-19T14:06:48.161Z"
   },
   {
    "duration": 5075,
    "start_time": "2023-01-19T14:06:57.577Z"
   },
   {
    "duration": 2223,
    "start_time": "2023-01-19T14:07:05.868Z"
   },
   {
    "duration": 2379,
    "start_time": "2023-01-19T14:07:11.785Z"
   },
   {
    "duration": 2409,
    "start_time": "2023-01-19T14:07:16.808Z"
   },
   {
    "duration": 309,
    "start_time": "2023-01-19T14:07:25.436Z"
   },
   {
    "duration": 1304,
    "start_time": "2023-01-19T14:07:29.528Z"
   },
   {
    "duration": 1266,
    "start_time": "2023-01-19T14:07:35.411Z"
   },
   {
    "duration": 164,
    "start_time": "2023-01-19T14:18:12.333Z"
   },
   {
    "duration": 189,
    "start_time": "2023-01-19T14:18:15.834Z"
   },
   {
    "duration": 22,
    "start_time": "2023-01-19T14:18:19.438Z"
   },
   {
    "duration": 166,
    "start_time": "2023-01-19T14:24:49.754Z"
   },
   {
    "duration": 16,
    "start_time": "2023-01-19T14:24:54.401Z"
   },
   {
    "duration": 1245,
    "start_time": "2023-01-19T14:25:06.379Z"
   },
   {
    "duration": 80,
    "start_time": "2023-01-19T14:25:10.769Z"
   },
   {
    "duration": 1291,
    "start_time": "2023-01-19T14:25:18.103Z"
   },
   {
    "duration": 77,
    "start_time": "2023-01-19T14:25:20.896Z"
   },
   {
    "duration": 1771,
    "start_time": "2023-01-19T15:25:53.329Z"
   },
   {
    "duration": 0,
    "start_time": "2023-01-19T15:25:55.103Z"
   },
   {
    "duration": 0,
    "start_time": "2023-01-19T15:25:55.104Z"
   },
   {
    "duration": 0,
    "start_time": "2023-01-19T15:25:55.106Z"
   },
   {
    "duration": 0,
    "start_time": "2023-01-19T15:25:55.107Z"
   },
   {
    "duration": 0,
    "start_time": "2023-01-19T15:25:55.109Z"
   },
   {
    "duration": 0,
    "start_time": "2023-01-19T15:25:55.110Z"
   },
   {
    "duration": 0,
    "start_time": "2023-01-19T15:25:55.111Z"
   },
   {
    "duration": 0,
    "start_time": "2023-01-19T15:25:55.112Z"
   },
   {
    "duration": 1,
    "start_time": "2023-01-19T15:25:55.113Z"
   },
   {
    "duration": 0,
    "start_time": "2023-01-19T15:25:55.115Z"
   },
   {
    "duration": 0,
    "start_time": "2023-01-19T15:25:55.116Z"
   },
   {
    "duration": 0,
    "start_time": "2023-01-19T15:25:55.117Z"
   },
   {
    "duration": 0,
    "start_time": "2023-01-19T15:25:55.119Z"
   },
   {
    "duration": 0,
    "start_time": "2023-01-19T15:25:55.120Z"
   },
   {
    "duration": 0,
    "start_time": "2023-01-19T15:25:55.121Z"
   },
   {
    "duration": 0,
    "start_time": "2023-01-19T15:25:55.122Z"
   },
   {
    "duration": 0,
    "start_time": "2023-01-19T15:25:55.124Z"
   },
   {
    "duration": 0,
    "start_time": "2023-01-19T15:25:55.125Z"
   },
   {
    "duration": 0,
    "start_time": "2023-01-19T15:25:55.126Z"
   },
   {
    "duration": 0,
    "start_time": "2023-01-19T15:25:55.127Z"
   },
   {
    "duration": 0,
    "start_time": "2023-01-19T15:25:55.128Z"
   },
   {
    "duration": 0,
    "start_time": "2023-01-19T15:25:55.129Z"
   },
   {
    "duration": 0,
    "start_time": "2023-01-19T15:25:55.130Z"
   },
   {
    "duration": 0,
    "start_time": "2023-01-19T15:25:55.131Z"
   },
   {
    "duration": 0,
    "start_time": "2023-01-19T15:25:55.132Z"
   },
   {
    "duration": 0,
    "start_time": "2023-01-19T15:25:55.133Z"
   },
   {
    "duration": 0,
    "start_time": "2023-01-19T15:25:55.134Z"
   },
   {
    "duration": 0,
    "start_time": "2023-01-19T15:25:55.136Z"
   },
   {
    "duration": 0,
    "start_time": "2023-01-19T15:25:55.137Z"
   },
   {
    "duration": 0,
    "start_time": "2023-01-19T15:25:55.138Z"
   },
   {
    "duration": 0,
    "start_time": "2023-01-19T15:25:55.140Z"
   },
   {
    "duration": 0,
    "start_time": "2023-01-19T15:25:55.204Z"
   },
   {
    "duration": 0,
    "start_time": "2023-01-19T15:25:55.205Z"
   },
   {
    "duration": 0,
    "start_time": "2023-01-19T15:25:55.207Z"
   },
   {
    "duration": 0,
    "start_time": "2023-01-19T15:25:55.210Z"
   },
   {
    "duration": 1,
    "start_time": "2023-01-19T15:25:55.211Z"
   },
   {
    "duration": 0,
    "start_time": "2023-01-19T15:25:55.213Z"
   },
   {
    "duration": 0,
    "start_time": "2023-01-19T15:25:55.215Z"
   },
   {
    "duration": 0,
    "start_time": "2023-01-19T15:25:55.216Z"
   },
   {
    "duration": 0,
    "start_time": "2023-01-19T15:25:55.218Z"
   },
   {
    "duration": 0,
    "start_time": "2023-01-19T15:25:55.228Z"
   },
   {
    "duration": 0,
    "start_time": "2023-01-19T15:25:55.228Z"
   },
   {
    "duration": 0,
    "start_time": "2023-01-19T15:25:55.236Z"
   },
   {
    "duration": 0,
    "start_time": "2023-01-19T15:25:55.238Z"
   },
   {
    "duration": 0,
    "start_time": "2023-01-19T15:25:55.239Z"
   },
   {
    "duration": 0,
    "start_time": "2023-01-19T15:25:55.240Z"
   },
   {
    "duration": 0,
    "start_time": "2023-01-19T15:25:55.242Z"
   },
   {
    "duration": 0,
    "start_time": "2023-01-19T15:25:55.243Z"
   },
   {
    "duration": 0,
    "start_time": "2023-01-19T15:25:55.244Z"
   },
   {
    "duration": 0,
    "start_time": "2023-01-19T15:25:55.246Z"
   },
   {
    "duration": 0,
    "start_time": "2023-01-19T15:25:55.247Z"
   },
   {
    "duration": 0,
    "start_time": "2023-01-19T15:25:55.249Z"
   },
   {
    "duration": 0,
    "start_time": "2023-01-19T15:25:55.304Z"
   },
   {
    "duration": 0,
    "start_time": "2023-01-19T15:25:55.305Z"
   },
   {
    "duration": 0,
    "start_time": "2023-01-19T15:25:55.306Z"
   },
   {
    "duration": 0,
    "start_time": "2023-01-19T15:25:55.307Z"
   },
   {
    "duration": 0,
    "start_time": "2023-01-19T15:25:55.309Z"
   },
   {
    "duration": 0,
    "start_time": "2023-01-19T15:25:55.310Z"
   },
   {
    "duration": 0,
    "start_time": "2023-01-19T15:25:55.312Z"
   },
   {
    "duration": 0,
    "start_time": "2023-01-19T15:25:55.314Z"
   },
   {
    "duration": 0,
    "start_time": "2023-01-19T15:25:55.315Z"
   },
   {
    "duration": 0,
    "start_time": "2023-01-19T15:25:55.316Z"
   },
   {
    "duration": 0,
    "start_time": "2023-01-19T15:25:55.318Z"
   },
   {
    "duration": 0,
    "start_time": "2023-01-19T15:25:55.319Z"
   },
   {
    "duration": 0,
    "start_time": "2023-01-19T15:25:55.321Z"
   },
   {
    "duration": 2822,
    "start_time": "2023-01-19T15:26:20.676Z"
   },
   {
    "duration": 1572,
    "start_time": "2023-01-19T15:26:31.686Z"
   },
   {
    "duration": 108,
    "start_time": "2023-01-19T15:26:33.260Z"
   },
   {
    "duration": 5,
    "start_time": "2023-01-19T15:26:33.370Z"
   },
   {
    "duration": 21,
    "start_time": "2023-01-19T15:26:33.378Z"
   },
   {
    "duration": 44,
    "start_time": "2023-01-19T15:26:33.401Z"
   },
   {
    "duration": 5,
    "start_time": "2023-01-19T15:26:33.446Z"
   },
   {
    "duration": 2250,
    "start_time": "2023-01-19T15:26:33.453Z"
   },
   {
    "duration": 121,
    "start_time": "2023-01-19T15:26:35.705Z"
   },
   {
    "duration": 120,
    "start_time": "2023-01-19T15:26:35.827Z"
   },
   {
    "duration": 11,
    "start_time": "2023-01-19T15:26:35.949Z"
   },
   {
    "duration": 65,
    "start_time": "2023-01-19T15:26:35.962Z"
   },
   {
    "duration": 5,
    "start_time": "2023-01-19T15:26:36.029Z"
   },
   {
    "duration": 6,
    "start_time": "2023-01-19T15:26:36.036Z"
   },
   {
    "duration": 7,
    "start_time": "2023-01-19T15:26:36.044Z"
   },
   {
    "duration": 8,
    "start_time": "2023-01-19T15:26:36.053Z"
   },
   {
    "duration": 16,
    "start_time": "2023-01-19T15:26:36.062Z"
   },
   {
    "duration": 24,
    "start_time": "2023-01-19T15:26:36.080Z"
   },
   {
    "duration": 5,
    "start_time": "2023-01-19T15:26:36.105Z"
   },
   {
    "duration": 21,
    "start_time": "2023-01-19T15:26:36.112Z"
   },
   {
    "duration": 6,
    "start_time": "2023-01-19T15:26:36.135Z"
   },
   {
    "duration": 20,
    "start_time": "2023-01-19T15:26:36.143Z"
   },
   {
    "duration": 15,
    "start_time": "2023-01-19T15:26:36.165Z"
   },
   {
    "duration": 8,
    "start_time": "2023-01-19T15:26:36.182Z"
   },
   {
    "duration": 28,
    "start_time": "2023-01-19T15:26:36.192Z"
   },
   {
    "duration": 17,
    "start_time": "2023-01-19T15:26:36.222Z"
   },
   {
    "duration": 16,
    "start_time": "2023-01-19T15:26:36.241Z"
   },
   {
    "duration": 850,
    "start_time": "2023-01-19T15:26:36.258Z"
   },
   {
    "duration": 721,
    "start_time": "2023-01-19T15:26:37.112Z"
   },
   {
    "duration": 220,
    "start_time": "2023-01-19T15:26:37.834Z"
   },
   {
    "duration": 355,
    "start_time": "2023-01-19T15:26:38.055Z"
   },
   {
    "duration": 295,
    "start_time": "2023-01-19T15:26:38.412Z"
   },
   {
    "duration": 424,
    "start_time": "2023-01-19T15:26:38.708Z"
   },
   {
    "duration": 38,
    "start_time": "2023-01-19T15:26:39.133Z"
   },
   {
    "duration": 49,
    "start_time": "2023-01-19T15:26:39.172Z"
   },
   {
    "duration": 169,
    "start_time": "2023-01-19T15:26:39.222Z"
   },
   {
    "duration": 25,
    "start_time": "2023-01-19T15:26:39.393Z"
   },
   {
    "duration": 290,
    "start_time": "2023-01-19T15:26:39.421Z"
   },
   {
    "duration": 440,
    "start_time": "2023-01-19T15:26:39.713Z"
   },
   {
    "duration": 50,
    "start_time": "2023-01-19T15:26:40.154Z"
   },
   {
    "duration": 165,
    "start_time": "2023-01-19T15:26:40.206Z"
   },
   {
    "duration": 1034,
    "start_time": "2023-01-19T15:26:40.373Z"
   },
   {
    "duration": 229,
    "start_time": "2023-01-19T15:26:41.409Z"
   },
   {
    "duration": 17,
    "start_time": "2023-01-19T15:26:41.640Z"
   },
   {
    "duration": 47,
    "start_time": "2023-01-19T15:26:41.659Z"
   },
   {
    "duration": 444,
    "start_time": "2023-01-19T15:26:41.707Z"
   },
   {
    "duration": 18,
    "start_time": "2023-01-19T15:26:42.153Z"
   },
   {
    "duration": 163,
    "start_time": "2023-01-19T15:26:42.173Z"
   },
   {
    "duration": 49,
    "start_time": "2023-01-19T15:26:42.337Z"
   },
   {
    "duration": 180,
    "start_time": "2023-01-19T15:26:42.388Z"
   },
   {
    "duration": 418,
    "start_time": "2023-01-19T15:26:42.570Z"
   },
   {
    "duration": 391,
    "start_time": "2023-01-19T15:26:42.990Z"
   },
   {
    "duration": 50,
    "start_time": "2023-01-19T15:26:43.383Z"
   },
   {
    "duration": 168,
    "start_time": "2023-01-19T15:26:43.435Z"
   },
   {
    "duration": 603,
    "start_time": "2023-01-19T15:26:43.605Z"
   },
   {
    "duration": 598,
    "start_time": "2023-01-19T15:26:44.210Z"
   },
   {
    "duration": 212,
    "start_time": "2023-01-19T15:26:44.810Z"
   },
   {
    "duration": 435,
    "start_time": "2023-01-19T15:26:45.025Z"
   },
   {
    "duration": 21393,
    "start_time": "2023-01-19T15:26:45.463Z"
   },
   {
    "duration": 12337,
    "start_time": "2023-01-19T15:27:06.857Z"
   },
   {
    "duration": 1331,
    "start_time": "2023-01-19T15:27:19.196Z"
   },
   {
    "duration": 252,
    "start_time": "2023-01-19T15:27:20.530Z"
   },
   {
    "duration": 89,
    "start_time": "2023-01-19T15:27:20.783Z"
   },
   {
    "duration": 30,
    "start_time": "2023-01-19T15:27:20.873Z"
   },
   {
    "duration": 5,
    "start_time": "2023-01-19T15:27:20.905Z"
   },
   {
    "duration": 34,
    "start_time": "2023-01-19T15:27:20.912Z"
   },
   {
    "duration": 6,
    "start_time": "2023-01-19T15:27:20.949Z"
   },
   {
    "duration": 12541,
    "start_time": "2023-01-19T15:30:03.355Z"
   },
   {
    "duration": 2222,
    "start_time": "2023-02-05T22:58:50.311Z"
   },
   {
    "duration": 1336,
    "start_time": "2023-02-05T22:59:10.475Z"
   },
   {
    "duration": 97,
    "start_time": "2023-02-05T22:59:16.714Z"
   },
   {
    "duration": 5,
    "start_time": "2023-02-05T22:59:39.384Z"
   },
   {
    "duration": 14,
    "start_time": "2023-02-05T22:59:39.880Z"
   },
   {
    "duration": 4,
    "start_time": "2023-02-05T23:00:00.954Z"
   },
   {
    "duration": 42,
    "start_time": "2023-02-05T23:00:31.955Z"
   },
   {
    "duration": 1263,
    "start_time": "2023-02-05T23:00:55.508Z"
   },
   {
    "duration": 7,
    "start_time": "2023-02-05T23:01:07.132Z"
   },
   {
    "duration": 48,
    "start_time": "2023-02-05T23:01:09.484Z"
   },
   {
    "duration": 4,
    "start_time": "2023-02-05T23:01:10.047Z"
   },
   {
    "duration": 14,
    "start_time": "2023-02-05T23:01:10.885Z"
   },
   {
    "duration": 44,
    "start_time": "2023-02-05T23:01:12.362Z"
   },
   {
    "duration": 1160,
    "start_time": "2023-02-05T23:01:16.692Z"
   },
   {
    "duration": 10,
    "start_time": "2023-02-05T23:01:38.165Z"
   },
   {
    "duration": 5,
    "start_time": "2023-02-05T23:01:42.472Z"
   },
   {
    "duration": 2467,
    "start_time": "2023-02-05T23:01:46.575Z"
   },
   {
    "duration": 106,
    "start_time": "2023-02-05T23:02:12.777Z"
   },
   {
    "duration": 120,
    "start_time": "2023-02-05T23:02:23.065Z"
   },
   {
    "duration": 12,
    "start_time": "2023-02-05T23:02:29.908Z"
   },
   {
    "duration": 53,
    "start_time": "2023-02-05T23:02:31.472Z"
   },
   {
    "duration": 15,
    "start_time": "2023-02-05T23:02:41.132Z"
   },
   {
    "duration": 1149,
    "start_time": "2023-02-05T23:03:05.741Z"
   },
   {
    "duration": 1199,
    "start_time": "2023-02-05T23:03:21.722Z"
   },
   {
    "duration": 9,
    "start_time": "2023-02-05T23:03:43.813Z"
   },
   {
    "duration": 18,
    "start_time": "2023-02-06T07:10:18.834Z"
   },
   {
    "duration": 21,
    "start_time": "2023-02-06T07:11:08.082Z"
   },
   {
    "duration": 3,
    "start_time": "2023-02-06T07:17:37.161Z"
   },
   {
    "duration": 6,
    "start_time": "2023-02-06T07:17:37.564Z"
   },
   {
    "duration": 10,
    "start_time": "2023-02-06T07:17:37.927Z"
   },
   {
    "duration": 5,
    "start_time": "2023-02-06T07:17:38.733Z"
   },
   {
    "duration": 14,
    "start_time": "2023-02-06T07:17:57.390Z"
   },
   {
    "duration": 10,
    "start_time": "2023-02-06T07:18:21.699Z"
   },
   {
    "duration": 3,
    "start_time": "2023-02-06T07:18:32.869Z"
   },
   {
    "duration": 4,
    "start_time": "2023-02-06T07:18:38.510Z"
   },
   {
    "duration": 23,
    "start_time": "2023-02-06T07:18:45.423Z"
   },
   {
    "duration": 20,
    "start_time": "2023-02-06T07:18:52.423Z"
   },
   {
    "duration": 19,
    "start_time": "2023-02-06T07:19:00.419Z"
   },
   {
    "duration": 19,
    "start_time": "2023-02-06T07:20:19.041Z"
   },
   {
    "duration": 4,
    "start_time": "2023-02-06T07:20:44.897Z"
   },
   {
    "duration": 19,
    "start_time": "2023-02-06T07:20:45.956Z"
   },
   {
    "duration": 16,
    "start_time": "2023-02-06T07:20:46.486Z"
   },
   {
    "duration": 2364,
    "start_time": "2023-02-06T07:20:54.568Z"
   },
   {
    "duration": 1375,
    "start_time": "2023-02-06T07:20:56.934Z"
   },
   {
    "duration": 51,
    "start_time": "2023-02-06T07:20:58.310Z"
   },
   {
    "duration": 4,
    "start_time": "2023-02-06T07:20:58.363Z"
   },
   {
    "duration": 15,
    "start_time": "2023-02-06T07:20:58.368Z"
   },
   {
    "duration": 41,
    "start_time": "2023-02-06T07:20:58.384Z"
   },
   {
    "duration": 7,
    "start_time": "2023-02-06T07:20:58.441Z"
   },
   {
    "duration": 9,
    "start_time": "2023-02-06T07:20:58.449Z"
   },
   {
    "duration": 2369,
    "start_time": "2023-02-06T07:20:58.459Z"
   },
   {
    "duration": 123,
    "start_time": "2023-02-06T07:21:00.830Z"
   },
   {
    "duration": 126,
    "start_time": "2023-02-06T07:21:00.954Z"
   },
   {
    "duration": 13,
    "start_time": "2023-02-06T07:21:01.082Z"
   },
   {
    "duration": 63,
    "start_time": "2023-02-06T07:21:01.096Z"
   },
   {
    "duration": 6,
    "start_time": "2023-02-06T07:21:01.160Z"
   },
   {
    "duration": 29,
    "start_time": "2023-02-06T07:21:01.168Z"
   },
   {
    "duration": 20,
    "start_time": "2023-02-06T07:21:01.199Z"
   },
   {
    "duration": 46,
    "start_time": "2023-02-06T07:21:01.221Z"
   },
   {
    "duration": 18,
    "start_time": "2023-02-06T07:21:01.269Z"
   },
   {
    "duration": 39,
    "start_time": "2023-02-06T07:21:01.289Z"
   },
   {
    "duration": 38,
    "start_time": "2023-02-06T07:21:01.330Z"
   },
   {
    "duration": 9,
    "start_time": "2023-02-06T07:21:01.370Z"
   },
   {
    "duration": 47,
    "start_time": "2023-02-06T07:21:01.380Z"
   },
   {
    "duration": 152,
    "start_time": "2023-02-06T07:21:01.428Z"
   },
   {
    "duration": 0,
    "start_time": "2023-02-06T07:21:01.586Z"
   },
   {
    "duration": 0,
    "start_time": "2023-02-06T07:21:01.587Z"
   },
   {
    "duration": 0,
    "start_time": "2023-02-06T07:21:01.588Z"
   },
   {
    "duration": 0,
    "start_time": "2023-02-06T07:21:01.589Z"
   },
   {
    "duration": 0,
    "start_time": "2023-02-06T07:21:01.590Z"
   },
   {
    "duration": 0,
    "start_time": "2023-02-06T07:21:01.591Z"
   },
   {
    "duration": 0,
    "start_time": "2023-02-06T07:21:01.592Z"
   },
   {
    "duration": 0,
    "start_time": "2023-02-06T07:21:01.593Z"
   },
   {
    "duration": 0,
    "start_time": "2023-02-06T07:21:01.594Z"
   },
   {
    "duration": 0,
    "start_time": "2023-02-06T07:21:01.595Z"
   },
   {
    "duration": 0,
    "start_time": "2023-02-06T07:21:01.596Z"
   },
   {
    "duration": 0,
    "start_time": "2023-02-06T07:21:01.745Z"
   },
   {
    "duration": 0,
    "start_time": "2023-02-06T07:21:01.746Z"
   },
   {
    "duration": 0,
    "start_time": "2023-02-06T07:21:01.747Z"
   },
   {
    "duration": 0,
    "start_time": "2023-02-06T07:21:01.748Z"
   },
   {
    "duration": 0,
    "start_time": "2023-02-06T07:21:01.749Z"
   },
   {
    "duration": 0,
    "start_time": "2023-02-06T07:21:01.749Z"
   },
   {
    "duration": 0,
    "start_time": "2023-02-06T07:21:01.750Z"
   },
   {
    "duration": 0,
    "start_time": "2023-02-06T07:21:01.751Z"
   },
   {
    "duration": 0,
    "start_time": "2023-02-06T07:21:01.752Z"
   },
   {
    "duration": 0,
    "start_time": "2023-02-06T07:21:01.753Z"
   },
   {
    "duration": 0,
    "start_time": "2023-02-06T07:21:01.754Z"
   },
   {
    "duration": 0,
    "start_time": "2023-02-06T07:21:01.755Z"
   },
   {
    "duration": 0,
    "start_time": "2023-02-06T07:21:01.756Z"
   },
   {
    "duration": 0,
    "start_time": "2023-02-06T07:21:01.756Z"
   },
   {
    "duration": 0,
    "start_time": "2023-02-06T07:21:01.757Z"
   },
   {
    "duration": 0,
    "start_time": "2023-02-06T07:21:01.758Z"
   },
   {
    "duration": 0,
    "start_time": "2023-02-06T07:21:01.759Z"
   },
   {
    "duration": 0,
    "start_time": "2023-02-06T07:21:01.760Z"
   },
   {
    "duration": 0,
    "start_time": "2023-02-06T07:21:01.761Z"
   },
   {
    "duration": 0,
    "start_time": "2023-02-06T07:21:01.762Z"
   },
   {
    "duration": 0,
    "start_time": "2023-02-06T07:21:01.763Z"
   },
   {
    "duration": 0,
    "start_time": "2023-02-06T07:21:01.764Z"
   },
   {
    "duration": 0,
    "start_time": "2023-02-06T07:21:01.765Z"
   },
   {
    "duration": 0,
    "start_time": "2023-02-06T07:21:01.766Z"
   },
   {
    "duration": 0,
    "start_time": "2023-02-06T07:21:01.767Z"
   },
   {
    "duration": 0,
    "start_time": "2023-02-06T07:21:01.768Z"
   },
   {
    "duration": 0,
    "start_time": "2023-02-06T07:21:01.769Z"
   },
   {
    "duration": 0,
    "start_time": "2023-02-06T07:21:01.770Z"
   },
   {
    "duration": 0,
    "start_time": "2023-02-06T07:21:01.771Z"
   },
   {
    "duration": 0,
    "start_time": "2023-02-06T07:21:01.772Z"
   },
   {
    "duration": 0,
    "start_time": "2023-02-06T07:21:01.773Z"
   },
   {
    "duration": 0,
    "start_time": "2023-02-06T07:21:01.774Z"
   },
   {
    "duration": 0,
    "start_time": "2023-02-06T07:21:01.775Z"
   },
   {
    "duration": 0,
    "start_time": "2023-02-06T07:21:01.776Z"
   },
   {
    "duration": 0,
    "start_time": "2023-02-06T07:21:01.777Z"
   },
   {
    "duration": 0,
    "start_time": "2023-02-06T07:21:01.778Z"
   },
   {
    "duration": 0,
    "start_time": "2023-02-06T07:21:01.779Z"
   },
   {
    "duration": 0,
    "start_time": "2023-02-06T07:21:01.840Z"
   },
   {
    "duration": 4,
    "start_time": "2023-02-06T07:21:31.786Z"
   },
   {
    "duration": 15,
    "start_time": "2023-02-06T07:21:34.428Z"
   },
   {
    "duration": 14,
    "start_time": "2023-02-06T07:22:04.742Z"
   },
   {
    "duration": 19,
    "start_time": "2023-02-06T07:27:07.327Z"
   },
   {
    "duration": 17,
    "start_time": "2023-02-06T07:27:14.708Z"
   },
   {
    "duration": 22,
    "start_time": "2023-02-06T07:28:38.622Z"
   },
   {
    "duration": 4,
    "start_time": "2023-02-06T07:29:15.008Z"
   },
   {
    "duration": 1339,
    "start_time": "2023-02-06T07:29:23.649Z"
   },
   {
    "duration": 7,
    "start_time": "2023-02-06T07:29:33.387Z"
   },
   {
    "duration": 48,
    "start_time": "2023-02-06T07:29:35.081Z"
   },
   {
    "duration": 5,
    "start_time": "2023-02-06T07:29:35.527Z"
   },
   {
    "duration": 13,
    "start_time": "2023-02-06T07:29:36.090Z"
   },
   {
    "duration": 43,
    "start_time": "2023-02-06T07:29:38.436Z"
   },
   {
    "duration": 8,
    "start_time": "2023-02-06T07:29:39.598Z"
   },
   {
    "duration": 5,
    "start_time": "2023-02-06T07:29:40.106Z"
   },
   {
    "duration": 2329,
    "start_time": "2023-02-06T07:29:40.819Z"
   },
   {
    "duration": 106,
    "start_time": "2023-02-06T07:29:43.774Z"
   },
   {
    "duration": 115,
    "start_time": "2023-02-06T07:29:44.543Z"
   },
   {
    "duration": 13,
    "start_time": "2023-02-06T07:29:47.178Z"
   },
   {
    "duration": 15,
    "start_time": "2023-02-06T07:29:48.533Z"
   },
   {
    "duration": 5,
    "start_time": "2023-02-06T07:29:50.126Z"
   },
   {
    "duration": 9,
    "start_time": "2023-02-06T07:29:50.838Z"
   },
   {
    "duration": 4,
    "start_time": "2023-02-06T07:29:57.704Z"
   },
   {
    "duration": 21,
    "start_time": "2023-02-06T07:30:00.298Z"
   },
   {
    "duration": 14,
    "start_time": "2023-02-06T07:30:05.965Z"
   },
   {
    "duration": 8,
    "start_time": "2023-02-06T07:30:10.228Z"
   },
   {
    "duration": 7,
    "start_time": "2023-02-06T07:30:12.331Z"
   },
   {
    "duration": 4,
    "start_time": "2023-02-06T07:30:15.208Z"
   },
   {
    "duration": 4,
    "start_time": "2023-02-06T07:30:17.406Z"
   },
   {
    "duration": 20,
    "start_time": "2023-02-06T07:30:19.644Z"
   },
   {
    "duration": 20,
    "start_time": "2023-02-06T07:30:34.962Z"
   },
   {
    "duration": 3,
    "start_time": "2023-02-06T07:47:07.631Z"
   },
   {
    "duration": 6,
    "start_time": "2023-02-06T07:47:08.151Z"
   },
   {
    "duration": 8,
    "start_time": "2023-02-06T07:47:08.754Z"
   },
   {
    "duration": 5,
    "start_time": "2023-02-06T07:47:10.494Z"
   },
   {
    "duration": 4,
    "start_time": "2023-02-06T07:47:11.746Z"
   },
   {
    "duration": 24,
    "start_time": "2023-02-06T07:47:17.131Z"
   },
   {
    "duration": 17,
    "start_time": "2023-02-06T07:47:19.089Z"
   },
   {
    "duration": 17,
    "start_time": "2023-02-06T07:47:19.894Z"
   },
   {
    "duration": 87,
    "start_time": "2023-02-06T07:47:41.816Z"
   },
   {
    "duration": 89,
    "start_time": "2023-02-06T07:48:34.105Z"
   },
   {
    "duration": 93,
    "start_time": "2023-02-06T07:49:37.347Z"
   },
   {
    "duration": 25,
    "start_time": "2023-02-06T07:49:46.797Z"
   },
   {
    "duration": 26,
    "start_time": "2023-02-06T07:49:56.968Z"
   },
   {
    "duration": 73,
    "start_time": "2023-02-06T07:50:27.566Z"
   },
   {
    "duration": 72,
    "start_time": "2023-02-06T07:50:51.909Z"
   },
   {
    "duration": 3166,
    "start_time": "2023-02-06T07:51:15.781Z"
   },
   {
    "duration": 19,
    "start_time": "2023-02-06T09:49:06.295Z"
   },
   {
    "duration": 40,
    "start_time": "2023-02-06T09:55:03.346Z"
   },
   {
    "duration": 151,
    "start_time": "2023-02-06T09:56:17.341Z"
   },
   {
    "duration": 77,
    "start_time": "2023-02-06T09:57:26.237Z"
   },
   {
    "duration": 5223,
    "start_time": "2023-02-06T09:57:43.536Z"
   },
   {
    "duration": 14,
    "start_time": "2023-02-06T10:01:40.988Z"
   },
   {
    "duration": 20,
    "start_time": "2023-02-06T10:02:39.392Z"
   },
   {
    "duration": 44,
    "start_time": "2023-02-06T10:03:20.501Z"
   },
   {
    "duration": 46,
    "start_time": "2023-02-06T10:03:31.458Z"
   },
   {
    "duration": 2172,
    "start_time": "2023-02-06T10:03:45.954Z"
   },
   {
    "duration": 470,
    "start_time": "2023-02-06T10:05:19.961Z"
   },
   {
    "duration": 368,
    "start_time": "2023-02-06T10:06:57.229Z"
   },
   {
    "duration": 77,
    "start_time": "2023-02-06T10:07:46.793Z"
   },
   {
    "duration": 389,
    "start_time": "2023-02-06T10:08:14.873Z"
   },
   {
    "duration": 3508,
    "start_time": "2023-02-06T10:09:03.932Z"
   },
   {
    "duration": 17827,
    "start_time": "2023-02-06T10:11:59.744Z"
   },
   {
    "duration": 4,
    "start_time": "2023-02-06T10:12:19.448Z"
   },
   {
    "duration": 62,
    "start_time": "2023-02-06T10:12:47.581Z"
   },
   {
    "duration": 373,
    "start_time": "2023-02-06T10:13:25.651Z"
   },
   {
    "duration": 47195,
    "start_time": "2023-02-06T10:14:09.861Z"
   },
   {
    "duration": 5,
    "start_time": "2023-02-06T10:16:18.728Z"
   },
   {
    "duration": 387,
    "start_time": "2023-02-06T10:16:35.401Z"
   },
   {
    "duration": 206,
    "start_time": "2023-02-06T10:16:50.627Z"
   },
   {
    "duration": 3,
    "start_time": "2023-02-06T10:18:08.448Z"
   },
   {
    "duration": 3963,
    "start_time": "2023-02-06T10:18:14.879Z"
   },
   {
    "duration": 10801,
    "start_time": "2023-02-06T10:18:31.369Z"
   },
   {
    "duration": 5,
    "start_time": "2023-02-06T10:18:44.957Z"
   },
   {
    "duration": 206,
    "start_time": "2023-02-06T10:18:59.248Z"
   },
   {
    "duration": 3,
    "start_time": "2023-02-06T10:20:54.176Z"
   },
   {
    "duration": 3,
    "start_time": "2023-02-06T10:21:28.272Z"
   },
   {
    "duration": 14,
    "start_time": "2023-02-06T10:21:58.554Z"
   },
   {
    "duration": 28,
    "start_time": "2023-02-06T10:22:27.597Z"
   },
   {
    "duration": 10,
    "start_time": "2023-02-06T10:23:29.843Z"
   },
   {
    "duration": 281,
    "start_time": "2023-02-06T10:24:40.112Z"
   },
   {
    "duration": 14,
    "start_time": "2023-02-06T10:25:24.228Z"
   },
   {
    "duration": 17,
    "start_time": "2023-02-06T10:25:38.303Z"
   },
   {
    "duration": 7,
    "start_time": "2023-02-06T10:27:58.472Z"
   },
   {
    "duration": 72,
    "start_time": "2023-02-06T10:28:25.257Z"
   },
   {
    "duration": 13,
    "start_time": "2023-02-06T10:28:52.735Z"
   },
   {
    "duration": 2348,
    "start_time": "2023-02-06T10:34:11.141Z"
   },
   {
    "duration": 1320,
    "start_time": "2023-02-06T10:34:13.493Z"
   },
   {
    "duration": 54,
    "start_time": "2023-02-06T10:34:14.815Z"
   },
   {
    "duration": 4,
    "start_time": "2023-02-06T10:34:14.871Z"
   },
   {
    "duration": 15,
    "start_time": "2023-02-06T10:34:14.877Z"
   },
   {
    "duration": 65,
    "start_time": "2023-02-06T10:34:14.894Z"
   },
   {
    "duration": 7,
    "start_time": "2023-02-06T10:34:14.961Z"
   },
   {
    "duration": 8,
    "start_time": "2023-02-06T10:34:14.970Z"
   },
   {
    "duration": 2586,
    "start_time": "2023-02-06T10:34:14.979Z"
   },
   {
    "duration": 132,
    "start_time": "2023-02-06T10:34:17.567Z"
   },
   {
    "duration": 143,
    "start_time": "2023-02-06T10:34:17.701Z"
   },
   {
    "duration": 14,
    "start_time": "2023-02-06T10:34:17.846Z"
   },
   {
    "duration": 77,
    "start_time": "2023-02-06T10:34:17.863Z"
   },
   {
    "duration": 6,
    "start_time": "2023-02-06T10:34:17.944Z"
   },
   {
    "duration": 11,
    "start_time": "2023-02-06T10:34:17.952Z"
   },
   {
    "duration": 4,
    "start_time": "2023-02-06T10:34:17.965Z"
   },
   {
    "duration": 25,
    "start_time": "2023-02-06T10:34:17.972Z"
   },
   {
    "duration": 48,
    "start_time": "2023-02-06T10:34:17.999Z"
   },
   {
    "duration": 9,
    "start_time": "2023-02-06T10:34:18.049Z"
   },
   {
    "duration": 20,
    "start_time": "2023-02-06T10:34:18.061Z"
   },
   {
    "duration": 25,
    "start_time": "2023-02-06T10:34:18.084Z"
   },
   {
    "duration": 7,
    "start_time": "2023-02-06T10:34:18.112Z"
   },
   {
    "duration": 5,
    "start_time": "2023-02-06T10:34:18.121Z"
   },
   {
    "duration": 37,
    "start_time": "2023-02-06T10:34:18.129Z"
   },
   {
    "duration": 4,
    "start_time": "2023-02-06T10:34:18.168Z"
   },
   {
    "duration": 13,
    "start_time": "2023-02-06T10:34:18.174Z"
   },
   {
    "duration": 24,
    "start_time": "2023-02-06T10:34:18.189Z"
   },
   {
    "duration": 11,
    "start_time": "2023-02-06T10:34:18.215Z"
   },
   {
    "duration": 37,
    "start_time": "2023-02-06T10:34:18.228Z"
   },
   {
    "duration": 157,
    "start_time": "2023-02-06T10:34:18.267Z"
   },
   {
    "duration": 22,
    "start_time": "2023-02-06T10:34:18.426Z"
   },
   {
    "duration": 18,
    "start_time": "2023-02-06T10:34:18.450Z"
   },
   {
    "duration": 119,
    "start_time": "2023-02-06T10:34:18.470Z"
   },
   {
    "duration": 108,
    "start_time": "2023-02-06T10:34:18.591Z"
   },
   {
    "duration": 40,
    "start_time": "2023-02-06T10:34:18.701Z"
   },
   {
    "duration": 200,
    "start_time": "2023-02-06T10:34:18.743Z"
   },
   {
    "duration": 3271,
    "start_time": "2023-02-06T10:34:18.945Z"
   },
   {
    "duration": 16,
    "start_time": "2023-02-06T10:34:22.217Z"
   },
   {
    "duration": 105,
    "start_time": "2023-02-06T10:34:22.235Z"
   },
   {
    "duration": 226,
    "start_time": "2023-02-06T10:34:22.343Z"
   },
   {
    "duration": 4964,
    "start_time": "2023-02-06T10:34:22.573Z"
   },
   {
    "duration": 13,
    "start_time": "2023-02-06T10:34:27.539Z"
   },
   {
    "duration": 89,
    "start_time": "2023-02-06T10:34:27.554Z"
   },
   {
    "duration": 147,
    "start_time": "2023-02-06T10:34:27.646Z"
   },
   {
    "duration": 2375,
    "start_time": "2023-02-06T10:34:27.796Z"
   },
   {
    "duration": 436,
    "start_time": "2023-02-06T10:34:30.173Z"
   },
   {
    "duration": 392,
    "start_time": "2023-02-06T10:34:30.612Z"
   },
   {
    "duration": 3651,
    "start_time": "2023-02-06T10:34:31.006Z"
   },
   {
    "duration": 17693,
    "start_time": "2023-02-06T10:34:34.659Z"
   },
   {
    "duration": 4,
    "start_time": "2023-02-06T10:34:52.354Z"
   },
   {
    "duration": 82,
    "start_time": "2023-02-06T10:34:52.359Z"
   },
   {
    "duration": 415,
    "start_time": "2023-02-06T10:34:52.443Z"
   },
   {
    "duration": 48309,
    "start_time": "2023-02-06T10:34:52.860Z"
   },
   {
    "duration": 5,
    "start_time": "2023-02-06T10:35:41.171Z"
   },
   {
    "duration": 426,
    "start_time": "2023-02-06T10:35:41.178Z"
   },
   {
    "duration": 234,
    "start_time": "2023-02-06T10:35:41.605Z"
   },
   {
    "duration": 4222,
    "start_time": "2023-02-06T10:35:41.841Z"
   },
   {
    "duration": 11371,
    "start_time": "2023-02-06T10:35:46.065Z"
   },
   {
    "duration": 5,
    "start_time": "2023-02-06T10:35:57.438Z"
   },
   {
    "duration": 18,
    "start_time": "2023-02-06T10:35:57.445Z"
   },
   {
    "duration": 76,
    "start_time": "2023-02-06T10:35:57.465Z"
   },
   {
    "duration": 142,
    "start_time": "2023-02-06T10:35:57.544Z"
   },
   {
    "duration": 10,
    "start_time": "2023-02-06T10:35:57.688Z"
   },
   {
    "duration": 282,
    "start_time": "2023-02-06T10:35:57.700Z"
   },
   {
    "duration": 13,
    "start_time": "2023-02-06T10:35:57.984Z"
   },
   {
    "duration": 7,
    "start_time": "2023-02-06T10:35:58.000Z"
   }
  ],
  "kernelspec": {
   "display_name": "Python 3 (ipykernel)",
   "language": "python",
   "name": "python3"
  },
  "language_info": {
   "codemirror_mode": {
    "name": "ipython",
    "version": 3
   },
   "file_extension": ".py",
   "mimetype": "text/x-python",
   "name": "python",
   "nbconvert_exporter": "python",
   "pygments_lexer": "ipython3",
   "version": "3.9.5"
  },
  "toc": {
   "base_numbering": 1,
   "nav_menu": {},
   "number_sections": true,
   "sideBar": true,
   "skip_h1_title": true,
   "title_cell": "Содержание",
   "title_sidebar": "Contents",
   "toc_cell": true,
   "toc_position": {
    "height": "calc(100% - 180px)",
    "left": "10px",
    "top": "150px",
    "width": "165px"
   },
   "toc_section_display": true,
   "toc_window_display": false
  }
 },
 "nbformat": 4,
 "nbformat_minor": 2
}
