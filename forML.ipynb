{
 "cells": [
  {
   "cell_type": "markdown",
   "id": "6d4cfb03-b71e-473a-b461-be0fbbd79369",
   "metadata": {},
   "source": [
    "# Анализ изменения цены на медицнские услуги"
   ]
  },
  {
   "cell_type": "markdown",
   "id": "89140e83-05a7-433d-8612-27f69e9ed621",
   "metadata": {
    "tags": []
   },
   "source": [
    "![Nowat](https://cdn.regnum.ru/uploads/pictures/news/2018/04/11/regnum_picture_1523451997376225_normal.jpg)"
   ]
  },
  {
   "cell_type": "markdown",
   "id": "c6b0e92d-6c7c-4e7e-8457-9fdf7be9b901",
   "metadata": {},
   "source": [
    "**Дано**: датасет на 87к строк с построковым описанием медицинских услуг  \n",
    "**Период**: 01.2021 - 08.2022  \n",
    "**Основная задача**: сравнить ценообразование на мед.услуги за два периода\n",
    "**Дополнительные задачи**: проанализировать тенденции, сформулировать гипотезы, выявить причины, которые могли привести к изменению стоимости услуг  \n",
    "\n",
    "**План решения:**\n",
    "1. Знакомство с датасетом\n",
    "2. Предобработка датасета\n",
    "3. Анализ изменения цены\n",
    "4. Проверка гипотез\n",
    "5. Вывод"
   ]
  },
  {
   "cell_type": "markdown",
   "id": "cc52e5b0-0640-42e7-abae-36f3fa28a9c3",
   "metadata": {
    "tags": []
   },
   "source": [
    "**Специфика задачи**  \n",
    "**Медицинский кейс**  - последовательность медицинских услуг, полученных одним застрахованном в одной клинике с интервалом между любыми соседними по дате услугами не более 14 дней. Т.е. между любыми 2-мя соседними услугами в кейсе не должно быть разрыва более 14 дней.\n",
    "\n",
    "**Визит**  - уникальное сочетание даты оказания услуги, застрахованного. Т.е. один визит - это один день, в который застрахованный побывал в клинике. Если был в одной клинике 2 раза, но в разные дни, то это два визита. Если получал услуги (в любом количестве) в одной клинике в один день, то это один визит.\n",
    "\n",
    "Обратившийся в месяц - уникальное сочетание месяца оказания услуги и идентификатора пациента"
   ]
  },
  {
   "cell_type": "markdown",
   "id": "798100cb-2e0e-4d1d-a6b2-6e527c079dbe",
   "metadata": {},
   "source": [
    "**Описание датасета**\n",
    "\n",
    "- record_id- уникальный идентификатор строки данных\n",
    "- service_date - дата оказания медицинской услуги\n",
    "- service_name - наименование медицинской услуги\n",
    "- service_number - количество услуг\n",
    "- service_amount - сумма выплат (стоимость оказанных услуг в рублях)\n",
    "- insured - уникальный идентификатор пациента\n",
    "- sex_id - пол пациента\n",
    "- age_for_service_date - возраст пациента"
   ]
  },
  {
   "cell_type": "markdown",
   "id": "0ebff16c-826d-4f80-8c44-04549d5a30b9",
   "metadata": {
    "tags": []
   },
   "source": [
    "## ON BOARDING"
   ]
  },
  {
   "cell_type": "code",
   "execution_count": 1,
   "id": "05d1041e-800d-45d7-be0f-692caf49c6fd",
   "metadata": {
    "tags": []
   },
   "outputs": [],
   "source": [
    "import pandas as pd\n",
    "import matplotlib.pyplot as plt\n",
    "import seaborn as sns\n",
    "%matplotlib inline\n",
    "sns.set_style(\"darkgrid\")"
   ]
  },
  {
   "cell_type": "markdown",
   "id": "0421ed99-f325-462b-a8f4-5a6dbcbeec08",
   "metadata": {},
   "source": [
    "**Загрузка датасета**"
   ]
  },
  {
   "cell_type": "code",
   "execution_count": 3,
   "id": "a32cbe7a-079e-4d9a-b13e-7951aadad746",
   "metadata": {
    "tags": []
   },
   "outputs": [
    {
     "data": {
      "text/html": [
       "<div>\n",
       "<style scoped>\n",
       "    .dataframe tbody tr th:only-of-type {\n",
       "        vertical-align: middle;\n",
       "    }\n",
       "\n",
       "    .dataframe tbody tr th {\n",
       "        vertical-align: top;\n",
       "    }\n",
       "\n",
       "    .dataframe thead th {\n",
       "        text-align: right;\n",
       "    }\n",
       "</style>\n",
       "<table border=\"1\" class=\"dataframe\">\n",
       "  <thead>\n",
       "    <tr style=\"text-align: right;\">\n",
       "      <th></th>\n",
       "      <th>record_id</th>\n",
       "      <th>service_date</th>\n",
       "      <th>service_name</th>\n",
       "      <th>service_amount</th>\n",
       "      <th>service_number</th>\n",
       "      <th>insured</th>\n",
       "      <th>sex_id</th>\n",
       "      <th>age_for_service_date</th>\n",
       "    </tr>\n",
       "  </thead>\n",
       "  <tbody>\n",
       "    <tr>\n",
       "      <th>8494</th>\n",
       "      <td>30620844303</td>\n",
       "      <td>2021-04-23</td>\n",
       "      <td>Общий анализ крови (лейкоцитарная форм,, СОЭ)</td>\n",
       "      <td>693</td>\n",
       "      <td>1</td>\n",
       "      <td>544636</td>\n",
       "      <td>1.0</td>\n",
       "      <td>22</td>\n",
       "    </tr>\n",
       "    <tr>\n",
       "      <th>11946</th>\n",
       "      <td>30785995403</td>\n",
       "      <td>2021-05-11</td>\n",
       "      <td>Общий анализ крови (лейкоцитарная форм,, СОЭ)</td>\n",
       "      <td>693</td>\n",
       "      <td>1</td>\n",
       "      <td>596456</td>\n",
       "      <td>2.0</td>\n",
       "      <td>37</td>\n",
       "    </tr>\n",
       "    <tr>\n",
       "      <th>85042</th>\n",
       "      <td>33178101503</td>\n",
       "      <td>2022-08-29</td>\n",
       "      <td>Взятие мазка</td>\n",
       "      <td>396</td>\n",
       "      <td>1</td>\n",
       "      <td>1302539</td>\n",
       "      <td>2.0</td>\n",
       "      <td>33</td>\n",
       "    </tr>\n",
       "    <tr>\n",
       "      <th>72836</th>\n",
       "      <td>32801006103</td>\n",
       "      <td>2022-06-14</td>\n",
       "      <td>Прием уролога, первичный</td>\n",
       "      <td>1540</td>\n",
       "      <td>1</td>\n",
       "      <td>744012</td>\n",
       "      <td>2.0</td>\n",
       "      <td>55</td>\n",
       "    </tr>\n",
       "    <tr>\n",
       "      <th>19592</th>\n",
       "      <td>31111759703</td>\n",
       "      <td>2021-07-17</td>\n",
       "      <td>Взятие крови из периферической вены</td>\n",
       "      <td>158</td>\n",
       "      <td>1</td>\n",
       "      <td>651988</td>\n",
       "      <td>2.0</td>\n",
       "      <td>36</td>\n",
       "    </tr>\n",
       "  </tbody>\n",
       "</table>\n",
       "</div>"
      ],
      "text/plain": [
       "         record_id service_date  \\\n",
       "8494   30620844303   2021-04-23   \n",
       "11946  30785995403   2021-05-11   \n",
       "85042  33178101503   2022-08-29   \n",
       "72836  32801006103   2022-06-14   \n",
       "19592  31111759703   2021-07-17   \n",
       "\n",
       "                                        service_name  service_amount  \\\n",
       "8494   Общий анализ крови (лейкоцитарная форм,, СОЭ)             693   \n",
       "11946  Общий анализ крови (лейкоцитарная форм,, СОЭ)             693   \n",
       "85042                                   Взятие мазка             396   \n",
       "72836                       Прием уролога, первичный            1540   \n",
       "19592            Взятие крови из периферической вены             158   \n",
       "\n",
       "       service_number  insured  sex_id  age_for_service_date  \n",
       "8494                1   544636     1.0                    22  \n",
       "11946               1   596456     2.0                    37  \n",
       "85042               1  1302539     2.0                    33  \n",
       "72836               1   744012     2.0                    55  \n",
       "19592               1   651988     2.0                    36  "
      ]
     },
     "execution_count": 3,
     "metadata": {},
     "output_type": "execute_result"
    }
   ],
   "source": [
    "df = pd.read_excel('data_test_task_2022.xlsx')\n",
    "df.sample(5)"
   ]
  },
  {
   "cell_type": "code",
   "execution_count": 4,
   "id": "ec9231fc-5cfb-4cae-9243-b2e3b5404675",
   "metadata": {
    "tags": []
   },
   "outputs": [
    {
     "name": "stdout",
     "output_type": "stream",
     "text": [
      "<class 'pandas.core.frame.DataFrame'>\n",
      "RangeIndex: 85369 entries, 0 to 85368\n",
      "Data columns (total 8 columns):\n",
      " #   Column                Non-Null Count  Dtype  \n",
      "---  ------                --------------  -----  \n",
      " 0   record_id             85369 non-null  int64  \n",
      " 1   service_date          85369 non-null  object \n",
      " 2   service_name          85369 non-null  object \n",
      " 3   service_amount        85369 non-null  int64  \n",
      " 4   service_number        85369 non-null  int64  \n",
      " 5   insured               85369 non-null  int64  \n",
      " 6   sex_id                85348 non-null  float64\n",
      " 7   age_for_service_date  85369 non-null  int64  \n",
      "dtypes: float64(1), int64(5), object(2)\n",
      "memory usage: 5.2+ MB\n"
     ]
    }
   ],
   "source": [
    "df.info()"
   ]
  },
  {
   "cell_type": "markdown",
   "id": "ee4392aa-f3b8-4da2-a2ed-0eed78bbb98b",
   "metadata": {},
   "source": [
    "**Входные данные**"
   ]
  },
  {
   "cell_type": "code",
   "execution_count": 5,
   "id": "cdf40538-9887-4695-a5a0-63dec34f2112",
   "metadata": {
    "tags": []
   },
   "outputs": [
    {
     "name": "stdout",
     "output_type": "stream",
     "text": [
      "Исходный датасет\n",
      "Количество строк 85369\n",
      "Количество столбцов 8\n"
     ]
    }
   ],
   "source": [
    "print('Исходный датасет')\n",
    "print(f'Количество строк {df.shape[0]}')\n",
    "print(f'Количество столбцов {df.shape[1]}')"
   ]
  },
  {
   "cell_type": "markdown",
   "id": "3407c328-8908-45ef-aaf7-76a23835e07f",
   "metadata": {},
   "source": [
    "**Дубликаты**"
   ]
  },
  {
   "cell_type": "code",
   "execution_count": 6,
   "id": "7b9f086a-060d-470b-8268-93a27c1f3161",
   "metadata": {
    "tags": []
   },
   "outputs": [
    {
     "name": "stdout",
     "output_type": "stream",
     "text": [
      "Количество полных дубликтов в датасете 0\n"
     ]
    }
   ],
   "source": [
    "mydups = df.duplicated().sum()\n",
    "print('Количество полных дубликтов в датасете', mydups)"
   ]
  },
  {
   "cell_type": "code",
   "execution_count": 7,
   "id": "2f46e5a6-1301-4190-b0dc-72d60e3c606f",
   "metadata": {
    "tags": []
   },
   "outputs": [
    {
     "data": {
      "image/png": "[encoded data removed]",
      "text/plain": [
       "<Figure size 1440x1080 with 6 Axes>"
      ]
     },
     "metadata": {},
     "output_type": "display_data"
    }
   ],
   "source": [
    "df.hist(bins=50, figsize=(20,15), edgecolor='black', linewidth=2)\n",
    "plt.show()"
   ]
  },
  {
   "cell_type": "markdown",
   "id": "c43ee807-f053-4bc2-95fc-9a4ab9043952",
   "metadata": {},
   "source": [
    "**Пропуски**"
   ]
  },
  {
   "cell_type": "code",
   "execution_count": 8,
   "id": "7ce9e240-caeb-4d1b-9fb2-341eaa651cc6",
   "metadata": {
    "tags": []
   },
   "outputs": [
    {
     "data": {
      "text/html": [
       "<style  type=\"text/css\" >\n",
       "#T_64159_row0_col0,#T_64159_row1_col0,#T_64159_row2_col0,#T_64159_row3_col0,#T_64159_row4_col0,#T_64159_row5_col0,#T_64159_row6_col0,#T_64159_row7_col0{\n",
       "            background-color:  #0000ff;\n",
       "            color:  #f1f1f1;\n",
       "        }</style><table id=\"T_64159_\" ><thead>    <tr>        <th class=\"blank level0\" ></th>        <th class=\"col_heading level0 col0\" >0</th>    </tr></thead><tbody>\n",
       "                <tr>\n",
       "                        <th id=\"T_64159_level0_row0\" class=\"row_heading level0 row0\" >record_id</th>\n",
       "                        <td id=\"T_64159_row0_col0\" class=\"data row0 col0\" >0.000000</td>\n",
       "            </tr>\n",
       "            <tr>\n",
       "                        <th id=\"T_64159_level0_row1\" class=\"row_heading level0 row1\" >service_date</th>\n",
       "                        <td id=\"T_64159_row1_col0\" class=\"data row1 col0\" >0.000000</td>\n",
       "            </tr>\n",
       "            <tr>\n",
       "                        <th id=\"T_64159_level0_row2\" class=\"row_heading level0 row2\" >service_name</th>\n",
       "                        <td id=\"T_64159_row2_col0\" class=\"data row2 col0\" >0.000000</td>\n",
       "            </tr>\n",
       "            <tr>\n",
       "                        <th id=\"T_64159_level0_row3\" class=\"row_heading level0 row3\" >service_amount</th>\n",
       "                        <td id=\"T_64159_row3_col0\" class=\"data row3 col0\" >0.000000</td>\n",
       "            </tr>\n",
       "            <tr>\n",
       "                        <th id=\"T_64159_level0_row4\" class=\"row_heading level0 row4\" >service_number</th>\n",
       "                        <td id=\"T_64159_row4_col0\" class=\"data row4 col0\" >0.000000</td>\n",
       "            </tr>\n",
       "            <tr>\n",
       "                        <th id=\"T_64159_level0_row5\" class=\"row_heading level0 row5\" >insured</th>\n",
       "                        <td id=\"T_64159_row5_col0\" class=\"data row5 col0\" >0.000000</td>\n",
       "            </tr>\n",
       "            <tr>\n",
       "                        <th id=\"T_64159_level0_row6\" class=\"row_heading level0 row6\" >sex_id</th>\n",
       "                        <td id=\"T_64159_row6_col0\" class=\"data row6 col0\" >0.000000</td>\n",
       "            </tr>\n",
       "            <tr>\n",
       "                        <th id=\"T_64159_level0_row7\" class=\"row_heading level0 row7\" >age_for_service_date</th>\n",
       "                        <td id=\"T_64159_row7_col0\" class=\"data row7 col0\" >0.000000</td>\n",
       "            </tr>\n",
       "    </tbody></table>"
      ],
      "text/plain": [
       "<pandas.io.formats.style.Styler at 0x7f43bc76a400>"
      ]
     },
     "execution_count": 8,
     "metadata": {},
     "output_type": "execute_result"
    }
   ],
   "source": [
    "pd.DataFrame(round(df.isna().mean()*100,1)).style.background_gradient('brg')"
   ]
  },
  {
   "cell_type": "markdown",
   "id": "bfc79cb4-b32d-474f-a76e-d942755edbfb",
   "metadata": {},
   "source": [
    "**Период выгрузки**"
   ]
  },
  {
   "cell_type": "code",
   "execution_count": 9,
   "id": "47184bb6-8e3a-4295-919b-9a46a317016b",
   "metadata": {
    "tags": []
   },
   "outputs": [
    {
     "name": "stdout",
     "output_type": "stream",
     "text": [
      "Данные представлены за период c 2021-01-03 по 2022-08-31\n"
     ]
    }
   ],
   "source": [
    "max_date = df['service_date'].max()\n",
    "min_date = df['service_date'].min()\n",
    "print(f'Данные представлены за период c {min_date} по {max_date}')"
   ]
  },
  {
   "cell_type": "code",
   "execution_count": 10,
   "id": "a5fba214-e97f-4e22-8ddb-2d3c36d23400",
   "metadata": {
    "tags": []
   },
   "outputs": [],
   "source": [
    "df['service_date'] = pd.to_datetime(df['service_date'])"
   ]
  },
  {
   "cell_type": "markdown",
   "id": "9e7500b8-ac52-4610-986e-b6df4949cbd3",
   "metadata": {},
   "source": [
    "Рассмотрим распределение оказанных услуг по месяцам."
   ]
  },
  {
   "cell_type": "code",
   "execution_count": 11,
   "id": "59357a45-dfe5-4a6f-ae59-9f389f209061",
   "metadata": {
    "tags": []
   },
   "outputs": [
    {
     "data": {
      "image/png": "[encoded data removed]",
      "text/plain": [
       "<Figure size 1080x720 with 1 Axes>"
      ]
     },
     "metadata": {},
     "output_type": "display_data"
    }
   ],
   "source": [
    "df_all_dates = df['service_date']\n",
    "df_all_dates.groupby([df_all_dates.dt.year, df_all_dates.dt.month]).count().plot(kind=\"bar\", figsize = (15,10), edgecolor='black', linewidth=2)\n",
    "plt.show()"
   ]
  },
  {
   "cell_type": "markdown",
   "id": "9f722a0b-d2f5-4d31-b33c-76c0d3a4c9f0",
   "metadata": {},
   "source": [
    "Если названия услуг статичны, а не произвольны, то мы можем получить данные об изменении стоимости услуг по наиболее популярным услугам.  \n",
    "Проверим верный ли это пусть с помощью value_counts()"
   ]
  },
  {
   "cell_type": "code",
   "execution_count": 12,
   "id": "d2e8d8a5-39f6-46e4-a971-e8a2a450eea2",
   "metadata": {
    "tags": []
   },
   "outputs": [
    {
     "data": {
      "text/html": [
       "<div>\n",
       "<style scoped>\n",
       "    .dataframe tbody tr th:only-of-type {\n",
       "        vertical-align: middle;\n",
       "    }\n",
       "\n",
       "    .dataframe tbody tr th {\n",
       "        vertical-align: top;\n",
       "    }\n",
       "\n",
       "    .dataframe thead th {\n",
       "        text-align: right;\n",
       "    }\n",
       "</style>\n",
       "<table border=\"1\" class=\"dataframe\">\n",
       "  <thead>\n",
       "    <tr style=\"text-align: right;\">\n",
       "      <th></th>\n",
       "      <th>index</th>\n",
       "      <th>service_name</th>\n",
       "    </tr>\n",
       "  </thead>\n",
       "  <tbody>\n",
       "    <tr>\n",
       "      <th>0</th>\n",
       "      <td>Прием первичный</td>\n",
       "      <td>6058</td>\n",
       "    </tr>\n",
       "    <tr>\n",
       "      <th>1</th>\n",
       "      <td>Прием повторный</td>\n",
       "      <td>4477</td>\n",
       "    </tr>\n",
       "    <tr>\n",
       "      <th>2</th>\n",
       "      <td>Взятие крови из периферической вены</td>\n",
       "      <td>4215</td>\n",
       "    </tr>\n",
       "    <tr>\n",
       "      <th>3</th>\n",
       "      <td>Общий анализ крови (лейкоцитарная форм,, СОЭ)</td>\n",
       "      <td>3190</td>\n",
       "    </tr>\n",
       "    <tr>\n",
       "      <th>4</th>\n",
       "      <td>Магнитотерапия (1 сеанс)</td>\n",
       "      <td>2838</td>\n",
       "    </tr>\n",
       "    <tr>\n",
       "      <th>5</th>\n",
       "      <td>Взятие мазка</td>\n",
       "      <td>1567</td>\n",
       "    </tr>\n",
       "    <tr>\n",
       "      <th>6</th>\n",
       "      <td>Общий анализ мочи</td>\n",
       "      <td>1550</td>\n",
       "    </tr>\n",
       "    <tr>\n",
       "      <th>7</th>\n",
       "      <td>Лазеротерапия (1 сеанс)</td>\n",
       "      <td>1313</td>\n",
       "    </tr>\n",
       "    <tr>\n",
       "      <th>8</th>\n",
       "      <td>Интерференционные токи (1 сеанс) (4 поля)</td>\n",
       "      <td>1195</td>\n",
       "    </tr>\n",
       "    <tr>\n",
       "      <th>9</th>\n",
       "      <td>Гинекологический мазок</td>\n",
       "      <td>1194</td>\n",
       "    </tr>\n",
       "    <tr>\n",
       "      <th>10</th>\n",
       "      <td>Прием трапевта, первичный</td>\n",
       "      <td>1157</td>\n",
       "    </tr>\n",
       "    <tr>\n",
       "      <th>11</th>\n",
       "      <td>Прием гинеколога, повторный</td>\n",
       "      <td>1139</td>\n",
       "    </tr>\n",
       "    <tr>\n",
       "      <th>12</th>\n",
       "      <td>Рефрактометрия</td>\n",
       "      <td>909</td>\n",
       "    </tr>\n",
       "    <tr>\n",
       "      <th>13</th>\n",
       "      <td>Прием отоларинголога, первичный</td>\n",
       "      <td>871</td>\n",
       "    </tr>\n",
       "    <tr>\n",
       "      <th>14</th>\n",
       "      <td>Интерпретация ЭКГ с описанием</td>\n",
       "      <td>859</td>\n",
       "    </tr>\n",
       "  </tbody>\n",
       "</table>\n",
       "</div>"
      ],
      "text/plain": [
       "                                            index  service_name\n",
       "0                                 Прием первичный          6058\n",
       "1                                 Прием повторный          4477\n",
       "2             Взятие крови из периферической вены          4215\n",
       "3   Общий анализ крови (лейкоцитарная форм,, СОЭ)          3190\n",
       "4                        Магнитотерапия (1 сеанс)          2838\n",
       "5                                    Взятие мазка          1567\n",
       "6                               Общий анализ мочи          1550\n",
       "7                         Лазеротерапия (1 сеанс)          1313\n",
       "8       Интерференционные токи (1 сеанс) (4 поля)          1195\n",
       "9                          Гинекологический мазок          1194\n",
       "10                      Прием трапевта, первичный          1157\n",
       "11                    Прием гинеколога, повторный          1139\n",
       "12                                 Рефрактометрия           909\n",
       "13                Прием отоларинголога, первичный           871\n",
       "14                  Интерпретация ЭКГ с описанием           859"
      ]
     },
     "execution_count": 12,
     "metadata": {},
     "output_type": "execute_result"
    }
   ],
   "source": [
    "df['service_name'].value_counts().head(15).reset_index()"
   ]
  },
  {
   "cell_type": "code",
   "execution_count": 13,
   "id": "3caac351-a74c-4591-b388-15f63ef44ac3",
   "metadata": {
    "tags": []
   },
   "outputs": [
    {
     "name": "stdout",
     "output_type": "stream",
     "text": [
      "Количество уникальных пациентов в датасете: 4488\n"
     ]
    }
   ],
   "source": [
    "print(f'Количество уникальных пациентов в датасете: {df[\"insured\"].nunique()}')"
   ]
  },
  {
   "cell_type": "markdown",
   "id": "ed3b2436-de35-4744-8b56-55d5359e29f6",
   "metadata": {},
   "source": [
    "Выгрузив топ 15 услуг мы видим, что их частоты вполне достаточно, чтобы сделать вывод об изменении цены."
   ]
  },
  {
   "cell_type": "code",
   "execution_count": 14,
   "id": "d76165ec-2a63-4919-b58d-123e66b4e5c8",
   "metadata": {
    "tags": []
   },
   "outputs": [
    {
     "name": "stdout",
     "output_type": "stream",
     "text": [
      "Среднее количество услуг на одного пациента: 19.0\n"
     ]
    }
   ],
   "source": [
    "print(f'Среднее количество услуг на одного пациента: {round(len(df)/df[\"insured\"].nunique(),0)}')"
   ]
  },
  {
   "cell_type": "markdown",
   "id": "ceb583e5-5214-4b66-9e16-6f45d8dfeaf6",
   "metadata": {},
   "source": [
    "**Вывод**  \n",
    "В рамках задачи был получен датасет по медицинским услугам. Параметры датасета:\n",
    "1. Количество строк - 85 369\n",
    "2. Количество столбцов - 8\n",
    "3. Полные дубликаты - 0\n",
    "4. Пропуски  - 0\n",
    "5. Период  c 2021-01-03 по 2022-08-31 \n",
    "6. Количество ункальных пациентов - 4 488 чел.\n",
    "7. Среднее количество оказанных услуг на 1 пациента за весь период - 19.\n",
    "\n",
    "Распределение по количеству оказанных услуг по месяцам не одинаково. Присутствует сезонность."
   ]
  },
  {
   "cell_type": "markdown",
   "id": "d5854f6e-41a8-4faa-ba72-1d0000e48738",
   "metadata": {},
   "source": [
    "## Предобработка"
   ]
  },
  {
   "cell_type": "markdown",
   "id": "7a8a474c-cd87-4e75-98b3-5e9be2b31791",
   "metadata": {},
   "source": [
    "В столбце service_number указано количество услуг. \n",
    "Проверим указана ли там стоимость за услугу или за услугу * кол-во."
   ]
  },
  {
   "cell_type": "code",
   "execution_count": 15,
   "id": "6c44b15b-3898-48d9-bea1-371f36d4389f",
   "metadata": {
    "tags": []
   },
   "outputs": [
    {
     "data": {
      "text/html": [
       "<div>\n",
       "<style scoped>\n",
       "    .dataframe tbody tr th:only-of-type {\n",
       "        vertical-align: middle;\n",
       "    }\n",
       "\n",
       "    .dataframe tbody tr th {\n",
       "        vertical-align: top;\n",
       "    }\n",
       "\n",
       "    .dataframe thead th {\n",
       "        text-align: right;\n",
       "    }\n",
       "</style>\n",
       "<table border=\"1\" class=\"dataframe\">\n",
       "  <thead>\n",
       "    <tr style=\"text-align: right;\">\n",
       "      <th></th>\n",
       "      <th>record_id</th>\n",
       "      <th>service_date</th>\n",
       "      <th>service_name</th>\n",
       "      <th>service_amount</th>\n",
       "      <th>service_number</th>\n",
       "      <th>insured</th>\n",
       "      <th>sex_id</th>\n",
       "      <th>age_for_service_date</th>\n",
       "    </tr>\n",
       "  </thead>\n",
       "  <tbody>\n",
       "    <tr>\n",
       "      <th>123</th>\n",
       "      <td>30268169303</td>\n",
       "      <td>2021-01-17</td>\n",
       "      <td>Удаление серных пробок (за ухо)</td>\n",
       "      <td>1324</td>\n",
       "      <td>2</td>\n",
       "      <td>243480</td>\n",
       "      <td>1.0</td>\n",
       "      <td>34</td>\n",
       "    </tr>\n",
       "    <tr>\n",
       "      <th>178</th>\n",
       "      <td>30268174803</td>\n",
       "      <td>2021-01-15</td>\n",
       "      <td>Взятие мазка</td>\n",
       "      <td>682</td>\n",
       "      <td>2</td>\n",
       "      <td>221536</td>\n",
       "      <td>1.0</td>\n",
       "      <td>35</td>\n",
       "    </tr>\n",
       "    <tr>\n",
       "      <th>228</th>\n",
       "      <td>30268179803</td>\n",
       "      <td>2021-01-30</td>\n",
       "      <td>Рефрактометрия</td>\n",
       "      <td>1428</td>\n",
       "      <td>2</td>\n",
       "      <td>362887</td>\n",
       "      <td>2.0</td>\n",
       "      <td>31</td>\n",
       "    </tr>\n",
       "    <tr>\n",
       "      <th>402</th>\n",
       "      <td>30268197203</td>\n",
       "      <td>2021-01-04</td>\n",
       "      <td>Взятие материала для цитологического исследования</td>\n",
       "      <td>568</td>\n",
       "      <td>2</td>\n",
       "      <td>176388</td>\n",
       "      <td>2.0</td>\n",
       "      <td>39</td>\n",
       "    </tr>\n",
       "    <tr>\n",
       "      <th>407</th>\n",
       "      <td>30268197703</td>\n",
       "      <td>2021-01-11</td>\n",
       "      <td>Рефрактометрия</td>\n",
       "      <td>1428</td>\n",
       "      <td>2</td>\n",
       "      <td>176388</td>\n",
       "      <td>2.0</td>\n",
       "      <td>39</td>\n",
       "    </tr>\n",
       "  </tbody>\n",
       "</table>\n",
       "</div>"
      ],
      "text/plain": [
       "       record_id service_date  \\\n",
       "123  30268169303   2021-01-17   \n",
       "178  30268174803   2021-01-15   \n",
       "228  30268179803   2021-01-30   \n",
       "402  30268197203   2021-01-04   \n",
       "407  30268197703   2021-01-11   \n",
       "\n",
       "                                          service_name  service_amount  \\\n",
       "123                    Удаление серных пробок (за ухо)            1324   \n",
       "178                                       Взятие мазка             682   \n",
       "228                                     Рефрактометрия            1428   \n",
       "402  Взятие материала для цитологического исследования             568   \n",
       "407                                     Рефрактометрия            1428   \n",
       "\n",
       "     service_number  insured  sex_id  age_for_service_date  \n",
       "123               2   243480     1.0                    34  \n",
       "178               2   221536     1.0                    35  \n",
       "228               2   362887     2.0                    31  \n",
       "402               2   176388     2.0                    39  \n",
       "407               2   176388     2.0                    39  "
      ]
     },
     "execution_count": 15,
     "metadata": {},
     "output_type": "execute_result"
    }
   ],
   "source": [
    "df.query('service_number > 1').head(5)"
   ]
  },
  {
   "cell_type": "code",
   "execution_count": 16,
   "id": "f5c890b9-5b68-4ccd-9ccc-7238e96aca88",
   "metadata": {
    "tags": []
   },
   "outputs": [
    {
     "data": {
      "text/html": [
       "<div>\n",
       "<style scoped>\n",
       "    .dataframe tbody tr th:only-of-type {\n",
       "        vertical-align: middle;\n",
       "    }\n",
       "\n",
       "    .dataframe tbody tr th {\n",
       "        vertical-align: top;\n",
       "    }\n",
       "\n",
       "    .dataframe thead th {\n",
       "        text-align: right;\n",
       "    }\n",
       "</style>\n",
       "<table border=\"1\" class=\"dataframe\">\n",
       "  <thead>\n",
       "    <tr style=\"text-align: right;\">\n",
       "      <th></th>\n",
       "      <th>record_id</th>\n",
       "      <th>service_date</th>\n",
       "      <th>service_name</th>\n",
       "      <th>service_amount</th>\n",
       "      <th>service_number</th>\n",
       "      <th>insured</th>\n",
       "      <th>sex_id</th>\n",
       "      <th>age_for_service_date</th>\n",
       "    </tr>\n",
       "  </thead>\n",
       "  <tbody>\n",
       "    <tr>\n",
       "      <th>228</th>\n",
       "      <td>30268179803</td>\n",
       "      <td>2021-01-30</td>\n",
       "      <td>Рефрактометрия</td>\n",
       "      <td>1428</td>\n",
       "      <td>2</td>\n",
       "      <td>362887</td>\n",
       "      <td>2.0</td>\n",
       "      <td>31</td>\n",
       "    </tr>\n",
       "    <tr>\n",
       "      <th>230</th>\n",
       "      <td>30268180003</td>\n",
       "      <td>2021-01-21</td>\n",
       "      <td>Рефрактометрия</td>\n",
       "      <td>714</td>\n",
       "      <td>1</td>\n",
       "      <td>346621</td>\n",
       "      <td>2.0</td>\n",
       "      <td>39</td>\n",
       "    </tr>\n",
       "    <tr>\n",
       "      <th>274</th>\n",
       "      <td>30268184403</td>\n",
       "      <td>2021-01-22</td>\n",
       "      <td>Рефрактометрия</td>\n",
       "      <td>714</td>\n",
       "      <td>1</td>\n",
       "      <td>490772</td>\n",
       "      <td>2.0</td>\n",
       "      <td>35</td>\n",
       "    </tr>\n",
       "    <tr>\n",
       "      <th>350</th>\n",
       "      <td>30268192003</td>\n",
       "      <td>2021-01-23</td>\n",
       "      <td>Рефрактометрия</td>\n",
       "      <td>714</td>\n",
       "      <td>1</td>\n",
       "      <td>488030</td>\n",
       "      <td>2.0</td>\n",
       "      <td>23</td>\n",
       "    </tr>\n",
       "    <tr>\n",
       "      <th>384</th>\n",
       "      <td>30268195403</td>\n",
       "      <td>2021-01-16</td>\n",
       "      <td>Рефрактометрия</td>\n",
       "      <td>714</td>\n",
       "      <td>1</td>\n",
       "      <td>490825</td>\n",
       "      <td>2.0</td>\n",
       "      <td>25</td>\n",
       "    </tr>\n",
       "    <tr>\n",
       "      <th>407</th>\n",
       "      <td>30268197703</td>\n",
       "      <td>2021-01-11</td>\n",
       "      <td>Рефрактометрия</td>\n",
       "      <td>1428</td>\n",
       "      <td>2</td>\n",
       "      <td>176388</td>\n",
       "      <td>2.0</td>\n",
       "      <td>39</td>\n",
       "    </tr>\n",
       "    <tr>\n",
       "      <th>471</th>\n",
       "      <td>30268204103</td>\n",
       "      <td>2021-01-21</td>\n",
       "      <td>Рефрактометрия</td>\n",
       "      <td>714</td>\n",
       "      <td>1</td>\n",
       "      <td>490556</td>\n",
       "      <td>2.0</td>\n",
       "      <td>11</td>\n",
       "    </tr>\n",
       "    <tr>\n",
       "      <th>786</th>\n",
       "      <td>30268235603</td>\n",
       "      <td>2021-01-19</td>\n",
       "      <td>Рефрактометрия</td>\n",
       "      <td>714</td>\n",
       "      <td>1</td>\n",
       "      <td>194724</td>\n",
       "      <td>2.0</td>\n",
       "      <td>31</td>\n",
       "    </tr>\n",
       "  </tbody>\n",
       "</table>\n",
       "</div>"
      ],
      "text/plain": [
       "       record_id service_date    service_name  service_amount  service_number  \\\n",
       "228  30268179803   2021-01-30  Рефрактометрия            1428               2   \n",
       "230  30268180003   2021-01-21  Рефрактометрия             714               1   \n",
       "274  30268184403   2021-01-22  Рефрактометрия             714               1   \n",
       "350  30268192003   2021-01-23  Рефрактометрия             714               1   \n",
       "384  30268195403   2021-01-16  Рефрактометрия             714               1   \n",
       "407  30268197703   2021-01-11  Рефрактометрия            1428               2   \n",
       "471  30268204103   2021-01-21  Рефрактометрия             714               1   \n",
       "786  30268235603   2021-01-19  Рефрактометрия             714               1   \n",
       "\n",
       "     insured  sex_id  age_for_service_date  \n",
       "228   362887     2.0                    31  \n",
       "230   346621     2.0                    39  \n",
       "274   490772     2.0                    35  \n",
       "350   488030     2.0                    23  \n",
       "384   490825     2.0                    25  \n",
       "407   176388     2.0                    39  \n",
       "471   490556     2.0                    11  \n",
       "786   194724     2.0                    31  "
      ]
     },
     "execution_count": 16,
     "metadata": {},
     "output_type": "execute_result"
    }
   ],
   "source": [
    "df.loc[df['service_name'] == 'Рефрактометрия'].head(8)"
   ]
  },
  {
   "cell_type": "markdown",
   "id": "bbfc232b-e47e-4bf1-a082-e35025b313e9",
   "metadata": {},
   "source": [
    "Да, указана совокупная стоимость.  \n",
    "Необходимо создать отдельный столбец со стоимостью именно услуги."
   ]
  },
  {
   "cell_type": "code",
   "execution_count": 17,
   "id": "a2b7fa7d-c584-4ad2-a407-54157a22e71c",
   "metadata": {
    "tags": []
   },
   "outputs": [],
   "source": [
    "df['service_price'] = df['service_amount'] / df['service_number'] "
   ]
  },
  {
   "cell_type": "markdown",
   "id": "7cf8d92d-683e-4fdc-a4f4-870209b70171",
   "metadata": {},
   "source": [
    "Так же создадим доп.столбец с сегментом по возрасту клиента. Используем типовые сегменты."
   ]
  },
  {
   "cell_type": "code",
   "execution_count": 21,
   "id": "d52ab749-e3e8-4723-b4ad-eb6638904440",
   "metadata": {
    "tags": []
   },
   "outputs": [],
   "source": [
    "def categorize_age(age):\n",
    "    if age > 17 and age <24:\n",
    "        return '1. 18-24'\n",
    "    elif age >= 24 and age <30:\n",
    "        return '2. 24-30'\n",
    "    elif age >= 30 and age <36:\n",
    "        return '3. 30-36'\n",
    "    elif age >= 36 and age <42:\n",
    "        return '4. 36-42'\n",
    "    elif age >= 42 and age <48:\n",
    "        return '5. 42-48'\n",
    "    elif age >= 48 and age <54:\n",
    "        return '6. 48-54'\n",
    "    elif age >= 54 and age <60:\n",
    "        return '7. 54 - 60'\n",
    "    elif age >= 60:\n",
    "        return '8. 60+'\n",
    "    elif age < 18:\n",
    "        return '0. до 18'"
   ]
  },
  {
   "cell_type": "code",
   "execution_count": 22,
   "id": "98ab8d42-a3dc-4d0b-a9c4-00a2786fcd3b",
   "metadata": {
    "tags": []
   },
   "outputs": [],
   "source": [
    "df['age_group'] = df['age_for_service_date'].apply(categorize_age)"
   ]
  },
  {
   "cell_type": "code",
   "execution_count": 23,
   "id": "b0aeaa8e-ddf2-4f91-a868-e7a28c6f2ff1",
   "metadata": {
    "tags": []
   },
   "outputs": [
    {
     "data": {
      "text/html": [
       "<style  type=\"text/css\" >\n",
       "#T_88f93_row0_col0,#T_88f93_row1_col0,#T_88f93_row2_col0,#T_88f93_row3_col0,#T_88f93_row4_col0,#T_88f93_row5_col0,#T_88f93_row6_col0,#T_88f93_row7_col0,#T_88f93_row8_col0,#T_88f93_row9_col0{\n",
       "            background-color:  #0000ff;\n",
       "            color:  #f1f1f1;\n",
       "        }</style><table id=\"T_88f93_\" ><thead>    <tr>        <th class=\"blank level0\" ></th>        <th class=\"col_heading level0 col0\" >0</th>    </tr></thead><tbody>\n",
       "                <tr>\n",
       "                        <th id=\"T_88f93_level0_row0\" class=\"row_heading level0 row0\" >record_id</th>\n",
       "                        <td id=\"T_88f93_row0_col0\" class=\"data row0 col0\" >0.000000</td>\n",
       "            </tr>\n",
       "            <tr>\n",
       "                        <th id=\"T_88f93_level0_row1\" class=\"row_heading level0 row1\" >service_date</th>\n",
       "                        <td id=\"T_88f93_row1_col0\" class=\"data row1 col0\" >0.000000</td>\n",
       "            </tr>\n",
       "            <tr>\n",
       "                        <th id=\"T_88f93_level0_row2\" class=\"row_heading level0 row2\" >service_name</th>\n",
       "                        <td id=\"T_88f93_row2_col0\" class=\"data row2 col0\" >0.000000</td>\n",
       "            </tr>\n",
       "            <tr>\n",
       "                        <th id=\"T_88f93_level0_row3\" class=\"row_heading level0 row3\" >service_amount</th>\n",
       "                        <td id=\"T_88f93_row3_col0\" class=\"data row3 col0\" >0.000000</td>\n",
       "            </tr>\n",
       "            <tr>\n",
       "                        <th id=\"T_88f93_level0_row4\" class=\"row_heading level0 row4\" >service_number</th>\n",
       "                        <td id=\"T_88f93_row4_col0\" class=\"data row4 col0\" >0.000000</td>\n",
       "            </tr>\n",
       "            <tr>\n",
       "                        <th id=\"T_88f93_level0_row5\" class=\"row_heading level0 row5\" >insured</th>\n",
       "                        <td id=\"T_88f93_row5_col0\" class=\"data row5 col0\" >0.000000</td>\n",
       "            </tr>\n",
       "            <tr>\n",
       "                        <th id=\"T_88f93_level0_row6\" class=\"row_heading level0 row6\" >sex_id</th>\n",
       "                        <td id=\"T_88f93_row6_col0\" class=\"data row6 col0\" >0.000000</td>\n",
       "            </tr>\n",
       "            <tr>\n",
       "                        <th id=\"T_88f93_level0_row7\" class=\"row_heading level0 row7\" >age_for_service_date</th>\n",
       "                        <td id=\"T_88f93_row7_col0\" class=\"data row7 col0\" >0.000000</td>\n",
       "            </tr>\n",
       "            <tr>\n",
       "                        <th id=\"T_88f93_level0_row8\" class=\"row_heading level0 row8\" >service_price</th>\n",
       "                        <td id=\"T_88f93_row8_col0\" class=\"data row8 col0\" >0.000000</td>\n",
       "            </tr>\n",
       "            <tr>\n",
       "                        <th id=\"T_88f93_level0_row9\" class=\"row_heading level0 row9\" >age_group</th>\n",
       "                        <td id=\"T_88f93_row9_col0\" class=\"data row9 col0\" >0.000000</td>\n",
       "            </tr>\n",
       "    </tbody></table>"
      ],
      "text/plain": [
       "<pandas.io.formats.style.Styler at 0x7f433b46aa60>"
      ]
     },
     "execution_count": 23,
     "metadata": {},
     "output_type": "execute_result"
    }
   ],
   "source": [
    "pd.DataFrame(round(df.isna().mean()*100,1)).style.background_gradient('brg')"
   ]
  },
  {
   "cell_type": "markdown",
   "id": "6dfff641-1152-4ab2-a4cc-7cab0d72324b",
   "metadata": {},
   "source": [
    "В рамках предобработки:\n",
    "- было добавлено 2 новых столбца\n",
    "- была произведена повторная проверка на пропуски(не выявлено)"
   ]
  },
  {
   "cell_type": "markdown",
   "id": "58c66b62-6f51-4d2e-96ed-645674e5940a",
   "metadata": {},
   "source": [
    "## Проверка гипотез"
   ]
  },
  {
   "cell_type": "markdown",
   "id": "485f3345-b626-4de4-a349-04d5b243c352",
   "metadata": {},
   "source": [
    "### Гипотеза 1\n",
    "**Стоимость лечения в 2022 не изменилась по сравнению с показателями 2021 года.**\n",
    "\n",
    "\n",
    "Для этого нам необходимо взять идентичные календарные периоды. \n",
    "Разделим выборки."
   ]
  },
  {
   "cell_type": "code",
   "execution_count": 24,
   "id": "c07f898b-412d-439c-a037-ab18216313d4",
   "metadata": {
    "tags": []
   },
   "outputs": [],
   "source": [
    "df_2021 = df.loc[df['service_date'].dt.year == 2021]\n",
    "df_2021 = df_2021.loc[df_2021['service_date'].dt.month <= 8]\n",
    "df_2022 = df.loc[df['service_date'].dt.year == 2022]"
   ]
  },
  {
   "cell_type": "code",
   "execution_count": 25,
   "id": "2617e92d-824e-445f-90df-77fa60f1b047",
   "metadata": {
    "tags": []
   },
   "outputs": [
    {
     "data": {
      "image/png": "[encoded data removed]",
      "text/plain": [
       "<Figure size 1080x360 with 1 Axes>"
      ]
     },
     "metadata": {},
     "output_type": "display_data"
    }
   ],
   "source": [
    "df_2021.groupby(df_2021['service_date'].dt.month)['record_id'].count().plot(\n",
    "    kind='bar', y='record_id', figsize=(15,5), edgecolor='black')\n",
    "plt.title('Частота услуг за 8 мес. 2021')\n",
    "plt.xticks(rotation=0)\n",
    "plt.xlabel('Месяц')\n",
    "plt.show()"
   ]
  },
  {
   "cell_type": "code",
   "execution_count": 26,
   "id": "300e4dcb-7b81-4013-a1a0-7e7cbd690173",
   "metadata": {
    "tags": []
   },
   "outputs": [
    {
     "data": {
      "image/png": "[encoded data removed]",
      "text/plain": [
       "<Figure size 1080x360 with 1 Axes>"
      ]
     },
     "metadata": {},
     "output_type": "display_data"
    }
   ],
   "source": [
    "df_2022.groupby(df_2022['service_date'].dt.month)['record_id'].count().plot(\n",
    "    kind='bar', y='record_id', figsize=(15,5), edgecolor='black')\n",
    "plt.title('Частота услуг за 8 мес. 2022')\n",
    "plt.xticks(rotation=0)\n",
    "plt.xlabel('Месяц')\n",
    "plt.show()"
   ]
  },
  {
   "cell_type": "markdown",
   "id": "8a1130fb-c0f3-4487-b7bd-c584b2308953",
   "metadata": {},
   "source": [
    "Судя по распределению часть данных за август 2022 может отсутствовать. Вероятно не все данные догрузились. Можно было бы списать такой спад на сезонность, но в 2021 такой спад по количеству услуг не наблюдается."
   ]
  },
  {
   "cell_type": "code",
   "execution_count": 27,
   "id": "9a244cd9-765f-4476-92d6-4ad355a52739",
   "metadata": {
    "tags": []
   },
   "outputs": [
    {
     "name": "stdout",
     "output_type": "stream",
     "text": [
      "Количество записей за 2021 год 26736\n",
      "Количество записей за 2022 год 40977\n"
     ]
    }
   ],
   "source": [
    "print(f'Количество записей за 2021 год {len(df_2021)}')\n",
    "print(f'Количество записей за 2022 год {len(df_2022)}')"
   ]
  },
  {
   "cell_type": "markdown",
   "id": "508b6767-a604-42e2-9ad1-d213191f21d0",
   "metadata": {},
   "source": [
    "Предварительно можно сделать вывод, что увеличилось количество оказанных услуг. Проверим коллерирует ли это с количеством уникальных клиентов."
   ]
  },
  {
   "cell_type": "code",
   "execution_count": 28,
   "id": "e3465983-f593-48e9-8142-3e160af40918",
   "metadata": {
    "tags": []
   },
   "outputs": [
    {
     "name": "stdout",
     "output_type": "stream",
     "text": [
      "Количество уникальных пациентов в 2021 году 1733\n",
      "Количество уникальных пациентов в 2022 году 2757\n"
     ]
    }
   ],
   "source": [
    "print(f'Количество уникальных пациентов в 2021 году {df_2021[\"insured\"].nunique()}')\n",
    "print(f'Количество уникальных пациентов в 2022 году {df_2022[\"insured\"].nunique()}')"
   ]
  },
  {
   "cell_type": "markdown",
   "id": "5f684635-b5f8-4286-94d8-73e261299cc7",
   "metadata": {
    "tags": []
   },
   "source": [
    "Да, в 2022 году выросло количество клиентов посещаемых клинику."
   ]
  },
  {
   "cell_type": "code",
   "execution_count": 29,
   "id": "528b6c77-a21e-4a8c-8204-0c5ecbfc7568",
   "metadata": {
    "tags": []
   },
   "outputs": [
    {
     "name": "stdout",
     "output_type": "stream",
     "text": [
      "Среднее количество услуг на одного пациента в 2021: 15.43\n",
      "Среднее количество услуг на одного пациента в 2022: 14.86\n"
     ]
    }
   ],
   "source": [
    "print(f'Среднее количество услуг на одного пациента в 2021: {round(len(df_2021)/df_2021[\"insured\"].nunique(),2)}')\n",
    "print(f'Среднее количество услуг на одного пациента в 2022: {round(len(df_2022)/df_2022[\"insured\"].nunique(),2)}')"
   ]
  },
  {
   "cell_type": "markdown",
   "id": "5efd761d-5dff-491f-b0e0-b63bdf465280",
   "metadata": {
    "tags": []
   },
   "source": [
    "**Вывод:** показатель среднего количество оказанных услуг на одного пользователя практически не отличается.\n",
    "Изучим популярность услуг по годам."
   ]
  },
  {
   "cell_type": "code",
   "execution_count": 30,
   "id": "1aff19f8-f5bc-48d1-9e8f-983375f43a3f",
   "metadata": {
    "tags": []
   },
   "outputs": [
    {
     "data": {
      "text/html": [
       "<div>\n",
       "<style scoped>\n",
       "    .dataframe tbody tr th:only-of-type {\n",
       "        vertical-align: middle;\n",
       "    }\n",
       "\n",
       "    .dataframe tbody tr th {\n",
       "        vertical-align: top;\n",
       "    }\n",
       "\n",
       "    .dataframe thead th {\n",
       "        text-align: right;\n",
       "    }\n",
       "</style>\n",
       "<table border=\"1\" class=\"dataframe\">\n",
       "  <thead>\n",
       "    <tr style=\"text-align: right;\">\n",
       "      <th></th>\n",
       "      <th>index</th>\n",
       "      <th>service_name</th>\n",
       "    </tr>\n",
       "  </thead>\n",
       "  <tbody>\n",
       "    <tr>\n",
       "      <th>0</th>\n",
       "      <td>Прием первичный</td>\n",
       "      <td>4478</td>\n",
       "    </tr>\n",
       "    <tr>\n",
       "      <th>1</th>\n",
       "      <td>Прием повторный</td>\n",
       "      <td>3295</td>\n",
       "    </tr>\n",
       "    <tr>\n",
       "      <th>2</th>\n",
       "      <td>Взятие крови из периферической вены</td>\n",
       "      <td>1297</td>\n",
       "    </tr>\n",
       "    <tr>\n",
       "      <th>3</th>\n",
       "      <td>Общий анализ крови (лейкоцитарная форм,, СОЭ)</td>\n",
       "      <td>995</td>\n",
       "    </tr>\n",
       "    <tr>\n",
       "      <th>4</th>\n",
       "      <td>Магнитотерапия (1 сеанс)</td>\n",
       "      <td>806</td>\n",
       "    </tr>\n",
       "    <tr>\n",
       "      <th>5</th>\n",
       "      <td>Общий анализ мочи</td>\n",
       "      <td>491</td>\n",
       "    </tr>\n",
       "    <tr>\n",
       "      <th>6</th>\n",
       "      <td>Взятие мазка</td>\n",
       "      <td>396</td>\n",
       "    </tr>\n",
       "    <tr>\n",
       "      <th>7</th>\n",
       "      <td>Гинекологический мазок</td>\n",
       "      <td>376</td>\n",
       "    </tr>\n",
       "    <tr>\n",
       "      <th>8</th>\n",
       "      <td>Интерференционные токи (1 сеанс) (4 поля)</td>\n",
       "      <td>366</td>\n",
       "    </tr>\n",
       "    <tr>\n",
       "      <th>9</th>\n",
       "      <td>Лазеротерапия (1 сеанс)</td>\n",
       "      <td>344</td>\n",
       "    </tr>\n",
       "    <tr>\n",
       "      <th>10</th>\n",
       "      <td>Сеанс рефлексотерапии</td>\n",
       "      <td>313</td>\n",
       "    </tr>\n",
       "    <tr>\n",
       "      <th>11</th>\n",
       "      <td>Рефрактометрия</td>\n",
       "      <td>310</td>\n",
       "    </tr>\n",
       "  </tbody>\n",
       "</table>\n",
       "</div>"
      ],
      "text/plain": [
       "                                            index  service_name\n",
       "0                                 Прием первичный          4478\n",
       "1                                 Прием повторный          3295\n",
       "2             Взятие крови из периферической вены          1297\n",
       "3   Общий анализ крови (лейкоцитарная форм,, СОЭ)           995\n",
       "4                        Магнитотерапия (1 сеанс)           806\n",
       "5                               Общий анализ мочи           491\n",
       "6                                    Взятие мазка           396\n",
       "7                          Гинекологический мазок           376\n",
       "8       Интерференционные токи (1 сеанс) (4 поля)           366\n",
       "9                         Лазеротерапия (1 сеанс)           344\n",
       "10                          Сеанс рефлексотерапии           313\n",
       "11                                 Рефрактометрия           310"
      ]
     },
     "execution_count": 30,
     "metadata": {},
     "output_type": "execute_result"
    }
   ],
   "source": [
    "df_2021['service_name'].value_counts().head(12).reset_index()"
   ]
  },
  {
   "cell_type": "code",
   "execution_count": 31,
   "id": "aecb3336-35d4-400e-9213-96351fc639da",
   "metadata": {
    "tags": []
   },
   "outputs": [
    {
     "data": {
      "text/html": [
       "<div>\n",
       "<style scoped>\n",
       "    .dataframe tbody tr th:only-of-type {\n",
       "        vertical-align: middle;\n",
       "    }\n",
       "\n",
       "    .dataframe tbody tr th {\n",
       "        vertical-align: top;\n",
       "    }\n",
       "\n",
       "    .dataframe thead th {\n",
       "        text-align: right;\n",
       "    }\n",
       "</style>\n",
       "<table border=\"1\" class=\"dataframe\">\n",
       "  <thead>\n",
       "    <tr style=\"text-align: right;\">\n",
       "      <th></th>\n",
       "      <th>index</th>\n",
       "      <th>service_name</th>\n",
       "    </tr>\n",
       "  </thead>\n",
       "  <tbody>\n",
       "    <tr>\n",
       "      <th>0</th>\n",
       "      <td>Взятие крови из периферической вены</td>\n",
       "      <td>2024</td>\n",
       "    </tr>\n",
       "    <tr>\n",
       "      <th>1</th>\n",
       "      <td>Общий анализ крови (лейкоцитарная форм,, СОЭ)</td>\n",
       "      <td>1517</td>\n",
       "    </tr>\n",
       "    <tr>\n",
       "      <th>2</th>\n",
       "      <td>Магнитотерапия (1 сеанс)</td>\n",
       "      <td>1449</td>\n",
       "    </tr>\n",
       "    <tr>\n",
       "      <th>3</th>\n",
       "      <td>Прием гинеколога, повторный</td>\n",
       "      <td>964</td>\n",
       "    </tr>\n",
       "    <tr>\n",
       "      <th>4</th>\n",
       "      <td>Прием трапевта, первичный</td>\n",
       "      <td>936</td>\n",
       "    </tr>\n",
       "    <tr>\n",
       "      <th>5</th>\n",
       "      <td>Взятие мазка</td>\n",
       "      <td>897</td>\n",
       "    </tr>\n",
       "    <tr>\n",
       "      <th>6</th>\n",
       "      <td>Прием отоларинголога, первичный</td>\n",
       "      <td>721</td>\n",
       "    </tr>\n",
       "    <tr>\n",
       "      <th>7</th>\n",
       "      <td>Общий анализ мочи</td>\n",
       "      <td>711</td>\n",
       "    </tr>\n",
       "    <tr>\n",
       "      <th>8</th>\n",
       "      <td>Прием невролога, первичный</td>\n",
       "      <td>690</td>\n",
       "    </tr>\n",
       "    <tr>\n",
       "      <th>9</th>\n",
       "      <td>Лазеротерапия (1 сеанс)</td>\n",
       "      <td>656</td>\n",
       "    </tr>\n",
       "    <tr>\n",
       "      <th>10</th>\n",
       "      <td>Гинекологический мазок</td>\n",
       "      <td>614</td>\n",
       "    </tr>\n",
       "    <tr>\n",
       "      <th>11</th>\n",
       "      <td>Интерференционные токи (1 сеанс) (4 поля)</td>\n",
       "      <td>585</td>\n",
       "    </tr>\n",
       "  </tbody>\n",
       "</table>\n",
       "</div>"
      ],
      "text/plain": [
       "                                            index  service_name\n",
       "0             Взятие крови из периферической вены          2024\n",
       "1   Общий анализ крови (лейкоцитарная форм,, СОЭ)          1517\n",
       "2                        Магнитотерапия (1 сеанс)          1449\n",
       "3                     Прием гинеколога, повторный           964\n",
       "4                       Прием трапевта, первичный           936\n",
       "5                                    Взятие мазка           897\n",
       "6                 Прием отоларинголога, первичный           721\n",
       "7                               Общий анализ мочи           711\n",
       "8                      Прием невролога, первичный           690\n",
       "9                         Лазеротерапия (1 сеанс)           656\n",
       "10                         Гинекологический мазок           614\n",
       "11      Интерференционные токи (1 сеанс) (4 поля)           585"
      ]
     },
     "execution_count": 31,
     "metadata": {},
     "output_type": "execute_result"
    }
   ],
   "source": [
    "df_2022['service_name'].value_counts().head(12).reset_index()"
   ]
  },
  {
   "cell_type": "markdown",
   "id": "ed4f3573-730c-4d27-9759-7a6337510b31",
   "metadata": {},
   "source": [
    "**Вывод**:  \n",
    "Лидеры оказанных услуг за 2021 и 2022 отличаются. Вероятно это связано с доп.сегментацией услуг. Например, если в 2021 по \"Приёму\" было всего два сегмента: первичный и повторный, то уже в 2022 сегментация приёмов сделана более детально, по специалистам. \n",
    "При этом, на лабораторные услуги названия сохранились. Их можно сравнивать. Для этого возьмём по 200 самых популярных услуг за каждый период."
   ]
  },
  {
   "cell_type": "code",
   "execution_count": 33,
   "id": "e54b81d9-1227-43e8-a498-1e827e832d40",
   "metadata": {
    "tags": []
   },
   "outputs": [
    {
     "data": {
      "text/plain": [
       "134"
      ]
     },
     "execution_count": 33,
     "metadata": {},
     "output_type": "execute_result"
    }
   ],
   "source": [
    "df21 = df_2021.groupby('service_name')['service_price'].agg(['count', 'mean']).sort_values(by=['count'], ascending=False).head(200)\n",
    "df22 = df_2022.groupby('service_name')['service_price'].agg(['count', 'mean']).sort_values(by=['count'], ascending=False).head(200)\n",
    "merged_df = df21.merge(df22, on='service_name', suffixes=('_2021', '_2022'))\n",
    "len(merged_df)"
   ]
  },
  {
   "cell_type": "markdown",
   "id": "39a5d830-e09c-4493-b8ff-f4fb4319cdec",
   "metadata": {
    "tags": []
   },
   "source": [
    "В результате объединения мы получили 134 идентичные(по названию) услуги по которым можно проводить сравнение стоимости "
   ]
  },
  {
   "cell_type": "code",
   "execution_count": 34,
   "id": "0e0b9e05-e908-438b-81dd-119015c020a3",
   "metadata": {
    "tags": []
   },
   "outputs": [
    {
     "data": {
      "text/html": [
       "<div>\n",
       "<style scoped>\n",
       "    .dataframe tbody tr th:only-of-type {\n",
       "        vertical-align: middle;\n",
       "    }\n",
       "\n",
       "    .dataframe tbody tr th {\n",
       "        vertical-align: top;\n",
       "    }\n",
       "\n",
       "    .dataframe thead th {\n",
       "        text-align: right;\n",
       "    }\n",
       "</style>\n",
       "<table border=\"1\" class=\"dataframe\">\n",
       "  <thead>\n",
       "    <tr style=\"text-align: right;\">\n",
       "      <th></th>\n",
       "      <th>count_2021</th>\n",
       "      <th>mean_2021</th>\n",
       "      <th>count_2022</th>\n",
       "      <th>mean_2022</th>\n",
       "    </tr>\n",
       "    <tr>\n",
       "      <th>service_name</th>\n",
       "      <th></th>\n",
       "      <th></th>\n",
       "      <th></th>\n",
       "      <th></th>\n",
       "    </tr>\n",
       "  </thead>\n",
       "  <tbody>\n",
       "    <tr>\n",
       "      <th>Взятие крови из периферической вены</th>\n",
       "      <td>1297</td>\n",
       "      <td>158.000000</td>\n",
       "      <td>2024</td>\n",
       "      <td>173.191700</td>\n",
       "    </tr>\n",
       "    <tr>\n",
       "      <th>Общий анализ крови (лейкоцитарная форм,, СОЭ)</th>\n",
       "      <td>995</td>\n",
       "      <td>693.000000</td>\n",
       "      <td>1517</td>\n",
       "      <td>744.133158</td>\n",
       "    </tr>\n",
       "    <tr>\n",
       "      <th>Магнитотерапия (1 сеанс)</th>\n",
       "      <td>806</td>\n",
       "      <td>1040.000000</td>\n",
       "      <td>1449</td>\n",
       "      <td>1096.356108</td>\n",
       "    </tr>\n",
       "    <tr>\n",
       "      <th>Общий анализ мочи</th>\n",
       "      <td>491</td>\n",
       "      <td>431.000000</td>\n",
       "      <td>711</td>\n",
       "      <td>458.924051</td>\n",
       "    </tr>\n",
       "    <tr>\n",
       "      <th>Взятие мазка</th>\n",
       "      <td>396</td>\n",
       "      <td>340.280303</td>\n",
       "      <td>897</td>\n",
       "      <td>367.979933</td>\n",
       "    </tr>\n",
       "    <tr>\n",
       "      <th>Гинекологический мазок</th>\n",
       "      <td>376</td>\n",
       "      <td>525.000000</td>\n",
       "      <td>614</td>\n",
       "      <td>560.423453</td>\n",
       "    </tr>\n",
       "    <tr>\n",
       "      <th>Интерференционные токи (1 сеанс) (4 поля)</th>\n",
       "      <td>366</td>\n",
       "      <td>1040.000000</td>\n",
       "      <td>585</td>\n",
       "      <td>1097.641026</td>\n",
       "    </tr>\n",
       "    <tr>\n",
       "      <th>Лазеротерапия (1 сеанс)</th>\n",
       "      <td>344</td>\n",
       "      <td>914.000000</td>\n",
       "      <td>656</td>\n",
       "      <td>966.265244</td>\n",
       "    </tr>\n",
       "    <tr>\n",
       "      <th>Сеанс рефлексотерапии</th>\n",
       "      <td>313</td>\n",
       "      <td>1827.000000</td>\n",
       "      <td>342</td>\n",
       "      <td>1932.807018</td>\n",
       "    </tr>\n",
       "    <tr>\n",
       "      <th>Рефрактометрия</th>\n",
       "      <td>310</td>\n",
       "      <td>714.000000</td>\n",
       "      <td>420</td>\n",
       "      <td>763.571429</td>\n",
       "    </tr>\n",
       "    <tr>\n",
       "      <th>Интерпретация ЭКГ с описанием</th>\n",
       "      <td>263</td>\n",
       "      <td>525.000000</td>\n",
       "      <td>423</td>\n",
       "      <td>559.231678</td>\n",
       "    </tr>\n",
       "    <tr>\n",
       "      <th>Снятие ЭКГ (без интерпретации и описания)</th>\n",
       "      <td>260</td>\n",
       "      <td>378.000000</td>\n",
       "      <td>425</td>\n",
       "      <td>406.682353</td>\n",
       "    </tr>\n",
       "    <tr>\n",
       "      <th>Глюкоза крови</th>\n",
       "      <td>255</td>\n",
       "      <td>273.000000</td>\n",
       "      <td>333</td>\n",
       "      <td>291.561562</td>\n",
       "    </tr>\n",
       "    <tr>\n",
       "      <th>АЛТ (аланинаминотрансфераза)</th>\n",
       "      <td>251</td>\n",
       "      <td>278.000000</td>\n",
       "      <td>331</td>\n",
       "      <td>291.691843</td>\n",
       "    </tr>\n",
       "    <tr>\n",
       "      <th>АСТ (аспартатаминотрансфераза)</th>\n",
       "      <td>250</td>\n",
       "      <td>242.000000</td>\n",
       "      <td>331</td>\n",
       "      <td>254.229607</td>\n",
       "    </tr>\n",
       "  </tbody>\n",
       "</table>\n",
       "</div>"
      ],
      "text/plain": [
       "                                               count_2021    mean_2021  \\\n",
       "service_name                                                             \n",
       "Взятие крови из периферической вены                  1297   158.000000   \n",
       "Общий анализ крови (лейкоцитарная форм,, СОЭ)         995   693.000000   \n",
       "Магнитотерапия (1 сеанс)                              806  1040.000000   \n",
       "Общий анализ мочи                                     491   431.000000   \n",
       "Взятие мазка                                          396   340.280303   \n",
       "Гинекологический мазок                                376   525.000000   \n",
       "Интерференционные токи (1 сеанс) (4 поля)             366  1040.000000   \n",
       "Лазеротерапия (1 сеанс)                               344   914.000000   \n",
       "Сеанс рефлексотерапии                                 313  1827.000000   \n",
       "Рефрактометрия                                        310   714.000000   \n",
       "Интерпретация ЭКГ с описанием                         263   525.000000   \n",
       "Снятие ЭКГ (без интерпретации и описания)             260   378.000000   \n",
       "Глюкоза крови                                         255   273.000000   \n",
       "АЛТ (аланинаминотрансфераза)                          251   278.000000   \n",
       "АСТ (аспартатаминотрансфераза)                        250   242.000000   \n",
       "\n",
       "                                               count_2022    mean_2022  \n",
       "service_name                                                            \n",
       "Взятие крови из периферической вены                  2024   173.191700  \n",
       "Общий анализ крови (лейкоцитарная форм,, СОЭ)        1517   744.133158  \n",
       "Магнитотерапия (1 сеанс)                             1449  1096.356108  \n",
       "Общий анализ мочи                                     711   458.924051  \n",
       "Взятие мазка                                          897   367.979933  \n",
       "Гинекологический мазок                                614   560.423453  \n",
       "Интерференционные токи (1 сеанс) (4 поля)             585  1097.641026  \n",
       "Лазеротерапия (1 сеанс)                               656   966.265244  \n",
       "Сеанс рефлексотерапии                                 342  1932.807018  \n",
       "Рефрактометрия                                        420   763.571429  \n",
       "Интерпретация ЭКГ с описанием                         423   559.231678  \n",
       "Снятие ЭКГ (без интерпретации и описания)             425   406.682353  \n",
       "Глюкоза крови                                         333   291.561562  \n",
       "АЛТ (аланинаминотрансфераза)                          331   291.691843  \n",
       "АСТ (аспартатаминотрансфераза)                        331   254.229607  "
      ]
     },
     "execution_count": 34,
     "metadata": {},
     "output_type": "execute_result"
    }
   ],
   "source": [
    "merged_df.head(15)"
   ]
  },
  {
   "cell_type": "markdown",
   "id": "56c2d720-e723-440f-bca1-360ca51ab493",
   "metadata": {},
   "source": [
    "Теперь выведем для каждой услуги процент изменения цены."
   ]
  },
  {
   "cell_type": "code",
   "execution_count": 35,
   "id": "de0b30bf-344c-44b4-8672-9cf3ca547ab2",
   "metadata": {
    "tags": []
   },
   "outputs": [
    {
     "data": {
      "text/html": [
       "<div>\n",
       "<style scoped>\n",
       "    .dataframe tbody tr th:only-of-type {\n",
       "        vertical-align: middle;\n",
       "    }\n",
       "\n",
       "    .dataframe tbody tr th {\n",
       "        vertical-align: top;\n",
       "    }\n",
       "\n",
       "    .dataframe thead th {\n",
       "        text-align: right;\n",
       "    }\n",
       "</style>\n",
       "<table border=\"1\" class=\"dataframe\">\n",
       "  <thead>\n",
       "    <tr style=\"text-align: right;\">\n",
       "      <th></th>\n",
       "      <th>count_2021</th>\n",
       "      <th>mean_2021</th>\n",
       "      <th>count_2022</th>\n",
       "      <th>mean_2022</th>\n",
       "      <th>price_change_pct</th>\n",
       "    </tr>\n",
       "    <tr>\n",
       "      <th>service_name</th>\n",
       "      <th></th>\n",
       "      <th></th>\n",
       "      <th></th>\n",
       "      <th></th>\n",
       "      <th></th>\n",
       "    </tr>\n",
       "  </thead>\n",
       "  <tbody>\n",
       "    <tr>\n",
       "      <th>Фибриноген</th>\n",
       "      <td>14</td>\n",
       "      <td>352.000000</td>\n",
       "      <td>26</td>\n",
       "      <td>375.769231</td>\n",
       "      <td>6.752622</td>\n",
       "    </tr>\n",
       "    <tr>\n",
       "      <th>Спирография с бронхолитиком (беротек, вентолин)</th>\n",
       "      <td>24</td>\n",
       "      <td>1260.000000</td>\n",
       "      <td>41</td>\n",
       "      <td>1348.536585</td>\n",
       "      <td>7.026713</td>\n",
       "    </tr>\n",
       "    <tr>\n",
       "      <th>Лазеротерапия (1 сеанс)</th>\n",
       "      <td>344</td>\n",
       "      <td>914.000000</td>\n",
       "      <td>656</td>\n",
       "      <td>966.265244</td>\n",
       "      <td>5.718298</td>\n",
       "    </tr>\n",
       "    <tr>\n",
       "      <th>Взятие мазка</th>\n",
       "      <td>396</td>\n",
       "      <td>340.280303</td>\n",
       "      <td>897</td>\n",
       "      <td>367.979933</td>\n",
       "      <td>8.140239</td>\n",
       "    </tr>\n",
       "    <tr>\n",
       "      <th>Общий белок</th>\n",
       "      <td>84</td>\n",
       "      <td>287.000000</td>\n",
       "      <td>115</td>\n",
       "      <td>300.000000</td>\n",
       "      <td>4.529617</td>\n",
       "    </tr>\n",
       "    <tr>\n",
       "      <th>Общий анализ мочи</th>\n",
       "      <td>491</td>\n",
       "      <td>431.000000</td>\n",
       "      <td>711</td>\n",
       "      <td>458.924051</td>\n",
       "      <td>6.478898</td>\n",
       "    </tr>\n",
       "    <tr>\n",
       "      <th>ТТГ (тиреотропин)</th>\n",
       "      <td>246</td>\n",
       "      <td>536.000000</td>\n",
       "      <td>384</td>\n",
       "      <td>567.395833</td>\n",
       "      <td>5.857432</td>\n",
       "    </tr>\n",
       "    <tr>\n",
       "      <th>Гинекологический мазок</th>\n",
       "      <td>376</td>\n",
       "      <td>525.000000</td>\n",
       "      <td>614</td>\n",
       "      <td>560.423453</td>\n",
       "      <td>6.747324</td>\n",
       "    </tr>\n",
       "    <tr>\n",
       "      <th>Урологический мазок</th>\n",
       "      <td>32</td>\n",
       "      <td>525.000000</td>\n",
       "      <td>80</td>\n",
       "      <td>563.750000</td>\n",
       "      <td>7.380952</td>\n",
       "    </tr>\n",
       "    <tr>\n",
       "      <th>Наложение противоотечного противовоспалительного компресса на крупный сустав</th>\n",
       "      <td>105</td>\n",
       "      <td>1365.000000</td>\n",
       "      <td>74</td>\n",
       "      <td>1435.675676</td>\n",
       "      <td>5.177705</td>\n",
       "    </tr>\n",
       "    <tr>\n",
       "      <th>Chlamydia trachomatis (Соскоб)</th>\n",
       "      <td>32</td>\n",
       "      <td>378.000000</td>\n",
       "      <td>32</td>\n",
       "      <td>400.000000</td>\n",
       "      <td>5.820106</td>\n",
       "    </tr>\n",
       "    <tr>\n",
       "      <th>Электронейромиография - исследование нервов одной конечности (руки или ноги) методами стимуляционной миографии</th>\n",
       "      <td>18</td>\n",
       "      <td>3360.000000</td>\n",
       "      <td>42</td>\n",
       "      <td>3550.238095</td>\n",
       "      <td>5.661848</td>\n",
       "    </tr>\n",
       "    <tr>\n",
       "      <th>Рентгенография пояснично-крестцового отдела позвоночника (2 снимка)</th>\n",
       "      <td>58</td>\n",
       "      <td>1607.000000</td>\n",
       "      <td>121</td>\n",
       "      <td>1718.099174</td>\n",
       "      <td>6.913452</td>\n",
       "    </tr>\n",
       "    <tr>\n",
       "      <th>Дуплексное сканирование брахиоцефальных артерий</th>\n",
       "      <td>118</td>\n",
       "      <td>2625.000000</td>\n",
       "      <td>154</td>\n",
       "      <td>2809.090909</td>\n",
       "      <td>7.012987</td>\n",
       "    </tr>\n",
       "    <tr>\n",
       "      <th>Исследование сока простаты</th>\n",
       "      <td>41</td>\n",
       "      <td>441.000000</td>\n",
       "      <td>79</td>\n",
       "      <td>471.139241</td>\n",
       "      <td>6.834295</td>\n",
       "    </tr>\n",
       "  </tbody>\n",
       "</table>\n",
       "</div>"
      ],
      "text/plain": [
       "                                                    count_2021    mean_2021  \\\n",
       "service_name                                                                  \n",
       "Фибриноген                                                  14   352.000000   \n",
       "Спирография с бронхолитиком (беротек, вентолин)             24  1260.000000   \n",
       "Лазеротерапия (1 сеанс)                                    344   914.000000   \n",
       "Взятие мазка                                               396   340.280303   \n",
       "Общий белок                                                 84   287.000000   \n",
       "Общий анализ мочи                                          491   431.000000   \n",
       "ТТГ (тиреотропин)                                          246   536.000000   \n",
       "Гинекологический мазок                                     376   525.000000   \n",
       "Урологический мазок                                         32   525.000000   \n",
       "Наложение противоотечного противовоспалительног...         105  1365.000000   \n",
       "Chlamydia trachomatis (Соскоб)                              32   378.000000   \n",
       "Электронейромиография - исследование нервов одн...          18  3360.000000   \n",
       "Рентгенография пояснично-крестцового отдела поз...          58  1607.000000   \n",
       "Дуплексное сканирование брахиоцефальных артерий            118  2625.000000   \n",
       "Исследование сока простаты                                  41   441.000000   \n",
       "\n",
       "                                                    count_2022    mean_2022  \\\n",
       "service_name                                                                  \n",
       "Фибриноген                                                  26   375.769231   \n",
       "Спирография с бронхолитиком (беротек, вентолин)             41  1348.536585   \n",
       "Лазеротерапия (1 сеанс)                                    656   966.265244   \n",
       "Взятие мазка                                               897   367.979933   \n",
       "Общий белок                                                115   300.000000   \n",
       "Общий анализ мочи                                          711   458.924051   \n",
       "ТТГ (тиреотропин)                                          384   567.395833   \n",
       "Гинекологический мазок                                     614   560.423453   \n",
       "Урологический мазок                                         80   563.750000   \n",
       "Наложение противоотечного противовоспалительног...          74  1435.675676   \n",
       "Chlamydia trachomatis (Соскоб)                              32   400.000000   \n",
       "Электронейромиография - исследование нервов одн...          42  3550.238095   \n",
       "Рентгенография пояснично-крестцового отдела поз...         121  1718.099174   \n",
       "Дуплексное сканирование брахиоцефальных артерий            154  2809.090909   \n",
       "Исследование сока простаты                                  79   471.139241   \n",
       "\n",
       "                                                    price_change_pct  \n",
       "service_name                                                          \n",
       "Фибриноген                                                  6.752622  \n",
       "Спирография с бронхолитиком (беротек, вентолин)             7.026713  \n",
       "Лазеротерапия (1 сеанс)                                     5.718298  \n",
       "Взятие мазка                                                8.140239  \n",
       "Общий белок                                                 4.529617  \n",
       "Общий анализ мочи                                           6.478898  \n",
       "ТТГ (тиреотропин)                                           5.857432  \n",
       "Гинекологический мазок                                      6.747324  \n",
       "Урологический мазок                                         7.380952  \n",
       "Наложение противоотечного противовоспалительног...          5.177705  \n",
       "Chlamydia trachomatis (Соскоб)                              5.820106  \n",
       "Электронейромиография - исследование нервов одн...          5.661848  \n",
       "Рентгенография пояснично-крестцового отдела поз...          6.913452  \n",
       "Дуплексное сканирование брахиоцефальных артерий             7.012987  \n",
       "Исследование сока простаты                                  6.834295  "
      ]
     },
     "execution_count": 35,
     "metadata": {},
     "output_type": "execute_result"
    }
   ],
   "source": [
    "merged_df['price_change_pct'] = ((merged_df['mean_2022'] - merged_df['mean_2021']) / merged_df['mean_2021']) * 100\n",
    "merged_df.sample(15)"
   ]
  },
  {
   "cell_type": "markdown",
   "id": "b02d43d7-0378-4775-8267-1a79266045c9",
   "metadata": {},
   "source": [
    "Посчитаем средний процент изменение цены по сравнительной таблице."
   ]
  },
  {
   "cell_type": "code",
   "execution_count": 36,
   "id": "b771e372-0d7f-4624-9346-b5ea41e3a448",
   "metadata": {
    "tags": []
   },
   "outputs": [
    {
     "name": "stdout",
     "output_type": "stream",
     "text": [
      "Среднее значение изменение цен на популярные мед.услуги  составляет +6.27%\n",
      "Медиана  составляет +6.26%\n"
     ]
    }
   ],
   "source": [
    "print(f'Среднее значение изменение цен на популярные мед.услуги  составляет +{round(merged_df[\"price_change_pct\"].mean(),2)}%')\n",
    "print(f'Медиана  составляет +{round(merged_df[\"price_change_pct\"].median(),2)}%')"
   ]
  },
  {
   "cell_type": "markdown",
   "id": "e5174ed5-187d-4ca0-805b-b7f0c825cfcd",
   "metadata": {},
   "source": [
    "Cреднее значение и медиана находятся рядом это может указывать на то, что данные распределены равномерно, влияние выбросов минимально."
   ]
  },
  {
   "cell_type": "markdown",
   "id": "1ad2c610-786a-44a4-9028-b09917c82570",
   "metadata": {
    "tags": []
   },
   "source": [
    "Изучим ТОП-10 услуг, которые были использованы для сравнительного анализа."
   ]
  },
  {
   "cell_type": "code",
   "execution_count": 37,
   "id": "949ba58a-6933-48f1-8a86-2c5ff93e95d4",
   "metadata": {
    "tags": []
   },
   "outputs": [
    {
     "data": {
      "text/html": [
       "<div>\n",
       "<style scoped>\n",
       "    .dataframe tbody tr th:only-of-type {\n",
       "        vertical-align: middle;\n",
       "    }\n",
       "\n",
       "    .dataframe tbody tr th {\n",
       "        vertical-align: top;\n",
       "    }\n",
       "\n",
       "    .dataframe thead th {\n",
       "        text-align: right;\n",
       "    }\n",
       "</style>\n",
       "<table border=\"1\" class=\"dataframe\">\n",
       "  <thead>\n",
       "    <tr style=\"text-align: right;\">\n",
       "      <th></th>\n",
       "      <th>count_2021</th>\n",
       "      <th>mean_2021</th>\n",
       "      <th>count_2022</th>\n",
       "      <th>mean_2022</th>\n",
       "      <th>price_change_pct</th>\n",
       "    </tr>\n",
       "    <tr>\n",
       "      <th>service_name</th>\n",
       "      <th></th>\n",
       "      <th></th>\n",
       "      <th></th>\n",
       "      <th></th>\n",
       "      <th></th>\n",
       "    </tr>\n",
       "  </thead>\n",
       "  <tbody>\n",
       "    <tr>\n",
       "      <th>Взятие крови из периферической вены</th>\n",
       "      <td>1297</td>\n",
       "      <td>158.000000</td>\n",
       "      <td>2024</td>\n",
       "      <td>173.191700</td>\n",
       "      <td>9.615000</td>\n",
       "    </tr>\n",
       "    <tr>\n",
       "      <th>Общий анализ крови (лейкоцитарная форм,, СОЭ)</th>\n",
       "      <td>995</td>\n",
       "      <td>693.000000</td>\n",
       "      <td>1517</td>\n",
       "      <td>744.133158</td>\n",
       "      <td>7.378522</td>\n",
       "    </tr>\n",
       "    <tr>\n",
       "      <th>Магнитотерапия (1 сеанс)</th>\n",
       "      <td>806</td>\n",
       "      <td>1040.000000</td>\n",
       "      <td>1449</td>\n",
       "      <td>1096.356108</td>\n",
       "      <td>5.418857</td>\n",
       "    </tr>\n",
       "    <tr>\n",
       "      <th>Общий анализ мочи</th>\n",
       "      <td>491</td>\n",
       "      <td>431.000000</td>\n",
       "      <td>711</td>\n",
       "      <td>458.924051</td>\n",
       "      <td>6.478898</td>\n",
       "    </tr>\n",
       "    <tr>\n",
       "      <th>Взятие мазка</th>\n",
       "      <td>396</td>\n",
       "      <td>340.280303</td>\n",
       "      <td>897</td>\n",
       "      <td>367.979933</td>\n",
       "      <td>8.140239</td>\n",
       "    </tr>\n",
       "    <tr>\n",
       "      <th>Гинекологический мазок</th>\n",
       "      <td>376</td>\n",
       "      <td>525.000000</td>\n",
       "      <td>614</td>\n",
       "      <td>560.423453</td>\n",
       "      <td>6.747324</td>\n",
       "    </tr>\n",
       "    <tr>\n",
       "      <th>Интерференционные токи (1 сеанс) (4 поля)</th>\n",
       "      <td>366</td>\n",
       "      <td>1040.000000</td>\n",
       "      <td>585</td>\n",
       "      <td>1097.641026</td>\n",
       "      <td>5.542406</td>\n",
       "    </tr>\n",
       "    <tr>\n",
       "      <th>Лазеротерапия (1 сеанс)</th>\n",
       "      <td>344</td>\n",
       "      <td>914.000000</td>\n",
       "      <td>656</td>\n",
       "      <td>966.265244</td>\n",
       "      <td>5.718298</td>\n",
       "    </tr>\n",
       "    <tr>\n",
       "      <th>Сеанс рефлексотерапии</th>\n",
       "      <td>313</td>\n",
       "      <td>1827.000000</td>\n",
       "      <td>342</td>\n",
       "      <td>1932.807018</td>\n",
       "      <td>5.791298</td>\n",
       "    </tr>\n",
       "    <tr>\n",
       "      <th>Рефрактометрия</th>\n",
       "      <td>310</td>\n",
       "      <td>714.000000</td>\n",
       "      <td>420</td>\n",
       "      <td>763.571429</td>\n",
       "      <td>6.942777</td>\n",
       "    </tr>\n",
       "  </tbody>\n",
       "</table>\n",
       "</div>"
      ],
      "text/plain": [
       "                                               count_2021    mean_2021  \\\n",
       "service_name                                                             \n",
       "Взятие крови из периферической вены                  1297   158.000000   \n",
       "Общий анализ крови (лейкоцитарная форм,, СОЭ)         995   693.000000   \n",
       "Магнитотерапия (1 сеанс)                              806  1040.000000   \n",
       "Общий анализ мочи                                     491   431.000000   \n",
       "Взятие мазка                                          396   340.280303   \n",
       "Гинекологический мазок                                376   525.000000   \n",
       "Интерференционные токи (1 сеанс) (4 поля)             366  1040.000000   \n",
       "Лазеротерапия (1 сеанс)                               344   914.000000   \n",
       "Сеанс рефлексотерапии                                 313  1827.000000   \n",
       "Рефрактометрия                                        310   714.000000   \n",
       "\n",
       "                                               count_2022    mean_2022  \\\n",
       "service_name                                                             \n",
       "Взятие крови из периферической вены                  2024   173.191700   \n",
       "Общий анализ крови (лейкоцитарная форм,, СОЭ)        1517   744.133158   \n",
       "Магнитотерапия (1 сеанс)                             1449  1096.356108   \n",
       "Общий анализ мочи                                     711   458.924051   \n",
       "Взятие мазка                                          897   367.979933   \n",
       "Гинекологический мазок                                614   560.423453   \n",
       "Интерференционные токи (1 сеанс) (4 поля)             585  1097.641026   \n",
       "Лазеротерапия (1 сеанс)                               656   966.265244   \n",
       "Сеанс рефлексотерапии                                 342  1932.807018   \n",
       "Рефрактометрия                                        420   763.571429   \n",
       "\n",
       "                                               price_change_pct  \n",
       "service_name                                                     \n",
       "Взятие крови из периферической вены                    9.615000  \n",
       "Общий анализ крови (лейкоцитарная форм,, СОЭ)          7.378522  \n",
       "Магнитотерапия (1 сеанс)                               5.418857  \n",
       "Общий анализ мочи                                      6.478898  \n",
       "Взятие мазка                                           8.140239  \n",
       "Гинекологический мазок                                 6.747324  \n",
       "Интерференционные токи (1 сеанс) (4 поля)              5.542406  \n",
       "Лазеротерапия (1 сеанс)                                5.718298  \n",
       "Сеанс рефлексотерапии                                  5.791298  \n",
       "Рефрактометрия                                         6.942777  "
      ]
     },
     "execution_count": 37,
     "metadata": {},
     "output_type": "execute_result"
    }
   ],
   "source": [
    "merged_df.head(10)"
   ]
  },
  {
   "cell_type": "markdown",
   "id": "62bb0fa5-9761-4c9a-97c8-9f7e13194d53",
   "metadata": {},
   "source": [
    "Отметим, что в сравнительной выборке главенствуют лабораторные исследования и процедуры, но отсутствуют данные по консультациям врачей.  \n",
    "Посмотрим подробнее по услугам с наибольшим удорожанием."
   ]
  },
  {
   "cell_type": "code",
   "execution_count": 38,
   "id": "bccd65c6-f3bc-4344-b593-c251b811758a",
   "metadata": {
    "tags": []
   },
   "outputs": [
    {
     "data": {
      "text/html": [
       "<div>\n",
       "<style scoped>\n",
       "    .dataframe tbody tr th:only-of-type {\n",
       "        vertical-align: middle;\n",
       "    }\n",
       "\n",
       "    .dataframe tbody tr th {\n",
       "        vertical-align: top;\n",
       "    }\n",
       "\n",
       "    .dataframe thead th {\n",
       "        text-align: right;\n",
       "    }\n",
       "</style>\n",
       "<table border=\"1\" class=\"dataframe\">\n",
       "  <thead>\n",
       "    <tr style=\"text-align: right;\">\n",
       "      <th></th>\n",
       "      <th>count_2021</th>\n",
       "      <th>mean_2021</th>\n",
       "      <th>count_2022</th>\n",
       "      <th>mean_2022</th>\n",
       "      <th>price_change_pct</th>\n",
       "    </tr>\n",
       "    <tr>\n",
       "      <th>service_name</th>\n",
       "      <th></th>\n",
       "      <th></th>\n",
       "      <th></th>\n",
       "      <th></th>\n",
       "      <th></th>\n",
       "    </tr>\n",
       "  </thead>\n",
       "  <tbody>\n",
       "    <tr>\n",
       "      <th>Взятие крови из периферической вены</th>\n",
       "      <td>1297</td>\n",
       "      <td>158.000000</td>\n",
       "      <td>2024</td>\n",
       "      <td>173.191700</td>\n",
       "      <td>9.615000</td>\n",
       "    </tr>\n",
       "    <tr>\n",
       "      <th>Общий анализ крови (лейкоцитарная форм,, СОЭ)</th>\n",
       "      <td>995</td>\n",
       "      <td>693.000000</td>\n",
       "      <td>1517</td>\n",
       "      <td>744.133158</td>\n",
       "      <td>7.378522</td>\n",
       "    </tr>\n",
       "    <tr>\n",
       "      <th>Взятие мазка</th>\n",
       "      <td>396</td>\n",
       "      <td>340.280303</td>\n",
       "      <td>897</td>\n",
       "      <td>367.979933</td>\n",
       "      <td>8.140239</td>\n",
       "    </tr>\n",
       "    <tr>\n",
       "      <th>Гинекологический мазок</th>\n",
       "      <td>376</td>\n",
       "      <td>525.000000</td>\n",
       "      <td>614</td>\n",
       "      <td>560.423453</td>\n",
       "      <td>6.747324</td>\n",
       "    </tr>\n",
       "    <tr>\n",
       "      <th>Рефрактометрия</th>\n",
       "      <td>310</td>\n",
       "      <td>714.000000</td>\n",
       "      <td>420</td>\n",
       "      <td>763.571429</td>\n",
       "      <td>6.942777</td>\n",
       "    </tr>\n",
       "    <tr>\n",
       "      <th>Интерпретация ЭКГ с описанием</th>\n",
       "      <td>263</td>\n",
       "      <td>525.000000</td>\n",
       "      <td>423</td>\n",
       "      <td>559.231678</td>\n",
       "      <td>6.520320</td>\n",
       "    </tr>\n",
       "    <tr>\n",
       "      <th>Снятие ЭКГ (без интерпретации и описания)</th>\n",
       "      <td>260</td>\n",
       "      <td>378.000000</td>\n",
       "      <td>425</td>\n",
       "      <td>406.682353</td>\n",
       "      <td>7.587924</td>\n",
       "    </tr>\n",
       "    <tr>\n",
       "      <th>Глюкоза крови</th>\n",
       "      <td>255</td>\n",
       "      <td>273.000000</td>\n",
       "      <td>333</td>\n",
       "      <td>291.561562</td>\n",
       "      <td>6.799107</td>\n",
       "    </tr>\n",
       "    <tr>\n",
       "      <th>Ультразвуковое исследование гинекология трансвагинально с ДС сосудов</th>\n",
       "      <td>242</td>\n",
       "      <td>2100.000000</td>\n",
       "      <td>454</td>\n",
       "      <td>2239.074890</td>\n",
       "      <td>6.622614</td>\n",
       "    </tr>\n",
       "    <tr>\n",
       "      <th>Измерение внутриглазного давления</th>\n",
       "      <td>226</td>\n",
       "      <td>578.000000</td>\n",
       "      <td>284</td>\n",
       "      <td>621.619718</td>\n",
       "      <td>7.546664</td>\n",
       "    </tr>\n",
       "    <tr>\n",
       "      <th>Ультразвуковое исследование брюшной полости</th>\n",
       "      <td>207</td>\n",
       "      <td>2100.000000</td>\n",
       "      <td>316</td>\n",
       "      <td>2245.506329</td>\n",
       "      <td>6.928873</td>\n",
       "    </tr>\n",
       "    <tr>\n",
       "      <th>С-реактивный белок</th>\n",
       "      <td>161</td>\n",
       "      <td>420.000000</td>\n",
       "      <td>156</td>\n",
       "      <td>447.948718</td>\n",
       "      <td>6.654457</td>\n",
       "    </tr>\n",
       "    <tr>\n",
       "      <th>Ультразвуковое исследование молочных желез</th>\n",
       "      <td>119</td>\n",
       "      <td>1995.000000</td>\n",
       "      <td>221</td>\n",
       "      <td>2134.660633</td>\n",
       "      <td>7.000533</td>\n",
       "    </tr>\n",
       "    <tr>\n",
       "      <th>Дуплексное сканирование брахиоцефальных артерий</th>\n",
       "      <td>118</td>\n",
       "      <td>2625.000000</td>\n",
       "      <td>154</td>\n",
       "      <td>2809.090909</td>\n",
       "      <td>7.012987</td>\n",
       "    </tr>\n",
       "    <tr>\n",
       "      <th>Эхокардиография с допплеровским анализом</th>\n",
       "      <td>100</td>\n",
       "      <td>3465.000000</td>\n",
       "      <td>166</td>\n",
       "      <td>3713.734940</td>\n",
       "      <td>7.178498</td>\n",
       "    </tr>\n",
       "  </tbody>\n",
       "</table>\n",
       "</div>"
      ],
      "text/plain": [
       "                                                    count_2021    mean_2021  \\\n",
       "service_name                                                                  \n",
       "Взятие крови из периферической вены                       1297   158.000000   \n",
       "Общий анализ крови (лейкоцитарная форм,, СОЭ)              995   693.000000   \n",
       "Взятие мазка                                               396   340.280303   \n",
       "Гинекологический мазок                                     376   525.000000   \n",
       "Рефрактометрия                                             310   714.000000   \n",
       "Интерпретация ЭКГ с описанием                              263   525.000000   \n",
       "Снятие ЭКГ (без интерпретации и описания)                  260   378.000000   \n",
       "Глюкоза крови                                              255   273.000000   \n",
       "Ультразвуковое исследование гинекология трансва...         242  2100.000000   \n",
       "Измерение внутриглазного давления                          226   578.000000   \n",
       "Ультразвуковое исследование брюшной полости                207  2100.000000   \n",
       "С-реактивный белок                                         161   420.000000   \n",
       "Ультразвуковое исследование молочных желез                 119  1995.000000   \n",
       "Дуплексное сканирование брахиоцефальных артерий            118  2625.000000   \n",
       "Эхокардиография с допплеровским анализом                   100  3465.000000   \n",
       "\n",
       "                                                    count_2022    mean_2022  \\\n",
       "service_name                                                                  \n",
       "Взятие крови из периферической вены                       2024   173.191700   \n",
       "Общий анализ крови (лейкоцитарная форм,, СОЭ)             1517   744.133158   \n",
       "Взятие мазка                                               897   367.979933   \n",
       "Гинекологический мазок                                     614   560.423453   \n",
       "Рефрактометрия                                             420   763.571429   \n",
       "Интерпретация ЭКГ с описанием                              423   559.231678   \n",
       "Снятие ЭКГ (без интерпретации и описания)                  425   406.682353   \n",
       "Глюкоза крови                                              333   291.561562   \n",
       "Ультразвуковое исследование гинекология трансва...         454  2239.074890   \n",
       "Измерение внутриглазного давления                          284   621.619718   \n",
       "Ультразвуковое исследование брюшной полости                316  2245.506329   \n",
       "С-реактивный белок                                         156   447.948718   \n",
       "Ультразвуковое исследование молочных желез                 221  2134.660633   \n",
       "Дуплексное сканирование брахиоцефальных артерий            154  2809.090909   \n",
       "Эхокардиография с допплеровским анализом                   166  3713.734940   \n",
       "\n",
       "                                                    price_change_pct  \n",
       "service_name                                                          \n",
       "Взятие крови из периферической вены                         9.615000  \n",
       "Общий анализ крови (лейкоцитарная форм,, СОЭ)               7.378522  \n",
       "Взятие мазка                                                8.140239  \n",
       "Гинекологический мазок                                      6.747324  \n",
       "Рефрактометрия                                              6.942777  \n",
       "Интерпретация ЭКГ с описанием                               6.520320  \n",
       "Снятие ЭКГ (без интерпретации и описания)                   7.587924  \n",
       "Глюкоза крови                                               6.799107  \n",
       "Ультразвуковое исследование гинекология трансва...          6.622614  \n",
       "Измерение внутриглазного давления                           7.546664  \n",
       "Ультразвуковое исследование брюшной полости                 6.928873  \n",
       "С-реактивный белок                                          6.654457  \n",
       "Ультразвуковое исследование молочных желез                  7.000533  \n",
       "Дуплексное сканирование брахиоцефальных артерий             7.012987  \n",
       "Эхокардиография с допплеровским анализом                    7.178498  "
      ]
     },
     "execution_count": 38,
     "metadata": {},
     "output_type": "execute_result"
    }
   ],
   "source": [
    "merged_df.query('price_change_pct>6.5').head(15)"
   ]
  },
  {
   "cell_type": "markdown",
   "id": "304ed477-c4c8-4146-ba14-dc0b73beab78",
   "metadata": {},
   "source": [
    "**Вывод:** Подорожание выше среднего демонстрируют популярные анализы крови и УЗИ-исследования. Вероятно, увеличение цены на мед.реагенты для исследований послужило причиной подобного увеличения."
   ]
  },
  {
   "cell_type": "markdown",
   "id": "2a9760f0-2a96-4cfe-a34c-dcb4eedb2fd5",
   "metadata": {
    "tags": []
   },
   "source": [
    "Изучим изменение цены на первичный и повторный приёмы."
   ]
  },
  {
   "cell_type": "code",
   "execution_count": 39,
   "id": "405fa937-2a7e-470d-91ab-3a2da80e809c",
   "metadata": {
    "tags": []
   },
   "outputs": [
    {
     "data": {
      "text/plain": [
       "Прием первичный                                 4478\n",
       "Прием повторный                                 3295\n",
       "Прием мануального терапевта первичный             66\n",
       "Прием на дому (до МКАД)                           64\n",
       "Прием рефлексотерапевта первичный                 56\n",
       "Прием мануального терапевта повторный             54\n",
       "Прием главного специалиста, врача - эксперта      36\n",
       "Прием рефлексотерапевта повторный                 28\n",
       "Прием ведущего специалиста                         4\n",
       "Прием врача по лечебной физкультуре                3\n",
       "Прием психотерапевта                               2\n",
       "Прием психиатра                                    2\n",
       "Прием на дому (в пределах до 15 км за МКАД)        1\n",
       "Name: service_name, dtype: int64"
      ]
     },
     "execution_count": 39,
     "metadata": {},
     "output_type": "execute_result"
    }
   ],
   "source": [
    "subset_21 = df_2021.loc[df['service_name'].str.contains('прием', case=False)]\n",
    "subset_21['service_name'].value_counts().head(25)"
   ]
  },
  {
   "cell_type": "code",
   "execution_count": 40,
   "id": "c51407a2-3e07-4b89-9f7a-d8794d46ba70",
   "metadata": {
    "tags": []
   },
   "outputs": [
    {
     "data": {
      "text/plain": [
       "Прием гинеколога, повторный               964\n",
       "Прием трапевта, первичный                 936\n",
       "Прием отоларинголога, первичный           721\n",
       "Прием невролога, первичный                690\n",
       "Прием терапевта , повторный               580\n",
       "Прием офтальмолога,  первичный            528\n",
       "Прием гинеколога, первичный               521\n",
       "Прием хирурга, первичный                  505\n",
       "Прием травматолога-ортопеда, первичный    452\n",
       "Прием дерматолога, первичный              435\n",
       "Прием эндокринолога, первичный            432\n",
       "Прием невролога, повторный                405\n",
       "Прием травматолога-ортопеда, повторный    400\n",
       "Прием гастроэнтеролога, повторный         398\n",
       "Прием уролога, повторный                  381\n",
       "Прием гастроэнтеролога, первичный         359\n",
       "Прием физиотерапевта, первичный           324\n",
       "Прием уролога, первичный                  318\n",
       "Прием отоларинголога, повторный           318\n",
       "Прием эндокринолога, повторный            307\n",
       "Прием педиатра,  первичный                286\n",
       "Прием физиотерапевта, повторный           275\n",
       "Прием кардиолога, первичный               239\n",
       "Прием хирурга, повторный                  232\n",
       "Прием педиатра, повторный                 218\n",
       "Name: service_name, dtype: int64"
      ]
     },
     "execution_count": 40,
     "metadata": {},
     "output_type": "execute_result"
    }
   ],
   "source": [
    "subset_22 = df_2022.loc[df['service_name'].str.contains('прием', case=False)]\n",
    "subset_22['service_name'].value_counts().head(25)"
   ]
  },
  {
   "cell_type": "markdown",
   "id": "ed8fbf0a-ac7f-4883-807d-1b661f15269e",
   "metadata": {},
   "source": [
    "**Вывод**: В 2022 произошла доп.сегментация по приёмам врача. Если в 2021 было укрупненное деление на первичный и повторный, то в 2022 к каждому приёму добавилось специализация врача.  \n",
    "Вытащить специализации из 2021 года не представляется возможным, поэтому укрупним данные за 2022 год."
   ]
  },
  {
   "cell_type": "code",
   "execution_count": 41,
   "id": "038eda17-a0df-4582-ad61-3f21f795a38b",
   "metadata": {
    "tags": []
   },
   "outputs": [
    {
     "data": {
      "text/plain": [
       "4600"
      ]
     },
     "execution_count": 41,
     "metadata": {},
     "output_type": "execute_result"
    }
   ],
   "source": [
    "subset_21_first = subset_21.loc[df['service_name'].str.contains('первичный', case=False)]\n",
    "len(subset_21_first)"
   ]
  },
  {
   "cell_type": "code",
   "execution_count": 42,
   "id": "95427c28-1350-4ed4-abe0-0235712718bb",
   "metadata": {
    "tags": []
   },
   "outputs": [
    {
     "data": {
      "text/plain": [
       "3377"
      ]
     },
     "execution_count": 42,
     "metadata": {},
     "output_type": "execute_result"
    }
   ],
   "source": [
    "subset_21_second = subset_21.loc[df['service_name'].str.contains('повторный', case=False)]\n",
    "len(subset_21_second)"
   ]
  },
  {
   "cell_type": "code",
   "execution_count": 43,
   "id": "91998ff0-de3a-411e-8986-4ca69980d1c0",
   "metadata": {
    "tags": []
   },
   "outputs": [
    {
     "data": {
      "text/plain": [
       "7361"
      ]
     },
     "execution_count": 43,
     "metadata": {},
     "output_type": "execute_result"
    }
   ],
   "source": [
    "subset_22_first = subset_22.loc[df['service_name'].str.contains('первичный', case=False)]\n",
    "len(subset_22_first)"
   ]
  },
  {
   "cell_type": "code",
   "execution_count": 44,
   "id": "2457282b-5a8c-4a10-a693-305f832fe7f3",
   "metadata": {
    "tags": []
   },
   "outputs": [
    {
     "data": {
      "text/plain": [
       "5242"
      ]
     },
     "execution_count": 44,
     "metadata": {},
     "output_type": "execute_result"
    }
   ],
   "source": [
    "subset_22_second = subset_22.loc[df['service_name'].str.contains('повторный', case=False)]\n",
    "len(subset_22_second)"
   ]
  },
  {
   "cell_type": "markdown",
   "id": "cac012bb-7ed6-414f-a71a-fde68c56858b",
   "metadata": {},
   "source": [
    "Для удобства создадим небольшой датафрейм."
   ]
  },
  {
   "cell_type": "code",
   "execution_count": 45,
   "id": "146fae70-a644-45e2-b556-214685c4337a",
   "metadata": {
    "tags": []
   },
   "outputs": [
    {
     "data": {
      "text/html": [
       "<div>\n",
       "<style scoped>\n",
       "    .dataframe tbody tr th:only-of-type {\n",
       "        vertical-align: middle;\n",
       "    }\n",
       "\n",
       "    .dataframe tbody tr th {\n",
       "        vertical-align: top;\n",
       "    }\n",
       "\n",
       "    .dataframe thead th {\n",
       "        text-align: right;\n",
       "    }\n",
       "</style>\n",
       "<table border=\"1\" class=\"dataframe\">\n",
       "  <thead>\n",
       "    <tr style=\"text-align: right;\">\n",
       "      <th></th>\n",
       "      <th>2021</th>\n",
       "      <th>2022</th>\n",
       "    </tr>\n",
       "  </thead>\n",
       "  <tbody>\n",
       "    <tr>\n",
       "      <th>Первичный</th>\n",
       "      <td>1470.061957</td>\n",
       "      <td>1555.952316</td>\n",
       "    </tr>\n",
       "    <tr>\n",
       "      <th>Повторный</th>\n",
       "      <td>1313.000000</td>\n",
       "      <td>1393.666539</td>\n",
       "    </tr>\n",
       "  </tbody>\n",
       "</table>\n",
       "</div>"
      ],
      "text/plain": [
       "                  2021         2022\n",
       "Первичный  1470.061957  1555.952316\n",
       "Повторный  1313.000000  1393.666539"
      ]
     },
     "execution_count": 45,
     "metadata": {},
     "output_type": "execute_result"
    }
   ],
   "source": [
    "data = {'2021': [subset_21_first['service_price'].mean() ,subset_21_second['service_price'].mean()],  '2022': [subset_22_first['service_price'].mean(), subset_22_second['service_price'].mean()]}\n",
    "df = pd.DataFrame(data, index=['Первичный', 'Повторный'])\n",
    "df"
   ]
  },
  {
   "cell_type": "markdown",
   "id": "1bc9b074-37c0-467b-8ade-f8de2f333ca3",
   "metadata": {
    "tags": []
   },
   "source": [
    "И посчитаем средний показатель изменения цены."
   ]
  },
  {
   "cell_type": "code",
   "execution_count": 46,
   "id": "e6caac9c-bbb6-47b9-9831-c9d4fade0000",
   "metadata": {
    "tags": []
   },
   "outputs": [
    {
     "data": {
      "text/html": [
       "<div>\n",
       "<style scoped>\n",
       "    .dataframe tbody tr th:only-of-type {\n",
       "        vertical-align: middle;\n",
       "    }\n",
       "\n",
       "    .dataframe tbody tr th {\n",
       "        vertical-align: top;\n",
       "    }\n",
       "\n",
       "    .dataframe thead th {\n",
       "        text-align: right;\n",
       "    }\n",
       "</style>\n",
       "<table border=\"1\" class=\"dataframe\">\n",
       "  <thead>\n",
       "    <tr style=\"text-align: right;\">\n",
       "      <th></th>\n",
       "      <th>2021</th>\n",
       "      <th>2022</th>\n",
       "      <th>Разница, %</th>\n",
       "    </tr>\n",
       "  </thead>\n",
       "  <tbody>\n",
       "    <tr>\n",
       "      <th>Первичный</th>\n",
       "      <td>1470.061957</td>\n",
       "      <td>1555.952316</td>\n",
       "      <td>5.842635</td>\n",
       "    </tr>\n",
       "    <tr>\n",
       "      <th>Повторный</th>\n",
       "      <td>1313.000000</td>\n",
       "      <td>1393.666539</td>\n",
       "      <td>6.143682</td>\n",
       "    </tr>\n",
       "  </tbody>\n",
       "</table>\n",
       "</div>"
      ],
      "text/plain": [
       "                  2021         2022  Разница, %\n",
       "Первичный  1470.061957  1555.952316    5.842635\n",
       "Повторный  1313.000000  1393.666539    6.143682"
      ]
     },
     "execution_count": 46,
     "metadata": {},
     "output_type": "execute_result"
    }
   ],
   "source": [
    "diff_pct = (df.loc[:, '2022'] - df.loc[:, '2021']) / df.loc[:, '2021'] * 100\n",
    "df['Разница, %'] = diff_pct\n",
    "df"
   ]
  },
  {
   "cell_type": "markdown",
   "id": "c8256174-c144-4c78-9aa1-ebd142054c5f",
   "metadata": {},
   "source": [
    "**Вывод: стоимость мед.услуг в 2022 г. в данной клинике выросла в среднем на 6% по сравнению с показателями аналогичного периода 2021 года. \n",
    "Гипотеза не подтверждена.**"
   ]
  },
  {
   "cell_type": "markdown",
   "id": "3864bff2-64db-4b2b-bb8d-bbafa6e82df9",
   "metadata": {},
   "source": [
    "### Гипотеза 2\n",
    "**Стоимость лечения повысилась из-за изменения гендерного состава клиентского портфеля**"
   ]
  },
  {
   "cell_type": "markdown",
   "id": "7a6a5fe5-96a6-4b9e-ae77-7abddd85b4eb",
   "metadata": {},
   "source": [
    "Рассмотрим гендерное распределение по оказанным услугам."
   ]
  },
  {
   "cell_type": "markdown",
   "id": "bba59021-45fc-4161-b989-b92740384331",
   "metadata": {},
   "source": [
    "#### 2021"
   ]
  },
  {
   "cell_type": "code",
   "execution_count": 47,
   "id": "b1187c67-6ab3-44c5-8f92-198afaa09e38",
   "metadata": {
    "tags": []
   },
   "outputs": [
    {
     "data": {
      "image/png": "[encoded data removed]",
      "text/plain": [
       "<Figure size 432x288 with 1 Axes>"
      ]
     },
     "metadata": {},
     "output_type": "display_data"
    }
   ],
   "source": [
    "df_2021['sex_id'].value_counts().plot.pie(autopct='%.2f')\n",
    "plt.show()"
   ]
  },
  {
   "cell_type": "markdown",
   "id": "373b2562-fce3-4d77-bf4a-56085c14d8b1",
   "metadata": {
    "tags": []
   },
   "source": [
    "#### 2022"
   ]
  },
  {
   "cell_type": "code",
   "execution_count": 48,
   "id": "776e1274-ef78-4333-a967-c3317211e374",
   "metadata": {
    "tags": []
   },
   "outputs": [
    {
     "data": {
      "image/png": "[encoded data removed]",
      "text/plain": [
       "<Figure size 432x288 with 1 Axes>"
      ]
     },
     "metadata": {},
     "output_type": "display_data"
    }
   ],
   "source": [
    "df_2022['sex_id'].value_counts().plot.pie(autopct='%.2f')\n",
    "plt.show()"
   ]
  },
  {
   "cell_type": "markdown",
   "id": "5e63a9c6-68ee-4d92-8d44-a772357c9a11",
   "metadata": {
    "tags": []
   },
   "source": [
    "**Вывод:**  \n",
    "Распределение по полу в части объема услуг не изменилось, а значит это нельзя считать фактором повлиявшим на повышение цены.  \n",
    "Попробуем выяснить к какому полу относятся значения из датасета."
   ]
  },
  {
   "cell_type": "code",
   "execution_count": 49,
   "id": "a9628243-8866-45f6-b520-f3bb7599bc77",
   "metadata": {
    "tags": []
   },
   "outputs": [
    {
     "data": {
      "text/html": [
       "<div>\n",
       "<style scoped>\n",
       "    .dataframe tbody tr th:only-of-type {\n",
       "        vertical-align: middle;\n",
       "    }\n",
       "\n",
       "    .dataframe tbody tr th {\n",
       "        vertical-align: top;\n",
       "    }\n",
       "\n",
       "    .dataframe thead th {\n",
       "        text-align: right;\n",
       "    }\n",
       "</style>\n",
       "<table border=\"1\" class=\"dataframe\">\n",
       "  <thead>\n",
       "    <tr style=\"text-align: right;\">\n",
       "      <th></th>\n",
       "      <th>record_id</th>\n",
       "      <th>service_date</th>\n",
       "      <th>service_name</th>\n",
       "      <th>service_amount</th>\n",
       "      <th>service_number</th>\n",
       "      <th>insured</th>\n",
       "      <th>sex_id</th>\n",
       "      <th>age_for_service_date</th>\n",
       "      <th>service_price</th>\n",
       "      <th>age_group</th>\n",
       "    </tr>\n",
       "  </thead>\n",
       "  <tbody>\n",
       "    <tr>\n",
       "      <th>49315</th>\n",
       "      <td>32112481203</td>\n",
       "      <td>2022-02-18</td>\n",
       "      <td>Прием гинеколога, повторный</td>\n",
       "      <td>1380</td>\n",
       "      <td>1</td>\n",
       "      <td>651992</td>\n",
       "      <td>2.0</td>\n",
       "      <td>35</td>\n",
       "      <td>1380.0</td>\n",
       "      <td>3. 30-36</td>\n",
       "    </tr>\n",
       "    <tr>\n",
       "      <th>63327</th>\n",
       "      <td>32511092503</td>\n",
       "      <td>2022-04-04</td>\n",
       "      <td>Прием гинеколога, повторный</td>\n",
       "      <td>1380</td>\n",
       "      <td>1</td>\n",
       "      <td>935371</td>\n",
       "      <td>2.0</td>\n",
       "      <td>50</td>\n",
       "      <td>1380.0</td>\n",
       "      <td>6. 48-54</td>\n",
       "    </tr>\n",
       "    <tr>\n",
       "      <th>54615</th>\n",
       "      <td>32326904503</td>\n",
       "      <td>2022-03-19</td>\n",
       "      <td>Прием гинеколога, повторный</td>\n",
       "      <td>1380</td>\n",
       "      <td>1</td>\n",
       "      <td>842339</td>\n",
       "      <td>2.0</td>\n",
       "      <td>49</td>\n",
       "      <td>1380.0</td>\n",
       "      <td>6. 48-54</td>\n",
       "    </tr>\n",
       "  </tbody>\n",
       "</table>\n",
       "</div>"
      ],
      "text/plain": [
       "         record_id service_date                 service_name  service_amount  \\\n",
       "49315  32112481203   2022-02-18  Прием гинеколога, повторный            1380   \n",
       "63327  32511092503   2022-04-04  Прием гинеколога, повторный            1380   \n",
       "54615  32326904503   2022-03-19  Прием гинеколога, повторный            1380   \n",
       "\n",
       "       service_number  insured  sex_id  age_for_service_date  service_price  \\\n",
       "49315               1   651992     2.0                    35         1380.0   \n",
       "63327               1   935371     2.0                    50         1380.0   \n",
       "54615               1   842339     2.0                    49         1380.0   \n",
       "\n",
       "      age_group  \n",
       "49315  3. 30-36  \n",
       "63327  6. 48-54  \n",
       "54615  6. 48-54  "
      ]
     },
     "execution_count": 49,
     "metadata": {},
     "output_type": "execute_result"
    }
   ],
   "source": [
    "subset_22_wm = df_2022.loc[df_2022['service_name'].str.contains('гинеколога', case=False)]\n",
    "subset_22_wm.sample(3)"
   ]
  },
  {
   "cell_type": "markdown",
   "id": "71bf4047-50a6-40fc-95b2-2e90b4c1d112",
   "metadata": {},
   "source": [
    "Как ожидалось 1 - это мужчины, 2 - женщины."
   ]
  },
  {
   "cell_type": "code",
   "execution_count": 50,
   "id": "38108218-7e15-44c2-b59c-1c2f44ce3e4b",
   "metadata": {
    "tags": []
   },
   "outputs": [
    {
     "data": {
      "text/html": [
       "<div>\n",
       "<style scoped>\n",
       "    .dataframe tbody tr th:only-of-type {\n",
       "        vertical-align: middle;\n",
       "    }\n",
       "\n",
       "    .dataframe tbody tr th {\n",
       "        vertical-align: top;\n",
       "    }\n",
       "\n",
       "    .dataframe thead th {\n",
       "        text-align: right;\n",
       "    }\n",
       "</style>\n",
       "<table border=\"1\" class=\"dataframe\">\n",
       "  <thead>\n",
       "    <tr style=\"text-align: right;\">\n",
       "      <th></th>\n",
       "      <th>count</th>\n",
       "      <th>mean</th>\n",
       "    </tr>\n",
       "    <tr>\n",
       "      <th>sex_id</th>\n",
       "      <th></th>\n",
       "      <th></th>\n",
       "    </tr>\n",
       "  </thead>\n",
       "  <tbody>\n",
       "    <tr>\n",
       "      <th>1.0</th>\n",
       "      <td>10171</td>\n",
       "      <td>1126.661489</td>\n",
       "    </tr>\n",
       "    <tr>\n",
       "      <th>2.0</th>\n",
       "      <td>16544</td>\n",
       "      <td>1086.005198</td>\n",
       "    </tr>\n",
       "  </tbody>\n",
       "</table>\n",
       "</div>"
      ],
      "text/plain": [
       "        count         mean\n",
       "sex_id                    \n",
       "1.0     10171  1126.661489\n",
       "2.0     16544  1086.005198"
      ]
     },
     "execution_count": 50,
     "metadata": {},
     "output_type": "execute_result"
    }
   ],
   "source": [
    "df_2021.groupby('sex_id')['service_price'].agg(['count', 'mean'])"
   ]
  },
  {
   "cell_type": "code",
   "execution_count": 51,
   "id": "fad3f391-b23f-4baa-94d1-ac8418fcc712",
   "metadata": {
    "tags": []
   },
   "outputs": [
    {
     "data": {
      "text/html": [
       "<div>\n",
       "<style scoped>\n",
       "    .dataframe tbody tr th:only-of-type {\n",
       "        vertical-align: middle;\n",
       "    }\n",
       "\n",
       "    .dataframe tbody tr th {\n",
       "        vertical-align: top;\n",
       "    }\n",
       "\n",
       "    .dataframe thead th {\n",
       "        text-align: right;\n",
       "    }\n",
       "</style>\n",
       "<table border=\"1\" class=\"dataframe\">\n",
       "  <thead>\n",
       "    <tr style=\"text-align: right;\">\n",
       "      <th></th>\n",
       "      <th>count</th>\n",
       "      <th>mean</th>\n",
       "    </tr>\n",
       "    <tr>\n",
       "      <th>sex_id</th>\n",
       "      <th></th>\n",
       "      <th></th>\n",
       "    </tr>\n",
       "  </thead>\n",
       "  <tbody>\n",
       "    <tr>\n",
       "      <th>1.0</th>\n",
       "      <td>15182</td>\n",
       "      <td>1178.580029</td>\n",
       "    </tr>\n",
       "    <tr>\n",
       "      <th>2.0</th>\n",
       "      <td>25795</td>\n",
       "      <td>1181.727622</td>\n",
       "    </tr>\n",
       "  </tbody>\n",
       "</table>\n",
       "</div>"
      ],
      "text/plain": [
       "        count         mean\n",
       "sex_id                    \n",
       "1.0     15182  1178.580029\n",
       "2.0     25795  1181.727622"
      ]
     },
     "execution_count": 51,
     "metadata": {},
     "output_type": "execute_result"
    }
   ],
   "source": [
    "df_2022.groupby('sex_id')['service_price'].agg(['count', 'mean'])"
   ]
  },
  {
   "cell_type": "code",
   "execution_count": 52,
   "id": "b162b055-6b3e-43ba-80f4-ca8e2bf97598",
   "metadata": {
    "tags": []
   },
   "outputs": [
    {
     "data": {
      "text/html": [
       "<div>\n",
       "<style scoped>\n",
       "    .dataframe tbody tr th:only-of-type {\n",
       "        vertical-align: middle;\n",
       "    }\n",
       "\n",
       "    .dataframe tbody tr th {\n",
       "        vertical-align: top;\n",
       "    }\n",
       "\n",
       "    .dataframe thead th {\n",
       "        text-align: right;\n",
       "    }\n",
       "</style>\n",
       "<table border=\"1\" class=\"dataframe\">\n",
       "  <thead>\n",
       "    <tr style=\"text-align: right;\">\n",
       "      <th></th>\n",
       "      <th>count</th>\n",
       "    </tr>\n",
       "    <tr>\n",
       "      <th>sex_id</th>\n",
       "      <th></th>\n",
       "    </tr>\n",
       "  </thead>\n",
       "  <tbody>\n",
       "    <tr>\n",
       "      <th>1.0</th>\n",
       "      <td>15182</td>\n",
       "    </tr>\n",
       "    <tr>\n",
       "      <th>2.0</th>\n",
       "      <td>25795</td>\n",
       "    </tr>\n",
       "  </tbody>\n",
       "</table>\n",
       "</div>"
      ],
      "text/plain": [
       "        count\n",
       "sex_id       \n",
       "1.0     15182\n",
       "2.0     25795"
      ]
     },
     "execution_count": 52,
     "metadata": {},
     "output_type": "execute_result"
    }
   ],
   "source": [
    "df_2022.groupby('sex_id')['insured'].agg(['count'])"
   ]
  },
  {
   "cell_type": "code",
   "execution_count": 53,
   "id": "2f737f8c-3648-4507-9cf4-4f6368369f89",
   "metadata": {
    "tags": []
   },
   "outputs": [
    {
     "data": {
      "text/html": [
       "<div>\n",
       "<style scoped>\n",
       "    .dataframe tbody tr th:only-of-type {\n",
       "        vertical-align: middle;\n",
       "    }\n",
       "\n",
       "    .dataframe tbody tr th {\n",
       "        vertical-align: top;\n",
       "    }\n",
       "\n",
       "    .dataframe thead th {\n",
       "        text-align: right;\n",
       "    }\n",
       "</style>\n",
       "<table border=\"1\" class=\"dataframe\">\n",
       "  <thead>\n",
       "    <tr style=\"text-align: right;\">\n",
       "      <th></th>\n",
       "      <th>count_2021</th>\n",
       "      <th>mean_2021</th>\n",
       "      <th>count_2022</th>\n",
       "      <th>mean_2022</th>\n",
       "    </tr>\n",
       "    <tr>\n",
       "      <th>sex_id</th>\n",
       "      <th></th>\n",
       "      <th></th>\n",
       "      <th></th>\n",
       "      <th></th>\n",
       "    </tr>\n",
       "  </thead>\n",
       "  <tbody>\n",
       "    <tr>\n",
       "      <th>1.0</th>\n",
       "      <td>10171</td>\n",
       "      <td>1126.661489</td>\n",
       "      <td>15182</td>\n",
       "      <td>1178.580029</td>\n",
       "    </tr>\n",
       "    <tr>\n",
       "      <th>2.0</th>\n",
       "      <td>16544</td>\n",
       "      <td>1086.005198</td>\n",
       "      <td>25795</td>\n",
       "      <td>1181.727622</td>\n",
       "    </tr>\n",
       "  </tbody>\n",
       "</table>\n",
       "</div>"
      ],
      "text/plain": [
       "        count_2021    mean_2021  count_2022    mean_2022\n",
       "sex_id                                                  \n",
       "1.0          10171  1126.661489       15182  1178.580029\n",
       "2.0          16544  1086.005198       25795  1181.727622"
      ]
     },
     "execution_count": 53,
     "metadata": {},
     "output_type": "execute_result"
    }
   ],
   "source": [
    "df_mw_21 = df_2021.groupby('sex_id')['service_price'].agg(['count', 'mean'])\n",
    "df_mw_22 = df_2022.groupby('sex_id')['service_price'].agg(['count', 'mean'])\n",
    "merged_df = df_mw_21.merge(df_mw_22, on='sex_id', suffixes=('_2021', '_2022'))\n",
    "merged_df"
   ]
  },
  {
   "cell_type": "code",
   "execution_count": 54,
   "id": "b4dbec22-ec9b-46e4-89c7-fd19b014d8b5",
   "metadata": {
    "tags": []
   },
   "outputs": [
    {
     "data": {
      "text/html": [
       "<div>\n",
       "<style scoped>\n",
       "    .dataframe tbody tr th:only-of-type {\n",
       "        vertical-align: middle;\n",
       "    }\n",
       "\n",
       "    .dataframe tbody tr th {\n",
       "        vertical-align: top;\n",
       "    }\n",
       "\n",
       "    .dataframe thead th {\n",
       "        text-align: right;\n",
       "    }\n",
       "</style>\n",
       "<table border=\"1\" class=\"dataframe\">\n",
       "  <thead>\n",
       "    <tr style=\"text-align: right;\">\n",
       "      <th></th>\n",
       "      <th>count_2021</th>\n",
       "      <th>mean_2021</th>\n",
       "      <th>count_2022</th>\n",
       "      <th>mean_2022</th>\n",
       "      <th>price_change_pct</th>\n",
       "    </tr>\n",
       "    <tr>\n",
       "      <th>sex_id</th>\n",
       "      <th></th>\n",
       "      <th></th>\n",
       "      <th></th>\n",
       "      <th></th>\n",
       "      <th></th>\n",
       "    </tr>\n",
       "  </thead>\n",
       "  <tbody>\n",
       "    <tr>\n",
       "      <th>1.0</th>\n",
       "      <td>10171</td>\n",
       "      <td>1126.661489</td>\n",
       "      <td>15182</td>\n",
       "      <td>1178.580029</td>\n",
       "      <td>4.608176</td>\n",
       "    </tr>\n",
       "    <tr>\n",
       "      <th>2.0</th>\n",
       "      <td>16544</td>\n",
       "      <td>1086.005198</td>\n",
       "      <td>25795</td>\n",
       "      <td>1181.727622</td>\n",
       "      <td>8.814177</td>\n",
       "    </tr>\n",
       "  </tbody>\n",
       "</table>\n",
       "</div>"
      ],
      "text/plain": [
       "        count_2021    mean_2021  count_2022    mean_2022  price_change_pct\n",
       "sex_id                                                                    \n",
       "1.0          10171  1126.661489       15182  1178.580029          4.608176\n",
       "2.0          16544  1086.005198       25795  1181.727622          8.814177"
      ]
     },
     "execution_count": 54,
     "metadata": {},
     "output_type": "execute_result"
    }
   ],
   "source": [
    "merged_df['price_change_pct'] = ((merged_df['mean_2022'] - merged_df['mean_2021']) / merged_df['mean_2021']) * 100\n",
    "merged_df "
   ]
  },
  {
   "cell_type": "markdown",
   "id": "1fcb3503-ee17-4154-add9-49bd2d1a61c1",
   "metadata": {},
   "source": [
    "Средняя стоимость услуг для женщин увеличилась значительно выше среднего значения по портфелю: 8,81% против 6%\n",
    "\n",
    "Посмотрим на доли уникальных клиентов. Для этого напишем маленькую функцию."
   ]
  },
  {
   "cell_type": "code",
   "execution_count": 55,
   "id": "39d7cc63-b708-4673-9ae3-afe5373c46ce",
   "metadata": {
    "tags": []
   },
   "outputs": [],
   "source": [
    "def count_unique(series):\n",
    "    return len(series.unique())"
   ]
  },
  {
   "cell_type": "markdown",
   "id": "3be2f1ec-85c0-4908-8e53-2dd0dc24149a",
   "metadata": {
    "tags": []
   },
   "source": [
    "#### 2021"
   ]
  },
  {
   "cell_type": "code",
   "execution_count": 56,
   "id": "3dfe4543-9904-459f-b1a4-abc311efb7a4",
   "metadata": {
    "tags": []
   },
   "outputs": [
    {
     "data": {
      "text/html": [
       "<div>\n",
       "<style scoped>\n",
       "    .dataframe tbody tr th:only-of-type {\n",
       "        vertical-align: middle;\n",
       "    }\n",
       "\n",
       "    .dataframe tbody tr th {\n",
       "        vertical-align: top;\n",
       "    }\n",
       "\n",
       "    .dataframe thead th {\n",
       "        text-align: right;\n",
       "    }\n",
       "</style>\n",
       "<table border=\"1\" class=\"dataframe\">\n",
       "  <thead>\n",
       "    <tr style=\"text-align: right;\">\n",
       "      <th></th>\n",
       "      <th>insured</th>\n",
       "    </tr>\n",
       "    <tr>\n",
       "      <th>sex_id</th>\n",
       "      <th></th>\n",
       "    </tr>\n",
       "  </thead>\n",
       "  <tbody>\n",
       "    <tr>\n",
       "      <th>1.0</th>\n",
       "      <td>725</td>\n",
       "    </tr>\n",
       "    <tr>\n",
       "      <th>2.0</th>\n",
       "      <td>1006</td>\n",
       "    </tr>\n",
       "  </tbody>\n",
       "</table>\n",
       "</div>"
      ],
      "text/plain": [
       "        insured\n",
       "sex_id         \n",
       "1.0         725\n",
       "2.0        1006"
      ]
     },
     "execution_count": 56,
     "metadata": {},
     "output_type": "execute_result"
    }
   ],
   "source": [
    "pivot_table_21 = pd.pivot_table(df_2021, values='insured', index='sex_id', aggfunc=count_unique)\n",
    "pivot_table_21 "
   ]
  },
  {
   "cell_type": "markdown",
   "id": "ae8d65bc-ada2-4aba-873a-6bf1a40320d4",
   "metadata": {
    "tags": []
   },
   "source": [
    "#### 2022"
   ]
  },
  {
   "cell_type": "code",
   "execution_count": 57,
   "id": "b9e592a8-8aeb-4b56-82b0-293c832ad294",
   "metadata": {
    "tags": []
   },
   "outputs": [
    {
     "data": {
      "text/html": [
       "<div>\n",
       "<style scoped>\n",
       "    .dataframe tbody tr th:only-of-type {\n",
       "        vertical-align: middle;\n",
       "    }\n",
       "\n",
       "    .dataframe tbody tr th {\n",
       "        vertical-align: top;\n",
       "    }\n",
       "\n",
       "    .dataframe thead th {\n",
       "        text-align: right;\n",
       "    }\n",
       "</style>\n",
       "<table border=\"1\" class=\"dataframe\">\n",
       "  <thead>\n",
       "    <tr style=\"text-align: right;\">\n",
       "      <th></th>\n",
       "      <th>insured</th>\n",
       "    </tr>\n",
       "    <tr>\n",
       "      <th>sex_id</th>\n",
       "      <th></th>\n",
       "    </tr>\n",
       "  </thead>\n",
       "  <tbody>\n",
       "    <tr>\n",
       "      <th>1.0</th>\n",
       "      <td>1164</td>\n",
       "    </tr>\n",
       "    <tr>\n",
       "      <th>2.0</th>\n",
       "      <td>1593</td>\n",
       "    </tr>\n",
       "  </tbody>\n",
       "</table>\n",
       "</div>"
      ],
      "text/plain": [
       "        insured\n",
       "sex_id         \n",
       "1.0        1164\n",
       "2.0        1593"
      ]
     },
     "execution_count": 57,
     "metadata": {},
     "output_type": "execute_result"
    }
   ],
   "source": [
    "pivot_table_22 = pd.pivot_table(df_2022, values='insured', index='sex_id', aggfunc=count_unique)\n",
    "pivot_table_22 "
   ]
  },
  {
   "cell_type": "markdown",
   "id": "d59ce484-89fd-4139-9b33-47f5006f50ba",
   "metadata": {},
   "source": [
    "**Вывод:**  \n",
    "Клиентское распределение по гендеру практически не изменилось.  Но изменение цен на услуги не равномерно.   \n",
    "Если брать за baseline среднее значение в 6% инфляции на мед.услуги по данной клинике, то можно сделать вывод, что на услугах для мужчин повышение отразилось в меньшей степени - 4,6%. \n",
    "В то время как услуги для женщин стали дороже на 8.81%.  \n",
    "\n",
    "**Гендерное распределение клиентов в клинике не изменилось, однако повышение средней стоимости на услуги для женщины превышает среднее значение.\n",
    "Гипотеза не подтверждена.**"
   ]
  },
  {
   "cell_type": "markdown",
   "id": "6f521536-6b85-479d-8942-450270d8dfcf",
   "metadata": {
    "tags": []
   },
   "source": [
    "## Гипотеза 3\n",
    "**Стоимость лечения повысилась из-за изменения возрастного распределения клиентского портфеля**"
   ]
  },
  {
   "cell_type": "markdown",
   "id": "24db7b4c-72b9-4be3-b67c-0ef78113d153",
   "metadata": {
    "tags": []
   },
   "source": [
    "Рассмотрим возрастные сегменты по объему оказанных услуг."
   ]
  },
  {
   "cell_type": "code",
   "execution_count": 63,
   "id": "07991134-f4e2-4ae1-a184-5cfe739e4cd2",
   "metadata": {
    "tags": []
   },
   "outputs": [],
   "source": [
    "df_age21 = df_2021.groupby(['age_group'])['service_price'].agg(['count', 'mean'])\n",
    "df_age22 = df_2022.groupby(['age_group'])['service_price'].agg(['count', 'mean'])"
   ]
  },
  {
   "cell_type": "code",
   "execution_count": 64,
   "id": "88060063-6bcb-4583-94e2-1fc0f4fd1e70",
   "metadata": {
    "tags": []
   },
   "outputs": [
    {
     "data": {
      "text/html": [
       "<div>\n",
       "<style scoped>\n",
       "    .dataframe tbody tr th:only-of-type {\n",
       "        vertical-align: middle;\n",
       "    }\n",
       "\n",
       "    .dataframe tbody tr th {\n",
       "        vertical-align: top;\n",
       "    }\n",
       "\n",
       "    .dataframe thead th {\n",
       "        text-align: right;\n",
       "    }\n",
       "</style>\n",
       "<table border=\"1\" class=\"dataframe\">\n",
       "  <thead>\n",
       "    <tr style=\"text-align: right;\">\n",
       "      <th></th>\n",
       "      <th>count_2021</th>\n",
       "      <th>mean_2021</th>\n",
       "      <th>count_2022</th>\n",
       "      <th>mean_2022</th>\n",
       "      <th>price_change_pct</th>\n",
       "    </tr>\n",
       "    <tr>\n",
       "      <th>age_group</th>\n",
       "      <th></th>\n",
       "      <th></th>\n",
       "      <th></th>\n",
       "      <th></th>\n",
       "      <th></th>\n",
       "    </tr>\n",
       "  </thead>\n",
       "  <tbody>\n",
       "    <tr>\n",
       "      <th>0. до 18</th>\n",
       "      <td>2287</td>\n",
       "      <td>1118.546130</td>\n",
       "      <td>2881</td>\n",
       "      <td>1118.707046</td>\n",
       "      <td>0.014386</td>\n",
       "    </tr>\n",
       "    <tr>\n",
       "      <th>1. 18-24</th>\n",
       "      <td>923</td>\n",
       "      <td>1086.422535</td>\n",
       "      <td>1905</td>\n",
       "      <td>1200.346457</td>\n",
       "      <td>10.486152</td>\n",
       "    </tr>\n",
       "    <tr>\n",
       "      <th>2. 24-30</th>\n",
       "      <td>5620</td>\n",
       "      <td>1087.128114</td>\n",
       "      <td>7882</td>\n",
       "      <td>1203.581705</td>\n",
       "      <td>10.712039</td>\n",
       "    </tr>\n",
       "    <tr>\n",
       "      <th>3. 30-36</th>\n",
       "      <td>6487</td>\n",
       "      <td>1086.504702</td>\n",
       "      <td>9918</td>\n",
       "      <td>1188.480238</td>\n",
       "      <td>9.385651</td>\n",
       "    </tr>\n",
       "    <tr>\n",
       "      <th>4. 36-42</th>\n",
       "      <td>5080</td>\n",
       "      <td>1087.585630</td>\n",
       "      <td>8639</td>\n",
       "      <td>1194.815719</td>\n",
       "      <td>9.859462</td>\n",
       "    </tr>\n",
       "    <tr>\n",
       "      <th>5. 42-48</th>\n",
       "      <td>3039</td>\n",
       "      <td>1163.701547</td>\n",
       "      <td>4959</td>\n",
       "      <td>1156.576124</td>\n",
       "      <td>-0.612307</td>\n",
       "    </tr>\n",
       "    <tr>\n",
       "      <th>6. 48-54</th>\n",
       "      <td>1886</td>\n",
       "      <td>1098.449099</td>\n",
       "      <td>2708</td>\n",
       "      <td>1150.684269</td>\n",
       "      <td>4.755356</td>\n",
       "    </tr>\n",
       "    <tr>\n",
       "      <th>7. 54 - 60</th>\n",
       "      <td>677</td>\n",
       "      <td>1059.979321</td>\n",
       "      <td>1290</td>\n",
       "      <td>1149.147287</td>\n",
       "      <td>8.412236</td>\n",
       "    </tr>\n",
       "    <tr>\n",
       "      <th>8. 60+</th>\n",
       "      <td>737</td>\n",
       "      <td>1192.204885</td>\n",
       "      <td>795</td>\n",
       "      <td>1177.743396</td>\n",
       "      <td>-1.213004</td>\n",
       "    </tr>\n",
       "  </tbody>\n",
       "</table>\n",
       "</div>"
      ],
      "text/plain": [
       "            count_2021    mean_2021  count_2022    mean_2022  price_change_pct\n",
       "age_group                                                                     \n",
       "0. до 18          2287  1118.546130        2881  1118.707046          0.014386\n",
       "1. 18-24           923  1086.422535        1905  1200.346457         10.486152\n",
       "2. 24-30          5620  1087.128114        7882  1203.581705         10.712039\n",
       "3. 30-36          6487  1086.504702        9918  1188.480238          9.385651\n",
       "4. 36-42          5080  1087.585630        8639  1194.815719          9.859462\n",
       "5. 42-48          3039  1163.701547        4959  1156.576124         -0.612307\n",
       "6. 48-54          1886  1098.449099        2708  1150.684269          4.755356\n",
       "7. 54 - 60         677  1059.979321        1290  1149.147287          8.412236\n",
       "8. 60+             737  1192.204885         795  1177.743396         -1.213004"
      ]
     },
     "execution_count": 64,
     "metadata": {},
     "output_type": "execute_result"
    }
   ],
   "source": [
    "merged_df = df_age21.merge(df_age22, on='age_group', suffixes=('_2021', '_2022'))\n",
    "merged_df['price_change_pct'] = ((merged_df['mean_2022'] - merged_df['mean_2021']) / merged_df['mean_2021']) * 100\n",
    "merged_df "
   ]
  },
  {
   "cell_type": "markdown",
   "id": "4ea211a1-bea8-4183-82f8-2ed975b3cf78",
   "metadata": {
    "tags": []
   },
   "source": [
    "Для наглядности добавим сравнение долей."
   ]
  },
  {
   "cell_type": "code",
   "execution_count": 65,
   "id": "380472df-ab84-4e8c-80ae-9046ffb5bf6d",
   "metadata": {
    "tags": []
   },
   "outputs": [
    {
     "data": {
      "text/html": [
       "<div>\n",
       "<style scoped>\n",
       "    .dataframe tbody tr th:only-of-type {\n",
       "        vertical-align: middle;\n",
       "    }\n",
       "\n",
       "    .dataframe tbody tr th {\n",
       "        vertical-align: top;\n",
       "    }\n",
       "\n",
       "    .dataframe thead th {\n",
       "        text-align: right;\n",
       "    }\n",
       "</style>\n",
       "<table border=\"1\" class=\"dataframe\">\n",
       "  <thead>\n",
       "    <tr style=\"text-align: right;\">\n",
       "      <th></th>\n",
       "      <th>count_2021</th>\n",
       "      <th>mean_2021</th>\n",
       "      <th>count_2022</th>\n",
       "      <th>mean_2022</th>\n",
       "      <th>price_change_pct</th>\n",
       "      <th>2021_pct</th>\n",
       "      <th>2022_pct</th>\n",
       "    </tr>\n",
       "    <tr>\n",
       "      <th>age_group</th>\n",
       "      <th></th>\n",
       "      <th></th>\n",
       "      <th></th>\n",
       "      <th></th>\n",
       "      <th></th>\n",
       "      <th></th>\n",
       "      <th></th>\n",
       "    </tr>\n",
       "  </thead>\n",
       "  <tbody>\n",
       "    <tr>\n",
       "      <th>0. до 18</th>\n",
       "      <td>2287</td>\n",
       "      <td>1118.546130</td>\n",
       "      <td>2881</td>\n",
       "      <td>1118.707046</td>\n",
       "      <td>0.014386</td>\n",
       "      <td>8.554010</td>\n",
       "      <td>7.030773</td>\n",
       "    </tr>\n",
       "    <tr>\n",
       "      <th>1. 18-24</th>\n",
       "      <td>923</td>\n",
       "      <td>1086.422535</td>\n",
       "      <td>1905</td>\n",
       "      <td>1200.346457</td>\n",
       "      <td>10.486152</td>\n",
       "      <td>3.452274</td>\n",
       "      <td>4.648949</td>\n",
       "    </tr>\n",
       "    <tr>\n",
       "      <th>2. 24-30</th>\n",
       "      <td>5620</td>\n",
       "      <td>1087.128114</td>\n",
       "      <td>7882</td>\n",
       "      <td>1203.581705</td>\n",
       "      <td>10.712039</td>\n",
       "      <td>21.020347</td>\n",
       "      <td>19.235181</td>\n",
       "    </tr>\n",
       "    <tr>\n",
       "      <th>3. 30-36</th>\n",
       "      <td>6487</td>\n",
       "      <td>1086.504702</td>\n",
       "      <td>9918</td>\n",
       "      <td>1188.480238</td>\n",
       "      <td>9.385651</td>\n",
       "      <td>24.263166</td>\n",
       "      <td>24.203822</td>\n",
       "    </tr>\n",
       "    <tr>\n",
       "      <th>4. 36-42</th>\n",
       "      <td>5080</td>\n",
       "      <td>1087.585630</td>\n",
       "      <td>8639</td>\n",
       "      <td>1194.815719</td>\n",
       "      <td>9.859462</td>\n",
       "      <td>19.000598</td>\n",
       "      <td>21.082559</td>\n",
       "    </tr>\n",
       "    <tr>\n",
       "      <th>5. 42-48</th>\n",
       "      <td>3039</td>\n",
       "      <td>1163.701547</td>\n",
       "      <td>4959</td>\n",
       "      <td>1156.576124</td>\n",
       "      <td>-0.612307</td>\n",
       "      <td>11.366697</td>\n",
       "      <td>12.101911</td>\n",
       "    </tr>\n",
       "    <tr>\n",
       "      <th>6. 48-54</th>\n",
       "      <td>1886</td>\n",
       "      <td>1098.449099</td>\n",
       "      <td>2708</td>\n",
       "      <td>1150.684269</td>\n",
       "      <td>4.755356</td>\n",
       "      <td>7.054159</td>\n",
       "      <td>6.608585</td>\n",
       "    </tr>\n",
       "    <tr>\n",
       "      <th>7. 54 - 60</th>\n",
       "      <td>677</td>\n",
       "      <td>1059.979321</td>\n",
       "      <td>1290</td>\n",
       "      <td>1149.147287</td>\n",
       "      <td>8.412236</td>\n",
       "      <td>2.532166</td>\n",
       "      <td>3.148107</td>\n",
       "    </tr>\n",
       "    <tr>\n",
       "      <th>8. 60+</th>\n",
       "      <td>737</td>\n",
       "      <td>1192.204885</td>\n",
       "      <td>795</td>\n",
       "      <td>1177.743396</td>\n",
       "      <td>-1.213004</td>\n",
       "      <td>2.756583</td>\n",
       "      <td>1.940113</td>\n",
       "    </tr>\n",
       "  </tbody>\n",
       "</table>\n",
       "</div>"
      ],
      "text/plain": [
       "            count_2021    mean_2021  count_2022    mean_2022  \\\n",
       "age_group                                                      \n",
       "0. до 18          2287  1118.546130        2881  1118.707046   \n",
       "1. 18-24           923  1086.422535        1905  1200.346457   \n",
       "2. 24-30          5620  1087.128114        7882  1203.581705   \n",
       "3. 30-36          6487  1086.504702        9918  1188.480238   \n",
       "4. 36-42          5080  1087.585630        8639  1194.815719   \n",
       "5. 42-48          3039  1163.701547        4959  1156.576124   \n",
       "6. 48-54          1886  1098.449099        2708  1150.684269   \n",
       "7. 54 - 60         677  1059.979321        1290  1149.147287   \n",
       "8. 60+             737  1192.204885         795  1177.743396   \n",
       "\n",
       "            price_change_pct   2021_pct   2022_pct  \n",
       "age_group                                           \n",
       "0. до 18            0.014386   8.554010   7.030773  \n",
       "1. 18-24           10.486152   3.452274   4.648949  \n",
       "2. 24-30           10.712039  21.020347  19.235181  \n",
       "3. 30-36            9.385651  24.263166  24.203822  \n",
       "4. 36-42            9.859462  19.000598  21.082559  \n",
       "5. 42-48           -0.612307  11.366697  12.101911  \n",
       "6. 48-54            4.755356   7.054159   6.608585  \n",
       "7. 54 - 60          8.412236   2.532166   3.148107  \n",
       "8. 60+             -1.213004   2.756583   1.940113  "
      ]
     },
     "execution_count": 65,
     "metadata": {},
     "output_type": "execute_result"
    }
   ],
   "source": [
    "merged_df['2021_pct'] = merged_df['count_2021'] / merged_df['count_2021'].sum() *100\n",
    "merged_df['2022_pct'] = merged_df['count_2022'] / merged_df['count_2022'].sum() *100\n",
    "merged_df"
   ]
  },
  {
   "cell_type": "markdown",
   "id": "c08768a5-a457-42f5-aa9c-b7f37f2514b1",
   "metadata": {},
   "source": [
    "**Вывод: возрастная структура не претерпела значительных изменений.**  \n",
    "Наблюдаются незначительные изменения долей в сегменте 18-42.\n",
    "\n",
    "Данная таблица отражает именно объемы услуг и их распределение по возрастной структуре клиентского портфеля.  \n",
    "Теперь можем посмотреть распределение по количеству уникальных клиентов"
   ]
  },
  {
   "cell_type": "code",
   "execution_count": 66,
   "id": "14d2ec35-be12-4b11-aeff-010751702c79",
   "metadata": {
    "tags": []
   },
   "outputs": [
    {
     "data": {
      "text/html": [
       "<div>\n",
       "<style scoped>\n",
       "    .dataframe tbody tr th:only-of-type {\n",
       "        vertical-align: middle;\n",
       "    }\n",
       "\n",
       "    .dataframe tbody tr th {\n",
       "        vertical-align: top;\n",
       "    }\n",
       "\n",
       "    .dataframe thead th {\n",
       "        text-align: right;\n",
       "    }\n",
       "</style>\n",
       "<table border=\"1\" class=\"dataframe\">\n",
       "  <thead>\n",
       "    <tr style=\"text-align: right;\">\n",
       "      <th></th>\n",
       "      <th>insured_2021</th>\n",
       "      <th>insured_2022</th>\n",
       "      <th>2021_pct</th>\n",
       "      <th>2022_pct</th>\n",
       "    </tr>\n",
       "    <tr>\n",
       "      <th>age_group</th>\n",
       "      <th></th>\n",
       "      <th></th>\n",
       "      <th></th>\n",
       "      <th></th>\n",
       "    </tr>\n",
       "  </thead>\n",
       "  <tbody>\n",
       "    <tr>\n",
       "      <th>0. до 18</th>\n",
       "      <td>276</td>\n",
       "      <td>311</td>\n",
       "      <td>15.681818</td>\n",
       "      <td>11.115082</td>\n",
       "    </tr>\n",
       "    <tr>\n",
       "      <th>1. 18-24</th>\n",
       "      <td>77</td>\n",
       "      <td>164</td>\n",
       "      <td>4.375000</td>\n",
       "      <td>5.861330</td>\n",
       "    </tr>\n",
       "    <tr>\n",
       "      <th>2. 24-30</th>\n",
       "      <td>345</td>\n",
       "      <td>578</td>\n",
       "      <td>19.602273</td>\n",
       "      <td>20.657613</td>\n",
       "    </tr>\n",
       "    <tr>\n",
       "      <th>3. 30-36</th>\n",
       "      <td>430</td>\n",
       "      <td>689</td>\n",
       "      <td>24.431818</td>\n",
       "      <td>24.624732</td>\n",
       "    </tr>\n",
       "    <tr>\n",
       "      <th>4. 36-42</th>\n",
       "      <td>309</td>\n",
       "      <td>546</td>\n",
       "      <td>17.556818</td>\n",
       "      <td>19.513939</td>\n",
       "    </tr>\n",
       "    <tr>\n",
       "      <th>5. 42-48</th>\n",
       "      <td>166</td>\n",
       "      <td>264</td>\n",
       "      <td>9.431818</td>\n",
       "      <td>9.435311</td>\n",
       "    </tr>\n",
       "    <tr>\n",
       "      <th>6. 48-54</th>\n",
       "      <td>84</td>\n",
       "      <td>131</td>\n",
       "      <td>4.772727</td>\n",
       "      <td>4.681916</td>\n",
       "    </tr>\n",
       "    <tr>\n",
       "      <th>7. 54 - 60</th>\n",
       "      <td>42</td>\n",
       "      <td>68</td>\n",
       "      <td>2.386364</td>\n",
       "      <td>2.430307</td>\n",
       "    </tr>\n",
       "    <tr>\n",
       "      <th>8. 60+</th>\n",
       "      <td>31</td>\n",
       "      <td>47</td>\n",
       "      <td>1.761364</td>\n",
       "      <td>1.679771</td>\n",
       "    </tr>\n",
       "  </tbody>\n",
       "</table>\n",
       "</div>"
      ],
      "text/plain": [
       "            insured_2021  insured_2022   2021_pct   2022_pct\n",
       "age_group                                                   \n",
       "0. до 18             276           311  15.681818  11.115082\n",
       "1. 18-24              77           164   4.375000   5.861330\n",
       "2. 24-30             345           578  19.602273  20.657613\n",
       "3. 30-36             430           689  24.431818  24.624732\n",
       "4. 36-42             309           546  17.556818  19.513939\n",
       "5. 42-48             166           264   9.431818   9.435311\n",
       "6. 48-54              84           131   4.772727   4.681916\n",
       "7. 54 - 60            42            68   2.386364   2.430307\n",
       "8. 60+                31            47   1.761364   1.679771"
      ]
     },
     "execution_count": 66,
     "metadata": {},
     "output_type": "execute_result"
    }
   ],
   "source": [
    "pivot_table_21 = pd.pivot_table(df_2021, values='insured', index='age_group', aggfunc=count_unique)\n",
    "pivot_table_22 = pd.pivot_table(df_2022, values='insured', index='age_group', aggfunc=count_unique)\n",
    "merged_df = pivot_table_21.merge(pivot_table_22, on='age_group', suffixes=('_2021', '_2022'))\n",
    "merged_df['2021_pct'] = merged_df['insured_2021'] / merged_df['insured_2021'].sum() *100\n",
    "merged_df['2022_pct'] = merged_df['insured_2022'] / merged_df['insured_2022'].sum() *100\n",
    "merged_df"
   ]
  },
  {
   "cell_type": "markdown",
   "id": "ad55ea67-ae32-4093-84f5-5898bf25aa78",
   "metadata": {},
   "source": [
    "По уникальным клиентам ситуация аналогичная. Значительные изменения можно выделить только в сегменте клиентов до 18 лет."
   ]
  },
  {
   "cell_type": "markdown",
   "id": "96eb7cac-a70c-47b4-898f-a221392b0d11",
   "metadata": {
    "tags": []
   },
   "source": [
    "**Вывод: изменение цены на мед.услуги не носит централизованный характер. Для различных поло-возрастных сегментов показатель изменения значительно отличается.\n",
    "При этом можно выделить:**\n",
    "- не типичное(в контексте среднего значения) повышение цены на услуги для женщин - 9%\n",
    "- не типичное повышение цен на услуги для сегмента 18-42 лет - 10%\n",
    "\n",
    "**Значительных изменений клиентского портфеля по возрасту не выявлено, при этом выявлено не типичное повышение цен на услуги для отдельных сегментов по возрасту, а также на услуги для женщин.  \n",
    "Гипотеза не подтверждена.**"
   ]
  },
  {
   "cell_type": "markdown",
   "id": "c1b56973-a5c8-46df-9eae-5d49680c709a",
   "metadata": {},
   "source": [
    "### Гипотеза 4\n",
    "**Стоимость лечения повысилась из-за появления уникальных и дорогостоящих услуг**"
   ]
  },
  {
   "cell_type": "code",
   "execution_count": 57,
   "id": "d729425c-0e1d-4943-89a6-e05871d6f2ef",
   "metadata": {
    "tags": []
   },
   "outputs": [
    {
     "data": {
      "text/html": [
       "<div>\n",
       "<style scoped>\n",
       "    .dataframe tbody tr th:only-of-type {\n",
       "        vertical-align: middle;\n",
       "    }\n",
       "\n",
       "    .dataframe tbody tr th {\n",
       "        vertical-align: top;\n",
       "    }\n",
       "\n",
       "    .dataframe thead th {\n",
       "        text-align: right;\n",
       "    }\n",
       "</style>\n",
       "<table border=\"1\" class=\"dataframe\">\n",
       "  <thead>\n",
       "    <tr style=\"text-align: right;\">\n",
       "      <th></th>\n",
       "      <th>record_id</th>\n",
       "      <th>service_date</th>\n",
       "      <th>service_name</th>\n",
       "      <th>service_amount</th>\n",
       "      <th>service_number</th>\n",
       "      <th>insured</th>\n",
       "      <th>sex_id</th>\n",
       "      <th>age_for_service_date</th>\n",
       "      <th>service_price</th>\n",
       "      <th>age_group</th>\n",
       "    </tr>\n",
       "  </thead>\n",
       "  <tbody>\n",
       "    <tr>\n",
       "      <th>18519</th>\n",
       "      <td>30961787103</td>\n",
       "      <td>2021-06-24</td>\n",
       "      <td>гистерорезектоскопия при полипах , РДВ</td>\n",
       "      <td>26999</td>\n",
       "      <td>1</td>\n",
       "      <td>362928</td>\n",
       "      <td>2.0</td>\n",
       "      <td>51</td>\n",
       "      <td>26999.0</td>\n",
       "      <td>6. 48-54</td>\n",
       "    </tr>\n",
       "    <tr>\n",
       "      <th>15588</th>\n",
       "      <td>30961493203</td>\n",
       "      <td>2021-06-17</td>\n",
       "      <td>МРТ брюшной полости и забрюшинного пространств...</td>\n",
       "      <td>17325</td>\n",
       "      <td>1</td>\n",
       "      <td>634755</td>\n",
       "      <td>1.0</td>\n",
       "      <td>41</td>\n",
       "      <td>17325.0</td>\n",
       "      <td>4. 36-42</td>\n",
       "    </tr>\n",
       "    <tr>\n",
       "      <th>23794</th>\n",
       "      <td>31249334503</td>\n",
       "      <td>2021-08-20</td>\n",
       "      <td>МРТ головного мозга и гипофиза с контрастирова...</td>\n",
       "      <td>15225</td>\n",
       "      <td>1</td>\n",
       "      <td>544627</td>\n",
       "      <td>2.0</td>\n",
       "      <td>34</td>\n",
       "      <td>15225.0</td>\n",
       "      <td>3. 30-36</td>\n",
       "    </tr>\n",
       "    <tr>\n",
       "      <th>16373</th>\n",
       "      <td>30961571703</td>\n",
       "      <td>2021-06-06</td>\n",
       "      <td>МСКТ мочевыделительной системы с внутривенным ...</td>\n",
       "      <td>12075</td>\n",
       "      <td>1</td>\n",
       "      <td>634765</td>\n",
       "      <td>1.0</td>\n",
       "      <td>42</td>\n",
       "      <td>12075.0</td>\n",
       "      <td>5. 42-48</td>\n",
       "    </tr>\n",
       "    <tr>\n",
       "      <th>18518</th>\n",
       "      <td>30961787003</td>\n",
       "      <td>2021-06-24</td>\n",
       "      <td>Тотальная внутривенная анестезия от 20 минут д...</td>\n",
       "      <td>11550</td>\n",
       "      <td>1</td>\n",
       "      <td>362928</td>\n",
       "      <td>2.0</td>\n",
       "      <td>51</td>\n",
       "      <td>11550.0</td>\n",
       "      <td>6. 48-54</td>\n",
       "    </tr>\n",
       "    <tr>\n",
       "      <th>8316</th>\n",
       "      <td>30620826503</td>\n",
       "      <td>2021-04-13</td>\n",
       "      <td>МСКТ почек и надпочечников с внутривенным болю...</td>\n",
       "      <td>11025</td>\n",
       "      <td>1</td>\n",
       "      <td>544444</td>\n",
       "      <td>1.0</td>\n",
       "      <td>31</td>\n",
       "      <td>11025.0</td>\n",
       "      <td>3. 30-36</td>\n",
       "    </tr>\n",
       "    <tr>\n",
       "      <th>7416</th>\n",
       "      <td>30489600503</td>\n",
       "      <td>2021-03-28</td>\n",
       "      <td>МРТ гипофиза с контрастированием</td>\n",
       "      <td>9450</td>\n",
       "      <td>1</td>\n",
       "      <td>261304</td>\n",
       "      <td>1.0</td>\n",
       "      <td>37</td>\n",
       "      <td>9450.0</td>\n",
       "      <td>4. 36-42</td>\n",
       "    </tr>\n",
       "    <tr>\n",
       "      <th>26662</th>\n",
       "      <td>31249624503</td>\n",
       "      <td>2021-08-20</td>\n",
       "      <td>МРТ гипофиза с контрастированием</td>\n",
       "      <td>9450</td>\n",
       "      <td>1</td>\n",
       "      <td>680963</td>\n",
       "      <td>2.0</td>\n",
       "      <td>35</td>\n",
       "      <td>9450.0</td>\n",
       "      <td>3. 30-36</td>\n",
       "    </tr>\n",
       "    <tr>\n",
       "      <th>8115</th>\n",
       "      <td>30620806303</td>\n",
       "      <td>2021-04-14</td>\n",
       "      <td>МРТ головного мозга с контрастированием</td>\n",
       "      <td>9450</td>\n",
       "      <td>1</td>\n",
       "      <td>180725</td>\n",
       "      <td>2.0</td>\n",
       "      <td>25</td>\n",
       "      <td>9450.0</td>\n",
       "      <td>2. 24-30</td>\n",
       "    </tr>\n",
       "    <tr>\n",
       "      <th>7761</th>\n",
       "      <td>30489635003</td>\n",
       "      <td>2021-03-19</td>\n",
       "      <td>Хирургическое удаление доброкачественной опухо...</td>\n",
       "      <td>7665</td>\n",
       "      <td>1</td>\n",
       "      <td>512469</td>\n",
       "      <td>1.0</td>\n",
       "      <td>60</td>\n",
       "      <td>7665.0</td>\n",
       "      <td>8. 60+</td>\n",
       "    </tr>\n",
       "  </tbody>\n",
       "</table>\n",
       "</div>"
      ],
      "text/plain": [
       "         record_id service_date  \\\n",
       "18519  30961787103   2021-06-24   \n",
       "15588  30961493203   2021-06-17   \n",
       "23794  31249334503   2021-08-20   \n",
       "16373  30961571703   2021-06-06   \n",
       "18518  30961787003   2021-06-24   \n",
       "8316   30620826503   2021-04-13   \n",
       "7416   30489600503   2021-03-28   \n",
       "26662  31249624503   2021-08-20   \n",
       "8115   30620806303   2021-04-14   \n",
       "7761   30489635003   2021-03-19   \n",
       "\n",
       "                                            service_name  service_amount  \\\n",
       "18519             гистерорезектоскопия при полипах , РДВ           26999   \n",
       "15588  МРТ брюшной полости и забрюшинного пространств...           17325   \n",
       "23794  МРТ головного мозга и гипофиза с контрастирова...           15225   \n",
       "16373  МСКТ мочевыделительной системы с внутривенным ...           12075   \n",
       "18518  Тотальная внутривенная анестезия от 20 минут д...           11550   \n",
       "8316   МСКТ почек и надпочечников с внутривенным болю...           11025   \n",
       "7416                    МРТ гипофиза с контрастированием            9450   \n",
       "26662                   МРТ гипофиза с контрастированием            9450   \n",
       "8115             МРТ головного мозга с контрастированием            9450   \n",
       "7761   Хирургическое удаление доброкачественной опухо...            7665   \n",
       "\n",
       "       service_number  insured  sex_id  age_for_service_date  service_price  \\\n",
       "18519               1   362928     2.0                    51        26999.0   \n",
       "15588               1   634755     1.0                    41        17325.0   \n",
       "23794               1   544627     2.0                    34        15225.0   \n",
       "16373               1   634765     1.0                    42        12075.0   \n",
       "18518               1   362928     2.0                    51        11550.0   \n",
       "8316                1   544444     1.0                    31        11025.0   \n",
       "7416                1   261304     1.0                    37         9450.0   \n",
       "26662               1   680963     2.0                    35         9450.0   \n",
       "8115                1   180725     2.0                    25         9450.0   \n",
       "7761                1   512469     1.0                    60         7665.0   \n",
       "\n",
       "      age_group  \n",
       "18519  6. 48-54  \n",
       "15588  4. 36-42  \n",
       "23794  3. 30-36  \n",
       "16373  5. 42-48  \n",
       "18518  6. 48-54  \n",
       "8316   3. 30-36  \n",
       "7416   4. 36-42  \n",
       "26662  3. 30-36  \n",
       "8115   2. 24-30  \n",
       "7761     8. 60+  "
      ]
     },
     "execution_count": 57,
     "metadata": {},
     "output_type": "execute_result"
    }
   ],
   "source": [
    "df_2021.sort_values('service_price', ascending=False).head(10)"
   ]
  },
  {
   "cell_type": "code",
   "execution_count": 58,
   "id": "b1eb2fe1-2b54-494e-bee6-ad45a9cf3044",
   "metadata": {
    "tags": []
   },
   "outputs": [
    {
     "data": {
      "text/html": [
       "<div>\n",
       "<style scoped>\n",
       "    .dataframe tbody tr th:only-of-type {\n",
       "        vertical-align: middle;\n",
       "    }\n",
       "\n",
       "    .dataframe tbody tr th {\n",
       "        vertical-align: top;\n",
       "    }\n",
       "\n",
       "    .dataframe thead th {\n",
       "        text-align: right;\n",
       "    }\n",
       "</style>\n",
       "<table border=\"1\" class=\"dataframe\">\n",
       "  <thead>\n",
       "    <tr style=\"text-align: right;\">\n",
       "      <th></th>\n",
       "      <th>record_id</th>\n",
       "      <th>service_date</th>\n",
       "      <th>service_name</th>\n",
       "      <th>service_amount</th>\n",
       "      <th>service_number</th>\n",
       "      <th>insured</th>\n",
       "      <th>sex_id</th>\n",
       "      <th>age_for_service_date</th>\n",
       "      <th>service_price</th>\n",
       "      <th>age_group</th>\n",
       "    </tr>\n",
       "  </thead>\n",
       "  <tbody>\n",
       "    <tr>\n",
       "      <th>76524</th>\n",
       "      <td>32801402203</td>\n",
       "      <td>2022-06-12</td>\n",
       "      <td>Эндоскопическая полипэктомия 2-й категории ( о...</td>\n",
       "      <td>9700</td>\n",
       "      <td>1</td>\n",
       "      <td>1072787</td>\n",
       "      <td>2.0</td>\n",
       "      <td>37</td>\n",
       "      <td>9700.0</td>\n",
       "      <td>4. 36-42</td>\n",
       "    </tr>\n",
       "    <tr>\n",
       "      <th>85341</th>\n",
       "      <td>33178144403</td>\n",
       "      <td>2022-08-09</td>\n",
       "      <td>Вакцинация вакциной \"Менактра\"</td>\n",
       "      <td>9000</td>\n",
       "      <td>1</td>\n",
       "      <td>1155165</td>\n",
       "      <td>2.0</td>\n",
       "      <td>0</td>\n",
       "      <td>9000.0</td>\n",
       "      <td>9. до 18</td>\n",
       "    </tr>\n",
       "    <tr>\n",
       "      <th>78769</th>\n",
       "      <td>32978761503</td>\n",
       "      <td>2022-07-06</td>\n",
       "      <td>Хирургическое удаление доброкачественной опухо...</td>\n",
       "      <td>8400</td>\n",
       "      <td>1</td>\n",
       "      <td>1155019</td>\n",
       "      <td>1.0</td>\n",
       "      <td>37</td>\n",
       "      <td>8400.0</td>\n",
       "      <td>4. 36-42</td>\n",
       "    </tr>\n",
       "    <tr>\n",
       "      <th>81777</th>\n",
       "      <td>32979065403</td>\n",
       "      <td>2022-07-03</td>\n",
       "      <td>Хирургическое удаление доброкачественной опухо...</td>\n",
       "      <td>8400</td>\n",
       "      <td>1</td>\n",
       "      <td>831955</td>\n",
       "      <td>2.0</td>\n",
       "      <td>57</td>\n",
       "      <td>8400.0</td>\n",
       "      <td>7. 54 - 60</td>\n",
       "    </tr>\n",
       "    <tr>\n",
       "      <th>77949</th>\n",
       "      <td>32978678403</td>\n",
       "      <td>2022-07-06</td>\n",
       "      <td>Хирургическое удаление доброкачественной опухо...</td>\n",
       "      <td>8400</td>\n",
       "      <td>1</td>\n",
       "      <td>1217341</td>\n",
       "      <td>1.0</td>\n",
       "      <td>46</td>\n",
       "      <td>8400.0</td>\n",
       "      <td>5. 42-48</td>\n",
       "    </tr>\n",
       "    <tr>\n",
       "      <th>81003</th>\n",
       "      <td>32978987103</td>\n",
       "      <td>2022-07-25</td>\n",
       "      <td>Вскрытие панариция</td>\n",
       "      <td>8400</td>\n",
       "      <td>1</td>\n",
       "      <td>596244</td>\n",
       "      <td>2.0</td>\n",
       "      <td>29</td>\n",
       "      <td>8400.0</td>\n",
       "      <td>2. 24-30</td>\n",
       "    </tr>\n",
       "    <tr>\n",
       "      <th>85058</th>\n",
       "      <td>33178103103</td>\n",
       "      <td>2022-08-26</td>\n",
       "      <td>МСКТ мягких тканей шеи с фонацией</td>\n",
       "      <td>8270</td>\n",
       "      <td>1</td>\n",
       "      <td>1155117</td>\n",
       "      <td>1.0</td>\n",
       "      <td>59</td>\n",
       "      <td>8270.0</td>\n",
       "      <td>7. 54 - 60</td>\n",
       "    </tr>\n",
       "    <tr>\n",
       "      <th>62921</th>\n",
       "      <td>32511051403</td>\n",
       "      <td>2022-04-13</td>\n",
       "      <td>Вскрытие панариция</td>\n",
       "      <td>8050</td>\n",
       "      <td>1</td>\n",
       "      <td>842480</td>\n",
       "      <td>2.0</td>\n",
       "      <td>36</td>\n",
       "      <td>8050.0</td>\n",
       "      <td>4. 36-42</td>\n",
       "    </tr>\n",
       "    <tr>\n",
       "      <th>56577</th>\n",
       "      <td>32327102903</td>\n",
       "      <td>2022-03-30</td>\n",
       "      <td>Хирургическое удаление доброкачественной опухо...</td>\n",
       "      <td>8050</td>\n",
       "      <td>1</td>\n",
       "      <td>774327</td>\n",
       "      <td>2.0</td>\n",
       "      <td>26</td>\n",
       "      <td>8050.0</td>\n",
       "      <td>2. 24-30</td>\n",
       "    </tr>\n",
       "    <tr>\n",
       "      <th>59701</th>\n",
       "      <td>32510726003</td>\n",
       "      <td>2022-04-11</td>\n",
       "      <td>Вскрытие панариция</td>\n",
       "      <td>8050</td>\n",
       "      <td>1</td>\n",
       "      <td>935446</td>\n",
       "      <td>1.0</td>\n",
       "      <td>23</td>\n",
       "      <td>8050.0</td>\n",
       "      <td>1. 18-24</td>\n",
       "    </tr>\n",
       "  </tbody>\n",
       "</table>\n",
       "</div>"
      ],
      "text/plain": [
       "         record_id service_date  \\\n",
       "76524  32801402203   2022-06-12   \n",
       "85341  33178144403   2022-08-09   \n",
       "78769  32978761503   2022-07-06   \n",
       "81777  32979065403   2022-07-03   \n",
       "77949  32978678403   2022-07-06   \n",
       "81003  32978987103   2022-07-25   \n",
       "85058  33178103103   2022-08-26   \n",
       "62921  32511051403   2022-04-13   \n",
       "56577  32327102903   2022-03-30   \n",
       "59701  32510726003   2022-04-11   \n",
       "\n",
       "                                            service_name  service_amount  \\\n",
       "76524  Эндоскопическая полипэктомия 2-й категории ( о...            9700   \n",
       "85341                     Вакцинация вакциной \"Менактра\"            9000   \n",
       "78769  Хирургическое удаление доброкачественной опухо...            8400   \n",
       "81777  Хирургическое удаление доброкачественной опухо...            8400   \n",
       "77949  Хирургическое удаление доброкачественной опухо...            8400   \n",
       "81003                                 Вскрытие панариция            8400   \n",
       "85058                  МСКТ мягких тканей шеи с фонацией            8270   \n",
       "62921                                 Вскрытие панариция            8050   \n",
       "56577  Хирургическое удаление доброкачественной опухо...            8050   \n",
       "59701                                 Вскрытие панариция            8050   \n",
       "\n",
       "       service_number  insured  sex_id  age_for_service_date  service_price  \\\n",
       "76524               1  1072787     2.0                    37         9700.0   \n",
       "85341               1  1155165     2.0                     0         9000.0   \n",
       "78769               1  1155019     1.0                    37         8400.0   \n",
       "81777               1   831955     2.0                    57         8400.0   \n",
       "77949               1  1217341     1.0                    46         8400.0   \n",
       "81003               1   596244     2.0                    29         8400.0   \n",
       "85058               1  1155117     1.0                    59         8270.0   \n",
       "62921               1   842480     2.0                    36         8050.0   \n",
       "56577               1   774327     2.0                    26         8050.0   \n",
       "59701               1   935446     1.0                    23         8050.0   \n",
       "\n",
       "        age_group  \n",
       "76524    4. 36-42  \n",
       "85341    9. до 18  \n",
       "78769    4. 36-42  \n",
       "81777  7. 54 - 60  \n",
       "77949    5. 42-48  \n",
       "81003    2. 24-30  \n",
       "85058  7. 54 - 60  \n",
       "62921    4. 36-42  \n",
       "56577    2. 24-30  \n",
       "59701    1. 18-24  "
      ]
     },
     "execution_count": 58,
     "metadata": {},
     "output_type": "execute_result"
    }
   ],
   "source": [
    "df_2022.sort_values('service_price', ascending=False).head(10)"
   ]
  },
  {
   "cell_type": "markdown",
   "id": "f3d0eb69-2eca-43a7-af4c-1abcb86f81bc",
   "metadata": {
    "tags": []
   },
   "source": [
    "Удивительно, на наиболее дорогостоящие услуги были оказаны в 2021 году. Там есть целых 6 строк со стоимостью услуги более 10 000 руб. В то время как в 2022 услуг дороже 10 000 оказано не было.  \n",
    "При этом не видно в 2022 услуг по МРТ, изучим этот вопрос чуть подробнее ниже."
   ]
  },
  {
   "cell_type": "code",
   "execution_count": 68,
   "id": "542fb267-f992-413b-8d06-af56323273fb",
   "metadata": {
    "tags": []
   },
   "outputs": [
    {
     "data": {
      "text/plain": [
       "43"
      ]
     },
     "execution_count": 68,
     "metadata": {},
     "output_type": "execute_result"
    }
   ],
   "source": [
    "df_2021['service_name'].str.contains('МРТ').sum()"
   ]
  },
  {
   "cell_type": "code",
   "execution_count": 69,
   "id": "56727344-c189-45af-9a8b-ca5b20a006bb",
   "metadata": {
    "tags": []
   },
   "outputs": [
    {
     "data": {
      "text/plain": [
       "6"
      ]
     },
     "execution_count": 69,
     "metadata": {},
     "output_type": "execute_result"
    }
   ],
   "source": [
    "df_2022['service_name'].str.contains('МРТ').sum()"
   ]
  },
  {
   "cell_type": "code",
   "execution_count": 70,
   "id": "27284b3d-9476-4da9-ab6f-08247ca2e422",
   "metadata": {
    "tags": []
   },
   "outputs": [
    {
     "data": {
      "text/html": [
       "<div>\n",
       "<style scoped>\n",
       "    .dataframe tbody tr th:only-of-type {\n",
       "        vertical-align: middle;\n",
       "    }\n",
       "\n",
       "    .dataframe tbody tr th {\n",
       "        vertical-align: top;\n",
       "    }\n",
       "\n",
       "    .dataframe thead th {\n",
       "        text-align: right;\n",
       "    }\n",
       "</style>\n",
       "<table border=\"1\" class=\"dataframe\">\n",
       "  <thead>\n",
       "    <tr style=\"text-align: right;\">\n",
       "      <th></th>\n",
       "      <th>record_id</th>\n",
       "      <th>service_date</th>\n",
       "      <th>service_name</th>\n",
       "      <th>service_amount</th>\n",
       "      <th>service_number</th>\n",
       "      <th>insured</th>\n",
       "      <th>sex_id</th>\n",
       "      <th>age_for_service_date</th>\n",
       "      <th>service_price</th>\n",
       "      <th>age_group</th>\n",
       "    </tr>\n",
       "  </thead>\n",
       "  <tbody>\n",
       "    <tr>\n",
       "      <th>82580</th>\n",
       "      <td>33177659403</td>\n",
       "      <td>2022-08-05</td>\n",
       "      <td>МРТ плечевого сустава</td>\n",
       "      <td>7720</td>\n",
       "      <td>1</td>\n",
       "      <td>1217298</td>\n",
       "      <td>1.0</td>\n",
       "      <td>41</td>\n",
       "      <td>7720.0</td>\n",
       "      <td>4. 36-42</td>\n",
       "    </tr>\n",
       "    <tr>\n",
       "      <th>82720</th>\n",
       "      <td>33177676103</td>\n",
       "      <td>2022-08-06</td>\n",
       "      <td>МРТ коленного сустава</td>\n",
       "      <td>6500</td>\n",
       "      <td>1</td>\n",
       "      <td>1154880</td>\n",
       "      <td>2.0</td>\n",
       "      <td>31</td>\n",
       "      <td>6500.0</td>\n",
       "      <td>3. 30-36</td>\n",
       "    </tr>\n",
       "    <tr>\n",
       "      <th>83450</th>\n",
       "      <td>33177813203</td>\n",
       "      <td>2022-08-26</td>\n",
       "      <td>МРТ коленного сустава</td>\n",
       "      <td>13000</td>\n",
       "      <td>2</td>\n",
       "      <td>1306792</td>\n",
       "      <td>2.0</td>\n",
       "      <td>27</td>\n",
       "      <td>6500.0</td>\n",
       "      <td>2. 24-30</td>\n",
       "    </tr>\n",
       "    <tr>\n",
       "      <th>83942</th>\n",
       "      <td>33177894903</td>\n",
       "      <td>2022-08-19</td>\n",
       "      <td>МРТ крестцово-подвздошных сочленений</td>\n",
       "      <td>5400</td>\n",
       "      <td>1</td>\n",
       "      <td>1217249</td>\n",
       "      <td>2.0</td>\n",
       "      <td>22</td>\n",
       "      <td>5400.0</td>\n",
       "      <td>1. 18-24</td>\n",
       "    </tr>\n",
       "    <tr>\n",
       "      <th>84501</th>\n",
       "      <td>33178010803</td>\n",
       "      <td>2022-08-12</td>\n",
       "      <td>МРТ крестцово-подвздошных сочленений</td>\n",
       "      <td>5400</td>\n",
       "      <td>1</td>\n",
       "      <td>1217378</td>\n",
       "      <td>2.0</td>\n",
       "      <td>35</td>\n",
       "      <td>5400.0</td>\n",
       "      <td>3. 30-36</td>\n",
       "    </tr>\n",
       "    <tr>\n",
       "      <th>84562</th>\n",
       "      <td>33178018103</td>\n",
       "      <td>2022-08-29</td>\n",
       "      <td>МРТ тазобедренных суставов</td>\n",
       "      <td>7720</td>\n",
       "      <td>1</td>\n",
       "      <td>576389</td>\n",
       "      <td>1.0</td>\n",
       "      <td>25</td>\n",
       "      <td>7720.0</td>\n",
       "      <td>2. 24-30</td>\n",
       "    </tr>\n",
       "  </tbody>\n",
       "</table>\n",
       "</div>"
      ],
      "text/plain": [
       "         record_id service_date                          service_name  \\\n",
       "82580  33177659403   2022-08-05                 МРТ плечевого сустава   \n",
       "82720  33177676103   2022-08-06                 МРТ коленного сустава   \n",
       "83450  33177813203   2022-08-26                 МРТ коленного сустава   \n",
       "83942  33177894903   2022-08-19  МРТ крестцово-подвздошных сочленений   \n",
       "84501  33178010803   2022-08-12  МРТ крестцово-подвздошных сочленений   \n",
       "84562  33178018103   2022-08-29            МРТ тазобедренных суставов   \n",
       "\n",
       "       service_amount  service_number  insured  sex_id  age_for_service_date  \\\n",
       "82580            7720               1  1217298     1.0                    41   \n",
       "82720            6500               1  1154880     2.0                    31   \n",
       "83450           13000               2  1306792     2.0                    27   \n",
       "83942            5400               1  1217249     2.0                    22   \n",
       "84501            5400               1  1217378     2.0                    35   \n",
       "84562            7720               1   576389     1.0                    25   \n",
       "\n",
       "       service_price age_group  \n",
       "82580         7720.0  4. 36-42  \n",
       "82720         6500.0  3. 30-36  \n",
       "83450         6500.0  2. 24-30  \n",
       "83942         5400.0  1. 18-24  \n",
       "84501         5400.0  3. 30-36  \n",
       "84562         7720.0  2. 24-30  "
      ]
     },
     "execution_count": 70,
     "metadata": {},
     "output_type": "execute_result"
    }
   ],
   "source": [
    "df_2022[df_2022['service_name'].str.contains('МРТ')]"
   ]
  },
  {
   "cell_type": "markdown",
   "id": "81b6da1a-1c76-489d-a973-7652a6d95129",
   "metadata": {},
   "source": [
    "**Интересный факт** несмотря на значительное увеличение объема оказанных услуг в 2022 году, количество услуг по направлению МРТ уменьшилось в 7 раз. \n",
    "При этом все они были оказаны в последний месяц исследования - август 2022. \n",
    "То есть с января по июль 2022 года в данной клинике МРТ вообще не проводилось. И только в августе клиника стала проводить МРТ исследования. При этом, судя по стоимости, это не самые сложные и дорогие исследования в данном направлении(в сравнении с 2021 годом)."
   ]
  },
  {
   "cell_type": "code",
   "execution_count": 73,
   "id": "c575f0f4-06f5-4f73-aacc-6d1ce958efb2",
   "metadata": {
    "tags": []
   },
   "outputs": [
    {
     "data": {
      "text/html": [
       "<div>\n",
       "<style scoped>\n",
       "    .dataframe tbody tr th:only-of-type {\n",
       "        vertical-align: middle;\n",
       "    }\n",
       "\n",
       "    .dataframe tbody tr th {\n",
       "        vertical-align: top;\n",
       "    }\n",
       "\n",
       "    .dataframe thead th {\n",
       "        text-align: right;\n",
       "    }\n",
       "</style>\n",
       "<table border=\"1\" class=\"dataframe\">\n",
       "  <thead>\n",
       "    <tr style=\"text-align: right;\">\n",
       "      <th></th>\n",
       "      <th>record_id</th>\n",
       "      <th>service_date</th>\n",
       "      <th>service_name</th>\n",
       "      <th>service_amount</th>\n",
       "      <th>service_number</th>\n",
       "      <th>insured</th>\n",
       "      <th>sex_id</th>\n",
       "      <th>age_for_service_date</th>\n",
       "      <th>service_price</th>\n",
       "      <th>age_group</th>\n",
       "    </tr>\n",
       "  </thead>\n",
       "  <tbody>\n",
       "    <tr>\n",
       "      <th>23416</th>\n",
       "      <td>31249295503</td>\n",
       "      <td>2021-08-23</td>\n",
       "      <td>Калий</td>\n",
       "      <td>147</td>\n",
       "      <td>1</td>\n",
       "      <td>402419</td>\n",
       "      <td>2.0</td>\n",
       "      <td>33</td>\n",
       "      <td>147.0</td>\n",
       "      <td>3. 30-36</td>\n",
       "    </tr>\n",
       "    <tr>\n",
       "      <th>22765</th>\n",
       "      <td>31112077303</td>\n",
       "      <td>2021-07-15</td>\n",
       "      <td>Инстилляция лекарственных веществ в конъюнктив...</td>\n",
       "      <td>147</td>\n",
       "      <td>1</td>\n",
       "      <td>490941</td>\n",
       "      <td>2.0</td>\n",
       "      <td>29</td>\n",
       "      <td>147.0</td>\n",
       "      <td>2. 24-30</td>\n",
       "    </tr>\n",
       "    <tr>\n",
       "      <th>24045</th>\n",
       "      <td>31249359603</td>\n",
       "      <td>2021-08-27</td>\n",
       "      <td>Инстилляция лекарственных веществ в конъюнктив...</td>\n",
       "      <td>147</td>\n",
       "      <td>1</td>\n",
       "      <td>680933</td>\n",
       "      <td>1.0</td>\n",
       "      <td>11</td>\n",
       "      <td>147.0</td>\n",
       "      <td>0. до 18</td>\n",
       "    </tr>\n",
       "    <tr>\n",
       "      <th>10289</th>\n",
       "      <td>30621023903</td>\n",
       "      <td>2021-04-06</td>\n",
       "      <td>Инстилляция лекарственных веществ в конъюнктив...</td>\n",
       "      <td>147</td>\n",
       "      <td>1</td>\n",
       "      <td>161476</td>\n",
       "      <td>2.0</td>\n",
       "      <td>36</td>\n",
       "      <td>147.0</td>\n",
       "      <td>4. 36-42</td>\n",
       "    </tr>\n",
       "    <tr>\n",
       "      <th>10650</th>\n",
       "      <td>30621060103</td>\n",
       "      <td>2021-04-01</td>\n",
       "      <td>Инстилляция лекарственных веществ в конъюнктив...</td>\n",
       "      <td>147</td>\n",
       "      <td>1</td>\n",
       "      <td>512503</td>\n",
       "      <td>1.0</td>\n",
       "      <td>32</td>\n",
       "      <td>147.0</td>\n",
       "      <td>3. 30-36</td>\n",
       "    </tr>\n",
       "    <tr>\n",
       "      <th>8289</th>\n",
       "      <td>30620823703</td>\n",
       "      <td>2021-04-23</td>\n",
       "      <td>Инстилляция лекарственных веществ в конъюнктив...</td>\n",
       "      <td>147</td>\n",
       "      <td>1</td>\n",
       "      <td>139539</td>\n",
       "      <td>2.0</td>\n",
       "      <td>42</td>\n",
       "      <td>147.0</td>\n",
       "      <td>5. 42-48</td>\n",
       "    </tr>\n",
       "    <tr>\n",
       "      <th>1572</th>\n",
       "      <td>30268314503</td>\n",
       "      <td>2021-01-22</td>\n",
       "      <td>Инстилляция лекарственных веществ в конъюнктив...</td>\n",
       "      <td>147</td>\n",
       "      <td>1</td>\n",
       "      <td>181935</td>\n",
       "      <td>2.0</td>\n",
       "      <td>36</td>\n",
       "      <td>147.0</td>\n",
       "      <td>4. 36-42</td>\n",
       "    </tr>\n",
       "    <tr>\n",
       "      <th>12657</th>\n",
       "      <td>30786066703</td>\n",
       "      <td>2021-05-12</td>\n",
       "      <td>Калий</td>\n",
       "      <td>147</td>\n",
       "      <td>1</td>\n",
       "      <td>139539</td>\n",
       "      <td>2.0</td>\n",
       "      <td>42</td>\n",
       "      <td>147.0</td>\n",
       "      <td>5. 42-48</td>\n",
       "    </tr>\n",
       "    <tr>\n",
       "      <th>2826</th>\n",
       "      <td>30346885103</td>\n",
       "      <td>2021-02-23</td>\n",
       "      <td>Натрий</td>\n",
       "      <td>147</td>\n",
       "      <td>1</td>\n",
       "      <td>490842</td>\n",
       "      <td>1.0</td>\n",
       "      <td>41</td>\n",
       "      <td>147.0</td>\n",
       "      <td>4. 36-42</td>\n",
       "    </tr>\n",
       "    <tr>\n",
       "      <th>2825</th>\n",
       "      <td>30346885003</td>\n",
       "      <td>2021-02-23</td>\n",
       "      <td>Калий</td>\n",
       "      <td>147</td>\n",
       "      <td>1</td>\n",
       "      <td>490842</td>\n",
       "      <td>1.0</td>\n",
       "      <td>41</td>\n",
       "      <td>147.0</td>\n",
       "      <td>4. 36-42</td>\n",
       "    </tr>\n",
       "  </tbody>\n",
       "</table>\n",
       "</div>"
      ],
      "text/plain": [
       "         record_id service_date  \\\n",
       "23416  31249295503   2021-08-23   \n",
       "22765  31112077303   2021-07-15   \n",
       "24045  31249359603   2021-08-27   \n",
       "10289  30621023903   2021-04-06   \n",
       "10650  30621060103   2021-04-01   \n",
       "8289   30620823703   2021-04-23   \n",
       "1572   30268314503   2021-01-22   \n",
       "12657  30786066703   2021-05-12   \n",
       "2826   30346885103   2021-02-23   \n",
       "2825   30346885003   2021-02-23   \n",
       "\n",
       "                                            service_name  service_amount  \\\n",
       "23416                                              Калий             147   \n",
       "22765  Инстилляция лекарственных веществ в конъюнктив...             147   \n",
       "24045  Инстилляция лекарственных веществ в конъюнктив...             147   \n",
       "10289  Инстилляция лекарственных веществ в конъюнктив...             147   \n",
       "10650  Инстилляция лекарственных веществ в конъюнктив...             147   \n",
       "8289   Инстилляция лекарственных веществ в конъюнктив...             147   \n",
       "1572   Инстилляция лекарственных веществ в конъюнктив...             147   \n",
       "12657                                              Калий             147   \n",
       "2826                                              Натрий             147   \n",
       "2825                                               Калий             147   \n",
       "\n",
       "       service_number  insured  sex_id  age_for_service_date  service_price  \\\n",
       "23416               1   402419     2.0                    33          147.0   \n",
       "22765               1   490941     2.0                    29          147.0   \n",
       "24045               1   680933     1.0                    11          147.0   \n",
       "10289               1   161476     2.0                    36          147.0   \n",
       "10650               1   512503     1.0                    32          147.0   \n",
       "8289                1   139539     2.0                    42          147.0   \n",
       "1572                1   181935     2.0                    36          147.0   \n",
       "12657               1   139539     2.0                    42          147.0   \n",
       "2826                1   490842     1.0                    41          147.0   \n",
       "2825                1   490842     1.0                    41          147.0   \n",
       "\n",
       "      age_group  \n",
       "23416  3. 30-36  \n",
       "22765  2. 24-30  \n",
       "24045  0. до 18  \n",
       "10289  4. 36-42  \n",
       "10650  3. 30-36  \n",
       "8289   5. 42-48  \n",
       "1572   4. 36-42  \n",
       "12657  5. 42-48  \n",
       "2826   4. 36-42  \n",
       "2825   4. 36-42  "
      ]
     },
     "execution_count": 73,
     "metadata": {},
     "output_type": "execute_result"
    }
   ],
   "source": [
    "df_2021.sort_values('service_price', ascending=True).head(10)"
   ]
  },
  {
   "cell_type": "code",
   "execution_count": 74,
   "id": "0e6d5c44-9864-4425-a0a0-70b5eb5693f2",
   "metadata": {
    "tags": []
   },
   "outputs": [
    {
     "data": {
      "text/html": [
       "<div>\n",
       "<style scoped>\n",
       "    .dataframe tbody tr th:only-of-type {\n",
       "        vertical-align: middle;\n",
       "    }\n",
       "\n",
       "    .dataframe tbody tr th {\n",
       "        vertical-align: top;\n",
       "    }\n",
       "\n",
       "    .dataframe thead th {\n",
       "        text-align: right;\n",
       "    }\n",
       "</style>\n",
       "<table border=\"1\" class=\"dataframe\">\n",
       "  <thead>\n",
       "    <tr style=\"text-align: right;\">\n",
       "      <th></th>\n",
       "      <th>record_id</th>\n",
       "      <th>service_date</th>\n",
       "      <th>service_name</th>\n",
       "      <th>service_amount</th>\n",
       "      <th>service_number</th>\n",
       "      <th>insured</th>\n",
       "      <th>sex_id</th>\n",
       "      <th>age_for_service_date</th>\n",
       "      <th>service_price</th>\n",
       "      <th>age_group</th>\n",
       "    </tr>\n",
       "  </thead>\n",
       "  <tbody>\n",
       "    <tr>\n",
       "      <th>73684</th>\n",
       "      <td>32801100503</td>\n",
       "      <td>2022-06-29</td>\n",
       "      <td>Натрий</td>\n",
       "      <td>150</td>\n",
       "      <td>1</td>\n",
       "      <td>774389</td>\n",
       "      <td>2.0</td>\n",
       "      <td>46</td>\n",
       "      <td>150.0</td>\n",
       "      <td>5. 42-48</td>\n",
       "    </tr>\n",
       "    <tr>\n",
       "      <th>57720</th>\n",
       "      <td>32327217903</td>\n",
       "      <td>2022-03-14</td>\n",
       "      <td>Натрий</td>\n",
       "      <td>150</td>\n",
       "      <td>1</td>\n",
       "      <td>842354</td>\n",
       "      <td>2.0</td>\n",
       "      <td>50</td>\n",
       "      <td>150.0</td>\n",
       "      <td>6. 48-54</td>\n",
       "    </tr>\n",
       "    <tr>\n",
       "      <th>50108</th>\n",
       "      <td>32112561303</td>\n",
       "      <td>2022-02-05</td>\n",
       "      <td>Инстиляция лекарственных препаратов</td>\n",
       "      <td>150</td>\n",
       "      <td>1</td>\n",
       "      <td>599347</td>\n",
       "      <td>2.0</td>\n",
       "      <td>43</td>\n",
       "      <td>150.0</td>\n",
       "      <td>5. 42-48</td>\n",
       "    </tr>\n",
       "    <tr>\n",
       "      <th>69563</th>\n",
       "      <td>32631611803</td>\n",
       "      <td>2022-05-04</td>\n",
       "      <td>Инстиляция лекарственных препаратов</td>\n",
       "      <td>150</td>\n",
       "      <td>1</td>\n",
       "      <td>935424</td>\n",
       "      <td>1.0</td>\n",
       "      <td>49</td>\n",
       "      <td>150.0</td>\n",
       "      <td>6. 48-54</td>\n",
       "    </tr>\n",
       "    <tr>\n",
       "      <th>53209</th>\n",
       "      <td>32326760203</td>\n",
       "      <td>2022-03-17</td>\n",
       "      <td>Натрий</td>\n",
       "      <td>150</td>\n",
       "      <td>1</td>\n",
       "      <td>873318</td>\n",
       "      <td>1.0</td>\n",
       "      <td>46</td>\n",
       "      <td>150.0</td>\n",
       "      <td>5. 42-48</td>\n",
       "    </tr>\n",
       "    <tr>\n",
       "      <th>77196</th>\n",
       "      <td>32801470503</td>\n",
       "      <td>2022-06-07</td>\n",
       "      <td>Инстиляция лекарственных препаратов</td>\n",
       "      <td>150</td>\n",
       "      <td>1</td>\n",
       "      <td>1072549</td>\n",
       "      <td>2.0</td>\n",
       "      <td>64</td>\n",
       "      <td>150.0</td>\n",
       "      <td>8. 60+</td>\n",
       "    </tr>\n",
       "    <tr>\n",
       "      <th>71306</th>\n",
       "      <td>32631787503</td>\n",
       "      <td>2022-05-14</td>\n",
       "      <td>Калий</td>\n",
       "      <td>150</td>\n",
       "      <td>1</td>\n",
       "      <td>935447</td>\n",
       "      <td>1.0</td>\n",
       "      <td>31</td>\n",
       "      <td>150.0</td>\n",
       "      <td>3. 30-36</td>\n",
       "    </tr>\n",
       "    <tr>\n",
       "      <th>48934</th>\n",
       "      <td>32112442303</td>\n",
       "      <td>2022-02-15</td>\n",
       "      <td>Инстиляция лекарственных препаратов</td>\n",
       "      <td>150</td>\n",
       "      <td>1</td>\n",
       "      <td>716081</td>\n",
       "      <td>1.0</td>\n",
       "      <td>27</td>\n",
       "      <td>150.0</td>\n",
       "      <td>2. 24-30</td>\n",
       "    </tr>\n",
       "    <tr>\n",
       "      <th>50093</th>\n",
       "      <td>32112559803</td>\n",
       "      <td>2022-02-21</td>\n",
       "      <td>Калий</td>\n",
       "      <td>150</td>\n",
       "      <td>1</td>\n",
       "      <td>716092</td>\n",
       "      <td>2.0</td>\n",
       "      <td>75</td>\n",
       "      <td>150.0</td>\n",
       "      <td>8. 60+</td>\n",
       "    </tr>\n",
       "    <tr>\n",
       "      <th>50790</th>\n",
       "      <td>32112630203</td>\n",
       "      <td>2022-02-27</td>\n",
       "      <td>Инстиляция лекарственных препаратов</td>\n",
       "      <td>150</td>\n",
       "      <td>1</td>\n",
       "      <td>842343</td>\n",
       "      <td>1.0</td>\n",
       "      <td>36</td>\n",
       "      <td>150.0</td>\n",
       "      <td>4. 36-42</td>\n",
       "    </tr>\n",
       "  </tbody>\n",
       "</table>\n",
       "</div>"
      ],
      "text/plain": [
       "         record_id service_date                         service_name  \\\n",
       "73684  32801100503   2022-06-29                               Натрий   \n",
       "57720  32327217903   2022-03-14                               Натрий   \n",
       "50108  32112561303   2022-02-05  Инстиляция лекарственных препаратов   \n",
       "69563  32631611803   2022-05-04  Инстиляция лекарственных препаратов   \n",
       "53209  32326760203   2022-03-17                               Натрий   \n",
       "77196  32801470503   2022-06-07  Инстиляция лекарственных препаратов   \n",
       "71306  32631787503   2022-05-14                                Калий   \n",
       "48934  32112442303   2022-02-15  Инстиляция лекарственных препаратов   \n",
       "50093  32112559803   2022-02-21                                Калий   \n",
       "50790  32112630203   2022-02-27  Инстиляция лекарственных препаратов   \n",
       "\n",
       "       service_amount  service_number  insured  sex_id  age_for_service_date  \\\n",
       "73684             150               1   774389     2.0                    46   \n",
       "57720             150               1   842354     2.0                    50   \n",
       "50108             150               1   599347     2.0                    43   \n",
       "69563             150               1   935424     1.0                    49   \n",
       "53209             150               1   873318     1.0                    46   \n",
       "77196             150               1  1072549     2.0                    64   \n",
       "71306             150               1   935447     1.0                    31   \n",
       "48934             150               1   716081     1.0                    27   \n",
       "50093             150               1   716092     2.0                    75   \n",
       "50790             150               1   842343     1.0                    36   \n",
       "\n",
       "       service_price age_group  \n",
       "73684          150.0  5. 42-48  \n",
       "57720          150.0  6. 48-54  \n",
       "50108          150.0  5. 42-48  \n",
       "69563          150.0  6. 48-54  \n",
       "53209          150.0  5. 42-48  \n",
       "77196          150.0    8. 60+  \n",
       "71306          150.0  3. 30-36  \n",
       "48934          150.0  2. 24-30  \n",
       "50093          150.0    8. 60+  \n",
       "50790          150.0  4. 36-42  "
      ]
     },
     "execution_count": 74,
     "metadata": {},
     "output_type": "execute_result"
    }
   ],
   "source": [
    "df_2022.sort_values('service_price', ascending=True).head(10)"
   ]
  },
  {
   "cell_type": "markdown",
   "id": "340ddd00-82e2-486a-a6ec-f14de1fdddb9",
   "metadata": {},
   "source": [
    "По самым дешевым услугам аномалий не выявлено. В 2021 - 147 руб. В 2022 - 150 руб."
   ]
  },
  {
   "cell_type": "markdown",
   "id": "2295b811-ea58-44c0-9ab2-5675f569a301",
   "metadata": {},
   "source": [
    "**Вывод  Аномально дорогие или дешевые услуги в 2022 году не обнаружены.  Максимальное значение по стоимости услуги зафиксировано в 2021 года - 27 000 руб. В 2022 не было услуг дороже 10 000 руб. \n",
    "Гипотеза не подтверждена.**  \n",
    "\n",
    "При этом, стоит отметить радикальное снижение количества услуг по направлению МРТ. Вероятно это связано с какими-либо проблемами с оборудованием. "
   ]
  },
  {
   "cell_type": "markdown",
   "id": "ab2ddaa7-d1e3-447b-bedd-b1b390d62159",
   "metadata": {},
   "source": [
    "*Согласно данным* [из открытых источников](https://74.ru/text/health/2022/03/04/70485971/):  \n",
    "*Аппараты УЗИ, КТ и МРТ, мониторы для реанимаций, оборудование для проведения эндоскопических операций — список можно продолжать практически бесконечно — экспортируются из стран, которые наложили ограничения на отношения с Россией. И это касается не только закупки нового оборудования, но и обслуживания уже приобретенных и работающих машин: нужны детали, специализированный техосмотр, рассказывает «Доктор Питер».*\n",
    "\n",
    "Это может обьяснить увеличение цен на УЗИ, снижение объема возможных МРТ исследований."
   ]
  },
  {
   "cell_type": "markdown",
   "id": "e133d8cc-3981-47be-8a20-032348ea4b75",
   "metadata": {},
   "source": [
    "### Гипотеза 5\n",
    "**Стоимость лечения повысилась из-за увеличения количества услуг оказанных за 1 визит**"
   ]
  },
  {
   "cell_type": "code",
   "execution_count": 75,
   "id": "9598a82b-1f37-4d3e-b042-21cb09dfb8fe",
   "metadata": {
    "tags": []
   },
   "outputs": [
    {
     "name": "stdout",
     "output_type": "stream",
     "text": [
      "Среднее количество услуг, оказанных за 1 визит 2021:  2.842138832784097\n"
     ]
    }
   ],
   "source": [
    "grouped = df_2021.groupby(['service_date', 'insured']).agg({'service_name': 'count', 'service_price': 'sum'})\n",
    "mean_services_per_visit = grouped['service_name'].sum() / len(grouped)\n",
    "print(\"Среднее количество услуг, оказанных за 1 визит 2021: \", mean_services_per_visit)"
   ]
  },
  {
   "cell_type": "code",
   "execution_count": 76,
   "id": "07e18dab-249b-40e1-97d0-5e6dca1cd4c5",
   "metadata": {
    "tags": []
   },
   "outputs": [
    {
     "name": "stdout",
     "output_type": "stream",
     "text": [
      "Среднее количество услуг, оказанных за 1 визит 2022:  2.838921989746432\n"
     ]
    }
   ],
   "source": [
    "grouped = df_2022.groupby(['service_date', 'insured']).agg({'service_name': 'count', 'service_price': 'sum'})\n",
    "mean_services_per_visit = grouped['service_name'].sum() / len(grouped)\n",
    "print(\"Среднее количество услуг, оказанных за 1 визит 2022: \", mean_services_per_visit)"
   ]
  },
  {
   "cell_type": "code",
   "execution_count": 77,
   "id": "351d50e2-6f13-4996-97bb-3cebf4d39342",
   "metadata": {
    "tags": []
   },
   "outputs": [
    {
     "name": "stdout",
     "output_type": "stream",
     "text": [
      "Средняя стоимость одного визита на одного уникального застрахованного в 2021:  1325.2370342968456\n"
     ]
    }
   ],
   "source": [
    "grouped = df_2021.groupby(['service_date', 'insured'])\n",
    "result = grouped.agg({'service_price': ['count', 'sum', 'mean']})\n",
    "result.columns = ['visit_count', 'total_cost', 'avg_cost_per_visit']\n",
    "average_cost = result['avg_cost_per_visit'].mean()\n",
    "print('Средняя стоимость одного визита на одного уникального застрахованного в 2021: ', average_cost)"
   ]
  },
  {
   "cell_type": "code",
   "execution_count": 78,
   "id": "de5eb1c1-e319-4e91-89e5-3282222cfe6c",
   "metadata": {
    "tags": []
   },
   "outputs": [
    {
     "name": "stdout",
     "output_type": "stream",
     "text": [
      "Средняя стоимость одного визита на одного уникального застрахованного в 2021:  1373.974829088728\n"
     ]
    }
   ],
   "source": [
    "grouped = df_2022.groupby(['service_date', 'insured'])\n",
    "result = grouped.agg({'service_price': ['count', 'sum', 'mean']})\n",
    "result.columns = ['visit_count', 'total_cost', 'avg_cost_per_visit']\n",
    "average_cost = result['avg_cost_per_visit'].mean()\n",
    "print('Средняя стоимость одного визита на одного уникального застрахованного в 2021: ', average_cost)"
   ]
  },
  {
   "cell_type": "markdown",
   "id": "789fb9f0-d0a1-4b68-b034-a8bb64c39fad",
   "metadata": {},
   "source": [
    "**Вывод: показатель среднего количества услуг на 1 визит практически не изменился, соотвественно его нельзя считать причиной повышения стоимости.  \n",
    "Показатель средней стоимости одного визита в 2022 году незначительно повысился, в пределах общей инфляции на услуги.  \n",
    "Гипотеза не подтверждена**"
   ]
  },
  {
   "cell_type": "markdown",
   "id": "e4737019-969a-4551-b30b-d690630082c8",
   "metadata": {},
   "source": [
    "### Гипотеза 6\n",
    "**Стоимость лечения повысилась из-за изменения среднего количества оказанных услуг на один медицинский кейс**\n"
   ]
  },
  {
   "cell_type": "code",
   "execution_count": 79,
   "id": "f3b71215-2595-42b0-af05-c07f62be0afc",
   "metadata": {
    "tags": []
   },
   "outputs": [],
   "source": [
    "df = df_2021.sort_values(['insured', 'service_date'])\n",
    "df['days_between_services'] = df.groupby('insured')['service_date'].diff().dt.days - 1\n",
    "df = df[(df['days_between_services'].isnull()) | (df['days_between_services'] <= 14)]\n",
    "services_per_case = df.groupby(['insured', df.groupby('insured')['days_between_services'].cumsum()])['service_name'].count()\n",
    "mean_services_per_case = services_per_case.mean()"
   ]
  },
  {
   "cell_type": "code",
   "execution_count": 80,
   "id": "e87e03c0-2ad8-48a4-b0d6-aeb21b0ee83b",
   "metadata": {
    "tags": []
   },
   "outputs": [
    {
     "name": "stdout",
     "output_type": "stream",
     "text": [
      "Cреднее количество услуг в одном кейсе в 2021 1.6654601141584295\n"
     ]
    }
   ],
   "source": [
    "print(f'Cреднее количество услуг в одном кейсе в 2021 {mean_services_per_case}')"
   ]
  },
  {
   "cell_type": "code",
   "execution_count": 81,
   "id": "37d2d03c-c9ea-4840-9d0c-6a9d5631a174",
   "metadata": {
    "tags": []
   },
   "outputs": [],
   "source": [
    "df = df_2022.sort_values(['insured', 'service_date'])\n",
    "df['days_between_services'] = df.groupby('insured')['service_date'].diff().dt.days - 1\n",
    "df = df[(df['days_between_services'].isnull()) | (df['days_between_services'] <= 14)]\n",
    "services_per_case = df.groupby(['insured', df.groupby('insured')['days_between_services'].cumsum()])['service_name'].count()\n",
    "mean_services_per_case = services_per_case.mean()"
   ]
  },
  {
   "cell_type": "code",
   "execution_count": 82,
   "id": "3ec3b01f-9d1a-40b6-a590-04525a7d0f0c",
   "metadata": {
    "tags": []
   },
   "outputs": [
    {
     "name": "stdout",
     "output_type": "stream",
     "text": [
      "Cреднее количество услуг в одном кейсе в 2022 1.6210186862216724\n"
     ]
    }
   ],
   "source": [
    "print(f'Cреднее количество услуг в одном кейсе в 2022 {mean_services_per_case}')"
   ]
  },
  {
   "cell_type": "markdown",
   "id": "66260e8f-b929-4896-8330-71e010bdd481",
   "metadata": {},
   "source": [
    "**Вывод: показатель среднего количества услуг на 1 медицинский кейс снизился в 2022, соотвественно его нельзя считать причиной повышения стоимости.  \n",
    "Гипотеза не подтверждена**"
   ]
  },
  {
   "cell_type": "markdown",
   "id": "cc2dcbba-f0fd-43ee-b369-21f9ff2832c6",
   "metadata": {},
   "source": [
    "В заключении визуализируем изменение средней стоимости на услуги помесячно"
   ]
  },
  {
   "cell_type": "code",
   "execution_count": 83,
   "id": "e4b28d4e-1654-4871-a422-f7cca31c360d",
   "metadata": {
    "tags": []
   },
   "outputs": [
    {
     "data": {
      "image/png": "[encoded data removed]",
      "text/plain": [
       "<Figure size 432x288 with 1 Axes>"
      ]
     },
     "metadata": {},
     "output_type": "display_data"
    }
   ],
   "source": [
    "df = pd.concat([df_2021, df_2022])\n",
    "\n",
    "df['service_date'] = pd.to_datetime(df['service_date'])\n",
    "\n",
    "df['month'] = df['service_date'].dt.month\n",
    "\n",
    "monthly_avg_prices = df.groupby(['month', df['service_date'].dt.year])['service_price'].mean()\n",
    "\n",
    "monthly_avg_prices.unstack().plot(kind='line')\n",
    "plt.xlabel('Месяц')\n",
    "plt.ylabel('Средняя цена')\n",
    "plt.title('Средняя стоимость услуг помесячно')\n",
    "plt.legend(title='Год', loc='upper left')\n",
    "plt.show()\n"
   ]
  },
  {
   "cell_type": "markdown",
   "id": "84625e15-7d09-4088-b060-bba0e00d5ffc",
   "metadata": {
    "tags": []
   },
   "source": [
    "## Вывод"
   ]
  },
  {
   "cell_type": "markdown",
   "id": "b8763d90-e4f7-4906-9d91-af58d40a2635",
   "metadata": {},
   "source": [
    "В рамках задачи был рассмотрен и изучен датасет с информацией по медицинским услугам в одной из клиник за 2021-2022 годы.\n",
    "По результатам основного анализа было выявлено повышение цен на мед.услуги в среднем на **6%** в 2022 г. по сравнению с аналогичным периодом 2021 года.\n",
    "\n",
    "В рамках поиска причин повышения цены были изучены и проверены следующие гипотезы:\n",
    "\n",
    "| Гипотеза | Результат |\n",
    "|---------------------------|----------------------------|\n",
    "| Стоимость лечения повысилась из-за изменения гендерного состава клиентского портфеля  | Не подтверждена   |\n",
    "| Стоимость лечения повысилась из-за изменения возрастного распределения клиентского портфеля | Не подтверждена |\n",
    "| Стоимость лечения повысилась из-за появления уникальных и дорогостоящих услуг | Не подтверждена |\n",
    "| Стоимость лечения повысилась из-за увеличения количества услуг оказанных за 1 визит | Не подтверждена |\n",
    "| Стоимость лечения повысилась из-за изменения среднего количества оказанных услуг на один медицинский кейс| Не подтверждена |\n",
    "\n",
    "В рамках поиска причин повышения цены были выявлены следующие особенности:\n",
    "- в 2022 году произошло дополнительное сегментирование наименований услуг из-за чего не все услуги можно сравнить напрямую\n",
    "- среднее значение повышения стоимости на мед.услуги для женщин(+9%) значительно превышает среднее значение по всему портфелю(6%)\n",
    "- среднее значение повышения стоимости на мед.услуги для сегмента  18-42 лет (10%) значительно превышает среднее значение по всему портфелю(6%)\n",
    "- значительное увеличение в 2022 г. по стоимости зафиксировано на УЗИ исследования. Это может быть связано санкционными рисками по данному оборудованию, комплектующим\n",
    "- из ассортимента услуг 2022 г. практически пропали услуги МРТ. Это может быть связано санкционными рисками по данному оборудованию\n",
    "\n",
    "Примечания:\n",
    "1. Для изучения вопроса с оборудованием рекомендуется запросить информацию из клиники по сокращению МРТ-исследований, возможно произошло перепрофилирование, либо переработка ассортимента мед.услуг\n",
    "2. Вероятно, август можно исключить из анализа, поскольку данные за 2022 год выглядит не полными, соотвественно могут давать искажения на общие показатели по году."
   ]
  }
 ],
 "metadata": {
  "ExecuteTimeLog": [
   {
    "duration": 1475,
    "start_time": "2023-06-22T19:47:49.954Z"
   },
   {
    "duration": 216,
    "start_time": "2023-06-22T19:47:51.431Z"
   },
   {
    "duration": 10502,
    "start_time": "2023-06-22T19:48:43.341Z"
   },
   {
    "duration": 18,
    "start_time": "2023-06-22T19:48:57.508Z"
   },
   {
    "duration": 4,
    "start_time": "2023-06-22T19:48:59.133Z"
   },
   {
    "duration": 39,
    "start_time": "2023-06-22T19:49:00.777Z"
   },
   {
    "duration": 1499,
    "start_time": "2023-06-22T19:49:01.306Z"
   },
   {
    "duration": 164,
    "start_time": "2023-06-22T19:49:14.704Z"
   },
   {
    "duration": 23,
    "start_time": "2023-06-22T19:49:16.772Z"
   },
   {
    "duration": 16,
    "start_time": "2023-06-22T19:49:18.714Z"
   },
   {
    "duration": 323,
    "start_time": "2023-06-22T19:49:32.005Z"
   },
   {
    "duration": 15,
    "start_time": "2023-06-22T19:50:16.512Z"
   },
   {
    "duration": 5,
    "start_time": "2023-06-22T19:50:18.510Z"
   },
   {
    "duration": 5,
    "start_time": "2023-06-22T19:50:25.421Z"
   },
   {
    "duration": 19,
    "start_time": "2023-06-22T19:50:29.445Z"
   },
   {
    "duration": 18,
    "start_time": "2023-06-22T19:50:31.780Z"
   },
   {
    "duration": 5,
    "start_time": "2023-06-22T19:50:35.577Z"
   },
   {
    "duration": 4,
    "start_time": "2023-06-22T19:50:41.014Z"
   },
   {
    "duration": 23,
    "start_time": "2023-06-22T19:50:42.135Z"
   },
   {
    "duration": 22,
    "start_time": "2023-06-22T19:50:42.645Z"
   },
   {
    "duration": 4,
    "start_time": "2023-06-22T19:51:09.583Z"
   },
   {
    "duration": 42,
    "start_time": "2023-06-22T19:51:11.948Z"
   },
   {
    "duration": 22,
    "start_time": "2023-06-22T19:51:13.850Z"
   },
   {
    "duration": 33,
    "start_time": "2023-06-22T19:51:31.407Z"
   },
   {
    "duration": 193,
    "start_time": "2023-06-22T19:51:32.819Z"
   },
   {
    "duration": 183,
    "start_time": "2023-06-22T19:51:37.940Z"
   },
   {
    "duration": 5,
    "start_time": "2023-06-22T19:52:04.276Z"
   },
   {
    "duration": 7,
    "start_time": "2023-06-22T19:52:08.838Z"
   },
   {
    "duration": 5,
    "start_time": "2023-06-22T19:52:20.086Z"
   },
   {
    "duration": 15,
    "start_time": "2023-06-22T19:52:26.849Z"
   },
   {
    "duration": 13,
    "start_time": "2023-06-22T19:52:28.022Z"
   },
   {
    "duration": 22,
    "start_time": "2023-06-22T19:53:06.325Z"
   },
   {
    "duration": 25,
    "start_time": "2023-06-22T19:53:11.308Z"
   },
   {
    "duration": 10,
    "start_time": "2023-06-22T19:53:12.480Z"
   },
   {
    "duration": 14,
    "start_time": "2023-06-22T19:53:17.089Z"
   },
   {
    "duration": 5,
    "start_time": "2023-06-22T19:54:13.803Z"
   },
   {
    "duration": 12,
    "start_time": "2023-06-22T19:54:49.014Z"
   },
   {
    "duration": 15,
    "start_time": "2023-06-22T19:54:51.272Z"
   },
   {
    "duration": 83,
    "start_time": "2023-06-22T19:55:10.713Z"
   },
   {
    "duration": 59,
    "start_time": "2023-06-22T19:55:11.982Z"
   },
   {
    "duration": 60,
    "start_time": "2023-06-22T19:55:26.506Z"
   },
   {
    "duration": 72,
    "start_time": "2023-06-22T19:55:26.914Z"
   },
   {
    "duration": 78,
    "start_time": "2023-06-22T19:55:27.202Z"
   },
   {
    "duration": 71,
    "start_time": "2023-06-22T19:55:27.536Z"
   },
   {
    "duration": 14,
    "start_time": "2023-06-22T19:55:29.499Z"
   },
   {
    "duration": 12,
    "start_time": "2023-06-22T19:55:40.037Z"
   },
   {
    "duration": 72,
    "start_time": "2023-06-22T19:57:41.504Z"
   },
   {
    "duration": 73,
    "start_time": "2023-06-22T19:57:43.871Z"
   },
   {
    "duration": 50,
    "start_time": "2023-06-22T19:57:46.744Z"
   },
   {
    "duration": 10,
    "start_time": "2023-06-22T19:57:56.509Z"
   },
   {
    "duration": 10,
    "start_time": "2023-06-22T19:57:57.290Z"
   },
   {
    "duration": 11,
    "start_time": "2023-06-22T19:57:58.532Z"
   },
   {
    "duration": 19,
    "start_time": "2023-06-22T19:58:03.085Z"
   },
   {
    "duration": 14,
    "start_time": "2023-06-22T19:58:05.209Z"
   },
   {
    "duration": 3,
    "start_time": "2023-06-22T19:58:26.844Z"
   },
   {
    "duration": 15,
    "start_time": "2023-06-22T19:59:12.304Z"
   },
   {
    "duration": 17,
    "start_time": "2023-06-22T19:59:13.423Z"
   },
   {
    "duration": 20,
    "start_time": "2023-06-22T19:59:15.456Z"
   },
   {
    "duration": 26,
    "start_time": "2023-06-22T19:59:16.155Z"
   },
   {
    "duration": 13,
    "start_time": "2023-06-22T19:59:34.676Z"
   },
   {
    "duration": 14,
    "start_time": "2023-06-22T19:59:35.480Z"
   },
   {
    "duration": 13,
    "start_time": "2023-06-22T19:59:43.642Z"
   },
   {
    "duration": 12,
    "start_time": "2023-06-22T19:59:58.541Z"
   },
   {
    "duration": 16,
    "start_time": "2023-06-22T19:59:59.014Z"
   },
   {
    "duration": 13,
    "start_time": "2023-06-22T20:00:08.279Z"
   },
   {
    "duration": 35,
    "start_time": "2023-06-22T20:00:11.111Z"
   },
   {
    "duration": 14,
    "start_time": "2023-06-22T20:01:05.608Z"
   },
   {
    "duration": 14,
    "start_time": "2023-06-22T20:01:20.002Z"
   },
   {
    "duration": 18,
    "start_time": "2023-06-22T20:01:21.074Z"
   },
   {
    "duration": 33,
    "start_time": "2023-06-22T20:01:25.938Z"
   },
   {
    "duration": 18,
    "start_time": "2023-06-22T20:01:47.291Z"
   },
   {
    "duration": 21,
    "start_time": "2023-06-22T20:01:49.210Z"
   },
   {
    "duration": 23,
    "start_time": "2023-06-22T20:04:37.442Z"
   },
   {
    "duration": 20,
    "start_time": "2023-06-22T20:04:37.906Z"
   },
   {
    "duration": 15,
    "start_time": "2023-06-22T20:04:52.586Z"
   },
   {
    "duration": 15,
    "start_time": "2023-06-22T20:04:53.202Z"
   },
   {
    "duration": 14,
    "start_time": "2023-06-22T20:04:53.726Z"
   },
   {
    "duration": 15,
    "start_time": "2023-06-22T20:04:54.616Z"
   },
   {
    "duration": 304,
    "start_time": "2023-06-22T20:05:22.769Z"
   },
   {
    "duration": 4,
    "start_time": "2023-06-22T20:05:23.997Z"
   },
   {
    "duration": 542,
    "start_time": "2023-06-22T20:05:25.407Z"
   },
   {
    "duration": 3,
    "start_time": "2023-06-22T20:05:26.365Z"
   },
   {
    "duration": 225,
    "start_time": "2023-06-22T20:07:21.659Z"
   }
  ],
  "kernelspec": {
   "display_name": "Python 3 (ipykernel)",
   "language": "python",
   "name": "python3"
  },
  "language_info": {
   "codemirror_mode": {
    "name": "ipython",
    "version": 3
   },
   "file_extension": ".py",
   "mimetype": "text/x-python",
   "name": "python",
   "nbconvert_exporter": "python",
   "pygments_lexer": "ipython3",
   "version": "3.9.5"
  },
  "toc": {
   "base_numbering": 1,
   "nav_menu": {},
   "number_sections": true,
   "sideBar": true,
   "skip_h1_title": true,
   "title_cell": "Table of Contents",
   "title_sidebar": "Contents",
   "toc_cell": false,
   "toc_position": {},
   "toc_section_display": true,
   "toc_window_display": false
  }
 },
 "nbformat": 4,
 "nbformat_minor": 5
}
