{
 "cells": [
  {
   "cell_type": "markdown",
   "metadata": {},
   "source": [
    "# Определение стоимости автомобилей"
   ]
  },
  {
   "cell_type": "markdown",
   "metadata": {},
   "source": [
    "**Задача:** Построить модель для определения стоимости автомобилей.   \n",
    "**Цель:** Приложение для привлечения новых клиентов. В нём можно быстро узнать рыночную стоимость своего автомобиля.   \n",
    "**Дано:** исторические данные: технические характеристики, комплектации и цены автомобилей. "
   ]
  },
  {
   "cell_type": "markdown",
   "metadata": {},
   "source": [
    "**Импорты**"
   ]
  },
  {
   "cell_type": "code",
   "execution_count": 2,
   "metadata": {},
   "outputs": [],
   "source": [
    "import pandas as pd\n",
    "import numpy as np\n",
    "import matplotlib.pyplot as plt\n",
    "import seaborn as sns\n",
    "import time\n",
    "from catboost import cv\n",
    "from sklearn.metrics import mean_squared_error\n",
    "from sklearn.model_selection import train_test_split\n",
    "from catboost import CatBoostRegressor\n",
    "from catboost import Pool\n",
    "from sklearn.linear_model import LinearRegression\n",
    "from sklearn.model_selection import train_test_split, GridSearchCV\n",
    "import lightgbm as lgb\n",
    "import warnings\n",
    "warnings.filterwarnings(\"ignore\")"
   ]
  },
  {
   "cell_type": "markdown",
   "metadata": {},
   "source": [
    "## Подготовка данных"
   ]
  },
  {
   "cell_type": "markdown",
   "metadata": {},
   "source": [
    "**Знакомство с датасетом**"
   ]
  },
  {
   "cell_type": "code",
   "execution_count": 3,
   "metadata": {},
   "outputs": [],
   "source": [
    "data = pd.read_csv('/datasets/autos.csv')"
   ]
  },
  {
   "cell_type": "code",
   "execution_count": 4,
   "metadata": {},
   "outputs": [
    {
     "name": "stdout",
     "output_type": "stream",
     "text": [
      "Исходный датасет\n",
      "Количество строк 354369\n",
      "Количество столбцов 16\n"
     ]
    }
   ],
   "source": [
    "print('Исходный датасет')\n",
    "print(f'Количество строк {data.shape[0]}')\n",
    "print(f'Количество столбцов {data.shape[1]}')"
   ]
  },
  {
   "cell_type": "markdown",
   "metadata": {},
   "source": [
    "**Дубликаты**"
   ]
  },
  {
   "cell_type": "code",
   "execution_count": 5,
   "metadata": {},
   "outputs": [
    {
     "name": "stdout",
     "output_type": "stream",
     "text": [
      "Количество полных дубликтов в датасете 4\n"
     ]
    }
   ],
   "source": [
    "mydups = data.duplicated().sum()\n",
    "print('Количество полных дубликтов в датасете', mydups)"
   ]
  },
  {
   "cell_type": "code",
   "execution_count": 6,
   "metadata": {},
   "outputs": [
    {
     "name": "stdout",
     "output_type": "stream",
     "text": [
      "Количество полных дубликтов в датасете 0\n"
     ]
    }
   ],
   "source": [
    "data = data.drop_duplicates()\n",
    "mydups = data.duplicated().sum()\n",
    "print('Количество полных дубликтов в датасете', mydups)"
   ]
  },
  {
   "cell_type": "markdown",
   "metadata": {},
   "source": [
    "На данном этапе выявлено всего 4 дубликата на 354к строчек.Не типично для датасета такого размера, исследуем этот вопрос далее. "
   ]
  },
  {
   "cell_type": "markdown",
   "metadata": {},
   "source": [
    "**Общая информация**"
   ]
  },
  {
   "cell_type": "code",
   "execution_count": 7,
   "metadata": {},
   "outputs": [
    {
     "name": "stdout",
     "output_type": "stream",
     "text": [
      "<class 'pandas.core.frame.DataFrame'>\n",
      "Int64Index: 354365 entries, 0 to 354368\n",
      "Data columns (total 16 columns):\n",
      " #   Column             Non-Null Count   Dtype \n",
      "---  ------             --------------   ----- \n",
      " 0   DateCrawled        354365 non-null  object\n",
      " 1   Price              354365 non-null  int64 \n",
      " 2   VehicleType        316875 non-null  object\n",
      " 3   RegistrationYear   354365 non-null  int64 \n",
      " 4   Gearbox            334532 non-null  object\n",
      " 5   Power              354365 non-null  int64 \n",
      " 6   Model              334660 non-null  object\n",
      " 7   Kilometer          354365 non-null  int64 \n",
      " 8   RegistrationMonth  354365 non-null  int64 \n",
      " 9   FuelType           321470 non-null  object\n",
      " 10  Brand              354365 non-null  object\n",
      " 11  Repaired           283211 non-null  object\n",
      " 12  DateCreated        354365 non-null  object\n",
      " 13  NumberOfPictures   354365 non-null  int64 \n",
      " 14  PostalCode         354365 non-null  int64 \n",
      " 15  LastSeen           354365 non-null  object\n",
      "dtypes: int64(7), object(9)\n",
      "memory usage: 46.0+ MB\n"
     ]
    }
   ],
   "source": [
    "data.info()"
   ]
  },
  {
   "cell_type": "markdown",
   "metadata": {},
   "source": [
    "В исходном датасете 15 признаков, часть из которых относится непосредственно к автомобилю, другая часть к самому обьявлению или его автору. "
   ]
  },
  {
   "cell_type": "markdown",
   "metadata": {},
   "source": [
    "**Пропуски**"
   ]
  },
  {
   "cell_type": "code",
   "execution_count": 8,
   "metadata": {},
   "outputs": [
    {
     "data": {
      "text/html": [
       "<style  type=\"text/css\" >\n",
       "#T_cad7c_row0_col0,#T_cad7c_row1_col0,#T_cad7c_row3_col0,#T_cad7c_row5_col0,#T_cad7c_row7_col0,#T_cad7c_row8_col0,#T_cad7c_row10_col0,#T_cad7c_row12_col0,#T_cad7c_row13_col0,#T_cad7c_row14_col0,#T_cad7c_row15_col0{\n",
       "            background-color:  #0000ff;\n",
       "            color:  #f1f1f1;\n",
       "        }#T_cad7c_row2_col0{\n",
       "            background-color:  #fff0f0;\n",
       "            color:  #000000;\n",
       "        }#T_cad7c_row4_col0,#T_cad7c_row6_col0{\n",
       "            background-color:  #8e8eff;\n",
       "            color:  #000000;\n",
       "        }#T_cad7c_row9_col0{\n",
       "            background-color:  #ececff;\n",
       "            color:  #000000;\n",
       "        }#T_cad7c_row11_col0{\n",
       "            background-color:  #ff0000;\n",
       "            color:  #f1f1f1;\n",
       "        }</style><table id=\"T_cad7c_\" ><thead>    <tr>        <th class=\"blank level0\" ></th>        <th class=\"col_heading level0 col0\" >0</th>    </tr></thead><tbody>\n",
       "                <tr>\n",
       "                        <th id=\"T_cad7c_level0_row0\" class=\"row_heading level0 row0\" >DateCrawled</th>\n",
       "                        <td id=\"T_cad7c_row0_col0\" class=\"data row0 col0\" >0.000000</td>\n",
       "            </tr>\n",
       "            <tr>\n",
       "                        <th id=\"T_cad7c_level0_row1\" class=\"row_heading level0 row1\" >Price</th>\n",
       "                        <td id=\"T_cad7c_row1_col0\" class=\"data row1 col0\" >0.000000</td>\n",
       "            </tr>\n",
       "            <tr>\n",
       "                        <th id=\"T_cad7c_level0_row2\" class=\"row_heading level0 row2\" >VehicleType</th>\n",
       "                        <td id=\"T_cad7c_row2_col0\" class=\"data row2 col0\" >10.600000</td>\n",
       "            </tr>\n",
       "            <tr>\n",
       "                        <th id=\"T_cad7c_level0_row3\" class=\"row_heading level0 row3\" >RegistrationYear</th>\n",
       "                        <td id=\"T_cad7c_row3_col0\" class=\"data row3 col0\" >0.000000</td>\n",
       "            </tr>\n",
       "            <tr>\n",
       "                        <th id=\"T_cad7c_level0_row4\" class=\"row_heading level0 row4\" >Gearbox</th>\n",
       "                        <td id=\"T_cad7c_row4_col0\" class=\"data row4 col0\" >5.600000</td>\n",
       "            </tr>\n",
       "            <tr>\n",
       "                        <th id=\"T_cad7c_level0_row5\" class=\"row_heading level0 row5\" >Power</th>\n",
       "                        <td id=\"T_cad7c_row5_col0\" class=\"data row5 col0\" >0.000000</td>\n",
       "            </tr>\n",
       "            <tr>\n",
       "                        <th id=\"T_cad7c_level0_row6\" class=\"row_heading level0 row6\" >Model</th>\n",
       "                        <td id=\"T_cad7c_row6_col0\" class=\"data row6 col0\" >5.600000</td>\n",
       "            </tr>\n",
       "            <tr>\n",
       "                        <th id=\"T_cad7c_level0_row7\" class=\"row_heading level0 row7\" >Kilometer</th>\n",
       "                        <td id=\"T_cad7c_row7_col0\" class=\"data row7 col0\" >0.000000</td>\n",
       "            </tr>\n",
       "            <tr>\n",
       "                        <th id=\"T_cad7c_level0_row8\" class=\"row_heading level0 row8\" >RegistrationMonth</th>\n",
       "                        <td id=\"T_cad7c_row8_col0\" class=\"data row8 col0\" >0.000000</td>\n",
       "            </tr>\n",
       "            <tr>\n",
       "                        <th id=\"T_cad7c_level0_row9\" class=\"row_heading level0 row9\" >FuelType</th>\n",
       "                        <td id=\"T_cad7c_row9_col0\" class=\"data row9 col0\" >9.300000</td>\n",
       "            </tr>\n",
       "            <tr>\n",
       "                        <th id=\"T_cad7c_level0_row10\" class=\"row_heading level0 row10\" >Brand</th>\n",
       "                        <td id=\"T_cad7c_row10_col0\" class=\"data row10 col0\" >0.000000</td>\n",
       "            </tr>\n",
       "            <tr>\n",
       "                        <th id=\"T_cad7c_level0_row11\" class=\"row_heading level0 row11\" >Repaired</th>\n",
       "                        <td id=\"T_cad7c_row11_col0\" class=\"data row11 col0\" >20.100000</td>\n",
       "            </tr>\n",
       "            <tr>\n",
       "                        <th id=\"T_cad7c_level0_row12\" class=\"row_heading level0 row12\" >DateCreated</th>\n",
       "                        <td id=\"T_cad7c_row12_col0\" class=\"data row12 col0\" >0.000000</td>\n",
       "            </tr>\n",
       "            <tr>\n",
       "                        <th id=\"T_cad7c_level0_row13\" class=\"row_heading level0 row13\" >NumberOfPictures</th>\n",
       "                        <td id=\"T_cad7c_row13_col0\" class=\"data row13 col0\" >0.000000</td>\n",
       "            </tr>\n",
       "            <tr>\n",
       "                        <th id=\"T_cad7c_level0_row14\" class=\"row_heading level0 row14\" >PostalCode</th>\n",
       "                        <td id=\"T_cad7c_row14_col0\" class=\"data row14 col0\" >0.000000</td>\n",
       "            </tr>\n",
       "            <tr>\n",
       "                        <th id=\"T_cad7c_level0_row15\" class=\"row_heading level0 row15\" >LastSeen</th>\n",
       "                        <td id=\"T_cad7c_row15_col0\" class=\"data row15 col0\" >0.000000</td>\n",
       "            </tr>\n",
       "    </tbody></table>"
      ],
      "text/plain": [
       "<pandas.io.formats.style.Styler at 0x7f3018096640>"
      ]
     },
     "execution_count": 8,
     "metadata": {},
     "output_type": "execute_result"
    }
   ],
   "source": [
    "pd.DataFrame(round(data.isna().mean()*100,1)).style.background_gradient('bwr')"
   ]
  },
  {
   "cell_type": "markdown",
   "metadata": {},
   "source": [
    "Больше всего пропусков в признаке **Repaired**. Причина пропусков может быть разной, от введения данного признака уже после запуска платформы, до технических ошибок.\n",
    "\n",
    "На втором месте по пропускам **VehicleType**. Возможно техническая ошибка.\n",
    "\n",
    "**FuelType, Gearbox, Model** -  5-9% пропусков - тип топлива, коробка передач и модель. Доля пропусков в последних двух признаков одинакова. Рассмотрим подобные примеры ниже.\n",
    "\n",
    "Заменим пропуски на \"no info\"."
   ]
  },
  {
   "cell_type": "code",
   "execution_count": 9,
   "metadata": {},
   "outputs": [],
   "source": [
    "nans = ['Repaired', 'VehicleType', 'FuelType', 'Gearbox', 'Model']\n",
    "data[nans] = data[nans].fillna('no info')"
   ]
  },
  {
   "cell_type": "code",
   "execution_count": 10,
   "metadata": {},
   "outputs": [
    {
     "data": {
      "text/html": [
       "<style  type=\"text/css\" >\n",
       "#T_05e8e_row0_col0,#T_05e8e_row1_col0,#T_05e8e_row2_col0,#T_05e8e_row3_col0,#T_05e8e_row4_col0,#T_05e8e_row5_col0,#T_05e8e_row6_col0,#T_05e8e_row7_col0,#T_05e8e_row8_col0,#T_05e8e_row9_col0,#T_05e8e_row10_col0,#T_05e8e_row11_col0,#T_05e8e_row12_col0,#T_05e8e_row13_col0,#T_05e8e_row14_col0,#T_05e8e_row15_col0{\n",
       "            background-color:  #0d0887;\n",
       "            color:  #f1f1f1;\n",
       "        }</style><table id=\"T_05e8e_\" ><thead>    <tr>        <th class=\"blank level0\" ></th>        <th class=\"col_heading level0 col0\" >0</th>    </tr></thead><tbody>\n",
       "                <tr>\n",
       "                        <th id=\"T_05e8e_level0_row0\" class=\"row_heading level0 row0\" >DateCrawled</th>\n",
       "                        <td id=\"T_05e8e_row0_col0\" class=\"data row0 col0\" >0.000000</td>\n",
       "            </tr>\n",
       "            <tr>\n",
       "                        <th id=\"T_05e8e_level0_row1\" class=\"row_heading level0 row1\" >Price</th>\n",
       "                        <td id=\"T_05e8e_row1_col0\" class=\"data row1 col0\" >0.000000</td>\n",
       "            </tr>\n",
       "            <tr>\n",
       "                        <th id=\"T_05e8e_level0_row2\" class=\"row_heading level0 row2\" >VehicleType</th>\n",
       "                        <td id=\"T_05e8e_row2_col0\" class=\"data row2 col0\" >0.000000</td>\n",
       "            </tr>\n",
       "            <tr>\n",
       "                        <th id=\"T_05e8e_level0_row3\" class=\"row_heading level0 row3\" >RegistrationYear</th>\n",
       "                        <td id=\"T_05e8e_row3_col0\" class=\"data row3 col0\" >0.000000</td>\n",
       "            </tr>\n",
       "            <tr>\n",
       "                        <th id=\"T_05e8e_level0_row4\" class=\"row_heading level0 row4\" >Gearbox</th>\n",
       "                        <td id=\"T_05e8e_row4_col0\" class=\"data row4 col0\" >0.000000</td>\n",
       "            </tr>\n",
       "            <tr>\n",
       "                        <th id=\"T_05e8e_level0_row5\" class=\"row_heading level0 row5\" >Power</th>\n",
       "                        <td id=\"T_05e8e_row5_col0\" class=\"data row5 col0\" >0.000000</td>\n",
       "            </tr>\n",
       "            <tr>\n",
       "                        <th id=\"T_05e8e_level0_row6\" class=\"row_heading level0 row6\" >Model</th>\n",
       "                        <td id=\"T_05e8e_row6_col0\" class=\"data row6 col0\" >0.000000</td>\n",
       "            </tr>\n",
       "            <tr>\n",
       "                        <th id=\"T_05e8e_level0_row7\" class=\"row_heading level0 row7\" >Kilometer</th>\n",
       "                        <td id=\"T_05e8e_row7_col0\" class=\"data row7 col0\" >0.000000</td>\n",
       "            </tr>\n",
       "            <tr>\n",
       "                        <th id=\"T_05e8e_level0_row8\" class=\"row_heading level0 row8\" >RegistrationMonth</th>\n",
       "                        <td id=\"T_05e8e_row8_col0\" class=\"data row8 col0\" >0.000000</td>\n",
       "            </tr>\n",
       "            <tr>\n",
       "                        <th id=\"T_05e8e_level0_row9\" class=\"row_heading level0 row9\" >FuelType</th>\n",
       "                        <td id=\"T_05e8e_row9_col0\" class=\"data row9 col0\" >0.000000</td>\n",
       "            </tr>\n",
       "            <tr>\n",
       "                        <th id=\"T_05e8e_level0_row10\" class=\"row_heading level0 row10\" >Brand</th>\n",
       "                        <td id=\"T_05e8e_row10_col0\" class=\"data row10 col0\" >0.000000</td>\n",
       "            </tr>\n",
       "            <tr>\n",
       "                        <th id=\"T_05e8e_level0_row11\" class=\"row_heading level0 row11\" >Repaired</th>\n",
       "                        <td id=\"T_05e8e_row11_col0\" class=\"data row11 col0\" >0.000000</td>\n",
       "            </tr>\n",
       "            <tr>\n",
       "                        <th id=\"T_05e8e_level0_row12\" class=\"row_heading level0 row12\" >DateCreated</th>\n",
       "                        <td id=\"T_05e8e_row12_col0\" class=\"data row12 col0\" >0.000000</td>\n",
       "            </tr>\n",
       "            <tr>\n",
       "                        <th id=\"T_05e8e_level0_row13\" class=\"row_heading level0 row13\" >NumberOfPictures</th>\n",
       "                        <td id=\"T_05e8e_row13_col0\" class=\"data row13 col0\" >0.000000</td>\n",
       "            </tr>\n",
       "            <tr>\n",
       "                        <th id=\"T_05e8e_level0_row14\" class=\"row_heading level0 row14\" >PostalCode</th>\n",
       "                        <td id=\"T_05e8e_row14_col0\" class=\"data row14 col0\" >0.000000</td>\n",
       "            </tr>\n",
       "            <tr>\n",
       "                        <th id=\"T_05e8e_level0_row15\" class=\"row_heading level0 row15\" >LastSeen</th>\n",
       "                        <td id=\"T_05e8e_row15_col0\" class=\"data row15 col0\" >0.000000</td>\n",
       "            </tr>\n",
       "    </tbody></table>"
      ],
      "text/plain": [
       "<pandas.io.formats.style.Styler at 0x7f2f8aa71a60>"
      ]
     },
     "execution_count": 10,
     "metadata": {},
     "output_type": "execute_result"
    }
   ],
   "source": [
    "pd.DataFrame(round(data.isna().mean()*100,1)).style.background_gradient('plasma')"
   ]
  },
  {
   "cell_type": "markdown",
   "metadata": {},
   "source": [
    "**Корреляция**"
   ]
  },
  {
   "cell_type": "code",
   "execution_count": 11,
   "metadata": {},
   "outputs": [
    {
     "data": {
      "text/html": [
       "<div>\n",
       "<style scoped>\n",
       "    .dataframe tbody tr th:only-of-type {\n",
       "        vertical-align: middle;\n",
       "    }\n",
       "\n",
       "    .dataframe tbody tr th {\n",
       "        vertical-align: top;\n",
       "    }\n",
       "\n",
       "    .dataframe thead th {\n",
       "        text-align: right;\n",
       "    }\n",
       "</style>\n",
       "<table border=\"1\" class=\"dataframe\">\n",
       "  <thead>\n",
       "    <tr style=\"text-align: right;\">\n",
       "      <th></th>\n",
       "      <th>Price</th>\n",
       "      <th>RegistrationYear</th>\n",
       "      <th>Power</th>\n",
       "      <th>Kilometer</th>\n",
       "      <th>RegistrationMonth</th>\n",
       "      <th>NumberOfPictures</th>\n",
       "      <th>PostalCode</th>\n",
       "    </tr>\n",
       "  </thead>\n",
       "  <tbody>\n",
       "    <tr>\n",
       "      <th>Price</th>\n",
       "      <td>1.000000</td>\n",
       "      <td>0.026916</td>\n",
       "      <td>0.158872</td>\n",
       "      <td>-0.333207</td>\n",
       "      <td>0.110580</td>\n",
       "      <td>NaN</td>\n",
       "      <td>0.076058</td>\n",
       "    </tr>\n",
       "    <tr>\n",
       "      <th>RegistrationYear</th>\n",
       "      <td>0.026916</td>\n",
       "      <td>1.000000</td>\n",
       "      <td>-0.000828</td>\n",
       "      <td>-0.053448</td>\n",
       "      <td>-0.011619</td>\n",
       "      <td>NaN</td>\n",
       "      <td>-0.003459</td>\n",
       "    </tr>\n",
       "    <tr>\n",
       "      <th>Power</th>\n",
       "      <td>0.158872</td>\n",
       "      <td>-0.000828</td>\n",
       "      <td>1.000000</td>\n",
       "      <td>0.024006</td>\n",
       "      <td>0.043379</td>\n",
       "      <td>NaN</td>\n",
       "      <td>0.021662</td>\n",
       "    </tr>\n",
       "    <tr>\n",
       "      <th>Kilometer</th>\n",
       "      <td>-0.333207</td>\n",
       "      <td>-0.053448</td>\n",
       "      <td>0.024006</td>\n",
       "      <td>1.000000</td>\n",
       "      <td>0.009575</td>\n",
       "      <td>NaN</td>\n",
       "      <td>-0.007685</td>\n",
       "    </tr>\n",
       "    <tr>\n",
       "      <th>RegistrationMonth</th>\n",
       "      <td>0.110580</td>\n",
       "      <td>-0.011619</td>\n",
       "      <td>0.043379</td>\n",
       "      <td>0.009575</td>\n",
       "      <td>1.000000</td>\n",
       "      <td>NaN</td>\n",
       "      <td>0.013996</td>\n",
       "    </tr>\n",
       "    <tr>\n",
       "      <th>NumberOfPictures</th>\n",
       "      <td>NaN</td>\n",
       "      <td>NaN</td>\n",
       "      <td>NaN</td>\n",
       "      <td>NaN</td>\n",
       "      <td>NaN</td>\n",
       "      <td>NaN</td>\n",
       "      <td>NaN</td>\n",
       "    </tr>\n",
       "    <tr>\n",
       "      <th>PostalCode</th>\n",
       "      <td>0.076058</td>\n",
       "      <td>-0.003459</td>\n",
       "      <td>0.021662</td>\n",
       "      <td>-0.007685</td>\n",
       "      <td>0.013996</td>\n",
       "      <td>NaN</td>\n",
       "      <td>1.000000</td>\n",
       "    </tr>\n",
       "  </tbody>\n",
       "</table>\n",
       "</div>"
      ],
      "text/plain": [
       "                      Price  RegistrationYear     Power  Kilometer  \\\n",
       "Price              1.000000          0.026916  0.158872  -0.333207   \n",
       "RegistrationYear   0.026916          1.000000 -0.000828  -0.053448   \n",
       "Power              0.158872         -0.000828  1.000000   0.024006   \n",
       "Kilometer         -0.333207         -0.053448  0.024006   1.000000   \n",
       "RegistrationMonth  0.110580         -0.011619  0.043379   0.009575   \n",
       "NumberOfPictures        NaN               NaN       NaN        NaN   \n",
       "PostalCode         0.076058         -0.003459  0.021662  -0.007685   \n",
       "\n",
       "                   RegistrationMonth  NumberOfPictures  PostalCode  \n",
       "Price                       0.110580               NaN    0.076058  \n",
       "RegistrationYear           -0.011619               NaN   -0.003459  \n",
       "Power                       0.043379               NaN    0.021662  \n",
       "Kilometer                   0.009575               NaN   -0.007685  \n",
       "RegistrationMonth           1.000000               NaN    0.013996  \n",
       "NumberOfPictures                 NaN               NaN         NaN  \n",
       "PostalCode                  0.013996               NaN    1.000000  "
      ]
     },
     "execution_count": 11,
     "metadata": {},
     "output_type": "execute_result"
    }
   ],
   "source": [
    "data.corr()"
   ]
  },
  {
   "cell_type": "code",
   "execution_count": 12,
   "metadata": {},
   "outputs": [
    {
     "data": {
      "image/png": "[encoded data removed]",
      "text/plain": [
       "<Figure size 1080x720 with 2 Axes>"
      ]
     },
     "metadata": {
      "needs_background": "light"
     },
     "output_type": "display_data"
    }
   ],
   "source": [
    "plt.figure(figsize=(15,10))\n",
    "sns.heatmap(data.corr(),annot=True)\n",
    "plt.title('Heatmap корреляции')\n",
    "plt.show()"
   ]
  },
  {
   "cell_type": "markdown",
   "metadata": {},
   "source": [
    "На первый взгляд какой-то явной корреляция не выявлено.\n",
    "Библиотеку PHIK использовать не удалось, вероятно из-за размеров датасета и ограничений мощности jupyterhyb."
   ]
  },
  {
   "cell_type": "code",
   "execution_count": 13,
   "metadata": {},
   "outputs": [
    {
     "data": {
      "image/png": "[encoded data removed]",
      "text/plain": [
       "<Figure size 1080x1080 with 9 Axes>"
      ]
     },
     "metadata": {
      "needs_background": "light"
     },
     "output_type": "display_data"
    }
   ],
   "source": [
    "data.hist(bins=30, figsize=(15,15), edgecolor='orange', grid=False, linewidth=2)\n",
    "plt.show()"
   ]
  },
  {
   "cell_type": "code",
   "execution_count": 14,
   "metadata": {},
   "outputs": [
    {
     "data": {
      "text/html": [
       "<div>\n",
       "<style scoped>\n",
       "    .dataframe tbody tr th:only-of-type {\n",
       "        vertical-align: middle;\n",
       "    }\n",
       "\n",
       "    .dataframe tbody tr th {\n",
       "        vertical-align: top;\n",
       "    }\n",
       "\n",
       "    .dataframe thead th {\n",
       "        text-align: right;\n",
       "    }\n",
       "</style>\n",
       "<table border=\"1\" class=\"dataframe\">\n",
       "  <thead>\n",
       "    <tr style=\"text-align: right;\">\n",
       "      <th></th>\n",
       "      <th>count</th>\n",
       "      <th>mean</th>\n",
       "      <th>std</th>\n",
       "      <th>min</th>\n",
       "      <th>25%</th>\n",
       "      <th>50%</th>\n",
       "      <th>75%</th>\n",
       "      <th>max</th>\n",
       "    </tr>\n",
       "  </thead>\n",
       "  <tbody>\n",
       "    <tr>\n",
       "      <th>Price</th>\n",
       "      <td>354365.0</td>\n",
       "      <td>4416.679830</td>\n",
       "      <td>4514.176349</td>\n",
       "      <td>0.0</td>\n",
       "      <td>1050.0</td>\n",
       "      <td>2700.0</td>\n",
       "      <td>6400.0</td>\n",
       "      <td>20000.0</td>\n",
       "    </tr>\n",
       "    <tr>\n",
       "      <th>RegistrationYear</th>\n",
       "      <td>354365.0</td>\n",
       "      <td>2004.234481</td>\n",
       "      <td>90.228466</td>\n",
       "      <td>1000.0</td>\n",
       "      <td>1999.0</td>\n",
       "      <td>2003.0</td>\n",
       "      <td>2008.0</td>\n",
       "      <td>9999.0</td>\n",
       "    </tr>\n",
       "    <tr>\n",
       "      <th>Power</th>\n",
       "      <td>354365.0</td>\n",
       "      <td>110.093816</td>\n",
       "      <td>189.851330</td>\n",
       "      <td>0.0</td>\n",
       "      <td>69.0</td>\n",
       "      <td>105.0</td>\n",
       "      <td>143.0</td>\n",
       "      <td>20000.0</td>\n",
       "    </tr>\n",
       "    <tr>\n",
       "      <th>Kilometer</th>\n",
       "      <td>354365.0</td>\n",
       "      <td>128211.363989</td>\n",
       "      <td>37905.083858</td>\n",
       "      <td>5000.0</td>\n",
       "      <td>125000.0</td>\n",
       "      <td>150000.0</td>\n",
       "      <td>150000.0</td>\n",
       "      <td>150000.0</td>\n",
       "    </tr>\n",
       "    <tr>\n",
       "      <th>RegistrationMonth</th>\n",
       "      <td>354365.0</td>\n",
       "      <td>5.714650</td>\n",
       "      <td>3.726432</td>\n",
       "      <td>0.0</td>\n",
       "      <td>3.0</td>\n",
       "      <td>6.0</td>\n",
       "      <td>9.0</td>\n",
       "      <td>12.0</td>\n",
       "    </tr>\n",
       "    <tr>\n",
       "      <th>NumberOfPictures</th>\n",
       "      <td>354365.0</td>\n",
       "      <td>0.000000</td>\n",
       "      <td>0.000000</td>\n",
       "      <td>0.0</td>\n",
       "      <td>0.0</td>\n",
       "      <td>0.0</td>\n",
       "      <td>0.0</td>\n",
       "      <td>0.0</td>\n",
       "    </tr>\n",
       "    <tr>\n",
       "      <th>PostalCode</th>\n",
       "      <td>354365.0</td>\n",
       "      <td>50508.503800</td>\n",
       "      <td>25783.100078</td>\n",
       "      <td>1067.0</td>\n",
       "      <td>30165.0</td>\n",
       "      <td>49413.0</td>\n",
       "      <td>71083.0</td>\n",
       "      <td>99998.0</td>\n",
       "    </tr>\n",
       "  </tbody>\n",
       "</table>\n",
       "</div>"
      ],
      "text/plain": [
       "                      count           mean           std     min       25%  \\\n",
       "Price              354365.0    4416.679830   4514.176349     0.0    1050.0   \n",
       "RegistrationYear   354365.0    2004.234481     90.228466  1000.0    1999.0   \n",
       "Power              354365.0     110.093816    189.851330     0.0      69.0   \n",
       "Kilometer          354365.0  128211.363989  37905.083858  5000.0  125000.0   \n",
       "RegistrationMonth  354365.0       5.714650      3.726432     0.0       3.0   \n",
       "NumberOfPictures   354365.0       0.000000      0.000000     0.0       0.0   \n",
       "PostalCode         354365.0   50508.503800  25783.100078  1067.0   30165.0   \n",
       "\n",
       "                        50%       75%       max  \n",
       "Price                2700.0    6400.0   20000.0  \n",
       "RegistrationYear     2003.0    2008.0    9999.0  \n",
       "Power                 105.0     143.0   20000.0  \n",
       "Kilometer          150000.0  150000.0  150000.0  \n",
       "RegistrationMonth       6.0       9.0      12.0  \n",
       "NumberOfPictures        0.0       0.0       0.0  \n",
       "PostalCode          49413.0   71083.0   99998.0  "
      ]
     },
     "execution_count": 14,
     "metadata": {},
     "output_type": "execute_result"
    }
   ],
   "source": [
    "data.describe().T"
   ]
  },
  {
   "cell_type": "markdown",
   "metadata": {},
   "source": [
    "Аномальные значения по min и max году, мощности. Попробуем отфильтровать их с помощью квантилей."
   ]
  },
  {
   "cell_type": "code",
   "execution_count": 15,
   "metadata": {},
   "outputs": [
    {
     "data": {
      "text/html": [
       "<div>\n",
       "<style scoped>\n",
       "    .dataframe tbody tr th:only-of-type {\n",
       "        vertical-align: middle;\n",
       "    }\n",
       "\n",
       "    .dataframe tbody tr th {\n",
       "        vertical-align: top;\n",
       "    }\n",
       "\n",
       "    .dataframe thead th {\n",
       "        text-align: right;\n",
       "    }\n",
       "</style>\n",
       "<table border=\"1\" class=\"dataframe\">\n",
       "  <thead>\n",
       "    <tr style=\"text-align: right;\">\n",
       "      <th></th>\n",
       "      <th>count</th>\n",
       "      <th>mean</th>\n",
       "      <th>std</th>\n",
       "      <th>min</th>\n",
       "      <th>25%</th>\n",
       "      <th>50%</th>\n",
       "      <th>75%</th>\n",
       "      <th>max</th>\n",
       "    </tr>\n",
       "  </thead>\n",
       "  <tbody>\n",
       "    <tr>\n",
       "      <th>Price</th>\n",
       "      <td>295309.0</td>\n",
       "      <td>4569.945962</td>\n",
       "      <td>4282.808988</td>\n",
       "      <td>1.0</td>\n",
       "      <td>1299.0</td>\n",
       "      <td>2999.0</td>\n",
       "      <td>6600.0</td>\n",
       "      <td>18799.0</td>\n",
       "    </tr>\n",
       "    <tr>\n",
       "      <th>Power</th>\n",
       "      <td>295309.0</td>\n",
       "      <td>117.495017</td>\n",
       "      <td>48.042445</td>\n",
       "      <td>1.0</td>\n",
       "      <td>75.0</td>\n",
       "      <td>110.0</td>\n",
       "      <td>145.0</td>\n",
       "      <td>299.0</td>\n",
       "    </tr>\n",
       "    <tr>\n",
       "      <th>RegistrationYear</th>\n",
       "      <td>295309.0</td>\n",
       "      <td>2003.344341</td>\n",
       "      <td>6.179831</td>\n",
       "      <td>1981.0</td>\n",
       "      <td>1999.0</td>\n",
       "      <td>2003.0</td>\n",
       "      <td>2007.0</td>\n",
       "      <td>2017.0</td>\n",
       "    </tr>\n",
       "  </tbody>\n",
       "</table>\n",
       "</div>"
      ],
      "text/plain": [
       "                     count         mean          std     min     25%     50%  \\\n",
       "Price             295309.0  4569.945962  4282.808988     1.0  1299.0  2999.0   \n",
       "Power             295309.0   117.495017    48.042445     1.0    75.0   110.0   \n",
       "RegistrationYear  295309.0  2003.344341     6.179831  1981.0  1999.0  2003.0   \n",
       "\n",
       "                     75%      max  \n",
       "Price             6600.0  18799.0  \n",
       "Power              145.0    299.0  \n",
       "RegistrationYear  2007.0   2017.0  "
      ]
     },
     "execution_count": 15,
     "metadata": {},
     "output_type": "execute_result"
    }
   ],
   "source": [
    "cols_clean = ['Price', 'Power', 'RegistrationYear']\n",
    "low = .01\n",
    "high = .99\n",
    "quant_df = data[cols_clean].quantile([low, high])\n",
    "data_clean = data[cols_clean].apply(lambda x: x[(x > quant_df.loc[low, x.name]) & \n",
    "                                     (x < quant_df.loc[high, x.name])], axis=0)\n",
    "data_clean.dropna(inplace=True)\n",
    "data_clean.describe().T"
   ]
  },
  {
   "cell_type": "code",
   "execution_count": 16,
   "metadata": {},
   "outputs": [
    {
     "data": {
      "text/plain": [
       "(354365, 16)"
      ]
     },
     "execution_count": 16,
     "metadata": {},
     "output_type": "execute_result"
    }
   ],
   "source": [
    "data.shape"
   ]
  },
  {
   "cell_type": "markdown",
   "metadata": {},
   "source": [
    "Удалось получить минимальный год 1972 и максимальный 2017, что выглядит более реальным. Создадим отдельный датасет без аномалий."
   ]
  },
  {
   "cell_type": "code",
   "execution_count": 17,
   "metadata": {},
   "outputs": [
    {
     "data": {
      "text/html": [
       "<div>\n",
       "<style scoped>\n",
       "    .dataframe tbody tr th:only-of-type {\n",
       "        vertical-align: middle;\n",
       "    }\n",
       "\n",
       "    .dataframe tbody tr th {\n",
       "        vertical-align: top;\n",
       "    }\n",
       "\n",
       "    .dataframe thead th {\n",
       "        text-align: right;\n",
       "    }\n",
       "</style>\n",
       "<table border=\"1\" class=\"dataframe\">\n",
       "  <thead>\n",
       "    <tr style=\"text-align: right;\">\n",
       "      <th></th>\n",
       "      <th>DateCrawled</th>\n",
       "      <th>Price</th>\n",
       "      <th>VehicleType</th>\n",
       "      <th>RegistrationYear</th>\n",
       "      <th>Gearbox</th>\n",
       "      <th>Power</th>\n",
       "      <th>Model</th>\n",
       "      <th>Kilometer</th>\n",
       "      <th>RegistrationMonth</th>\n",
       "      <th>FuelType</th>\n",
       "      <th>Brand</th>\n",
       "      <th>Repaired</th>\n",
       "      <th>DateCreated</th>\n",
       "      <th>NumberOfPictures</th>\n",
       "      <th>PostalCode</th>\n",
       "      <th>LastSeen</th>\n",
       "    </tr>\n",
       "  </thead>\n",
       "  <tbody>\n",
       "    <tr>\n",
       "      <th>1</th>\n",
       "      <td>2016-03-24 10:58:45</td>\n",
       "      <td>18300</td>\n",
       "      <td>coupe</td>\n",
       "      <td>2011</td>\n",
       "      <td>manual</td>\n",
       "      <td>190</td>\n",
       "      <td>no info</td>\n",
       "      <td>125000</td>\n",
       "      <td>5</td>\n",
       "      <td>gasoline</td>\n",
       "      <td>audi</td>\n",
       "      <td>yes</td>\n",
       "      <td>2016-03-24 00:00:00</td>\n",
       "      <td>0</td>\n",
       "      <td>66954</td>\n",
       "      <td>2016-04-07 01:46:50</td>\n",
       "    </tr>\n",
       "    <tr>\n",
       "      <th>2</th>\n",
       "      <td>2016-03-14 12:52:21</td>\n",
       "      <td>9800</td>\n",
       "      <td>suv</td>\n",
       "      <td>2004</td>\n",
       "      <td>auto</td>\n",
       "      <td>163</td>\n",
       "      <td>grand</td>\n",
       "      <td>125000</td>\n",
       "      <td>8</td>\n",
       "      <td>gasoline</td>\n",
       "      <td>jeep</td>\n",
       "      <td>no info</td>\n",
       "      <td>2016-03-14 00:00:00</td>\n",
       "      <td>0</td>\n",
       "      <td>90480</td>\n",
       "      <td>2016-04-05 12:47:46</td>\n",
       "    </tr>\n",
       "    <tr>\n",
       "      <th>3</th>\n",
       "      <td>2016-03-17 16:54:04</td>\n",
       "      <td>1500</td>\n",
       "      <td>small</td>\n",
       "      <td>2001</td>\n",
       "      <td>manual</td>\n",
       "      <td>75</td>\n",
       "      <td>golf</td>\n",
       "      <td>150000</td>\n",
       "      <td>6</td>\n",
       "      <td>petrol</td>\n",
       "      <td>volkswagen</td>\n",
       "      <td>no</td>\n",
       "      <td>2016-03-17 00:00:00</td>\n",
       "      <td>0</td>\n",
       "      <td>91074</td>\n",
       "      <td>2016-03-17 17:40:17</td>\n",
       "    </tr>\n",
       "    <tr>\n",
       "      <th>4</th>\n",
       "      <td>2016-03-31 17:25:20</td>\n",
       "      <td>3600</td>\n",
       "      <td>small</td>\n",
       "      <td>2008</td>\n",
       "      <td>manual</td>\n",
       "      <td>69</td>\n",
       "      <td>fabia</td>\n",
       "      <td>90000</td>\n",
       "      <td>7</td>\n",
       "      <td>gasoline</td>\n",
       "      <td>skoda</td>\n",
       "      <td>no</td>\n",
       "      <td>2016-03-31 00:00:00</td>\n",
       "      <td>0</td>\n",
       "      <td>60437</td>\n",
       "      <td>2016-04-06 10:17:21</td>\n",
       "    </tr>\n",
       "    <tr>\n",
       "      <th>5</th>\n",
       "      <td>2016-04-04 17:36:23</td>\n",
       "      <td>650</td>\n",
       "      <td>sedan</td>\n",
       "      <td>1995</td>\n",
       "      <td>manual</td>\n",
       "      <td>102</td>\n",
       "      <td>3er</td>\n",
       "      <td>150000</td>\n",
       "      <td>10</td>\n",
       "      <td>petrol</td>\n",
       "      <td>bmw</td>\n",
       "      <td>yes</td>\n",
       "      <td>2016-04-04 00:00:00</td>\n",
       "      <td>0</td>\n",
       "      <td>33775</td>\n",
       "      <td>2016-04-06 19:17:07</td>\n",
       "    </tr>\n",
       "    <tr>\n",
       "      <th>6</th>\n",
       "      <td>2016-04-01 20:48:51</td>\n",
       "      <td>2200</td>\n",
       "      <td>convertible</td>\n",
       "      <td>2004</td>\n",
       "      <td>manual</td>\n",
       "      <td>109</td>\n",
       "      <td>2_reihe</td>\n",
       "      <td>150000</td>\n",
       "      <td>8</td>\n",
       "      <td>petrol</td>\n",
       "      <td>peugeot</td>\n",
       "      <td>no</td>\n",
       "      <td>2016-04-01 00:00:00</td>\n",
       "      <td>0</td>\n",
       "      <td>67112</td>\n",
       "      <td>2016-04-05 18:18:39</td>\n",
       "    </tr>\n",
       "    <tr>\n",
       "      <th>8</th>\n",
       "      <td>2016-04-04 23:42:13</td>\n",
       "      <td>14500</td>\n",
       "      <td>bus</td>\n",
       "      <td>2014</td>\n",
       "      <td>manual</td>\n",
       "      <td>125</td>\n",
       "      <td>c_max</td>\n",
       "      <td>30000</td>\n",
       "      <td>8</td>\n",
       "      <td>petrol</td>\n",
       "      <td>ford</td>\n",
       "      <td>no info</td>\n",
       "      <td>2016-04-04 00:00:00</td>\n",
       "      <td>0</td>\n",
       "      <td>94505</td>\n",
       "      <td>2016-04-04 23:42:13</td>\n",
       "    </tr>\n",
       "  </tbody>\n",
       "</table>\n",
       "</div>"
      ],
      "text/plain": [
       "           DateCrawled  Price  VehicleType  RegistrationYear Gearbox  Power  \\\n",
       "1  2016-03-24 10:58:45  18300        coupe              2011  manual    190   \n",
       "2  2016-03-14 12:52:21   9800          suv              2004    auto    163   \n",
       "3  2016-03-17 16:54:04   1500        small              2001  manual     75   \n",
       "4  2016-03-31 17:25:20   3600        small              2008  manual     69   \n",
       "5  2016-04-04 17:36:23    650        sedan              1995  manual    102   \n",
       "6  2016-04-01 20:48:51   2200  convertible              2004  manual    109   \n",
       "8  2016-04-04 23:42:13  14500          bus              2014  manual    125   \n",
       "\n",
       "     Model  Kilometer  RegistrationMonth  FuelType       Brand Repaired  \\\n",
       "1  no info     125000                  5  gasoline        audi      yes   \n",
       "2    grand     125000                  8  gasoline        jeep  no info   \n",
       "3     golf     150000                  6    petrol  volkswagen       no   \n",
       "4    fabia      90000                  7  gasoline       skoda       no   \n",
       "5      3er     150000                 10    petrol         bmw      yes   \n",
       "6  2_reihe     150000                  8    petrol     peugeot       no   \n",
       "8    c_max      30000                  8    petrol        ford  no info   \n",
       "\n",
       "           DateCreated  NumberOfPictures  PostalCode             LastSeen  \n",
       "1  2016-03-24 00:00:00                 0       66954  2016-04-07 01:46:50  \n",
       "2  2016-03-14 00:00:00                 0       90480  2016-04-05 12:47:46  \n",
       "3  2016-03-17 00:00:00                 0       91074  2016-03-17 17:40:17  \n",
       "4  2016-03-31 00:00:00                 0       60437  2016-04-06 10:17:21  \n",
       "5  2016-04-04 00:00:00                 0       33775  2016-04-06 19:17:07  \n",
       "6  2016-04-01 00:00:00                 0       67112  2016-04-05 18:18:39  \n",
       "8  2016-04-04 00:00:00                 0       94505  2016-04-04 23:42:13  "
      ]
     },
     "execution_count": 17,
     "metadata": {},
     "output_type": "execute_result"
    }
   ],
   "source": [
    "auto_q = data[data.index.isin(data_clean.index)]\n",
    "auto_q.head(7)"
   ]
  },
  {
   "cell_type": "code",
   "execution_count": 18,
   "metadata": {},
   "outputs": [
    {
     "data": {
      "text/plain": [
       "(295309, 16)"
      ]
     },
     "execution_count": 18,
     "metadata": {},
     "output_type": "execute_result"
    }
   ],
   "source": [
    "auto_q.shape"
   ]
  },
  {
   "cell_type": "code",
   "execution_count": 19,
   "metadata": {},
   "outputs": [
    {
     "data": {
      "text/plain": [
       "Index(['DateCrawled', 'Price', 'VehicleType', 'RegistrationYear', 'Gearbox',\n",
       "       'Power', 'Model', 'Kilometer', 'RegistrationMonth', 'FuelType', 'Brand',\n",
       "       'Repaired', 'DateCreated', 'NumberOfPictures', 'PostalCode',\n",
       "       'LastSeen'],\n",
       "      dtype='object')"
      ]
     },
     "execution_count": 19,
     "metadata": {},
     "output_type": "execute_result"
    }
   ],
   "source": [
    "auto_q.columns"
   ]
  },
  {
   "cell_type": "markdown",
   "metadata": {},
   "source": [
    "Разделим признаки на те, что относятся к авто и к самому обьявлению.\n",
    "\n",
    "**Признаки**\n",
    "\n",
    "- DateCrawled — дата скачивания обьявления\t📑\n",
    "- VehicleType — тип  кузова  🚘\n",
    "- RegistrationYear — год регистрации \t📑\n",
    "- Gearbox — тип коробки передач  🚘\n",
    "- Power — мощность (л.с.)  🚘\n",
    "- Model — модель 🚘\n",
    "- Kilometer — пробег (км)  🚘\n",
    "- RegistrationMonth — месяц регистрации автомобиля\t📑\n",
    "- FuelType — тип топлива 🚘\n",
    "- Brand — марка 🚘\n",
    "- Repaired — кузовной ремонт 🚘\n",
    "- DateCreated — дата создания обьявления\t📑\n",
    "- NumberOfPictures — количество фотографий авто\t📑\n",
    "- PostalCode — почтовый индекс владельца авто\t📑\n",
    "- LastSeen — дата последней активности владельца  \t📑\n",
    "\n",
    "**Целевой признак**\n",
    "\n",
    "- Price — цена (евро) 💰"
   ]
  },
  {
   "cell_type": "markdown",
   "metadata": {},
   "source": [
    "Уберём те признаки обьявления, которые имеют минимальную информативность в части формирования цены."
   ]
  },
  {
   "cell_type": "code",
   "execution_count": 55,
   "metadata": {},
   "outputs": [
    {
     "data": {
      "text/html": [
       "<div>\n",
       "<style scoped>\n",
       "    .dataframe tbody tr th:only-of-type {\n",
       "        vertical-align: middle;\n",
       "    }\n",
       "\n",
       "    .dataframe tbody tr th {\n",
       "        vertical-align: top;\n",
       "    }\n",
       "\n",
       "    .dataframe thead th {\n",
       "        text-align: right;\n",
       "    }\n",
       "</style>\n",
       "<table border=\"1\" class=\"dataframe\">\n",
       "  <thead>\n",
       "    <tr style=\"text-align: right;\">\n",
       "      <th></th>\n",
       "      <th>Price</th>\n",
       "      <th>VehicleType</th>\n",
       "      <th>RegistrationYear</th>\n",
       "      <th>Gearbox</th>\n",
       "      <th>Power</th>\n",
       "      <th>Model</th>\n",
       "      <th>Kilometer</th>\n",
       "      <th>FuelType</th>\n",
       "      <th>Brand</th>\n",
       "      <th>Repaired</th>\n",
       "    </tr>\n",
       "  </thead>\n",
       "  <tbody>\n",
       "    <tr>\n",
       "      <th>1</th>\n",
       "      <td>18300</td>\n",
       "      <td>coupe</td>\n",
       "      <td>2011</td>\n",
       "      <td>manual</td>\n",
       "      <td>190</td>\n",
       "      <td>no info</td>\n",
       "      <td>125000</td>\n",
       "      <td>gasoline</td>\n",
       "      <td>audi</td>\n",
       "      <td>yes</td>\n",
       "    </tr>\n",
       "    <tr>\n",
       "      <th>2</th>\n",
       "      <td>9800</td>\n",
       "      <td>suv</td>\n",
       "      <td>2004</td>\n",
       "      <td>auto</td>\n",
       "      <td>163</td>\n",
       "      <td>grand</td>\n",
       "      <td>125000</td>\n",
       "      <td>gasoline</td>\n",
       "      <td>jeep</td>\n",
       "      <td>no info</td>\n",
       "    </tr>\n",
       "    <tr>\n",
       "      <th>3</th>\n",
       "      <td>1500</td>\n",
       "      <td>small</td>\n",
       "      <td>2001</td>\n",
       "      <td>manual</td>\n",
       "      <td>75</td>\n",
       "      <td>golf</td>\n",
       "      <td>150000</td>\n",
       "      <td>petrol</td>\n",
       "      <td>volkswagen</td>\n",
       "      <td>no</td>\n",
       "    </tr>\n",
       "    <tr>\n",
       "      <th>4</th>\n",
       "      <td>3600</td>\n",
       "      <td>small</td>\n",
       "      <td>2008</td>\n",
       "      <td>manual</td>\n",
       "      <td>69</td>\n",
       "      <td>fabia</td>\n",
       "      <td>90000</td>\n",
       "      <td>gasoline</td>\n",
       "      <td>skoda</td>\n",
       "      <td>no</td>\n",
       "    </tr>\n",
       "    <tr>\n",
       "      <th>5</th>\n",
       "      <td>650</td>\n",
       "      <td>sedan</td>\n",
       "      <td>1995</td>\n",
       "      <td>manual</td>\n",
       "      <td>102</td>\n",
       "      <td>3er</td>\n",
       "      <td>150000</td>\n",
       "      <td>petrol</td>\n",
       "      <td>bmw</td>\n",
       "      <td>yes</td>\n",
       "    </tr>\n",
       "    <tr>\n",
       "      <th>6</th>\n",
       "      <td>2200</td>\n",
       "      <td>convertible</td>\n",
       "      <td>2004</td>\n",
       "      <td>manual</td>\n",
       "      <td>109</td>\n",
       "      <td>2_reihe</td>\n",
       "      <td>150000</td>\n",
       "      <td>petrol</td>\n",
       "      <td>peugeot</td>\n",
       "      <td>no</td>\n",
       "    </tr>\n",
       "    <tr>\n",
       "      <th>8</th>\n",
       "      <td>14500</td>\n",
       "      <td>bus</td>\n",
       "      <td>2014</td>\n",
       "      <td>manual</td>\n",
       "      <td>125</td>\n",
       "      <td>c_max</td>\n",
       "      <td>30000</td>\n",
       "      <td>petrol</td>\n",
       "      <td>ford</td>\n",
       "      <td>no info</td>\n",
       "    </tr>\n",
       "  </tbody>\n",
       "</table>\n",
       "</div>"
      ],
      "text/plain": [
       "   Price  VehicleType  RegistrationYear Gearbox  Power    Model  Kilometer  \\\n",
       "1  18300        coupe              2011  manual    190  no info     125000   \n",
       "2   9800          suv              2004    auto    163    grand     125000   \n",
       "3   1500        small              2001  manual     75     golf     150000   \n",
       "4   3600        small              2008  manual     69    fabia      90000   \n",
       "5    650        sedan              1995  manual    102      3er     150000   \n",
       "6   2200  convertible              2004  manual    109  2_reihe     150000   \n",
       "8  14500          bus              2014  manual    125    c_max      30000   \n",
       "\n",
       "   FuelType       Brand Repaired  \n",
       "1  gasoline        audi      yes  \n",
       "2  gasoline        jeep  no info  \n",
       "3    petrol  volkswagen       no  \n",
       "4  gasoline       skoda       no  \n",
       "5    petrol         bmw      yes  \n",
       "6    petrol     peugeot       no  \n",
       "8    petrol        ford  no info  "
      ]
     },
     "execution_count": 55,
     "metadata": {},
     "output_type": "execute_result"
    }
   ],
   "source": [
    "cols = ['DateCrawled', 'RegistrationMonth','DateCreated', \n",
    "        'NumberOfPictures', 'PostalCode', 'LastSeen']\n",
    "df = auto_q.drop(cols, axis=1)\n",
    "df.head(7)"
   ]
  },
  {
   "cell_type": "code",
   "execution_count": 56,
   "metadata": {},
   "outputs": [
    {
     "name": "stdout",
     "output_type": "stream",
     "text": [
      "Количество полных дубликтов в датасете 38956\n"
     ]
    }
   ],
   "source": [
    "mydups = df.duplicated().sum()\n",
    "print('Количество полных дубликтов в датасете', mydups)"
   ]
  },
  {
   "cell_type": "markdown",
   "metadata": {},
   "source": [
    "В результате удаление признаков по обьявлению выявилось дополнительно 39к полных дупликатов. Это могут быть повторное выставление на продажу одной и той же машины или массовая продажа одинаковых машин, автосалоном. Эту информацию следует уточнить у заказчика при реальном кейсе. Удалим дубликаты и сфокусируемся на признаках связанных с самим автомобилем."
   ]
  },
  {
   "cell_type": "code",
   "execution_count": 57,
   "metadata": {},
   "outputs": [
    {
     "name": "stdout",
     "output_type": "stream",
     "text": [
      "Количество полных дубликтов в датасете 0\n"
     ]
    }
   ],
   "source": [
    "df = df.drop_duplicates()\n",
    "mydups = df.duplicated().sum()\n",
    "print('Количество полных дубликтов в датасете', mydups)"
   ]
  },
  {
   "cell_type": "code",
   "execution_count": 58,
   "metadata": {},
   "outputs": [
    {
     "data": {
      "text/plain": [
       "(256353, 10)"
      ]
     },
     "execution_count": 58,
     "metadata": {},
     "output_type": "execute_result"
    }
   ],
   "source": [
    "df.shape"
   ]
  },
  {
   "cell_type": "code",
   "execution_count": 59,
   "metadata": {},
   "outputs": [
    {
     "data": {
      "text/html": [
       "<div>\n",
       "<style scoped>\n",
       "    .dataframe tbody tr th:only-of-type {\n",
       "        vertical-align: middle;\n",
       "    }\n",
       "\n",
       "    .dataframe tbody tr th {\n",
       "        vertical-align: top;\n",
       "    }\n",
       "\n",
       "    .dataframe thead th {\n",
       "        text-align: right;\n",
       "    }\n",
       "</style>\n",
       "<table border=\"1\" class=\"dataframe\">\n",
       "  <thead>\n",
       "    <tr style=\"text-align: right;\">\n",
       "      <th></th>\n",
       "      <th>Price</th>\n",
       "      <th>VehicleType</th>\n",
       "      <th>RegistrationYear</th>\n",
       "      <th>Gearbox</th>\n",
       "      <th>Power</th>\n",
       "      <th>Model</th>\n",
       "      <th>Kilometer</th>\n",
       "      <th>FuelType</th>\n",
       "      <th>Brand</th>\n",
       "      <th>Repaired</th>\n",
       "    </tr>\n",
       "  </thead>\n",
       "  <tbody>\n",
       "    <tr>\n",
       "      <th>1</th>\n",
       "      <td>18300</td>\n",
       "      <td>coupe</td>\n",
       "      <td>2011</td>\n",
       "      <td>manual</td>\n",
       "      <td>190</td>\n",
       "      <td>no info</td>\n",
       "      <td>125000</td>\n",
       "      <td>gasoline</td>\n",
       "      <td>audi</td>\n",
       "      <td>yes</td>\n",
       "    </tr>\n",
       "    <tr>\n",
       "      <th>2</th>\n",
       "      <td>9800</td>\n",
       "      <td>suv</td>\n",
       "      <td>2004</td>\n",
       "      <td>auto</td>\n",
       "      <td>163</td>\n",
       "      <td>grand</td>\n",
       "      <td>125000</td>\n",
       "      <td>gasoline</td>\n",
       "      <td>jeep</td>\n",
       "      <td>no info</td>\n",
       "    </tr>\n",
       "    <tr>\n",
       "      <th>3</th>\n",
       "      <td>1500</td>\n",
       "      <td>small</td>\n",
       "      <td>2001</td>\n",
       "      <td>manual</td>\n",
       "      <td>75</td>\n",
       "      <td>golf</td>\n",
       "      <td>150000</td>\n",
       "      <td>petrol</td>\n",
       "      <td>volkswagen</td>\n",
       "      <td>no</td>\n",
       "    </tr>\n",
       "    <tr>\n",
       "      <th>4</th>\n",
       "      <td>3600</td>\n",
       "      <td>small</td>\n",
       "      <td>2008</td>\n",
       "      <td>manual</td>\n",
       "      <td>69</td>\n",
       "      <td>fabia</td>\n",
       "      <td>90000</td>\n",
       "      <td>gasoline</td>\n",
       "      <td>skoda</td>\n",
       "      <td>no</td>\n",
       "    </tr>\n",
       "    <tr>\n",
       "      <th>5</th>\n",
       "      <td>650</td>\n",
       "      <td>sedan</td>\n",
       "      <td>1995</td>\n",
       "      <td>manual</td>\n",
       "      <td>102</td>\n",
       "      <td>3er</td>\n",
       "      <td>150000</td>\n",
       "      <td>petrol</td>\n",
       "      <td>bmw</td>\n",
       "      <td>yes</td>\n",
       "    </tr>\n",
       "    <tr>\n",
       "      <th>6</th>\n",
       "      <td>2200</td>\n",
       "      <td>convertible</td>\n",
       "      <td>2004</td>\n",
       "      <td>manual</td>\n",
       "      <td>109</td>\n",
       "      <td>2_reihe</td>\n",
       "      <td>150000</td>\n",
       "      <td>petrol</td>\n",
       "      <td>peugeot</td>\n",
       "      <td>no</td>\n",
       "    </tr>\n",
       "    <tr>\n",
       "      <th>8</th>\n",
       "      <td>14500</td>\n",
       "      <td>bus</td>\n",
       "      <td>2014</td>\n",
       "      <td>manual</td>\n",
       "      <td>125</td>\n",
       "      <td>c_max</td>\n",
       "      <td>30000</td>\n",
       "      <td>petrol</td>\n",
       "      <td>ford</td>\n",
       "      <td>no info</td>\n",
       "    </tr>\n",
       "  </tbody>\n",
       "</table>\n",
       "</div>"
      ],
      "text/plain": [
       "   Price  VehicleType  RegistrationYear Gearbox  Power    Model  Kilometer  \\\n",
       "1  18300        coupe              2011  manual    190  no info     125000   \n",
       "2   9800          suv              2004    auto    163    grand     125000   \n",
       "3   1500        small              2001  manual     75     golf     150000   \n",
       "4   3600        small              2008  manual     69    fabia      90000   \n",
       "5    650        sedan              1995  manual    102      3er     150000   \n",
       "6   2200  convertible              2004  manual    109  2_reihe     150000   \n",
       "8  14500          bus              2014  manual    125    c_max      30000   \n",
       "\n",
       "   FuelType       Brand Repaired  \n",
       "1  gasoline        audi      yes  \n",
       "2  gasoline        jeep  no info  \n",
       "3    petrol  volkswagen       no  \n",
       "4  gasoline       skoda       no  \n",
       "5    petrol         bmw      yes  \n",
       "6    petrol     peugeot       no  \n",
       "8    petrol        ford  no info  "
      ]
     },
     "execution_count": 59,
     "metadata": {},
     "output_type": "execute_result"
    }
   ],
   "source": [
    "df.head(7)"
   ]
  },
  {
   "cell_type": "code",
   "execution_count": 60,
   "metadata": {},
   "outputs": [
    {
     "data": {
      "text/html": [
       "<div>\n",
       "<style scoped>\n",
       "    .dataframe tbody tr th:only-of-type {\n",
       "        vertical-align: middle;\n",
       "    }\n",
       "\n",
       "    .dataframe tbody tr th {\n",
       "        vertical-align: top;\n",
       "    }\n",
       "\n",
       "    .dataframe thead th {\n",
       "        text-align: right;\n",
       "    }\n",
       "</style>\n",
       "<table border=\"1\" class=\"dataframe\">\n",
       "  <thead>\n",
       "    <tr style=\"text-align: right;\">\n",
       "      <th></th>\n",
       "      <th>index</th>\n",
       "      <th>VehicleType</th>\n",
       "    </tr>\n",
       "  </thead>\n",
       "  <tbody>\n",
       "    <tr>\n",
       "      <th>0</th>\n",
       "      <td>sedan</td>\n",
       "      <td>68378</td>\n",
       "    </tr>\n",
       "    <tr>\n",
       "      <th>1</th>\n",
       "      <td>small</td>\n",
       "      <td>58571</td>\n",
       "    </tr>\n",
       "    <tr>\n",
       "      <th>2</th>\n",
       "      <td>wagon</td>\n",
       "      <td>50215</td>\n",
       "    </tr>\n",
       "    <tr>\n",
       "      <th>3</th>\n",
       "      <td>bus</td>\n",
       "      <td>23064</td>\n",
       "    </tr>\n",
       "    <tr>\n",
       "      <th>4</th>\n",
       "      <td>no info</td>\n",
       "      <td>17137</td>\n",
       "    </tr>\n",
       "    <tr>\n",
       "      <th>5</th>\n",
       "      <td>convertible</td>\n",
       "      <td>15895</td>\n",
       "    </tr>\n",
       "    <tr>\n",
       "      <th>6</th>\n",
       "      <td>coupe</td>\n",
       "      <td>11938</td>\n",
       "    </tr>\n",
       "    <tr>\n",
       "      <th>7</th>\n",
       "      <td>suv</td>\n",
       "      <td>8883</td>\n",
       "    </tr>\n",
       "    <tr>\n",
       "      <th>8</th>\n",
       "      <td>other</td>\n",
       "      <td>2272</td>\n",
       "    </tr>\n",
       "  </tbody>\n",
       "</table>\n",
       "</div>"
      ],
      "text/plain": [
       "         index  VehicleType\n",
       "0        sedan        68378\n",
       "1        small        58571\n",
       "2        wagon        50215\n",
       "3          bus        23064\n",
       "4      no info        17137\n",
       "5  convertible        15895\n",
       "6        coupe        11938\n",
       "7          suv         8883\n",
       "8        other         2272"
      ]
     },
     "execution_count": 60,
     "metadata": {},
     "output_type": "execute_result"
    }
   ],
   "source": [
    "df['VehicleType'].value_counts().reset_index()"
   ]
  },
  {
   "cell_type": "markdown",
   "metadata": {},
   "source": [
    "В 17к строках не указан тип машины. Не понятно о каких автобусах идет речь и что за тип small. Рассмотрим несколько строк."
   ]
  },
  {
   "cell_type": "code",
   "execution_count": 26,
   "metadata": {},
   "outputs": [
    {
     "data": {
      "text/html": [
       "<div>\n",
       "<style scoped>\n",
       "    .dataframe tbody tr th:only-of-type {\n",
       "        vertical-align: middle;\n",
       "    }\n",
       "\n",
       "    .dataframe tbody tr th {\n",
       "        vertical-align: top;\n",
       "    }\n",
       "\n",
       "    .dataframe thead th {\n",
       "        text-align: right;\n",
       "    }\n",
       "</style>\n",
       "<table border=\"1\" class=\"dataframe\">\n",
       "  <thead>\n",
       "    <tr style=\"text-align: right;\">\n",
       "      <th></th>\n",
       "      <th>Price</th>\n",
       "      <th>VehicleType</th>\n",
       "      <th>RegistrationYear</th>\n",
       "      <th>Gearbox</th>\n",
       "      <th>Power</th>\n",
       "      <th>Model</th>\n",
       "      <th>Kilometer</th>\n",
       "      <th>FuelType</th>\n",
       "      <th>Brand</th>\n",
       "      <th>Repaired</th>\n",
       "    </tr>\n",
       "  </thead>\n",
       "  <tbody>\n",
       "    <tr>\n",
       "      <th>3</th>\n",
       "      <td>1500</td>\n",
       "      <td>small</td>\n",
       "      <td>2001</td>\n",
       "      <td>manual</td>\n",
       "      <td>75</td>\n",
       "      <td>golf</td>\n",
       "      <td>150000</td>\n",
       "      <td>petrol</td>\n",
       "      <td>volkswagen</td>\n",
       "      <td>no</td>\n",
       "    </tr>\n",
       "    <tr>\n",
       "      <th>4</th>\n",
       "      <td>3600</td>\n",
       "      <td>small</td>\n",
       "      <td>2008</td>\n",
       "      <td>manual</td>\n",
       "      <td>69</td>\n",
       "      <td>fabia</td>\n",
       "      <td>90000</td>\n",
       "      <td>gasoline</td>\n",
       "      <td>skoda</td>\n",
       "      <td>no</td>\n",
       "    </tr>\n",
       "    <tr>\n",
       "      <th>9</th>\n",
       "      <td>999</td>\n",
       "      <td>small</td>\n",
       "      <td>1998</td>\n",
       "      <td>manual</td>\n",
       "      <td>101</td>\n",
       "      <td>golf</td>\n",
       "      <td>150000</td>\n",
       "      <td>no info</td>\n",
       "      <td>volkswagen</td>\n",
       "      <td>no info</td>\n",
       "    </tr>\n",
       "    <tr>\n",
       "      <th>17</th>\n",
       "      <td>1750</td>\n",
       "      <td>small</td>\n",
       "      <td>2004</td>\n",
       "      <td>auto</td>\n",
       "      <td>75</td>\n",
       "      <td>twingo</td>\n",
       "      <td>150000</td>\n",
       "      <td>petrol</td>\n",
       "      <td>renault</td>\n",
       "      <td>no</td>\n",
       "    </tr>\n",
       "    <tr>\n",
       "      <th>23</th>\n",
       "      <td>450</td>\n",
       "      <td>small</td>\n",
       "      <td>1997</td>\n",
       "      <td>manual</td>\n",
       "      <td>50</td>\n",
       "      <td>arosa</td>\n",
       "      <td>150000</td>\n",
       "      <td>petrol</td>\n",
       "      <td>seat</td>\n",
       "      <td>no</td>\n",
       "    </tr>\n",
       "  </tbody>\n",
       "</table>\n",
       "</div>"
      ],
      "text/plain": [
       "    Price VehicleType  RegistrationYear Gearbox  Power   Model  Kilometer  \\\n",
       "3    1500       small              2001  manual     75    golf     150000   \n",
       "4    3600       small              2008  manual     69   fabia      90000   \n",
       "9     999       small              1998  manual    101    golf     150000   \n",
       "17   1750       small              2004    auto     75  twingo     150000   \n",
       "23    450       small              1997  manual     50   arosa     150000   \n",
       "\n",
       "    FuelType       Brand Repaired  \n",
       "3     petrol  volkswagen       no  \n",
       "4   gasoline       skoda       no  \n",
       "9    no info  volkswagen  no info  \n",
       "17    petrol     renault       no  \n",
       "23    petrol        seat       no  "
      ]
     },
     "execution_count": 26,
     "metadata": {},
     "output_type": "execute_result"
    }
   ],
   "source": [
    "data_exam = df.query('VehicleType == \"small\"')\n",
    "data_exam.head(5)"
   ]
  },
  {
   "cell_type": "markdown",
   "metadata": {},
   "source": [
    "Вероятно речь о компакт карах малой мощности."
   ]
  },
  {
   "cell_type": "code",
   "execution_count": 27,
   "metadata": {},
   "outputs": [
    {
     "data": {
      "text/html": [
       "<div>\n",
       "<style scoped>\n",
       "    .dataframe tbody tr th:only-of-type {\n",
       "        vertical-align: middle;\n",
       "    }\n",
       "\n",
       "    .dataframe tbody tr th {\n",
       "        vertical-align: top;\n",
       "    }\n",
       "\n",
       "    .dataframe thead th {\n",
       "        text-align: right;\n",
       "    }\n",
       "</style>\n",
       "<table border=\"1\" class=\"dataframe\">\n",
       "  <thead>\n",
       "    <tr style=\"text-align: right;\">\n",
       "      <th></th>\n",
       "      <th>Price</th>\n",
       "      <th>VehicleType</th>\n",
       "      <th>RegistrationYear</th>\n",
       "      <th>Gearbox</th>\n",
       "      <th>Power</th>\n",
       "      <th>Model</th>\n",
       "      <th>Kilometer</th>\n",
       "      <th>FuelType</th>\n",
       "      <th>Brand</th>\n",
       "      <th>Repaired</th>\n",
       "    </tr>\n",
       "  </thead>\n",
       "  <tbody>\n",
       "    <tr>\n",
       "      <th>8</th>\n",
       "      <td>14500</td>\n",
       "      <td>bus</td>\n",
       "      <td>2014</td>\n",
       "      <td>manual</td>\n",
       "      <td>125</td>\n",
       "      <td>c_max</td>\n",
       "      <td>30000</td>\n",
       "      <td>petrol</td>\n",
       "      <td>ford</td>\n",
       "      <td>no info</td>\n",
       "    </tr>\n",
       "    <tr>\n",
       "      <th>18</th>\n",
       "      <td>7550</td>\n",
       "      <td>bus</td>\n",
       "      <td>2007</td>\n",
       "      <td>manual</td>\n",
       "      <td>136</td>\n",
       "      <td>c_max</td>\n",
       "      <td>150000</td>\n",
       "      <td>gasoline</td>\n",
       "      <td>ford</td>\n",
       "      <td>no</td>\n",
       "    </tr>\n",
       "    <tr>\n",
       "      <th>19</th>\n",
       "      <td>1850</td>\n",
       "      <td>bus</td>\n",
       "      <td>2004</td>\n",
       "      <td>manual</td>\n",
       "      <td>102</td>\n",
       "      <td>a_klasse</td>\n",
       "      <td>150000</td>\n",
       "      <td>petrol</td>\n",
       "      <td>mercedes_benz</td>\n",
       "      <td>no</td>\n",
       "    </tr>\n",
       "    <tr>\n",
       "      <th>28</th>\n",
       "      <td>1990</td>\n",
       "      <td>bus</td>\n",
       "      <td>1981</td>\n",
       "      <td>manual</td>\n",
       "      <td>50</td>\n",
       "      <td>transporter</td>\n",
       "      <td>5000</td>\n",
       "      <td>petrol</td>\n",
       "      <td>volkswagen</td>\n",
       "      <td>no</td>\n",
       "    </tr>\n",
       "    <tr>\n",
       "      <th>39</th>\n",
       "      <td>1500</td>\n",
       "      <td>bus</td>\n",
       "      <td>1984</td>\n",
       "      <td>manual</td>\n",
       "      <td>70</td>\n",
       "      <td>other</td>\n",
       "      <td>150000</td>\n",
       "      <td>gasoline</td>\n",
       "      <td>mercedes_benz</td>\n",
       "      <td>no</td>\n",
       "    </tr>\n",
       "  </tbody>\n",
       "</table>\n",
       "</div>"
      ],
      "text/plain": [
       "    Price VehicleType  RegistrationYear Gearbox  Power        Model  \\\n",
       "8   14500         bus              2014  manual    125        c_max   \n",
       "18   7550         bus              2007  manual    136        c_max   \n",
       "19   1850         bus              2004  manual    102     a_klasse   \n",
       "28   1990         bus              1981  manual     50  transporter   \n",
       "39   1500         bus              1984  manual     70        other   \n",
       "\n",
       "    Kilometer  FuelType          Brand Repaired  \n",
       "8       30000    petrol           ford  no info  \n",
       "18     150000  gasoline           ford       no  \n",
       "19     150000    petrol  mercedes_benz       no  \n",
       "28       5000    petrol     volkswagen       no  \n",
       "39     150000  gasoline  mercedes_benz       no  "
      ]
     },
     "execution_count": 27,
     "metadata": {},
     "output_type": "execute_result"
    }
   ],
   "source": [
    "data_exam = df.query('VehicleType == \"bus\"')\n",
    "data_exam.head(5)"
   ]
  },
  {
   "cell_type": "markdown",
   "metadata": {},
   "source": [
    "Судя по маркам и мощности речь не о автобусах, а об фургонах и минивенах."
   ]
  },
  {
   "cell_type": "code",
   "execution_count": 28,
   "metadata": {},
   "outputs": [
    {
     "data": {
      "text/html": [
       "<div>\n",
       "<style scoped>\n",
       "    .dataframe tbody tr th:only-of-type {\n",
       "        vertical-align: middle;\n",
       "    }\n",
       "\n",
       "    .dataframe tbody tr th {\n",
       "        vertical-align: top;\n",
       "    }\n",
       "\n",
       "    .dataframe thead th {\n",
       "        text-align: right;\n",
       "    }\n",
       "</style>\n",
       "<table border=\"1\" class=\"dataframe\">\n",
       "  <thead>\n",
       "    <tr style=\"text-align: right;\">\n",
       "      <th></th>\n",
       "      <th>Price</th>\n",
       "      <th>VehicleType</th>\n",
       "      <th>RegistrationYear</th>\n",
       "      <th>Gearbox</th>\n",
       "      <th>Power</th>\n",
       "      <th>Model</th>\n",
       "      <th>Kilometer</th>\n",
       "      <th>FuelType</th>\n",
       "      <th>Brand</th>\n",
       "      <th>Repaired</th>\n",
       "    </tr>\n",
       "  </thead>\n",
       "  <tbody>\n",
       "    <tr>\n",
       "      <th>11</th>\n",
       "      <td>2799</td>\n",
       "      <td>wagon</td>\n",
       "      <td>2005</td>\n",
       "      <td>manual</td>\n",
       "      <td>140</td>\n",
       "      <td>passat</td>\n",
       "      <td>150000</td>\n",
       "      <td>gasoline</td>\n",
       "      <td>volkswagen</td>\n",
       "      <td>yes</td>\n",
       "    </tr>\n",
       "    <tr>\n",
       "      <th>12</th>\n",
       "      <td>999</td>\n",
       "      <td>wagon</td>\n",
       "      <td>1995</td>\n",
       "      <td>manual</td>\n",
       "      <td>115</td>\n",
       "      <td>passat</td>\n",
       "      <td>150000</td>\n",
       "      <td>petrol</td>\n",
       "      <td>volkswagen</td>\n",
       "      <td>no info</td>\n",
       "    </tr>\n",
       "    <tr>\n",
       "      <th>13</th>\n",
       "      <td>2500</td>\n",
       "      <td>wagon</td>\n",
       "      <td>2004</td>\n",
       "      <td>manual</td>\n",
       "      <td>131</td>\n",
       "      <td>passat</td>\n",
       "      <td>150000</td>\n",
       "      <td>no info</td>\n",
       "      <td>volkswagen</td>\n",
       "      <td>no</td>\n",
       "    </tr>\n",
       "    <tr>\n",
       "      <th>25</th>\n",
       "      <td>2500</td>\n",
       "      <td>wagon</td>\n",
       "      <td>2002</td>\n",
       "      <td>auto</td>\n",
       "      <td>193</td>\n",
       "      <td>5er</td>\n",
       "      <td>150000</td>\n",
       "      <td>gasoline</td>\n",
       "      <td>bmw</td>\n",
       "      <td>yes</td>\n",
       "    </tr>\n",
       "    <tr>\n",
       "      <th>47</th>\n",
       "      <td>2100</td>\n",
       "      <td>wagon</td>\n",
       "      <td>1998</td>\n",
       "      <td>auto</td>\n",
       "      <td>193</td>\n",
       "      <td>5er</td>\n",
       "      <td>150000</td>\n",
       "      <td>petrol</td>\n",
       "      <td>bmw</td>\n",
       "      <td>no</td>\n",
       "    </tr>\n",
       "    <tr>\n",
       "      <th>73</th>\n",
       "      <td>7999</td>\n",
       "      <td>wagon</td>\n",
       "      <td>2008</td>\n",
       "      <td>manual</td>\n",
       "      <td>156</td>\n",
       "      <td>c_klasse</td>\n",
       "      <td>150000</td>\n",
       "      <td>petrol</td>\n",
       "      <td>mercedes_benz</td>\n",
       "      <td>no</td>\n",
       "    </tr>\n",
       "    <tr>\n",
       "      <th>80</th>\n",
       "      <td>250</td>\n",
       "      <td>wagon</td>\n",
       "      <td>2000</td>\n",
       "      <td>manual</td>\n",
       "      <td>155</td>\n",
       "      <td>156</td>\n",
       "      <td>150000</td>\n",
       "      <td>petrol</td>\n",
       "      <td>alfa_romeo</td>\n",
       "      <td>yes</td>\n",
       "    </tr>\n",
       "    <tr>\n",
       "      <th>83</th>\n",
       "      <td>3300</td>\n",
       "      <td>wagon</td>\n",
       "      <td>2005</td>\n",
       "      <td>manual</td>\n",
       "      <td>150</td>\n",
       "      <td>c_klasse</td>\n",
       "      <td>150000</td>\n",
       "      <td>gasoline</td>\n",
       "      <td>mercedes_benz</td>\n",
       "      <td>yes</td>\n",
       "    </tr>\n",
       "    <tr>\n",
       "      <th>84</th>\n",
       "      <td>1600</td>\n",
       "      <td>wagon</td>\n",
       "      <td>1997</td>\n",
       "      <td>auto</td>\n",
       "      <td>122</td>\n",
       "      <td>forester</td>\n",
       "      <td>150000</td>\n",
       "      <td>petrol</td>\n",
       "      <td>subaru</td>\n",
       "      <td>no</td>\n",
       "    </tr>\n",
       "    <tr>\n",
       "      <th>99</th>\n",
       "      <td>1500</td>\n",
       "      <td>wagon</td>\n",
       "      <td>2006</td>\n",
       "      <td>manual</td>\n",
       "      <td>109</td>\n",
       "      <td>focus</td>\n",
       "      <td>150000</td>\n",
       "      <td>gasoline</td>\n",
       "      <td>ford</td>\n",
       "      <td>no</td>\n",
       "    </tr>\n",
       "  </tbody>\n",
       "</table>\n",
       "</div>"
      ],
      "text/plain": [
       "    Price VehicleType  RegistrationYear Gearbox  Power     Model  Kilometer  \\\n",
       "11   2799       wagon              2005  manual    140    passat     150000   \n",
       "12    999       wagon              1995  manual    115    passat     150000   \n",
       "13   2500       wagon              2004  manual    131    passat     150000   \n",
       "25   2500       wagon              2002    auto    193       5er     150000   \n",
       "47   2100       wagon              1998    auto    193       5er     150000   \n",
       "73   7999       wagon              2008  manual    156  c_klasse     150000   \n",
       "80    250       wagon              2000  manual    155       156     150000   \n",
       "83   3300       wagon              2005  manual    150  c_klasse     150000   \n",
       "84   1600       wagon              1997    auto    122  forester     150000   \n",
       "99   1500       wagon              2006  manual    109     focus     150000   \n",
       "\n",
       "    FuelType          Brand Repaired  \n",
       "11  gasoline     volkswagen      yes  \n",
       "12    petrol     volkswagen  no info  \n",
       "13   no info     volkswagen       no  \n",
       "25  gasoline            bmw      yes  \n",
       "47    petrol            bmw       no  \n",
       "73    petrol  mercedes_benz       no  \n",
       "80    petrol     alfa_romeo      yes  \n",
       "83  gasoline  mercedes_benz      yes  \n",
       "84    petrol         subaru       no  \n",
       "99  gasoline           ford       no  "
      ]
     },
     "execution_count": 28,
     "metadata": {},
     "output_type": "execute_result"
    }
   ],
   "source": [
    "data_exam = df.query('VehicleType == \"wagon\"')\n",
    "data_exam.head(10)"
   ]
  },
  {
   "cell_type": "markdown",
   "metadata": {},
   "source": [
    "А это вероятно универсалы."
   ]
  },
  {
   "cell_type": "code",
   "execution_count": 29,
   "metadata": {},
   "outputs": [
    {
     "data": {
      "text/html": [
       "<div>\n",
       "<style scoped>\n",
       "    .dataframe tbody tr th:only-of-type {\n",
       "        vertical-align: middle;\n",
       "    }\n",
       "\n",
       "    .dataframe tbody tr th {\n",
       "        vertical-align: top;\n",
       "    }\n",
       "\n",
       "    .dataframe thead th {\n",
       "        text-align: right;\n",
       "    }\n",
       "</style>\n",
       "<table border=\"1\" class=\"dataframe\">\n",
       "  <thead>\n",
       "    <tr style=\"text-align: right;\">\n",
       "      <th></th>\n",
       "      <th>Price</th>\n",
       "      <th>VehicleType</th>\n",
       "      <th>RegistrationYear</th>\n",
       "      <th>Gearbox</th>\n",
       "      <th>Power</th>\n",
       "      <th>Model</th>\n",
       "      <th>Kilometer</th>\n",
       "      <th>FuelType</th>\n",
       "      <th>Brand</th>\n",
       "      <th>Repaired</th>\n",
       "    </tr>\n",
       "  </thead>\n",
       "  <tbody>\n",
       "    <tr>\n",
       "      <th>16</th>\n",
       "      <td>300</td>\n",
       "      <td>no info</td>\n",
       "      <td>2016</td>\n",
       "      <td>no info</td>\n",
       "      <td>60</td>\n",
       "      <td>polo</td>\n",
       "      <td>150000</td>\n",
       "      <td>petrol</td>\n",
       "      <td>volkswagen</td>\n",
       "      <td>no info</td>\n",
       "    </tr>\n",
       "    <tr>\n",
       "      <th>26</th>\n",
       "      <td>5555</td>\n",
       "      <td>no info</td>\n",
       "      <td>2017</td>\n",
       "      <td>manual</td>\n",
       "      <td>125</td>\n",
       "      <td>c4</td>\n",
       "      <td>125000</td>\n",
       "      <td>no info</td>\n",
       "      <td>citroen</td>\n",
       "      <td>no</td>\n",
       "    </tr>\n",
       "    <tr>\n",
       "      <th>31</th>\n",
       "      <td>899</td>\n",
       "      <td>no info</td>\n",
       "      <td>2016</td>\n",
       "      <td>manual</td>\n",
       "      <td>60</td>\n",
       "      <td>clio</td>\n",
       "      <td>150000</td>\n",
       "      <td>petrol</td>\n",
       "      <td>renault</td>\n",
       "      <td>no info</td>\n",
       "    </tr>\n",
       "    <tr>\n",
       "      <th>35</th>\n",
       "      <td>350</td>\n",
       "      <td>no info</td>\n",
       "      <td>2016</td>\n",
       "      <td>manual</td>\n",
       "      <td>75</td>\n",
       "      <td>golf</td>\n",
       "      <td>150000</td>\n",
       "      <td>petrol</td>\n",
       "      <td>volkswagen</td>\n",
       "      <td>no</td>\n",
       "    </tr>\n",
       "    <tr>\n",
       "      <th>48</th>\n",
       "      <td>7750</td>\n",
       "      <td>no info</td>\n",
       "      <td>2017</td>\n",
       "      <td>manual</td>\n",
       "      <td>80</td>\n",
       "      <td>golf</td>\n",
       "      <td>100000</td>\n",
       "      <td>petrol</td>\n",
       "      <td>volkswagen</td>\n",
       "      <td>no info</td>\n",
       "    </tr>\n",
       "    <tr>\n",
       "      <th>51</th>\n",
       "      <td>2000</td>\n",
       "      <td>no info</td>\n",
       "      <td>2017</td>\n",
       "      <td>manual</td>\n",
       "      <td>90</td>\n",
       "      <td>punto</td>\n",
       "      <td>150000</td>\n",
       "      <td>gasoline</td>\n",
       "      <td>fiat</td>\n",
       "      <td>yes</td>\n",
       "    </tr>\n",
       "    <tr>\n",
       "      <th>52</th>\n",
       "      <td>1400</td>\n",
       "      <td>no info</td>\n",
       "      <td>2016</td>\n",
       "      <td>manual</td>\n",
       "      <td>55</td>\n",
       "      <td>other</td>\n",
       "      <td>5000</td>\n",
       "      <td>no info</td>\n",
       "      <td>hyundai</td>\n",
       "      <td>no info</td>\n",
       "    </tr>\n",
       "    <tr>\n",
       "      <th>65</th>\n",
       "      <td>10900</td>\n",
       "      <td>no info</td>\n",
       "      <td>2017</td>\n",
       "      <td>manual</td>\n",
       "      <td>101</td>\n",
       "      <td>astra</td>\n",
       "      <td>50000</td>\n",
       "      <td>no info</td>\n",
       "      <td>opel</td>\n",
       "      <td>no</td>\n",
       "    </tr>\n",
       "    <tr>\n",
       "      <th>71</th>\n",
       "      <td>2300</td>\n",
       "      <td>no info</td>\n",
       "      <td>1997</td>\n",
       "      <td>manual</td>\n",
       "      <td>150</td>\n",
       "      <td>5er</td>\n",
       "      <td>150000</td>\n",
       "      <td>no info</td>\n",
       "      <td>bmw</td>\n",
       "      <td>no</td>\n",
       "    </tr>\n",
       "    <tr>\n",
       "      <th>77</th>\n",
       "      <td>800</td>\n",
       "      <td>no info</td>\n",
       "      <td>2000</td>\n",
       "      <td>manual</td>\n",
       "      <td>90</td>\n",
       "      <td>golf</td>\n",
       "      <td>150000</td>\n",
       "      <td>gasoline</td>\n",
       "      <td>volkswagen</td>\n",
       "      <td>no info</td>\n",
       "    </tr>\n",
       "  </tbody>\n",
       "</table>\n",
       "</div>"
      ],
      "text/plain": [
       "    Price VehicleType  RegistrationYear  Gearbox  Power  Model  Kilometer  \\\n",
       "16    300     no info              2016  no info     60   polo     150000   \n",
       "26   5555     no info              2017   manual    125     c4     125000   \n",
       "31    899     no info              2016   manual     60   clio     150000   \n",
       "35    350     no info              2016   manual     75   golf     150000   \n",
       "48   7750     no info              2017   manual     80   golf     100000   \n",
       "51   2000     no info              2017   manual     90  punto     150000   \n",
       "52   1400     no info              2016   manual     55  other       5000   \n",
       "65  10900     no info              2017   manual    101  astra      50000   \n",
       "71   2300     no info              1997   manual    150    5er     150000   \n",
       "77    800     no info              2000   manual     90   golf     150000   \n",
       "\n",
       "    FuelType       Brand Repaired  \n",
       "16    petrol  volkswagen  no info  \n",
       "26   no info     citroen       no  \n",
       "31    petrol     renault  no info  \n",
       "35    petrol  volkswagen       no  \n",
       "48    petrol  volkswagen  no info  \n",
       "51  gasoline        fiat      yes  \n",
       "52   no info     hyundai  no info  \n",
       "65   no info        opel       no  \n",
       "71   no info         bmw       no  \n",
       "77  gasoline  volkswagen  no info  "
      ]
     },
     "execution_count": 29,
     "metadata": {},
     "output_type": "execute_result"
    }
   ],
   "source": [
    "data_exam = df.query('VehicleType == \"no info\"')\n",
    "data_exam.head(10)"
   ]
  },
  {
   "cell_type": "markdown",
   "metadata": {},
   "source": [
    "На первый взгляд не видно каких-то особенностей связанных с отсутствием типа кузова. Те же самые легковые автомобили."
   ]
  },
  {
   "cell_type": "markdown",
   "metadata": {},
   "source": [
    "Посмотрим распределение по средним ценам."
   ]
  },
  {
   "cell_type": "code",
   "execution_count": 30,
   "metadata": {},
   "outputs": [
    {
     "data": {
      "text/html": [
       "<div>\n",
       "<style scoped>\n",
       "    .dataframe tbody tr th:only-of-type {\n",
       "        vertical-align: middle;\n",
       "    }\n",
       "\n",
       "    .dataframe tbody tr th {\n",
       "        vertical-align: top;\n",
       "    }\n",
       "\n",
       "    .dataframe thead th {\n",
       "        text-align: right;\n",
       "    }\n",
       "</style>\n",
       "<table border=\"1\" class=\"dataframe\">\n",
       "  <thead>\n",
       "    <tr style=\"text-align: right;\">\n",
       "      <th></th>\n",
       "      <th>count</th>\n",
       "      <th>mean</th>\n",
       "      <th>median</th>\n",
       "    </tr>\n",
       "    <tr>\n",
       "      <th>VehicleType</th>\n",
       "      <th></th>\n",
       "      <th></th>\n",
       "      <th></th>\n",
       "    </tr>\n",
       "  </thead>\n",
       "  <tbody>\n",
       "    <tr>\n",
       "      <th>bus</th>\n",
       "      <td>23064</td>\n",
       "      <td>5545.813996</td>\n",
       "      <td>4444</td>\n",
       "    </tr>\n",
       "    <tr>\n",
       "      <th>convertible</th>\n",
       "      <td>15895</td>\n",
       "      <td>6634.881158</td>\n",
       "      <td>5500</td>\n",
       "    </tr>\n",
       "    <tr>\n",
       "      <th>coupe</th>\n",
       "      <td>11938</td>\n",
       "      <td>5636.666778</td>\n",
       "      <td>3850</td>\n",
       "    </tr>\n",
       "    <tr>\n",
       "      <th>no info</th>\n",
       "      <td>17137</td>\n",
       "      <td>2788.584992</td>\n",
       "      <td>1500</td>\n",
       "    </tr>\n",
       "    <tr>\n",
       "      <th>other</th>\n",
       "      <td>2272</td>\n",
       "      <td>3714.813380</td>\n",
       "      <td>2500</td>\n",
       "    </tr>\n",
       "    <tr>\n",
       "      <th>sedan</th>\n",
       "      <td>68378</td>\n",
       "      <td>4823.163810</td>\n",
       "      <td>3200</td>\n",
       "    </tr>\n",
       "    <tr>\n",
       "      <th>small</th>\n",
       "      <td>58571</td>\n",
       "      <td>2992.100306</td>\n",
       "      <td>1850</td>\n",
       "    </tr>\n",
       "    <tr>\n",
       "      <th>suv</th>\n",
       "      <td>8883</td>\n",
       "      <td>8667.271417</td>\n",
       "      <td>8000</td>\n",
       "    </tr>\n",
       "    <tr>\n",
       "      <th>wagon</th>\n",
       "      <td>50215</td>\n",
       "      <td>4986.106243</td>\n",
       "      <td>3450</td>\n",
       "    </tr>\n",
       "  </tbody>\n",
       "</table>\n",
       "</div>"
      ],
      "text/plain": [
       "             count         mean  median\n",
       "VehicleType                            \n",
       "bus          23064  5545.813996    4444\n",
       "convertible  15895  6634.881158    5500\n",
       "coupe        11938  5636.666778    3850\n",
       "no info      17137  2788.584992    1500\n",
       "other         2272  3714.813380    2500\n",
       "sedan        68378  4823.163810    3200\n",
       "small        58571  2992.100306    1850\n",
       "suv           8883  8667.271417    8000\n",
       "wagon        50215  4986.106243    3450"
      ]
     },
     "execution_count": 30,
     "metadata": {},
     "output_type": "execute_result"
    }
   ],
   "source": [
    "df.groupby('VehicleType')['Price'].agg(['count', 'mean', 'median'])"
   ]
  },
  {
   "cell_type": "markdown",
   "metadata": {},
   "source": [
    "Дороже все стоят джипы и большие машины (suv). Меньше всего цена на категорию с пропусками."
   ]
  },
  {
   "cell_type": "markdown",
   "metadata": {},
   "source": [
    "Рассмотрим в разрезе коробки передач."
   ]
  },
  {
   "cell_type": "code",
   "execution_count": 31,
   "metadata": {
    "scrolled": true
   },
   "outputs": [
    {
     "data": {
      "text/html": [
       "<div>\n",
       "<style scoped>\n",
       "    .dataframe tbody tr th:only-of-type {\n",
       "        vertical-align: middle;\n",
       "    }\n",
       "\n",
       "    .dataframe tbody tr th {\n",
       "        vertical-align: top;\n",
       "    }\n",
       "\n",
       "    .dataframe thead th {\n",
       "        text-align: right;\n",
       "    }\n",
       "</style>\n",
       "<table border=\"1\" class=\"dataframe\">\n",
       "  <thead>\n",
       "    <tr style=\"text-align: right;\">\n",
       "      <th></th>\n",
       "      <th>count</th>\n",
       "      <th>mean</th>\n",
       "      <th>median</th>\n",
       "    </tr>\n",
       "    <tr>\n",
       "      <th>Gearbox</th>\n",
       "      <th></th>\n",
       "      <th></th>\n",
       "      <th></th>\n",
       "    </tr>\n",
       "  </thead>\n",
       "  <tbody>\n",
       "    <tr>\n",
       "      <th>auto</th>\n",
       "      <td>49232</td>\n",
       "      <td>6579.398013</td>\n",
       "      <td>5300</td>\n",
       "    </tr>\n",
       "    <tr>\n",
       "      <th>manual</th>\n",
       "      <td>201639</td>\n",
       "      <td>4215.362842</td>\n",
       "      <td>2800</td>\n",
       "    </tr>\n",
       "    <tr>\n",
       "      <th>no info</th>\n",
       "      <td>5482</td>\n",
       "      <td>2810.558738</td>\n",
       "      <td>1600</td>\n",
       "    </tr>\n",
       "  </tbody>\n",
       "</table>\n",
       "</div>"
      ],
      "text/plain": [
       "          count         mean  median\n",
       "Gearbox                             \n",
       "auto      49232  6579.398013    5300\n",
       "manual   201639  4215.362842    2800\n",
       "no info    5482  2810.558738    1600"
      ]
     },
     "execution_count": 31,
     "metadata": {},
     "output_type": "execute_result"
    }
   ],
   "source": [
    "df.groupby('Gearbox')['Price'].agg(['count', 'mean', 'median'])"
   ]
  },
  {
   "cell_type": "markdown",
   "metadata": {},
   "source": [
    "Большая часть датасета приходится на машины с ручной коробкой.\n",
    "При этом на категория с пропусками снова занимает последнее место по цене.  \n",
    "\n",
    "Рассмотрим датасета в части марок авто."
   ]
  },
  {
   "cell_type": "code",
   "execution_count": 32,
   "metadata": {
    "scrolled": true
   },
   "outputs": [
    {
     "data": {
      "text/html": [
       "<div>\n",
       "<style scoped>\n",
       "    .dataframe tbody tr th:only-of-type {\n",
       "        vertical-align: middle;\n",
       "    }\n",
       "\n",
       "    .dataframe tbody tr th {\n",
       "        vertical-align: top;\n",
       "    }\n",
       "\n",
       "    .dataframe thead th {\n",
       "        text-align: right;\n",
       "    }\n",
       "</style>\n",
       "<table border=\"1\" class=\"dataframe\">\n",
       "  <thead>\n",
       "    <tr style=\"text-align: right;\">\n",
       "      <th></th>\n",
       "      <th>count</th>\n",
       "      <th>mean</th>\n",
       "      <th>median</th>\n",
       "    </tr>\n",
       "    <tr>\n",
       "      <th>Brand</th>\n",
       "      <th></th>\n",
       "      <th></th>\n",
       "      <th></th>\n",
       "    </tr>\n",
       "  </thead>\n",
       "  <tbody>\n",
       "    <tr>\n",
       "      <th>alfa_romeo</th>\n",
       "      <td>1819</td>\n",
       "      <td>3765.849368</td>\n",
       "      <td>2450.0</td>\n",
       "    </tr>\n",
       "    <tr>\n",
       "      <th>audi</th>\n",
       "      <td>21689</td>\n",
       "      <td>6331.916040</td>\n",
       "      <td>4999.0</td>\n",
       "    </tr>\n",
       "    <tr>\n",
       "      <th>bmw</th>\n",
       "      <td>26931</td>\n",
       "      <td>6311.460696</td>\n",
       "      <td>5000.0</td>\n",
       "    </tr>\n",
       "    <tr>\n",
       "      <th>chevrolet</th>\n",
       "      <td>1280</td>\n",
       "      <td>5350.308594</td>\n",
       "      <td>4000.0</td>\n",
       "    </tr>\n",
       "    <tr>\n",
       "      <th>chrysler</th>\n",
       "      <td>1072</td>\n",
       "      <td>3681.691231</td>\n",
       "      <td>2400.0</td>\n",
       "    </tr>\n",
       "    <tr>\n",
       "      <th>citroen</th>\n",
       "      <td>4009</td>\n",
       "      <td>3654.587179</td>\n",
       "      <td>2650.0</td>\n",
       "    </tr>\n",
       "    <tr>\n",
       "      <th>dacia</th>\n",
       "      <td>743</td>\n",
       "      <td>6006.681023</td>\n",
       "      <td>5150.0</td>\n",
       "    </tr>\n",
       "    <tr>\n",
       "      <th>daewoo</th>\n",
       "      <td>394</td>\n",
       "      <td>1068.307107</td>\n",
       "      <td>1000.0</td>\n",
       "    </tr>\n",
       "    <tr>\n",
       "      <th>daihatsu</th>\n",
       "      <td>580</td>\n",
       "      <td>1937.886207</td>\n",
       "      <td>1200.0</td>\n",
       "    </tr>\n",
       "    <tr>\n",
       "      <th>fiat</th>\n",
       "      <td>6887</td>\n",
       "      <td>2913.985915</td>\n",
       "      <td>1800.0</td>\n",
       "    </tr>\n",
       "    <tr>\n",
       "      <th>ford</th>\n",
       "      <td>18385</td>\n",
       "      <td>3371.433941</td>\n",
       "      <td>1900.0</td>\n",
       "    </tr>\n",
       "    <tr>\n",
       "      <th>honda</th>\n",
       "      <td>2253</td>\n",
       "      <td>3915.890812</td>\n",
       "      <td>2500.0</td>\n",
       "    </tr>\n",
       "    <tr>\n",
       "      <th>hyundai</th>\n",
       "      <td>2878</td>\n",
       "      <td>5366.348506</td>\n",
       "      <td>4250.0</td>\n",
       "    </tr>\n",
       "    <tr>\n",
       "      <th>jaguar</th>\n",
       "      <td>355</td>\n",
       "      <td>6162.123944</td>\n",
       "      <td>4500.0</td>\n",
       "    </tr>\n",
       "    <tr>\n",
       "      <th>jeep</th>\n",
       "      <td>507</td>\n",
       "      <td>6993.086785</td>\n",
       "      <td>5990.0</td>\n",
       "    </tr>\n",
       "    <tr>\n",
       "      <th>kia</th>\n",
       "      <td>1921</td>\n",
       "      <td>5198.157730</td>\n",
       "      <td>3800.0</td>\n",
       "    </tr>\n",
       "    <tr>\n",
       "      <th>lada</th>\n",
       "      <td>131</td>\n",
       "      <td>3612.297710</td>\n",
       "      <td>3000.0</td>\n",
       "    </tr>\n",
       "    <tr>\n",
       "      <th>lancia</th>\n",
       "      <td>356</td>\n",
       "      <td>2410.497191</td>\n",
       "      <td>1194.5</td>\n",
       "    </tr>\n",
       "    <tr>\n",
       "      <th>land_rover</th>\n",
       "      <td>396</td>\n",
       "      <td>8465.292929</td>\n",
       "      <td>7100.0</td>\n",
       "    </tr>\n",
       "    <tr>\n",
       "      <th>mazda</th>\n",
       "      <td>4349</td>\n",
       "      <td>3881.182801</td>\n",
       "      <td>2600.0</td>\n",
       "    </tr>\n",
       "    <tr>\n",
       "      <th>mercedes_benz</th>\n",
       "      <td>23163</td>\n",
       "      <td>5796.898070</td>\n",
       "      <td>4350.0</td>\n",
       "    </tr>\n",
       "    <tr>\n",
       "      <th>mini</th>\n",
       "      <td>2617</td>\n",
       "      <td>8953.898357</td>\n",
       "      <td>8350.0</td>\n",
       "    </tr>\n",
       "    <tr>\n",
       "      <th>mitsubishi</th>\n",
       "      <td>2365</td>\n",
       "      <td>3164.766596</td>\n",
       "      <td>1800.0</td>\n",
       "    </tr>\n",
       "    <tr>\n",
       "      <th>nissan</th>\n",
       "      <td>3649</td>\n",
       "      <td>4325.060290</td>\n",
       "      <td>2299.0</td>\n",
       "    </tr>\n",
       "    <tr>\n",
       "      <th>opel</th>\n",
       "      <td>27900</td>\n",
       "      <td>3049.806667</td>\n",
       "      <td>1800.0</td>\n",
       "    </tr>\n",
       "    <tr>\n",
       "      <th>peugeot</th>\n",
       "      <td>8463</td>\n",
       "      <td>3338.269881</td>\n",
       "      <td>2450.0</td>\n",
       "    </tr>\n",
       "    <tr>\n",
       "      <th>porsche</th>\n",
       "      <td>329</td>\n",
       "      <td>11246.656535</td>\n",
       "      <td>11800.0</td>\n",
       "    </tr>\n",
       "    <tr>\n",
       "      <th>renault</th>\n",
       "      <td>12490</td>\n",
       "      <td>2597.831785</td>\n",
       "      <td>1500.0</td>\n",
       "    </tr>\n",
       "    <tr>\n",
       "      <th>rover</th>\n",
       "      <td>349</td>\n",
       "      <td>1464.977077</td>\n",
       "      <td>999.0</td>\n",
       "    </tr>\n",
       "    <tr>\n",
       "      <th>saab</th>\n",
       "      <td>427</td>\n",
       "      <td>3620.313817</td>\n",
       "      <td>2600.0</td>\n",
       "    </tr>\n",
       "    <tr>\n",
       "      <th>seat</th>\n",
       "      <td>5334</td>\n",
       "      <td>4270.955006</td>\n",
       "      <td>2999.0</td>\n",
       "    </tr>\n",
       "    <tr>\n",
       "      <th>skoda</th>\n",
       "      <td>4478</td>\n",
       "      <td>6130.823582</td>\n",
       "      <td>5000.0</td>\n",
       "    </tr>\n",
       "    <tr>\n",
       "      <th>smart</th>\n",
       "      <td>4179</td>\n",
       "      <td>3692.850921</td>\n",
       "      <td>3099.0</td>\n",
       "    </tr>\n",
       "    <tr>\n",
       "      <th>sonstige_autos</th>\n",
       "      <td>1243</td>\n",
       "      <td>6007.302494</td>\n",
       "      <td>4900.0</td>\n",
       "    </tr>\n",
       "    <tr>\n",
       "      <th>subaru</th>\n",
       "      <td>613</td>\n",
       "      <td>3696.226754</td>\n",
       "      <td>1800.0</td>\n",
       "    </tr>\n",
       "    <tr>\n",
       "      <th>suzuki</th>\n",
       "      <td>1842</td>\n",
       "      <td>4126.028230</td>\n",
       "      <td>3210.0</td>\n",
       "    </tr>\n",
       "    <tr>\n",
       "      <th>toyota</th>\n",
       "      <td>3715</td>\n",
       "      <td>4884.676178</td>\n",
       "      <td>4200.0</td>\n",
       "    </tr>\n",
       "    <tr>\n",
       "      <th>trabant</th>\n",
       "      <td>208</td>\n",
       "      <td>2354.235577</td>\n",
       "      <td>1697.5</td>\n",
       "    </tr>\n",
       "    <tr>\n",
       "      <th>volkswagen</th>\n",
       "      <td>53559</td>\n",
       "      <td>4765.310293</td>\n",
       "      <td>3199.0</td>\n",
       "    </tr>\n",
       "    <tr>\n",
       "      <th>volvo</th>\n",
       "      <td>2495</td>\n",
       "      <td>4293.991984</td>\n",
       "      <td>2550.0</td>\n",
       "    </tr>\n",
       "  </tbody>\n",
       "</table>\n",
       "</div>"
      ],
      "text/plain": [
       "                count          mean   median\n",
       "Brand                                       \n",
       "alfa_romeo       1819   3765.849368   2450.0\n",
       "audi            21689   6331.916040   4999.0\n",
       "bmw             26931   6311.460696   5000.0\n",
       "chevrolet        1280   5350.308594   4000.0\n",
       "chrysler         1072   3681.691231   2400.0\n",
       "citroen          4009   3654.587179   2650.0\n",
       "dacia             743   6006.681023   5150.0\n",
       "daewoo            394   1068.307107   1000.0\n",
       "daihatsu          580   1937.886207   1200.0\n",
       "fiat             6887   2913.985915   1800.0\n",
       "ford            18385   3371.433941   1900.0\n",
       "honda            2253   3915.890812   2500.0\n",
       "hyundai          2878   5366.348506   4250.0\n",
       "jaguar            355   6162.123944   4500.0\n",
       "jeep              507   6993.086785   5990.0\n",
       "kia              1921   5198.157730   3800.0\n",
       "lada              131   3612.297710   3000.0\n",
       "lancia            356   2410.497191   1194.5\n",
       "land_rover        396   8465.292929   7100.0\n",
       "mazda            4349   3881.182801   2600.0\n",
       "mercedes_benz   23163   5796.898070   4350.0\n",
       "mini             2617   8953.898357   8350.0\n",
       "mitsubishi       2365   3164.766596   1800.0\n",
       "nissan           3649   4325.060290   2299.0\n",
       "opel            27900   3049.806667   1800.0\n",
       "peugeot          8463   3338.269881   2450.0\n",
       "porsche           329  11246.656535  11800.0\n",
       "renault         12490   2597.831785   1500.0\n",
       "rover             349   1464.977077    999.0\n",
       "saab              427   3620.313817   2600.0\n",
       "seat             5334   4270.955006   2999.0\n",
       "skoda            4478   6130.823582   5000.0\n",
       "smart            4179   3692.850921   3099.0\n",
       "sonstige_autos   1243   6007.302494   4900.0\n",
       "subaru            613   3696.226754   1800.0\n",
       "suzuki           1842   4126.028230   3210.0\n",
       "toyota           3715   4884.676178   4200.0\n",
       "trabant           208   2354.235577   1697.5\n",
       "volkswagen      53559   4765.310293   3199.0\n",
       "volvo            2495   4293.991984   2550.0"
      ]
     },
     "execution_count": 32,
     "metadata": {},
     "output_type": "execute_result"
    }
   ],
   "source": [
    "df.groupby('Brand')['Price'].agg(['count', 'mean', 'median'])"
   ]
  },
  {
   "cell_type": "markdown",
   "metadata": {},
   "source": [
    "В датасете основную долю занимают немецкие марки автопроизводителей.\n",
    "\n",
    "Расмотрим тип топлива."
   ]
  },
  {
   "cell_type": "code",
   "execution_count": 33,
   "metadata": {},
   "outputs": [
    {
     "data": {
      "text/html": [
       "<div>\n",
       "<style scoped>\n",
       "    .dataframe tbody tr th:only-of-type {\n",
       "        vertical-align: middle;\n",
       "    }\n",
       "\n",
       "    .dataframe tbody tr th {\n",
       "        vertical-align: top;\n",
       "    }\n",
       "\n",
       "    .dataframe thead th {\n",
       "        text-align: right;\n",
       "    }\n",
       "</style>\n",
       "<table border=\"1\" class=\"dataframe\">\n",
       "  <thead>\n",
       "    <tr style=\"text-align: right;\">\n",
       "      <th></th>\n",
       "      <th>count</th>\n",
       "      <th>mean</th>\n",
       "      <th>median</th>\n",
       "    </tr>\n",
       "    <tr>\n",
       "      <th>FuelType</th>\n",
       "      <th></th>\n",
       "      <th></th>\n",
       "      <th></th>\n",
       "    </tr>\n",
       "  </thead>\n",
       "  <tbody>\n",
       "    <tr>\n",
       "      <th>cng</th>\n",
       "      <td>454</td>\n",
       "      <td>4564.964758</td>\n",
       "      <td>3799.5</td>\n",
       "    </tr>\n",
       "    <tr>\n",
       "      <th>electric</th>\n",
       "      <td>71</td>\n",
       "      <td>7012.732394</td>\n",
       "      <td>5890.0</td>\n",
       "    </tr>\n",
       "    <tr>\n",
       "      <th>gasoline</th>\n",
       "      <td>74891</td>\n",
       "      <td>6651.692994</td>\n",
       "      <td>5500.0</td>\n",
       "    </tr>\n",
       "    <tr>\n",
       "      <th>hybrid</th>\n",
       "      <td>186</td>\n",
       "      <td>9683.134409</td>\n",
       "      <td>10695.0</td>\n",
       "    </tr>\n",
       "    <tr>\n",
       "      <th>lpg</th>\n",
       "      <td>4078</td>\n",
       "      <td>3789.326876</td>\n",
       "      <td>2900.0</td>\n",
       "    </tr>\n",
       "    <tr>\n",
       "      <th>no info</th>\n",
       "      <td>17516</td>\n",
       "      <td>2722.165734</td>\n",
       "      <td>1500.0</td>\n",
       "    </tr>\n",
       "    <tr>\n",
       "      <th>other</th>\n",
       "      <td>76</td>\n",
       "      <td>2895.657895</td>\n",
       "      <td>1500.0</td>\n",
       "    </tr>\n",
       "    <tr>\n",
       "      <th>petrol</th>\n",
       "      <td>159081</td>\n",
       "      <td>3918.935341</td>\n",
       "      <td>2450.0</td>\n",
       "    </tr>\n",
       "  </tbody>\n",
       "</table>\n",
       "</div>"
      ],
      "text/plain": [
       "           count         mean   median\n",
       "FuelType                              \n",
       "cng          454  4564.964758   3799.5\n",
       "electric      71  7012.732394   5890.0\n",
       "gasoline   74891  6651.692994   5500.0\n",
       "hybrid       186  9683.134409  10695.0\n",
       "lpg         4078  3789.326876   2900.0\n",
       "no info    17516  2722.165734   1500.0\n",
       "other         76  2895.657895   1500.0\n",
       "petrol    159081  3918.935341   2450.0"
      ]
     },
     "execution_count": 33,
     "metadata": {},
     "output_type": "execute_result"
    }
   ],
   "source": [
    "df.groupby('FuelType')['Price'].agg(['count', 'mean', 'median'])"
   ]
  },
  {
   "cell_type": "markdown",
   "metadata": {},
   "source": [
    "Согласно английской википедии gasoline и petrol является разными названиями одного и того же топлива - бензина. Оно превалирует в датасете."
   ]
  },
  {
   "cell_type": "markdown",
   "metadata": {},
   "source": [
    "Посмотрим последний интересный признак - наличие ремонта кузова."
   ]
  },
  {
   "cell_type": "code",
   "execution_count": 34,
   "metadata": {},
   "outputs": [
    {
     "data": {
      "text/html": [
       "<div>\n",
       "<style scoped>\n",
       "    .dataframe tbody tr th:only-of-type {\n",
       "        vertical-align: middle;\n",
       "    }\n",
       "\n",
       "    .dataframe tbody tr th {\n",
       "        vertical-align: top;\n",
       "    }\n",
       "\n",
       "    .dataframe thead th {\n",
       "        text-align: right;\n",
       "    }\n",
       "</style>\n",
       "<table border=\"1\" class=\"dataframe\">\n",
       "  <thead>\n",
       "    <tr style=\"text-align: right;\">\n",
       "      <th></th>\n",
       "      <th>count</th>\n",
       "      <th>mean</th>\n",
       "      <th>median</th>\n",
       "    </tr>\n",
       "    <tr>\n",
       "      <th>Repaired</th>\n",
       "      <th></th>\n",
       "      <th></th>\n",
       "      <th></th>\n",
       "    </tr>\n",
       "  </thead>\n",
       "  <tbody>\n",
       "    <tr>\n",
       "      <th>no</th>\n",
       "      <td>187943</td>\n",
       "      <td>5362.372703</td>\n",
       "      <td>3900</td>\n",
       "    </tr>\n",
       "    <tr>\n",
       "      <th>no info</th>\n",
       "      <td>41513</td>\n",
       "      <td>3027.757353</td>\n",
       "      <td>1720</td>\n",
       "    </tr>\n",
       "    <tr>\n",
       "      <th>yes</th>\n",
       "      <td>26897</td>\n",
       "      <td>2074.367030</td>\n",
       "      <td>1000</td>\n",
       "    </tr>\n",
       "  </tbody>\n",
       "</table>\n",
       "</div>"
      ],
      "text/plain": [
       "           count         mean  median\n",
       "Repaired                             \n",
       "no        187943  5362.372703    3900\n",
       "no info    41513  3027.757353    1720\n",
       "yes        26897  2074.367030    1000"
      ]
     },
     "execution_count": 34,
     "metadata": {},
     "output_type": "execute_result"
    }
   ],
   "source": [
    "df.groupby('Repaired')['Price'].agg(['count', 'mean', 'median'])"
   ]
  },
  {
   "cell_type": "markdown",
   "metadata": {},
   "source": [
    "А тут пропускам удалось обойти битые машины в части цены. "
   ]
  },
  {
   "cell_type": "markdown",
   "metadata": {},
   "source": [
    "## Обучение моделей"
   ]
  },
  {
   "cell_type": "code",
   "execution_count": 35,
   "metadata": {},
   "outputs": [
    {
     "data": {
      "text/plain": [
       "(256353, 10)"
      ]
     },
     "execution_count": 35,
     "metadata": {},
     "output_type": "execute_result"
    }
   ],
   "source": [
    "df.shape"
   ]
  },
  {
   "cell_type": "code",
   "execution_count": 36,
   "metadata": {},
   "outputs": [],
   "source": [
    "def split_data(data, target_column):\n",
    "    return data.drop(columns=[target_column], axis=1), data[target_column]"
   ]
  },
  {
   "cell_type": "code",
   "execution_count": 37,
   "metadata": {},
   "outputs": [
    {
     "data": {
      "text/plain": [
       "((256353, 9), (256353,))"
      ]
     },
     "execution_count": 37,
     "metadata": {},
     "output_type": "execute_result"
    }
   ],
   "source": [
    "features, target = split_data(df, 'Price')\n",
    "features.shape, target.shape"
   ]
  },
  {
   "cell_type": "code",
   "execution_count": 38,
   "metadata": {},
   "outputs": [],
   "source": [
    "train, test = train_test_split(df, train_size=0.6, random_state=89)\n",
    "val, test = train_test_split(test, train_size=0.5, random_state=89)"
   ]
  },
  {
   "cell_type": "markdown",
   "metadata": {},
   "source": [
    "**Catboost**"
   ]
  },
  {
   "cell_type": "code",
   "execution_count": 39,
   "metadata": {},
   "outputs": [
    {
     "data": {
      "text/plain": [
       "(256353, 10)"
      ]
     },
     "execution_count": 39,
     "metadata": {},
     "output_type": "execute_result"
    }
   ],
   "source": [
    "df.shape"
   ]
  },
  {
   "cell_type": "code",
   "execution_count": 40,
   "metadata": {},
   "outputs": [
    {
     "data": {
      "text/plain": [
       "Index(['Price', 'VehicleType', 'RegistrationYear', 'Gearbox', 'Power', 'Model',\n",
       "       'Kilometer', 'FuelType', 'Brand', 'Repaired'],\n",
       "      dtype='object')"
      ]
     },
     "execution_count": 40,
     "metadata": {},
     "output_type": "execute_result"
    }
   ],
   "source": [
    "df.columns"
   ]
  },
  {
   "cell_type": "code",
   "execution_count": 41,
   "metadata": {},
   "outputs": [],
   "source": [
    "X = ['VehicleType', 'RegistrationYear', 'Gearbox', 'Power', 'Model',\n",
    "       'Kilometer', 'FuelType', 'Brand', 'Repaired']\n",
    "\n",
    "cat_features = ['VehicleType', 'Gearbox',\n",
    "       'Model', 'FuelType', 'Brand', 'Repaired']\n",
    "y = ['Price']"
   ]
  },
  {
   "cell_type": "code",
   "execution_count": 42,
   "metadata": {},
   "outputs": [],
   "source": [
    "params = {'random_seed':1589, \n",
    "          'learning_rate':0.02, \n",
    "            'loss_function': 'RMSE',\n",
    "          'eval_metric':'RMSE',\n",
    "          'cat_features': cat_features\n",
    "         }"
   ]
  },
  {
   "cell_type": "code",
   "execution_count": 43,
   "metadata": {},
   "outputs": [
    {
     "data": {
      "application/vnd.jupyter.widget-view+json": {
       "model_id": "9fe15af4869e46d1a4f5c361aa085c90",
       "version_major": 2,
       "version_minor": 0
      },
      "text/plain": [
       "MetricVisualizer(layout=Layout(align_self='stretch', height='500px'))"
      ]
     },
     "metadata": {},
     "output_type": "display_data"
    },
    {
     "name": "stdout",
     "output_type": "stream",
     "text": [
      "CPU times: user 2min 43s, sys: 1.17 s, total: 2min 44s\n",
      "Wall time: 2min 46s\n"
     ]
    }
   ],
   "source": [
    "%%time\n",
    "start_study = time.time()\n",
    "cat_model = CatBoostRegressor(**params)\n",
    "cat_model.fit(train[X],train[y],verbose=False, plot=True)\n",
    "end_study = time.time()\n",
    "all_time_cb_study = end_study-start_study"
   ]
  },
  {
   "cell_type": "code",
   "execution_count": 44,
   "metadata": {},
   "outputs": [],
   "source": [
    "start_predict = time.time()\n",
    "cat_pred = cat_model.predict(val[X])\n",
    "cat_rmse = mean_squared_error(val[y], cat_pred) ** 0.5\n",
    "end_predict = time.time()\n",
    "all_time_cb_predict = end_predict - start_predict"
   ]
  },
  {
   "cell_type": "markdown",
   "metadata": {},
   "source": [
    "**Линейная регрессия**"
   ]
  },
  {
   "cell_type": "code",
   "execution_count": 61,
   "metadata": {},
   "outputs": [],
   "source": [
    "lr_model = LinearRegression()"
   ]
  },
  {
   "cell_type": "code",
   "execution_count": 62,
   "metadata": {},
   "outputs": [
    {
     "data": {
      "text/plain": [
       "Index(['Price', 'VehicleType', 'RegistrationYear', 'Gearbox', 'Power', 'Model',\n",
       "       'Kilometer', 'FuelType', 'Brand', 'Repaired'],\n",
       "      dtype='object')"
      ]
     },
     "execution_count": 62,
     "metadata": {},
     "output_type": "execute_result"
    }
   ],
   "source": [
    "df.columns"
   ]
  },
  {
   "cell_type": "code",
   "execution_count": 63,
   "metadata": {},
   "outputs": [
    {
     "data": {
      "text/html": [
       "<div>\n",
       "<style scoped>\n",
       "    .dataframe tbody tr th:only-of-type {\n",
       "        vertical-align: middle;\n",
       "    }\n",
       "\n",
       "    .dataframe tbody tr th {\n",
       "        vertical-align: top;\n",
       "    }\n",
       "\n",
       "    .dataframe thead th {\n",
       "        text-align: right;\n",
       "    }\n",
       "</style>\n",
       "<table border=\"1\" class=\"dataframe\">\n",
       "  <thead>\n",
       "    <tr style=\"text-align: right;\">\n",
       "      <th></th>\n",
       "      <th>Price</th>\n",
       "      <th>RegistrationYear</th>\n",
       "      <th>Power</th>\n",
       "      <th>Kilometer</th>\n",
       "      <th>convertible</th>\n",
       "      <th>coupe</th>\n",
       "      <th>no info</th>\n",
       "      <th>other</th>\n",
       "      <th>sedan</th>\n",
       "      <th>small</th>\n",
       "      <th>...</th>\n",
       "      <th>wrangler</th>\n",
       "      <th>x_reihe</th>\n",
       "      <th>x_trail</th>\n",
       "      <th>x_type</th>\n",
       "      <th>xc_reihe</th>\n",
       "      <th>yaris</th>\n",
       "      <th>yeti</th>\n",
       "      <th>ypsilon</th>\n",
       "      <th>z_reihe</th>\n",
       "      <th>zafira</th>\n",
       "    </tr>\n",
       "  </thead>\n",
       "  <tbody>\n",
       "    <tr>\n",
       "      <th>1</th>\n",
       "      <td>18300</td>\n",
       "      <td>2011</td>\n",
       "      <td>190</td>\n",
       "      <td>125000</td>\n",
       "      <td>0</td>\n",
       "      <td>1</td>\n",
       "      <td>0</td>\n",
       "      <td>0</td>\n",
       "      <td>0</td>\n",
       "      <td>0</td>\n",
       "      <td>...</td>\n",
       "      <td>0</td>\n",
       "      <td>0</td>\n",
       "      <td>0</td>\n",
       "      <td>0</td>\n",
       "      <td>0</td>\n",
       "      <td>0</td>\n",
       "      <td>0</td>\n",
       "      <td>0</td>\n",
       "      <td>0</td>\n",
       "      <td>0</td>\n",
       "    </tr>\n",
       "    <tr>\n",
       "      <th>2</th>\n",
       "      <td>9800</td>\n",
       "      <td>2004</td>\n",
       "      <td>163</td>\n",
       "      <td>125000</td>\n",
       "      <td>0</td>\n",
       "      <td>0</td>\n",
       "      <td>0</td>\n",
       "      <td>0</td>\n",
       "      <td>0</td>\n",
       "      <td>0</td>\n",
       "      <td>...</td>\n",
       "      <td>0</td>\n",
       "      <td>0</td>\n",
       "      <td>0</td>\n",
       "      <td>0</td>\n",
       "      <td>0</td>\n",
       "      <td>0</td>\n",
       "      <td>0</td>\n",
       "      <td>0</td>\n",
       "      <td>0</td>\n",
       "      <td>0</td>\n",
       "    </tr>\n",
       "    <tr>\n",
       "      <th>3</th>\n",
       "      <td>1500</td>\n",
       "      <td>2001</td>\n",
       "      <td>75</td>\n",
       "      <td>150000</td>\n",
       "      <td>0</td>\n",
       "      <td>0</td>\n",
       "      <td>0</td>\n",
       "      <td>0</td>\n",
       "      <td>0</td>\n",
       "      <td>1</td>\n",
       "      <td>...</td>\n",
       "      <td>0</td>\n",
       "      <td>0</td>\n",
       "      <td>0</td>\n",
       "      <td>0</td>\n",
       "      <td>0</td>\n",
       "      <td>0</td>\n",
       "      <td>0</td>\n",
       "      <td>0</td>\n",
       "      <td>0</td>\n",
       "      <td>0</td>\n",
       "    </tr>\n",
       "    <tr>\n",
       "      <th>4</th>\n",
       "      <td>3600</td>\n",
       "      <td>2008</td>\n",
       "      <td>69</td>\n",
       "      <td>90000</td>\n",
       "      <td>0</td>\n",
       "      <td>0</td>\n",
       "      <td>0</td>\n",
       "      <td>0</td>\n",
       "      <td>0</td>\n",
       "      <td>1</td>\n",
       "      <td>...</td>\n",
       "      <td>0</td>\n",
       "      <td>0</td>\n",
       "      <td>0</td>\n",
       "      <td>0</td>\n",
       "      <td>0</td>\n",
       "      <td>0</td>\n",
       "      <td>0</td>\n",
       "      <td>0</td>\n",
       "      <td>0</td>\n",
       "      <td>0</td>\n",
       "    </tr>\n",
       "    <tr>\n",
       "      <th>5</th>\n",
       "      <td>650</td>\n",
       "      <td>1995</td>\n",
       "      <td>102</td>\n",
       "      <td>150000</td>\n",
       "      <td>0</td>\n",
       "      <td>0</td>\n",
       "      <td>0</td>\n",
       "      <td>0</td>\n",
       "      <td>1</td>\n",
       "      <td>0</td>\n",
       "      <td>...</td>\n",
       "      <td>0</td>\n",
       "      <td>0</td>\n",
       "      <td>0</td>\n",
       "      <td>0</td>\n",
       "      <td>0</td>\n",
       "      <td>0</td>\n",
       "      <td>0</td>\n",
       "      <td>0</td>\n",
       "      <td>0</td>\n",
       "      <td>0</td>\n",
       "    </tr>\n",
       "  </tbody>\n",
       "</table>\n",
       "<p>5 rows × 310 columns</p>\n",
       "</div>"
      ],
      "text/plain": [
       "   Price  RegistrationYear  Power  Kilometer  convertible  coupe  no info  \\\n",
       "1  18300              2011    190     125000            0      1        0   \n",
       "2   9800              2004    163     125000            0      0        0   \n",
       "3   1500              2001     75     150000            0      0        0   \n",
       "4   3600              2008     69      90000            0      0        0   \n",
       "5    650              1995    102     150000            0      0        0   \n",
       "\n",
       "   other  sedan  small  ...  wrangler  x_reihe  x_trail  x_type  xc_reihe  \\\n",
       "1      0      0      0  ...         0        0        0       0         0   \n",
       "2      0      0      0  ...         0        0        0       0         0   \n",
       "3      0      0      1  ...         0        0        0       0         0   \n",
       "4      0      0      1  ...         0        0        0       0         0   \n",
       "5      0      1      0  ...         0        0        0       0         0   \n",
       "\n",
       "   yaris  yeti  ypsilon  z_reihe  zafira  \n",
       "1      0     0        0        0       0  \n",
       "2      0     0        0        0       0  \n",
       "3      0     0        0        0       0  \n",
       "4      0     0        0        0       0  \n",
       "5      0     0        0        0       0  \n",
       "\n",
       "[5 rows x 310 columns]"
      ]
     },
     "execution_count": 63,
     "metadata": {},
     "output_type": "execute_result"
    }
   ],
   "source": [
    "# проведем кодирования двух признаков\n",
    "VehicleType_ohe = pd.get_dummies(df[\"VehicleType\"], drop_first=True)\n",
    "Gearbox_ohe = pd.get_dummies(df[\"Gearbox\"], drop_first=True)\n",
    "FuelType_ohe = pd.get_dummies(df[\"FuelType\"], drop_first=True)\n",
    "Brand_ohe = pd.get_dummies(df[\"Brand\"], drop_first=True)\n",
    "Repaired_ohe = pd.get_dummies(df[\"Repaired\"], drop_first=True)\n",
    "Model_ohe = pd.get_dummies(df[\"Model\"], drop_first=True)\n",
    "\n",
    "#удалим категориальные признаки\n",
    "df.drop([\"VehicleType\", \"Gearbox\", \"FuelType\", \"Brand\", \"Repaired\", \"Model\"], axis=1, inplace=True)\n",
    "\n",
    "#объединим новые столбцы\n",
    "df_ohe = pd.concat([df, VehicleType_ohe, Gearbox_ohe, FuelType_ohe, Brand_ohe, Repaired_ohe, Model_ohe], axis=1)\n",
    "\n",
    "df_ohe.head()"
   ]
  },
  {
   "cell_type": "code",
   "execution_count": 66,
   "metadata": {},
   "outputs": [
    {
     "name": "stdout",
     "output_type": "stream",
     "text": [
      "Collecting fast_ml\n",
      "  Downloading fast_ml-3.68-py3-none-any.whl (42 kB)\n",
      "\u001b[K     |████████████████████████████████| 42 kB 384 kB/s eta 0:00:01\n",
      "\u001b[?25hInstalling collected packages: fast-ml\n",
      "Successfully installed fast-ml-3.68\n",
      "Note: you may need to restart the kernel to use updated packages.\n"
     ]
    }
   ],
   "source": [
    "pip install fast_ml"
   ]
  },
  {
   "cell_type": "code",
   "execution_count": 67,
   "metadata": {},
   "outputs": [],
   "source": [
    "from fast_ml.model_development import train_valid_test_split"
   ]
  },
  {
   "cell_type": "code",
   "execution_count": 82,
   "metadata": {},
   "outputs": [],
   "source": [
    "X_train, y_train, X_valid, y_valid, X_test, y_test = train_valid_test_split(df_ohe, target = 'Price', \n",
    "                                                                            train_size=0.8, valid_size=0.1, test_size=0.1)"
   ]
  },
  {
   "cell_type": "code",
   "execution_count": 83,
   "metadata": {},
   "outputs": [
    {
     "name": "stdout",
     "output_type": "stream",
     "text": [
      "RMSE = 2333.5461882818045\n"
     ]
    }
   ],
   "source": [
    "model = LinearRegression(fit_intercept=True) # обучите модель с заданной глубиной дерева\n",
    "model.fit(X_train, y_train) # обучите модель\n",
    "predictions_valid = model.predict(X_valid) # получите предсказания модели\n",
    "result = mean_squared_error(y_valid, predictions_valid) ** 0.5 # посчитайте качество модели\n",
    "print(f'RMSE = {result}')"
   ]
  },
  {
   "cell_type": "code",
   "execution_count": 84,
   "metadata": {},
   "outputs": [
    {
     "name": "stdout",
     "output_type": "stream",
     "text": [
      "RMSE = 2684.477153992337\n"
     ]
    }
   ],
   "source": [
    "model = LinearRegression(fit_intercept=False) # обучите модель с заданной глубиной дерева\n",
    "model.fit(X_train, y_train) # обучите модель\n",
    "predictions_valid = model.predict(X_valid) # получите предсказания модели\n",
    "result = mean_squared_error(y_valid, predictions_valid) ** 0.5 # посчитайте качество модели\n",
    "print(f'RMSE = {result}')"
   ]
  },
  {
   "cell_type": "code",
   "execution_count": 89,
   "metadata": {},
   "outputs": [],
   "source": [
    "start_predict = time.time()\n",
    "model.fit(X_train, y_train)\n",
    "end_predict = time.time()\n",
    "all_time_model_study = end_predict - start_predict"
   ]
  },
  {
   "cell_type": "code",
   "execution_count": 90,
   "metadata": {},
   "outputs": [],
   "source": [
    "start_predict = time.time()\n",
    "predictions_valid = model.predict(X_valid) # получите предсказания модели\n",
    "result_model = mean_squared_error(y_valid, predictions_valid) ** 0.5\n",
    "end_predict = time.time()\n",
    "all_time_model_predict = end_predict - start_predict # обучите модель\n"
   ]
  },
  {
   "cell_type": "markdown",
   "metadata": {},
   "source": [
    "## Анализ моделей"
   ]
  },
  {
   "cell_type": "markdown",
   "metadata": {},
   "source": [
    "**Catboost**"
   ]
  },
  {
   "cell_type": "code",
   "execution_count": 91,
   "metadata": {},
   "outputs": [
    {
     "name": "stdout",
     "output_type": "stream",
     "text": [
      "RMSE модели на базе библиотеки Catboost 1592.7966715681493\n",
      "Время обучения 166.9726209640503\n",
      "Время предсказания 0.2944490909576416\n"
     ]
    }
   ],
   "source": [
    "print(f'RMSE модели на базе библиотеки Catboost {cat_rmse}')\n",
    "print(f'Время обучения {all_time_cb_study}')\n",
    "print(f'Время предсказания {all_time_cb_predict}')"
   ]
  },
  {
   "cell_type": "markdown",
   "metadata": {},
   "source": [
    "**Линейная регрессия**"
   ]
  },
  {
   "cell_type": "code",
   "execution_count": 92,
   "metadata": {},
   "outputs": [
    {
     "name": "stdout",
     "output_type": "stream",
     "text": [
      "RMSE модели на базе Линейной регрессии 2333.5461882818045\n",
      "Время обучения 25.82477831840515\n",
      "Время предсказания 0.08097529411315918\n"
     ]
    }
   ],
   "source": [
    "print(f'RMSE модели на базе Линейной регрессии {result_model}')\n",
    "print(f'Время обучения {all_time_model_study}')\n",
    "print(f'Время предсказания {all_time_model_predict}')"
   ]
  },
  {
   "cell_type": "markdown",
   "metadata": {},
   "source": [
    "**Вывод:** лучшую точность предсказаний показывает модель на основании Catboost. При этом модель проигрывает Линейной регресиии по скорости обучения.  \n",
    "Рекомендацию заказчику: использовать модель на основе **Catboost.** Проверим её на тестовой выборке."
   ]
  },
  {
   "cell_type": "markdown",
   "metadata": {},
   "source": [
    "## Тестирование лучшей модели"
   ]
  },
  {
   "cell_type": "markdown",
   "metadata": {},
   "source": [
    "**CatBoost фичи**"
   ]
  },
  {
   "cell_type": "code",
   "execution_count": 93,
   "metadata": {},
   "outputs": [
    {
     "data": {
      "image/png": "[encoded data removed]",
      "text/plain": [
       "<Figure size 864x216 with 1 Axes>"
      ]
     },
     "metadata": {
      "needs_background": "light"
     },
     "output_type": "display_data"
    }
   ],
   "source": [
    "fi = cat_model.get_feature_importance(prettified=True)\n",
    "\n",
    "plt.figure(figsize=(12, 3));\n",
    "sns.barplot(x=\"Importances\", y=\"Feature Id\", data=fi);\n",
    "plt.title('CatBoost features importance:');"
   ]
  },
  {
   "cell_type": "code",
   "execution_count": 96,
   "metadata": {},
   "outputs": [
    {
     "name": "stdout",
     "output_type": "stream",
     "text": [
      "CPU times: user 274 ms, sys: 6.58 ms, total: 280 ms\n",
      "Wall time: 279 ms\n"
     ]
    }
   ],
   "source": [
    "%%time\n",
    "start = time.time()\n",
    "cat_pred = cat_model.predict(test[X])\n",
    "cat_rmse = mean_squared_error(test[y], cat_pred) ** 0.5\n",
    "end = time.time()\n",
    "test_predict = end - start"
   ]
  },
  {
   "cell_type": "markdown",
   "metadata": {},
   "source": [
    "**Итоговые результаты на тестовой выборке.**"
   ]
  },
  {
   "cell_type": "code",
   "execution_count": 97,
   "metadata": {},
   "outputs": [
    {
     "name": "stdout",
     "output_type": "stream",
     "text": [
      "RMSE модели на базе библиотеки Catboost 1570.9591500744568\n",
      "Время предсказания 0.27863597869873047\n"
     ]
    }
   ],
   "source": [
    "print(f'RMSE модели на базе библиотеки Catboost {cat_rmse}')\n",
    "print(f'Время предсказания {test_predict}')"
   ]
  },
  {
   "cell_type": "markdown",
   "metadata": {},
   "source": [
    "**Проверка на адекватность**"
   ]
  },
  {
   "cell_type": "code",
   "execution_count": null,
   "metadata": {},
   "outputs": [],
   "source": [
    "pred_const = pd.Series(y_train.mean(), index=y_test.index)\n",
    "rmse_const = mean_squared_error(y_test, pred_const) ** 0.5\n",
    "print(f'RMSE модели на базе константсной модели {rmse_const}')"
   ]
  },
  {
   "cell_type": "markdown",
   "metadata": {},
   "source": [
    "**Вывод:** предложенная модель на базе библиотеки Catboost отвечает пороговому значению по метрике RMSE. Предсказания не занимают много времени, но вот обучение модели потребует большего времени."
   ]
  }
 ],
 "metadata": {
  "ExecuteTimeLog": [
   {
    "duration": 3208,
    "start_time": "2023-03-07T07:03:07.655Z"
   },
   {
    "duration": 2060,
    "start_time": "2023-03-07T07:03:16.519Z"
   },
   {
    "duration": 1641,
    "start_time": "2023-03-07T07:03:31.137Z"
   },
   {
    "duration": 2945,
    "start_time": "2023-03-07T07:04:14.139Z"
   },
   {
    "duration": 104,
    "start_time": "2023-03-07T07:04:32.873Z"
   },
   {
    "duration": 785,
    "start_time": "2023-03-07T07:04:36.341Z"
   },
   {
    "duration": 10,
    "start_time": "2023-03-07T07:04:38.160Z"
   },
   {
    "duration": 878,
    "start_time": "2023-03-07T07:04:50.412Z"
   },
   {
    "duration": 11,
    "start_time": "2023-03-07T07:04:53.750Z"
   },
   {
    "duration": 5,
    "start_time": "2023-03-07T07:05:01.760Z"
   },
   {
    "duration": 810,
    "start_time": "2023-03-07T07:05:14.753Z"
   },
   {
    "duration": 4,
    "start_time": "2023-03-07T07:05:16.292Z"
   },
   {
    "duration": 434,
    "start_time": "2023-03-07T07:05:38.735Z"
   },
   {
    "duration": 912,
    "start_time": "2023-03-07T07:05:47.697Z"
   },
   {
    "duration": 14,
    "start_time": "2023-03-07T07:06:30.198Z"
   },
   {
    "duration": 124,
    "start_time": "2023-03-07T07:06:37.163Z"
   },
   {
    "duration": 172,
    "start_time": "2023-03-07T07:07:04.385Z"
   },
   {
    "duration": 101,
    "start_time": "2023-03-07T07:07:20.236Z"
   },
   {
    "duration": 85,
    "start_time": "2023-03-07T07:07:45.501Z"
   },
   {
    "duration": 15,
    "start_time": "2023-03-07T07:08:07.338Z"
   },
   {
    "duration": 10,
    "start_time": "2023-03-07T07:10:01.710Z"
   },
   {
    "duration": 2168,
    "start_time": "2023-03-07T07:10:23.878Z"
   },
   {
    "duration": 2109,
    "start_time": "2023-03-07T07:10:26.048Z"
   },
   {
    "duration": 1541,
    "start_time": "2023-03-07T07:10:28.159Z"
   },
   {
    "duration": 875,
    "start_time": "2023-03-07T07:10:29.702Z"
   },
   {
    "duration": 3,
    "start_time": "2023-03-07T07:10:30.579Z"
   },
   {
    "duration": 528,
    "start_time": "2023-03-07T07:10:30.584Z"
   },
   {
    "duration": 1018,
    "start_time": "2023-03-07T07:10:31.114Z"
   },
   {
    "duration": 112,
    "start_time": "2023-03-07T07:10:32.134Z"
   },
   {
    "duration": 118,
    "start_time": "2023-03-07T07:10:32.248Z"
   },
   {
    "duration": 157,
    "start_time": "2023-03-07T07:10:32.369Z"
   },
   {
    "duration": 84,
    "start_time": "2023-03-07T07:10:32.528Z"
   },
   {
    "duration": 119,
    "start_time": "2023-03-07T07:10:32.613Z"
   },
   {
    "duration": 10,
    "start_time": "2023-03-07T07:10:38.533Z"
   },
   {
    "duration": 3033,
    "start_time": "2023-03-07T07:11:10.102Z"
   },
   {
    "duration": 327,
    "start_time": "2023-03-07T07:11:28.648Z"
   },
   {
    "duration": 40836,
    "start_time": "2023-03-07T07:11:32.450Z"
   },
   {
    "duration": 0,
    "start_time": "2023-03-07T07:12:13.289Z"
   },
   {
    "duration": 39939,
    "start_time": "2023-03-07T07:12:38.353Z"
   },
   {
    "duration": 681,
    "start_time": "2023-03-07T07:14:30.724Z"
   },
   {
    "duration": 612,
    "start_time": "2023-03-07T07:15:11.716Z"
   },
   {
    "duration": 1268,
    "start_time": "2023-03-07T07:15:37.309Z"
   },
   {
    "duration": 1135,
    "start_time": "2023-03-07T07:16:01.539Z"
   },
   {
    "duration": 2791,
    "start_time": "2023-03-08T06:06:14.987Z"
   },
   {
    "duration": 1959,
    "start_time": "2023-03-08T06:06:17.780Z"
   },
   {
    "duration": 2977,
    "start_time": "2023-03-08T06:06:19.741Z"
   },
   {
    "duration": 2870,
    "start_time": "2023-03-08T06:06:22.721Z"
   },
   {
    "duration": 3,
    "start_time": "2023-03-08T06:06:25.593Z"
   },
   {
    "duration": 487,
    "start_time": "2023-03-08T06:06:25.597Z"
   },
   {
    "duration": 968,
    "start_time": "2023-03-08T06:06:26.086Z"
   },
   {
    "duration": 105,
    "start_time": "2023-03-08T06:06:27.055Z"
   },
   {
    "duration": 102,
    "start_time": "2023-03-08T06:06:27.161Z"
   },
   {
    "duration": 154,
    "start_time": "2023-03-08T06:06:27.266Z"
   },
   {
    "duration": 71,
    "start_time": "2023-03-08T06:06:27.422Z"
   },
   {
    "duration": 597,
    "start_time": "2023-03-08T06:06:27.494Z"
   },
   {
    "duration": 1183,
    "start_time": "2023-03-08T06:06:28.092Z"
   },
   {
    "duration": 121,
    "start_time": "2023-03-08T07:41:30.660Z"
   },
   {
    "duration": 87,
    "start_time": "2023-03-08T07:41:37.421Z"
   },
   {
    "duration": 116,
    "start_time": "2023-03-08T07:41:57.377Z"
   },
   {
    "duration": 74,
    "start_time": "2023-03-08T07:42:06.347Z"
   },
   {
    "duration": 577,
    "start_time": "2023-03-08T07:42:07.379Z"
   },
   {
    "duration": 1130,
    "start_time": "2023-03-08T07:42:15.158Z"
   },
   {
    "duration": 89,
    "start_time": "2023-03-08T07:43:13.180Z"
   },
   {
    "duration": 5,
    "start_time": "2023-03-08T07:44:26.277Z"
   },
   {
    "duration": 12,
    "start_time": "2023-03-08T08:26:48.365Z"
   },
   {
    "duration": 25,
    "start_time": "2023-03-08T08:26:54.634Z"
   },
   {
    "duration": 29,
    "start_time": "2023-03-08T08:26:59.258Z"
   },
   {
    "duration": 33,
    "start_time": "2023-03-08T08:27:07.992Z"
   },
   {
    "duration": 433,
    "start_time": "2023-03-08T08:28:44.322Z"
   },
   {
    "duration": 165,
    "start_time": "2023-03-08T08:28:50.779Z"
   },
   {
    "duration": 320,
    "start_time": "2023-03-08T08:30:13.155Z"
   },
   {
    "duration": 4,
    "start_time": "2023-03-08T08:30:23.180Z"
   },
   {
    "duration": 10,
    "start_time": "2023-03-08T08:32:32.453Z"
   },
   {
    "duration": 29,
    "start_time": "2023-03-08T08:32:53.423Z"
   },
   {
    "duration": 50,
    "start_time": "2023-03-08T08:33:07.978Z"
   },
   {
    "duration": 41,
    "start_time": "2023-03-08T09:07:32.103Z"
   },
   {
    "duration": 38,
    "start_time": "2023-03-08T09:07:50.935Z"
   },
   {
    "duration": 39,
    "start_time": "2023-03-08T09:08:27.873Z"
   },
   {
    "duration": 44,
    "start_time": "2023-03-08T09:08:58.066Z"
   },
   {
    "duration": 40,
    "start_time": "2023-03-08T09:09:30.547Z"
   },
   {
    "duration": 26,
    "start_time": "2023-03-08T09:11:37.772Z"
   },
   {
    "duration": 173,
    "start_time": "2023-03-08T09:11:41.181Z"
   },
   {
    "duration": 322,
    "start_time": "2023-03-08T09:11:42.162Z"
   },
   {
    "duration": 4,
    "start_time": "2023-03-08T09:11:53.165Z"
   },
   {
    "duration": 14,
    "start_time": "2023-03-08T09:12:02.416Z"
   },
   {
    "duration": 28,
    "start_time": "2023-03-08T09:12:03.070Z"
   },
   {
    "duration": 49,
    "start_time": "2023-03-08T09:12:03.518Z"
   },
   {
    "duration": 33,
    "start_time": "2023-03-08T09:12:03.962Z"
   },
   {
    "duration": 39,
    "start_time": "2023-03-08T09:12:24.131Z"
   },
   {
    "duration": 196,
    "start_time": "2023-03-08T10:58:49.543Z"
   },
   {
    "duration": 182,
    "start_time": "2023-03-08T10:59:06.150Z"
   },
   {
    "duration": 4,
    "start_time": "2023-03-08T10:59:06.872Z"
   },
   {
    "duration": 182,
    "start_time": "2023-03-08T10:59:20.070Z"
   },
   {
    "duration": 172,
    "start_time": "2023-03-08T10:59:24.341Z"
   },
   {
    "duration": 183,
    "start_time": "2023-03-08T10:59:33.647Z"
   },
   {
    "duration": 167,
    "start_time": "2023-03-08T10:59:42.764Z"
   },
   {
    "duration": 4,
    "start_time": "2023-03-08T10:59:47.709Z"
   },
   {
    "duration": 30,
    "start_time": "2023-03-08T11:00:37.236Z"
   },
   {
    "duration": 155,
    "start_time": "2023-03-08T11:00:38.186Z"
   },
   {
    "duration": 297,
    "start_time": "2023-03-08T11:00:40.552Z"
   },
   {
    "duration": 4,
    "start_time": "2023-03-08T11:00:41.976Z"
   },
   {
    "duration": 92,
    "start_time": "2023-03-08T11:01:05.405Z"
   },
   {
    "duration": 192,
    "start_time": "2023-03-08T11:01:06.849Z"
   },
   {
    "duration": 3,
    "start_time": "2023-03-08T11:01:07.965Z"
   },
   {
    "duration": 19,
    "start_time": "2023-03-08T11:01:09.567Z"
   },
   {
    "duration": 11,
    "start_time": "2023-03-08T11:02:05.934Z"
   },
   {
    "duration": 58,
    "start_time": "2023-03-08T11:02:13.747Z"
   },
   {
    "duration": 4,
    "start_time": "2023-03-08T11:02:22.765Z"
   },
   {
    "duration": 29,
    "start_time": "2023-03-08T11:02:33.991Z"
   },
   {
    "duration": 124,
    "start_time": "2023-03-08T11:02:38.726Z"
   },
   {
    "duration": 226,
    "start_time": "2023-03-08T11:02:39.956Z"
   },
   {
    "duration": 4,
    "start_time": "2023-03-08T11:02:41.153Z"
   },
   {
    "duration": 2158,
    "start_time": "2023-03-08T11:03:10.273Z"
   },
   {
    "duration": 1470,
    "start_time": "2023-03-08T11:03:12.434Z"
   },
   {
    "duration": 932,
    "start_time": "2023-03-08T11:03:13.906Z"
   },
   {
    "duration": 5,
    "start_time": "2023-03-08T11:03:14.840Z"
   },
   {
    "duration": 515,
    "start_time": "2023-03-08T11:03:14.846Z"
   },
   {
    "duration": 1019,
    "start_time": "2023-03-08T11:03:15.363Z"
   },
   {
    "duration": 115,
    "start_time": "2023-03-08T11:03:16.384Z"
   },
   {
    "duration": 167,
    "start_time": "2023-03-08T11:03:16.501Z"
   },
   {
    "duration": 102,
    "start_time": "2023-03-08T11:03:16.669Z"
   },
   {
    "duration": 116,
    "start_time": "2023-03-08T11:03:16.774Z"
   },
   {
    "duration": 91,
    "start_time": "2023-03-08T11:03:16.891Z"
   },
   {
    "duration": 668,
    "start_time": "2023-03-08T11:03:16.984Z"
   },
   {
    "duration": 1243,
    "start_time": "2023-03-08T11:03:17.654Z"
   },
   {
    "duration": 98,
    "start_time": "2023-03-08T11:03:18.899Z"
   },
   {
    "duration": 195,
    "start_time": "2023-03-08T11:03:18.999Z"
   },
   {
    "duration": 55,
    "start_time": "2023-03-08T11:03:19.196Z"
   },
   {
    "duration": 5,
    "start_time": "2023-03-08T11:03:19.253Z"
   },
   {
    "duration": 28,
    "start_time": "2023-03-08T11:03:19.259Z"
   },
   {
    "duration": 157,
    "start_time": "2023-03-08T11:03:19.288Z"
   },
   {
    "duration": 255,
    "start_time": "2023-03-08T11:03:19.447Z"
   },
   {
    "duration": 8,
    "start_time": "2023-03-08T11:03:19.704Z"
   },
   {
    "duration": 13,
    "start_time": "2023-03-08T11:03:19.714Z"
   },
   {
    "duration": 31,
    "start_time": "2023-03-08T11:03:19.728Z"
   },
   {
    "duration": 63,
    "start_time": "2023-03-08T11:03:19.761Z"
   },
   {
    "duration": 31,
    "start_time": "2023-03-08T11:03:19.826Z"
   },
   {
    "duration": 56,
    "start_time": "2023-03-08T11:03:19.860Z"
   },
   {
    "duration": 34,
    "start_time": "2023-03-08T11:03:19.918Z"
   },
   {
    "duration": 30,
    "start_time": "2023-03-08T11:03:19.956Z"
   },
   {
    "duration": 23,
    "start_time": "2023-03-08T11:33:06.062Z"
   },
   {
    "duration": 3,
    "start_time": "2023-03-08T11:33:22.459Z"
   },
   {
    "duration": 4,
    "start_time": "2023-03-08T11:33:31.329Z"
   },
   {
    "duration": 127,
    "start_time": "2023-03-08T11:33:36.632Z"
   },
   {
    "duration": 12,
    "start_time": "2023-03-08T11:33:50.970Z"
   },
   {
    "duration": 50,
    "start_time": "2023-03-08T11:34:11.174Z"
   },
   {
    "duration": 57,
    "start_time": "2023-03-08T11:34:21.351Z"
   },
   {
    "duration": 12,
    "start_time": "2023-03-08T11:34:44.890Z"
   },
   {
    "duration": 7349,
    "start_time": "2023-03-08T11:34:58.217Z"
   },
   {
    "duration": 83,
    "start_time": "2023-03-08T11:35:27.002Z"
   },
   {
    "duration": 3,
    "start_time": "2023-03-08T11:36:03.996Z"
   },
   {
    "duration": 4,
    "start_time": "2023-03-08T11:36:14.105Z"
   },
   {
    "duration": 7,
    "start_time": "2023-03-08T11:36:21.400Z"
   },
   {
    "duration": 121782,
    "start_time": "2023-03-08T11:36:47.335Z"
   },
   {
    "duration": 120,
    "start_time": "2023-03-08T11:39:28.069Z"
   },
   {
    "duration": 5,
    "start_time": "2023-03-08T11:39:34.241Z"
   },
   {
    "duration": 560,
    "start_time": "2023-03-08T11:39:35.357Z"
   },
   {
    "duration": 5,
    "start_time": "2023-03-08T11:40:10.867Z"
   },
   {
    "duration": 3,
    "start_time": "2023-03-08T11:40:24.705Z"
   },
   {
    "duration": 330,
    "start_time": "2023-03-08T11:40:33.121Z"
   },
   {
    "duration": 4,
    "start_time": "2023-03-08T11:40:49.913Z"
   },
   {
    "duration": 17,
    "start_time": "2023-03-08T11:40:59.189Z"
   },
   {
    "duration": 42,
    "start_time": "2023-03-08T11:42:34.940Z"
   },
   {
    "duration": 9,
    "start_time": "2023-03-08T11:43:07.610Z"
   },
   {
    "duration": 14,
    "start_time": "2023-03-08T11:43:35.956Z"
   },
   {
    "duration": 9,
    "start_time": "2023-03-08T11:43:57.670Z"
   },
   {
    "duration": 4,
    "start_time": "2023-03-08T11:44:09.201Z"
   },
   {
    "duration": 4,
    "start_time": "2023-03-08T11:45:06.651Z"
   },
   {
    "duration": 20,
    "start_time": "2023-03-08T11:45:10.806Z"
   },
   {
    "duration": 13,
    "start_time": "2023-03-08T11:45:40.027Z"
   },
   {
    "duration": 2137,
    "start_time": "2023-03-08T11:45:59.139Z"
   },
   {
    "duration": 1429,
    "start_time": "2023-03-08T11:46:01.279Z"
   },
   {
    "duration": 811,
    "start_time": "2023-03-08T11:46:02.710Z"
   },
   {
    "duration": 4,
    "start_time": "2023-03-08T11:46:03.523Z"
   },
   {
    "duration": 509,
    "start_time": "2023-03-08T11:46:03.531Z"
   },
   {
    "duration": 1122,
    "start_time": "2023-03-08T11:46:04.043Z"
   },
   {
    "duration": 121,
    "start_time": "2023-03-08T11:46:05.166Z"
   },
   {
    "duration": 212,
    "start_time": "2023-03-08T11:46:05.289Z"
   },
   {
    "duration": 121,
    "start_time": "2023-03-08T11:46:05.503Z"
   },
   {
    "duration": 118,
    "start_time": "2023-03-08T11:46:05.626Z"
   },
   {
    "duration": 89,
    "start_time": "2023-03-08T11:46:05.745Z"
   },
   {
    "duration": 647,
    "start_time": "2023-03-08T11:46:05.836Z"
   },
   {
    "duration": 1253,
    "start_time": "2023-03-08T11:46:06.485Z"
   },
   {
    "duration": 107,
    "start_time": "2023-03-08T11:46:07.742Z"
   },
   {
    "duration": 192,
    "start_time": "2023-03-08T11:46:07.850Z"
   },
   {
    "duration": 50,
    "start_time": "2023-03-08T11:46:08.044Z"
   },
   {
    "duration": 17,
    "start_time": "2023-03-08T11:46:08.096Z"
   },
   {
    "duration": 26,
    "start_time": "2023-03-08T11:46:08.115Z"
   },
   {
    "duration": 155,
    "start_time": "2023-03-08T11:46:08.143Z"
   },
   {
    "duration": 251,
    "start_time": "2023-03-08T11:46:08.301Z"
   },
   {
    "duration": 5,
    "start_time": "2023-03-08T11:46:08.554Z"
   },
   {
    "duration": 13,
    "start_time": "2023-03-08T11:46:08.561Z"
   },
   {
    "duration": 48,
    "start_time": "2023-03-08T11:46:08.575Z"
   },
   {
    "duration": 46,
    "start_time": "2023-03-08T11:46:08.625Z"
   },
   {
    "duration": 44,
    "start_time": "2023-03-08T11:46:08.672Z"
   },
   {
    "duration": 37,
    "start_time": "2023-03-08T11:46:08.718Z"
   },
   {
    "duration": 32,
    "start_time": "2023-03-08T11:46:08.756Z"
   },
   {
    "duration": 32,
    "start_time": "2023-03-08T11:46:08.812Z"
   },
   {
    "duration": 3,
    "start_time": "2023-03-08T11:46:08.846Z"
   },
   {
    "duration": 4,
    "start_time": "2023-03-08T11:46:08.851Z"
   },
   {
    "duration": 17,
    "start_time": "2023-03-08T11:46:08.857Z"
   },
   {
    "duration": 88,
    "start_time": "2023-03-08T11:46:08.876Z"
   },
   {
    "duration": 15,
    "start_time": "2023-03-08T11:46:08.966Z"
   },
   {
    "duration": 7258,
    "start_time": "2023-03-08T11:46:08.982Z"
   },
   {
    "duration": 81,
    "start_time": "2023-03-08T11:46:16.242Z"
   },
   {
    "duration": 3,
    "start_time": "2023-03-08T11:46:16.325Z"
   },
   {
    "duration": 11,
    "start_time": "2023-03-08T11:46:16.330Z"
   },
   {
    "duration": 9,
    "start_time": "2023-03-08T11:46:16.343Z"
   },
   {
    "duration": 382372,
    "start_time": "2023-03-08T11:46:16.354Z"
   },
   {
    "duration": 87,
    "start_time": "2023-03-08T11:52:38.728Z"
   },
   {
    "duration": 514,
    "start_time": "2023-03-08T11:52:38.819Z"
   },
   {
    "duration": 4,
    "start_time": "2023-03-08T11:52:39.335Z"
   },
   {
    "duration": 73,
    "start_time": "2023-03-08T11:52:39.341Z"
   },
   {
    "duration": 4,
    "start_time": "2023-03-08T11:52:39.416Z"
   },
   {
    "duration": 374,
    "start_time": "2023-03-08T11:52:39.422Z"
   },
   {
    "duration": 4,
    "start_time": "2023-03-08T11:52:39.798Z"
   },
   {
    "duration": 41,
    "start_time": "2023-03-08T11:52:39.811Z"
   },
   {
    "duration": 69,
    "start_time": "2023-03-08T11:52:39.855Z"
   },
   {
    "duration": 4,
    "start_time": "2023-03-08T11:52:40.013Z"
   },
   {
    "duration": 96,
    "start_time": "2023-03-08T11:52:40.019Z"
   },
   {
    "duration": 11,
    "start_time": "2023-03-08T12:12:37.010Z"
   },
   {
    "duration": 169,
    "start_time": "2023-03-08T12:12:56.729Z"
   },
   {
    "duration": 2163,
    "start_time": "2023-03-08T12:13:33.393Z"
   },
   {
    "duration": 1462,
    "start_time": "2023-03-08T12:13:35.559Z"
   },
   {
    "duration": 867,
    "start_time": "2023-03-08T12:13:37.023Z"
   },
   {
    "duration": 4,
    "start_time": "2023-03-08T12:13:37.893Z"
   },
   {
    "duration": 495,
    "start_time": "2023-03-08T12:13:37.899Z"
   },
   {
    "duration": 986,
    "start_time": "2023-03-08T12:13:38.395Z"
   },
   {
    "duration": 122,
    "start_time": "2023-03-08T12:13:39.382Z"
   },
   {
    "duration": 182,
    "start_time": "2023-03-08T12:13:39.506Z"
   },
   {
    "duration": 129,
    "start_time": "2023-03-08T12:13:39.690Z"
   },
   {
    "duration": 111,
    "start_time": "2023-03-08T12:13:39.822Z"
   },
   {
    "duration": 91,
    "start_time": "2023-03-08T12:13:39.934Z"
   },
   {
    "duration": 633,
    "start_time": "2023-03-08T12:13:40.026Z"
   },
   {
    "duration": 1247,
    "start_time": "2023-03-08T12:13:40.660Z"
   },
   {
    "duration": 120,
    "start_time": "2023-03-08T12:13:41.911Z"
   },
   {
    "duration": 194,
    "start_time": "2023-03-08T12:13:42.034Z"
   },
   {
    "duration": 48,
    "start_time": "2023-03-08T12:13:42.229Z"
   },
   {
    "duration": 5,
    "start_time": "2023-03-08T12:13:42.278Z"
   },
   {
    "duration": 43,
    "start_time": "2023-03-08T12:13:42.285Z"
   },
   {
    "duration": 152,
    "start_time": "2023-03-08T12:13:42.330Z"
   },
   {
    "duration": 260,
    "start_time": "2023-03-08T12:13:42.484Z"
   },
   {
    "duration": 5,
    "start_time": "2023-03-08T12:13:42.746Z"
   },
   {
    "duration": 18,
    "start_time": "2023-03-08T12:13:42.753Z"
   },
   {
    "duration": 43,
    "start_time": "2023-03-08T12:13:42.772Z"
   },
   {
    "duration": 43,
    "start_time": "2023-03-08T12:13:42.818Z"
   },
   {
    "duration": 53,
    "start_time": "2023-03-08T12:13:42.863Z"
   },
   {
    "duration": 38,
    "start_time": "2023-03-08T12:13:42.917Z"
   },
   {
    "duration": 33,
    "start_time": "2023-03-08T12:13:42.956Z"
   },
   {
    "duration": 33,
    "start_time": "2023-03-08T12:13:43.012Z"
   },
   {
    "duration": 2,
    "start_time": "2023-03-08T12:13:43.047Z"
   },
   {
    "duration": 5,
    "start_time": "2023-03-08T12:13:43.051Z"
   },
   {
    "duration": 20,
    "start_time": "2023-03-08T12:13:43.058Z"
   },
   {
    "duration": 87,
    "start_time": "2023-03-08T12:13:43.080Z"
   },
   {
    "duration": 16,
    "start_time": "2023-03-08T12:13:43.168Z"
   },
   {
    "duration": 8180,
    "start_time": "2023-03-08T12:13:43.185Z"
   },
   {
    "duration": 93,
    "start_time": "2023-03-08T12:13:51.366Z"
   },
   {
    "duration": 4,
    "start_time": "2023-03-08T12:13:51.460Z"
   },
   {
    "duration": 16,
    "start_time": "2023-03-08T12:13:51.466Z"
   },
   {
    "duration": 14,
    "start_time": "2023-03-08T12:13:51.484Z"
   },
   {
    "duration": 463913,
    "start_time": "2023-03-08T12:13:51.500Z"
   },
   {
    "duration": 5,
    "start_time": "2023-03-08T12:21:35.415Z"
   },
   {
    "duration": 593,
    "start_time": "2023-03-08T12:21:35.422Z"
   },
   {
    "duration": 3,
    "start_time": "2023-03-08T12:21:36.017Z"
   },
   {
    "duration": 9,
    "start_time": "2023-03-08T12:21:36.022Z"
   },
   {
    "duration": 6,
    "start_time": "2023-03-08T12:21:36.033Z"
   },
   {
    "duration": 550,
    "start_time": "2023-03-08T12:21:36.041Z"
   },
   {
    "duration": 12,
    "start_time": "2023-03-08T12:21:36.592Z"
   },
   {
    "duration": 0,
    "start_time": "2023-03-08T12:21:36.605Z"
   },
   {
    "duration": 0,
    "start_time": "2023-03-08T12:21:36.606Z"
   },
   {
    "duration": 0,
    "start_time": "2023-03-08T12:21:36.607Z"
   },
   {
    "duration": 0,
    "start_time": "2023-03-08T12:21:36.608Z"
   },
   {
    "duration": 0,
    "start_time": "2023-03-08T12:21:36.610Z"
   },
   {
    "duration": 428,
    "start_time": "2023-03-08T13:01:11.599Z"
   },
   {
    "duration": 4,
    "start_time": "2023-03-08T17:05:08.446Z"
   },
   {
    "duration": 7,
    "start_time": "2023-03-08T17:05:15.120Z"
   },
   {
    "duration": 825,
    "start_time": "2023-03-08T17:05:17.235Z"
   },
   {
    "duration": 4,
    "start_time": "2023-03-08T17:05:24.947Z"
   },
   {
    "duration": 409,
    "start_time": "2023-03-08T17:05:27.097Z"
   },
   {
    "duration": 887,
    "start_time": "2023-03-08T17:05:30.691Z"
   },
   {
    "duration": 4,
    "start_time": "2023-03-08T17:25:53.918Z"
   },
   {
    "duration": 796,
    "start_time": "2023-03-08T17:25:55.804Z"
   },
   {
    "duration": 3,
    "start_time": "2023-03-08T17:25:56.603Z"
   },
   {
    "duration": 125,
    "start_time": "2023-03-08T17:28:32.126Z"
   },
   {
    "duration": 117,
    "start_time": "2023-03-08T17:28:34.647Z"
   },
   {
    "duration": 83,
    "start_time": "2023-03-08T17:28:42.015Z"
   },
   {
    "duration": 134,
    "start_time": "2023-03-08T17:28:43.965Z"
   },
   {
    "duration": 1111,
    "start_time": "2023-03-08T17:34:32.312Z"
   },
   {
    "duration": 96,
    "start_time": "2023-03-08T17:34:37.303Z"
   },
   {
    "duration": 166,
    "start_time": "2023-03-08T17:35:02.960Z"
   },
   {
    "duration": 56,
    "start_time": "2023-03-08T17:37:08.592Z"
   },
   {
    "duration": 64,
    "start_time": "2023-03-08T17:37:14.571Z"
   },
   {
    "duration": 5,
    "start_time": "2023-03-08T17:37:24.040Z"
   },
   {
    "duration": 21,
    "start_time": "2023-03-08T17:43:27.573Z"
   },
   {
    "duration": 124,
    "start_time": "2023-03-08T17:43:30.077Z"
   },
   {
    "duration": 260,
    "start_time": "2023-03-08T17:47:21.809Z"
   },
   {
    "duration": 4,
    "start_time": "2023-03-08T17:47:23.004Z"
   },
   {
    "duration": 11,
    "start_time": "2023-03-08T17:47:59.202Z"
   },
   {
    "duration": 26,
    "start_time": "2023-03-08T17:48:05.706Z"
   },
   {
    "duration": 144,
    "start_time": "2023-03-08T17:54:26.902Z"
   },
   {
    "duration": 78,
    "start_time": "2023-03-08T17:54:51.301Z"
   },
   {
    "duration": 21,
    "start_time": "2023-03-08T17:55:17.829Z"
   },
   {
    "duration": 21,
    "start_time": "2023-03-08T17:56:39.149Z"
   },
   {
    "duration": 23,
    "start_time": "2023-03-08T17:56:49.456Z"
   },
   {
    "duration": 20,
    "start_time": "2023-03-08T17:58:16.800Z"
   },
   {
    "duration": 46,
    "start_time": "2023-03-08T17:59:26.307Z"
   },
   {
    "duration": 83,
    "start_time": "2023-03-08T19:03:11.484Z"
   },
   {
    "duration": 3,
    "start_time": "2023-03-08T19:05:05.319Z"
   },
   {
    "duration": 3,
    "start_time": "2023-03-08T19:05:06.794Z"
   },
   {
    "duration": 18,
    "start_time": "2023-03-08T19:05:08.451Z"
   },
   {
    "duration": 53,
    "start_time": "2023-03-08T19:05:09.789Z"
   },
   {
    "duration": 12,
    "start_time": "2023-03-08T19:05:12.304Z"
   },
   {
    "duration": 18,
    "start_time": "2023-03-08T19:05:34.074Z"
   },
   {
    "duration": 55,
    "start_time": "2023-03-08T19:05:34.515Z"
   },
   {
    "duration": 15,
    "start_time": "2023-03-08T19:05:35.533Z"
   },
   {
    "duration": 7719,
    "start_time": "2023-03-08T19:05:36.803Z"
   },
   {
    "duration": 87,
    "start_time": "2023-03-08T19:07:55.156Z"
   },
   {
    "duration": 4,
    "start_time": "2023-03-08T19:08:13.105Z"
   },
   {
    "duration": 8,
    "start_time": "2023-03-08T19:08:14.352Z"
   },
   {
    "duration": 23504,
    "start_time": "2023-03-08T19:09:01.815Z"
   },
   {
    "duration": 5,
    "start_time": "2023-03-08T19:09:31.309Z"
   },
   {
    "duration": 369,
    "start_time": "2023-03-08T19:09:33.948Z"
   },
   {
    "duration": 3,
    "start_time": "2023-03-08T19:11:02.195Z"
   },
   {
    "duration": 12,
    "start_time": "2023-03-08T19:11:23.908Z"
   },
   {
    "duration": 3,
    "start_time": "2023-03-08T19:11:30.687Z"
   },
   {
    "duration": 12,
    "start_time": "2023-03-08T19:11:34.188Z"
   },
   {
    "duration": 208,
    "start_time": "2023-03-08T19:11:51.288Z"
   },
   {
    "duration": 898734,
    "start_time": "2023-03-08T19:12:10.100Z"
   },
   {
    "duration": 192,
    "start_time": "2023-03-08T19:27:08.835Z"
   },
   {
    "duration": 55842,
    "start_time": "2023-03-08T19:27:13.480Z"
   },
   {
    "duration": 5,
    "start_time": "2023-03-08T19:28:09.325Z"
   },
   {
    "duration": 164,
    "start_time": "2023-03-08T19:28:57.452Z"
   },
   {
    "duration": 3,
    "start_time": "2023-03-08T19:28:59.980Z"
   },
   {
    "duration": 11,
    "start_time": "2023-03-08T19:29:03.225Z"
   },
   {
    "duration": 199472,
    "start_time": "2023-03-08T19:30:14.063Z"
   },
   {
    "duration": 5,
    "start_time": "2023-03-08T19:33:45.379Z"
   },
   {
    "duration": 407,
    "start_time": "2023-03-08T19:33:46.405Z"
   },
   {
    "duration": 4,
    "start_time": "2023-03-08T19:33:49.581Z"
   },
   {
    "duration": 10,
    "start_time": "2023-03-08T19:33:52.312Z"
   },
   {
    "duration": 2,
    "start_time": "2023-03-08T21:41:21.392Z"
   },
   {
    "duration": 1912,
    "start_time": "2023-03-08T21:41:35.395Z"
   },
   {
    "duration": 1377,
    "start_time": "2023-03-08T21:41:37.309Z"
   },
   {
    "duration": 791,
    "start_time": "2023-03-08T21:41:38.688Z"
   },
   {
    "duration": 3,
    "start_time": "2023-03-08T21:41:39.481Z"
   },
   {
    "duration": 456,
    "start_time": "2023-03-08T21:41:39.486Z"
   },
   {
    "duration": 922,
    "start_time": "2023-03-08T21:41:39.943Z"
   },
   {
    "duration": 109,
    "start_time": "2023-03-08T21:41:40.866Z"
   },
   {
    "duration": 162,
    "start_time": "2023-03-08T21:41:40.976Z"
   },
   {
    "duration": 116,
    "start_time": "2023-03-08T21:41:41.140Z"
   },
   {
    "duration": 102,
    "start_time": "2023-03-08T21:41:41.260Z"
   },
   {
    "duration": 82,
    "start_time": "2023-03-08T21:41:41.363Z"
   },
   {
    "duration": 598,
    "start_time": "2023-03-08T21:41:41.446Z"
   },
   {
    "duration": 1181,
    "start_time": "2023-03-08T21:41:42.045Z"
   },
   {
    "duration": 94,
    "start_time": "2023-03-08T21:41:43.228Z"
   },
   {
    "duration": 234,
    "start_time": "2023-03-08T21:41:43.324Z"
   },
   {
    "duration": 147,
    "start_time": "2023-03-08T21:41:43.560Z"
   },
   {
    "duration": 0,
    "start_time": "2023-03-08T21:41:43.709Z"
   },
   {
    "duration": 0,
    "start_time": "2023-03-08T21:41:43.710Z"
   },
   {
    "duration": 0,
    "start_time": "2023-03-08T21:41:43.711Z"
   },
   {
    "duration": 0,
    "start_time": "2023-03-08T21:41:43.712Z"
   },
   {
    "duration": 0,
    "start_time": "2023-03-08T21:41:43.714Z"
   },
   {
    "duration": 0,
    "start_time": "2023-03-08T21:41:43.715Z"
   },
   {
    "duration": 0,
    "start_time": "2023-03-08T21:41:43.716Z"
   },
   {
    "duration": 1,
    "start_time": "2023-03-08T21:41:43.717Z"
   },
   {
    "duration": 0,
    "start_time": "2023-03-08T21:41:43.719Z"
   },
   {
    "duration": 0,
    "start_time": "2023-03-08T21:41:43.721Z"
   },
   {
    "duration": 0,
    "start_time": "2023-03-08T21:41:43.722Z"
   },
   {
    "duration": 0,
    "start_time": "2023-03-08T21:41:43.723Z"
   },
   {
    "duration": 0,
    "start_time": "2023-03-08T21:41:43.725Z"
   },
   {
    "duration": 0,
    "start_time": "2023-03-08T21:41:43.727Z"
   },
   {
    "duration": 0,
    "start_time": "2023-03-08T21:41:43.728Z"
   },
   {
    "duration": 0,
    "start_time": "2023-03-08T21:41:43.729Z"
   },
   {
    "duration": 0,
    "start_time": "2023-03-08T21:41:43.730Z"
   },
   {
    "duration": 0,
    "start_time": "2023-03-08T21:41:43.731Z"
   },
   {
    "duration": 0,
    "start_time": "2023-03-08T21:41:43.732Z"
   },
   {
    "duration": 0,
    "start_time": "2023-03-08T21:41:43.733Z"
   },
   {
    "duration": 0,
    "start_time": "2023-03-08T21:41:43.734Z"
   },
   {
    "duration": 0,
    "start_time": "2023-03-08T21:41:43.735Z"
   },
   {
    "duration": 0,
    "start_time": "2023-03-08T21:41:43.736Z"
   },
   {
    "duration": 0,
    "start_time": "2023-03-08T21:41:43.737Z"
   },
   {
    "duration": 0,
    "start_time": "2023-03-08T21:41:43.738Z"
   },
   {
    "duration": 0,
    "start_time": "2023-03-08T21:41:43.739Z"
   },
   {
    "duration": 0,
    "start_time": "2023-03-08T21:41:43.739Z"
   },
   {
    "duration": 0,
    "start_time": "2023-03-08T21:41:43.741Z"
   },
   {
    "duration": 0,
    "start_time": "2023-03-08T21:41:43.742Z"
   },
   {
    "duration": 0,
    "start_time": "2023-03-08T21:41:43.742Z"
   },
   {
    "duration": 0,
    "start_time": "2023-03-08T21:41:43.744Z"
   },
   {
    "duration": 0,
    "start_time": "2023-03-08T21:41:43.744Z"
   },
   {
    "duration": 62,
    "start_time": "2023-03-08T21:43:47.440Z"
   },
   {
    "duration": 5,
    "start_time": "2023-03-08T21:43:54.483Z"
   },
   {
    "duration": 22,
    "start_time": "2023-03-08T21:44:00.817Z"
   },
   {
    "duration": 135,
    "start_time": "2023-03-08T21:44:02.759Z"
   },
   {
    "duration": 259,
    "start_time": "2023-03-08T21:44:21.753Z"
   },
   {
    "duration": 4,
    "start_time": "2023-03-08T21:44:22.895Z"
   },
   {
    "duration": 12,
    "start_time": "2023-03-08T21:44:29.443Z"
   },
   {
    "duration": 10,
    "start_time": "2023-03-08T21:44:56.588Z"
   },
   {
    "duration": 27,
    "start_time": "2023-03-08T21:44:57.665Z"
   },
   {
    "duration": 27,
    "start_time": "2023-03-08T21:45:01.521Z"
   },
   {
    "duration": 27,
    "start_time": "2023-03-08T21:45:07.471Z"
   },
   {
    "duration": 30,
    "start_time": "2023-03-08T21:45:09.525Z"
   },
   {
    "duration": 34,
    "start_time": "2023-03-08T21:45:11.265Z"
   },
   {
    "duration": 42,
    "start_time": "2023-03-08T21:45:13.725Z"
   },
   {
    "duration": 32,
    "start_time": "2023-03-08T21:45:15.817Z"
   },
   {
    "duration": 35,
    "start_time": "2023-03-08T21:45:17.065Z"
   },
   {
    "duration": 33,
    "start_time": "2023-03-08T21:45:19.189Z"
   },
   {
    "duration": 33,
    "start_time": "2023-03-08T21:45:20.868Z"
   },
   {
    "duration": 2,
    "start_time": "2023-03-08T21:46:18.567Z"
   },
   {
    "duration": 4,
    "start_time": "2023-03-08T21:46:20.449Z"
   },
   {
    "duration": 17,
    "start_time": "2023-03-08T21:46:51.806Z"
   },
   {
    "duration": 61,
    "start_time": "2023-03-08T21:47:13.832Z"
   },
   {
    "duration": 17,
    "start_time": "2023-03-08T21:47:18.769Z"
   },
   {
    "duration": 7515,
    "start_time": "2023-03-08T21:47:33.672Z"
   },
   {
    "duration": 88,
    "start_time": "2023-03-08T21:48:30.371Z"
   },
   {
    "duration": 3,
    "start_time": "2023-03-08T21:48:39.895Z"
   },
   {
    "duration": 5,
    "start_time": "2023-03-08T21:48:46.859Z"
   },
   {
    "duration": 11,
    "start_time": "2023-03-08T21:48:48.570Z"
   },
   {
    "duration": 2877,
    "start_time": "2023-03-08T21:48:54.843Z"
   },
   {
    "duration": 4,
    "start_time": "2023-03-08T21:49:05.147Z"
   },
   {
    "duration": 354,
    "start_time": "2023-03-08T21:49:08.574Z"
   },
   {
    "duration": 3,
    "start_time": "2023-03-08T21:53:01.435Z"
   },
   {
    "duration": 16,
    "start_time": "2023-03-08T21:53:02.304Z"
   },
   {
    "duration": 54,
    "start_time": "2023-03-08T21:54:16.635Z"
   },
   {
    "duration": 50,
    "start_time": "2023-03-08T21:54:31.757Z"
   },
   {
    "duration": 7486,
    "start_time": "2023-03-08T21:55:01.525Z"
   },
   {
    "duration": 78,
    "start_time": "2023-03-08T21:55:20.717Z"
   },
   {
    "duration": 190512,
    "start_time": "2023-03-08T21:57:07.407Z"
   },
   {
    "duration": 721,
    "start_time": "2023-03-08T22:00:55.234Z"
   },
   {
    "duration": 3,
    "start_time": "2023-03-08T22:01:02.900Z"
   },
   {
    "duration": 3,
    "start_time": "2023-03-08T22:01:15.248Z"
   },
   {
    "duration": 3,
    "start_time": "2023-03-08T22:01:41.711Z"
   },
   {
    "duration": 7,
    "start_time": "2023-03-08T22:01:47.914Z"
   },
   {
    "duration": 2524,
    "start_time": "2023-03-08T22:03:45.494Z"
   },
   {
    "duration": 4,
    "start_time": "2023-03-08T22:03:56.357Z"
   },
   {
    "duration": 77,
    "start_time": "2023-03-08T22:05:03.823Z"
   },
   {
    "duration": 126,
    "start_time": "2023-03-08T22:05:40.736Z"
   },
   {
    "duration": 3,
    "start_time": "2023-03-08T22:06:46.662Z"
   },
   {
    "duration": 83,
    "start_time": "2023-03-08T22:06:47.573Z"
   },
   {
    "duration": 103,
    "start_time": "2023-03-08T22:06:54.481Z"
   },
   {
    "duration": 336,
    "start_time": "2023-03-08T22:07:14.578Z"
   },
   {
    "duration": 173,
    "start_time": "2023-03-08T22:08:27.381Z"
   },
   {
    "duration": 11,
    "start_time": "2023-03-08T22:09:23.137Z"
   },
   {
    "duration": 10,
    "start_time": "2023-03-08T22:09:44.482Z"
   },
   {
    "duration": 180,
    "start_time": "2023-03-08T22:09:50.827Z"
   },
   {
    "duration": 9,
    "start_time": "2023-03-08T22:16:10.493Z"
   },
   {
    "duration": 9,
    "start_time": "2023-03-08T22:16:14.871Z"
   },
   {
    "duration": 1872,
    "start_time": "2023-03-08T22:17:31.015Z"
   },
   {
    "duration": 1374,
    "start_time": "2023-03-08T22:17:32.889Z"
   },
   {
    "duration": 784,
    "start_time": "2023-03-08T22:17:34.265Z"
   },
   {
    "duration": 3,
    "start_time": "2023-03-08T22:17:35.052Z"
   },
   {
    "duration": 465,
    "start_time": "2023-03-08T22:17:35.057Z"
   },
   {
    "duration": 935,
    "start_time": "2023-03-08T22:17:35.523Z"
   },
   {
    "duration": 107,
    "start_time": "2023-03-08T22:17:36.459Z"
   },
   {
    "duration": 153,
    "start_time": "2023-03-08T22:17:36.568Z"
   },
   {
    "duration": 100,
    "start_time": "2023-03-08T22:17:36.723Z"
   },
   {
    "duration": 107,
    "start_time": "2023-03-08T22:17:36.826Z"
   },
   {
    "duration": 86,
    "start_time": "2023-03-08T22:17:36.935Z"
   },
   {
    "duration": 603,
    "start_time": "2023-03-08T22:17:37.022Z"
   },
   {
    "duration": 1134,
    "start_time": "2023-03-08T22:17:37.627Z"
   },
   {
    "duration": 98,
    "start_time": "2023-03-08T22:17:38.763Z"
   },
   {
    "duration": 175,
    "start_time": "2023-03-08T22:17:38.862Z"
   },
   {
    "duration": 48,
    "start_time": "2023-03-08T22:17:39.038Z"
   },
   {
    "duration": 4,
    "start_time": "2023-03-08T22:17:39.088Z"
   },
   {
    "duration": 40,
    "start_time": "2023-03-08T22:17:39.093Z"
   },
   {
    "duration": 142,
    "start_time": "2023-03-08T22:17:39.134Z"
   },
   {
    "duration": 254,
    "start_time": "2023-03-08T22:17:39.278Z"
   },
   {
    "duration": 4,
    "start_time": "2023-03-08T22:17:39.533Z"
   },
   {
    "duration": 13,
    "start_time": "2023-03-08T22:17:39.538Z"
   },
   {
    "duration": 29,
    "start_time": "2023-03-08T22:17:39.553Z"
   },
   {
    "duration": 43,
    "start_time": "2023-03-08T22:17:39.584Z"
   },
   {
    "duration": 20,
    "start_time": "2023-03-08T22:17:39.629Z"
   },
   {
    "duration": 21,
    "start_time": "2023-03-08T22:17:39.651Z"
   },
   {
    "duration": 71,
    "start_time": "2023-03-08T22:17:39.673Z"
   },
   {
    "duration": 42,
    "start_time": "2023-03-08T22:17:39.747Z"
   },
   {
    "duration": 30,
    "start_time": "2023-03-08T22:17:39.790Z"
   },
   {
    "duration": 33,
    "start_time": "2023-03-08T22:17:39.822Z"
   },
   {
    "duration": 30,
    "start_time": "2023-03-08T22:17:39.856Z"
   },
   {
    "duration": 47,
    "start_time": "2023-03-08T22:17:39.888Z"
   },
   {
    "duration": 2,
    "start_time": "2023-03-08T22:17:39.936Z"
   },
   {
    "duration": 18,
    "start_time": "2023-03-08T22:17:39.940Z"
   },
   {
    "duration": 73,
    "start_time": "2023-03-08T22:17:39.960Z"
   },
   {
    "duration": 15,
    "start_time": "2023-03-08T22:17:40.035Z"
   },
   {
    "duration": 191167,
    "start_time": "2023-03-08T22:17:40.052Z"
   },
   {
    "duration": 742,
    "start_time": "2023-03-08T22:20:51.221Z"
   },
   {
    "duration": 3,
    "start_time": "2023-03-08T22:20:51.965Z"
   },
   {
    "duration": 9,
    "start_time": "2023-03-08T22:20:51.970Z"
   },
   {
    "duration": 287,
    "start_time": "2023-03-08T22:20:51.981Z"
   },
   {
    "duration": 4,
    "start_time": "2023-03-08T22:20:52.270Z"
   },
   {
    "duration": 130,
    "start_time": "2023-03-08T22:20:52.275Z"
   },
   {
    "duration": 9,
    "start_time": "2023-03-08T22:20:52.406Z"
   },
   {
    "duration": 0,
    "start_time": "2023-03-08T22:20:52.417Z"
   },
   {
    "duration": 0,
    "start_time": "2023-03-08T22:20:52.417Z"
   },
   {
    "duration": 0,
    "start_time": "2023-03-08T22:20:52.418Z"
   },
   {
    "duration": 117,
    "start_time": "2023-03-08T22:33:21.423Z"
   },
   {
    "duration": 2611,
    "start_time": "2023-03-08T22:33:41.012Z"
   },
   {
    "duration": 4,
    "start_time": "2023-03-08T22:36:29.091Z"
   },
   {
    "duration": 340,
    "start_time": "2023-03-08T22:36:30.474Z"
   },
   {
    "duration": 162,
    "start_time": "2023-03-08T22:36:35.805Z"
   },
   {
    "duration": 160,
    "start_time": "2023-03-08T22:36:38.251Z"
   },
   {
    "duration": 3,
    "start_time": "2023-03-08T22:36:40.279Z"
   },
   {
    "duration": 3,
    "start_time": "2023-03-08T22:36:43.470Z"
   },
   {
    "duration": 3,
    "start_time": "2023-03-08T22:45:13.170Z"
   },
   {
    "duration": 4,
    "start_time": "2023-03-08T22:45:23.422Z"
   },
   {
    "duration": 2628,
    "start_time": "2023-03-08T22:46:38.269Z"
   },
   {
    "duration": 1340,
    "start_time": "2023-03-08T22:46:40.899Z"
   },
   {
    "duration": 771,
    "start_time": "2023-03-08T22:46:42.241Z"
   },
   {
    "duration": 3,
    "start_time": "2023-03-08T22:46:43.014Z"
   },
   {
    "duration": 443,
    "start_time": "2023-03-08T22:46:43.019Z"
   },
   {
    "duration": 901,
    "start_time": "2023-03-08T22:46:43.463Z"
   },
   {
    "duration": 103,
    "start_time": "2023-03-08T22:46:44.366Z"
   },
   {
    "duration": 156,
    "start_time": "2023-03-08T22:46:44.470Z"
   },
   {
    "duration": 103,
    "start_time": "2023-03-08T22:46:44.628Z"
   },
   {
    "duration": 109,
    "start_time": "2023-03-08T22:46:44.733Z"
   },
   {
    "duration": 88,
    "start_time": "2023-03-08T22:46:44.844Z"
   },
   {
    "duration": 607,
    "start_time": "2023-03-08T22:46:44.934Z"
   },
   {
    "duration": 1120,
    "start_time": "2023-03-08T22:46:45.544Z"
   },
   {
    "duration": 103,
    "start_time": "2023-03-08T22:46:46.668Z"
   },
   {
    "duration": 186,
    "start_time": "2023-03-08T22:46:46.773Z"
   },
   {
    "duration": 55,
    "start_time": "2023-03-08T22:46:46.961Z"
   },
   {
    "duration": 5,
    "start_time": "2023-03-08T22:46:47.018Z"
   },
   {
    "duration": 28,
    "start_time": "2023-03-08T22:46:47.025Z"
   },
   {
    "duration": 157,
    "start_time": "2023-03-08T22:46:47.055Z"
   },
   {
    "duration": 253,
    "start_time": "2023-03-08T22:46:47.213Z"
   },
   {
    "duration": 3,
    "start_time": "2023-03-08T22:46:47.468Z"
   },
   {
    "duration": 13,
    "start_time": "2023-03-08T22:46:47.473Z"
   },
   {
    "duration": 43,
    "start_time": "2023-03-08T22:46:47.487Z"
   },
   {
    "duration": 25,
    "start_time": "2023-03-08T22:46:47.532Z"
   },
   {
    "duration": 19,
    "start_time": "2023-03-08T22:46:47.558Z"
   },
   {
    "duration": 41,
    "start_time": "2023-03-08T22:46:47.579Z"
   },
   {
    "duration": 22,
    "start_time": "2023-03-08T22:46:47.622Z"
   },
   {
    "duration": 38,
    "start_time": "2023-03-08T22:46:47.646Z"
   },
   {
    "duration": 52,
    "start_time": "2023-03-08T22:46:47.686Z"
   },
   {
    "duration": 36,
    "start_time": "2023-03-08T22:46:47.739Z"
   },
   {
    "duration": 50,
    "start_time": "2023-03-08T22:46:47.776Z"
   },
   {
    "duration": 29,
    "start_time": "2023-03-08T22:46:47.827Z"
   },
   {
    "duration": 3,
    "start_time": "2023-03-08T22:46:47.857Z"
   },
   {
    "duration": 21,
    "start_time": "2023-03-08T22:46:47.862Z"
   },
   {
    "duration": 72,
    "start_time": "2023-03-08T22:46:47.885Z"
   },
   {
    "duration": 15,
    "start_time": "2023-03-08T22:46:47.959Z"
   },
   {
    "duration": 63539,
    "start_time": "2023-03-08T22:46:47.976Z"
   },
   {
    "duration": 265,
    "start_time": "2023-03-08T22:47:51.517Z"
   },
   {
    "duration": 4,
    "start_time": "2023-03-08T22:47:51.784Z"
   },
   {
    "duration": 22,
    "start_time": "2023-03-08T22:47:51.789Z"
   },
   {
    "duration": 2701,
    "start_time": "2023-03-08T22:47:51.815Z"
   },
   {
    "duration": 4,
    "start_time": "2023-03-08T22:47:54.518Z"
   },
   {
    "duration": 399,
    "start_time": "2023-03-08T22:47:54.523Z"
   },
   {
    "duration": 197,
    "start_time": "2023-03-08T22:47:54.924Z"
   },
   {
    "duration": 160,
    "start_time": "2023-03-08T22:47:55.123Z"
   },
   {
    "duration": 3,
    "start_time": "2023-03-08T22:47:55.285Z"
   },
   {
    "duration": 7,
    "start_time": "2023-03-08T22:47:55.290Z"
   },
   {
    "duration": 1955,
    "start_time": "2023-03-08T22:51:18.211Z"
   },
   {
    "duration": 1342,
    "start_time": "2023-03-08T22:51:20.168Z"
   },
   {
    "duration": 790,
    "start_time": "2023-03-08T22:51:21.512Z"
   },
   {
    "duration": 8,
    "start_time": "2023-03-08T22:51:22.304Z"
   },
   {
    "duration": 445,
    "start_time": "2023-03-08T22:51:22.314Z"
   },
   {
    "duration": 903,
    "start_time": "2023-03-08T22:51:22.761Z"
   },
   {
    "duration": 107,
    "start_time": "2023-03-08T22:51:23.666Z"
   },
   {
    "duration": 150,
    "start_time": "2023-03-08T22:51:23.774Z"
   },
   {
    "duration": 106,
    "start_time": "2023-03-08T22:51:23.926Z"
   },
   {
    "duration": 134,
    "start_time": "2023-03-08T22:51:24.034Z"
   },
   {
    "duration": 85,
    "start_time": "2023-03-08T22:51:24.170Z"
   },
   {
    "duration": 590,
    "start_time": "2023-03-08T22:51:24.257Z"
   },
   {
    "duration": 1162,
    "start_time": "2023-03-08T22:51:24.850Z"
   },
   {
    "duration": 99,
    "start_time": "2023-03-08T22:51:26.015Z"
   },
   {
    "duration": 180,
    "start_time": "2023-03-08T22:51:26.116Z"
   },
   {
    "duration": 61,
    "start_time": "2023-03-08T22:51:26.298Z"
   },
   {
    "duration": 4,
    "start_time": "2023-03-08T22:51:26.361Z"
   },
   {
    "duration": 46,
    "start_time": "2023-03-08T22:51:26.367Z"
   },
   {
    "duration": 161,
    "start_time": "2023-03-08T22:51:26.415Z"
   },
   {
    "duration": 261,
    "start_time": "2023-03-08T22:51:26.577Z"
   },
   {
    "duration": 4,
    "start_time": "2023-03-08T22:51:26.839Z"
   },
   {
    "duration": 13,
    "start_time": "2023-03-08T22:51:26.845Z"
   },
   {
    "duration": 27,
    "start_time": "2023-03-08T22:51:26.859Z"
   },
   {
    "duration": 46,
    "start_time": "2023-03-08T22:51:26.887Z"
   },
   {
    "duration": 21,
    "start_time": "2023-03-08T22:51:26.934Z"
   },
   {
    "duration": 23,
    "start_time": "2023-03-08T22:51:26.957Z"
   },
   {
    "duration": 40,
    "start_time": "2023-03-08T22:51:26.981Z"
   },
   {
    "duration": 39,
    "start_time": "2023-03-08T22:51:27.022Z"
   },
   {
    "duration": 28,
    "start_time": "2023-03-08T22:51:27.063Z"
   },
   {
    "duration": 35,
    "start_time": "2023-03-08T22:51:27.111Z"
   },
   {
    "duration": 30,
    "start_time": "2023-03-08T22:51:27.147Z"
   },
   {
    "duration": 50,
    "start_time": "2023-03-08T22:51:27.179Z"
   },
   {
    "duration": 3,
    "start_time": "2023-03-08T22:51:27.230Z"
   },
   {
    "duration": 19,
    "start_time": "2023-03-08T22:51:27.234Z"
   },
   {
    "duration": 67,
    "start_time": "2023-03-08T22:51:27.255Z"
   },
   {
    "duration": 15,
    "start_time": "2023-03-08T22:51:27.324Z"
   },
   {
    "duration": 4680,
    "start_time": "2023-03-08T22:51:27.341Z"
   },
   {
    "duration": 77,
    "start_time": "2023-03-08T22:51:32.023Z"
   },
   {
    "duration": 11,
    "start_time": "2023-03-08T22:51:32.101Z"
   },
   {
    "duration": 12,
    "start_time": "2023-03-08T22:51:32.114Z"
   },
   {
    "duration": 2688,
    "start_time": "2023-03-08T22:51:32.129Z"
   },
   {
    "duration": 4,
    "start_time": "2023-03-08T22:51:34.818Z"
   },
   {
    "duration": 395,
    "start_time": "2023-03-08T22:51:34.824Z"
   },
   {
    "duration": 204,
    "start_time": "2023-03-08T22:51:35.221Z"
   },
   {
    "duration": 176,
    "start_time": "2023-03-08T22:51:35.427Z"
   },
   {
    "duration": 3,
    "start_time": "2023-03-08T22:51:35.604Z"
   },
   {
    "duration": 40,
    "start_time": "2023-03-08T22:51:35.612Z"
   },
   {
    "duration": 1907,
    "start_time": "2023-03-08T23:12:30.352Z"
   },
   {
    "duration": 1294,
    "start_time": "2023-03-08T23:12:32.262Z"
   },
   {
    "duration": 824,
    "start_time": "2023-03-08T23:12:33.559Z"
   },
   {
    "duration": 3,
    "start_time": "2023-03-08T23:12:34.385Z"
   },
   {
    "duration": 475,
    "start_time": "2023-03-08T23:12:34.389Z"
   },
   {
    "duration": 980,
    "start_time": "2023-03-08T23:12:34.865Z"
   },
   {
    "duration": 102,
    "start_time": "2023-03-08T23:12:35.847Z"
   },
   {
    "duration": 162,
    "start_time": "2023-03-08T23:12:35.951Z"
   },
   {
    "duration": 104,
    "start_time": "2023-03-08T23:12:36.114Z"
   },
   {
    "duration": 113,
    "start_time": "2023-03-08T23:12:36.220Z"
   },
   {
    "duration": 83,
    "start_time": "2023-03-08T23:12:36.335Z"
   },
   {
    "duration": 609,
    "start_time": "2023-03-08T23:12:36.419Z"
   },
   {
    "duration": 1118,
    "start_time": "2023-03-08T23:12:37.030Z"
   },
   {
    "duration": 91,
    "start_time": "2023-03-08T23:12:38.150Z"
   },
   {
    "duration": 182,
    "start_time": "2023-03-08T23:12:38.243Z"
   },
   {
    "duration": 47,
    "start_time": "2023-03-08T23:12:38.427Z"
   },
   {
    "duration": 3,
    "start_time": "2023-03-08T23:12:38.476Z"
   },
   {
    "duration": 44,
    "start_time": "2023-03-08T23:12:38.481Z"
   },
   {
    "duration": 155,
    "start_time": "2023-03-08T23:12:38.526Z"
   },
   {
    "duration": 254,
    "start_time": "2023-03-08T23:12:38.682Z"
   },
   {
    "duration": 4,
    "start_time": "2023-03-08T23:12:38.937Z"
   },
   {
    "duration": 12,
    "start_time": "2023-03-08T23:12:38.943Z"
   },
   {
    "duration": 26,
    "start_time": "2023-03-08T23:12:38.956Z"
   },
   {
    "duration": 46,
    "start_time": "2023-03-08T23:12:38.984Z"
   },
   {
    "duration": 21,
    "start_time": "2023-03-08T23:12:39.032Z"
   },
   {
    "duration": 23,
    "start_time": "2023-03-08T23:12:39.054Z"
   },
   {
    "duration": 41,
    "start_time": "2023-03-08T23:12:39.079Z"
   },
   {
    "duration": 40,
    "start_time": "2023-03-08T23:12:39.123Z"
   },
   {
    "duration": 50,
    "start_time": "2023-03-08T23:12:39.164Z"
   },
   {
    "duration": 34,
    "start_time": "2023-03-08T23:12:39.216Z"
   },
   {
    "duration": 31,
    "start_time": "2023-03-08T23:12:39.251Z"
   },
   {
    "duration": 46,
    "start_time": "2023-03-08T23:12:39.284Z"
   },
   {
    "duration": 3,
    "start_time": "2023-03-08T23:12:39.331Z"
   },
   {
    "duration": 23,
    "start_time": "2023-03-08T23:12:39.335Z"
   },
   {
    "duration": 80,
    "start_time": "2023-03-08T23:12:39.359Z"
   },
   {
    "duration": 16,
    "start_time": "2023-03-08T23:12:39.440Z"
   },
   {
    "duration": 4571,
    "start_time": "2023-03-08T23:12:39.457Z"
   },
   {
    "duration": 104,
    "start_time": "2023-03-08T23:12:44.030Z"
   },
   {
    "duration": 5,
    "start_time": "2023-03-08T23:12:44.136Z"
   },
   {
    "duration": 12,
    "start_time": "2023-03-08T23:12:44.143Z"
   },
   {
    "duration": 2566,
    "start_time": "2023-03-08T23:12:44.157Z"
   },
   {
    "duration": 90,
    "start_time": "2023-03-08T23:12:46.724Z"
   },
   {
    "duration": 313,
    "start_time": "2023-03-08T23:12:46.816Z"
   },
   {
    "duration": 231,
    "start_time": "2023-03-08T23:12:47.130Z"
   },
   {
    "duration": 174,
    "start_time": "2023-03-08T23:12:47.362Z"
   },
   {
    "duration": 4,
    "start_time": "2023-03-08T23:12:47.537Z"
   },
   {
    "duration": 6,
    "start_time": "2023-03-08T23:12:47.542Z"
   },
   {
    "duration": 6,
    "start_time": "2023-03-08T23:13:32.271Z"
   },
   {
    "duration": 4,
    "start_time": "2023-03-10T08:15:01.034Z"
   },
   {
    "duration": 1813,
    "start_time": "2023-03-12T08:50:56.503Z"
   },
   {
    "duration": 1211,
    "start_time": "2023-03-12T08:51:00.606Z"
   },
   {
    "duration": 4,
    "start_time": "2023-03-12T08:51:02.708Z"
   },
   {
    "duration": 524,
    "start_time": "2023-03-12T08:51:06.371Z"
   },
   {
    "duration": 1009,
    "start_time": "2023-03-12T08:51:07.604Z"
   },
   {
    "duration": 149,
    "start_time": "2023-03-12T08:51:11.503Z"
   },
   {
    "duration": 204,
    "start_time": "2023-03-12T08:51:15.348Z"
   },
   {
    "duration": 120,
    "start_time": "2023-03-12T08:51:17.705Z"
   },
   {
    "duration": 139,
    "start_time": "2023-03-12T08:51:19.112Z"
   },
   {
    "duration": 75,
    "start_time": "2023-03-12T08:51:22.002Z"
   },
   {
    "duration": 697,
    "start_time": "2023-03-12T08:51:23.307Z"
   },
   {
    "duration": 1314,
    "start_time": "2023-03-12T08:51:25.313Z"
   },
   {
    "duration": 94,
    "start_time": "2023-03-12T08:51:28.766Z"
   },
   {
    "duration": 182,
    "start_time": "2023-03-12T08:51:31.919Z"
   },
   {
    "duration": 4,
    "start_time": "2023-03-12T08:51:46.814Z"
   },
   {
    "duration": 48,
    "start_time": "2023-03-12T08:51:54.303Z"
   },
   {
    "duration": 5,
    "start_time": "2023-03-12T08:51:56.603Z"
   },
   {
    "duration": 29,
    "start_time": "2023-03-12T08:52:00.168Z"
   },
   {
    "duration": 162,
    "start_time": "2023-03-12T08:52:03.283Z"
   },
   {
    "duration": 4,
    "start_time": "2023-03-12T08:52:31.040Z"
   },
   {
    "duration": 212,
    "start_time": "2023-03-12T08:53:46.307Z"
   },
   {
    "duration": 5,
    "start_time": "2023-03-12T08:53:47.301Z"
   },
   {
    "duration": 3,
    "start_time": "2023-03-12T08:53:50.066Z"
   },
   {
    "duration": 49,
    "start_time": "2023-03-12T08:53:52.024Z"
   },
   {
    "duration": 4,
    "start_time": "2023-03-12T08:53:52.703Z"
   },
   {
    "duration": 1716,
    "start_time": "2023-03-13T06:38:03.486Z"
   },
   {
    "duration": 14698,
    "start_time": "2023-03-13T06:39:01.701Z"
   },
   {
    "duration": 443,
    "start_time": "2023-03-13T06:39:28.098Z"
   },
   {
    "duration": 4,
    "start_time": "2023-03-13T06:39:49.302Z"
   },
   {
    "duration": 7,
    "start_time": "2023-03-13T06:39:49.308Z"
   },
   {
    "duration": 563,
    "start_time": "2023-03-13T06:39:49.317Z"
   },
   {
    "duration": 0,
    "start_time": "2023-03-13T06:39:49.883Z"
   },
   {
    "duration": 0,
    "start_time": "2023-03-13T06:39:49.884Z"
   },
   {
    "duration": 0,
    "start_time": "2023-03-13T06:39:49.886Z"
   },
   {
    "duration": 0,
    "start_time": "2023-03-13T06:39:49.887Z"
   },
   {
    "duration": 0,
    "start_time": "2023-03-13T06:39:49.888Z"
   },
   {
    "duration": 0,
    "start_time": "2023-03-13T06:39:49.890Z"
   },
   {
    "duration": 0,
    "start_time": "2023-03-13T06:39:49.891Z"
   },
   {
    "duration": 0,
    "start_time": "2023-03-13T06:39:49.892Z"
   },
   {
    "duration": 0,
    "start_time": "2023-03-13T06:39:49.894Z"
   },
   {
    "duration": 0,
    "start_time": "2023-03-13T06:39:49.895Z"
   },
   {
    "duration": 0,
    "start_time": "2023-03-13T06:39:49.896Z"
   },
   {
    "duration": 0,
    "start_time": "2023-03-13T06:39:49.897Z"
   },
   {
    "duration": 0,
    "start_time": "2023-03-13T06:39:49.899Z"
   },
   {
    "duration": 0,
    "start_time": "2023-03-13T06:39:49.900Z"
   },
   {
    "duration": 0,
    "start_time": "2023-03-13T06:39:49.901Z"
   },
   {
    "duration": 0,
    "start_time": "2023-03-13T06:39:49.903Z"
   },
   {
    "duration": 0,
    "start_time": "2023-03-13T06:39:49.904Z"
   },
   {
    "duration": 0,
    "start_time": "2023-03-13T06:39:49.905Z"
   },
   {
    "duration": 0,
    "start_time": "2023-03-13T06:39:49.941Z"
   },
   {
    "duration": 0,
    "start_time": "2023-03-13T06:39:49.942Z"
   },
   {
    "duration": 0,
    "start_time": "2023-03-13T06:39:49.943Z"
   },
   {
    "duration": 0,
    "start_time": "2023-03-13T06:39:49.944Z"
   },
   {
    "duration": 0,
    "start_time": "2023-03-13T06:39:49.945Z"
   },
   {
    "duration": 0,
    "start_time": "2023-03-13T06:39:49.946Z"
   },
   {
    "duration": 0,
    "start_time": "2023-03-13T06:39:49.947Z"
   },
   {
    "duration": 0,
    "start_time": "2023-03-13T06:39:49.949Z"
   },
   {
    "duration": 0,
    "start_time": "2023-03-13T06:39:49.951Z"
   },
   {
    "duration": 1,
    "start_time": "2023-03-13T06:39:49.952Z"
   },
   {
    "duration": 0,
    "start_time": "2023-03-13T06:39:49.954Z"
   },
   {
    "duration": 0,
    "start_time": "2023-03-13T06:39:49.954Z"
   },
   {
    "duration": 0,
    "start_time": "2023-03-13T06:39:49.956Z"
   },
   {
    "duration": 0,
    "start_time": "2023-03-13T06:39:49.957Z"
   },
   {
    "duration": 0,
    "start_time": "2023-03-13T06:39:49.958Z"
   },
   {
    "duration": 0,
    "start_time": "2023-03-13T06:39:49.959Z"
   },
   {
    "duration": 0,
    "start_time": "2023-03-13T06:39:49.960Z"
   },
   {
    "duration": 0,
    "start_time": "2023-03-13T06:39:49.961Z"
   },
   {
    "duration": 0,
    "start_time": "2023-03-13T06:39:49.963Z"
   },
   {
    "duration": 0,
    "start_time": "2023-03-13T06:39:49.963Z"
   },
   {
    "duration": 0,
    "start_time": "2023-03-13T06:39:49.964Z"
   },
   {
    "duration": 0,
    "start_time": "2023-03-13T06:39:49.966Z"
   },
   {
    "duration": 0,
    "start_time": "2023-03-13T06:39:49.967Z"
   },
   {
    "duration": 0,
    "start_time": "2023-03-13T06:39:49.968Z"
   },
   {
    "duration": 0,
    "start_time": "2023-03-13T06:39:49.969Z"
   },
   {
    "duration": 0,
    "start_time": "2023-03-13T06:39:49.970Z"
   },
   {
    "duration": 0,
    "start_time": "2023-03-13T06:39:49.971Z"
   },
   {
    "duration": 0,
    "start_time": "2023-03-13T06:39:49.972Z"
   },
   {
    "duration": 0,
    "start_time": "2023-03-13T06:39:49.973Z"
   },
   {
    "duration": 0,
    "start_time": "2023-03-13T06:39:49.975Z"
   },
   {
    "duration": 2033,
    "start_time": "2023-03-13T06:40:16.183Z"
   },
   {
    "duration": 2977,
    "start_time": "2023-03-13T06:41:18.145Z"
   },
   {
    "duration": 39360,
    "start_time": "2023-03-13T06:41:31.100Z"
   },
   {
    "duration": 838,
    "start_time": "2023-03-13T08:40:28.643Z"
   },
   {
    "duration": 4,
    "start_time": "2023-03-13T08:40:29.483Z"
   },
   {
    "duration": 443,
    "start_time": "2023-03-13T08:40:31.568Z"
   },
   {
    "duration": 924,
    "start_time": "2023-03-13T08:40:33.032Z"
   },
   {
    "duration": 136,
    "start_time": "2023-03-13T08:40:38.217Z"
   },
   {
    "duration": 160,
    "start_time": "2023-03-13T08:40:39.887Z"
   },
   {
    "duration": 111,
    "start_time": "2023-03-13T08:40:41.108Z"
   },
   {
    "duration": 135,
    "start_time": "2023-03-13T08:40:41.659Z"
   },
   {
    "duration": 75,
    "start_time": "2023-03-13T08:40:43.352Z"
   },
   {
    "duration": 948,
    "start_time": "2023-03-13T08:40:43.835Z"
   },
   {
    "duration": 1144,
    "start_time": "2023-03-13T08:40:45.495Z"
   },
   {
    "duration": 110,
    "start_time": "2023-03-13T08:40:46.641Z"
   },
   {
    "duration": 185,
    "start_time": "2023-03-13T08:40:48.701Z"
   },
   {
    "duration": 4,
    "start_time": "2023-03-13T08:40:49.504Z"
   },
   {
    "duration": 48,
    "start_time": "2023-03-13T08:40:50.592Z"
   },
   {
    "duration": 4,
    "start_time": "2023-03-13T08:40:51.242Z"
   },
   {
    "duration": 4,
    "start_time": "2023-03-13T08:40:52.524Z"
   },
   {
    "duration": 26,
    "start_time": "2023-03-13T08:40:54.285Z"
   },
   {
    "duration": 149,
    "start_time": "2023-03-13T08:40:55.441Z"
   },
   {
    "duration": 280,
    "start_time": "2023-03-13T08:40:56.565Z"
   },
   {
    "duration": 4,
    "start_time": "2023-03-13T08:40:58.490Z"
   },
   {
    "duration": 11,
    "start_time": "2023-03-13T08:40:58.821Z"
   },
   {
    "duration": 35,
    "start_time": "2023-03-13T08:40:59.835Z"
   },
   {
    "duration": 23,
    "start_time": "2023-03-13T08:41:01.217Z"
   },
   {
    "duration": 24,
    "start_time": "2023-03-13T08:41:02.013Z"
   },
   {
    "duration": 23,
    "start_time": "2023-03-13T08:41:02.773Z"
   },
   {
    "duration": 22,
    "start_time": "2023-03-13T08:41:03.523Z"
   },
   {
    "duration": 56,
    "start_time": "2023-03-13T08:41:04.955Z"
   },
   {
    "duration": 48,
    "start_time": "2023-03-13T08:41:06.441Z"
   },
   {
    "duration": 42,
    "start_time": "2023-03-13T08:41:07.400Z"
   },
   {
    "duration": 33,
    "start_time": "2023-03-13T08:41:08.542Z"
   },
   {
    "duration": 34,
    "start_time": "2023-03-13T08:41:10.024Z"
   },
   {
    "duration": 4,
    "start_time": "2023-03-13T08:41:16.287Z"
   },
   {
    "duration": 16,
    "start_time": "2023-03-13T08:41:21.664Z"
   },
   {
    "duration": 146,
    "start_time": "2023-03-13T09:09:41.599Z"
   },
   {
    "duration": 3,
    "start_time": "2023-03-13T09:48:43.273Z"
   },
   {
    "duration": 3,
    "start_time": "2023-03-13T09:49:10.634Z"
   },
   {
    "duration": 3,
    "start_time": "2023-03-13T09:49:55.116Z"
   },
   {
    "duration": 25,
    "start_time": "2023-03-13T09:49:55.619Z"
   },
   {
    "duration": 54,
    "start_time": "2023-03-13T09:49:56.874Z"
   },
   {
    "duration": 20,
    "start_time": "2023-03-13T09:50:00.832Z"
   },
   {
    "duration": 4,
    "start_time": "2023-03-13T09:51:28.873Z"
   },
   {
    "duration": 4,
    "start_time": "2023-03-13T09:51:33.870Z"
   },
   {
    "duration": 4,
    "start_time": "2023-03-13T09:51:42.404Z"
   },
   {
    "duration": 4,
    "start_time": "2023-03-13T09:52:51.649Z"
   },
   {
    "duration": 3,
    "start_time": "2023-03-13T09:54:40.430Z"
   },
   {
    "duration": 75,
    "start_time": "2023-03-13T09:54:40.863Z"
   },
   {
    "duration": 14,
    "start_time": "2023-03-13T09:54:58.560Z"
   },
   {
    "duration": 33,
    "start_time": "2023-03-13T09:55:06.132Z"
   },
   {
    "duration": 39,
    "start_time": "2023-03-13T09:55:44.914Z"
   },
   {
    "duration": 32,
    "start_time": "2023-03-13T09:56:21.108Z"
   },
   {
    "duration": 38,
    "start_time": "2023-03-13T09:56:24.412Z"
   },
   {
    "duration": 3,
    "start_time": "2023-03-13T09:56:26.874Z"
   },
   {
    "duration": 4,
    "start_time": "2023-03-13T09:56:31.640Z"
   },
   {
    "duration": 32,
    "start_time": "2023-03-13T09:56:34.737Z"
   },
   {
    "duration": 33,
    "start_time": "2023-03-13T09:57:13.237Z"
   },
   {
    "duration": 3,
    "start_time": "2023-03-13T09:57:39.459Z"
   },
   {
    "duration": 34,
    "start_time": "2023-03-13T09:57:41.051Z"
   },
   {
    "duration": 56,
    "start_time": "2023-03-13T09:57:56.747Z"
   },
   {
    "duration": 9,
    "start_time": "2023-03-13T09:58:17.358Z"
   },
   {
    "duration": 12,
    "start_time": "2023-03-13T09:58:28.478Z"
   },
   {
    "duration": 21,
    "start_time": "2023-03-13T09:58:34.576Z"
   },
   {
    "duration": 53,
    "start_time": "2023-03-13T09:59:20.897Z"
   },
   {
    "duration": 4,
    "start_time": "2023-03-13T09:59:38.098Z"
   },
   {
    "duration": 4,
    "start_time": "2023-03-13T09:59:38.305Z"
   },
   {
    "duration": 3,
    "start_time": "2023-03-13T09:59:38.951Z"
   },
   {
    "duration": 3,
    "start_time": "2023-03-13T10:00:02.075Z"
   },
   {
    "duration": 5065,
    "start_time": "2023-03-13T10:00:02.531Z"
   },
   {
    "duration": 3,
    "start_time": "2023-03-13T10:01:09.413Z"
   },
   {
    "duration": 156,
    "start_time": "2023-03-13T10:01:23.276Z"
   },
   {
    "duration": 4,
    "start_time": "2023-03-13T10:01:40.721Z"
   },
   {
    "duration": 13,
    "start_time": "2023-03-13T10:01:59.032Z"
   },
   {
    "duration": 2,
    "start_time": "2023-03-13T10:02:09.980Z"
   },
   {
    "duration": 752,
    "start_time": "2023-03-13T10:02:10.605Z"
   },
   {
    "duration": 3,
    "start_time": "2023-03-13T10:02:54.224Z"
   },
   {
    "duration": 3,
    "start_time": "2023-03-13T10:02:54.726Z"
   },
   {
    "duration": 12,
    "start_time": "2023-03-13T10:02:55.563Z"
   },
   {
    "duration": 117,
    "start_time": "2023-03-13T10:03:45.048Z"
   },
   {
    "duration": 12,
    "start_time": "2023-03-13T10:03:50.750Z"
   },
   {
    "duration": 12,
    "start_time": "2023-03-13T10:03:54.708Z"
   },
   {
    "duration": 3,
    "start_time": "2023-03-13T10:04:13.645Z"
   },
   {
    "duration": 2,
    "start_time": "2023-03-13T10:04:14.100Z"
   },
   {
    "duration": 685,
    "start_time": "2023-03-13T10:04:14.585Z"
   },
   {
    "duration": 730,
    "start_time": "2023-03-13T10:04:36.142Z"
   },
   {
    "duration": 3,
    "start_time": "2023-03-13T10:07:23.405Z"
   },
   {
    "duration": 3,
    "start_time": "2023-03-13T10:07:23.908Z"
   },
   {
    "duration": 507997,
    "start_time": "2023-03-13T10:07:24.491Z"
   },
   {
    "duration": 3,
    "start_time": "2023-03-13T10:16:04.967Z"
   },
   {
    "duration": 3,
    "start_time": "2023-03-13T10:16:05.579Z"
   },
   {
    "duration": 188827,
    "start_time": "2023-03-13T10:16:06.485Z"
   },
   {
    "duration": 3,
    "start_time": "2023-03-13T10:19:21.216Z"
   },
   {
    "duration": 3,
    "start_time": "2023-03-13T10:19:36.901Z"
   },
   {
    "duration": 1300,
    "start_time": "2023-03-13T10:19:39.357Z"
   },
   {
    "duration": 3,
    "start_time": "2023-03-13T10:20:17.821Z"
   },
   {
    "duration": 116819,
    "start_time": "2023-03-13T10:20:18.564Z"
   },
   {
    "duration": 6059,
    "start_time": "2023-03-13T10:22:31.994Z"
   },
   {
    "duration": 2,
    "start_time": "2023-03-13T10:22:38.337Z"
   },
   {
    "duration": 694726,
    "start_time": "2023-03-13T10:22:39.375Z"
   },
   {
    "duration": 13,
    "start_time": "2023-03-13T10:37:14.711Z"
   },
   {
    "duration": 10,
    "start_time": "2023-03-13T10:37:42.187Z"
   },
   {
    "duration": 9,
    "start_time": "2023-03-13T10:37:56.274Z"
   },
   {
    "duration": 5,
    "start_time": "2023-03-13T10:41:59.318Z"
   },
   {
    "duration": 6,
    "start_time": "2023-03-13T10:42:07.225Z"
   },
   {
    "duration": 3,
    "start_time": "2023-03-13T10:42:40.351Z"
   },
   {
    "duration": 2755,
    "start_time": "2023-03-13T10:42:57.297Z"
   },
   {
    "duration": 8710,
    "start_time": "2023-03-13T10:43:32.447Z"
   },
   {
    "duration": 3,
    "start_time": "2023-03-13T10:43:53.560Z"
   },
   {
    "duration": 168848,
    "start_time": "2023-03-13T10:43:54.918Z"
   },
   {
    "duration": 981,
    "start_time": "2023-03-13T10:47:48.824Z"
   },
   {
    "duration": 3,
    "start_time": "2023-03-13T10:48:13.654Z"
   },
   {
    "duration": 3,
    "start_time": "2023-03-13T10:53:30.503Z"
   },
   {
    "duration": 305,
    "start_time": "2023-03-13T11:32:44.038Z"
   },
   {
    "duration": 11,
    "start_time": "2023-03-13T11:34:43.000Z"
   },
   {
    "duration": 32,
    "start_time": "2023-03-13T11:34:57.804Z"
   },
   {
    "duration": 2,
    "start_time": "2023-03-13T11:34:59.548Z"
   },
   {
    "duration": 3,
    "start_time": "2023-03-13T11:41:30.578Z"
   },
   {
    "duration": 3,
    "start_time": "2023-03-13T11:42:34.654Z"
   },
   {
    "duration": 14,
    "start_time": "2023-03-13T11:43:05.543Z"
   },
   {
    "duration": 3,
    "start_time": "2023-03-13T11:43:34.664Z"
   },
   {
    "duration": 1502,
    "start_time": "2023-03-13T11:43:36.964Z"
   },
   {
    "duration": 5,
    "start_time": "2023-03-13T11:47:16.398Z"
   },
   {
    "duration": 499,
    "start_time": "2023-03-13T11:55:44.127Z"
   },
   {
    "duration": 174,
    "start_time": "2023-03-13T12:39:28.183Z"
   },
   {
    "duration": 235,
    "start_time": "2023-03-13T13:44:11.544Z"
   },
   {
    "duration": 183,
    "start_time": "2023-03-13T13:44:16.896Z"
   },
   {
    "duration": 16042,
    "start_time": "2023-03-13T13:44:53.427Z"
   },
   {
    "duration": 0,
    "start_time": "2023-03-13T13:45:09.473Z"
   },
   {
    "duration": 0,
    "start_time": "2023-03-13T13:45:09.476Z"
   },
   {
    "duration": 251,
    "start_time": "2023-03-13T13:45:25.744Z"
   },
   {
    "duration": 105,
    "start_time": "2023-03-13T13:45:27.865Z"
   },
   {
    "duration": 258,
    "start_time": "2023-03-13T13:45:28.793Z"
   },
   {
    "duration": 181,
    "start_time": "2023-03-13T13:45:29.561Z"
   },
   {
    "duration": 238,
    "start_time": "2023-03-13T13:45:30.334Z"
   },
   {
    "duration": 499751,
    "start_time": "2023-03-13T13:45:35.101Z"
   },
   {
    "duration": 135573,
    "start_time": "2023-03-13T13:53:55.569Z"
   },
   {
    "duration": 5,
    "start_time": "2023-03-13T13:56:25.853Z"
   },
   {
    "duration": 3,
    "start_time": "2023-03-13T13:57:12.740Z"
   },
   {
    "duration": 3,
    "start_time": "2023-03-13T13:57:13.303Z"
   },
   {
    "duration": 128192,
    "start_time": "2023-03-13T13:57:16.357Z"
   },
   {
    "duration": 5,
    "start_time": "2023-03-13T14:01:36.706Z"
   },
   {
    "duration": 150,
    "start_time": "2023-03-13T14:02:38.132Z"
   },
   {
    "duration": 60,
    "start_time": "2023-03-13T14:03:28.575Z"
   },
   {
    "duration": 12,
    "start_time": "2023-03-13T14:03:40.438Z"
   },
   {
    "duration": 4,
    "start_time": "2023-03-13T14:03:50.821Z"
   },
   {
    "duration": 5,
    "start_time": "2023-03-13T14:04:07.542Z"
   },
   {
    "duration": 4,
    "start_time": "2023-03-13T20:53:55.899Z"
   },
   {
    "duration": 3,
    "start_time": "2023-03-13T20:53:56.453Z"
   },
   {
    "duration": 7,
    "start_time": "2023-03-13T20:53:57.240Z"
   },
   {
    "duration": 23,
    "start_time": "2023-03-13T20:53:57.907Z"
   },
   {
    "duration": 4,
    "start_time": "2023-03-13T20:53:59.611Z"
   },
   {
    "duration": 4,
    "start_time": "2023-03-13T20:54:00.132Z"
   },
   {
    "duration": 3,
    "start_time": "2023-03-13T20:54:00.620Z"
   },
   {
    "duration": 170,
    "start_time": "2023-03-13T20:54:01.030Z"
   },
   {
    "duration": 3,
    "start_time": "2023-03-13T20:54:01.531Z"
   },
   {
    "duration": 6,
    "start_time": "2023-03-13T20:54:25.571Z"
   },
   {
    "duration": 7586,
    "start_time": "2023-03-13T20:55:01.793Z"
   },
   {
    "duration": 12,
    "start_time": "2023-03-13T20:57:13.118Z"
   },
   {
    "duration": 10,
    "start_time": "2023-03-13T20:57:14.197Z"
   },
   {
    "duration": 7,
    "start_time": "2023-03-13T20:57:16.969Z"
   },
   {
    "duration": 3,
    "start_time": "2023-03-13T20:57:17.710Z"
   },
   {
    "duration": 121120,
    "start_time": "2023-03-13T20:57:18.593Z"
   },
   {
    "duration": 3,
    "start_time": "2023-03-13T20:59:32.706Z"
   },
   {
    "duration": 84716,
    "start_time": "2023-03-13T20:59:37.553Z"
   },
   {
    "duration": 4,
    "start_time": "2023-03-13T21:01:04.128Z"
   },
   {
    "duration": 157526,
    "start_time": "2023-03-13T21:01:06.346Z"
   },
   {
    "duration": 19,
    "start_time": "2023-03-13T21:04:02.101Z"
   },
   {
    "duration": 6,
    "start_time": "2023-03-13T21:05:46.173Z"
   },
   {
    "duration": 3,
    "start_time": "2023-03-13T21:05:46.825Z"
   },
   {
    "duration": 18,
    "start_time": "2023-03-13T21:05:49.168Z"
   },
   {
    "duration": 4,
    "start_time": "2023-03-13T21:06:50.039Z"
   },
   {
    "duration": 4,
    "start_time": "2023-03-13T21:06:50.652Z"
   },
   {
    "duration": 7,
    "start_time": "2023-03-13T21:06:51.286Z"
   },
   {
    "duration": 22,
    "start_time": "2023-03-13T21:06:51.836Z"
   },
   {
    "duration": 4,
    "start_time": "2023-03-13T21:06:53.744Z"
   },
   {
    "duration": 5,
    "start_time": "2023-03-13T21:06:54.305Z"
   },
   {
    "duration": 3,
    "start_time": "2023-03-13T21:06:55.301Z"
   },
   {
    "duration": 163,
    "start_time": "2023-03-13T21:06:56.236Z"
   },
   {
    "duration": 3,
    "start_time": "2023-03-13T21:06:57.941Z"
   },
   {
    "duration": 6256,
    "start_time": "2023-03-13T21:06:59.867Z"
   },
   {
    "duration": 379275,
    "start_time": "2023-03-13T21:07:10.878Z"
   },
   {
    "duration": 16,
    "start_time": "2023-03-13T21:24:53.548Z"
   },
   {
    "duration": 18,
    "start_time": "2023-03-13T21:28:36.365Z"
   },
   {
    "duration": 4,
    "start_time": "2023-03-13T21:28:51.817Z"
   },
   {
    "duration": 70254,
    "start_time": "2023-03-13T21:28:52.640Z"
   },
   {
    "duration": 4,
    "start_time": "2023-03-13T21:30:02.896Z"
   },
   {
    "duration": 814,
    "start_time": "2023-03-13T21:30:28.080Z"
   },
   {
    "duration": 4,
    "start_time": "2023-03-13T21:30:28.896Z"
   },
   {
    "duration": 468,
    "start_time": "2023-03-13T21:30:31.603Z"
   },
   {
    "duration": 955,
    "start_time": "2023-03-13T21:30:32.966Z"
   },
   {
    "duration": 127,
    "start_time": "2023-03-13T21:30:36.406Z"
   },
   {
    "duration": 143,
    "start_time": "2023-03-13T21:30:38.575Z"
   },
   {
    "duration": 94,
    "start_time": "2023-03-13T21:30:39.643Z"
   },
   {
    "duration": 128,
    "start_time": "2023-03-13T21:30:40.126Z"
   },
   {
    "duration": 67,
    "start_time": "2023-03-13T21:30:41.497Z"
   },
   {
    "duration": 610,
    "start_time": "2023-03-13T21:30:42.095Z"
   },
   {
    "duration": 1421,
    "start_time": "2023-03-13T21:30:43.632Z"
   },
   {
    "duration": 107,
    "start_time": "2023-03-13T21:30:45.055Z"
   },
   {
    "duration": 174,
    "start_time": "2023-03-13T21:30:46.907Z"
   },
   {
    "duration": 5,
    "start_time": "2023-03-13T21:30:48.554Z"
   },
   {
    "duration": 48,
    "start_time": "2023-03-13T21:30:51.614Z"
   },
   {
    "duration": 4,
    "start_time": "2023-03-13T21:30:52.848Z"
   },
   {
    "duration": 4,
    "start_time": "2023-03-13T21:30:56.093Z"
   },
   {
    "duration": 25,
    "start_time": "2023-03-13T21:30:57.595Z"
   },
   {
    "duration": 4,
    "start_time": "2023-03-13T21:31:13.252Z"
   },
   {
    "duration": 131,
    "start_time": "2023-03-13T21:31:15.667Z"
   },
   {
    "duration": 259,
    "start_time": "2023-03-13T21:31:18.989Z"
   },
   {
    "duration": 4,
    "start_time": "2023-03-13T21:31:19.849Z"
   },
   {
    "duration": 11,
    "start_time": "2023-03-13T21:31:25.125Z"
   },
   {
    "duration": 30,
    "start_time": "2023-03-13T21:31:25.661Z"
   },
   {
    "duration": 21,
    "start_time": "2023-03-13T21:31:27.314Z"
   },
   {
    "duration": 29,
    "start_time": "2023-03-13T21:31:27.709Z"
   },
   {
    "duration": 23,
    "start_time": "2023-03-13T21:31:29.524Z"
   },
   {
    "duration": 21,
    "start_time": "2023-03-13T21:31:30.606Z"
   },
   {
    "duration": 42,
    "start_time": "2023-03-13T21:31:32.523Z"
   },
   {
    "duration": 33,
    "start_time": "2023-03-13T21:31:38.369Z"
   },
   {
    "duration": 40,
    "start_time": "2023-03-13T21:31:41.193Z"
   },
   {
    "duration": 33,
    "start_time": "2023-03-13T21:33:49.397Z"
   },
   {
    "duration": 38,
    "start_time": "2023-03-13T21:33:50.318Z"
   },
   {
    "duration": 4,
    "start_time": "2023-03-13T21:33:58.121Z"
   },
   {
    "duration": 4,
    "start_time": "2023-03-13T21:33:59.332Z"
   },
   {
    "duration": 16,
    "start_time": "2023-03-13T21:33:59.792Z"
   },
   {
    "duration": 54,
    "start_time": "2023-03-13T21:34:00.546Z"
   },
   {
    "duration": 4,
    "start_time": "2023-03-13T21:34:03.638Z"
   },
   {
    "duration": 5,
    "start_time": "2023-03-13T21:34:04.493Z"
   },
   {
    "duration": 4,
    "start_time": "2023-03-13T21:34:05.342Z"
   },
   {
    "duration": 216,
    "start_time": "2023-03-13T21:34:07.425Z"
   },
   {
    "duration": 3,
    "start_time": "2023-03-13T21:34:10.505Z"
   },
   {
    "duration": 374010,
    "start_time": "2023-03-13T21:34:19.695Z"
   },
   {
    "duration": 13,
    "start_time": "2023-03-14T05:19:49.955Z"
   },
   {
    "duration": 10,
    "start_time": "2023-03-14T05:19:50.615Z"
   },
   {
    "duration": 9,
    "start_time": "2023-03-14T05:19:52.806Z"
   },
   {
    "duration": 3,
    "start_time": "2023-03-14T05:19:53.319Z"
   },
   {
    "duration": 163929,
    "start_time": "2023-03-14T05:19:54.249Z"
   },
   {
    "duration": 1048,
    "start_time": "2023-03-14T05:22:38.180Z"
   },
   {
    "duration": 4,
    "start_time": "2023-03-14T05:22:42.636Z"
   },
   {
    "duration": 3,
    "start_time": "2023-03-14T05:23:06.645Z"
   },
   {
    "duration": 4,
    "start_time": "2023-03-14T05:23:07.395Z"
   },
   {
    "duration": 2,
    "start_time": "2023-03-14T05:24:00.344Z"
   },
   {
    "duration": 3,
    "start_time": "2023-03-14T05:24:00.941Z"
   },
   {
    "duration": 4,
    "start_time": "2023-03-14T05:24:03.297Z"
   },
   {
    "duration": 558,
    "start_time": "2023-03-14T05:24:04.495Z"
   },
   {
    "duration": 166,
    "start_time": "2023-03-14T05:24:07.533Z"
   },
   {
    "duration": 237,
    "start_time": "2023-03-14T05:24:08.924Z"
   },
   {
    "duration": 175,
    "start_time": "2023-03-14T05:24:11.209Z"
   },
   {
    "duration": 105,
    "start_time": "2023-03-14T05:25:17.137Z"
   },
   {
    "duration": 245,
    "start_time": "2023-03-14T05:26:02.936Z"
   },
   {
    "duration": 13998,
    "start_time": "2023-03-14T05:26:09.536Z"
   },
   {
    "duration": 285671,
    "start_time": "2023-03-14T05:26:27.276Z"
   },
   {
    "duration": 4,
    "start_time": "2023-03-14T05:31:15.734Z"
   },
   {
    "duration": 15273,
    "start_time": "2023-03-14T05:33:00.774Z"
   },
   {
    "duration": 48,
    "start_time": "2023-03-14T05:35:56.892Z"
   },
   {
    "duration": 93,
    "start_time": "2023-03-14T05:36:19.668Z"
   },
   {
    "duration": 230,
    "start_time": "2023-03-14T05:36:20.503Z"
   },
   {
    "duration": 283757,
    "start_time": "2023-03-14T05:36:24.966Z"
   },
   {
    "duration": 820,
    "start_time": "2023-03-14T05:41:08.725Z"
   },
   {
    "duration": 431881,
    "start_time": "2023-03-14T05:41:18.763Z"
   },
   {
    "duration": 794,
    "start_time": "2023-03-14T05:48:30.647Z"
   },
   {
    "duration": 4,
    "start_time": "2023-03-14T05:48:34.971Z"
   },
   {
    "duration": 33908,
    "start_time": "2023-03-14T05:48:41.740Z"
   },
   {
    "duration": 5,
    "start_time": "2023-03-14T05:53:05.233Z"
   },
   {
    "duration": 635,
    "start_time": "2023-03-14T05:53:34.511Z"
   },
   {
    "duration": 4,
    "start_time": "2023-03-14T05:53:36.008Z"
   },
   {
    "duration": 6,
    "start_time": "2023-03-14T07:13:57.816Z"
   },
   {
    "duration": 7,
    "start_time": "2023-03-14T07:13:58.790Z"
   },
   {
    "duration": 3662,
    "start_time": "2023-03-14T07:13:59.384Z"
   },
   {
    "duration": 5,
    "start_time": "2023-03-14T07:14:03.047Z"
   },
   {
    "duration": 383,
    "start_time": "2023-03-14T07:14:05.259Z"
   },
   {
    "duration": 195,
    "start_time": "2023-03-14T07:41:19.994Z"
   },
   {
    "duration": 332,
    "start_time": "2023-03-14T07:52:54.300Z"
   },
   {
    "duration": 407,
    "start_time": "2023-03-14T07:53:11.751Z"
   },
   {
    "duration": 331,
    "start_time": "2023-03-14T07:53:50.606Z"
   },
   {
    "duration": 3,
    "start_time": "2023-03-14T07:53:52.536Z"
   },
   {
    "duration": 114,
    "start_time": "2023-03-14T07:54:48.633Z"
   },
   {
    "duration": 6,
    "start_time": "2023-03-14T08:04:55.669Z"
   },
   {
    "duration": 3,
    "start_time": "2023-03-14T08:05:09.989Z"
   },
   {
    "duration": 4,
    "start_time": "2023-03-14T08:08:31.098Z"
   },
   {
    "duration": 1534,
    "start_time": "2023-03-14T08:08:31.105Z"
   },
   {
    "duration": 881,
    "start_time": "2023-03-14T08:08:32.641Z"
   },
   {
    "duration": 4,
    "start_time": "2023-03-14T08:08:33.524Z"
   },
   {
    "duration": 537,
    "start_time": "2023-03-14T08:08:33.530Z"
   },
   {
    "duration": 1161,
    "start_time": "2023-03-14T08:08:34.069Z"
   },
   {
    "duration": 132,
    "start_time": "2023-03-14T08:08:35.232Z"
   },
   {
    "duration": 178,
    "start_time": "2023-03-14T08:08:35.366Z"
   },
   {
    "duration": 115,
    "start_time": "2023-03-14T08:08:35.545Z"
   },
   {
    "duration": 128,
    "start_time": "2023-03-14T08:08:35.662Z"
   },
   {
    "duration": 92,
    "start_time": "2023-03-14T08:08:35.793Z"
   },
   {
    "duration": 601,
    "start_time": "2023-03-14T08:08:35.886Z"
   },
   {
    "duration": 1436,
    "start_time": "2023-03-14T08:08:36.489Z"
   },
   {
    "duration": 117,
    "start_time": "2023-03-14T08:08:37.929Z"
   },
   {
    "duration": 214,
    "start_time": "2023-03-14T08:08:38.047Z"
   },
   {
    "duration": 4,
    "start_time": "2023-03-14T08:08:38.263Z"
   },
   {
    "duration": 75,
    "start_time": "2023-03-14T08:08:38.268Z"
   },
   {
    "duration": 3,
    "start_time": "2023-03-14T08:08:38.345Z"
   },
   {
    "duration": 5,
    "start_time": "2023-03-14T08:08:38.350Z"
   },
   {
    "duration": 43,
    "start_time": "2023-03-14T08:08:38.357Z"
   },
   {
    "duration": 176,
    "start_time": "2023-03-14T08:08:38.401Z"
   },
   {
    "duration": 285,
    "start_time": "2023-03-14T08:08:38.579Z"
   },
   {
    "duration": 5,
    "start_time": "2023-03-14T08:08:38.867Z"
   },
   {
    "duration": 15,
    "start_time": "2023-03-14T08:08:38.873Z"
   },
   {
    "duration": 58,
    "start_time": "2023-03-14T08:08:38.890Z"
   },
   {
    "duration": 30,
    "start_time": "2023-03-14T08:08:38.950Z"
   },
   {
    "duration": 23,
    "start_time": "2023-03-14T08:08:38.982Z"
   },
   {
    "duration": 57,
    "start_time": "2023-03-14T08:08:39.008Z"
   },
   {
    "duration": 22,
    "start_time": "2023-03-14T08:08:39.067Z"
   },
   {
    "duration": 59,
    "start_time": "2023-03-14T08:08:39.090Z"
   },
   {
    "duration": 34,
    "start_time": "2023-03-14T08:08:39.151Z"
   },
   {
    "duration": 83,
    "start_time": "2023-03-14T08:08:39.187Z"
   },
   {
    "duration": 38,
    "start_time": "2023-03-14T08:08:39.272Z"
   },
   {
    "duration": 49,
    "start_time": "2023-03-14T08:08:39.312Z"
   },
   {
    "duration": 4,
    "start_time": "2023-03-14T08:08:39.363Z"
   },
   {
    "duration": 5,
    "start_time": "2023-03-14T08:08:39.368Z"
   },
   {
    "duration": 24,
    "start_time": "2023-03-14T08:08:39.375Z"
   },
   {
    "duration": 89,
    "start_time": "2023-03-14T08:08:39.401Z"
   },
   {
    "duration": 5,
    "start_time": "2023-03-14T08:08:39.492Z"
   },
   {
    "duration": 14,
    "start_time": "2023-03-14T08:08:39.499Z"
   },
   {
    "duration": 3,
    "start_time": "2023-03-14T08:08:39.517Z"
   },
   {
    "duration": 127,
    "start_time": "2023-03-14T08:08:39.521Z"
   },
   {
    "duration": 0,
    "start_time": "2023-03-14T08:08:39.650Z"
   },
   {
    "duration": 0,
    "start_time": "2023-03-14T08:08:39.651Z"
   },
   {
    "duration": 0,
    "start_time": "2023-03-14T08:08:39.652Z"
   },
   {
    "duration": 0,
    "start_time": "2023-03-14T08:08:39.653Z"
   },
   {
    "duration": 0,
    "start_time": "2023-03-14T08:08:39.654Z"
   },
   {
    "duration": 0,
    "start_time": "2023-03-14T08:08:39.655Z"
   },
   {
    "duration": 0,
    "start_time": "2023-03-14T08:08:39.656Z"
   },
   {
    "duration": 0,
    "start_time": "2023-03-14T08:08:39.657Z"
   },
   {
    "duration": 0,
    "start_time": "2023-03-14T08:08:39.658Z"
   },
   {
    "duration": 0,
    "start_time": "2023-03-14T08:08:39.659Z"
   },
   {
    "duration": 0,
    "start_time": "2023-03-14T08:08:39.660Z"
   },
   {
    "duration": 0,
    "start_time": "2023-03-14T08:08:39.661Z"
   },
   {
    "duration": 0,
    "start_time": "2023-03-14T08:08:39.662Z"
   },
   {
    "duration": 0,
    "start_time": "2023-03-14T08:08:39.663Z"
   },
   {
    "duration": 0,
    "start_time": "2023-03-14T08:08:39.665Z"
   },
   {
    "duration": 0,
    "start_time": "2023-03-14T08:08:39.666Z"
   },
   {
    "duration": 0,
    "start_time": "2023-03-14T08:08:39.668Z"
   },
   {
    "duration": 0,
    "start_time": "2023-03-14T08:08:39.669Z"
   },
   {
    "duration": 0,
    "start_time": "2023-03-14T08:08:39.670Z"
   },
   {
    "duration": 0,
    "start_time": "2023-03-14T08:08:39.671Z"
   },
   {
    "duration": 0,
    "start_time": "2023-03-14T08:08:39.672Z"
   },
   {
    "duration": 0,
    "start_time": "2023-03-14T08:08:39.673Z"
   },
   {
    "duration": 0,
    "start_time": "2023-03-14T08:08:39.674Z"
   },
   {
    "duration": 0,
    "start_time": "2023-03-14T08:08:39.675Z"
   },
   {
    "duration": 0,
    "start_time": "2023-03-14T08:08:39.676Z"
   },
   {
    "duration": 0,
    "start_time": "2023-03-14T08:08:39.678Z"
   },
   {
    "duration": 0,
    "start_time": "2023-03-14T08:08:39.679Z"
   },
   {
    "duration": 0,
    "start_time": "2023-03-14T08:08:39.680Z"
   },
   {
    "duration": 0,
    "start_time": "2023-03-14T08:08:39.681Z"
   },
   {
    "duration": 188,
    "start_time": "2023-03-14T08:53:04.939Z"
   },
   {
    "duration": 3,
    "start_time": "2023-03-14T08:53:05.796Z"
   },
   {
    "duration": 4,
    "start_time": "2023-03-14T08:53:11.815Z"
   },
   {
    "duration": 1521,
    "start_time": "2023-03-14T08:53:11.821Z"
   },
   {
    "duration": 880,
    "start_time": "2023-03-14T08:53:13.344Z"
   },
   {
    "duration": 4,
    "start_time": "2023-03-14T08:53:14.225Z"
   },
   {
    "duration": 514,
    "start_time": "2023-03-14T08:53:14.232Z"
   },
   {
    "duration": 1040,
    "start_time": "2023-03-14T08:53:14.748Z"
   },
   {
    "duration": 135,
    "start_time": "2023-03-14T08:53:15.790Z"
   },
   {
    "duration": 185,
    "start_time": "2023-03-14T08:53:15.927Z"
   },
   {
    "duration": 120,
    "start_time": "2023-03-14T08:53:16.114Z"
   },
   {
    "duration": 139,
    "start_time": "2023-03-14T08:53:16.236Z"
   },
   {
    "duration": 85,
    "start_time": "2023-03-14T08:53:16.376Z"
   },
   {
    "duration": 668,
    "start_time": "2023-03-14T08:53:16.462Z"
   },
   {
    "duration": 1341,
    "start_time": "2023-03-14T08:53:17.132Z"
   },
   {
    "duration": 133,
    "start_time": "2023-03-14T08:53:18.477Z"
   },
   {
    "duration": 210,
    "start_time": "2023-03-14T08:53:18.612Z"
   },
   {
    "duration": 4,
    "start_time": "2023-03-14T08:53:18.824Z"
   },
   {
    "duration": 61,
    "start_time": "2023-03-14T08:53:18.829Z"
   },
   {
    "duration": 4,
    "start_time": "2023-03-14T08:53:18.891Z"
   },
   {
    "duration": 6,
    "start_time": "2023-03-14T08:53:18.897Z"
   },
   {
    "duration": 55,
    "start_time": "2023-03-14T08:53:18.904Z"
   },
   {
    "duration": 152,
    "start_time": "2023-03-14T08:53:18.961Z"
   },
   {
    "duration": 297,
    "start_time": "2023-03-14T08:53:19.115Z"
   },
   {
    "duration": 4,
    "start_time": "2023-03-14T08:53:19.414Z"
   },
   {
    "duration": 25,
    "start_time": "2023-03-14T08:53:19.420Z"
   },
   {
    "duration": 32,
    "start_time": "2023-03-14T08:53:19.447Z"
   },
   {
    "duration": 27,
    "start_time": "2023-03-14T08:53:19.481Z"
   },
   {
    "duration": 40,
    "start_time": "2023-03-14T08:53:19.510Z"
   },
   {
    "duration": 22,
    "start_time": "2023-03-14T08:53:19.551Z"
   },
   {
    "duration": 22,
    "start_time": "2023-03-14T08:53:19.574Z"
   },
   {
    "duration": 67,
    "start_time": "2023-03-14T08:53:19.598Z"
   },
   {
    "duration": 33,
    "start_time": "2023-03-14T08:53:19.666Z"
   },
   {
    "duration": 57,
    "start_time": "2023-03-14T08:53:19.701Z"
   },
   {
    "duration": 39,
    "start_time": "2023-03-14T08:53:19.760Z"
   },
   {
    "duration": 49,
    "start_time": "2023-03-14T08:53:19.802Z"
   },
   {
    "duration": 4,
    "start_time": "2023-03-14T08:53:19.852Z"
   },
   {
    "duration": 29,
    "start_time": "2023-03-14T08:53:19.857Z"
   },
   {
    "duration": 41,
    "start_time": "2023-03-14T08:53:19.888Z"
   },
   {
    "duration": 61,
    "start_time": "2023-03-14T08:53:19.931Z"
   },
   {
    "duration": 4,
    "start_time": "2023-03-14T08:53:19.994Z"
   },
   {
    "duration": 24,
    "start_time": "2023-03-14T08:53:20.000Z"
   },
   {
    "duration": 6,
    "start_time": "2023-03-14T08:53:20.029Z"
   },
   {
    "duration": 204,
    "start_time": "2023-03-14T08:53:20.036Z"
   },
   {
    "duration": 3,
    "start_time": "2023-03-14T08:53:20.242Z"
   },
   {
    "duration": 483743,
    "start_time": "2023-03-14T08:53:20.247Z"
   },
   {
    "duration": 13,
    "start_time": "2023-03-14T09:01:23.991Z"
   },
   {
    "duration": 28,
    "start_time": "2023-03-14T09:01:24.006Z"
   },
   {
    "duration": 10,
    "start_time": "2023-03-14T09:01:24.036Z"
   },
   {
    "duration": 9,
    "start_time": "2023-03-14T09:01:24.048Z"
   },
   {
    "duration": 212625,
    "start_time": "2023-03-14T09:01:24.059Z"
   },
   {
    "duration": 1217,
    "start_time": "2023-03-14T09:04:56.686Z"
   },
   {
    "duration": 4,
    "start_time": "2023-03-14T09:04:57.905Z"
   },
   {
    "duration": 28,
    "start_time": "2023-03-14T09:04:57.911Z"
   },
   {
    "duration": 19,
    "start_time": "2023-03-14T09:04:57.941Z"
   },
   {
    "duration": 7,
    "start_time": "2023-03-14T09:04:57.962Z"
   },
   {
    "duration": 684,
    "start_time": "2023-03-14T09:04:57.972Z"
   },
   {
    "duration": 177,
    "start_time": "2023-03-14T09:04:58.658Z"
   },
   {
    "duration": 260,
    "start_time": "2023-03-14T09:04:58.840Z"
   },
   {
    "duration": 332742,
    "start_time": "2023-03-14T09:04:59.102Z"
   },
   {
    "duration": 6,
    "start_time": "2023-03-14T09:10:31.846Z"
   },
   {
    "duration": 15987,
    "start_time": "2023-03-14T09:10:31.854Z"
   },
   {
    "duration": 696,
    "start_time": "2023-03-14T09:10:47.845Z"
   },
   {
    "duration": 6,
    "start_time": "2023-03-14T09:10:48.544Z"
   },
   {
    "duration": 4,
    "start_time": "2023-03-14T09:10:48.642Z"
   },
   {
    "duration": 22,
    "start_time": "2023-03-14T09:10:48.648Z"
   },
   {
    "duration": 2870,
    "start_time": "2023-03-14T09:10:48.672Z"
   },
   {
    "duration": 3,
    "start_time": "2023-03-14T09:10:51.544Z"
   },
   {
    "duration": 403,
    "start_time": "2023-03-14T09:10:51.549Z"
   },
   {
    "duration": 230,
    "start_time": "2023-03-14T09:10:51.954Z"
   },
   {
    "duration": 356,
    "start_time": "2023-03-14T09:10:52.186Z"
   },
   {
    "duration": 3,
    "start_time": "2023-03-14T09:10:52.544Z"
   },
   {
    "duration": 7,
    "start_time": "2023-03-14T09:10:52.548Z"
   },
   {
    "duration": 4,
    "start_time": "2023-03-14T17:05:16.046Z"
   },
   {
    "duration": 4,
    "start_time": "2023-03-14T17:08:38.192Z"
   },
   {
    "duration": 4,
    "start_time": "2023-03-14T17:21:11.510Z"
   },
   {
    "duration": 3,
    "start_time": "2023-03-14T17:21:12.203Z"
   },
   {
    "duration": 139,
    "start_time": "2023-03-14T17:22:50.157Z"
   },
   {
    "duration": 31,
    "start_time": "2023-03-14T17:23:18.301Z"
   },
   {
    "duration": 27,
    "start_time": "2023-03-14T17:24:02.907Z"
   },
   {
    "duration": 5,
    "start_time": "2023-03-14T17:24:05.395Z"
   },
   {
    "duration": 5,
    "start_time": "2023-03-14T17:24:11.485Z"
   },
   {
    "duration": 5,
    "start_time": "2023-03-14T17:24:42.469Z"
   },
   {
    "duration": 3,
    "start_time": "2023-03-14T17:24:42.962Z"
   },
   {
    "duration": 3,
    "start_time": "2023-03-14T17:24:44.195Z"
   },
   {
    "duration": 92,
    "start_time": "2023-03-14T17:29:56.298Z"
   },
   {
    "duration": 3,
    "start_time": "2023-03-14T17:30:33.469Z"
   },
   {
    "duration": 3,
    "start_time": "2023-03-14T17:30:33.959Z"
   },
   {
    "duration": 93,
    "start_time": "2023-03-14T17:30:35.594Z"
   },
   {
    "duration": 94,
    "start_time": "2023-03-14T17:32:10.393Z"
   },
   {
    "duration": 3,
    "start_time": "2023-03-14T17:32:21.394Z"
   },
   {
    "duration": 96,
    "start_time": "2023-03-14T17:32:22.857Z"
   },
   {
    "duration": 81,
    "start_time": "2023-03-14T17:32:44.913Z"
   },
   {
    "duration": 2,
    "start_time": "2023-03-14T17:33:14.452Z"
   },
   {
    "duration": 1561,
    "start_time": "2023-03-14T17:33:14.456Z"
   },
   {
    "duration": 904,
    "start_time": "2023-03-14T17:33:16.018Z"
   },
   {
    "duration": 6,
    "start_time": "2023-03-14T17:33:16.924Z"
   },
   {
    "duration": 553,
    "start_time": "2023-03-14T17:33:16.941Z"
   },
   {
    "duration": 1204,
    "start_time": "2023-03-14T17:33:17.496Z"
   },
   {
    "duration": 153,
    "start_time": "2023-03-14T17:33:18.702Z"
   },
   {
    "duration": 198,
    "start_time": "2023-03-14T17:33:18.856Z"
   },
   {
    "duration": 119,
    "start_time": "2023-03-14T17:33:19.056Z"
   },
   {
    "duration": 155,
    "start_time": "2023-03-14T17:33:19.177Z"
   },
   {
    "duration": 100,
    "start_time": "2023-03-14T17:33:19.334Z"
   },
   {
    "duration": 697,
    "start_time": "2023-03-14T17:33:19.436Z"
   },
   {
    "duration": 1290,
    "start_time": "2023-03-14T17:33:20.135Z"
   },
   {
    "duration": 127,
    "start_time": "2023-03-14T17:33:21.429Z"
   },
   {
    "duration": 204,
    "start_time": "2023-03-14T17:33:21.558Z"
   },
   {
    "duration": 5,
    "start_time": "2023-03-14T17:33:21.763Z"
   },
   {
    "duration": 77,
    "start_time": "2023-03-14T17:33:21.769Z"
   },
   {
    "duration": 6,
    "start_time": "2023-03-14T17:33:21.854Z"
   },
   {
    "duration": 6,
    "start_time": "2023-03-14T17:33:21.862Z"
   },
   {
    "duration": 46,
    "start_time": "2023-03-14T17:33:21.870Z"
   },
   {
    "duration": 155,
    "start_time": "2023-03-14T17:33:21.917Z"
   },
   {
    "duration": 313,
    "start_time": "2023-03-14T17:33:22.075Z"
   },
   {
    "duration": 4,
    "start_time": "2023-03-14T17:33:22.390Z"
   },
   {
    "duration": 14,
    "start_time": "2023-03-14T17:33:22.396Z"
   },
   {
    "duration": 59,
    "start_time": "2023-03-14T17:33:22.411Z"
   },
   {
    "duration": 40,
    "start_time": "2023-03-14T17:33:22.472Z"
   },
   {
    "duration": 40,
    "start_time": "2023-03-14T17:33:22.514Z"
   },
   {
    "duration": 25,
    "start_time": "2023-03-14T17:33:22.556Z"
   },
   {
    "duration": 22,
    "start_time": "2023-03-14T17:33:22.583Z"
   },
   {
    "duration": 76,
    "start_time": "2023-03-14T17:33:22.606Z"
   },
   {
    "duration": 36,
    "start_time": "2023-03-14T17:33:22.684Z"
   },
   {
    "duration": 62,
    "start_time": "2023-03-14T17:33:22.722Z"
   },
   {
    "duration": 34,
    "start_time": "2023-03-14T17:33:22.786Z"
   },
   {
    "duration": 52,
    "start_time": "2023-03-14T17:33:22.822Z"
   },
   {
    "duration": 4,
    "start_time": "2023-03-14T17:33:22.875Z"
   },
   {
    "duration": 10,
    "start_time": "2023-03-14T17:33:22.881Z"
   },
   {
    "duration": 21,
    "start_time": "2023-03-14T17:33:22.892Z"
   },
   {
    "duration": 110,
    "start_time": "2023-03-14T17:33:22.915Z"
   },
   {
    "duration": 4,
    "start_time": "2023-03-14T17:33:23.027Z"
   },
   {
    "duration": 14,
    "start_time": "2023-03-14T17:33:23.032Z"
   },
   {
    "duration": 4,
    "start_time": "2023-03-14T17:33:23.054Z"
   },
   {
    "duration": 27,
    "start_time": "2023-03-14T17:33:23.060Z"
   },
   {
    "duration": 174656,
    "start_time": "2023-03-14T17:33:23.089Z"
   },
   {
    "duration": 17,
    "start_time": "2023-03-14T17:36:17.746Z"
   },
   {
    "duration": 0,
    "start_time": "2023-03-14T17:36:17.764Z"
   },
   {
    "duration": 0,
    "start_time": "2023-03-14T17:36:17.765Z"
   },
   {
    "duration": 0,
    "start_time": "2023-03-14T17:36:17.766Z"
   },
   {
    "duration": 0,
    "start_time": "2023-03-14T17:36:17.767Z"
   },
   {
    "duration": 0,
    "start_time": "2023-03-14T17:36:17.770Z"
   },
   {
    "duration": 0,
    "start_time": "2023-03-14T17:36:17.771Z"
   },
   {
    "duration": 0,
    "start_time": "2023-03-14T17:36:17.773Z"
   },
   {
    "duration": 0,
    "start_time": "2023-03-14T17:36:17.774Z"
   },
   {
    "duration": 0,
    "start_time": "2023-03-14T17:36:17.776Z"
   },
   {
    "duration": 0,
    "start_time": "2023-03-14T17:36:17.777Z"
   },
   {
    "duration": 0,
    "start_time": "2023-03-14T17:36:17.779Z"
   },
   {
    "duration": 0,
    "start_time": "2023-03-14T17:36:17.781Z"
   },
   {
    "duration": 0,
    "start_time": "2023-03-14T17:36:17.782Z"
   },
   {
    "duration": 0,
    "start_time": "2023-03-14T17:36:17.783Z"
   },
   {
    "duration": 1,
    "start_time": "2023-03-14T17:36:17.786Z"
   },
   {
    "duration": 0,
    "start_time": "2023-03-14T17:36:17.787Z"
   },
   {
    "duration": 0,
    "start_time": "2023-03-14T17:36:17.789Z"
   },
   {
    "duration": 0,
    "start_time": "2023-03-14T17:36:17.790Z"
   },
   {
    "duration": 0,
    "start_time": "2023-03-14T17:36:17.792Z"
   },
   {
    "duration": 0,
    "start_time": "2023-03-14T17:36:17.843Z"
   },
   {
    "duration": 0,
    "start_time": "2023-03-14T17:36:17.844Z"
   },
   {
    "duration": 174439,
    "start_time": "2023-03-14T17:37:27.540Z"
   },
   {
    "duration": 4,
    "start_time": "2023-03-14T17:40:53.890Z"
   },
   {
    "duration": 12,
    "start_time": "2023-03-14T17:40:59.355Z"
   },
   {
    "duration": 319,
    "start_time": "2023-03-14T17:41:05.198Z"
   },
   {
    "duration": 3,
    "start_time": "2023-03-14T17:41:13.225Z"
   },
   {
    "duration": 3,
    "start_time": "2023-03-14T17:41:13.896Z"
   },
   {
    "duration": 4,
    "start_time": "2023-03-14T17:41:14.553Z"
   },
   {
    "duration": 541,
    "start_time": "2023-03-14T17:41:24.855Z"
   },
   {
    "duration": 166,
    "start_time": "2023-03-14T17:41:33.601Z"
   },
   {
    "duration": 261,
    "start_time": "2023-03-14T17:41:34.494Z"
   },
   {
    "duration": 3,
    "start_time": "2023-03-14T17:47:18.964Z"
   },
   {
    "duration": 4,
    "start_time": "2023-03-14T17:47:19.680Z"
   },
   {
    "duration": 1266,
    "start_time": "2023-03-14T17:47:20.361Z"
   },
   {
    "duration": 4,
    "start_time": "2023-03-14T17:47:48.958Z"
   },
   {
    "duration": 1541,
    "start_time": "2023-03-14T17:47:48.964Z"
   },
   {
    "duration": 899,
    "start_time": "2023-03-14T17:47:50.507Z"
   },
   {
    "duration": 4,
    "start_time": "2023-03-14T17:47:51.408Z"
   },
   {
    "duration": 563,
    "start_time": "2023-03-14T17:47:51.415Z"
   },
   {
    "duration": 1142,
    "start_time": "2023-03-14T17:47:51.980Z"
   },
   {
    "duration": 163,
    "start_time": "2023-03-14T17:47:53.124Z"
   },
   {
    "duration": 200,
    "start_time": "2023-03-14T17:47:53.288Z"
   },
   {
    "duration": 128,
    "start_time": "2023-03-14T17:47:53.489Z"
   },
   {
    "duration": 158,
    "start_time": "2023-03-14T17:47:53.619Z"
   },
   {
    "duration": 105,
    "start_time": "2023-03-14T17:47:53.780Z"
   },
   {
    "duration": 648,
    "start_time": "2023-03-14T17:47:53.886Z"
   },
   {
    "duration": 1279,
    "start_time": "2023-03-14T17:47:54.536Z"
   },
   {
    "duration": 112,
    "start_time": "2023-03-14T17:47:55.817Z"
   },
   {
    "duration": 196,
    "start_time": "2023-03-14T17:47:55.931Z"
   },
   {
    "duration": 4,
    "start_time": "2023-03-14T17:47:56.129Z"
   },
   {
    "duration": 57,
    "start_time": "2023-03-14T17:47:56.145Z"
   },
   {
    "duration": 5,
    "start_time": "2023-03-14T17:47:56.204Z"
   },
   {
    "duration": 5,
    "start_time": "2023-03-14T17:47:56.210Z"
   },
   {
    "duration": 28,
    "start_time": "2023-03-14T17:47:56.243Z"
   },
   {
    "duration": 155,
    "start_time": "2023-03-14T17:47:56.273Z"
   },
   {
    "duration": 294,
    "start_time": "2023-03-14T17:47:56.430Z"
   },
   {
    "duration": 4,
    "start_time": "2023-03-14T17:47:56.726Z"
   },
   {
    "duration": 24,
    "start_time": "2023-03-14T17:47:56.731Z"
   },
   {
    "duration": 32,
    "start_time": "2023-03-14T17:47:56.756Z"
   },
   {
    "duration": 65,
    "start_time": "2023-03-14T17:47:56.790Z"
   },
   {
    "duration": 22,
    "start_time": "2023-03-14T17:47:56.858Z"
   },
   {
    "duration": 31,
    "start_time": "2023-03-14T17:47:56.882Z"
   },
   {
    "duration": 51,
    "start_time": "2023-03-14T17:47:56.916Z"
   },
   {
    "duration": 44,
    "start_time": "2023-03-14T17:47:56.970Z"
   },
   {
    "duration": 56,
    "start_time": "2023-03-14T17:47:57.016Z"
   },
   {
    "duration": 79,
    "start_time": "2023-03-14T17:47:57.074Z"
   },
   {
    "duration": 34,
    "start_time": "2023-03-14T17:47:57.155Z"
   },
   {
    "duration": 35,
    "start_time": "2023-03-14T17:47:57.190Z"
   },
   {
    "duration": 29,
    "start_time": "2023-03-14T17:47:57.226Z"
   },
   {
    "duration": 3,
    "start_time": "2023-03-14T17:47:57.257Z"
   },
   {
    "duration": 18,
    "start_time": "2023-03-14T17:47:57.262Z"
   },
   {
    "duration": 99,
    "start_time": "2023-03-14T17:47:57.281Z"
   },
   {
    "duration": 4,
    "start_time": "2023-03-14T17:47:57.381Z"
   },
   {
    "duration": 5,
    "start_time": "2023-03-14T17:47:57.387Z"
   },
   {
    "duration": 3,
    "start_time": "2023-03-14T17:47:57.395Z"
   },
   {
    "duration": 7,
    "start_time": "2023-03-14T17:47:57.399Z"
   },
   {
    "duration": 170698,
    "start_time": "2023-03-14T17:47:57.407Z"
   },
   {
    "duration": 283,
    "start_time": "2023-03-14T17:50:48.107Z"
   },
   {
    "duration": 4,
    "start_time": "2023-03-14T17:50:48.392Z"
   },
   {
    "duration": 8,
    "start_time": "2023-03-14T17:50:48.398Z"
   },
   {
    "duration": 534,
    "start_time": "2023-03-14T17:50:48.408Z"
   },
   {
    "duration": 170,
    "start_time": "2023-03-14T17:50:48.944Z"
   },
   {
    "duration": 255,
    "start_time": "2023-03-14T17:50:49.116Z"
   },
   {
    "duration": 201,
    "start_time": "2023-03-14T17:50:49.372Z"
   },
   {
    "duration": 10,
    "start_time": "2023-03-14T17:50:49.575Z"
   },
   {
    "duration": 0,
    "start_time": "2023-03-14T17:50:49.587Z"
   },
   {
    "duration": 0,
    "start_time": "2023-03-14T17:50:49.588Z"
   },
   {
    "duration": 0,
    "start_time": "2023-03-14T17:50:49.589Z"
   },
   {
    "duration": 0,
    "start_time": "2023-03-14T17:50:49.590Z"
   },
   {
    "duration": 0,
    "start_time": "2023-03-14T17:50:49.591Z"
   },
   {
    "duration": 0,
    "start_time": "2023-03-14T17:50:49.592Z"
   },
   {
    "duration": 0,
    "start_time": "2023-03-14T17:50:49.593Z"
   },
   {
    "duration": 0,
    "start_time": "2023-03-14T17:50:49.594Z"
   },
   {
    "duration": 0,
    "start_time": "2023-03-14T17:50:49.595Z"
   },
   {
    "duration": 0,
    "start_time": "2023-03-14T17:50:49.596Z"
   },
   {
    "duration": 0,
    "start_time": "2023-03-14T17:50:49.597Z"
   },
   {
    "duration": 0,
    "start_time": "2023-03-14T17:50:49.598Z"
   },
   {
    "duration": 0,
    "start_time": "2023-03-14T17:50:49.599Z"
   },
   {
    "duration": 80,
    "start_time": "2023-03-14T17:53:59.930Z"
   },
   {
    "duration": 2,
    "start_time": "2023-03-14T17:57:24.933Z"
   },
   {
    "duration": 4,
    "start_time": "2023-03-14T17:57:25.373Z"
   },
   {
    "duration": 1098,
    "start_time": "2023-03-14T17:57:25.922Z"
   },
   {
    "duration": 3,
    "start_time": "2023-03-14T17:57:45.799Z"
   },
   {
    "duration": 1451,
    "start_time": "2023-03-14T17:57:45.804Z"
   },
   {
    "duration": 957,
    "start_time": "2023-03-14T17:57:47.257Z"
   },
   {
    "duration": 5,
    "start_time": "2023-03-14T17:57:48.215Z"
   },
   {
    "duration": 533,
    "start_time": "2023-03-14T17:57:48.222Z"
   },
   {
    "duration": 1032,
    "start_time": "2023-03-14T17:57:48.757Z"
   },
   {
    "duration": 138,
    "start_time": "2023-03-14T17:57:49.791Z"
   },
   {
    "duration": 193,
    "start_time": "2023-03-14T17:57:49.931Z"
   },
   {
    "duration": 121,
    "start_time": "2023-03-14T17:57:50.126Z"
   },
   {
    "duration": 136,
    "start_time": "2023-03-14T17:57:50.249Z"
   },
   {
    "duration": 89,
    "start_time": "2023-03-14T17:57:50.386Z"
   },
   {
    "duration": 630,
    "start_time": "2023-03-14T17:57:50.477Z"
   },
   {
    "duration": 1213,
    "start_time": "2023-03-14T17:57:51.109Z"
   },
   {
    "duration": 104,
    "start_time": "2023-03-14T17:57:52.326Z"
   },
   {
    "duration": 197,
    "start_time": "2023-03-14T17:57:52.431Z"
   },
   {
    "duration": 4,
    "start_time": "2023-03-14T17:57:52.630Z"
   },
   {
    "duration": 58,
    "start_time": "2023-03-14T17:57:52.640Z"
   },
   {
    "duration": 4,
    "start_time": "2023-03-14T17:57:52.700Z"
   },
   {
    "duration": 5,
    "start_time": "2023-03-14T17:57:52.706Z"
   },
   {
    "duration": 45,
    "start_time": "2023-03-14T17:57:52.713Z"
   },
   {
    "duration": 152,
    "start_time": "2023-03-14T17:57:52.759Z"
   },
   {
    "duration": 272,
    "start_time": "2023-03-14T17:57:52.913Z"
   },
   {
    "duration": 4,
    "start_time": "2023-03-14T17:57:53.187Z"
   },
   {
    "duration": 24,
    "start_time": "2023-03-14T17:57:53.192Z"
   },
   {
    "duration": 46,
    "start_time": "2023-03-14T17:57:53.218Z"
   },
   {
    "duration": 41,
    "start_time": "2023-03-14T17:57:53.266Z"
   },
   {
    "duration": 24,
    "start_time": "2023-03-14T17:57:53.309Z"
   },
   {
    "duration": 24,
    "start_time": "2023-03-14T17:57:53.340Z"
   },
   {
    "duration": 21,
    "start_time": "2023-03-14T17:57:53.366Z"
   },
   {
    "duration": 61,
    "start_time": "2023-03-14T17:57:53.389Z"
   },
   {
    "duration": 32,
    "start_time": "2023-03-14T17:57:53.452Z"
   },
   {
    "duration": 55,
    "start_time": "2023-03-14T17:57:53.486Z"
   },
   {
    "duration": 33,
    "start_time": "2023-03-14T17:57:53.543Z"
   },
   {
    "duration": 31,
    "start_time": "2023-03-14T17:57:53.577Z"
   },
   {
    "duration": 3,
    "start_time": "2023-03-14T17:57:53.609Z"
   },
   {
    "duration": 4,
    "start_time": "2023-03-14T17:57:53.641Z"
   },
   {
    "duration": 32,
    "start_time": "2023-03-14T17:57:53.646Z"
   },
   {
    "duration": 83,
    "start_time": "2023-03-14T17:57:53.680Z"
   },
   {
    "duration": 4,
    "start_time": "2023-03-14T17:57:53.765Z"
   },
   {
    "duration": 13,
    "start_time": "2023-03-14T17:57:53.771Z"
   },
   {
    "duration": 5,
    "start_time": "2023-03-14T17:57:53.790Z"
   },
   {
    "duration": 16,
    "start_time": "2023-03-14T17:57:53.797Z"
   },
   {
    "duration": 167000,
    "start_time": "2023-03-14T17:57:53.815Z"
   },
   {
    "duration": 298,
    "start_time": "2023-03-14T18:00:40.816Z"
   },
   {
    "duration": 3,
    "start_time": "2023-03-14T18:00:41.115Z"
   },
   {
    "duration": 21,
    "start_time": "2023-03-14T18:00:41.119Z"
   },
   {
    "duration": 502,
    "start_time": "2023-03-14T18:00:41.142Z"
   },
   {
    "duration": 174,
    "start_time": "2023-03-14T18:00:41.646Z"
   },
   {
    "duration": 275,
    "start_time": "2023-03-14T18:00:41.822Z"
   },
   {
    "duration": 216,
    "start_time": "2023-03-14T18:00:42.099Z"
   },
   {
    "duration": 10,
    "start_time": "2023-03-14T18:00:42.317Z"
   },
   {
    "duration": 0,
    "start_time": "2023-03-14T18:00:42.328Z"
   },
   {
    "duration": 0,
    "start_time": "2023-03-14T18:00:42.330Z"
   },
   {
    "duration": 0,
    "start_time": "2023-03-14T18:00:42.331Z"
   },
   {
    "duration": 0,
    "start_time": "2023-03-14T18:00:42.332Z"
   },
   {
    "duration": 0,
    "start_time": "2023-03-14T18:00:42.333Z"
   },
   {
    "duration": 0,
    "start_time": "2023-03-14T18:00:42.334Z"
   },
   {
    "duration": 0,
    "start_time": "2023-03-14T18:00:42.335Z"
   },
   {
    "duration": 0,
    "start_time": "2023-03-14T18:00:42.336Z"
   },
   {
    "duration": 0,
    "start_time": "2023-03-14T18:00:42.337Z"
   },
   {
    "duration": 0,
    "start_time": "2023-03-14T18:00:42.339Z"
   },
   {
    "duration": 0,
    "start_time": "2023-03-14T18:00:42.340Z"
   },
   {
    "duration": 0,
    "start_time": "2023-03-14T18:00:42.341Z"
   },
   {
    "duration": 0,
    "start_time": "2023-03-14T18:00:42.342Z"
   },
   {
    "duration": 4,
    "start_time": "2023-03-14T18:36:57.132Z"
   },
   {
    "duration": 6,
    "start_time": "2023-03-14T18:36:57.622Z"
   },
   {
    "duration": 4,
    "start_time": "2023-03-14T18:37:08.651Z"
   },
   {
    "duration": 21,
    "start_time": "2023-03-14T18:37:30.525Z"
   },
   {
    "duration": 177,
    "start_time": "2023-03-14T18:37:31.664Z"
   },
   {
    "duration": 265,
    "start_time": "2023-03-14T18:37:32.259Z"
   },
   {
    "duration": 5,
    "start_time": "2023-03-14T18:37:32.526Z"
   },
   {
    "duration": 173,
    "start_time": "2023-03-14T18:37:32.654Z"
   },
   {
    "duration": 59,
    "start_time": "2023-03-14T18:37:32.837Z"
   },
   {
    "duration": 2,
    "start_time": "2023-03-14T18:37:39.697Z"
   },
   {
    "duration": 4,
    "start_time": "2023-03-14T18:37:40.178Z"
   },
   {
    "duration": 522,
    "start_time": "2023-03-14T18:37:40.955Z"
   },
   {
    "duration": 7,
    "start_time": "2023-03-14T18:41:55.217Z"
   },
   {
    "duration": 13,
    "start_time": "2023-03-14T18:49:57.802Z"
   },
   {
    "duration": 3002,
    "start_time": "2023-03-14T18:50:12.890Z"
   },
   {
    "duration": 132,
    "start_time": "2023-03-14T18:50:20.086Z"
   },
   {
    "duration": 129,
    "start_time": "2023-03-14T18:50:32.515Z"
   },
   {
    "duration": 35,
    "start_time": "2023-03-14T18:50:45.682Z"
   },
   {
    "duration": 12,
    "start_time": "2023-03-14T18:52:56.018Z"
   },
   {
    "duration": 12,
    "start_time": "2023-03-14T18:53:02.198Z"
   },
   {
    "duration": 171,
    "start_time": "2023-03-14T18:54:15.073Z"
   },
   {
    "duration": 23,
    "start_time": "2023-03-14T18:54:41.351Z"
   },
   {
    "duration": 125,
    "start_time": "2023-03-14T18:54:47.419Z"
   },
   {
    "duration": 22,
    "start_time": "2023-03-14T18:55:12.510Z"
   },
   {
    "duration": 25,
    "start_time": "2023-03-14T18:55:22.415Z"
   },
   {
    "duration": 21,
    "start_time": "2023-03-14T18:55:34.347Z"
   },
   {
    "duration": 6,
    "start_time": "2023-03-14T18:57:12.127Z"
   },
   {
    "duration": 4,
    "start_time": "2023-03-14T18:57:59.146Z"
   },
   {
    "duration": 11,
    "start_time": "2023-03-14T18:58:37.488Z"
   },
   {
    "duration": 6,
    "start_time": "2023-03-14T18:59:44.749Z"
   },
   {
    "duration": 507,
    "start_time": "2023-03-14T19:01:17.850Z"
   },
   {
    "duration": 25239,
    "start_time": "2023-03-14T19:01:19.607Z"
   },
   {
    "duration": 26341,
    "start_time": "2023-03-14T19:01:51.804Z"
   },
   {
    "duration": 27728,
    "start_time": "2023-03-14T19:02:23.314Z"
   },
   {
    "duration": 25372,
    "start_time": "2023-03-14T19:03:05.977Z"
   },
   {
    "duration": 23084,
    "start_time": "2023-03-14T19:04:44.457Z"
   },
   {
    "duration": 141,
    "start_time": "2023-03-14T19:06:06.103Z"
   },
   {
    "duration": 25827,
    "start_time": "2023-03-14T19:06:33.121Z"
   },
   {
    "duration": 125,
    "start_time": "2023-03-14T19:07:09.920Z"
   },
   {
    "duration": 3,
    "start_time": "2023-03-14T19:07:32.616Z"
   },
   {
    "duration": 4,
    "start_time": "2023-03-14T19:07:34.615Z"
   },
   {
    "duration": 195,
    "start_time": "2023-03-14T19:12:20.918Z"
   },
   {
    "duration": 976,
    "start_time": "2023-03-14T19:12:30.297Z"
   },
   {
    "duration": 78,
    "start_time": "2023-03-14T19:13:23.673Z"
   },
   {
    "duration": 283,
    "start_time": "2023-03-14T19:13:34.450Z"
   },
   {
    "duration": 4,
    "start_time": "2023-03-14T19:14:08.048Z"
   }
  ],
  "kernelspec": {
   "display_name": "Python 3 (ipykernel)",
   "language": "python",
   "name": "python3"
  },
  "language_info": {
   "codemirror_mode": {
    "name": "ipython",
    "version": 3
   },
   "file_extension": ".py",
   "mimetype": "text/x-python",
   "name": "python",
   "nbconvert_exporter": "python",
   "pygments_lexer": "ipython3",
   "version": "3.9.5"
  },
  "toc": {
   "base_numbering": 1,
   "nav_menu": {},
   "number_sections": true,
   "sideBar": true,
   "skip_h1_title": true,
   "title_cell": "Table of Contents",
   "title_sidebar": "Contents",
   "toc_cell": false,
   "toc_position": {},
   "toc_section_display": true,
   "toc_window_display": false
  }
 },
 "nbformat": 4,
 "nbformat_minor": 2
}
