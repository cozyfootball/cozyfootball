{
 "cells": [
  {
   "cell_type": "markdown",
   "metadata": {
    "toc": true
   },
   "source": [
    "<h1>Содержание<span class=\"tocSkip\"></span></h1>\n",
    "<div class=\"toc\"><ul class=\"toc-item\"><li><span><a href=\"#Загрузка-данных\" data-toc-modified-id=\"Загрузка-данных-1\"><span class=\"toc-item-num\">1&nbsp;&nbsp;</span>Загрузка данных</a></span></li><li><span><a href=\"#Умножение-матриц\" data-toc-modified-id=\"Умножение-матриц-2\"><span class=\"toc-item-num\">2&nbsp;&nbsp;</span>Умножение матриц</a></span></li><li><span><a href=\"#Алгоритм-преобразования\" data-toc-modified-id=\"Алгоритм-преобразования-3\"><span class=\"toc-item-num\">3&nbsp;&nbsp;</span>Алгоритм преобразования</a></span><ul class=\"toc-item\"><li><span><a href=\"#Тест-алгоритма\" data-toc-modified-id=\"Тест-алгоритма-3.1\"><span class=\"toc-item-num\">3.1&nbsp;&nbsp;</span>Тест алгоритма</a></span></li></ul></li><li><span><a href=\"#Вывод\" data-toc-modified-id=\"Вывод-4\"><span class=\"toc-item-num\">4&nbsp;&nbsp;</span>Вывод</a></span></li><li><span><a href=\"#Чек-лист-проверки\" data-toc-modified-id=\"Чек-лист-проверки-5\"><span class=\"toc-item-num\">5&nbsp;&nbsp;</span>Чек-лист проверки</a></span></li></ul></div>"
   ]
  },
  {
   "cell_type": "markdown",
   "metadata": {},
   "source": [
    "# Защита персональных данных клиентов"
   ]
  },
  {
   "cell_type": "markdown",
   "metadata": {},
   "source": [
    "**Задача:** защитить данные клиентов страховой компании  \n",
    "Разработать такой метод преобразования данных, чтобы по ним было сложно восстановить персональную информацию"
   ]
  },
  {
   "cell_type": "markdown",
   "metadata": {},
   "source": [
    "**Импорты**"
   ]
  },
  {
   "cell_type": "code",
   "execution_count": 2,
   "metadata": {},
   "outputs": [],
   "source": [
    "import pandas as pd\n",
    "import seaborn as sns\n",
    "from phik.report import plot_correlation_matrix\n",
    "import numpy as np\n",
    "import matplotlib.pyplot as plt\n",
    "import seaborn as sns\n",
    "from sklearn.linear_model import LinearRegression\n",
    "from sklearn.model_selection import train_test_split\n",
    "from sklearn.metrics import r2_score\n",
    "import warnings\n",
    "warnings.filterwarnings(\"ignore\")"
   ]
  },
  {
   "cell_type": "markdown",
   "metadata": {},
   "source": [
    "## Загрузка данных"
   ]
  },
  {
   "cell_type": "code",
   "execution_count": 3,
   "metadata": {},
   "outputs": [
    {
     "name": "stdout",
     "output_type": "stream",
     "text": [
      "<class 'pandas.core.frame.DataFrame'>\n",
      "RangeIndex: 5000 entries, 0 to 4999\n",
      "Data columns (total 5 columns):\n",
      " #   Column             Non-Null Count  Dtype  \n",
      "---  ------             --------------  -----  \n",
      " 0   Пол                5000 non-null   int64  \n",
      " 1   Возраст            5000 non-null   float64\n",
      " 2   Зарплата           5000 non-null   float64\n",
      " 3   Члены семьи        5000 non-null   int64  \n",
      " 4   Страховые выплаты  5000 non-null   int64  \n",
      "dtypes: float64(2), int64(3)\n",
      "memory usage: 195.4 KB\n"
     ]
    }
   ],
   "source": [
    "df = pd.read_csv('/datasets/insurance.csv')\n",
    "df.info()"
   ]
  },
  {
   "cell_type": "code",
   "execution_count": 4,
   "metadata": {},
   "outputs": [
    {
     "data": {
      "text/html": [
       "<div>\n",
       "<style scoped>\n",
       "    .dataframe tbody tr th:only-of-type {\n",
       "        vertical-align: middle;\n",
       "    }\n",
       "\n",
       "    .dataframe tbody tr th {\n",
       "        vertical-align: top;\n",
       "    }\n",
       "\n",
       "    .dataframe thead th {\n",
       "        text-align: right;\n",
       "    }\n",
       "</style>\n",
       "<table border=\"1\" class=\"dataframe\">\n",
       "  <thead>\n",
       "    <tr style=\"text-align: right;\">\n",
       "      <th></th>\n",
       "      <th>Пол</th>\n",
       "      <th>Возраст</th>\n",
       "      <th>Зарплата</th>\n",
       "      <th>Члены семьи</th>\n",
       "      <th>Страховые выплаты</th>\n",
       "    </tr>\n",
       "  </thead>\n",
       "  <tbody>\n",
       "    <tr>\n",
       "      <th>0</th>\n",
       "      <td>1</td>\n",
       "      <td>41.0</td>\n",
       "      <td>49600.0</td>\n",
       "      <td>1</td>\n",
       "      <td>0</td>\n",
       "    </tr>\n",
       "    <tr>\n",
       "      <th>1</th>\n",
       "      <td>0</td>\n",
       "      <td>46.0</td>\n",
       "      <td>38000.0</td>\n",
       "      <td>1</td>\n",
       "      <td>1</td>\n",
       "    </tr>\n",
       "    <tr>\n",
       "      <th>2</th>\n",
       "      <td>0</td>\n",
       "      <td>29.0</td>\n",
       "      <td>21000.0</td>\n",
       "      <td>0</td>\n",
       "      <td>0</td>\n",
       "    </tr>\n",
       "    <tr>\n",
       "      <th>3</th>\n",
       "      <td>0</td>\n",
       "      <td>21.0</td>\n",
       "      <td>41700.0</td>\n",
       "      <td>2</td>\n",
       "      <td>0</td>\n",
       "    </tr>\n",
       "    <tr>\n",
       "      <th>4</th>\n",
       "      <td>1</td>\n",
       "      <td>28.0</td>\n",
       "      <td>26100.0</td>\n",
       "      <td>0</td>\n",
       "      <td>0</td>\n",
       "    </tr>\n",
       "    <tr>\n",
       "      <th>5</th>\n",
       "      <td>1</td>\n",
       "      <td>43.0</td>\n",
       "      <td>41000.0</td>\n",
       "      <td>2</td>\n",
       "      <td>1</td>\n",
       "    </tr>\n",
       "    <tr>\n",
       "      <th>6</th>\n",
       "      <td>1</td>\n",
       "      <td>39.0</td>\n",
       "      <td>39700.0</td>\n",
       "      <td>2</td>\n",
       "      <td>0</td>\n",
       "    </tr>\n",
       "  </tbody>\n",
       "</table>\n",
       "</div>"
      ],
      "text/plain": [
       "   Пол  Возраст  Зарплата  Члены семьи  Страховые выплаты\n",
       "0    1     41.0   49600.0            1                  0\n",
       "1    0     46.0   38000.0            1                  1\n",
       "2    0     29.0   21000.0            0                  0\n",
       "3    0     21.0   41700.0            2                  0\n",
       "4    1     28.0   26100.0            0                  0\n",
       "5    1     43.0   41000.0            2                  1\n",
       "6    1     39.0   39700.0            2                  0"
      ]
     },
     "execution_count": 4,
     "metadata": {},
     "output_type": "execute_result"
    }
   ],
   "source": [
    "df.head(7)"
   ]
  },
  {
   "cell_type": "code",
   "execution_count": 5,
   "metadata": {},
   "outputs": [],
   "source": [
    "df['Возраст'] = df['Возраст'].astype('int64')"
   ]
  },
  {
   "cell_type": "code",
   "execution_count": 6,
   "metadata": {},
   "outputs": [
    {
     "name": "stdout",
     "output_type": "stream",
     "text": [
      "Количество полных дубликтов в датасете 153\n"
     ]
    }
   ],
   "source": [
    "mydups = df.duplicated().sum()\n",
    "print('Количество полных дубликтов в датасете', mydups)"
   ]
  },
  {
   "cell_type": "code",
   "execution_count": 7,
   "metadata": {},
   "outputs": [
    {
     "name": "stdout",
     "output_type": "stream",
     "text": [
      "Количество полных дубликтов в датасете 0\n"
     ]
    }
   ],
   "source": [
    "df = df.drop_duplicates()\n",
    "mydups = df.duplicated().sum()\n",
    "print('Количество полных дубликтов в датасете', mydups)"
   ]
  },
  {
   "cell_type": "code",
   "execution_count": 8,
   "metadata": {},
   "outputs": [
    {
     "data": {
      "text/html": [
       "<div>\n",
       "<style scoped>\n",
       "    .dataframe tbody tr th:only-of-type {\n",
       "        vertical-align: middle;\n",
       "    }\n",
       "\n",
       "    .dataframe tbody tr th {\n",
       "        vertical-align: top;\n",
       "    }\n",
       "\n",
       "    .dataframe thead th {\n",
       "        text-align: right;\n",
       "    }\n",
       "</style>\n",
       "<table border=\"1\" class=\"dataframe\">\n",
       "  <thead>\n",
       "    <tr style=\"text-align: right;\">\n",
       "      <th></th>\n",
       "      <th>Пол</th>\n",
       "      <th>Возраст</th>\n",
       "      <th>Зарплата</th>\n",
       "      <th>Члены семьи</th>\n",
       "      <th>Страховые выплаты</th>\n",
       "    </tr>\n",
       "  </thead>\n",
       "  <tbody>\n",
       "    <tr>\n",
       "      <th>count</th>\n",
       "      <td>4847.000000</td>\n",
       "      <td>4847.000000</td>\n",
       "      <td>4847.000000</td>\n",
       "      <td>4847.000000</td>\n",
       "      <td>4847.000000</td>\n",
       "    </tr>\n",
       "    <tr>\n",
       "      <th>mean</th>\n",
       "      <td>0.498453</td>\n",
       "      <td>31.023932</td>\n",
       "      <td>39895.811842</td>\n",
       "      <td>1.203425</td>\n",
       "      <td>0.152259</td>\n",
       "    </tr>\n",
       "    <tr>\n",
       "      <th>std</th>\n",
       "      <td>0.500049</td>\n",
       "      <td>8.487995</td>\n",
       "      <td>9972.953985</td>\n",
       "      <td>1.098664</td>\n",
       "      <td>0.468934</td>\n",
       "    </tr>\n",
       "    <tr>\n",
       "      <th>min</th>\n",
       "      <td>0.000000</td>\n",
       "      <td>18.000000</td>\n",
       "      <td>5300.000000</td>\n",
       "      <td>0.000000</td>\n",
       "      <td>0.000000</td>\n",
       "    </tr>\n",
       "    <tr>\n",
       "      <th>25%</th>\n",
       "      <td>0.000000</td>\n",
       "      <td>24.000000</td>\n",
       "      <td>33200.000000</td>\n",
       "      <td>0.000000</td>\n",
       "      <td>0.000000</td>\n",
       "    </tr>\n",
       "    <tr>\n",
       "      <th>50%</th>\n",
       "      <td>0.000000</td>\n",
       "      <td>30.000000</td>\n",
       "      <td>40200.000000</td>\n",
       "      <td>1.000000</td>\n",
       "      <td>0.000000</td>\n",
       "    </tr>\n",
       "    <tr>\n",
       "      <th>75%</th>\n",
       "      <td>1.000000</td>\n",
       "      <td>37.000000</td>\n",
       "      <td>46600.000000</td>\n",
       "      <td>2.000000</td>\n",
       "      <td>0.000000</td>\n",
       "    </tr>\n",
       "    <tr>\n",
       "      <th>max</th>\n",
       "      <td>1.000000</td>\n",
       "      <td>65.000000</td>\n",
       "      <td>79000.000000</td>\n",
       "      <td>6.000000</td>\n",
       "      <td>5.000000</td>\n",
       "    </tr>\n",
       "  </tbody>\n",
       "</table>\n",
       "</div>"
      ],
      "text/plain": [
       "               Пол      Возраст      Зарплата  Члены семьи  Страховые выплаты\n",
       "count  4847.000000  4847.000000   4847.000000  4847.000000        4847.000000\n",
       "mean      0.498453    31.023932  39895.811842     1.203425           0.152259\n",
       "std       0.500049     8.487995   9972.953985     1.098664           0.468934\n",
       "min       0.000000    18.000000   5300.000000     0.000000           0.000000\n",
       "25%       0.000000    24.000000  33200.000000     0.000000           0.000000\n",
       "50%       0.000000    30.000000  40200.000000     1.000000           0.000000\n",
       "75%       1.000000    37.000000  46600.000000     2.000000           0.000000\n",
       "max       1.000000    65.000000  79000.000000     6.000000           5.000000"
      ]
     },
     "execution_count": 8,
     "metadata": {},
     "output_type": "execute_result"
    }
   ],
   "source": [
    "df.describe()"
   ]
  },
  {
   "cell_type": "code",
   "execution_count": 9,
   "metadata": {},
   "outputs": [
    {
     "data": {
      "text/html": [
       "<div>\n",
       "<style scoped>\n",
       "    .dataframe tbody tr th:only-of-type {\n",
       "        vertical-align: middle;\n",
       "    }\n",
       "\n",
       "    .dataframe tbody tr th {\n",
       "        vertical-align: top;\n",
       "    }\n",
       "\n",
       "    .dataframe thead th {\n",
       "        text-align: right;\n",
       "    }\n",
       "</style>\n",
       "<table border=\"1\" class=\"dataframe\">\n",
       "  <thead>\n",
       "    <tr style=\"text-align: right;\">\n",
       "      <th></th>\n",
       "      <th>Пол</th>\n",
       "      <th>Возраст</th>\n",
       "      <th>Зарплата</th>\n",
       "      <th>Члены семьи</th>\n",
       "      <th>Страховые выплаты</th>\n",
       "    </tr>\n",
       "  </thead>\n",
       "  <tbody>\n",
       "    <tr>\n",
       "      <th>Пол</th>\n",
       "      <td>1.000000</td>\n",
       "      <td>0.001953</td>\n",
       "      <td>0.015456</td>\n",
       "      <td>-0.007315</td>\n",
       "      <td>0.011565</td>\n",
       "    </tr>\n",
       "    <tr>\n",
       "      <th>Возраст</th>\n",
       "      <td>0.001953</td>\n",
       "      <td>1.000000</td>\n",
       "      <td>-0.017386</td>\n",
       "      <td>-0.009064</td>\n",
       "      <td>0.654964</td>\n",
       "    </tr>\n",
       "    <tr>\n",
       "      <th>Зарплата</th>\n",
       "      <td>0.015456</td>\n",
       "      <td>-0.017386</td>\n",
       "      <td>1.000000</td>\n",
       "      <td>-0.031687</td>\n",
       "      <td>-0.013123</td>\n",
       "    </tr>\n",
       "    <tr>\n",
       "      <th>Члены семьи</th>\n",
       "      <td>-0.007315</td>\n",
       "      <td>-0.009064</td>\n",
       "      <td>-0.031687</td>\n",
       "      <td>1.000000</td>\n",
       "      <td>-0.039303</td>\n",
       "    </tr>\n",
       "    <tr>\n",
       "      <th>Страховые выплаты</th>\n",
       "      <td>0.011565</td>\n",
       "      <td>0.654964</td>\n",
       "      <td>-0.013123</td>\n",
       "      <td>-0.039303</td>\n",
       "      <td>1.000000</td>\n",
       "    </tr>\n",
       "  </tbody>\n",
       "</table>\n",
       "</div>"
      ],
      "text/plain": [
       "                        Пол   Возраст  Зарплата  Члены семьи  \\\n",
       "Пол                1.000000  0.001953  0.015456    -0.007315   \n",
       "Возраст            0.001953  1.000000 -0.017386    -0.009064   \n",
       "Зарплата           0.015456 -0.017386  1.000000    -0.031687   \n",
       "Члены семьи       -0.007315 -0.009064 -0.031687     1.000000   \n",
       "Страховые выплаты  0.011565  0.654964 -0.013123    -0.039303   \n",
       "\n",
       "                   Страховые выплаты  \n",
       "Пол                         0.011565  \n",
       "Возраст                     0.654964  \n",
       "Зарплата                   -0.013123  \n",
       "Члены семьи                -0.039303  \n",
       "Страховые выплаты           1.000000  "
      ]
     },
     "execution_count": 9,
     "metadata": {},
     "output_type": "execute_result"
    }
   ],
   "source": [
    "df.corr()"
   ]
  },
  {
   "cell_type": "code",
   "execution_count": 10,
   "metadata": {},
   "outputs": [
    {
     "name": "stdout",
     "output_type": "stream",
     "text": [
      "interval columns not set, guessing: ['Пол', 'Возраст', 'Зарплата', 'Члены семьи', 'Страховые выплаты']\n"
     ]
    },
    {
     "data": {
      "image/png": "[encoded data removed]",
      "text/plain": [
       "<Figure size 432x288 with 2 Axes>"
      ]
     },
     "metadata": {
      "needs_background": "light"
     },
     "output_type": "display_data"
    }
   ],
   "source": [
    "phik_overview = df.phik_matrix()\n",
    "sns.heatmap(phik_overview)\n",
    "plt.show()"
   ]
  },
  {
   "cell_type": "code",
   "execution_count": 11,
   "metadata": {},
   "outputs": [
    {
     "data": {
      "text/html": [
       "<div>\n",
       "<style scoped>\n",
       "    .dataframe tbody tr th:only-of-type {\n",
       "        vertical-align: middle;\n",
       "    }\n",
       "\n",
       "    .dataframe tbody tr th {\n",
       "        vertical-align: top;\n",
       "    }\n",
       "\n",
       "    .dataframe thead th {\n",
       "        text-align: right;\n",
       "    }\n",
       "</style>\n",
       "<table border=\"1\" class=\"dataframe\">\n",
       "  <thead>\n",
       "    <tr style=\"text-align: right;\">\n",
       "      <th></th>\n",
       "      <th>count</th>\n",
       "      <th>mean</th>\n",
       "    </tr>\n",
       "    <tr>\n",
       "      <th>Пол</th>\n",
       "      <th></th>\n",
       "      <th></th>\n",
       "    </tr>\n",
       "  </thead>\n",
       "  <tbody>\n",
       "    <tr>\n",
       "      <th>0</th>\n",
       "      <td>2431</td>\n",
       "      <td>0.146853</td>\n",
       "    </tr>\n",
       "    <tr>\n",
       "      <th>1</th>\n",
       "      <td>2416</td>\n",
       "      <td>0.157699</td>\n",
       "    </tr>\n",
       "  </tbody>\n",
       "</table>\n",
       "</div>"
      ],
      "text/plain": [
       "     count      mean\n",
       "Пол                 \n",
       "0     2431  0.146853\n",
       "1     2416  0.157699"
      ]
     },
     "execution_count": 11,
     "metadata": {},
     "output_type": "execute_result"
    }
   ],
   "source": [
    "df.groupby('Пол')['Страховые выплаты'].agg(['count', 'mean'])"
   ]
  },
  {
   "cell_type": "code",
   "execution_count": 12,
   "metadata": {},
   "outputs": [
    {
     "data": {
      "text/html": [
       "<div>\n",
       "<style scoped>\n",
       "    .dataframe tbody tr th:only-of-type {\n",
       "        vertical-align: middle;\n",
       "    }\n",
       "\n",
       "    .dataframe tbody tr th {\n",
       "        vertical-align: top;\n",
       "    }\n",
       "\n",
       "    .dataframe thead th {\n",
       "        text-align: right;\n",
       "    }\n",
       "</style>\n",
       "<table border=\"1\" class=\"dataframe\">\n",
       "  <thead>\n",
       "    <tr style=\"text-align: right;\">\n",
       "      <th></th>\n",
       "      <th>count</th>\n",
       "      <th>mean</th>\n",
       "    </tr>\n",
       "    <tr>\n",
       "      <th>Возраст</th>\n",
       "      <th></th>\n",
       "      <th></th>\n",
       "    </tr>\n",
       "  </thead>\n",
       "  <tbody>\n",
       "    <tr>\n",
       "      <th>18</th>\n",
       "      <td>116</td>\n",
       "      <td>0.000000</td>\n",
       "    </tr>\n",
       "    <tr>\n",
       "      <th>19</th>\n",
       "      <td>213</td>\n",
       "      <td>0.000000</td>\n",
       "    </tr>\n",
       "    <tr>\n",
       "      <th>20</th>\n",
       "      <td>190</td>\n",
       "      <td>0.000000</td>\n",
       "    </tr>\n",
       "    <tr>\n",
       "      <th>21</th>\n",
       "      <td>193</td>\n",
       "      <td>0.000000</td>\n",
       "    </tr>\n",
       "    <tr>\n",
       "      <th>22</th>\n",
       "      <td>201</td>\n",
       "      <td>0.000000</td>\n",
       "    </tr>\n",
       "    <tr>\n",
       "      <th>23</th>\n",
       "      <td>195</td>\n",
       "      <td>0.000000</td>\n",
       "    </tr>\n",
       "    <tr>\n",
       "      <th>24</th>\n",
       "      <td>176</td>\n",
       "      <td>0.000000</td>\n",
       "    </tr>\n",
       "    <tr>\n",
       "      <th>25</th>\n",
       "      <td>205</td>\n",
       "      <td>0.000000</td>\n",
       "    </tr>\n",
       "    <tr>\n",
       "      <th>26</th>\n",
       "      <td>201</td>\n",
       "      <td>0.000000</td>\n",
       "    </tr>\n",
       "    <tr>\n",
       "      <th>27</th>\n",
       "      <td>201</td>\n",
       "      <td>0.000000</td>\n",
       "    </tr>\n",
       "    <tr>\n",
       "      <th>28</th>\n",
       "      <td>196</td>\n",
       "      <td>0.000000</td>\n",
       "    </tr>\n",
       "    <tr>\n",
       "      <th>29</th>\n",
       "      <td>196</td>\n",
       "      <td>0.000000</td>\n",
       "    </tr>\n",
       "    <tr>\n",
       "      <th>30</th>\n",
       "      <td>196</td>\n",
       "      <td>0.000000</td>\n",
       "    </tr>\n",
       "    <tr>\n",
       "      <th>31</th>\n",
       "      <td>202</td>\n",
       "      <td>0.000000</td>\n",
       "    </tr>\n",
       "    <tr>\n",
       "      <th>32</th>\n",
       "      <td>196</td>\n",
       "      <td>0.000000</td>\n",
       "    </tr>\n",
       "    <tr>\n",
       "      <th>33</th>\n",
       "      <td>186</td>\n",
       "      <td>0.000000</td>\n",
       "    </tr>\n",
       "    <tr>\n",
       "      <th>34</th>\n",
       "      <td>173</td>\n",
       "      <td>0.000000</td>\n",
       "    </tr>\n",
       "    <tr>\n",
       "      <th>35</th>\n",
       "      <td>173</td>\n",
       "      <td>0.000000</td>\n",
       "    </tr>\n",
       "    <tr>\n",
       "      <th>36</th>\n",
       "      <td>186</td>\n",
       "      <td>0.000000</td>\n",
       "    </tr>\n",
       "    <tr>\n",
       "      <th>37</th>\n",
       "      <td>143</td>\n",
       "      <td>0.000000</td>\n",
       "    </tr>\n",
       "    <tr>\n",
       "      <th>38</th>\n",
       "      <td>135</td>\n",
       "      <td>0.000000</td>\n",
       "    </tr>\n",
       "    <tr>\n",
       "      <th>39</th>\n",
       "      <td>140</td>\n",
       "      <td>0.000000</td>\n",
       "    </tr>\n",
       "    <tr>\n",
       "      <th>40</th>\n",
       "      <td>110</td>\n",
       "      <td>0.000000</td>\n",
       "    </tr>\n",
       "    <tr>\n",
       "      <th>41</th>\n",
       "      <td>124</td>\n",
       "      <td>0.000000</td>\n",
       "    </tr>\n",
       "    <tr>\n",
       "      <th>42</th>\n",
       "      <td>93</td>\n",
       "      <td>0.602151</td>\n",
       "    </tr>\n",
       "    <tr>\n",
       "      <th>43</th>\n",
       "      <td>77</td>\n",
       "      <td>1.000000</td>\n",
       "    </tr>\n",
       "    <tr>\n",
       "      <th>44</th>\n",
       "      <td>74</td>\n",
       "      <td>1.000000</td>\n",
       "    </tr>\n",
       "    <tr>\n",
       "      <th>45</th>\n",
       "      <td>73</td>\n",
       "      <td>1.000000</td>\n",
       "    </tr>\n",
       "    <tr>\n",
       "      <th>46</th>\n",
       "      <td>60</td>\n",
       "      <td>1.000000</td>\n",
       "    </tr>\n",
       "    <tr>\n",
       "      <th>47</th>\n",
       "      <td>47</td>\n",
       "      <td>1.000000</td>\n",
       "    </tr>\n",
       "    <tr>\n",
       "      <th>48</th>\n",
       "      <td>26</td>\n",
       "      <td>1.000000</td>\n",
       "    </tr>\n",
       "    <tr>\n",
       "      <th>49</th>\n",
       "      <td>37</td>\n",
       "      <td>1.729730</td>\n",
       "    </tr>\n",
       "    <tr>\n",
       "      <th>50</th>\n",
       "      <td>26</td>\n",
       "      <td>2.000000</td>\n",
       "    </tr>\n",
       "    <tr>\n",
       "      <th>51</th>\n",
       "      <td>21</td>\n",
       "      <td>2.000000</td>\n",
       "    </tr>\n",
       "    <tr>\n",
       "      <th>52</th>\n",
       "      <td>22</td>\n",
       "      <td>2.000000</td>\n",
       "    </tr>\n",
       "    <tr>\n",
       "      <th>53</th>\n",
       "      <td>11</td>\n",
       "      <td>2.000000</td>\n",
       "    </tr>\n",
       "    <tr>\n",
       "      <th>54</th>\n",
       "      <td>7</td>\n",
       "      <td>2.000000</td>\n",
       "    </tr>\n",
       "    <tr>\n",
       "      <th>55</th>\n",
       "      <td>9</td>\n",
       "      <td>3.000000</td>\n",
       "    </tr>\n",
       "    <tr>\n",
       "      <th>56</th>\n",
       "      <td>5</td>\n",
       "      <td>3.000000</td>\n",
       "    </tr>\n",
       "    <tr>\n",
       "      <th>57</th>\n",
       "      <td>2</td>\n",
       "      <td>3.000000</td>\n",
       "    </tr>\n",
       "    <tr>\n",
       "      <th>58</th>\n",
       "      <td>2</td>\n",
       "      <td>3.000000</td>\n",
       "    </tr>\n",
       "    <tr>\n",
       "      <th>59</th>\n",
       "      <td>3</td>\n",
       "      <td>4.000000</td>\n",
       "    </tr>\n",
       "    <tr>\n",
       "      <th>60</th>\n",
       "      <td>2</td>\n",
       "      <td>4.000000</td>\n",
       "    </tr>\n",
       "    <tr>\n",
       "      <th>61</th>\n",
       "      <td>1</td>\n",
       "      <td>4.000000</td>\n",
       "    </tr>\n",
       "    <tr>\n",
       "      <th>62</th>\n",
       "      <td>1</td>\n",
       "      <td>4.000000</td>\n",
       "    </tr>\n",
       "    <tr>\n",
       "      <th>65</th>\n",
       "      <td>1</td>\n",
       "      <td>5.000000</td>\n",
       "    </tr>\n",
       "  </tbody>\n",
       "</table>\n",
       "</div>"
      ],
      "text/plain": [
       "         count      mean\n",
       "Возраст                 \n",
       "18         116  0.000000\n",
       "19         213  0.000000\n",
       "20         190  0.000000\n",
       "21         193  0.000000\n",
       "22         201  0.000000\n",
       "23         195  0.000000\n",
       "24         176  0.000000\n",
       "25         205  0.000000\n",
       "26         201  0.000000\n",
       "27         201  0.000000\n",
       "28         196  0.000000\n",
       "29         196  0.000000\n",
       "30         196  0.000000\n",
       "31         202  0.000000\n",
       "32         196  0.000000\n",
       "33         186  0.000000\n",
       "34         173  0.000000\n",
       "35         173  0.000000\n",
       "36         186  0.000000\n",
       "37         143  0.000000\n",
       "38         135  0.000000\n",
       "39         140  0.000000\n",
       "40         110  0.000000\n",
       "41         124  0.000000\n",
       "42          93  0.602151\n",
       "43          77  1.000000\n",
       "44          74  1.000000\n",
       "45          73  1.000000\n",
       "46          60  1.000000\n",
       "47          47  1.000000\n",
       "48          26  1.000000\n",
       "49          37  1.729730\n",
       "50          26  2.000000\n",
       "51          21  2.000000\n",
       "52          22  2.000000\n",
       "53          11  2.000000\n",
       "54           7  2.000000\n",
       "55           9  3.000000\n",
       "56           5  3.000000\n",
       "57           2  3.000000\n",
       "58           2  3.000000\n",
       "59           3  4.000000\n",
       "60           2  4.000000\n",
       "61           1  4.000000\n",
       "62           1  4.000000\n",
       "65           1  5.000000"
      ]
     },
     "execution_count": 12,
     "metadata": {},
     "output_type": "execute_result"
    }
   ],
   "source": [
    "df.groupby('Возраст')['Страховые выплаты'].agg(['count', 'mean'])"
   ]
  },
  {
   "cell_type": "code",
   "execution_count": 13,
   "metadata": {},
   "outputs": [
    {
     "data": {
      "text/html": [
       "<div>\n",
       "<style scoped>\n",
       "    .dataframe tbody tr th:only-of-type {\n",
       "        vertical-align: middle;\n",
       "    }\n",
       "\n",
       "    .dataframe tbody tr th {\n",
       "        vertical-align: top;\n",
       "    }\n",
       "\n",
       "    .dataframe thead th {\n",
       "        text-align: right;\n",
       "    }\n",
       "</style>\n",
       "<table border=\"1\" class=\"dataframe\">\n",
       "  <thead>\n",
       "    <tr style=\"text-align: right;\">\n",
       "      <th></th>\n",
       "      <th>count</th>\n",
       "      <th>mean</th>\n",
       "    </tr>\n",
       "    <tr>\n",
       "      <th>Члены семьи</th>\n",
       "      <th></th>\n",
       "      <th></th>\n",
       "    </tr>\n",
       "  </thead>\n",
       "  <tbody>\n",
       "    <tr>\n",
       "      <th>0</th>\n",
       "      <td>1461</td>\n",
       "      <td>0.165640</td>\n",
       "    </tr>\n",
       "    <tr>\n",
       "      <th>1</th>\n",
       "      <td>1748</td>\n",
       "      <td>0.164760</td>\n",
       "    </tr>\n",
       "    <tr>\n",
       "      <th>2</th>\n",
       "      <td>1038</td>\n",
       "      <td>0.138728</td>\n",
       "    </tr>\n",
       "    <tr>\n",
       "      <th>3</th>\n",
       "      <td>437</td>\n",
       "      <td>0.109840</td>\n",
       "    </tr>\n",
       "    <tr>\n",
       "      <th>4</th>\n",
       "      <td>124</td>\n",
       "      <td>0.088710</td>\n",
       "    </tr>\n",
       "    <tr>\n",
       "      <th>5</th>\n",
       "      <td>32</td>\n",
       "      <td>0.125000</td>\n",
       "    </tr>\n",
       "    <tr>\n",
       "      <th>6</th>\n",
       "      <td>7</td>\n",
       "      <td>0.142857</td>\n",
       "    </tr>\n",
       "  </tbody>\n",
       "</table>\n",
       "</div>"
      ],
      "text/plain": [
       "             count      mean\n",
       "Члены семьи                 \n",
       "0             1461  0.165640\n",
       "1             1748  0.164760\n",
       "2             1038  0.138728\n",
       "3              437  0.109840\n",
       "4              124  0.088710\n",
       "5               32  0.125000\n",
       "6                7  0.142857"
      ]
     },
     "execution_count": 13,
     "metadata": {},
     "output_type": "execute_result"
    }
   ],
   "source": [
    "df.groupby('Члены семьи')['Страховые выплаты'].agg(['count', 'mean']) "
   ]
  },
  {
   "cell_type": "code",
   "execution_count": 14,
   "metadata": {},
   "outputs": [
    {
     "data": {
      "image/png": "[encoded data removed]",
      "text/plain": [
       "<Figure size 1080x1080 with 6 Axes>"
      ]
     },
     "metadata": {
      "needs_background": "light"
     },
     "output_type": "display_data"
    }
   ],
   "source": [
    "df.hist(figsize=(15,15))\n",
    "plt.show()"
   ]
  },
  {
   "cell_type": "markdown",
   "metadata": {},
   "source": [
    "**Дано:** датасет содержащий информацию о поле, возрасте, зарплате застрахованного лица, количестве членов семьи и количестве страховых выплат за последние 5 лет.  \n",
    "**Датасет** содержит 5 признаков, пропусков нет. Возраст заменили на int64 целочисленный  \n",
    "**Целевой признак**: количество страховых выплат клиенту за последние 5 лет  \n",
    "**Признаки** для обучения модели и работы: пол , возраст и зарплата застрахованного, количество членов его семьи  \n"
   ]
  },
  {
   "cell_type": "markdown",
   "metadata": {},
   "source": [
    "## Умножение матриц"
   ]
  },
  {
   "cell_type": "markdown",
   "metadata": {},
   "source": [
    "В этом задании вы можете записывать формулы в *Jupyter Notebook.*\n",
    "\n",
    "Чтобы записать формулу внутри текста, окружите её символами доллара \\\\$; если снаружи —  двойными символами \\\\$\\\\$. Эти формулы записываются на языке вёрстки *LaTeX.* \n",
    "\n",
    "Для примера мы записали формулы линейной регрессии. Можете их скопировать и отредактировать, чтобы решить задачу.\n",
    "\n",
    "Работать в *LaTeX* необязательно."
   ]
  },
  {
   "cell_type": "markdown",
   "metadata": {},
   "source": [
    "Обозначения:\n",
    "\n",
    "- $X$ — матрица признаков (нулевой столбец состоит из единиц)\n",
    "\n",
    "- $y$ — вектор целевого признака\n",
    "\n",
    "- $P$ — матрица, на которую умножаются признаки\n",
    "\n",
    "- $w$ — вектор весов линейной регрессии (нулевой элемент равен сдвигу)"
   ]
  },
  {
   "cell_type": "markdown",
   "metadata": {},
   "source": [
    "Предсказания:\n",
    "\n",
    "$$\n",
    "a = Xw\n",
    "$$\n",
    "\n",
    "Задача обучения:\n",
    "\n",
    "$$\n",
    "w = \\arg\\min_w MSE(Xw, y)\n",
    "$$\n",
    "\n",
    "Формула обучения:\n",
    "\n",
    "$$\n",
    "w = (X^T X)^{-1} X^T y\n",
    "$$"
   ]
  },
  {
   "cell_type": "markdown",
   "metadata": {},
   "source": [
    "**Ответ** Качество линейной регресии не измениться после умножения признаков на обратимую матрицу."
   ]
  },
  {
   "cell_type": "markdown",
   "metadata": {},
   "source": [
    "Необходимо доказать что предсказания до преобразования равны предсказаниям после преобразования.  \n",
    "Добавим:\n",
    "\n",
    "$w1$\n",
    " — вектор весов линейной регрессии для $a1$  \n",
    "$w2$\n",
    " — вектор весов линейной регрессии для $a2$  \n",
    "\n",
    "Доказательство:  \n",
    "$\n",
    "X(X^TX)^{−1}X^{T}y1=PX((PX)^{T}(PX))^{−1}PX^{T}y2  \n",
    "$  \n",
    "$  \n",
    "EEy1=EEy2    \n",
    "$  \n",
    "$  \n",
    "y1=y2  \n",
    "$  \n",
    "**Вывод** Векторы целевых признаков равны. Если умножить матрицу признаков на случайную матрицу - качество предсказаний не ухудашется, вектора целевых признаков равны"
   ]
  },
  {
   "cell_type": "markdown",
   "metadata": {},
   "source": [
    "Определим формулу обучения для вектора весов линейной регрессии в случае преобразования и выведем, как связаны $w′$\n",
    " и $w$\n",
    ", как связаны $a′$\n",
    " и $a$\n",
    " Представим новую матрицу $X′$\n",
    " как произведение начальной матрицы $X$\n",
    " на случайную обратимую $PX′=XP$\n",
    " тогда:\n",
    " \n",
    " $$\n",
    " w′=((PX)^{T}(PX))^{−1}(PX)^{T}y=(P^{T}X^{T}PX)^{−1}P^{T}X^{T}y=P^{−1}(X^{T}X)^{−1}(PT)−1P^{T}X{T}y=P^{−1}(X^{T}X)^{−1}EX^{T}y=P^{−1}(X^{T}X)^{−1}X^{T} y\n",
    " $$\n",
    " \n",
    "Согласно условиям:\n",
    "$\n",
    "w = (X^T X)^{-1} X^Ty\n",
    "$  \n",
    "Следовательно:\n",
    "$w′=P^{−1}w$  \n",
    "\n",
    "Подставим в формулу линейной регресии и определим $a'$:  \n",
    "$a′=X′w′=XPP^{−1}w=XEw=Xw=a$\n",
    "\n",
    "**Вывод** предсказания $a′$ для матрицы признаков, умноженных на обратимую матрицу P\n",
    " равны предсказаниям $a$. Качество линейной регрессии не изменится."
   ]
  },
  {
   "cell_type": "markdown",
   "metadata": {},
   "source": [
    "## Алгоритм преобразования"
   ]
  },
  {
   "cell_type": "markdown",
   "metadata": {},
   "source": [
    "**Алгоритм**\n",
    "\n",
    "1. Деление выборки на фичи и таргеты.\n",
    "2. Создание случайной матрицы с 4 признаками.\n",
    "3. Умножение случайно матрицы на константное значение.\n",
    "4. Обучение модели на новых признаках.Получение предсказаний.\n",
    "5. Обучение модели на исходных признаках.Получение предсказаний.\n",
    "6. Сравнение значений двух метрик."
   ]
  },
  {
   "cell_type": "markdown",
   "metadata": {},
   "source": [
    "**Обоснование**"
   ]
  },
  {
   "cell_type": "code",
   "execution_count": 15,
   "metadata": {},
   "outputs": [
    {
     "data": {
      "text/plain": [
       "((4847, 4), (4847,))"
      ]
     },
     "execution_count": 15,
     "metadata": {},
     "output_type": "execute_result"
    }
   ],
   "source": [
    "def split_data(data, target_column):\n",
    "    return data.drop(columns=[target_column], axis=1), data[target_column]\n",
    "\n",
    "features, target = split_data(df,'Страховые выплаты')\n",
    "features.shape, target.shape"
   ]
  },
  {
   "cell_type": "code",
   "execution_count": 16,
   "metadata": {},
   "outputs": [],
   "source": [
    "lin_reg = LinearRegression()\n",
    "lin_reg.fit(features, target)\n",
    "predict = lin_reg.predict(features)\n",
    "r2 = r2_score (target, predict)"
   ]
  },
  {
   "cell_type": "code",
   "execution_count": 17,
   "metadata": {},
   "outputs": [],
   "source": [
    "rnd_matrix = np.random.rand(4,4)\n",
    "np.linalg.inv(rnd_matrix)\n",
    "new_features = features @ rnd_matrix"
   ]
  },
  {
   "cell_type": "code",
   "execution_count": 18,
   "metadata": {},
   "outputs": [],
   "source": [
    "lin_reg_rnd = LinearRegression()\n",
    "lin_reg_rnd.fit(new_features, target)\n",
    "predict_rnd = lin_reg_rnd.predict(new_features)\n",
    "r2_rnd = r2_score (target, predict_rnd)"
   ]
  },
  {
   "cell_type": "code",
   "execution_count": 19,
   "metadata": {},
   "outputs": [
    {
     "name": "stdout",
     "output_type": "stream",
     "text": [
      "Кф детерминации исходный: 0.4302010044852066\n",
      "Кф детерминации преобразованный: 0.4302010044852266\n"
     ]
    }
   ],
   "source": [
    "print(f'Кф детерминации исходный: {r2}')\n",
    "print(f'Кф детерминации преобразованный: {r2_rnd}')"
   ]
  },
  {
   "cell_type": "markdown",
   "metadata": {},
   "source": [
    "Коэффициенты детерминации практически идентичны. Преобразование не повлияло на качество линейной регерссии."
   ]
  },
  {
   "cell_type": "markdown",
   "metadata": {},
   "source": [
    "### Тест алгоритма"
   ]
  },
  {
   "cell_type": "code",
   "execution_count": 20,
   "metadata": {},
   "outputs": [],
   "source": [
    "class MatrixFix():\n",
    "    def __init__(self, fix = True):\n",
    "        self.fix = fix\n",
    "        \n",
    "    def fit(self, X, y=None):\n",
    "        return self\n",
    "    \n",
    "    def transform(self, X, matrix, y=None):\n",
    "        matrix_rnd = np.random.rand(4,4) * 1589\n",
    "        X_new = X @ matrix_rnd\n",
    "        if matrix == True:\n",
    "            return X_new, matrix_rnd\n",
    "        else:\n",
    "            return X_new"
   ]
  },
  {
   "cell_type": "code",
   "execution_count": 21,
   "metadata": {},
   "outputs": [
    {
     "data": {
      "text/plain": [
       "array([[ 357.42822715,  806.23081072,  553.69647061, 1395.23337677],\n",
       "       [ 173.72378923, 1116.08076354,  880.68811909,  601.36611549],\n",
       "       [ 450.546766  , 1395.57699958, 1123.99243292, 1036.78115113],\n",
       "       [  41.96406628,  750.53529755, 1337.53259504, 1280.8683818 ]])"
      ]
     },
     "execution_count": 21,
     "metadata": {},
     "output_type": "execute_result"
    }
   ],
   "source": [
    "adder = MatrixFix(fix=True)\n",
    "new_features, matrix  = adder.transform(features, matrix=True)\n",
    "matrix"
   ]
  },
  {
   "cell_type": "code",
   "execution_count": 22,
   "metadata": {},
   "outputs": [
    {
     "data": {
      "text/html": [
       "<div>\n",
       "<style scoped>\n",
       "    .dataframe tbody tr th:only-of-type {\n",
       "        vertical-align: middle;\n",
       "    }\n",
       "\n",
       "    .dataframe tbody tr th {\n",
       "        vertical-align: top;\n",
       "    }\n",
       "\n",
       "    .dataframe thead th {\n",
       "        text-align: right;\n",
       "    }\n",
       "</style>\n",
       "<table border=\"1\" class=\"dataframe\">\n",
       "  <thead>\n",
       "    <tr style=\"text-align: right;\">\n",
       "      <th></th>\n",
       "      <th>0</th>\n",
       "      <th>1</th>\n",
       "      <th>2</th>\n",
       "      <th>3</th>\n",
       "    </tr>\n",
       "  </thead>\n",
       "  <tbody>\n",
       "    <tr>\n",
       "      <th>0</th>\n",
       "      <td>2.235464e+07</td>\n",
       "      <td>6.926794e+07</td>\n",
       "      <td>5.578802e+07</td>\n",
       "      <td>5.145168e+07</td>\n",
       "    </tr>\n",
       "    <tr>\n",
       "      <th>1</th>\n",
       "      <td>1.712881e+07</td>\n",
       "      <td>5.308402e+07</td>\n",
       "      <td>4.275356e+07</td>\n",
       "      <td>3.942663e+07</td>\n",
       "    </tr>\n",
       "    <tr>\n",
       "      <th>2</th>\n",
       "      <td>9.466520e+06</td>\n",
       "      <td>2.933948e+07</td>\n",
       "      <td>2.362938e+07</td>\n",
       "      <td>2.178984e+07</td>\n",
       "    </tr>\n",
       "    <tr>\n",
       "      <th>3</th>\n",
       "      <td>1.879153e+07</td>\n",
       "      <td>5.822050e+07</td>\n",
       "      <td>4.689165e+07</td>\n",
       "      <td>4.324896e+07</td>\n",
       "    </tr>\n",
       "    <tr>\n",
       "      <th>4</th>\n",
       "      <td>1.176449e+07</td>\n",
       "      <td>3.645662e+07</td>\n",
       "      <td>2.936142e+07</td>\n",
       "      <td>2.707822e+07</td>\n",
       "    </tr>\n",
       "    <tr>\n",
       "      <th>...</th>\n",
       "      <td>...</td>\n",
       "      <td>...</td>\n",
       "      <td>...</td>\n",
       "      <td>...</td>\n",
       "    </tr>\n",
       "    <tr>\n",
       "      <th>4995</th>\n",
       "      <td>1.608947e+07</td>\n",
       "      <td>4.985485e+07</td>\n",
       "      <td>4.015386e+07</td>\n",
       "      <td>3.703249e+07</td>\n",
       "    </tr>\n",
       "    <tr>\n",
       "      <th>4996</th>\n",
       "      <td>2.361460e+07</td>\n",
       "      <td>7.316693e+07</td>\n",
       "      <td>5.892848e+07</td>\n",
       "      <td>5.434906e+07</td>\n",
       "    </tr>\n",
       "    <tr>\n",
       "      <th>4997</th>\n",
       "      <td>1.527709e+07</td>\n",
       "      <td>4.733388e+07</td>\n",
       "      <td>3.812363e+07</td>\n",
       "      <td>3.516147e+07</td>\n",
       "    </tr>\n",
       "    <tr>\n",
       "      <th>4998</th>\n",
       "      <td>1.473718e+07</td>\n",
       "      <td>4.566298e+07</td>\n",
       "      <td>3.677849e+07</td>\n",
       "      <td>3.392121e+07</td>\n",
       "    </tr>\n",
       "    <tr>\n",
       "      <th>4999</th>\n",
       "      <td>1.829746e+07</td>\n",
       "      <td>5.669323e+07</td>\n",
       "      <td>4.566064e+07</td>\n",
       "      <td>4.211283e+07</td>\n",
       "    </tr>\n",
       "  </tbody>\n",
       "</table>\n",
       "<p>4847 rows × 4 columns</p>\n",
       "</div>"
      ],
      "text/plain": [
       "                 0             1             2             3\n",
       "0     2.235464e+07  6.926794e+07  5.578802e+07  5.145168e+07\n",
       "1     1.712881e+07  5.308402e+07  4.275356e+07  3.942663e+07\n",
       "2     9.466520e+06  2.933948e+07  2.362938e+07  2.178984e+07\n",
       "3     1.879153e+07  5.822050e+07  4.689165e+07  4.324896e+07\n",
       "4     1.176449e+07  3.645662e+07  2.936142e+07  2.707822e+07\n",
       "...            ...           ...           ...           ...\n",
       "4995  1.608947e+07  4.985485e+07  4.015386e+07  3.703249e+07\n",
       "4996  2.361460e+07  7.316693e+07  5.892848e+07  5.434906e+07\n",
       "4997  1.527709e+07  4.733388e+07  3.812363e+07  3.516147e+07\n",
       "4998  1.473718e+07  4.566298e+07  3.677849e+07  3.392121e+07\n",
       "4999  1.829746e+07  5.669323e+07  4.566064e+07  4.211283e+07\n",
       "\n",
       "[4847 rows x 4 columns]"
      ]
     },
     "execution_count": 22,
     "metadata": {},
     "output_type": "execute_result"
    }
   ],
   "source": [
    "new_features "
   ]
  },
  {
   "cell_type": "code",
   "execution_count": 23,
   "metadata": {},
   "outputs": [
    {
     "name": "stdout",
     "output_type": "stream",
     "text": [
      "Кф детерминации: 0.4302010044852066\n"
     ]
    }
   ],
   "source": [
    "lin_reg = LinearRegression()\n",
    "lin_reg.fit(features, target)\n",
    "predict = lin_reg.predict(features)\n",
    "r_2_1 = r2_score (target, predict)\n",
    "print(f'Кф детерминации: {r_2_1}')"
   ]
  },
  {
   "cell_type": "code",
   "execution_count": 24,
   "metadata": {},
   "outputs": [
    {
     "data": {
      "text/html": [
       "<div>\n",
       "<style scoped>\n",
       "    .dataframe tbody tr th:only-of-type {\n",
       "        vertical-align: middle;\n",
       "    }\n",
       "\n",
       "    .dataframe tbody tr th {\n",
       "        vertical-align: top;\n",
       "    }\n",
       "\n",
       "    .dataframe thead th {\n",
       "        text-align: right;\n",
       "    }\n",
       "</style>\n",
       "<table border=\"1\" class=\"dataframe\">\n",
       "  <thead>\n",
       "    <tr style=\"text-align: right;\">\n",
       "      <th></th>\n",
       "      <th>0</th>\n",
       "      <th>1</th>\n",
       "      <th>2</th>\n",
       "      <th>3</th>\n",
       "    </tr>\n",
       "  </thead>\n",
       "  <tbody>\n",
       "    <tr>\n",
       "      <th>0</th>\n",
       "      <td>2.781372e+07</td>\n",
       "      <td>5.925365e+07</td>\n",
       "      <td>4.169183e+07</td>\n",
       "      <td>5.558968e+06</td>\n",
       "    </tr>\n",
       "    <tr>\n",
       "      <th>1</th>\n",
       "      <td>2.132024e+07</td>\n",
       "      <td>4.541104e+07</td>\n",
       "      <td>3.194539e+07</td>\n",
       "      <td>4.265266e+06</td>\n",
       "    </tr>\n",
       "    <tr>\n",
       "      <th>2</th>\n",
       "      <td>1.178483e+07</td>\n",
       "      <td>2.509861e+07</td>\n",
       "      <td>1.765507e+07</td>\n",
       "      <td>2.358608e+06</td>\n",
       "    </tr>\n",
       "    <tr>\n",
       "      <th>3</th>\n",
       "      <td>2.337279e+07</td>\n",
       "      <td>4.980266e+07</td>\n",
       "      <td>3.504617e+07</td>\n",
       "      <td>4.666824e+06</td>\n",
       "    </tr>\n",
       "    <tr>\n",
       "      <th>4</th>\n",
       "      <td>1.464113e+07</td>\n",
       "      <td>3.118634e+07</td>\n",
       "      <td>2.194124e+07</td>\n",
       "      <td>2.928478e+06</td>\n",
       "    </tr>\n",
       "  </tbody>\n",
       "</table>\n",
       "</div>"
      ],
      "text/plain": [
       "              0             1             2             3\n",
       "0  2.781372e+07  5.925365e+07  4.169183e+07  5.558968e+06\n",
       "1  2.132024e+07  4.541104e+07  3.194539e+07  4.265266e+06\n",
       "2  1.178483e+07  2.509861e+07  1.765507e+07  2.358608e+06\n",
       "3  2.337279e+07  4.980266e+07  3.504617e+07  4.666824e+06\n",
       "4  1.464113e+07  3.118634e+07  2.194124e+07  2.928478e+06"
      ]
     },
     "execution_count": 24,
     "metadata": {},
     "output_type": "execute_result"
    }
   ],
   "source": [
    "adder = MatrixFix(fix=True)\n",
    "features_tr, matrix_1  = adder.transform(features, matrix=True)\n",
    "features_tr.head()"
   ]
  },
  {
   "cell_type": "code",
   "execution_count": 25,
   "metadata": {},
   "outputs": [],
   "source": [
    "X_train_tr, X_test_tr, y_train, y_test = (train_test_split(features_tr, target, test_size = 0.25, random_state = 15))"
   ]
  },
  {
   "cell_type": "code",
   "execution_count": 26,
   "metadata": {},
   "outputs": [
    {
     "name": "stdout",
     "output_type": "stream",
     "text": [
      "Количество обучающей выборки: 3635\n",
      "Количество валидационной выборки: 1212\n",
      "Сумма выборок: 4847\n",
      "Количество образцов всей выборки: 4847\n"
     ]
    }
   ],
   "source": [
    "print('Количество обучающей выборки:', len(X_train_tr))\n",
    "print('Количество валидационной выборки:', len(X_test_tr))\n",
    "print('Сумма выборок:', len(X_train_tr) + len(X_test_tr))\n",
    "print('Количество образцов всей выборки:', len(features_tr))      "
   ]
  },
  {
   "cell_type": "code",
   "execution_count": 27,
   "metadata": {},
   "outputs": [],
   "source": [
    "model_tr = LinearRegression()\n",
    "model_tr.fit(X_train_tr, y_train)\n",
    "y_pred_tr = model_tr.predict(X_test_tr)\n",
    "r2_tr = r2_score(y_test, y_pred_tr)"
   ]
  },
  {
   "cell_type": "code",
   "execution_count": 28,
   "metadata": {},
   "outputs": [],
   "source": [
    "X_train, X_test, y_train, y_test = (train_test_split(features, target, test_size = 0.25, random_state = 15))"
   ]
  },
  {
   "cell_type": "code",
   "execution_count": 29,
   "metadata": {},
   "outputs": [
    {
     "name": "stdout",
     "output_type": "stream",
     "text": [
      "Количество обучающей выборки: 3635\n",
      "Количество  валидационной выборки: 1212\n",
      "Сумма выборок: 4847\n",
      "Количество образцов всей выборки: 4847\n"
     ]
    }
   ],
   "source": [
    "print('Количество обучающей выборки:', len(X_train))\n",
    "print('Количество  валидационной выборки:', len(X_test))\n",
    "print('Сумма выборок:', len(X_train) + len(X_test))\n",
    "print('Количество образцов всей выборки:', len(features))      "
   ]
  },
  {
   "cell_type": "code",
   "execution_count": 30,
   "metadata": {},
   "outputs": [],
   "source": [
    "model = LinearRegression()\n",
    "model.fit(X_train, y_train)\n",
    "y_pred = model.predict(X_test)\n",
    "r2_pred = r2_score(y_test, y_pred)"
   ]
  },
  {
   "cell_type": "code",
   "execution_count": 31,
   "metadata": {},
   "outputs": [
    {
     "name": "stdout",
     "output_type": "stream",
     "text": [
      "Кф детерминации исходник: 0.4284638133971589\n",
      "Кф детерминации преобразованный: 0.42846381339712125\n"
     ]
    }
   ],
   "source": [
    "print(f'Кф детерминации исходник: {r2_pred}')\n",
    "print(f'Кф детерминации преобразованный: {r2_tr}')"
   ]
  },
  {
   "cell_type": "markdown",
   "metadata": {},
   "source": [
    "Коэффициенты детерминации практически идентичны. Качество линейной регрессии осталось на том же уровне."
   ]
  },
  {
   "cell_type": "markdown",
   "metadata": {},
   "source": [
    "## Вывод"
   ]
  },
  {
   "cell_type": "markdown",
   "metadata": {},
   "source": [
    "**Задача:** защита данных клиентов\n",
    "\n",
    "**Решение**:\n",
    "1. Разработка алгоритма преобразования\n",
    "2. Преобразование\n",
    "3. Проверка качества линейной регресиии на преоборазованных и не преобразованных данных.\n",
    "\n",
    "**Итог**:  \n",
    "предложеный алгоритм реобразования не влияет на качество линейной регресиии. Алгоритм получения случайно матрицы для шифрования клиентских данных может быть примененен без потери качества модели машинного обучения.\n"
   ]
  }
 ],
 "metadata": {
  "ExecuteTimeLog": [
   {
    "duration": 1651,
    "start_time": "2023-03-03T14:40:30.426Z"
   },
   {
    "duration": 148,
    "start_time": "2023-03-03T14:41:21.771Z"
   },
   {
    "duration": 15,
    "start_time": "2023-03-03T14:41:57.462Z"
   },
   {
    "duration": 7,
    "start_time": "2023-03-03T15:12:49.091Z"
   },
   {
    "duration": 9,
    "start_time": "2023-03-03T15:15:46.136Z"
   },
   {
    "duration": 30,
    "start_time": "2023-03-03T15:16:02.069Z"
   },
   {
    "duration": 119,
    "start_time": "2023-03-03T15:16:12.901Z"
   },
   {
    "duration": 11,
    "start_time": "2023-03-03T15:16:16.775Z"
   },
   {
    "duration": 451,
    "start_time": "2023-03-03T15:23:34.222Z"
   },
   {
    "duration": 526,
    "start_time": "2023-03-03T15:23:41.708Z"
   },
   {
    "duration": 405,
    "start_time": "2023-03-03T15:23:54.607Z"
   },
   {
    "duration": 485,
    "start_time": "2023-03-03T15:24:02.904Z"
   },
   {
    "duration": 574,
    "start_time": "2023-03-03T15:24:06.775Z"
   },
   {
    "duration": 746,
    "start_time": "2023-03-03T15:24:11.606Z"
   },
   {
    "duration": 682,
    "start_time": "2023-03-03T15:24:15.597Z"
   },
   {
    "duration": 47,
    "start_time": "2023-03-04T09:43:05.652Z"
   },
   {
    "duration": 1528,
    "start_time": "2023-03-04T09:43:11.033Z"
   },
   {
    "duration": 85,
    "start_time": "2023-03-04T09:43:12.563Z"
   },
   {
    "duration": 11,
    "start_time": "2023-03-04T09:43:12.650Z"
   },
   {
    "duration": 3,
    "start_time": "2023-03-04T09:43:12.663Z"
   },
   {
    "duration": 8,
    "start_time": "2023-03-04T09:43:12.667Z"
   },
   {
    "duration": 8,
    "start_time": "2023-03-04T09:43:12.677Z"
   },
   {
    "duration": 29,
    "start_time": "2023-03-04T09:43:12.686Z"
   },
   {
    "duration": 10,
    "start_time": "2023-03-04T09:43:12.716Z"
   },
   {
    "duration": 646,
    "start_time": "2023-03-04T09:43:12.727Z"
   },
   {
    "duration": 139,
    "start_time": "2023-03-04T09:43:13.375Z"
   },
   {
    "duration": 5,
    "start_time": "2023-03-04T09:43:27.337Z"
   },
   {
    "duration": 21,
    "start_time": "2023-03-04T09:43:47.598Z"
   },
   {
    "duration": 15,
    "start_time": "2023-03-04T09:44:28.086Z"
   },
   {
    "duration": 4,
    "start_time": "2023-03-04T09:44:28.617Z"
   },
   {
    "duration": 9,
    "start_time": "2023-03-04T09:44:43.361Z"
   },
   {
    "duration": 8,
    "start_time": "2023-03-04T09:44:53.817Z"
   },
   {
    "duration": 6,
    "start_time": "2023-03-04T16:43:36.071Z"
   },
   {
    "duration": 15,
    "start_time": "2023-03-04T16:43:36.557Z"
   },
   {
    "duration": 5,
    "start_time": "2023-03-04T16:43:38.404Z"
   },
   {
    "duration": 13,
    "start_time": "2023-03-04T16:43:38.791Z"
   },
   {
    "duration": 6,
    "start_time": "2023-03-04T16:45:19.412Z"
   },
   {
    "duration": 10,
    "start_time": "2023-03-04T16:45:19.860Z"
   },
   {
    "duration": 5,
    "start_time": "2023-03-04T16:45:20.263Z"
   },
   {
    "duration": 8,
    "start_time": "2023-03-04T16:45:20.875Z"
   },
   {
    "duration": 10,
    "start_time": "2023-03-04T16:46:11.020Z"
   },
   {
    "duration": 4,
    "start_time": "2023-03-04T16:46:11.416Z"
   },
   {
    "duration": 9,
    "start_time": "2023-03-04T16:46:11.942Z"
   },
   {
    "duration": 3,
    "start_time": "2023-03-04T16:46:12.655Z"
   },
   {
    "duration": 3,
    "start_time": "2023-03-05T06:00:02.171Z"
   },
   {
    "duration": 5,
    "start_time": "2023-03-05T06:00:37.324Z"
   },
   {
    "duration": 11,
    "start_time": "2023-03-05T06:00:52.208Z"
   },
   {
    "duration": 14,
    "start_time": "2023-03-05T06:01:12.085Z"
   },
   {
    "duration": 9,
    "start_time": "2023-03-05T06:02:25.702Z"
   },
   {
    "duration": 10,
    "start_time": "2023-03-05T06:02:33.064Z"
   },
   {
    "duration": 4,
    "start_time": "2023-03-05T06:03:10.009Z"
   },
   {
    "duration": 12,
    "start_time": "2023-03-05T06:06:26.150Z"
   },
   {
    "duration": 5,
    "start_time": "2023-03-05T06:07:26.419Z"
   },
   {
    "duration": 4,
    "start_time": "2023-03-05T06:07:45.377Z"
   },
   {
    "duration": 8,
    "start_time": "2023-03-05T06:08:09.632Z"
   },
   {
    "duration": 5,
    "start_time": "2023-03-05T06:10:22.813Z"
   },
   {
    "duration": 5,
    "start_time": "2023-03-05T06:10:23.392Z"
   },
   {
    "duration": 10,
    "start_time": "2023-03-05T06:10:25.235Z"
   },
   {
    "duration": 5,
    "start_time": "2023-03-05T06:12:58.208Z"
   },
   {
    "duration": 5,
    "start_time": "2023-03-05T06:12:58.983Z"
   },
   {
    "duration": 4,
    "start_time": "2023-03-05T06:13:16.593Z"
   },
   {
    "duration": 9,
    "start_time": "2023-03-05T06:13:26.651Z"
   },
   {
    "duration": 3,
    "start_time": "2023-03-05T06:14:41.952Z"
   },
   {
    "duration": 1316,
    "start_time": "2023-03-05T06:20:40.075Z"
   },
   {
    "duration": 35,
    "start_time": "2023-03-05T06:20:41.393Z"
   },
   {
    "duration": 12,
    "start_time": "2023-03-05T06:20:41.429Z"
   },
   {
    "duration": 14,
    "start_time": "2023-03-05T06:20:41.443Z"
   },
   {
    "duration": 7,
    "start_time": "2023-03-05T06:20:41.459Z"
   },
   {
    "duration": 7,
    "start_time": "2023-03-05T06:20:41.467Z"
   },
   {
    "duration": 21,
    "start_time": "2023-03-05T06:20:41.475Z"
   },
   {
    "duration": 10,
    "start_time": "2023-03-05T06:20:41.497Z"
   },
   {
    "duration": 609,
    "start_time": "2023-03-05T06:20:41.508Z"
   },
   {
    "duration": 6,
    "start_time": "2023-03-05T06:20:42.119Z"
   },
   {
    "duration": 68,
    "start_time": "2023-03-05T06:20:42.126Z"
   },
   {
    "duration": 99,
    "start_time": "2023-03-05T06:20:42.196Z"
   },
   {
    "duration": 10,
    "start_time": "2023-03-05T06:20:42.297Z"
   },
   {
    "duration": 184,
    "start_time": "2023-03-05T06:20:42.309Z"
   },
   {
    "duration": 7,
    "start_time": "2023-03-05T06:20:42.495Z"
   },
   {
    "duration": 9,
    "start_time": "2023-03-05T06:20:42.503Z"
   },
   {
    "duration": 11,
    "start_time": "2023-03-05T06:20:42.514Z"
   },
   {
    "duration": 20,
    "start_time": "2023-03-05T06:20:42.526Z"
   },
   {
    "duration": 153,
    "start_time": "2023-03-05T06:20:42.548Z"
   },
   {
    "duration": 6,
    "start_time": "2023-03-05T06:20:42.702Z"
   },
   {
    "duration": 5,
    "start_time": "2023-03-05T06:20:42.710Z"
   },
   {
    "duration": 8,
    "start_time": "2023-03-05T06:20:42.716Z"
   },
   {
    "duration": 5,
    "start_time": "2023-03-05T06:20:42.725Z"
   },
   {
    "duration": 5,
    "start_time": "2023-03-05T06:20:42.732Z"
   },
   {
    "duration": 8,
    "start_time": "2023-03-05T06:20:42.739Z"
   },
   {
    "duration": 3,
    "start_time": "2023-03-05T06:20:42.749Z"
   },
   {
    "duration": 99,
    "start_time": "2023-03-05T06:21:48.176Z"
   },
   {
    "duration": 9,
    "start_time": "2023-03-05T06:21:54.253Z"
   },
   {
    "duration": 13,
    "start_time": "2023-03-05T06:22:16.778Z"
   },
   {
    "duration": 9,
    "start_time": "2023-03-05T06:22:43.307Z"
   },
   {
    "duration": 117,
    "start_time": "2023-03-05T15:18:18.921Z"
   },
   {
    "duration": 2972,
    "start_time": "2023-03-06T06:13:42.706Z"
   },
   {
    "duration": 87,
    "start_time": "2023-03-06T06:22:38.087Z"
   },
   {
    "duration": 1536,
    "start_time": "2023-03-06T06:22:42.851Z"
   },
   {
    "duration": 3,
    "start_time": "2023-03-06T06:25:20.735Z"
   },
   {
    "duration": 103,
    "start_time": "2023-03-06T06:25:21.301Z"
   },
   {
    "duration": 9,
    "start_time": "2023-03-06T06:25:27.450Z"
   },
   {
    "duration": 97,
    "start_time": "2023-03-06T06:25:33.236Z"
   },
   {
    "duration": 437,
    "start_time": "2023-03-06T06:25:36.118Z"
   },
   {
    "duration": 77,
    "start_time": "2023-03-06T07:13:03.984Z"
   },
   {
    "duration": 1906,
    "start_time": "2023-03-06T07:13:35.556Z"
   },
   {
    "duration": 1324,
    "start_time": "2023-03-06T07:13:37.465Z"
   },
   {
    "duration": 37,
    "start_time": "2023-03-06T07:13:38.791Z"
   },
   {
    "duration": 12,
    "start_time": "2023-03-06T07:13:38.830Z"
   },
   {
    "duration": 3,
    "start_time": "2023-03-06T07:13:38.845Z"
   },
   {
    "duration": 6,
    "start_time": "2023-03-06T07:13:38.850Z"
   },
   {
    "duration": 9,
    "start_time": "2023-03-06T07:13:38.858Z"
   },
   {
    "duration": 47,
    "start_time": "2023-03-06T07:13:38.869Z"
   },
   {
    "duration": 10,
    "start_time": "2023-03-06T07:13:38.918Z"
   },
   {
    "duration": 402,
    "start_time": "2023-03-06T07:13:38.929Z"
   },
   {
    "duration": 10,
    "start_time": "2023-03-06T07:13:39.333Z"
   },
   {
    "duration": 11,
    "start_time": "2023-03-06T07:13:39.344Z"
   },
   {
    "duration": 15,
    "start_time": "2023-03-06T07:13:39.357Z"
   },
   {
    "duration": 661,
    "start_time": "2023-03-06T07:13:39.375Z"
   },
   {
    "duration": 7,
    "start_time": "2023-03-06T07:13:40.038Z"
   },
   {
    "duration": 16,
    "start_time": "2023-03-06T07:13:40.047Z"
   },
   {
    "duration": 146,
    "start_time": "2023-03-06T07:13:40.066Z"
   },
   {
    "duration": 10,
    "start_time": "2023-03-06T07:13:40.215Z"
   },
   {
    "duration": 5,
    "start_time": "2023-03-06T07:13:40.311Z"
   },
   {
    "duration": 99,
    "start_time": "2023-03-06T07:13:40.317Z"
   },
   {
    "duration": 6,
    "start_time": "2023-03-06T07:13:40.418Z"
   },
   {
    "duration": 102,
    "start_time": "2023-03-06T07:13:40.426Z"
   },
   {
    "duration": 11,
    "start_time": "2023-03-06T07:13:40.529Z"
   },
   {
    "duration": 171,
    "start_time": "2023-03-06T07:13:40.542Z"
   },
   {
    "duration": 4,
    "start_time": "2023-03-06T07:13:40.715Z"
   },
   {
    "duration": 6,
    "start_time": "2023-03-06T07:13:40.721Z"
   },
   {
    "duration": 9,
    "start_time": "2023-03-06T07:13:40.729Z"
   },
   {
    "duration": 21,
    "start_time": "2023-03-06T07:13:40.740Z"
   },
   {
    "duration": 14,
    "start_time": "2023-03-06T07:13:40.763Z"
   },
   {
    "duration": 16,
    "start_time": "2023-03-06T07:13:40.778Z"
   },
   {
    "duration": 7,
    "start_time": "2023-03-06T07:13:40.796Z"
   }
  ],
  "kernelspec": {
   "display_name": "Python 3 (ipykernel)",
   "language": "python",
   "name": "python3"
  },
  "language_info": {
   "codemirror_mode": {
    "name": "ipython",
    "version": 3
   },
   "file_extension": ".py",
   "mimetype": "text/x-python",
   "name": "python",
   "nbconvert_exporter": "python",
   "pygments_lexer": "ipython3",
   "version": "3.9.5"
  },
  "toc": {
   "base_numbering": 1,
   "nav_menu": {},
   "number_sections": true,
   "sideBar": true,
   "skip_h1_title": true,
   "title_cell": "Содержание",
   "title_sidebar": "Contents",
   "toc_cell": true,
   "toc_position": {},
   "toc_section_display": true,
   "toc_window_display": true
  }
 },
 "nbformat": 4,
 "nbformat_minor": 2
}
