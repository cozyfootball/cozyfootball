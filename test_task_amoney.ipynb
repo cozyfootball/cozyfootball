{
 "cells": [
  {
   "cell_type": "markdown",
   "id": "26d2921b",
   "metadata": {},
   "source": [
    "### Тестовое задание для аналитика 🧙🏼"
   ]
  },
  {
   "cell_type": "markdown",
   "id": "254f5849",
   "metadata": {},
   "source": [
    "#### Часть 1"
   ]
  },
  {
   "cell_type": "markdown",
   "id": "2bbb40bf",
   "metadata": {},
   "source": [
    "Есть два🪑 набора данных:   \n",
    "- визиты пользователей на сервис\n",
    "- данные по покупкам \n",
    "\n",
    "У каждого визита есть источник, а также устройство, с которого заходил пользователь.\n",
    "\n",
    "Обозначения в файлах:  \n",
    "📌**start_dt** — дата старта визита,  \n",
    "📌**start_ts** — дата и время старта визита,  \n",
    "📌**end_ts** — дата окончания визита,  \n",
    "📌**uid** — идентификатор пользователя,  \n",
    "📌**source_id** — id источника визита,  \n",
    "📌**device** — устройство,  \n",
    "📌**buy_ts** — дата и время покупки,  \n",
    "📌**revenue** — доход в y.e.  \n",
    "\n",
    "**Необходимо определить**:  \n",
    "1) Какая когорта пользователей (по месяцу первой покупки) принесла наибольший средний чек на пользователя, какая наименьший.  \n",
    "2) Какой LTV на каждую когорту пользователей (по месяцу первой покупки)?  \n",
    "\n",
    "⚠️Просьба написать sql-запросы и визуализировать данные с помощью любого инструмента.⚠️  "
   ]
  },
  {
   "cell_type": "code",
   "execution_count": 1,
   "id": "163cc345",
   "metadata": {},
   "outputs": [],
   "source": [
    "import matplotlib.pyplot as plt\n",
    "import seaborn as sns\n",
    "import pandas as pd"
   ]
  },
  {
   "cell_type": "markdown",
   "id": "e1104de3",
   "metadata": {},
   "source": [
    "**Решение**  \n",
    "\n",
    "Попробуем изучить предложенные данные. "
   ]
  },
  {
   "cell_type": "code",
   "execution_count": 2,
   "id": "8a258b1f",
   "metadata": {},
   "outputs": [
    {
     "name": "stdout",
     "output_type": "stream",
     "text": [
      "buy_ts\tuid\trevenue\n",
      "\n",
      "23.07.2016 19:13:54\t3492372810\t1,47\n",
      "\n",
      "06.11.2016 02:48:27\t1564753091\t1,11\n",
      "\n",
      "31.01.2017 20:32:42\t1385616391\t16,8\n",
      "\n",
      "11.01.2017 10:52:11\t2636761148\t11\n",
      "\n",
      "25.11.2016 18:57:09\t2945629974\t4,89\n",
      "\n",
      "16.09.2016 16:09:58\t3761521720\t9,17\n",
      "\n",
      "16.12.2016 11:40:20\t2085565076\t1,83\n",
      "\n",
      "17.04.2017 14:33:08\t3241481847\t2,44\n",
      "\n",
      "06.02.2017 15:56:25\t4178371305\t4,89\n",
      "\n"
     ]
    }
   ],
   "source": [
    "with open('purchases', 'r') as file:\n",
    "    for _ in range(10):\n",
    "        line = file.readline()\n",
    "        print(line)"
   ]
  },
  {
   "cell_type": "markdown",
   "id": "df0e3615",
   "metadata": {},
   "source": [
    "На входе датасет из 3 столбцов, дата покупки, айди пользователя и доход.  \n",
    "Неплохо, но наша задача написать sql запрос.  \n",
    "Для этого поднимем базу данных и зальем туда информацию по покупкам."
   ]
  },
  {
   "cell_type": "code",
   "execution_count": 3,
   "id": "3cf34f6d",
   "metadata": {},
   "outputs": [
    {
     "name": "stdout",
     "output_type": "stream",
     "text": [
      "Данные успешно загружены в базу данных.\n"
     ]
    }
   ],
   "source": [
    "import sqlite3\n",
    "\n",
    "# Создаем соединение с базой данных\n",
    "conn = sqlite3.connect('test_task.db')\n",
    "cursor = conn.cursor()\n",
    "\n",
    "# Создаем таблицу в базе данных\n",
    "cursor.execute('''\n",
    "    CREATE TABLE IF NOT EXISTS purchases (\n",
    "        id INTEGER PRIMARY KEY,\n",
    "        buy_ts TEXT,\n",
    "        uid INTEGER,\n",
    "        revenue REAL\n",
    "    )\n",
    "''')\n",
    "\n",
    "# Читаем содержимое файла\n",
    "with open('purchases', 'r') as file:\n",
    "    next(file)  # Пропускаем первую строку (с заголовками столбцов)\n",
    "    for line in file:\n",
    "        data = line.strip().split('\\t')  # Предполагаем, что данные разделены символом табуляции\n",
    "        buy_ts = data[0]\n",
    "        uid = data[1]\n",
    "        revenue = float(data[2].replace(',', '.'))\n",
    "\n",
    "        # Вставляем данные из файла в базу данных\n",
    "        cursor.execute('INSERT INTO purchases (buy_ts, uid, revenue) VALUES (?, ?, ?)', (buy_ts, uid, revenue))\n",
    "\n",
    "conn.commit()\n",
    "\n",
    "# Закрываем соединение\n",
    "conn.close()\n",
    "\n",
    "print('Данные успешно загружены в базу данных.')"
   ]
  },
  {
   "cell_type": "code",
   "execution_count": 4,
   "id": "da454264",
   "metadata": {},
   "outputs": [],
   "source": [
    "# напишем функцию для обработки наших селектов\n",
    "def select(sql):\n",
    "  return pd.read_sql(sql,conn)"
   ]
  },
  {
   "cell_type": "code",
   "execution_count": 5,
   "id": "903243a7",
   "metadata": {},
   "outputs": [
    {
     "data": {
      "text/html": [
       "<div>\n",
       "<style scoped>\n",
       "    .dataframe tbody tr th:only-of-type {\n",
       "        vertical-align: middle;\n",
       "    }\n",
       "\n",
       "    .dataframe tbody tr th {\n",
       "        vertical-align: top;\n",
       "    }\n",
       "\n",
       "    .dataframe thead th {\n",
       "        text-align: right;\n",
       "    }\n",
       "</style>\n",
       "<table border=\"1\" class=\"dataframe\">\n",
       "  <thead>\n",
       "    <tr style=\"text-align: right;\">\n",
       "      <th></th>\n",
       "      <th>cnt</th>\n",
       "      <th>rev</th>\n",
       "    </tr>\n",
       "  </thead>\n",
       "  <tbody>\n",
       "    <tr>\n",
       "      <th>0</th>\n",
       "      <td>302864</td>\n",
       "      <td>1483296.32</td>\n",
       "    </tr>\n",
       "  </tbody>\n",
       "</table>\n",
       "</div>"
      ],
      "text/plain": [
       "      cnt         rev\n",
       "0  302864  1483296.32"
      ]
     },
     "execution_count": 5,
     "metadata": {},
     "output_type": "execute_result"
    }
   ],
   "source": [
    "conn = sqlite3.connect('test_task.db')\n",
    "cursor = conn.cursor()\n",
    "sql = ''' select count(1) as cnt, sum(revenue) as rev from  purchases'''\n",
    "select(sql)"
   ]
  },
  {
   "cell_type": "markdown",
   "id": "2c97d0d2",
   "metadata": {},
   "source": [
    "Итого на вход 75к строк с общим доходом на 370к.  \n",
    "Перейдем ко второму датасету."
   ]
  },
  {
   "cell_type": "code",
   "execution_count": 6,
   "id": "4e095625",
   "metadata": {},
   "outputs": [
    {
     "name": "stdout",
     "output_type": "stream",
     "text": [
      "device\tend_ts\tsource_id\tstart_dt\tstart_ts\tuid\n",
      "\n",
      "desktop\t2016-11-30T11:04:17Z\t2\t2016-11-30\t2016-11-30T10:53:49Z\t3758486201\n",
      "\n",
      "desktop\t2016-11-10T23:16:57Z\t4\t2016-11-10\t2016-11-10T23:08:04Z\t2933941628\n",
      "\n",
      "desktop\t2016-10-19T18:51:56Z\t1\t2016-10-19\t2016-10-19T18:48:16Z\t1465872791\n",
      "\n",
      "desktop\t2017-01-12T20:51:55Z\t9\t2017-01-12\t2017-01-12T20:50:10Z\t2751875787\n",
      "\n",
      "touch\t2016-07-23T19:17:19Z\t4\t2016-07-23\t2016-07-23T19:10:57Z\t3492372810\n",
      "\n",
      "desktop\t2016-09-16T09:36:42Z\t5\t2016-09-16\t2016-09-16T09:34:40Z\t1922647915\n",
      "\n",
      "desktop\t2017-01-29T14:27:21Z\t4\t2017-01-29\t2017-01-29T14:06:31Z\t3085935958\n",
      "\n",
      "desktop\t2017-02-08T15:53:26Z\t3\t2017-02-08\t2017-02-08T15:42:39Z\t1064958609\n",
      "\n",
      "desktop\t2016-11-06T02:54:57Z\t5\t2016-11-06\t2016-11-06T02:38:06Z\t1564753091\n",
      "\n"
     ]
    }
   ],
   "source": [
    "with open('visits', 'r') as file:\n",
    "    for _ in range(10):\n",
    "        line = file.readline()\n",
    "        print(line)"
   ]
  },
  {
   "cell_type": "markdown",
   "id": "243a788e",
   "metadata": {},
   "source": [
    "Тут информации побольше. Есть канал продаж. Есть тип девайса.  \n",
    "\n",
    "Создадим вторую таблицу в нашей тестовой базе данных и зальем туда эти данные."
   ]
  },
  {
   "cell_type": "code",
   "execution_count": 7,
   "id": "0ef7dcfd",
   "metadata": {},
   "outputs": [
    {
     "name": "stdout",
     "output_type": "stream",
     "text": [
      "Все строки данных успешно загружены в базу данных.\n"
     ]
    }
   ],
   "source": [
    "conn = sqlite3.connect('test_task.db')\n",
    "cursor = conn.cursor()\n",
    "\n",
    "\n",
    "cursor.execute('''\n",
    "    CREATE TABLE IF NOT EXISTS visits (\n",
    "        id INTEGER PRIMARY KEY,\n",
    "        device TEXT,\n",
    "        end_ts TEXT,\n",
    "        source_id INTEGER,\n",
    "        start_dt TEXT,\n",
    "        start_ts TEXT,\n",
    "        uid INTEGER\n",
    "    )\n",
    "''')\n",
    "\n",
    "# Читаем все строки из файла\n",
    "with open('visits', 'r') as file:\n",
    "    next(file)  # Пропускаем первую строку (с заголовками столбцов)\n",
    "    for line in file:\n",
    "        data = line.strip().split('\\t')  # Предполагаем, что данные разделены символом табуляции\n",
    "        device = data[0]\n",
    "        end_ts = data[1]\n",
    "        source_id = int(data[2])\n",
    "        start_dt = data[3]\n",
    "        start_ts = data[4]\n",
    "        uid = int(data[5])\n",
    "\n",
    "        # Вставляем данные из файла в базу данных\n",
    "        cursor.execute('INSERT INTO visits (device, end_ts, source_id, start_dt, start_ts, uid) VALUES (?, ?, ?, ?, ?, ?)',\n",
    "                       (device, end_ts, source_id, start_dt, start_ts, uid))\n",
    "\n",
    "conn.commit()\n",
    "conn.close()\n",
    "print('Все строки данных успешно загружены в базу данных.')"
   ]
  },
  {
   "cell_type": "code",
   "execution_count": 8,
   "id": "40bf2e07",
   "metadata": {},
   "outputs": [
    {
     "data": {
      "text/html": [
       "<div>\n",
       "<style scoped>\n",
       "    .dataframe tbody tr th:only-of-type {\n",
       "        vertical-align: middle;\n",
       "    }\n",
       "\n",
       "    .dataframe tbody tr th {\n",
       "        vertical-align: top;\n",
       "    }\n",
       "\n",
       "    .dataframe thead th {\n",
       "        text-align: right;\n",
       "    }\n",
       "</style>\n",
       "<table border=\"1\" class=\"dataframe\">\n",
       "  <thead>\n",
       "    <tr style=\"text-align: right;\">\n",
       "      <th></th>\n",
       "      <th>cnt</th>\n",
       "    </tr>\n",
       "  </thead>\n",
       "  <tbody>\n",
       "    <tr>\n",
       "      <th>0</th>\n",
       "      <td>2162037</td>\n",
       "    </tr>\n",
       "  </tbody>\n",
       "</table>\n",
       "</div>"
      ],
      "text/plain": [
       "       cnt\n",
       "0  2162037"
      ]
     },
     "execution_count": 8,
     "metadata": {},
     "output_type": "execute_result"
    }
   ],
   "source": [
    "conn = sqlite3.connect('test_task.db')\n",
    "cursor = conn.cursor()\n",
    "sql = ''' select count(1) as cnt from visits'''\n",
    "select(sql)"
   ]
  },
  {
   "cell_type": "markdown",
   "id": "37bb9881",
   "metadata": {},
   "source": [
    "Итого 720к строк с визитами."
   ]
  },
  {
   "cell_type": "markdown",
   "id": "b3e58f8f",
   "metadata": {},
   "source": [
    "❓**Какая когорта пользователей (по месяцу первой покупки) принесла наибольший средний чек на пользователя, какая наименьший**❓\n",
    "\n",
    "Изучим таблицу с покупками."
   ]
  },
  {
   "cell_type": "code",
   "execution_count": 9,
   "id": "f2a655c4",
   "metadata": {},
   "outputs": [
    {
     "data": {
      "text/html": [
       "<div>\n",
       "<style scoped>\n",
       "    .dataframe tbody tr th:only-of-type {\n",
       "        vertical-align: middle;\n",
       "    }\n",
       "\n",
       "    .dataframe tbody tr th {\n",
       "        vertical-align: top;\n",
       "    }\n",
       "\n",
       "    .dataframe thead th {\n",
       "        text-align: right;\n",
       "    }\n",
       "</style>\n",
       "<table border=\"1\" class=\"dataframe\">\n",
       "  <thead>\n",
       "    <tr style=\"text-align: right;\">\n",
       "      <th></th>\n",
       "      <th>id</th>\n",
       "      <th>buy_ts</th>\n",
       "      <th>uid</th>\n",
       "      <th>revenue</th>\n",
       "    </tr>\n",
       "  </thead>\n",
       "  <tbody>\n",
       "    <tr>\n",
       "      <th>0</th>\n",
       "      <td>1</td>\n",
       "      <td>23.07.2016 19:13:54</td>\n",
       "      <td>3492372810</td>\n",
       "      <td>1.47</td>\n",
       "    </tr>\n",
       "    <tr>\n",
       "      <th>1</th>\n",
       "      <td>2</td>\n",
       "      <td>06.11.2016 02:48:27</td>\n",
       "      <td>1564753091</td>\n",
       "      <td>1.11</td>\n",
       "    </tr>\n",
       "    <tr>\n",
       "      <th>2</th>\n",
       "      <td>3</td>\n",
       "      <td>31.01.2017 20:32:42</td>\n",
       "      <td>1385616391</td>\n",
       "      <td>16.80</td>\n",
       "    </tr>\n",
       "    <tr>\n",
       "      <th>3</th>\n",
       "      <td>4</td>\n",
       "      <td>11.01.2017 10:52:11</td>\n",
       "      <td>2636761148</td>\n",
       "      <td>11.00</td>\n",
       "    </tr>\n",
       "    <tr>\n",
       "      <th>4</th>\n",
       "      <td>5</td>\n",
       "      <td>25.11.2016 18:57:09</td>\n",
       "      <td>2945629974</td>\n",
       "      <td>4.89</td>\n",
       "    </tr>\n",
       "    <tr>\n",
       "      <th>5</th>\n",
       "      <td>6</td>\n",
       "      <td>16.09.2016 16:09:58</td>\n",
       "      <td>3761521720</td>\n",
       "      <td>9.17</td>\n",
       "    </tr>\n",
       "    <tr>\n",
       "      <th>6</th>\n",
       "      <td>7</td>\n",
       "      <td>16.12.2016 11:40:20</td>\n",
       "      <td>2085565076</td>\n",
       "      <td>1.83</td>\n",
       "    </tr>\n",
       "  </tbody>\n",
       "</table>\n",
       "</div>"
      ],
      "text/plain": [
       "   id               buy_ts         uid  revenue\n",
       "0   1  23.07.2016 19:13:54  3492372810     1.47\n",
       "1   2  06.11.2016 02:48:27  1564753091     1.11\n",
       "2   3  31.01.2017 20:32:42  1385616391    16.80\n",
       "3   4  11.01.2017 10:52:11  2636761148    11.00\n",
       "4   5  25.11.2016 18:57:09  2945629974     4.89\n",
       "5   6  16.09.2016 16:09:58  3761521720     9.17\n",
       "6   7  16.12.2016 11:40:20  2085565076     1.83"
      ]
     },
     "execution_count": 9,
     "metadata": {},
     "output_type": "execute_result"
    }
   ],
   "source": [
    "sql = ''' SELECT *\n",
    "FROM purchases v\n",
    "limit 7'''\n",
    "select(sql)"
   ]
  },
  {
   "cell_type": "markdown",
   "id": "27b47f56",
   "metadata": {},
   "source": [
    "В таблице перечислены даты покупки и сумма. \n",
    "Проверим датасет на наличие аномальных оплат."
   ]
  },
  {
   "cell_type": "code",
   "execution_count": 10,
   "id": "6d7e41aa",
   "metadata": {},
   "outputs": [
    {
     "data": {
      "text/html": [
       "<div>\n",
       "<style scoped>\n",
       "    .dataframe tbody tr th:only-of-type {\n",
       "        vertical-align: middle;\n",
       "    }\n",
       "\n",
       "    .dataframe tbody tr th {\n",
       "        vertical-align: top;\n",
       "    }\n",
       "\n",
       "    .dataframe thead th {\n",
       "        text-align: right;\n",
       "    }\n",
       "</style>\n",
       "<table border=\"1\" class=\"dataframe\">\n",
       "  <thead>\n",
       "    <tr style=\"text-align: right;\">\n",
       "      <th></th>\n",
       "      <th>r1</th>\n",
       "      <th>r2</th>\n",
       "    </tr>\n",
       "  </thead>\n",
       "  <tbody>\n",
       "    <tr>\n",
       "      <th>0</th>\n",
       "      <td>0.0</td>\n",
       "      <td>2633.28</td>\n",
       "    </tr>\n",
       "  </tbody>\n",
       "</table>\n",
       "</div>"
      ],
      "text/plain": [
       "    r1       r2\n",
       "0  0.0  2633.28"
      ]
     },
     "execution_count": 10,
     "metadata": {},
     "output_type": "execute_result"
    }
   ],
   "source": [
    "sql = ''' SELECT min(revenue) as r1,\n",
    "max(revenue) as r2\n",
    "FROM purchases v\n",
    "'''\n",
    "select(sql)"
   ]
  },
  {
   "cell_type": "markdown",
   "id": "9eca842e",
   "metadata": {},
   "source": [
    "Сложно без контекста оценить аномальность максимального значения.  \n",
    "А вот минимальное значение 0 нам может исказить среднее. Проверим сколько таких строк в датасете."
   ]
  },
  {
   "cell_type": "code",
   "execution_count": 11,
   "id": "bc137b98",
   "metadata": {},
   "outputs": [
    {
     "data": {
      "text/html": [
       "<div>\n",
       "<style scoped>\n",
       "    .dataframe tbody tr th:only-of-type {\n",
       "        vertical-align: middle;\n",
       "    }\n",
       "\n",
       "    .dataframe tbody tr th {\n",
       "        vertical-align: top;\n",
       "    }\n",
       "\n",
       "    .dataframe thead th {\n",
       "        text-align: right;\n",
       "    }\n",
       "</style>\n",
       "<table border=\"1\" class=\"dataframe\">\n",
       "  <thead>\n",
       "    <tr style=\"text-align: right;\">\n",
       "      <th></th>\n",
       "      <th>count(*)</th>\n",
       "    </tr>\n",
       "  </thead>\n",
       "  <tbody>\n",
       "    <tr>\n",
       "      <th>0</th>\n",
       "      <td>228</td>\n",
       "    </tr>\n",
       "  </tbody>\n",
       "</table>\n",
       "</div>"
      ],
      "text/plain": [
       "   count(*)\n",
       "0       228"
      ]
     },
     "execution_count": 11,
     "metadata": {},
     "output_type": "execute_result"
    }
   ],
   "source": [
    "sql = ''' SELECT count(*)\n",
    "FROM purchases v\n",
    "where revenue = 0'''\n",
    "select(sql)"
   ]
  },
  {
   "cell_type": "markdown",
   "id": "e33fa640",
   "metadata": {},
   "source": [
    "57 строк не могут исказить такую большую выборку, но оставлять их в расчетах без понимания причин не имеет смысла. Это может быть как техническая ошибка, так и особенность округления. Учтем данные нюансы в логике оператора WHERE.\n",
    "\n",
    "Напишем код, который даст ответ про средний чек в когортах.\n",
    "Сначала определим минимальный месяц для каждого клиента и положим это в CTE.\n",
    "Потом присоединим к покупкам когорту клиента и сгруппируем по ней данные о среднем чеке.\n",
    "Не забудем вывести размеры выборок, чтобы визуально оценить стат.значимость."
   ]
  },
  {
   "cell_type": "code",
   "execution_count": 12,
   "id": "cd7aa37c",
   "metadata": {},
   "outputs": [
    {
     "data": {
      "text/html": [
       "<div>\n",
       "<style scoped>\n",
       "    .dataframe tbody tr th:only-of-type {\n",
       "        vertical-align: middle;\n",
       "    }\n",
       "\n",
       "    .dataframe tbody tr th {\n",
       "        vertical-align: top;\n",
       "    }\n",
       "\n",
       "    .dataframe thead th {\n",
       "        text-align: right;\n",
       "    }\n",
       "</style>\n",
       "<table border=\"1\" class=\"dataframe\">\n",
       "  <thead>\n",
       "    <tr style=\"text-align: right;\">\n",
       "      <th></th>\n",
       "      <th>first_purchase</th>\n",
       "      <th>clients</th>\n",
       "      <th>avg_per_user</th>\n",
       "    </tr>\n",
       "  </thead>\n",
       "  <tbody>\n",
       "    <tr>\n",
       "      <th>0</th>\n",
       "      <td>06.2017</td>\n",
       "      <td>4</td>\n",
       "      <td>10.325000</td>\n",
       "    </tr>\n",
       "    <tr>\n",
       "      <th>1</th>\n",
       "      <td>01.2017</td>\n",
       "      <td>5786</td>\n",
       "      <td>7.539724</td>\n",
       "    </tr>\n",
       "    <tr>\n",
       "      <th>2</th>\n",
       "      <td>07.2016</td>\n",
       "      <td>2890</td>\n",
       "      <td>5.170645</td>\n",
       "    </tr>\n",
       "    <tr>\n",
       "      <th>3</th>\n",
       "      <td>08.2016</td>\n",
       "      <td>2051</td>\n",
       "      <td>4.682625</td>\n",
       "    </tr>\n",
       "    <tr>\n",
       "      <th>4</th>\n",
       "      <td>09.2016</td>\n",
       "      <td>3782</td>\n",
       "      <td>4.589301</td>\n",
       "    </tr>\n",
       "    <tr>\n",
       "      <th>5</th>\n",
       "      <td>04.2017</td>\n",
       "      <td>3616</td>\n",
       "      <td>4.545037</td>\n",
       "    </tr>\n",
       "    <tr>\n",
       "      <th>6</th>\n",
       "      <td>11.2016</td>\n",
       "      <td>5626</td>\n",
       "      <td>4.440598</td>\n",
       "    </tr>\n",
       "    <tr>\n",
       "      <th>7</th>\n",
       "      <td>03.2017</td>\n",
       "      <td>5654</td>\n",
       "      <td>4.352285</td>\n",
       "    </tr>\n",
       "    <tr>\n",
       "      <th>8</th>\n",
       "      <td>05.2017</td>\n",
       "      <td>4704</td>\n",
       "      <td>4.228634</td>\n",
       "    </tr>\n",
       "    <tr>\n",
       "      <th>9</th>\n",
       "      <td>10.2016</td>\n",
       "      <td>6295</td>\n",
       "      <td>4.188306</td>\n",
       "    </tr>\n",
       "    <tr>\n",
       "      <th>10</th>\n",
       "      <td>02.2017</td>\n",
       "      <td>6026</td>\n",
       "      <td>4.094226</td>\n",
       "    </tr>\n",
       "    <tr>\n",
       "      <th>11</th>\n",
       "      <td>12.2016</td>\n",
       "      <td>6073</td>\n",
       "      <td>3.865898</td>\n",
       "    </tr>\n",
       "    <tr>\n",
       "      <th>12</th>\n",
       "      <td>06.2016</td>\n",
       "      <td>3270</td>\n",
       "      <td>3.852467</td>\n",
       "    </tr>\n",
       "  </tbody>\n",
       "</table>\n",
       "</div>"
      ],
      "text/plain": [
       "   first_purchase  clients  avg_per_user\n",
       "0        06.2017         4     10.325000\n",
       "1        01.2017      5786      7.539724\n",
       "2        07.2016      2890      5.170645\n",
       "3        08.2016      2051      4.682625\n",
       "4        09.2016      3782      4.589301\n",
       "5        04.2017      3616      4.545037\n",
       "6        11.2016      5626      4.440598\n",
       "7        03.2017      5654      4.352285\n",
       "8        05.2017      4704      4.228634\n",
       "9        10.2016      6295      4.188306\n",
       "10       02.2017      6026      4.094226\n",
       "11       12.2016      6073      3.865898\n",
       "12       06.2016      3270      3.852467"
      ]
     },
     "execution_count": 12,
     "metadata": {},
     "output_type": "execute_result"
    }
   ],
   "source": [
    "sql = '''\n",
    "with first_month as  (select uid, min(substr(buy_ts, 4, 8)) as first_purchase\n",
    "    from purchases\n",
    "    where revenue > 0\n",
    "    group by uid\n",
    ")\n",
    "select fp.first_purchase,\n",
    "count(distinct p.uid) as clients,\n",
    "avg(p.revenue) AS avg_per_user\n",
    "from purchases p\n",
    "left join first_month fp\n",
    "on fp.uid = p.uid\n",
    "where revenue > 0\n",
    "group by fp.first_purchase\n",
    "order by avg(p.revenue) desc\n",
    "    \n",
    "'''\n",
    "select(sql)"
   ]
  },
  {
   "cell_type": "markdown",
   "id": "42ab0bfb",
   "metadata": {},
   "source": [
    "**Ответ**: лучшей когортой по среднему чеку является июнь 2017 года, но кол-во клиентов не позволяет принимать во внимание \n",
    "данный показатель.   \n",
    "\n",
    "Спускаемся на строчку ниже.  \n",
    "\n",
    "👼🏻Правильный ответ:👼🏻  \n",
    "✅ лучшая когорта по среднему чеку это январь 2017 года  \n",
    "⛔️ худшая  когорта по среднему чеку это июнь 2016 года  "
   ]
  },
  {
   "cell_type": "markdown",
   "id": "e6659ded",
   "metadata": {},
   "source": [
    "❓**Какой LTV на каждую когорту пользователей (по месяцу первой покупки)?**❓"
   ]
  },
  {
   "cell_type": "markdown",
   "id": "980b5e9d",
   "metadata": {},
   "source": [
    "**LTV (Lifetime Value)** обычно рассчитывается с момента первой покупки пользователя, так как это является более точным показателем дохода, который пользователь приносит бизнесу.\n",
    "\n",
    "Информации по расходам на рекламу и оттоку у нас нет, поэтому посчитаем по самой простой формуле: общий доход на когорту разделить на количество клиентов."
   ]
  },
  {
   "cell_type": "code",
   "execution_count": 13,
   "id": "26eca820",
   "metadata": {},
   "outputs": [
    {
     "data": {
      "text/html": [
       "<div>\n",
       "<style scoped>\n",
       "    .dataframe tbody tr th:only-of-type {\n",
       "        vertical-align: middle;\n",
       "    }\n",
       "\n",
       "    .dataframe tbody tr th {\n",
       "        vertical-align: top;\n",
       "    }\n",
       "\n",
       "    .dataframe thead th {\n",
       "        text-align: right;\n",
       "    }\n",
       "</style>\n",
       "<table border=\"1\" class=\"dataframe\">\n",
       "  <thead>\n",
       "    <tr style=\"text-align: right;\">\n",
       "      <th></th>\n",
       "      <th>first_purchase</th>\n",
       "      <th>clients</th>\n",
       "      <th>offer_cnt</th>\n",
       "      <th>offers_clients</th>\n",
       "      <th>rev</th>\n",
       "      <th>ltv</th>\n",
       "    </tr>\n",
       "  </thead>\n",
       "  <tbody>\n",
       "    <tr>\n",
       "      <th>0</th>\n",
       "      <td>01.2017</td>\n",
       "      <td>5786</td>\n",
       "      <td>55936</td>\n",
       "      <td>9.667</td>\n",
       "      <td>421742.00</td>\n",
       "      <td>72.890080</td>\n",
       "    </tr>\n",
       "    <tr>\n",
       "      <th>1</th>\n",
       "      <td>02.2017</td>\n",
       "      <td>6026</td>\n",
       "      <td>33196</td>\n",
       "      <td>5.509</td>\n",
       "      <td>135911.92</td>\n",
       "      <td>22.554252</td>\n",
       "    </tr>\n",
       "    <tr>\n",
       "      <th>2</th>\n",
       "      <td>03.2017</td>\n",
       "      <td>5654</td>\n",
       "      <td>30752</td>\n",
       "      <td>5.439</td>\n",
       "      <td>133841.48</td>\n",
       "      <td>23.671999</td>\n",
       "    </tr>\n",
       "    <tr>\n",
       "      <th>3</th>\n",
       "      <td>04.2017</td>\n",
       "      <td>3616</td>\n",
       "      <td>18392</td>\n",
       "      <td>5.086</td>\n",
       "      <td>83592.32</td>\n",
       "      <td>23.117345</td>\n",
       "    </tr>\n",
       "    <tr>\n",
       "      <th>4</th>\n",
       "      <td>05.2017</td>\n",
       "      <td>4704</td>\n",
       "      <td>22232</td>\n",
       "      <td>4.726</td>\n",
       "      <td>94011.00</td>\n",
       "      <td>19.985332</td>\n",
       "    </tr>\n",
       "    <tr>\n",
       "      <th>5</th>\n",
       "      <td>06.2016</td>\n",
       "      <td>3270</td>\n",
       "      <td>16244</td>\n",
       "      <td>4.968</td>\n",
       "      <td>62579.48</td>\n",
       "      <td>19.137456</td>\n",
       "    </tr>\n",
       "    <tr>\n",
       "      <th>6</th>\n",
       "      <td>06.2017</td>\n",
       "      <td>4</td>\n",
       "      <td>16</td>\n",
       "      <td>4.000</td>\n",
       "      <td>165.20</td>\n",
       "      <td>41.300000</td>\n",
       "    </tr>\n",
       "    <tr>\n",
       "      <th>7</th>\n",
       "      <td>07.2016</td>\n",
       "      <td>2890</td>\n",
       "      <td>14264</td>\n",
       "      <td>4.936</td>\n",
       "      <td>73754.08</td>\n",
       "      <td>25.520443</td>\n",
       "    </tr>\n",
       "    <tr>\n",
       "      <th>8</th>\n",
       "      <td>08.2016</td>\n",
       "      <td>2051</td>\n",
       "      <td>9920</td>\n",
       "      <td>4.837</td>\n",
       "      <td>46451.64</td>\n",
       "      <td>22.648289</td>\n",
       "    </tr>\n",
       "    <tr>\n",
       "      <th>9</th>\n",
       "      <td>09.2016</td>\n",
       "      <td>3782</td>\n",
       "      <td>18300</td>\n",
       "      <td>4.839</td>\n",
       "      <td>83984.20</td>\n",
       "      <td>22.206293</td>\n",
       "    </tr>\n",
       "    <tr>\n",
       "      <th>10</th>\n",
       "      <td>10.2016</td>\n",
       "      <td>6295</td>\n",
       "      <td>29844</td>\n",
       "      <td>4.741</td>\n",
       "      <td>124995.80</td>\n",
       "      <td>19.856362</td>\n",
       "    </tr>\n",
       "    <tr>\n",
       "      <th>11</th>\n",
       "      <td>11.2016</td>\n",
       "      <td>5626</td>\n",
       "      <td>26600</td>\n",
       "      <td>4.728</td>\n",
       "      <td>118119.92</td>\n",
       "      <td>20.995364</td>\n",
       "    </tr>\n",
       "    <tr>\n",
       "      <th>12</th>\n",
       "      <td>12.2016</td>\n",
       "      <td>6073</td>\n",
       "      <td>26940</td>\n",
       "      <td>4.436</td>\n",
       "      <td>104147.28</td>\n",
       "      <td>17.149231</td>\n",
       "    </tr>\n",
       "  </tbody>\n",
       "</table>\n",
       "</div>"
      ],
      "text/plain": [
       "   first_purchase  clients  offer_cnt  offers_clients        rev        ltv\n",
       "0        01.2017      5786      55936           9.667  421742.00  72.890080\n",
       "1        02.2017      6026      33196           5.509  135911.92  22.554252\n",
       "2        03.2017      5654      30752           5.439  133841.48  23.671999\n",
       "3        04.2017      3616      18392           5.086   83592.32  23.117345\n",
       "4        05.2017      4704      22232           4.726   94011.00  19.985332\n",
       "5        06.2016      3270      16244           4.968   62579.48  19.137456\n",
       "6        06.2017         4         16           4.000     165.20  41.300000\n",
       "7        07.2016      2890      14264           4.936   73754.08  25.520443\n",
       "8        08.2016      2051       9920           4.837   46451.64  22.648289\n",
       "9        09.2016      3782      18300           4.839   83984.20  22.206293\n",
       "10       10.2016      6295      29844           4.741  124995.80  19.856362\n",
       "11       11.2016      5626      26600           4.728  118119.92  20.995364\n",
       "12       12.2016      6073      26940           4.436  104147.28  17.149231"
      ]
     },
     "execution_count": 13,
     "metadata": {},
     "output_type": "execute_result"
    }
   ],
   "source": [
    "sql = '''\n",
    "with first_month as  \n",
    "(select uid, min(substr(buy_ts, 4, 8)) as first_purchase,\n",
    "count(revenue) as offer_cnt,\n",
    "sum(revenue) as rev\n",
    "    from purchases\n",
    "    where revenue > 0\n",
    "    group by uid\n",
    ")\n",
    "select first_purchase,\n",
    "count(distinct uid) as clients,\n",
    "sum(offer_cnt) as offer_cnt,\n",
    "round(sum(offer_cnt)/cast(count(distinct uid) as float), 3) as offers_clients,\n",
    "sum(rev) as rev,\n",
    "sum(rev)/count(distinct uid) as ltv\n",
    "from first_month\n",
    "group by first_purchase\n",
    "\n",
    "'''\n",
    "ltable = select(sql)\n",
    "ltable"
   ]
  },
  {
   "cell_type": "markdown",
   "id": "027270c5",
   "metadata": {},
   "source": [
    "А тут мы видим чем обусловлено высокий средний чек для клиентов из когорты  01.2017.\n",
    "Добавим визуализации."
   ]
  },
  {
   "cell_type": "code",
   "execution_count": 15,
   "id": "e2f3dc1e",
   "metadata": {},
   "outputs": [
    {
     "data": {
      "image/png": "[encoded data removed]",
      "text/plain": [
       "<Figure size 864x432 with 1 Axes>"
      ]
     },
     "metadata": {
      "needs_background": "light"
     },
     "output_type": "display_data"
    }
   ],
   "source": [
    "ltab = ltable[['first_purchase', 'offers_clients']]\n",
    "df = ltab.sort_values(by='first_purchase')\n",
    "plt.figure(figsize=(12, 6))\n",
    "sns.lineplot(x='first_purchase', y='offers_clients', data=df, marker='o', color='b')\n",
    "plt.title('Среднее количество офферов на одного клиента по когортам')\n",
    "plt.xlabel('Когорта (Месяц первой покупки)')\n",
    "plt.ylabel('Среднее количество офферов на клиента')\n",
    "plt.xticks(rotation=45)\n",
    "plt.grid(True)\n",
    "plt.show()"
   ]
  },
  {
   "cell_type": "markdown",
   "id": "ee41fbdd",
   "metadata": {},
   "source": [
    "Да, клиенты зашедшие в компанию 01.2017 имеет повышенный спрос на финансовые услуги и покупают в среднем в 2 раза больше, чем клиенты из остальных когорт.  \n",
    "Это может быть обусловлено какой-то маркетинговой акцией в этот месяц, которая гарантировала клиентам спец.условия по дальнейшим покупкам.  \n",
    "\n",
    "**Сделаем визуализацию для LTV**"
   ]
  },
  {
   "cell_type": "code",
   "execution_count": 16,
   "id": "103b980e",
   "metadata": {},
   "outputs": [
    {
     "data": {
      "image/png": "[encoded data removed]",
      "text/plain": [
       "<Figure size 864x432 with 1 Axes>"
      ]
     },
     "metadata": {
      "needs_background": "light"
     },
     "output_type": "display_data"
    }
   ],
   "source": [
    "ltab = ltable[['first_purchase', 'ltv']]\n",
    "plt.figure(figsize=(12, 6))\n",
    "sns.barplot(x='first_purchase', y='ltv', data=ltab, palette='coolwarm')\n",
    "plt.xlabel('Когорта (Месяц первой покупки)')\n",
    "plt.ylabel('LTV')\n",
    "plt.title('Изменение LTV по когортам')\n",
    "plt.xticks(rotation=45)\n",
    "plt.show()"
   ]
  },
  {
   "cell_type": "markdown",
   "id": "c50797a8",
   "metadata": {},
   "source": [
    "LTV так же отражает аномальную ценность клиентов по сравнению с остальными когортами."
   ]
  },
  {
   "cell_type": "markdown",
   "id": "24cba550",
   "metadata": {},
   "source": [
    "Все еще смущает когорта 06.2017. Изучим что там лежит"
   ]
  },
  {
   "cell_type": "code",
   "execution_count": 33,
   "id": "22b7ae4a",
   "metadata": {},
   "outputs": [
    {
     "data": {
      "text/html": [
       "<div>\n",
       "<style scoped>\n",
       "    .dataframe tbody tr th:only-of-type {\n",
       "        vertical-align: middle;\n",
       "    }\n",
       "\n",
       "    .dataframe tbody tr th {\n",
       "        vertical-align: top;\n",
       "    }\n",
       "\n",
       "    .dataframe thead th {\n",
       "        text-align: right;\n",
       "    }\n",
       "</style>\n",
       "<table border=\"1\" class=\"dataframe\">\n",
       "  <thead>\n",
       "    <tr style=\"text-align: right;\">\n",
       "      <th></th>\n",
       "      <th>id</th>\n",
       "      <th>buy_ts</th>\n",
       "      <th>uid</th>\n",
       "      <th>revenue</th>\n",
       "      <th>first_purchase</th>\n",
       "    </tr>\n",
       "  </thead>\n",
       "  <tbody>\n",
       "    <tr>\n",
       "      <th>0</th>\n",
       "      <td>19573</td>\n",
       "      <td>01.06.2017 00:07:12</td>\n",
       "      <td>3150804798</td>\n",
       "      <td>4.64</td>\n",
       "      <td>06.2017</td>\n",
       "    </tr>\n",
       "    <tr>\n",
       "      <th>1</th>\n",
       "      <td>24000</td>\n",
       "      <td>01.06.2017 00:01:22</td>\n",
       "      <td>1865813875</td>\n",
       "      <td>8.80</td>\n",
       "      <td>06.2017</td>\n",
       "    </tr>\n",
       "    <tr>\n",
       "      <th>2</th>\n",
       "      <td>34784</td>\n",
       "      <td>01.06.2017 00:03:30</td>\n",
       "      <td>2225285757</td>\n",
       "      <td>3.42</td>\n",
       "      <td>06.2017</td>\n",
       "    </tr>\n",
       "    <tr>\n",
       "      <th>3</th>\n",
       "      <td>56780</td>\n",
       "      <td>01.06.2017 00:02:38</td>\n",
       "      <td>285702455</td>\n",
       "      <td>24.44</td>\n",
       "      <td>06.2017</td>\n",
       "    </tr>\n",
       "    <tr>\n",
       "      <th>4</th>\n",
       "      <td>95289</td>\n",
       "      <td>01.06.2017 00:07:12</td>\n",
       "      <td>3150804798</td>\n",
       "      <td>4.64</td>\n",
       "      <td>06.2017</td>\n",
       "    </tr>\n",
       "    <tr>\n",
       "      <th>5</th>\n",
       "      <td>99716</td>\n",
       "      <td>01.06.2017 00:01:22</td>\n",
       "      <td>1865813875</td>\n",
       "      <td>8.80</td>\n",
       "      <td>06.2017</td>\n",
       "    </tr>\n",
       "    <tr>\n",
       "      <th>6</th>\n",
       "      <td>110500</td>\n",
       "      <td>01.06.2017 00:03:30</td>\n",
       "      <td>2225285757</td>\n",
       "      <td>3.42</td>\n",
       "      <td>06.2017</td>\n",
       "    </tr>\n",
       "    <tr>\n",
       "      <th>7</th>\n",
       "      <td>132496</td>\n",
       "      <td>01.06.2017 00:02:38</td>\n",
       "      <td>285702455</td>\n",
       "      <td>24.44</td>\n",
       "      <td>06.2017</td>\n",
       "    </tr>\n",
       "    <tr>\n",
       "      <th>8</th>\n",
       "      <td>171005</td>\n",
       "      <td>01.06.2017 00:07:12</td>\n",
       "      <td>3150804798</td>\n",
       "      <td>4.64</td>\n",
       "      <td>06.2017</td>\n",
       "    </tr>\n",
       "    <tr>\n",
       "      <th>9</th>\n",
       "      <td>175432</td>\n",
       "      <td>01.06.2017 00:01:22</td>\n",
       "      <td>1865813875</td>\n",
       "      <td>8.80</td>\n",
       "      <td>06.2017</td>\n",
       "    </tr>\n",
       "    <tr>\n",
       "      <th>10</th>\n",
       "      <td>186216</td>\n",
       "      <td>01.06.2017 00:03:30</td>\n",
       "      <td>2225285757</td>\n",
       "      <td>3.42</td>\n",
       "      <td>06.2017</td>\n",
       "    </tr>\n",
       "    <tr>\n",
       "      <th>11</th>\n",
       "      <td>208212</td>\n",
       "      <td>01.06.2017 00:02:38</td>\n",
       "      <td>285702455</td>\n",
       "      <td>24.44</td>\n",
       "      <td>06.2017</td>\n",
       "    </tr>\n",
       "    <tr>\n",
       "      <th>12</th>\n",
       "      <td>246721</td>\n",
       "      <td>01.06.2017 00:07:12</td>\n",
       "      <td>3150804798</td>\n",
       "      <td>4.64</td>\n",
       "      <td>06.2017</td>\n",
       "    </tr>\n",
       "    <tr>\n",
       "      <th>13</th>\n",
       "      <td>251148</td>\n",
       "      <td>01.06.2017 00:01:22</td>\n",
       "      <td>1865813875</td>\n",
       "      <td>8.80</td>\n",
       "      <td>06.2017</td>\n",
       "    </tr>\n",
       "    <tr>\n",
       "      <th>14</th>\n",
       "      <td>261932</td>\n",
       "      <td>01.06.2017 00:03:30</td>\n",
       "      <td>2225285757</td>\n",
       "      <td>3.42</td>\n",
       "      <td>06.2017</td>\n",
       "    </tr>\n",
       "    <tr>\n",
       "      <th>15</th>\n",
       "      <td>283928</td>\n",
       "      <td>01.06.2017 00:02:38</td>\n",
       "      <td>285702455</td>\n",
       "      <td>24.44</td>\n",
       "      <td>06.2017</td>\n",
       "    </tr>\n",
       "  </tbody>\n",
       "</table>\n",
       "</div>"
      ],
      "text/plain": [
       "        id               buy_ts         uid  revenue first_purchase\n",
       "0    19573  01.06.2017 00:07:12  3150804798     4.64       06.2017 \n",
       "1    24000  01.06.2017 00:01:22  1865813875     8.80       06.2017 \n",
       "2    34784  01.06.2017 00:03:30  2225285757     3.42       06.2017 \n",
       "3    56780  01.06.2017 00:02:38   285702455    24.44       06.2017 \n",
       "4    95289  01.06.2017 00:07:12  3150804798     4.64       06.2017 \n",
       "5    99716  01.06.2017 00:01:22  1865813875     8.80       06.2017 \n",
       "6   110500  01.06.2017 00:03:30  2225285757     3.42       06.2017 \n",
       "7   132496  01.06.2017 00:02:38   285702455    24.44       06.2017 \n",
       "8   171005  01.06.2017 00:07:12  3150804798     4.64       06.2017 \n",
       "9   175432  01.06.2017 00:01:22  1865813875     8.80       06.2017 \n",
       "10  186216  01.06.2017 00:03:30  2225285757     3.42       06.2017 \n",
       "11  208212  01.06.2017 00:02:38   285702455    24.44       06.2017 \n",
       "12  246721  01.06.2017 00:07:12  3150804798     4.64       06.2017 \n",
       "13  251148  01.06.2017 00:01:22  1865813875     8.80       06.2017 \n",
       "14  261932  01.06.2017 00:03:30  2225285757     3.42       06.2017 \n",
       "15  283928  01.06.2017 00:02:38   285702455    24.44       06.2017 "
      ]
     },
     "execution_count": 33,
     "metadata": {},
     "output_type": "execute_result"
    }
   ],
   "source": [
    "sql = '''\n",
    "with first_month as  \n",
    "(select uid, min(substr(buy_ts, 4, 8)) as first_purchase\n",
    "    from purchases\n",
    "    where revenue > 0\n",
    "    group by uid\n",
    ")\n",
    "select p.*, fp. first_purchase\n",
    "from purchases p\n",
    "left join first_month fp\n",
    "on fp.uid = p.uid\n",
    "where first_purchase like '%06.2017%'\n",
    "\n",
    "'''\n",
    "ltable = select(sql)\n",
    "ltable"
   ]
  },
  {
   "cell_type": "markdown",
   "id": "e12ce6fc",
   "metadata": {},
   "source": [
    "Теперь стало понятнее. В выборку попал неполный месяц. Всего 4 клиента самого начала - июня 2017. Тут изучать особо нечего, выборка не релевантна"
   ]
  },
  {
   "cell_type": "markdown",
   "id": "533bab7d",
   "metadata": {},
   "source": [
    "**Вывод**: рассчитано LTV на каждого клиента в рамках когорт по месяцу первой покупки.  \n",
    "Рекордными показателями по LTV, cnt_offers, revenue может похвастаться когорта 01.2017.  \n",
    "У нас нет понимания контекста этого месяца, но возможно какие-то ответы сможет дать таблица с визитами. Проверим."
   ]
  },
  {
   "cell_type": "code",
   "execution_count": 52,
   "id": "502bf22d",
   "metadata": {},
   "outputs": [
    {
     "data": {
      "text/html": [
       "<div>\n",
       "<style scoped>\n",
       "    .dataframe tbody tr th:only-of-type {\n",
       "        vertical-align: middle;\n",
       "    }\n",
       "\n",
       "    .dataframe tbody tr th {\n",
       "        vertical-align: top;\n",
       "    }\n",
       "\n",
       "    .dataframe thead th {\n",
       "        text-align: right;\n",
       "    }\n",
       "</style>\n",
       "<table border=\"1\" class=\"dataframe\">\n",
       "  <thead>\n",
       "    <tr style=\"text-align: right;\">\n",
       "      <th></th>\n",
       "      <th>dat</th>\n",
       "      <th>cnt</th>\n",
       "      <th>clients</th>\n",
       "      <th>visit_per_client</th>\n",
       "    </tr>\n",
       "  </thead>\n",
       "  <tbody>\n",
       "    <tr>\n",
       "      <th>0</th>\n",
       "      <td>2016-06</td>\n",
       "      <td>98805</td>\n",
       "      <td>23926</td>\n",
       "      <td>0.242154</td>\n",
       "    </tr>\n",
       "    <tr>\n",
       "      <th>1</th>\n",
       "      <td>2016-07</td>\n",
       "      <td>106227</td>\n",
       "      <td>25352</td>\n",
       "      <td>0.238659</td>\n",
       "    </tr>\n",
       "    <tr>\n",
       "      <th>2</th>\n",
       "      <td>2016-08</td>\n",
       "      <td>86409</td>\n",
       "      <td>21054</td>\n",
       "      <td>0.243655</td>\n",
       "    </tr>\n",
       "    <tr>\n",
       "      <th>3</th>\n",
       "      <td>2016-09</td>\n",
       "      <td>144984</td>\n",
       "      <td>34114</td>\n",
       "      <td>0.235295</td>\n",
       "    </tr>\n",
       "    <tr>\n",
       "      <th>4</th>\n",
       "      <td>2016-10</td>\n",
       "      <td>227619</td>\n",
       "      <td>52736</td>\n",
       "      <td>0.231685</td>\n",
       "    </tr>\n",
       "    <tr>\n",
       "      <th>5</th>\n",
       "      <td>2016-11</td>\n",
       "      <td>265737</td>\n",
       "      <td>57289</td>\n",
       "      <td>0.215585</td>\n",
       "    </tr>\n",
       "    <tr>\n",
       "      <th>6</th>\n",
       "      <td>2016-12</td>\n",
       "      <td>251460</td>\n",
       "      <td>55090</td>\n",
       "      <td>0.219081</td>\n",
       "    </tr>\n",
       "    <tr>\n",
       "      <th>7</th>\n",
       "      <td>2017-01</td>\n",
       "      <td>222411</td>\n",
       "      <td>51277</td>\n",
       "      <td>0.230551</td>\n",
       "    </tr>\n",
       "    <tr>\n",
       "      <th>8</th>\n",
       "      <td>2017-02</td>\n",
       "      <td>223794</td>\n",
       "      <td>51085</td>\n",
       "      <td>0.228268</td>\n",
       "    </tr>\n",
       "    <tr>\n",
       "      <th>9</th>\n",
       "      <td>2017-03</td>\n",
       "      <td>214917</td>\n",
       "      <td>48668</td>\n",
       "      <td>0.226450</td>\n",
       "    </tr>\n",
       "    <tr>\n",
       "      <th>10</th>\n",
       "      <td>2017-04</td>\n",
       "      <td>158595</td>\n",
       "      <td>37468</td>\n",
       "      <td>0.236250</td>\n",
       "    </tr>\n",
       "    <tr>\n",
       "      <th>11</th>\n",
       "      <td>2017-05</td>\n",
       "      <td>161079</td>\n",
       "      <td>36824</td>\n",
       "      <td>0.228608</td>\n",
       "    </tr>\n",
       "  </tbody>\n",
       "</table>\n",
       "</div>"
      ],
      "text/plain": [
       "        dat     cnt  clients  visit_per_client\n",
       "0   2016-06   98805    23926          0.242154\n",
       "1   2016-07  106227    25352          0.238659\n",
       "2   2016-08   86409    21054          0.243655\n",
       "3   2016-09  144984    34114          0.235295\n",
       "4   2016-10  227619    52736          0.231685\n",
       "5   2016-11  265737    57289          0.215585\n",
       "6   2016-12  251460    55090          0.219081\n",
       "7   2017-01  222411    51277          0.230551\n",
       "8   2017-02  223794    51085          0.228268\n",
       "9   2017-03  214917    48668          0.226450\n",
       "10  2017-04  158595    37468          0.236250\n",
       "11  2017-05  161079    36824          0.228608"
      ]
     },
     "execution_count": 52,
     "metadata": {},
     "output_type": "execute_result"
    }
   ],
   "source": [
    "sql = '''\n",
    "select substr(start_dt, 1, 7) as dat,\n",
    "count(id) as cnt,\n",
    "count(distinct uid) as clients,\n",
    "count(distinct uid)*1.0/count(id)*1.0  visit_per_client\n",
    "from visits\n",
    "group by dat\n",
    "'''\n",
    "ltable = select(sql)\n",
    "ltable "
   ]
  },
  {
   "cell_type": "markdown",
   "id": "6dc3ad25",
   "metadata": {},
   "source": [
    "Нет, когорта 01.2017 не является такой же аномальной как по количеству визитов, так и по метрике кол-во визитов на одного клиента."
   ]
  },
  {
   "cell_type": "markdown",
   "id": "333908ef",
   "metadata": {},
   "source": [
    "#### Часть 2"
   ]
  },
  {
   "cell_type": "markdown",
   "id": "31aa6f58",
   "metadata": {},
   "source": [
    "Аналитик заходит в отчетность и видит воронку \n",
    "\n",
    "⚠️**Необходимо определить**:⚠️\n",
    "  \n",
    "Какой шаг воронки 17.09.2023 больше всего повлиял на снижение количества целевых действий (оформление договора)? Почему?\n",
    "\n",
    "**Воронка**"
   ]
  },
  {
   "cell_type": "raw",
   "id": "64c93f0d",
   "metadata": {},
   "source": [
    "Дата\tВизиты\tСоздание заявки\tЗаполнение анкеты\tОформление договора\n",
    "10.09.2023\t2 495 826\t10 567\t6 086\t2 345\n",
    "11.09.2023\t2 956 438\t9 508\t5 245\t1 990\n",
    "12.09.2023\t2 940 059\t10 575\t6 180\t2 378\n",
    "13.09.2023\t3 164 803\t10 987\t5 962\t2 209\n",
    "14.09.2023\t2 993 864\t9 904\t5 501\t2 173\n",
    "15.09.2023\t2 505 858\t8 673\t4 999\t1 946\n",
    "16.09.2023\t3 096 857\t10 124\t5 438\t2 134\n",
    "17.09.2023\t2 959 836\t7 392\t3 572\t1 102"
   ]
  },
  {
   "cell_type": "markdown",
   "id": "2e452272",
   "metadata": {},
   "source": [
    "🔔**Решение**🔔  \n",
    "В рамках данной задачи нет доп.условий по путям ее решения(например, использование SQL).  \n",
    "Для решения задачи используем волшебство Питона🐍.\n",
    "\n",
    "В рамках задачи отчетность дана текстом. С этим не очень удобно работать, конвертируем её в привычный датафрейм. \n",
    "Для этого:  \n",
    "1. Создадим файл эксель\n",
    "2. Скопируем в него данные по воронке\n",
    "3. Прочитаем его с помощью pandas"
   ]
  },
  {
   "cell_type": "code",
   "execution_count": 18,
   "id": "0c39f725",
   "metadata": {},
   "outputs": [
    {
     "name": "stdout",
     "output_type": "stream",
     "text": [
      "<class 'pandas.core.frame.DataFrame'>\n",
      "RangeIndex: 8 entries, 0 to 7\n",
      "Data columns (total 5 columns):\n",
      " #   Column              Non-Null Count  Dtype         \n",
      "---  ------              --------------  -----         \n",
      " 0   datas               8 non-null      datetime64[ns]\n",
      " 1   visits              8 non-null      int64         \n",
      " 2   create_application  8 non-null      int64         \n",
      " 3   application         8 non-null      int64         \n",
      " 4   offer               8 non-null      int64         \n",
      "dtypes: datetime64[ns](1), int64(4)\n",
      "memory usage: 448.0 bytes\n"
     ]
    }
   ],
   "source": [
    "df = pd.read_excel('task2.xlsx')\n",
    "df.info()"
   ]
  },
  {
   "cell_type": "markdown",
   "id": "82d309e6",
   "metadata": {},
   "source": [
    "**Выведем динамику визитов по дням**"
   ]
  },
  {
   "cell_type": "code",
   "execution_count": 19,
   "id": "f6104c61",
   "metadata": {},
   "outputs": [
    {
     "data": {
      "image/png": "[encoded data removed]",
      "text/plain": [
       "<Figure size 864x432 with 1 Axes>"
      ]
     },
     "metadata": {},
     "output_type": "display_data"
    }
   ],
   "source": [
    "sns.set_style(\"whitegrid\")\n",
    "plt.figure(figsize=(12, 6))\n",
    "sns.lineplot(x='datas', y='visits', data=df[['datas', 'visits']], marker='o', color='b')\n",
    "plt.xlabel('Дата')\n",
    "plt.ylabel('Количество визитов')\n",
    "plt.title('Динамика количества визитов по дням')\n",
    "plt.xticks(rotation=45)\n",
    "plt.show()"
   ]
  },
  {
   "cell_type": "markdown",
   "id": "753d9f5c",
   "metadata": {},
   "source": [
    "Даже при первом касании в глаза бросается проседание 17 сентября.  \n",
    "Заглянем в календарь - 17 сентября 2023 это воскресенье.  \n",
    "**Гипотеза:** по воскресеньям люди не демонстрируют высокий спрос на фин.услуги.  \n",
    "Поэтому проседание можно обьяснить особенностью выходного дня.  \n",
    "Но мы попробуем копнуть чуть глубже и определить тренды."
   ]
  },
  {
   "cell_type": "markdown",
   "id": "7679dded",
   "metadata": {},
   "source": [
    "**Построим воронку** от количества визитов"
   ]
  },
  {
   "cell_type": "code",
   "execution_count": 20,
   "id": "c4c9289f",
   "metadata": {},
   "outputs": [
    {
     "data": {
      "text/html": [
       "<div>\n",
       "<style scoped>\n",
       "    .dataframe tbody tr th:only-of-type {\n",
       "        vertical-align: middle;\n",
       "    }\n",
       "\n",
       "    .dataframe tbody tr th {\n",
       "        vertical-align: top;\n",
       "    }\n",
       "\n",
       "    .dataframe thead th {\n",
       "        text-align: right;\n",
       "    }\n",
       "</style>\n",
       "<table border=\"1\" class=\"dataframe\">\n",
       "  <thead>\n",
       "    <tr style=\"text-align: right;\">\n",
       "      <th></th>\n",
       "      <th>datas</th>\n",
       "      <th>visits</th>\n",
       "      <th>create_application</th>\n",
       "      <th>application</th>\n",
       "      <th>offer</th>\n",
       "    </tr>\n",
       "  </thead>\n",
       "  <tbody>\n",
       "    <tr>\n",
       "      <th>0</th>\n",
       "      <td>2023-09-10</td>\n",
       "      <td>100.0</td>\n",
       "      <td>0.423387</td>\n",
       "      <td>0.243847</td>\n",
       "      <td>0.093957</td>\n",
       "    </tr>\n",
       "    <tr>\n",
       "      <th>1</th>\n",
       "      <td>2023-09-11</td>\n",
       "      <td>100.0</td>\n",
       "      <td>0.321603</td>\n",
       "      <td>0.177409</td>\n",
       "      <td>0.067311</td>\n",
       "    </tr>\n",
       "    <tr>\n",
       "      <th>2</th>\n",
       "      <td>2023-09-12</td>\n",
       "      <td>100.0</td>\n",
       "      <td>0.359687</td>\n",
       "      <td>0.210200</td>\n",
       "      <td>0.080883</td>\n",
       "    </tr>\n",
       "    <tr>\n",
       "      <th>3</th>\n",
       "      <td>2023-09-13</td>\n",
       "      <td>100.0</td>\n",
       "      <td>0.347162</td>\n",
       "      <td>0.188385</td>\n",
       "      <td>0.069799</td>\n",
       "    </tr>\n",
       "    <tr>\n",
       "      <th>4</th>\n",
       "      <td>2023-09-14</td>\n",
       "      <td>100.0</td>\n",
       "      <td>0.330810</td>\n",
       "      <td>0.183742</td>\n",
       "      <td>0.072582</td>\n",
       "    </tr>\n",
       "    <tr>\n",
       "      <th>5</th>\n",
       "      <td>2023-09-15</td>\n",
       "      <td>100.0</td>\n",
       "      <td>0.346109</td>\n",
       "      <td>0.199493</td>\n",
       "      <td>0.077658</td>\n",
       "    </tr>\n",
       "    <tr>\n",
       "      <th>6</th>\n",
       "      <td>2023-09-16</td>\n",
       "      <td>100.0</td>\n",
       "      <td>0.326912</td>\n",
       "      <td>0.175597</td>\n",
       "      <td>0.068909</td>\n",
       "    </tr>\n",
       "    <tr>\n",
       "      <th>7</th>\n",
       "      <td>2023-09-17</td>\n",
       "      <td>100.0</td>\n",
       "      <td>0.249744</td>\n",
       "      <td>0.120682</td>\n",
       "      <td>0.037232</td>\n",
       "    </tr>\n",
       "  </tbody>\n",
       "</table>\n",
       "</div>"
      ],
      "text/plain": [
       "       datas  visits  create_application  application     offer\n",
       "0 2023-09-10   100.0            0.423387     0.243847  0.093957\n",
       "1 2023-09-11   100.0            0.321603     0.177409  0.067311\n",
       "2 2023-09-12   100.0            0.359687     0.210200  0.080883\n",
       "3 2023-09-13   100.0            0.347162     0.188385  0.069799\n",
       "4 2023-09-14   100.0            0.330810     0.183742  0.072582\n",
       "5 2023-09-15   100.0            0.346109     0.199493  0.077658\n",
       "6 2023-09-16   100.0            0.326912     0.175597  0.068909\n",
       "7 2023-09-17   100.0            0.249744     0.120682  0.037232"
      ]
     },
     "execution_count": 20,
     "metadata": {},
     "output_type": "execute_result"
    }
   ],
   "source": [
    "funnel_df = df.copy()\n",
    "for col in df.columns[1:]:\n",
    "    funnel_df[col] = (df[col] / df['visits']) * 100\n",
    "funnel_df"
   ]
  },
  {
   "cell_type": "markdown",
   "id": "f1f96bc4",
   "metadata": {},
   "source": [
    "Любопытно, 10 сентября это тоже воскресенье. При этом, в этот день лучшая конверсия в заявку, в заполненное заявление и в офер.\n",
    "Гипотеза про выходной не состоятельна. **Отвергаем её**.\n",
    "\n",
    "А теперь построим воронку от предыдущего шага."
   ]
  },
  {
   "cell_type": "code",
   "execution_count": 21,
   "id": "a39684d1",
   "metadata": {},
   "outputs": [
    {
     "data": {
      "text/html": [
       "<div>\n",
       "<style scoped>\n",
       "    .dataframe tbody tr th:only-of-type {\n",
       "        vertical-align: middle;\n",
       "    }\n",
       "\n",
       "    .dataframe tbody tr th {\n",
       "        vertical-align: top;\n",
       "    }\n",
       "\n",
       "    .dataframe thead th {\n",
       "        text-align: right;\n",
       "    }\n",
       "</style>\n",
       "<table border=\"1\" class=\"dataframe\">\n",
       "  <thead>\n",
       "    <tr style=\"text-align: right;\">\n",
       "      <th></th>\n",
       "      <th>datas</th>\n",
       "      <th>create_cr</th>\n",
       "      <th>app_cr</th>\n",
       "      <th>offer_cr</th>\n",
       "    </tr>\n",
       "  </thead>\n",
       "  <tbody>\n",
       "    <tr>\n",
       "      <th>0</th>\n",
       "      <td>2023-09-10</td>\n",
       "      <td>42.338689</td>\n",
       "      <td>57.594398</td>\n",
       "      <td>38.531055</td>\n",
       "    </tr>\n",
       "    <tr>\n",
       "      <th>1</th>\n",
       "      <td>2023-09-11</td>\n",
       "      <td>32.160323</td>\n",
       "      <td>55.164072</td>\n",
       "      <td>37.940896</td>\n",
       "    </tr>\n",
       "    <tr>\n",
       "      <th>2</th>\n",
       "      <td>2023-09-12</td>\n",
       "      <td>35.968666</td>\n",
       "      <td>58.439716</td>\n",
       "      <td>38.478964</td>\n",
       "    </tr>\n",
       "    <tr>\n",
       "      <th>3</th>\n",
       "      <td>2023-09-13</td>\n",
       "      <td>34.716221</td>\n",
       "      <td>54.264130</td>\n",
       "      <td>37.051325</td>\n",
       "    </tr>\n",
       "    <tr>\n",
       "      <th>4</th>\n",
       "      <td>2023-09-14</td>\n",
       "      <td>33.080995</td>\n",
       "      <td>55.543215</td>\n",
       "      <td>39.501909</td>\n",
       "    </tr>\n",
       "    <tr>\n",
       "      <th>5</th>\n",
       "      <td>2023-09-15</td>\n",
       "      <td>34.610900</td>\n",
       "      <td>57.638649</td>\n",
       "      <td>38.927786</td>\n",
       "    </tr>\n",
       "    <tr>\n",
       "      <th>6</th>\n",
       "      <td>2023-09-16</td>\n",
       "      <td>32.691209</td>\n",
       "      <td>53.713947</td>\n",
       "      <td>39.242369</td>\n",
       "    </tr>\n",
       "    <tr>\n",
       "      <th>7</th>\n",
       "      <td>2023-09-17</td>\n",
       "      <td>24.974357</td>\n",
       "      <td>48.322511</td>\n",
       "      <td>30.851064</td>\n",
       "    </tr>\n",
       "  </tbody>\n",
       "</table>\n",
       "</div>"
      ],
      "text/plain": [
       "       datas  create_cr     app_cr   offer_cr\n",
       "0 2023-09-10  42.338689  57.594398  38.531055\n",
       "1 2023-09-11  32.160323  55.164072  37.940896\n",
       "2 2023-09-12  35.968666  58.439716  38.478964\n",
       "3 2023-09-13  34.716221  54.264130  37.051325\n",
       "4 2023-09-14  33.080995  55.543215  39.501909\n",
       "5 2023-09-15  34.610900  57.638649  38.927786\n",
       "6 2023-09-16  32.691209  53.713947  39.242369\n",
       "7 2023-09-17  24.974357  48.322511  30.851064"
      ]
     },
     "execution_count": 21,
     "metadata": {},
     "output_type": "execute_result"
    }
   ],
   "source": [
    "conversion_df = df.copy()\n",
    "conversion_df['create_cr'] = conversion_df['create_application'] / conversion_df['visits'] * 10000\n",
    "conversion_df['app_cr'] = conversion_df['application'] / conversion_df['create_application'] * 100\n",
    "conversion_df['offer_cr'] = conversion_df['offer'] / conversion_df['application'] * 100\n",
    "conversion_df = conversion_df[['datas', 'create_cr', 'app_cr', 'offer_cr']]\n",
    "conversion_df "
   ]
  },
  {
   "cell_type": "markdown",
   "id": "ac2a0222",
   "metadata": {},
   "source": [
    "Тут мы видим значительное проседание на всех этапах именно 17 сентября. Вероятно это обусловлено внешними факторами, которые мы пока не учитываем."
   ]
  },
  {
   "cell_type": "markdown",
   "id": "569e5147",
   "metadata": {},
   "source": [
    "**Изучим и визуализиурем конверсию в следующий шаг для каждого шага**"
   ]
  },
  {
   "cell_type": "code",
   "execution_count": 22,
   "id": "8051a786",
   "metadata": {},
   "outputs": [
    {
     "data": {
      "image/png": "[encoded data removed]",
      "text/plain": [
       "<Figure size 720x432 with 1 Axes>"
      ]
     },
     "metadata": {},
     "output_type": "display_data"
    }
   ],
   "source": [
    "conversion_df['datas'] = pd.to_datetime(conversion_df['datas'])\n",
    "plt.figure(figsize=(10, 6))\n",
    "sns.barplot(x=conversion_df['datas'].dt.strftime('%Y-%m-%d'), y='create_cr', data=conversion_df, color='skyblue')\n",
    "plt.xlabel('Даты')\n",
    "plt.ylabel('Доля конверсии в создание заявления')\n",
    "plt.title('Конверсия в создание заявления по дням')\n",
    "plt.xticks(rotation=45) \n",
    "plt.show()"
   ]
  },
  {
   "cell_type": "code",
   "execution_count": 23,
   "id": "a24436a4",
   "metadata": {},
   "outputs": [
    {
     "data": {
      "image/png": "[encoded data removed]",
      "text/plain": [
       "<Figure size 720x432 with 1 Axes>"
      ]
     },
     "metadata": {},
     "output_type": "display_data"
    }
   ],
   "source": [
    "plt.figure(figsize=(10, 6))\n",
    "sns.barplot(x=conversion_df['datas'].dt.strftime('%Y-%m-%d'), y='app_cr', data=conversion_df, color='lightcoral')\n",
    "plt.xlabel('Даты')\n",
    "plt.ylabel('Доля конверсии в заполнение заявления')\n",
    "plt.title('Конверсия в заполнение заявления по дням')\n",
    "plt.xticks(rotation=45) \n",
    "plt.show()"
   ]
  },
  {
   "cell_type": "code",
   "execution_count": 24,
   "id": "065a8bdc",
   "metadata": {},
   "outputs": [
    {
     "data": {
      "image/png": "[encoded data removed]",
      "text/plain": [
       "<Figure size 720x432 with 1 Axes>"
      ]
     },
     "metadata": {},
     "output_type": "display_data"
    }
   ],
   "source": [
    "plt.figure(figsize=(10, 6))\n",
    "sns.barplot(x=conversion_df['datas'].dt.strftime('%Y-%m-%d'), y='offer_cr', data=conversion_df, color='gold')\n",
    "plt.xlabel('Даты')\n",
    "plt.ylabel('Доля конверсии в оффер')\n",
    "plt.title('Конверсия в  оффер по дням')\n",
    "plt.xticks(rotation=45) \n",
    "plt.show()"
   ]
  },
  {
   "cell_type": "markdown",
   "id": "980b819d",
   "metadata": {},
   "source": [
    "**Вывод**: в рамках недели конверсия в следующий шаг колебается, но колебания в рамках логически обьяснимого.  \n",
    "А вот 17 сентября происходит значительное изменение метрики конверсий на каждом шаге.\n",
    "1. Разделим наш датафрейм на 2, в первом будет 7дневный период нормы, во втором аномальное 17 сентября.\n",
    "2. Сравним средние показатели конверсии нормы с аномальным днем.\n",
    "3. Выясним на каком шаге происходят наибольшие потери клиентов."
   ]
  },
  {
   "cell_type": "code",
   "execution_count": 53,
   "id": "51ceea85",
   "metadata": {},
   "outputs": [
    {
     "name": "stdout",
     "output_type": "stream",
     "text": [
      "Средняя конверcия в создание заявки: норма 35.1 17 сентября 25.0\n",
      "Снижение конверсии на первом шаге -28.81%\n"
     ]
    }
   ],
   "source": [
    "good_days = conversion_df.query('datas != \"2023-09-17\" ')\n",
    "bad_day = conversion_df.query('datas == \"2023-09-17\" ')\n",
    "print(f'Средняя конверcия в создание заявки: норма {round(good_days[\"create_cr\"].mean(), 1)} 17 сентября {round(bad_day[\"create_cr\"].values[0], 0)}')\n",
    "print(f'Снижение конверсии на первом шаге {round(bad_day[\"create_cr\"].values[0]/good_days[\"create_cr\"].mean()*100-100, 2) }%')"
   ]
  },
  {
   "cell_type": "code",
   "execution_count": 26,
   "id": "8e9e63ba",
   "metadata": {},
   "outputs": [
    {
     "name": "stdout",
     "output_type": "stream",
     "text": [
      "Средняя конверcия в заполнение заявки: норма 56.1 17 сентября 48.0\n",
      "Снижение конверсии на втором шаге -13.79%\n"
     ]
    }
   ],
   "source": [
    "print(f'Средняя конверcия в заполнение заявки: норма {round(good_days[\"app_cr\"].mean(), 1)} 17 сентября {round(bad_day[\"app_cr\"].values[0], 0)}')\n",
    "print(f'Снижение конверсии на втором шаге {round(bad_day[\"app_cr\"].values[0]/good_days[\"app_cr\"].mean()*100-100, 2) }%')"
   ]
  },
  {
   "cell_type": "code",
   "execution_count": 27,
   "id": "ef497c0a",
   "metadata": {},
   "outputs": [
    {
     "name": "stdout",
     "output_type": "stream",
     "text": [
      "Средняя конверcия в оффер: норма 38.5 17 сентября 31.0\n",
      "Снижение конверсии на третьем шаге -19.92%\n"
     ]
    }
   ],
   "source": [
    "print(f'Средняя конверcия в оффер: норма {round(good_days[\"offer_cr\"].mean(), 1)} 17 сентября {round(bad_day[\"offer_cr\"].values[0], 0)}')\n",
    "print(f'Снижение конверсии на третьем шаге {round(bad_day[\"offer_cr\"].values[0]/good_days[\"offer_cr\"].mean()*100-100, 2) }%')"
   ]
  },
  {
   "cell_type": "markdown",
   "id": "ad9c1c3d",
   "metadata": {},
   "source": [
    "✅**Вывод**: наибольшая потеря конверсии происходит на первом шаге. То есть значительно страдает конверсия из визитов в заполнение заявления.\n",
    "\n",
    "С чем это может быть связано?  \n",
    "**Две гипотезы:** баги на странице заполнения заявки или внешние факторы.  \n",
    "**Первую гипотезу** проверить нет возможности, так как вводные по техн.ограничениям не указаны. Оставим гипотезу в виртуальном возможном статусе.  \n",
    "**Вторая**: внешние факторы. На падение конверсии может повлиять ухудшение условий по продукту. Ухудшение условий часто связано с повышением ключевой ставки.\n",
    "\n",
    "[15 сентября ЦБ РФ повысил ключевую ставку до 13%](https://cbr.ru/press/pr/?file=15092023_133000Key.htm#:~:text=%D0%BF.%2C%20%D0%B4%D0%BE%2013%2C00%25%20%D0%B3%D0%BE%D0%B4%D0%BE%D0%B2%D1%8B%D1%85,-15%20%D1%81%D0%B5%D0%BD%D1%82%D1%8F%D0%B1%D1%80%D1%8F%202023&text=%D0%A1%D0%BE%D0%B2%D0%B5%D1%82%20%D0%B4%D0%B8%D1%80%D0%B5%D0%BA%D1%82%D0%BE%D1%80%D0%BE%D0%B2%20%D0%91%D0%B0%D0%BD%D0%BA%D0%B0%20%D0%A0%D0%BE%D1%81%D1%81%D0%B8%D0%B8%2015,%D0%B4%D0%BE%2013%2C00%25%20%D0%B3%D0%BE%D0%B4%D0%BE%D0%B2%D1%8B%D1%85.)\n",
    "\n",
    "Тогда почему падение не произошло 16 сентября? Вероятно какое-то время понадобилось на изменение условий по продукту в диджитал-каналах. \n",
    "Хронология:  \n",
    "📅 **15 сентября** повышение ключ.ставки  \n",
    "📅 **16 сенятбря** рефакторинг условий по продукт и выкат их в прод с 17 сентября  \n",
    "📅 **17 сентября** люди приходят за деньгами, но видят, что условия ухудшились. Не всем это подходит.  \n",
    "\n",
    "✅**Мой ответ**: значительное падение конверсии из визита в заявку связано с ухудшением кредитных условий, которые вызваны  повышением ключевой ставки."
   ]
  },
  {
   "cell_type": "markdown",
   "id": "971b70cf",
   "metadata": {},
   "source": [
    "#### Часть 3"
   ]
  },
  {
   "cell_type": "markdown",
   "id": "2c1455f8",
   "metadata": {},
   "source": [
    "В таблице test_tbl содержатся неповторяющиеся числа от 1 до N, при этом строк в таблице N-1, требуется вывести пропущенное число при помощи скрипта SQL\n",
    "\n",
    "**Решение**  \n",
    "Для этого задания создадим 3 тестовые таблицы, на которых будем проверять наше решение."
   ]
  },
  {
   "cell_type": "code",
   "execution_count": 57,
   "id": "25583be1",
   "metadata": {},
   "outputs": [
    {
     "name": "stdout",
     "output_type": "stream",
     "text": [
      "Тестовые таблицы успешно созданы и заполнены.\n"
     ]
    }
   ],
   "source": [
    "conn = sqlite3.connect('test_task.db')\n",
    "cursor = conn.cursor()\n",
    "\n",
    "cursor.execute('drop TABLE test_tbl1')\n",
    "cursor.execute('drop TABLE test_tbl2')\n",
    "cursor.execute('drop TABLE test_tbl3')\n",
    "# Создаем и заполняем таблицу test_tbl1 (1 до 10, пропущено 7)\n",
    "cursor.execute('CREATE TABLE IF NOT EXISTS test_tbl1 (number INTEGER)')\n",
    "cursor.executemany('INSERT INTO test_tbl1 (number) VALUES (?)', [(i,) for i in range(1, 11) if i != 7])\n",
    "\n",
    "# Создаем и заполняем таблицу test_tbl2 (1 до 30, пропущено 21)\n",
    "cursor.execute('CREATE TABLE IF NOT EXISTS test_tbl2 (number INTEGER)')\n",
    "cursor.executemany('INSERT INTO test_tbl2 (number) VALUES (?)', [(i,) for i in range(1, 31) if i != 21])\n",
    "\n",
    "# Создаем и заполняем таблицу test_tbl3 (1 до 99, пропущено 89)\n",
    "cursor.execute('CREATE TABLE IF NOT EXISTS test_tbl3 (number INTEGER)')\n",
    "cursor.executemany('INSERT INTO test_tbl3 (number) VALUES (?)', [(i,) for i in range(1, 100) if i != 89])\n",
    "conn.commit()\n",
    "\n",
    "print('Тестовые таблицы успешно созданы и заполнены.')"
   ]
  },
  {
   "cell_type": "code",
   "execution_count": 58,
   "id": "dc4f09e3",
   "metadata": {},
   "outputs": [
    {
     "data": {
      "text/html": [
       "<div>\n",
       "<style scoped>\n",
       "    .dataframe tbody tr th:only-of-type {\n",
       "        vertical-align: middle;\n",
       "    }\n",
       "\n",
       "    .dataframe tbody tr th {\n",
       "        vertical-align: top;\n",
       "    }\n",
       "\n",
       "    .dataframe thead th {\n",
       "        text-align: right;\n",
       "    }\n",
       "</style>\n",
       "<table border=\"1\" class=\"dataframe\">\n",
       "  <thead>\n",
       "    <tr style=\"text-align: right;\">\n",
       "      <th></th>\n",
       "      <th>number</th>\n",
       "    </tr>\n",
       "  </thead>\n",
       "  <tbody>\n",
       "    <tr>\n",
       "      <th>0</th>\n",
       "      <td>1</td>\n",
       "    </tr>\n",
       "    <tr>\n",
       "      <th>1</th>\n",
       "      <td>2</td>\n",
       "    </tr>\n",
       "    <tr>\n",
       "      <th>2</th>\n",
       "      <td>3</td>\n",
       "    </tr>\n",
       "    <tr>\n",
       "      <th>3</th>\n",
       "      <td>4</td>\n",
       "    </tr>\n",
       "    <tr>\n",
       "      <th>4</th>\n",
       "      <td>5</td>\n",
       "    </tr>\n",
       "    <tr>\n",
       "      <th>5</th>\n",
       "      <td>6</td>\n",
       "    </tr>\n",
       "    <tr>\n",
       "      <th>6</th>\n",
       "      <td>8</td>\n",
       "    </tr>\n",
       "    <tr>\n",
       "      <th>7</th>\n",
       "      <td>9</td>\n",
       "    </tr>\n",
       "    <tr>\n",
       "      <th>8</th>\n",
       "      <td>10</td>\n",
       "    </tr>\n",
       "  </tbody>\n",
       "</table>\n",
       "</div>"
      ],
      "text/plain": [
       "   number\n",
       "0       1\n",
       "1       2\n",
       "2       3\n",
       "3       4\n",
       "4       5\n",
       "5       6\n",
       "6       8\n",
       "7       9\n",
       "8      10"
      ]
     },
     "execution_count": 58,
     "metadata": {},
     "output_type": "execute_result"
    }
   ],
   "source": [
    "sql = ''' select * from test_tbl1'''\n",
    "select(sql)"
   ]
  },
  {
   "cell_type": "markdown",
   "id": "e622717e",
   "metadata": {},
   "source": [
    "Для решения это задачи воспользуемся CTE:\n",
    "1. Создаем таблицу, в которой будут все числа в заданном диапазоне без учета пропусков.\n",
    "2. Приджойним к ней изначальную таблицу.\n",
    "3. В фильтре WHERE укажем, что в результате должны остаться только те числа, которые не нашли себе пару при джоине."
   ]
  },
  {
   "cell_type": "markdown",
   "id": "e14a6bd7",
   "metadata": {},
   "source": [
    "**Тест 1** \n",
    "\n",
    "test_tbl1 (1 до 10, пропущено 7)"
   ]
  },
  {
   "cell_type": "code",
   "execution_count": 59,
   "id": "0b7abd65",
   "metadata": {},
   "outputs": [
    {
     "data": {
      "text/html": [
       "<div>\n",
       "<style scoped>\n",
       "    .dataframe tbody tr th:only-of-type {\n",
       "        vertical-align: middle;\n",
       "    }\n",
       "\n",
       "    .dataframe tbody tr th {\n",
       "        vertical-align: top;\n",
       "    }\n",
       "\n",
       "    .dataframe thead th {\n",
       "        text-align: right;\n",
       "    }\n",
       "</style>\n",
       "<table border=\"1\" class=\"dataframe\">\n",
       "  <thead>\n",
       "    <tr style=\"text-align: right;\">\n",
       "      <th></th>\n",
       "      <th>number</th>\n",
       "    </tr>\n",
       "  </thead>\n",
       "  <tbody>\n",
       "    <tr>\n",
       "      <th>0</th>\n",
       "      <td>7</td>\n",
       "    </tr>\n",
       "  </tbody>\n",
       "</table>\n",
       "</div>"
      ],
      "text/plain": [
       "   number\n",
       "0       7"
      ]
     },
     "execution_count": 59,
     "metadata": {},
     "output_type": "execute_result"
    }
   ],
   "source": [
    "sql = ''' with RecursiveCTE as (\n",
    "    select 1 AS number\n",
    "    union all\n",
    "    select number + 1\n",
    "    from RecursiveCTE\n",
    "    where number < (select count(1) from test_tbl1)\n",
    ")\n",
    "select r.number\n",
    "from RecursiveCTE r\n",
    "left join test_tbl1 t ON r.number = t.number\n",
    "where t.number is null\n",
    "'''\n",
    "select(sql)"
   ]
  },
  {
   "cell_type": "markdown",
   "id": "30431579",
   "metadata": {},
   "source": [
    "**Тест 2** \n",
    "\n",
    "test_tbl2 (1 до 30, пропущено 21)"
   ]
  },
  {
   "cell_type": "code",
   "execution_count": 60,
   "id": "cbd183ef",
   "metadata": {},
   "outputs": [
    {
     "data": {
      "text/html": [
       "<div>\n",
       "<style scoped>\n",
       "    .dataframe tbody tr th:only-of-type {\n",
       "        vertical-align: middle;\n",
       "    }\n",
       "\n",
       "    .dataframe tbody tr th {\n",
       "        vertical-align: top;\n",
       "    }\n",
       "\n",
       "    .dataframe thead th {\n",
       "        text-align: right;\n",
       "    }\n",
       "</style>\n",
       "<table border=\"1\" class=\"dataframe\">\n",
       "  <thead>\n",
       "    <tr style=\"text-align: right;\">\n",
       "      <th></th>\n",
       "      <th>number</th>\n",
       "    </tr>\n",
       "  </thead>\n",
       "  <tbody>\n",
       "    <tr>\n",
       "      <th>0</th>\n",
       "      <td>21</td>\n",
       "    </tr>\n",
       "  </tbody>\n",
       "</table>\n",
       "</div>"
      ],
      "text/plain": [
       "   number\n",
       "0      21"
      ]
     },
     "execution_count": 60,
     "metadata": {},
     "output_type": "execute_result"
    }
   ],
   "source": [
    "sql = ''' with RecursiveCTE as (\n",
    "    select 1 AS number\n",
    "    union all\n",
    "    select number + 1\n",
    "    from RecursiveCTE\n",
    "    where number < (select count(1) from test_tbl2)\n",
    ")\n",
    "select r.number\n",
    "from RecursiveCTE r\n",
    "left join test_tbl2 t ON r.number = t.number\n",
    "where t.number is null\n",
    "'''\n",
    "select(sql)"
   ]
  },
  {
   "cell_type": "markdown",
   "id": "43d190f7",
   "metadata": {},
   "source": [
    "**Тест 3** \n",
    "\n",
    "test_tbl3 (1 до 99, пропущено 89)"
   ]
  },
  {
   "cell_type": "code",
   "execution_count": 61,
   "id": "f71a28df",
   "metadata": {},
   "outputs": [
    {
     "data": {
      "text/html": [
       "<div>\n",
       "<style scoped>\n",
       "    .dataframe tbody tr th:only-of-type {\n",
       "        vertical-align: middle;\n",
       "    }\n",
       "\n",
       "    .dataframe tbody tr th {\n",
       "        vertical-align: top;\n",
       "    }\n",
       "\n",
       "    .dataframe thead th {\n",
       "        text-align: right;\n",
       "    }\n",
       "</style>\n",
       "<table border=\"1\" class=\"dataframe\">\n",
       "  <thead>\n",
       "    <tr style=\"text-align: right;\">\n",
       "      <th></th>\n",
       "      <th>number</th>\n",
       "    </tr>\n",
       "  </thead>\n",
       "  <tbody>\n",
       "    <tr>\n",
       "      <th>0</th>\n",
       "      <td>89</td>\n",
       "    </tr>\n",
       "  </tbody>\n",
       "</table>\n",
       "</div>"
      ],
      "text/plain": [
       "   number\n",
       "0      89"
      ]
     },
     "execution_count": 61,
     "metadata": {},
     "output_type": "execute_result"
    }
   ],
   "source": [
    "sql = ''' with RecursiveCTE as (\n",
    "    select 1 AS number\n",
    "    union all\n",
    "    select number + 1\n",
    "    from RecursiveCTE\n",
    "    where number < (select count(1) from test_tbl3)\n",
    ")\n",
    "select r.number\n",
    "from RecursiveCTE r\n",
    "left join test_tbl3 t ON r.number = t.number\n",
    "where t.number is null\n",
    "'''\n",
    "select(sql)"
   ]
  },
  {
   "cell_type": "markdown",
   "id": "23d6cc23",
   "metadata": {},
   "source": [
    "📍 **Итог**  \n",
    "\n",
    "✅**3 из 3** тестов подтвердили корректность применимости данного решения.  \n",
    "Пропущенные значения **найдены**.  \n",
    "Скрипт не перегружен и легко читаем.\n",
    "\n",
    "♻️**Возможная доработка**  \n",
    "при необходимости, можно вынести название таблицы в отдельную переменную, чтобы указывать её не 2 раза(как сейчас) в скрипте, а 1 раз до самого скрипта."
   ]
  }
 ],
 "metadata": {
  "ExecuteTimeLog": [
   {
    "duration": 4,
    "start_time": "2024-04-17T22:13:30.031Z"
   },
   {
    "duration": 2,
    "start_time": "2024-04-17T22:18:50.095Z"
   },
   {
    "duration": 2,
    "start_time": "2024-04-17T22:20:23.553Z"
   },
   {
    "duration": 81,
    "start_time": "2024-04-17T22:24:39.565Z"
   },
   {
    "duration": 134,
    "start_time": "2024-04-17T22:24:44.291Z"
   },
   {
    "duration": 1352,
    "start_time": "2024-04-17T22:30:00.954Z"
   },
   {
    "duration": 335,
    "start_time": "2024-04-17T22:31:29.917Z"
   },
   {
    "duration": 1327,
    "start_time": "2024-04-17T22:34:46.767Z"
   },
   {
    "duration": 52,
    "start_time": "2024-04-17T22:37:13.232Z"
   },
   {
    "duration": 82,
    "start_time": "2024-04-17T22:37:25.457Z"
   },
   {
    "duration": 48,
    "start_time": "2024-04-17T22:37:41.404Z"
   },
   {
    "duration": 51,
    "start_time": "2024-04-17T22:38:23.037Z"
   },
   {
    "duration": 98,
    "start_time": "2024-04-17T22:40:06.017Z"
   },
   {
    "duration": 3,
    "start_time": "2024-04-17T22:45:39.026Z"
   },
   {
    "duration": 9,
    "start_time": "2024-04-17T22:48:23.313Z"
   },
   {
    "duration": 371,
    "start_time": "2024-04-17T22:48:36.519Z"
   },
   {
    "duration": 27,
    "start_time": "2024-04-17T22:48:38.307Z"
   },
   {
    "duration": 3,
    "start_time": "2024-04-17T22:48:46.303Z"
   },
   {
    "duration": 145,
    "start_time": "2024-04-17T22:48:47.954Z"
   },
   {
    "duration": 8,
    "start_time": "2024-04-17T22:49:05.664Z"
   },
   {
    "duration": 320,
    "start_time": "2024-04-17T22:49:21.248Z"
   },
   {
    "duration": 789,
    "start_time": "2024-04-17T22:51:21.825Z"
   },
   {
    "duration": 6047,
    "start_time": "2024-04-17T23:00:46.369Z"
   },
   {
    "duration": 13,
    "start_time": "2024-04-17T23:01:14.450Z"
   },
   {
    "duration": 617,
    "start_time": "2024-04-17T23:01:38.213Z"
   },
   {
    "duration": 79,
    "start_time": "2024-04-17T23:02:24.524Z"
   },
   {
    "duration": 364,
    "start_time": "2024-04-18T05:23:57.048Z"
   },
   {
    "duration": 3839,
    "start_time": "2024-04-18T05:38:45.223Z"
   },
   {
    "duration": 121,
    "start_time": "2024-04-18T05:39:43.162Z"
   },
   {
    "duration": 141,
    "start_time": "2024-04-18T05:41:41.177Z"
   },
   {
    "duration": 91,
    "start_time": "2024-04-18T05:41:54.688Z"
   },
   {
    "duration": 97,
    "start_time": "2024-04-18T05:42:57.120Z"
   },
   {
    "duration": 91,
    "start_time": "2024-04-18T05:43:01.432Z"
   },
   {
    "duration": 96,
    "start_time": "2024-04-18T05:43:13.894Z"
   },
   {
    "duration": 88,
    "start_time": "2024-04-18T05:43:16.566Z"
   },
   {
    "duration": 88,
    "start_time": "2024-04-18T05:43:21.806Z"
   },
   {
    "duration": 102,
    "start_time": "2024-04-18T05:43:27.105Z"
   },
   {
    "duration": 106,
    "start_time": "2024-04-18T05:49:00.515Z"
   },
   {
    "duration": 103,
    "start_time": "2024-04-18T05:49:42.295Z"
   },
   {
    "duration": 91,
    "start_time": "2024-04-18T05:50:44.061Z"
   },
   {
    "duration": 12,
    "start_time": "2024-04-18T06:26:04.277Z"
   },
   {
    "duration": 230,
    "start_time": "2024-04-18T06:26:11.253Z"
   },
   {
    "duration": 73,
    "start_time": "2024-04-18T06:26:34.172Z"
   },
   {
    "duration": 110,
    "start_time": "2024-04-18T06:27:04.959Z"
   },
   {
    "duration": 8,
    "start_time": "2024-04-18T06:27:19.475Z"
   },
   {
    "duration": 21,
    "start_time": "2024-04-18T06:37:09.473Z"
   },
   {
    "duration": 16,
    "start_time": "2024-04-18T06:43:10.468Z"
   },
   {
    "duration": 14,
    "start_time": "2024-04-18T06:43:14.873Z"
   },
   {
    "duration": 15,
    "start_time": "2024-04-18T07:02:37.521Z"
   },
   {
    "duration": 1452,
    "start_time": "2024-04-18T07:09:21.847Z"
   },
   {
    "duration": 19,
    "start_time": "2024-04-18T07:14:05.066Z"
   },
   {
    "duration": 18,
    "start_time": "2024-04-18T07:28:40.068Z"
   },
   {
    "duration": 9,
    "start_time": "2024-04-18T07:31:21.515Z"
   },
   {
    "duration": 15,
    "start_time": "2024-04-18T07:32:08.993Z"
   },
   {
    "duration": 118,
    "start_time": "2024-04-18T07:32:25.467Z"
   },
   {
    "duration": 16,
    "start_time": "2024-04-18T07:33:11.608Z"
   },
   {
    "duration": 7,
    "start_time": "2024-04-18T07:33:46.841Z"
   },
   {
    "duration": 8,
    "start_time": "2024-04-18T07:33:52.217Z"
   },
   {
    "duration": 16,
    "start_time": "2024-04-18T07:34:00.449Z"
   },
   {
    "duration": 245,
    "start_time": "2024-04-18T07:36:32.357Z"
   },
   {
    "duration": 455,
    "start_time": "2024-04-18T07:37:50.966Z"
   },
   {
    "duration": 240,
    "start_time": "2024-04-18T07:39:19.842Z"
   },
   {
    "duration": 242,
    "start_time": "2024-04-18T07:39:31.297Z"
   },
   {
    "duration": 242,
    "start_time": "2024-04-18T07:41:15.640Z"
   },
   {
    "duration": 247,
    "start_time": "2024-04-18T07:41:33.919Z"
   },
   {
    "duration": 59,
    "start_time": "2024-04-18T07:43:09.397Z"
   },
   {
    "duration": 16,
    "start_time": "2024-04-18T07:43:22.730Z"
   },
   {
    "duration": 20,
    "start_time": "2024-04-18T07:43:23.615Z"
   },
   {
    "duration": 221,
    "start_time": "2024-04-18T07:44:00.068Z"
   },
   {
    "duration": 27,
    "start_time": "2024-04-18T07:45:30.851Z"
   },
   {
    "duration": 213,
    "start_time": "2024-04-18T07:45:46.434Z"
   },
   {
    "duration": 36,
    "start_time": "2024-04-18T07:46:20.057Z"
   },
   {
    "duration": 27,
    "start_time": "2024-04-18T07:46:53.328Z"
   },
   {
    "duration": 204,
    "start_time": "2024-04-18T07:53:19.768Z"
   },
   {
    "duration": 21,
    "start_time": "2024-04-18T07:54:05.551Z"
   },
   {
    "duration": 328,
    "start_time": "2024-04-18T07:54:17.728Z"
   },
   {
    "duration": 309,
    "start_time": "2024-04-18T07:55:00.761Z"
   },
   {
    "duration": 214,
    "start_time": "2024-04-18T07:58:48.905Z"
   },
   {
    "duration": 229,
    "start_time": "2024-04-18T07:59:15.434Z"
   },
   {
    "duration": 205,
    "start_time": "2024-04-18T07:59:30.394Z"
   },
   {
    "duration": 237,
    "start_time": "2024-04-18T07:59:42.552Z"
   },
   {
    "duration": 8,
    "start_time": "2024-04-18T08:16:01.123Z"
   },
   {
    "duration": 10,
    "start_time": "2024-04-18T08:16:15.226Z"
   },
   {
    "duration": 13,
    "start_time": "2024-04-18T08:17:33.920Z"
   },
   {
    "duration": 24,
    "start_time": "2024-04-18T08:17:56.236Z"
   },
   {
    "duration": 16,
    "start_time": "2024-04-18T08:17:59.200Z"
   },
   {
    "duration": 9,
    "start_time": "2024-04-18T08:18:05.896Z"
   },
   {
    "duration": 10,
    "start_time": "2024-04-18T08:19:47.590Z"
   },
   {
    "duration": 4,
    "start_time": "2024-04-18T08:23:30.474Z"
   },
   {
    "duration": 11,
    "start_time": "2024-04-18T08:36:28.177Z"
   },
   {
    "duration": 10,
    "start_time": "2024-04-18T08:53:43.513Z"
   },
   {
    "duration": 9,
    "start_time": "2024-04-18T08:54:15.606Z"
   },
   {
    "duration": 86,
    "start_time": "2024-04-18T08:54:36.117Z"
   },
   {
    "duration": 80,
    "start_time": "2024-04-18T08:54:40.946Z"
   },
   {
    "duration": 20,
    "start_time": "2024-04-18T08:54:46.091Z"
   },
   {
    "duration": 17,
    "start_time": "2024-04-18T08:57:52.780Z"
   },
   {
    "duration": 21,
    "start_time": "2024-04-18T08:58:55.449Z"
   },
   {
    "duration": 79,
    "start_time": "2024-04-18T08:59:30.194Z"
   },
   {
    "duration": 14,
    "start_time": "2024-04-18T08:59:41.793Z"
   },
   {
    "duration": 13,
    "start_time": "2024-04-18T08:59:47.025Z"
   },
   {
    "duration": 19,
    "start_time": "2024-04-18T08:59:52.576Z"
   },
   {
    "duration": 4,
    "start_time": "2024-04-18T08:59:55.720Z"
   },
   {
    "duration": 14,
    "start_time": "2024-04-18T09:00:05.498Z"
   },
   {
    "duration": 15,
    "start_time": "2024-04-18T09:00:39.415Z"
   },
   {
    "duration": 8,
    "start_time": "2024-04-18T09:01:39.702Z"
   },
   {
    "duration": 9,
    "start_time": "2024-04-18T09:02:38.422Z"
   },
   {
    "duration": 9,
    "start_time": "2024-04-18T09:02:50.325Z"
   },
   {
    "duration": 11,
    "start_time": "2024-04-18T09:03:01.916Z"
   },
   {
    "duration": 9,
    "start_time": "2024-04-18T09:03:18.316Z"
   },
   {
    "duration": 9,
    "start_time": "2024-04-18T09:03:30.725Z"
   },
   {
    "duration": 5,
    "start_time": "2024-04-18T09:03:44.395Z"
   },
   {
    "duration": 5,
    "start_time": "2024-04-18T09:03:51.332Z"
   },
   {
    "duration": 12,
    "start_time": "2024-04-18T09:03:54.163Z"
   },
   {
    "duration": 10,
    "start_time": "2024-04-18T09:05:13.018Z"
   },
   {
    "duration": 13,
    "start_time": "2024-04-18T09:05:20.169Z"
   },
   {
    "duration": 10,
    "start_time": "2024-04-18T09:05:27.497Z"
   },
   {
    "duration": 8,
    "start_time": "2024-04-18T09:05:52.809Z"
   },
   {
    "duration": 10,
    "start_time": "2024-04-18T09:06:32.256Z"
   },
   {
    "duration": 5,
    "start_time": "2024-04-18T09:06:50.017Z"
   },
   {
    "duration": 5,
    "start_time": "2024-04-18T09:06:57.055Z"
   },
   {
    "duration": 9,
    "start_time": "2024-04-18T09:06:59.201Z"
   },
   {
    "duration": 5,
    "start_time": "2024-04-18T09:08:20.976Z"
   },
   {
    "duration": 7,
    "start_time": "2024-04-18T10:15:11.364Z"
   },
   {
    "duration": 5,
    "start_time": "2024-04-18T10:15:13.321Z"
   },
   {
    "duration": 107,
    "start_time": "2024-04-18T10:15:46.936Z"
   },
   {
    "duration": 283,
    "start_time": "2024-04-18T12:29:35.518Z"
   },
   {
    "duration": 245,
    "start_time": "2024-04-18T12:29:42.721Z"
   },
   {
    "duration": 100,
    "start_time": "2024-04-18T12:29:46.649Z"
   },
   {
    "duration": 23,
    "start_time": "2024-04-18T12:30:45.703Z"
   },
   {
    "duration": 17,
    "start_time": "2024-04-18T12:30:53.903Z"
   },
   {
    "duration": 150,
    "start_time": "2024-04-18T12:33:04.023Z"
   },
   {
    "duration": 152,
    "start_time": "2024-04-18T12:35:11.348Z"
   },
   {
    "duration": 17,
    "start_time": "2024-04-18T12:38:57.064Z"
   },
   {
    "duration": 211,
    "start_time": "2024-04-18T12:39:17.969Z"
   },
   {
    "duration": 167,
    "start_time": "2024-04-18T12:39:34.879Z"
   },
   {
    "duration": 182,
    "start_time": "2024-04-18T12:39:43.564Z"
   },
   {
    "duration": 190,
    "start_time": "2024-04-18T12:39:59.243Z"
   },
   {
    "duration": 157,
    "start_time": "2024-04-18T12:40:06.308Z"
   },
   {
    "duration": 178,
    "start_time": "2024-04-18T12:40:14.341Z"
   },
   {
    "duration": 157,
    "start_time": "2024-04-18T12:40:19.715Z"
   },
   {
    "duration": 122,
    "start_time": "2024-04-18T12:45:59.707Z"
   },
   {
    "duration": 29,
    "start_time": "2024-04-18T12:47:36.096Z"
   },
   {
    "duration": 22,
    "start_time": "2024-04-18T12:47:39.481Z"
   },
   {
    "duration": 22,
    "start_time": "2024-04-18T12:48:54.203Z"
   },
   {
    "duration": 17,
    "start_time": "2024-04-18T12:49:35.682Z"
   },
   {
    "duration": 18,
    "start_time": "2024-04-18T12:49:53.565Z"
   },
   {
    "duration": 5394,
    "start_time": "2024-04-18T12:56:13.051Z"
   },
   {
    "duration": 5351,
    "start_time": "2024-04-18T12:56:33.842Z"
   },
   {
    "duration": 7007,
    "start_time": "2024-04-18T12:59:21.816Z"
   },
   {
    "duration": 294,
    "start_time": "2024-04-18T13:07:43.424Z"
   },
   {
    "duration": 97,
    "start_time": "2024-04-18T13:08:04.848Z"
   },
   {
    "duration": 148,
    "start_time": "2024-04-18T13:08:15.647Z"
   },
   {
    "duration": 210,
    "start_time": "2024-04-18T13:47:41.466Z"
   },
   {
    "duration": 235,
    "start_time": "2024-04-18T13:47:56.806Z"
   },
   {
    "duration": 16,
    "start_time": "2024-04-18T13:48:25.651Z"
   },
   {
    "duration": 282,
    "start_time": "2024-04-18T13:51:42.378Z"
   },
   {
    "duration": 346,
    "start_time": "2024-04-18T13:52:27.842Z"
   },
   {
    "duration": 342,
    "start_time": "2024-04-18T13:53:35.620Z"
   },
   {
    "duration": 262,
    "start_time": "2024-04-18T13:54:02.856Z"
   },
   {
    "duration": 147,
    "start_time": "2024-04-18T14:06:22.553Z"
   },
   {
    "duration": 144,
    "start_time": "2024-04-18T14:06:30.098Z"
   },
   {
    "duration": 207,
    "start_time": "2024-04-18T14:06:50.547Z"
   },
   {
    "duration": 212,
    "start_time": "2024-04-18T14:07:03.741Z"
   },
   {
    "duration": 234,
    "start_time": "2024-04-18T14:08:09.886Z"
   },
   {
    "duration": 217,
    "start_time": "2024-04-18T14:08:23.121Z"
   },
   {
    "duration": 224,
    "start_time": "2024-04-18T14:08:37.299Z"
   },
   {
    "duration": 265,
    "start_time": "2024-04-18T14:08:44.132Z"
   },
   {
    "duration": 98,
    "start_time": "2024-04-18T14:09:50.057Z"
   },
   {
    "duration": 311,
    "start_time": "2024-04-18T14:10:00.680Z"
   },
   {
    "duration": 248,
    "start_time": "2024-04-18T14:10:26.233Z"
   },
   {
    "duration": 237,
    "start_time": "2024-04-18T14:10:53.105Z"
   },
   {
    "duration": 243,
    "start_time": "2024-04-18T14:10:58.775Z"
   },
   {
    "duration": 264,
    "start_time": "2024-04-18T14:11:05.682Z"
   },
   {
    "duration": 124,
    "start_time": "2024-04-18T14:12:09.408Z"
   },
   {
    "duration": 22,
    "start_time": "2024-04-18T14:14:09.755Z"
   },
   {
    "duration": 215,
    "start_time": "2024-04-18T14:14:31.692Z"
   },
   {
    "duration": 278,
    "start_time": "2024-04-18T14:15:28.064Z"
   },
   {
    "duration": 279,
    "start_time": "2024-04-18T14:15:48.110Z"
   },
   {
    "duration": 87,
    "start_time": "2024-04-18T14:18:16.875Z"
   },
   {
    "duration": 105,
    "start_time": "2024-04-18T14:20:11.140Z"
   },
   {
    "duration": 135,
    "start_time": "2024-04-18T14:21:44.178Z"
   },
   {
    "duration": 96,
    "start_time": "2024-04-18T14:22:43.644Z"
   },
   {
    "duration": 108,
    "start_time": "2024-04-18T14:22:58.943Z"
   },
   {
    "duration": 103,
    "start_time": "2024-04-18T14:23:09.216Z"
   },
   {
    "duration": 359,
    "start_time": "2024-04-18T14:27:34.303Z"
   },
   {
    "duration": 324,
    "start_time": "2024-04-18T14:27:39.636Z"
   },
   {
    "duration": 359,
    "start_time": "2024-04-18T14:28:30.354Z"
   },
   {
    "duration": 3208,
    "start_time": "2024-04-18T15:22:27.700Z"
   },
   {
    "duration": 29,
    "start_time": "2024-04-18T15:26:32.139Z"
   },
   {
    "duration": 31,
    "start_time": "2024-04-18T15:45:10.804Z"
   },
   {
    "duration": 341,
    "start_time": "2024-04-18T15:45:18.054Z"
   },
   {
    "duration": 325,
    "start_time": "2024-04-18T15:45:32.447Z"
   },
   {
    "duration": 958,
    "start_time": "2024-04-18T15:48:57.116Z"
   },
   {
    "duration": 460,
    "start_time": "2024-04-18T15:50:53.599Z"
   },
   {
    "duration": 374,
    "start_time": "2024-04-18T15:52:04.441Z"
   },
   {
    "duration": 223,
    "start_time": "2024-04-18T15:52:16.447Z"
   },
   {
    "duration": 106,
    "start_time": "2024-04-18T15:58:27.680Z"
   },
   {
    "duration": 119,
    "start_time": "2024-04-18T15:58:37.586Z"
   },
   {
    "duration": 239,
    "start_time": "2024-04-18T15:58:58.804Z"
   },
   {
    "duration": 17,
    "start_time": "2024-04-18T16:01:28.820Z"
   },
   {
    "duration": 269,
    "start_time": "2024-04-18T16:01:36.206Z"
   },
   {
    "duration": 246,
    "start_time": "2024-04-18T16:01:51.777Z"
   },
   {
    "duration": 269,
    "start_time": "2024-04-18T16:02:07.090Z"
   },
   {
    "duration": 21,
    "start_time": "2024-04-18T16:02:16.545Z"
   },
   {
    "duration": 254,
    "start_time": "2024-04-18T16:02:37.269Z"
   },
   {
    "duration": 246,
    "start_time": "2024-04-18T16:04:05.936Z"
   },
   {
    "duration": 236,
    "start_time": "2024-04-18T16:04:21.317Z"
   },
   {
    "duration": 14,
    "start_time": "2024-04-18T16:07:13.604Z"
   },
   {
    "duration": 2235,
    "start_time": "2024-04-18T16:11:24.483Z"
   },
   {
    "duration": 2049,
    "start_time": "2024-04-18T16:13:03.685Z"
   },
   {
    "duration": 614,
    "start_time": "2024-04-18T16:13:34.258Z"
   },
   {
    "duration": 23,
    "start_time": "2024-04-18T16:14:17.566Z"
   },
   {
    "duration": 219,
    "start_time": "2024-04-18T16:14:42.699Z"
   },
   {
    "duration": 217,
    "start_time": "2024-04-18T16:15:06.175Z"
   },
   {
    "duration": 29,
    "start_time": "2024-04-18T16:15:28.986Z"
   },
   {
    "duration": 20,
    "start_time": "2024-04-18T16:15:31.138Z"
   },
   {
    "duration": 247,
    "start_time": "2024-04-18T16:17:53.203Z"
   },
   {
    "duration": 396,
    "start_time": "2024-04-18T16:18:19.026Z"
   },
   {
    "duration": 266,
    "start_time": "2024-04-18T16:24:27.905Z"
   },
   {
    "duration": 298,
    "start_time": "2024-04-18T16:26:51.128Z"
   },
   {
    "duration": 237,
    "start_time": "2024-04-18T16:29:50.706Z"
   },
   {
    "duration": 329,
    "start_time": "2024-04-18T16:30:02.756Z"
   },
   {
    "duration": 364,
    "start_time": "2024-04-18T16:32:04.390Z"
   },
   {
    "duration": 323,
    "start_time": "2024-04-18T16:33:27.208Z"
   },
   {
    "duration": 27,
    "start_time": "2024-04-18T16:33:40.733Z"
   },
   {
    "duration": 112,
    "start_time": "2024-04-18T16:33:46.957Z"
   },
   {
    "duration": 207,
    "start_time": "2024-04-18T16:33:57.746Z"
   },
   {
    "duration": 318,
    "start_time": "2024-04-18T16:35:13.727Z"
   },
   {
    "duration": 221,
    "start_time": "2024-04-18T16:35:20.543Z"
   },
   {
    "duration": 222,
    "start_time": "2024-04-18T16:35:41.752Z"
   },
   {
    "duration": 215,
    "start_time": "2024-04-18T16:35:50.821Z"
   },
   {
    "duration": 219,
    "start_time": "2024-04-18T16:36:08.738Z"
   },
   {
    "duration": 267,
    "start_time": "2024-04-18T16:36:18.587Z"
   },
   {
    "duration": 244,
    "start_time": "2024-04-18T16:36:33.465Z"
   },
   {
    "duration": 307,
    "start_time": "2024-04-18T16:37:10.496Z"
   },
   {
    "duration": 50,
    "start_time": "2024-04-18T16:41:58.881Z"
   },
   {
    "duration": 67,
    "start_time": "2024-04-18T16:42:07.935Z"
   },
   {
    "duration": 2565,
    "start_time": "2024-04-18T16:42:08.004Z"
   },
   {
    "duration": 388,
    "start_time": "2024-04-18T16:42:10.570Z"
   },
   {
    "duration": 556,
    "start_time": "2024-04-18T16:42:10.959Z"
   },
   {
    "duration": 664,
    "start_time": "2024-04-18T16:42:11.516Z"
   },
   {
    "duration": 4676,
    "start_time": "2024-04-18T16:42:12.181Z"
   },
   {
    "duration": 820,
    "start_time": "2024-04-18T16:42:16.859Z"
   },
   {
    "duration": 67,
    "start_time": "2024-04-18T16:42:17.680Z"
   },
   {
    "duration": 99,
    "start_time": "2024-04-18T16:42:17.749Z"
   },
   {
    "duration": 82,
    "start_time": "2024-04-18T16:42:17.850Z"
   },
   {
    "duration": 502,
    "start_time": "2024-04-18T16:42:17.933Z"
   },
   {
    "duration": 285,
    "start_time": "2024-04-18T16:42:18.437Z"
   },
   {
    "duration": 82,
    "start_time": "2024-04-18T16:42:18.724Z"
   },
   {
    "duration": 0,
    "start_time": "2024-04-18T16:42:18.808Z"
   },
   {
    "duration": 0,
    "start_time": "2024-04-18T16:42:18.810Z"
   },
   {
    "duration": 1,
    "start_time": "2024-04-18T16:42:18.811Z"
   },
   {
    "duration": 0,
    "start_time": "2024-04-18T16:42:18.813Z"
   },
   {
    "duration": 0,
    "start_time": "2024-04-18T16:42:18.814Z"
   },
   {
    "duration": 0,
    "start_time": "2024-04-18T16:42:18.815Z"
   },
   {
    "duration": 0,
    "start_time": "2024-04-18T16:42:18.817Z"
   },
   {
    "duration": 0,
    "start_time": "2024-04-18T16:42:18.818Z"
   },
   {
    "duration": 0,
    "start_time": "2024-04-18T16:42:18.820Z"
   },
   {
    "duration": 0,
    "start_time": "2024-04-18T16:42:18.821Z"
   },
   {
    "duration": 0,
    "start_time": "2024-04-18T16:42:18.823Z"
   },
   {
    "duration": 0,
    "start_time": "2024-04-18T16:42:18.824Z"
   },
   {
    "duration": 0,
    "start_time": "2024-04-18T16:42:18.826Z"
   },
   {
    "duration": 0,
    "start_time": "2024-04-18T16:42:18.827Z"
   },
   {
    "duration": 0,
    "start_time": "2024-04-18T16:42:18.828Z"
   },
   {
    "duration": 0,
    "start_time": "2024-04-18T16:42:18.865Z"
   },
   {
    "duration": 0,
    "start_time": "2024-04-18T16:42:18.867Z"
   },
   {
    "duration": 1412,
    "start_time": "2024-04-18T16:43:03.241Z"
   },
   {
    "duration": 62,
    "start_time": "2024-04-18T16:43:04.654Z"
   },
   {
    "duration": 3726,
    "start_time": "2024-04-18T16:43:04.718Z"
   },
   {
    "duration": 3,
    "start_time": "2024-04-18T16:43:08.446Z"
   },
   {
    "duration": 785,
    "start_time": "2024-04-18T16:43:08.452Z"
   },
   {
    "duration": 339,
    "start_time": "2024-04-18T16:43:09.238Z"
   },
   {
    "duration": 5736,
    "start_time": "2024-04-18T16:43:09.578Z"
   },
   {
    "duration": 1274,
    "start_time": "2024-04-18T16:43:15.316Z"
   },
   {
    "duration": 67,
    "start_time": "2024-04-18T16:43:16.591Z"
   },
   {
    "duration": 102,
    "start_time": "2024-04-18T16:43:16.660Z"
   },
   {
    "duration": 84,
    "start_time": "2024-04-18T16:43:16.763Z"
   },
   {
    "duration": 655,
    "start_time": "2024-04-18T16:43:16.848Z"
   },
   {
    "duration": 333,
    "start_time": "2024-04-18T16:43:17.504Z"
   },
   {
    "duration": 66,
    "start_time": "2024-04-18T16:43:17.840Z"
   },
   {
    "duration": 207,
    "start_time": "2024-04-18T16:43:17.908Z"
   },
   {
    "duration": 209,
    "start_time": "2024-04-18T16:43:18.116Z"
   },
   {
    "duration": 463,
    "start_time": "2024-04-18T16:43:18.327Z"
   },
   {
    "duration": 280,
    "start_time": "2024-04-18T16:43:18.792Z"
   },
   {
    "duration": 387,
    "start_time": "2024-04-18T16:43:19.073Z"
   },
   {
    "duration": 13,
    "start_time": "2024-04-18T16:43:19.462Z"
   },
   {
    "duration": 14,
    "start_time": "2024-04-18T16:43:19.476Z"
   },
   {
    "duration": 201,
    "start_time": "2024-04-18T16:43:19.492Z"
   },
   {
    "duration": 210,
    "start_time": "2024-04-18T16:43:19.695Z"
   },
   {
    "duration": 211,
    "start_time": "2024-04-18T16:43:19.906Z"
   },
   {
    "duration": 9,
    "start_time": "2024-04-18T16:43:20.118Z"
   },
   {
    "duration": 18,
    "start_time": "2024-04-18T16:43:20.128Z"
   },
   {
    "duration": 5,
    "start_time": "2024-04-18T16:43:20.148Z"
   },
   {
    "duration": 2767,
    "start_time": "2024-04-18T16:43:20.154Z"
   },
   {
    "duration": 79,
    "start_time": "2024-04-18T16:43:22.923Z"
   },
   {
    "duration": 66,
    "start_time": "2024-04-18T16:43:23.003Z"
   },
   {
    "duration": 66,
    "start_time": "2024-04-18T16:43:23.071Z"
   },
   {
    "duration": 67,
    "start_time": "2024-04-18T16:43:23.138Z"
   },
   {
    "duration": 484,
    "start_time": "2024-04-18T16:49:02.336Z"
   },
   {
    "duration": 6150,
    "start_time": "2024-04-18T16:51:46.075Z"
   },
   {
    "duration": 210,
    "start_time": "2024-04-18T16:52:42.499Z"
   },
   {
    "duration": 15,
    "start_time": "2024-04-18T16:52:49.767Z"
   },
   {
    "duration": 14,
    "start_time": "2024-04-18T16:53:00.518Z"
   },
   {
    "duration": 1557,
    "start_time": "2024-04-18T16:53:11.789Z"
   },
   {
    "duration": 1230,
    "start_time": "2024-04-18T16:53:23.707Z"
   },
   {
    "duration": 1306,
    "start_time": "2024-04-18T16:53:31.226Z"
   },
   {
    "duration": 1424,
    "start_time": "2024-04-18T16:53:36.744Z"
   },
   {
    "duration": 1543,
    "start_time": "2024-04-18T16:54:06.800Z"
   },
   {
    "duration": 1523,
    "start_time": "2024-04-18T16:54:25.143Z"
   },
   {
    "duration": 1375,
    "start_time": "2024-04-18T16:54:41.750Z"
   },
   {
    "duration": 5836,
    "start_time": "2024-04-18T16:55:50.505Z"
   },
   {
    "duration": 2036,
    "start_time": "2024-04-18T16:57:04.477Z"
   },
   {
    "duration": 2067,
    "start_time": "2024-04-18T16:57:13.620Z"
   },
   {
    "duration": 2918,
    "start_time": "2024-04-18T16:57:37.530Z"
   },
   {
    "duration": 2210,
    "start_time": "2024-04-18T16:57:50.681Z"
   },
   {
    "duration": 2301,
    "start_time": "2024-04-18T16:58:14.470Z"
   },
   {
    "duration": 2338,
    "start_time": "2024-04-18T16:58:26.999Z"
   },
   {
    "duration": 2309,
    "start_time": "2024-04-18T16:58:47.011Z"
   },
   {
    "duration": 8,
    "start_time": "2024-04-18T17:04:08.971Z"
   },
   {
    "duration": 65,
    "start_time": "2024-04-18T17:05:45.882Z"
   },
   {
    "duration": 3287,
    "start_time": "2024-04-18T17:05:49.393Z"
   },
   {
    "duration": 68,
    "start_time": "2024-04-18T17:05:55.343Z"
   },
   {
    "duration": 18024,
    "start_time": "2024-04-18T17:06:40.123Z"
   },
   {
    "duration": 72,
    "start_time": "2024-04-18T17:07:01.029Z"
   },
   {
    "duration": 65,
    "start_time": "2024-04-18T17:08:10.913Z"
   },
   {
    "duration": 62,
    "start_time": "2024-04-18T17:08:13.768Z"
   },
   {
    "duration": 66,
    "start_time": "2024-04-18T17:08:15.964Z"
   }
  ],
  "kernelspec": {
   "display_name": "Python 3 (ipykernel)",
   "language": "python",
   "name": "python3"
  },
  "language_info": {
   "codemirror_mode": {
    "name": "ipython",
    "version": 3
   },
   "file_extension": ".py",
   "mimetype": "text/x-python",
   "name": "python",
   "nbconvert_exporter": "python",
   "pygments_lexer": "ipython3",
   "version": "3.9.5"
  },
  "toc": {
   "base_numbering": 1,
   "nav_menu": {},
   "number_sections": true,
   "sideBar": true,
   "skip_h1_title": true,
   "title_cell": "Table of Contents",
   "title_sidebar": "Contents",
   "toc_cell": false,
   "toc_position": {},
   "toc_section_display": true,
   "toc_window_display": false
  }
 },
 "nbformat": 4,
 "nbformat_minor": 5
}
