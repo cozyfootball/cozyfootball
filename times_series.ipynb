{
 "cells": [
  {
   "cell_type": "markdown",
   "metadata": {},
   "source": [
    "#  Прогнозирование пика заказов такси"
   ]
  },
  {
   "cell_type": "markdown",
   "metadata": {},
   "source": [
    "**Заказчик:** Компания «Такси»  \n",
    "**Исходные данные:** исторические данные о заказах такси в аэропортах за 2018 год  \n",
    "**Задача:** Чтобы привлекать больше водителей в период пиковой нагрузки, нужно спрогнозировать количество заказов такси на следующий час. Построить модель для такого предсказания.  \n",
    "\n",
    "**Решение задачи:** Значение метрики *RMSE* на тестовой выборке должно быть не больше 50.\n",
    "\n",
    "**План:**\n",
    "\n",
    "1. Загрузить данные и выполнить их ресемплирование по одному часу.\n",
    "2. Проанализировать данные.\n",
    "3. Обучить разные модели с различными гиперпараметрами. Сделать тестовую выборку размером 10% от исходных данных.\n",
    "4. Проверить данные на тестовой выборке и сделать выводы."
   ]
  },
  {
   "cell_type": "markdown",
   "metadata": {},
   "source": [
    "**Необходимые импорты**"
   ]
  },
  {
   "cell_type": "code",
   "execution_count": 1,
   "metadata": {},
   "outputs": [],
   "source": [
    "import pandas as pd\n",
    "import numpy as np\n",
    "import seaborn as sns\n",
    "import matplotlib.pyplot as plt\n",
    "from sklearn.linear_model import LinearRegression\n",
    "from sklearn.model_selection import train_test_split, TimeSeriesSplit\n",
    "from sklearn.tree import DecisionTreeRegressor\n",
    "from sklearn.metrics import mean_squared_error\n",
    "from sklearn.model_selection import GridSearchCV\n",
    "from statsmodels.tsa.seasonal import seasonal_decompose\n",
    "from catboost import CatBoostRegressor\n",
    "from datetime import datetime\n",
    "import warnings\n",
    "warnings.filterwarnings(\"ignore\")"
   ]
  },
  {
   "cell_type": "markdown",
   "metadata": {},
   "source": [
    "**Знакомство с данными**"
   ]
  },
  {
   "cell_type": "code",
   "execution_count": 2,
   "metadata": {},
   "outputs": [
    {
     "data": {
      "text/html": [
       "<div>\n",
       "<style scoped>\n",
       "    .dataframe tbody tr th:only-of-type {\n",
       "        vertical-align: middle;\n",
       "    }\n",
       "\n",
       "    .dataframe tbody tr th {\n",
       "        vertical-align: top;\n",
       "    }\n",
       "\n",
       "    .dataframe thead th {\n",
       "        text-align: right;\n",
       "    }\n",
       "</style>\n",
       "<table border=\"1\" class=\"dataframe\">\n",
       "  <thead>\n",
       "    <tr style=\"text-align: right;\">\n",
       "      <th></th>\n",
       "      <th>num_orders</th>\n",
       "    </tr>\n",
       "    <tr>\n",
       "      <th>datetime</th>\n",
       "      <th></th>\n",
       "    </tr>\n",
       "  </thead>\n",
       "  <tbody>\n",
       "    <tr>\n",
       "      <th>2018-03-01 00:00:00</th>\n",
       "      <td>9</td>\n",
       "    </tr>\n",
       "    <tr>\n",
       "      <th>2018-03-01 00:10:00</th>\n",
       "      <td>14</td>\n",
       "    </tr>\n",
       "    <tr>\n",
       "      <th>2018-03-01 00:20:00</th>\n",
       "      <td>28</td>\n",
       "    </tr>\n",
       "    <tr>\n",
       "      <th>2018-03-01 00:30:00</th>\n",
       "      <td>20</td>\n",
       "    </tr>\n",
       "    <tr>\n",
       "      <th>2018-03-01 00:40:00</th>\n",
       "      <td>32</td>\n",
       "    </tr>\n",
       "    <tr>\n",
       "      <th>2018-03-01 00:50:00</th>\n",
       "      <td>21</td>\n",
       "    </tr>\n",
       "    <tr>\n",
       "      <th>2018-03-01 01:00:00</th>\n",
       "      <td>7</td>\n",
       "    </tr>\n",
       "    <tr>\n",
       "      <th>2018-03-01 01:10:00</th>\n",
       "      <td>5</td>\n",
       "    </tr>\n",
       "    <tr>\n",
       "      <th>2018-03-01 01:20:00</th>\n",
       "      <td>17</td>\n",
       "    </tr>\n",
       "    <tr>\n",
       "      <th>2018-03-01 01:30:00</th>\n",
       "      <td>12</td>\n",
       "    </tr>\n",
       "    <tr>\n",
       "      <th>2018-03-01 01:40:00</th>\n",
       "      <td>19</td>\n",
       "    </tr>\n",
       "    <tr>\n",
       "      <th>2018-03-01 01:50:00</th>\n",
       "      <td>25</td>\n",
       "    </tr>\n",
       "    <tr>\n",
       "      <th>2018-03-01 02:00:00</th>\n",
       "      <td>22</td>\n",
       "    </tr>\n",
       "  </tbody>\n",
       "</table>\n",
       "</div>"
      ],
      "text/plain": [
       "                     num_orders\n",
       "datetime                       \n",
       "2018-03-01 00:00:00           9\n",
       "2018-03-01 00:10:00          14\n",
       "2018-03-01 00:20:00          28\n",
       "2018-03-01 00:30:00          20\n",
       "2018-03-01 00:40:00          32\n",
       "2018-03-01 00:50:00          21\n",
       "2018-03-01 01:00:00           7\n",
       "2018-03-01 01:10:00           5\n",
       "2018-03-01 01:20:00          17\n",
       "2018-03-01 01:30:00          12\n",
       "2018-03-01 01:40:00          19\n",
       "2018-03-01 01:50:00          25\n",
       "2018-03-01 02:00:00          22"
      ]
     },
     "execution_count": 2,
     "metadata": {},
     "output_type": "execute_result"
    }
   ],
   "source": [
    "df = pd.read_csv('/datasets/taxi.csv', index_col=['datetime'], parse_dates=['datetime'])\n",
    "df.head(13)"
   ]
  },
  {
   "cell_type": "code",
   "execution_count": 3,
   "metadata": {},
   "outputs": [
    {
     "data": {
      "text/plain": [
       "(26496, 1)"
      ]
     },
     "execution_count": 3,
     "metadata": {},
     "output_type": "execute_result"
    }
   ],
   "source": [
    "df.shape"
   ]
  },
  {
   "cell_type": "code",
   "execution_count": 4,
   "metadata": {},
   "outputs": [
    {
     "name": "stdout",
     "output_type": "stream",
     "text": [
      "<class 'pandas.core.frame.DataFrame'>\n",
      "DatetimeIndex: 26496 entries, 2018-03-01 00:00:00 to 2018-08-31 23:50:00\n",
      "Data columns (total 1 columns):\n",
      " #   Column      Non-Null Count  Dtype\n",
      "---  ------      --------------  -----\n",
      " 0   num_orders  26496 non-null  int64\n",
      "dtypes: int64(1)\n",
      "memory usage: 414.0 KB\n"
     ]
    }
   ],
   "source": [
    "df.info()"
   ]
  },
  {
   "cell_type": "code",
   "execution_count": 5,
   "metadata": {},
   "outputs": [
    {
     "data": {
      "text/plain": [
       "True"
      ]
     },
     "execution_count": 5,
     "metadata": {},
     "output_type": "execute_result"
    }
   ],
   "source": [
    "df.index.is_monotonic"
   ]
  },
  {
   "cell_type": "code",
   "execution_count": 6,
   "metadata": {},
   "outputs": [
    {
     "name": "stdout",
     "output_type": "stream",
     "text": [
      "Данные представлены за период c 2018-03-01 00:00:00 по 2018-08-31 23:50:00\n"
     ]
    }
   ],
   "source": [
    "max_date = df.index.max()\n",
    "min_date = df.index.min()\n",
    "print(f'Данные представлены за период c {min_date} по {max_date}')"
   ]
  },
  {
   "cell_type": "code",
   "execution_count": 7,
   "metadata": {},
   "outputs": [],
   "source": [
    "data = df.resample('1H').sum()"
   ]
  },
  {
   "cell_type": "code",
   "execution_count": 8,
   "metadata": {},
   "outputs": [],
   "source": [
    "def plot(time_series, span):\n",
    "\n",
    "    rolling_mean = time_series.ewm(span).mean()\n",
    "\n",
    "    plt.figure(figsize=(15,5))\n",
    "    plt.title(f'Экспонициально взвешенное, ширина окна = {span} часов')\n",
    "    plt.plot(rolling_mean, \"g\", \n",
    "             label=\"Тренд с экспонициальнскользящим средним\")\n",
    "\n",
    "\n",
    "    plt.plot(data[span:], label=\"Значения\", alpha=.42)\n",
    "    plt.legend(loc=\"upper left\")"
   ]
  },
  {
   "cell_type": "code",
   "execution_count": 9,
   "metadata": {},
   "outputs": [
    {
     "data": {
      "image/png": "[encoded data removed]",
      "text/plain": [
       "<Figure size 1080x360 with 1 Axes>"
      ]
     },
     "metadata": {
      "needs_background": "light"
     },
     "output_type": "display_data"
    }
   ],
   "source": [
    "plot(data, 24)"
   ]
  },
  {
   "cell_type": "markdown",
   "metadata": {},
   "source": [
    "Пропусков нет, индекс монотонно возрастает, отсортирован - можем переходить к дальнейшей обработке данных"
   ]
  },
  {
   "cell_type": "markdown",
   "metadata": {},
   "source": [
    "**Анализ**"
   ]
  },
  {
   "cell_type": "code",
   "execution_count": 10,
   "metadata": {},
   "outputs": [
    {
     "data": {
      "image/png": "[encoded data removed]",
      "text/plain": [
       "<Figure size 1080x360 with 1 Axes>"
      ]
     },
     "metadata": {
      "needs_background": "light"
     },
     "output_type": "display_data"
    }
   ],
   "source": [
    "plot(data, 24*7)"
   ]
  },
  {
   "cell_type": "markdown",
   "metadata": {},
   "source": [
    "Обнаружен тренд повышения количество заказов от марта к августу. Вероятно это связано с покупкой и привлечением всё больших таксопарков, в т.ч. Uber."
   ]
  },
  {
   "cell_type": "code",
   "execution_count": 11,
   "metadata": {},
   "outputs": [
    {
     "name": "stdout",
     "output_type": "stream",
     "text": [
      "Средний объём заказов в день: 84.42278079710145\n"
     ]
    }
   ],
   "source": [
    "print(\"Средний объём заказов в день:\", data['num_orders'].mean())"
   ]
  },
  {
   "cell_type": "markdown",
   "metadata": {},
   "source": [
    "**Разложение временного ряда**"
   ]
  },
  {
   "cell_type": "code",
   "execution_count": 12,
   "metadata": {},
   "outputs": [
    {
     "data": {
      "image/png": "[encoded data removed]",
      "text/plain": [
       "<Figure size 1080x720 with 3 Axes>"
      ]
     },
     "metadata": {
      "needs_background": "light"
     },
     "output_type": "display_data"
    }
   ],
   "source": [
    "decomposed = seasonal_decompose(data)\n",
    "plt.figure(figsize=(15, 10))\n",
    "\n",
    "plt.subplot(311)\n",
    "decomposed.trend.plot(ax=plt.gca(), alpha=.55)\n",
    "plt.title('Тренд')\n",
    "plt.xticks(rotation=33)\n",
    "plt.xlabel('Дата')\n",
    "\n",
    "plt.subplot(312)\n",
    "decomposed.seasonal.plot(ax=plt.gca(), alpha=.55) \n",
    "plt.title('Сезонность')\n",
    "plt.xticks(rotation=33)\n",
    "plt.xlabel('Дата')\n",
    "\n",
    "plt.subplot(313)\n",
    "decomposed.resid.plot(ax=plt.gca(), alpha=.55) \n",
    "plt.title('Шум')\n",
    "plt.xticks(rotation=33)\n",
    "plt.xlabel('Дата')\n",
    "\n",
    "plt.tight_layout()"
   ]
  },
  {
   "cell_type": "markdown",
   "metadata": {},
   "source": [
    "<a class=\"anchor\" id=\"21-bullet\"></a> "
   ]
  },
  {
   "cell_type": "markdown",
   "metadata": {},
   "source": [
    "**Обучение**"
   ]
  },
  {
   "cell_type": "code",
   "execution_count": 13,
   "metadata": {},
   "outputs": [
    {
     "data": {
      "text/html": [
       "<div>\n",
       "<style scoped>\n",
       "    .dataframe tbody tr th:only-of-type {\n",
       "        vertical-align: middle;\n",
       "    }\n",
       "\n",
       "    .dataframe tbody tr th {\n",
       "        vertical-align: top;\n",
       "    }\n",
       "\n",
       "    .dataframe thead th {\n",
       "        text-align: right;\n",
       "    }\n",
       "</style>\n",
       "<table border=\"1\" class=\"dataframe\">\n",
       "  <thead>\n",
       "    <tr style=\"text-align: right;\">\n",
       "      <th></th>\n",
       "      <th>num_orders</th>\n",
       "      <th>year</th>\n",
       "      <th>month</th>\n",
       "      <th>day</th>\n",
       "      <th>dayofweek</th>\n",
       "      <th>lag_1</th>\n",
       "      <th>lag_2</th>\n",
       "      <th>lag_3</th>\n",
       "      <th>lag_4</th>\n",
       "      <th>lag_5</th>\n",
       "      <th>...</th>\n",
       "      <th>lag_42</th>\n",
       "      <th>lag_43</th>\n",
       "      <th>lag_44</th>\n",
       "      <th>lag_45</th>\n",
       "      <th>lag_46</th>\n",
       "      <th>lag_47</th>\n",
       "      <th>lag_48</th>\n",
       "      <th>lag_49</th>\n",
       "      <th>lag_50</th>\n",
       "      <th>rolling_mean</th>\n",
       "    </tr>\n",
       "    <tr>\n",
       "      <th>datetime</th>\n",
       "      <th></th>\n",
       "      <th></th>\n",
       "      <th></th>\n",
       "      <th></th>\n",
       "      <th></th>\n",
       "      <th></th>\n",
       "      <th></th>\n",
       "      <th></th>\n",
       "      <th></th>\n",
       "      <th></th>\n",
       "      <th></th>\n",
       "      <th></th>\n",
       "      <th></th>\n",
       "      <th></th>\n",
       "      <th></th>\n",
       "      <th></th>\n",
       "      <th></th>\n",
       "      <th></th>\n",
       "      <th></th>\n",
       "      <th></th>\n",
       "      <th></th>\n",
       "    </tr>\n",
       "  </thead>\n",
       "  <tbody>\n",
       "    <tr>\n",
       "      <th>2018-03-01 00:00:00</th>\n",
       "      <td>124</td>\n",
       "      <td>2018</td>\n",
       "      <td>3</td>\n",
       "      <td>1</td>\n",
       "      <td>3</td>\n",
       "      <td>NaN</td>\n",
       "      <td>NaN</td>\n",
       "      <td>NaN</td>\n",
       "      <td>NaN</td>\n",
       "      <td>NaN</td>\n",
       "      <td>...</td>\n",
       "      <td>NaN</td>\n",
       "      <td>NaN</td>\n",
       "      <td>NaN</td>\n",
       "      <td>NaN</td>\n",
       "      <td>NaN</td>\n",
       "      <td>NaN</td>\n",
       "      <td>NaN</td>\n",
       "      <td>NaN</td>\n",
       "      <td>NaN</td>\n",
       "      <td>NaN</td>\n",
       "    </tr>\n",
       "    <tr>\n",
       "      <th>2018-03-01 01:00:00</th>\n",
       "      <td>85</td>\n",
       "      <td>2018</td>\n",
       "      <td>3</td>\n",
       "      <td>1</td>\n",
       "      <td>3</td>\n",
       "      <td>124.0</td>\n",
       "      <td>NaN</td>\n",
       "      <td>NaN</td>\n",
       "      <td>NaN</td>\n",
       "      <td>NaN</td>\n",
       "      <td>...</td>\n",
       "      <td>NaN</td>\n",
       "      <td>NaN</td>\n",
       "      <td>NaN</td>\n",
       "      <td>NaN</td>\n",
       "      <td>NaN</td>\n",
       "      <td>NaN</td>\n",
       "      <td>NaN</td>\n",
       "      <td>NaN</td>\n",
       "      <td>NaN</td>\n",
       "      <td>NaN</td>\n",
       "    </tr>\n",
       "    <tr>\n",
       "      <th>2018-03-01 02:00:00</th>\n",
       "      <td>71</td>\n",
       "      <td>2018</td>\n",
       "      <td>3</td>\n",
       "      <td>1</td>\n",
       "      <td>3</td>\n",
       "      <td>85.0</td>\n",
       "      <td>124.0</td>\n",
       "      <td>NaN</td>\n",
       "      <td>NaN</td>\n",
       "      <td>NaN</td>\n",
       "      <td>...</td>\n",
       "      <td>NaN</td>\n",
       "      <td>NaN</td>\n",
       "      <td>NaN</td>\n",
       "      <td>NaN</td>\n",
       "      <td>NaN</td>\n",
       "      <td>NaN</td>\n",
       "      <td>NaN</td>\n",
       "      <td>NaN</td>\n",
       "      <td>NaN</td>\n",
       "      <td>NaN</td>\n",
       "    </tr>\n",
       "    <tr>\n",
       "      <th>2018-03-01 03:00:00</th>\n",
       "      <td>66</td>\n",
       "      <td>2018</td>\n",
       "      <td>3</td>\n",
       "      <td>1</td>\n",
       "      <td>3</td>\n",
       "      <td>71.0</td>\n",
       "      <td>85.0</td>\n",
       "      <td>124.0</td>\n",
       "      <td>NaN</td>\n",
       "      <td>NaN</td>\n",
       "      <td>...</td>\n",
       "      <td>NaN</td>\n",
       "      <td>NaN</td>\n",
       "      <td>NaN</td>\n",
       "      <td>NaN</td>\n",
       "      <td>NaN</td>\n",
       "      <td>NaN</td>\n",
       "      <td>NaN</td>\n",
       "      <td>NaN</td>\n",
       "      <td>NaN</td>\n",
       "      <td>NaN</td>\n",
       "    </tr>\n",
       "    <tr>\n",
       "      <th>2018-03-01 04:00:00</th>\n",
       "      <td>43</td>\n",
       "      <td>2018</td>\n",
       "      <td>3</td>\n",
       "      <td>1</td>\n",
       "      <td>3</td>\n",
       "      <td>66.0</td>\n",
       "      <td>71.0</td>\n",
       "      <td>85.0</td>\n",
       "      <td>124.0</td>\n",
       "      <td>NaN</td>\n",
       "      <td>...</td>\n",
       "      <td>NaN</td>\n",
       "      <td>NaN</td>\n",
       "      <td>NaN</td>\n",
       "      <td>NaN</td>\n",
       "      <td>NaN</td>\n",
       "      <td>NaN</td>\n",
       "      <td>NaN</td>\n",
       "      <td>NaN</td>\n",
       "      <td>NaN</td>\n",
       "      <td>NaN</td>\n",
       "    </tr>\n",
       "    <tr>\n",
       "      <th>...</th>\n",
       "      <td>...</td>\n",
       "      <td>...</td>\n",
       "      <td>...</td>\n",
       "      <td>...</td>\n",
       "      <td>...</td>\n",
       "      <td>...</td>\n",
       "      <td>...</td>\n",
       "      <td>...</td>\n",
       "      <td>...</td>\n",
       "      <td>...</td>\n",
       "      <td>...</td>\n",
       "      <td>...</td>\n",
       "      <td>...</td>\n",
       "      <td>...</td>\n",
       "      <td>...</td>\n",
       "      <td>...</td>\n",
       "      <td>...</td>\n",
       "      <td>...</td>\n",
       "      <td>...</td>\n",
       "      <td>...</td>\n",
       "      <td>...</td>\n",
       "    </tr>\n",
       "    <tr>\n",
       "      <th>2018-08-31 19:00:00</th>\n",
       "      <td>136</td>\n",
       "      <td>2018</td>\n",
       "      <td>8</td>\n",
       "      <td>31</td>\n",
       "      <td>4</td>\n",
       "      <td>207.0</td>\n",
       "      <td>217.0</td>\n",
       "      <td>197.0</td>\n",
       "      <td>116.0</td>\n",
       "      <td>133.0</td>\n",
       "      <td>...</td>\n",
       "      <td>217.0</td>\n",
       "      <td>216.0</td>\n",
       "      <td>265.0</td>\n",
       "      <td>177.0</td>\n",
       "      <td>170.0</td>\n",
       "      <td>191.0</td>\n",
       "      <td>169.0</td>\n",
       "      <td>120.0</td>\n",
       "      <td>159.0</td>\n",
       "      <td>157.33</td>\n",
       "    </tr>\n",
       "    <tr>\n",
       "      <th>2018-08-31 20:00:00</th>\n",
       "      <td>154</td>\n",
       "      <td>2018</td>\n",
       "      <td>8</td>\n",
       "      <td>31</td>\n",
       "      <td>4</td>\n",
       "      <td>136.0</td>\n",
       "      <td>207.0</td>\n",
       "      <td>217.0</td>\n",
       "      <td>197.0</td>\n",
       "      <td>116.0</td>\n",
       "      <td>...</td>\n",
       "      <td>232.0</td>\n",
       "      <td>217.0</td>\n",
       "      <td>216.0</td>\n",
       "      <td>265.0</td>\n",
       "      <td>177.0</td>\n",
       "      <td>170.0</td>\n",
       "      <td>191.0</td>\n",
       "      <td>169.0</td>\n",
       "      <td>120.0</td>\n",
       "      <td>156.74</td>\n",
       "    </tr>\n",
       "    <tr>\n",
       "      <th>2018-08-31 21:00:00</th>\n",
       "      <td>159</td>\n",
       "      <td>2018</td>\n",
       "      <td>8</td>\n",
       "      <td>31</td>\n",
       "      <td>4</td>\n",
       "      <td>154.0</td>\n",
       "      <td>136.0</td>\n",
       "      <td>207.0</td>\n",
       "      <td>217.0</td>\n",
       "      <td>197.0</td>\n",
       "      <td>...</td>\n",
       "      <td>193.0</td>\n",
       "      <td>232.0</td>\n",
       "      <td>217.0</td>\n",
       "      <td>216.0</td>\n",
       "      <td>265.0</td>\n",
       "      <td>177.0</td>\n",
       "      <td>170.0</td>\n",
       "      <td>191.0</td>\n",
       "      <td>169.0</td>\n",
       "      <td>156.63</td>\n",
       "    </tr>\n",
       "    <tr>\n",
       "      <th>2018-08-31 22:00:00</th>\n",
       "      <td>223</td>\n",
       "      <td>2018</td>\n",
       "      <td>8</td>\n",
       "      <td>31</td>\n",
       "      <td>4</td>\n",
       "      <td>159.0</td>\n",
       "      <td>154.0</td>\n",
       "      <td>136.0</td>\n",
       "      <td>207.0</td>\n",
       "      <td>217.0</td>\n",
       "      <td>...</td>\n",
       "      <td>186.0</td>\n",
       "      <td>193.0</td>\n",
       "      <td>232.0</td>\n",
       "      <td>217.0</td>\n",
       "      <td>216.0</td>\n",
       "      <td>265.0</td>\n",
       "      <td>177.0</td>\n",
       "      <td>170.0</td>\n",
       "      <td>191.0</td>\n",
       "      <td>156.40</td>\n",
       "    </tr>\n",
       "    <tr>\n",
       "      <th>2018-08-31 23:00:00</th>\n",
       "      <td>205</td>\n",
       "      <td>2018</td>\n",
       "      <td>8</td>\n",
       "      <td>31</td>\n",
       "      <td>4</td>\n",
       "      <td>223.0</td>\n",
       "      <td>159.0</td>\n",
       "      <td>154.0</td>\n",
       "      <td>136.0</td>\n",
       "      <td>207.0</td>\n",
       "      <td>...</td>\n",
       "      <td>56.0</td>\n",
       "      <td>186.0</td>\n",
       "      <td>193.0</td>\n",
       "      <td>232.0</td>\n",
       "      <td>217.0</td>\n",
       "      <td>216.0</td>\n",
       "      <td>265.0</td>\n",
       "      <td>177.0</td>\n",
       "      <td>170.0</td>\n",
       "      <td>157.52</td>\n",
       "    </tr>\n",
       "  </tbody>\n",
       "</table>\n",
       "<p>4416 rows × 56 columns</p>\n",
       "</div>"
      ],
      "text/plain": [
       "                     num_orders  year  month  day  dayofweek  lag_1  lag_2  \\\n",
       "datetime                                                                     \n",
       "2018-03-01 00:00:00         124  2018      3    1          3    NaN    NaN   \n",
       "2018-03-01 01:00:00          85  2018      3    1          3  124.0    NaN   \n",
       "2018-03-01 02:00:00          71  2018      3    1          3   85.0  124.0   \n",
       "2018-03-01 03:00:00          66  2018      3    1          3   71.0   85.0   \n",
       "2018-03-01 04:00:00          43  2018      3    1          3   66.0   71.0   \n",
       "...                         ...   ...    ...  ...        ...    ...    ...   \n",
       "2018-08-31 19:00:00         136  2018      8   31          4  207.0  217.0   \n",
       "2018-08-31 20:00:00         154  2018      8   31          4  136.0  207.0   \n",
       "2018-08-31 21:00:00         159  2018      8   31          4  154.0  136.0   \n",
       "2018-08-31 22:00:00         223  2018      8   31          4  159.0  154.0   \n",
       "2018-08-31 23:00:00         205  2018      8   31          4  223.0  159.0   \n",
       "\n",
       "                     lag_3  lag_4  lag_5  ...  lag_42  lag_43  lag_44  lag_45  \\\n",
       "datetime                                  ...                                   \n",
       "2018-03-01 00:00:00    NaN    NaN    NaN  ...     NaN     NaN     NaN     NaN   \n",
       "2018-03-01 01:00:00    NaN    NaN    NaN  ...     NaN     NaN     NaN     NaN   \n",
       "2018-03-01 02:00:00    NaN    NaN    NaN  ...     NaN     NaN     NaN     NaN   \n",
       "2018-03-01 03:00:00  124.0    NaN    NaN  ...     NaN     NaN     NaN     NaN   \n",
       "2018-03-01 04:00:00   85.0  124.0    NaN  ...     NaN     NaN     NaN     NaN   \n",
       "...                    ...    ...    ...  ...     ...     ...     ...     ...   \n",
       "2018-08-31 19:00:00  197.0  116.0  133.0  ...   217.0   216.0   265.0   177.0   \n",
       "2018-08-31 20:00:00  217.0  197.0  116.0  ...   232.0   217.0   216.0   265.0   \n",
       "2018-08-31 21:00:00  207.0  217.0  197.0  ...   193.0   232.0   217.0   216.0   \n",
       "2018-08-31 22:00:00  136.0  207.0  217.0  ...   186.0   193.0   232.0   217.0   \n",
       "2018-08-31 23:00:00  154.0  136.0  207.0  ...    56.0   186.0   193.0   232.0   \n",
       "\n",
       "                     lag_46  lag_47  lag_48  lag_49  lag_50  rolling_mean  \n",
       "datetime                                                                   \n",
       "2018-03-01 00:00:00     NaN     NaN     NaN     NaN     NaN           NaN  \n",
       "2018-03-01 01:00:00     NaN     NaN     NaN     NaN     NaN           NaN  \n",
       "2018-03-01 02:00:00     NaN     NaN     NaN     NaN     NaN           NaN  \n",
       "2018-03-01 03:00:00     NaN     NaN     NaN     NaN     NaN           NaN  \n",
       "2018-03-01 04:00:00     NaN     NaN     NaN     NaN     NaN           NaN  \n",
       "...                     ...     ...     ...     ...     ...           ...  \n",
       "2018-08-31 19:00:00   170.0   191.0   169.0   120.0   159.0        157.33  \n",
       "2018-08-31 20:00:00   177.0   170.0   191.0   169.0   120.0        156.74  \n",
       "2018-08-31 21:00:00   265.0   177.0   170.0   191.0   169.0        156.63  \n",
       "2018-08-31 22:00:00   216.0   265.0   177.0   170.0   191.0        156.40  \n",
       "2018-08-31 23:00:00   217.0   216.0   265.0   177.0   170.0        157.52  \n",
       "\n",
       "[4416 rows x 56 columns]"
      ]
     },
     "execution_count": 13,
     "metadata": {},
     "output_type": "execute_result"
    }
   ],
   "source": [
    "def make_features(data, max_lag, rolling_mean_size):\n",
    "    for d in ['year', 'month', 'day', 'dayofweek']:\n",
    "        data[d] = getattr(data.index, d)\n",
    "    \n",
    "    for lag in range(1, max_lag + 1):\n",
    "        data['lag_{}'.format(lag)] = data['num_orders'].shift(lag)\n",
    "\n",
    "    data['rolling_mean'] = data['num_orders'].shift().rolling(rolling_mean_size).mean()\n",
    "    \n",
    "make_features(data, 50,100)\n",
    "data"
   ]
  },
  {
   "cell_type": "markdown",
   "metadata": {},
   "source": [
    "<hr style=\"border: 2px solid red;\" />"
   ]
  },
  {
   "cell_type": "code",
   "execution_count": 17,
   "metadata": {},
   "outputs": [],
   "source": [
    "train, test = train_test_split(data, shuffle=False, test_size=0.1)\n",
    "train = train.dropna() "
   ]
  },
  {
   "cell_type": "code",
   "execution_count": 18,
   "metadata": {},
   "outputs": [],
   "source": [
    "def split_data(data, target_column):\n",
    "    return data.drop(columns=[target_column], axis=1), data[target_column]\n",
    "X_train, y_train = split_data(train, 'num_orders')\n",
    "X_test, y_test = split_data(test, 'num_orders')"
   ]
  },
  {
   "cell_type": "markdown",
   "metadata": {},
   "source": [
    "**Линейная регрессия**"
   ]
  },
  {
   "cell_type": "code",
   "execution_count": 19,
   "metadata": {},
   "outputs": [
    {
     "name": "stdout",
     "output_type": "stream",
     "text": [
      "RMSE обучающей выборки: 23.356009489864483\n"
     ]
    }
   ],
   "source": [
    "lr_model = LinearRegression()\n",
    "lr_model.fit(X_train, y_train)\n",
    "pred  = lr_model.predict(X_train)\n",
    "rmse = mean_squared_error(pred , train['num_orders'])**0.5\n",
    "print(\"RMSE обучающей выборки:\", rmse)"
   ]
  },
  {
   "cell_type": "markdown",
   "metadata": {},
   "source": [
    "**Дерево решений**"
   ]
  },
  {
   "cell_type": "markdown",
   "metadata": {},
   "source": [
    "Подбор глубины дерева"
   ]
  },
  {
   "cell_type": "code",
   "execution_count": 20,
   "metadata": {},
   "outputs": [],
   "source": [
    "model = DecisionTreeRegressor(random_state=15)"
   ]
  },
  {
   "cell_type": "code",
   "execution_count": 21,
   "metadata": {},
   "outputs": [
    {
     "name": "stdout",
     "output_type": "stream",
     "text": [
      "CPU times: user 31.4 s, sys: 49.2 ms, total: 31.4 s\n",
      "Wall time: 31.6 s\n"
     ]
    },
    {
     "data": {
      "text/plain": [
       "GridSearchCV(cv=3, estimator=DecisionTreeRegressor(random_state=15),\n",
       "             param_grid={'criterion': ['mae'], 'max_depth': [2, 6],\n",
       "                         'max_leaf_nodes': [5, 20],\n",
       "                         'min_samples_leaf': [20, 40],\n",
       "                         'min_samples_split': [10, 20]},\n",
       "             scoring='neg_mean_squared_error')"
      ]
     },
     "execution_count": 21,
     "metadata": {},
     "output_type": "execute_result"
    }
   ],
   "source": [
    "%%time\n",
    "\n",
    "param_grid = {\"criterion\": [\"mae\"],\n",
    "              \"min_samples_split\": [10, 20],\n",
    "              \"max_depth\": [2, 6],\n",
    "              \"min_samples_leaf\": [20, 40],\n",
    "              \"max_leaf_nodes\": [5, 20],\n",
    "              }\n",
    "\n",
    "## Comment in order to publish in kaggle.\n",
    "\n",
    "grid_cv_dtm = GridSearchCV(model, param_grid, cv=3, scoring='neg_mean_squared_error')\n",
    "\n",
    "grid_cv_dtm.fit(X_train, y_train)"
   ]
  },
  {
   "cell_type": "code",
   "execution_count": 22,
   "metadata": {},
   "outputs": [
    {
     "data": {
      "text/plain": [
       "{'criterion': 'mae',\n",
       " 'max_depth': 6,\n",
       " 'max_leaf_nodes': 20,\n",
       " 'min_samples_leaf': 20,\n",
       " 'min_samples_split': 10}"
      ]
     },
     "execution_count": 22,
     "metadata": {},
     "output_type": "execute_result"
    }
   ],
   "source": [
    "grid_cv_dtm.best_params_"
   ]
  },
  {
   "cell_type": "code",
   "execution_count": 23,
   "metadata": {},
   "outputs": [
    {
     "name": "stdout",
     "output_type": "stream",
     "text": [
      "25.228810938962386\n"
     ]
    }
   ],
   "source": [
    "model = grid_cv_dtm.best_estimator_\n",
    "model.fit(X_train, y_train)\n",
    "pred  = model.predict(X_train)\n",
    "rmse = mean_squared_error(pred, y_train)**0.5\n",
    "print(rmse)"
   ]
  },
  {
   "cell_type": "markdown",
   "metadata": {},
   "source": [
    "**Catboost**"
   ]
  },
  {
   "cell_type": "code",
   "execution_count": 24,
   "metadata": {},
   "outputs": [
    {
     "name": "stdout",
     "output_type": "stream",
     "text": [
      "0:\tlearn: 36.7723636\ttotal: 63.1ms\tremaining: 1m 3s\n",
      "100:\tlearn: 19.3471631\ttotal: 1.19s\tremaining: 10.6s\n",
      "200:\tlearn: 15.6878839\ttotal: 2.32s\tremaining: 9.22s\n",
      "300:\tlearn: 13.3471743\ttotal: 3.5s\tremaining: 8.12s\n",
      "400:\tlearn: 11.5727301\ttotal: 4.65s\tremaining: 6.94s\n",
      "500:\tlearn: 10.0429401\ttotal: 5.79s\tremaining: 5.77s\n",
      "600:\tlearn: 8.8594396\ttotal: 6.94s\tremaining: 4.61s\n",
      "700:\tlearn: 7.7372276\ttotal: 8.11s\tremaining: 3.46s\n",
      "800:\tlearn: 6.8095181\ttotal: 9.34s\tremaining: 2.32s\n",
      "900:\tlearn: 5.9822317\ttotal: 10.5s\tremaining: 1.16s\n",
      "999:\tlearn: 5.2640564\ttotal: 11.7s\tremaining: 0us\n",
      "RMSE обучающей выборки: 5.264056424913615\n",
      "CPU times: user 11.7 s, sys: 186 ms, total: 11.9 s\n",
      "Wall time: 12.9 s\n"
     ]
    }
   ],
   "source": [
    "%%time\n",
    "\n",
    "cat_model = CatBoostRegressor(iterations=1000, learning_rate=0.1, \n",
    "                              verbose=100,  random_seed=15)\n",
    "cat_model.fit(X_train, y_train)\n",
    "pred2  = cat_model.predict(X_train)\n",
    "rmse = mean_squared_error(pred2, y_train)**0.5\n",
    "print(\"RMSE обучающей выборки:\", rmse)"
   ]
  },
  {
   "cell_type": "markdown",
   "metadata": {},
   "source": [
    "Catboost показал лучшие результаты на обучающей выборке. Проверим на тестовой."
   ]
  },
  {
   "cell_type": "markdown",
   "metadata": {},
   "source": [
    "**Тестирование**"
   ]
  },
  {
   "cell_type": "code",
   "execution_count": 25,
   "metadata": {},
   "outputs": [
    {
     "data": {
      "image/png": "[encoded data removed]",
      "text/plain": [
       "<Figure size 1080x504 with 1 Axes>"
      ]
     },
     "metadata": {
      "needs_background": "light"
     },
     "output_type": "display_data"
    }
   ],
   "source": [
    "prediction = cat_model.predict(X_test)\n",
    "rmse_cat = mean_squared_error(prediction, y_test)**0.5\n",
    "plt.figure(figsize=(15, 7))\n",
    "plt.plot(prediction, \"r\", label=\"prediction\")\n",
    "plt.plot(y_test.values, label=\"actual\", alpha=.21)\n",
    "plt.legend(loc=\"best\")\n",
    "plt.title(f\"CATBOOST RMSE {round(rmse_cat)}\")\n",
    "plt.grid(True)"
   ]
  },
  {
   "cell_type": "markdown",
   "metadata": {},
   "source": [
    "**Тест на адекватность модели**"
   ]
  },
  {
   "cell_type": "code",
   "execution_count": 26,
   "metadata": {},
   "outputs": [
    {
     "name": "stdout",
     "output_type": "stream",
     "text": [
      "Прогнозирование предыдущим значением ряда, RMSE: 57\n"
     ]
    }
   ],
   "source": [
    "train_chk, test_chk = train_test_split(data, shuffle=False, test_size=0.1)\n",
    "train_chk = train_chk.dropna()\n",
    "\n",
    "\n",
    "pred_previous = test_chk.shift(periods=1, fill_value=train_chk['num_orders'].iloc[-1])\n",
    "prev_rmse = mean_squared_error(test_chk, pred_previous)**0.5\n",
    "print(\"Прогнозирование предыдущим значением ряда, RMSE:\", \n",
    "      round(prev_rmse))"
   ]
  },
  {
   "cell_type": "markdown",
   "metadata": {},
   "source": [
    "**Вывод**"
   ]
  },
  {
   "cell_type": "markdown",
   "metadata": {},
   "source": [
    "В рамках задачи было протестировано две модели.   \n",
    "Рекомендация заказчику - модель на основе Catboost, которая показала на тестовой выборке метрику RMSE менее 39.  \n",
    "Также модель прошла тест на адекватность."
   ]
  }
 ],
 "metadata": {
  "ExecuteTimeLog": [
   {
    "duration": 1953,
    "start_time": "2023-03-17T20:28:36.593Z"
   },
   {
    "duration": 129,
    "start_time": "2023-03-17T20:29:32.859Z"
   },
   {
    "duration": 63,
    "start_time": "2023-03-17T20:29:36.739Z"
   },
   {
    "duration": 5,
    "start_time": "2023-03-17T20:29:54.561Z"
   },
   {
    "duration": 8,
    "start_time": "2023-03-17T20:30:00.758Z"
   },
   {
    "duration": 15,
    "start_time": "2023-03-17T20:30:05.413Z"
   },
   {
    "duration": 4,
    "start_time": "2023-03-17T20:30:19.472Z"
   },
   {
    "duration": 4,
    "start_time": "2023-03-17T20:30:34.671Z"
   },
   {
    "duration": 348,
    "start_time": "2023-03-17T20:31:00.539Z"
   },
   {
    "duration": 255,
    "start_time": "2023-03-17T20:31:16.091Z"
   },
   {
    "duration": 56,
    "start_time": "2023-03-18T06:32:07.229Z"
   },
   {
    "duration": 1907,
    "start_time": "2023-03-18T06:32:11.725Z"
   },
   {
    "duration": 112,
    "start_time": "2023-03-18T06:32:14.557Z"
   },
   {
    "duration": 5,
    "start_time": "2023-03-18T06:32:15.328Z"
   },
   {
    "duration": 10,
    "start_time": "2023-03-18T06:32:15.889Z"
   },
   {
    "duration": 5,
    "start_time": "2023-03-18T06:32:16.983Z"
   },
   {
    "duration": 3,
    "start_time": "2023-03-18T06:32:17.563Z"
   },
   {
    "duration": 260,
    "start_time": "2023-03-18T06:32:18.518Z"
   },
   {
    "duration": 305,
    "start_time": "2023-03-18T06:32:24.367Z"
   },
   {
    "duration": 224,
    "start_time": "2023-03-18T06:32:34.471Z"
   },
   {
    "duration": 219,
    "start_time": "2023-03-18T06:33:08.587Z"
   },
   {
    "duration": 218,
    "start_time": "2023-03-18T06:33:21.747Z"
   },
   {
    "duration": 6,
    "start_time": "2023-03-18T06:33:37.187Z"
   },
   {
    "duration": 256,
    "start_time": "2023-03-18T06:33:44.244Z"
   },
   {
    "duration": 153,
    "start_time": "2023-03-18T06:34:02.187Z"
   },
   {
    "duration": 235,
    "start_time": "2023-03-18T06:34:49.107Z"
   },
   {
    "duration": 358,
    "start_time": "2023-03-18T06:34:55.714Z"
   },
   {
    "duration": 97,
    "start_time": "2023-03-18T06:36:04.547Z"
   },
   {
    "duration": 341,
    "start_time": "2023-03-18T06:37:28.458Z"
   },
   {
    "duration": 935,
    "start_time": "2023-03-18T06:38:49.743Z"
   },
   {
    "duration": 847,
    "start_time": "2023-03-18T06:39:13.749Z"
   },
   {
    "duration": 426,
    "start_time": "2023-03-18T06:39:41.260Z"
   },
   {
    "duration": 322,
    "start_time": "2023-03-18T06:41:32.470Z"
   },
   {
    "duration": 10,
    "start_time": "2023-03-18T06:41:47.964Z"
   },
   {
    "duration": 4,
    "start_time": "2023-03-18T06:41:56.691Z"
   },
   {
    "duration": 11,
    "start_time": "2023-03-18T06:42:30.291Z"
   },
   {
    "duration": 1462,
    "start_time": "2023-03-18T06:43:39.053Z"
   },
   {
    "duration": 306,
    "start_time": "2023-03-18T06:44:01.895Z"
   },
   {
    "duration": 9,
    "start_time": "2023-03-18T06:45:00.288Z"
   },
   {
    "duration": 6,
    "start_time": "2023-03-18T06:46:01.351Z"
   },
   {
    "duration": 5,
    "start_time": "2023-03-18T06:46:16.693Z"
   },
   {
    "duration": 4,
    "start_time": "2023-03-18T06:47:34.201Z"
   },
   {
    "duration": 4,
    "start_time": "2023-03-18T06:47:41.275Z"
   },
   {
    "duration": 21,
    "start_time": "2023-03-18T06:49:16.569Z"
   },
   {
    "duration": 4,
    "start_time": "2023-03-18T06:49:20.704Z"
   },
   {
    "duration": 7,
    "start_time": "2023-03-18T06:49:21.382Z"
   },
   {
    "duration": 9,
    "start_time": "2023-03-18T06:49:40.111Z"
   },
   {
    "duration": 15,
    "start_time": "2023-03-18T06:49:41.800Z"
   },
   {
    "duration": 18,
    "start_time": "2023-03-18T06:50:26.269Z"
   },
   {
    "duration": 24,
    "start_time": "2023-03-18T06:50:40.016Z"
   },
   {
    "duration": 23,
    "start_time": "2023-03-18T06:50:44.184Z"
   },
   {
    "duration": 27,
    "start_time": "2023-03-18T06:51:07.928Z"
   },
   {
    "duration": 17,
    "start_time": "2023-03-18T06:51:16.663Z"
   },
   {
    "duration": 28,
    "start_time": "2023-03-18T06:51:24.962Z"
   },
   {
    "duration": 3,
    "start_time": "2023-03-18T06:51:32.205Z"
   },
   {
    "duration": 8,
    "start_time": "2023-03-18T06:52:17.563Z"
   },
   {
    "duration": 146,
    "start_time": "2023-03-18T06:53:23.298Z"
   },
   {
    "duration": 3,
    "start_time": "2023-03-18T06:53:32.742Z"
   },
   {
    "duration": 11,
    "start_time": "2023-03-18T06:53:34.102Z"
   },
   {
    "duration": 18,
    "start_time": "2023-03-18T06:53:42.255Z"
   },
   {
    "duration": 6,
    "start_time": "2023-03-18T06:54:29.156Z"
   },
   {
    "duration": 9,
    "start_time": "2023-03-18T06:54:29.646Z"
   },
   {
    "duration": 9,
    "start_time": "2023-03-18T06:54:30.234Z"
   },
   {
    "duration": 43,
    "start_time": "2023-03-18T06:54:31.134Z"
   },
   {
    "duration": 3,
    "start_time": "2023-03-18T06:58:25.679Z"
   },
   {
    "duration": 36161,
    "start_time": "2023-03-18T06:58:26.509Z"
   },
   {
    "duration": 2080841,
    "start_time": "2023-03-18T06:59:40.456Z"
   },
   {
    "duration": 11,
    "start_time": "2023-03-18T07:37:07.493Z"
   },
   {
    "duration": 3171,
    "start_time": "2023-03-18T07:37:22.499Z"
   },
   {
    "duration": 198,
    "start_time": "2023-03-18T07:37:28.389Z"
   },
   {
    "duration": 17,
    "start_time": "2023-03-18T07:37:40.118Z"
   },
   {
    "duration": 11,
    "start_time": "2023-03-18T07:37:48.589Z"
   },
   {
    "duration": 10,
    "start_time": "2023-03-18T07:39:37.894Z"
   },
   {
    "duration": 8,
    "start_time": "2023-03-18T07:39:49.715Z"
   },
   {
    "duration": 10,
    "start_time": "2023-03-18T07:43:01.393Z"
   },
   {
    "duration": 9,
    "start_time": "2023-03-18T07:43:03.332Z"
   },
   {
    "duration": 7,
    "start_time": "2023-03-18T07:46:15.889Z"
   },
   {
    "duration": 10,
    "start_time": "2023-03-18T07:46:38.428Z"
   },
   {
    "duration": 49,
    "start_time": "2023-03-18T07:46:53.389Z"
   },
   {
    "duration": 16,
    "start_time": "2023-03-18T07:47:51.851Z"
   },
   {
    "duration": 78,
    "start_time": "2023-03-18T07:49:04.930Z"
   },
   {
    "duration": 20,
    "start_time": "2023-03-18T07:49:19.074Z"
   },
   {
    "duration": 818,
    "start_time": "2023-03-18T07:49:19.575Z"
   },
   {
    "duration": 159,
    "start_time": "2023-03-18T07:50:06.172Z"
   },
   {
    "duration": 13,
    "start_time": "2023-03-18T07:50:12.310Z"
   },
   {
    "duration": 19,
    "start_time": "2023-03-18T07:50:51.375Z"
   },
   {
    "duration": 17,
    "start_time": "2023-03-18T07:50:52.216Z"
   },
   {
    "duration": 21,
    "start_time": "2023-03-18T07:52:30.505Z"
   },
   {
    "duration": 35,
    "start_time": "2023-03-18T07:52:34.096Z"
   },
   {
    "duration": 969,
    "start_time": "2023-03-18T07:52:35.520Z"
   },
   {
    "duration": 22,
    "start_time": "2023-03-18T07:53:16.968Z"
   },
   {
    "duration": 3973,
    "start_time": "2023-03-18T07:53:30.223Z"
   },
   {
    "duration": 15,
    "start_time": "2023-03-18T07:53:52.154Z"
   },
   {
    "duration": 68,
    "start_time": "2023-03-18T07:53:52.865Z"
   },
   {
    "duration": 290,
    "start_time": "2023-03-18T07:54:00.691Z"
   },
   {
    "duration": 4,
    "start_time": "2023-03-18T07:54:29.924Z"
   },
   {
    "duration": 290,
    "start_time": "2023-03-18T07:55:12.370Z"
   },
   {
    "duration": 215,
    "start_time": "2023-03-18T07:55:41.286Z"
   },
   {
    "duration": 257,
    "start_time": "2023-03-18T07:56:45.451Z"
   },
   {
    "duration": 67,
    "start_time": "2023-03-18T08:01:18.086Z"
   },
   {
    "duration": 8,
    "start_time": "2023-03-18T08:01:21.274Z"
   },
   {
    "duration": 7,
    "start_time": "2023-03-18T08:01:21.804Z"
   },
   {
    "duration": 151,
    "start_time": "2023-03-18T08:01:23.084Z"
   },
   {
    "duration": 36,
    "start_time": "2023-03-18T08:01:25.097Z"
   },
   {
    "duration": 6262,
    "start_time": "2023-03-18T08:01:26.359Z"
   },
   {
    "duration": 306,
    "start_time": "2023-03-18T08:01:33.118Z"
   },
   {
    "duration": 8,
    "start_time": "2023-03-18T08:01:35.844Z"
   },
   {
    "duration": 281,
    "start_time": "2023-03-18T08:01:38.103Z"
   },
   {
    "duration": 82,
    "start_time": "2023-03-18T08:01:52.752Z"
   },
   {
    "duration": 11,
    "start_time": "2023-03-18T08:01:53.426Z"
   },
   {
    "duration": 11,
    "start_time": "2023-03-18T08:01:54.042Z"
   },
   {
    "duration": 30,
    "start_time": "2023-03-18T08:01:55.190Z"
   },
   {
    "duration": 23,
    "start_time": "2023-03-18T08:01:56.063Z"
   },
   {
    "duration": 6287,
    "start_time": "2023-03-18T08:01:57.824Z"
   },
   {
    "duration": 228,
    "start_time": "2023-03-18T08:02:05.859Z"
   },
   {
    "duration": 4,
    "start_time": "2023-03-18T08:02:08.562Z"
   },
   {
    "duration": 207,
    "start_time": "2023-03-18T08:02:10.411Z"
   },
   {
    "duration": 65,
    "start_time": "2023-03-18T08:02:23.285Z"
   },
   {
    "duration": 9,
    "start_time": "2023-03-18T08:02:24.140Z"
   },
   {
    "duration": 7,
    "start_time": "2023-03-18T08:02:25.067Z"
   },
   {
    "duration": 75,
    "start_time": "2023-03-18T08:02:27.175Z"
   },
   {
    "duration": 22,
    "start_time": "2023-03-18T08:02:28.362Z"
   },
   {
    "duration": 7647,
    "start_time": "2023-03-18T08:02:30.363Z"
   },
   {
    "duration": 126,
    "start_time": "2023-03-18T08:02:54.512Z"
   },
   {
    "duration": 19,
    "start_time": "2023-03-18T08:03:03.442Z"
   },
   {
    "duration": 18,
    "start_time": "2023-03-18T08:03:03.919Z"
   },
   {
    "duration": 7847,
    "start_time": "2023-03-18T08:03:08.015Z"
   },
   {
    "duration": 384,
    "start_time": "2023-03-18T08:03:39.855Z"
   },
   {
    "duration": 4,
    "start_time": "2023-03-18T08:03:45.148Z"
   },
   {
    "duration": 226,
    "start_time": "2023-03-18T08:03:46.897Z"
   },
   {
    "duration": 19,
    "start_time": "2023-03-18T08:50:22.991Z"
   },
   {
    "duration": 17,
    "start_time": "2023-03-18T09:27:53.161Z"
   },
   {
    "duration": 598,
    "start_time": "2023-03-18T09:47:07.593Z"
   },
   {
    "duration": 2652,
    "start_time": "2023-03-18T09:47:18.932Z"
   },
   {
    "duration": 151,
    "start_time": "2023-03-18T09:47:21.586Z"
   },
   {
    "duration": 8,
    "start_time": "2023-03-18T09:47:21.739Z"
   },
   {
    "duration": 65,
    "start_time": "2023-03-18T09:47:21.749Z"
   },
   {
    "duration": 10,
    "start_time": "2023-03-18T09:47:21.816Z"
   },
   {
    "duration": 57,
    "start_time": "2023-03-18T09:47:21.828Z"
   },
   {
    "duration": 369,
    "start_time": "2023-03-18T09:47:21.887Z"
   },
   {
    "duration": 281,
    "start_time": "2023-03-18T09:47:22.260Z"
   },
   {
    "duration": 172,
    "start_time": "2023-03-18T09:47:22.547Z"
   },
   {
    "duration": 5,
    "start_time": "2023-03-18T09:47:22.723Z"
   },
   {
    "duration": 547,
    "start_time": "2023-03-18T09:47:22.730Z"
   },
   {
    "duration": 316,
    "start_time": "2023-03-18T09:47:23.283Z"
   },
   {
    "duration": 187,
    "start_time": "2023-03-18T09:47:23.600Z"
   },
   {
    "duration": 0,
    "start_time": "2023-03-18T09:47:23.790Z"
   },
   {
    "duration": 0,
    "start_time": "2023-03-18T09:47:23.791Z"
   },
   {
    "duration": 0,
    "start_time": "2023-03-18T09:47:23.792Z"
   },
   {
    "duration": 0,
    "start_time": "2023-03-18T09:47:23.794Z"
   },
   {
    "duration": 0,
    "start_time": "2023-03-18T09:47:23.796Z"
   },
   {
    "duration": 0,
    "start_time": "2023-03-18T09:47:23.797Z"
   },
   {
    "duration": 0,
    "start_time": "2023-03-18T09:47:23.799Z"
   },
   {
    "duration": 0,
    "start_time": "2023-03-18T09:47:23.800Z"
   },
   {
    "duration": 0,
    "start_time": "2023-03-18T09:47:23.801Z"
   },
   {
    "duration": 0,
    "start_time": "2023-03-18T09:47:23.803Z"
   },
   {
    "duration": 0,
    "start_time": "2023-03-18T09:47:23.804Z"
   },
   {
    "duration": 0,
    "start_time": "2023-03-18T09:47:23.806Z"
   },
   {
    "duration": 503,
    "start_time": "2023-03-18T10:00:14.120Z"
   },
   {
    "duration": 16,
    "start_time": "2023-03-18T10:00:17.137Z"
   },
   {
    "duration": 2013,
    "start_time": "2023-03-18T10:00:22.660Z"
   },
   {
    "duration": 104,
    "start_time": "2023-03-18T10:00:24.680Z"
   },
   {
    "duration": 12,
    "start_time": "2023-03-18T10:00:24.796Z"
   },
   {
    "duration": 12,
    "start_time": "2023-03-18T10:00:24.810Z"
   },
   {
    "duration": 5,
    "start_time": "2023-03-18T10:00:24.824Z"
   },
   {
    "duration": 69,
    "start_time": "2023-03-18T10:00:24.842Z"
   },
   {
    "duration": 374,
    "start_time": "2023-03-18T10:00:24.912Z"
   },
   {
    "duration": 285,
    "start_time": "2023-03-18T10:00:25.294Z"
   },
   {
    "duration": 192,
    "start_time": "2023-03-18T10:00:25.583Z"
   },
   {
    "duration": 17,
    "start_time": "2023-03-18T10:00:25.779Z"
   },
   {
    "duration": 528,
    "start_time": "2023-03-18T10:00:25.799Z"
   },
   {
    "duration": 357,
    "start_time": "2023-03-18T10:00:26.329Z"
   },
   {
    "duration": 464,
    "start_time": "2023-03-18T10:00:26.691Z"
   },
   {
    "duration": 15,
    "start_time": "2023-03-18T10:00:27.162Z"
   },
   {
    "duration": 143,
    "start_time": "2023-03-18T10:00:27.182Z"
   },
   {
    "duration": 19,
    "start_time": "2023-03-18T10:00:27.327Z"
   },
   {
    "duration": 47,
    "start_time": "2023-03-18T10:00:27.350Z"
   },
   {
    "duration": 476,
    "start_time": "2023-03-18T10:00:27.409Z"
   },
   {
    "duration": 0,
    "start_time": "2023-03-18T10:00:27.887Z"
   },
   {
    "duration": 0,
    "start_time": "2023-03-18T10:00:27.889Z"
   },
   {
    "duration": 0,
    "start_time": "2023-03-18T10:00:27.891Z"
   },
   {
    "duration": 0,
    "start_time": "2023-03-18T10:00:27.892Z"
   },
   {
    "duration": 0,
    "start_time": "2023-03-18T10:00:27.893Z"
   },
   {
    "duration": 1,
    "start_time": "2023-03-18T10:00:27.894Z"
   },
   {
    "duration": 165,
    "start_time": "2023-03-18T10:01:33.313Z"
   },
   {
    "duration": 182,
    "start_time": "2023-03-18T10:01:38.861Z"
   },
   {
    "duration": 193,
    "start_time": "2023-03-18T10:01:48.494Z"
   },
   {
    "duration": 120,
    "start_time": "2023-03-18T10:01:54.858Z"
   },
   {
    "duration": 10175,
    "start_time": "2023-03-18T10:02:08.008Z"
   },
   {
    "duration": 11829,
    "start_time": "2023-03-18T10:02:26.858Z"
   },
   {
    "duration": 497,
    "start_time": "2023-03-18T10:03:02.756Z"
   },
   {
    "duration": 4,
    "start_time": "2023-03-18T10:03:06.921Z"
   },
   {
    "duration": 283,
    "start_time": "2023-03-18T10:03:08.705Z"
   },
   {
    "duration": 32,
    "start_time": "2023-03-18T10:03:16.773Z"
   },
   {
    "duration": 2038,
    "start_time": "2023-03-18T10:03:22.366Z"
   },
   {
    "duration": 114,
    "start_time": "2023-03-18T10:03:24.407Z"
   },
   {
    "duration": 5,
    "start_time": "2023-03-18T10:03:24.523Z"
   },
   {
    "duration": 171,
    "start_time": "2023-03-18T10:03:24.533Z"
   },
   {
    "duration": 75,
    "start_time": "2023-03-18T10:03:24.707Z"
   },
   {
    "duration": 45,
    "start_time": "2023-03-18T10:03:24.785Z"
   },
   {
    "duration": 413,
    "start_time": "2023-03-18T10:03:24.833Z"
   },
   {
    "duration": 282,
    "start_time": "2023-03-18T10:03:25.250Z"
   },
   {
    "duration": 194,
    "start_time": "2023-03-18T10:03:25.535Z"
   },
   {
    "duration": 5,
    "start_time": "2023-03-18T10:03:25.733Z"
   },
   {
    "duration": 606,
    "start_time": "2023-03-18T10:03:25.741Z"
   },
   {
    "duration": 348,
    "start_time": "2023-03-18T10:03:26.353Z"
   },
   {
    "duration": 438,
    "start_time": "2023-03-18T10:03:26.703Z"
   },
   {
    "duration": 11,
    "start_time": "2023-03-18T10:03:27.146Z"
   },
   {
    "duration": 201,
    "start_time": "2023-03-18T10:03:27.159Z"
   },
   {
    "duration": 13,
    "start_time": "2023-03-18T10:03:27.362Z"
   },
   {
    "duration": 46,
    "start_time": "2023-03-18T10:03:27.377Z"
   },
   {
    "duration": 303,
    "start_time": "2023-03-18T10:03:27.425Z"
   },
   {
    "duration": 237,
    "start_time": "2023-03-18T10:03:27.733Z"
   },
   {
    "duration": 12114,
    "start_time": "2023-03-18T10:03:27.972Z"
   },
   {
    "duration": 460,
    "start_time": "2023-03-18T10:03:40.093Z"
   },
   {
    "duration": 8,
    "start_time": "2023-03-18T10:03:40.559Z"
   },
   {
    "duration": 350,
    "start_time": "2023-03-18T10:03:40.573Z"
   },
   {
    "duration": 20,
    "start_time": "2023-03-18T10:03:40.929Z"
   },
   {
    "duration": 180,
    "start_time": "2023-03-18T10:13:25.056Z"
   },
   {
    "duration": 283,
    "start_time": "2023-03-18T10:13:27.856Z"
   },
   {
    "duration": 147,
    "start_time": "2023-03-18T10:13:41.402Z"
   },
   {
    "duration": 48,
    "start_time": "2023-03-18T10:13:41.895Z"
   },
   {
    "duration": 355,
    "start_time": "2023-03-18T10:21:56.894Z"
   },
   {
    "duration": 16,
    "start_time": "2023-03-18T10:21:59.783Z"
   },
   {
    "duration": 2399,
    "start_time": "2023-03-19T05:45:47.878Z"
   },
   {
    "duration": 124,
    "start_time": "2023-03-19T05:45:50.290Z"
   },
   {
    "duration": 5,
    "start_time": "2023-03-19T05:45:50.416Z"
   },
   {
    "duration": 11,
    "start_time": "2023-03-19T05:45:50.423Z"
   },
   {
    "duration": 32,
    "start_time": "2023-03-19T05:45:50.437Z"
   },
   {
    "duration": 18,
    "start_time": "2023-03-19T05:45:50.471Z"
   },
   {
    "duration": 298,
    "start_time": "2023-03-19T05:45:50.491Z"
   },
   {
    "duration": 243,
    "start_time": "2023-03-19T05:45:50.790Z"
   },
   {
    "duration": 187,
    "start_time": "2023-03-19T05:45:51.034Z"
   },
   {
    "duration": 4,
    "start_time": "2023-03-19T05:45:51.223Z"
   },
   {
    "duration": 427,
    "start_time": "2023-03-19T05:45:51.229Z"
   },
   {
    "duration": 328,
    "start_time": "2023-03-19T05:45:51.658Z"
   },
   {
    "duration": 367,
    "start_time": "2023-03-19T05:45:51.994Z"
   },
   {
    "duration": 20,
    "start_time": "2023-03-19T05:45:52.375Z"
   },
   {
    "duration": 99,
    "start_time": "2023-03-19T05:45:52.400Z"
   },
   {
    "duration": 10,
    "start_time": "2023-03-19T05:45:52.504Z"
   },
   {
    "duration": 9,
    "start_time": "2023-03-19T05:45:52.518Z"
   },
   {
    "duration": 185,
    "start_time": "2023-03-19T05:45:52.529Z"
   },
   {
    "duration": 303,
    "start_time": "2023-03-19T05:45:52.744Z"
   },
   {
    "duration": 10733,
    "start_time": "2023-03-19T05:45:53.068Z"
   },
   {
    "duration": 260,
    "start_time": "2023-03-19T05:46:03.802Z"
   },
   {
    "duration": 41,
    "start_time": "2023-03-19T05:46:04.080Z"
   },
   {
    "duration": 68,
    "start_time": "2023-03-19T12:50:14.121Z"
   },
   {
    "duration": 1917,
    "start_time": "2023-03-19T12:50:17.901Z"
   },
   {
    "duration": 222,
    "start_time": "2023-03-19T12:50:21.330Z"
   },
   {
    "duration": 5,
    "start_time": "2023-03-19T12:50:22.121Z"
   },
   {
    "duration": 14,
    "start_time": "2023-03-19T12:50:22.892Z"
   },
   {
    "duration": 5,
    "start_time": "2023-03-19T12:50:23.534Z"
   },
   {
    "duration": 5,
    "start_time": "2023-03-19T12:50:24.056Z"
   },
   {
    "duration": 322,
    "start_time": "2023-03-19T12:50:24.920Z"
   },
   {
    "duration": 295,
    "start_time": "2023-03-19T12:51:06.881Z"
   },
   {
    "duration": 313,
    "start_time": "2023-03-19T12:51:13.380Z"
   },
   {
    "duration": 7,
    "start_time": "2023-03-19T12:52:15.934Z"
   },
   {
    "duration": 88,
    "start_time": "2023-03-19T12:52:34.841Z"
   },
   {
    "duration": 5,
    "start_time": "2023-03-19T12:52:37.119Z"
   },
   {
    "duration": 302,
    "start_time": "2023-03-19T12:52:37.958Z"
   },
   {
    "duration": 226,
    "start_time": "2023-03-19T12:53:18.628Z"
   },
   {
    "duration": 239,
    "start_time": "2023-03-19T12:53:37.704Z"
   },
   {
    "duration": 266,
    "start_time": "2023-03-19T12:53:41.817Z"
   },
   {
    "duration": 10,
    "start_time": "2023-03-19T12:56:59.462Z"
   },
   {
    "duration": 5,
    "start_time": "2023-03-19T12:57:00.006Z"
   },
   {
    "duration": 262,
    "start_time": "2023-03-19T12:57:01.784Z"
   },
   {
    "duration": 289,
    "start_time": "2023-03-19T12:57:13.092Z"
   },
   {
    "duration": 5,
    "start_time": "2023-03-19T12:57:20.980Z"
   },
   {
    "duration": 241,
    "start_time": "2023-03-19T12:57:21.880Z"
   },
   {
    "duration": 226,
    "start_time": "2023-03-19T12:57:26.075Z"
   },
   {
    "duration": 1019,
    "start_time": "2023-03-19T13:00:15.652Z"
   },
   {
    "duration": 4,
    "start_time": "2023-03-19T13:00:56.500Z"
   },
   {
    "duration": 235,
    "start_time": "2023-03-19T13:00:57.217Z"
   },
   {
    "duration": 919,
    "start_time": "2023-03-19T13:01:55.127Z"
   },
   {
    "duration": 934,
    "start_time": "2023-03-19T13:02:16.357Z"
   },
   {
    "duration": 1990,
    "start_time": "2023-03-20T04:08:36.454Z"
   },
   {
    "duration": 172,
    "start_time": "2023-03-20T04:08:38.446Z"
   },
   {
    "duration": 3,
    "start_time": "2023-03-20T04:08:38.620Z"
   },
   {
    "duration": 12,
    "start_time": "2023-03-20T04:08:38.625Z"
   },
   {
    "duration": 12,
    "start_time": "2023-03-20T04:08:38.639Z"
   },
   {
    "duration": 5,
    "start_time": "2023-03-20T04:08:38.653Z"
   },
   {
    "duration": 20,
    "start_time": "2023-03-20T04:08:38.659Z"
   },
   {
    "duration": 4,
    "start_time": "2023-03-20T04:08:38.681Z"
   },
   {
    "duration": 358,
    "start_time": "2023-03-20T04:08:38.686Z"
   },
   {
    "duration": 207,
    "start_time": "2023-03-20T04:08:39.046Z"
   },
   {
    "duration": 159,
    "start_time": "2023-03-20T04:08:39.254Z"
   },
   {
    "duration": 8,
    "start_time": "2023-03-20T04:08:39.415Z"
   },
   {
    "duration": 205,
    "start_time": "2023-03-20T04:08:39.424Z"
   },
   {
    "duration": 0,
    "start_time": "2023-03-20T04:08:39.631Z"
   },
   {
    "duration": 0,
    "start_time": "2023-03-20T04:08:39.632Z"
   },
   {
    "duration": 0,
    "start_time": "2023-03-20T04:08:39.633Z"
   },
   {
    "duration": 0,
    "start_time": "2023-03-20T04:08:39.634Z"
   },
   {
    "duration": 0,
    "start_time": "2023-03-20T04:08:39.635Z"
   },
   {
    "duration": 0,
    "start_time": "2023-03-20T04:08:39.636Z"
   },
   {
    "duration": 0,
    "start_time": "2023-03-20T04:08:39.637Z"
   },
   {
    "duration": 0,
    "start_time": "2023-03-20T04:08:39.638Z"
   },
   {
    "duration": 0,
    "start_time": "2023-03-20T04:08:39.639Z"
   },
   {
    "duration": 13,
    "start_time": "2023-03-20T04:10:03.342Z"
   },
   {
    "duration": 7,
    "start_time": "2023-03-20T04:10:10.135Z"
   },
   {
    "duration": 7,
    "start_time": "2023-03-20T04:15:08.442Z"
   },
   {
    "duration": 773,
    "start_time": "2023-03-20T04:17:06.641Z"
   },
   {
    "duration": 10,
    "start_time": "2023-03-20T04:17:11.935Z"
   },
   {
    "duration": 8,
    "start_time": "2023-03-20T04:17:22.398Z"
   },
   {
    "duration": 8,
    "start_time": "2023-03-20T04:17:26.874Z"
   },
   {
    "duration": 14,
    "start_time": "2023-03-20T04:20:55.909Z"
   },
   {
    "duration": 1954,
    "start_time": "2023-03-20T06:59:38.520Z"
   },
   {
    "duration": 122,
    "start_time": "2023-03-20T07:00:08.592Z"
   },
   {
    "duration": 5,
    "start_time": "2023-03-20T07:00:09.643Z"
   },
   {
    "duration": 12,
    "start_time": "2023-03-20T07:00:11.704Z"
   },
   {
    "duration": 5,
    "start_time": "2023-03-20T07:00:12.249Z"
   },
   {
    "duration": 4,
    "start_time": "2023-03-20T07:00:12.981Z"
   },
   {
    "duration": 10,
    "start_time": "2023-03-20T07:00:15.317Z"
   },
   {
    "duration": 5,
    "start_time": "2023-03-20T07:00:15.793Z"
   },
   {
    "duration": 377,
    "start_time": "2023-03-20T07:00:18.159Z"
   },
   {
    "duration": 244,
    "start_time": "2023-03-20T07:00:24.753Z"
   },
   {
    "duration": 1102,
    "start_time": "2023-03-20T07:00:32.124Z"
   },
   {
    "duration": 165,
    "start_time": "2023-03-20T07:00:45.249Z"
   },
   {
    "duration": 5,
    "start_time": "2023-03-20T07:00:46.203Z"
   },
   {
    "duration": 146,
    "start_time": "2023-03-20T07:00:50.176Z"
   },
   {
    "duration": 4,
    "start_time": "2023-03-20T07:01:07.518Z"
   },
   {
    "duration": 67,
    "start_time": "2023-03-20T07:01:09.440Z"
   },
   {
    "duration": 4,
    "start_time": "2023-03-20T07:01:10.078Z"
   },
   {
    "duration": 11,
    "start_time": "2023-03-20T07:01:10.815Z"
   },
   {
    "duration": 4,
    "start_time": "2023-03-20T07:01:11.399Z"
   },
   {
    "duration": 5,
    "start_time": "2023-03-20T07:01:11.994Z"
   },
   {
    "duration": 12,
    "start_time": "2023-03-20T07:01:12.571Z"
   },
   {
    "duration": 4,
    "start_time": "2023-03-20T07:01:13.131Z"
   },
   {
    "duration": 242,
    "start_time": "2023-03-20T07:01:13.816Z"
   },
   {
    "duration": 237,
    "start_time": "2023-03-20T07:01:17.790Z"
   },
   {
    "duration": 11,
    "start_time": "2023-03-20T07:01:19.364Z"
   },
   {
    "duration": 937,
    "start_time": "2023-03-20T07:01:43.582Z"
   },
   {
    "duration": 22,
    "start_time": "2023-03-20T07:01:54.298Z"
   },
   {
    "duration": 77,
    "start_time": "2023-03-20T07:01:59.792Z"
   },
   {
    "duration": 45,
    "start_time": "2023-03-20T07:02:51.777Z"
   },
   {
    "duration": 8,
    "start_time": "2023-03-20T07:02:55.286Z"
   },
   {
    "duration": 19,
    "start_time": "2023-03-20T07:02:56.653Z"
   },
   {
    "duration": 9,
    "start_time": "2023-03-20T07:03:02.049Z"
   },
   {
    "duration": 12,
    "start_time": "2023-03-20T07:03:33.353Z"
   },
   {
    "duration": 6,
    "start_time": "2023-03-20T08:09:19.793Z"
   },
   {
    "duration": 58,
    "start_time": "2023-03-20T08:09:22.154Z"
   },
   {
    "duration": 6,
    "start_time": "2023-03-20T08:09:22.895Z"
   },
   {
    "duration": 14,
    "start_time": "2023-03-20T08:09:23.793Z"
   },
   {
    "duration": 5,
    "start_time": "2023-03-20T08:09:24.419Z"
   },
   {
    "duration": 4,
    "start_time": "2023-03-20T08:09:24.976Z"
   },
   {
    "duration": 11,
    "start_time": "2023-03-20T08:09:25.604Z"
   },
   {
    "duration": 6,
    "start_time": "2023-03-20T08:09:26.253Z"
   },
   {
    "duration": 248,
    "start_time": "2023-03-20T08:09:27.197Z"
   },
   {
    "duration": 243,
    "start_time": "2023-03-20T08:09:32.814Z"
   },
   {
    "duration": 5,
    "start_time": "2023-03-20T08:09:34.395Z"
   },
   {
    "duration": 1077,
    "start_time": "2023-03-20T08:09:37.426Z"
   },
   {
    "duration": 61,
    "start_time": "2023-03-20T08:09:45.708Z"
   },
   {
    "duration": 1606,
    "start_time": "2023-03-20T21:48:38.115Z"
   },
   {
    "duration": 192,
    "start_time": "2023-03-20T21:48:41.924Z"
   },
   {
    "duration": 4,
    "start_time": "2023-03-20T21:48:42.919Z"
   },
   {
    "duration": 10,
    "start_time": "2023-03-20T21:48:43.760Z"
   },
   {
    "duration": 4,
    "start_time": "2023-03-20T21:48:44.479Z"
   },
   {
    "duration": 4,
    "start_time": "2023-03-20T21:48:45.184Z"
   },
   {
    "duration": 8,
    "start_time": "2023-03-20T21:48:45.808Z"
   },
   {
    "duration": 4,
    "start_time": "2023-03-20T21:48:46.591Z"
   },
   {
    "duration": 306,
    "start_time": "2023-03-20T21:48:47.429Z"
   },
   {
    "duration": 196,
    "start_time": "2023-03-20T21:48:52.967Z"
   },
   {
    "duration": 4,
    "start_time": "2023-03-20T21:48:54.480Z"
   },
   {
    "duration": 923,
    "start_time": "2023-03-20T21:48:57.041Z"
   },
   {
    "duration": 56,
    "start_time": "2023-03-20T21:49:06.089Z"
   },
   {
    "duration": 8,
    "start_time": "2023-03-20T21:49:19.502Z"
   },
   {
    "duration": 13,
    "start_time": "2023-03-20T21:49:20.785Z"
   },
   {
    "duration": 8,
    "start_time": "2023-03-20T21:49:21.542Z"
   },
   {
    "duration": 8,
    "start_time": "2023-03-20T21:49:23.747Z"
   },
   {
    "duration": 6,
    "start_time": "2023-03-20T21:49:25.743Z"
   },
   {
    "duration": 108,
    "start_time": "2023-03-20T21:49:28.502Z"
   },
   {
    "duration": 16,
    "start_time": "2023-03-20T21:49:30.120Z"
   },
   {
    "duration": 6083,
    "start_time": "2023-03-20T21:49:54.349Z"
   },
   {
    "duration": 20,
    "start_time": "2023-03-20T22:00:29.668Z"
   },
   {
    "duration": 115,
    "start_time": "2023-03-20T22:01:24.130Z"
   },
   {
    "duration": 93,
    "start_time": "2023-03-20T22:01:49.452Z"
   },
   {
    "duration": 3,
    "start_time": "2023-03-20T22:05:30.487Z"
   },
   {
    "duration": 55,
    "start_time": "2023-03-20T22:05:32.252Z"
   },
   {
    "duration": 3,
    "start_time": "2023-03-20T22:05:33.113Z"
   },
   {
    "duration": 10,
    "start_time": "2023-03-20T22:05:33.655Z"
   },
   {
    "duration": 3,
    "start_time": "2023-03-20T22:05:34.351Z"
   },
   {
    "duration": 3,
    "start_time": "2023-03-20T22:05:34.903Z"
   },
   {
    "duration": 7,
    "start_time": "2023-03-20T22:05:35.507Z"
   },
   {
    "duration": 4,
    "start_time": "2023-03-20T22:05:36.238Z"
   },
   {
    "duration": 214,
    "start_time": "2023-03-20T22:05:37.307Z"
   },
   {
    "duration": 210,
    "start_time": "2023-03-20T22:05:41.955Z"
   },
   {
    "duration": 4,
    "start_time": "2023-03-20T22:05:43.420Z"
   },
   {
    "duration": 815,
    "start_time": "2023-03-20T22:05:49.880Z"
   },
   {
    "duration": 51,
    "start_time": "2023-03-20T22:06:11.580Z"
   },
   {
    "duration": 9,
    "start_time": "2023-03-20T22:06:51.858Z"
   },
   {
    "duration": 13,
    "start_time": "2023-03-20T22:06:53.006Z"
   },
   {
    "duration": 7,
    "start_time": "2023-03-20T22:06:53.586Z"
   },
   {
    "duration": 8,
    "start_time": "2023-03-20T22:06:55.243Z"
   },
   {
    "duration": 5,
    "start_time": "2023-03-20T22:06:56.040Z"
   },
   {
    "duration": 17,
    "start_time": "2023-03-20T22:06:57.824Z"
   },
   {
    "duration": 93,
    "start_time": "2023-03-20T22:08:02.862Z"
   },
   {
    "duration": 5883,
    "start_time": "2023-03-20T22:08:04.637Z"
   },
   {
    "duration": 197,
    "start_time": "2023-03-20T22:08:11.380Z"
   },
   {
    "duration": 13,
    "start_time": "2023-03-20T22:08:12.945Z"
   },
   {
    "duration": 2200,
    "start_time": "2023-03-21T05:08:08.348Z"
   },
   {
    "duration": 59,
    "start_time": "2023-03-21T05:08:10.550Z"
   },
   {
    "duration": 5,
    "start_time": "2023-03-21T05:08:10.612Z"
   },
   {
    "duration": 19,
    "start_time": "2023-03-21T05:08:10.619Z"
   },
   {
    "duration": 5,
    "start_time": "2023-03-21T05:08:10.639Z"
   },
   {
    "duration": 12,
    "start_time": "2023-03-21T05:08:10.646Z"
   },
   {
    "duration": 18,
    "start_time": "2023-03-21T05:08:10.660Z"
   },
   {
    "duration": 4,
    "start_time": "2023-03-21T05:08:10.681Z"
   },
   {
    "duration": 347,
    "start_time": "2023-03-21T05:08:10.687Z"
   },
   {
    "duration": 257,
    "start_time": "2023-03-21T05:08:11.040Z"
   },
   {
    "duration": 5,
    "start_time": "2023-03-21T05:08:11.299Z"
   },
   {
    "duration": 1009,
    "start_time": "2023-03-21T05:08:11.306Z"
   },
   {
    "duration": 70,
    "start_time": "2023-03-21T05:08:12.316Z"
   },
   {
    "duration": 11,
    "start_time": "2023-03-21T05:08:12.388Z"
   },
   {
    "duration": 20,
    "start_time": "2023-03-21T05:08:12.401Z"
   },
   {
    "duration": 14,
    "start_time": "2023-03-21T05:08:12.442Z"
   },
   {
    "duration": 14,
    "start_time": "2023-03-21T05:08:12.459Z"
   },
   {
    "duration": 8,
    "start_time": "2023-03-21T05:08:12.476Z"
   },
   {
    "duration": 253,
    "start_time": "2023-03-21T05:08:12.487Z"
   },
   {
    "duration": 117,
    "start_time": "2023-03-21T05:08:12.743Z"
   },
   {
    "duration": 7794,
    "start_time": "2023-03-21T05:08:12.863Z"
   },
   {
    "duration": 262,
    "start_time": "2023-03-21T05:08:20.660Z"
   },
   {
    "duration": 22,
    "start_time": "2023-03-21T05:08:20.925Z"
   },
   {
    "duration": 1776,
    "start_time": "2023-03-21T05:50:07.119Z"
   },
   {
    "duration": 175,
    "start_time": "2023-03-21T05:50:11.089Z"
   },
   {
    "duration": 4,
    "start_time": "2023-03-21T05:50:11.817Z"
   },
   {
    "duration": 16,
    "start_time": "2023-03-21T05:50:12.352Z"
   },
   {
    "duration": 6,
    "start_time": "2023-03-21T05:50:12.947Z"
   },
   {
    "duration": 4,
    "start_time": "2023-03-21T05:50:13.493Z"
   },
   {
    "duration": 8,
    "start_time": "2023-03-21T05:50:14.008Z"
   },
   {
    "duration": 4,
    "start_time": "2023-03-21T05:50:14.763Z"
   },
   {
    "duration": 299,
    "start_time": "2023-03-21T05:50:15.466Z"
   },
   {
    "duration": 209,
    "start_time": "2023-03-21T05:50:19.268Z"
   },
   {
    "duration": 4,
    "start_time": "2023-03-21T05:50:20.694Z"
   },
   {
    "duration": 939,
    "start_time": "2023-03-21T05:50:22.934Z"
   },
   {
    "duration": 68,
    "start_time": "2023-03-21T05:50:29.745Z"
   },
   {
    "duration": 7,
    "start_time": "2023-03-21T05:50:33.841Z"
   },
   {
    "duration": 17,
    "start_time": "2023-03-21T05:50:34.908Z"
   },
   {
    "duration": 10,
    "start_time": "2023-03-21T05:50:35.540Z"
   },
   {
    "duration": 11,
    "start_time": "2023-03-21T05:50:36.939Z"
   },
   {
    "duration": 6,
    "start_time": "2023-03-21T05:50:37.867Z"
   },
   {
    "duration": 412,
    "start_time": "2023-03-21T05:50:39.988Z"
   },
   {
    "duration": 32,
    "start_time": "2023-03-21T05:50:46.521Z"
   },
   {
    "duration": 26,
    "start_time": "2023-03-21T05:50:50.575Z"
   },
   {
    "duration": 215,
    "start_time": "2023-03-21T05:50:56.105Z"
   },
   {
    "duration": 12973,
    "start_time": "2023-03-21T05:50:58.844Z"
   },
   {
    "duration": 12346,
    "start_time": "2023-03-21T05:51:18.039Z"
   },
   {
    "duration": 206,
    "start_time": "2023-03-21T05:51:33.190Z"
   },
   {
    "duration": 13,
    "start_time": "2023-03-21T05:51:34.907Z"
   },
   {
    "duration": 100,
    "start_time": "2023-03-21T05:54:32.270Z"
   },
   {
    "duration": 2,
    "start_time": "2023-03-21T06:02:53.281Z"
   },
   {
    "duration": 14,
    "start_time": "2023-03-21T06:04:22.184Z"
   },
   {
    "duration": 3,
    "start_time": "2023-03-21T06:04:44.714Z"
   },
   {
    "duration": 11,
    "start_time": "2023-03-21T06:04:45.504Z"
   },
   {
    "duration": 10,
    "start_time": "2023-03-21T06:04:55.516Z"
   },
   {
    "duration": 325134,
    "start_time": "2023-03-21T06:05:07.628Z"
   },
   {
    "duration": 32185,
    "start_time": "2023-03-21T06:11:02.529Z"
   },
   {
    "duration": 12,
    "start_time": "2023-03-21T06:12:59.181Z"
   },
   {
    "duration": 4,
    "start_time": "2023-03-21T06:13:11.584Z"
   },
   {
    "duration": 111,
    "start_time": "2023-03-21T06:14:48.539Z"
   },
   {
    "duration": 31898,
    "start_time": "2023-03-21T06:15:38.010Z"
   },
   {
    "duration": 4,
    "start_time": "2023-03-21T06:16:13.005Z"
   },
   {
    "duration": 3,
    "start_time": "2023-03-21T06:17:25.753Z"
   },
   {
    "duration": 16,
    "start_time": "2023-03-21T06:18:23.564Z"
   },
   {
    "duration": 20,
    "start_time": "2023-03-21T06:18:30.059Z"
   },
   {
    "duration": 92,
    "start_time": "2023-03-21T06:19:02.195Z"
   },
   {
    "duration": 1587,
    "start_time": "2023-03-21T06:19:56.481Z"
   },
   {
    "duration": 214,
    "start_time": "2023-03-21T06:20:33.307Z"
   },
   {
    "duration": 12,
    "start_time": "2023-03-21T06:21:54.457Z"
   },
   {
    "duration": 1497,
    "start_time": "2023-03-21T06:22:03.065Z"
   },
   {
    "duration": 31,
    "start_time": "2023-03-21T06:22:37.499Z"
   },
   {
    "duration": 64,
    "start_time": "2023-03-21T06:22:51.497Z"
   },
   {
    "duration": 7,
    "start_time": "2023-03-21T06:22:55.391Z"
   },
   {
    "duration": 13,
    "start_time": "2023-03-21T06:22:56.105Z"
   },
   {
    "duration": 8,
    "start_time": "2023-03-21T06:22:56.605Z"
   },
   {
    "duration": 11,
    "start_time": "2023-03-21T06:22:57.791Z"
   },
   {
    "duration": 7,
    "start_time": "2023-03-21T06:22:58.778Z"
   },
   {
    "duration": 158,
    "start_time": "2023-03-21T06:23:00.887Z"
   },
   {
    "duration": 3,
    "start_time": "2023-03-21T06:23:04.204Z"
   },
   {
    "duration": 31475,
    "start_time": "2023-03-21T06:23:05.189Z"
   },
   {
    "duration": 5,
    "start_time": "2023-03-21T06:24:01.556Z"
   },
   {
    "duration": 1561,
    "start_time": "2023-03-21T06:24:05.090Z"
   },
   {
    "duration": 1561,
    "start_time": "2023-03-21T06:25:11.722Z"
   },
   {
    "duration": 58,
    "start_time": "2023-03-21T06:25:13.285Z"
   },
   {
    "duration": 4,
    "start_time": "2023-03-21T06:25:13.345Z"
   },
   {
    "duration": 37,
    "start_time": "2023-03-21T06:25:13.351Z"
   },
   {
    "duration": 4,
    "start_time": "2023-03-21T06:25:13.390Z"
   },
   {
    "duration": 4,
    "start_time": "2023-03-21T06:25:13.396Z"
   },
   {
    "duration": 12,
    "start_time": "2023-03-21T06:25:13.401Z"
   },
   {
    "duration": 5,
    "start_time": "2023-03-21T06:25:13.415Z"
   },
   {
    "duration": 360,
    "start_time": "2023-03-21T06:25:13.421Z"
   },
   {
    "duration": 218,
    "start_time": "2023-03-21T06:25:13.785Z"
   },
   {
    "duration": 4,
    "start_time": "2023-03-21T06:25:14.005Z"
   },
   {
    "duration": 952,
    "start_time": "2023-03-21T06:25:14.010Z"
   },
   {
    "duration": 81,
    "start_time": "2023-03-21T06:25:14.963Z"
   },
   {
    "duration": 8,
    "start_time": "2023-03-21T06:25:15.045Z"
   },
   {
    "duration": 55,
    "start_time": "2023-03-21T06:25:15.054Z"
   },
   {
    "duration": 42,
    "start_time": "2023-03-21T06:25:15.111Z"
   },
   {
    "duration": 20,
    "start_time": "2023-03-21T06:25:15.154Z"
   },
   {
    "duration": 5,
    "start_time": "2023-03-21T06:25:15.176Z"
   },
   {
    "duration": 268,
    "start_time": "2023-03-21T06:25:15.183Z"
   },
   {
    "duration": 87,
    "start_time": "2023-03-21T06:25:15.454Z"
   },
   {
    "duration": 31591,
    "start_time": "2023-03-21T06:25:15.544Z"
   },
   {
    "duration": 7,
    "start_time": "2023-03-21T06:25:47.136Z"
   },
   {
    "duration": 1601,
    "start_time": "2023-03-21T06:25:47.144Z"
   },
   {
    "duration": 12931,
    "start_time": "2023-03-21T06:25:48.746Z"
   },
   {
    "duration": 203,
    "start_time": "2023-03-21T06:26:01.679Z"
   },
   {
    "duration": 15,
    "start_time": "2023-03-21T06:26:01.884Z"
   }
  ],
  "kernelspec": {
   "display_name": "Python 3 (ipykernel)",
   "language": "python",
   "name": "python3"
  },
  "language_info": {
   "codemirror_mode": {
    "name": "ipython",
    "version": 3
   },
   "file_extension": ".py",
   "mimetype": "text/x-python",
   "name": "python",
   "nbconvert_exporter": "python",
   "pygments_lexer": "ipython3",
   "version": "3.9.5"
  },
  "toc": {
   "base_numbering": 1,
   "nav_menu": {},
   "number_sections": true,
   "sideBar": true,
   "skip_h1_title": true,
   "title_cell": "Содержание",
   "title_sidebar": "Contents",
   "toc_cell": true,
   "toc_position": {},
   "toc_section_display": true,
   "toc_window_display": true
  }
 },
 "nbformat": 4,
 "nbformat_minor": 2
}
