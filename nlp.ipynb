{
 "cells": [
  {
   "cell_type": "markdown",
   "metadata": {},
   "source": [
    "# Проект NLP"
   ]
  },
  {
   "cell_type": "markdown",
   "metadata": {},
   "source": [
    "**Заказчик:** Интернет-магазин  \n",
    "\n",
    "**Описание задачи:** запуск нового сервиса: пользователи могут редактировать и дополнять описания товаров, предлагают свои правки и комментируют изменения других. Магазину нужна модель оценки токсичности комментариев для отправки на пре-модерацию.  \n",
    "\n",
    "**Задача:** Обучите модель классифицировать комментарии на позитивные и негативные. В вашем распоряжении набор данных с разметкой о токсичности правок.\n",
    "\n",
    "**Порог решения:** модель с *F1* не меньше 0.75.  \n"
   ]
  },
  {
   "cell_type": "code",
   "execution_count": 1,
   "metadata": {},
   "outputs": [],
   "source": [
    "import pandas as pd\n",
    "import numpy as np\n",
    "import matplotlib.pyplot as plt\n",
    "import re\n",
    "import nltk\n",
    "from nltk.corpus import stopwords\n",
    "from sklearn.feature_extraction.text import TfidfTransformer, CountVectorizer, TfidfVectorizer\n",
    "from sklearn.model_selection import train_test_split, GridSearchCV\n",
    "from sklearn.ensemble import RandomForestClassifier, VotingClassifier\n",
    "from sklearn.linear_model import LogisticRegression, SGDClassifier\n",
    "from sklearn.pipeline import Pipeline\n",
    "from sklearn.dummy import DummyClassifier\n",
    "from sklearn.metrics import f1_score\n",
    "from sklearn.utils import shuffle\n",
    "import transformers\n",
    "import warnings\n",
    "import seaborn as sns\n",
    "from tqdm import tqdm\n",
    "from time import time"
   ]
  },
  {
   "cell_type": "markdown",
   "metadata": {},
   "source": [
    "## Подготовка"
   ]
  },
  {
   "cell_type": "code",
   "execution_count": 2,
   "metadata": {},
   "outputs": [],
   "source": [
    "df = pd.read_csv('/datasets/toxic_comments.csv', index_col=False)"
   ]
  },
  {
   "cell_type": "code",
   "execution_count": 3,
   "metadata": {},
   "outputs": [
    {
     "data": {
      "text/plain": [
       "(159292, 3)"
      ]
     },
     "execution_count": 3,
     "metadata": {},
     "output_type": "execute_result"
    }
   ],
   "source": [
    "df.shape"
   ]
  },
  {
   "cell_type": "markdown",
   "metadata": {},
   "source": [
    "Датасет состоит из 159к комментариев."
   ]
  },
  {
   "cell_type": "code",
   "execution_count": 4,
   "metadata": {},
   "outputs": [
    {
     "data": {
      "text/html": [
       "<div>\n",
       "<style scoped>\n",
       "    .dataframe tbody tr th:only-of-type {\n",
       "        vertical-align: middle;\n",
       "    }\n",
       "\n",
       "    .dataframe tbody tr th {\n",
       "        vertical-align: top;\n",
       "    }\n",
       "\n",
       "    .dataframe thead th {\n",
       "        text-align: right;\n",
       "    }\n",
       "</style>\n",
       "<table border=\"1\" class=\"dataframe\">\n",
       "  <thead>\n",
       "    <tr style=\"text-align: right;\">\n",
       "      <th></th>\n",
       "      <th>Unnamed: 0</th>\n",
       "      <th>text</th>\n",
       "      <th>toxic</th>\n",
       "    </tr>\n",
       "  </thead>\n",
       "  <tbody>\n",
       "    <tr>\n",
       "      <th>0</th>\n",
       "      <td>0</td>\n",
       "      <td>Explanation\\nWhy the edits made under my usern...</td>\n",
       "      <td>0</td>\n",
       "    </tr>\n",
       "    <tr>\n",
       "      <th>1</th>\n",
       "      <td>1</td>\n",
       "      <td>D'aww! He matches this background colour I'm s...</td>\n",
       "      <td>0</td>\n",
       "    </tr>\n",
       "    <tr>\n",
       "      <th>2</th>\n",
       "      <td>2</td>\n",
       "      <td>Hey man, I'm really not trying to edit war. It...</td>\n",
       "      <td>0</td>\n",
       "    </tr>\n",
       "    <tr>\n",
       "      <th>3</th>\n",
       "      <td>3</td>\n",
       "      <td>\"\\nMore\\nI can't make any real suggestions on ...</td>\n",
       "      <td>0</td>\n",
       "    </tr>\n",
       "    <tr>\n",
       "      <th>4</th>\n",
       "      <td>4</td>\n",
       "      <td>You, sir, are my hero. Any chance you remember...</td>\n",
       "      <td>0</td>\n",
       "    </tr>\n",
       "  </tbody>\n",
       "</table>\n",
       "</div>"
      ],
      "text/plain": [
       "   Unnamed: 0                                               text  toxic\n",
       "0           0  Explanation\\nWhy the edits made under my usern...      0\n",
       "1           1  D'aww! He matches this background colour I'm s...      0\n",
       "2           2  Hey man, I'm really not trying to edit war. It...      0\n",
       "3           3  \"\\nMore\\nI can't make any real suggestions on ...      0\n",
       "4           4  You, sir, are my hero. Any chance you remember...      0"
      ]
     },
     "execution_count": 4,
     "metadata": {},
     "output_type": "execute_result"
    }
   ],
   "source": [
    "df.head(5)"
   ]
  },
  {
   "cell_type": "code",
   "execution_count": 5,
   "metadata": {},
   "outputs": [
    {
     "data": {
      "text/html": [
       "<div>\n",
       "<style scoped>\n",
       "    .dataframe tbody tr th:only-of-type {\n",
       "        vertical-align: middle;\n",
       "    }\n",
       "\n",
       "    .dataframe tbody tr th {\n",
       "        vertical-align: top;\n",
       "    }\n",
       "\n",
       "    .dataframe thead th {\n",
       "        text-align: right;\n",
       "    }\n",
       "</style>\n",
       "<table border=\"1\" class=\"dataframe\">\n",
       "  <thead>\n",
       "    <tr style=\"text-align: right;\">\n",
       "      <th></th>\n",
       "      <th>index</th>\n",
       "      <th>toxic</th>\n",
       "    </tr>\n",
       "  </thead>\n",
       "  <tbody>\n",
       "    <tr>\n",
       "      <th>0</th>\n",
       "      <td>0</td>\n",
       "      <td>143106</td>\n",
       "    </tr>\n",
       "    <tr>\n",
       "      <th>1</th>\n",
       "      <td>1</td>\n",
       "      <td>16186</td>\n",
       "    </tr>\n",
       "  </tbody>\n",
       "</table>\n",
       "</div>"
      ],
      "text/plain": [
       "   index   toxic\n",
       "0      0  143106\n",
       "1      1   16186"
      ]
     },
     "execution_count": 5,
     "metadata": {},
     "output_type": "execute_result"
    }
   ],
   "source": [
    "df['toxic'].value_counts().reset_index()"
   ]
  },
  {
   "cell_type": "markdown",
   "metadata": {},
   "source": [
    "16к комментариев помечены как токсичные. Присутствует дисбаланс классов"
   ]
  },
  {
   "cell_type": "markdown",
   "metadata": {},
   "source": [
    "**Дубликаты**"
   ]
  },
  {
   "cell_type": "code",
   "execution_count": 6,
   "metadata": {},
   "outputs": [
    {
     "name": "stdout",
     "output_type": "stream",
     "text": [
      "Количество полных дубликтов в датасете 0\n"
     ]
    }
   ],
   "source": [
    "mydups = df.duplicated().sum()\n",
    "print('Количество полных дубликтов в датасете', mydups)"
   ]
  },
  {
   "cell_type": "markdown",
   "metadata": {},
   "source": [
    "Полные дубликаты в датасете не выявлены."
   ]
  },
  {
   "cell_type": "markdown",
   "metadata": {},
   "source": [
    "**Пропуски**"
   ]
  },
  {
   "cell_type": "code",
   "execution_count": 7,
   "metadata": {},
   "outputs": [
    {
     "data": {
      "text/html": [
       "<style  type=\"text/css\" >\n",
       "#T_97c8b_row0_col0,#T_97c8b_row1_col0,#T_97c8b_row2_col0{\n",
       "            background-color:  #0000ff;\n",
       "            color:  #f1f1f1;\n",
       "        }</style><table id=\"T_97c8b_\" ><thead>    <tr>        <th class=\"blank level0\" ></th>        <th class=\"col_heading level0 col0\" >0</th>    </tr></thead><tbody>\n",
       "                <tr>\n",
       "                        <th id=\"T_97c8b_level0_row0\" class=\"row_heading level0 row0\" >Unnamed: 0</th>\n",
       "                        <td id=\"T_97c8b_row0_col0\" class=\"data row0 col0\" >0.000000</td>\n",
       "            </tr>\n",
       "            <tr>\n",
       "                        <th id=\"T_97c8b_level0_row1\" class=\"row_heading level0 row1\" >text</th>\n",
       "                        <td id=\"T_97c8b_row1_col0\" class=\"data row1 col0\" >0.000000</td>\n",
       "            </tr>\n",
       "            <tr>\n",
       "                        <th id=\"T_97c8b_level0_row2\" class=\"row_heading level0 row2\" >toxic</th>\n",
       "                        <td id=\"T_97c8b_row2_col0\" class=\"data row2 col0\" >0.000000</td>\n",
       "            </tr>\n",
       "    </tbody></table>"
      ],
      "text/plain": [
       "<pandas.io.formats.style.Styler at 0x7f9af62296d0>"
      ]
     },
     "execution_count": 7,
     "metadata": {},
     "output_type": "execute_result"
    }
   ],
   "source": [
    "pd.DataFrame(round(df.isna().mean()*100,1)).style.background_gradient('bwr')"
   ]
  },
  {
   "cell_type": "markdown",
   "metadata": {},
   "source": [
    "Пропуски отсутствуют."
   ]
  },
  {
   "cell_type": "code",
   "execution_count": 8,
   "metadata": {},
   "outputs": [
    {
     "name": "stdout",
     "output_type": "stream",
     "text": [
      "<class 'pandas.core.frame.DataFrame'>\n",
      "RangeIndex: 159292 entries, 0 to 159291\n",
      "Data columns (total 3 columns):\n",
      " #   Column      Non-Null Count   Dtype \n",
      "---  ------      --------------   ----- \n",
      " 0   Unnamed: 0  159292 non-null  int64 \n",
      " 1   text        159292 non-null  object\n",
      " 2   toxic       159292 non-null  int64 \n",
      "dtypes: int64(2), object(1)\n",
      "memory usage: 3.6+ MB\n"
     ]
    }
   ],
   "source": [
    "df.info()"
   ]
  },
  {
   "cell_type": "markdown",
   "metadata": {},
   "source": [
    "Для удобства приведём текст к lower_case"
   ]
  },
  {
   "cell_type": "code",
   "execution_count": 9,
   "metadata": {},
   "outputs": [],
   "source": [
    "df['text'] = df['text'].str.lower()"
   ]
  },
  {
   "cell_type": "markdown",
   "metadata": {},
   "source": [
    "Преобразуем текст в леммы."
   ]
  },
  {
   "cell_type": "code",
   "execution_count": 21,
   "metadata": {},
   "outputs": [],
   "source": [
    "def text_pre(text):\n",
    "    tokenized = nltk.word_tokenize(text)\n",
    "    joined = ' '.join(tokenized)\n",
    "    text_o = re.sub(r\"[^a-z0-9!@#\\$%\\^\\&\\*_\\-,\\.' ]\", ' ', joined)\n",
    "    final = \" \".join(text_o.split())\n",
    "    return  final"
   ]
  },
  {
   "cell_type": "markdown",
   "metadata": {},
   "source": [
    "Добавим новый столбец с леммами в датасет."
   ]
  },
  {
   "cell_type": "code",
   "execution_count": 11,
   "metadata": {},
   "outputs": [],
   "source": [
    "import spacy"
   ]
  },
  {
   "cell_type": "code",
   "execution_count": 16,
   "metadata": {},
   "outputs": [],
   "source": [
    "nlp = spacy.load('en_core_web_sm')\n",
    "def lemma_clear(text): \n",
    "      \n",
    "    lemm = nlp(text) \n",
    "    lemm = \" \".join([token.lemma_ for token in lemm])  \n",
    "    return \" \".join(lemm.split())\n"
   ]
  },
  {
   "cell_type": "raw",
   "metadata": {},
   "source": [
    "# код ревьюера с комментариями\n",
    "\n",
    "nlp = spacy.load('en_core_web_sm')\n",
    "\n",
    "\n",
    "def lemma_clear(text): \n",
    "      \n",
    "    lemm = nlp(text) \n",
    "    lemm = \" \".join([token.lemma_ for token in lemm])  \n",
    "    return \" \".join(lemm.split())\n",
    "\n",
    "# проверяем\n",
    "\n",
    "sentence1 = \"The striped bats are hanging on their feet for best\"\n",
    "print(f'до лемматизации: \\n {sentence1}')\n",
    "\n",
    "print('после')\n",
    "lemma_clear(sentence1)\n",
    "\n",
    "\n",
    "# вуаля: striped ----> stripe, best-----> good\n",
    "\n",
    "\n",
    "\n",
    "\n",
    "# делать лемматизацию 1 предлложения мы научились, как теперь сделать лематизация столбца из предложений!? \n",
    "# используем .apply()\n",
    "\n",
    "sentence1 = \"The striped bats are hanging on their feet for best\"\n",
    "sentence2 = \"you should be ashamed of yourself went worked\"\n",
    "df_my = pd.DataFrame([sentence1, sentence2])\n",
    "\n",
    "\n",
    "df_my[0].apply(lemma_clear)\n",
    "\n",
    "\n",
    "# вуаля все работает"
   ]
  },
  {
   "cell_type": "raw",
   "metadata": {},
   "source": [
    "# код ревьюера\n",
    "\n",
    "\n",
    "\n",
    "# вот код из статьи:\n",
    "\n",
    "\n",
    "import nltk\n",
    "from nltk.stem import WordNetLemmatizer \n",
    "nltk.download('averaged_perceptron_tagger')\n",
    "from nltk.corpus import wordnet\n",
    "import pandas as pd\n",
    "import re\n",
    "\n",
    "lemmatizer = WordNetLemmatizer()\n",
    "\n",
    "\n",
    "def get_wordnet_pos(word):\n",
    "    \"\"\"Map POS tag to first character lemmatize() accepts\"\"\"\n",
    "    tag = nltk.pos_tag([word])[0][1][0].upper()\n",
    "    tag_dict = {\"J\": wordnet.ADJ,\n",
    "                \"N\": wordnet.NOUN,\n",
    "                \"V\": wordnet.VERB,\n",
    "                \"R\": wordnet.ADV}\n",
    "    return tag_dict.get(tag, wordnet.NOUN)\n",
    "\n",
    "\n",
    "# [lemmatizer.lemmatize(w, get_wordnet_pos(w)) for w in nltk.word_tokenize(text)]\n",
    "\n",
    "# text это предложение, которое с помощью  nltk.word_tokenize разбивается на слова (w), а эти слова подаются в \n",
    "# lemmatizer.lemmatize(w, get_wordnet_pos(w)) и происходит лемматизация. Давай попробуем:\n",
    "\n",
    "text = \"The striped bats are hanging on their feet for best\"\n",
    "print([lemmatizer.lemmatize(w, get_wordnet_pos(w)) for w in nltk.word_tokenize(text)])\n",
    "\n",
    "\n",
    "# striped  ----->  strip  hanging------> hang  итп итд, лемматизация произошла!\n",
    "\n",
    "# А теперь давай слепим это в предложение:\n",
    "    \n",
    "print(' '.join([lemmatizer.lemmatize(w, get_wordnet_pos(w)) for w in nltk.word_tokenize(text)])    )\n",
    "\n",
    "# Красота! Все работает\n",
    "\n",
    "\n",
    "# а теперь просто нужно чуть подправить функцию:\n",
    "\n",
    "    \n",
    "def lemm_(text):\n",
    "\n",
    "    lemmatized_output = ' '.join([lemmatizer.lemmatize(w, get_wordnet_pos(w)) for w in nltk.word_tokenize(text)])     \n",
    "    return lemmatized_output    \n",
    "\n",
    "\n",
    "\n",
    "# проверим. создадим датафрейм из двух строк:\n",
    "print('было')\n",
    "sentence1 = \"The striped bats are hanging on their feet for best\"\n",
    "sentence2 = \"you should be ashamed of yourself went worked\"\n",
    "df_my = pd.DataFrame([sentence1, sentence2])\n",
    "\n",
    "print(df_my)\n",
    "\n",
    "\n",
    "print('стало после лемматизации')\n",
    "# и попробуем нашу функцию c помощью apply\n",
    "print(df_my[0].apply(lemm_))\n",
    "\n",
    "# вуаля!"
   ]
  },
  {
   "cell_type": "code",
   "execution_count": 19,
   "metadata": {},
   "outputs": [
    {
     "name": "stderr",
     "output_type": "stream",
     "text": [
      "100%|██████████| 159292/159292 [48:24<00:00, 54.84it/s]  \n"
     ]
    }
   ],
   "source": [
    "tqdm.pandas() \n",
    "df['token_text'] = df['text'].progress_apply(lemma_clear)"
   ]
  },
  {
   "cell_type": "code",
   "execution_count": 22,
   "metadata": {},
   "outputs": [
    {
     "name": "stderr",
     "output_type": "stream",
     "text": [
      "100%|██████████| 159292/159292 [01:34<00:00, 1679.83it/s]\n"
     ]
    }
   ],
   "source": [
    "tqdm.pandas() \n",
    "df['token_text'] = df['token_text'].progress_apply(text_pre)"
   ]
  },
  {
   "cell_type": "markdown",
   "metadata": {},
   "source": [
    "Рассмотрим доработанный датасет."
   ]
  },
  {
   "cell_type": "code",
   "execution_count": 23,
   "metadata": {},
   "outputs": [
    {
     "data": {
      "text/html": [
       "<div>\n",
       "<style scoped>\n",
       "    .dataframe tbody tr th:only-of-type {\n",
       "        vertical-align: middle;\n",
       "    }\n",
       "\n",
       "    .dataframe tbody tr th {\n",
       "        vertical-align: top;\n",
       "    }\n",
       "\n",
       "    .dataframe thead th {\n",
       "        text-align: right;\n",
       "    }\n",
       "</style>\n",
       "<table border=\"1\" class=\"dataframe\">\n",
       "  <thead>\n",
       "    <tr style=\"text-align: right;\">\n",
       "      <th></th>\n",
       "      <th>Unnamed: 0</th>\n",
       "      <th>text</th>\n",
       "      <th>toxic</th>\n",
       "      <th>token_text</th>\n",
       "    </tr>\n",
       "  </thead>\n",
       "  <tbody>\n",
       "    <tr>\n",
       "      <th>0</th>\n",
       "      <td>0</td>\n",
       "      <td>explanation\\nwhy the edits made under my usern...</td>\n",
       "      <td>0</td>\n",
       "      <td>explanation why the edit make under my usernam...</td>\n",
       "    </tr>\n",
       "    <tr>\n",
       "      <th>1</th>\n",
       "      <td>1</td>\n",
       "      <td>d'aww! he matches this background colour i'm s...</td>\n",
       "      <td>0</td>\n",
       "      <td>d'aww ! he match this background colour be see...</td>\n",
       "    </tr>\n",
       "    <tr>\n",
       "      <th>2</th>\n",
       "      <td>2</td>\n",
       "      <td>hey man, i'm really not trying to edit war. it...</td>\n",
       "      <td>0</td>\n",
       "      <td>hey man , be really not try to edit war . it b...</td>\n",
       "    </tr>\n",
       "    <tr>\n",
       "      <th>3</th>\n",
       "      <td>3</td>\n",
       "      <td>\"\\nmore\\ni can't make any real suggestions on ...</td>\n",
       "      <td>0</td>\n",
       "      <td>more can not make any real suggestion on impro...</td>\n",
       "    </tr>\n",
       "    <tr>\n",
       "      <th>4</th>\n",
       "      <td>4</td>\n",
       "      <td>you, sir, are my hero. any chance you remember...</td>\n",
       "      <td>0</td>\n",
       "      <td>you , sir , be my hero . any chance you rememb...</td>\n",
       "    </tr>\n",
       "  </tbody>\n",
       "</table>\n",
       "</div>"
      ],
      "text/plain": [
       "   Unnamed: 0                                               text  toxic  \\\n",
       "0           0  explanation\\nwhy the edits made under my usern...      0   \n",
       "1           1  d'aww! he matches this background colour i'm s...      0   \n",
       "2           2  hey man, i'm really not trying to edit war. it...      0   \n",
       "3           3  \"\\nmore\\ni can't make any real suggestions on ...      0   \n",
       "4           4  you, sir, are my hero. any chance you remember...      0   \n",
       "\n",
       "                                          token_text  \n",
       "0  explanation why the edit make under my usernam...  \n",
       "1  d'aww ! he match this background colour be see...  \n",
       "2  hey man , be really not try to edit war . it b...  \n",
       "3  more can not make any real suggestion on impro...  \n",
       "4  you , sir , be my hero . any chance you rememb...  "
      ]
     },
     "execution_count": 23,
     "metadata": {},
     "output_type": "execute_result"
    }
   ],
   "source": [
    "df.head()"
   ]
  },
  {
   "cell_type": "markdown",
   "metadata": {},
   "source": [
    "В качестве фич укажем леммы, в качестве таргетов изначальную разметку."
   ]
  },
  {
   "cell_type": "code",
   "execution_count": 24,
   "metadata": {},
   "outputs": [],
   "source": [
    "features = df['token_text']\n",
    "target = df['toxic']"
   ]
  },
  {
   "cell_type": "markdown",
   "metadata": {},
   "source": [
    "Разделим датасет на обучающую и тестовую выборку."
   ]
  },
  {
   "cell_type": "code",
   "execution_count": 25,
   "metadata": {},
   "outputs": [],
   "source": [
    "features_train, features_test, target_train, target_test = train_test_split(\n",
    "    features, target, test_size=0.25, random_state=89)"
   ]
  },
  {
   "cell_type": "markdown",
   "metadata": {},
   "source": [
    "Загрузим токсичные слова на английском."
   ]
  },
  {
   "cell_type": "code",
   "execution_count": 26,
   "metadata": {},
   "outputs": [],
   "source": [
    "stopwords = nltk.corpus.stopwords.words('english')"
   ]
  },
  {
   "cell_type": "code",
   "execution_count": 27,
   "metadata": {},
   "outputs": [],
   "source": [
    "count_tf = TfidfVectorizer(stop_words=stopwords)\n",
    "tf_idf_new = count_tf.fit_transform(features_train)"
   ]
  },
  {
   "cell_type": "markdown",
   "metadata": {},
   "source": [
    "**Ансамбль Логистической регрессии, Случайного леса и SGD моделей**"
   ]
  },
  {
   "cell_type": "code",
   "execution_count": 28,
   "metadata": {},
   "outputs": [
    {
     "name": "stdout",
     "output_type": "stream",
     "text": [
      "CPU times: user 11min 32s, sys: 10.3 s, total: 11min 42s\n",
      "Wall time: 11min 43s\n"
     ]
    }
   ],
   "source": [
    "%%time\n",
    "X_train = tf_idf_new\n",
    "y_train = target_train\n",
    "\n",
    "X_test = count_tf.transform(features_test)\n",
    "\n",
    "\n",
    "log_clf = LogisticRegression(solver=\"liblinear\", random_state=89,\n",
    "                            class_weight='balanced')\n",
    "rnd_clf = RandomForestClassifier(n_estimators=100, random_state=89, \n",
    "                            class_weight='balanced')\n",
    "sgb_clf = SGDClassifier(max_iter = 1000, random_state=89, \n",
    "                        loss='modified_huber')\n",
    "\n",
    "voting_clf = VotingClassifier(\n",
    "    estimators=[('lr', log_clf), ('rf', rnd_clf), ('sgb', sgb_clf)],\n",
    "    voting='soft')\n",
    "\n",
    "voting_clf.fit(X_train, y_train)\n",
    "predict_new = voting_clf.predict(X_test)"
   ]
  },
  {
   "cell_type": "code",
   "execution_count": 30,
   "metadata": {},
   "outputs": [
    {
     "name": "stdout",
     "output_type": "stream",
     "text": [
      "F1_score на тестовой выборке без DownSampling 0.77763730861076\n"
     ]
    }
   ],
   "source": [
    "f_score = f1_score(predict_new, target_test)\n",
    "print(f'F1_score на тестовой выборке без DownSampling {f_score}')"
   ]
  },
  {
   "cell_type": "markdown",
   "metadata": {},
   "source": [
    "В рамках обучения и проверке на тесте ансамбль показал значение F1 выше порогового, что удовлетворяет условиям изначальной задачи. Применение дополнительных техник не потребовалось."
   ]
  },
  {
   "cell_type": "markdown",
   "metadata": {},
   "source": [
    "**Линейная регрессия с GS**"
   ]
  },
  {
   "cell_type": "code",
   "execution_count": 31,
   "metadata": {},
   "outputs": [
    {
     "name": "stderr",
     "output_type": "stream",
     "text": [
      "/opt/conda/lib/python3.9/site-packages/sklearn/linear_model/_logistic.py:763: ConvergenceWarning: lbfgs failed to converge (status=1):\n",
      "STOP: TOTAL NO. of ITERATIONS REACHED LIMIT.\n",
      "\n",
      "Increase the number of iterations (max_iter) or scale the data as shown in:\n",
      "    https://scikit-learn.org/stable/modules/preprocessing.html\n",
      "Please also refer to the documentation for alternative solver options:\n",
      "    https://scikit-learn.org/stable/modules/linear_model.html#logistic-regression\n",
      "  n_iter_i = _check_optimize_result(\n",
      "/opt/conda/lib/python3.9/site-packages/sklearn/linear_model/_logistic.py:763: ConvergenceWarning: lbfgs failed to converge (status=1):\n",
      "STOP: TOTAL NO. of ITERATIONS REACHED LIMIT.\n",
      "\n",
      "Increase the number of iterations (max_iter) or scale the data as shown in:\n",
      "    https://scikit-learn.org/stable/modules/preprocessing.html\n",
      "Please also refer to the documentation for alternative solver options:\n",
      "    https://scikit-learn.org/stable/modules/linear_model.html#logistic-regression\n",
      "  n_iter_i = _check_optimize_result(\n",
      "/opt/conda/lib/python3.9/site-packages/sklearn/linear_model/_sag.py:328: ConvergenceWarning: The max_iter was reached which means the coef_ did not converge\n",
      "  warnings.warn(\"The max_iter was reached which means \"\n",
      "/opt/conda/lib/python3.9/site-packages/sklearn/linear_model/_sag.py:328: ConvergenceWarning: The max_iter was reached which means the coef_ did not converge\n",
      "  warnings.warn(\"The max_iter was reached which means \"\n",
      "/opt/conda/lib/python3.9/site-packages/sklearn/linear_model/_sag.py:328: ConvergenceWarning: The max_iter was reached which means the coef_ did not converge\n",
      "  warnings.warn(\"The max_iter was reached which means \"\n"
     ]
    },
    {
     "name": "stdout",
     "output_type": "stream",
     "text": [
      "CPU times: user 2min, sys: 2min 56s, total: 4min 57s\n",
      "Wall time: 4min 57s\n"
     ]
    },
    {
     "name": "stderr",
     "output_type": "stream",
     "text": [
      "/opt/conda/lib/python3.9/site-packages/sklearn/linear_model/_logistic.py:763: ConvergenceWarning: lbfgs failed to converge (status=1):\n",
      "STOP: TOTAL NO. of ITERATIONS REACHED LIMIT.\n",
      "\n",
      "Increase the number of iterations (max_iter) or scale the data as shown in:\n",
      "    https://scikit-learn.org/stable/modules/preprocessing.html\n",
      "Please also refer to the documentation for alternative solver options:\n",
      "    https://scikit-learn.org/stable/modules/linear_model.html#logistic-regression\n",
      "  n_iter_i = _check_optimize_result(\n"
     ]
    },
    {
     "data": {
      "text/plain": [
       "GridSearchCV(cv=3,\n",
       "             estimator=LogisticRegression(class_weight='balanced',\n",
       "                                          random_state=12345,\n",
       "                                          solver='liblinear'),\n",
       "             param_grid={'solver': ['newton-cg', 'lbfgs', 'liblinear', 'sag',\n",
       "                                    'saga']},\n",
       "             scoring='f1')"
      ]
     },
     "execution_count": 31,
     "metadata": {},
     "output_type": "execute_result"
    }
   ],
   "source": [
    "%%time\n",
    "model = LogisticRegression(random_state=12345, solver='liblinear',class_weight='balanced')\n",
    "parameters = {'solver': ['newton-cg', 'lbfgs', 'liblinear', 'sag', 'saga']}\n",
    "\n",
    "grid_clf = GridSearchCV(model, parameters, cv=3, scoring='f1')\n",
    "grid_clf.fit(X_train, y_train)"
   ]
  },
  {
   "cell_type": "code",
   "execution_count": 32,
   "metadata": {},
   "outputs": [
    {
     "name": "stdout",
     "output_type": "stream",
     "text": [
      "LogisticRegression(class_weight='balanced', random_state=12345)\n",
      "{'solver': 'lbfgs'}\n",
      "0.750709011652308\n"
     ]
    }
   ],
   "source": [
    "print(grid_clf.best_estimator_)\n",
    "print(grid_clf.best_params_)\n",
    "print(grid_clf.best_score_)"
   ]
  },
  {
   "cell_type": "markdown",
   "metadata": {},
   "source": [
    "**Ансамбль Логистической регрессии, Случайного леса и SGD моделей c DownSampling**"
   ]
  },
  {
   "cell_type": "markdown",
   "metadata": {},
   "source": [
    "Попробуем применить технику DownSampling для борьбы с дисбалансом классов."
   ]
  },
  {
   "cell_type": "code",
   "execution_count": 33,
   "metadata": {},
   "outputs": [],
   "source": [
    "def downsample(features, target, fraction):\n",
    "    features_zeros = features[target == 0]\n",
    "    features_ones = features[target == 1]\n",
    "    target_zeros = target[target == 0]\n",
    "    target_ones = target[target == 1]\n",
    "\n",
    "    features_sample = features_zeros.sample(frac=0.1, random_state=89)\n",
    "    target_sample = target_zeros.sample(frac=0.1, random_state=89)\n",
    "    \n",
    "    features_downsampled = pd.concat([features_sample] + [features_ones])\n",
    "    target_downsampled = pd.concat([target_sample] + [target_ones])\n",
    "    \n",
    "    features_downsampled = shuffle(features_downsampled, random_state=89)\n",
    "    target_downsampled = shuffle(target_downsampled, random_state=89)\n",
    "    \n",
    "    return features_downsampled, target_downsampled"
   ]
  },
  {
   "cell_type": "code",
   "execution_count": 34,
   "metadata": {},
   "outputs": [
    {
     "name": "stdout",
     "output_type": "stream",
     "text": [
      "(22955,)\n",
      "(22955,)\n"
     ]
    }
   ],
   "source": [
    "features_downsampled, target_downsampled = downsample(features_train, target_train, 0.1)\n",
    "\n",
    "print(features_downsampled.shape)\n",
    "print(target_downsampled.shape)"
   ]
  },
  {
   "cell_type": "code",
   "execution_count": 35,
   "metadata": {},
   "outputs": [
    {
     "data": {
      "text/html": [
       "<div>\n",
       "<style scoped>\n",
       "    .dataframe tbody tr th:only-of-type {\n",
       "        vertical-align: middle;\n",
       "    }\n",
       "\n",
       "    .dataframe tbody tr th {\n",
       "        vertical-align: top;\n",
       "    }\n",
       "\n",
       "    .dataframe thead th {\n",
       "        text-align: right;\n",
       "    }\n",
       "</style>\n",
       "<table border=\"1\" class=\"dataframe\">\n",
       "  <thead>\n",
       "    <tr style=\"text-align: right;\">\n",
       "      <th></th>\n",
       "      <th>index</th>\n",
       "      <th>toxic</th>\n",
       "    </tr>\n",
       "  </thead>\n",
       "  <tbody>\n",
       "    <tr>\n",
       "      <th>0</th>\n",
       "      <td>1</td>\n",
       "      <td>12231</td>\n",
       "    </tr>\n",
       "    <tr>\n",
       "      <th>1</th>\n",
       "      <td>0</td>\n",
       "      <td>10724</td>\n",
       "    </tr>\n",
       "  </tbody>\n",
       "</table>\n",
       "</div>"
      ],
      "text/plain": [
       "   index  toxic\n",
       "0      1  12231\n",
       "1      0  10724"
      ]
     },
     "execution_count": 35,
     "metadata": {},
     "output_type": "execute_result"
    }
   ],
   "source": [
    "target_downsampled.value_counts().reset_index()"
   ]
  },
  {
   "cell_type": "markdown",
   "metadata": {},
   "source": [
    "В результате применения техники получили выборку меньшего размера без дисбаланса. Обучим модель."
   ]
  },
  {
   "cell_type": "code",
   "execution_count": 36,
   "metadata": {},
   "outputs": [
    {
     "name": "stdout",
     "output_type": "stream",
     "text": [
      "Размер матрицы обучения: (22955, 45674)\n"
     ]
    }
   ],
   "source": [
    "count_tf_idf = TfidfVectorizer(stop_words=stopwords)\n",
    "tf_idf = count_tf_idf.fit_transform(features_downsampled)\n",
    "\n",
    "print(f\"Размер матрицы обучения: {tf_idf.shape}\")"
   ]
  },
  {
   "cell_type": "code",
   "execution_count": 37,
   "metadata": {},
   "outputs": [],
   "source": [
    "X_train_ans = tf_idf\n",
    "y_train_ans = target_downsampled"
   ]
  },
  {
   "cell_type": "code",
   "execution_count": 39,
   "metadata": {},
   "outputs": [
    {
     "name": "stdout",
     "output_type": "stream",
     "text": [
      "CPU times: user 8.13 s, sys: 5.88 s, total: 14 s\n",
      "Wall time: 14 s\n"
     ]
    }
   ],
   "source": [
    "%%time\n",
    "log_clf = LogisticRegression(solver=\"liblinear\", random_state=89)\n",
    "rnd_clf = RandomForestClassifier(n_estimators=10, random_state=89)\n",
    "sgb_clf = SGDClassifier(max_iter = 1000, random_state=89, loss='modified_huber')\n",
    "\n",
    "voting_clf = VotingClassifier(\n",
    "    estimators=[('lr', log_clf), ('rf', rnd_clf), ('sgb', sgb_clf)],\n",
    "    voting='soft')\n",
    "\n",
    "X_test_ans = count_tf_idf.transform(features_test)\n",
    "\n",
    "voting_clf.fit(X_train_ans, y_train_ans)\n",
    "predict = voting_clf.predict(X_test_ans)"
   ]
  },
  {
   "cell_type": "code",
   "execution_count": 40,
   "metadata": {
    "scrolled": true
   },
   "outputs": [
    {
     "name": "stdout",
     "output_type": "stream",
     "text": [
      "F1_score на тестовой выборке c DownSampling 0.655136367955906\n"
     ]
    }
   ],
   "source": [
    "f_score_down = f1_score(predict, target_test)\n",
    "print(f'F1_score на тестовой выборке c DownSampling {f_score_down}')"
   ]
  },
  {
   "cell_type": "markdown",
   "metadata": {},
   "source": [
    "Модель продемонстрировала на порядок лучшую скорость обучения, но в результате F1_score оказался значительно ниже порогового значения."
   ]
  },
  {
   "cell_type": "markdown",
   "metadata": {},
   "source": [
    "**Проверка модели на адекватность**"
   ]
  },
  {
   "cell_type": "markdown",
   "metadata": {},
   "source": [
    "Применим Dummy модель, которая прогнозирует всем комментария токсичное значение."
   ]
  },
  {
   "cell_type": "code",
   "execution_count": 41,
   "metadata": {},
   "outputs": [],
   "source": [
    "dummy = DummyClassifier(random_state=89, strategy='constant', constant=1)"
   ]
  },
  {
   "cell_type": "code",
   "execution_count": 42,
   "metadata": {},
   "outputs": [],
   "source": [
    "dummy.fit(features_train, target_train)\n",
    "dummy_pred = dummy.predict(features_test)"
   ]
  },
  {
   "cell_type": "code",
   "execution_count": 43,
   "metadata": {},
   "outputs": [
    {
     "name": "stdout",
     "output_type": "stream",
     "text": [
      "F1_score константной модели 0.18068436200831467\n"
     ]
    }
   ],
   "source": [
    "f1_dummy = f1_score(target_test, dummy_pred)\n",
    "\n",
    "print(f\"F1_score константной модели {f1_dummy}\")"
   ]
  },
  {
   "cell_type": "markdown",
   "metadata": {},
   "source": [
    "Константная Dummy модель показала низкое значение F1, что в целом соотвествует изначальному балансу классов."
   ]
  },
  {
   "cell_type": "markdown",
   "metadata": {},
   "source": [
    "## Выводы"
   ]
  },
  {
   "cell_type": "code",
   "execution_count": 44,
   "metadata": {},
   "outputs": [
    {
     "name": "stdout",
     "output_type": "stream",
     "text": [
      "F1_score константной модели 0.18068436200831467\n",
      "F1_score на тестовой выборке без DownSampling 0.77763730861076\n"
     ]
    }
   ],
   "source": [
    "print(f\"F1_score константной модели {f1_dummy}\")\n",
    "print(f'F1_score на тестовой выборке без DownSampling {f_score}')\n"
   ]
  },
  {
   "cell_type": "markdown",
   "metadata": {},
   "source": [
    "Пороговое значение удалось покорить на ансамбле моделей Логистической регрессии, случайного леса и SGD без применения дополнительных техник.\n",
    "Техника DownSampling помогла значительно снизить скорость обучения, но это отразилось на качестве предсказаний.\n",
    "\n",
    "**Рекомендация заказчику:** применение ансамбля моделей Логистической регрессии, случайного леса и SGD."
   ]
  }
 ],
 "metadata": {
  "ExecuteTimeLog": [
   {
    "duration": 1965,
    "start_time": "2023-03-25T06:06:12.630Z"
   },
   {
    "duration": 3265,
    "start_time": "2023-03-25T06:06:25.317Z"
   },
   {
    "duration": 2383,
    "start_time": "2023-03-25T06:06:43.855Z"
   },
   {
    "duration": 3309,
    "start_time": "2023-03-25T06:06:57.122Z"
   },
   {
    "duration": 2618,
    "start_time": "2023-03-25T06:07:05.251Z"
   },
   {
    "duration": 1365,
    "start_time": "2023-03-25T06:07:16.268Z"
   },
   {
    "duration": 120,
    "start_time": "2023-03-25T06:09:19.602Z"
   },
   {
    "duration": 1406,
    "start_time": "2023-03-25T06:09:31.404Z"
   },
   {
    "duration": 6,
    "start_time": "2023-03-25T06:09:51.839Z"
   },
   {
    "duration": 11,
    "start_time": "2023-03-25T06:10:03.327Z"
   },
   {
    "duration": 246,
    "start_time": "2023-03-25T06:10:42.347Z"
   },
   {
    "duration": 90,
    "start_time": "2023-03-25T06:10:59.208Z"
   },
   {
    "duration": 38,
    "start_time": "2023-03-25T06:11:25.666Z"
   },
   {
    "duration": 295,
    "start_time": "2023-03-25T06:12:45.792Z"
   },
   {
    "duration": 2157,
    "start_time": "2023-03-25T06:13:38.131Z"
   },
   {
    "duration": 4,
    "start_time": "2023-03-25T06:13:47.292Z"
   },
   {
    "duration": 10049,
    "start_time": "2023-03-25T06:13:55.077Z"
   },
   {
    "duration": 3,
    "start_time": "2023-03-25T06:14:28.414Z"
   },
   {
    "duration": 109023,
    "start_time": "2023-03-25T06:14:31.679Z"
   },
   {
    "duration": 52,
    "start_time": "2023-03-25T06:16:46.277Z"
   },
   {
    "duration": 3027,
    "start_time": "2023-03-25T06:16:52.635Z"
   },
   {
    "duration": 1260,
    "start_time": "2023-03-25T06:16:55.664Z"
   },
   {
    "duration": 7,
    "start_time": "2023-03-25T06:16:56.926Z"
   },
   {
    "duration": 18,
    "start_time": "2023-03-25T06:16:56.935Z"
   },
   {
    "duration": 235,
    "start_time": "2023-03-25T06:16:56.956Z"
   },
   {
    "duration": 97,
    "start_time": "2023-03-25T06:16:57.192Z"
   },
   {
    "duration": 32,
    "start_time": "2023-03-25T06:16:57.290Z"
   },
   {
    "duration": 363,
    "start_time": "2023-03-25T06:16:57.324Z"
   },
   {
    "duration": 2164,
    "start_time": "2023-03-25T06:16:57.690Z"
   },
   {
    "duration": 8,
    "start_time": "2023-03-25T06:16:59.856Z"
   },
   {
    "duration": 108202,
    "start_time": "2023-03-25T06:16:59.866Z"
   },
   {
    "duration": 57,
    "start_time": "2023-03-25T06:21:24.346Z"
   },
   {
    "duration": 3137,
    "start_time": "2023-03-25T06:21:31.505Z"
   },
   {
    "duration": 1300,
    "start_time": "2023-03-25T06:21:34.644Z"
   },
   {
    "duration": 7,
    "start_time": "2023-03-25T06:21:35.945Z"
   },
   {
    "duration": 25,
    "start_time": "2023-03-25T06:21:35.953Z"
   },
   {
    "duration": 247,
    "start_time": "2023-03-25T06:21:35.980Z"
   },
   {
    "duration": 96,
    "start_time": "2023-03-25T06:21:36.229Z"
   },
   {
    "duration": 38,
    "start_time": "2023-03-25T06:21:36.326Z"
   },
   {
    "duration": 341,
    "start_time": "2023-03-25T06:21:36.366Z"
   },
   {
    "duration": 2248,
    "start_time": "2023-03-25T06:21:36.709Z"
   },
   {
    "duration": 7,
    "start_time": "2023-03-25T06:21:38.958Z"
   },
   {
    "duration": 106162,
    "start_time": "2023-03-25T06:21:38.967Z"
   },
   {
    "duration": 10,
    "start_time": "2023-03-25T06:23:25.131Z"
   },
   {
    "duration": 3,
    "start_time": "2023-03-25T06:28:16.483Z"
   },
   {
    "duration": 31,
    "start_time": "2023-03-25T06:28:27.132Z"
   },
   {
    "duration": 3375,
    "start_time": "2023-03-25T07:51:08.102Z"
   },
   {
    "duration": 1311,
    "start_time": "2023-03-25T07:51:11.479Z"
   },
   {
    "duration": 9,
    "start_time": "2023-03-25T07:51:12.791Z"
   },
   {
    "duration": 16,
    "start_time": "2023-03-25T07:51:12.803Z"
   },
   {
    "duration": 272,
    "start_time": "2023-03-25T07:51:12.822Z"
   },
   {
    "duration": 94,
    "start_time": "2023-03-25T07:51:13.097Z"
   },
   {
    "duration": 38,
    "start_time": "2023-03-25T07:51:13.193Z"
   },
   {
    "duration": 373,
    "start_time": "2023-03-25T07:51:13.232Z"
   },
   {
    "duration": 2223,
    "start_time": "2023-03-25T07:51:13.607Z"
   },
   {
    "duration": 7,
    "start_time": "2023-03-25T07:51:15.834Z"
   },
   {
    "duration": 111065,
    "start_time": "2023-03-25T07:51:15.844Z"
   },
   {
    "duration": 14,
    "start_time": "2023-03-25T07:53:06.912Z"
   },
   {
    "duration": 8,
    "start_time": "2023-03-25T07:53:06.929Z"
   },
   {
    "duration": 65,
    "start_time": "2023-03-25T07:53:06.939Z"
   },
   {
    "duration": 196,
    "start_time": "2023-03-25T07:55:15.747Z"
   },
   {
    "duration": 19,
    "start_time": "2023-03-25T07:56:08.649Z"
   },
   {
    "duration": 16,
    "start_time": "2023-03-25T07:56:44.738Z"
   },
   {
    "duration": 183225,
    "start_time": "2023-03-25T07:57:21.636Z"
   },
   {
    "duration": 23,
    "start_time": "2023-03-25T08:00:43.531Z"
   },
   {
    "duration": 23,
    "start_time": "2023-03-25T08:00:49.079Z"
   },
   {
    "duration": 5,
    "start_time": "2023-03-25T08:01:26.664Z"
   },
   {
    "duration": 8543,
    "start_time": "2023-03-25T08:01:29.235Z"
   },
   {
    "duration": 6376,
    "start_time": "2023-03-25T08:02:01.803Z"
   },
   {
    "duration": 842806,
    "start_time": "2023-03-25T08:02:19.034Z"
   },
   {
    "duration": 27,
    "start_time": "2023-03-25T09:59:11.883Z"
   },
   {
    "duration": 39,
    "start_time": "2023-03-25T10:00:11.605Z"
   },
   {
    "duration": 34,
    "start_time": "2023-03-25T10:03:33.309Z"
   },
   {
    "duration": 3519,
    "start_time": "2023-03-25T10:06:14.186Z"
   },
   {
    "duration": 1606,
    "start_time": "2023-03-25T10:06:17.708Z"
   },
   {
    "duration": 6,
    "start_time": "2023-03-25T10:06:19.319Z"
   },
   {
    "duration": 18,
    "start_time": "2023-03-25T10:06:19.327Z"
   },
   {
    "duration": 279,
    "start_time": "2023-03-25T10:06:19.347Z"
   },
   {
    "duration": 124,
    "start_time": "2023-03-25T10:06:19.629Z"
   },
   {
    "duration": 49,
    "start_time": "2023-03-25T10:06:19.755Z"
   },
   {
    "duration": 358,
    "start_time": "2023-03-25T10:06:19.809Z"
   },
   {
    "duration": 2389,
    "start_time": "2023-03-25T10:06:20.169Z"
   },
   {
    "duration": 4,
    "start_time": "2023-03-25T10:06:22.560Z"
   },
   {
    "duration": 126617,
    "start_time": "2023-03-25T10:06:22.566Z"
   },
   {
    "duration": 28,
    "start_time": "2023-03-25T10:08:29.188Z"
   },
   {
    "duration": 8,
    "start_time": "2023-03-25T10:08:29.220Z"
   },
   {
    "duration": 64,
    "start_time": "2023-03-25T10:08:29.230Z"
   },
   {
    "duration": 11,
    "start_time": "2023-03-25T10:08:29.301Z"
   },
   {
    "duration": 7686,
    "start_time": "2023-03-25T10:08:29.314Z"
   },
   {
    "duration": 950841,
    "start_time": "2023-03-25T10:08:37.005Z"
   },
   {
    "duration": 16,
    "start_time": "2023-03-25T10:24:27.848Z"
   },
   {
    "duration": 49,
    "start_time": "2023-03-25T10:24:27.866Z"
   },
   {
    "duration": 27,
    "start_time": "2023-03-25T10:53:22.815Z"
   },
   {
    "duration": 6638,
    "start_time": "2023-03-25T10:53:31.916Z"
   },
   {
    "duration": 1827,
    "start_time": "2023-03-25T10:53:46.613Z"
   },
   {
    "duration": 2339,
    "start_time": "2023-03-25T10:53:57.059Z"
   },
   {
    "duration": 5,
    "start_time": "2023-03-25T10:54:18.932Z"
   },
   {
    "duration": 5,
    "start_time": "2023-03-25T10:54:36.608Z"
   },
   {
    "duration": 71,
    "start_time": "2023-03-25T10:56:57.551Z"
   },
   {
    "duration": 3500,
    "start_time": "2023-03-25T10:57:07.419Z"
   },
   {
    "duration": 1745,
    "start_time": "2023-03-25T10:57:10.922Z"
   },
   {
    "duration": 7,
    "start_time": "2023-03-25T10:57:12.669Z"
   },
   {
    "duration": 22,
    "start_time": "2023-03-25T10:57:12.677Z"
   },
   {
    "duration": 354,
    "start_time": "2023-03-25T10:57:12.701Z"
   },
   {
    "duration": 103,
    "start_time": "2023-03-25T10:57:13.058Z"
   },
   {
    "duration": 59,
    "start_time": "2023-03-25T10:57:13.163Z"
   },
   {
    "duration": 401,
    "start_time": "2023-03-25T10:57:13.227Z"
   },
   {
    "duration": 2484,
    "start_time": "2023-03-25T10:57:13.630Z"
   },
   {
    "duration": 5,
    "start_time": "2023-03-25T10:57:16.116Z"
   },
   {
    "duration": 130425,
    "start_time": "2023-03-25T10:57:16.123Z"
   },
   {
    "duration": 10,
    "start_time": "2023-03-25T10:59:26.550Z"
   },
   {
    "duration": 26,
    "start_time": "2023-03-25T10:59:26.562Z"
   },
   {
    "duration": 38,
    "start_time": "2023-03-25T10:59:26.591Z"
   },
   {
    "duration": 6,
    "start_time": "2023-03-25T10:59:26.632Z"
   },
   {
    "duration": 6756,
    "start_time": "2023-03-25T10:59:26.640Z"
   },
   {
    "duration": 963057,
    "start_time": "2023-03-25T10:59:33.400Z"
   },
   {
    "duration": 17,
    "start_time": "2023-03-25T11:15:36.459Z"
   },
   {
    "duration": 32,
    "start_time": "2023-03-25T11:15:36.487Z"
   },
   {
    "duration": 21,
    "start_time": "2023-03-25T11:15:36.521Z"
   },
   {
    "duration": 5192,
    "start_time": "2023-03-25T11:15:36.544Z"
   },
   {
    "duration": 1153,
    "start_time": "2023-03-25T11:15:41.737Z"
   },
   {
    "duration": 1944,
    "start_time": "2023-03-25T11:15:42.892Z"
   },
   {
    "duration": 197,
    "start_time": "2023-03-25T11:15:44.838Z"
   },
   {
    "duration": 3171,
    "start_time": "2023-03-25T11:16:45.457Z"
   },
   {
    "duration": 1504,
    "start_time": "2023-03-25T11:16:48.631Z"
   },
   {
    "duration": 7,
    "start_time": "2023-03-25T11:16:50.137Z"
   },
   {
    "duration": 25,
    "start_time": "2023-03-25T11:16:50.146Z"
   },
   {
    "duration": 293,
    "start_time": "2023-03-25T11:16:50.173Z"
   },
   {
    "duration": 108,
    "start_time": "2023-03-25T11:16:50.468Z"
   },
   {
    "duration": 43,
    "start_time": "2023-03-25T11:16:50.588Z"
   },
   {
    "duration": 417,
    "start_time": "2023-03-25T11:16:50.634Z"
   },
   {
    "duration": 2299,
    "start_time": "2023-03-25T11:16:51.053Z"
   },
   {
    "duration": 46,
    "start_time": "2023-03-25T11:16:53.355Z"
   },
   {
    "duration": 108941,
    "start_time": "2023-03-25T11:16:53.404Z"
   },
   {
    "duration": 10,
    "start_time": "2023-03-25T11:18:42.347Z"
   },
   {
    "duration": 11,
    "start_time": "2023-03-25T11:18:42.359Z"
   },
   {
    "duration": 69,
    "start_time": "2023-03-25T11:18:42.375Z"
   },
   {
    "duration": 4,
    "start_time": "2023-03-25T11:18:42.446Z"
   },
   {
    "duration": 6641,
    "start_time": "2023-03-25T11:18:42.452Z"
   },
   {
    "duration": 899135,
    "start_time": "2023-03-25T11:18:49.095Z"
   },
   {
    "duration": 16,
    "start_time": "2023-03-25T11:33:48.233Z"
   },
   {
    "duration": 2504,
    "start_time": "2023-03-25T12:33:13.942Z"
   },
   {
    "duration": 1084,
    "start_time": "2023-03-25T12:33:16.449Z"
   },
   {
    "duration": 7,
    "start_time": "2023-03-25T12:33:17.535Z"
   },
   {
    "duration": 14,
    "start_time": "2023-03-25T12:33:17.544Z"
   },
   {
    "duration": 275,
    "start_time": "2023-03-25T12:33:17.560Z"
   },
   {
    "duration": 97,
    "start_time": "2023-03-25T12:33:17.837Z"
   },
   {
    "duration": 36,
    "start_time": "2023-03-25T12:33:17.936Z"
   },
   {
    "duration": 351,
    "start_time": "2023-03-25T12:33:17.989Z"
   },
   {
    "duration": 2420,
    "start_time": "2023-03-25T12:33:18.342Z"
   },
   {
    "duration": 34,
    "start_time": "2023-03-25T12:33:20.766Z"
   },
   {
    "duration": 114019,
    "start_time": "2023-03-25T12:33:20.803Z"
   },
   {
    "duration": 9,
    "start_time": "2023-03-25T12:35:14.824Z"
   },
   {
    "duration": 6,
    "start_time": "2023-03-25T12:35:14.835Z"
   },
   {
    "duration": 92,
    "start_time": "2023-03-25T12:35:14.843Z"
   },
   {
    "duration": 5,
    "start_time": "2023-03-25T12:35:14.937Z"
   },
   {
    "duration": 6460,
    "start_time": "2023-03-25T12:35:14.944Z"
   },
   {
    "duration": 980490,
    "start_time": "2023-03-25T12:35:21.406Z"
   },
   {
    "duration": 21,
    "start_time": "2023-03-25T12:51:41.899Z"
   },
   {
    "duration": 5,
    "start_time": "2023-03-25T16:56:49.277Z"
   },
   {
    "duration": 45,
    "start_time": "2023-03-25T16:56:55.517Z"
   },
   {
    "duration": 9,
    "start_time": "2023-03-25T16:57:09.182Z"
   },
   {
    "duration": 10,
    "start_time": "2023-03-25T16:57:17.434Z"
   },
   {
    "duration": 14,
    "start_time": "2023-03-25T16:57:32.685Z"
   },
   {
    "duration": 1246,
    "start_time": "2023-03-25T16:57:40.000Z"
   },
   {
    "duration": 3,
    "start_time": "2023-03-25T16:57:55.867Z"
   },
   {
    "duration": 11385,
    "start_time": "2023-03-25T16:58:17.676Z"
   },
   {
    "duration": 3,
    "start_time": "2023-03-25T17:21:10.242Z"
   },
   {
    "duration": 10,
    "start_time": "2023-03-25T17:21:21.720Z"
   },
   {
    "duration": 21,
    "start_time": "2023-03-25T17:21:35.352Z"
   },
   {
    "duration": 38,
    "start_time": "2023-03-25T17:22:13.884Z"
   },
   {
    "duration": 2739,
    "start_time": "2023-03-25T17:22:35.460Z"
   },
   {
    "duration": 1246,
    "start_time": "2023-03-25T17:22:38.207Z"
   },
   {
    "duration": 9,
    "start_time": "2023-03-25T17:22:39.455Z"
   },
   {
    "duration": 41,
    "start_time": "2023-03-25T17:22:39.466Z"
   },
   {
    "duration": 331,
    "start_time": "2023-03-25T17:22:39.512Z"
   },
   {
    "duration": 126,
    "start_time": "2023-03-25T17:22:39.845Z"
   },
   {
    "duration": 44,
    "start_time": "2023-03-25T17:22:39.974Z"
   },
   {
    "duration": 458,
    "start_time": "2023-03-25T17:22:40.020Z"
   },
   {
    "duration": 7,
    "start_time": "2023-03-25T17:22:40.483Z"
   },
   {
    "duration": 134058,
    "start_time": "2023-03-25T17:22:40.502Z"
   },
   {
    "duration": 11,
    "start_time": "2023-03-25T17:24:54.564Z"
   },
   {
    "duration": 41,
    "start_time": "2023-03-25T17:24:54.602Z"
   },
   {
    "duration": 90,
    "start_time": "2023-03-25T17:24:54.647Z"
   },
   {
    "duration": 6,
    "start_time": "2023-03-25T17:24:54.745Z"
   },
   {
    "duration": 7703,
    "start_time": "2023-03-25T17:24:54.753Z"
   },
   {
    "duration": 986923,
    "start_time": "2023-03-25T17:25:02.458Z"
   },
   {
    "duration": 25,
    "start_time": "2023-03-25T17:41:29.388Z"
   },
   {
    "duration": 21,
    "start_time": "2023-03-25T17:41:29.415Z"
   },
   {
    "duration": 70,
    "start_time": "2023-03-25T17:41:29.439Z"
   },
   {
    "duration": 25,
    "start_time": "2023-03-25T17:41:29.511Z"
   },
   {
    "duration": 1508,
    "start_time": "2023-03-25T17:41:29.540Z"
   },
   {
    "duration": 3,
    "start_time": "2023-03-25T17:41:31.051Z"
   },
   {
    "duration": 12899,
    "start_time": "2023-03-25T17:41:31.056Z"
   },
   {
    "duration": 21,
    "start_time": "2023-03-25T17:41:43.957Z"
   },
   {
    "duration": 27,
    "start_time": "2023-03-25T17:41:43.993Z"
   },
   {
    "duration": 22,
    "start_time": "2023-03-25T17:41:44.022Z"
   },
   {
    "duration": 20,
    "start_time": "2023-03-25T17:41:44.046Z"
   },
   {
    "duration": 13,
    "start_time": "2023-03-25T18:43:30.042Z"
   },
   {
    "duration": 16,
    "start_time": "2023-03-25T18:43:37.782Z"
   },
   {
    "duration": 182,
    "start_time": "2023-03-25T18:50:17.555Z"
   },
   {
    "duration": 6,
    "start_time": "2023-03-25T18:55:29.778Z"
   },
   {
    "duration": 4,
    "start_time": "2023-03-25T18:55:47.672Z"
   },
   {
    "duration": 2437,
    "start_time": "2023-03-27T16:15:03.340Z"
   },
   {
    "duration": 1843,
    "start_time": "2023-03-27T16:15:22.962Z"
   },
   {
    "duration": 2516,
    "start_time": "2023-03-27T16:38:27.991Z"
   },
   {
    "duration": 5,
    "start_time": "2023-03-27T16:38:31.857Z"
   },
   {
    "duration": 13,
    "start_time": "2023-03-27T16:38:33.919Z"
   },
   {
    "duration": 14,
    "start_time": "2023-03-27T16:38:35.859Z"
   },
   {
    "duration": 258,
    "start_time": "2023-03-27T16:38:40.691Z"
   },
   {
    "duration": 100,
    "start_time": "2023-03-27T16:38:43.690Z"
   },
   {
    "duration": 51,
    "start_time": "2023-03-27T16:38:46.101Z"
   },
   {
    "duration": 59,
    "start_time": "2023-03-27T16:40:25.993Z"
   },
   {
    "duration": 302,
    "start_time": "2023-03-27T16:40:37.355Z"
   },
   {
    "duration": 12,
    "start_time": "2023-03-27T16:47:11.335Z"
   },
   {
    "duration": 4,
    "start_time": "2023-03-27T16:47:12.896Z"
   },
   {
    "duration": 1199,
    "start_time": "2023-03-27T16:47:15.355Z"
   },
   {
    "duration": 3,
    "start_time": "2023-03-27T16:47:49.506Z"
   },
   {
    "duration": 258,
    "start_time": "2023-03-27T16:47:52.390Z"
   },
   {
    "duration": 4,
    "start_time": "2023-03-27T16:48:24.219Z"
   },
   {
    "duration": 652810,
    "start_time": "2023-03-27T16:48:26.508Z"
   },
   {
    "duration": 0,
    "start_time": "2023-03-27T16:59:19.321Z"
   },
   {
    "duration": 2824,
    "start_time": "2023-03-27T16:59:20.300Z"
   },
   {
    "duration": 11213,
    "start_time": "2023-03-27T16:59:24.203Z"
   },
   {
    "duration": 5,
    "start_time": "2023-03-27T16:59:35.419Z"
   },
   {
    "duration": 806,
    "start_time": "2023-03-27T16:59:38.338Z"
   },
   {
    "duration": 4,
    "start_time": "2023-03-27T16:59:39.919Z"
   },
   {
    "duration": 11,
    "start_time": "2023-03-27T16:59:40.807Z"
   },
   {
    "duration": 10,
    "start_time": "2023-03-27T16:59:41.302Z"
   },
   {
    "duration": 239,
    "start_time": "2023-03-27T16:59:43.022Z"
   },
   {
    "duration": 40,
    "start_time": "2023-03-27T16:59:44.638Z"
   },
   {
    "duration": 41,
    "start_time": "2023-03-27T16:59:45.631Z"
   },
   {
    "duration": 306,
    "start_time": "2023-03-27T16:59:47.637Z"
   },
   {
    "duration": 2165,
    "start_time": "2023-03-27T16:59:48.587Z"
   },
   {
    "duration": 4,
    "start_time": "2023-03-27T16:59:50.755Z"
   },
   {
    "duration": 623,
    "start_time": "2023-03-27T17:01:33.348Z"
   },
   {
    "duration": 725,
    "start_time": "2023-03-27T17:01:37.071Z"
   },
   {
    "duration": 272,
    "start_time": "2023-03-27T17:07:12.880Z"
   },
   {
    "duration": 4,
    "start_time": "2023-03-27T17:07:26.488Z"
   },
   {
    "duration": 4354,
    "start_time": "2023-03-27T17:07:28.222Z"
   },
   {
    "duration": 54,
    "start_time": "2023-03-27T17:09:11.786Z"
   },
   {
    "duration": 4,
    "start_time": "2023-03-27T17:09:21.840Z"
   },
   {
    "duration": 405,
    "start_time": "2023-03-27T17:09:25.791Z"
   },
   {
    "duration": 4,
    "start_time": "2023-03-27T17:12:23.383Z"
   },
   {
    "duration": 418,
    "start_time": "2023-03-27T17:12:25.528Z"
   },
   {
    "duration": 3,
    "start_time": "2023-03-27T17:12:48.383Z"
   },
   {
    "duration": 671,
    "start_time": "2023-03-27T17:12:50.644Z"
   },
   {
    "duration": 4,
    "start_time": "2023-03-27T17:14:32.414Z"
   },
   {
    "duration": 7170,
    "start_time": "2023-03-27T17:14:34.647Z"
   },
   {
    "duration": 131,
    "start_time": "2023-03-27T17:14:59.191Z"
   },
   {
    "duration": 31,
    "start_time": "2023-03-27T17:15:10.927Z"
   },
   {
    "duration": 5110,
    "start_time": "2023-03-27T17:15:27.284Z"
   },
   {
    "duration": 88,
    "start_time": "2023-03-27T17:15:33.781Z"
   },
   {
    "duration": 19873,
    "start_time": "2023-03-27T17:15:40.498Z"
   },
   {
    "duration": 4,
    "start_time": "2023-03-27T17:28:12.787Z"
   },
   {
    "duration": 20,
    "start_time": "2023-03-27T17:28:44.451Z"
   },
   {
    "duration": 114,
    "start_time": "2023-03-27T17:28:48.686Z"
   },
   {
    "duration": 23,
    "start_time": "2023-03-27T17:28:51.546Z"
   },
   {
    "duration": 1376,
    "start_time": "2023-03-27T17:28:54.484Z"
   },
   {
    "duration": 4,
    "start_time": "2023-03-27T17:29:11.185Z"
   },
   {
    "duration": 31985,
    "start_time": "2023-03-27T17:29:15.182Z"
   },
   {
    "duration": 4,
    "start_time": "2023-03-27T17:30:59.429Z"
   },
   {
    "duration": 402,
    "start_time": "2023-03-27T17:31:02.939Z"
   },
   {
    "duration": 3,
    "start_time": "2023-03-27T17:32:14.487Z"
   },
   {
    "duration": 96452,
    "start_time": "2023-03-27T17:32:20.611Z"
   },
   {
    "duration": 17,
    "start_time": "2023-03-27T17:35:26.482Z"
   },
   {
    "duration": 4,
    "start_time": "2023-03-27T17:36:00.035Z"
   },
   {
    "duration": 81,
    "start_time": "2023-03-27T17:36:03.145Z"
   },
   {
    "duration": 7,
    "start_time": "2023-03-27T17:36:06.050Z"
   },
   {
    "duration": 6239,
    "start_time": "2023-03-27T17:36:07.723Z"
   },
   {
    "duration": 843340,
    "start_time": "2023-03-27T17:36:16.998Z"
   },
   {
    "duration": 20,
    "start_time": "2023-03-27T17:50:20.341Z"
   },
   {
    "duration": 14,
    "start_time": "2023-03-27T17:59:18.510Z"
   },
   {
    "duration": 4,
    "start_time": "2023-03-27T17:59:19.992Z"
   },
   {
    "duration": 50620,
    "start_time": "2023-03-27T17:59:21.323Z"
   },
   {
    "duration": 5,
    "start_time": "2023-03-27T18:00:53.727Z"
   },
   {
    "duration": 41,
    "start_time": "2023-03-27T18:03:26.805Z"
   },
   {
    "duration": 5,
    "start_time": "2023-03-27T18:03:32.401Z"
   },
   {
    "duration": 4,
    "start_time": "2023-03-27T18:05:03.385Z"
   },
   {
    "duration": 47970,
    "start_time": "2023-03-27T18:05:03.888Z"
   },
   {
    "duration": 160,
    "start_time": "2023-03-27T18:06:33.706Z"
   },
   {
    "duration": 50365,
    "start_time": "2023-03-27T18:06:40.382Z"
   },
   {
    "duration": 213966,
    "start_time": "2023-03-27T18:12:29.291Z"
   },
   {
    "duration": 4,
    "start_time": "2023-03-27T18:19:15.943Z"
   },
   {
    "duration": 11735,
    "start_time": "2023-03-27T18:21:17.429Z"
   },
   {
    "duration": 0,
    "start_time": "2023-03-27T18:22:17.086Z"
   },
   {
    "duration": 27,
    "start_time": "2023-03-27T18:22:22.344Z"
   },
   {
    "duration": 21,
    "start_time": "2023-03-27T18:25:32.025Z"
   },
   {
    "duration": 2420,
    "start_time": "2023-03-27T18:54:11.688Z"
   },
   {
    "duration": 792,
    "start_time": "2023-03-27T18:54:14.110Z"
   },
   {
    "duration": 7,
    "start_time": "2023-03-27T18:54:14.903Z"
   },
   {
    "duration": 14,
    "start_time": "2023-03-27T18:54:14.912Z"
   },
   {
    "duration": 10,
    "start_time": "2023-03-27T18:54:14.940Z"
   },
   {
    "duration": 257,
    "start_time": "2023-03-27T18:54:14.952Z"
   },
   {
    "duration": 82,
    "start_time": "2023-03-27T18:54:15.211Z"
   },
   {
    "duration": 52,
    "start_time": "2023-03-27T18:54:15.295Z"
   },
   {
    "duration": 327,
    "start_time": "2023-03-27T18:54:15.349Z"
   },
   {
    "duration": 4,
    "start_time": "2023-03-27T18:54:15.680Z"
   },
   {
    "duration": 25,
    "start_time": "2023-03-27T18:54:15.685Z"
   },
   {
    "duration": 10692,
    "start_time": "2023-03-27T18:54:15.711Z"
   },
   {
    "duration": 0,
    "start_time": "2023-03-27T18:54:26.405Z"
   },
   {
    "duration": 0,
    "start_time": "2023-03-27T18:54:26.406Z"
   },
   {
    "duration": 0,
    "start_time": "2023-03-27T18:54:26.407Z"
   },
   {
    "duration": 0,
    "start_time": "2023-03-27T18:54:26.408Z"
   },
   {
    "duration": 1,
    "start_time": "2023-03-27T18:54:26.409Z"
   },
   {
    "duration": 0,
    "start_time": "2023-03-27T18:54:26.410Z"
   },
   {
    "duration": 0,
    "start_time": "2023-03-27T18:54:26.411Z"
   },
   {
    "duration": 0,
    "start_time": "2023-03-27T18:54:26.412Z"
   },
   {
    "duration": 0,
    "start_time": "2023-03-27T18:54:26.413Z"
   },
   {
    "duration": 0,
    "start_time": "2023-03-27T18:54:26.414Z"
   },
   {
    "duration": 0,
    "start_time": "2023-03-27T18:54:26.415Z"
   },
   {
    "duration": 0,
    "start_time": "2023-03-27T18:54:26.416Z"
   },
   {
    "duration": 0,
    "start_time": "2023-03-27T18:54:26.417Z"
   },
   {
    "duration": 0,
    "start_time": "2023-03-27T18:54:26.418Z"
   },
   {
    "duration": 0,
    "start_time": "2023-03-27T18:54:26.418Z"
   },
   {
    "duration": 0,
    "start_time": "2023-03-27T18:54:26.419Z"
   },
   {
    "duration": 0,
    "start_time": "2023-03-27T18:54:26.420Z"
   },
   {
    "duration": 0,
    "start_time": "2023-03-27T18:54:26.421Z"
   },
   {
    "duration": 0,
    "start_time": "2023-03-27T18:54:26.424Z"
   },
   {
    "duration": 0,
    "start_time": "2023-03-27T18:54:26.425Z"
   },
   {
    "duration": 0,
    "start_time": "2023-03-27T18:54:26.426Z"
   },
   {
    "duration": 0,
    "start_time": "2023-03-27T18:54:26.427Z"
   },
   {
    "duration": 0,
    "start_time": "2023-03-27T18:54:26.428Z"
   },
   {
    "duration": 0,
    "start_time": "2023-03-27T18:54:26.429Z"
   },
   {
    "duration": 2428,
    "start_time": "2023-03-27T18:55:20.649Z"
   },
   {
    "duration": 789,
    "start_time": "2023-03-27T18:55:23.079Z"
   },
   {
    "duration": 7,
    "start_time": "2023-03-27T18:55:23.869Z"
   },
   {
    "duration": 10,
    "start_time": "2023-03-27T18:55:23.878Z"
   },
   {
    "duration": 10,
    "start_time": "2023-03-27T18:55:23.890Z"
   },
   {
    "duration": 270,
    "start_time": "2023-03-27T18:55:23.902Z"
   },
   {
    "duration": 92,
    "start_time": "2023-03-27T18:55:24.174Z"
   },
   {
    "duration": 37,
    "start_time": "2023-03-27T18:55:24.268Z"
   },
   {
    "duration": 311,
    "start_time": "2023-03-27T18:55:24.307Z"
   },
   {
    "duration": 4,
    "start_time": "2023-03-27T18:55:24.621Z"
   },
   {
    "duration": 31,
    "start_time": "2023-03-27T18:55:24.627Z"
   },
   {
    "duration": 89988,
    "start_time": "2023-03-27T18:55:24.660Z"
   },
   {
    "duration": 9,
    "start_time": "2023-03-27T18:56:54.650Z"
   },
   {
    "duration": 5,
    "start_time": "2023-03-27T18:56:54.662Z"
   },
   {
    "duration": 33,
    "start_time": "2023-03-27T18:56:54.668Z"
   },
   {
    "duration": 5,
    "start_time": "2023-03-27T18:56:54.703Z"
   },
   {
    "duration": 5442,
    "start_time": "2023-03-27T18:56:54.710Z"
   },
   {
    "duration": 685305,
    "start_time": "2023-03-27T18:57:00.154Z"
   },
   {
    "duration": 14,
    "start_time": "2023-03-27T19:08:25.461Z"
   },
   {
    "duration": 39,
    "start_time": "2023-03-27T19:08:25.476Z"
   },
   {
    "duration": 4,
    "start_time": "2023-03-27T19:08:25.517Z"
   },
   {
    "duration": 202606,
    "start_time": "2023-03-27T19:08:25.542Z"
   },
   {
    "duration": 4,
    "start_time": "2023-03-27T19:11:48.150Z"
   },
   {
    "duration": 11803,
    "start_time": "2023-03-27T19:11:48.155Z"
   },
   {
    "duration": 19,
    "start_time": "2023-03-27T19:11:59.960Z"
   },
   {
    "duration": 103,
    "start_time": "2023-03-27T19:11:59.981Z"
   },
   {
    "duration": 0,
    "start_time": "2023-03-27T19:12:00.086Z"
   },
   {
    "duration": 0,
    "start_time": "2023-03-27T19:12:00.087Z"
   },
   {
    "duration": 0,
    "start_time": "2023-03-27T19:12:00.088Z"
   },
   {
    "duration": 0,
    "start_time": "2023-03-27T19:12:00.089Z"
   },
   {
    "duration": 0,
    "start_time": "2023-03-27T19:12:00.090Z"
   },
   {
    "duration": 0,
    "start_time": "2023-03-27T19:12:00.091Z"
   },
   {
    "duration": 0,
    "start_time": "2023-03-27T19:12:00.095Z"
   },
   {
    "duration": 0,
    "start_time": "2023-03-27T19:12:00.097Z"
   },
   {
    "duration": 0,
    "start_time": "2023-03-27T19:12:00.098Z"
   },
   {
    "duration": 0,
    "start_time": "2023-03-27T19:12:00.099Z"
   },
   {
    "duration": 4,
    "start_time": "2023-03-27T19:14:41.746Z"
   },
   {
    "duration": 31,
    "start_time": "2023-03-27T19:14:43.638Z"
   },
   {
    "duration": 9,
    "start_time": "2023-03-27T19:14:46.236Z"
   },
   {
    "duration": 941,
    "start_time": "2023-03-27T19:14:47.459Z"
   },
   {
    "duration": 3,
    "start_time": "2023-03-27T19:14:49.634Z"
   },
   {
    "duration": 8832,
    "start_time": "2023-03-27T19:14:50.298Z"
   },
   {
    "duration": 14,
    "start_time": "2023-03-27T19:15:01.287Z"
   },
   {
    "duration": 3,
    "start_time": "2023-03-27T19:15:05.817Z"
   },
   {
    "duration": 8,
    "start_time": "2023-03-27T19:15:06.367Z"
   },
   {
    "duration": 15,
    "start_time": "2023-03-27T19:15:06.884Z"
   },
   {
    "duration": 5,
    "start_time": "2023-03-27T19:15:33.895Z"
   },
   {
    "duration": 5,
    "start_time": "2023-03-27T19:15:46.955Z"
   },
   {
    "duration": 98,
    "start_time": "2023-03-28T19:15:40.549Z"
   },
   {
    "duration": 5323,
    "start_time": "2023-03-28T19:40:20.493Z"
   },
   {
    "duration": 3400,
    "start_time": "2023-03-28T20:00:34.492Z"
   },
   {
    "duration": 8,
    "start_time": "2023-03-28T20:00:37.894Z"
   },
   {
    "duration": 10,
    "start_time": "2023-03-28T20:00:37.904Z"
   },
   {
    "duration": 15,
    "start_time": "2023-03-28T20:00:38.568Z"
   },
   {
    "duration": 285,
    "start_time": "2023-03-28T20:00:40.791Z"
   },
   {
    "duration": 603,
    "start_time": "2023-03-28T20:00:42.310Z"
   },
   {
    "duration": 61,
    "start_time": "2023-03-28T20:00:43.745Z"
   },
   {
    "duration": 270,
    "start_time": "2023-03-28T20:00:46.331Z"
   },
   {
    "duration": 15,
    "start_time": "2023-03-28T20:00:47.570Z"
   },
   {
    "duration": 136,
    "start_time": "2023-03-28T20:00:56.398Z"
   },
   {
    "duration": 2485,
    "start_time": "2023-03-28T20:01:11.539Z"
   },
   {
    "duration": 570,
    "start_time": "2023-03-28T20:02:17.748Z"
   },
   {
    "duration": 32,
    "start_time": "2023-03-28T20:14:54.623Z"
   },
   {
    "duration": 510,
    "start_time": "2023-03-28T20:15:09.448Z"
   },
   {
    "duration": 1007,
    "start_time": "2023-03-28T20:23:57.884Z"
   },
   {
    "duration": 947,
    "start_time": "2023-03-28T20:24:02.436Z"
   },
   {
    "duration": 4,
    "start_time": "2023-03-28T20:24:04.834Z"
   },
   {
    "duration": 8,
    "start_time": "2023-03-28T20:24:05.902Z"
   },
   {
    "duration": 7,
    "start_time": "2023-03-28T20:24:06.430Z"
   },
   {
    "duration": 243,
    "start_time": "2023-03-28T20:24:07.611Z"
   },
   {
    "duration": 52,
    "start_time": "2023-03-28T20:24:09.039Z"
   },
   {
    "duration": 32,
    "start_time": "2023-03-28T20:24:09.898Z"
   },
   {
    "duration": 301,
    "start_time": "2023-03-28T20:24:12.534Z"
   },
   {
    "duration": 14,
    "start_time": "2023-03-28T20:24:13.877Z"
   },
   {
    "duration": 3,
    "start_time": "2023-03-28T20:24:16.022Z"
   },
   {
    "duration": 9,
    "start_time": "2023-03-28T20:24:16.603Z"
   },
   {
    "duration": 7739,
    "start_time": "2023-03-28T20:24:22.576Z"
   },
   {
    "duration": 2868386,
    "start_time": "2023-03-28T20:24:40.677Z"
   },
   {
    "duration": 12,
    "start_time": "2023-03-28T21:14:03.173Z"
   },
   {
    "duration": 3,
    "start_time": "2023-03-28T21:14:15.693Z"
   },
   {
    "duration": 53,
    "start_time": "2023-03-28T21:14:16.726Z"
   },
   {
    "duration": 4,
    "start_time": "2023-03-28T21:14:19.183Z"
   },
   {
    "duration": 6554,
    "start_time": "2023-03-28T21:14:21.171Z"
   },
   {
    "duration": 738157,
    "start_time": "2023-03-28T21:14:28.579Z"
   },
   {
    "duration": 16,
    "start_time": "2023-03-29T02:52:02.393Z"
   },
   {
    "duration": 255002,
    "start_time": "2023-03-29T02:53:05.366Z"
   },
   {
    "duration": 7,
    "start_time": "2023-03-29T02:59:02.358Z"
   },
   {
    "duration": 6,
    "start_time": "2023-03-29T02:59:08.403Z"
   },
   {
    "duration": 46,
    "start_time": "2023-03-29T02:59:09.178Z"
   },
   {
    "duration": 9,
    "start_time": "2023-03-29T02:59:11.192Z"
   },
   {
    "duration": 1092,
    "start_time": "2023-03-29T02:59:12.138Z"
   },
   {
    "duration": 3,
    "start_time": "2023-03-29T02:59:14.067Z"
   },
   {
    "duration": 9964,
    "start_time": "2023-03-29T02:59:15.165Z"
   },
   {
    "duration": 16,
    "start_time": "2023-03-29T02:59:27.866Z"
   },
   {
    "duration": 3,
    "start_time": "2023-03-29T02:59:30.771Z"
   },
   {
    "duration": 7,
    "start_time": "2023-03-29T02:59:31.267Z"
   },
   {
    "duration": 13,
    "start_time": "2023-03-29T02:59:31.793Z"
   },
   {
    "duration": 17,
    "start_time": "2023-03-29T02:59:34.688Z"
   },
   {
    "duration": 3,
    "start_time": "2023-03-29T02:59:54.208Z"
   },
   {
    "duration": 2890,
    "start_time": "2023-03-29T18:36:12.670Z"
   },
   {
    "duration": 3556,
    "start_time": "2023-03-29T18:36:19.639Z"
   },
   {
    "duration": 5,
    "start_time": "2023-03-29T18:36:27.822Z"
   },
   {
    "duration": 11,
    "start_time": "2023-03-29T18:36:33.831Z"
   },
   {
    "duration": 13,
    "start_time": "2023-03-29T18:36:35.708Z"
   },
   {
    "duration": 233,
    "start_time": "2023-03-29T18:36:37.113Z"
   },
   {
    "duration": 82,
    "start_time": "2023-03-29T18:36:38.766Z"
   },
   {
    "duration": 33,
    "start_time": "2023-03-29T18:36:39.792Z"
   },
   {
    "duration": 298,
    "start_time": "2023-03-29T18:36:42.761Z"
   },
   {
    "duration": 3,
    "start_time": "2023-03-29T18:36:44.249Z"
   },
   {
    "duration": 2723,
    "start_time": "2023-03-29T18:36:59.840Z"
   },
   {
    "duration": 5,
    "start_time": "2023-03-29T18:37:03.469Z"
   },
   {
    "duration": 711,
    "start_time": "2023-03-29T18:37:11.194Z"
   },
   {
    "duration": 530,
    "start_time": "2023-03-29T18:37:47.989Z"
   },
   {
    "duration": 4695,
    "start_time": "2023-03-29T18:37:53.638Z"
   },
   {
    "duration": 483,
    "start_time": "2023-03-29T18:38:36.935Z"
   },
   {
    "duration": 14066,
    "start_time": "2023-03-29T18:38:42.758Z"
   },
   {
    "duration": 101572,
    "start_time": "2023-03-29T18:38:59.637Z"
   },
   {
    "duration": 2904649,
    "start_time": "2023-03-29T18:42:00.275Z"
   },
   {
    "duration": 10,
    "start_time": "2023-03-29T19:41:27.664Z"
   },
   {
    "duration": 3,
    "start_time": "2023-03-29T19:43:07.496Z"
   },
   {
    "duration": 94859,
    "start_time": "2023-03-29T19:43:25.396Z"
   },
   {
    "duration": 8,
    "start_time": "2023-03-29T19:46:15.673Z"
   },
   {
    "duration": 3,
    "start_time": "2023-03-29T19:46:39.706Z"
   },
   {
    "duration": 41,
    "start_time": "2023-03-29T19:46:40.732Z"
   },
   {
    "duration": 5,
    "start_time": "2023-03-29T19:46:42.021Z"
   },
   {
    "duration": 5462,
    "start_time": "2023-03-29T19:46:43.624Z"
   },
   {
    "duration": 703283,
    "start_time": "2023-03-29T19:46:50.890Z"
   },
   {
    "duration": 13,
    "start_time": "2023-03-29T19:58:34.176Z"
   },
   {
    "duration": 18,
    "start_time": "2023-03-29T20:05:04.157Z"
   },
   {
    "duration": 297969,
    "start_time": "2023-03-29T20:05:07.108Z"
   },
   {
    "duration": 4,
    "start_time": "2023-03-29T20:23:11.185Z"
   },
   {
    "duration": 7,
    "start_time": "2023-03-29T20:23:20.429Z"
   },
   {
    "duration": 45,
    "start_time": "2023-03-29T20:23:20.875Z"
   },
   {
    "duration": 12,
    "start_time": "2023-03-29T20:23:25.102Z"
   },
   {
    "duration": 985,
    "start_time": "2023-03-29T20:23:26.528Z"
   },
   {
    "duration": 3,
    "start_time": "2023-03-29T20:23:27.515Z"
   },
   {
    "duration": 21,
    "start_time": "2023-03-29T20:23:40.322Z"
   },
   {
    "duration": 14015,
    "start_time": "2023-03-29T20:23:43.706Z"
   },
   {
    "duration": 21,
    "start_time": "2023-03-29T20:25:59.661Z"
   },
   {
    "duration": 4,
    "start_time": "2023-03-29T20:26:03.714Z"
   },
   {
    "duration": 11,
    "start_time": "2023-03-29T20:26:04.273Z"
   },
   {
    "duration": 16,
    "start_time": "2023-03-29T20:26:04.876Z"
   },
   {
    "duration": 4,
    "start_time": "2023-03-29T20:26:06.992Z"
   },
   {
    "duration": 16,
    "start_time": "2023-03-29T20:29:18.347Z"
   },
   {
    "duration": 9,
    "start_time": "2023-03-29T20:29:22.144Z"
   }
  ],
  "kernelspec": {
   "display_name": "Python 3 (ipykernel)",
   "language": "python",
   "name": "python3"
  },
  "language_info": {
   "codemirror_mode": {
    "name": "ipython",
    "version": 3
   },
   "file_extension": ".py",
   "mimetype": "text/x-python",
   "name": "python",
   "nbconvert_exporter": "python",
   "pygments_lexer": "ipython3",
   "version": "3.9.5"
  },
  "toc": {
   "base_numbering": 1,
   "nav_menu": {},
   "number_sections": true,
   "sideBar": true,
   "skip_h1_title": true,
   "title_cell": "Содержание",
   "title_sidebar": "Contents",
   "toc_cell": true,
   "toc_position": {
    "height": "calc(100% - 180px)",
    "left": "10px",
    "top": "150px",
    "width": "302.391px"
   },
   "toc_section_display": true,
   "toc_window_display": false
  }
 },
 "nbformat": 4,
 "nbformat_minor": 2
}
