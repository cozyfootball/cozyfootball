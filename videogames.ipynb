{
 "cells": [
  {
   "cell_type": "code",
   "execution_count": 1,
   "metadata": {},
   "outputs": [],
   "source": [
    "import pandas as pd\n",
    "import numpy as np\n",
    "import matplotlib.pyplot as plt\n",
    "import seaborn as sns\n",
    "from scipy import stats as st"
   ]
  },
  {
   "cell_type": "markdown",
   "metadata": {},
   "source": [
    "**Проект:** Анализ рынка видеогр.  \n",
    "**Дано:** Дасет с данными о продажах игр, оценок пользователей и экспертов, жанрам и платформам и т.п.  \n",
    "**Изучаемый период:** 1980-2016  \n",
    "**Задача:** Выявить определяющие успешность игры закономерности для планирования закупок локального магазина видеоигр.  \n",
    ">План:  \n",
    ">1. Изучение датасета  \n",
    ">2. Предобработка\n",
    ">3. Исследовательский анализ  \n",
    ">4. Портрет пользователя по регионам  \n",
    ">5. Проверка гипотез  \n",
    ">6. Вывод  \n",
    "\n",
    "**Особенности**: В наборе данных попадается аббревиатура **ESRB (Entertainment Software Rating Board)** — это ассоциация, определяющая возрастной рейтинг компьютерных игр. ESRB оценивает игровой контент и присваивает ему подходящую возрастную категорию, например, «Для взрослых», «Для детей младшего возраста» или «Для подростков».\n"
   ]
  },
  {
   "cell_type": "markdown",
   "metadata": {},
   "source": [
    "## Изучение датасета"
   ]
  },
  {
   "cell_type": "markdown",
   "metadata": {},
   "source": [
    "### Знакомоство"
   ]
  },
  {
   "cell_type": "code",
   "execution_count": 2,
   "metadata": {},
   "outputs": [
    {
     "data": {
      "text/html": [
       "<div>\n",
       "<style scoped>\n",
       "    .dataframe tbody tr th:only-of-type {\n",
       "        vertical-align: middle;\n",
       "    }\n",
       "\n",
       "    .dataframe tbody tr th {\n",
       "        vertical-align: top;\n",
       "    }\n",
       "\n",
       "    .dataframe thead th {\n",
       "        text-align: right;\n",
       "    }\n",
       "</style>\n",
       "<table border=\"1\" class=\"dataframe\">\n",
       "  <thead>\n",
       "    <tr style=\"text-align: right;\">\n",
       "      <th></th>\n",
       "      <th>Name</th>\n",
       "      <th>Platform</th>\n",
       "      <th>Year_of_Release</th>\n",
       "      <th>Genre</th>\n",
       "      <th>NA_sales</th>\n",
       "      <th>EU_sales</th>\n",
       "      <th>JP_sales</th>\n",
       "      <th>Other_sales</th>\n",
       "      <th>Critic_Score</th>\n",
       "      <th>User_Score</th>\n",
       "      <th>Rating</th>\n",
       "    </tr>\n",
       "  </thead>\n",
       "  <tbody>\n",
       "    <tr>\n",
       "      <th>0</th>\n",
       "      <td>Wii Sports</td>\n",
       "      <td>Wii</td>\n",
       "      <td>2006.0</td>\n",
       "      <td>Sports</td>\n",
       "      <td>41.36</td>\n",
       "      <td>28.96</td>\n",
       "      <td>3.77</td>\n",
       "      <td>8.45</td>\n",
       "      <td>76.0</td>\n",
       "      <td>8</td>\n",
       "      <td>E</td>\n",
       "    </tr>\n",
       "    <tr>\n",
       "      <th>1</th>\n",
       "      <td>Super Mario Bros.</td>\n",
       "      <td>NES</td>\n",
       "      <td>1985.0</td>\n",
       "      <td>Platform</td>\n",
       "      <td>29.08</td>\n",
       "      <td>3.58</td>\n",
       "      <td>6.81</td>\n",
       "      <td>0.77</td>\n",
       "      <td>NaN</td>\n",
       "      <td>NaN</td>\n",
       "      <td>NaN</td>\n",
       "    </tr>\n",
       "    <tr>\n",
       "      <th>2</th>\n",
       "      <td>Mario Kart Wii</td>\n",
       "      <td>Wii</td>\n",
       "      <td>2008.0</td>\n",
       "      <td>Racing</td>\n",
       "      <td>15.68</td>\n",
       "      <td>12.76</td>\n",
       "      <td>3.79</td>\n",
       "      <td>3.29</td>\n",
       "      <td>82.0</td>\n",
       "      <td>8.3</td>\n",
       "      <td>E</td>\n",
       "    </tr>\n",
       "    <tr>\n",
       "      <th>3</th>\n",
       "      <td>Wii Sports Resort</td>\n",
       "      <td>Wii</td>\n",
       "      <td>2009.0</td>\n",
       "      <td>Sports</td>\n",
       "      <td>15.61</td>\n",
       "      <td>10.93</td>\n",
       "      <td>3.28</td>\n",
       "      <td>2.95</td>\n",
       "      <td>80.0</td>\n",
       "      <td>8</td>\n",
       "      <td>E</td>\n",
       "    </tr>\n",
       "    <tr>\n",
       "      <th>4</th>\n",
       "      <td>Pokemon Red/Pokemon Blue</td>\n",
       "      <td>GB</td>\n",
       "      <td>1996.0</td>\n",
       "      <td>Role-Playing</td>\n",
       "      <td>11.27</td>\n",
       "      <td>8.89</td>\n",
       "      <td>10.22</td>\n",
       "      <td>1.00</td>\n",
       "      <td>NaN</td>\n",
       "      <td>NaN</td>\n",
       "      <td>NaN</td>\n",
       "    </tr>\n",
       "    <tr>\n",
       "      <th>5</th>\n",
       "      <td>Tetris</td>\n",
       "      <td>GB</td>\n",
       "      <td>1989.0</td>\n",
       "      <td>Puzzle</td>\n",
       "      <td>23.20</td>\n",
       "      <td>2.26</td>\n",
       "      <td>4.22</td>\n",
       "      <td>0.58</td>\n",
       "      <td>NaN</td>\n",
       "      <td>NaN</td>\n",
       "      <td>NaN</td>\n",
       "    </tr>\n",
       "    <tr>\n",
       "      <th>6</th>\n",
       "      <td>New Super Mario Bros.</td>\n",
       "      <td>DS</td>\n",
       "      <td>2006.0</td>\n",
       "      <td>Platform</td>\n",
       "      <td>11.28</td>\n",
       "      <td>9.14</td>\n",
       "      <td>6.50</td>\n",
       "      <td>2.88</td>\n",
       "      <td>89.0</td>\n",
       "      <td>8.5</td>\n",
       "      <td>E</td>\n",
       "    </tr>\n",
       "    <tr>\n",
       "      <th>7</th>\n",
       "      <td>Wii Play</td>\n",
       "      <td>Wii</td>\n",
       "      <td>2006.0</td>\n",
       "      <td>Misc</td>\n",
       "      <td>13.96</td>\n",
       "      <td>9.18</td>\n",
       "      <td>2.93</td>\n",
       "      <td>2.84</td>\n",
       "      <td>58.0</td>\n",
       "      <td>6.6</td>\n",
       "      <td>E</td>\n",
       "    </tr>\n",
       "    <tr>\n",
       "      <th>8</th>\n",
       "      <td>New Super Mario Bros. Wii</td>\n",
       "      <td>Wii</td>\n",
       "      <td>2009.0</td>\n",
       "      <td>Platform</td>\n",
       "      <td>14.44</td>\n",
       "      <td>6.94</td>\n",
       "      <td>4.70</td>\n",
       "      <td>2.24</td>\n",
       "      <td>87.0</td>\n",
       "      <td>8.4</td>\n",
       "      <td>E</td>\n",
       "    </tr>\n",
       "    <tr>\n",
       "      <th>9</th>\n",
       "      <td>Duck Hunt</td>\n",
       "      <td>NES</td>\n",
       "      <td>1984.0</td>\n",
       "      <td>Shooter</td>\n",
       "      <td>26.93</td>\n",
       "      <td>0.63</td>\n",
       "      <td>0.28</td>\n",
       "      <td>0.47</td>\n",
       "      <td>NaN</td>\n",
       "      <td>NaN</td>\n",
       "      <td>NaN</td>\n",
       "    </tr>\n",
       "    <tr>\n",
       "      <th>10</th>\n",
       "      <td>Nintendogs</td>\n",
       "      <td>DS</td>\n",
       "      <td>2005.0</td>\n",
       "      <td>Simulation</td>\n",
       "      <td>9.05</td>\n",
       "      <td>10.95</td>\n",
       "      <td>1.93</td>\n",
       "      <td>2.74</td>\n",
       "      <td>NaN</td>\n",
       "      <td>NaN</td>\n",
       "      <td>NaN</td>\n",
       "    </tr>\n",
       "    <tr>\n",
       "      <th>11</th>\n",
       "      <td>Mario Kart DS</td>\n",
       "      <td>DS</td>\n",
       "      <td>2005.0</td>\n",
       "      <td>Racing</td>\n",
       "      <td>9.71</td>\n",
       "      <td>7.47</td>\n",
       "      <td>4.13</td>\n",
       "      <td>1.90</td>\n",
       "      <td>91.0</td>\n",
       "      <td>8.6</td>\n",
       "      <td>E</td>\n",
       "    </tr>\n",
       "    <tr>\n",
       "      <th>12</th>\n",
       "      <td>Pokemon Gold/Pokemon Silver</td>\n",
       "      <td>GB</td>\n",
       "      <td>1999.0</td>\n",
       "      <td>Role-Playing</td>\n",
       "      <td>9.00</td>\n",
       "      <td>6.18</td>\n",
       "      <td>7.20</td>\n",
       "      <td>0.71</td>\n",
       "      <td>NaN</td>\n",
       "      <td>NaN</td>\n",
       "      <td>NaN</td>\n",
       "    </tr>\n",
       "  </tbody>\n",
       "</table>\n",
       "</div>"
      ],
      "text/plain": [
       "                           Name Platform  Year_of_Release         Genre  \\\n",
       "0                    Wii Sports      Wii           2006.0        Sports   \n",
       "1             Super Mario Bros.      NES           1985.0      Platform   \n",
       "2                Mario Kart Wii      Wii           2008.0        Racing   \n",
       "3             Wii Sports Resort      Wii           2009.0        Sports   \n",
       "4      Pokemon Red/Pokemon Blue       GB           1996.0  Role-Playing   \n",
       "5                        Tetris       GB           1989.0        Puzzle   \n",
       "6         New Super Mario Bros.       DS           2006.0      Platform   \n",
       "7                      Wii Play      Wii           2006.0          Misc   \n",
       "8     New Super Mario Bros. Wii      Wii           2009.0      Platform   \n",
       "9                     Duck Hunt      NES           1984.0       Shooter   \n",
       "10                   Nintendogs       DS           2005.0    Simulation   \n",
       "11                Mario Kart DS       DS           2005.0        Racing   \n",
       "12  Pokemon Gold/Pokemon Silver       GB           1999.0  Role-Playing   \n",
       "\n",
       "    NA_sales  EU_sales  JP_sales  Other_sales  Critic_Score User_Score Rating  \n",
       "0      41.36     28.96      3.77         8.45          76.0          8      E  \n",
       "1      29.08      3.58      6.81         0.77           NaN        NaN    NaN  \n",
       "2      15.68     12.76      3.79         3.29          82.0        8.3      E  \n",
       "3      15.61     10.93      3.28         2.95          80.0          8      E  \n",
       "4      11.27      8.89     10.22         1.00           NaN        NaN    NaN  \n",
       "5      23.20      2.26      4.22         0.58           NaN        NaN    NaN  \n",
       "6      11.28      9.14      6.50         2.88          89.0        8.5      E  \n",
       "7      13.96      9.18      2.93         2.84          58.0        6.6      E  \n",
       "8      14.44      6.94      4.70         2.24          87.0        8.4      E  \n",
       "9      26.93      0.63      0.28         0.47           NaN        NaN    NaN  \n",
       "10      9.05     10.95      1.93         2.74           NaN        NaN    NaN  \n",
       "11      9.71      7.47      4.13         1.90          91.0        8.6      E  \n",
       "12      9.00      6.18      7.20         0.71           NaN        NaN    NaN  "
      ]
     },
     "execution_count": 2,
     "metadata": {},
     "output_type": "execute_result"
    }
   ],
   "source": [
    "games_df = pd.read_csv('/datasets/games.csv')\n",
    "games_df.head(13)"
   ]
  },
  {
   "cell_type": "markdown",
   "metadata": {},
   "source": [
    "### Полные дубликаты"
   ]
  },
  {
   "cell_type": "code",
   "execution_count": 3,
   "metadata": {},
   "outputs": [
    {
     "name": "stdout",
     "output_type": "stream",
     "text": [
      "Количество полных дубликтов в датасете 0\n"
     ]
    }
   ],
   "source": [
    "mydups = games_df.duplicated().sum()\n",
    "print('Количество полных дубликтов в датасете', mydups)"
   ]
  },
  {
   "cell_type": "markdown",
   "metadata": {},
   "source": [
    "### Общая визуализация"
   ]
  },
  {
   "cell_type": "code",
   "execution_count": 4,
   "metadata": {},
   "outputs": [
    {
     "data": {
      "text/plain": [
       "array([[<AxesSubplot:title={'center':'Year_of_Release'}>,\n",
       "        <AxesSubplot:title={'center':'NA_sales'}>],\n",
       "       [<AxesSubplot:title={'center':'EU_sales'}>,\n",
       "        <AxesSubplot:title={'center':'JP_sales'}>],\n",
       "       [<AxesSubplot:title={'center':'Other_sales'}>,\n",
       "        <AxesSubplot:title={'center':'Critic_Score'}>]], dtype=object)"
      ]
     },
     "execution_count": 4,
     "metadata": {},
     "output_type": "execute_result"
    },
    {
     "data": {
      "image/png": "[encoded data removed]",
      "text/plain": [
       "<Figure size 1080x1440 with 6 Axes>"
      ]
     },
     "metadata": {
      "needs_background": "light"
     },
     "output_type": "display_data"
    }
   ],
   "source": [
    "games_df.hist(figsize=(15,20))"
   ]
  },
  {
   "cell_type": "markdown",
   "metadata": {},
   "source": [
    "### Описание датасета"
   ]
  },
  {
   "cell_type": "code",
   "execution_count": 5,
   "metadata": {},
   "outputs": [
    {
     "name": "stdout",
     "output_type": "stream",
     "text": [
      "<class 'pandas.core.frame.DataFrame'>\n",
      "RangeIndex: 16715 entries, 0 to 16714\n",
      "Data columns (total 11 columns):\n",
      " #   Column           Non-Null Count  Dtype  \n",
      "---  ------           --------------  -----  \n",
      " 0   Name             16713 non-null  object \n",
      " 1   Platform         16715 non-null  object \n",
      " 2   Year_of_Release  16446 non-null  float64\n",
      " 3   Genre            16713 non-null  object \n",
      " 4   NA_sales         16715 non-null  float64\n",
      " 5   EU_sales         16715 non-null  float64\n",
      " 6   JP_sales         16715 non-null  float64\n",
      " 7   Other_sales      16715 non-null  float64\n",
      " 8   Critic_Score     8137 non-null   float64\n",
      " 9   User_Score       10014 non-null  object \n",
      " 10  Rating           9949 non-null   object \n",
      "dtypes: float64(6), object(5)\n",
      "memory usage: 1.4+ MB\n"
     ]
    }
   ],
   "source": [
    "games_df.info()"
   ]
  },
  {
   "cell_type": "code",
   "execution_count": 6,
   "metadata": {},
   "outputs": [
    {
     "data": {
      "text/html": [
       "<div>\n",
       "<style scoped>\n",
       "    .dataframe tbody tr th:only-of-type {\n",
       "        vertical-align: middle;\n",
       "    }\n",
       "\n",
       "    .dataframe tbody tr th {\n",
       "        vertical-align: top;\n",
       "    }\n",
       "\n",
       "    .dataframe thead th {\n",
       "        text-align: right;\n",
       "    }\n",
       "</style>\n",
       "<table border=\"1\" class=\"dataframe\">\n",
       "  <thead>\n",
       "    <tr style=\"text-align: right;\">\n",
       "      <th></th>\n",
       "      <th>count</th>\n",
       "      <th>mean</th>\n",
       "      <th>std</th>\n",
       "      <th>min</th>\n",
       "      <th>25%</th>\n",
       "      <th>50%</th>\n",
       "      <th>75%</th>\n",
       "      <th>max</th>\n",
       "    </tr>\n",
       "  </thead>\n",
       "  <tbody>\n",
       "    <tr>\n",
       "      <th>Year_of_Release</th>\n",
       "      <td>16446.0</td>\n",
       "      <td>2006.484616</td>\n",
       "      <td>5.877050</td>\n",
       "      <td>1980.0</td>\n",
       "      <td>2003.0</td>\n",
       "      <td>2007.00</td>\n",
       "      <td>2010.00</td>\n",
       "      <td>2016.00</td>\n",
       "    </tr>\n",
       "    <tr>\n",
       "      <th>NA_sales</th>\n",
       "      <td>16715.0</td>\n",
       "      <td>0.263377</td>\n",
       "      <td>0.813604</td>\n",
       "      <td>0.0</td>\n",
       "      <td>0.0</td>\n",
       "      <td>0.08</td>\n",
       "      <td>0.24</td>\n",
       "      <td>41.36</td>\n",
       "    </tr>\n",
       "    <tr>\n",
       "      <th>EU_sales</th>\n",
       "      <td>16715.0</td>\n",
       "      <td>0.145060</td>\n",
       "      <td>0.503339</td>\n",
       "      <td>0.0</td>\n",
       "      <td>0.0</td>\n",
       "      <td>0.02</td>\n",
       "      <td>0.11</td>\n",
       "      <td>28.96</td>\n",
       "    </tr>\n",
       "    <tr>\n",
       "      <th>JP_sales</th>\n",
       "      <td>16715.0</td>\n",
       "      <td>0.077617</td>\n",
       "      <td>0.308853</td>\n",
       "      <td>0.0</td>\n",
       "      <td>0.0</td>\n",
       "      <td>0.00</td>\n",
       "      <td>0.04</td>\n",
       "      <td>10.22</td>\n",
       "    </tr>\n",
       "    <tr>\n",
       "      <th>Other_sales</th>\n",
       "      <td>16715.0</td>\n",
       "      <td>0.047342</td>\n",
       "      <td>0.186731</td>\n",
       "      <td>0.0</td>\n",
       "      <td>0.0</td>\n",
       "      <td>0.01</td>\n",
       "      <td>0.03</td>\n",
       "      <td>10.57</td>\n",
       "    </tr>\n",
       "    <tr>\n",
       "      <th>Critic_Score</th>\n",
       "      <td>8137.0</td>\n",
       "      <td>68.967679</td>\n",
       "      <td>13.938165</td>\n",
       "      <td>13.0</td>\n",
       "      <td>60.0</td>\n",
       "      <td>71.00</td>\n",
       "      <td>79.00</td>\n",
       "      <td>98.00</td>\n",
       "    </tr>\n",
       "  </tbody>\n",
       "</table>\n",
       "</div>"
      ],
      "text/plain": [
       "                   count         mean        std     min     25%      50%  \\\n",
       "Year_of_Release  16446.0  2006.484616   5.877050  1980.0  2003.0  2007.00   \n",
       "NA_sales         16715.0     0.263377   0.813604     0.0     0.0     0.08   \n",
       "EU_sales         16715.0     0.145060   0.503339     0.0     0.0     0.02   \n",
       "JP_sales         16715.0     0.077617   0.308853     0.0     0.0     0.00   \n",
       "Other_sales      16715.0     0.047342   0.186731     0.0     0.0     0.01   \n",
       "Critic_Score      8137.0    68.967679  13.938165    13.0    60.0    71.00   \n",
       "\n",
       "                     75%      max  \n",
       "Year_of_Release  2010.00  2016.00  \n",
       "NA_sales            0.24    41.36  \n",
       "EU_sales            0.11    28.96  \n",
       "JP_sales            0.04    10.22  \n",
       "Other_sales         0.03    10.57  \n",
       "Critic_Score       79.00    98.00  "
      ]
     },
     "execution_count": 6,
     "metadata": {},
     "output_type": "execute_result"
    }
   ],
   "source": [
    "games_df.describe().T"
   ]
  },
  {
   "cell_type": "markdown",
   "metadata": {},
   "source": [
    "### Описание столбцов датасета  \n",
    "**Name** — название игры  \n",
    "**Platform** — игровая платформа  \n",
    "**Year_of_Release** — год выпуска игры  \n",
    "**Genre** — жанр игры  \n",
    "**NA_sales** — продажи в Северной Америке (млн проданных копий)  \n",
    "**EU_sales** — продажи в Европе (млн  проданных копий)  \n",
    "**JP_sales** — продажи в Японии (млн  проданных копий)  \n",
    "**Other_sales** — продажи в других странах (млн  проданных копий)  \n",
    "**Critic_Score** — оценка критиков  \n",
    "**User_Score** — оценка пользователей  \n",
    "**Rating** — рейтинг от организации ESRB (англ. Entertainment Software Rating Board)  "
   ]
  },
  {
   "cell_type": "markdown",
   "metadata": {},
   "source": [
    "## Предобработка "
   ]
  },
  {
   "cell_type": "markdown",
   "metadata": {},
   "source": [
    "### Пропуски"
   ]
  },
  {
   "cell_type": "code",
   "execution_count": 7,
   "metadata": {},
   "outputs": [
    {
     "data": {
      "text/plain": [
       "Critic_Score       0.513192\n",
       "Rating             0.404786\n",
       "User_Score         0.400897\n",
       "Year_of_Release    0.016093\n",
       "Name               0.000120\n",
       "Genre              0.000120\n",
       "Platform           0.000000\n",
       "NA_sales           0.000000\n",
       "EU_sales           0.000000\n",
       "JP_sales           0.000000\n",
       "Other_sales        0.000000\n",
       "dtype: float64"
      ]
     },
     "execution_count": 7,
     "metadata": {},
     "output_type": "execute_result"
    }
   ],
   "source": [
    "games_df.isna().mean().sort_values(ascending=False)"
   ]
  },
  {
   "cell_type": "markdown",
   "metadata": {},
   "source": [
    "Изучим пропуски. Наибольшее количество пропусков обнаружены в столбцах:  \n",
    "**Critic_Score** — оценка критиков  \n",
    "**Rating** — рейтинг от организации ESRB  \n",
    "**User_Score** — оценка пользователей  \n",
    "Изучим эти столбцы подробнее ниже."
   ]
  },
  {
   "cell_type": "markdown",
   "metadata": {},
   "source": [
    "### Корректировка названий столбцов"
   ]
  },
  {
   "cell_type": "markdown",
   "metadata": {},
   "source": [
    "Приведем название столбцов к snakecase."
   ]
  },
  {
   "cell_type": "code",
   "execution_count": 8,
   "metadata": {},
   "outputs": [
    {
     "data": {
      "text/plain": [
       "Index(['name', 'platform', 'year_of_release', 'genre', 'na_sales', 'eu_sales',\n",
       "       'jp_sales', 'other_sales', 'critic_score', 'user_score', 'rating'],\n",
       "      dtype='object')"
      ]
     },
     "execution_count": 8,
     "metadata": {},
     "output_type": "execute_result"
    }
   ],
   "source": [
    "games_df.columns = games_df.columns.str.lower()\n",
    "games_df.columns"
   ]
  },
  {
   "cell_type": "markdown",
   "metadata": {},
   "source": [
    "### Столбец  **user_score**: пропуски и строковые значения"
   ]
  },
  {
   "cell_type": "code",
   "execution_count": 9,
   "metadata": {},
   "outputs": [
    {
     "data": {
      "text/plain": [
       "NaN    6701\n",
       "tbd    2424\n",
       "7.8     324\n",
       "8       290\n",
       "8.2     282\n",
       "8.3     254\n",
       "8.5     253\n",
       "7.5     251\n",
       "7.9     249\n",
       "8.1     244\n",
       "Name: user_score, dtype: int64"
      ]
     },
     "execution_count": 9,
     "metadata": {},
     "output_type": "execute_result"
    }
   ],
   "source": [
    "games_df['user_score'].value_counts(dropna=False).head(10)"
   ]
  },
  {
   "cell_type": "markdown",
   "metadata": {},
   "source": [
    "В данном столбце больше всего значений лежит на \"tbd\".  \n",
    "**TBD** - аббревиатура от английского To Be Determined (будет определено) или To Be Decided (будет решено).  \n",
    "Заменим tbd на -1, чтобы пропуски не помешали проверке гипотез в дальнейшем."
   ]
  },
  {
   "cell_type": "code",
   "execution_count": 10,
   "metadata": {},
   "outputs": [
    {
     "name": "stdout",
     "output_type": "stream",
     "text": [
      "Количество пропусков в user_score 0\n"
     ]
    }
   ],
   "source": [
    "games_df['user_score'] = games_df['user_score'].replace('tbd', -1)\n",
    "games_df['user_score'] = games_df['user_score'].fillna(-1)\n",
    "user_score_nan = games_df['user_score'].isna().sum()\n",
    "print('Количество пропусков в user_score', user_score_nan)"
   ]
  },
  {
   "cell_type": "code",
   "execution_count": 11,
   "metadata": {},
   "outputs": [],
   "source": [
    "games_df['user_score'] = games_df['user_score'].fillna(-1)"
   ]
  },
  {
   "cell_type": "code",
   "execution_count": 12,
   "metadata": {},
   "outputs": [
    {
     "data": {
      "text/plain": [
       "array(['8', -1, '8.3', '8.5', '6.6', '8.4', '8.6', '7.7', '6.3', '7.4',\n",
       "       '8.2', '9', '7.9', '8.1', '8.7', '7.1', '3.4', '5.3', '4.8', '3.2',\n",
       "       '8.9', '6.4', '7.8', '7.5', '2.6', '7.2', '9.2', '7', '7.3', '4.3',\n",
       "       '7.6', '5.7', '5', '9.1', '6.5', '8.8', '6.9', '9.4', '6.8', '6.1',\n",
       "       '6.7', '5.4', '4', '4.9', '4.5', '9.3', '6.2', '4.2', '6', '3.7',\n",
       "       '4.1', '5.8', '5.6', '5.5', '4.4', '4.6', '5.9', '3.9', '3.1',\n",
       "       '2.9', '5.2', '3.3', '4.7', '5.1', '3.5', '2.5', '1.9', '3', '2.7',\n",
       "       '2.2', '2', '9.5', '2.1', '3.6', '2.8', '1.8', '3.8', '0', '1.6',\n",
       "       '9.6', '2.4', '1.7', '1.1', '0.3', '1.5', '0.7', '1.2', '2.3',\n",
       "       '0.5', '1.3', '0.2', '0.6', '1.4', '0.9', '1', '9.7'], dtype=object)"
      ]
     },
     "execution_count": 12,
     "metadata": {},
     "output_type": "execute_result"
    }
   ],
   "source": [
    "games_df['user_score'].unique()"
   ]
  },
  {
   "cell_type": "markdown",
   "metadata": {},
   "source": [
    "### Столбец **rating**: пропуски и оптимизация"
   ]
  },
  {
   "cell_type": "code",
   "execution_count": 13,
   "metadata": {},
   "outputs": [
    {
     "data": {
      "text/plain": [
       "NaN     6766\n",
       "E       3990\n",
       "T       2961\n",
       "M       1563\n",
       "E10+    1420\n",
       "EC         8\n",
       "RP         3\n",
       "K-A        3\n",
       "AO         1\n",
       "Name: rating, dtype: int64"
      ]
     },
     "execution_count": 13,
     "metadata": {},
     "output_type": "execute_result"
    }
   ],
   "source": [
    "games_df['rating'].value_counts(dropna=False).head(10)"
   ]
  },
  {
   "cell_type": "markdown",
   "metadata": {},
   "source": [
    "**EC» («Early childhood»)** — «Для детей младшего возраста»: Игра подходит для детей от 3 лет и не содержит материалов, которые родители могли бы счесть неподходящими. Продукты, получившие данный рейтинг, изначально разрабатываются для детей и обычно представляют собой развивающие игры. 1994-2018  \n",
    "**«E» («Everyone»)** — «Для всех»: Содержание вполне подходит для всех возрастов. Такие игры могут понравиться и взрослым. Игры с этим рейтингом могут содержать минимальное насилие, в основном «мультяшного» характера. Первой игрой, которая получила данный рейтинг, стала The Simpsons Cartoon Studio, выпущенная в 1996 году. Первоначально \"K-A\" (\"Kids to Adults\"). 1994-н.в.  \n",
    "**«E10+» («Everyone 10 and older»)** — «Для всех от 10 лет и старше»: Проекты с данным рейтингом могут содержать или немного больше мультипликационного или мягкого насилия, или несколько откровенные сцены, или минимальное количество крови. Рейтинг был принят ESRB 2 марта 2005 года. Первой игрой, которая получила данный рейтинг, стала Donkey Kong: Jungle Beat. 2005 - н.в.  \n",
    "**«T» («Teen»)** — «Подросткам»: Игра подходит для лиц от 13 лет. Проекты из данной категории могут содержать насилие, непристойные сцены, грубый юмор, в меру откровенное сексуальное содержимое, кровь или нечастое использование ненормативной лексики. 1994-н.в.  \n",
    "**«M» («Mature»)** — «Для взрослых»: Материалы игры не подходят для лиц младше 17 лет. Проекты с данным рейтингом могут содержать достаточно жестокое насилие, большое количество крови с расчленением, непристойные сексуальные сцены или грубую ненормативную лексику, нежелательную для младшей аудитории. 1994-н.в.  \n",
    "**«AO» («Adults Only 18+»)** — «Только для взрослых»: Содержание игры только для взрослых старше 18 лет. Продукты из данной категории могут содержать длительные сцены жестокого насилия и/или очень откровенное сексуальное содержимое, а также сцены с обнажением. Большинство таких игр предназначено для персональных компьютеров под управлением Microsoft Windows и Apple Macintosh. Рейтинг «Только для взрослых» является предметом многочисленных дискуссий, так как накладывает серьёзные ограничения на продажи игры. Первой игрой, которая получила данный рейтинг, стала The Joy of Sex, выпущенная в 1993 году. 1993 - н.в.  \n",
    "**«RP» («Rating Pending»)** — «Рейтинг ожидается»: Продукт был отправлен в ESRB и ожидает присвоения рейтинга. Данный логотип используется только на рекламных презентациях и в демо-версиях игр до официальной даты выпуска в продажу.  \n",
    "**«RP 17+» («Rating Pending»)** — «Рейтинг ожидается - примерно 17+»: Продукт отправлен ESRB на оценку, но примерное содержание близко к рейтингу «M». Данная маркировка была введена с 2021 г. и распространяется на демо или презентационный вариант.  \n",
    "**Вывод №1**: Основные метрики и критерии рейтингования видеоигр появились в 1994 г.  \n",
    "**Вывод №2**: Для оптимизиации информации необходимо:  \n",
    "1. Рейтинг 'K-A' перевести в 'E'\n",
    "2. Рейтинг 'ЕС' перевести в 'E'\n",
    "3. Пропуски заполним значением 'RP'"
   ]
  },
  {
   "cell_type": "code",
   "execution_count": 14,
   "metadata": {},
   "outputs": [
    {
     "data": {
      "text/plain": [
       "RP      6769\n",
       "E       4001\n",
       "T       2961\n",
       "M       1563\n",
       "E10+    1420\n",
       "AO         1\n",
       "Name: rating, dtype: int64"
      ]
     },
     "execution_count": 14,
     "metadata": {},
     "output_type": "execute_result"
    }
   ],
   "source": [
    "games_df['rating'] = games_df['rating'].replace('K-A', 'E')\n",
    "games_df['rating'] = games_df['rating'].replace('EC', 'E')\n",
    "games_df['rating'] = games_df['rating'].fillna('RP')\n",
    "games_df['rating'].value_counts(dropna=False).head(10)"
   ]
  },
  {
   "cell_type": "code",
   "execution_count": 15,
   "metadata": {},
   "outputs": [
    {
     "name": "stdout",
     "output_type": "stream",
     "text": [
      "Количество пропусков в столбце rating 0\n"
     ]
    }
   ],
   "source": [
    "print('Количество пропусков в столбце rating', games_df['rating'].isna().sum())                                                                "
   ]
  },
  {
   "cell_type": "markdown",
   "metadata": {},
   "source": [
    "### Столбец **critic_score**: пропуски"
   ]
  },
  {
   "cell_type": "code",
   "execution_count": 16,
   "metadata": {},
   "outputs": [
    {
     "data": {
      "text/plain": [
       "NaN     8578\n",
       "70.0     256\n",
       "71.0     254\n",
       "75.0     245\n",
       "78.0     240\n",
       "73.0     238\n",
       "80.0     237\n",
       "76.0     235\n",
       "72.0     226\n",
       "74.0     226\n",
       "Name: critic_score, dtype: int64"
      ]
     },
     "execution_count": 16,
     "metadata": {},
     "output_type": "execute_result"
    }
   ],
   "source": [
    "games_df['critic_score'].value_counts(dropna=False).head(10)                                         "
   ]
  },
  {
   "cell_type": "code",
   "execution_count": 17,
   "metadata": {},
   "outputs": [],
   "source": [
    "games_df['critic_score'] = games_df['critic_score'].fillna(-1)"
   ]
  },
  {
   "cell_type": "code",
   "execution_count": 18,
   "metadata": {},
   "outputs": [
    {
     "data": {
      "text/plain": [
       "array([ 7.6, -0.1,  8.2,  8. ,  8.9,  5.8,  8.7,  9.1,  6.1,  9.7,  9.5,\n",
       "        7.7,  8.8,  8.3,  9.4,  9.3,  8.5,  8.6,  9.8,  9.6,  9. ,  8.4,\n",
       "        7.3,  7.4,  7.8,  9.2,  7.1,  7.2,  6.8,  6.2,  4.9,  6.7,  8.1,\n",
       "        6.6,  5.6,  7.9,  7. ,  5.9,  6.4,  7.5,  6. ,  6.3,  6.9,  5. ,\n",
       "        2.5,  4.2,  4.4,  5.5,  4.8,  5.7,  2.9,  4.7,  6.5,  5.4,  2. ,\n",
       "        5.3,  3.7,  3.8,  3.3,  5.2,  3. ,  3.2,  4.3,  4.5,  5.1,  4. ,\n",
       "        4.6,  3.9,  3.4,  3.5,  4.1,  3.6,  2.8,  3.1,  2.7,  2.6,  1.9,\n",
       "        2.3,  2.4,  2.1,  1.7,  2.2,  1.3])"
      ]
     },
     "execution_count": 18,
     "metadata": {},
     "output_type": "execute_result"
    }
   ],
   "source": [
    "games_df['cs_ten_rate'] = games_df['critic_score'] / 10\n",
    "games_df['cs_ten_rate'] = games_df['cs_ten_rate'].fillna(-1)\n",
    "games_df['cs_ten_rate'].unique()"
   ]
  },
  {
   "cell_type": "markdown",
   "metadata": {},
   "source": [
    "### Столбец **year_of_release**: пропуски"
   ]
  },
  {
   "cell_type": "code",
   "execution_count": 19,
   "metadata": {},
   "outputs": [
    {
     "name": "stdout",
     "output_type": "stream",
     "text": [
      "Количество пропусков в столбце year_of_release 269\n"
     ]
    }
   ],
   "source": [
    "print('Количество пропусков в столбце year_of_release', games_df['year_of_release'].isna().sum())  "
   ]
  },
  {
   "cell_type": "code",
   "execution_count": 20,
   "metadata": {},
   "outputs": [
    {
     "data": {
      "text/plain": [
       "array([2006., 1985., 2008., 2009., 1996., 1989., 1984., 2005., 1999.,\n",
       "       2007., 2010., 2013., 2004., 1990., 1988., 2002., 2001., 2011.,\n",
       "       1998., 2015., 2012., 2014., 1992., 1997., 1993., 1994., 1982.,\n",
       "       2016., 2003., 1986., 2000.,   nan, 1995., 1991., 1981., 1987.,\n",
       "       1980., 1983.])"
      ]
     },
     "execution_count": 20,
     "metadata": {},
     "output_type": "execute_result"
    }
   ],
   "source": [
    "games_df['year_of_release'].unique()"
   ]
  },
  {
   "cell_type": "code",
   "execution_count": 21,
   "metadata": {},
   "outputs": [
    {
     "data": {
      "text/plain": [
       "2008.0    1427\n",
       "2009.0    1426\n",
       "2010.0    1255\n",
       "2007.0    1197\n",
       "2011.0    1136\n",
       "2006.0    1006\n",
       "2005.0     939\n",
       "2002.0     829\n",
       "2003.0     775\n",
       "2004.0     762\n",
       "2012.0     653\n",
       "2015.0     606\n",
       "2014.0     581\n",
       "2013.0     544\n",
       "2016.0     502\n",
       "2001.0     482\n",
       "1998.0     379\n",
       "2000.0     350\n",
       "1999.0     338\n",
       "1997.0     289\n",
       "NaN        269\n",
       "1996.0     263\n",
       "1995.0     219\n",
       "1994.0     121\n",
       "1993.0      62\n",
       "1981.0      46\n",
       "1992.0      43\n",
       "1991.0      41\n",
       "1982.0      36\n",
       "1986.0      21\n",
       "1983.0      17\n",
       "1989.0      17\n",
       "1990.0      16\n",
       "1987.0      16\n",
       "1988.0      15\n",
       "1984.0      14\n",
       "1985.0      14\n",
       "1980.0       9\n",
       "Name: year_of_release, dtype: int64"
      ]
     },
     "execution_count": 21,
     "metadata": {},
     "output_type": "execute_result"
    }
   ],
   "source": [
    "games_df['year_of_release'].value_counts(dropna=False)"
   ]
  },
  {
   "cell_type": "code",
   "execution_count": 22,
   "metadata": {},
   "outputs": [
    {
     "data": {
      "text/plain": [
       "name\n",
       "LEGO Harry Potter: Years 5-7               7\n",
       "Rock Band                                  4\n",
       "Happy Feet Two                             4\n",
       "WRC: FIA World Rally Championship          3\n",
       "Test Drive Unlimited 2                     3\n",
       "Bejeweled 3                                3\n",
       "Virtua Quest                               2\n",
       "Captain America: Super Soldier             2\n",
       "Port Royale 3                              2\n",
       "LEGO Batman: The Videogame                 2\n",
       "Robert Ludlum's The Bourne Conspiracy      2\n",
       "Combat Elite: WWII Paratroopers            2\n",
       "PDC World Championship Darts 2008          2\n",
       "The Lord of the Rings: War in the North    2\n",
       "The Golden Compass                         2\n",
       "dtype: int64"
      ]
     },
     "execution_count": 22,
     "metadata": {},
     "output_type": "execute_result"
    }
   ],
   "source": [
    "games_df.loc[games_df['year_of_release'].isna()].value_counts('name').head(15)"
   ]
  },
  {
   "cell_type": "markdown",
   "metadata": {},
   "source": [
    "269 строк с пропусками. Заменим на 0."
   ]
  },
  {
   "cell_type": "code",
   "execution_count": 23,
   "metadata": {},
   "outputs": [
    {
     "name": "stdout",
     "output_type": "stream",
     "text": [
      "Количество пропусков в столбце year_of_release 0\n"
     ]
    }
   ],
   "source": [
    "games_df['year_of_release'] = games_df['year_of_release'].fillna(0)\n",
    "print('Количество пропусков в столбце year_of_release', games_df['year_of_release'].isna().sum()) "
   ]
  },
  {
   "cell_type": "markdown",
   "metadata": {},
   "source": [
    "### Столбцы **genre и name**: пропуски"
   ]
  },
  {
   "cell_type": "code",
   "execution_count": 24,
   "metadata": {},
   "outputs": [
    {
     "name": "stdout",
     "output_type": "stream",
     "text": [
      "Количество пропусков в столбце name 2\n",
      "Количество пропусков в столбце genre 2\n"
     ]
    }
   ],
   "source": [
    "print('Количество пропусков в столбце name', len(games_df[games_df['name'].isna()]))\n",
    "print('Количество пропусков в столбце genre', len(games_df[games_df['genre'].isna()]))"
   ]
  },
  {
   "cell_type": "code",
   "execution_count": 25,
   "metadata": {},
   "outputs": [
    {
     "data": {
      "text/html": [
       "<div>\n",
       "<style scoped>\n",
       "    .dataframe tbody tr th:only-of-type {\n",
       "        vertical-align: middle;\n",
       "    }\n",
       "\n",
       "    .dataframe tbody tr th {\n",
       "        vertical-align: top;\n",
       "    }\n",
       "\n",
       "    .dataframe thead th {\n",
       "        text-align: right;\n",
       "    }\n",
       "</style>\n",
       "<table border=\"1\" class=\"dataframe\">\n",
       "  <thead>\n",
       "    <tr style=\"text-align: right;\">\n",
       "      <th></th>\n",
       "      <th>name</th>\n",
       "      <th>platform</th>\n",
       "      <th>year_of_release</th>\n",
       "      <th>genre</th>\n",
       "      <th>na_sales</th>\n",
       "      <th>eu_sales</th>\n",
       "      <th>jp_sales</th>\n",
       "      <th>other_sales</th>\n",
       "      <th>critic_score</th>\n",
       "      <th>user_score</th>\n",
       "      <th>rating</th>\n",
       "      <th>cs_ten_rate</th>\n",
       "    </tr>\n",
       "  </thead>\n",
       "  <tbody>\n",
       "    <tr>\n",
       "      <th>659</th>\n",
       "      <td>NaN</td>\n",
       "      <td>GEN</td>\n",
       "      <td>1993.0</td>\n",
       "      <td>NaN</td>\n",
       "      <td>1.78</td>\n",
       "      <td>0.53</td>\n",
       "      <td>0.00</td>\n",
       "      <td>0.08</td>\n",
       "      <td>-1.0</td>\n",
       "      <td>-1</td>\n",
       "      <td>RP</td>\n",
       "      <td>-0.1</td>\n",
       "    </tr>\n",
       "    <tr>\n",
       "      <th>14244</th>\n",
       "      <td>NaN</td>\n",
       "      <td>GEN</td>\n",
       "      <td>1993.0</td>\n",
       "      <td>NaN</td>\n",
       "      <td>0.00</td>\n",
       "      <td>0.00</td>\n",
       "      <td>0.03</td>\n",
       "      <td>0.00</td>\n",
       "      <td>-1.0</td>\n",
       "      <td>-1</td>\n",
       "      <td>RP</td>\n",
       "      <td>-0.1</td>\n",
       "    </tr>\n",
       "  </tbody>\n",
       "</table>\n",
       "</div>"
      ],
      "text/plain": [
       "      name platform  year_of_release genre  na_sales  eu_sales  jp_sales  \\\n",
       "659    NaN      GEN           1993.0   NaN      1.78      0.53      0.00   \n",
       "14244  NaN      GEN           1993.0   NaN      0.00      0.00      0.03   \n",
       "\n",
       "       other_sales  critic_score user_score rating  cs_ten_rate  \n",
       "659           0.08          -1.0         -1     RP         -0.1  \n",
       "14244         0.00          -1.0         -1     RP         -0.1  "
      ]
     },
     "execution_count": 25,
     "metadata": {},
     "output_type": "execute_result"
    }
   ],
   "source": [
    "games_df[games_df['genre'].isna()]"
   ]
  },
  {
   "cell_type": "code",
   "execution_count": 26,
   "metadata": {},
   "outputs": [
    {
     "data": {
      "text/html": [
       "<div>\n",
       "<style scoped>\n",
       "    .dataframe tbody tr th:only-of-type {\n",
       "        vertical-align: middle;\n",
       "    }\n",
       "\n",
       "    .dataframe tbody tr th {\n",
       "        vertical-align: top;\n",
       "    }\n",
       "\n",
       "    .dataframe thead th {\n",
       "        text-align: right;\n",
       "    }\n",
       "</style>\n",
       "<table border=\"1\" class=\"dataframe\">\n",
       "  <thead>\n",
       "    <tr style=\"text-align: right;\">\n",
       "      <th></th>\n",
       "      <th>name</th>\n",
       "      <th>platform</th>\n",
       "      <th>year_of_release</th>\n",
       "      <th>genre</th>\n",
       "      <th>na_sales</th>\n",
       "      <th>eu_sales</th>\n",
       "      <th>jp_sales</th>\n",
       "      <th>other_sales</th>\n",
       "      <th>critic_score</th>\n",
       "      <th>user_score</th>\n",
       "      <th>rating</th>\n",
       "      <th>cs_ten_rate</th>\n",
       "    </tr>\n",
       "  </thead>\n",
       "  <tbody>\n",
       "    <tr>\n",
       "      <th>659</th>\n",
       "      <td>NaN</td>\n",
       "      <td>GEN</td>\n",
       "      <td>1993.0</td>\n",
       "      <td>NaN</td>\n",
       "      <td>1.78</td>\n",
       "      <td>0.53</td>\n",
       "      <td>0.00</td>\n",
       "      <td>0.08</td>\n",
       "      <td>-1.0</td>\n",
       "      <td>-1</td>\n",
       "      <td>RP</td>\n",
       "      <td>-0.1</td>\n",
       "    </tr>\n",
       "    <tr>\n",
       "      <th>14244</th>\n",
       "      <td>NaN</td>\n",
       "      <td>GEN</td>\n",
       "      <td>1993.0</td>\n",
       "      <td>NaN</td>\n",
       "      <td>0.00</td>\n",
       "      <td>0.00</td>\n",
       "      <td>0.03</td>\n",
       "      <td>0.00</td>\n",
       "      <td>-1.0</td>\n",
       "      <td>-1</td>\n",
       "      <td>RP</td>\n",
       "      <td>-0.1</td>\n",
       "    </tr>\n",
       "  </tbody>\n",
       "</table>\n",
       "</div>"
      ],
      "text/plain": [
       "      name platform  year_of_release genre  na_sales  eu_sales  jp_sales  \\\n",
       "659    NaN      GEN           1993.0   NaN      1.78      0.53      0.00   \n",
       "14244  NaN      GEN           1993.0   NaN      0.00      0.00      0.03   \n",
       "\n",
       "       other_sales  critic_score user_score rating  cs_ten_rate  \n",
       "659           0.08          -1.0         -1     RP         -0.1  \n",
       "14244         0.00          -1.0         -1     RP         -0.1  "
      ]
     },
     "execution_count": 26,
     "metadata": {},
     "output_type": "execute_result"
    }
   ],
   "source": [
    "games_df[games_df['name'].isna()]"
   ]
  },
  {
   "cell_type": "code",
   "execution_count": 27,
   "metadata": {},
   "outputs": [],
   "source": [
    "games_df=games_df.dropna(subset=['genre'])"
   ]
  },
  {
   "cell_type": "code",
   "execution_count": 28,
   "metadata": {},
   "outputs": [
    {
     "name": "stdout",
     "output_type": "stream",
     "text": [
      "Количество пропусков в столбце name 0\n"
     ]
    }
   ],
   "source": [
    "print('Количество пропусков в столбце name', len(games_df[games_df['name'].isna()]))"
   ]
  },
  {
   "cell_type": "markdown",
   "metadata": {},
   "source": [
    "Пропуски в столбцах name и genre находятся в одних и тех же строчках. Удалим эти 2 строки, как не информативные."
   ]
  },
  {
   "cell_type": "code",
   "execution_count": 29,
   "metadata": {},
   "outputs": [
    {
     "data": {
      "text/plain": [
       "array(['Sports', 'Platform', 'Racing', 'Role-Playing', 'Puzzle', 'Misc',\n",
       "       'Shooter', 'Simulation', 'Action', 'Fighting', 'Adventure',\n",
       "       'Strategy'], dtype=object)"
      ]
     },
     "execution_count": 29,
     "metadata": {},
     "output_type": "execute_result"
    }
   ],
   "source": [
    "games_df['genre'].unique()"
   ]
  },
  {
   "cell_type": "code",
   "execution_count": 30,
   "metadata": {},
   "outputs": [
    {
     "data": {
      "text/plain": [
       "Action          3369\n",
       "Sports          2348\n",
       "Misc            1750\n",
       "Role-Playing    1498\n",
       "Shooter         1323\n",
       "Adventure       1303\n",
       "Racing          1249\n",
       "Platform         888\n",
       "Simulation       873\n",
       "Fighting         849\n",
       "Strategy         683\n",
       "Puzzle           580\n",
       "Name: genre, dtype: int64"
      ]
     },
     "execution_count": 30,
     "metadata": {},
     "output_type": "execute_result"
    }
   ],
   "source": [
    "games_df['genre'].value_counts()"
   ]
  },
  {
   "cell_type": "markdown",
   "metadata": {},
   "source": [
    "Измененим тип данных по году выпуска игры и оценке юзеров для удобства дальнейшей работы с данными."
   ]
  },
  {
   "cell_type": "markdown",
   "metadata": {},
   "source": [
    "### Изменение типов данных"
   ]
  },
  {
   "cell_type": "code",
   "execution_count": 31,
   "metadata": {},
   "outputs": [
    {
     "name": "stdout",
     "output_type": "stream",
     "text": [
      "<class 'pandas.core.frame.DataFrame'>\n",
      "Int64Index: 16713 entries, 0 to 16714\n",
      "Data columns (total 12 columns):\n",
      " #   Column           Non-Null Count  Dtype  \n",
      "---  ------           --------------  -----  \n",
      " 0   name             16713 non-null  object \n",
      " 1   platform         16713 non-null  object \n",
      " 2   year_of_release  16713 non-null  int16  \n",
      " 3   genre            16713 non-null  object \n",
      " 4   na_sales         16713 non-null  float64\n",
      " 5   eu_sales         16713 non-null  float64\n",
      " 6   jp_sales         16713 non-null  float64\n",
      " 7   other_sales      16713 non-null  float64\n",
      " 8   critic_score     16713 non-null  float64\n",
      " 9   user_score       16713 non-null  float64\n",
      " 10  rating           16713 non-null  object \n",
      " 11  cs_ten_rate      16713 non-null  float64\n",
      "dtypes: float64(7), int16(1), object(4)\n",
      "memory usage: 1.6+ MB\n"
     ]
    }
   ],
   "source": [
    "games_df['year_of_release'] = games_df['year_of_release'].astype('int16')\n",
    "games_df['user_score'] = games_df['user_score'].astype('float64')\n",
    "games_df.info()"
   ]
  },
  {
   "cell_type": "markdown",
   "metadata": {},
   "source": [
    "### Добавление столбцов"
   ]
  },
  {
   "cell_type": "markdown",
   "metadata": {},
   "source": [
    "Создадим столбец с общими данными продаж"
   ]
  },
  {
   "cell_type": "code",
   "execution_count": 32,
   "metadata": {},
   "outputs": [
    {
     "name": "stdout",
     "output_type": "stream",
     "text": [
      "<class 'pandas.core.frame.DataFrame'>\n",
      "Int64Index: 16713 entries, 0 to 16714\n",
      "Data columns (total 13 columns):\n",
      " #   Column           Non-Null Count  Dtype  \n",
      "---  ------           --------------  -----  \n",
      " 0   name             16713 non-null  object \n",
      " 1   platform         16713 non-null  object \n",
      " 2   year_of_release  16713 non-null  int16  \n",
      " 3   genre            16713 non-null  object \n",
      " 4   na_sales         16713 non-null  float64\n",
      " 5   eu_sales         16713 non-null  float64\n",
      " 6   jp_sales         16713 non-null  float64\n",
      " 7   other_sales      16713 non-null  float64\n",
      " 8   critic_score     16713 non-null  float64\n",
      " 9   user_score       16713 non-null  float64\n",
      " 10  rating           16713 non-null  object \n",
      " 11  cs_ten_rate      16713 non-null  float64\n",
      " 12  total_sales      16713 non-null  float64\n",
      "dtypes: float64(8), int16(1), object(4)\n",
      "memory usage: 1.7+ MB\n"
     ]
    }
   ],
   "source": [
    "games_df['total_sales'] = (\n",
    "                          games_df['na_sales'] + \n",
    "                          games_df['eu_sales'] + \n",
    "                          games_df['jp_sales'] + \n",
    "                          games_df['other_sales']\n",
    ")\n",
    "games_df.info()"
   ]
  },
  {
   "cell_type": "code",
   "execution_count": 33,
   "metadata": {},
   "outputs": [
    {
     "data": {
      "text/html": [
       "<div>\n",
       "<style scoped>\n",
       "    .dataframe tbody tr th:only-of-type {\n",
       "        vertical-align: middle;\n",
       "    }\n",
       "\n",
       "    .dataframe tbody tr th {\n",
       "        vertical-align: top;\n",
       "    }\n",
       "\n",
       "    .dataframe thead th {\n",
       "        text-align: right;\n",
       "    }\n",
       "</style>\n",
       "<table border=\"1\" class=\"dataframe\">\n",
       "  <thead>\n",
       "    <tr style=\"text-align: right;\">\n",
       "      <th></th>\n",
       "      <th>name</th>\n",
       "      <th>platform</th>\n",
       "      <th>year_of_release</th>\n",
       "      <th>genre</th>\n",
       "      <th>na_sales</th>\n",
       "      <th>eu_sales</th>\n",
       "      <th>jp_sales</th>\n",
       "      <th>other_sales</th>\n",
       "      <th>critic_score</th>\n",
       "      <th>user_score</th>\n",
       "      <th>rating</th>\n",
       "      <th>cs_ten_rate</th>\n",
       "      <th>total_sales</th>\n",
       "      <th>main_plat</th>\n",
       "    </tr>\n",
       "  </thead>\n",
       "  <tbody>\n",
       "    <tr>\n",
       "      <th>0</th>\n",
       "      <td>Wii Sports</td>\n",
       "      <td>Wii</td>\n",
       "      <td>2006</td>\n",
       "      <td>Sports</td>\n",
       "      <td>41.36</td>\n",
       "      <td>28.96</td>\n",
       "      <td>3.77</td>\n",
       "      <td>8.45</td>\n",
       "      <td>76.0</td>\n",
       "      <td>8.0</td>\n",
       "      <td>E</td>\n",
       "      <td>7.6</td>\n",
       "      <td>82.54</td>\n",
       "      <td>Nintendo</td>\n",
       "    </tr>\n",
       "    <tr>\n",
       "      <th>1</th>\n",
       "      <td>Super Mario Bros.</td>\n",
       "      <td>NES</td>\n",
       "      <td>1985</td>\n",
       "      <td>Platform</td>\n",
       "      <td>29.08</td>\n",
       "      <td>3.58</td>\n",
       "      <td>6.81</td>\n",
       "      <td>0.77</td>\n",
       "      <td>-1.0</td>\n",
       "      <td>-1.0</td>\n",
       "      <td>RP</td>\n",
       "      <td>-0.1</td>\n",
       "      <td>40.24</td>\n",
       "      <td>Nintendo</td>\n",
       "    </tr>\n",
       "    <tr>\n",
       "      <th>2</th>\n",
       "      <td>Mario Kart Wii</td>\n",
       "      <td>Wii</td>\n",
       "      <td>2008</td>\n",
       "      <td>Racing</td>\n",
       "      <td>15.68</td>\n",
       "      <td>12.76</td>\n",
       "      <td>3.79</td>\n",
       "      <td>3.29</td>\n",
       "      <td>82.0</td>\n",
       "      <td>8.3</td>\n",
       "      <td>E</td>\n",
       "      <td>8.2</td>\n",
       "      <td>35.52</td>\n",
       "      <td>Nintendo</td>\n",
       "    </tr>\n",
       "    <tr>\n",
       "      <th>3</th>\n",
       "      <td>Wii Sports Resort</td>\n",
       "      <td>Wii</td>\n",
       "      <td>2009</td>\n",
       "      <td>Sports</td>\n",
       "      <td>15.61</td>\n",
       "      <td>10.93</td>\n",
       "      <td>3.28</td>\n",
       "      <td>2.95</td>\n",
       "      <td>80.0</td>\n",
       "      <td>8.0</td>\n",
       "      <td>E</td>\n",
       "      <td>8.0</td>\n",
       "      <td>32.77</td>\n",
       "      <td>Nintendo</td>\n",
       "    </tr>\n",
       "    <tr>\n",
       "      <th>4</th>\n",
       "      <td>Pokemon Red/Pokemon Blue</td>\n",
       "      <td>GB</td>\n",
       "      <td>1996</td>\n",
       "      <td>Role-Playing</td>\n",
       "      <td>11.27</td>\n",
       "      <td>8.89</td>\n",
       "      <td>10.22</td>\n",
       "      <td>1.00</td>\n",
       "      <td>-1.0</td>\n",
       "      <td>-1.0</td>\n",
       "      <td>RP</td>\n",
       "      <td>-0.1</td>\n",
       "      <td>31.38</td>\n",
       "      <td>Nintendo</td>\n",
       "    </tr>\n",
       "  </tbody>\n",
       "</table>\n",
       "</div>"
      ],
      "text/plain": [
       "                       name platform  year_of_release         genre  na_sales  \\\n",
       "0                Wii Sports      Wii             2006        Sports     41.36   \n",
       "1         Super Mario Bros.      NES             1985      Platform     29.08   \n",
       "2            Mario Kart Wii      Wii             2008        Racing     15.68   \n",
       "3         Wii Sports Resort      Wii             2009        Sports     15.61   \n",
       "4  Pokemon Red/Pokemon Blue       GB             1996  Role-Playing     11.27   \n",
       "\n",
       "   eu_sales  jp_sales  other_sales  critic_score  user_score rating  \\\n",
       "0     28.96      3.77         8.45          76.0         8.0      E   \n",
       "1      3.58      6.81         0.77          -1.0        -1.0     RP   \n",
       "2     12.76      3.79         3.29          82.0         8.3      E   \n",
       "3     10.93      3.28         2.95          80.0         8.0      E   \n",
       "4      8.89     10.22         1.00          -1.0        -1.0     RP   \n",
       "\n",
       "   cs_ten_rate  total_sales main_plat  \n",
       "0          7.6        82.54  Nintendo  \n",
       "1         -0.1        40.24  Nintendo  \n",
       "2          8.2        35.52  Nintendo  \n",
       "3          8.0        32.77  Nintendo  \n",
       "4         -0.1        31.38  Nintendo  "
      ]
     },
     "execution_count": 33,
     "metadata": {},
     "output_type": "execute_result"
    }
   ],
   "source": [
    "# функция категоризации платформ укрупненно\n",
    "def game_platform(name):\n",
    "    if name in ['PS2', 'PS3', 'PS', 'PS4', 'PSP', 'PSC']:\n",
    "        return 'PS'\n",
    "    elif name == \"PC\":\n",
    "        return 'PC'\n",
    "    elif name in ['X360', 'XOne', 'XBox', 'XB']:\n",
    "        return 'Xbox'\n",
    "    elif name in ['DS', '3DS', 'Wii', 'WiiU', 'GB', 'GBA', 'NES', 'N64', 'SNES', 'GC']:\n",
    "        return 'Nintendo'\n",
    "    else:\n",
    "        return 'Other'\n",
    "games_df['main_plat'] = games_df['platform'].apply(game_platform)\n",
    "games_df.head(5)"
   ]
  },
  {
   "cell_type": "code",
   "execution_count": 34,
   "metadata": {},
   "outputs": [
    {
     "data": {
      "text/html": [
       "<div>\n",
       "<style scoped>\n",
       "    .dataframe tbody tr th:only-of-type {\n",
       "        vertical-align: middle;\n",
       "    }\n",
       "\n",
       "    .dataframe tbody tr th {\n",
       "        vertical-align: top;\n",
       "    }\n",
       "\n",
       "    .dataframe thead th {\n",
       "        text-align: right;\n",
       "    }\n",
       "</style>\n",
       "<table border=\"1\" class=\"dataframe\">\n",
       "  <thead>\n",
       "    <tr style=\"text-align: right;\">\n",
       "      <th></th>\n",
       "      <th>name</th>\n",
       "      <th>platform</th>\n",
       "      <th>year_of_release</th>\n",
       "      <th>genre</th>\n",
       "      <th>na_sales</th>\n",
       "      <th>eu_sales</th>\n",
       "      <th>jp_sales</th>\n",
       "      <th>other_sales</th>\n",
       "      <th>critic_score</th>\n",
       "      <th>user_score</th>\n",
       "      <th>rating</th>\n",
       "      <th>cs_ten_rate</th>\n",
       "      <th>total_sales</th>\n",
       "      <th>main_plat</th>\n",
       "      <th>dev_type</th>\n",
       "    </tr>\n",
       "  </thead>\n",
       "  <tbody>\n",
       "    <tr>\n",
       "      <th>0</th>\n",
       "      <td>Wii Sports</td>\n",
       "      <td>Wii</td>\n",
       "      <td>2006</td>\n",
       "      <td>Sports</td>\n",
       "      <td>41.36</td>\n",
       "      <td>28.96</td>\n",
       "      <td>3.77</td>\n",
       "      <td>8.45</td>\n",
       "      <td>76.0</td>\n",
       "      <td>8.0</td>\n",
       "      <td>E</td>\n",
       "      <td>7.6</td>\n",
       "      <td>82.54</td>\n",
       "      <td>Nintendo</td>\n",
       "      <td>console</td>\n",
       "    </tr>\n",
       "    <tr>\n",
       "      <th>1</th>\n",
       "      <td>Super Mario Bros.</td>\n",
       "      <td>NES</td>\n",
       "      <td>1985</td>\n",
       "      <td>Platform</td>\n",
       "      <td>29.08</td>\n",
       "      <td>3.58</td>\n",
       "      <td>6.81</td>\n",
       "      <td>0.77</td>\n",
       "      <td>-1.0</td>\n",
       "      <td>-1.0</td>\n",
       "      <td>RP</td>\n",
       "      <td>-0.1</td>\n",
       "      <td>40.24</td>\n",
       "      <td>Nintendo</td>\n",
       "      <td>console</td>\n",
       "    </tr>\n",
       "    <tr>\n",
       "      <th>2</th>\n",
       "      <td>Mario Kart Wii</td>\n",
       "      <td>Wii</td>\n",
       "      <td>2008</td>\n",
       "      <td>Racing</td>\n",
       "      <td>15.68</td>\n",
       "      <td>12.76</td>\n",
       "      <td>3.79</td>\n",
       "      <td>3.29</td>\n",
       "      <td>82.0</td>\n",
       "      <td>8.3</td>\n",
       "      <td>E</td>\n",
       "      <td>8.2</td>\n",
       "      <td>35.52</td>\n",
       "      <td>Nintendo</td>\n",
       "      <td>console</td>\n",
       "    </tr>\n",
       "    <tr>\n",
       "      <th>3</th>\n",
       "      <td>Wii Sports Resort</td>\n",
       "      <td>Wii</td>\n",
       "      <td>2009</td>\n",
       "      <td>Sports</td>\n",
       "      <td>15.61</td>\n",
       "      <td>10.93</td>\n",
       "      <td>3.28</td>\n",
       "      <td>2.95</td>\n",
       "      <td>80.0</td>\n",
       "      <td>8.0</td>\n",
       "      <td>E</td>\n",
       "      <td>8.0</td>\n",
       "      <td>32.77</td>\n",
       "      <td>Nintendo</td>\n",
       "      <td>console</td>\n",
       "    </tr>\n",
       "    <tr>\n",
       "      <th>4</th>\n",
       "      <td>Pokemon Red/Pokemon Blue</td>\n",
       "      <td>GB</td>\n",
       "      <td>1996</td>\n",
       "      <td>Role-Playing</td>\n",
       "      <td>11.27</td>\n",
       "      <td>8.89</td>\n",
       "      <td>10.22</td>\n",
       "      <td>1.00</td>\n",
       "      <td>-1.0</td>\n",
       "      <td>-1.0</td>\n",
       "      <td>RP</td>\n",
       "      <td>-0.1</td>\n",
       "      <td>31.38</td>\n",
       "      <td>Nintendo</td>\n",
       "      <td>portative</td>\n",
       "    </tr>\n",
       "  </tbody>\n",
       "</table>\n",
       "</div>"
      ],
      "text/plain": [
       "                       name platform  year_of_release         genre  na_sales  \\\n",
       "0                Wii Sports      Wii             2006        Sports     41.36   \n",
       "1         Super Mario Bros.      NES             1985      Platform     29.08   \n",
       "2            Mario Kart Wii      Wii             2008        Racing     15.68   \n",
       "3         Wii Sports Resort      Wii             2009        Sports     15.61   \n",
       "4  Pokemon Red/Pokemon Blue       GB             1996  Role-Playing     11.27   \n",
       "\n",
       "   eu_sales  jp_sales  other_sales  critic_score  user_score rating  \\\n",
       "0     28.96      3.77         8.45          76.0         8.0      E   \n",
       "1      3.58      6.81         0.77          -1.0        -1.0     RP   \n",
       "2     12.76      3.79         3.29          82.0         8.3      E   \n",
       "3     10.93      3.28         2.95          80.0         8.0      E   \n",
       "4      8.89     10.22         1.00          -1.0        -1.0     RP   \n",
       "\n",
       "   cs_ten_rate  total_sales main_plat   dev_type  \n",
       "0          7.6        82.54  Nintendo    console  \n",
       "1         -0.1        40.24  Nintendo    console  \n",
       "2          8.2        35.52  Nintendo    console  \n",
       "3          8.0        32.77  Nintendo    console  \n",
       "4         -0.1        31.38  Nintendo  portative  "
      ]
     },
     "execution_count": 34,
     "metadata": {},
     "output_type": "execute_result"
    }
   ],
   "source": [
    "def game_type(name):\n",
    "    if name in ['PS2', 'PS3', 'PS', 'PS4', 'X360', 'XOne', \n",
    "                  'Xbox', 'Wii', 'NES', 'N64', 'SNES', 'GC',\n",
    "                  '2600', 'GEN', 'DC', 'XB']:\n",
    "        return 'console'\n",
    "\n",
    "    elif name in ['PSP', 'PSV', 'DS', '3DS', 'WiiU', 'SAT', 'GBA', 'GB']:\n",
    "        return 'portative'\n",
    "    elif name == \"PC\":\n",
    "        return 'PC'  \n",
    "    else:\n",
    "        return 'Other'\n",
    "games_df['dev_type'] = games_df['platform'].apply(game_type)\n",
    "games_df.head(5)"
   ]
  },
  {
   "cell_type": "markdown",
   "metadata": {},
   "source": [
    "**Вывод**: произведена предподговка данных: название столбцов к нижнему регистру, заменены типы данных, изучены пропуски и дубликаты. Добавлен столбец с общей суммой продаж и 100бальная метрика оценки для пользователей."
   ]
  },
  {
   "cell_type": "markdown",
   "metadata": {},
   "source": [
    "## Исследователький анализ данных"
   ]
  },
  {
   "cell_type": "markdown",
   "metadata": {},
   "source": [
    "### По годам"
   ]
  },
  {
   "cell_type": "code",
   "execution_count": 35,
   "metadata": {},
   "outputs": [
    {
     "data": {
      "image/png": "[encoded data removed]",
      "text/plain": [
       "<Figure size 1080x360 with 1 Axes>"
      ]
     },
     "metadata": {
      "needs_background": "light"
     },
     "output_type": "display_data"
    }
   ],
   "source": [
    "games_df = games_df.query('year_of_release > 1980 and year_of_release < 2017')\n",
    "games_df.groupby('year_of_release')['name'].count().plot(\n",
    "            kind='bar', y='name', figsize=(15,5), edgecolor='black')\n",
    "plt.title('Количество выпускаемых игр от 1980 года по 2016 год')\n",
    "plt.xticks(rotation=40)\n",
    "plt.xlabel('')\n",
    "plt.show()"
   ]
  },
  {
   "cell_type": "code",
   "execution_count": 36,
   "metadata": {},
   "outputs": [
    {
     "data": {
      "image/png": "[encoded data removed]",
      "text/plain": [
       "<Figure size 1080x360 with 1 Axes>"
      ]
     },
     "metadata": {
      "needs_background": "light"
     },
     "output_type": "display_data"
    }
   ],
   "source": [
    "\n",
    "games_df.groupby('year_of_release')['total_sales'].sum().plot(\n",
    "            kind='bar', y='total_sales', figsize=(15,5), edgecolor='black')\n",
    "plt.title('Продажи видеоигры 1980 года по 2016 год')\n",
    "plt.xticks(rotation=40)\n",
    "plt.xlabel('')\n",
    "plt.show()"
   ]
  },
  {
   "cell_type": "markdown",
   "metadata": {},
   "source": [
    "Игровая индустрия начинает активно развиваться с 1994 года. Пик развития приходится на 2006 - 2011 года, далее мы видим спад и с 2012 года некоторое выравнивание близкое к уровню 2001 - 2006 годов. Это может быть связано развитием игр на смартфонах."
   ]
  },
  {
   "cell_type": "markdown",
   "metadata": {},
   "source": [
    "### Анализ успешности платформ"
   ]
  },
  {
   "cell_type": "code",
   "execution_count": 37,
   "metadata": {},
   "outputs": [
    {
     "data": {
      "image/png": "[encoded data removed]",
      "text/plain": [
       "<Figure size 1080x720 with 1 Axes>"
      ]
     },
     "metadata": {
      "needs_background": "light"
     },
     "output_type": "display_data"
    }
   ],
   "source": [
    "games_df.groupby('platform')['total_sales'].sum().sort_values(ascending=True).plot(\n",
    "            kind='barh', y='total_sales', figsize=(15,10), edgecolor='black'\n",
    ")\n",
    "plt.title('Общие продажи игр на различных платформах')\n",
    "plt.xticks(rotation=40)\n",
    "plt.xlabel('')\n",
    "plt.ylabel('')\n",
    "plt.show()"
   ]
  },
  {
   "cell_type": "markdown",
   "metadata": {},
   "source": [
    "ТОП5: PS2, PS3, Xbox360, Wii и DS.  \n",
    "Самая популярная платформа - PlayStation.  \n",
    "Добавим еще один столбец, чтобы изучить успешность по платформам укрупненно."
   ]
  },
  {
   "cell_type": "code",
   "execution_count": 38,
   "metadata": {
    "scrolled": true
   },
   "outputs": [
    {
     "data": {
      "text/plain": [
       "<AxesSubplot:>"
      ]
     },
     "execution_count": 38,
     "metadata": {},
     "output_type": "execute_result"
    },
    {
     "data": {
      "image/png": "[encoded data removed]",
      "text/plain": [
       "<Figure size 576x360 with 1 Axes>"
      ]
     },
     "metadata": {
      "needs_background": "light"
     },
     "output_type": "display_data"
    }
   ],
   "source": [
    "games_df['main_plat'].hist(bins=10, figsize=(8,5))"
   ]
  },
  {
   "cell_type": "code",
   "execution_count": 39,
   "metadata": {},
   "outputs": [
    {
     "data": {
      "text/html": [
       "<div>\n",
       "<style scoped>\n",
       "    .dataframe tbody tr th:only-of-type {\n",
       "        vertical-align: middle;\n",
       "    }\n",
       "\n",
       "    .dataframe tbody tr th {\n",
       "        vertical-align: top;\n",
       "    }\n",
       "\n",
       "    .dataframe thead th {\n",
       "        text-align: right;\n",
       "    }\n",
       "</style>\n",
       "<table border=\"1\" class=\"dataframe\">\n",
       "  <thead>\n",
       "    <tr style=\"text-align: right;\">\n",
       "      <th></th>\n",
       "      <th>count</th>\n",
       "      <th>sum</th>\n",
       "    </tr>\n",
       "    <tr>\n",
       "      <th>main_plat</th>\n",
       "      <th></th>\n",
       "      <th></th>\n",
       "    </tr>\n",
       "  </thead>\n",
       "  <tbody>\n",
       "    <tr>\n",
       "      <th>Nintendo</th>\n",
       "      <td>6169</td>\n",
       "      <td>3467.10</td>\n",
       "    </tr>\n",
       "    <tr>\n",
       "      <th>Other</th>\n",
       "      <td>819</td>\n",
       "      <td>211.85</td>\n",
       "    </tr>\n",
       "    <tr>\n",
       "      <th>PC</th>\n",
       "      <td>957</td>\n",
       "      <td>255.76</td>\n",
       "    </tr>\n",
       "    <tr>\n",
       "      <th>PS</th>\n",
       "      <td>6208</td>\n",
       "      <td>3496.15</td>\n",
       "    </tr>\n",
       "    <tr>\n",
       "      <th>Xbox</th>\n",
       "      <td>2282</td>\n",
       "      <td>1372.13</td>\n",
       "    </tr>\n",
       "  </tbody>\n",
       "</table>\n",
       "</div>"
      ],
      "text/plain": [
       "           count      sum\n",
       "main_plat                \n",
       "Nintendo    6169  3467.10\n",
       "Other        819   211.85\n",
       "PC           957   255.76\n",
       "PS          6208  3496.15\n",
       "Xbox        2282  1372.13"
      ]
     },
     "execution_count": 39,
     "metadata": {},
     "output_type": "execute_result"
    }
   ],
   "source": [
    "games_df.groupby('main_plat')['total_sales'].agg([ 'count', 'sum'])"
   ]
  },
  {
   "cell_type": "code",
   "execution_count": 40,
   "metadata": {},
   "outputs": [
    {
     "data": {
      "text/plain": [
       "<AxesSubplot:>"
      ]
     },
     "execution_count": 40,
     "metadata": {},
     "output_type": "execute_result"
    },
    {
     "data": {
      "image/png": "[encoded data removed]",
      "text/plain": [
       "<Figure size 720x360 with 1 Axes>"
      ]
     },
     "metadata": {
      "needs_background": "light"
     },
     "output_type": "display_data"
    }
   ],
   "source": [
    "games_df['dev_type'].hist(bins=7, figsize=(10,5))"
   ]
  },
  {
   "cell_type": "code",
   "execution_count": 41,
   "metadata": {},
   "outputs": [
    {
     "data": {
      "text/html": [
       "<div>\n",
       "<style scoped>\n",
       "    .dataframe tbody tr th:only-of-type {\n",
       "        vertical-align: middle;\n",
       "    }\n",
       "\n",
       "    .dataframe tbody tr th {\n",
       "        vertical-align: top;\n",
       "    }\n",
       "\n",
       "    .dataframe thead th {\n",
       "        text-align: right;\n",
       "    }\n",
       "</style>\n",
       "<table border=\"1\" class=\"dataframe\">\n",
       "  <thead>\n",
       "    <tr style=\"text-align: right;\">\n",
       "      <th></th>\n",
       "      <th>count</th>\n",
       "      <th>sum</th>\n",
       "    </tr>\n",
       "    <tr>\n",
       "      <th>dev_type</th>\n",
       "      <th></th>\n",
       "      <th></th>\n",
       "    </tr>\n",
       "  </thead>\n",
       "  <tbody>\n",
       "    <tr>\n",
       "      <th>Other</th>\n",
       "      <td>31</td>\n",
       "      <td>5.05</td>\n",
       "    </tr>\n",
       "    <tr>\n",
       "      <th>PC</th>\n",
       "      <td>957</td>\n",
       "      <td>255.76</td>\n",
       "    </tr>\n",
       "    <tr>\n",
       "      <th>console</th>\n",
       "      <td>9964</td>\n",
       "      <td>6455.16</td>\n",
       "    </tr>\n",
       "    <tr>\n",
       "      <th>portative</th>\n",
       "      <td>5483</td>\n",
       "      <td>2087.02</td>\n",
       "    </tr>\n",
       "  </tbody>\n",
       "</table>\n",
       "</div>"
      ],
      "text/plain": [
       "           count      sum\n",
       "dev_type                 \n",
       "Other         31     5.05\n",
       "PC           957   255.76\n",
       "console     9964  6455.16\n",
       "portative   5483  2087.02"
      ]
     },
     "execution_count": 41,
     "metadata": {},
     "output_type": "execute_result"
    }
   ],
   "source": [
    "games_df.groupby('dev_type')['total_sales'].agg([ 'count', 'sum'])"
   ]
  },
  {
   "cell_type": "markdown",
   "metadata": {},
   "source": [
    "### Анализ успешности платформ(портативная, стационарная) по годам"
   ]
  },
  {
   "cell_type": "code",
   "execution_count": 42,
   "metadata": {},
   "outputs": [
    {
     "data": {
      "image/png": "[encoded data removed]",
      "text/plain": [
       "<Figure size 1080x360 with 1 Axes>"
      ]
     },
     "metadata": {
      "needs_background": "light"
     },
     "output_type": "display_data"
    }
   ],
   "source": [
    "portable_df = games_df.query('dev_type == \"portative\"')\n",
    "portable_df.groupby('year_of_release')['name'].count().plot(\n",
    "            kind='bar', y='name', figsize=(15,5), edgecolor='black')\n",
    "plt.title('Количество выпускаемых игр для портативных девайсов')\n",
    "plt.xticks(rotation=40)\n",
    "plt.xlabel('')\n",
    "plt.show()"
   ]
  },
  {
   "cell_type": "code",
   "execution_count": 43,
   "metadata": {},
   "outputs": [
    {
     "data": {
      "image/png": "[encoded data removed]",
      "text/plain": [
       "<Figure size 1080x360 with 1 Axes>"
      ]
     },
     "metadata": {
      "needs_background": "light"
     },
     "output_type": "display_data"
    }
   ],
   "source": [
    "portable_df.groupby('year_of_release')['total_sales'].sum().plot(\n",
    "            kind='bar', y='total_sales', figsize=(15,5), edgecolor='black')\n",
    "plt.title('Продажи игр для портативных девайсов')\n",
    "plt.xticks(rotation=40)\n",
    "plt.xlabel('')\n",
    "plt.show()"
   ]
  },
  {
   "cell_type": "markdown",
   "metadata": {},
   "source": [
    "**Вывод** популярность игр для портативных девайсов приходится на период с 2007 по 2010 в части кол-ва выпускаемых игр и на период с 2005 по 2008 в части рекордных доходов от продаж игр. Начиная с 2010 продажи на спад. Соотвественно нет смысла делать ставку на игры для портативных девайсов, поскольку их популярность сходит на нет."
   ]
  },
  {
   "cell_type": "code",
   "execution_count": 44,
   "metadata": {},
   "outputs": [
    {
     "data": {
      "text/html": [
       "<div>\n",
       "<style scoped>\n",
       "    .dataframe tbody tr th:only-of-type {\n",
       "        vertical-align: middle;\n",
       "    }\n",
       "\n",
       "    .dataframe tbody tr th {\n",
       "        vertical-align: top;\n",
       "    }\n",
       "\n",
       "    .dataframe thead th {\n",
       "        text-align: right;\n",
       "    }\n",
       "</style>\n",
       "<table border=\"1\" class=\"dataframe\">\n",
       "  <thead>\n",
       "    <tr style=\"text-align: right;\">\n",
       "      <th></th>\n",
       "      <th>name</th>\n",
       "      <th>platform</th>\n",
       "      <th>year_of_release</th>\n",
       "      <th>genre</th>\n",
       "      <th>na_sales</th>\n",
       "      <th>eu_sales</th>\n",
       "      <th>jp_sales</th>\n",
       "      <th>other_sales</th>\n",
       "      <th>critic_score</th>\n",
       "      <th>user_score</th>\n",
       "      <th>rating</th>\n",
       "      <th>cs_ten_rate</th>\n",
       "      <th>total_sales</th>\n",
       "      <th>main_plat</th>\n",
       "      <th>dev_type</th>\n",
       "    </tr>\n",
       "  </thead>\n",
       "  <tbody>\n",
       "    <tr>\n",
       "      <th>5</th>\n",
       "      <td>Tetris</td>\n",
       "      <td>GB</td>\n",
       "      <td>1989</td>\n",
       "      <td>Puzzle</td>\n",
       "      <td>23.20</td>\n",
       "      <td>2.26</td>\n",
       "      <td>4.22</td>\n",
       "      <td>0.58</td>\n",
       "      <td>-1.0</td>\n",
       "      <td>-1.0</td>\n",
       "      <td>RP</td>\n",
       "      <td>-0.1</td>\n",
       "      <td>30.26</td>\n",
       "      <td>Nintendo</td>\n",
       "      <td>portative</td>\n",
       "    </tr>\n",
       "    <tr>\n",
       "      <th>21</th>\n",
       "      <td>Super Mario Land</td>\n",
       "      <td>GB</td>\n",
       "      <td>1989</td>\n",
       "      <td>Platform</td>\n",
       "      <td>10.83</td>\n",
       "      <td>2.71</td>\n",
       "      <td>4.18</td>\n",
       "      <td>0.42</td>\n",
       "      <td>-1.0</td>\n",
       "      <td>-1.0</td>\n",
       "      <td>RP</td>\n",
       "      <td>-0.1</td>\n",
       "      <td>18.14</td>\n",
       "      <td>Nintendo</td>\n",
       "      <td>portative</td>\n",
       "    </tr>\n",
       "    <tr>\n",
       "      <th>172</th>\n",
       "      <td>Dr. Mario</td>\n",
       "      <td>GB</td>\n",
       "      <td>1989</td>\n",
       "      <td>Puzzle</td>\n",
       "      <td>2.18</td>\n",
       "      <td>0.96</td>\n",
       "      <td>2.00</td>\n",
       "      <td>0.20</td>\n",
       "      <td>-1.0</td>\n",
       "      <td>-1.0</td>\n",
       "      <td>RP</td>\n",
       "      <td>-0.1</td>\n",
       "      <td>5.34</td>\n",
       "      <td>Nintendo</td>\n",
       "      <td>portative</td>\n",
       "    </tr>\n",
       "    <tr>\n",
       "      <th>779</th>\n",
       "      <td>Golf</td>\n",
       "      <td>GB</td>\n",
       "      <td>1989</td>\n",
       "      <td>Sports</td>\n",
       "      <td>0.83</td>\n",
       "      <td>0.33</td>\n",
       "      <td>0.92</td>\n",
       "      <td>0.04</td>\n",
       "      <td>-1.0</td>\n",
       "      <td>-1.0</td>\n",
       "      <td>RP</td>\n",
       "      <td>-0.1</td>\n",
       "      <td>2.12</td>\n",
       "      <td>Nintendo</td>\n",
       "      <td>portative</td>\n",
       "    </tr>\n",
       "    <tr>\n",
       "      <th>857</th>\n",
       "      <td>Tennis</td>\n",
       "      <td>GB</td>\n",
       "      <td>1989</td>\n",
       "      <td>Sports</td>\n",
       "      <td>0.75</td>\n",
       "      <td>0.30</td>\n",
       "      <td>0.90</td>\n",
       "      <td>0.04</td>\n",
       "      <td>-1.0</td>\n",
       "      <td>-1.0</td>\n",
       "      <td>RP</td>\n",
       "      <td>-0.1</td>\n",
       "      <td>1.99</td>\n",
       "      <td>Nintendo</td>\n",
       "      <td>portative</td>\n",
       "    </tr>\n",
       "  </tbody>\n",
       "</table>\n",
       "</div>"
      ],
      "text/plain": [
       "                 name platform  year_of_release     genre  na_sales  eu_sales  \\\n",
       "5              Tetris       GB             1989    Puzzle     23.20      2.26   \n",
       "21   Super Mario Land       GB             1989  Platform     10.83      2.71   \n",
       "172         Dr. Mario       GB             1989    Puzzle      2.18      0.96   \n",
       "779              Golf       GB             1989    Sports      0.83      0.33   \n",
       "857            Tennis       GB             1989    Sports      0.75      0.30   \n",
       "\n",
       "     jp_sales  other_sales  critic_score  user_score rating  cs_ten_rate  \\\n",
       "5        4.22         0.58          -1.0        -1.0     RP         -0.1   \n",
       "21       4.18         0.42          -1.0        -1.0     RP         -0.1   \n",
       "172      2.00         0.20          -1.0        -1.0     RP         -0.1   \n",
       "779      0.92         0.04          -1.0        -1.0     RP         -0.1   \n",
       "857      0.90         0.04          -1.0        -1.0     RP         -0.1   \n",
       "\n",
       "     total_sales main_plat   dev_type  \n",
       "5          30.26  Nintendo  portative  \n",
       "21         18.14  Nintendo  portative  \n",
       "172         5.34  Nintendo  portative  \n",
       "779         2.12  Nintendo  portative  \n",
       "857         1.99  Nintendo  portative  "
      ]
     },
     "execution_count": 44,
     "metadata": {},
     "output_type": "execute_result"
    }
   ],
   "source": [
    "portable_df.query('year_of_release == 1989').head(5)"
   ]
  },
  {
   "cell_type": "code",
   "execution_count": 45,
   "metadata": {},
   "outputs": [
    {
     "data": {
      "text/html": [
       "<div>\n",
       "<style scoped>\n",
       "    .dataframe tbody tr th:only-of-type {\n",
       "        vertical-align: middle;\n",
       "    }\n",
       "\n",
       "    .dataframe tbody tr th {\n",
       "        vertical-align: top;\n",
       "    }\n",
       "\n",
       "    .dataframe thead th {\n",
       "        text-align: right;\n",
       "    }\n",
       "</style>\n",
       "<table border=\"1\" class=\"dataframe\">\n",
       "  <thead>\n",
       "    <tr style=\"text-align: right;\">\n",
       "      <th></th>\n",
       "      <th>name</th>\n",
       "      <th>platform</th>\n",
       "      <th>year_of_release</th>\n",
       "      <th>genre</th>\n",
       "      <th>na_sales</th>\n",
       "      <th>eu_sales</th>\n",
       "      <th>jp_sales</th>\n",
       "      <th>other_sales</th>\n",
       "      <th>critic_score</th>\n",
       "      <th>user_score</th>\n",
       "      <th>rating</th>\n",
       "      <th>cs_ten_rate</th>\n",
       "      <th>total_sales</th>\n",
       "      <th>main_plat</th>\n",
       "      <th>dev_type</th>\n",
       "    </tr>\n",
       "  </thead>\n",
       "  <tbody>\n",
       "    <tr>\n",
       "      <th>4</th>\n",
       "      <td>Pokemon Red/Pokemon Blue</td>\n",
       "      <td>GB</td>\n",
       "      <td>1996</td>\n",
       "      <td>Role-Playing</td>\n",
       "      <td>11.27</td>\n",
       "      <td>8.89</td>\n",
       "      <td>10.22</td>\n",
       "      <td>1.00</td>\n",
       "      <td>-1.0</td>\n",
       "      <td>-1.0</td>\n",
       "      <td>RP</td>\n",
       "      <td>-0.1</td>\n",
       "      <td>31.38</td>\n",
       "      <td>Nintendo</td>\n",
       "      <td>portative</td>\n",
       "    </tr>\n",
       "    <tr>\n",
       "      <th>5</th>\n",
       "      <td>Tetris</td>\n",
       "      <td>GB</td>\n",
       "      <td>1989</td>\n",
       "      <td>Puzzle</td>\n",
       "      <td>23.20</td>\n",
       "      <td>2.26</td>\n",
       "      <td>4.22</td>\n",
       "      <td>0.58</td>\n",
       "      <td>-1.0</td>\n",
       "      <td>-1.0</td>\n",
       "      <td>RP</td>\n",
       "      <td>-0.1</td>\n",
       "      <td>30.26</td>\n",
       "      <td>Nintendo</td>\n",
       "      <td>portative</td>\n",
       "    </tr>\n",
       "    <tr>\n",
       "      <th>6</th>\n",
       "      <td>New Super Mario Bros.</td>\n",
       "      <td>DS</td>\n",
       "      <td>2006</td>\n",
       "      <td>Platform</td>\n",
       "      <td>11.28</td>\n",
       "      <td>9.14</td>\n",
       "      <td>6.50</td>\n",
       "      <td>2.88</td>\n",
       "      <td>89.0</td>\n",
       "      <td>8.5</td>\n",
       "      <td>E</td>\n",
       "      <td>8.9</td>\n",
       "      <td>29.80</td>\n",
       "      <td>Nintendo</td>\n",
       "      <td>portative</td>\n",
       "    </tr>\n",
       "    <tr>\n",
       "      <th>10</th>\n",
       "      <td>Nintendogs</td>\n",
       "      <td>DS</td>\n",
       "      <td>2005</td>\n",
       "      <td>Simulation</td>\n",
       "      <td>9.05</td>\n",
       "      <td>10.95</td>\n",
       "      <td>1.93</td>\n",
       "      <td>2.74</td>\n",
       "      <td>-1.0</td>\n",
       "      <td>-1.0</td>\n",
       "      <td>RP</td>\n",
       "      <td>-0.1</td>\n",
       "      <td>24.67</td>\n",
       "      <td>Nintendo</td>\n",
       "      <td>portative</td>\n",
       "    </tr>\n",
       "    <tr>\n",
       "      <th>11</th>\n",
       "      <td>Mario Kart DS</td>\n",
       "      <td>DS</td>\n",
       "      <td>2005</td>\n",
       "      <td>Racing</td>\n",
       "      <td>9.71</td>\n",
       "      <td>7.47</td>\n",
       "      <td>4.13</td>\n",
       "      <td>1.90</td>\n",
       "      <td>91.0</td>\n",
       "      <td>8.6</td>\n",
       "      <td>E</td>\n",
       "      <td>9.1</td>\n",
       "      <td>23.21</td>\n",
       "      <td>Nintendo</td>\n",
       "      <td>portative</td>\n",
       "    </tr>\n",
       "    <tr>\n",
       "      <th>12</th>\n",
       "      <td>Pokemon Gold/Pokemon Silver</td>\n",
       "      <td>GB</td>\n",
       "      <td>1999</td>\n",
       "      <td>Role-Playing</td>\n",
       "      <td>9.00</td>\n",
       "      <td>6.18</td>\n",
       "      <td>7.20</td>\n",
       "      <td>0.71</td>\n",
       "      <td>-1.0</td>\n",
       "      <td>-1.0</td>\n",
       "      <td>RP</td>\n",
       "      <td>-0.1</td>\n",
       "      <td>23.09</td>\n",
       "      <td>Nintendo</td>\n",
       "      <td>portative</td>\n",
       "    </tr>\n",
       "    <tr>\n",
       "      <th>19</th>\n",
       "      <td>Brain Age: Train Your Brain in Minutes a Day</td>\n",
       "      <td>DS</td>\n",
       "      <td>2005</td>\n",
       "      <td>Misc</td>\n",
       "      <td>4.74</td>\n",
       "      <td>9.20</td>\n",
       "      <td>4.16</td>\n",
       "      <td>2.04</td>\n",
       "      <td>77.0</td>\n",
       "      <td>7.9</td>\n",
       "      <td>E</td>\n",
       "      <td>7.7</td>\n",
       "      <td>20.14</td>\n",
       "      <td>Nintendo</td>\n",
       "      <td>portative</td>\n",
       "    </tr>\n",
       "  </tbody>\n",
       "</table>\n",
       "</div>"
      ],
      "text/plain": [
       "                                            name platform  year_of_release  \\\n",
       "4                       Pokemon Red/Pokemon Blue       GB             1996   \n",
       "5                                         Tetris       GB             1989   \n",
       "6                          New Super Mario Bros.       DS             2006   \n",
       "10                                    Nintendogs       DS             2005   \n",
       "11                                 Mario Kart DS       DS             2005   \n",
       "12                   Pokemon Gold/Pokemon Silver       GB             1999   \n",
       "19  Brain Age: Train Your Brain in Minutes a Day       DS             2005   \n",
       "\n",
       "           genre  na_sales  eu_sales  jp_sales  other_sales  critic_score  \\\n",
       "4   Role-Playing     11.27      8.89     10.22         1.00          -1.0   \n",
       "5         Puzzle     23.20      2.26      4.22         0.58          -1.0   \n",
       "6       Platform     11.28      9.14      6.50         2.88          89.0   \n",
       "10    Simulation      9.05     10.95      1.93         2.74          -1.0   \n",
       "11        Racing      9.71      7.47      4.13         1.90          91.0   \n",
       "12  Role-Playing      9.00      6.18      7.20         0.71          -1.0   \n",
       "19          Misc      4.74      9.20      4.16         2.04          77.0   \n",
       "\n",
       "    user_score rating  cs_ten_rate  total_sales main_plat   dev_type  \n",
       "4         -1.0     RP         -0.1        31.38  Nintendo  portative  \n",
       "5         -1.0     RP         -0.1        30.26  Nintendo  portative  \n",
       "6          8.5      E          8.9        29.80  Nintendo  portative  \n",
       "10        -1.0     RP         -0.1        24.67  Nintendo  portative  \n",
       "11         8.6      E          9.1        23.21  Nintendo  portative  \n",
       "12        -1.0     RP         -0.1        23.09  Nintendo  portative  \n",
       "19         7.9      E          7.7        20.14  Nintendo  portative  "
      ]
     },
     "execution_count": 45,
     "metadata": {},
     "output_type": "execute_result"
    }
   ],
   "source": [
    "portable_df.head(7)"
   ]
  },
  {
   "cell_type": "markdown",
   "metadata": {},
   "source": [
    "Аномальные продажи за 1989 обьясняются суперпопулярностью игры Тетрис в тот период"
   ]
  },
  {
   "cell_type": "code",
   "execution_count": 46,
   "metadata": {},
   "outputs": [
    {
     "data": {
      "image/png": "[encoded data removed]",
      "text/plain": [
       "<Figure size 1080x360 with 1 Axes>"
      ]
     },
     "metadata": {
      "needs_background": "light"
     },
     "output_type": "display_data"
    }
   ],
   "source": [
    "console_df = games_df.query('dev_type == \"console\"')\n",
    "console_df.groupby('year_of_release')['name'].count().plot(\n",
    "            kind='bar', y='name', figsize=(15,5), edgecolor='black')\n",
    "plt.title('Количество выпускаемых игр для консолей')\n",
    "plt.xticks(rotation=40)\n",
    "plt.xlabel('')\n",
    "plt.show()"
   ]
  },
  {
   "cell_type": "code",
   "execution_count": 47,
   "metadata": {},
   "outputs": [
    {
     "data": {
      "image/png": "[encoded data removed]",
      "text/plain": [
       "<Figure size 1080x360 with 1 Axes>"
      ]
     },
     "metadata": {
      "needs_background": "light"
     },
     "output_type": "display_data"
    }
   ],
   "source": [
    "console_df.groupby('year_of_release')['total_sales'].sum().plot(\n",
    "            kind='bar', y='total_sales', figsize=(15,5), edgecolor='black')\n",
    "plt.title('Продажи игр для консолей')\n",
    "plt.xticks(rotation=40)\n",
    "plt.xlabel('')\n",
    "plt.show()"
   ]
  },
  {
   "cell_type": "code",
   "execution_count": 48,
   "metadata": {},
   "outputs": [
    {
     "data": {
      "text/html": [
       "<div>\n",
       "<style scoped>\n",
       "    .dataframe tbody tr th:only-of-type {\n",
       "        vertical-align: middle;\n",
       "    }\n",
       "\n",
       "    .dataframe tbody tr th {\n",
       "        vertical-align: top;\n",
       "    }\n",
       "\n",
       "    .dataframe thead th {\n",
       "        text-align: right;\n",
       "    }\n",
       "</style>\n",
       "<table border=\"1\" class=\"dataframe\">\n",
       "  <thead>\n",
       "    <tr style=\"text-align: right;\">\n",
       "      <th></th>\n",
       "      <th>name</th>\n",
       "      <th>platform</th>\n",
       "      <th>year_of_release</th>\n",
       "      <th>genre</th>\n",
       "      <th>na_sales</th>\n",
       "      <th>eu_sales</th>\n",
       "      <th>jp_sales</th>\n",
       "      <th>other_sales</th>\n",
       "      <th>critic_score</th>\n",
       "      <th>user_score</th>\n",
       "      <th>rating</th>\n",
       "      <th>cs_ten_rate</th>\n",
       "      <th>total_sales</th>\n",
       "      <th>main_plat</th>\n",
       "      <th>dev_type</th>\n",
       "    </tr>\n",
       "  </thead>\n",
       "  <tbody>\n",
       "    <tr>\n",
       "      <th>0</th>\n",
       "      <td>Wii Sports</td>\n",
       "      <td>Wii</td>\n",
       "      <td>2006</td>\n",
       "      <td>Sports</td>\n",
       "      <td>41.36</td>\n",
       "      <td>28.96</td>\n",
       "      <td>3.77</td>\n",
       "      <td>8.45</td>\n",
       "      <td>76.0</td>\n",
       "      <td>8.0</td>\n",
       "      <td>E</td>\n",
       "      <td>7.6</td>\n",
       "      <td>82.54</td>\n",
       "      <td>Nintendo</td>\n",
       "      <td>console</td>\n",
       "    </tr>\n",
       "    <tr>\n",
       "      <th>1</th>\n",
       "      <td>Super Mario Bros.</td>\n",
       "      <td>NES</td>\n",
       "      <td>1985</td>\n",
       "      <td>Platform</td>\n",
       "      <td>29.08</td>\n",
       "      <td>3.58</td>\n",
       "      <td>6.81</td>\n",
       "      <td>0.77</td>\n",
       "      <td>-1.0</td>\n",
       "      <td>-1.0</td>\n",
       "      <td>RP</td>\n",
       "      <td>-0.1</td>\n",
       "      <td>40.24</td>\n",
       "      <td>Nintendo</td>\n",
       "      <td>console</td>\n",
       "    </tr>\n",
       "    <tr>\n",
       "      <th>2</th>\n",
       "      <td>Mario Kart Wii</td>\n",
       "      <td>Wii</td>\n",
       "      <td>2008</td>\n",
       "      <td>Racing</td>\n",
       "      <td>15.68</td>\n",
       "      <td>12.76</td>\n",
       "      <td>3.79</td>\n",
       "      <td>3.29</td>\n",
       "      <td>82.0</td>\n",
       "      <td>8.3</td>\n",
       "      <td>E</td>\n",
       "      <td>8.2</td>\n",
       "      <td>35.52</td>\n",
       "      <td>Nintendo</td>\n",
       "      <td>console</td>\n",
       "    </tr>\n",
       "    <tr>\n",
       "      <th>3</th>\n",
       "      <td>Wii Sports Resort</td>\n",
       "      <td>Wii</td>\n",
       "      <td>2009</td>\n",
       "      <td>Sports</td>\n",
       "      <td>15.61</td>\n",
       "      <td>10.93</td>\n",
       "      <td>3.28</td>\n",
       "      <td>2.95</td>\n",
       "      <td>80.0</td>\n",
       "      <td>8.0</td>\n",
       "      <td>E</td>\n",
       "      <td>8.0</td>\n",
       "      <td>32.77</td>\n",
       "      <td>Nintendo</td>\n",
       "      <td>console</td>\n",
       "    </tr>\n",
       "    <tr>\n",
       "      <th>7</th>\n",
       "      <td>Wii Play</td>\n",
       "      <td>Wii</td>\n",
       "      <td>2006</td>\n",
       "      <td>Misc</td>\n",
       "      <td>13.96</td>\n",
       "      <td>9.18</td>\n",
       "      <td>2.93</td>\n",
       "      <td>2.84</td>\n",
       "      <td>58.0</td>\n",
       "      <td>6.6</td>\n",
       "      <td>E</td>\n",
       "      <td>5.8</td>\n",
       "      <td>28.91</td>\n",
       "      <td>Nintendo</td>\n",
       "      <td>console</td>\n",
       "    </tr>\n",
       "    <tr>\n",
       "      <th>8</th>\n",
       "      <td>New Super Mario Bros. Wii</td>\n",
       "      <td>Wii</td>\n",
       "      <td>2009</td>\n",
       "      <td>Platform</td>\n",
       "      <td>14.44</td>\n",
       "      <td>6.94</td>\n",
       "      <td>4.70</td>\n",
       "      <td>2.24</td>\n",
       "      <td>87.0</td>\n",
       "      <td>8.4</td>\n",
       "      <td>E</td>\n",
       "      <td>8.7</td>\n",
       "      <td>28.32</td>\n",
       "      <td>Nintendo</td>\n",
       "      <td>console</td>\n",
       "    </tr>\n",
       "    <tr>\n",
       "      <th>9</th>\n",
       "      <td>Duck Hunt</td>\n",
       "      <td>NES</td>\n",
       "      <td>1984</td>\n",
       "      <td>Shooter</td>\n",
       "      <td>26.93</td>\n",
       "      <td>0.63</td>\n",
       "      <td>0.28</td>\n",
       "      <td>0.47</td>\n",
       "      <td>-1.0</td>\n",
       "      <td>-1.0</td>\n",
       "      <td>RP</td>\n",
       "      <td>-0.1</td>\n",
       "      <td>28.31</td>\n",
       "      <td>Nintendo</td>\n",
       "      <td>console</td>\n",
       "    </tr>\n",
       "  </tbody>\n",
       "</table>\n",
       "</div>"
      ],
      "text/plain": [
       "                        name platform  year_of_release     genre  na_sales  \\\n",
       "0                 Wii Sports      Wii             2006    Sports     41.36   \n",
       "1          Super Mario Bros.      NES             1985  Platform     29.08   \n",
       "2             Mario Kart Wii      Wii             2008    Racing     15.68   \n",
       "3          Wii Sports Resort      Wii             2009    Sports     15.61   \n",
       "7                   Wii Play      Wii             2006      Misc     13.96   \n",
       "8  New Super Mario Bros. Wii      Wii             2009  Platform     14.44   \n",
       "9                  Duck Hunt      NES             1984   Shooter     26.93   \n",
       "\n",
       "   eu_sales  jp_sales  other_sales  critic_score  user_score rating  \\\n",
       "0     28.96      3.77         8.45          76.0         8.0      E   \n",
       "1      3.58      6.81         0.77          -1.0        -1.0     RP   \n",
       "2     12.76      3.79         3.29          82.0         8.3      E   \n",
       "3     10.93      3.28         2.95          80.0         8.0      E   \n",
       "7      9.18      2.93         2.84          58.0         6.6      E   \n",
       "8      6.94      4.70         2.24          87.0         8.4      E   \n",
       "9      0.63      0.28         0.47          -1.0        -1.0     RP   \n",
       "\n",
       "   cs_ten_rate  total_sales main_plat dev_type  \n",
       "0          7.6        82.54  Nintendo  console  \n",
       "1         -0.1        40.24  Nintendo  console  \n",
       "2          8.2        35.52  Nintendo  console  \n",
       "3          8.0        32.77  Nintendo  console  \n",
       "7          5.8        28.91  Nintendo  console  \n",
       "8          8.7        28.32  Nintendo  console  \n",
       "9         -0.1        28.31  Nintendo  console  "
      ]
     },
     "execution_count": 48,
     "metadata": {},
     "output_type": "execute_result"
    }
   ],
   "source": [
    "console_df.head(7)"
   ]
  },
  {
   "cell_type": "markdown",
   "metadata": {},
   "source": [
    "Расцвет игровых консолей и игр к ним начался во второй половине девяностых. Самым урожайным отрезком, как в части количество выпущенных игр, так и в части дохода с продаж можно считать период с 2002 по 2011. С 2012 произошёл спад и стабилизация на определенном уровне, который держался до 2015. Данные за 2016 только частичные, поэтому это не показатель спада.  \n",
    "**Вывод: игры для консолей являются более перспективными в части продаж, нежели портативные игры**"
   ]
  },
  {
   "cell_type": "code",
   "execution_count": 49,
   "metadata": {},
   "outputs": [
    {
     "data": {
      "image/png": "[encoded data removed]",
      "text/plain": [
       "<Figure size 1080x360 with 1 Axes>"
      ]
     },
     "metadata": {
      "needs_background": "light"
     },
     "output_type": "display_data"
    }
   ],
   "source": [
    "pc_df = games_df.query('dev_type == \"PC\"')\n",
    "pc_df.groupby('year_of_release')['name'].count().plot(\n",
    "            kind='bar', y='name', figsize=(15,5), edgecolor='black')\n",
    "plt.title('Количество выпускаемых игр для ПК')\n",
    "plt.xticks(rotation=40)\n",
    "plt.xlabel('')\n",
    "plt.show()"
   ]
  },
  {
   "cell_type": "code",
   "execution_count": 50,
   "metadata": {},
   "outputs": [
    {
     "data": {
      "image/png": "[encoded data removed]",
      "text/plain": [
       "<Figure size 1080x360 with 1 Axes>"
      ]
     },
     "metadata": {
      "needs_background": "light"
     },
     "output_type": "display_data"
    }
   ],
   "source": [
    "pc_df = games_df.query('dev_type == \"PC\"')\n",
    "pc_df.groupby('year_of_release')['total_sales'].sum().plot(\n",
    "            kind='bar', y='total_sales', figsize=(15,5), edgecolor='black')\n",
    "plt.title('Продажи игр для ПК')\n",
    "plt.xticks(rotation=40)\n",
    "plt.xlabel('')\n",
    "plt.show()"
   ]
  },
  {
   "cell_type": "code",
   "execution_count": 51,
   "metadata": {},
   "outputs": [
    {
     "data": {
      "text/html": [
       "<div>\n",
       "<style scoped>\n",
       "    .dataframe tbody tr th:only-of-type {\n",
       "        vertical-align: middle;\n",
       "    }\n",
       "\n",
       "    .dataframe tbody tr th {\n",
       "        vertical-align: top;\n",
       "    }\n",
       "\n",
       "    .dataframe thead th {\n",
       "        text-align: right;\n",
       "    }\n",
       "</style>\n",
       "<table border=\"1\" class=\"dataframe\">\n",
       "  <thead>\n",
       "    <tr style=\"text-align: right;\">\n",
       "      <th></th>\n",
       "      <th>name</th>\n",
       "      <th>platform</th>\n",
       "      <th>year_of_release</th>\n",
       "      <th>genre</th>\n",
       "      <th>na_sales</th>\n",
       "      <th>eu_sales</th>\n",
       "      <th>jp_sales</th>\n",
       "      <th>other_sales</th>\n",
       "      <th>critic_score</th>\n",
       "      <th>user_score</th>\n",
       "      <th>rating</th>\n",
       "      <th>cs_ten_rate</th>\n",
       "      <th>total_sales</th>\n",
       "      <th>main_plat</th>\n",
       "      <th>dev_type</th>\n",
       "    </tr>\n",
       "  </thead>\n",
       "  <tbody>\n",
       "    <tr>\n",
       "      <th>313</th>\n",
       "      <td>The Elder Scrolls V: Skyrim</td>\n",
       "      <td>PC</td>\n",
       "      <td>2011</td>\n",
       "      <td>Role-Playing</td>\n",
       "      <td>1.16</td>\n",
       "      <td>2.12</td>\n",
       "      <td>0.0</td>\n",
       "      <td>0.60</td>\n",
       "      <td>94.0</td>\n",
       "      <td>8.1</td>\n",
       "      <td>M</td>\n",
       "      <td>9.4</td>\n",
       "      <td>3.88</td>\n",
       "      <td>PC</td>\n",
       "      <td>PC</td>\n",
       "    </tr>\n",
       "    <tr>\n",
       "      <th>480</th>\n",
       "      <td>Star Wars: The Old Republic</td>\n",
       "      <td>PC</td>\n",
       "      <td>2011</td>\n",
       "      <td>Role-Playing</td>\n",
       "      <td>1.58</td>\n",
       "      <td>1.01</td>\n",
       "      <td>0.0</td>\n",
       "      <td>0.38</td>\n",
       "      <td>85.0</td>\n",
       "      <td>5.9</td>\n",
       "      <td>T</td>\n",
       "      <td>8.5</td>\n",
       "      <td>2.97</td>\n",
       "      <td>PC</td>\n",
       "      <td>PC</td>\n",
       "    </tr>\n",
       "    <tr>\n",
       "      <th>538</th>\n",
       "      <td>Battlefield 3</td>\n",
       "      <td>PC</td>\n",
       "      <td>2011</td>\n",
       "      <td>Shooter</td>\n",
       "      <td>0.89</td>\n",
       "      <td>1.43</td>\n",
       "      <td>0.0</td>\n",
       "      <td>0.46</td>\n",
       "      <td>89.0</td>\n",
       "      <td>7.5</td>\n",
       "      <td>M</td>\n",
       "      <td>8.9</td>\n",
       "      <td>2.78</td>\n",
       "      <td>PC</td>\n",
       "      <td>PC</td>\n",
       "    </tr>\n",
       "    <tr>\n",
       "      <th>1040</th>\n",
       "      <td>Call of Duty: Modern Warfare 3</td>\n",
       "      <td>PC</td>\n",
       "      <td>2011</td>\n",
       "      <td>Shooter</td>\n",
       "      <td>0.41</td>\n",
       "      <td>0.98</td>\n",
       "      <td>0.0</td>\n",
       "      <td>0.32</td>\n",
       "      <td>78.0</td>\n",
       "      <td>2.5</td>\n",
       "      <td>M</td>\n",
       "      <td>7.8</td>\n",
       "      <td>1.71</td>\n",
       "      <td>PC</td>\n",
       "      <td>PC</td>\n",
       "    </tr>\n",
       "    <tr>\n",
       "      <th>1252</th>\n",
       "      <td>Football Manager 2012</td>\n",
       "      <td>PC</td>\n",
       "      <td>2011</td>\n",
       "      <td>Sports</td>\n",
       "      <td>0.02</td>\n",
       "      <td>1.16</td>\n",
       "      <td>0.0</td>\n",
       "      <td>0.33</td>\n",
       "      <td>84.0</td>\n",
       "      <td>8.0</td>\n",
       "      <td>E</td>\n",
       "      <td>8.4</td>\n",
       "      <td>1.51</td>\n",
       "      <td>PC</td>\n",
       "      <td>PC</td>\n",
       "    </tr>\n",
       "  </tbody>\n",
       "</table>\n",
       "</div>"
      ],
      "text/plain": [
       "                                name platform  year_of_release         genre  \\\n",
       "313      The Elder Scrolls V: Skyrim       PC             2011  Role-Playing   \n",
       "480      Star Wars: The Old Republic       PC             2011  Role-Playing   \n",
       "538                    Battlefield 3       PC             2011       Shooter   \n",
       "1040  Call of Duty: Modern Warfare 3       PC             2011       Shooter   \n",
       "1252           Football Manager 2012       PC             2011        Sports   \n",
       "\n",
       "      na_sales  eu_sales  jp_sales  other_sales  critic_score  user_score  \\\n",
       "313       1.16      2.12       0.0         0.60          94.0         8.1   \n",
       "480       1.58      1.01       0.0         0.38          85.0         5.9   \n",
       "538       0.89      1.43       0.0         0.46          89.0         7.5   \n",
       "1040      0.41      0.98       0.0         0.32          78.0         2.5   \n",
       "1252      0.02      1.16       0.0         0.33          84.0         8.0   \n",
       "\n",
       "     rating  cs_ten_rate  total_sales main_plat dev_type  \n",
       "313       M          9.4         3.88        PC       PC  \n",
       "480       T          8.5         2.97        PC       PC  \n",
       "538       M          8.9         2.78        PC       PC  \n",
       "1040      M          7.8         1.71        PC       PC  \n",
       "1252      E          8.4         1.51        PC       PC  "
      ]
     },
     "execution_count": 51,
     "metadata": {},
     "output_type": "execute_result"
    }
   ],
   "source": [
    "pc_df.query('year_of_release == 2011').head(5)"
   ]
  },
  {
   "cell_type": "code",
   "execution_count": 52,
   "metadata": {},
   "outputs": [
    {
     "data": {
      "text/html": [
       "<div>\n",
       "<style scoped>\n",
       "    .dataframe tbody tr th:only-of-type {\n",
       "        vertical-align: middle;\n",
       "    }\n",
       "\n",
       "    .dataframe tbody tr th {\n",
       "        vertical-align: top;\n",
       "    }\n",
       "\n",
       "    .dataframe thead th {\n",
       "        text-align: right;\n",
       "    }\n",
       "</style>\n",
       "<table border=\"1\" class=\"dataframe\">\n",
       "  <thead>\n",
       "    <tr style=\"text-align: right;\">\n",
       "      <th></th>\n",
       "      <th>name</th>\n",
       "      <th>platform</th>\n",
       "      <th>year_of_release</th>\n",
       "      <th>genre</th>\n",
       "      <th>na_sales</th>\n",
       "      <th>eu_sales</th>\n",
       "      <th>jp_sales</th>\n",
       "      <th>other_sales</th>\n",
       "      <th>critic_score</th>\n",
       "      <th>user_score</th>\n",
       "      <th>rating</th>\n",
       "      <th>cs_ten_rate</th>\n",
       "      <th>total_sales</th>\n",
       "      <th>main_plat</th>\n",
       "      <th>dev_type</th>\n",
       "    </tr>\n",
       "  </thead>\n",
       "  <tbody>\n",
       "    <tr>\n",
       "      <th>85</th>\n",
       "      <td>The Sims 3</td>\n",
       "      <td>PC</td>\n",
       "      <td>2009</td>\n",
       "      <td>Simulation</td>\n",
       "      <td>0.99</td>\n",
       "      <td>6.42</td>\n",
       "      <td>0.00</td>\n",
       "      <td>0.60</td>\n",
       "      <td>86.0</td>\n",
       "      <td>7.6</td>\n",
       "      <td>T</td>\n",
       "      <td>8.6</td>\n",
       "      <td>8.01</td>\n",
       "      <td>PC</td>\n",
       "      <td>PC</td>\n",
       "    </tr>\n",
       "    <tr>\n",
       "      <th>138</th>\n",
       "      <td>World of Warcraft</td>\n",
       "      <td>PC</td>\n",
       "      <td>2004</td>\n",
       "      <td>Role-Playing</td>\n",
       "      <td>0.08</td>\n",
       "      <td>6.21</td>\n",
       "      <td>0.00</td>\n",
       "      <td>0.00</td>\n",
       "      <td>93.0</td>\n",
       "      <td>7.3</td>\n",
       "      <td>T</td>\n",
       "      <td>9.3</td>\n",
       "      <td>6.29</td>\n",
       "      <td>PC</td>\n",
       "      <td>PC</td>\n",
       "    </tr>\n",
       "    <tr>\n",
       "      <th>192</th>\n",
       "      <td>Diablo III</td>\n",
       "      <td>PC</td>\n",
       "      <td>2012</td>\n",
       "      <td>Role-Playing</td>\n",
       "      <td>2.44</td>\n",
       "      <td>2.16</td>\n",
       "      <td>0.00</td>\n",
       "      <td>0.54</td>\n",
       "      <td>88.0</td>\n",
       "      <td>4.0</td>\n",
       "      <td>M</td>\n",
       "      <td>8.8</td>\n",
       "      <td>5.14</td>\n",
       "      <td>PC</td>\n",
       "      <td>PC</td>\n",
       "    </tr>\n",
       "    <tr>\n",
       "      <th>195</th>\n",
       "      <td>Microsoft Flight Simulator</td>\n",
       "      <td>PC</td>\n",
       "      <td>1996</td>\n",
       "      <td>Simulation</td>\n",
       "      <td>3.22</td>\n",
       "      <td>1.69</td>\n",
       "      <td>0.00</td>\n",
       "      <td>0.20</td>\n",
       "      <td>-1.0</td>\n",
       "      <td>-1.0</td>\n",
       "      <td>RP</td>\n",
       "      <td>-0.1</td>\n",
       "      <td>5.11</td>\n",
       "      <td>PC</td>\n",
       "      <td>PC</td>\n",
       "    </tr>\n",
       "    <tr>\n",
       "      <th>218</th>\n",
       "      <td>StarCraft II: Wings of Liberty</td>\n",
       "      <td>PC</td>\n",
       "      <td>2010</td>\n",
       "      <td>Strategy</td>\n",
       "      <td>2.57</td>\n",
       "      <td>1.68</td>\n",
       "      <td>0.00</td>\n",
       "      <td>0.58</td>\n",
       "      <td>93.0</td>\n",
       "      <td>8.2</td>\n",
       "      <td>T</td>\n",
       "      <td>9.3</td>\n",
       "      <td>4.83</td>\n",
       "      <td>PC</td>\n",
       "      <td>PC</td>\n",
       "    </tr>\n",
       "    <tr>\n",
       "      <th>273</th>\n",
       "      <td>Warcraft II: Tides of Darkness</td>\n",
       "      <td>PC</td>\n",
       "      <td>1995</td>\n",
       "      <td>Strategy</td>\n",
       "      <td>1.70</td>\n",
       "      <td>2.27</td>\n",
       "      <td>0.00</td>\n",
       "      <td>0.23</td>\n",
       "      <td>-1.0</td>\n",
       "      <td>-1.0</td>\n",
       "      <td>RP</td>\n",
       "      <td>-0.1</td>\n",
       "      <td>4.20</td>\n",
       "      <td>PC</td>\n",
       "      <td>PC</td>\n",
       "    </tr>\n",
       "    <tr>\n",
       "      <th>284</th>\n",
       "      <td>Half-Life</td>\n",
       "      <td>PC</td>\n",
       "      <td>1997</td>\n",
       "      <td>Shooter</td>\n",
       "      <td>4.03</td>\n",
       "      <td>0.00</td>\n",
       "      <td>0.09</td>\n",
       "      <td>0.00</td>\n",
       "      <td>96.0</td>\n",
       "      <td>9.1</td>\n",
       "      <td>M</td>\n",
       "      <td>9.6</td>\n",
       "      <td>4.12</td>\n",
       "      <td>PC</td>\n",
       "      <td>PC</td>\n",
       "    </tr>\n",
       "  </tbody>\n",
       "</table>\n",
       "</div>"
      ],
      "text/plain": [
       "                               name platform  year_of_release         genre  \\\n",
       "85                       The Sims 3       PC             2009    Simulation   \n",
       "138               World of Warcraft       PC             2004  Role-Playing   \n",
       "192                      Diablo III       PC             2012  Role-Playing   \n",
       "195      Microsoft Flight Simulator       PC             1996    Simulation   \n",
       "218  StarCraft II: Wings of Liberty       PC             2010      Strategy   \n",
       "273  Warcraft II: Tides of Darkness       PC             1995      Strategy   \n",
       "284                       Half-Life       PC             1997       Shooter   \n",
       "\n",
       "     na_sales  eu_sales  jp_sales  other_sales  critic_score  user_score  \\\n",
       "85       0.99      6.42      0.00         0.60          86.0         7.6   \n",
       "138      0.08      6.21      0.00         0.00          93.0         7.3   \n",
       "192      2.44      2.16      0.00         0.54          88.0         4.0   \n",
       "195      3.22      1.69      0.00         0.20          -1.0        -1.0   \n",
       "218      2.57      1.68      0.00         0.58          93.0         8.2   \n",
       "273      1.70      2.27      0.00         0.23          -1.0        -1.0   \n",
       "284      4.03      0.00      0.09         0.00          96.0         9.1   \n",
       "\n",
       "    rating  cs_ten_rate  total_sales main_plat dev_type  \n",
       "85       T          8.6         8.01        PC       PC  \n",
       "138      T          9.3         6.29        PC       PC  \n",
       "192      M          8.8         5.14        PC       PC  \n",
       "195     RP         -0.1         5.11        PC       PC  \n",
       "218      T          9.3         4.83        PC       PC  \n",
       "273     RP         -0.1         4.20        PC       PC  \n",
       "284      M          9.6         4.12        PC       PC  "
      ]
     },
     "execution_count": 52,
     "metadata": {},
     "output_type": "execute_result"
    }
   ],
   "source": [
    "pc_df.head(7)"
   ]
  },
  {
   "cell_type": "markdown",
   "metadata": {},
   "source": [
    "Продажи игр для ПК находятся на задворках игровой индустрии, при этом 2011 год стал наиболее урожайным в части продаж, в первую очередь благодаря игре The Elder Scrolls V: Skyrim."
   ]
  },
  {
   "cell_type": "markdown",
   "metadata": {},
   "source": [
    "### Сегментирование по платформам укрупненно"
   ]
  },
  {
   "cell_type": "markdown",
   "metadata": {},
   "source": [
    "**Nintendo**"
   ]
  },
  {
   "cell_type": "code",
   "execution_count": 53,
   "metadata": {},
   "outputs": [
    {
     "data": {
      "image/png": "[encoded data removed]",
      "text/plain": [
       "<Figure size 1080x360 with 1 Axes>"
      ]
     },
     "metadata": {
      "needs_background": "light"
     },
     "output_type": "display_data"
    }
   ],
   "source": [
    "nin_df = games_df.query('main_plat == \"Nintendo\"')\n",
    "nin_df.groupby('year_of_release')['name'].count().plot(\n",
    "            kind='bar', y='name', figsize=(15,5), edgecolor='black', grid=True)\n",
    "plt.title('Количество выпускаемых игр платформой Nintendo')\n",
    "plt.xticks(rotation=40)\n",
    "plt.xlabel('')\n",
    "plt.show()"
   ]
  },
  {
   "cell_type": "code",
   "execution_count": 54,
   "metadata": {},
   "outputs": [
    {
     "data": {
      "image/png": "[encoded data removed]",
      "text/plain": [
       "<Figure size 1080x360 with 1 Axes>"
      ]
     },
     "metadata": {
      "needs_background": "light"
     },
     "output_type": "display_data"
    }
   ],
   "source": [
    "nin_df.groupby('year_of_release')['total_sales'].sum().plot(\n",
    "            kind='bar', y='total_sales', figsize=(15,5), edgecolor='black', grid=True)\n",
    "plt.title('Продажи Nintendo')\n",
    "plt.xticks(rotation=40)\n",
    "plt.xlabel('')\n",
    "plt.show()"
   ]
  },
  {
   "cell_type": "markdown",
   "metadata": {},
   "source": [
    "**Playstation**"
   ]
  },
  {
   "cell_type": "code",
   "execution_count": 55,
   "metadata": {},
   "outputs": [
    {
     "data": {
      "image/png": "[encoded data removed]",
      "text/plain": [
       "<Figure size 1080x360 with 1 Axes>"
      ]
     },
     "metadata": {
      "needs_background": "light"
     },
     "output_type": "display_data"
    }
   ],
   "source": [
    "ps_df = games_df.query('main_plat == \"PS\"')\n",
    "ps_df.groupby('year_of_release')['name'].count().plot(\n",
    "            kind='bar', y='name', figsize=(15,5), edgecolor='black', grid=True)\n",
    "plt.title('Количество выпускаемых игр платформой Playstation')\n",
    "plt.xticks(rotation=40)\n",
    "plt.xlabel('')\n",
    "plt.show()"
   ]
  },
  {
   "cell_type": "code",
   "execution_count": 56,
   "metadata": {},
   "outputs": [
    {
     "data": {
      "image/png": "[encoded data removed]",
      "text/plain": [
       "<Figure size 1080x360 with 1 Axes>"
      ]
     },
     "metadata": {
      "needs_background": "light"
     },
     "output_type": "display_data"
    }
   ],
   "source": [
    "ps_df.groupby('year_of_release')['total_sales'].sum().plot(\n",
    "            kind='bar', y='total_sales', figsize=(15,5), edgecolor='black', grid=True)\n",
    "plt.title('Продажи PS')\n",
    "plt.xticks(rotation=40)\n",
    "plt.xlabel('')\n",
    "plt.show()"
   ]
  },
  {
   "cell_type": "markdown",
   "metadata": {},
   "source": [
    "**XBox**"
   ]
  },
  {
   "cell_type": "code",
   "execution_count": 57,
   "metadata": {},
   "outputs": [
    {
     "data": {
      "image/png": "[encoded data removed]",
      "text/plain": [
       "<Figure size 1080x360 with 1 Axes>"
      ]
     },
     "metadata": {
      "needs_background": "light"
     },
     "output_type": "display_data"
    }
   ],
   "source": [
    "xbox_df = games_df.query('main_plat == \"Xbox\"')\n",
    "xbox_df.groupby('year_of_release')['name'].count().plot(\n",
    "            kind='bar', y='name', figsize=(15,5), edgecolor='black', grid=True)\n",
    "plt.title('Количество выпускаемых игр платформой Xbox')\n",
    "plt.xticks(rotation=40)\n",
    "plt.xlabel('')\n",
    "plt.show()"
   ]
  },
  {
   "cell_type": "code",
   "execution_count": 58,
   "metadata": {},
   "outputs": [
    {
     "data": {
      "image/png": "[encoded data removed]",
      "text/plain": [
       "<Figure size 1080x360 with 1 Axes>"
      ]
     },
     "metadata": {
      "needs_background": "light"
     },
     "output_type": "display_data"
    }
   ],
   "source": [
    "xbox_df.groupby('year_of_release')['total_sales'].sum().plot(\n",
    "            kind='bar', y='total_sales', figsize=(15,5), edgecolor='black', grid=True)\n",
    "plt.title('Продажи Xbox')\n",
    "plt.xticks(rotation=40)\n",
    "plt.xlabel('')\n",
    "plt.show()"
   ]
  },
  {
   "cell_type": "markdown",
   "metadata": {},
   "source": [
    "### Топ 10 платформ по продажам"
   ]
  },
  {
   "cell_type": "code",
   "execution_count": 59,
   "metadata": {},
   "outputs": [
    {
     "data": {
      "text/html": [
       "<div>\n",
       "<style scoped>\n",
       "    .dataframe tbody tr th:only-of-type {\n",
       "        vertical-align: middle;\n",
       "    }\n",
       "\n",
       "    .dataframe tbody tr th {\n",
       "        vertical-align: top;\n",
       "    }\n",
       "\n",
       "    .dataframe thead th {\n",
       "        text-align: right;\n",
       "    }\n",
       "</style>\n",
       "<table border=\"1\" class=\"dataframe\">\n",
       "  <thead>\n",
       "    <tr style=\"text-align: right;\">\n",
       "      <th></th>\n",
       "      <th>total_sales</th>\n",
       "    </tr>\n",
       "    <tr>\n",
       "      <th>platform</th>\n",
       "      <th></th>\n",
       "    </tr>\n",
       "  </thead>\n",
       "  <tbody>\n",
       "    <tr>\n",
       "      <th>PS2</th>\n",
       "      <td>1233.56</td>\n",
       "    </tr>\n",
       "    <tr>\n",
       "      <th>X360</th>\n",
       "      <td>961.24</td>\n",
       "    </tr>\n",
       "    <tr>\n",
       "      <th>PS3</th>\n",
       "      <td>931.34</td>\n",
       "    </tr>\n",
       "    <tr>\n",
       "      <th>Wii</th>\n",
       "      <td>891.18</td>\n",
       "    </tr>\n",
       "    <tr>\n",
       "      <th>DS</th>\n",
       "      <td>802.78</td>\n",
       "    </tr>\n",
       "    <tr>\n",
       "      <th>PS</th>\n",
       "      <td>727.58</td>\n",
       "    </tr>\n",
       "    <tr>\n",
       "      <th>PS4</th>\n",
       "      <td>314.14</td>\n",
       "    </tr>\n",
       "    <tr>\n",
       "      <th>GBA</th>\n",
       "      <td>312.88</td>\n",
       "    </tr>\n",
       "    <tr>\n",
       "      <th>PSP</th>\n",
       "      <td>289.53</td>\n",
       "    </tr>\n",
       "    <tr>\n",
       "      <th>3DS</th>\n",
       "      <td>257.81</td>\n",
       "    </tr>\n",
       "  </tbody>\n",
       "</table>\n",
       "</div>"
      ],
      "text/plain": [
       "          total_sales\n",
       "platform             \n",
       "PS2           1233.56\n",
       "X360           961.24\n",
       "PS3            931.34\n",
       "Wii            891.18\n",
       "DS             802.78\n",
       "PS             727.58\n",
       "PS4            314.14\n",
       "GBA            312.88\n",
       "PSP            289.53\n",
       "3DS            257.81"
      ]
     },
     "execution_count": 59,
     "metadata": {},
     "output_type": "execute_result"
    }
   ],
   "source": [
    "games_df.groupby('platform')['total_sales'].sum().to_frame(\n",
    "                                                        'total_sales').sort_values(\n",
    "                                                        by='total_sales', ascending=False\n",
    "                                                        ).head(10)"
   ]
  },
  {
   "cell_type": "markdown",
   "metadata": {},
   "source": [
    "Абсолютный топ по продажам: PS2, X360, PS3, Wii, DS, PS  \n",
    "При этом на момент прогноза все эти плафтормы являются устаревшими и неактуальными."
   ]
  },
  {
   "cell_type": "code",
   "execution_count": 60,
   "metadata": {},
   "outputs": [
    {
     "data": {
      "text/html": [
       "<div>\n",
       "<style scoped>\n",
       "    .dataframe tbody tr th:only-of-type {\n",
       "        vertical-align: middle;\n",
       "    }\n",
       "\n",
       "    .dataframe tbody tr th {\n",
       "        vertical-align: top;\n",
       "    }\n",
       "\n",
       "    .dataframe thead th {\n",
       "        text-align: right;\n",
       "    }\n",
       "</style>\n",
       "<table border=\"1\" class=\"dataframe\">\n",
       "  <thead>\n",
       "    <tr style=\"text-align: right;\">\n",
       "      <th></th>\n",
       "      <th>name</th>\n",
       "      <th>platform</th>\n",
       "      <th>year_of_release</th>\n",
       "      <th>genre</th>\n",
       "      <th>na_sales</th>\n",
       "      <th>eu_sales</th>\n",
       "      <th>jp_sales</th>\n",
       "      <th>other_sales</th>\n",
       "      <th>critic_score</th>\n",
       "      <th>user_score</th>\n",
       "      <th>rating</th>\n",
       "      <th>cs_ten_rate</th>\n",
       "      <th>total_sales</th>\n",
       "      <th>main_plat</th>\n",
       "      <th>dev_type</th>\n",
       "      <th>life_time</th>\n",
       "    </tr>\n",
       "  </thead>\n",
       "  <tbody>\n",
       "    <tr>\n",
       "      <th>0</th>\n",
       "      <td>Wii Sports</td>\n",
       "      <td>Wii</td>\n",
       "      <td>2006</td>\n",
       "      <td>Sports</td>\n",
       "      <td>41.36</td>\n",
       "      <td>28.96</td>\n",
       "      <td>3.77</td>\n",
       "      <td>8.45</td>\n",
       "      <td>76.0</td>\n",
       "      <td>8.0</td>\n",
       "      <td>E</td>\n",
       "      <td>7.6</td>\n",
       "      <td>82.54</td>\n",
       "      <td>Nintendo</td>\n",
       "      <td>console</td>\n",
       "      <td>10</td>\n",
       "    </tr>\n",
       "    <tr>\n",
       "      <th>1</th>\n",
       "      <td>Super Mario Bros.</td>\n",
       "      <td>NES</td>\n",
       "      <td>1985</td>\n",
       "      <td>Platform</td>\n",
       "      <td>29.08</td>\n",
       "      <td>3.58</td>\n",
       "      <td>6.81</td>\n",
       "      <td>0.77</td>\n",
       "      <td>-1.0</td>\n",
       "      <td>-1.0</td>\n",
       "      <td>RP</td>\n",
       "      <td>-0.1</td>\n",
       "      <td>40.24</td>\n",
       "      <td>Nintendo</td>\n",
       "      <td>console</td>\n",
       "      <td>11</td>\n",
       "    </tr>\n",
       "    <tr>\n",
       "      <th>2</th>\n",
       "      <td>Mario Kart Wii</td>\n",
       "      <td>Wii</td>\n",
       "      <td>2008</td>\n",
       "      <td>Racing</td>\n",
       "      <td>15.68</td>\n",
       "      <td>12.76</td>\n",
       "      <td>3.79</td>\n",
       "      <td>3.29</td>\n",
       "      <td>82.0</td>\n",
       "      <td>8.3</td>\n",
       "      <td>E</td>\n",
       "      <td>8.2</td>\n",
       "      <td>35.52</td>\n",
       "      <td>Nintendo</td>\n",
       "      <td>console</td>\n",
       "      <td>10</td>\n",
       "    </tr>\n",
       "    <tr>\n",
       "      <th>3</th>\n",
       "      <td>Wii Sports Resort</td>\n",
       "      <td>Wii</td>\n",
       "      <td>2009</td>\n",
       "      <td>Sports</td>\n",
       "      <td>15.61</td>\n",
       "      <td>10.93</td>\n",
       "      <td>3.28</td>\n",
       "      <td>2.95</td>\n",
       "      <td>80.0</td>\n",
       "      <td>8.0</td>\n",
       "      <td>E</td>\n",
       "      <td>8.0</td>\n",
       "      <td>32.77</td>\n",
       "      <td>Nintendo</td>\n",
       "      <td>console</td>\n",
       "      <td>10</td>\n",
       "    </tr>\n",
       "    <tr>\n",
       "      <th>4</th>\n",
       "      <td>Pokemon Red/Pokemon Blue</td>\n",
       "      <td>GB</td>\n",
       "      <td>1996</td>\n",
       "      <td>Role-Playing</td>\n",
       "      <td>11.27</td>\n",
       "      <td>8.89</td>\n",
       "      <td>10.22</td>\n",
       "      <td>1.00</td>\n",
       "      <td>-1.0</td>\n",
       "      <td>-1.0</td>\n",
       "      <td>RP</td>\n",
       "      <td>-0.1</td>\n",
       "      <td>31.38</td>\n",
       "      <td>Nintendo</td>\n",
       "      <td>portative</td>\n",
       "      <td>13</td>\n",
       "    </tr>\n",
       "  </tbody>\n",
       "</table>\n",
       "</div>"
      ],
      "text/plain": [
       "                       name platform  year_of_release         genre  na_sales  \\\n",
       "0                Wii Sports      Wii             2006        Sports     41.36   \n",
       "1         Super Mario Bros.      NES             1985      Platform     29.08   \n",
       "2            Mario Kart Wii      Wii             2008        Racing     15.68   \n",
       "3         Wii Sports Resort      Wii             2009        Sports     15.61   \n",
       "4  Pokemon Red/Pokemon Blue       GB             1996  Role-Playing     11.27   \n",
       "\n",
       "   eu_sales  jp_sales  other_sales  critic_score  user_score rating  \\\n",
       "0     28.96      3.77         8.45          76.0         8.0      E   \n",
       "1      3.58      6.81         0.77          -1.0        -1.0     RP   \n",
       "2     12.76      3.79         3.29          82.0         8.3      E   \n",
       "3     10.93      3.28         2.95          80.0         8.0      E   \n",
       "4      8.89     10.22         1.00          -1.0        -1.0     RP   \n",
       "\n",
       "   cs_ten_rate  total_sales main_plat   dev_type  life_time  \n",
       "0          7.6        82.54  Nintendo    console         10  \n",
       "1         -0.1        40.24  Nintendo    console         11  \n",
       "2          8.2        35.52  Nintendo    console         10  \n",
       "3          8.0        32.77  Nintendo    console         10  \n",
       "4         -0.1        31.38  Nintendo  portative         13  "
      ]
     },
     "execution_count": 60,
     "metadata": {},
     "output_type": "execute_result"
    }
   ],
   "source": [
    "list_platform = ['PS4', 'PC', '3DS', 'XOne']\n",
    "games_old = games_df.query('platform not in @list_platform').copy()\n",
    "born_year = games_df.groupby('platform')['year_of_release'].agg(min)\n",
    "deadline = games_df.groupby('platform')['year_of_release'].agg(max)\n",
    "life_time = deadline - born_year\n",
    "life_time.to_dict()\n",
    "games_old['life_time'] = games_old['platform'].map(life_time)\n",
    "games_old.head()"
   ]
  },
  {
   "cell_type": "code",
   "execution_count": 61,
   "metadata": {},
   "outputs": [
    {
     "name": "stderr",
     "output_type": "stream",
     "text": [
      "/opt/conda/lib/python3.9/site-packages/seaborn/_decorators.py:36: FutureWarning: Pass the following variable as a keyword arg: x. From version 0.12, the only valid positional argument will be `data`, and passing other arguments without an explicit keyword will result in an error or misinterpretation.\n",
      "  warnings.warn(\n"
     ]
    },
    {
     "data": {
      "image/png": "[encoded data removed]",
      "text/plain": [
       "<Figure size 1080x360 with 1 Axes>"
      ]
     },
     "metadata": {
      "needs_background": "light"
     },
     "output_type": "display_data"
    }
   ],
   "source": [
    "q75 = games_old['life_time'].quantile([.75])\n",
    "q25 = games_old['life_time'].quantile([.25])\n",
    "iqr = q75 - q25\n",
    "low_range = q25 - (1.5 * iqr)\n",
    "high_range = q75 + (1.5 * iqr)\n",
    "plt.figure(figsize=(15, 5))\n",
    "sns.boxplot(games_old['life_time'], color='steelblue')\n",
    "plt.xlim = (low_range, high_range)\n",
    "plt.title('Разброс значений года жизни игровой платформы')\n",
    "plt.xlabel('')\n",
    "plt.show()"
   ]
  },
  {
   "cell_type": "code",
   "execution_count": 62,
   "metadata": {},
   "outputs": [
    {
     "data": {
      "text/html": [
       "<div>\n",
       "<style scoped>\n",
       "    .dataframe tbody tr th:only-of-type {\n",
       "        vertical-align: middle;\n",
       "    }\n",
       "\n",
       "    .dataframe tbody tr th {\n",
       "        vertical-align: top;\n",
       "    }\n",
       "\n",
       "    .dataframe thead th {\n",
       "        text-align: right;\n",
       "    }\n",
       "</style>\n",
       "<table border=\"1\" class=\"dataframe\">\n",
       "  <thead>\n",
       "    <tr style=\"text-align: right;\">\n",
       "      <th></th>\n",
       "      <th>life_time</th>\n",
       "    </tr>\n",
       "    <tr>\n",
       "      <th>platform</th>\n",
       "      <th></th>\n",
       "    </tr>\n",
       "  </thead>\n",
       "  <tbody>\n",
       "    <tr>\n",
       "      <th>GB</th>\n",
       "      <td>13</td>\n",
       "    </tr>\n",
       "    <tr>\n",
       "      <th>PS2</th>\n",
       "      <td>11</td>\n",
       "    </tr>\n",
       "    <tr>\n",
       "      <th>PSP</th>\n",
       "      <td>11</td>\n",
       "    </tr>\n",
       "    <tr>\n",
       "      <th>X360</th>\n",
       "      <td>11</td>\n",
       "    </tr>\n",
       "    <tr>\n",
       "      <th>NES</th>\n",
       "      <td>11</td>\n",
       "    </tr>\n",
       "    <tr>\n",
       "      <th>Wii</th>\n",
       "      <td>10</td>\n",
       "    </tr>\n",
       "    <tr>\n",
       "      <th>DC</th>\n",
       "      <td>10</td>\n",
       "    </tr>\n",
       "    <tr>\n",
       "      <th>PS3</th>\n",
       "      <td>10</td>\n",
       "    </tr>\n",
       "    <tr>\n",
       "      <th>SNES</th>\n",
       "      <td>9</td>\n",
       "    </tr>\n",
       "    <tr>\n",
       "      <th>PS</th>\n",
       "      <td>9</td>\n",
       "    </tr>\n",
       "    <tr>\n",
       "      <th>2600</th>\n",
       "      <td>8</td>\n",
       "    </tr>\n",
       "    <tr>\n",
       "      <th>XB</th>\n",
       "      <td>8</td>\n",
       "    </tr>\n",
       "    <tr>\n",
       "      <th>GBA</th>\n",
       "      <td>7</td>\n",
       "    </tr>\n",
       "    <tr>\n",
       "      <th>N64</th>\n",
       "      <td>6</td>\n",
       "    </tr>\n",
       "    <tr>\n",
       "      <th>GC</th>\n",
       "      <td>6</td>\n",
       "    </tr>\n",
       "  </tbody>\n",
       "</table>\n",
       "</div>"
      ],
      "text/plain": [
       "          life_time\n",
       "platform           \n",
       "GB               13\n",
       "PS2              11\n",
       "PSP              11\n",
       "X360             11\n",
       "NES              11\n",
       "Wii              10\n",
       "DC               10\n",
       "PS3              10\n",
       "SNES              9\n",
       "PS                9\n",
       "2600              8\n",
       "XB                8\n",
       "GBA               7\n",
       "N64               6\n",
       "GC                6"
      ]
     },
     "execution_count": 62,
     "metadata": {},
     "output_type": "execute_result"
    }
   ],
   "source": [
    "games_pivot = games_old.query('5 <= life_time <=15 ').pivot_table(index='platform', \n",
    "                         values='life_time').sort_values(\n",
    "                         by='life_time', ascending=False\n",
    "                        )\n",
    "games_pivot.head(15)"
   ]
  },
  {
   "cell_type": "code",
   "execution_count": 63,
   "metadata": {},
   "outputs": [
    {
     "name": "stdout",
     "output_type": "stream",
     "text": [
      "Медианное время жизни платформы: 9.0, лет\n",
      "Среднее время жизни платформы: 8.8, лет\n"
     ]
    }
   ],
   "source": [
    "print(f'Медианное время жизни платформы: {games_pivot[\"life_time\"].median()}, лет')\n",
    "print(f'Среднее время жизни платформы: {round(games_pivot[\"life_time\"].mean(), 1)}, лет')"
   ]
  },
  {
   "cell_type": "code",
   "execution_count": 64,
   "metadata": {},
   "outputs": [
    {
     "data": {
      "text/html": [
       "<div>\n",
       "<style scoped>\n",
       "    .dataframe tbody tr th:only-of-type {\n",
       "        vertical-align: middle;\n",
       "    }\n",
       "\n",
       "    .dataframe tbody tr th {\n",
       "        vertical-align: top;\n",
       "    }\n",
       "\n",
       "    .dataframe thead th {\n",
       "        text-align: right;\n",
       "    }\n",
       "</style>\n",
       "<table border=\"1\" class=\"dataframe\">\n",
       "  <thead>\n",
       "    <tr style=\"text-align: right;\">\n",
       "      <th></th>\n",
       "      <th>name</th>\n",
       "      <th>platform</th>\n",
       "      <th>year_of_release</th>\n",
       "      <th>genre</th>\n",
       "      <th>na_sales</th>\n",
       "      <th>eu_sales</th>\n",
       "      <th>jp_sales</th>\n",
       "      <th>other_sales</th>\n",
       "      <th>critic_score</th>\n",
       "      <th>user_score</th>\n",
       "      <th>rating</th>\n",
       "      <th>cs_ten_rate</th>\n",
       "      <th>total_sales</th>\n",
       "      <th>main_plat</th>\n",
       "      <th>dev_type</th>\n",
       "    </tr>\n",
       "  </thead>\n",
       "  <tbody>\n",
       "    <tr>\n",
       "      <th>0</th>\n",
       "      <td>Grand Theft Auto V</td>\n",
       "      <td>PS3</td>\n",
       "      <td>2013</td>\n",
       "      <td>Action</td>\n",
       "      <td>7.02</td>\n",
       "      <td>9.09</td>\n",
       "      <td>0.98</td>\n",
       "      <td>3.96</td>\n",
       "      <td>97.0</td>\n",
       "      <td>8.2</td>\n",
       "      <td>M</td>\n",
       "      <td>9.7</td>\n",
       "      <td>21.05</td>\n",
       "      <td>PS</td>\n",
       "      <td>console</td>\n",
       "    </tr>\n",
       "    <tr>\n",
       "      <th>1</th>\n",
       "      <td>Grand Theft Auto V</td>\n",
       "      <td>X360</td>\n",
       "      <td>2013</td>\n",
       "      <td>Action</td>\n",
       "      <td>9.66</td>\n",
       "      <td>5.14</td>\n",
       "      <td>0.06</td>\n",
       "      <td>1.41</td>\n",
       "      <td>97.0</td>\n",
       "      <td>8.1</td>\n",
       "      <td>M</td>\n",
       "      <td>9.7</td>\n",
       "      <td>16.27</td>\n",
       "      <td>Xbox</td>\n",
       "      <td>console</td>\n",
       "    </tr>\n",
       "    <tr>\n",
       "      <th>2</th>\n",
       "      <td>Call of Duty: Black Ops 3</td>\n",
       "      <td>PS4</td>\n",
       "      <td>2015</td>\n",
       "      <td>Shooter</td>\n",
       "      <td>6.03</td>\n",
       "      <td>5.86</td>\n",
       "      <td>0.36</td>\n",
       "      <td>2.38</td>\n",
       "      <td>-1.0</td>\n",
       "      <td>-1.0</td>\n",
       "      <td>RP</td>\n",
       "      <td>-0.1</td>\n",
       "      <td>14.63</td>\n",
       "      <td>PS</td>\n",
       "      <td>console</td>\n",
       "    </tr>\n",
       "    <tr>\n",
       "      <th>3</th>\n",
       "      <td>Pokemon X/Pokemon Y</td>\n",
       "      <td>3DS</td>\n",
       "      <td>2013</td>\n",
       "      <td>Role-Playing</td>\n",
       "      <td>5.28</td>\n",
       "      <td>4.19</td>\n",
       "      <td>4.35</td>\n",
       "      <td>0.78</td>\n",
       "      <td>-1.0</td>\n",
       "      <td>-1.0</td>\n",
       "      <td>RP</td>\n",
       "      <td>-0.1</td>\n",
       "      <td>14.60</td>\n",
       "      <td>Nintendo</td>\n",
       "      <td>portative</td>\n",
       "    </tr>\n",
       "    <tr>\n",
       "      <th>4</th>\n",
       "      <td>Call of Duty: Black Ops II</td>\n",
       "      <td>PS3</td>\n",
       "      <td>2012</td>\n",
       "      <td>Shooter</td>\n",
       "      <td>4.99</td>\n",
       "      <td>5.73</td>\n",
       "      <td>0.65</td>\n",
       "      <td>2.42</td>\n",
       "      <td>83.0</td>\n",
       "      <td>5.3</td>\n",
       "      <td>M</td>\n",
       "      <td>8.3</td>\n",
       "      <td>13.79</td>\n",
       "      <td>PS</td>\n",
       "      <td>console</td>\n",
       "    </tr>\n",
       "    <tr>\n",
       "      <th>5</th>\n",
       "      <td>Call of Duty: Black Ops II</td>\n",
       "      <td>X360</td>\n",
       "      <td>2012</td>\n",
       "      <td>Shooter</td>\n",
       "      <td>8.25</td>\n",
       "      <td>4.24</td>\n",
       "      <td>0.07</td>\n",
       "      <td>1.12</td>\n",
       "      <td>83.0</td>\n",
       "      <td>4.8</td>\n",
       "      <td>M</td>\n",
       "      <td>8.3</td>\n",
       "      <td>13.68</td>\n",
       "      <td>Xbox</td>\n",
       "      <td>console</td>\n",
       "    </tr>\n",
       "    <tr>\n",
       "      <th>6</th>\n",
       "      <td>Grand Theft Auto V</td>\n",
       "      <td>PS4</td>\n",
       "      <td>2014</td>\n",
       "      <td>Action</td>\n",
       "      <td>3.96</td>\n",
       "      <td>6.31</td>\n",
       "      <td>0.38</td>\n",
       "      <td>1.97</td>\n",
       "      <td>97.0</td>\n",
       "      <td>8.3</td>\n",
       "      <td>M</td>\n",
       "      <td>9.7</td>\n",
       "      <td>12.62</td>\n",
       "      <td>PS</td>\n",
       "      <td>console</td>\n",
       "    </tr>\n",
       "    <tr>\n",
       "      <th>7</th>\n",
       "      <td>Pokemon Omega Ruby/Pokemon Alpha Sapphire</td>\n",
       "      <td>3DS</td>\n",
       "      <td>2014</td>\n",
       "      <td>Role-Playing</td>\n",
       "      <td>4.35</td>\n",
       "      <td>3.49</td>\n",
       "      <td>3.10</td>\n",
       "      <td>0.74</td>\n",
       "      <td>-1.0</td>\n",
       "      <td>-1.0</td>\n",
       "      <td>RP</td>\n",
       "      <td>-0.1</td>\n",
       "      <td>11.68</td>\n",
       "      <td>Nintendo</td>\n",
       "      <td>portative</td>\n",
       "    </tr>\n",
       "    <tr>\n",
       "      <th>8</th>\n",
       "      <td>Call of Duty: Ghosts</td>\n",
       "      <td>X360</td>\n",
       "      <td>2013</td>\n",
       "      <td>Shooter</td>\n",
       "      <td>6.73</td>\n",
       "      <td>2.56</td>\n",
       "      <td>0.04</td>\n",
       "      <td>0.91</td>\n",
       "      <td>73.0</td>\n",
       "      <td>2.6</td>\n",
       "      <td>M</td>\n",
       "      <td>7.3</td>\n",
       "      <td>10.24</td>\n",
       "      <td>Xbox</td>\n",
       "      <td>console</td>\n",
       "    </tr>\n",
       "    <tr>\n",
       "      <th>9</th>\n",
       "      <td>New Super Mario Bros. 2</td>\n",
       "      <td>3DS</td>\n",
       "      <td>2012</td>\n",
       "      <td>Platform</td>\n",
       "      <td>3.66</td>\n",
       "      <td>3.14</td>\n",
       "      <td>2.47</td>\n",
       "      <td>0.63</td>\n",
       "      <td>78.0</td>\n",
       "      <td>7.2</td>\n",
       "      <td>E</td>\n",
       "      <td>7.8</td>\n",
       "      <td>9.90</td>\n",
       "      <td>Nintendo</td>\n",
       "      <td>portative</td>\n",
       "    </tr>\n",
       "    <tr>\n",
       "      <th>10</th>\n",
       "      <td>Halo 4</td>\n",
       "      <td>X360</td>\n",
       "      <td>2012</td>\n",
       "      <td>Shooter</td>\n",
       "      <td>6.65</td>\n",
       "      <td>2.28</td>\n",
       "      <td>0.04</td>\n",
       "      <td>0.74</td>\n",
       "      <td>87.0</td>\n",
       "      <td>7.0</td>\n",
       "      <td>M</td>\n",
       "      <td>8.7</td>\n",
       "      <td>9.71</td>\n",
       "      <td>Xbox</td>\n",
       "      <td>console</td>\n",
       "    </tr>\n",
       "    <tr>\n",
       "      <th>11</th>\n",
       "      <td>Call of Duty: Ghosts</td>\n",
       "      <td>PS3</td>\n",
       "      <td>2013</td>\n",
       "      <td>Shooter</td>\n",
       "      <td>4.10</td>\n",
       "      <td>3.63</td>\n",
       "      <td>0.38</td>\n",
       "      <td>1.25</td>\n",
       "      <td>71.0</td>\n",
       "      <td>2.6</td>\n",
       "      <td>M</td>\n",
       "      <td>7.1</td>\n",
       "      <td>9.36</td>\n",
       "      <td>PS</td>\n",
       "      <td>console</td>\n",
       "    </tr>\n",
       "    <tr>\n",
       "      <th>12</th>\n",
       "      <td>Minecraft</td>\n",
       "      <td>X360</td>\n",
       "      <td>2013</td>\n",
       "      <td>Misc</td>\n",
       "      <td>5.70</td>\n",
       "      <td>2.65</td>\n",
       "      <td>0.02</td>\n",
       "      <td>0.81</td>\n",
       "      <td>-1.0</td>\n",
       "      <td>-1.0</td>\n",
       "      <td>RP</td>\n",
       "      <td>-0.1</td>\n",
       "      <td>9.18</td>\n",
       "      <td>Xbox</td>\n",
       "      <td>console</td>\n",
       "    </tr>\n",
       "    <tr>\n",
       "      <th>13</th>\n",
       "      <td>Animal Crossing: New Leaf</td>\n",
       "      <td>3DS</td>\n",
       "      <td>2012</td>\n",
       "      <td>Simulation</td>\n",
       "      <td>2.03</td>\n",
       "      <td>2.36</td>\n",
       "      <td>4.39</td>\n",
       "      <td>0.39</td>\n",
       "      <td>88.0</td>\n",
       "      <td>8.7</td>\n",
       "      <td>E</td>\n",
       "      <td>8.8</td>\n",
       "      <td>9.17</td>\n",
       "      <td>Nintendo</td>\n",
       "      <td>portative</td>\n",
       "    </tr>\n",
       "    <tr>\n",
       "      <th>14</th>\n",
       "      <td>FIFA 16</td>\n",
       "      <td>PS4</td>\n",
       "      <td>2015</td>\n",
       "      <td>Sports</td>\n",
       "      <td>1.12</td>\n",
       "      <td>6.12</td>\n",
       "      <td>0.06</td>\n",
       "      <td>1.28</td>\n",
       "      <td>82.0</td>\n",
       "      <td>4.3</td>\n",
       "      <td>E</td>\n",
       "      <td>8.2</td>\n",
       "      <td>8.58</td>\n",
       "      <td>PS</td>\n",
       "      <td>console</td>\n",
       "    </tr>\n",
       "  </tbody>\n",
       "</table>\n",
       "</div>"
      ],
      "text/plain": [
       "                                         name platform  year_of_release  \\\n",
       "0                          Grand Theft Auto V      PS3             2013   \n",
       "1                          Grand Theft Auto V     X360             2013   \n",
       "2                   Call of Duty: Black Ops 3      PS4             2015   \n",
       "3                         Pokemon X/Pokemon Y      3DS             2013   \n",
       "4                  Call of Duty: Black Ops II      PS3             2012   \n",
       "5                  Call of Duty: Black Ops II     X360             2012   \n",
       "6                          Grand Theft Auto V      PS4             2014   \n",
       "7   Pokemon Omega Ruby/Pokemon Alpha Sapphire      3DS             2014   \n",
       "8                        Call of Duty: Ghosts     X360             2013   \n",
       "9                     New Super Mario Bros. 2      3DS             2012   \n",
       "10                                     Halo 4     X360             2012   \n",
       "11                       Call of Duty: Ghosts      PS3             2013   \n",
       "12                                  Minecraft     X360             2013   \n",
       "13                  Animal Crossing: New Leaf      3DS             2012   \n",
       "14                                    FIFA 16      PS4             2015   \n",
       "\n",
       "           genre  na_sales  eu_sales  jp_sales  other_sales  critic_score  \\\n",
       "0         Action      7.02      9.09      0.98         3.96          97.0   \n",
       "1         Action      9.66      5.14      0.06         1.41          97.0   \n",
       "2        Shooter      6.03      5.86      0.36         2.38          -1.0   \n",
       "3   Role-Playing      5.28      4.19      4.35         0.78          -1.0   \n",
       "4        Shooter      4.99      5.73      0.65         2.42          83.0   \n",
       "5        Shooter      8.25      4.24      0.07         1.12          83.0   \n",
       "6         Action      3.96      6.31      0.38         1.97          97.0   \n",
       "7   Role-Playing      4.35      3.49      3.10         0.74          -1.0   \n",
       "8        Shooter      6.73      2.56      0.04         0.91          73.0   \n",
       "9       Platform      3.66      3.14      2.47         0.63          78.0   \n",
       "10       Shooter      6.65      2.28      0.04         0.74          87.0   \n",
       "11       Shooter      4.10      3.63      0.38         1.25          71.0   \n",
       "12          Misc      5.70      2.65      0.02         0.81          -1.0   \n",
       "13    Simulation      2.03      2.36      4.39         0.39          88.0   \n",
       "14        Sports      1.12      6.12      0.06         1.28          82.0   \n",
       "\n",
       "    user_score rating  cs_ten_rate  total_sales main_plat   dev_type  \n",
       "0          8.2      M          9.7        21.05        PS    console  \n",
       "1          8.1      M          9.7        16.27      Xbox    console  \n",
       "2         -1.0     RP         -0.1        14.63        PS    console  \n",
       "3         -1.0     RP         -0.1        14.60  Nintendo  portative  \n",
       "4          5.3      M          8.3        13.79        PS    console  \n",
       "5          4.8      M          8.3        13.68      Xbox    console  \n",
       "6          8.3      M          9.7        12.62        PS    console  \n",
       "7         -1.0     RP         -0.1        11.68  Nintendo  portative  \n",
       "8          2.6      M          7.3        10.24      Xbox    console  \n",
       "9          7.2      E          7.8         9.90  Nintendo  portative  \n",
       "10         7.0      M          8.7         9.71      Xbox    console  \n",
       "11         2.6      M          7.1         9.36        PS    console  \n",
       "12        -1.0     RP         -0.1         9.18      Xbox    console  \n",
       "13         8.7      E          8.8         9.17  Nintendo  portative  \n",
       "14         4.3      E          8.2         8.58        PS    console  "
      ]
     },
     "execution_count": 64,
     "metadata": {},
     "output_type": "execute_result"
    }
   ],
   "source": [
    "games_2012_2016 = games_df.query('year_of_release >=2012').reset_index(drop=True)\n",
    "games_2012_2016.head(15)"
   ]
  },
  {
   "cell_type": "code",
   "execution_count": 65,
   "metadata": {},
   "outputs": [
    {
     "data": {
      "text/html": [
       "<div>\n",
       "<style scoped>\n",
       "    .dataframe tbody tr th:only-of-type {\n",
       "        vertical-align: middle;\n",
       "    }\n",
       "\n",
       "    .dataframe tbody tr th {\n",
       "        vertical-align: top;\n",
       "    }\n",
       "\n",
       "    .dataframe thead th {\n",
       "        text-align: right;\n",
       "    }\n",
       "</style>\n",
       "<table border=\"1\" class=\"dataframe\">\n",
       "  <thead>\n",
       "    <tr style=\"text-align: right;\">\n",
       "      <th>year_of_release</th>\n",
       "      <th>2012</th>\n",
       "      <th>2013</th>\n",
       "      <th>2014</th>\n",
       "      <th>2015</th>\n",
       "      <th>2016</th>\n",
       "      <th>total</th>\n",
       "    </tr>\n",
       "    <tr>\n",
       "      <th>platform</th>\n",
       "      <th></th>\n",
       "      <th></th>\n",
       "      <th></th>\n",
       "      <th></th>\n",
       "      <th></th>\n",
       "      <th></th>\n",
       "    </tr>\n",
       "  </thead>\n",
       "  <tbody>\n",
       "    <tr>\n",
       "      <th>total</th>\n",
       "      <td>653</td>\n",
       "      <td>544</td>\n",
       "      <td>581</td>\n",
       "      <td>606</td>\n",
       "      <td>502</td>\n",
       "      <td>2886</td>\n",
       "    </tr>\n",
       "    <tr>\n",
       "      <th>PS3</th>\n",
       "      <td>148</td>\n",
       "      <td>126</td>\n",
       "      <td>108</td>\n",
       "      <td>73</td>\n",
       "      <td>38</td>\n",
       "      <td>493</td>\n",
       "    </tr>\n",
       "    <tr>\n",
       "      <th>PSV</th>\n",
       "      <td>53</td>\n",
       "      <td>63</td>\n",
       "      <td>100</td>\n",
       "      <td>110</td>\n",
       "      <td>85</td>\n",
       "      <td>411</td>\n",
       "    </tr>\n",
       "    <tr>\n",
       "      <th>3DS</th>\n",
       "      <td>93</td>\n",
       "      <td>91</td>\n",
       "      <td>80</td>\n",
       "      <td>86</td>\n",
       "      <td>46</td>\n",
       "      <td>396</td>\n",
       "    </tr>\n",
       "    <tr>\n",
       "      <th>PS4</th>\n",
       "      <td>0</td>\n",
       "      <td>16</td>\n",
       "      <td>75</td>\n",
       "      <td>137</td>\n",
       "      <td>164</td>\n",
       "      <td>392</td>\n",
       "    </tr>\n",
       "    <tr>\n",
       "      <th>X360</th>\n",
       "      <td>106</td>\n",
       "      <td>75</td>\n",
       "      <td>63</td>\n",
       "      <td>35</td>\n",
       "      <td>13</td>\n",
       "      <td>292</td>\n",
       "    </tr>\n",
       "    <tr>\n",
       "      <th>PC</th>\n",
       "      <td>61</td>\n",
       "      <td>38</td>\n",
       "      <td>47</td>\n",
       "      <td>50</td>\n",
       "      <td>54</td>\n",
       "      <td>250</td>\n",
       "    </tr>\n",
       "    <tr>\n",
       "      <th>XOne</th>\n",
       "      <td>0</td>\n",
       "      <td>19</td>\n",
       "      <td>61</td>\n",
       "      <td>80</td>\n",
       "      <td>87</td>\n",
       "      <td>247</td>\n",
       "    </tr>\n",
       "    <tr>\n",
       "      <th>PSP</th>\n",
       "      <td>106</td>\n",
       "      <td>54</td>\n",
       "      <td>10</td>\n",
       "      <td>3</td>\n",
       "      <td>0</td>\n",
       "      <td>173</td>\n",
       "    </tr>\n",
       "    <tr>\n",
       "      <th>WiiU</th>\n",
       "      <td>32</td>\n",
       "      <td>42</td>\n",
       "      <td>31</td>\n",
       "      <td>28</td>\n",
       "      <td>14</td>\n",
       "      <td>147</td>\n",
       "    </tr>\n",
       "    <tr>\n",
       "      <th>Wii</th>\n",
       "      <td>31</td>\n",
       "      <td>12</td>\n",
       "      <td>6</td>\n",
       "      <td>4</td>\n",
       "      <td>1</td>\n",
       "      <td>54</td>\n",
       "    </tr>\n",
       "    <tr>\n",
       "      <th>DS</th>\n",
       "      <td>23</td>\n",
       "      <td>8</td>\n",
       "      <td>0</td>\n",
       "      <td>0</td>\n",
       "      <td>0</td>\n",
       "      <td>31</td>\n",
       "    </tr>\n",
       "  </tbody>\n",
       "</table>\n",
       "</div>"
      ],
      "text/plain": [
       "year_of_release  2012  2013  2014  2015  2016  total\n",
       "platform                                            \n",
       "total             653   544   581   606   502   2886\n",
       "PS3               148   126   108    73    38    493\n",
       "PSV                53    63   100   110    85    411\n",
       "3DS                93    91    80    86    46    396\n",
       "PS4                 0    16    75   137   164    392\n",
       "X360              106    75    63    35    13    292\n",
       "PC                 61    38    47    50    54    250\n",
       "XOne                0    19    61    80    87    247\n",
       "PSP               106    54    10     3     0    173\n",
       "WiiU               32    42    31    28    14    147\n",
       "Wii                31    12     6     4     1     54\n",
       "DS                 23     8     0     0     0     31"
      ]
     },
     "execution_count": 65,
     "metadata": {},
     "output_type": "execute_result"
    }
   ],
   "source": [
    "pd.crosstab(games_2012_2016['platform'], \n",
    "            games_2012_2016['year_of_release'],\n",
    "            margins=True, margins_name=\"total\"\n",
    "           ).sort_values(by='total', ascending=False)"
   ]
  },
  {
   "cell_type": "code",
   "execution_count": 66,
   "metadata": {},
   "outputs": [],
   "source": [
    "leaders = ['PS4', 'PC', 'XOne', '3DS']\n",
    "leaders_games = games_2012_2016.query('platform in @leaders')"
   ]
  },
  {
   "cell_type": "code",
   "execution_count": 67,
   "metadata": {},
   "outputs": [
    {
     "data": {
      "image/png": "[encoded data removed]",
      "text/plain": [
       "<Figure size 1080x360 with 1 Axes>"
      ]
     },
     "metadata": {
      "needs_background": "light"
     },
     "output_type": "display_data"
    }
   ],
   "source": [
    "plt.figure(figsize=(15, 5))\n",
    "sns.barplot(y='total_sales', \n",
    "            x='year_of_release', \n",
    "            hue='platform', \n",
    "            data = leaders_games,\n",
    "            hue_order = leaders\n",
    "           )\n",
    "\n",
    "plt.title('Продажи игр потенциально прибыльных платформ, млн $ ')\n",
    "plt.xticks(rotation=42)\n",
    "plt.xlabel('')\n",
    "plt.ylabel('')\n",
    "plt.show()"
   ]
  },
  {
   "cell_type": "code",
   "execution_count": 68,
   "metadata": {},
   "outputs": [
    {
     "data": {
      "image/png": "[encoded data removed]",
      "text/plain": [
       "<Figure size 1080x720 with 1 Axes>"
      ]
     },
     "metadata": {
      "needs_background": "light"
     },
     "output_type": "display_data"
    }
   ],
   "source": [
    "plt.figure(figsize=(15,10))\n",
    "\n",
    "sns.boxplot(y='platform', x='total_sales',\n",
    "            data = leaders_games.query('total_sales < 4')\n",
    "            ,order=leaders, orient='h', \n",
    "           )\n",
    "plt.title('Разброс значений глобальных продаж потенциально прибыльных платформ, млн $ ')\n",
    "plt.xlabel('')\n",
    "plt.ylabel('')\n",
    "plt.show()"
   ]
  },
  {
   "cell_type": "markdown",
   "metadata": {},
   "source": [
    "### Анализ по жанрам"
   ]
  },
  {
   "cell_type": "code",
   "execution_count": 69,
   "metadata": {},
   "outputs": [
    {
     "data": {
      "text/html": [
       "<div>\n",
       "<style scoped>\n",
       "    .dataframe tbody tr th:only-of-type {\n",
       "        vertical-align: middle;\n",
       "    }\n",
       "\n",
       "    .dataframe tbody tr th {\n",
       "        vertical-align: top;\n",
       "    }\n",
       "\n",
       "    .dataframe thead th {\n",
       "        text-align: right;\n",
       "    }\n",
       "</style>\n",
       "<table border=\"1\" class=\"dataframe\">\n",
       "  <thead>\n",
       "    <tr style=\"text-align: right;\">\n",
       "      <th>year_of_release</th>\n",
       "      <th>2012</th>\n",
       "      <th>2013</th>\n",
       "      <th>2014</th>\n",
       "      <th>2015</th>\n",
       "      <th>2016</th>\n",
       "    </tr>\n",
       "    <tr>\n",
       "      <th>genre</th>\n",
       "      <th></th>\n",
       "      <th></th>\n",
       "      <th></th>\n",
       "      <th></th>\n",
       "      <th></th>\n",
       "    </tr>\n",
       "  </thead>\n",
       "  <tbody>\n",
       "    <tr>\n",
       "      <th>Action</th>\n",
       "      <td>119.25</td>\n",
       "      <td>122.51</td>\n",
       "      <td>97.23</td>\n",
       "      <td>72.02</td>\n",
       "      <td>30.11</td>\n",
       "    </tr>\n",
       "    <tr>\n",
       "      <th>Adventure</th>\n",
       "      <td>5.79</td>\n",
       "      <td>6.09</td>\n",
       "      <td>5.57</td>\n",
       "      <td>8.16</td>\n",
       "      <td>3.82</td>\n",
       "    </tr>\n",
       "    <tr>\n",
       "      <th>Fighting</th>\n",
       "      <td>9.18</td>\n",
       "      <td>7.09</td>\n",
       "      <td>15.85</td>\n",
       "      <td>7.90</td>\n",
       "      <td>4.47</td>\n",
       "    </tr>\n",
       "    <tr>\n",
       "      <th>Misc</th>\n",
       "      <td>22.22</td>\n",
       "      <td>25.27</td>\n",
       "      <td>23.38</td>\n",
       "      <td>11.57</td>\n",
       "      <td>2.60</td>\n",
       "    </tr>\n",
       "    <tr>\n",
       "      <th>Platform</th>\n",
       "      <td>18.37</td>\n",
       "      <td>24.54</td>\n",
       "      <td>8.81</td>\n",
       "      <td>6.05</td>\n",
       "      <td>3.23</td>\n",
       "    </tr>\n",
       "    <tr>\n",
       "      <th>Puzzle</th>\n",
       "      <td>1.72</td>\n",
       "      <td>0.96</td>\n",
       "      <td>1.49</td>\n",
       "      <td>0.71</td>\n",
       "      <td>0.01</td>\n",
       "    </tr>\n",
       "    <tr>\n",
       "      <th>Racing</th>\n",
       "      <td>13.61</td>\n",
       "      <td>12.37</td>\n",
       "      <td>16.66</td>\n",
       "      <td>8.07</td>\n",
       "      <td>2.79</td>\n",
       "    </tr>\n",
       "    <tr>\n",
       "      <th>Role-Playing</th>\n",
       "      <td>46.91</td>\n",
       "      <td>44.45</td>\n",
       "      <td>45.62</td>\n",
       "      <td>37.64</td>\n",
       "      <td>18.18</td>\n",
       "    </tr>\n",
       "    <tr>\n",
       "      <th>Shooter</th>\n",
       "      <td>71.75</td>\n",
       "      <td>62.04</td>\n",
       "      <td>65.21</td>\n",
       "      <td>67.51</td>\n",
       "      <td>38.22</td>\n",
       "    </tr>\n",
       "    <tr>\n",
       "      <th>Simulation</th>\n",
       "      <td>13.36</td>\n",
       "      <td>8.63</td>\n",
       "      <td>5.58</td>\n",
       "      <td>5.66</td>\n",
       "      <td>1.89</td>\n",
       "    </tr>\n",
       "    <tr>\n",
       "      <th>Sports</th>\n",
       "      <td>30.42</td>\n",
       "      <td>41.17</td>\n",
       "      <td>45.15</td>\n",
       "      <td>40.84</td>\n",
       "      <td>23.49</td>\n",
       "    </tr>\n",
       "    <tr>\n",
       "      <th>Strategy</th>\n",
       "      <td>3.26</td>\n",
       "      <td>6.12</td>\n",
       "      <td>0.98</td>\n",
       "      <td>1.85</td>\n",
       "      <td>1.13</td>\n",
       "    </tr>\n",
       "  </tbody>\n",
       "</table>\n",
       "</div>"
      ],
      "text/plain": [
       "year_of_release    2012    2013   2014   2015   2016\n",
       "genre                                               \n",
       "Action           119.25  122.51  97.23  72.02  30.11\n",
       "Adventure          5.79    6.09   5.57   8.16   3.82\n",
       "Fighting           9.18    7.09  15.85   7.90   4.47\n",
       "Misc              22.22   25.27  23.38  11.57   2.60\n",
       "Platform          18.37   24.54   8.81   6.05   3.23\n",
       "Puzzle             1.72    0.96   1.49   0.71   0.01\n",
       "Racing            13.61   12.37  16.66   8.07   2.79\n",
       "Role-Playing      46.91   44.45  45.62  37.64  18.18\n",
       "Shooter           71.75   62.04  65.21  67.51  38.22\n",
       "Simulation        13.36    8.63   5.58   5.66   1.89\n",
       "Sports            30.42   41.17  45.15  40.84  23.49\n",
       "Strategy           3.26    6.12   0.98   1.85   1.13"
      ]
     },
     "execution_count": 69,
     "metadata": {},
     "output_type": "execute_result"
    }
   ],
   "source": [
    "top_games = games_2012_2016.pivot_table(index='genre',columns='year_of_release'\n",
    "                        ,values='total_sales',aggfunc='sum').copy()\n",
    "top_games"
   ]
  },
  {
   "cell_type": "code",
   "execution_count": 70,
   "metadata": {},
   "outputs": [
    {
     "data": {
      "text/html": [
       "<div>\n",
       "<style scoped>\n",
       "    .dataframe tbody tr th:only-of-type {\n",
       "        vertical-align: middle;\n",
       "    }\n",
       "\n",
       "    .dataframe tbody tr th {\n",
       "        vertical-align: top;\n",
       "    }\n",
       "\n",
       "    .dataframe thead tr th {\n",
       "        text-align: left;\n",
       "    }\n",
       "\n",
       "    .dataframe thead tr:last-of-type th {\n",
       "        text-align: right;\n",
       "    }\n",
       "</style>\n",
       "<table border=\"1\" class=\"dataframe\">\n",
       "  <thead>\n",
       "    <tr>\n",
       "      <th></th>\n",
       "      <th colspan=\"5\" halign=\"left\">median</th>\n",
       "    </tr>\n",
       "    <tr>\n",
       "      <th>year_of_release</th>\n",
       "      <th>2012</th>\n",
       "      <th>2013</th>\n",
       "      <th>2014</th>\n",
       "      <th>2015</th>\n",
       "      <th>2016</th>\n",
       "    </tr>\n",
       "    <tr>\n",
       "      <th>genre</th>\n",
       "      <th></th>\n",
       "      <th></th>\n",
       "      <th></th>\n",
       "      <th></th>\n",
       "      <th></th>\n",
       "    </tr>\n",
       "  </thead>\n",
       "  <tbody>\n",
       "    <tr>\n",
       "      <th>Action</th>\n",
       "      <td>0.170</td>\n",
       "      <td>0.200</td>\n",
       "      <td>0.205</td>\n",
       "      <td>0.070</td>\n",
       "      <td>0.050</td>\n",
       "    </tr>\n",
       "    <tr>\n",
       "      <th>Adventure</th>\n",
       "      <td>0.040</td>\n",
       "      <td>0.025</td>\n",
       "      <td>0.040</td>\n",
       "      <td>0.030</td>\n",
       "      <td>0.020</td>\n",
       "    </tr>\n",
       "    <tr>\n",
       "      <th>Fighting</th>\n",
       "      <td>0.190</td>\n",
       "      <td>0.155</td>\n",
       "      <td>0.130</td>\n",
       "      <td>0.100</td>\n",
       "      <td>0.085</td>\n",
       "    </tr>\n",
       "    <tr>\n",
       "      <th>Misc</th>\n",
       "      <td>0.190</td>\n",
       "      <td>0.175</td>\n",
       "      <td>0.160</td>\n",
       "      <td>0.190</td>\n",
       "      <td>0.040</td>\n",
       "    </tr>\n",
       "    <tr>\n",
       "      <th>Platform</th>\n",
       "      <td>0.150</td>\n",
       "      <td>0.385</td>\n",
       "      <td>0.830</td>\n",
       "      <td>0.100</td>\n",
       "      <td>0.100</td>\n",
       "    </tr>\n",
       "    <tr>\n",
       "      <th>Puzzle</th>\n",
       "      <td>0.020</td>\n",
       "      <td>0.100</td>\n",
       "      <td>0.050</td>\n",
       "      <td>0.045</td>\n",
       "      <td>0.010</td>\n",
       "    </tr>\n",
       "    <tr>\n",
       "      <th>Racing</th>\n",
       "      <td>0.245</td>\n",
       "      <td>0.340</td>\n",
       "      <td>0.170</td>\n",
       "      <td>0.150</td>\n",
       "      <td>0.050</td>\n",
       "    </tr>\n",
       "    <tr>\n",
       "      <th>Role-Playing</th>\n",
       "      <td>0.180</td>\n",
       "      <td>0.180</td>\n",
       "      <td>0.110</td>\n",
       "      <td>0.105</td>\n",
       "      <td>0.120</td>\n",
       "    </tr>\n",
       "    <tr>\n",
       "      <th>Shooter</th>\n",
       "      <td>0.415</td>\n",
       "      <td>0.340</td>\n",
       "      <td>0.660</td>\n",
       "      <td>0.925</td>\n",
       "      <td>0.240</td>\n",
       "    </tr>\n",
       "    <tr>\n",
       "      <th>Simulation</th>\n",
       "      <td>0.195</td>\n",
       "      <td>0.105</td>\n",
       "      <td>0.120</td>\n",
       "      <td>0.200</td>\n",
       "      <td>0.025</td>\n",
       "    </tr>\n",
       "    <tr>\n",
       "      <th>Sports</th>\n",
       "      <td>0.280</td>\n",
       "      <td>0.370</td>\n",
       "      <td>0.460</td>\n",
       "      <td>0.120</td>\n",
       "      <td>0.120</td>\n",
       "    </tr>\n",
       "    <tr>\n",
       "      <th>Strategy</th>\n",
       "      <td>0.090</td>\n",
       "      <td>0.190</td>\n",
       "      <td>0.060</td>\n",
       "      <td>0.045</td>\n",
       "      <td>0.060</td>\n",
       "    </tr>\n",
       "  </tbody>\n",
       "</table>\n",
       "</div>"
      ],
      "text/plain": [
       "                median                            \n",
       "year_of_release   2012   2013   2014   2015   2016\n",
       "genre                                             \n",
       "Action           0.170  0.200  0.205  0.070  0.050\n",
       "Adventure        0.040  0.025  0.040  0.030  0.020\n",
       "Fighting         0.190  0.155  0.130  0.100  0.085\n",
       "Misc             0.190  0.175  0.160  0.190  0.040\n",
       "Platform         0.150  0.385  0.830  0.100  0.100\n",
       "Puzzle           0.020  0.100  0.050  0.045  0.010\n",
       "Racing           0.245  0.340  0.170  0.150  0.050\n",
       "Role-Playing     0.180  0.180  0.110  0.105  0.120\n",
       "Shooter          0.415  0.340  0.660  0.925  0.240\n",
       "Simulation       0.195  0.105  0.120  0.200  0.025\n",
       "Sports           0.280  0.370  0.460  0.120  0.120\n",
       "Strategy         0.090  0.190  0.060  0.045  0.060"
      ]
     },
     "execution_count": 70,
     "metadata": {},
     "output_type": "execute_result"
    }
   ],
   "source": [
    "top_games = games_2012_2016.pivot_table(index='genre',columns='year_of_release'\n",
    "                        ,values='total_sales', aggfunc=['median']).copy()\n",
    "top_games"
   ]
  },
  {
   "cell_type": "code",
   "execution_count": 71,
   "metadata": {},
   "outputs": [
    {
     "data": {
      "image/png": "[encoded data removed]",
      "text/plain": [
       "<Figure size 1080x360 with 1 Axes>"
      ]
     },
     "metadata": {
      "needs_background": "light"
     },
     "output_type": "display_data"
    }
   ],
   "source": [
    "top_genres = ['Action', 'Role-playing', 'Shooter', 'Sports', 'Platform', 'Misc', 'Role-Playing']\n",
    "top_games.query('genre in @top_genres').plot(kind='bar', figsize=(15,5), edgecolor='black')\n",
    "plt.title('')\n",
    "plt.show()"
   ]
  },
  {
   "cell_type": "markdown",
   "metadata": {},
   "source": [
    "**Вывод:** На первый взгляд кажется, что игры жанра Action самые прибильные, но построив таблицу с медианной, мы видим, что  сборы связаны с большим количеством игр и их средние/медианные значения не соотвествуют рекордным сборам.  \n",
    "Вероятно основной объем делает несколько бестселлеров, которые формируют эти внушительные цифры, но в среднем среди этого жанра довольно много посредственностей.  \n",
    "Альтернативное открытие это жанр Shooter. Лучшие результаты по медианному значению говорят о том, что это наименее проигрышный жанр в контексте прибыли.  \n",
    "Тем не менее Action и Simulation также заслуживают своё место на полке магазина. При этом по этим жанрам необходимо более глубокое исследование на предмет перспектив конкретной игры. Вероятно FIFA всегда будет иметь высокие продажи, а вот симулятор бильярда или керлинга вряд ли сможет надеяться на сверхприбыли."
   ]
  },
  {
   "cell_type": "markdown",
   "metadata": {},
   "source": [
    "### Актуальный анализ за 2012-2016"
   ]
  },
  {
   "cell_type": "markdown",
   "metadata": {},
   "source": [
    "**Playstation 4**"
   ]
  },
  {
   "cell_type": "code",
   "execution_count": 72,
   "metadata": {},
   "outputs": [
    {
     "data": {
      "text/html": [
       "<div>\n",
       "<style scoped>\n",
       "    .dataframe tbody tr th:only-of-type {\n",
       "        vertical-align: middle;\n",
       "    }\n",
       "\n",
       "    .dataframe tbody tr th {\n",
       "        vertical-align: top;\n",
       "    }\n",
       "\n",
       "    .dataframe thead th {\n",
       "        text-align: right;\n",
       "    }\n",
       "</style>\n",
       "<table border=\"1\" class=\"dataframe\">\n",
       "  <thead>\n",
       "    <tr style=\"text-align: right;\">\n",
       "      <th></th>\n",
       "      <th>name</th>\n",
       "      <th>platform</th>\n",
       "      <th>year_of_release</th>\n",
       "      <th>genre</th>\n",
       "      <th>na_sales</th>\n",
       "      <th>eu_sales</th>\n",
       "      <th>jp_sales</th>\n",
       "      <th>other_sales</th>\n",
       "      <th>critic_score</th>\n",
       "      <th>user_score</th>\n",
       "      <th>rating</th>\n",
       "      <th>cs_ten_rate</th>\n",
       "      <th>total_sales</th>\n",
       "      <th>main_plat</th>\n",
       "      <th>dev_type</th>\n",
       "    </tr>\n",
       "  </thead>\n",
       "  <tbody>\n",
       "    <tr>\n",
       "      <th>2</th>\n",
       "      <td>Call of Duty: Black Ops 3</td>\n",
       "      <td>PS4</td>\n",
       "      <td>2015</td>\n",
       "      <td>Shooter</td>\n",
       "      <td>6.03</td>\n",
       "      <td>5.86</td>\n",
       "      <td>0.36</td>\n",
       "      <td>2.38</td>\n",
       "      <td>-1.0</td>\n",
       "      <td>-1.0</td>\n",
       "      <td>RP</td>\n",
       "      <td>-0.1</td>\n",
       "      <td>14.63</td>\n",
       "      <td>PS</td>\n",
       "      <td>console</td>\n",
       "    </tr>\n",
       "    <tr>\n",
       "      <th>6</th>\n",
       "      <td>Grand Theft Auto V</td>\n",
       "      <td>PS4</td>\n",
       "      <td>2014</td>\n",
       "      <td>Action</td>\n",
       "      <td>3.96</td>\n",
       "      <td>6.31</td>\n",
       "      <td>0.38</td>\n",
       "      <td>1.97</td>\n",
       "      <td>97.0</td>\n",
       "      <td>8.3</td>\n",
       "      <td>M</td>\n",
       "      <td>9.7</td>\n",
       "      <td>12.62</td>\n",
       "      <td>PS</td>\n",
       "      <td>console</td>\n",
       "    </tr>\n",
       "    <tr>\n",
       "      <th>14</th>\n",
       "      <td>FIFA 16</td>\n",
       "      <td>PS4</td>\n",
       "      <td>2015</td>\n",
       "      <td>Sports</td>\n",
       "      <td>1.12</td>\n",
       "      <td>6.12</td>\n",
       "      <td>0.06</td>\n",
       "      <td>1.28</td>\n",
       "      <td>82.0</td>\n",
       "      <td>4.3</td>\n",
       "      <td>E</td>\n",
       "      <td>8.2</td>\n",
       "      <td>8.58</td>\n",
       "      <td>PS</td>\n",
       "      <td>console</td>\n",
       "    </tr>\n",
       "    <tr>\n",
       "      <th>17</th>\n",
       "      <td>Star Wars Battlefront (2015)</td>\n",
       "      <td>PS4</td>\n",
       "      <td>2015</td>\n",
       "      <td>Shooter</td>\n",
       "      <td>2.99</td>\n",
       "      <td>3.49</td>\n",
       "      <td>0.22</td>\n",
       "      <td>1.28</td>\n",
       "      <td>-1.0</td>\n",
       "      <td>-1.0</td>\n",
       "      <td>RP</td>\n",
       "      <td>-0.1</td>\n",
       "      <td>7.98</td>\n",
       "      <td>PS</td>\n",
       "      <td>console</td>\n",
       "    </tr>\n",
       "    <tr>\n",
       "      <th>18</th>\n",
       "      <td>Call of Duty: Advanced Warfare</td>\n",
       "      <td>PS4</td>\n",
       "      <td>2014</td>\n",
       "      <td>Shooter</td>\n",
       "      <td>2.81</td>\n",
       "      <td>3.48</td>\n",
       "      <td>0.14</td>\n",
       "      <td>1.23</td>\n",
       "      <td>83.0</td>\n",
       "      <td>5.7</td>\n",
       "      <td>M</td>\n",
       "      <td>8.3</td>\n",
       "      <td>7.66</td>\n",
       "      <td>PS</td>\n",
       "      <td>console</td>\n",
       "    </tr>\n",
       "  </tbody>\n",
       "</table>\n",
       "</div>"
      ],
      "text/plain": [
       "                              name platform  year_of_release    genre  \\\n",
       "2        Call of Duty: Black Ops 3      PS4             2015  Shooter   \n",
       "6               Grand Theft Auto V      PS4             2014   Action   \n",
       "14                         FIFA 16      PS4             2015   Sports   \n",
       "17    Star Wars Battlefront (2015)      PS4             2015  Shooter   \n",
       "18  Call of Duty: Advanced Warfare      PS4             2014  Shooter   \n",
       "\n",
       "    na_sales  eu_sales  jp_sales  other_sales  critic_score  user_score  \\\n",
       "2       6.03      5.86      0.36         2.38          -1.0        -1.0   \n",
       "6       3.96      6.31      0.38         1.97          97.0         8.3   \n",
       "14      1.12      6.12      0.06         1.28          82.0         4.3   \n",
       "17      2.99      3.49      0.22         1.28          -1.0        -1.0   \n",
       "18      2.81      3.48      0.14         1.23          83.0         5.7   \n",
       "\n",
       "   rating  cs_ten_rate  total_sales main_plat dev_type  \n",
       "2      RP         -0.1        14.63        PS  console  \n",
       "6       M          9.7        12.62        PS  console  \n",
       "14      E          8.2         8.58        PS  console  \n",
       "17     RP         -0.1         7.98        PS  console  \n",
       "18      M          8.3         7.66        PS  console  "
      ]
     },
     "execution_count": 72,
     "metadata": {},
     "output_type": "execute_result"
    }
   ],
   "source": [
    "ps4_df = games_2012_2016.loc[games_2012_2016['platform']=='PS4']\n",
    "ps4_df.head()"
   ]
  },
  {
   "cell_type": "code",
   "execution_count": 73,
   "metadata": {},
   "outputs": [
    {
     "data": {
      "image/png": "[encoded data removed]",
      "text/plain": [
       "<Figure size 432x288 with 1 Axes>"
      ]
     },
     "metadata": {
      "needs_background": "light"
     },
     "output_type": "display_data"
    },
    {
     "data": {
      "image/png": "[encoded data removed]",
      "text/plain": [
       "<Figure size 432x288 with 1 Axes>"
      ]
     },
     "metadata": {
      "needs_background": "light"
     },
     "output_type": "display_data"
    }
   ],
   "source": [
    "ps4_df = ps4_df.query('cs_ten_rate > 0 and user_score > 0')\n",
    "ps4_df.plot(x='cs_ten_rate', y='total_sales', kind='scatter', grid=True)\n",
    "ps4_df.plot(x='user_score', y='total_sales', kind='scatter', grid=True)\n",
    "plt.show()"
   ]
  },
  {
   "cell_type": "markdown",
   "metadata": {},
   "source": [
    "**Xbox One**"
   ]
  },
  {
   "cell_type": "code",
   "execution_count": 74,
   "metadata": {},
   "outputs": [
    {
     "data": {
      "text/html": [
       "<div>\n",
       "<style scoped>\n",
       "    .dataframe tbody tr th:only-of-type {\n",
       "        vertical-align: middle;\n",
       "    }\n",
       "\n",
       "    .dataframe tbody tr th {\n",
       "        vertical-align: top;\n",
       "    }\n",
       "\n",
       "    .dataframe thead th {\n",
       "        text-align: right;\n",
       "    }\n",
       "</style>\n",
       "<table border=\"1\" class=\"dataframe\">\n",
       "  <thead>\n",
       "    <tr style=\"text-align: right;\">\n",
       "      <th></th>\n",
       "      <th>name</th>\n",
       "      <th>platform</th>\n",
       "      <th>year_of_release</th>\n",
       "      <th>genre</th>\n",
       "      <th>na_sales</th>\n",
       "      <th>eu_sales</th>\n",
       "      <th>jp_sales</th>\n",
       "      <th>other_sales</th>\n",
       "      <th>critic_score</th>\n",
       "      <th>user_score</th>\n",
       "      <th>rating</th>\n",
       "      <th>cs_ten_rate</th>\n",
       "      <th>total_sales</th>\n",
       "      <th>main_plat</th>\n",
       "      <th>dev_type</th>\n",
       "    </tr>\n",
       "  </thead>\n",
       "  <tbody>\n",
       "    <tr>\n",
       "      <th>21</th>\n",
       "      <td>Call of Duty: Black Ops 3</td>\n",
       "      <td>XOne</td>\n",
       "      <td>2015</td>\n",
       "      <td>Shooter</td>\n",
       "      <td>4.59</td>\n",
       "      <td>2.11</td>\n",
       "      <td>0.01</td>\n",
       "      <td>0.68</td>\n",
       "      <td>-1.0</td>\n",
       "      <td>-1.0</td>\n",
       "      <td>RP</td>\n",
       "      <td>-0.1</td>\n",
       "      <td>7.39</td>\n",
       "      <td>Xbox</td>\n",
       "      <td>console</td>\n",
       "    </tr>\n",
       "    <tr>\n",
       "      <th>31</th>\n",
       "      <td>Grand Theft Auto V</td>\n",
       "      <td>XOne</td>\n",
       "      <td>2014</td>\n",
       "      <td>Action</td>\n",
       "      <td>2.81</td>\n",
       "      <td>2.19</td>\n",
       "      <td>0.00</td>\n",
       "      <td>0.47</td>\n",
       "      <td>97.0</td>\n",
       "      <td>7.9</td>\n",
       "      <td>M</td>\n",
       "      <td>9.7</td>\n",
       "      <td>5.47</td>\n",
       "      <td>Xbox</td>\n",
       "      <td>console</td>\n",
       "    </tr>\n",
       "    <tr>\n",
       "      <th>34</th>\n",
       "      <td>Call of Duty: Advanced Warfare</td>\n",
       "      <td>XOne</td>\n",
       "      <td>2014</td>\n",
       "      <td>Shooter</td>\n",
       "      <td>3.22</td>\n",
       "      <td>1.55</td>\n",
       "      <td>0.01</td>\n",
       "      <td>0.48</td>\n",
       "      <td>81.0</td>\n",
       "      <td>5.4</td>\n",
       "      <td>M</td>\n",
       "      <td>8.1</td>\n",
       "      <td>5.26</td>\n",
       "      <td>Xbox</td>\n",
       "      <td>console</td>\n",
       "    </tr>\n",
       "    <tr>\n",
       "      <th>44</th>\n",
       "      <td>Halo 5: Guardians</td>\n",
       "      <td>XOne</td>\n",
       "      <td>2015</td>\n",
       "      <td>Shooter</td>\n",
       "      <td>2.78</td>\n",
       "      <td>1.27</td>\n",
       "      <td>0.03</td>\n",
       "      <td>0.41</td>\n",
       "      <td>84.0</td>\n",
       "      <td>6.4</td>\n",
       "      <td>T</td>\n",
       "      <td>8.4</td>\n",
       "      <td>4.49</td>\n",
       "      <td>Xbox</td>\n",
       "      <td>console</td>\n",
       "    </tr>\n",
       "    <tr>\n",
       "      <th>53</th>\n",
       "      <td>Fallout 4</td>\n",
       "      <td>XOne</td>\n",
       "      <td>2015</td>\n",
       "      <td>Role-Playing</td>\n",
       "      <td>2.51</td>\n",
       "      <td>1.32</td>\n",
       "      <td>0.01</td>\n",
       "      <td>0.38</td>\n",
       "      <td>88.0</td>\n",
       "      <td>6.2</td>\n",
       "      <td>M</td>\n",
       "      <td>8.8</td>\n",
       "      <td>4.22</td>\n",
       "      <td>Xbox</td>\n",
       "      <td>console</td>\n",
       "    </tr>\n",
       "  </tbody>\n",
       "</table>\n",
       "</div>"
      ],
      "text/plain": [
       "                              name platform  year_of_release         genre  \\\n",
       "21       Call of Duty: Black Ops 3     XOne             2015       Shooter   \n",
       "31              Grand Theft Auto V     XOne             2014        Action   \n",
       "34  Call of Duty: Advanced Warfare     XOne             2014       Shooter   \n",
       "44               Halo 5: Guardians     XOne             2015       Shooter   \n",
       "53                       Fallout 4     XOne             2015  Role-Playing   \n",
       "\n",
       "    na_sales  eu_sales  jp_sales  other_sales  critic_score  user_score  \\\n",
       "21      4.59      2.11      0.01         0.68          -1.0        -1.0   \n",
       "31      2.81      2.19      0.00         0.47          97.0         7.9   \n",
       "34      3.22      1.55      0.01         0.48          81.0         5.4   \n",
       "44      2.78      1.27      0.03         0.41          84.0         6.4   \n",
       "53      2.51      1.32      0.01         0.38          88.0         6.2   \n",
       "\n",
       "   rating  cs_ten_rate  total_sales main_plat dev_type  \n",
       "21     RP         -0.1         7.39      Xbox  console  \n",
       "31      M          9.7         5.47      Xbox  console  \n",
       "34      M          8.1         5.26      Xbox  console  \n",
       "44      T          8.4         4.49      Xbox  console  \n",
       "53      M          8.8         4.22      Xbox  console  "
      ]
     },
     "execution_count": 74,
     "metadata": {},
     "output_type": "execute_result"
    }
   ],
   "source": [
    "xone_df = games_2012_2016.loc[games_2012_2016['platform']=='XOne']\n",
    "xone_df.head()"
   ]
  },
  {
   "cell_type": "code",
   "execution_count": 75,
   "metadata": {},
   "outputs": [
    {
     "data": {
      "image/png": "[encoded data removed]",
      "text/plain": [
       "<Figure size 432x288 with 1 Axes>"
      ]
     },
     "metadata": {
      "needs_background": "light"
     },
     "output_type": "display_data"
    },
    {
     "data": {
      "image/png": "[encoded data removed]",
      "text/plain": [
       "<Figure size 432x288 with 1 Axes>"
      ]
     },
     "metadata": {
      "needs_background": "light"
     },
     "output_type": "display_data"
    }
   ],
   "source": [
    "xone_df = xone_df.query('cs_ten_rate > 0 and user_score > 0')\n",
    "xone_df.plot(x='cs_ten_rate', y='total_sales', kind='scatter', grid=True)\n",
    "xone_df.plot(x='user_score', y='total_sales', kind='scatter', grid=True)\n",
    "plt.show()"
   ]
  },
  {
   "cell_type": "markdown",
   "metadata": {},
   "source": [
    "**Nintendo 3DS**"
   ]
  },
  {
   "cell_type": "code",
   "execution_count": 76,
   "metadata": {},
   "outputs": [
    {
     "data": {
      "text/html": [
       "<div>\n",
       "<style scoped>\n",
       "    .dataframe tbody tr th:only-of-type {\n",
       "        vertical-align: middle;\n",
       "    }\n",
       "\n",
       "    .dataframe tbody tr th {\n",
       "        vertical-align: top;\n",
       "    }\n",
       "\n",
       "    .dataframe thead th {\n",
       "        text-align: right;\n",
       "    }\n",
       "</style>\n",
       "<table border=\"1\" class=\"dataframe\">\n",
       "  <thead>\n",
       "    <tr style=\"text-align: right;\">\n",
       "      <th></th>\n",
       "      <th>name</th>\n",
       "      <th>platform</th>\n",
       "      <th>year_of_release</th>\n",
       "      <th>genre</th>\n",
       "      <th>na_sales</th>\n",
       "      <th>eu_sales</th>\n",
       "      <th>jp_sales</th>\n",
       "      <th>other_sales</th>\n",
       "      <th>critic_score</th>\n",
       "      <th>user_score</th>\n",
       "      <th>rating</th>\n",
       "      <th>cs_ten_rate</th>\n",
       "      <th>total_sales</th>\n",
       "      <th>main_plat</th>\n",
       "      <th>dev_type</th>\n",
       "    </tr>\n",
       "  </thead>\n",
       "  <tbody>\n",
       "    <tr>\n",
       "      <th>3</th>\n",
       "      <td>Pokemon X/Pokemon Y</td>\n",
       "      <td>3DS</td>\n",
       "      <td>2013</td>\n",
       "      <td>Role-Playing</td>\n",
       "      <td>5.28</td>\n",
       "      <td>4.19</td>\n",
       "      <td>4.35</td>\n",
       "      <td>0.78</td>\n",
       "      <td>-1.0</td>\n",
       "      <td>-1.0</td>\n",
       "      <td>RP</td>\n",
       "      <td>-0.1</td>\n",
       "      <td>14.60</td>\n",
       "      <td>Nintendo</td>\n",
       "      <td>portative</td>\n",
       "    </tr>\n",
       "    <tr>\n",
       "      <th>7</th>\n",
       "      <td>Pokemon Omega Ruby/Pokemon Alpha Sapphire</td>\n",
       "      <td>3DS</td>\n",
       "      <td>2014</td>\n",
       "      <td>Role-Playing</td>\n",
       "      <td>4.35</td>\n",
       "      <td>3.49</td>\n",
       "      <td>3.10</td>\n",
       "      <td>0.74</td>\n",
       "      <td>-1.0</td>\n",
       "      <td>-1.0</td>\n",
       "      <td>RP</td>\n",
       "      <td>-0.1</td>\n",
       "      <td>11.68</td>\n",
       "      <td>Nintendo</td>\n",
       "      <td>portative</td>\n",
       "    </tr>\n",
       "    <tr>\n",
       "      <th>9</th>\n",
       "      <td>New Super Mario Bros. 2</td>\n",
       "      <td>3DS</td>\n",
       "      <td>2012</td>\n",
       "      <td>Platform</td>\n",
       "      <td>3.66</td>\n",
       "      <td>3.14</td>\n",
       "      <td>2.47</td>\n",
       "      <td>0.63</td>\n",
       "      <td>78.0</td>\n",
       "      <td>7.2</td>\n",
       "      <td>E</td>\n",
       "      <td>7.8</td>\n",
       "      <td>9.90</td>\n",
       "      <td>Nintendo</td>\n",
       "      <td>portative</td>\n",
       "    </tr>\n",
       "    <tr>\n",
       "      <th>13</th>\n",
       "      <td>Animal Crossing: New Leaf</td>\n",
       "      <td>3DS</td>\n",
       "      <td>2012</td>\n",
       "      <td>Simulation</td>\n",
       "      <td>2.03</td>\n",
       "      <td>2.36</td>\n",
       "      <td>4.39</td>\n",
       "      <td>0.39</td>\n",
       "      <td>88.0</td>\n",
       "      <td>8.7</td>\n",
       "      <td>E</td>\n",
       "      <td>8.8</td>\n",
       "      <td>9.17</td>\n",
       "      <td>Nintendo</td>\n",
       "      <td>portative</td>\n",
       "    </tr>\n",
       "    <tr>\n",
       "      <th>20</th>\n",
       "      <td>Super Smash Bros. for Wii U and 3DS</td>\n",
       "      <td>3DS</td>\n",
       "      <td>2014</td>\n",
       "      <td>Fighting</td>\n",
       "      <td>3.27</td>\n",
       "      <td>1.37</td>\n",
       "      <td>2.43</td>\n",
       "      <td>0.48</td>\n",
       "      <td>-1.0</td>\n",
       "      <td>-1.0</td>\n",
       "      <td>RP</td>\n",
       "      <td>-0.1</td>\n",
       "      <td>7.55</td>\n",
       "      <td>Nintendo</td>\n",
       "      <td>portative</td>\n",
       "    </tr>\n",
       "  </tbody>\n",
       "</table>\n",
       "</div>"
      ],
      "text/plain": [
       "                                         name platform  year_of_release  \\\n",
       "3                         Pokemon X/Pokemon Y      3DS             2013   \n",
       "7   Pokemon Omega Ruby/Pokemon Alpha Sapphire      3DS             2014   \n",
       "9                     New Super Mario Bros. 2      3DS             2012   \n",
       "13                  Animal Crossing: New Leaf      3DS             2012   \n",
       "20        Super Smash Bros. for Wii U and 3DS      3DS             2014   \n",
       "\n",
       "           genre  na_sales  eu_sales  jp_sales  other_sales  critic_score  \\\n",
       "3   Role-Playing      5.28      4.19      4.35         0.78          -1.0   \n",
       "7   Role-Playing      4.35      3.49      3.10         0.74          -1.0   \n",
       "9       Platform      3.66      3.14      2.47         0.63          78.0   \n",
       "13    Simulation      2.03      2.36      4.39         0.39          88.0   \n",
       "20      Fighting      3.27      1.37      2.43         0.48          -1.0   \n",
       "\n",
       "    user_score rating  cs_ten_rate  total_sales main_plat   dev_type  \n",
       "3         -1.0     RP         -0.1        14.60  Nintendo  portative  \n",
       "7         -1.0     RP         -0.1        11.68  Nintendo  portative  \n",
       "9          7.2      E          7.8         9.90  Nintendo  portative  \n",
       "13         8.7      E          8.8         9.17  Nintendo  portative  \n",
       "20        -1.0     RP         -0.1         7.55  Nintendo  portative  "
      ]
     },
     "execution_count": 76,
     "metadata": {},
     "output_type": "execute_result"
    }
   ],
   "source": [
    "threeds_df = games_2012_2016.loc[games_2012_2016['platform']=='3DS']\n",
    "threeds_df.head()"
   ]
  },
  {
   "cell_type": "code",
   "execution_count": 77,
   "metadata": {},
   "outputs": [
    {
     "data": {
      "image/png": "[encoded data removed]",
      "text/plain": [
       "<Figure size 432x288 with 1 Axes>"
      ]
     },
     "metadata": {
      "needs_background": "light"
     },
     "output_type": "display_data"
    },
    {
     "data": {
      "image/png": "[encoded data removed]",
      "text/plain": [
       "<Figure size 432x288 with 1 Axes>"
      ]
     },
     "metadata": {
      "needs_background": "light"
     },
     "output_type": "display_data"
    }
   ],
   "source": [
    "threeds_df = threeds_df.query('cs_ten_rate > 0 and user_score > 0')\n",
    "threeds_df.plot(x='cs_ten_rate', y='total_sales', kind='scatter', grid=True)\n",
    "threeds_df.plot(x='user_score', y='total_sales', kind='scatter', grid=True)\n",
    "plt.show()"
   ]
  },
  {
   "cell_type": "markdown",
   "metadata": {},
   "source": [
    "**Вывод**: Наиболее явное влияние рейтинга критиков на продажи можно отметить для PS4. Чуть менее явная зависимость для Xbox. При этом рейтингов пользователей для любой из платформ имеет еще меньшее влияние на продажи. \n",
    "В целом корреляция оценок пользователей с продажами - очень слабая, оценок критиков - слабая."
   ]
  },
  {
   "cell_type": "markdown",
   "metadata": {},
   "source": [
    "## Портрет пользователя для каждого региона"
   ]
  },
  {
   "cell_type": "markdown",
   "metadata": {},
   "source": [
    "### По платформам"
   ]
  },
  {
   "cell_type": "markdown",
   "metadata": {},
   "source": [
    "**Севарная америка**"
   ]
  },
  {
   "cell_type": "code",
   "execution_count": 78,
   "metadata": {},
   "outputs": [
    {
     "data": {
      "image/png": "[encoded data removed]",
      "text/plain": [
       "<Figure size 1080x360 with 1 Axes>"
      ]
     },
     "metadata": {
      "needs_background": "light"
     },
     "output_type": "display_data"
    }
   ],
   "source": [
    "na_data = games_2012_2016.groupby(['platform'])['na_sales'].sum().sort_values(ascending=False).head()\n",
    "na_data.plot(y='platform', kind='bar', figsize=(15,5),\n",
    "              color=['red', 'steelblue', 'violet', 'lightgreen', 'lightblue'],\n",
    "              edgecolor='black'\n",
    "             )\n",
    "plt.title('Распределение платформ по выручке в NA 2012-2016')\n",
    "plt.ylabel('')\n",
    "plt.xlabel('')\n",
    "plt.show()"
   ]
  },
  {
   "cell_type": "markdown",
   "metadata": {},
   "source": [
    "**Европа**"
   ]
  },
  {
   "cell_type": "code",
   "execution_count": 79,
   "metadata": {},
   "outputs": [
    {
     "data": {
      "image/png": "[encoded data removed]",
      "text/plain": [
       "<Figure size 1080x360 with 1 Axes>"
      ]
     },
     "metadata": {
      "needs_background": "light"
     },
     "output_type": "display_data"
    }
   ],
   "source": [
    "eu_data = games_2012_2016.groupby(['platform'])['eu_sales'].sum().sort_values(ascending=False).head()\n",
    "eu_data.plot(y='platform', kind='bar', figsize=(15,5),\n",
    "              color=['red', 'steelblue', 'violet', 'lightgreen', 'lightblue'],\n",
    "              edgecolor='black'\n",
    "             )\n",
    "plt.title('Распределение платформ по выручке в EU 2012-2016')\n",
    "plt.ylabel('')\n",
    "plt.xlabel('')\n",
    "plt.show()"
   ]
  },
  {
   "cell_type": "markdown",
   "metadata": {},
   "source": [
    "**Япония**"
   ]
  },
  {
   "cell_type": "code",
   "execution_count": 80,
   "metadata": {},
   "outputs": [
    {
     "data": {
      "image/png": "[encoded data removed]",
      "text/plain": [
       "<Figure size 1080x360 with 1 Axes>"
      ]
     },
     "metadata": {
      "needs_background": "light"
     },
     "output_type": "display_data"
    }
   ],
   "source": [
    "jp_data = games_2012_2016.groupby(['platform'])['jp_sales'].sum().sort_values(ascending=False).head()\n",
    "jp_data.plot(y='platform', kind='bar', figsize=(15,5),\n",
    "              color=['red', 'steelblue', 'violet', 'lightgreen', 'lightblue'],\n",
    "              edgecolor='black'\n",
    "             )\n",
    "plt.title('Распределение платформ по выручке в JP 2012-2016')\n",
    "plt.ylabel('')\n",
    "plt.xlabel('')\n",
    "plt.show()"
   ]
  },
  {
   "cell_type": "markdown",
   "metadata": {},
   "source": [
    "**Остальной мир**"
   ]
  },
  {
   "cell_type": "code",
   "execution_count": 81,
   "metadata": {},
   "outputs": [
    {
     "data": {
      "image/png": "[encoded data removed]",
      "text/plain": [
       "<Figure size 1080x360 with 1 Axes>"
      ]
     },
     "metadata": {
      "needs_background": "light"
     },
     "output_type": "display_data"
    }
   ],
   "source": [
    "other_data = games_2012_2016.groupby(['platform'])['other_sales'].sum().sort_values(ascending=False).head()\n",
    "other_data.plot(y='platform', kind='bar', figsize=(15,5),\n",
    "              color=['red', 'steelblue', 'violet', 'lightgreen', 'lightblue'],\n",
    "              edgecolor='black'\n",
    "             )\n",
    "plt.title('Распределение платформ по выручке в Other 2012-2016')\n",
    "plt.ylabel('')\n",
    "plt.xlabel('')\n",
    "plt.show()"
   ]
  },
  {
   "cell_type": "markdown",
   "metadata": {},
   "source": [
    "### По жанрам"
   ]
  },
  {
   "cell_type": "code",
   "execution_count": 82,
   "metadata": {},
   "outputs": [
    {
     "data": {
      "image/png": "[encoded data removed]",
      "text/plain": [
       "<Figure size 1080x360 with 1 Axes>"
      ]
     },
     "metadata": {
      "needs_background": "light"
     },
     "output_type": "display_data"
    }
   ],
   "source": [
    "na_data = games_2012_2016.groupby(['genre'])['na_sales'].sum().sort_values(ascending=False).head()\n",
    "na_data.plot(y='genre', kind='bar', figsize=(15,5),\n",
    "              color=['red', 'steelblue', 'violet', 'lightgreen', 'lightblue'],\n",
    "              edgecolor='black', grid=True\n",
    "             )\n",
    "plt.title('Распределение жанров по выручке в NA 2012-2015')\n",
    "plt.ylabel('')\n",
    "plt.xlabel('')\n",
    "plt.show()"
   ]
  },
  {
   "cell_type": "code",
   "execution_count": 83,
   "metadata": {},
   "outputs": [
    {
     "data": {
      "image/png": "[encoded data removed]",
      "text/plain": [
       "<Figure size 1080x360 with 1 Axes>"
      ]
     },
     "metadata": {
      "needs_background": "light"
     },
     "output_type": "display_data"
    }
   ],
   "source": [
    "eu_data = games_2012_2016.groupby(['genre'])['eu_sales'].sum().sort_values(ascending=False).head()\n",
    "eu_data.plot(y='genre', kind='bar', figsize=(15,5),\n",
    "              color=['red', 'steelblue', 'violet', 'lightgreen', 'lightblue'],\n",
    "              edgecolor='black', grid=True\n",
    "             )\n",
    "plt.title('Распределение жанров по выручке в EU 2012-2016')\n",
    "plt.ylabel('')\n",
    "plt.xlabel('')\n",
    "plt.show()"
   ]
  },
  {
   "cell_type": "code",
   "execution_count": 84,
   "metadata": {},
   "outputs": [
    {
     "data": {
      "image/png": "[encoded data removed]",
      "text/plain": [
       "<Figure size 1080x360 with 1 Axes>"
      ]
     },
     "metadata": {
      "needs_background": "light"
     },
     "output_type": "display_data"
    }
   ],
   "source": [
    "jp_data = games_2012_2016.groupby(['genre'])['jp_sales'].sum().sort_values(ascending=False).head()\n",
    "jp_data.plot(y='genre', kind='bar', figsize=(15,5),\n",
    "              color=['red', 'steelblue', 'violet', 'lightgreen', 'lightblue'],\n",
    "              edgecolor='black', grid=True\n",
    "             )\n",
    "plt.title('Распределение платформ по выручке в JP 2012-2016')\n",
    "plt.ylabel('')\n",
    "plt.xlabel('')\n",
    "plt.show()"
   ]
  },
  {
   "cell_type": "code",
   "execution_count": 85,
   "metadata": {},
   "outputs": [
    {
     "data": {
      "image/png": "[encoded data removed]",
      "text/plain": [
       "<Figure size 1080x360 with 1 Axes>"
      ]
     },
     "metadata": {
      "needs_background": "light"
     },
     "output_type": "display_data"
    }
   ],
   "source": [
    "other_data = games_2012_2016.groupby(['genre'])['other_sales'].sum().sort_values(ascending=False).head()\n",
    "other_data.plot(y='genre', kind='bar', figsize=(15,5),\n",
    "              color=['red', 'steelblue', 'violet', 'lightgreen', 'lightblue'],\n",
    "              edgecolor='black', grid=True\n",
    "             )\n",
    "plt.title('Распределение платформ по выручке в Other 2012-2016')\n",
    "plt.ylabel('')\n",
    "plt.xlabel('')\n",
    "plt.show()"
   ]
  },
  {
   "cell_type": "markdown",
   "metadata": {},
   "source": [
    "**Рынок видеоигр Японии** являюется атипичным(по сравнению с Европой и Америкой) и очень специфичным. \n",
    "Пока весь мир котирует игры жанра Action, японцы фанатеют от жанра \"Role-Playing\".  \n",
    "В первую очередь речь об игре \"Pokemon Red/Pokemon Blue\". В целом основная доля продаж в Японии лежит на играх для GameBoy и DS. Это портативные устройства.\n",
    "При этом общий анализ динамика рынка показывает, что пик портативных устройств пришёлся на период 2008-2011 года и потом, с появлением смартфонов-конкуретнов рынок демонстрирует ежегодное сокращение.  \n",
    "**Рынки Европы и Северной Америки** имеют большое общего(например, самые популярные жанры Action и Shooter), при этом надо отметить, что любители видеоигр из Северной Америки традционно отдавали предпочтение платформе Xbox, как местному производителю. К сожалению, выборка не позволяет проверить гипотезу, о том что впоследствии Хbox проиграл конкуренцию PS даже на родном рынке.  \n",
    "**Вывод**: востребованность и актуальность платформ и видеоигр во много зависит от региона продаж, при это точно можно сказать, что век портативных девайсов прошёл и вне Японии сложно рассчитывать на существенные прибыли от продаж видеоигр данного сегмента. Основная стационарная консоль Nintendo - Wii не смогла составить конкуренцию лидерам рынка консолей, несмотря на выдающиеся продажи Sports Wii."
   ]
  },
  {
   "cell_type": "markdown",
   "metadata": {},
   "source": [
    "### Влияние ESRB"
   ]
  },
  {
   "cell_type": "code",
   "execution_count": 86,
   "metadata": {},
   "outputs": [
    {
     "data": {
      "image/png": "[encoded data removed]",
      "text/plain": [
       "<Figure size 1080x360 with 3 Axes>"
      ]
     },
     "metadata": {
      "needs_background": "light"
     },
     "output_type": "display_data"
    }
   ],
   "source": [
    "region_sales = ['na_sales', 'eu_sales', 'jp_sales']\n",
    "regions = ['Северная Америка', 'Европа','Япония']\n",
    "\n",
    "\n",
    "fig, ax = plt.subplots(1, 3, figsize=(15,5))\n",
    "fig.suptitle('Продажи по рейтингу ESRB')\n",
    "for i, sale in enumerate(region_sales):\n",
    "    for region in regions:\n",
    "        games_2012_2016.groupby('rating')[sale].sum().plot(\n",
    "                                                       kind='bar', ax=ax[i], title=regions[i])\n",
    "    "
   ]
  },
  {
   "cell_type": "code",
   "execution_count": 87,
   "metadata": {},
   "outputs": [
    {
     "data": {
      "text/html": [
       "<div>\n",
       "<style scoped>\n",
       "    .dataframe tbody tr th:only-of-type {\n",
       "        vertical-align: middle;\n",
       "    }\n",
       "\n",
       "    .dataframe tbody tr th {\n",
       "        vertical-align: top;\n",
       "    }\n",
       "\n",
       "    .dataframe thead th {\n",
       "        text-align: right;\n",
       "    }\n",
       "</style>\n",
       "<table border=\"1\" class=\"dataframe\">\n",
       "  <thead>\n",
       "    <tr style=\"text-align: right;\">\n",
       "      <th></th>\n",
       "      <th>name</th>\n",
       "      <th>platform</th>\n",
       "      <th>year_of_release</th>\n",
       "      <th>genre</th>\n",
       "      <th>na_sales</th>\n",
       "      <th>eu_sales</th>\n",
       "      <th>jp_sales</th>\n",
       "      <th>other_sales</th>\n",
       "      <th>critic_score</th>\n",
       "      <th>user_score</th>\n",
       "      <th>rating</th>\n",
       "      <th>cs_ten_rate</th>\n",
       "      <th>total_sales</th>\n",
       "      <th>main_plat</th>\n",
       "      <th>dev_type</th>\n",
       "    </tr>\n",
       "  </thead>\n",
       "  <tbody>\n",
       "    <tr>\n",
       "      <th>0</th>\n",
       "      <td>Grand Theft Auto V</td>\n",
       "      <td>PS3</td>\n",
       "      <td>2013</td>\n",
       "      <td>Action</td>\n",
       "      <td>7.02</td>\n",
       "      <td>9.09</td>\n",
       "      <td>0.98</td>\n",
       "      <td>3.96</td>\n",
       "      <td>97.0</td>\n",
       "      <td>8.2</td>\n",
       "      <td>M</td>\n",
       "      <td>9.7</td>\n",
       "      <td>21.05</td>\n",
       "      <td>PS</td>\n",
       "      <td>console</td>\n",
       "    </tr>\n",
       "    <tr>\n",
       "      <th>1</th>\n",
       "      <td>Grand Theft Auto V</td>\n",
       "      <td>X360</td>\n",
       "      <td>2013</td>\n",
       "      <td>Action</td>\n",
       "      <td>9.66</td>\n",
       "      <td>5.14</td>\n",
       "      <td>0.06</td>\n",
       "      <td>1.41</td>\n",
       "      <td>97.0</td>\n",
       "      <td>8.1</td>\n",
       "      <td>M</td>\n",
       "      <td>9.7</td>\n",
       "      <td>16.27</td>\n",
       "      <td>Xbox</td>\n",
       "      <td>console</td>\n",
       "    </tr>\n",
       "    <tr>\n",
       "      <th>2</th>\n",
       "      <td>Call of Duty: Black Ops 3</td>\n",
       "      <td>PS4</td>\n",
       "      <td>2015</td>\n",
       "      <td>Shooter</td>\n",
       "      <td>6.03</td>\n",
       "      <td>5.86</td>\n",
       "      <td>0.36</td>\n",
       "      <td>2.38</td>\n",
       "      <td>-1.0</td>\n",
       "      <td>-1.0</td>\n",
       "      <td>RP</td>\n",
       "      <td>-0.1</td>\n",
       "      <td>14.63</td>\n",
       "      <td>PS</td>\n",
       "      <td>console</td>\n",
       "    </tr>\n",
       "    <tr>\n",
       "      <th>3</th>\n",
       "      <td>Pokemon X/Pokemon Y</td>\n",
       "      <td>3DS</td>\n",
       "      <td>2013</td>\n",
       "      <td>Role-Playing</td>\n",
       "      <td>5.28</td>\n",
       "      <td>4.19</td>\n",
       "      <td>4.35</td>\n",
       "      <td>0.78</td>\n",
       "      <td>-1.0</td>\n",
       "      <td>-1.0</td>\n",
       "      <td>RP</td>\n",
       "      <td>-0.1</td>\n",
       "      <td>14.60</td>\n",
       "      <td>Nintendo</td>\n",
       "      <td>portative</td>\n",
       "    </tr>\n",
       "    <tr>\n",
       "      <th>4</th>\n",
       "      <td>Call of Duty: Black Ops II</td>\n",
       "      <td>PS3</td>\n",
       "      <td>2012</td>\n",
       "      <td>Shooter</td>\n",
       "      <td>4.99</td>\n",
       "      <td>5.73</td>\n",
       "      <td>0.65</td>\n",
       "      <td>2.42</td>\n",
       "      <td>83.0</td>\n",
       "      <td>5.3</td>\n",
       "      <td>M</td>\n",
       "      <td>8.3</td>\n",
       "      <td>13.79</td>\n",
       "      <td>PS</td>\n",
       "      <td>console</td>\n",
       "    </tr>\n",
       "    <tr>\n",
       "      <th>5</th>\n",
       "      <td>Call of Duty: Black Ops II</td>\n",
       "      <td>X360</td>\n",
       "      <td>2012</td>\n",
       "      <td>Shooter</td>\n",
       "      <td>8.25</td>\n",
       "      <td>4.24</td>\n",
       "      <td>0.07</td>\n",
       "      <td>1.12</td>\n",
       "      <td>83.0</td>\n",
       "      <td>4.8</td>\n",
       "      <td>M</td>\n",
       "      <td>8.3</td>\n",
       "      <td>13.68</td>\n",
       "      <td>Xbox</td>\n",
       "      <td>console</td>\n",
       "    </tr>\n",
       "    <tr>\n",
       "      <th>6</th>\n",
       "      <td>Grand Theft Auto V</td>\n",
       "      <td>PS4</td>\n",
       "      <td>2014</td>\n",
       "      <td>Action</td>\n",
       "      <td>3.96</td>\n",
       "      <td>6.31</td>\n",
       "      <td>0.38</td>\n",
       "      <td>1.97</td>\n",
       "      <td>97.0</td>\n",
       "      <td>8.3</td>\n",
       "      <td>M</td>\n",
       "      <td>9.7</td>\n",
       "      <td>12.62</td>\n",
       "      <td>PS</td>\n",
       "      <td>console</td>\n",
       "    </tr>\n",
       "  </tbody>\n",
       "</table>\n",
       "</div>"
      ],
      "text/plain": [
       "                         name platform  year_of_release         genre  \\\n",
       "0          Grand Theft Auto V      PS3             2013        Action   \n",
       "1          Grand Theft Auto V     X360             2013        Action   \n",
       "2   Call of Duty: Black Ops 3      PS4             2015       Shooter   \n",
       "3         Pokemon X/Pokemon Y      3DS             2013  Role-Playing   \n",
       "4  Call of Duty: Black Ops II      PS3             2012       Shooter   \n",
       "5  Call of Duty: Black Ops II     X360             2012       Shooter   \n",
       "6          Grand Theft Auto V      PS4             2014        Action   \n",
       "\n",
       "   na_sales  eu_sales  jp_sales  other_sales  critic_score  user_score rating  \\\n",
       "0      7.02      9.09      0.98         3.96          97.0         8.2      M   \n",
       "1      9.66      5.14      0.06         1.41          97.0         8.1      M   \n",
       "2      6.03      5.86      0.36         2.38          -1.0        -1.0     RP   \n",
       "3      5.28      4.19      4.35         0.78          -1.0        -1.0     RP   \n",
       "4      4.99      5.73      0.65         2.42          83.0         5.3      M   \n",
       "5      8.25      4.24      0.07         1.12          83.0         4.8      M   \n",
       "6      3.96      6.31      0.38         1.97          97.0         8.3      M   \n",
       "\n",
       "   cs_ten_rate  total_sales main_plat   dev_type  \n",
       "0          9.7        21.05        PS    console  \n",
       "1          9.7        16.27      Xbox    console  \n",
       "2         -0.1        14.63        PS    console  \n",
       "3         -0.1        14.60  Nintendo  portative  \n",
       "4          8.3        13.79        PS    console  \n",
       "5          8.3        13.68      Xbox    console  \n",
       "6          9.7        12.62        PS    console  "
      ]
     },
     "execution_count": 87,
     "metadata": {},
     "output_type": "execute_result"
    }
   ],
   "source": [
    "games_2012_2016.head(7)"
   ]
  },
  {
   "cell_type": "markdown",
   "metadata": {},
   "source": [
    "**Вывод**: больше всего продаж у игр с рейтингом \"Mature\", туда как раз попадают большинство игры с жанрами Shooting и Action. Так же можно сделать вывод о том, что в Япония система рейтинга ESRB не имеет высокой атуальности и влияния."
   ]
  },
  {
   "cell_type": "markdown",
   "metadata": {},
   "source": [
    "## Гипотезы"
   ]
  },
  {
   "cell_type": "markdown",
   "metadata": {},
   "source": [
    "### Гипотеза 1: Средние пользовательские рейтинги платформ Xbox One и PC одинаковые"
   ]
  },
  {
   "cell_type": "markdown",
   "metadata": {},
   "source": [
    "**H0 (нулевая гипотеза):** Средние пользовательские рейтинги платформ Xbox One и PC равны.  \n",
    "**H1 (альтернативная гипотеза):** Средние пользовательские рейтинги платформ Xbox One и PC не равны.  \n",
    "Для проверки гипотезы о равенстве среднего двух генеральных совокупностей по взятым выборкам, применим метод scipy.stats.ttest_ind (array1, array2, equal_var), при этом критический уровень статистической значимости alpha принимаем как **0.05**"
   ]
  },
  {
   "cell_type": "code",
   "execution_count": 88,
   "metadata": {},
   "outputs": [],
   "source": [
    "xbox_gamers = games_2012_2016.query('platform == \"XOne\" and user_score > 0')\n",
    "pc_gamers = games_2012_2016.query('platform == \"PC\" and user_score > 0')"
   ]
  },
  {
   "cell_type": "code",
   "execution_count": 89,
   "metadata": {},
   "outputs": [
    {
     "name": "stdout",
     "output_type": "stream",
     "text": [
      "p-значение: 0.5489537965134912\n",
      "Не отвергаем Н0\n"
     ]
    }
   ],
   "source": [
    "sample_1 = xbox_gamers['user_score'][xbox_gamers['user_score'].notna()].tolist()\n",
    "sample_2 = pc_gamers['user_score'][pc_gamers['user_score'].notna()].tolist()\n",
    "alpha = 0.05\n",
    "results = st.ttest_ind(sample_1, sample_2, equal_var=False)\n",
    "print('p-значение:', results.pvalue)\n",
    "if results.pvalue < alpha:\n",
    "    print(\"Отвергаем Н0\")\n",
    "else:\n",
    "    print(\"Не отвергаем Н0\")"
   ]
  },
  {
   "cell_type": "markdown",
   "metadata": {},
   "source": [
    "Нулевую гипотезу не отвергаем. Средние рейтинги пользователей PC и Xbox One имеют схожие значения.  \n",
    "Сравним средние значения."
   ]
  },
  {
   "cell_type": "code",
   "execution_count": 90,
   "metadata": {},
   "outputs": [
    {
     "name": "stdout",
     "output_type": "stream",
     "text": [
      "Средняя пользовательская оценка XOne:6.52\n",
      "Средняя пользовательская оценка PC: 6.43\n"
     ]
    }
   ],
   "source": [
    "xbox_rate = round(xbox_gamers[\"user_score\"][xbox_gamers[\"user_score\"].notna()].mean(), 2)\n",
    "pc_rate = round(pc_gamers['user_score'][pc_gamers['user_score'].notna()].mean(), 2)\n",
    "\n",
    "print(f'Средняя пользовательская оценка XOne:{xbox_rate}')\n",
    "print(f'Средняя пользовательская оценка PC: {pc_rate}')"
   ]
  },
  {
   "cell_type": "markdown",
   "metadata": {},
   "source": [
    "**Средние значение подтверждают тезис о том, что нулевая гипотеза не может быть отвергнута**"
   ]
  },
  {
   "cell_type": "markdown",
   "metadata": {},
   "source": [
    "###  Гипотеза 2: Средние пользовательские рейтинги жанров Action (англ. «действие», экшен-игры) и Sports (англ. «спортивные соревнования») разные."
   ]
  },
  {
   "cell_type": "code",
   "execution_count": 91,
   "metadata": {},
   "outputs": [
    {
     "name": "stdout",
     "output_type": "stream",
     "text": [
      "p-значение: 4.24307776572644e-20\n",
      "Отвергаем Н0\n"
     ]
    }
   ],
   "source": [
    "action_gamers = games_2012_2016.query('genre == \"Action\" and user_score > 0')\n",
    "sports_gamers = games_2012_2016.query('genre == \"Sports\" and user_score > 0')\n",
    "sample_01 = action_gamers['user_score'][action_gamers['user_score'].notna()].tolist()\n",
    "sample_02 = sports_gamers['user_score'][sports_gamers['user_score'].notna()].tolist()\n",
    "alpha = 0.05 \n",
    "results = st.ttest_ind(sample_01, sample_02, equal_var=False)\n",
    "print('p-значение:', results.pvalue)\n",
    "if results.pvalue < alpha:\n",
    "    print(\"Отвергаем Н0\")\n",
    "else:\n",
    "    print(\"Не отвергаем Н0\")"
   ]
  },
  {
   "cell_type": "markdown",
   "metadata": {},
   "source": [
    "Значение P-value говорит о том, что нулевую гипотезу можно отвергнуть.  \n",
    "Проверим средние значения"
   ]
  },
  {
   "cell_type": "code",
   "execution_count": 92,
   "metadata": {},
   "outputs": [
    {
     "name": "stdout",
     "output_type": "stream",
     "text": [
      "Средняя пользовательская оценка Action:6.83\n",
      "Средняя пользовательская оценка Sports:5.46\n"
     ]
    }
   ],
   "source": [
    "action_rate = round(action_gamers[\"user_score\"][action_gamers[\"user_score\"].notna()].mean(), 2)\n",
    "sports_rate = round(sports_gamers['user_score'][sports_gamers['user_score'].notna()].mean(), 2)\n",
    "print(f'Средняя пользовательская оценка Action:{action_rate}')\n",
    "print(f'Средняя пользовательская оценка Sports:{sports_rate}')"
   ]
  },
  {
   "cell_type": "markdown",
   "metadata": {},
   "source": [
    "**Вывод: Верно. Пользователи больше котируют жанр Action, а вот жанр Sports имеет значительное отставание.  \n",
    "Нулевую гипотезу можно отвергнуть**"
   ]
  },
  {
   "cell_type": "markdown",
   "metadata": {},
   "source": [
    "## Вывод"
   ]
  },
  {
   "cell_type": "markdown",
   "metadata": {},
   "source": [
    "Предположим, что наш магазин расположен в европейской части восточного полушария.  \n",
    "**Приоритетный тип консолей:** стационарные.  \n",
    "**Приоритетные модели консолей:** PS4 и XboxOne.  \n",
    "**Приоритетные жанры:**  Shooter, Action, Sport.  \n",
    "**Приоритетный рейтинг:** рейтинг кинокритиков.  \n",
    "**Приоритетный рейтинг ESRB:** M(Mature)  \n",
    "**Неприоритетные типы консолей:** портативные.  \n",
    "**Неприоритетные платформы:** Nintendo, PS.  \n",
    "**Важно**: при планировании продаж необходимо также опираться на даты релизов продолжений суперуспешных игр, например:  \n",
    "1. Sims\n",
    "2. GTA\n",
    "3. Call of Duty\n",
    "4. The Elder Scrolls  \n",
    "5. FIFA  \n",
    "Продолжение игр, которые имели высокую популярность в прошлом, скорее всего будут иметь высокие продажи на старте, независимо от типа платформы и консоли. В части спортивных симуляторов(FIFA) люди также склонны покупать новые версии игр(не смотря на отсутствие характерных изменений), так как на консолях это позволяет играть онлайн.  \n",
    "**В рамках проекта было проверено 2 гипотезы. Согласно исследованию:**\n",
    ">**Пользовательские оценки для ПК и Xbox имеют похожие значения**. Вероятно это может быть связано с тем, что производством платформы Xbox занимается Microsoft, который в первую очередь(исторически) окучивает рынок ПК.  \n",
    ">**Пользовательские оценки для жанров Action и Sports имеют находятся на разном уровне**. Жанр Action для пользователей более интересен.  \n",
    "\n",
    "**Интересный факт**: рынок продаж Японии очень специфичен. Его данные нельзя использовать для прогнозировании продаж вне этого региона."
   ]
  }
 ],
 "metadata": {
  "ExecuteTimeLog": [
   {
    "duration": 1333,
    "start_time": "2022-11-28T08:57:21.084Z"
   },
   {
    "duration": 102,
    "start_time": "2022-11-28T08:57:26.936Z"
   },
   {
    "duration": 128,
    "start_time": "2022-11-28T08:58:36.085Z"
   },
   {
    "duration": 59,
    "start_time": "2022-11-28T08:58:46.912Z"
   },
   {
    "duration": 15,
    "start_time": "2022-11-28T08:58:54.769Z"
   },
   {
    "duration": 34,
    "start_time": "2022-11-28T08:59:26.725Z"
   },
   {
    "duration": 67,
    "start_time": "2022-11-28T09:28:53.107Z"
   },
   {
    "duration": 7,
    "start_time": "2022-11-28T09:29:24.655Z"
   },
   {
    "duration": 34,
    "start_time": "2022-11-28T10:09:30.603Z"
   },
   {
    "duration": 10,
    "start_time": "2022-11-28T10:39:41.479Z"
   },
   {
    "duration": 172,
    "start_time": "2022-11-28T11:13:09.907Z"
   },
   {
    "duration": 75,
    "start_time": "2022-11-28T11:14:06.449Z"
   },
   {
    "duration": 64,
    "start_time": "2022-11-28T11:14:09.628Z"
   },
   {
    "duration": 161,
    "start_time": "2022-11-28T11:14:54.150Z"
   },
   {
    "duration": 208,
    "start_time": "2022-11-28T11:15:04.757Z"
   },
   {
    "duration": 191,
    "start_time": "2022-11-28T11:15:09.245Z"
   },
   {
    "duration": 192,
    "start_time": "2022-11-28T11:15:12.893Z"
   },
   {
    "duration": 5,
    "start_time": "2022-11-28T11:16:18.969Z"
   },
   {
    "duration": 6,
    "start_time": "2022-11-28T11:16:30.356Z"
   },
   {
    "duration": 18,
    "start_time": "2022-11-28T11:30:36.480Z"
   },
   {
    "duration": 245,
    "start_time": "2022-11-28T11:31:26.078Z"
   },
   {
    "duration": 18,
    "start_time": "2022-11-28T11:34:58.983Z"
   },
   {
    "duration": 1121,
    "start_time": "2022-11-28T11:35:05.633Z"
   },
   {
    "duration": 6,
    "start_time": "2022-11-28T11:35:24.490Z"
   },
   {
    "duration": 17,
    "start_time": "2022-11-28T11:35:26.525Z"
   },
   {
    "duration": 16,
    "start_time": "2022-11-28T11:36:17.669Z"
   },
   {
    "duration": 17,
    "start_time": "2022-11-28T11:36:54.913Z"
   },
   {
    "duration": 184,
    "start_time": "2022-11-28T11:37:01.024Z"
   },
   {
    "duration": 14,
    "start_time": "2022-11-28T11:37:29.324Z"
   },
   {
    "duration": 10,
    "start_time": "2022-11-28T11:37:41.371Z"
   },
   {
    "duration": 12,
    "start_time": "2022-11-28T11:41:32.195Z"
   },
   {
    "duration": 8,
    "start_time": "2022-11-28T11:41:39.508Z"
   },
   {
    "duration": 7,
    "start_time": "2022-11-28T11:45:44.470Z"
   },
   {
    "duration": 7,
    "start_time": "2022-11-28T11:45:54.780Z"
   },
   {
    "duration": 7,
    "start_time": "2022-11-28T11:46:05.253Z"
   },
   {
    "duration": 11,
    "start_time": "2022-11-28T11:57:27.943Z"
   },
   {
    "duration": 7,
    "start_time": "2022-11-28T11:57:38.738Z"
   },
   {
    "duration": 6,
    "start_time": "2022-11-28T11:57:45.822Z"
   },
   {
    "duration": 7,
    "start_time": "2022-11-28T11:57:53.736Z"
   },
   {
    "duration": 67,
    "start_time": "2022-11-28T11:58:06.684Z"
   },
   {
    "duration": 16,
    "start_time": "2022-11-28T11:58:07.654Z"
   },
   {
    "duration": 13,
    "start_time": "2022-11-28T11:58:08.451Z"
   },
   {
    "duration": 103,
    "start_time": "2022-11-28T11:58:09.282Z"
   },
   {
    "duration": 12,
    "start_time": "2022-11-28T11:58:11.370Z"
   },
   {
    "duration": 178,
    "start_time": "2022-11-28T11:58:12.272Z"
   },
   {
    "duration": 5,
    "start_time": "2022-11-28T11:58:18.994Z"
   },
   {
    "duration": 8,
    "start_time": "2022-11-28T11:58:21.538Z"
   },
   {
    "duration": 7,
    "start_time": "2022-11-28T11:58:23.978Z"
   },
   {
    "duration": 7,
    "start_time": "2022-11-28T11:58:25.413Z"
   },
   {
    "duration": 5,
    "start_time": "2022-11-28T11:58:44.132Z"
   },
   {
    "duration": 6,
    "start_time": "2022-11-28T11:58:50.669Z"
   },
   {
    "duration": 9,
    "start_time": "2022-11-28T11:58:51.770Z"
   },
   {
    "duration": 3,
    "start_time": "2022-11-28T11:59:02.535Z"
   },
   {
    "duration": 79,
    "start_time": "2022-11-28T11:59:03.897Z"
   },
   {
    "duration": 16,
    "start_time": "2022-11-28T11:59:04.325Z"
   },
   {
    "duration": 14,
    "start_time": "2022-11-28T11:59:04.827Z"
   },
   {
    "duration": 33,
    "start_time": "2022-11-28T11:59:05.293Z"
   },
   {
    "duration": 10,
    "start_time": "2022-11-28T11:59:06.115Z"
   },
   {
    "duration": 187,
    "start_time": "2022-11-28T11:59:06.597Z"
   },
   {
    "duration": 5,
    "start_time": "2022-11-28T11:59:08.659Z"
   },
   {
    "duration": 5,
    "start_time": "2022-11-28T11:59:09.773Z"
   },
   {
    "duration": 7,
    "start_time": "2022-11-28T11:59:11.354Z"
   },
   {
    "duration": 7,
    "start_time": "2022-11-28T11:59:13.985Z"
   },
   {
    "duration": 6,
    "start_time": "2022-11-28T12:01:42.897Z"
   },
   {
    "duration": 6,
    "start_time": "2022-11-28T12:01:48.640Z"
   },
   {
    "duration": 7,
    "start_time": "2022-11-28T12:01:50.213Z"
   },
   {
    "duration": 6,
    "start_time": "2022-11-28T12:01:52.325Z"
   },
   {
    "duration": 3,
    "start_time": "2022-11-28T12:05:06.402Z"
   },
   {
    "duration": 66,
    "start_time": "2022-11-28T12:05:08.108Z"
   },
   {
    "duration": 16,
    "start_time": "2022-11-28T12:05:08.660Z"
   },
   {
    "duration": 14,
    "start_time": "2022-11-28T12:05:09.058Z"
   },
   {
    "duration": 36,
    "start_time": "2022-11-28T12:05:09.873Z"
   },
   {
    "duration": 10,
    "start_time": "2022-11-28T12:05:11.056Z"
   },
   {
    "duration": 195,
    "start_time": "2022-11-28T12:05:11.996Z"
   },
   {
    "duration": 6,
    "start_time": "2022-11-28T12:05:14.087Z"
   },
   {
    "duration": 6,
    "start_time": "2022-11-28T12:05:15.335Z"
   },
   {
    "duration": 8,
    "start_time": "2022-11-28T12:05:17.777Z"
   },
   {
    "duration": 6,
    "start_time": "2022-11-28T12:05:18.441Z"
   },
   {
    "duration": 8,
    "start_time": "2022-11-28T12:05:26.069Z"
   },
   {
    "duration": 8,
    "start_time": "2022-11-28T12:05:39.296Z"
   },
   {
    "duration": 4,
    "start_time": "2022-11-28T12:05:43.973Z"
   },
   {
    "duration": 74,
    "start_time": "2022-11-28T12:05:45.140Z"
   },
   {
    "duration": 17,
    "start_time": "2022-11-28T12:05:45.542Z"
   },
   {
    "duration": 15,
    "start_time": "2022-11-28T12:05:46.025Z"
   },
   {
    "duration": 33,
    "start_time": "2022-11-28T12:05:46.560Z"
   },
   {
    "duration": 11,
    "start_time": "2022-11-28T12:05:47.515Z"
   },
   {
    "duration": 184,
    "start_time": "2022-11-28T12:05:48.003Z"
   },
   {
    "duration": 5,
    "start_time": "2022-11-28T12:05:49.781Z"
   },
   {
    "duration": 7,
    "start_time": "2022-11-28T12:05:50.678Z"
   },
   {
    "duration": 7,
    "start_time": "2022-11-28T12:05:52.106Z"
   },
   {
    "duration": 8,
    "start_time": "2022-11-28T12:05:52.569Z"
   },
   {
    "duration": 5,
    "start_time": "2022-11-28T12:05:53.159Z"
   },
   {
    "duration": 8,
    "start_time": "2022-11-28T12:07:16.695Z"
   },
   {
    "duration": 8,
    "start_time": "2022-11-28T12:09:24.103Z"
   },
   {
    "duration": 1240,
    "start_time": "2022-11-28T12:10:06.109Z"
   },
   {
    "duration": 1232,
    "start_time": "2022-11-28T12:10:15.021Z"
   },
   {
    "duration": 1214,
    "start_time": "2022-11-28T12:10:28.195Z"
   },
   {
    "duration": 16,
    "start_time": "2022-11-28T12:10:48.002Z"
   },
   {
    "duration": 8,
    "start_time": "2022-11-28T12:11:10.636Z"
   },
   {
    "duration": 2,
    "start_time": "2022-11-28T13:00:05.003Z"
   },
   {
    "duration": 73,
    "start_time": "2022-11-28T13:00:09.213Z"
   },
   {
    "duration": 17,
    "start_time": "2022-11-28T13:00:09.858Z"
   },
   {
    "duration": 14,
    "start_time": "2022-11-28T13:00:11.147Z"
   },
   {
    "duration": 32,
    "start_time": "2022-11-28T13:00:12.034Z"
   },
   {
    "duration": 10,
    "start_time": "2022-11-28T13:00:15.473Z"
   },
   {
    "duration": 179,
    "start_time": "2022-11-28T13:00:17.017Z"
   },
   {
    "duration": 6,
    "start_time": "2022-11-28T13:00:22.496Z"
   },
   {
    "duration": 7,
    "start_time": "2022-11-28T13:00:25.248Z"
   },
   {
    "duration": 7,
    "start_time": "2022-11-28T13:00:28.107Z"
   },
   {
    "duration": 7,
    "start_time": "2022-11-28T13:00:49.030Z"
   },
   {
    "duration": 8,
    "start_time": "2022-11-28T13:02:56.126Z"
   },
   {
    "duration": 8,
    "start_time": "2022-11-28T13:03:53.186Z"
   },
   {
    "duration": 9,
    "start_time": "2022-11-28T13:04:06.739Z"
   },
   {
    "duration": 7,
    "start_time": "2022-11-28T13:12:41.572Z"
   },
   {
    "duration": 15,
    "start_time": "2022-11-28T13:12:55.771Z"
   },
   {
    "duration": 11,
    "start_time": "2022-11-28T13:26:17.805Z"
   },
   {
    "duration": 14,
    "start_time": "2022-11-28T13:26:32.760Z"
   },
   {
    "duration": 4,
    "start_time": "2022-11-28T13:28:19.506Z"
   },
   {
    "duration": 17,
    "start_time": "2022-11-28T13:30:45.648Z"
   },
   {
    "duration": 15,
    "start_time": "2022-11-28T13:31:26.521Z"
   },
   {
    "duration": 5,
    "start_time": "2022-11-28T13:32:05.797Z"
   },
   {
    "duration": 6,
    "start_time": "2022-11-28T13:32:08.806Z"
   },
   {
    "duration": 16,
    "start_time": "2022-11-28T13:32:14.665Z"
   },
   {
    "duration": 6,
    "start_time": "2022-11-28T13:32:15.243Z"
   },
   {
    "duration": 6,
    "start_time": "2022-11-28T13:32:21.994Z"
   },
   {
    "duration": 739,
    "start_time": "2022-11-28T13:33:26.451Z"
   },
   {
    "duration": 8,
    "start_time": "2022-11-28T13:33:45.729Z"
   },
   {
    "duration": 243,
    "start_time": "2022-11-28T13:34:11.368Z"
   },
   {
    "duration": 659,
    "start_time": "2022-11-28T13:34:51.141Z"
   },
   {
    "duration": 10,
    "start_time": "2022-11-28T13:35:10.594Z"
   },
   {
    "duration": 657,
    "start_time": "2022-11-28T13:35:22.516Z"
   },
   {
    "duration": 4,
    "start_time": "2022-11-28T13:36:55.741Z"
   },
   {
    "duration": 4,
    "start_time": "2022-11-28T13:38:13.541Z"
   },
   {
    "duration": 57,
    "start_time": "2022-11-28T13:38:31.170Z"
   },
   {
    "duration": 21,
    "start_time": "2022-11-28T13:38:40.377Z"
   },
   {
    "duration": 19,
    "start_time": "2022-11-28T13:39:13.343Z"
   },
   {
    "duration": 374,
    "start_time": "2022-11-28T13:39:34.058Z"
   },
   {
    "duration": 172,
    "start_time": "2022-11-28T14:08:17.842Z"
   },
   {
    "duration": 12,
    "start_time": "2022-11-28T14:08:34.419Z"
   },
   {
    "duration": 15,
    "start_time": "2022-11-28T14:08:44.841Z"
   },
   {
    "duration": 17,
    "start_time": "2022-11-28T14:08:59.449Z"
   },
   {
    "duration": 166,
    "start_time": "2022-11-28T14:09:32.721Z"
   },
   {
    "duration": 24,
    "start_time": "2022-11-28T14:09:45.106Z"
   },
   {
    "duration": 18,
    "start_time": "2022-11-28T14:09:51.461Z"
   },
   {
    "duration": 161,
    "start_time": "2022-11-28T14:09:57.383Z"
   },
   {
    "duration": 155,
    "start_time": "2022-11-28T14:10:22.853Z"
   },
   {
    "duration": 23,
    "start_time": "2022-11-28T14:11:03.962Z"
   },
   {
    "duration": 22,
    "start_time": "2022-11-28T14:11:15.775Z"
   },
   {
    "duration": 21,
    "start_time": "2022-11-28T14:11:37.511Z"
   },
   {
    "duration": 254,
    "start_time": "2022-11-28T15:12:21.960Z"
   },
   {
    "duration": 105,
    "start_time": "2022-11-28T15:12:34.176Z"
   },
   {
    "duration": 42,
    "start_time": "2022-11-28T15:12:48.718Z"
   },
   {
    "duration": 1021,
    "start_time": "2022-11-28T15:13:08.511Z"
   },
   {
    "duration": 14,
    "start_time": "2022-11-28T15:13:32.111Z"
   },
   {
    "duration": 919,
    "start_time": "2022-11-28T15:13:35.155Z"
   },
   {
    "duration": 20,
    "start_time": "2022-11-28T15:13:54.782Z"
   },
   {
    "duration": 6,
    "start_time": "2022-11-28T15:14:13.110Z"
   },
   {
    "duration": 6,
    "start_time": "2022-11-28T15:14:36.109Z"
   },
   {
    "duration": 6,
    "start_time": "2022-11-28T15:15:54.779Z"
   },
   {
    "duration": 845,
    "start_time": "2022-11-28T15:16:04.417Z"
   },
   {
    "duration": 1105,
    "start_time": "2022-11-28T15:16:15.649Z"
   },
   {
    "duration": 6,
    "start_time": "2022-11-28T18:56:07.214Z"
   },
   {
    "duration": 5,
    "start_time": "2022-11-28T18:56:35.303Z"
   },
   {
    "duration": 7,
    "start_time": "2022-11-28T18:56:53.842Z"
   },
   {
    "duration": 13,
    "start_time": "2022-11-28T18:58:09.266Z"
   },
   {
    "duration": 14,
    "start_time": "2022-11-28T18:58:15.542Z"
   },
   {
    "duration": 5,
    "start_time": "2022-11-28T18:58:54.778Z"
   },
   {
    "duration": 8,
    "start_time": "2022-11-28T18:59:18.108Z"
   },
   {
    "duration": 7,
    "start_time": "2022-11-28T18:59:40.166Z"
   },
   {
    "duration": 6,
    "start_time": "2022-11-28T19:09:01.014Z"
   },
   {
    "duration": 21,
    "start_time": "2022-11-28T19:09:13.998Z"
   },
   {
    "duration": 20,
    "start_time": "2022-11-28T19:09:23.123Z"
   },
   {
    "duration": 11,
    "start_time": "2022-11-28T19:10:25.053Z"
   },
   {
    "duration": 8,
    "start_time": "2022-11-28T19:10:47.129Z"
   },
   {
    "duration": 5,
    "start_time": "2022-11-28T20:35:23.344Z"
   },
   {
    "duration": 5,
    "start_time": "2022-11-28T20:35:38.410Z"
   },
   {
    "duration": 7,
    "start_time": "2022-11-28T20:38:08.119Z"
   },
   {
    "duration": 15,
    "start_time": "2022-11-28T20:38:19.208Z"
   },
   {
    "duration": 14,
    "start_time": "2022-11-28T20:38:41.555Z"
   },
   {
    "duration": 13,
    "start_time": "2022-11-28T20:38:44.029Z"
   },
   {
    "duration": 41,
    "start_time": "2022-11-28T20:40:55.275Z"
   },
   {
    "duration": 26,
    "start_time": "2022-11-28T20:41:01.047Z"
   },
   {
    "duration": 7,
    "start_time": "2022-11-28T20:41:15.649Z"
   },
   {
    "duration": 8,
    "start_time": "2022-11-28T20:41:29.972Z"
   },
   {
    "duration": 15,
    "start_time": "2022-11-28T20:41:32.560Z"
   },
   {
    "duration": 13,
    "start_time": "2022-11-28T20:41:38.897Z"
   },
   {
    "duration": 7,
    "start_time": "2022-11-28T20:41:57.324Z"
   },
   {
    "duration": 9,
    "start_time": "2022-11-28T20:42:05.368Z"
   },
   {
    "duration": 1056,
    "start_time": "2022-11-28T20:42:19.942Z"
   },
   {
    "duration": 73,
    "start_time": "2022-11-28T20:42:21.000Z"
   },
   {
    "duration": 17,
    "start_time": "2022-11-28T20:42:21.075Z"
   },
   {
    "duration": 15,
    "start_time": "2022-11-28T20:42:21.094Z"
   },
   {
    "duration": 38,
    "start_time": "2022-11-28T20:42:21.110Z"
   },
   {
    "duration": 9,
    "start_time": "2022-11-28T20:42:21.149Z"
   },
   {
    "duration": 208,
    "start_time": "2022-11-28T20:42:21.160Z"
   },
   {
    "duration": 5,
    "start_time": "2022-11-28T20:42:21.369Z"
   },
   {
    "duration": 21,
    "start_time": "2022-11-28T20:42:21.375Z"
   },
   {
    "duration": 6,
    "start_time": "2022-11-28T20:42:21.399Z"
   },
   {
    "duration": 6,
    "start_time": "2022-11-28T20:42:21.406Z"
   },
   {
    "duration": 9,
    "start_time": "2022-11-28T20:42:21.414Z"
   },
   {
    "duration": 13,
    "start_time": "2022-11-28T20:42:21.424Z"
   },
   {
    "duration": 4,
    "start_time": "2022-11-28T20:42:21.439Z"
   },
   {
    "duration": 11,
    "start_time": "2022-11-28T20:42:21.444Z"
   },
   {
    "duration": 42,
    "start_time": "2022-11-28T20:42:21.456Z"
   },
   {
    "duration": 104,
    "start_time": "2022-11-28T20:42:21.500Z"
   },
   {
    "duration": 0,
    "start_time": "2022-11-28T20:42:21.606Z"
   },
   {
    "duration": 0,
    "start_time": "2022-11-28T20:42:21.607Z"
   },
   {
    "duration": 0,
    "start_time": "2022-11-28T20:42:21.608Z"
   },
   {
    "duration": 0,
    "start_time": "2022-11-28T20:42:21.609Z"
   },
   {
    "duration": 0,
    "start_time": "2022-11-28T20:42:21.611Z"
   },
   {
    "duration": 0,
    "start_time": "2022-11-28T20:42:21.612Z"
   },
   {
    "duration": 0,
    "start_time": "2022-11-28T20:42:21.613Z"
   },
   {
    "duration": 0,
    "start_time": "2022-11-28T20:42:21.615Z"
   },
   {
    "duration": 5,
    "start_time": "2022-11-28T20:42:28.831Z"
   },
   {
    "duration": 8,
    "start_time": "2022-11-28T20:42:32.196Z"
   },
   {
    "duration": 6,
    "start_time": "2022-11-28T20:42:39.500Z"
   },
   {
    "duration": 8,
    "start_time": "2022-11-28T20:42:43.713Z"
   },
   {
    "duration": 20,
    "start_time": "2022-11-28T20:42:45.822Z"
   },
   {
    "duration": 13,
    "start_time": "2022-11-28T20:42:50.019Z"
   },
   {
    "duration": 16,
    "start_time": "2022-11-28T20:42:53.104Z"
   },
   {
    "duration": 8,
    "start_time": "2022-11-28T20:43:04.755Z"
   },
   {
    "duration": 10,
    "start_time": "2022-11-28T20:43:10.030Z"
   },
   {
    "duration": 5,
    "start_time": "2022-11-28T21:16:59.619Z"
   },
   {
    "duration": 5,
    "start_time": "2022-11-28T21:19:38.690Z"
   },
   {
    "duration": 7,
    "start_time": "2022-11-28T21:20:04.808Z"
   },
   {
    "duration": 9,
    "start_time": "2022-11-28T21:24:52.555Z"
   },
   {
    "duration": 10,
    "start_time": "2022-11-28T21:24:56.019Z"
   },
   {
    "duration": 297,
    "start_time": "2022-11-28T21:25:04.830Z"
   },
   {
    "duration": 184,
    "start_time": "2022-11-28T21:31:41.765Z"
   },
   {
    "duration": 226,
    "start_time": "2022-11-28T21:31:56.600Z"
   },
   {
    "duration": 19,
    "start_time": "2022-11-28T21:33:24.854Z"
   },
   {
    "duration": 18,
    "start_time": "2022-11-28T21:33:34.605Z"
   },
   {
    "duration": 7,
    "start_time": "2022-11-28T22:34:37.677Z"
   },
   {
    "duration": 7,
    "start_time": "2022-11-28T22:34:45.323Z"
   },
   {
    "duration": 8,
    "start_time": "2022-11-28T22:34:49.612Z"
   },
   {
    "duration": 6,
    "start_time": "2022-11-28T22:35:00.341Z"
   },
   {
    "duration": 18,
    "start_time": "2022-11-28T22:35:14.621Z"
   },
   {
    "duration": 18,
    "start_time": "2022-11-28T22:35:34.714Z"
   },
   {
    "duration": 18,
    "start_time": "2022-11-28T22:35:47.745Z"
   },
   {
    "duration": 19,
    "start_time": "2022-11-28T22:38:07.881Z"
   },
   {
    "duration": 16,
    "start_time": "2022-11-28T22:38:50.769Z"
   },
   {
    "duration": 6,
    "start_time": "2022-11-28T22:39:14.359Z"
   },
   {
    "duration": 16,
    "start_time": "2022-11-28T22:39:21.354Z"
   },
   {
    "duration": 18,
    "start_time": "2022-11-28T22:39:33.296Z"
   },
   {
    "duration": 17,
    "start_time": "2022-11-28T22:44:11.159Z"
   },
   {
    "duration": 18,
    "start_time": "2022-11-28T22:44:48.571Z"
   },
   {
    "duration": 187,
    "start_time": "2022-11-28T22:45:35.507Z"
   },
   {
    "duration": 193,
    "start_time": "2022-11-28T22:45:48.103Z"
   },
   {
    "duration": 6,
    "start_time": "2022-11-28T22:46:04.196Z"
   },
   {
    "duration": 16,
    "start_time": "2022-11-28T22:46:15.290Z"
   },
   {
    "duration": 15,
    "start_time": "2022-11-28T23:12:47.241Z"
   },
   {
    "duration": 23,
    "start_time": "2022-11-28T23:15:32.879Z"
   },
   {
    "duration": 23,
    "start_time": "2022-11-29T06:53:01.373Z"
   },
   {
    "duration": 8,
    "start_time": "2022-11-29T06:55:00.751Z"
   },
   {
    "duration": 21,
    "start_time": "2022-11-29T06:55:09.902Z"
   },
   {
    "duration": 1087,
    "start_time": "2022-11-29T06:56:25.043Z"
   },
   {
    "duration": 71,
    "start_time": "2022-11-29T06:56:26.133Z"
   },
   {
    "duration": 17,
    "start_time": "2022-11-29T06:56:26.205Z"
   },
   {
    "duration": 15,
    "start_time": "2022-11-29T06:56:26.224Z"
   },
   {
    "duration": 32,
    "start_time": "2022-11-29T06:56:26.241Z"
   },
   {
    "duration": 31,
    "start_time": "2022-11-29T06:56:26.274Z"
   },
   {
    "duration": 200,
    "start_time": "2022-11-29T06:56:26.306Z"
   },
   {
    "duration": 4,
    "start_time": "2022-11-29T06:56:26.508Z"
   },
   {
    "duration": 18,
    "start_time": "2022-11-29T06:56:26.514Z"
   },
   {
    "duration": 16,
    "start_time": "2022-11-29T06:56:26.535Z"
   },
   {
    "duration": 12,
    "start_time": "2022-11-29T06:56:26.552Z"
   },
   {
    "duration": 15,
    "start_time": "2022-11-29T06:56:26.566Z"
   },
   {
    "duration": 17,
    "start_time": "2022-11-29T06:56:26.583Z"
   },
   {
    "duration": 6,
    "start_time": "2022-11-29T06:56:26.601Z"
   },
   {
    "duration": 22,
    "start_time": "2022-11-29T06:56:26.609Z"
   },
   {
    "duration": 17,
    "start_time": "2022-11-29T06:56:26.632Z"
   },
   {
    "duration": 11,
    "start_time": "2022-11-29T06:56:26.651Z"
   },
   {
    "duration": 16,
    "start_time": "2022-11-29T06:56:26.664Z"
   },
   {
    "duration": 15,
    "start_time": "2022-11-29T06:56:26.682Z"
   },
   {
    "duration": 18,
    "start_time": "2022-11-29T06:56:26.698Z"
   },
   {
    "duration": 18,
    "start_time": "2022-11-29T06:56:26.717Z"
   },
   {
    "duration": 27,
    "start_time": "2022-11-29T06:56:26.737Z"
   },
   {
    "duration": 22,
    "start_time": "2022-11-29T06:56:26.766Z"
   },
   {
    "duration": 18,
    "start_time": "2022-11-29T06:56:26.789Z"
   },
   {
    "duration": 18,
    "start_time": "2022-11-29T06:56:26.809Z"
   },
   {
    "duration": 17,
    "start_time": "2022-11-29T06:56:26.829Z"
   },
   {
    "duration": 17,
    "start_time": "2022-11-29T06:56:26.847Z"
   },
   {
    "duration": 31,
    "start_time": "2022-11-29T06:56:26.867Z"
   },
   {
    "duration": 18,
    "start_time": "2022-11-29T06:56:26.900Z"
   },
   {
    "duration": 6,
    "start_time": "2022-11-29T06:56:26.919Z"
   },
   {
    "duration": 34,
    "start_time": "2022-11-29T06:56:26.926Z"
   },
   {
    "duration": 5,
    "start_time": "2022-11-29T06:57:44.372Z"
   },
   {
    "duration": 19,
    "start_time": "2022-11-29T06:57:46.579Z"
   },
   {
    "duration": 5,
    "start_time": "2022-11-29T06:58:27.115Z"
   },
   {
    "duration": 19,
    "start_time": "2022-11-29T06:58:31.726Z"
   },
   {
    "duration": 16,
    "start_time": "2022-11-29T06:58:37.576Z"
   },
   {
    "duration": 15,
    "start_time": "2022-11-29T07:01:15.289Z"
   },
   {
    "duration": 16,
    "start_time": "2022-11-29T07:01:54.906Z"
   },
   {
    "duration": 4,
    "start_time": "2022-11-29T07:02:08.154Z"
   },
   {
    "duration": 331,
    "start_time": "2022-11-29T07:05:05.419Z"
   },
   {
    "duration": 56,
    "start_time": "2022-11-29T07:05:28.942Z"
   },
   {
    "duration": 230,
    "start_time": "2022-11-29T07:05:37.168Z"
   },
   {
    "duration": 324,
    "start_time": "2022-11-29T07:08:04.357Z"
   },
   {
    "duration": 10,
    "start_time": "2022-11-29T07:14:26.179Z"
   },
   {
    "duration": 296,
    "start_time": "2022-11-29T07:14:32.782Z"
   },
   {
    "duration": 65,
    "start_time": "2022-11-29T07:16:11.477Z"
   },
   {
    "duration": 18,
    "start_time": "2022-11-29T07:23:35.730Z"
   },
   {
    "duration": 121,
    "start_time": "2022-11-29T13:11:15.959Z"
   },
   {
    "duration": 26,
    "start_time": "2022-11-29T13:28:21.776Z"
   },
   {
    "duration": 125,
    "start_time": "2022-11-29T13:29:47.626Z"
   },
   {
    "duration": 121,
    "start_time": "2022-11-29T13:29:55.007Z"
   },
   {
    "duration": 136,
    "start_time": "2022-11-29T13:30:26.493Z"
   },
   {
    "duration": 126,
    "start_time": "2022-11-29T13:30:32.956Z"
   },
   {
    "duration": 24,
    "start_time": "2022-11-29T13:30:57.545Z"
   },
   {
    "duration": 107,
    "start_time": "2022-11-29T13:30:59.750Z"
   },
   {
    "duration": 102,
    "start_time": "2022-11-29T13:31:09.977Z"
   },
   {
    "duration": 60,
    "start_time": "2022-11-29T13:36:15.183Z"
   },
   {
    "duration": 83,
    "start_time": "2022-11-29T13:36:23.745Z"
   },
   {
    "duration": 28,
    "start_time": "2022-11-29T13:36:34.481Z"
   },
   {
    "duration": 108,
    "start_time": "2022-11-29T13:36:37.845Z"
   },
   {
    "duration": 27,
    "start_time": "2022-11-29T13:38:04.687Z"
   },
   {
    "duration": 104,
    "start_time": "2022-11-29T13:38:08.237Z"
   },
   {
    "duration": 10,
    "start_time": "2022-11-29T13:39:09.627Z"
   },
   {
    "duration": 6,
    "start_time": "2022-11-29T13:39:22.014Z"
   },
   {
    "duration": 32,
    "start_time": "2022-11-29T13:40:07.873Z"
   },
   {
    "duration": 16,
    "start_time": "2022-11-29T13:40:59.721Z"
   },
   {
    "duration": 29,
    "start_time": "2022-11-29T13:41:33.070Z"
   },
   {
    "duration": 27,
    "start_time": "2022-11-29T13:42:02.954Z"
   },
   {
    "duration": 126,
    "start_time": "2022-11-29T13:42:06.825Z"
   },
   {
    "duration": 35,
    "start_time": "2022-11-29T13:42:26.162Z"
   },
   {
    "duration": 117,
    "start_time": "2022-11-29T13:42:29.101Z"
   },
   {
    "duration": 23,
    "start_time": "2022-11-29T13:42:32.901Z"
   },
   {
    "duration": 386,
    "start_time": "2022-11-29T13:48:36.412Z"
   },
   {
    "duration": 22,
    "start_time": "2022-11-29T13:49:47.625Z"
   },
   {
    "duration": 23,
    "start_time": "2022-11-29T13:50:02.979Z"
   },
   {
    "duration": 278,
    "start_time": "2022-11-29T13:51:36.782Z"
   },
   {
    "duration": 315,
    "start_time": "2022-11-29T13:52:06.671Z"
   },
   {
    "duration": 321,
    "start_time": "2022-11-29T13:54:29.593Z"
   },
   {
    "duration": 380,
    "start_time": "2022-11-29T13:54:35.786Z"
   },
   {
    "duration": 235,
    "start_time": "2022-11-29T13:54:50.847Z"
   },
   {
    "duration": 221,
    "start_time": "2022-11-29T13:55:35.589Z"
   },
   {
    "duration": 348,
    "start_time": "2022-11-29T13:55:54.108Z"
   },
   {
    "duration": 230,
    "start_time": "2022-11-29T13:55:59.708Z"
   },
   {
    "duration": 224,
    "start_time": "2022-11-29T14:35:30.718Z"
   },
   {
    "duration": 219,
    "start_time": "2022-11-29T14:35:32.896Z"
   },
   {
    "duration": 220,
    "start_time": "2022-11-29T14:35:34.951Z"
   },
   {
    "duration": 14,
    "start_time": "2022-11-29T14:37:13.190Z"
   },
   {
    "duration": 1052,
    "start_time": "2022-11-29T14:38:33.590Z"
   },
   {
    "duration": 272,
    "start_time": "2022-11-29T14:39:05.600Z"
   },
   {
    "duration": 275,
    "start_time": "2022-11-29T14:39:43.913Z"
   },
   {
    "duration": 277,
    "start_time": "2022-11-29T14:42:16.407Z"
   },
   {
    "duration": 316,
    "start_time": "2022-11-29T14:43:42.823Z"
   },
   {
    "duration": 214,
    "start_time": "2022-11-29T14:43:58.958Z"
   },
   {
    "duration": 3,
    "start_time": "2022-11-29T14:44:20.719Z"
   },
   {
    "duration": 291,
    "start_time": "2022-11-29T14:45:57.088Z"
   },
   {
    "duration": 238,
    "start_time": "2022-11-29T14:46:03.487Z"
   },
   {
    "duration": 222,
    "start_time": "2022-11-29T14:46:11.384Z"
   },
   {
    "duration": 1155,
    "start_time": "2022-11-29T14:47:26.963Z"
   },
   {
    "duration": 70,
    "start_time": "2022-11-29T14:47:28.120Z"
   },
   {
    "duration": 15,
    "start_time": "2022-11-29T14:47:28.192Z"
   },
   {
    "duration": 14,
    "start_time": "2022-11-29T14:47:28.209Z"
   },
   {
    "duration": 32,
    "start_time": "2022-11-29T14:47:28.225Z"
   },
   {
    "duration": 10,
    "start_time": "2022-11-29T14:47:28.259Z"
   },
   {
    "duration": 193,
    "start_time": "2022-11-29T14:47:28.297Z"
   },
   {
    "duration": 6,
    "start_time": "2022-11-29T14:47:28.495Z"
   },
   {
    "duration": 10,
    "start_time": "2022-11-29T14:47:28.502Z"
   },
   {
    "duration": 7,
    "start_time": "2022-11-29T14:47:28.514Z"
   },
   {
    "duration": 9,
    "start_time": "2022-11-29T14:47:28.522Z"
   },
   {
    "duration": 9,
    "start_time": "2022-11-29T14:47:28.533Z"
   },
   {
    "duration": 12,
    "start_time": "2022-11-29T14:47:28.544Z"
   },
   {
    "duration": 4,
    "start_time": "2022-11-29T14:47:28.559Z"
   },
   {
    "duration": 36,
    "start_time": "2022-11-29T14:47:28.565Z"
   },
   {
    "duration": 8,
    "start_time": "2022-11-29T14:47:28.603Z"
   },
   {
    "duration": 8,
    "start_time": "2022-11-29T14:47:28.612Z"
   },
   {
    "duration": 11,
    "start_time": "2022-11-29T14:47:28.622Z"
   },
   {
    "duration": 15,
    "start_time": "2022-11-29T14:47:28.635Z"
   },
   {
    "duration": 6,
    "start_time": "2022-11-29T14:47:28.652Z"
   },
   {
    "duration": 7,
    "start_time": "2022-11-29T14:47:28.660Z"
   },
   {
    "duration": 38,
    "start_time": "2022-11-29T14:47:28.668Z"
   },
   {
    "duration": 21,
    "start_time": "2022-11-29T14:47:28.708Z"
   },
   {
    "duration": 20,
    "start_time": "2022-11-29T14:47:28.730Z"
   },
   {
    "duration": 7,
    "start_time": "2022-11-29T14:47:28.751Z"
   },
   {
    "duration": 9,
    "start_time": "2022-11-29T14:47:28.760Z"
   },
   {
    "duration": 7,
    "start_time": "2022-11-29T14:47:28.770Z"
   },
   {
    "duration": 29,
    "start_time": "2022-11-29T14:47:28.779Z"
   },
   {
    "duration": 14,
    "start_time": "2022-11-29T14:47:28.810Z"
   },
   {
    "duration": 3,
    "start_time": "2022-11-29T14:47:28.826Z"
   },
   {
    "duration": 18,
    "start_time": "2022-11-29T14:47:28.831Z"
   },
   {
    "duration": 350,
    "start_time": "2022-11-29T14:47:28.851Z"
   },
   {
    "duration": 328,
    "start_time": "2022-11-29T14:47:29.203Z"
   },
   {
    "duration": 28,
    "start_time": "2022-11-29T14:47:29.534Z"
   },
   {
    "duration": 143,
    "start_time": "2022-11-29T14:47:29.564Z"
   },
   {
    "duration": 115,
    "start_time": "2022-11-29T14:47:29.709Z"
   },
   {
    "duration": 0,
    "start_time": "2022-11-29T14:47:29.826Z"
   },
   {
    "duration": 0,
    "start_time": "2022-11-29T14:47:29.827Z"
   },
   {
    "duration": 0,
    "start_time": "2022-11-29T14:47:29.829Z"
   },
   {
    "duration": 0,
    "start_time": "2022-11-29T14:47:29.830Z"
   },
   {
    "duration": 0,
    "start_time": "2022-11-29T14:47:29.831Z"
   },
   {
    "duration": 0,
    "start_time": "2022-11-29T14:47:29.832Z"
   },
   {
    "duration": 0,
    "start_time": "2022-11-29T14:47:29.833Z"
   },
   {
    "duration": 0,
    "start_time": "2022-11-29T14:47:29.834Z"
   },
   {
    "duration": 0,
    "start_time": "2022-11-29T14:47:29.835Z"
   },
   {
    "duration": 0,
    "start_time": "2022-11-29T14:47:29.836Z"
   },
   {
    "duration": 28,
    "start_time": "2022-11-29T14:53:06.033Z"
   },
   {
    "duration": 114,
    "start_time": "2022-11-29T14:53:06.818Z"
   },
   {
    "duration": 276,
    "start_time": "2022-11-29T14:53:07.228Z"
   },
   {
    "duration": 354,
    "start_time": "2022-11-29T14:53:07.647Z"
   },
   {
    "duration": 312,
    "start_time": "2022-11-29T14:53:08.159Z"
   },
   {
    "duration": 3,
    "start_time": "2022-11-29T14:53:08.473Z"
   },
   {
    "duration": 325,
    "start_time": "2022-11-29T14:53:08.710Z"
   },
   {
    "duration": 312,
    "start_time": "2022-11-29T14:53:09.037Z"
   },
   {
    "duration": 307,
    "start_time": "2022-11-29T14:53:09.351Z"
   },
   {
    "duration": 239,
    "start_time": "2022-11-29T14:53:09.660Z"
   },
   {
    "duration": 237,
    "start_time": "2022-11-29T14:53:09.902Z"
   },
   {
    "duration": 4,
    "start_time": "2022-11-29T14:53:33.937Z"
   },
   {
    "duration": 3,
    "start_time": "2022-11-29T14:53:40.192Z"
   },
   {
    "duration": 4,
    "start_time": "2022-11-29T14:54:12.068Z"
   },
   {
    "duration": 22,
    "start_time": "2022-11-29T14:56:19.470Z"
   },
   {
    "duration": 18,
    "start_time": "2022-11-29T14:59:06.497Z"
   },
   {
    "duration": 11,
    "start_time": "2022-11-29T15:10:39.990Z"
   },
   {
    "duration": 11,
    "start_time": "2022-11-29T15:11:06.907Z"
   },
   {
    "duration": 7,
    "start_time": "2022-11-29T15:11:11.517Z"
   },
   {
    "duration": 6,
    "start_time": "2022-11-29T15:11:40.671Z"
   },
   {
    "duration": 7,
    "start_time": "2022-11-29T15:11:45.344Z"
   },
   {
    "duration": 373,
    "start_time": "2022-11-29T16:18:00.481Z"
   },
   {
    "duration": 274,
    "start_time": "2022-11-29T16:18:28.543Z"
   },
   {
    "duration": 303,
    "start_time": "2022-11-29T17:07:46.280Z"
   },
   {
    "duration": 256,
    "start_time": "2022-11-29T17:07:56.431Z"
   },
   {
    "duration": 20,
    "start_time": "2022-11-29T17:08:25.708Z"
   },
   {
    "duration": 25,
    "start_time": "2022-11-29T17:14:24.737Z"
   },
   {
    "duration": 22,
    "start_time": "2022-11-29T17:14:53.631Z"
   },
   {
    "duration": 24,
    "start_time": "2022-11-29T17:16:51.573Z"
   },
   {
    "duration": 256,
    "start_time": "2022-11-29T17:18:51.873Z"
   },
   {
    "duration": 246,
    "start_time": "2022-11-29T17:19:16.638Z"
   },
   {
    "duration": 262,
    "start_time": "2022-11-29T17:19:22.753Z"
   },
   {
    "duration": 313,
    "start_time": "2022-11-29T17:19:37.065Z"
   },
   {
    "duration": 797,
    "start_time": "2022-11-29T18:21:50.195Z"
   },
   {
    "duration": 1068,
    "start_time": "2022-11-29T18:22:03.094Z"
   },
   {
    "duration": 1439,
    "start_time": "2022-11-30T10:11:45.631Z"
   },
   {
    "duration": 205,
    "start_time": "2022-11-30T10:11:47.073Z"
   },
   {
    "duration": 24,
    "start_time": "2022-11-30T10:11:47.280Z"
   },
   {
    "duration": 806,
    "start_time": "2022-11-30T10:11:47.306Z"
   },
   {
    "duration": 15,
    "start_time": "2022-11-30T10:11:48.114Z"
   },
   {
    "duration": 58,
    "start_time": "2022-11-30T10:11:48.131Z"
   },
   {
    "duration": 15,
    "start_time": "2022-11-30T10:11:48.191Z"
   },
   {
    "duration": 211,
    "start_time": "2022-11-30T10:11:48.208Z"
   },
   {
    "duration": 4,
    "start_time": "2022-11-30T10:11:48.421Z"
   },
   {
    "duration": 24,
    "start_time": "2022-11-30T10:11:48.428Z"
   },
   {
    "duration": 7,
    "start_time": "2022-11-30T10:11:48.453Z"
   },
   {
    "duration": 18,
    "start_time": "2022-11-30T10:11:48.461Z"
   },
   {
    "duration": 11,
    "start_time": "2022-11-30T10:11:48.481Z"
   },
   {
    "duration": 17,
    "start_time": "2022-11-30T10:11:48.494Z"
   },
   {
    "duration": 5,
    "start_time": "2022-11-30T10:11:48.513Z"
   },
   {
    "duration": 35,
    "start_time": "2022-11-30T10:11:48.519Z"
   },
   {
    "duration": 4,
    "start_time": "2022-11-30T10:11:48.556Z"
   },
   {
    "duration": 10,
    "start_time": "2022-11-30T10:11:48.561Z"
   },
   {
    "duration": 11,
    "start_time": "2022-11-30T10:11:48.573Z"
   },
   {
    "duration": 8,
    "start_time": "2022-11-30T10:11:48.587Z"
   },
   {
    "duration": 14,
    "start_time": "2022-11-30T10:11:48.597Z"
   },
   {
    "duration": 42,
    "start_time": "2022-11-30T10:11:48.612Z"
   },
   {
    "duration": 16,
    "start_time": "2022-11-30T10:11:48.656Z"
   },
   {
    "duration": 16,
    "start_time": "2022-11-30T10:11:48.674Z"
   },
   {
    "duration": 11,
    "start_time": "2022-11-30T10:11:48.691Z"
   },
   {
    "duration": 6,
    "start_time": "2022-11-30T10:11:48.704Z"
   },
   {
    "duration": 8,
    "start_time": "2022-11-30T10:11:48.712Z"
   },
   {
    "duration": 8,
    "start_time": "2022-11-30T10:11:48.754Z"
   },
   {
    "duration": 21,
    "start_time": "2022-11-30T10:11:48.763Z"
   },
   {
    "duration": 16,
    "start_time": "2022-11-30T10:11:48.785Z"
   },
   {
    "duration": 4,
    "start_time": "2022-11-30T10:11:48.802Z"
   },
   {
    "duration": 46,
    "start_time": "2022-11-30T10:11:48.807Z"
   },
   {
    "duration": 359,
    "start_time": "2022-11-30T10:11:48.854Z"
   },
   {
    "duration": 391,
    "start_time": "2022-11-30T10:11:49.215Z"
   },
   {
    "duration": 125,
    "start_time": "2022-11-30T10:11:49.608Z"
   },
   {
    "duration": 172,
    "start_time": "2022-11-30T10:11:49.735Z"
   },
   {
    "duration": 47,
    "start_time": "2022-11-30T10:11:49.909Z"
   },
   {
    "duration": 27,
    "start_time": "2022-11-30T10:11:49.957Z"
   },
   {
    "duration": 290,
    "start_time": "2022-11-30T10:11:49.986Z"
   },
   {
    "duration": 289,
    "start_time": "2022-11-30T10:11:50.278Z"
   },
   {
    "duration": 19,
    "start_time": "2022-11-30T10:11:50.568Z"
   },
   {
    "duration": 343,
    "start_time": "2022-11-30T10:11:50.589Z"
   },
   {
    "duration": 305,
    "start_time": "2022-11-30T10:11:50.934Z"
   },
   {
    "duration": 278,
    "start_time": "2022-11-30T10:11:51.241Z"
   },
   {
    "duration": 277,
    "start_time": "2022-11-30T10:11:51.520Z"
   },
   {
    "duration": 20,
    "start_time": "2022-11-30T10:11:51.798Z"
   },
   {
    "duration": 407,
    "start_time": "2022-11-30T10:11:51.820Z"
   },
   {
    "duration": 299,
    "start_time": "2022-11-30T10:11:52.229Z"
   },
   {
    "duration": 251,
    "start_time": "2022-11-30T10:11:52.530Z"
   },
   {
    "duration": 232,
    "start_time": "2022-11-30T10:11:52.783Z"
   },
   {
    "duration": 111,
    "start_time": "2022-11-30T10:12:23.318Z"
   },
   {
    "duration": 136,
    "start_time": "2022-11-30T10:12:43.378Z"
   },
   {
    "duration": 134,
    "start_time": "2022-11-30T10:13:24.090Z"
   },
   {
    "duration": 359,
    "start_time": "2022-11-30T10:26:18.479Z"
   },
   {
    "duration": 418,
    "start_time": "2022-11-30T10:27:26.151Z"
   },
   {
    "duration": 325,
    "start_time": "2022-11-30T10:27:50.081Z"
   },
   {
    "duration": 298,
    "start_time": "2022-11-30T10:30:21.576Z"
   },
   {
    "duration": 310,
    "start_time": "2022-11-30T10:35:53.267Z"
   },
   {
    "duration": 316,
    "start_time": "2022-11-30T10:36:28.115Z"
   },
   {
    "duration": 254,
    "start_time": "2022-11-30T10:38:15.894Z"
   },
   {
    "duration": 225,
    "start_time": "2022-11-30T10:38:36.636Z"
   },
   {
    "duration": 293,
    "start_time": "2022-11-30T10:39:58.502Z"
   },
   {
    "duration": 211,
    "start_time": "2022-11-30T10:41:31.483Z"
   },
   {
    "duration": 320,
    "start_time": "2022-11-30T10:45:57.202Z"
   },
   {
    "duration": 350,
    "start_time": "2022-11-30T10:46:06.869Z"
   },
   {
    "duration": 256,
    "start_time": "2022-11-30T10:46:11.549Z"
   },
   {
    "duration": 236,
    "start_time": "2022-11-30T10:46:15.858Z"
   },
   {
    "duration": 262,
    "start_time": "2022-11-30T10:46:26.064Z"
   },
   {
    "duration": 276,
    "start_time": "2022-11-30T10:46:30.590Z"
   },
   {
    "duration": 409,
    "start_time": "2022-11-30T10:47:18.086Z"
   },
   {
    "duration": 9,
    "start_time": "2022-11-30T10:55:46.833Z"
   },
   {
    "duration": 23,
    "start_time": "2022-11-30T10:55:53.144Z"
   },
   {
    "duration": 39,
    "start_time": "2022-11-30T11:33:05.845Z"
   },
   {
    "duration": 35,
    "start_time": "2022-11-30T11:33:14.978Z"
   },
   {
    "duration": 5,
    "start_time": "2022-11-30T11:39:17.024Z"
   },
   {
    "duration": 32,
    "start_time": "2022-11-30T11:39:19.512Z"
   },
   {
    "duration": 4,
    "start_time": "2022-11-30T11:39:22.083Z"
   },
   {
    "duration": 76,
    "start_time": "2022-11-30T11:40:12.368Z"
   },
   {
    "duration": 23,
    "start_time": "2022-11-30T11:40:19.474Z"
   },
   {
    "duration": 36,
    "start_time": "2022-11-30T11:40:40.208Z"
   },
   {
    "duration": 4,
    "start_time": "2022-11-30T11:40:43.164Z"
   },
   {
    "duration": 13,
    "start_time": "2022-11-30T11:41:09.072Z"
   },
   {
    "duration": 125,
    "start_time": "2022-11-30T11:41:43.931Z"
   },
   {
    "duration": 26,
    "start_time": "2022-11-30T11:42:42.993Z"
   },
   {
    "duration": 26,
    "start_time": "2022-11-30T11:42:50.754Z"
   },
   {
    "duration": 5,
    "start_time": "2022-11-30T11:44:17.284Z"
   },
   {
    "duration": 90,
    "start_time": "2022-11-30T11:44:21.779Z"
   },
   {
    "duration": 5,
    "start_time": "2022-11-30T11:44:28.900Z"
   },
   {
    "duration": 5,
    "start_time": "2022-11-30T12:10:54.193Z"
   },
   {
    "duration": 4,
    "start_time": "2022-11-30T12:11:17.705Z"
   },
   {
    "duration": 87,
    "start_time": "2022-11-30T12:12:04.388Z"
   },
   {
    "duration": 5,
    "start_time": "2022-11-30T12:12:23.032Z"
   },
   {
    "duration": 4,
    "start_time": "2022-11-30T12:12:58.825Z"
   },
   {
    "duration": 26,
    "start_time": "2022-11-30T12:15:26.311Z"
   },
   {
    "duration": 27,
    "start_time": "2022-11-30T14:37:04.624Z"
   },
   {
    "duration": 12,
    "start_time": "2022-11-30T14:37:20.899Z"
   },
   {
    "duration": 47,
    "start_time": "2022-11-30T14:46:41.521Z"
   },
   {
    "duration": 40,
    "start_time": "2022-11-30T15:15:15.746Z"
   },
   {
    "duration": 6,
    "start_time": "2022-11-30T15:15:29.025Z"
   },
   {
    "duration": 566,
    "start_time": "2022-11-30T15:15:50.865Z"
   },
   {
    "duration": 197,
    "start_time": "2022-11-30T15:17:16.901Z"
   },
   {
    "duration": 22,
    "start_time": "2022-11-30T15:19:00.057Z"
   },
   {
    "duration": 183,
    "start_time": "2022-11-30T15:19:47.786Z"
   },
   {
    "duration": 186,
    "start_time": "2022-11-30T15:20:50.303Z"
   },
   {
    "duration": 27,
    "start_time": "2022-11-30T15:24:10.398Z"
   },
   {
    "duration": 236,
    "start_time": "2022-11-30T16:23:18.850Z"
   },
   {
    "duration": 220,
    "start_time": "2022-12-01T07:22:43.833Z"
   },
   {
    "duration": 12,
    "start_time": "2022-12-01T07:27:30.533Z"
   },
   {
    "duration": 138,
    "start_time": "2022-12-01T07:27:45.890Z"
   },
   {
    "duration": 136,
    "start_time": "2022-12-01T07:31:02.385Z"
   },
   {
    "duration": 139,
    "start_time": "2022-12-01T07:31:27.081Z"
   },
   {
    "duration": 246,
    "start_time": "2022-12-01T07:31:37.956Z"
   },
   {
    "duration": 145,
    "start_time": "2022-12-01T07:32:07.775Z"
   },
   {
    "duration": 154,
    "start_time": "2022-12-01T07:32:26.642Z"
   },
   {
    "duration": 148,
    "start_time": "2022-12-01T07:32:45.032Z"
   },
   {
    "duration": 153,
    "start_time": "2022-12-01T07:33:07.136Z"
   },
   {
    "duration": 141,
    "start_time": "2022-12-01T07:33:08.781Z"
   },
   {
    "duration": 12,
    "start_time": "2022-12-01T07:35:01.720Z"
   },
   {
    "duration": 124,
    "start_time": "2022-12-01T07:35:04.885Z"
   },
   {
    "duration": 139,
    "start_time": "2022-12-01T07:36:12.669Z"
   },
   {
    "duration": 143,
    "start_time": "2022-12-01T07:41:13.815Z"
   },
   {
    "duration": 157,
    "start_time": "2022-12-01T07:41:40.599Z"
   },
   {
    "duration": 162,
    "start_time": "2022-12-01T07:42:22.594Z"
   },
   {
    "duration": 135,
    "start_time": "2022-12-01T07:42:49.689Z"
   },
   {
    "duration": 155,
    "start_time": "2022-12-01T07:43:00.544Z"
   },
   {
    "duration": 148,
    "start_time": "2022-12-01T07:43:32.348Z"
   },
   {
    "duration": 256,
    "start_time": "2022-12-01T07:44:24.457Z"
   },
   {
    "duration": 155,
    "start_time": "2022-12-01T07:44:33.200Z"
   },
   {
    "duration": 168,
    "start_time": "2022-12-01T07:44:50.548Z"
   },
   {
    "duration": 164,
    "start_time": "2022-12-01T07:45:01.043Z"
   },
   {
    "duration": 142,
    "start_time": "2022-12-01T07:45:20.996Z"
   },
   {
    "duration": 147,
    "start_time": "2022-12-01T07:45:25.399Z"
   },
   {
    "duration": 141,
    "start_time": "2022-12-01T07:45:52.409Z"
   },
   {
    "duration": 162,
    "start_time": "2022-12-01T07:46:02.319Z"
   },
   {
    "duration": 239,
    "start_time": "2022-12-01T07:51:31.011Z"
   },
   {
    "duration": 372,
    "start_time": "2022-12-01T07:53:18.079Z"
   },
   {
    "duration": 497,
    "start_time": "2022-12-01T08:16:01.833Z"
   },
   {
    "duration": 22,
    "start_time": "2022-12-01T08:16:18.676Z"
   },
   {
    "duration": 18,
    "start_time": "2022-12-01T08:16:24.881Z"
   },
   {
    "duration": 7,
    "start_time": "2022-12-01T08:17:09.952Z"
   },
   {
    "duration": 7,
    "start_time": "2022-12-01T08:17:48.484Z"
   },
   {
    "duration": 5,
    "start_time": "2022-12-01T08:18:21.392Z"
   },
   {
    "duration": 5,
    "start_time": "2022-12-01T08:18:31.580Z"
   },
   {
    "duration": 13,
    "start_time": "2022-12-01T08:19:23.611Z"
   },
   {
    "duration": 11,
    "start_time": "2022-12-01T08:20:37.456Z"
   },
   {
    "duration": 5,
    "start_time": "2022-12-01T08:21:28.920Z"
   },
   {
    "duration": 5,
    "start_time": "2022-12-01T08:21:34.695Z"
   },
   {
    "duration": 13,
    "start_time": "2022-12-01T08:21:56.914Z"
   },
   {
    "duration": 5,
    "start_time": "2022-12-01T08:22:00.989Z"
   },
   {
    "duration": 6,
    "start_time": "2022-12-01T08:22:03.275Z"
   },
   {
    "duration": 3,
    "start_time": "2022-12-01T08:22:56.095Z"
   },
   {
    "duration": 3,
    "start_time": "2022-12-01T08:23:17.105Z"
   },
   {
    "duration": 18,
    "start_time": "2022-12-01T08:27:42.508Z"
   },
   {
    "duration": 11,
    "start_time": "2022-12-01T08:27:49.919Z"
   },
   {
    "duration": 18,
    "start_time": "2022-12-01T08:28:10.344Z"
   },
   {
    "duration": 11,
    "start_time": "2022-12-01T08:28:15.453Z"
   },
   {
    "duration": 4,
    "start_time": "2022-12-01T08:28:34.468Z"
   },
   {
    "duration": 1424,
    "start_time": "2022-12-01T08:28:44.677Z"
   },
   {
    "duration": 329,
    "start_time": "2022-12-01T08:31:27.937Z"
   },
   {
    "duration": 14,
    "start_time": "2022-12-01T08:36:21.675Z"
   },
   {
    "duration": 11,
    "start_time": "2022-12-01T08:36:29.824Z"
   },
   {
    "duration": 716,
    "start_time": "2022-12-01T08:37:08.662Z"
   },
   {
    "duration": 249,
    "start_time": "2022-12-01T08:37:33.168Z"
   },
   {
    "duration": 116,
    "start_time": "2022-12-01T08:37:48.128Z"
   },
   {
    "duration": 144,
    "start_time": "2022-12-01T08:38:02.677Z"
   },
   {
    "duration": 637,
    "start_time": "2022-12-01T08:38:11.128Z"
   },
   {
    "duration": 330,
    "start_time": "2022-12-01T08:38:18.015Z"
   },
   {
    "duration": 320,
    "start_time": "2022-12-01T08:38:33.233Z"
   },
   {
    "duration": 19,
    "start_time": "2022-12-01T08:40:57.101Z"
   },
   {
    "duration": 18,
    "start_time": "2022-12-01T08:41:08.812Z"
   },
   {
    "duration": 340,
    "start_time": "2022-12-01T08:43:19.350Z"
   },
   {
    "duration": 20,
    "start_time": "2022-12-01T08:48:01.936Z"
   },
   {
    "duration": 335,
    "start_time": "2022-12-01T08:51:25.454Z"
   },
   {
    "duration": 345,
    "start_time": "2022-12-01T08:52:06.357Z"
   },
   {
    "duration": 361,
    "start_time": "2022-12-01T08:52:27.421Z"
   },
   {
    "duration": 422,
    "start_time": "2022-12-01T08:52:33.380Z"
   },
   {
    "duration": 4,
    "start_time": "2022-12-01T15:44:52.492Z"
   },
   {
    "duration": 50,
    "start_time": "2022-12-01T15:45:08.167Z"
   },
   {
    "duration": 42,
    "start_time": "2022-12-01T15:47:33.687Z"
   },
   {
    "duration": 8,
    "start_time": "2022-12-01T15:54:17.549Z"
   },
   {
    "duration": 8,
    "start_time": "2022-12-01T15:56:17.886Z"
   },
   {
    "duration": 1253,
    "start_time": "2022-12-01T15:56:28.250Z"
   },
   {
    "duration": 124,
    "start_time": "2022-12-01T15:56:29.506Z"
   },
   {
    "duration": 24,
    "start_time": "2022-12-01T15:56:29.632Z"
   },
   {
    "duration": 824,
    "start_time": "2022-12-01T15:56:29.661Z"
   },
   {
    "duration": 31,
    "start_time": "2022-12-01T15:56:30.487Z"
   },
   {
    "duration": 69,
    "start_time": "2022-12-01T15:56:30.521Z"
   },
   {
    "duration": 11,
    "start_time": "2022-12-01T15:56:30.592Z"
   },
   {
    "duration": 35,
    "start_time": "2022-12-01T15:56:30.604Z"
   },
   {
    "duration": 42,
    "start_time": "2022-12-01T15:56:30.641Z"
   },
   {
    "duration": 22,
    "start_time": "2022-12-01T15:56:30.686Z"
   },
   {
    "duration": 44,
    "start_time": "2022-12-01T15:56:30.710Z"
   },
   {
    "duration": 16,
    "start_time": "2022-12-01T15:56:30.756Z"
   },
   {
    "duration": 19,
    "start_time": "2022-12-01T15:56:30.773Z"
   },
   {
    "duration": 50,
    "start_time": "2022-12-01T15:56:30.794Z"
   },
   {
    "duration": 9,
    "start_time": "2022-12-01T15:56:30.846Z"
   },
   {
    "duration": 19,
    "start_time": "2022-12-01T15:56:30.857Z"
   },
   {
    "duration": 8,
    "start_time": "2022-12-01T15:56:30.878Z"
   },
   {
    "duration": 19,
    "start_time": "2022-12-01T15:56:30.887Z"
   },
   {
    "duration": 12,
    "start_time": "2022-12-01T15:56:30.908Z"
   },
   {
    "duration": 25,
    "start_time": "2022-12-01T15:56:30.921Z"
   },
   {
    "duration": 17,
    "start_time": "2022-12-01T15:56:30.948Z"
   },
   {
    "duration": 19,
    "start_time": "2022-12-01T15:56:30.966Z"
   },
   {
    "duration": 41,
    "start_time": "2022-12-01T15:56:30.986Z"
   },
   {
    "duration": 52,
    "start_time": "2022-12-01T15:56:31.028Z"
   },
   {
    "duration": 72,
    "start_time": "2022-12-01T15:56:31.082Z"
   },
   {
    "duration": 61,
    "start_time": "2022-12-01T15:56:31.155Z"
   },
   {
    "duration": 31,
    "start_time": "2022-12-01T15:56:31.218Z"
   },
   {
    "duration": 32,
    "start_time": "2022-12-01T15:56:31.255Z"
   },
   {
    "duration": 40,
    "start_time": "2022-12-01T15:56:31.289Z"
   },
   {
    "duration": 26,
    "start_time": "2022-12-01T15:56:31.331Z"
   },
   {
    "duration": 40,
    "start_time": "2022-12-01T15:56:31.359Z"
   },
   {
    "duration": 23,
    "start_time": "2022-12-01T15:56:31.401Z"
   },
   {
    "duration": 29,
    "start_time": "2022-12-01T15:56:31.425Z"
   },
   {
    "duration": 305,
    "start_time": "2022-12-01T15:56:31.456Z"
   },
   {
    "duration": 295,
    "start_time": "2022-12-01T15:56:31.764Z"
   },
   {
    "duration": 373,
    "start_time": "2022-12-01T15:56:32.061Z"
   },
   {
    "duration": 129,
    "start_time": "2022-12-01T15:56:32.436Z"
   },
   {
    "duration": 7,
    "start_time": "2022-12-01T15:56:32.567Z"
   },
   {
    "duration": 129,
    "start_time": "2022-12-01T15:56:32.576Z"
   },
   {
    "duration": 282,
    "start_time": "2022-12-01T15:56:32.707Z"
   },
   {
    "duration": 276,
    "start_time": "2022-12-01T15:56:32.991Z"
   },
   {
    "duration": 19,
    "start_time": "2022-12-01T15:56:33.269Z"
   },
   {
    "duration": 322,
    "start_time": "2022-12-01T15:56:33.297Z"
   },
   {
    "duration": 430,
    "start_time": "2022-12-01T15:56:33.621Z"
   },
   {
    "duration": 297,
    "start_time": "2022-12-01T15:56:34.053Z"
   },
   {
    "duration": 276,
    "start_time": "2022-12-01T15:56:34.352Z"
   },
   {
    "duration": 22,
    "start_time": "2022-12-01T15:56:34.631Z"
   },
   {
    "duration": 425,
    "start_time": "2022-12-01T15:56:34.656Z"
   },
   {
    "duration": 369,
    "start_time": "2022-12-01T15:56:35.083Z"
   },
   {
    "duration": 277,
    "start_time": "2022-12-01T15:56:35.454Z"
   },
   {
    "duration": 244,
    "start_time": "2022-12-01T15:56:35.734Z"
   },
   {
    "duration": 228,
    "start_time": "2022-12-01T15:56:35.980Z"
   },
   {
    "duration": 224,
    "start_time": "2022-12-01T15:56:36.210Z"
   },
   {
    "duration": 11,
    "start_time": "2022-12-01T15:56:36.436Z"
   },
   {
    "duration": 141,
    "start_time": "2022-12-01T15:56:36.448Z"
   },
   {
    "duration": 125,
    "start_time": "2022-12-01T15:56:36.598Z"
   },
   {
    "duration": 18,
    "start_time": "2022-12-01T15:56:36.725Z"
   },
   {
    "duration": 5,
    "start_time": "2022-12-01T15:56:36.744Z"
   },
   {
    "duration": 47,
    "start_time": "2022-12-01T15:56:36.750Z"
   },
   {
    "duration": 13,
    "start_time": "2022-12-01T15:56:36.799Z"
   },
   {
    "duration": 51,
    "start_time": "2022-12-01T15:56:36.814Z"
   },
   {
    "duration": 6,
    "start_time": "2022-12-01T15:56:36.867Z"
   },
   {
    "duration": 524,
    "start_time": "2022-12-01T15:56:36.897Z"
   },
   {
    "duration": 205,
    "start_time": "2022-12-01T15:56:37.423Z"
   },
   {
    "duration": 21,
    "start_time": "2022-12-01T15:56:37.629Z"
   },
   {
    "duration": 229,
    "start_time": "2022-12-01T15:56:37.651Z"
   },
   {
    "duration": 20,
    "start_time": "2022-12-01T15:56:37.882Z"
   },
   {
    "duration": 394,
    "start_time": "2022-12-01T15:56:37.904Z"
   },
   {
    "duration": 15,
    "start_time": "2022-12-01T15:56:38.299Z"
   },
   {
    "duration": 315,
    "start_time": "2022-12-01T15:56:38.316Z"
   },
   {
    "duration": 16,
    "start_time": "2022-12-01T15:56:38.633Z"
   },
   {
    "duration": 380,
    "start_time": "2022-12-01T15:56:38.651Z"
   },
   {
    "duration": 185,
    "start_time": "2022-12-01T15:56:39.034Z"
   },
   {
    "duration": 153,
    "start_time": "2022-12-01T15:56:39.221Z"
   },
   {
    "duration": 207,
    "start_time": "2022-12-01T15:56:39.375Z"
   },
   {
    "duration": 244,
    "start_time": "2022-12-01T15:56:39.584Z"
   },
   {
    "duration": 185,
    "start_time": "2022-12-01T15:56:39.830Z"
   },
   {
    "duration": 174,
    "start_time": "2022-12-01T15:56:40.017Z"
   },
   {
    "duration": 152,
    "start_time": "2022-12-01T15:56:40.198Z"
   },
   {
    "duration": 137,
    "start_time": "2022-12-01T15:56:40.351Z"
   },
   {
    "duration": 436,
    "start_time": "2022-12-01T15:56:40.489Z"
   },
   {
    "duration": 17,
    "start_time": "2022-12-01T15:56:40.930Z"
   },
   {
    "duration": 11,
    "start_time": "2022-12-01T15:56:40.948Z"
   },
   {
    "duration": 12,
    "start_time": "2022-12-01T15:56:40.960Z"
   },
   {
    "duration": 7,
    "start_time": "2022-12-01T15:56:40.973Z"
   },
   {
    "duration": 5,
    "start_time": "2022-12-01T15:56:40.997Z"
   },
   {
    "duration": 18,
    "start_time": "2022-12-01T15:56:41.009Z"
   },
   {
    "duration": 5,
    "start_time": "2022-12-01T15:56:41.028Z"
   },
   {
    "duration": 5,
    "start_time": "2022-12-01T15:56:41.035Z"
   },
   {
    "duration": 266,
    "start_time": "2022-12-01T15:57:34.141Z"
   },
   {
    "duration": 276,
    "start_time": "2022-12-01T15:57:51.221Z"
   },
   {
    "duration": 384,
    "start_time": "2022-12-01T15:58:01.629Z"
   },
   {
    "duration": 123,
    "start_time": "2022-12-01T16:02:37.334Z"
   },
   {
    "duration": 110,
    "start_time": "2022-12-01T16:02:43.533Z"
   },
   {
    "duration": 3,
    "start_time": "2022-12-01T16:04:18.033Z"
   },
   {
    "duration": 95,
    "start_time": "2022-12-01T16:04:28.531Z"
   },
   {
    "duration": 11,
    "start_time": "2022-12-01T16:04:49.280Z"
   },
   {
    "duration": 13,
    "start_time": "2022-12-01T16:05:04.507Z"
   },
   {
    "duration": 15,
    "start_time": "2022-12-01T16:05:13.676Z"
   },
   {
    "duration": 124,
    "start_time": "2022-12-01T16:05:43.273Z"
   },
   {
    "duration": 106,
    "start_time": "2022-12-01T16:05:48.486Z"
   },
   {
    "duration": 117,
    "start_time": "2022-12-01T16:05:53.942Z"
   },
   {
    "duration": 10,
    "start_time": "2022-12-01T16:06:08.121Z"
   },
   {
    "duration": 14,
    "start_time": "2022-12-01T16:10:22.253Z"
   },
   {
    "duration": 15,
    "start_time": "2022-12-01T16:11:08.054Z"
   },
   {
    "duration": 16,
    "start_time": "2022-12-01T16:11:51.003Z"
   },
   {
    "duration": 84,
    "start_time": "2023-02-05T07:31:50.848Z"
   },
   {
    "duration": 77,
    "start_time": "2023-02-05T07:32:24.515Z"
   },
   {
    "duration": 70,
    "start_time": "2023-02-05T07:32:41.536Z"
   },
   {
    "duration": 48,
    "start_time": "2023-02-05T07:32:54.995Z"
   },
   {
    "duration": 8,
    "start_time": "2023-02-05T07:33:01.233Z"
   },
   {
    "duration": 1196,
    "start_time": "2023-02-05T07:33:22.162Z"
   },
   {
    "duration": 113,
    "start_time": "2023-02-05T07:33:23.360Z"
   },
   {
    "duration": 16,
    "start_time": "2023-02-05T07:33:23.475Z"
   },
   {
    "duration": 799,
    "start_time": "2023-02-05T07:33:23.493Z"
   },
   {
    "duration": 16,
    "start_time": "2023-02-05T07:33:24.294Z"
   },
   {
    "duration": 45,
    "start_time": "2023-02-05T07:33:24.311Z"
   },
   {
    "duration": 12,
    "start_time": "2023-02-05T07:33:24.358Z"
   },
   {
    "duration": 6,
    "start_time": "2023-02-05T07:33:24.372Z"
   },
   {
    "duration": 9,
    "start_time": "2023-02-05T07:33:24.380Z"
   },
   {
    "duration": 8,
    "start_time": "2023-02-05T07:33:24.392Z"
   },
   {
    "duration": 5,
    "start_time": "2023-02-05T07:33:24.439Z"
   },
   {
    "duration": 13,
    "start_time": "2023-02-05T07:33:24.447Z"
   },
   {
    "duration": 9,
    "start_time": "2023-02-05T07:33:24.462Z"
   },
   {
    "duration": 20,
    "start_time": "2023-02-05T07:33:24.472Z"
   },
   {
    "duration": 9,
    "start_time": "2023-02-05T07:33:24.493Z"
   },
   {
    "duration": 8,
    "start_time": "2023-02-05T07:33:24.503Z"
   },
   {
    "duration": 3,
    "start_time": "2023-02-05T07:33:24.513Z"
   },
   {
    "duration": 25,
    "start_time": "2023-02-05T07:33:24.517Z"
   },
   {
    "duration": 6,
    "start_time": "2023-02-05T07:33:24.544Z"
   },
   {
    "duration": 8,
    "start_time": "2023-02-05T07:33:24.552Z"
   },
   {
    "duration": 7,
    "start_time": "2023-02-05T07:33:24.562Z"
   },
   {
    "duration": 7,
    "start_time": "2023-02-05T07:33:24.570Z"
   },
   {
    "duration": 6,
    "start_time": "2023-02-05T07:33:24.579Z"
   },
   {
    "duration": 16,
    "start_time": "2023-02-05T07:33:24.586Z"
   },
   {
    "duration": 51,
    "start_time": "2023-02-05T07:33:24.604Z"
   },
   {
    "duration": 11,
    "start_time": "2023-02-05T07:33:24.656Z"
   },
   {
    "duration": 5,
    "start_time": "2023-02-05T07:33:24.669Z"
   },
   {
    "duration": 5,
    "start_time": "2023-02-05T07:33:24.678Z"
   },
   {
    "duration": 8,
    "start_time": "2023-02-05T07:33:24.684Z"
   },
   {
    "duration": 48,
    "start_time": "2023-02-05T07:33:24.693Z"
   },
   {
    "duration": 16,
    "start_time": "2023-02-05T07:33:24.743Z"
   },
   {
    "duration": 23,
    "start_time": "2023-02-05T07:33:24.761Z"
   },
   {
    "duration": 26,
    "start_time": "2023-02-05T07:33:24.786Z"
   },
   {
    "duration": 352,
    "start_time": "2023-02-05T07:33:24.814Z"
   },
   {
    "duration": 318,
    "start_time": "2023-02-05T07:33:25.168Z"
   },
   {
    "duration": 391,
    "start_time": "2023-02-05T07:33:25.488Z"
   },
   {
    "duration": 148,
    "start_time": "2023-02-05T07:33:25.881Z"
   },
   {
    "duration": 19,
    "start_time": "2023-02-05T07:33:26.030Z"
   },
   {
    "duration": 133,
    "start_time": "2023-02-05T07:33:26.051Z"
   },
   {
    "duration": 10,
    "start_time": "2023-02-05T07:33:26.186Z"
   },
   {
    "duration": 282,
    "start_time": "2023-02-05T07:33:26.198Z"
   },
   {
    "duration": 312,
    "start_time": "2023-02-05T07:33:26.482Z"
   },
   {
    "duration": 19,
    "start_time": "2023-02-05T07:33:26.795Z"
   },
   {
    "duration": 33,
    "start_time": "2023-02-05T07:33:26.816Z"
   },
   {
    "duration": 320,
    "start_time": "2023-02-05T07:33:26.851Z"
   },
   {
    "duration": 391,
    "start_time": "2023-02-05T07:33:27.173Z"
   },
   {
    "duration": 17,
    "start_time": "2023-02-05T07:33:27.565Z"
   },
   {
    "duration": 270,
    "start_time": "2023-02-05T07:33:27.584Z"
   },
   {
    "duration": 260,
    "start_time": "2023-02-05T07:33:27.856Z"
   },
   {
    "duration": 24,
    "start_time": "2023-02-05T07:33:28.118Z"
   },
   {
    "duration": 46,
    "start_time": "2023-02-05T07:33:28.144Z"
   },
   {
    "duration": 338,
    "start_time": "2023-02-05T07:33:28.192Z"
   },
   {
    "duration": 320,
    "start_time": "2023-02-05T07:33:28.540Z"
   },
   {
    "duration": 247,
    "start_time": "2023-02-05T07:33:28.861Z"
   },
   {
    "duration": 248,
    "start_time": "2023-02-05T07:33:29.110Z"
   },
   {
    "duration": 229,
    "start_time": "2023-02-05T07:33:29.360Z"
   },
   {
    "duration": 233,
    "start_time": "2023-02-05T07:33:29.591Z"
   },
   {
    "duration": 19,
    "start_time": "2023-02-05T07:33:29.825Z"
   },
   {
    "duration": 145,
    "start_time": "2023-02-05T07:33:29.845Z"
   },
   {
    "duration": 128,
    "start_time": "2023-02-05T07:33:29.991Z"
   },
   {
    "duration": 31,
    "start_time": "2023-02-05T07:33:30.121Z"
   },
   {
    "duration": 5,
    "start_time": "2023-02-05T07:33:30.154Z"
   },
   {
    "duration": 50,
    "start_time": "2023-02-05T07:33:30.161Z"
   },
   {
    "duration": 44,
    "start_time": "2023-02-05T07:33:30.213Z"
   },
   {
    "duration": 28,
    "start_time": "2023-02-05T07:33:30.259Z"
   },
   {
    "duration": 554,
    "start_time": "2023-02-05T07:33:30.289Z"
   },
   {
    "duration": 200,
    "start_time": "2023-02-05T07:33:30.844Z"
   },
   {
    "duration": 22,
    "start_time": "2023-02-05T07:33:31.046Z"
   },
   {
    "duration": 248,
    "start_time": "2023-02-05T07:33:31.070Z"
   },
   {
    "duration": 21,
    "start_time": "2023-02-05T07:33:31.320Z"
   },
   {
    "duration": 328,
    "start_time": "2023-02-05T07:33:31.343Z"
   },
   {
    "duration": 17,
    "start_time": "2023-02-05T07:33:31.673Z"
   },
   {
    "duration": 371,
    "start_time": "2023-02-05T07:33:31.692Z"
   },
   {
    "duration": 17,
    "start_time": "2023-02-05T07:33:32.064Z"
   },
   {
    "duration": 391,
    "start_time": "2023-02-05T07:33:32.082Z"
   },
   {
    "duration": 146,
    "start_time": "2023-02-05T07:33:32.475Z"
   },
   {
    "duration": 145,
    "start_time": "2023-02-05T07:33:32.623Z"
   },
   {
    "duration": 138,
    "start_time": "2023-02-05T07:33:32.769Z"
   },
   {
    "duration": 245,
    "start_time": "2023-02-05T07:33:32.908Z"
   },
   {
    "duration": 160,
    "start_time": "2023-02-05T07:33:33.155Z"
   },
   {
    "duration": 170,
    "start_time": "2023-02-05T07:33:33.316Z"
   },
   {
    "duration": 161,
    "start_time": "2023-02-05T07:33:33.491Z"
   },
   {
    "duration": 160,
    "start_time": "2023-02-05T07:33:33.654Z"
   },
   {
    "duration": 399,
    "start_time": "2023-02-05T07:33:33.816Z"
   },
   {
    "duration": 25,
    "start_time": "2023-02-05T07:33:34.216Z"
   },
   {
    "duration": 15,
    "start_time": "2023-02-05T07:33:34.242Z"
   },
   {
    "duration": 10,
    "start_time": "2023-02-05T07:33:34.258Z"
   },
   {
    "duration": 6,
    "start_time": "2023-02-05T07:33:34.270Z"
   },
   {
    "duration": 7,
    "start_time": "2023-02-05T07:33:34.278Z"
   },
   {
    "duration": 16,
    "start_time": "2023-02-05T07:33:34.287Z"
   },
   {
    "duration": 5,
    "start_time": "2023-02-05T07:33:34.304Z"
   },
   {
    "duration": 33,
    "start_time": "2023-02-05T07:33:34.311Z"
   },
   {
    "duration": 24,
    "start_time": "2023-02-05T07:44:15.752Z"
   },
   {
    "duration": 5,
    "start_time": "2023-02-05T07:49:04.400Z"
   },
   {
    "duration": 71,
    "start_time": "2023-02-05T07:49:28.285Z"
   },
   {
    "duration": 1165,
    "start_time": "2023-02-05T07:51:10.090Z"
   },
   {
    "duration": 67,
    "start_time": "2023-02-05T07:51:11.257Z"
   },
   {
    "duration": 16,
    "start_time": "2023-02-05T07:51:11.326Z"
   },
   {
    "duration": 784,
    "start_time": "2023-02-05T07:51:11.344Z"
   },
   {
    "duration": 23,
    "start_time": "2023-02-05T07:51:12.130Z"
   },
   {
    "duration": 33,
    "start_time": "2023-02-05T07:51:12.155Z"
   },
   {
    "duration": 10,
    "start_time": "2023-02-05T07:51:12.190Z"
   },
   {
    "duration": 10,
    "start_time": "2023-02-05T07:51:12.202Z"
   },
   {
    "duration": 34,
    "start_time": "2023-02-05T07:51:12.214Z"
   },
   {
    "duration": 12,
    "start_time": "2023-02-05T07:51:12.250Z"
   },
   {
    "duration": 4,
    "start_time": "2023-02-05T07:51:12.264Z"
   },
   {
    "duration": 34,
    "start_time": "2023-02-05T07:51:12.270Z"
   },
   {
    "duration": 15,
    "start_time": "2023-02-05T07:51:12.306Z"
   },
   {
    "duration": 13,
    "start_time": "2023-02-05T07:51:12.323Z"
   },
   {
    "duration": 5,
    "start_time": "2023-02-05T07:51:12.339Z"
   },
   {
    "duration": 18,
    "start_time": "2023-02-05T07:51:12.346Z"
   },
   {
    "duration": 11,
    "start_time": "2023-02-05T07:51:12.366Z"
   },
   {
    "duration": 5,
    "start_time": "2023-02-05T07:51:12.379Z"
   },
   {
    "duration": 8,
    "start_time": "2023-02-05T07:51:12.386Z"
   },
   {
    "duration": 11,
    "start_time": "2023-02-05T07:51:12.396Z"
   },
   {
    "duration": 8,
    "start_time": "2023-02-05T07:51:12.408Z"
   },
   {
    "duration": 26,
    "start_time": "2023-02-05T07:51:12.417Z"
   },
   {
    "duration": 12,
    "start_time": "2023-02-05T07:51:12.445Z"
   },
   {
    "duration": 19,
    "start_time": "2023-02-05T07:51:12.458Z"
   },
   {
    "duration": 21,
    "start_time": "2023-02-05T07:51:12.479Z"
   },
   {
    "duration": 16,
    "start_time": "2023-02-05T07:51:12.501Z"
   },
   {
    "duration": 5,
    "start_time": "2023-02-05T07:51:12.519Z"
   },
   {
    "duration": 6,
    "start_time": "2023-02-05T07:51:12.541Z"
   },
   {
    "duration": 10,
    "start_time": "2023-02-05T07:51:12.549Z"
   },
   {
    "duration": 21,
    "start_time": "2023-02-05T07:51:12.561Z"
   },
   {
    "duration": 17,
    "start_time": "2023-02-05T07:51:12.583Z"
   },
   {
    "duration": 50,
    "start_time": "2023-02-05T07:51:12.602Z"
   },
   {
    "duration": 25,
    "start_time": "2023-02-05T07:51:12.654Z"
   },
   {
    "duration": 340,
    "start_time": "2023-02-05T07:51:12.680Z"
   },
   {
    "duration": 299,
    "start_time": "2023-02-05T07:51:13.022Z"
   },
   {
    "duration": 381,
    "start_time": "2023-02-05T07:51:13.323Z"
   },
   {
    "duration": 137,
    "start_time": "2023-02-05T07:51:13.705Z"
   },
   {
    "duration": 10,
    "start_time": "2023-02-05T07:51:13.844Z"
   },
   {
    "duration": 133,
    "start_time": "2023-02-05T07:51:13.856Z"
   },
   {
    "duration": 11,
    "start_time": "2023-02-05T07:51:13.990Z"
   },
   {
    "duration": 284,
    "start_time": "2023-02-05T07:51:14.003Z"
   },
   {
    "duration": 287,
    "start_time": "2023-02-05T07:51:14.288Z"
   },
   {
    "duration": 19,
    "start_time": "2023-02-05T07:51:14.577Z"
   },
   {
    "duration": 24,
    "start_time": "2023-02-05T07:51:14.598Z"
   },
   {
    "duration": 334,
    "start_time": "2023-02-05T07:51:14.624Z"
   },
   {
    "duration": 396,
    "start_time": "2023-02-05T07:51:14.960Z"
   },
   {
    "duration": 18,
    "start_time": "2023-02-05T07:51:15.358Z"
   },
   {
    "duration": 270,
    "start_time": "2023-02-05T07:51:15.378Z"
   },
   {
    "duration": 259,
    "start_time": "2023-02-05T07:51:15.650Z"
   },
   {
    "duration": 29,
    "start_time": "2023-02-05T07:51:15.911Z"
   },
   {
    "duration": 18,
    "start_time": "2023-02-05T07:51:15.941Z"
   },
   {
    "duration": 338,
    "start_time": "2023-02-05T07:51:15.961Z"
   },
   {
    "duration": 332,
    "start_time": "2023-02-05T07:51:16.301Z"
   },
   {
    "duration": 234,
    "start_time": "2023-02-05T07:51:16.640Z"
   },
   {
    "duration": 251,
    "start_time": "2023-02-05T07:51:16.876Z"
   },
   {
    "duration": 238,
    "start_time": "2023-02-05T07:51:17.129Z"
   },
   {
    "duration": 232,
    "start_time": "2023-02-05T07:51:17.368Z"
   },
   {
    "duration": 11,
    "start_time": "2023-02-05T07:51:17.601Z"
   },
   {
    "duration": 152,
    "start_time": "2023-02-05T07:51:17.613Z"
   },
   {
    "duration": 131,
    "start_time": "2023-02-05T07:51:17.767Z"
   },
   {
    "duration": 18,
    "start_time": "2023-02-05T07:51:17.900Z"
   },
   {
    "duration": 20,
    "start_time": "2023-02-05T07:51:17.920Z"
   },
   {
    "duration": 34,
    "start_time": "2023-02-05T07:51:17.942Z"
   },
   {
    "duration": 42,
    "start_time": "2023-02-05T07:51:17.978Z"
   },
   {
    "duration": 21,
    "start_time": "2023-02-05T07:51:18.023Z"
   },
   {
    "duration": 576,
    "start_time": "2023-02-05T07:51:18.046Z"
   },
   {
    "duration": 226,
    "start_time": "2023-02-05T07:51:18.624Z"
   },
   {
    "duration": 27,
    "start_time": "2023-02-05T07:51:18.852Z"
   },
   {
    "duration": 23,
    "start_time": "2023-02-05T07:51:18.881Z"
   },
   {
    "duration": 261,
    "start_time": "2023-02-05T07:51:18.905Z"
   },
   {
    "duration": 17,
    "start_time": "2023-02-05T07:51:19.168Z"
   },
   {
    "duration": 147,
    "start_time": "2023-02-05T07:51:19.187Z"
   },
   {
    "duration": 0,
    "start_time": "2023-02-05T07:51:19.340Z"
   },
   {
    "duration": 0,
    "start_time": "2023-02-05T07:51:19.341Z"
   },
   {
    "duration": 0,
    "start_time": "2023-02-05T07:51:19.342Z"
   },
   {
    "duration": 0,
    "start_time": "2023-02-05T07:51:19.344Z"
   },
   {
    "duration": 0,
    "start_time": "2023-02-05T07:51:19.345Z"
   },
   {
    "duration": 0,
    "start_time": "2023-02-05T07:51:19.346Z"
   },
   {
    "duration": 0,
    "start_time": "2023-02-05T07:51:19.348Z"
   },
   {
    "duration": 1,
    "start_time": "2023-02-05T07:51:19.348Z"
   },
   {
    "duration": 0,
    "start_time": "2023-02-05T07:51:19.349Z"
   },
   {
    "duration": 0,
    "start_time": "2023-02-05T07:51:19.350Z"
   },
   {
    "duration": 0,
    "start_time": "2023-02-05T07:51:19.351Z"
   },
   {
    "duration": 0,
    "start_time": "2023-02-05T07:51:19.352Z"
   },
   {
    "duration": 0,
    "start_time": "2023-02-05T07:51:19.353Z"
   },
   {
    "duration": 0,
    "start_time": "2023-02-05T07:51:19.354Z"
   },
   {
    "duration": 0,
    "start_time": "2023-02-05T07:51:19.355Z"
   },
   {
    "duration": 0,
    "start_time": "2023-02-05T07:51:19.356Z"
   },
   {
    "duration": 0,
    "start_time": "2023-02-05T07:51:19.358Z"
   },
   {
    "duration": 0,
    "start_time": "2023-02-05T07:51:19.359Z"
   },
   {
    "duration": 0,
    "start_time": "2023-02-05T07:51:19.359Z"
   },
   {
    "duration": 7,
    "start_time": "2023-02-05T07:53:18.886Z"
   },
   {
    "duration": 34,
    "start_time": "2023-02-05T07:53:26.339Z"
   },
   {
    "duration": 17,
    "start_time": "2023-02-05T07:53:32.393Z"
   },
   {
    "duration": 32,
    "start_time": "2023-02-05T07:53:33.275Z"
   },
   {
    "duration": 1221,
    "start_time": "2023-02-05T07:53:44.640Z"
   },
   {
    "duration": 68,
    "start_time": "2023-02-05T07:53:45.863Z"
   },
   {
    "duration": 16,
    "start_time": "2023-02-05T07:53:45.933Z"
   },
   {
    "duration": 800,
    "start_time": "2023-02-05T07:53:45.951Z"
   },
   {
    "duration": 17,
    "start_time": "2023-02-05T07:53:46.753Z"
   },
   {
    "duration": 33,
    "start_time": "2023-02-05T07:53:46.772Z"
   },
   {
    "duration": 39,
    "start_time": "2023-02-05T07:53:46.807Z"
   },
   {
    "duration": 5,
    "start_time": "2023-02-05T07:53:46.848Z"
   },
   {
    "duration": 24,
    "start_time": "2023-02-05T07:53:46.855Z"
   },
   {
    "duration": 9,
    "start_time": "2023-02-05T07:53:46.882Z"
   },
   {
    "duration": 5,
    "start_time": "2023-02-05T07:53:46.892Z"
   },
   {
    "duration": 9,
    "start_time": "2023-02-05T07:53:46.899Z"
   },
   {
    "duration": 14,
    "start_time": "2023-02-05T07:53:46.910Z"
   },
   {
    "duration": 24,
    "start_time": "2023-02-05T07:53:46.926Z"
   },
   {
    "duration": 11,
    "start_time": "2023-02-05T07:53:46.952Z"
   },
   {
    "duration": 13,
    "start_time": "2023-02-05T07:53:46.965Z"
   },
   {
    "duration": 4,
    "start_time": "2023-02-05T07:53:46.980Z"
   },
   {
    "duration": 13,
    "start_time": "2023-02-05T07:53:46.986Z"
   },
   {
    "duration": 4,
    "start_time": "2023-02-05T07:53:47.000Z"
   },
   {
    "duration": 9,
    "start_time": "2023-02-05T07:53:47.006Z"
   },
   {
    "duration": 30,
    "start_time": "2023-02-05T07:53:47.017Z"
   },
   {
    "duration": 13,
    "start_time": "2023-02-05T07:53:47.049Z"
   },
   {
    "duration": 9,
    "start_time": "2023-02-05T07:53:47.064Z"
   },
   {
    "duration": 14,
    "start_time": "2023-02-05T07:53:47.075Z"
   },
   {
    "duration": 18,
    "start_time": "2023-02-05T07:53:47.091Z"
   },
   {
    "duration": 52,
    "start_time": "2023-02-05T07:53:47.111Z"
   },
   {
    "duration": 24,
    "start_time": "2023-02-05T07:53:47.165Z"
   },
   {
    "duration": 8,
    "start_time": "2023-02-05T07:53:47.194Z"
   },
   {
    "duration": 10,
    "start_time": "2023-02-05T07:53:47.204Z"
   },
   {
    "duration": 15,
    "start_time": "2023-02-05T07:53:47.216Z"
   },
   {
    "duration": 30,
    "start_time": "2023-02-05T07:53:47.233Z"
   },
   {
    "duration": 17,
    "start_time": "2023-02-05T07:53:47.265Z"
   },
   {
    "duration": 25,
    "start_time": "2023-02-05T07:53:47.284Z"
   },
   {
    "duration": 35,
    "start_time": "2023-02-05T07:53:47.311Z"
   },
   {
    "duration": 335,
    "start_time": "2023-02-05T07:53:47.348Z"
   },
   {
    "duration": 326,
    "start_time": "2023-02-05T07:53:47.685Z"
   },
   {
    "duration": 401,
    "start_time": "2023-02-05T07:53:48.013Z"
   },
   {
    "duration": 143,
    "start_time": "2023-02-05T07:53:48.416Z"
   },
   {
    "duration": 11,
    "start_time": "2023-02-05T07:53:48.561Z"
   },
   {
    "duration": 134,
    "start_time": "2023-02-05T07:53:48.574Z"
   },
   {
    "duration": 10,
    "start_time": "2023-02-05T07:53:48.710Z"
   },
   {
    "duration": 310,
    "start_time": "2023-02-05T07:53:48.722Z"
   },
   {
    "duration": 295,
    "start_time": "2023-02-05T07:53:49.034Z"
   },
   {
    "duration": 25,
    "start_time": "2023-02-05T07:53:49.331Z"
   },
   {
    "duration": 52,
    "start_time": "2023-02-05T07:53:49.357Z"
   },
   {
    "duration": 304,
    "start_time": "2023-02-05T07:53:49.411Z"
   },
   {
    "duration": 401,
    "start_time": "2023-02-05T07:53:49.717Z"
   },
   {
    "duration": 26,
    "start_time": "2023-02-05T07:53:50.120Z"
   },
   {
    "duration": 263,
    "start_time": "2023-02-05T07:53:50.148Z"
   },
   {
    "duration": 255,
    "start_time": "2023-02-05T07:53:50.413Z"
   },
   {
    "duration": 19,
    "start_time": "2023-02-05T07:53:50.670Z"
   },
   {
    "duration": 21,
    "start_time": "2023-02-05T07:53:50.691Z"
   },
   {
    "duration": 330,
    "start_time": "2023-02-05T07:53:50.714Z"
   },
   {
    "duration": 310,
    "start_time": "2023-02-05T07:53:51.046Z"
   },
   {
    "duration": 236,
    "start_time": "2023-02-05T07:53:51.357Z"
   },
   {
    "duration": 227,
    "start_time": "2023-02-05T07:53:51.595Z"
   },
   {
    "duration": 227,
    "start_time": "2023-02-05T07:53:51.824Z"
   },
   {
    "duration": 231,
    "start_time": "2023-02-05T07:53:52.053Z"
   },
   {
    "duration": 12,
    "start_time": "2023-02-05T07:53:52.285Z"
   },
   {
    "duration": 151,
    "start_time": "2023-02-05T07:53:52.298Z"
   },
   {
    "duration": 133,
    "start_time": "2023-02-05T07:53:52.451Z"
   },
   {
    "duration": 21,
    "start_time": "2023-02-05T07:53:52.585Z"
   },
   {
    "duration": 5,
    "start_time": "2023-02-05T07:53:52.607Z"
   },
   {
    "duration": 45,
    "start_time": "2023-02-05T07:53:52.613Z"
   },
   {
    "duration": 39,
    "start_time": "2023-02-05T07:53:52.660Z"
   },
   {
    "duration": 6,
    "start_time": "2023-02-05T07:53:52.700Z"
   },
   {
    "duration": 556,
    "start_time": "2023-02-05T07:53:52.707Z"
   },
   {
    "duration": 209,
    "start_time": "2023-02-05T07:53:53.264Z"
   },
   {
    "duration": 23,
    "start_time": "2023-02-05T07:53:53.475Z"
   },
   {
    "duration": 41,
    "start_time": "2023-02-05T07:53:53.500Z"
   },
   {
    "duration": 239,
    "start_time": "2023-02-05T07:53:53.543Z"
   },
   {
    "duration": 19,
    "start_time": "2023-02-05T07:53:53.783Z"
   },
   {
    "duration": 309,
    "start_time": "2023-02-05T07:53:53.804Z"
   },
   {
    "duration": 18,
    "start_time": "2023-02-05T07:53:54.115Z"
   },
   {
    "duration": 300,
    "start_time": "2023-02-05T07:53:54.140Z"
   },
   {
    "duration": 19,
    "start_time": "2023-02-05T07:53:54.441Z"
   },
   {
    "duration": 286,
    "start_time": "2023-02-05T07:53:54.462Z"
   },
   {
    "duration": 162,
    "start_time": "2023-02-05T07:53:54.750Z"
   },
   {
    "duration": 147,
    "start_time": "2023-02-05T07:53:54.913Z"
   },
   {
    "duration": 138,
    "start_time": "2023-02-05T07:53:55.062Z"
   },
   {
    "duration": 150,
    "start_time": "2023-02-05T07:53:55.202Z"
   },
   {
    "duration": 278,
    "start_time": "2023-02-05T07:53:55.358Z"
   },
   {
    "duration": 166,
    "start_time": "2023-02-05T07:53:55.638Z"
   },
   {
    "duration": 159,
    "start_time": "2023-02-05T07:53:55.806Z"
   },
   {
    "duration": 158,
    "start_time": "2023-02-05T07:53:55.967Z"
   },
   {
    "duration": 388,
    "start_time": "2023-02-05T07:53:56.128Z"
   },
   {
    "duration": 29,
    "start_time": "2023-02-05T07:53:56.518Z"
   },
   {
    "duration": 23,
    "start_time": "2023-02-05T07:53:56.549Z"
   },
   {
    "duration": 7,
    "start_time": "2023-02-05T07:53:56.574Z"
   },
   {
    "duration": 11,
    "start_time": "2023-02-05T07:53:56.583Z"
   },
   {
    "duration": 27,
    "start_time": "2023-02-05T07:53:56.596Z"
   },
   {
    "duration": 25,
    "start_time": "2023-02-05T07:53:56.625Z"
   }
  ],
  "kernelspec": {
   "display_name": "Python 3 (ipykernel)",
   "language": "python",
   "name": "python3"
  },
  "language_info": {
   "codemirror_mode": {
    "name": "ipython",
    "version": 3
   },
   "file_extension": ".py",
   "mimetype": "text/x-python",
   "name": "python",
   "nbconvert_exporter": "python",
   "pygments_lexer": "ipython3",
   "version": "3.9.5"
  },
  "toc": {
   "base_numbering": 1,
   "nav_menu": {},
   "number_sections": true,
   "sideBar": true,
   "skip_h1_title": true,
   "title_cell": "Table of Contents",
   "title_sidebar": "Contents",
   "toc_cell": false,
   "toc_position": {},
   "toc_section_display": true,
   "toc_window_display": false
  }
 },
 "nbformat": 4,
 "nbformat_minor": 2
}
