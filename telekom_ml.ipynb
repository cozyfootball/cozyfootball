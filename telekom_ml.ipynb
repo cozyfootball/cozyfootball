{
 "cells": [
  {
   "cell_type": "markdown",
   "metadata": {},
   "source": [
    "# Предложение сотовых тарифов"
   ]
  },
  {
   "cell_type": "markdown",
   "metadata": {},
   "source": [
    "В нашем распоряжении данные о поведении клиентов, которые уже перешли на тариф \"Ултра\" и \"Смарт\".\n",
    "Необходимо построить модель для задачи классификации, которая выберет подходящий тариф для клиента.\n",
    "В качестве критериев качества выберем Accuracy и F1-score.\n",
    "Примечание пороговая правильность 0.75"
   ]
  },
  {
   "cell_type": "markdown",
   "metadata": {},
   "source": [
    "## Знакомство с датасетом"
   ]
  },
  {
   "cell_type": "markdown",
   "metadata": {},
   "source": [
    "**Импорты**"
   ]
  },
  {
   "cell_type": "code",
   "execution_count": 1,
   "metadata": {},
   "outputs": [
    {
     "name": "stdout",
     "output_type": "stream",
     "text": [
      "Requirement already satisfied: catboost in /opt/conda/lib/python3.9/site-packages (1.0.3)\n",
      "Requirement already satisfied: scipy in /opt/conda/lib/python3.9/site-packages (from catboost) (1.9.1)\n",
      "Requirement already satisfied: six in /opt/conda/lib/python3.9/site-packages (from catboost) (1.16.0)\n",
      "Requirement already satisfied: pandas>=0.24.0 in /opt/conda/lib/python3.9/site-packages (from catboost) (1.2.4)\n",
      "Requirement already satisfied: plotly in /opt/conda/lib/python3.9/site-packages (from catboost) (5.4.0)\n",
      "Requirement already satisfied: numpy>=1.16.0 in /opt/conda/lib/python3.9/site-packages (from catboost) (1.21.1)\n",
      "Requirement already satisfied: matplotlib in /opt/conda/lib/python3.9/site-packages (from catboost) (3.3.4)\n",
      "Requirement already satisfied: graphviz in /opt/conda/lib/python3.9/site-packages (from catboost) (0.20.1)\n",
      "Requirement already satisfied: python-dateutil>=2.7.3 in /opt/conda/lib/python3.9/site-packages (from pandas>=0.24.0->catboost) (2.8.1)\n",
      "Requirement already satisfied: pytz>=2017.3 in /opt/conda/lib/python3.9/site-packages (from pandas>=0.24.0->catboost) (2021.1)\n",
      "Requirement already satisfied: kiwisolver>=1.0.1 in /opt/conda/lib/python3.9/site-packages (from matplotlib->catboost) (1.4.4)\n",
      "Requirement already satisfied: cycler>=0.10 in /opt/conda/lib/python3.9/site-packages (from matplotlib->catboost) (0.11.0)\n",
      "Requirement already satisfied: pyparsing!=2.0.4,!=2.1.2,!=2.1.6,>=2.0.3 in /opt/conda/lib/python3.9/site-packages (from matplotlib->catboost) (2.4.7)\n",
      "Requirement already satisfied: pillow>=6.2.0 in /opt/conda/lib/python3.9/site-packages (from matplotlib->catboost) (8.4.0)\n",
      "Requirement already satisfied: tenacity>=6.2.0 in /opt/conda/lib/python3.9/site-packages (from plotly->catboost) (8.0.1)\n"
     ]
    }
   ],
   "source": [
    "!pip install catboost"
   ]
  },
  {
   "cell_type": "code",
   "execution_count": 2,
   "metadata": {},
   "outputs": [],
   "source": [
    "import pandas as pd\n",
    "import numpy as np\n",
    "%matplotlib inline\n",
    "import matplotlib.pyplot as plt\n",
    "import seaborn as sns\n",
    "sns.set_style(\"darkgrid\")\n",
    "from sklearn.model_selection import train_test_split\n",
    "from sklearn.model_selection import GridSearchCV\n",
    "from sklearn.tree import DecisionTreeClassifier\n",
    "from sklearn.linear_model import LogisticRegression\n",
    "from sklearn.ensemble import RandomForestClassifier\n",
    "from sklearn.neighbors import KNeighborsClassifier\n",
    "from sklearn.metrics import accuracy_score\n",
    "from sklearn.metrics import f1_score\n",
    "from catboost import CatBoostClassifier\n",
    "from sklearn.dummy import DummyClassifier"
   ]
  },
  {
   "cell_type": "code",
   "execution_count": 3,
   "metadata": {},
   "outputs": [],
   "source": [
    "try:\n",
    "    users = pd.read_csv('/content/users_behavior.csv')\n",
    "except:\n",
    "    users = pd.read_csv('https://code.s3.yandex.net/datasets/users_behavior.csv')"
   ]
  },
  {
   "cell_type": "code",
   "execution_count": 4,
   "metadata": {},
   "outputs": [
    {
     "data": {
      "text/html": [
       "<div>\n",
       "<style scoped>\n",
       "    .dataframe tbody tr th:only-of-type {\n",
       "        vertical-align: middle;\n",
       "    }\n",
       "\n",
       "    .dataframe tbody tr th {\n",
       "        vertical-align: top;\n",
       "    }\n",
       "\n",
       "    .dataframe thead th {\n",
       "        text-align: right;\n",
       "    }\n",
       "</style>\n",
       "<table border=\"1\" class=\"dataframe\">\n",
       "  <thead>\n",
       "    <tr style=\"text-align: right;\">\n",
       "      <th></th>\n",
       "      <th>calls</th>\n",
       "      <th>minutes</th>\n",
       "      <th>messages</th>\n",
       "      <th>mb_used</th>\n",
       "      <th>is_ultra</th>\n",
       "    </tr>\n",
       "  </thead>\n",
       "  <tbody>\n",
       "    <tr>\n",
       "      <th>0</th>\n",
       "      <td>40.0</td>\n",
       "      <td>311.90</td>\n",
       "      <td>83.0</td>\n",
       "      <td>19915.42</td>\n",
       "      <td>0</td>\n",
       "    </tr>\n",
       "    <tr>\n",
       "      <th>1</th>\n",
       "      <td>85.0</td>\n",
       "      <td>516.75</td>\n",
       "      <td>56.0</td>\n",
       "      <td>22696.96</td>\n",
       "      <td>0</td>\n",
       "    </tr>\n",
       "    <tr>\n",
       "      <th>2</th>\n",
       "      <td>77.0</td>\n",
       "      <td>467.66</td>\n",
       "      <td>86.0</td>\n",
       "      <td>21060.45</td>\n",
       "      <td>0</td>\n",
       "    </tr>\n",
       "    <tr>\n",
       "      <th>3</th>\n",
       "      <td>106.0</td>\n",
       "      <td>745.53</td>\n",
       "      <td>81.0</td>\n",
       "      <td>8437.39</td>\n",
       "      <td>1</td>\n",
       "    </tr>\n",
       "    <tr>\n",
       "      <th>4</th>\n",
       "      <td>66.0</td>\n",
       "      <td>418.74</td>\n",
       "      <td>1.0</td>\n",
       "      <td>14502.75</td>\n",
       "      <td>0</td>\n",
       "    </tr>\n",
       "  </tbody>\n",
       "</table>\n",
       "</div>"
      ],
      "text/plain": [
       "   calls  minutes  messages   mb_used  is_ultra\n",
       "0   40.0   311.90      83.0  19915.42         0\n",
       "1   85.0   516.75      56.0  22696.96         0\n",
       "2   77.0   467.66      86.0  21060.45         0\n",
       "3  106.0   745.53      81.0   8437.39         1\n",
       "4   66.0   418.74       1.0  14502.75         0"
      ]
     },
     "execution_count": 4,
     "metadata": {},
     "output_type": "execute_result"
    }
   ],
   "source": [
    "users.head()"
   ]
  },
  {
   "cell_type": "markdown",
   "metadata": {},
   "source": [
    "Каждый объект в наборе данных — это информация о поведении одного пользователя за месяц.  \n",
    "Известно:\n",
    "- сalls — количество звонков   \n",
    "- minutes — суммарная длительность звонков в минутах  \n",
    "- messages — количество sms-сообщений  \n",
    "- mb_used — израсходованный интернет-трафик в Мб  \n",
    "- is_ultra — каким тарифом пользовался в течение месяца («Ультра» — 1, «Смарт» — 0)  "
   ]
  },
  {
   "cell_type": "code",
   "execution_count": 5,
   "metadata": {},
   "outputs": [
    {
     "name": "stdout",
     "output_type": "stream",
     "text": [
      "<class 'pandas.core.frame.DataFrame'>\n",
      "RangeIndex: 3214 entries, 0 to 3213\n",
      "Data columns (total 5 columns):\n",
      " #   Column    Non-Null Count  Dtype  \n",
      "---  ------    --------------  -----  \n",
      " 0   calls     3214 non-null   float64\n",
      " 1   minutes   3214 non-null   float64\n",
      " 2   messages  3214 non-null   float64\n",
      " 3   mb_used   3214 non-null   float64\n",
      " 4   is_ultra  3214 non-null   int64  \n",
      "dtypes: float64(4), int64(1)\n",
      "memory usage: 125.7 KB\n"
     ]
    }
   ],
   "source": [
    "users.info()"
   ]
  },
  {
   "cell_type": "code",
   "execution_count": 6,
   "metadata": {},
   "outputs": [
    {
     "data": {
      "text/plain": [
       "0"
      ]
     },
     "execution_count": 6,
     "metadata": {},
     "output_type": "execute_result"
    }
   ],
   "source": [
    "users.duplicated().sum()"
   ]
  },
  {
   "cell_type": "code",
   "execution_count": 7,
   "metadata": {},
   "outputs": [
    {
     "data": {
      "text/html": [
       "<div>\n",
       "<style scoped>\n",
       "    .dataframe tbody tr th:only-of-type {\n",
       "        vertical-align: middle;\n",
       "    }\n",
       "\n",
       "    .dataframe tbody tr th {\n",
       "        vertical-align: top;\n",
       "    }\n",
       "\n",
       "    .dataframe thead th {\n",
       "        text-align: right;\n",
       "    }\n",
       "</style>\n",
       "<table border=\"1\" class=\"dataframe\">\n",
       "  <thead>\n",
       "    <tr style=\"text-align: right;\">\n",
       "      <th></th>\n",
       "      <th>count</th>\n",
       "      <th>mean</th>\n",
       "      <th>std</th>\n",
       "      <th>min</th>\n",
       "      <th>25%</th>\n",
       "      <th>50%</th>\n",
       "      <th>75%</th>\n",
       "      <th>max</th>\n",
       "    </tr>\n",
       "  </thead>\n",
       "  <tbody>\n",
       "    <tr>\n",
       "      <th>calls</th>\n",
       "      <td>3214.0</td>\n",
       "      <td>63.038892</td>\n",
       "      <td>33.236368</td>\n",
       "      <td>0.0</td>\n",
       "      <td>40.0000</td>\n",
       "      <td>62.000</td>\n",
       "      <td>82.0000</td>\n",
       "      <td>244.00</td>\n",
       "    </tr>\n",
       "    <tr>\n",
       "      <th>minutes</th>\n",
       "      <td>3214.0</td>\n",
       "      <td>438.208787</td>\n",
       "      <td>234.569872</td>\n",
       "      <td>0.0</td>\n",
       "      <td>274.5750</td>\n",
       "      <td>430.600</td>\n",
       "      <td>571.9275</td>\n",
       "      <td>1632.06</td>\n",
       "    </tr>\n",
       "    <tr>\n",
       "      <th>messages</th>\n",
       "      <td>3214.0</td>\n",
       "      <td>38.281269</td>\n",
       "      <td>36.148326</td>\n",
       "      <td>0.0</td>\n",
       "      <td>9.0000</td>\n",
       "      <td>30.000</td>\n",
       "      <td>57.0000</td>\n",
       "      <td>224.00</td>\n",
       "    </tr>\n",
       "    <tr>\n",
       "      <th>mb_used</th>\n",
       "      <td>3214.0</td>\n",
       "      <td>17207.673836</td>\n",
       "      <td>7570.968246</td>\n",
       "      <td>0.0</td>\n",
       "      <td>12491.9025</td>\n",
       "      <td>16943.235</td>\n",
       "      <td>21424.7000</td>\n",
       "      <td>49745.73</td>\n",
       "    </tr>\n",
       "    <tr>\n",
       "      <th>is_ultra</th>\n",
       "      <td>3214.0</td>\n",
       "      <td>0.306472</td>\n",
       "      <td>0.461100</td>\n",
       "      <td>0.0</td>\n",
       "      <td>0.0000</td>\n",
       "      <td>0.000</td>\n",
       "      <td>1.0000</td>\n",
       "      <td>1.00</td>\n",
       "    </tr>\n",
       "  </tbody>\n",
       "</table>\n",
       "</div>"
      ],
      "text/plain": [
       "           count          mean          std  min         25%        50%  \\\n",
       "calls     3214.0     63.038892    33.236368  0.0     40.0000     62.000   \n",
       "minutes   3214.0    438.208787   234.569872  0.0    274.5750    430.600   \n",
       "messages  3214.0     38.281269    36.148326  0.0      9.0000     30.000   \n",
       "mb_used   3214.0  17207.673836  7570.968246  0.0  12491.9025  16943.235   \n",
       "is_ultra  3214.0      0.306472     0.461100  0.0      0.0000      0.000   \n",
       "\n",
       "                 75%       max  \n",
       "calls        82.0000    244.00  \n",
       "minutes     571.9275   1632.06  \n",
       "messages     57.0000    224.00  \n",
       "mb_used   21424.7000  49745.73  \n",
       "is_ultra      1.0000      1.00  "
      ]
     },
     "execution_count": 7,
     "metadata": {},
     "output_type": "execute_result"
    }
   ],
   "source": [
    "users.describe().T"
   ]
  },
  {
   "cell_type": "code",
   "execution_count": 8,
   "metadata": {},
   "outputs": [
    {
     "data": {
      "text/plain": [
       "0    2229\n",
       "1     985\n",
       "Name: is_ultra, dtype: int64"
      ]
     },
     "execution_count": 8,
     "metadata": {},
     "output_type": "execute_result"
    }
   ],
   "source": [
    "users['is_ultra'].value_counts()"
   ]
  },
  {
   "cell_type": "code",
   "execution_count": 9,
   "metadata": {},
   "outputs": [
    {
     "data": {
      "text/html": [
       "<div>\n",
       "<style scoped>\n",
       "    .dataframe tbody tr th:only-of-type {\n",
       "        vertical-align: middle;\n",
       "    }\n",
       "\n",
       "    .dataframe tbody tr th {\n",
       "        vertical-align: top;\n",
       "    }\n",
       "\n",
       "    .dataframe thead th {\n",
       "        text-align: right;\n",
       "    }\n",
       "</style>\n",
       "<table border=\"1\" class=\"dataframe\">\n",
       "  <thead>\n",
       "    <tr style=\"text-align: right;\">\n",
       "      <th></th>\n",
       "      <th>calls</th>\n",
       "      <th>minutes</th>\n",
       "      <th>messages</th>\n",
       "      <th>mb_used</th>\n",
       "      <th>is_ultra</th>\n",
       "    </tr>\n",
       "  </thead>\n",
       "  <tbody>\n",
       "    <tr>\n",
       "      <th>calls</th>\n",
       "      <td>1.000000</td>\n",
       "      <td>0.982083</td>\n",
       "      <td>0.177385</td>\n",
       "      <td>0.286442</td>\n",
       "      <td>0.207122</td>\n",
       "    </tr>\n",
       "    <tr>\n",
       "      <th>minutes</th>\n",
       "      <td>0.982083</td>\n",
       "      <td>1.000000</td>\n",
       "      <td>0.173110</td>\n",
       "      <td>0.280967</td>\n",
       "      <td>0.206955</td>\n",
       "    </tr>\n",
       "    <tr>\n",
       "      <th>messages</th>\n",
       "      <td>0.177385</td>\n",
       "      <td>0.173110</td>\n",
       "      <td>1.000000</td>\n",
       "      <td>0.195721</td>\n",
       "      <td>0.203830</td>\n",
       "    </tr>\n",
       "    <tr>\n",
       "      <th>mb_used</th>\n",
       "      <td>0.286442</td>\n",
       "      <td>0.280967</td>\n",
       "      <td>0.195721</td>\n",
       "      <td>1.000000</td>\n",
       "      <td>0.198568</td>\n",
       "    </tr>\n",
       "    <tr>\n",
       "      <th>is_ultra</th>\n",
       "      <td>0.207122</td>\n",
       "      <td>0.206955</td>\n",
       "      <td>0.203830</td>\n",
       "      <td>0.198568</td>\n",
       "      <td>1.000000</td>\n",
       "    </tr>\n",
       "  </tbody>\n",
       "</table>\n",
       "</div>"
      ],
      "text/plain": [
       "             calls   minutes  messages   mb_used  is_ultra\n",
       "calls     1.000000  0.982083  0.177385  0.286442  0.207122\n",
       "minutes   0.982083  1.000000  0.173110  0.280967  0.206955\n",
       "messages  0.177385  0.173110  1.000000  0.195721  0.203830\n",
       "mb_used   0.286442  0.280967  0.195721  1.000000  0.198568\n",
       "is_ultra  0.207122  0.206955  0.203830  0.198568  1.000000"
      ]
     },
     "execution_count": 9,
     "metadata": {},
     "output_type": "execute_result"
    }
   ],
   "source": [
    "users.corr()"
   ]
  },
  {
   "cell_type": "code",
   "execution_count": 10,
   "metadata": {},
   "outputs": [
    {
     "data": {
      "image/png": "[encoded data removed]",
      "text/plain": [
       "<Figure size 1080x720 with 2 Axes>"
      ]
     },
     "metadata": {},
     "output_type": "display_data"
    }
   ],
   "source": [
    "plt.figure(figsize=(15,10))\n",
    "sns.heatmap(users.corr(),annot=True)\n",
    "plt.title('Heatmap корреляции')\n",
    "plt.show()"
   ]
  },
  {
   "cell_type": "markdown",
   "metadata": {},
   "source": [
    "**Вывод**: Данные прошли предобработку, аномалий, выбросов, дупликатов не обнаружено.  \n",
    "Сильная корреляция наблюдается между звонками и минутами"
   ]
  },
  {
   "cell_type": "code",
   "execution_count": 11,
   "metadata": {},
   "outputs": [
    {
     "data": {
      "image/png": "[encoded data removed]",
      "text/plain": [
       "<Figure size 1440x1080 with 6 Axes>"
      ]
     },
     "metadata": {},
     "output_type": "display_data"
    }
   ],
   "source": [
    "users.hist(bins=50, figsize=(20,15), edgecolor='black', linewidth=2)\n",
    "plt.show()"
   ]
  },
  {
   "cell_type": "markdown",
   "metadata": {},
   "source": [
    "## Подготовка данных"
   ]
  },
  {
   "cell_type": "code",
   "execution_count": 38,
   "metadata": {},
   "outputs": [],
   "source": [
    "#from fast_ml.model_development import train_valid_test_split\n",
    "\n",
    "#X_train, y_train, X_valid, y_valid, X_test, y_test = train_valid_test_split(ub, target = 'is_ultra', \n",
    "  #                                                                          train_size=0.6, valid_size=0.2, test_size=0.2)"
   ]
  },
  {
   "cell_type": "code",
   "execution_count": 39,
   "metadata": {},
   "outputs": [],
   "source": [
    "train, test_set = train_test_split(users, test_size=0.2, random_state=1589)\n",
    "train_set, valid_set = train_test_split(train, test_size=0.25, random_state=1589)"
   ]
  },
  {
   "cell_type": "code",
   "execution_count": 40,
   "metadata": {},
   "outputs": [
    {
     "name": "stdout",
     "output_type": "stream",
     "text": [
      "Размер обучающей выборки 1928\n",
      "Размер валидационной выборки 643\n",
      "Размер тестовой выборки 643\n"
     ]
    }
   ],
   "source": [
    "print('Размер обучающей выборки', len(train_set))\n",
    "print('Размер валидационной выборки', len(valid_set))\n",
    "print('Размер тестовой выборки', len(test_set))"
   ]
  },
  {
   "cell_type": "code",
   "execution_count": 41,
   "metadata": {},
   "outputs": [],
   "source": [
    "def prop (data, column, set_name):\n",
    "    result = round((data[column].sum()/len(data[column])*100), 2)\n",
    "    return print(f'Доля в % абонентов «Ультра» в выборке {set_name}:',result)"
   ]
  },
  {
   "cell_type": "code",
   "execution_count": 42,
   "metadata": {},
   "outputs": [
    {
     "name": "stdout",
     "output_type": "stream",
     "text": [
      "Доля в % абонентов «Ультра» в выборке \"Тренировочный набор\": 30.19\n",
      "Доля в % абонентов «Ультра» в выборке \"Валидационный набор\": 31.57\n",
      "Доля в % абонентов «Ультра» в выборке \"Тестовый набор\": 31.1\n",
      "Доля в % абонентов «Ультра» в выборке \"Исходный набор\": 30.65\n"
     ]
    }
   ],
   "source": [
    "prop(train_set,'is_ultra', '\"Тренировочный набор\"')\n",
    "prop(valid_set,'is_ultra', '\"Валидационный набор\"')\n",
    "prop(test_set,'is_ultra', '\"Тестовый набор\"')\n",
    "prop(users,'is_ultra', '\"Исходный набор\"')"
   ]
  },
  {
   "cell_type": "markdown",
   "metadata": {},
   "source": [
    "**Разделили выборку на три части:**  \n",
    "- обучающий набор\n",
    "- валидационный набор\n",
    "- тестовый набор"
   ]
  },
  {
   "cell_type": "markdown",
   "metadata": {},
   "source": [
    "## Исследование моделей"
   ]
  },
  {
   "cell_type": "code",
   "execution_count": 43,
   "metadata": {},
   "outputs": [],
   "source": [
    "def split_data(data, target_column):\n",
    "    return data.drop(columns=[target_column], axis=1), data[target_column]\n",
    "df_features, df_target = split_data(train_set,'is_ultra')\n",
    "valid_features, valid_target = split_data(valid_set,'is_ultra')"
   ]
  },
  {
   "cell_type": "markdown",
   "metadata": {},
   "source": [
    "### Дерево решений"
   ]
  },
  {
   "cell_type": "code",
   "execution_count": 44,
   "metadata": {},
   "outputs": [
    {
     "name": "stdout",
     "output_type": "stream",
     "text": [
      "Accuracy\n",
      "Валидационная выборка: 0.7293934681181959\n"
     ]
    }
   ],
   "source": [
    "model = DecisionTreeClassifier(random_state=1589)\n",
    "model.fit(df_features, df_target)\n",
    "\n",
    "\n",
    "valid_predictions = model.predict(valid_features)\n",
    "valid_acc = accuracy_score(valid_target, valid_predictions)\n",
    "\n",
    "print(\"Accuracy\")\n",
    "print(\"Валидационная выборка:\", valid_acc)"
   ]
  },
  {
   "cell_type": "markdown",
   "metadata": {},
   "source": [
    "На тестовой выборке правильность ниже, необходимо настроить параметры и гиперпараметры. Сделаем это с помощью функции GridSearchCV"
   ]
  },
  {
   "cell_type": "code",
   "execution_count": 45,
   "metadata": {},
   "outputs": [
    {
     "data": {
      "text/html": [
       "<style>#sk-container-id-4 {color: black;background-color: white;}#sk-container-id-4 pre{padding: 0;}#sk-container-id-4 div.sk-toggleable {background-color: white;}#sk-container-id-4 label.sk-toggleable__label {cursor: pointer;display: block;width: 100%;margin-bottom: 0;padding: 0.3em;box-sizing: border-box;text-align: center;}#sk-container-id-4 label.sk-toggleable__label-arrow:before {content: \"▸\";float: left;margin-right: 0.25em;color: #696969;}#sk-container-id-4 label.sk-toggleable__label-arrow:hover:before {color: black;}#sk-container-id-4 div.sk-estimator:hover label.sk-toggleable__label-arrow:before {color: black;}#sk-container-id-4 div.sk-toggleable__content {max-height: 0;max-width: 0;overflow: hidden;text-align: left;background-color: #f0f8ff;}#sk-container-id-4 div.sk-toggleable__content pre {margin: 0.2em;color: black;border-radius: 0.25em;background-color: #f0f8ff;}#sk-container-id-4 input.sk-toggleable__control:checked~div.sk-toggleable__content {max-height: 200px;max-width: 100%;overflow: auto;}#sk-container-id-4 input.sk-toggleable__control:checked~label.sk-toggleable__label-arrow:before {content: \"▾\";}#sk-container-id-4 div.sk-estimator input.sk-toggleable__control:checked~label.sk-toggleable__label {background-color: #d4ebff;}#sk-container-id-4 div.sk-label input.sk-toggleable__control:checked~label.sk-toggleable__label {background-color: #d4ebff;}#sk-container-id-4 input.sk-hidden--visually {border: 0;clip: rect(1px 1px 1px 1px);clip: rect(1px, 1px, 1px, 1px);height: 1px;margin: -1px;overflow: hidden;padding: 0;position: absolute;width: 1px;}#sk-container-id-4 div.sk-estimator {font-family: monospace;background-color: #f0f8ff;border: 1px dotted black;border-radius: 0.25em;box-sizing: border-box;margin-bottom: 0.5em;}#sk-container-id-4 div.sk-estimator:hover {background-color: #d4ebff;}#sk-container-id-4 div.sk-parallel-item::after {content: \"\";width: 100%;border-bottom: 1px solid gray;flex-grow: 1;}#sk-container-id-4 div.sk-label:hover label.sk-toggleable__label {background-color: #d4ebff;}#sk-container-id-4 div.sk-serial::before {content: \"\";position: absolute;border-left: 1px solid gray;box-sizing: border-box;top: 0;bottom: 0;left: 50%;z-index: 0;}#sk-container-id-4 div.sk-serial {display: flex;flex-direction: column;align-items: center;background-color: white;padding-right: 0.2em;padding-left: 0.2em;position: relative;}#sk-container-id-4 div.sk-item {position: relative;z-index: 1;}#sk-container-id-4 div.sk-parallel {display: flex;align-items: stretch;justify-content: center;background-color: white;position: relative;}#sk-container-id-4 div.sk-item::before, #sk-container-id-4 div.sk-parallel-item::before {content: \"\";position: absolute;border-left: 1px solid gray;box-sizing: border-box;top: 0;bottom: 0;left: 50%;z-index: -1;}#sk-container-id-4 div.sk-parallel-item {display: flex;flex-direction: column;z-index: 1;position: relative;background-color: white;}#sk-container-id-4 div.sk-parallel-item:first-child::after {align-self: flex-end;width: 50%;}#sk-container-id-4 div.sk-parallel-item:last-child::after {align-self: flex-start;width: 50%;}#sk-container-id-4 div.sk-parallel-item:only-child::after {width: 0;}#sk-container-id-4 div.sk-dashed-wrapped {border: 1px dashed gray;margin: 0 0.4em 0.5em 0.4em;box-sizing: border-box;padding-bottom: 0.4em;background-color: white;}#sk-container-id-4 div.sk-label label {font-family: monospace;font-weight: bold;display: inline-block;line-height: 1.2em;}#sk-container-id-4 div.sk-label-container {text-align: center;}#sk-container-id-4 div.sk-container {/* jupyter's `normalize.less` sets `[hidden] { display: none; }` but bootstrap.min.css set `[hidden] { display: none !important; }` so we also need the `!important` here to be able to override the default hidden behavior on the sphinx rendered scikit-learn.org. See: https://github.com/scikit-learn/scikit-learn/issues/21755 */display: inline-block !important;position: relative;}#sk-container-id-4 div.sk-text-repr-fallback {display: none;}</style><div id=\"sk-container-id-4\" class=\"sk-top-container\"><div class=\"sk-text-repr-fallback\"><pre>GridSearchCV(cv=5, estimator=DecisionTreeClassifier(random_state=1589),\n",
       "             param_grid={&#x27;max_depth&#x27;: [None, 6, 7, 8, 9, 10],\n",
       "                         &#x27;min_samples_split&#x27;: range(2, 15)},\n",
       "             scoring=&#x27;accuracy&#x27;)</pre><b>In a Jupyter environment, please rerun this cell to show the HTML representation or trust the notebook. <br />On GitHub, the HTML representation is unable to render, please try loading this page with nbviewer.org.</b></div><div class=\"sk-container\" hidden><div class=\"sk-item sk-dashed-wrapped\"><div class=\"sk-label-container\"><div class=\"sk-label sk-toggleable\"><input class=\"sk-toggleable__control sk-hidden--visually\" id=\"sk-estimator-id-10\" type=\"checkbox\" ><label for=\"sk-estimator-id-10\" class=\"sk-toggleable__label sk-toggleable__label-arrow\">GridSearchCV</label><div class=\"sk-toggleable__content\"><pre>GridSearchCV(cv=5, estimator=DecisionTreeClassifier(random_state=1589),\n",
       "             param_grid={&#x27;max_depth&#x27;: [None, 6, 7, 8, 9, 10],\n",
       "                         &#x27;min_samples_split&#x27;: range(2, 15)},\n",
       "             scoring=&#x27;accuracy&#x27;)</pre></div></div></div><div class=\"sk-parallel\"><div class=\"sk-parallel-item\"><div class=\"sk-item\"><div class=\"sk-label-container\"><div class=\"sk-label sk-toggleable\"><input class=\"sk-toggleable__control sk-hidden--visually\" id=\"sk-estimator-id-11\" type=\"checkbox\" ><label for=\"sk-estimator-id-11\" class=\"sk-toggleable__label sk-toggleable__label-arrow\">estimator: DecisionTreeClassifier</label><div class=\"sk-toggleable__content\"><pre>DecisionTreeClassifier(random_state=1589)</pre></div></div></div><div class=\"sk-serial\"><div class=\"sk-item\"><div class=\"sk-estimator sk-toggleable\"><input class=\"sk-toggleable__control sk-hidden--visually\" id=\"sk-estimator-id-12\" type=\"checkbox\" ><label for=\"sk-estimator-id-12\" class=\"sk-toggleable__label sk-toggleable__label-arrow\">DecisionTreeClassifier</label><div class=\"sk-toggleable__content\"><pre>DecisionTreeClassifier(random_state=1589)</pre></div></div></div></div></div></div></div></div></div></div>"
      ],
      "text/plain": [
       "GridSearchCV(cv=5, estimator=DecisionTreeClassifier(random_state=1589),\n",
       "             param_grid={'max_depth': [None, 6, 7, 8, 9, 10],\n",
       "                         'min_samples_split': range(2, 15)},\n",
       "             scoring='accuracy')"
      ]
     },
     "execution_count": 45,
     "metadata": {},
     "output_type": "execute_result"
    }
   ],
   "source": [
    "param_grid = {'min_samples_split': range(2, 15),\n",
    "              'max_depth': [None, 6, 7, 8, 9, 10]\n",
    "             }\n",
    "\n",
    "model = DecisionTreeClassifier (random_state=1589)\n",
    "\n",
    "grid_search = GridSearchCV(model, param_grid, cv=5,\n",
    "                           scoring='accuracy'\n",
    "                          )\n",
    "grid_search.fit(df_features, df_target)"
   ]
  },
  {
   "cell_type": "code",
   "execution_count": 19,
   "metadata": {},
   "outputs": [
    {
     "data": {
      "text/plain": [
       "{'max_depth': 9, 'min_samples_split': 5}"
      ]
     },
     "execution_count": 19,
     "metadata": {},
     "output_type": "execute_result"
    }
   ],
   "source": [
    "grid_search.best_params_"
   ]
  },
  {
   "cell_type": "markdown",
   "metadata": {},
   "source": [
    "**Дерево с настройками**"
   ]
  },
  {
   "cell_type": "code",
   "execution_count": 46,
   "metadata": {},
   "outputs": [
    {
     "name": "stdout",
     "output_type": "stream",
     "text": [
      "Accuracy\n",
      "Валидационная выборка: 0.7916018662519441\n"
     ]
    }
   ],
   "source": [
    "model_dtree = DecisionTreeClassifier(max_depth=9, min_samples_split=5, random_state=1589)\n",
    "model_dtree.fit(df_features, df_target)\n",
    "\n",
    "\n",
    "valid_predictions = model_dtree.predict(valid_features)\n",
    "valid_acc = accuracy_score(valid_target, valid_predictions)\n",
    "\n",
    "print(\"Accuracy\")\n",
    "print(\"Валидационная выборка:\", valid_acc)"
   ]
  },
  {
   "cell_type": "markdown",
   "metadata": {},
   "source": [
    "С данными параметрами Accuracy значительно выше."
   ]
  },
  {
   "cell_type": "markdown",
   "metadata": {},
   "source": [
    "### Логистическая регрессия"
   ]
  },
  {
   "cell_type": "markdown",
   "metadata": {},
   "source": [
    "Построим базовую модель для целей классификации на основе логистической регрессии, параметр solver примем как 'liblinear', так как выборка небольшая. Менять его не будем"
   ]
  },
  {
   "cell_type": "code",
   "execution_count": 47,
   "metadata": {},
   "outputs": [
    {
     "name": "stdout",
     "output_type": "stream",
     "text": [
      "Accuracy\n",
      "Валидационная выборка: 0.6967340590979783\n"
     ]
    }
   ],
   "source": [
    "model = LogisticRegression(solver='liblinear',random_state=1589)\n",
    "model.fit(df_features, df_target)\n",
    "\n",
    "\n",
    "valid_predictions = model.predict(valid_features)\n",
    "valid_acc = accuracy_score(valid_target, valid_predictions)\n",
    "\n",
    "print(\"Accuracy\")\n",
    "\n",
    "print(\"Валидационная выборка:\", valid_acc)"
   ]
  },
  {
   "cell_type": "markdown",
   "metadata": {},
   "source": [
    "Результат слабый. Попробуем подобрать гиперпараметров."
   ]
  },
  {
   "cell_type": "code",
   "execution_count": 48,
   "metadata": {},
   "outputs": [
    {
     "data": {
      "text/html": [
       "<style>#sk-container-id-5 {color: black;background-color: white;}#sk-container-id-5 pre{padding: 0;}#sk-container-id-5 div.sk-toggleable {background-color: white;}#sk-container-id-5 label.sk-toggleable__label {cursor: pointer;display: block;width: 100%;margin-bottom: 0;padding: 0.3em;box-sizing: border-box;text-align: center;}#sk-container-id-5 label.sk-toggleable__label-arrow:before {content: \"▸\";float: left;margin-right: 0.25em;color: #696969;}#sk-container-id-5 label.sk-toggleable__label-arrow:hover:before {color: black;}#sk-container-id-5 div.sk-estimator:hover label.sk-toggleable__label-arrow:before {color: black;}#sk-container-id-5 div.sk-toggleable__content {max-height: 0;max-width: 0;overflow: hidden;text-align: left;background-color: #f0f8ff;}#sk-container-id-5 div.sk-toggleable__content pre {margin: 0.2em;color: black;border-radius: 0.25em;background-color: #f0f8ff;}#sk-container-id-5 input.sk-toggleable__control:checked~div.sk-toggleable__content {max-height: 200px;max-width: 100%;overflow: auto;}#sk-container-id-5 input.sk-toggleable__control:checked~label.sk-toggleable__label-arrow:before {content: \"▾\";}#sk-container-id-5 div.sk-estimator input.sk-toggleable__control:checked~label.sk-toggleable__label {background-color: #d4ebff;}#sk-container-id-5 div.sk-label input.sk-toggleable__control:checked~label.sk-toggleable__label {background-color: #d4ebff;}#sk-container-id-5 input.sk-hidden--visually {border: 0;clip: rect(1px 1px 1px 1px);clip: rect(1px, 1px, 1px, 1px);height: 1px;margin: -1px;overflow: hidden;padding: 0;position: absolute;width: 1px;}#sk-container-id-5 div.sk-estimator {font-family: monospace;background-color: #f0f8ff;border: 1px dotted black;border-radius: 0.25em;box-sizing: border-box;margin-bottom: 0.5em;}#sk-container-id-5 div.sk-estimator:hover {background-color: #d4ebff;}#sk-container-id-5 div.sk-parallel-item::after {content: \"\";width: 100%;border-bottom: 1px solid gray;flex-grow: 1;}#sk-container-id-5 div.sk-label:hover label.sk-toggleable__label {background-color: #d4ebff;}#sk-container-id-5 div.sk-serial::before {content: \"\";position: absolute;border-left: 1px solid gray;box-sizing: border-box;top: 0;bottom: 0;left: 50%;z-index: 0;}#sk-container-id-5 div.sk-serial {display: flex;flex-direction: column;align-items: center;background-color: white;padding-right: 0.2em;padding-left: 0.2em;position: relative;}#sk-container-id-5 div.sk-item {position: relative;z-index: 1;}#sk-container-id-5 div.sk-parallel {display: flex;align-items: stretch;justify-content: center;background-color: white;position: relative;}#sk-container-id-5 div.sk-item::before, #sk-container-id-5 div.sk-parallel-item::before {content: \"\";position: absolute;border-left: 1px solid gray;box-sizing: border-box;top: 0;bottom: 0;left: 50%;z-index: -1;}#sk-container-id-5 div.sk-parallel-item {display: flex;flex-direction: column;z-index: 1;position: relative;background-color: white;}#sk-container-id-5 div.sk-parallel-item:first-child::after {align-self: flex-end;width: 50%;}#sk-container-id-5 div.sk-parallel-item:last-child::after {align-self: flex-start;width: 50%;}#sk-container-id-5 div.sk-parallel-item:only-child::after {width: 0;}#sk-container-id-5 div.sk-dashed-wrapped {border: 1px dashed gray;margin: 0 0.4em 0.5em 0.4em;box-sizing: border-box;padding-bottom: 0.4em;background-color: white;}#sk-container-id-5 div.sk-label label {font-family: monospace;font-weight: bold;display: inline-block;line-height: 1.2em;}#sk-container-id-5 div.sk-label-container {text-align: center;}#sk-container-id-5 div.sk-container {/* jupyter's `normalize.less` sets `[hidden] { display: none; }` but bootstrap.min.css set `[hidden] { display: none !important; }` so we also need the `!important` here to be able to override the default hidden behavior on the sphinx rendered scikit-learn.org. See: https://github.com/scikit-learn/scikit-learn/issues/21755 */display: inline-block !important;position: relative;}#sk-container-id-5 div.sk-text-repr-fallback {display: none;}</style><div id=\"sk-container-id-5\" class=\"sk-top-container\"><div class=\"sk-text-repr-fallback\"><pre>GridSearchCV(cv=5,\n",
       "             estimator=LogisticRegression(random_state=42, solver=&#x27;liblinear&#x27;),\n",
       "             param_grid={&#x27;C&#x27;: [0.5, 1, 1.5], &#x27;class_weight&#x27;: [None, &#x27;balanced&#x27;],\n",
       "                         &#x27;intercept_scaling&#x27;: [0.5, 1.0, 1.5]},\n",
       "             scoring=&#x27;accuracy&#x27;)</pre><b>In a Jupyter environment, please rerun this cell to show the HTML representation or trust the notebook. <br />On GitHub, the HTML representation is unable to render, please try loading this page with nbviewer.org.</b></div><div class=\"sk-container\" hidden><div class=\"sk-item sk-dashed-wrapped\"><div class=\"sk-label-container\"><div class=\"sk-label sk-toggleable\"><input class=\"sk-toggleable__control sk-hidden--visually\" id=\"sk-estimator-id-13\" type=\"checkbox\" ><label for=\"sk-estimator-id-13\" class=\"sk-toggleable__label sk-toggleable__label-arrow\">GridSearchCV</label><div class=\"sk-toggleable__content\"><pre>GridSearchCV(cv=5,\n",
       "             estimator=LogisticRegression(random_state=42, solver=&#x27;liblinear&#x27;),\n",
       "             param_grid={&#x27;C&#x27;: [0.5, 1, 1.5], &#x27;class_weight&#x27;: [None, &#x27;balanced&#x27;],\n",
       "                         &#x27;intercept_scaling&#x27;: [0.5, 1.0, 1.5]},\n",
       "             scoring=&#x27;accuracy&#x27;)</pre></div></div></div><div class=\"sk-parallel\"><div class=\"sk-parallel-item\"><div class=\"sk-item\"><div class=\"sk-label-container\"><div class=\"sk-label sk-toggleable\"><input class=\"sk-toggleable__control sk-hidden--visually\" id=\"sk-estimator-id-14\" type=\"checkbox\" ><label for=\"sk-estimator-id-14\" class=\"sk-toggleable__label sk-toggleable__label-arrow\">estimator: LogisticRegression</label><div class=\"sk-toggleable__content\"><pre>LogisticRegression(random_state=42, solver=&#x27;liblinear&#x27;)</pre></div></div></div><div class=\"sk-serial\"><div class=\"sk-item\"><div class=\"sk-estimator sk-toggleable\"><input class=\"sk-toggleable__control sk-hidden--visually\" id=\"sk-estimator-id-15\" type=\"checkbox\" ><label for=\"sk-estimator-id-15\" class=\"sk-toggleable__label sk-toggleable__label-arrow\">LogisticRegression</label><div class=\"sk-toggleable__content\"><pre>LogisticRegression(random_state=42, solver=&#x27;liblinear&#x27;)</pre></div></div></div></div></div></div></div></div></div></div>"
      ],
      "text/plain": [
       "GridSearchCV(cv=5,\n",
       "             estimator=LogisticRegression(random_state=42, solver='liblinear'),\n",
       "             param_grid={'C': [0.5, 1, 1.5], 'class_weight': [None, 'balanced'],\n",
       "                         'intercept_scaling': [0.5, 1.0, 1.5]},\n",
       "             scoring='accuracy')"
      ]
     },
     "execution_count": 48,
     "metadata": {},
     "output_type": "execute_result"
    }
   ],
   "source": [
    "par_grid_logist = {\n",
    "                   'intercept_scaling': [0.5, 1.0, 1.5],\n",
    "                   'class_weight': [None, 'balanced'],\n",
    "                   'C': [0.5, 1, 1.5]\n",
    "                   }\n",
    "model = LogisticRegression(solver='liblinear',random_state=42)\n",
    "\n",
    "grid_search = GridSearchCV(model, par_grid_logist, cv=5,\n",
    "                           scoring='accuracy')\n",
    "grid_search.fit(df_features, df_target)"
   ]
  },
  {
   "cell_type": "code",
   "execution_count": 23,
   "metadata": {},
   "outputs": [
    {
     "data": {
      "text/plain": [
       "{'C': 1.5, 'class_weight': None, 'intercept_scaling': 1.5}"
      ]
     },
     "execution_count": 23,
     "metadata": {},
     "output_type": "execute_result"
    }
   ],
   "source": [
    "grid_search.best_params_"
   ]
  },
  {
   "cell_type": "markdown",
   "metadata": {},
   "source": [
    "**Логистическая регрессия с настройками**"
   ]
  },
  {
   "cell_type": "code",
   "execution_count": 24,
   "metadata": {},
   "outputs": [
    {
     "name": "stdout",
     "output_type": "stream",
     "text": [
      "Accuracy\n",
      "Валидационная выборка: 0.7309486780715396\n"
     ]
    }
   ],
   "source": [
    "model_lreg = LogisticRegression(C=1.5, class_weight=None, intercept_scaling=1.5,\n",
    "                           solver='liblinear', random_state=42\n",
    "                          )\n",
    "model_lreg.fit(df_features, df_target)\n",
    "\n",
    "\n",
    "valid_predictions = model_lreg.predict(valid_features)\n",
    "valid_acc = accuracy_score(valid_target, valid_predictions)\n",
    "\n",
    "print(\"Accuracy\")\n",
    "\n",
    "print(\"Валидационная выборка:\", valid_acc)"
   ]
  },
  {
   "cell_type": "markdown",
   "metadata": {},
   "source": [
    "Модель сильно улучшилась, но всё еще ниже целевого порога."
   ]
  },
  {
   "cell_type": "markdown",
   "metadata": {},
   "source": [
    "### Случайный лес"
   ]
  },
  {
   "cell_type": "code",
   "execution_count": 49,
   "metadata": {},
   "outputs": [
    {
     "name": "stdout",
     "output_type": "stream",
     "text": [
      "Accuracy\n",
      "Валидационная выборка: 0.7791601866251944\n"
     ]
    }
   ],
   "source": [
    "model = RandomForestClassifier(random_state=1589, n_estimators=10)\n",
    "model.fit(df_features, df_target)\n",
    "\n",
    "valid_predictions = model.predict(valid_features)\n",
    "valid_acc = accuracy_score(valid_target, valid_predictions)\n",
    "\n",
    "print(\"Accuracy\")\n",
    "print(\"Валидационная выборка:\", valid_acc)"
   ]
  },
  {
   "cell_type": "code",
   "execution_count": 50,
   "metadata": {},
   "outputs": [
    {
     "data": {
      "text/html": [
       "<style>#sk-container-id-6 {color: black;background-color: white;}#sk-container-id-6 pre{padding: 0;}#sk-container-id-6 div.sk-toggleable {background-color: white;}#sk-container-id-6 label.sk-toggleable__label {cursor: pointer;display: block;width: 100%;margin-bottom: 0;padding: 0.3em;box-sizing: border-box;text-align: center;}#sk-container-id-6 label.sk-toggleable__label-arrow:before {content: \"▸\";float: left;margin-right: 0.25em;color: #696969;}#sk-container-id-6 label.sk-toggleable__label-arrow:hover:before {color: black;}#sk-container-id-6 div.sk-estimator:hover label.sk-toggleable__label-arrow:before {color: black;}#sk-container-id-6 div.sk-toggleable__content {max-height: 0;max-width: 0;overflow: hidden;text-align: left;background-color: #f0f8ff;}#sk-container-id-6 div.sk-toggleable__content pre {margin: 0.2em;color: black;border-radius: 0.25em;background-color: #f0f8ff;}#sk-container-id-6 input.sk-toggleable__control:checked~div.sk-toggleable__content {max-height: 200px;max-width: 100%;overflow: auto;}#sk-container-id-6 input.sk-toggleable__control:checked~label.sk-toggleable__label-arrow:before {content: \"▾\";}#sk-container-id-6 div.sk-estimator input.sk-toggleable__control:checked~label.sk-toggleable__label {background-color: #d4ebff;}#sk-container-id-6 div.sk-label input.sk-toggleable__control:checked~label.sk-toggleable__label {background-color: #d4ebff;}#sk-container-id-6 input.sk-hidden--visually {border: 0;clip: rect(1px 1px 1px 1px);clip: rect(1px, 1px, 1px, 1px);height: 1px;margin: -1px;overflow: hidden;padding: 0;position: absolute;width: 1px;}#sk-container-id-6 div.sk-estimator {font-family: monospace;background-color: #f0f8ff;border: 1px dotted black;border-radius: 0.25em;box-sizing: border-box;margin-bottom: 0.5em;}#sk-container-id-6 div.sk-estimator:hover {background-color: #d4ebff;}#sk-container-id-6 div.sk-parallel-item::after {content: \"\";width: 100%;border-bottom: 1px solid gray;flex-grow: 1;}#sk-container-id-6 div.sk-label:hover label.sk-toggleable__label {background-color: #d4ebff;}#sk-container-id-6 div.sk-serial::before {content: \"\";position: absolute;border-left: 1px solid gray;box-sizing: border-box;top: 0;bottom: 0;left: 50%;z-index: 0;}#sk-container-id-6 div.sk-serial {display: flex;flex-direction: column;align-items: center;background-color: white;padding-right: 0.2em;padding-left: 0.2em;position: relative;}#sk-container-id-6 div.sk-item {position: relative;z-index: 1;}#sk-container-id-6 div.sk-parallel {display: flex;align-items: stretch;justify-content: center;background-color: white;position: relative;}#sk-container-id-6 div.sk-item::before, #sk-container-id-6 div.sk-parallel-item::before {content: \"\";position: absolute;border-left: 1px solid gray;box-sizing: border-box;top: 0;bottom: 0;left: 50%;z-index: -1;}#sk-container-id-6 div.sk-parallel-item {display: flex;flex-direction: column;z-index: 1;position: relative;background-color: white;}#sk-container-id-6 div.sk-parallel-item:first-child::after {align-self: flex-end;width: 50%;}#sk-container-id-6 div.sk-parallel-item:last-child::after {align-self: flex-start;width: 50%;}#sk-container-id-6 div.sk-parallel-item:only-child::after {width: 0;}#sk-container-id-6 div.sk-dashed-wrapped {border: 1px dashed gray;margin: 0 0.4em 0.5em 0.4em;box-sizing: border-box;padding-bottom: 0.4em;background-color: white;}#sk-container-id-6 div.sk-label label {font-family: monospace;font-weight: bold;display: inline-block;line-height: 1.2em;}#sk-container-id-6 div.sk-label-container {text-align: center;}#sk-container-id-6 div.sk-container {/* jupyter's `normalize.less` sets `[hidden] { display: none; }` but bootstrap.min.css set `[hidden] { display: none !important; }` so we also need the `!important` here to be able to override the default hidden behavior on the sphinx rendered scikit-learn.org. See: https://github.com/scikit-learn/scikit-learn/issues/21755 */display: inline-block !important;position: relative;}#sk-container-id-6 div.sk-text-repr-fallback {display: none;}</style><div id=\"sk-container-id-6\" class=\"sk-top-container\"><div class=\"sk-text-repr-fallback\"><pre>GridSearchCV(cv=5, estimator=RandomForestClassifier(random_state=1589),\n",
       "             param_grid={&#x27;criterion&#x27;: [&#x27;gini&#x27;, &#x27;entropy&#x27;],\n",
       "                         &#x27;min_samples_split&#x27;: range(5, 15),\n",
       "                         &#x27;n_estimators&#x27;: [3, 10, 30]},\n",
       "             scoring=&#x27;accuracy&#x27;)</pre><b>In a Jupyter environment, please rerun this cell to show the HTML representation or trust the notebook. <br />On GitHub, the HTML representation is unable to render, please try loading this page with nbviewer.org.</b></div><div class=\"sk-container\" hidden><div class=\"sk-item sk-dashed-wrapped\"><div class=\"sk-label-container\"><div class=\"sk-label sk-toggleable\"><input class=\"sk-toggleable__control sk-hidden--visually\" id=\"sk-estimator-id-16\" type=\"checkbox\" ><label for=\"sk-estimator-id-16\" class=\"sk-toggleable__label sk-toggleable__label-arrow\">GridSearchCV</label><div class=\"sk-toggleable__content\"><pre>GridSearchCV(cv=5, estimator=RandomForestClassifier(random_state=1589),\n",
       "             param_grid={&#x27;criterion&#x27;: [&#x27;gini&#x27;, &#x27;entropy&#x27;],\n",
       "                         &#x27;min_samples_split&#x27;: range(5, 15),\n",
       "                         &#x27;n_estimators&#x27;: [3, 10, 30]},\n",
       "             scoring=&#x27;accuracy&#x27;)</pre></div></div></div><div class=\"sk-parallel\"><div class=\"sk-parallel-item\"><div class=\"sk-item\"><div class=\"sk-label-container\"><div class=\"sk-label sk-toggleable\"><input class=\"sk-toggleable__control sk-hidden--visually\" id=\"sk-estimator-id-17\" type=\"checkbox\" ><label for=\"sk-estimator-id-17\" class=\"sk-toggleable__label sk-toggleable__label-arrow\">estimator: RandomForestClassifier</label><div class=\"sk-toggleable__content\"><pre>RandomForestClassifier(random_state=1589)</pre></div></div></div><div class=\"sk-serial\"><div class=\"sk-item\"><div class=\"sk-estimator sk-toggleable\"><input class=\"sk-toggleable__control sk-hidden--visually\" id=\"sk-estimator-id-18\" type=\"checkbox\" ><label for=\"sk-estimator-id-18\" class=\"sk-toggleable__label sk-toggleable__label-arrow\">RandomForestClassifier</label><div class=\"sk-toggleable__content\"><pre>RandomForestClassifier(random_state=1589)</pre></div></div></div></div></div></div></div></div></div></div>"
      ],
      "text/plain": [
       "GridSearchCV(cv=5, estimator=RandomForestClassifier(random_state=1589),\n",
       "             param_grid={'criterion': ['gini', 'entropy'],\n",
       "                         'min_samples_split': range(5, 15),\n",
       "                         'n_estimators': [3, 10, 30]},\n",
       "             scoring='accuracy')"
      ]
     },
     "execution_count": 50,
     "metadata": {},
     "output_type": "execute_result"
    }
   ],
   "source": [
    "par_grid_ensemble = {'n_estimators': [3, 10, 30],\n",
    "                     'criterion': ['gini', 'entropy'],\n",
    "                     'min_samples_split': range(5, 15)\n",
    "                    }\n",
    "model = RandomForestClassifier(random_state=1589)\n",
    "\n",
    "grid_search = GridSearchCV(model, par_grid_ensemble, cv=5,\n",
    "                           scoring='accuracy'\n",
    "                          )\n",
    "grid_search.fit(df_features, df_target)"
   ]
  },
  {
   "cell_type": "code",
   "execution_count": 27,
   "metadata": {},
   "outputs": [
    {
     "data": {
      "text/plain": [
       "{'criterion': 'gini', 'min_samples_split': 13, 'n_estimators': 30}"
      ]
     },
     "execution_count": 27,
     "metadata": {},
     "output_type": "execute_result"
    }
   ],
   "source": [
    "grid_search.best_params_"
   ]
  },
  {
   "cell_type": "markdown",
   "metadata": {},
   "source": [
    "**Случайный лес с настройками**"
   ]
  },
  {
   "cell_type": "code",
   "execution_count": 28,
   "metadata": {},
   "outputs": [
    {
     "name": "stdout",
     "output_type": "stream",
     "text": [
      "Accuracy\n",
      "Валидационная выборка: 0.7962674961119751\n"
     ]
    }
   ],
   "source": [
    "model_rfc = RandomForestClassifier(random_state=1589, criterion='gini', \n",
    "                               min_samples_split=13, n_estimators=30\n",
    "                              )\n",
    "model_rfc.fit(df_features, df_target)\n",
    "\n",
    "valid_predictions = model_rfc.predict(valid_features)\n",
    "valid_acc = accuracy_score(valid_target, valid_predictions)\n",
    "\n",
    "print(\"Accuracy\")\n",
    "print(\"Валидационная выборка:\", valid_acc)"
   ]
  },
  {
   "cell_type": "markdown",
   "metadata": {},
   "source": [
    "Подборка параметров улучшила точность модели."
   ]
  },
  {
   "cell_type": "markdown",
   "metadata": {},
   "source": [
    "### Catboost"
   ]
  },
  {
   "cell_type": "code",
   "execution_count": 29,
   "metadata": {},
   "outputs": [
    {
     "name": "stdout",
     "output_type": "stream",
     "text": [
      "Learning rate set to 0.013636\n",
      "0:\tlearn: 0.6871651\ttotal: 48.1ms\tremaining: 48.1s\n",
      "100:\tlearn: 0.4664542\ttotal: 174ms\tremaining: 1.55s\n",
      "200:\tlearn: 0.4262950\ttotal: 322ms\tremaining: 1.28s\n",
      "300:\tlearn: 0.4061869\ttotal: 465ms\tremaining: 1.08s\n",
      "400:\tlearn: 0.3908923\ttotal: 592ms\tremaining: 885ms\n",
      "500:\tlearn: 0.3770985\ttotal: 722ms\tremaining: 720ms\n",
      "600:\tlearn: 0.3631402\ttotal: 848ms\tremaining: 563ms\n",
      "700:\tlearn: 0.3495041\ttotal: 990ms\tremaining: 422ms\n",
      "800:\tlearn: 0.3360826\ttotal: 1.14s\tremaining: 284ms\n",
      "900:\tlearn: 0.3229001\ttotal: 1.27s\tremaining: 139ms\n",
      "999:\tlearn: 0.3114870\ttotal: 1.4s\tremaining: 0us\n",
      "Accuracy\n",
      "Валидационная выборка: 0.8149300155520995\n"
     ]
    }
   ],
   "source": [
    "model_cat = CatBoostClassifier(verbose=100, random_state=1589)\n",
    "model_cat.fit(df_features, df_target)\n",
    "\n",
    "\n",
    "valid_predictions = model_cat.predict(valid_features)\n",
    "valid_acc = accuracy_score(valid_target, valid_predictions)\n",
    "\n",
    "print(\"Accuracy\")\n",
    "print(\"Валидационная выборка:\", valid_acc)"
   ]
  },
  {
   "cell_type": "markdown",
   "metadata": {},
   "source": [
    "Catboost показывает лучший результат."
   ]
  },
  {
   "cell_type": "markdown",
   "metadata": {},
   "source": [
    "**Вывод**: было изучено 4 модели: \n",
    "- дерево решений\n",
    "- случайный лес\n",
    "- логистическая регрессия\n",
    "- кэтбуст\n",
    "\n",
    "По результатам изучения и подбора параметров лучшие результаты были продемонстрированы моделями Случайный лес, Кетбуст и Дерево решений. Логистическая регрессия слабо подходит для данной задачи."
   ]
  },
  {
   "cell_type": "markdown",
   "metadata": {},
   "source": [
    "## Проверка на тесте"
   ]
  },
  {
   "cell_type": "code",
   "execution_count": 30,
   "metadata": {},
   "outputs": [],
   "source": [
    "test_features, test_target = split_data(test_set,'is_ultra')\n",
    "table_of_acc = []\n",
    "table_of_model = []\n",
    "table_of_prec = []"
   ]
  },
  {
   "cell_type": "markdown",
   "metadata": {},
   "source": [
    "**Дерево**"
   ]
  },
  {
   "cell_type": "code",
   "execution_count": 31,
   "metadata": {},
   "outputs": [
    {
     "name": "stdout",
     "output_type": "stream",
     "text": [
      "Accuracy\n",
      "Тестовая выборка: 0.7869362363919129\n",
      "F1-мера\n",
      "Тестовая выборка: 0.7729915434193813\n"
     ]
    }
   ],
   "source": [
    "test_predictions = model_dtree.predict(test_features)\n",
    "test_acc = accuracy_score(test_target, test_predictions)\n",
    "test_f1 = f1_score(test_target, test_predictions, average='weighted')\n",
    "\n",
    "print(\"Accuracy\")\n",
    "print(\"Тестовая выборка:\", test_acc)\n",
    "print(\"F1-мера\")\n",
    "print(\"Тестовая выборка:\", test_f1)\n",
    "\n",
    "\n",
    "table_of_acc.append(round(test_acc, 2))\n",
    "table_of_prec.append(round(test_f1, 2))\n",
    "table_of_model.append('DecisionTreeClassifier')"
   ]
  },
  {
   "cell_type": "markdown",
   "metadata": {},
   "source": [
    "**Логистическая регрессия**"
   ]
  },
  {
   "cell_type": "code",
   "execution_count": 32,
   "metadata": {},
   "outputs": [
    {
     "name": "stdout",
     "output_type": "stream",
     "text": [
      "Accuracy\n",
      "Тестовая выборка: 0.7340590979782271\n",
      "F1-мера\n",
      "Тестовая выборка: 0.6665635726534136\n"
     ]
    }
   ],
   "source": [
    "test_predictions = model_lreg.predict(test_features)\n",
    "\n",
    "test_acc = accuracy_score(test_target, test_predictions)\n",
    "test_f1 = f1_score(test_target, test_predictions, average='weighted')\n",
    "\n",
    "print(\"Accuracy\")\n",
    "print(\"Тестовая выборка:\", test_acc)\n",
    "print(\"F1-мера\")\n",
    "print(\"Тестовая выборка:\", test_f1)\n",
    "\n",
    "\n",
    "table_of_acc.append(round(test_acc, 2))\n",
    "table_of_prec.append(round(test_f1, 2))\n",
    "table_of_model.append('LogisticRegression')"
   ]
  },
  {
   "cell_type": "markdown",
   "metadata": {},
   "source": [
    "**Случайный лес**"
   ]
  },
  {
   "cell_type": "code",
   "execution_count": 33,
   "metadata": {},
   "outputs": [
    {
     "name": "stdout",
     "output_type": "stream",
     "text": [
      "Accuracy\n",
      "Тестовая выборка: 0.8211508553654744\n",
      "F1-мера\n",
      "Тестовая выборка: 0.812121492582866\n"
     ]
    }
   ],
   "source": [
    "test_predictions = model_rfc.predict(test_features)\n",
    "\n",
    "test_acc = accuracy_score(test_target, test_predictions)\n",
    "test_f1 = f1_score(test_target, test_predictions, average='weighted')\n",
    "\n",
    "print(\"Accuracy\")\n",
    "print(\"Тестовая выборка:\", test_acc)\n",
    "print(\"F1-мера\")\n",
    "print(\"Тестовая выборка:\", test_f1)\n",
    "\n",
    "\n",
    "table_of_acc.append(round(test_acc, 2))\n",
    "table_of_prec.append(round(test_f1, 2))\n",
    "table_of_model.append('RandomForestClassifier')"
   ]
  },
  {
   "cell_type": "markdown",
   "metadata": {},
   "source": [
    "**Catboost**"
   ]
  },
  {
   "cell_type": "code",
   "execution_count": 34,
   "metadata": {},
   "outputs": [
    {
     "name": "stdout",
     "output_type": "stream",
     "text": [
      "Accuracy\n",
      "Тестовая выборка: 0.8180404354587869\n",
      "F1-мера\n",
      "Тестовая выборка: 0.8051563068912276\n"
     ]
    }
   ],
   "source": [
    "test_predictions = model_cat.predict(test_features)\n",
    "\n",
    "test_acc = accuracy_score(test_target, test_predictions)\n",
    "test_f1 = f1_score(test_target, test_predictions, average='weighted')\n",
    "\n",
    "print(\"Accuracy\")\n",
    "print(\"Тестовая выборка:\", test_acc)\n",
    "print(\"F1-мера\")\n",
    "print(\"Тестовая выборка:\", test_f1)\n",
    "\n",
    "\n",
    "table_of_acc.append(round(test_acc, 2))\n",
    "table_of_prec.append(round(test_f1, 2))\n",
    "table_of_model.append('CatBoostClassifier')"
   ]
  },
  {
   "cell_type": "markdown",
   "metadata": {},
   "source": [
    "**Вывод**"
   ]
  },
  {
   "cell_type": "code",
   "execution_count": 35,
   "metadata": {},
   "outputs": [
    {
     "data": {
      "text/html": [
       "<div>\n",
       "<style scoped>\n",
       "    .dataframe tbody tr th:only-of-type {\n",
       "        vertical-align: middle;\n",
       "    }\n",
       "\n",
       "    .dataframe tbody tr th {\n",
       "        vertical-align: top;\n",
       "    }\n",
       "\n",
       "    .dataframe thead th {\n",
       "        text-align: right;\n",
       "    }\n",
       "</style>\n",
       "<table border=\"1\" class=\"dataframe\">\n",
       "  <thead>\n",
       "    <tr style=\"text-align: right;\">\n",
       "      <th></th>\n",
       "      <th>Model</th>\n",
       "      <th>Accuracy</th>\n",
       "      <th>F1 score</th>\n",
       "    </tr>\n",
       "  </thead>\n",
       "  <tbody>\n",
       "    <tr>\n",
       "      <th>0</th>\n",
       "      <td>RandomForestClassifier</td>\n",
       "      <td>0.82</td>\n",
       "      <td>0.81</td>\n",
       "    </tr>\n",
       "    <tr>\n",
       "      <th>1</th>\n",
       "      <td>CatBoostClassifier</td>\n",
       "      <td>0.82</td>\n",
       "      <td>0.81</td>\n",
       "    </tr>\n",
       "    <tr>\n",
       "      <th>2</th>\n",
       "      <td>DecisionTreeClassifier</td>\n",
       "      <td>0.79</td>\n",
       "      <td>0.77</td>\n",
       "    </tr>\n",
       "    <tr>\n",
       "      <th>3</th>\n",
       "      <td>LogisticRegression</td>\n",
       "      <td>0.73</td>\n",
       "      <td>0.67</td>\n",
       "    </tr>\n",
       "  </tbody>\n",
       "</table>\n",
       "</div>"
      ],
      "text/plain": [
       "                    Model  Accuracy  F1 score\n",
       "0  RandomForestClassifier      0.82      0.81\n",
       "1      CatBoostClassifier      0.82      0.81\n",
       "2  DecisionTreeClassifier      0.79      0.77\n",
       "3      LogisticRegression      0.73      0.67"
      ]
     },
     "execution_count": 35,
     "metadata": {},
     "output_type": "execute_result"
    }
   ],
   "source": [
    "table_of_models = (pd.DataFrame({'Model':table_of_model, 'Accuracy':table_of_acc, \n",
    "                                'F1 score':table_of_prec}).sort_values(by='Accuracy', ascending=False).\n",
    "                  reset_index(drop=True))\n",
    "table_of_models"
   ]
  },
  {
   "cell_type": "markdown",
   "metadata": {},
   "source": [
    "Лучшая модель для целей классификации на основе данных по тарифам является модель на основе Случайного леса , далее идет модельна библиотеке Catboost, далее - Дерево принятия решений. Логистическая регрессия показала недостаточно хорошие результаты по F1 мере."
   ]
  },
  {
   "cell_type": "markdown",
   "metadata": {},
   "source": [
    "## Проверка на адекватность"
   ]
  },
  {
   "cell_type": "markdown",
   "metadata": {},
   "source": [
    "Переберем через цикл различные значения стратегий для данного алгоритма и сравним результаты с нашими моделями:"
   ]
  },
  {
   "cell_type": "code",
   "execution_count": 36,
   "metadata": {},
   "outputs": [
    {
     "data": {
      "text/html": [
       "<div>\n",
       "<style scoped>\n",
       "    .dataframe tbody tr th:only-of-type {\n",
       "        vertical-align: middle;\n",
       "    }\n",
       "\n",
       "    .dataframe tbody tr th {\n",
       "        vertical-align: top;\n",
       "    }\n",
       "\n",
       "    .dataframe thead th {\n",
       "        text-align: right;\n",
       "    }\n",
       "</style>\n",
       "<table border=\"1\" class=\"dataframe\">\n",
       "  <thead>\n",
       "    <tr style=\"text-align: right;\">\n",
       "      <th></th>\n",
       "      <th>most_frequent</th>\n",
       "      <th>stratified</th>\n",
       "      <th>uniform</th>\n",
       "    </tr>\n",
       "  </thead>\n",
       "  <tbody>\n",
       "    <tr>\n",
       "      <th>0</th>\n",
       "      <td>0.688958</td>\n",
       "      <td>0.000000</td>\n",
       "      <td>0.000000</td>\n",
       "    </tr>\n",
       "    <tr>\n",
       "      <th>1</th>\n",
       "      <td>0.000000</td>\n",
       "      <td>0.564541</td>\n",
       "      <td>0.000000</td>\n",
       "    </tr>\n",
       "    <tr>\n",
       "      <th>2</th>\n",
       "      <td>0.000000</td>\n",
       "      <td>0.000000</td>\n",
       "      <td>0.485226</td>\n",
       "    </tr>\n",
       "  </tbody>\n",
       "</table>\n",
       "</div>"
      ],
      "text/plain": [
       "   most_frequent  stratified   uniform\n",
       "0       0.688958    0.000000  0.000000\n",
       "1       0.000000    0.564541  0.000000\n",
       "2       0.000000    0.000000  0.485226"
      ]
     },
     "execution_count": 36,
     "metadata": {},
     "output_type": "execute_result"
    }
   ],
   "source": [
    "strategies = ['most_frequent', 'stratified', 'uniform']\n",
    "dummies_result = []\n",
    "for strat in strategies:\n",
    "    dc = DummyClassifier(strategy=strat, random_state=1589)\n",
    "    dc.fit(df_features, df_target)\n",
    "    res = dc.score(test_features, test_target)\n",
    "    dummies_result.append({strat:res})\n",
    "\n",
    "pd.DataFrame(dummies_result).fillna(0)"
   ]
  },
  {
   "cell_type": "markdown",
   "metadata": {},
   "source": [
    "Самый лучший вариант, что мы получили алгоритмом - 0.69, в то время как наши модели показывают правильность больше 0.75."
   ]
  },
  {
   "cell_type": "markdown",
   "metadata": {},
   "source": [
    "**Вывод** C помощью DummyClassifier проверили модель на адекватность. Результат: отобранные модели прошли проверку на адекватность."
   ]
  },
  {
   "cell_type": "markdown",
   "metadata": {},
   "source": [
    "## Вывод"
   ]
  },
  {
   "cell_type": "markdown",
   "metadata": {},
   "source": [
    "Для классификации пользователей по тарифам и предложения им перехода на тот или иной тариф - лучше всего прменять модели на основе Catboost и Случайный лес.\n",
    "\n",
    "Также подходит для данной задачи Сл Дерево принятия решений. Логистическая регрессия показала себя недостаточно хорошо,\n"
   ]
  },
  {
   "cell_type": "code",
   "execution_count": 51,
   "metadata": {},
   "outputs": [
    {
     "data": {
      "text/html": [
       "<div>\n",
       "<style scoped>\n",
       "    .dataframe tbody tr th:only-of-type {\n",
       "        vertical-align: middle;\n",
       "    }\n",
       "\n",
       "    .dataframe tbody tr th {\n",
       "        vertical-align: top;\n",
       "    }\n",
       "\n",
       "    .dataframe thead th {\n",
       "        text-align: right;\n",
       "    }\n",
       "</style>\n",
       "<table border=\"1\" class=\"dataframe\">\n",
       "  <thead>\n",
       "    <tr style=\"text-align: right;\">\n",
       "      <th></th>\n",
       "      <th>Model</th>\n",
       "      <th>Accuracy</th>\n",
       "      <th>F1 score</th>\n",
       "    </tr>\n",
       "  </thead>\n",
       "  <tbody>\n",
       "    <tr>\n",
       "      <th>0</th>\n",
       "      <td>RandomForestClassifier</td>\n",
       "      <td>0.82</td>\n",
       "      <td>0.81</td>\n",
       "    </tr>\n",
       "    <tr>\n",
       "      <th>1</th>\n",
       "      <td>CatBoostClassifier</td>\n",
       "      <td>0.82</td>\n",
       "      <td>0.81</td>\n",
       "    </tr>\n",
       "    <tr>\n",
       "      <th>2</th>\n",
       "      <td>DecisionTreeClassifier</td>\n",
       "      <td>0.79</td>\n",
       "      <td>0.77</td>\n",
       "    </tr>\n",
       "    <tr>\n",
       "      <th>3</th>\n",
       "      <td>LogisticRegression</td>\n",
       "      <td>0.73</td>\n",
       "      <td>0.67</td>\n",
       "    </tr>\n",
       "  </tbody>\n",
       "</table>\n",
       "</div>"
      ],
      "text/plain": [
       "                    Model  Accuracy  F1 score\n",
       "0  RandomForestClassifier      0.82      0.81\n",
       "1      CatBoostClassifier      0.82      0.81\n",
       "2  DecisionTreeClassifier      0.79      0.77\n",
       "3      LogisticRegression      0.73      0.67"
      ]
     },
     "execution_count": 51,
     "metadata": {},
     "output_type": "execute_result"
    }
   ],
   "source": [
    "table_of_models"
   ]
  }
 ],
 "metadata": {
  "ExecuteTimeLog": [
   {
    "duration": 1675,
    "start_time": "2022-12-26T21:33:18.412Z"
   },
   {
    "duration": 157,
    "start_time": "2022-12-26T21:33:39.438Z"
   },
   {
    "duration": 169,
    "start_time": "2022-12-26T21:34:08.114Z"
   },
   {
    "duration": 13,
    "start_time": "2022-12-26T21:34:35.495Z"
   },
   {
    "duration": 29,
    "start_time": "2022-12-26T21:35:10.977Z"
   },
   {
    "duration": 11,
    "start_time": "2022-12-26T21:35:46.916Z"
   },
   {
    "duration": 6,
    "start_time": "2022-12-26T21:35:52.203Z"
   },
   {
    "duration": 5,
    "start_time": "2022-12-26T21:36:55.324Z"
   },
   {
    "duration": 5,
    "start_time": "2022-12-26T21:37:59.333Z"
   },
   {
    "duration": 5,
    "start_time": "2022-12-26T21:38:52.411Z"
   },
   {
    "duration": 11,
    "start_time": "2022-12-26T21:40:57.574Z"
   },
   {
    "duration": 477,
    "start_time": "2022-12-26T21:41:49.952Z"
   },
   {
    "duration": 439,
    "start_time": "2022-12-26T21:42:05.596Z"
   },
   {
    "duration": 7,
    "start_time": "2022-12-26T21:46:51.258Z"
   },
   {
    "duration": 23,
    "start_time": "2022-12-26T21:48:04.937Z"
   },
   {
    "duration": 27,
    "start_time": "2022-12-26T21:48:36.970Z"
   },
   {
    "duration": 4,
    "start_time": "2022-12-26T21:49:02.398Z"
   },
   {
    "duration": 6,
    "start_time": "2022-12-26T21:49:09.857Z"
   },
   {
    "duration": 27,
    "start_time": "2022-12-26T21:49:50.795Z"
   },
   {
    "duration": 22,
    "start_time": "2022-12-26T21:50:02.796Z"
   },
   {
    "duration": 6,
    "start_time": "2022-12-26T21:51:00.772Z"
   },
   {
    "duration": 24,
    "start_time": "2022-12-26T21:51:01.537Z"
   },
   {
    "duration": 19,
    "start_time": "2022-12-26T21:51:55.806Z"
   },
   {
    "duration": 23,
    "start_time": "2022-12-26T21:51:58.932Z"
   },
   {
    "duration": 23,
    "start_time": "2022-12-26T21:52:02.914Z"
   },
   {
    "duration": 19,
    "start_time": "2022-12-26T21:52:07.459Z"
   },
   {
    "duration": 22,
    "start_time": "2022-12-26T21:52:10.158Z"
   },
   {
    "duration": 23,
    "start_time": "2022-12-26T21:52:13.846Z"
   },
   {
    "duration": 20,
    "start_time": "2022-12-26T21:52:39.371Z"
   },
   {
    "duration": 10,
    "start_time": "2022-12-26T21:55:55.132Z"
   },
   {
    "duration": 1449,
    "start_time": "2022-12-26T21:56:01.624Z"
   },
   {
    "duration": 40,
    "start_time": "2022-12-26T21:56:03.077Z"
   },
   {
    "duration": 15,
    "start_time": "2022-12-26T21:56:03.919Z"
   },
   {
    "duration": 38,
    "start_time": "2022-12-26T21:56:04.291Z"
   },
   {
    "duration": 6,
    "start_time": "2022-12-26T21:56:04.595Z"
   },
   {
    "duration": 11,
    "start_time": "2022-12-26T21:56:04.827Z"
   },
   {
    "duration": 482,
    "start_time": "2022-12-26T21:56:05.090Z"
   },
   {
    "duration": 8,
    "start_time": "2022-12-26T21:56:05.576Z"
   },
   {
    "duration": 6,
    "start_time": "2022-12-26T21:56:06.147Z"
   },
   {
    "duration": 4,
    "start_time": "2022-12-26T21:56:06.738Z"
   },
   {
    "duration": 8,
    "start_time": "2022-12-26T21:56:08.751Z"
   },
   {
    "duration": 23,
    "start_time": "2022-12-26T21:56:12.940Z"
   },
   {
    "duration": 16,
    "start_time": "2022-12-26T21:56:15.454Z"
   },
   {
    "duration": 18,
    "start_time": "2022-12-26T21:56:20.970Z"
   },
   {
    "duration": 12,
    "start_time": "2022-12-26T21:56:29.343Z"
   },
   {
    "duration": 18,
    "start_time": "2022-12-26T21:56:36.341Z"
   },
   {
    "duration": 24,
    "start_time": "2022-12-26T21:56:43.233Z"
   },
   {
    "duration": 24,
    "start_time": "2022-12-26T21:56:48.836Z"
   },
   {
    "duration": 52,
    "start_time": "2022-12-26T21:57:16.636Z"
   },
   {
    "duration": 88,
    "start_time": "2022-12-27T10:22:11.337Z"
   },
   {
    "duration": 3440,
    "start_time": "2022-12-27T10:22:15.741Z"
   },
   {
    "duration": 13,
    "start_time": "2022-12-27T10:23:35.995Z"
   },
   {
    "duration": 21,
    "start_time": "2022-12-27T10:23:52.198Z"
   },
   {
    "duration": 41,
    "start_time": "2022-12-27T10:24:14.033Z"
   },
   {
    "duration": 12,
    "start_time": "2022-12-27T10:30:19.877Z"
   },
   {
    "duration": 15,
    "start_time": "2022-12-27T11:45:34.712Z"
   },
   {
    "duration": 1063,
    "start_time": "2022-12-27T11:45:56.302Z"
   },
   {
    "duration": 26,
    "start_time": "2022-12-27T11:46:30.088Z"
   },
   {
    "duration": 1070,
    "start_time": "2022-12-27T11:46:37.070Z"
   },
   {
    "duration": 588,
    "start_time": "2022-12-27T11:46:57.313Z"
   },
   {
    "duration": 54,
    "start_time": "2022-12-27T11:47:37.243Z"
   },
   {
    "duration": 128,
    "start_time": "2022-12-27T11:53:36.301Z"
   },
   {
    "duration": 217,
    "start_time": "2022-12-27T11:54:13.852Z"
   },
   {
    "duration": 301,
    "start_time": "2022-12-27T11:54:25.605Z"
   },
   {
    "duration": 62,
    "start_time": "2022-12-27T12:45:15.902Z"
   },
   {
    "duration": 269,
    "start_time": "2022-12-27T12:45:27.686Z"
   },
   {
    "duration": 631,
    "start_time": "2022-12-27T12:45:44.082Z"
   },
   {
    "duration": 13,
    "start_time": "2022-12-27T12:47:08.576Z"
   },
   {
    "duration": 11,
    "start_time": "2022-12-27T12:47:17.347Z"
   },
   {
    "duration": 17,
    "start_time": "2022-12-27T12:55:09.111Z"
   },
   {
    "duration": 79,
    "start_time": "2022-12-27T12:55:15.244Z"
   },
   {
    "duration": 727,
    "start_time": "2022-12-27T12:55:50.929Z"
   },
   {
    "duration": 646,
    "start_time": "2022-12-27T12:56:08.507Z"
   },
   {
    "duration": 73,
    "start_time": "2022-12-27T12:56:30.875Z"
   },
   {
    "duration": 61,
    "start_time": "2022-12-27T12:56:43.817Z"
   },
   {
    "duration": 16,
    "start_time": "2022-12-27T12:57:39.192Z"
   },
   {
    "duration": 320,
    "start_time": "2022-12-27T12:57:52.095Z"
   },
   {
    "duration": 13,
    "start_time": "2022-12-27T12:58:07.082Z"
   },
   {
    "duration": 395,
    "start_time": "2022-12-27T12:58:30.302Z"
   },
   {
    "duration": 20323,
    "start_time": "2022-12-27T13:00:35.259Z"
   },
   {
    "duration": 2193,
    "start_time": "2022-12-27T13:01:28.105Z"
   },
   {
    "duration": 3910,
    "start_time": "2022-12-27T13:01:36.588Z"
   },
   {
    "duration": 10394,
    "start_time": "2022-12-27T13:02:07.751Z"
   },
   {
    "duration": 246,
    "start_time": "2022-12-27T13:05:15.750Z"
   },
   {
    "duration": 25,
    "start_time": "2022-12-27T13:08:39.407Z"
   },
   {
    "duration": 921,
    "start_time": "2022-12-27T13:09:00.640Z"
   },
   {
    "duration": 944,
    "start_time": "2022-12-27T13:09:46.480Z"
   },
   {
    "duration": 1668,
    "start_time": "2022-12-27T13:09:57.278Z"
   },
   {
    "duration": 164,
    "start_time": "2022-12-27T13:10:19.465Z"
   },
   {
    "duration": 5,
    "start_time": "2022-12-27T13:26:16.275Z"
   },
   {
    "duration": 171,
    "start_time": "2022-12-27T13:53:44.644Z"
   },
   {
    "duration": 6,
    "start_time": "2022-12-27T14:38:10.245Z"
   },
   {
    "duration": 5,
    "start_time": "2022-12-27T14:40:27.984Z"
   },
   {
    "duration": 163,
    "start_time": "2022-12-27T14:40:35.637Z"
   },
   {
    "duration": 6,
    "start_time": "2022-12-27T14:40:37.318Z"
   },
   {
    "duration": 3,
    "start_time": "2022-12-27T15:11:50.464Z"
   },
   {
    "duration": 185,
    "start_time": "2022-12-27T15:12:31.541Z"
   },
   {
    "duration": 6379,
    "start_time": "2022-12-27T15:12:45.115Z"
   },
   {
    "duration": 13,
    "start_time": "2022-12-27T15:16:02.608Z"
   },
   {
    "duration": 201,
    "start_time": "2022-12-27T15:16:13.756Z"
   },
   {
    "duration": 14,
    "start_time": "2022-12-27T15:41:51.901Z"
   },
   {
    "duration": 499,
    "start_time": "2022-12-27T15:42:23.188Z"
   },
   {
    "duration": 213,
    "start_time": "2022-12-27T15:43:48.173Z"
   },
   {
    "duration": 1065,
    "start_time": "2022-12-27T15:48:07.958Z"
   },
   {
    "duration": 1501,
    "start_time": "2022-12-27T16:01:33.000Z"
   },
   {
    "duration": 43,
    "start_time": "2022-12-27T16:01:34.503Z"
   },
   {
    "duration": 13,
    "start_time": "2022-12-27T16:01:34.548Z"
   },
   {
    "duration": 46,
    "start_time": "2022-12-27T16:01:34.563Z"
   },
   {
    "duration": 7,
    "start_time": "2022-12-27T16:01:34.611Z"
   },
   {
    "duration": 34,
    "start_time": "2022-12-27T16:01:34.619Z"
   },
   {
    "duration": 434,
    "start_time": "2022-12-27T16:01:34.654Z"
   },
   {
    "duration": 6,
    "start_time": "2022-12-27T16:01:35.090Z"
   },
   {
    "duration": 22,
    "start_time": "2022-12-27T16:01:35.098Z"
   },
   {
    "duration": 26,
    "start_time": "2022-12-27T16:01:35.123Z"
   },
   {
    "duration": 35,
    "start_time": "2022-12-27T16:01:35.151Z"
   },
   {
    "duration": 40,
    "start_time": "2022-12-27T16:01:35.188Z"
   },
   {
    "duration": 679,
    "start_time": "2022-12-27T16:01:35.230Z"
   },
   {
    "duration": 79,
    "start_time": "2022-12-27T16:01:35.911Z"
   },
   {
    "duration": 357,
    "start_time": "2022-12-27T16:01:35.992Z"
   },
   {
    "duration": 28,
    "start_time": "2022-12-27T16:01:36.351Z"
   },
   {
    "duration": 437,
    "start_time": "2022-12-27T16:01:36.381Z"
   },
   {
    "duration": 20518,
    "start_time": "2022-12-27T16:01:36.820Z"
   },
   {
    "duration": 3944,
    "start_time": "2022-12-27T16:01:57.339Z"
   },
   {
    "duration": 10335,
    "start_time": "2022-12-27T16:02:01.285Z"
   },
   {
    "duration": 240,
    "start_time": "2022-12-27T16:02:11.622Z"
   },
   {
    "duration": 29,
    "start_time": "2022-12-27T16:02:11.864Z"
   },
   {
    "duration": 200,
    "start_time": "2022-12-27T16:02:11.895Z"
   },
   {
    "duration": 4,
    "start_time": "2022-12-27T16:02:12.097Z"
   },
   {
    "duration": 174,
    "start_time": "2022-12-27T16:02:12.102Z"
   },
   {
    "duration": 5,
    "start_time": "2022-12-27T16:02:12.278Z"
   },
   {
    "duration": 2005,
    "start_time": "2022-12-27T18:08:06.461Z"
   },
   {
    "duration": 129,
    "start_time": "2022-12-27T18:08:08.468Z"
   },
   {
    "duration": 14,
    "start_time": "2022-12-27T18:08:08.598Z"
   },
   {
    "duration": 40,
    "start_time": "2022-12-27T18:08:08.615Z"
   },
   {
    "duration": 4,
    "start_time": "2022-12-27T18:08:08.657Z"
   },
   {
    "duration": 15,
    "start_time": "2022-12-27T18:08:08.662Z"
   },
   {
    "duration": 457,
    "start_time": "2022-12-27T18:08:08.679Z"
   },
   {
    "duration": 5,
    "start_time": "2022-12-27T18:08:09.138Z"
   },
   {
    "duration": 19,
    "start_time": "2022-12-27T18:08:09.145Z"
   },
   {
    "duration": 12,
    "start_time": "2022-12-27T18:08:09.167Z"
   },
   {
    "duration": 3052,
    "start_time": "2022-12-27T18:08:09.181Z"
   },
   {
    "duration": 5,
    "start_time": "2022-12-27T18:08:12.235Z"
   },
   {
    "duration": 29,
    "start_time": "2022-12-27T18:08:12.241Z"
   },
   {
    "duration": 602,
    "start_time": "2022-12-27T18:08:12.271Z"
   },
   {
    "duration": 71,
    "start_time": "2022-12-27T18:08:12.874Z"
   },
   {
    "duration": 332,
    "start_time": "2022-12-27T18:08:12.947Z"
   },
   {
    "duration": 20,
    "start_time": "2022-12-27T18:08:13.281Z"
   },
   {
    "duration": 441,
    "start_time": "2022-12-27T18:08:13.302Z"
   },
   {
    "duration": 19866,
    "start_time": "2022-12-27T18:08:13.745Z"
   },
   {
    "duration": 3867,
    "start_time": "2022-12-27T18:08:33.612Z"
   },
   {
    "duration": 9762,
    "start_time": "2022-12-27T18:08:37.480Z"
   },
   {
    "duration": 225,
    "start_time": "2022-12-27T18:08:47.243Z"
   },
   {
    "duration": 27,
    "start_time": "2022-12-27T18:08:47.470Z"
   },
   {
    "duration": 169,
    "start_time": "2022-12-27T18:08:47.499Z"
   },
   {
    "duration": 4,
    "start_time": "2022-12-27T18:08:47.669Z"
   },
   {
    "duration": 157,
    "start_time": "2022-12-27T18:08:47.674Z"
   },
   {
    "duration": 6,
    "start_time": "2022-12-27T18:08:47.832Z"
   },
   {
    "duration": 47,
    "start_time": "2022-12-28T05:38:12.853Z"
   },
   {
    "duration": 1628,
    "start_time": "2022-12-28T05:38:21.635Z"
   },
   {
    "duration": 72,
    "start_time": "2022-12-28T05:38:23.265Z"
   },
   {
    "duration": 13,
    "start_time": "2022-12-28T05:38:23.338Z"
   },
   {
    "duration": 28,
    "start_time": "2022-12-28T05:38:23.353Z"
   },
   {
    "duration": 5,
    "start_time": "2022-12-28T05:38:23.383Z"
   },
   {
    "duration": 14,
    "start_time": "2022-12-28T05:38:23.390Z"
   },
   {
    "duration": 492,
    "start_time": "2022-12-28T05:38:23.406Z"
   },
   {
    "duration": 6,
    "start_time": "2022-12-28T05:38:23.900Z"
   },
   {
    "duration": 11,
    "start_time": "2022-12-28T05:38:23.907Z"
   },
   {
    "duration": 11,
    "start_time": "2022-12-28T05:38:23.921Z"
   },
   {
    "duration": 7305,
    "start_time": "2022-12-28T05:38:23.934Z"
   },
   {
    "duration": 6,
    "start_time": "2022-12-28T05:38:31.241Z"
   },
   {
    "duration": 49,
    "start_time": "2022-12-28T05:38:31.249Z"
   },
   {
    "duration": 686,
    "start_time": "2022-12-28T05:38:31.299Z"
   },
   {
    "duration": 75,
    "start_time": "2022-12-28T05:38:31.987Z"
   },
   {
    "duration": 364,
    "start_time": "2022-12-28T05:38:32.064Z"
   },
   {
    "duration": 24,
    "start_time": "2022-12-28T05:38:32.430Z"
   },
   {
    "duration": 415,
    "start_time": "2022-12-28T05:38:32.456Z"
   },
   {
    "duration": 20535,
    "start_time": "2022-12-28T05:38:32.873Z"
   },
   {
    "duration": 3930,
    "start_time": "2022-12-28T05:38:53.409Z"
   },
   {
    "duration": 10942,
    "start_time": "2022-12-28T05:38:57.340Z"
   },
   {
    "duration": 264,
    "start_time": "2022-12-28T05:39:08.284Z"
   },
   {
    "duration": 28,
    "start_time": "2022-12-28T05:39:08.551Z"
   },
   {
    "duration": 218,
    "start_time": "2022-12-28T05:39:08.581Z"
   },
   {
    "duration": 5,
    "start_time": "2022-12-28T05:39:08.801Z"
   },
   {
    "duration": 250,
    "start_time": "2022-12-28T05:39:08.808Z"
   },
   {
    "duration": 6,
    "start_time": "2022-12-28T05:39:09.059Z"
   },
   {
    "duration": 6,
    "start_time": "2022-12-28T05:40:55.417Z"
   },
   {
    "duration": 239,
    "start_time": "2022-12-28T05:41:19.236Z"
   },
   {
    "duration": 239,
    "start_time": "2022-12-28T05:41:27.003Z"
   },
   {
    "duration": 6,
    "start_time": "2022-12-28T05:41:35.242Z"
   },
   {
    "duration": 226,
    "start_time": "2022-12-28T05:42:52.535Z"
   },
   {
    "duration": 6,
    "start_time": "2022-12-28T05:43:34.785Z"
   },
   {
    "duration": 6,
    "start_time": "2022-12-28T05:47:48.228Z"
   },
   {
    "duration": 2417,
    "start_time": "2023-02-05T19:52:13.252Z"
   },
   {
    "duration": 4,
    "start_time": "2023-02-05T21:34:38.436Z"
   },
   {
    "duration": 48,
    "start_time": "2023-02-05T21:34:40.211Z"
   },
   {
    "duration": 8,
    "start_time": "2023-02-05T21:34:59.086Z"
   },
   {
    "duration": 3161,
    "start_time": "2023-02-05T21:35:03.591Z"
   },
   {
    "duration": 12,
    "start_time": "2023-02-05T21:43:54.556Z"
   },
   {
    "duration": 1397,
    "start_time": "2023-02-05T21:47:08.938Z"
   },
   {
    "duration": 88,
    "start_time": "2023-02-05T21:47:10.339Z"
   },
   {
    "duration": 10,
    "start_time": "2023-02-05T21:47:10.674Z"
   },
   {
    "duration": 50,
    "start_time": "2023-02-05T21:47:26.561Z"
   },
   {
    "duration": 16,
    "start_time": "2023-02-05T21:47:39.267Z"
   },
   {
    "duration": 16,
    "start_time": "2023-02-05T21:50:09.188Z"
   },
   {
    "duration": 178,
    "start_time": "2023-02-05T21:50:20.712Z"
   },
   {
    "duration": 11,
    "start_time": "2023-02-05T21:50:30.422Z"
   },
   {
    "duration": 11,
    "start_time": "2023-02-05T21:50:35.845Z"
   },
   {
    "duration": 11,
    "start_time": "2023-02-05T21:50:41.824Z"
   },
   {
    "duration": 12,
    "start_time": "2023-02-05T21:50:42.803Z"
   },
   {
    "duration": 8,
    "start_time": "2023-02-05T21:50:43.297Z"
   },
   {
    "duration": 31,
    "start_time": "2023-02-05T21:50:43.812Z"
   },
   {
    "duration": 5,
    "start_time": "2023-02-05T21:50:44.315Z"
   },
   {
    "duration": 11,
    "start_time": "2023-02-05T21:50:44.809Z"
   },
   {
    "duration": 449,
    "start_time": "2023-02-05T21:50:45.407Z"
   },
   {
    "duration": 1148,
    "start_time": "2023-02-05T21:50:46.612Z"
   },
   {
    "duration": 8,
    "start_time": "2023-02-05T21:50:49.570Z"
   },
   {
    "duration": 12,
    "start_time": "2023-02-05T21:50:50.561Z"
   },
   {
    "duration": 4,
    "start_time": "2023-02-05T21:51:02.341Z"
   },
   {
    "duration": 4,
    "start_time": "2023-02-05T21:51:04.760Z"
   },
   {
    "duration": 6,
    "start_time": "2023-02-05T21:51:05.301Z"
   },
   {
    "duration": 6,
    "start_time": "2023-02-05T22:02:48.314Z"
   },
   {
    "duration": 19,
    "start_time": "2023-02-05T22:02:49.537Z"
   },
   {
    "duration": 3616,
    "start_time": "2023-02-05T22:03:11.169Z"
   },
   {
    "duration": 4,
    "start_time": "2023-02-05T22:03:29.360Z"
   },
   {
    "duration": 15,
    "start_time": "2023-02-05T22:05:29.568Z"
   },
   {
    "duration": 13,
    "start_time": "2023-02-05T22:07:12.530Z"
   },
   {
    "duration": 844,
    "start_time": "2023-02-05T22:07:54.085Z"
   },
   {
    "duration": 4,
    "start_time": "2023-02-05T22:08:05.716Z"
   },
   {
    "duration": 15,
    "start_time": "2023-02-05T22:09:31.156Z"
   },
   {
    "duration": 57,
    "start_time": "2023-02-05T22:10:20.273Z"
   },
   {
    "duration": 19555,
    "start_time": "2023-02-05T22:10:28.185Z"
   },
   {
    "duration": 4,
    "start_time": "2023-02-05T22:10:54.331Z"
   },
   {
    "duration": 95,
    "start_time": "2023-02-05T22:11:08.332Z"
   },
   {
    "duration": 139,
    "start_time": "2023-02-05T22:11:23.992Z"
   },
   {
    "duration": 57,
    "start_time": "2023-02-05T22:12:01.748Z"
   },
   {
    "duration": 19147,
    "start_time": "2023-02-05T22:12:02.617Z"
   },
   {
    "duration": 5,
    "start_time": "2023-02-05T22:12:37.883Z"
   },
   {
    "duration": 148,
    "start_time": "2023-02-05T22:12:47.733Z"
   },
   {
    "duration": 2306,
    "start_time": "2023-02-05T22:14:29.784Z"
   },
   {
    "duration": 14,
    "start_time": "2023-02-05T22:17:58.607Z"
   },
   {
    "duration": 4,
    "start_time": "2023-02-05T22:18:02.028Z"
   },
   {
    "duration": 9,
    "start_time": "2023-02-05T22:18:02.531Z"
   },
   {
    "duration": 10,
    "start_time": "2023-02-05T22:19:04.065Z"
   },
   {
    "duration": 17,
    "start_time": "2023-02-05T22:19:51.765Z"
   },
   {
    "duration": 9,
    "start_time": "2023-02-05T22:20:19.894Z"
   },
   {
    "duration": 11,
    "start_time": "2023-02-05T22:21:21.830Z"
   },
   {
    "duration": 15,
    "start_time": "2023-02-05T22:22:44.881Z"
   },
   {
    "duration": 2451,
    "start_time": "2023-02-05T22:26:06.421Z"
   },
   {
    "duration": 1388,
    "start_time": "2023-02-05T22:26:08.875Z"
   },
   {
    "duration": 68,
    "start_time": "2023-02-05T22:26:10.264Z"
   },
   {
    "duration": 21,
    "start_time": "2023-02-05T22:26:10.333Z"
   },
   {
    "duration": 15,
    "start_time": "2023-02-05T22:26:10.356Z"
   },
   {
    "duration": 7,
    "start_time": "2023-02-05T22:26:10.373Z"
   },
   {
    "duration": 25,
    "start_time": "2023-02-05T22:26:10.382Z"
   },
   {
    "duration": 41,
    "start_time": "2023-02-05T22:26:10.408Z"
   },
   {
    "duration": 17,
    "start_time": "2023-02-05T22:26:10.452Z"
   },
   {
    "duration": 449,
    "start_time": "2023-02-05T22:26:10.471Z"
   },
   {
    "duration": 1245,
    "start_time": "2023-02-05T22:26:10.922Z"
   },
   {
    "duration": 7,
    "start_time": "2023-02-05T22:26:12.169Z"
   },
   {
    "duration": 29,
    "start_time": "2023-02-05T22:26:12.177Z"
   },
   {
    "duration": 6,
    "start_time": "2023-02-05T22:26:12.209Z"
   },
   {
    "duration": 13,
    "start_time": "2023-02-05T22:26:12.217Z"
   },
   {
    "duration": 28,
    "start_time": "2023-02-05T22:26:12.232Z"
   },
   {
    "duration": 21,
    "start_time": "2023-02-05T22:26:12.261Z"
   },
   {
    "duration": 3663,
    "start_time": "2023-02-05T22:26:12.284Z"
   },
   {
    "duration": 7,
    "start_time": "2023-02-05T22:26:15.950Z"
   },
   {
    "duration": 22,
    "start_time": "2023-02-05T22:26:15.959Z"
   },
   {
    "duration": 13,
    "start_time": "2023-02-05T22:26:15.982Z"
   },
   {
    "duration": 941,
    "start_time": "2023-02-05T22:26:15.996Z"
   },
   {
    "duration": 7,
    "start_time": "2023-02-05T22:26:16.941Z"
   },
   {
    "duration": 34,
    "start_time": "2023-02-05T22:26:16.951Z"
   },
   {
    "duration": 85,
    "start_time": "2023-02-05T22:26:16.987Z"
   },
   {
    "duration": 20251,
    "start_time": "2023-02-05T22:26:17.074Z"
   },
   {
    "duration": 4,
    "start_time": "2023-02-05T22:26:37.327Z"
   },
   {
    "duration": 177,
    "start_time": "2023-02-05T22:26:37.340Z"
   },
   {
    "duration": 2577,
    "start_time": "2023-02-05T22:26:37.519Z"
   },
   {
    "duration": 5,
    "start_time": "2023-02-05T22:26:40.097Z"
   },
   {
    "duration": 12,
    "start_time": "2023-02-05T22:26:40.103Z"
   },
   {
    "duration": 10,
    "start_time": "2023-02-05T22:26:40.117Z"
   },
   {
    "duration": 25,
    "start_time": "2023-02-05T22:26:40.129Z"
   },
   {
    "duration": 12,
    "start_time": "2023-02-05T22:26:40.157Z"
   },
   {
    "duration": 10,
    "start_time": "2023-02-05T22:26:40.172Z"
   },
   {
    "duration": 18,
    "start_time": "2023-02-05T22:26:40.185Z"
   },
   {
    "duration": 15,
    "start_time": "2023-02-05T22:26:43.423Z"
   },
   {
    "duration": 12,
    "start_time": "2023-02-05T22:26:55.025Z"
   },
   {
    "duration": 16,
    "start_time": "2023-02-05T22:26:58.997Z"
   },
   {
    "duration": 56,
    "start_time": "2023-02-05T22:27:01.376Z"
   },
   {
    "duration": 19803,
    "start_time": "2023-02-05T22:27:04.748Z"
   },
   {
    "duration": 4,
    "start_time": "2023-02-05T22:27:24.553Z"
   },
   {
    "duration": 146,
    "start_time": "2023-02-05T22:27:44.575Z"
   },
   {
    "duration": 2135,
    "start_time": "2023-02-05T22:27:54.362Z"
   },
   {
    "duration": 2289,
    "start_time": "2023-02-05T22:28:09.311Z"
   },
   {
    "duration": 1389,
    "start_time": "2023-02-05T22:28:11.604Z"
   },
   {
    "duration": 63,
    "start_time": "2023-02-05T22:28:12.995Z"
   },
   {
    "duration": 19,
    "start_time": "2023-02-05T22:28:13.060Z"
   },
   {
    "duration": 12,
    "start_time": "2023-02-05T22:28:13.082Z"
   },
   {
    "duration": 11,
    "start_time": "2023-02-05T22:28:13.095Z"
   },
   {
    "duration": 51,
    "start_time": "2023-02-05T22:28:13.108Z"
   },
   {
    "duration": 5,
    "start_time": "2023-02-05T22:28:13.160Z"
   },
   {
    "duration": 16,
    "start_time": "2023-02-05T22:28:13.167Z"
   },
   {
    "duration": 486,
    "start_time": "2023-02-05T22:28:13.185Z"
   },
   {
    "duration": 1217,
    "start_time": "2023-02-05T22:28:13.673Z"
   },
   {
    "duration": 7,
    "start_time": "2023-02-05T22:28:14.892Z"
   },
   {
    "duration": 7,
    "start_time": "2023-02-05T22:28:14.901Z"
   },
   {
    "duration": 8,
    "start_time": "2023-02-05T22:28:14.911Z"
   },
   {
    "duration": 6,
    "start_time": "2023-02-05T22:28:14.940Z"
   },
   {
    "duration": 6,
    "start_time": "2023-02-05T22:28:14.948Z"
   },
   {
    "duration": 20,
    "start_time": "2023-02-05T22:28:14.956Z"
   },
   {
    "duration": 3654,
    "start_time": "2023-02-05T22:28:14.977Z"
   },
   {
    "duration": 4,
    "start_time": "2023-02-05T22:28:18.640Z"
   },
   {
    "duration": 19,
    "start_time": "2023-02-05T22:28:18.646Z"
   },
   {
    "duration": 13,
    "start_time": "2023-02-05T22:28:18.667Z"
   },
   {
    "duration": 964,
    "start_time": "2023-02-05T22:28:18.682Z"
   },
   {
    "duration": 4,
    "start_time": "2023-02-05T22:28:19.648Z"
   },
   {
    "duration": 25,
    "start_time": "2023-02-05T22:28:19.654Z"
   },
   {
    "duration": 79,
    "start_time": "2023-02-05T22:28:19.681Z"
   },
   {
    "duration": 19159,
    "start_time": "2023-02-05T22:28:19.762Z"
   },
   {
    "duration": 17,
    "start_time": "2023-02-05T22:28:38.923Z"
   },
   {
    "duration": 159,
    "start_time": "2023-02-05T22:28:38.941Z"
   },
   {
    "duration": 2297,
    "start_time": "2023-02-05T22:28:39.102Z"
   },
   {
    "duration": 4,
    "start_time": "2023-02-05T22:28:41.400Z"
   },
   {
    "duration": 13,
    "start_time": "2023-02-05T22:28:41.406Z"
   },
   {
    "duration": 10,
    "start_time": "2023-02-05T22:28:41.421Z"
   },
   {
    "duration": 17,
    "start_time": "2023-02-05T22:28:41.433Z"
   },
   {
    "duration": 8,
    "start_time": "2023-02-05T22:28:41.452Z"
   },
   {
    "duration": 15,
    "start_time": "2023-02-05T22:28:41.462Z"
   },
   {
    "duration": 19,
    "start_time": "2023-02-05T22:28:41.478Z"
   },
   {
    "duration": 74,
    "start_time": "2023-02-05T22:29:38.933Z"
   },
   {
    "duration": 3,
    "start_time": "2023-02-05T22:29:47.032Z"
   },
   {
    "duration": 7,
    "start_time": "2023-02-05T22:29:48.391Z"
   },
   {
    "duration": 5,
    "start_time": "2023-02-05T22:29:48.860Z"
   },
   {
    "duration": 3,
    "start_time": "2023-02-05T22:29:49.586Z"
   },
   {
    "duration": 6,
    "start_time": "2023-02-05T22:29:50.102Z"
   },
   {
    "duration": 5,
    "start_time": "2023-02-05T22:29:53.513Z"
   },
   {
    "duration": 18,
    "start_time": "2023-02-05T22:29:56.389Z"
   },
   {
    "duration": 3671,
    "start_time": "2023-02-05T22:29:57.887Z"
   },
   {
    "duration": 16,
    "start_time": "2023-02-05T22:30:06.858Z"
   },
   {
    "duration": 16,
    "start_time": "2023-02-05T22:30:09.976Z"
   },
   {
    "duration": 859,
    "start_time": "2023-02-05T22:30:11.983Z"
   },
   {
    "duration": 57,
    "start_time": "2023-02-05T22:30:28.744Z"
   },
   {
    "duration": 19240,
    "start_time": "2023-02-05T22:30:31.103Z"
   },
   {
    "duration": 10,
    "start_time": "2023-02-05T22:33:14.617Z"
   }
  ],
  "kernelspec": {
   "display_name": "Python 3 (ipykernel)",
   "language": "python",
   "name": "python3"
  },
  "language_info": {
   "codemirror_mode": {
    "name": "ipython",
    "version": 3
   },
   "file_extension": ".py",
   "mimetype": "text/x-python",
   "name": "python",
   "nbconvert_exporter": "python",
   "pygments_lexer": "ipython3",
   "version": "3.9.5"
  },
  "toc": {
   "base_numbering": 1,
   "nav_menu": {},
   "number_sections": true,
   "sideBar": true,
   "skip_h1_title": true,
   "title_cell": "Table of Contents",
   "title_sidebar": "Contents",
   "toc_cell": false,
   "toc_position": {},
   "toc_section_display": true,
   "toc_window_display": false
  }
 },
 "nbformat": 4,
 "nbformat_minor": 2
}
