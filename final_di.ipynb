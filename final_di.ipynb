{
 "cells": [
  {
   "cell_type": "markdown",
   "metadata": {},
   "source": [
    "# Телеком отток"
   ]
  },
  {
   "cell_type": "markdown",
   "metadata": {},
   "source": [
    "**Заказчик**: Оператор мобильный связи  \n",
    "**Задача**: модель предсказания оттока клиентов  \n",
    "**Данные**: персональные данные абонентов, информацию об их тарифах и договорах. 7000+ строк  \n",
    "**Актуальность**: 2013-2020  \n",
    "**Описание**: Оператор предоставляет два основных типа услуг:  \n",
    "1. Телефонная связь с возможностью подключение нескольких линий.\n",
    "2. Интернет. Два типа: DSL или Fiber optic\n",
    "Помимо этого доступен выбор доп.опций:\n",
    "- антивирус  \n",
    "- стриминговое ТВ\n",
    "- онлайн-кинотеатр  \n",
    "и т.п.  \n",
    "\n",
    "За услуги клиенты могут платить каждый месяц или заключить договор на 1-2 года. Доступны различные способы расчёта и возможность получения электронного чека.  \n",
    "\n",
    "**Цель работы:** На основе анализа клиентского портфеля выявить потнциальных отписчиков, настроить модель предсказания оттока клиентов. По результатам прогноза предлагать промокоды тем, кто склонен к оттоку.  \n",
    "\n",
    "**Метрика**: Метрика ROC-AUC не ниже 0.85"
   ]
  },
  {
   "cell_type": "markdown",
   "metadata": {},
   "source": [
    "# План проекта\n",
    "1. **Знакомство с данными**\n",
    "- изучение датасета\n",
    "- объединение датасета\n",
    "- визуализация датасета\n",
    "2. **Предобработка**\n",
    "- работа с пропусками\n",
    "- работа с некорректными значениями\n",
    "- фильтрация \n",
    "- выделение таргета\n",
    "- выделение доп.признаков\n",
    "- унификация бинарных признаков\n",
    "3. **EDA**\n",
    "- исследовательский анализ предобработанного датасета\n",
    "- мультиколлинеарность\n",
    "- выводы\n",
    "4. **Выбор модели**\n",
    "- анализ  моделей машинного обучения: случайный лес, градиентный бустинг\n",
    "- подготовка выводов\n",
    "5. **Тест модели**\n",
    "- запуск модели на тестовой выборке\n",
    "- оценка результатов и подготовка выводов\n",
    "6. **Общий вывод по проекту** "
   ]
  },
  {
   "cell_type": "markdown",
   "metadata": {},
   "source": [
    "### Знакомство с данными"
   ]
  },
  {
   "cell_type": "markdown",
   "metadata": {},
   "source": [
    "**Необходимые импорты**"
   ]
  },
  {
   "cell_type": "code",
   "execution_count": 1,
   "metadata": {},
   "outputs": [
    {
     "name": "stdout",
     "output_type": "stream",
     "text": [
      "Requirement already satisfied: phik in /opt/conda/lib/python3.9/site-packages (0.12.3)\n",
      "Requirement already satisfied: scipy>=1.5.2 in /opt/conda/lib/python3.9/site-packages (from phik) (1.9.1)\n",
      "Requirement already satisfied: pandas>=0.25.1 in /opt/conda/lib/python3.9/site-packages (from phik) (1.2.4)\n",
      "Requirement already satisfied: numpy>=1.18.0 in /opt/conda/lib/python3.9/site-packages (from phik) (1.21.1)\n",
      "Requirement already satisfied: matplotlib>=2.2.3 in /opt/conda/lib/python3.9/site-packages (from phik) (3.3.4)\n",
      "Requirement already satisfied: joblib>=0.14.1 in /opt/conda/lib/python3.9/site-packages (from phik) (1.1.0)\n",
      "Requirement already satisfied: pillow>=6.2.0 in /opt/conda/lib/python3.9/site-packages (from matplotlib>=2.2.3->phik) (8.4.0)\n",
      "Requirement already satisfied: python-dateutil>=2.1 in /opt/conda/lib/python3.9/site-packages (from matplotlib>=2.2.3->phik) (2.8.1)\n",
      "Requirement already satisfied: pyparsing!=2.0.4,!=2.1.2,!=2.1.6,>=2.0.3 in /opt/conda/lib/python3.9/site-packages (from matplotlib>=2.2.3->phik) (2.4.7)\n",
      "Requirement already satisfied: cycler>=0.10 in /opt/conda/lib/python3.9/site-packages (from matplotlib>=2.2.3->phik) (0.11.0)\n",
      "Requirement already satisfied: kiwisolver>=1.0.1 in /opt/conda/lib/python3.9/site-packages (from matplotlib>=2.2.3->phik) (1.4.4)\n",
      "Requirement already satisfied: pytz>=2017.3 in /opt/conda/lib/python3.9/site-packages (from pandas>=0.25.1->phik) (2021.1)\n",
      "Requirement already satisfied: six>=1.5 in /opt/conda/lib/python3.9/site-packages (from python-dateutil>=2.1->matplotlib>=2.2.3->phik) (1.16.0)\n"
     ]
    }
   ],
   "source": [
    "!pip install phik"
   ]
  },
  {
   "cell_type": "markdown",
   "metadata": {},
   "source": [
    "**Знакомство с датасетами**"
   ]
  },
  {
   "cell_type": "code",
   "execution_count": 2,
   "metadata": {},
   "outputs": [],
   "source": [
    "import numpy as np\n",
    "import pandas as pd\n",
    "import matplotlib.pyplot as plt\n",
    "import seaborn as sns\n",
    "import warnings\n",
    "import datetime\n",
    "import phik\n",
    "from sklearn.model_selection import train_test_split\n",
    "from sklearn.tree import DecisionTreeClassifier\n",
    "from sklearn.ensemble import RandomForestClassifier\n",
    "from sklearn.metrics import accuracy_score\n",
    "from sklearn.linear_model import LogisticRegression\n",
    "from sklearn.neighbors import KNeighborsClassifier\n",
    "from sklearn.metrics import f1_score, roc_auc_score, roc_curve, recall_score, precision_score\n",
    "from sklearn.metrics import classification_report\n",
    "from sklearn.model_selection import GridSearchCV\n",
    "from sklearn.metrics import confusion_matrix, ConfusionMatrixDisplay\n",
    "from catboost import CatBoostClassifier\n",
    "from sklearn.metrics import precision_recall_curve, accuracy_score\n",
    "from catboost import Pool\n",
    "from catboost import cv\n",
    "warnings.filterwarnings(\"ignore\")\n",
    "np.random.seed(220523)"
   ]
  },
  {
   "cell_type": "code",
   "execution_count": 3,
   "metadata": {},
   "outputs": [
    {
     "name": "stdout",
     "output_type": "stream",
     "text": [
      "<class 'pandas.core.frame.DataFrame'>\n",
      "RangeIndex: 7043 entries, 0 to 7042\n",
      "Data columns (total 8 columns):\n",
      " #   Column            Non-Null Count  Dtype  \n",
      "---  ------            --------------  -----  \n",
      " 0   customerID        7043 non-null   object \n",
      " 1   BeginDate         7043 non-null   object \n",
      " 2   EndDate           7043 non-null   object \n",
      " 3   Type              7043 non-null   object \n",
      " 4   PaperlessBilling  7043 non-null   object \n",
      " 5   PaymentMethod     7043 non-null   object \n",
      " 6   MonthlyCharges    7043 non-null   float64\n",
      " 7   TotalCharges      7043 non-null   object \n",
      "dtypes: float64(1), object(7)\n",
      "memory usage: 440.3+ KB\n"
     ]
    }
   ],
   "source": [
    "contract = pd.read_csv('/datasets/contract_new.csv')\n",
    "contract.info()"
   ]
  },
  {
   "cell_type": "code",
   "execution_count": 4,
   "metadata": {},
   "outputs": [
    {
     "data": {
      "text/html": [
       "<div>\n",
       "<style scoped>\n",
       "    .dataframe tbody tr th:only-of-type {\n",
       "        vertical-align: middle;\n",
       "    }\n",
       "\n",
       "    .dataframe tbody tr th {\n",
       "        vertical-align: top;\n",
       "    }\n",
       "\n",
       "    .dataframe thead th {\n",
       "        text-align: right;\n",
       "    }\n",
       "</style>\n",
       "<table border=\"1\" class=\"dataframe\">\n",
       "  <thead>\n",
       "    <tr style=\"text-align: right;\">\n",
       "      <th></th>\n",
       "      <th>count</th>\n",
       "      <th>mean</th>\n",
       "      <th>std</th>\n",
       "      <th>min</th>\n",
       "      <th>25%</th>\n",
       "      <th>50%</th>\n",
       "      <th>75%</th>\n",
       "      <th>max</th>\n",
       "    </tr>\n",
       "  </thead>\n",
       "  <tbody>\n",
       "    <tr>\n",
       "      <th>MonthlyCharges</th>\n",
       "      <td>7043.0</td>\n",
       "      <td>64.761692</td>\n",
       "      <td>30.090047</td>\n",
       "      <td>18.25</td>\n",
       "      <td>35.5</td>\n",
       "      <td>70.35</td>\n",
       "      <td>89.85</td>\n",
       "      <td>118.75</td>\n",
       "    </tr>\n",
       "  </tbody>\n",
       "</table>\n",
       "</div>"
      ],
      "text/plain": [
       "                 count       mean        std    min   25%    50%    75%  \\\n",
       "MonthlyCharges  7043.0  64.761692  30.090047  18.25  35.5  70.35  89.85   \n",
       "\n",
       "                   max  \n",
       "MonthlyCharges  118.75  "
      ]
     },
     "execution_count": 4,
     "metadata": {},
     "output_type": "execute_result"
    }
   ],
   "source": [
    "contract.describe().T"
   ]
  },
  {
   "cell_type": "code",
   "execution_count": 5,
   "metadata": {},
   "outputs": [
    {
     "data": {
      "text/html": [
       "<div>\n",
       "<style scoped>\n",
       "    .dataframe tbody tr th:only-of-type {\n",
       "        vertical-align: middle;\n",
       "    }\n",
       "\n",
       "    .dataframe tbody tr th {\n",
       "        vertical-align: top;\n",
       "    }\n",
       "\n",
       "    .dataframe thead th {\n",
       "        text-align: right;\n",
       "    }\n",
       "</style>\n",
       "<table border=\"1\" class=\"dataframe\">\n",
       "  <thead>\n",
       "    <tr style=\"text-align: right;\">\n",
       "      <th></th>\n",
       "      <th>customerID</th>\n",
       "      <th>BeginDate</th>\n",
       "      <th>EndDate</th>\n",
       "      <th>Type</th>\n",
       "      <th>PaperlessBilling</th>\n",
       "      <th>PaymentMethod</th>\n",
       "      <th>MonthlyCharges</th>\n",
       "      <th>TotalCharges</th>\n",
       "    </tr>\n",
       "  </thead>\n",
       "  <tbody>\n",
       "    <tr>\n",
       "      <th>0</th>\n",
       "      <td>7590-VHVEG</td>\n",
       "      <td>2020-01-01</td>\n",
       "      <td>No</td>\n",
       "      <td>Month-to-month</td>\n",
       "      <td>Yes</td>\n",
       "      <td>Electronic check</td>\n",
       "      <td>29.85</td>\n",
       "      <td>31.04</td>\n",
       "    </tr>\n",
       "    <tr>\n",
       "      <th>1</th>\n",
       "      <td>5575-GNVDE</td>\n",
       "      <td>2017-04-01</td>\n",
       "      <td>No</td>\n",
       "      <td>One year</td>\n",
       "      <td>No</td>\n",
       "      <td>Mailed check</td>\n",
       "      <td>56.95</td>\n",
       "      <td>2071.84</td>\n",
       "    </tr>\n",
       "    <tr>\n",
       "      <th>2</th>\n",
       "      <td>3668-QPYBK</td>\n",
       "      <td>2019-10-01</td>\n",
       "      <td>No</td>\n",
       "      <td>Month-to-month</td>\n",
       "      <td>Yes</td>\n",
       "      <td>Mailed check</td>\n",
       "      <td>53.85</td>\n",
       "      <td>226.17</td>\n",
       "    </tr>\n",
       "    <tr>\n",
       "      <th>3</th>\n",
       "      <td>7795-CFOCW</td>\n",
       "      <td>2016-05-01</td>\n",
       "      <td>No</td>\n",
       "      <td>One year</td>\n",
       "      <td>No</td>\n",
       "      <td>Bank transfer (automatic)</td>\n",
       "      <td>42.30</td>\n",
       "      <td>1960.6</td>\n",
       "    </tr>\n",
       "    <tr>\n",
       "      <th>4</th>\n",
       "      <td>9237-HQITU</td>\n",
       "      <td>2019-09-01</td>\n",
       "      <td>No</td>\n",
       "      <td>Month-to-month</td>\n",
       "      <td>Yes</td>\n",
       "      <td>Electronic check</td>\n",
       "      <td>70.70</td>\n",
       "      <td>353.5</td>\n",
       "    </tr>\n",
       "  </tbody>\n",
       "</table>\n",
       "</div>"
      ],
      "text/plain": [
       "   customerID   BeginDate EndDate            Type PaperlessBilling  \\\n",
       "0  7590-VHVEG  2020-01-01      No  Month-to-month              Yes   \n",
       "1  5575-GNVDE  2017-04-01      No        One year               No   \n",
       "2  3668-QPYBK  2019-10-01      No  Month-to-month              Yes   \n",
       "3  7795-CFOCW  2016-05-01      No        One year               No   \n",
       "4  9237-HQITU  2019-09-01      No  Month-to-month              Yes   \n",
       "\n",
       "               PaymentMethod  MonthlyCharges TotalCharges  \n",
       "0           Electronic check           29.85        31.04  \n",
       "1               Mailed check           56.95      2071.84  \n",
       "2               Mailed check           53.85       226.17  \n",
       "3  Bank transfer (automatic)           42.30       1960.6  \n",
       "4           Electronic check           70.70        353.5  "
      ]
     },
     "execution_count": 5,
     "metadata": {},
     "output_type": "execute_result"
    }
   ],
   "source": [
    "contract.head(5)"
   ]
  },
  {
   "cell_type": "code",
   "execution_count": 6,
   "metadata": {},
   "outputs": [
    {
     "name": "stdout",
     "output_type": "stream",
     "text": [
      "<class 'pandas.core.frame.DataFrame'>\n",
      "RangeIndex: 7043 entries, 0 to 7042\n",
      "Data columns (total 5 columns):\n",
      " #   Column         Non-Null Count  Dtype \n",
      "---  ------         --------------  ----- \n",
      " 0   customerID     7043 non-null   object\n",
      " 1   gender         7043 non-null   object\n",
      " 2   SeniorCitizen  7043 non-null   int64 \n",
      " 3   Partner        7043 non-null   object\n",
      " 4   Dependents     7043 non-null   object\n",
      "dtypes: int64(1), object(4)\n",
      "memory usage: 275.2+ KB\n"
     ]
    }
   ],
   "source": [
    "personal = pd.read_csv('/datasets/personal_new.csv')\n",
    "personal.info()"
   ]
  },
  {
   "cell_type": "code",
   "execution_count": 7,
   "metadata": {},
   "outputs": [
    {
     "data": {
      "text/html": [
       "<div>\n",
       "<style scoped>\n",
       "    .dataframe tbody tr th:only-of-type {\n",
       "        vertical-align: middle;\n",
       "    }\n",
       "\n",
       "    .dataframe tbody tr th {\n",
       "        vertical-align: top;\n",
       "    }\n",
       "\n",
       "    .dataframe thead th {\n",
       "        text-align: right;\n",
       "    }\n",
       "</style>\n",
       "<table border=\"1\" class=\"dataframe\">\n",
       "  <thead>\n",
       "    <tr style=\"text-align: right;\">\n",
       "      <th></th>\n",
       "      <th>count</th>\n",
       "      <th>mean</th>\n",
       "      <th>std</th>\n",
       "      <th>min</th>\n",
       "      <th>25%</th>\n",
       "      <th>50%</th>\n",
       "      <th>75%</th>\n",
       "      <th>max</th>\n",
       "    </tr>\n",
       "  </thead>\n",
       "  <tbody>\n",
       "    <tr>\n",
       "      <th>SeniorCitizen</th>\n",
       "      <td>7043.0</td>\n",
       "      <td>0.162147</td>\n",
       "      <td>0.368612</td>\n",
       "      <td>0.0</td>\n",
       "      <td>0.0</td>\n",
       "      <td>0.0</td>\n",
       "      <td>0.0</td>\n",
       "      <td>1.0</td>\n",
       "    </tr>\n",
       "  </tbody>\n",
       "</table>\n",
       "</div>"
      ],
      "text/plain": [
       "                count      mean       std  min  25%  50%  75%  max\n",
       "SeniorCitizen  7043.0  0.162147  0.368612  0.0  0.0  0.0  0.0  1.0"
      ]
     },
     "execution_count": 7,
     "metadata": {},
     "output_type": "execute_result"
    }
   ],
   "source": [
    "personal.describe().T"
   ]
  },
  {
   "cell_type": "code",
   "execution_count": 8,
   "metadata": {},
   "outputs": [
    {
     "data": {
      "text/html": [
       "<div>\n",
       "<style scoped>\n",
       "    .dataframe tbody tr th:only-of-type {\n",
       "        vertical-align: middle;\n",
       "    }\n",
       "\n",
       "    .dataframe tbody tr th {\n",
       "        vertical-align: top;\n",
       "    }\n",
       "\n",
       "    .dataframe thead th {\n",
       "        text-align: right;\n",
       "    }\n",
       "</style>\n",
       "<table border=\"1\" class=\"dataframe\">\n",
       "  <thead>\n",
       "    <tr style=\"text-align: right;\">\n",
       "      <th></th>\n",
       "      <th>customerID</th>\n",
       "      <th>gender</th>\n",
       "      <th>SeniorCitizen</th>\n",
       "      <th>Partner</th>\n",
       "      <th>Dependents</th>\n",
       "    </tr>\n",
       "  </thead>\n",
       "  <tbody>\n",
       "    <tr>\n",
       "      <th>6551</th>\n",
       "      <td>6728-VOIFY</td>\n",
       "      <td>Female</td>\n",
       "      <td>0</td>\n",
       "      <td>Yes</td>\n",
       "      <td>No</td>\n",
       "    </tr>\n",
       "    <tr>\n",
       "      <th>5645</th>\n",
       "      <td>4942-VZZOM</td>\n",
       "      <td>Male</td>\n",
       "      <td>0</td>\n",
       "      <td>Yes</td>\n",
       "      <td>No</td>\n",
       "    </tr>\n",
       "    <tr>\n",
       "      <th>2783</th>\n",
       "      <td>4760-THGOT</td>\n",
       "      <td>Female</td>\n",
       "      <td>0</td>\n",
       "      <td>Yes</td>\n",
       "      <td>No</td>\n",
       "    </tr>\n",
       "    <tr>\n",
       "      <th>4792</th>\n",
       "      <td>7067-KSAZT</td>\n",
       "      <td>Female</td>\n",
       "      <td>1</td>\n",
       "      <td>Yes</td>\n",
       "      <td>No</td>\n",
       "    </tr>\n",
       "  </tbody>\n",
       "</table>\n",
       "</div>"
      ],
      "text/plain": [
       "      customerID  gender  SeniorCitizen Partner Dependents\n",
       "6551  6728-VOIFY  Female              0     Yes         No\n",
       "5645  4942-VZZOM    Male              0     Yes         No\n",
       "2783  4760-THGOT  Female              0     Yes         No\n",
       "4792  7067-KSAZT  Female              1     Yes         No"
      ]
     },
     "execution_count": 8,
     "metadata": {},
     "output_type": "execute_result"
    }
   ],
   "source": [
    "personal.sample(4)"
   ]
  },
  {
   "cell_type": "code",
   "execution_count": 9,
   "metadata": {},
   "outputs": [
    {
     "data": {
      "image/png": "[encoded data removed]",
      "text/plain": [
       "<Figure size 432x288 with 1 Axes>"
      ]
     },
     "metadata": {},
     "output_type": "display_data"
    }
   ],
   "source": [
    "personal['SeniorCitizen'].value_counts().plot.pie(autopct='%.2f')\n",
    "plt.show()"
   ]
  },
  {
   "cell_type": "code",
   "execution_count": 10,
   "metadata": {},
   "outputs": [
    {
     "name": "stdout",
     "output_type": "stream",
     "text": [
      "<class 'pandas.core.frame.DataFrame'>\n",
      "RangeIndex: 5517 entries, 0 to 5516\n",
      "Data columns (total 8 columns):\n",
      " #   Column            Non-Null Count  Dtype \n",
      "---  ------            --------------  ----- \n",
      " 0   customerID        5517 non-null   object\n",
      " 1   InternetService   5517 non-null   object\n",
      " 2   OnlineSecurity    5517 non-null   object\n",
      " 3   OnlineBackup      5517 non-null   object\n",
      " 4   DeviceProtection  5517 non-null   object\n",
      " 5   TechSupport       5517 non-null   object\n",
      " 6   StreamingTV       5517 non-null   object\n",
      " 7   StreamingMovies   5517 non-null   object\n",
      "dtypes: object(8)\n",
      "memory usage: 344.9+ KB\n"
     ]
    }
   ],
   "source": [
    "internet = pd.read_csv('/datasets/internet_new.csv')\n",
    "internet.info()"
   ]
  },
  {
   "cell_type": "code",
   "execution_count": 11,
   "metadata": {},
   "outputs": [
    {
     "data": {
      "text/html": [
       "<div>\n",
       "<style scoped>\n",
       "    .dataframe tbody tr th:only-of-type {\n",
       "        vertical-align: middle;\n",
       "    }\n",
       "\n",
       "    .dataframe tbody tr th {\n",
       "        vertical-align: top;\n",
       "    }\n",
       "\n",
       "    .dataframe thead th {\n",
       "        text-align: right;\n",
       "    }\n",
       "</style>\n",
       "<table border=\"1\" class=\"dataframe\">\n",
       "  <thead>\n",
       "    <tr style=\"text-align: right;\">\n",
       "      <th></th>\n",
       "      <th>count</th>\n",
       "      <th>unique</th>\n",
       "      <th>top</th>\n",
       "      <th>freq</th>\n",
       "    </tr>\n",
       "  </thead>\n",
       "  <tbody>\n",
       "    <tr>\n",
       "      <th>customerID</th>\n",
       "      <td>5517</td>\n",
       "      <td>5517</td>\n",
       "      <td>6778-YSNIH</td>\n",
       "      <td>1</td>\n",
       "    </tr>\n",
       "    <tr>\n",
       "      <th>InternetService</th>\n",
       "      <td>5517</td>\n",
       "      <td>2</td>\n",
       "      <td>Fiber optic</td>\n",
       "      <td>3096</td>\n",
       "    </tr>\n",
       "    <tr>\n",
       "      <th>OnlineSecurity</th>\n",
       "      <td>5517</td>\n",
       "      <td>2</td>\n",
       "      <td>No</td>\n",
       "      <td>3498</td>\n",
       "    </tr>\n",
       "    <tr>\n",
       "      <th>OnlineBackup</th>\n",
       "      <td>5517</td>\n",
       "      <td>2</td>\n",
       "      <td>No</td>\n",
       "      <td>3088</td>\n",
       "    </tr>\n",
       "    <tr>\n",
       "      <th>DeviceProtection</th>\n",
       "      <td>5517</td>\n",
       "      <td>2</td>\n",
       "      <td>No</td>\n",
       "      <td>3095</td>\n",
       "    </tr>\n",
       "    <tr>\n",
       "      <th>TechSupport</th>\n",
       "      <td>5517</td>\n",
       "      <td>2</td>\n",
       "      <td>No</td>\n",
       "      <td>3473</td>\n",
       "    </tr>\n",
       "    <tr>\n",
       "      <th>StreamingTV</th>\n",
       "      <td>5517</td>\n",
       "      <td>2</td>\n",
       "      <td>No</td>\n",
       "      <td>2810</td>\n",
       "    </tr>\n",
       "    <tr>\n",
       "      <th>StreamingMovies</th>\n",
       "      <td>5517</td>\n",
       "      <td>2</td>\n",
       "      <td>No</td>\n",
       "      <td>2785</td>\n",
       "    </tr>\n",
       "  </tbody>\n",
       "</table>\n",
       "</div>"
      ],
      "text/plain": [
       "                 count unique          top  freq\n",
       "customerID        5517   5517   6778-YSNIH     1\n",
       "InternetService   5517      2  Fiber optic  3096\n",
       "OnlineSecurity    5517      2           No  3498\n",
       "OnlineBackup      5517      2           No  3088\n",
       "DeviceProtection  5517      2           No  3095\n",
       "TechSupport       5517      2           No  3473\n",
       "StreamingTV       5517      2           No  2810\n",
       "StreamingMovies   5517      2           No  2785"
      ]
     },
     "execution_count": 11,
     "metadata": {},
     "output_type": "execute_result"
    }
   ],
   "source": [
    "internet.describe().T"
   ]
  },
  {
   "cell_type": "code",
   "execution_count": 12,
   "metadata": {},
   "outputs": [
    {
     "data": {
      "text/html": [
       "<div>\n",
       "<style scoped>\n",
       "    .dataframe tbody tr th:only-of-type {\n",
       "        vertical-align: middle;\n",
       "    }\n",
       "\n",
       "    .dataframe tbody tr th {\n",
       "        vertical-align: top;\n",
       "    }\n",
       "\n",
       "    .dataframe thead th {\n",
       "        text-align: right;\n",
       "    }\n",
       "</style>\n",
       "<table border=\"1\" class=\"dataframe\">\n",
       "  <thead>\n",
       "    <tr style=\"text-align: right;\">\n",
       "      <th></th>\n",
       "      <th>customerID</th>\n",
       "      <th>InternetService</th>\n",
       "      <th>OnlineSecurity</th>\n",
       "      <th>OnlineBackup</th>\n",
       "      <th>DeviceProtection</th>\n",
       "      <th>TechSupport</th>\n",
       "      <th>StreamingTV</th>\n",
       "      <th>StreamingMovies</th>\n",
       "    </tr>\n",
       "  </thead>\n",
       "  <tbody>\n",
       "    <tr>\n",
       "      <th>527</th>\n",
       "      <td>3509-GWQGF</td>\n",
       "      <td>Fiber optic</td>\n",
       "      <td>No</td>\n",
       "      <td>No</td>\n",
       "      <td>No</td>\n",
       "      <td>No</td>\n",
       "      <td>No</td>\n",
       "      <td>No</td>\n",
       "    </tr>\n",
       "    <tr>\n",
       "      <th>3843</th>\n",
       "      <td>7839-NUIAA</td>\n",
       "      <td>DSL</td>\n",
       "      <td>Yes</td>\n",
       "      <td>Yes</td>\n",
       "      <td>No</td>\n",
       "      <td>No</td>\n",
       "      <td>No</td>\n",
       "      <td>No</td>\n",
       "    </tr>\n",
       "    <tr>\n",
       "      <th>5289</th>\n",
       "      <td>3855-ONCAR</td>\n",
       "      <td>Fiber optic</td>\n",
       "      <td>No</td>\n",
       "      <td>No</td>\n",
       "      <td>No</td>\n",
       "      <td>No</td>\n",
       "      <td>Yes</td>\n",
       "      <td>No</td>\n",
       "    </tr>\n",
       "  </tbody>\n",
       "</table>\n",
       "</div>"
      ],
      "text/plain": [
       "      customerID InternetService OnlineSecurity OnlineBackup DeviceProtection  \\\n",
       "527   3509-GWQGF     Fiber optic             No           No               No   \n",
       "3843  7839-NUIAA             DSL            Yes          Yes               No   \n",
       "5289  3855-ONCAR     Fiber optic             No           No               No   \n",
       "\n",
       "     TechSupport StreamingTV StreamingMovies  \n",
       "527           No          No              No  \n",
       "3843          No          No              No  \n",
       "5289          No         Yes              No  "
      ]
     },
     "execution_count": 12,
     "metadata": {},
     "output_type": "execute_result"
    }
   ],
   "source": [
    "internet.sample(3)"
   ]
  },
  {
   "cell_type": "code",
   "execution_count": 13,
   "metadata": {},
   "outputs": [
    {
     "name": "stdout",
     "output_type": "stream",
     "text": [
      "<class 'pandas.core.frame.DataFrame'>\n",
      "RangeIndex: 6361 entries, 0 to 6360\n",
      "Data columns (total 2 columns):\n",
      " #   Column         Non-Null Count  Dtype \n",
      "---  ------         --------------  ----- \n",
      " 0   customerID     6361 non-null   object\n",
      " 1   MultipleLines  6361 non-null   object\n",
      "dtypes: object(2)\n",
      "memory usage: 99.5+ KB\n"
     ]
    }
   ],
   "source": [
    "phone = pd.read_csv('/datasets/phone_new.csv')\n",
    "phone.info()"
   ]
  },
  {
   "cell_type": "code",
   "execution_count": 14,
   "metadata": {},
   "outputs": [
    {
     "data": {
      "text/html": [
       "<div>\n",
       "<style scoped>\n",
       "    .dataframe tbody tr th:only-of-type {\n",
       "        vertical-align: middle;\n",
       "    }\n",
       "\n",
       "    .dataframe tbody tr th {\n",
       "        vertical-align: top;\n",
       "    }\n",
       "\n",
       "    .dataframe thead th {\n",
       "        text-align: right;\n",
       "    }\n",
       "</style>\n",
       "<table border=\"1\" class=\"dataframe\">\n",
       "  <thead>\n",
       "    <tr style=\"text-align: right;\">\n",
       "      <th></th>\n",
       "      <th>count</th>\n",
       "      <th>unique</th>\n",
       "      <th>top</th>\n",
       "      <th>freq</th>\n",
       "    </tr>\n",
       "  </thead>\n",
       "  <tbody>\n",
       "    <tr>\n",
       "      <th>customerID</th>\n",
       "      <td>6361</td>\n",
       "      <td>6361</td>\n",
       "      <td>7841-TZDMQ</td>\n",
       "      <td>1</td>\n",
       "    </tr>\n",
       "    <tr>\n",
       "      <th>MultipleLines</th>\n",
       "      <td>6361</td>\n",
       "      <td>2</td>\n",
       "      <td>No</td>\n",
       "      <td>3390</td>\n",
       "    </tr>\n",
       "  </tbody>\n",
       "</table>\n",
       "</div>"
      ],
      "text/plain": [
       "              count unique         top  freq\n",
       "customerID     6361   6361  7841-TZDMQ     1\n",
       "MultipleLines  6361      2          No  3390"
      ]
     },
     "execution_count": 14,
     "metadata": {},
     "output_type": "execute_result"
    }
   ],
   "source": [
    "phone.describe().T"
   ]
  },
  {
   "cell_type": "code",
   "execution_count": 15,
   "metadata": {},
   "outputs": [
    {
     "data": {
      "text/html": [
       "<div>\n",
       "<style scoped>\n",
       "    .dataframe tbody tr th:only-of-type {\n",
       "        vertical-align: middle;\n",
       "    }\n",
       "\n",
       "    .dataframe tbody tr th {\n",
       "        vertical-align: top;\n",
       "    }\n",
       "\n",
       "    .dataframe thead th {\n",
       "        text-align: right;\n",
       "    }\n",
       "</style>\n",
       "<table border=\"1\" class=\"dataframe\">\n",
       "  <thead>\n",
       "    <tr style=\"text-align: right;\">\n",
       "      <th></th>\n",
       "      <th>customerID</th>\n",
       "      <th>MultipleLines</th>\n",
       "    </tr>\n",
       "  </thead>\n",
       "  <tbody>\n",
       "    <tr>\n",
       "      <th>6142</th>\n",
       "      <td>3541-ZNUHK</td>\n",
       "      <td>Yes</td>\n",
       "    </tr>\n",
       "    <tr>\n",
       "      <th>429</th>\n",
       "      <td>0486-LGCCH</td>\n",
       "      <td>No</td>\n",
       "    </tr>\n",
       "    <tr>\n",
       "      <th>2416</th>\n",
       "      <td>3550-SAHFP</td>\n",
       "      <td>Yes</td>\n",
       "    </tr>\n",
       "  </tbody>\n",
       "</table>\n",
       "</div>"
      ],
      "text/plain": [
       "      customerID MultipleLines\n",
       "6142  3541-ZNUHK           Yes\n",
       "429   0486-LGCCH            No\n",
       "2416  3550-SAHFP           Yes"
      ]
     },
     "execution_count": 15,
     "metadata": {},
     "output_type": "execute_result"
    }
   ],
   "source": [
    "phone.sample(3)"
   ]
  },
  {
   "cell_type": "code",
   "execution_count": 16,
   "metadata": {},
   "outputs": [
    {
     "data": {
      "image/png": "[encoded data removed]",
      "text/plain": [
       "<Figure size 432x288 with 1 Axes>"
      ]
     },
     "metadata": {},
     "output_type": "display_data"
    }
   ],
   "source": [
    "phone['MultipleLines'].value_counts().plot.pie(autopct='%.2f')\n",
    "plt.show()"
   ]
  },
  {
   "cell_type": "markdown",
   "metadata": {},
   "source": [
    "**Объединение датасетов в один**"
   ]
  },
  {
   "cell_type": "code",
   "execution_count": 17,
   "metadata": {},
   "outputs": [
    {
     "name": "stdout",
     "output_type": "stream",
     "text": [
      "<class 'pandas.core.frame.DataFrame'>\n",
      "Int64Index: 7043 entries, 0 to 7042\n",
      "Data columns (total 20 columns):\n",
      " #   Column            Non-Null Count  Dtype  \n",
      "---  ------            --------------  -----  \n",
      " 0   customerID        7043 non-null   object \n",
      " 1   gender            7043 non-null   object \n",
      " 2   SeniorCitizen     7043 non-null   int64  \n",
      " 3   Partner           7043 non-null   object \n",
      " 4   Dependents        7043 non-null   object \n",
      " 5   BeginDate         7043 non-null   object \n",
      " 6   EndDate           7043 non-null   object \n",
      " 7   Type              7043 non-null   object \n",
      " 8   PaperlessBilling  7043 non-null   object \n",
      " 9   PaymentMethod     7043 non-null   object \n",
      " 10  MonthlyCharges    7043 non-null   float64\n",
      " 11  TotalCharges      7043 non-null   object \n",
      " 12  InternetService   5517 non-null   object \n",
      " 13  OnlineSecurity    5517 non-null   object \n",
      " 14  OnlineBackup      5517 non-null   object \n",
      " 15  DeviceProtection  5517 non-null   object \n",
      " 16  TechSupport       5517 non-null   object \n",
      " 17  StreamingTV       5517 non-null   object \n",
      " 18  StreamingMovies   5517 non-null   object \n",
      " 19  MultipleLines     6361 non-null   object \n",
      "dtypes: float64(1), int64(1), object(18)\n",
      "memory usage: 1.1+ MB\n"
     ]
    }
   ],
   "source": [
    "df = pd.merge(personal, contract, on='customerID', how='left')\n",
    "df = pd.merge(df, internet, on='customerID', how='left')\n",
    "df = pd.merge(df, phone, on='customerID', how='left')\n",
    "df.info()"
   ]
  },
  {
   "cell_type": "markdown",
   "metadata": {},
   "source": [
    "**Описание столбцов**"
   ]
  },
  {
   "cell_type": "markdown",
   "metadata": {},
   "source": [
    "**customerID** - id клиента  \n",
    "**gender** - пол  \n",
    "**SeniorCitizen** - признак пожилого  \n",
    "**Partner** - признак супруга  \n",
    "**Dependents** - иждевенцы  \n",
    "**BeginDate** - дата начала  \n",
    "**EndDate** - дата оттока  \n",
    "**Type** - тип оплаты(ежемесячный или годовой)  \n",
    "**PaperlessBilling** - признак безналичного расчёта  \n",
    "**PaymentMethod** - способ оплаты  \n",
    "**MontlyCharges** - ежемесячный траты  \n",
    "**TotalCharges** - всего потрачено денег на услуги  \n",
    "**MultipleLines** - признак многоканального телефона  \n",
    "**StreamingMovies** - признак стримингого сервиса  \n",
    "**StreamingTV** - признак ТВ  \n",
    "**TechSupport** - техподдержка  \n",
    "**PaperlessBilling** - требует ли чек  \n"
   ]
  },
  {
   "cell_type": "code",
   "execution_count": 18,
   "metadata": {
    "scrolled": true
   },
   "outputs": [
    {
     "data": {
      "text/html": [
       "<div>\n",
       "<style scoped>\n",
       "    .dataframe tbody tr th:only-of-type {\n",
       "        vertical-align: middle;\n",
       "    }\n",
       "\n",
       "    .dataframe tbody tr th {\n",
       "        vertical-align: top;\n",
       "    }\n",
       "\n",
       "    .dataframe thead th {\n",
       "        text-align: right;\n",
       "    }\n",
       "</style>\n",
       "<table border=\"1\" class=\"dataframe\">\n",
       "  <thead>\n",
       "    <tr style=\"text-align: right;\">\n",
       "      <th></th>\n",
       "      <th>customerID</th>\n",
       "      <th>gender</th>\n",
       "      <th>SeniorCitizen</th>\n",
       "      <th>Partner</th>\n",
       "      <th>Dependents</th>\n",
       "      <th>BeginDate</th>\n",
       "      <th>EndDate</th>\n",
       "      <th>Type</th>\n",
       "      <th>PaperlessBilling</th>\n",
       "      <th>PaymentMethod</th>\n",
       "      <th>MonthlyCharges</th>\n",
       "      <th>TotalCharges</th>\n",
       "      <th>InternetService</th>\n",
       "      <th>OnlineSecurity</th>\n",
       "      <th>OnlineBackup</th>\n",
       "      <th>DeviceProtection</th>\n",
       "      <th>TechSupport</th>\n",
       "      <th>StreamingTV</th>\n",
       "      <th>StreamingMovies</th>\n",
       "      <th>MultipleLines</th>\n",
       "    </tr>\n",
       "  </thead>\n",
       "  <tbody>\n",
       "    <tr>\n",
       "      <th>4465</th>\n",
       "      <td>3606-SBKRY</td>\n",
       "      <td>Male</td>\n",
       "      <td>0</td>\n",
       "      <td>No</td>\n",
       "      <td>No</td>\n",
       "      <td>2017-07-01</td>\n",
       "      <td>No</td>\n",
       "      <td>One year</td>\n",
       "      <td>Yes</td>\n",
       "      <td>Electronic check</td>\n",
       "      <td>50.05</td>\n",
       "      <td>1551.55</td>\n",
       "      <td>DSL</td>\n",
       "      <td>No</td>\n",
       "      <td>No</td>\n",
       "      <td>Yes</td>\n",
       "      <td>No</td>\n",
       "      <td>Yes</td>\n",
       "      <td>Yes</td>\n",
       "      <td>NaN</td>\n",
       "    </tr>\n",
       "    <tr>\n",
       "      <th>1427</th>\n",
       "      <td>6896-SRVYQ</td>\n",
       "      <td>Male</td>\n",
       "      <td>1</td>\n",
       "      <td>No</td>\n",
       "      <td>No</td>\n",
       "      <td>2016-06-01</td>\n",
       "      <td>No</td>\n",
       "      <td>Month-to-month</td>\n",
       "      <td>No</td>\n",
       "      <td>Electronic check</td>\n",
       "      <td>73.85</td>\n",
       "      <td>3249.4</td>\n",
       "      <td>Fiber optic</td>\n",
       "      <td>No</td>\n",
       "      <td>No</td>\n",
       "      <td>Yes</td>\n",
       "      <td>No</td>\n",
       "      <td>No</td>\n",
       "      <td>No</td>\n",
       "      <td>No</td>\n",
       "    </tr>\n",
       "    <tr>\n",
       "      <th>4081</th>\n",
       "      <td>7665-TOALD</td>\n",
       "      <td>Female</td>\n",
       "      <td>0</td>\n",
       "      <td>No</td>\n",
       "      <td>No</td>\n",
       "      <td>2019-12-01</td>\n",
       "      <td>No</td>\n",
       "      <td>Month-to-month</td>\n",
       "      <td>Yes</td>\n",
       "      <td>Electronic check</td>\n",
       "      <td>69.60</td>\n",
       "      <td>139.2</td>\n",
       "      <td>Fiber optic</td>\n",
       "      <td>No</td>\n",
       "      <td>No</td>\n",
       "      <td>No</td>\n",
       "      <td>No</td>\n",
       "      <td>No</td>\n",
       "      <td>No</td>\n",
       "      <td>No</td>\n",
       "    </tr>\n",
       "    <tr>\n",
       "      <th>5025</th>\n",
       "      <td>7326-RIGQZ</td>\n",
       "      <td>Male</td>\n",
       "      <td>0</td>\n",
       "      <td>Yes</td>\n",
       "      <td>Yes</td>\n",
       "      <td>2019-08-01</td>\n",
       "      <td>No</td>\n",
       "      <td>Month-to-month</td>\n",
       "      <td>Yes</td>\n",
       "      <td>Electronic check</td>\n",
       "      <td>69.80</td>\n",
       "      <td>418.8</td>\n",
       "      <td>Fiber optic</td>\n",
       "      <td>No</td>\n",
       "      <td>No</td>\n",
       "      <td>No</td>\n",
       "      <td>No</td>\n",
       "      <td>No</td>\n",
       "      <td>No</td>\n",
       "      <td>No</td>\n",
       "    </tr>\n",
       "    <tr>\n",
       "      <th>2685</th>\n",
       "      <td>5781-BKHOP</td>\n",
       "      <td>Female</td>\n",
       "      <td>0</td>\n",
       "      <td>Yes</td>\n",
       "      <td>No</td>\n",
       "      <td>2014-02-01</td>\n",
       "      <td>No</td>\n",
       "      <td>Two year</td>\n",
       "      <td>No</td>\n",
       "      <td>Bank transfer (automatic)</td>\n",
       "      <td>100.65</td>\n",
       "      <td>7246.8</td>\n",
       "      <td>Fiber optic</td>\n",
       "      <td>Yes</td>\n",
       "      <td>Yes</td>\n",
       "      <td>Yes</td>\n",
       "      <td>No</td>\n",
       "      <td>Yes</td>\n",
       "      <td>No</td>\n",
       "      <td>Yes</td>\n",
       "    </tr>\n",
       "    <tr>\n",
       "      <th>1838</th>\n",
       "      <td>8058-DMYRU</td>\n",
       "      <td>Male</td>\n",
       "      <td>1</td>\n",
       "      <td>No</td>\n",
       "      <td>No</td>\n",
       "      <td>2015-08-01</td>\n",
       "      <td>No</td>\n",
       "      <td>Month-to-month</td>\n",
       "      <td>Yes</td>\n",
       "      <td>Electronic check</td>\n",
       "      <td>90.05</td>\n",
       "      <td>4862.7</td>\n",
       "      <td>Fiber optic</td>\n",
       "      <td>No</td>\n",
       "      <td>Yes</td>\n",
       "      <td>No</td>\n",
       "      <td>No</td>\n",
       "      <td>No</td>\n",
       "      <td>Yes</td>\n",
       "      <td>Yes</td>\n",
       "    </tr>\n",
       "    <tr>\n",
       "      <th>4863</th>\n",
       "      <td>8727-JQFHV</td>\n",
       "      <td>Male</td>\n",
       "      <td>0</td>\n",
       "      <td>Yes</td>\n",
       "      <td>Yes</td>\n",
       "      <td>2015-05-01</td>\n",
       "      <td>2018-03-01</td>\n",
       "      <td>Two year</td>\n",
       "      <td>No</td>\n",
       "      <td>Mailed check</td>\n",
       "      <td>20.75</td>\n",
       "      <td>705.5</td>\n",
       "      <td>NaN</td>\n",
       "      <td>NaN</td>\n",
       "      <td>NaN</td>\n",
       "      <td>NaN</td>\n",
       "      <td>NaN</td>\n",
       "      <td>NaN</td>\n",
       "      <td>NaN</td>\n",
       "      <td>No</td>\n",
       "    </tr>\n",
       "  </tbody>\n",
       "</table>\n",
       "</div>"
      ],
      "text/plain": [
       "      customerID  gender  SeniorCitizen Partner Dependents   BeginDate  \\\n",
       "4465  3606-SBKRY    Male              0      No         No  2017-07-01   \n",
       "1427  6896-SRVYQ    Male              1      No         No  2016-06-01   \n",
       "4081  7665-TOALD  Female              0      No         No  2019-12-01   \n",
       "5025  7326-RIGQZ    Male              0     Yes        Yes  2019-08-01   \n",
       "2685  5781-BKHOP  Female              0     Yes         No  2014-02-01   \n",
       "1838  8058-DMYRU    Male              1      No         No  2015-08-01   \n",
       "4863  8727-JQFHV    Male              0     Yes        Yes  2015-05-01   \n",
       "\n",
       "         EndDate            Type PaperlessBilling              PaymentMethod  \\\n",
       "4465          No        One year              Yes           Electronic check   \n",
       "1427          No  Month-to-month               No           Electronic check   \n",
       "4081          No  Month-to-month              Yes           Electronic check   \n",
       "5025          No  Month-to-month              Yes           Electronic check   \n",
       "2685          No        Two year               No  Bank transfer (automatic)   \n",
       "1838          No  Month-to-month              Yes           Electronic check   \n",
       "4863  2018-03-01        Two year               No               Mailed check   \n",
       "\n",
       "      MonthlyCharges TotalCharges InternetService OnlineSecurity OnlineBackup  \\\n",
       "4465           50.05      1551.55             DSL             No           No   \n",
       "1427           73.85       3249.4     Fiber optic             No           No   \n",
       "4081           69.60        139.2     Fiber optic             No           No   \n",
       "5025           69.80        418.8     Fiber optic             No           No   \n",
       "2685          100.65       7246.8     Fiber optic            Yes          Yes   \n",
       "1838           90.05       4862.7     Fiber optic             No          Yes   \n",
       "4863           20.75        705.5             NaN            NaN          NaN   \n",
       "\n",
       "     DeviceProtection TechSupport StreamingTV StreamingMovies MultipleLines  \n",
       "4465              Yes          No         Yes             Yes           NaN  \n",
       "1427              Yes          No          No              No            No  \n",
       "4081               No          No          No              No            No  \n",
       "5025               No          No          No              No            No  \n",
       "2685              Yes          No         Yes              No           Yes  \n",
       "1838               No          No          No             Yes           Yes  \n",
       "4863              NaN         NaN         NaN             NaN            No  "
      ]
     },
     "execution_count": 18,
     "metadata": {},
     "output_type": "execute_result"
    }
   ],
   "source": [
    "df.sample(7)"
   ]
  },
  {
   "cell_type": "code",
   "execution_count": 19,
   "metadata": {},
   "outputs": [
    {
     "data": {
      "text/html": [
       "<div>\n",
       "<style scoped>\n",
       "    .dataframe tbody tr th:only-of-type {\n",
       "        vertical-align: middle;\n",
       "    }\n",
       "\n",
       "    .dataframe tbody tr th {\n",
       "        vertical-align: top;\n",
       "    }\n",
       "\n",
       "    .dataframe thead th {\n",
       "        text-align: right;\n",
       "    }\n",
       "</style>\n",
       "<table border=\"1\" class=\"dataframe\">\n",
       "  <thead>\n",
       "    <tr style=\"text-align: right;\">\n",
       "      <th></th>\n",
       "      <th>SeniorCitizen</th>\n",
       "      <th>MonthlyCharges</th>\n",
       "    </tr>\n",
       "  </thead>\n",
       "  <tbody>\n",
       "    <tr>\n",
       "      <th>SeniorCitizen</th>\n",
       "      <td>1.000000</td>\n",
       "      <td>0.220173</td>\n",
       "    </tr>\n",
       "    <tr>\n",
       "      <th>MonthlyCharges</th>\n",
       "      <td>0.220173</td>\n",
       "      <td>1.000000</td>\n",
       "    </tr>\n",
       "  </tbody>\n",
       "</table>\n",
       "</div>"
      ],
      "text/plain": [
       "                SeniorCitizen  MonthlyCharges\n",
       "SeniorCitizen        1.000000        0.220173\n",
       "MonthlyCharges       0.220173        1.000000"
      ]
     },
     "execution_count": 19,
     "metadata": {},
     "output_type": "execute_result"
    }
   ],
   "source": [
    "selected_cols = ['SeniorCitizen', 'MonthlyCharges']\n",
    "corr_matrix = df[selected_cols].corr()\n",
    "corr_matrix "
   ]
  },
  {
   "cell_type": "markdown",
   "metadata": {},
   "source": [
    "**Вывод**: В рамках задачи было предоставлено 4 датасета разного объема. Все датасеты имеют общий уникальный столбец - customerID. В датасетах отсутствует выделенный таргет, его нужно выделить самостоятельно на основании столбца с датой ухода клиента. Также необходимо:  \n",
    "- очистить столбец с общей суммой за услуги\n",
    "- преобразовать столбцы с датами\n",
    "- дропнуть столбец с датой окончания во избежании утечки\n",
    "- заполнить пропуски, которые появились при объединении"
   ]
  },
  {
   "cell_type": "markdown",
   "metadata": {},
   "source": [
    "### Предобработка"
   ]
  },
  {
   "cell_type": "markdown",
   "metadata": {},
   "source": [
    "**Дубликаты**"
   ]
  },
  {
   "cell_type": "code",
   "execution_count": 20,
   "metadata": {},
   "outputs": [
    {
     "name": "stdout",
     "output_type": "stream",
     "text": [
      "Количество полных дубликтов в датасете 0\n"
     ]
    }
   ],
   "source": [
    "mydups = df.duplicated().sum()\n",
    "print('Количество полных дубликтов в датасете', mydups)"
   ]
  },
  {
   "cell_type": "markdown",
   "metadata": {},
   "source": [
    "**Оптимизация 1 и 0**"
   ]
  },
  {
   "cell_type": "code",
   "execution_count": 21,
   "metadata": {},
   "outputs": [],
   "source": [
    "def true_false(x):\n",
    "    if x ==  \"Yes\":\n",
    "        return 1\n",
    "    elif x == 'No':\n",
    "        return 0"
   ]
  },
  {
   "cell_type": "code",
   "execution_count": 22,
   "metadata": {},
   "outputs": [
    {
     "data": {
      "text/html": [
       "<div>\n",
       "<style scoped>\n",
       "    .dataframe tbody tr th:only-of-type {\n",
       "        vertical-align: middle;\n",
       "    }\n",
       "\n",
       "    .dataframe tbody tr th {\n",
       "        vertical-align: top;\n",
       "    }\n",
       "\n",
       "    .dataframe thead th {\n",
       "        text-align: right;\n",
       "    }\n",
       "</style>\n",
       "<table border=\"1\" class=\"dataframe\">\n",
       "  <thead>\n",
       "    <tr style=\"text-align: right;\">\n",
       "      <th></th>\n",
       "      <th>customerID</th>\n",
       "      <th>gender</th>\n",
       "      <th>SeniorCitizen</th>\n",
       "      <th>Partner</th>\n",
       "      <th>Dependents</th>\n",
       "      <th>BeginDate</th>\n",
       "      <th>EndDate</th>\n",
       "      <th>Type</th>\n",
       "      <th>PaperlessBilling</th>\n",
       "      <th>PaymentMethod</th>\n",
       "      <th>MonthlyCharges</th>\n",
       "      <th>TotalCharges</th>\n",
       "      <th>InternetService</th>\n",
       "      <th>OnlineSecurity</th>\n",
       "      <th>OnlineBackup</th>\n",
       "      <th>DeviceProtection</th>\n",
       "      <th>TechSupport</th>\n",
       "      <th>StreamingTV</th>\n",
       "      <th>StreamingMovies</th>\n",
       "      <th>MultipleLines</th>\n",
       "    </tr>\n",
       "  </thead>\n",
       "  <tbody>\n",
       "    <tr>\n",
       "      <th>1039</th>\n",
       "      <td>9948-YPTDG</td>\n",
       "      <td>Male</td>\n",
       "      <td>0</td>\n",
       "      <td>1</td>\n",
       "      <td>0</td>\n",
       "      <td>2016-10-01</td>\n",
       "      <td>2019-03-01</td>\n",
       "      <td>Month-to-month</td>\n",
       "      <td>1</td>\n",
       "      <td>Electronic check</td>\n",
       "      <td>79.45</td>\n",
       "      <td>2419.25</td>\n",
       "      <td>Fiber optic</td>\n",
       "      <td>1.0</td>\n",
       "      <td>1.0</td>\n",
       "      <td>0.0</td>\n",
       "      <td>0.0</td>\n",
       "      <td>0.0</td>\n",
       "      <td>0.0</td>\n",
       "      <td>0.0</td>\n",
       "    </tr>\n",
       "    <tr>\n",
       "      <th>6450</th>\n",
       "      <td>4609-KNNWG</td>\n",
       "      <td>Female</td>\n",
       "      <td>0</td>\n",
       "      <td>1</td>\n",
       "      <td>1</td>\n",
       "      <td>2017-11-01</td>\n",
       "      <td>No</td>\n",
       "      <td>Two year</td>\n",
       "      <td>0</td>\n",
       "      <td>Mailed check</td>\n",
       "      <td>19.90</td>\n",
       "      <td>585.66</td>\n",
       "      <td>NaN</td>\n",
       "      <td>NaN</td>\n",
       "      <td>NaN</td>\n",
       "      <td>NaN</td>\n",
       "      <td>NaN</td>\n",
       "      <td>NaN</td>\n",
       "      <td>NaN</td>\n",
       "      <td>0.0</td>\n",
       "    </tr>\n",
       "    <tr>\n",
       "      <th>6523</th>\n",
       "      <td>2834-JKOOW</td>\n",
       "      <td>Female</td>\n",
       "      <td>0</td>\n",
       "      <td>0</td>\n",
       "      <td>0</td>\n",
       "      <td>2018-11-01</td>\n",
       "      <td>No</td>\n",
       "      <td>One year</td>\n",
       "      <td>0</td>\n",
       "      <td>Mailed check</td>\n",
       "      <td>45.90</td>\n",
       "      <td>688.5</td>\n",
       "      <td>DSL</td>\n",
       "      <td>1.0</td>\n",
       "      <td>1.0</td>\n",
       "      <td>1.0</td>\n",
       "      <td>1.0</td>\n",
       "      <td>0.0</td>\n",
       "      <td>0.0</td>\n",
       "      <td>NaN</td>\n",
       "    </tr>\n",
       "    <tr>\n",
       "      <th>3411</th>\n",
       "      <td>7056-IMHCC</td>\n",
       "      <td>Male</td>\n",
       "      <td>1</td>\n",
       "      <td>1</td>\n",
       "      <td>0</td>\n",
       "      <td>2015-05-01</td>\n",
       "      <td>2017-08-01</td>\n",
       "      <td>Month-to-month</td>\n",
       "      <td>1</td>\n",
       "      <td>Electronic check</td>\n",
       "      <td>101.90</td>\n",
       "      <td>3026.43</td>\n",
       "      <td>Fiber optic</td>\n",
       "      <td>0.0</td>\n",
       "      <td>1.0</td>\n",
       "      <td>0.0</td>\n",
       "      <td>0.0</td>\n",
       "      <td>1.0</td>\n",
       "      <td>1.0</td>\n",
       "      <td>1.0</td>\n",
       "    </tr>\n",
       "    <tr>\n",
       "      <th>716</th>\n",
       "      <td>0114-IGABW</td>\n",
       "      <td>Female</td>\n",
       "      <td>0</td>\n",
       "      <td>1</td>\n",
       "      <td>0</td>\n",
       "      <td>2014-03-01</td>\n",
       "      <td>2016-11-01</td>\n",
       "      <td>Two year</td>\n",
       "      <td>0</td>\n",
       "      <td>Bank transfer (automatic)</td>\n",
       "      <td>58.25</td>\n",
       "      <td>1975.84</td>\n",
       "      <td>DSL</td>\n",
       "      <td>0.0</td>\n",
       "      <td>1.0</td>\n",
       "      <td>1.0</td>\n",
       "      <td>1.0</td>\n",
       "      <td>1.0</td>\n",
       "      <td>1.0</td>\n",
       "      <td>NaN</td>\n",
       "    </tr>\n",
       "    <tr>\n",
       "      <th>1932</th>\n",
       "      <td>3247-MHJKM</td>\n",
       "      <td>Male</td>\n",
       "      <td>0</td>\n",
       "      <td>0</td>\n",
       "      <td>0</td>\n",
       "      <td>2020-01-01</td>\n",
       "      <td>No</td>\n",
       "      <td>Month-to-month</td>\n",
       "      <td>0</td>\n",
       "      <td>Mailed check</td>\n",
       "      <td>20.20</td>\n",
       "      <td>20.81</td>\n",
       "      <td>NaN</td>\n",
       "      <td>NaN</td>\n",
       "      <td>NaN</td>\n",
       "      <td>NaN</td>\n",
       "      <td>NaN</td>\n",
       "      <td>NaN</td>\n",
       "      <td>NaN</td>\n",
       "      <td>0.0</td>\n",
       "    </tr>\n",
       "    <tr>\n",
       "      <th>4071</th>\n",
       "      <td>6537-QLGEX</td>\n",
       "      <td>Female</td>\n",
       "      <td>0</td>\n",
       "      <td>0</td>\n",
       "      <td>0</td>\n",
       "      <td>2018-10-01</td>\n",
       "      <td>No</td>\n",
       "      <td>Month-to-month</td>\n",
       "      <td>1</td>\n",
       "      <td>Electronic check</td>\n",
       "      <td>38.90</td>\n",
       "      <td>622.4</td>\n",
       "      <td>DSL</td>\n",
       "      <td>1.0</td>\n",
       "      <td>0.0</td>\n",
       "      <td>0.0</td>\n",
       "      <td>0.0</td>\n",
       "      <td>1.0</td>\n",
       "      <td>0.0</td>\n",
       "      <td>NaN</td>\n",
       "    </tr>\n",
       "  </tbody>\n",
       "</table>\n",
       "</div>"
      ],
      "text/plain": [
       "      customerID  gender  SeniorCitizen  Partner  Dependents   BeginDate  \\\n",
       "1039  9948-YPTDG    Male              0        1           0  2016-10-01   \n",
       "6450  4609-KNNWG  Female              0        1           1  2017-11-01   \n",
       "6523  2834-JKOOW  Female              0        0           0  2018-11-01   \n",
       "3411  7056-IMHCC    Male              1        1           0  2015-05-01   \n",
       "716   0114-IGABW  Female              0        1           0  2014-03-01   \n",
       "1932  3247-MHJKM    Male              0        0           0  2020-01-01   \n",
       "4071  6537-QLGEX  Female              0        0           0  2018-10-01   \n",
       "\n",
       "         EndDate            Type  PaperlessBilling              PaymentMethod  \\\n",
       "1039  2019-03-01  Month-to-month                 1           Electronic check   \n",
       "6450          No        Two year                 0               Mailed check   \n",
       "6523          No        One year                 0               Mailed check   \n",
       "3411  2017-08-01  Month-to-month                 1           Electronic check   \n",
       "716   2016-11-01        Two year                 0  Bank transfer (automatic)   \n",
       "1932          No  Month-to-month                 0               Mailed check   \n",
       "4071          No  Month-to-month                 1           Electronic check   \n",
       "\n",
       "      MonthlyCharges TotalCharges InternetService  OnlineSecurity  \\\n",
       "1039           79.45      2419.25     Fiber optic             1.0   \n",
       "6450           19.90       585.66             NaN             NaN   \n",
       "6523           45.90        688.5             DSL             1.0   \n",
       "3411          101.90      3026.43     Fiber optic             0.0   \n",
       "716            58.25      1975.84             DSL             0.0   \n",
       "1932           20.20        20.81             NaN             NaN   \n",
       "4071           38.90        622.4             DSL             1.0   \n",
       "\n",
       "      OnlineBackup  DeviceProtection  TechSupport  StreamingTV  \\\n",
       "1039           1.0               0.0          0.0          0.0   \n",
       "6450           NaN               NaN          NaN          NaN   \n",
       "6523           1.0               1.0          1.0          0.0   \n",
       "3411           1.0               0.0          0.0          1.0   \n",
       "716            1.0               1.0          1.0          1.0   \n",
       "1932           NaN               NaN          NaN          NaN   \n",
       "4071           0.0               0.0          0.0          1.0   \n",
       "\n",
       "      StreamingMovies  MultipleLines  \n",
       "1039              0.0            0.0  \n",
       "6450              NaN            0.0  \n",
       "6523              0.0            NaN  \n",
       "3411              1.0            1.0  \n",
       "716               1.0            NaN  \n",
       "1932              NaN            0.0  \n",
       "4071              0.0            NaN  "
      ]
     },
     "execution_count": 22,
     "metadata": {},
     "output_type": "execute_result"
    }
   ],
   "source": [
    "oe_encode = ['Partner','Dependents','PaperlessBilling', \n",
    "             'OnlineSecurity', 'OnlineBackup', 'DeviceProtection', \n",
    "             'TechSupport','StreamingTV', 'StreamingMovies', 'MultipleLines' ]\n",
    "for i in oe_encode:\n",
    "    df[i] = df[i].apply(true_false)\n",
    "\n",
    "df.sample(7)"
   ]
  },
  {
   "cell_type": "markdown",
   "metadata": {},
   "source": [
    "**Выделение таргета**"
   ]
  },
  {
   "cell_type": "code",
   "execution_count": 23,
   "metadata": {},
   "outputs": [],
   "source": [
    "def target(x):\n",
    "    if x == 'No':\n",
    "        return 0\n",
    "    else:\n",
    "        return 1"
   ]
  },
  {
   "cell_type": "code",
   "execution_count": 24,
   "metadata": {},
   "outputs": [
    {
     "data": {
      "text/html": [
       "<div>\n",
       "<style scoped>\n",
       "    .dataframe tbody tr th:only-of-type {\n",
       "        vertical-align: middle;\n",
       "    }\n",
       "\n",
       "    .dataframe tbody tr th {\n",
       "        vertical-align: top;\n",
       "    }\n",
       "\n",
       "    .dataframe thead th {\n",
       "        text-align: right;\n",
       "    }\n",
       "</style>\n",
       "<table border=\"1\" class=\"dataframe\">\n",
       "  <thead>\n",
       "    <tr style=\"text-align: right;\">\n",
       "      <th></th>\n",
       "      <th>customerID</th>\n",
       "      <th>gender</th>\n",
       "      <th>SeniorCitizen</th>\n",
       "      <th>Partner</th>\n",
       "      <th>Dependents</th>\n",
       "      <th>BeginDate</th>\n",
       "      <th>EndDate</th>\n",
       "      <th>Type</th>\n",
       "      <th>PaperlessBilling</th>\n",
       "      <th>PaymentMethod</th>\n",
       "      <th>...</th>\n",
       "      <th>TotalCharges</th>\n",
       "      <th>InternetService</th>\n",
       "      <th>OnlineSecurity</th>\n",
       "      <th>OnlineBackup</th>\n",
       "      <th>DeviceProtection</th>\n",
       "      <th>TechSupport</th>\n",
       "      <th>StreamingTV</th>\n",
       "      <th>StreamingMovies</th>\n",
       "      <th>MultipleLines</th>\n",
       "      <th>Target</th>\n",
       "    </tr>\n",
       "  </thead>\n",
       "  <tbody>\n",
       "    <tr>\n",
       "      <th>3741</th>\n",
       "      <td>2984-TBYKU</td>\n",
       "      <td>Male</td>\n",
       "      <td>0</td>\n",
       "      <td>1</td>\n",
       "      <td>1</td>\n",
       "      <td>2014-02-01</td>\n",
       "      <td>2017-09-01</td>\n",
       "      <td>Two year</td>\n",
       "      <td>1</td>\n",
       "      <td>Credit card (automatic)</td>\n",
       "      <td>...</td>\n",
       "      <td>4781.34</td>\n",
       "      <td>Fiber optic</td>\n",
       "      <td>1.0</td>\n",
       "      <td>1.0</td>\n",
       "      <td>1.0</td>\n",
       "      <td>1.0</td>\n",
       "      <td>0.0</td>\n",
       "      <td>1.0</td>\n",
       "      <td>1.0</td>\n",
       "      <td>1</td>\n",
       "    </tr>\n",
       "    <tr>\n",
       "      <th>993</th>\n",
       "      <td>9108-EQPNQ</td>\n",
       "      <td>Female</td>\n",
       "      <td>0</td>\n",
       "      <td>1</td>\n",
       "      <td>1</td>\n",
       "      <td>2019-04-01</td>\n",
       "      <td>No</td>\n",
       "      <td>Two year</td>\n",
       "      <td>0</td>\n",
       "      <td>Credit card (automatic)</td>\n",
       "      <td>...</td>\n",
       "      <td>281.88</td>\n",
       "      <td>NaN</td>\n",
       "      <td>NaN</td>\n",
       "      <td>NaN</td>\n",
       "      <td>NaN</td>\n",
       "      <td>NaN</td>\n",
       "      <td>NaN</td>\n",
       "      <td>NaN</td>\n",
       "      <td>1.0</td>\n",
       "      <td>0</td>\n",
       "    </tr>\n",
       "    <tr>\n",
       "      <th>5216</th>\n",
       "      <td>3034-ZBEQN</td>\n",
       "      <td>Female</td>\n",
       "      <td>0</td>\n",
       "      <td>1</td>\n",
       "      <td>0</td>\n",
       "      <td>2016-01-01</td>\n",
       "      <td>2018-09-01</td>\n",
       "      <td>One year</td>\n",
       "      <td>0</td>\n",
       "      <td>Mailed check</td>\n",
       "      <td>...</td>\n",
       "      <td>1177.02</td>\n",
       "      <td>DSL</td>\n",
       "      <td>0.0</td>\n",
       "      <td>1.0</td>\n",
       "      <td>1.0</td>\n",
       "      <td>0.0</td>\n",
       "      <td>0.0</td>\n",
       "      <td>0.0</td>\n",
       "      <td>NaN</td>\n",
       "      <td>1</td>\n",
       "    </tr>\n",
       "    <tr>\n",
       "      <th>3337</th>\n",
       "      <td>0840-DFEZH</td>\n",
       "      <td>Female</td>\n",
       "      <td>0</td>\n",
       "      <td>0</td>\n",
       "      <td>0</td>\n",
       "      <td>2019-07-01</td>\n",
       "      <td>No</td>\n",
       "      <td>Month-to-month</td>\n",
       "      <td>1</td>\n",
       "      <td>Electronic check</td>\n",
       "      <td>...</td>\n",
       "      <td>527.45</td>\n",
       "      <td>Fiber optic</td>\n",
       "      <td>0.0</td>\n",
       "      <td>0.0</td>\n",
       "      <td>0.0</td>\n",
       "      <td>0.0</td>\n",
       "      <td>0.0</td>\n",
       "      <td>0.0</td>\n",
       "      <td>1.0</td>\n",
       "      <td>0</td>\n",
       "    </tr>\n",
       "    <tr>\n",
       "      <th>6056</th>\n",
       "      <td>8331-ZXFOE</td>\n",
       "      <td>Female</td>\n",
       "      <td>0</td>\n",
       "      <td>0</td>\n",
       "      <td>0</td>\n",
       "      <td>2015-04-01</td>\n",
       "      <td>No</td>\n",
       "      <td>One year</td>\n",
       "      <td>1</td>\n",
       "      <td>Credit card (automatic)</td>\n",
       "      <td>...</td>\n",
       "      <td>4165.04</td>\n",
       "      <td>DSL</td>\n",
       "      <td>1.0</td>\n",
       "      <td>1.0</td>\n",
       "      <td>1.0</td>\n",
       "      <td>1.0</td>\n",
       "      <td>0.0</td>\n",
       "      <td>0.0</td>\n",
       "      <td>1.0</td>\n",
       "      <td>0</td>\n",
       "    </tr>\n",
       "    <tr>\n",
       "      <th>3751</th>\n",
       "      <td>2522-AHJXR</td>\n",
       "      <td>Male</td>\n",
       "      <td>0</td>\n",
       "      <td>1</td>\n",
       "      <td>0</td>\n",
       "      <td>2015-02-01</td>\n",
       "      <td>2016-11-01</td>\n",
       "      <td>Month-to-month</td>\n",
       "      <td>1</td>\n",
       "      <td>Bank transfer (automatic)</td>\n",
       "      <td>...</td>\n",
       "      <td>2436.36</td>\n",
       "      <td>Fiber optic</td>\n",
       "      <td>1.0</td>\n",
       "      <td>0.0</td>\n",
       "      <td>1.0</td>\n",
       "      <td>1.0</td>\n",
       "      <td>1.0</td>\n",
       "      <td>1.0</td>\n",
       "      <td>1.0</td>\n",
       "      <td>1</td>\n",
       "    </tr>\n",
       "    <tr>\n",
       "      <th>3621</th>\n",
       "      <td>2933-FILNV</td>\n",
       "      <td>Female</td>\n",
       "      <td>0</td>\n",
       "      <td>1</td>\n",
       "      <td>1</td>\n",
       "      <td>2019-11-01</td>\n",
       "      <td>No</td>\n",
       "      <td>Month-to-month</td>\n",
       "      <td>1</td>\n",
       "      <td>Mailed check</td>\n",
       "      <td>...</td>\n",
       "      <td>73.2</td>\n",
       "      <td>DSL</td>\n",
       "      <td>0.0</td>\n",
       "      <td>0.0</td>\n",
       "      <td>0.0</td>\n",
       "      <td>0.0</td>\n",
       "      <td>0.0</td>\n",
       "      <td>0.0</td>\n",
       "      <td>NaN</td>\n",
       "      <td>0</td>\n",
       "    </tr>\n",
       "  </tbody>\n",
       "</table>\n",
       "<p>7 rows × 21 columns</p>\n",
       "</div>"
      ],
      "text/plain": [
       "      customerID  gender  SeniorCitizen  Partner  Dependents   BeginDate  \\\n",
       "3741  2984-TBYKU    Male              0        1           1  2014-02-01   \n",
       "993   9108-EQPNQ  Female              0        1           1  2019-04-01   \n",
       "5216  3034-ZBEQN  Female              0        1           0  2016-01-01   \n",
       "3337  0840-DFEZH  Female              0        0           0  2019-07-01   \n",
       "6056  8331-ZXFOE  Female              0        0           0  2015-04-01   \n",
       "3751  2522-AHJXR    Male              0        1           0  2015-02-01   \n",
       "3621  2933-FILNV  Female              0        1           1  2019-11-01   \n",
       "\n",
       "         EndDate            Type  PaperlessBilling              PaymentMethod  \\\n",
       "3741  2017-09-01        Two year                 1    Credit card (automatic)   \n",
       "993           No        Two year                 0    Credit card (automatic)   \n",
       "5216  2018-09-01        One year                 0               Mailed check   \n",
       "3337          No  Month-to-month                 1           Electronic check   \n",
       "6056          No        One year                 1    Credit card (automatic)   \n",
       "3751  2016-11-01  Month-to-month                 1  Bank transfer (automatic)   \n",
       "3621          No  Month-to-month                 1               Mailed check   \n",
       "\n",
       "      ...  TotalCharges InternetService OnlineSecurity  OnlineBackup  \\\n",
       "3741  ...       4781.34     Fiber optic            1.0           1.0   \n",
       "993   ...        281.88             NaN            NaN           NaN   \n",
       "5216  ...       1177.02             DSL            0.0           1.0   \n",
       "3337  ...        527.45     Fiber optic            0.0           0.0   \n",
       "6056  ...       4165.04             DSL            1.0           1.0   \n",
       "3751  ...       2436.36     Fiber optic            1.0           0.0   \n",
       "3621  ...          73.2             DSL            0.0           0.0   \n",
       "\n",
       "      DeviceProtection  TechSupport  StreamingTV  StreamingMovies  \\\n",
       "3741               1.0          1.0          0.0              1.0   \n",
       "993                NaN          NaN          NaN              NaN   \n",
       "5216               1.0          0.0          0.0              0.0   \n",
       "3337               0.0          0.0          0.0              0.0   \n",
       "6056               1.0          1.0          0.0              0.0   \n",
       "3751               1.0          1.0          1.0              1.0   \n",
       "3621               0.0          0.0          0.0              0.0   \n",
       "\n",
       "      MultipleLines  Target  \n",
       "3741            1.0       1  \n",
       "993             1.0       0  \n",
       "5216            NaN       1  \n",
       "3337            1.0       0  \n",
       "6056            1.0       0  \n",
       "3751            1.0       1  \n",
       "3621            NaN       0  \n",
       "\n",
       "[7 rows x 21 columns]"
      ]
     },
     "execution_count": 24,
     "metadata": {},
     "output_type": "execute_result"
    }
   ],
   "source": [
    "df['Target'] = df['EndDate'].apply(target)\n",
    "df.sample(7)"
   ]
  },
  {
   "cell_type": "code",
   "execution_count": 25,
   "metadata": {},
   "outputs": [
    {
     "data": {
      "text/html": [
       "<div>\n",
       "<style scoped>\n",
       "    .dataframe tbody tr th:only-of-type {\n",
       "        vertical-align: middle;\n",
       "    }\n",
       "\n",
       "    .dataframe tbody tr th {\n",
       "        vertical-align: top;\n",
       "    }\n",
       "\n",
       "    .dataframe thead th {\n",
       "        text-align: right;\n",
       "    }\n",
       "</style>\n",
       "<table border=\"1\" class=\"dataframe\">\n",
       "  <thead>\n",
       "    <tr style=\"text-align: right;\">\n",
       "      <th></th>\n",
       "      <th>MonthlyCharges</th>\n",
       "      <th>Target</th>\n",
       "    </tr>\n",
       "  </thead>\n",
       "  <tbody>\n",
       "    <tr>\n",
       "      <th>MonthlyCharges</th>\n",
       "      <td>1.000000</td>\n",
       "      <td>0.154286</td>\n",
       "    </tr>\n",
       "    <tr>\n",
       "      <th>Target</th>\n",
       "      <td>0.154286</td>\n",
       "      <td>1.000000</td>\n",
       "    </tr>\n",
       "  </tbody>\n",
       "</table>\n",
       "</div>"
      ],
      "text/plain": [
       "                MonthlyCharges    Target\n",
       "MonthlyCharges        1.000000  0.154286\n",
       "Target                0.154286  1.000000"
      ]
     },
     "execution_count": 25,
     "metadata": {},
     "output_type": "execute_result"
    }
   ],
   "source": [
    "selected_cols = ['TotalCharges', 'MonthlyCharges','Target' ]\n",
    "corr_matrix = df[selected_cols].corr()\n",
    "corr_matrix "
   ]
  },
  {
   "cell_type": "markdown",
   "metadata": {},
   "source": [
    "**Котрольная доля отточников**"
   ]
  },
  {
   "cell_type": "code",
   "execution_count": 26,
   "metadata": {},
   "outputs": [
    {
     "name": "stdout",
     "output_type": "stream",
     "text": [
      "Доля отточников в датафрейме 15.63%\n"
     ]
    }
   ],
   "source": [
    "print(f'Доля отточников в датафрейме {round(df[\"Target\"].mean() *100, 2)}%')"
   ]
  },
  {
   "cell_type": "markdown",
   "metadata": {},
   "source": [
    "**Пропуски**"
   ]
  },
  {
   "cell_type": "code",
   "execution_count": 27,
   "metadata": {},
   "outputs": [
    {
     "data": {
      "text/html": [
       "<style  type=\"text/css\" >\n",
       "#T_01010_row0_col0,#T_01010_row1_col0,#T_01010_row2_col0,#T_01010_row3_col0,#T_01010_row4_col0,#T_01010_row5_col0,#T_01010_row6_col0,#T_01010_row7_col0,#T_01010_row8_col0,#T_01010_row9_col0,#T_01010_row10_col0,#T_01010_row11_col0,#T_01010_row20_col0{\n",
       "            background-color:  #000000;\n",
       "            color:  #f1f1f1;\n",
       "        }#T_01010_row12_col0,#T_01010_row13_col0,#T_01010_row14_col0,#T_01010_row15_col0,#T_01010_row16_col0,#T_01010_row17_col0,#T_01010_row18_col0{\n",
       "            background-color:  #ffff00;\n",
       "            color:  #000000;\n",
       "        }#T_01010_row19_col0{\n",
       "            background-color:  #aa1753;\n",
       "            color:  #f1f1f1;\n",
       "        }</style><table id=\"T_01010_\" ><thead>    <tr>        <th class=\"blank level0\" ></th>        <th class=\"col_heading level0 col0\" >0</th>    </tr></thead><tbody>\n",
       "                <tr>\n",
       "                        <th id=\"T_01010_level0_row0\" class=\"row_heading level0 row0\" >customerID</th>\n",
       "                        <td id=\"T_01010_row0_col0\" class=\"data row0 col0\" >0.000000</td>\n",
       "            </tr>\n",
       "            <tr>\n",
       "                        <th id=\"T_01010_level0_row1\" class=\"row_heading level0 row1\" >gender</th>\n",
       "                        <td id=\"T_01010_row1_col0\" class=\"data row1 col0\" >0.000000</td>\n",
       "            </tr>\n",
       "            <tr>\n",
       "                        <th id=\"T_01010_level0_row2\" class=\"row_heading level0 row2\" >SeniorCitizen</th>\n",
       "                        <td id=\"T_01010_row2_col0\" class=\"data row2 col0\" >0.000000</td>\n",
       "            </tr>\n",
       "            <tr>\n",
       "                        <th id=\"T_01010_level0_row3\" class=\"row_heading level0 row3\" >Partner</th>\n",
       "                        <td id=\"T_01010_row3_col0\" class=\"data row3 col0\" >0.000000</td>\n",
       "            </tr>\n",
       "            <tr>\n",
       "                        <th id=\"T_01010_level0_row4\" class=\"row_heading level0 row4\" >Dependents</th>\n",
       "                        <td id=\"T_01010_row4_col0\" class=\"data row4 col0\" >0.000000</td>\n",
       "            </tr>\n",
       "            <tr>\n",
       "                        <th id=\"T_01010_level0_row5\" class=\"row_heading level0 row5\" >BeginDate</th>\n",
       "                        <td id=\"T_01010_row5_col0\" class=\"data row5 col0\" >0.000000</td>\n",
       "            </tr>\n",
       "            <tr>\n",
       "                        <th id=\"T_01010_level0_row6\" class=\"row_heading level0 row6\" >EndDate</th>\n",
       "                        <td id=\"T_01010_row6_col0\" class=\"data row6 col0\" >0.000000</td>\n",
       "            </tr>\n",
       "            <tr>\n",
       "                        <th id=\"T_01010_level0_row7\" class=\"row_heading level0 row7\" >Type</th>\n",
       "                        <td id=\"T_01010_row7_col0\" class=\"data row7 col0\" >0.000000</td>\n",
       "            </tr>\n",
       "            <tr>\n",
       "                        <th id=\"T_01010_level0_row8\" class=\"row_heading level0 row8\" >PaperlessBilling</th>\n",
       "                        <td id=\"T_01010_row8_col0\" class=\"data row8 col0\" >0.000000</td>\n",
       "            </tr>\n",
       "            <tr>\n",
       "                        <th id=\"T_01010_level0_row9\" class=\"row_heading level0 row9\" >PaymentMethod</th>\n",
       "                        <td id=\"T_01010_row9_col0\" class=\"data row9 col0\" >0.000000</td>\n",
       "            </tr>\n",
       "            <tr>\n",
       "                        <th id=\"T_01010_level0_row10\" class=\"row_heading level0 row10\" >MonthlyCharges</th>\n",
       "                        <td id=\"T_01010_row10_col0\" class=\"data row10 col0\" >0.000000</td>\n",
       "            </tr>\n",
       "            <tr>\n",
       "                        <th id=\"T_01010_level0_row11\" class=\"row_heading level0 row11\" >TotalCharges</th>\n",
       "                        <td id=\"T_01010_row11_col0\" class=\"data row11 col0\" >0.000000</td>\n",
       "            </tr>\n",
       "            <tr>\n",
       "                        <th id=\"T_01010_level0_row12\" class=\"row_heading level0 row12\" >InternetService</th>\n",
       "                        <td id=\"T_01010_row12_col0\" class=\"data row12 col0\" >21.700000</td>\n",
       "            </tr>\n",
       "            <tr>\n",
       "                        <th id=\"T_01010_level0_row13\" class=\"row_heading level0 row13\" >OnlineSecurity</th>\n",
       "                        <td id=\"T_01010_row13_col0\" class=\"data row13 col0\" >21.700000</td>\n",
       "            </tr>\n",
       "            <tr>\n",
       "                        <th id=\"T_01010_level0_row14\" class=\"row_heading level0 row14\" >OnlineBackup</th>\n",
       "                        <td id=\"T_01010_row14_col0\" class=\"data row14 col0\" >21.700000</td>\n",
       "            </tr>\n",
       "            <tr>\n",
       "                        <th id=\"T_01010_level0_row15\" class=\"row_heading level0 row15\" >DeviceProtection</th>\n",
       "                        <td id=\"T_01010_row15_col0\" class=\"data row15 col0\" >21.700000</td>\n",
       "            </tr>\n",
       "            <tr>\n",
       "                        <th id=\"T_01010_level0_row16\" class=\"row_heading level0 row16\" >TechSupport</th>\n",
       "                        <td id=\"T_01010_row16_col0\" class=\"data row16 col0\" >21.700000</td>\n",
       "            </tr>\n",
       "            <tr>\n",
       "                        <th id=\"T_01010_level0_row17\" class=\"row_heading level0 row17\" >StreamingTV</th>\n",
       "                        <td id=\"T_01010_row17_col0\" class=\"data row17 col0\" >21.700000</td>\n",
       "            </tr>\n",
       "            <tr>\n",
       "                        <th id=\"T_01010_level0_row18\" class=\"row_heading level0 row18\" >StreamingMovies</th>\n",
       "                        <td id=\"T_01010_row18_col0\" class=\"data row18 col0\" >21.700000</td>\n",
       "            </tr>\n",
       "            <tr>\n",
       "                        <th id=\"T_01010_level0_row19\" class=\"row_heading level0 row19\" >MultipleLines</th>\n",
       "                        <td id=\"T_01010_row19_col0\" class=\"data row19 col0\" >9.700000</td>\n",
       "            </tr>\n",
       "            <tr>\n",
       "                        <th id=\"T_01010_level0_row20\" class=\"row_heading level0 row20\" >Target</th>\n",
       "                        <td id=\"T_01010_row20_col0\" class=\"data row20 col0\" >0.000000</td>\n",
       "            </tr>\n",
       "    </tbody></table>"
      ],
      "text/plain": [
       "<pandas.io.formats.style.Styler at 0x7f9b2accd430>"
      ]
     },
     "execution_count": 27,
     "metadata": {},
     "output_type": "execute_result"
    }
   ],
   "source": [
    "pd.DataFrame(round(df.isna().mean()*100,1)).style.background_gradient('gnuplot')"
   ]
  },
  {
   "cell_type": "markdown",
   "metadata": {},
   "source": []
  },
  {
   "cell_type": "markdown",
   "metadata": {},
   "source": [
    "**Общие сборы по клиенту**  \n",
    "\n",
    "Так как в поле с цифрами присутствуют строки их необходимо отфильтрова для дальнейшей работы."
   ]
  },
  {
   "cell_type": "code",
   "execution_count": 28,
   "metadata": {},
   "outputs": [
    {
     "data": {
      "text/plain": [
       "11"
      ]
     },
     "execution_count": 28,
     "metadata": {},
     "output_type": "execute_result"
    }
   ],
   "source": [
    "non_numeric_values = df[~pd.to_numeric(df['TotalCharges'], errors='coerce').notnull()]\n",
    "len(non_numeric_values)"
   ]
  },
  {
   "cell_type": "code",
   "execution_count": 29,
   "metadata": {},
   "outputs": [
    {
     "data": {
      "text/html": [
       "<div>\n",
       "<style scoped>\n",
       "    .dataframe tbody tr th:only-of-type {\n",
       "        vertical-align: middle;\n",
       "    }\n",
       "\n",
       "    .dataframe tbody tr th {\n",
       "        vertical-align: top;\n",
       "    }\n",
       "\n",
       "    .dataframe thead th {\n",
       "        text-align: right;\n",
       "    }\n",
       "</style>\n",
       "<table border=\"1\" class=\"dataframe\">\n",
       "  <thead>\n",
       "    <tr style=\"text-align: right;\">\n",
       "      <th></th>\n",
       "      <th>customerID</th>\n",
       "      <th>gender</th>\n",
       "      <th>SeniorCitizen</th>\n",
       "      <th>Partner</th>\n",
       "      <th>Dependents</th>\n",
       "      <th>BeginDate</th>\n",
       "      <th>EndDate</th>\n",
       "      <th>Type</th>\n",
       "      <th>PaperlessBilling</th>\n",
       "      <th>PaymentMethod</th>\n",
       "      <th>...</th>\n",
       "      <th>TotalCharges</th>\n",
       "      <th>InternetService</th>\n",
       "      <th>OnlineSecurity</th>\n",
       "      <th>OnlineBackup</th>\n",
       "      <th>DeviceProtection</th>\n",
       "      <th>TechSupport</th>\n",
       "      <th>StreamingTV</th>\n",
       "      <th>StreamingMovies</th>\n",
       "      <th>MultipleLines</th>\n",
       "      <th>Target</th>\n",
       "    </tr>\n",
       "  </thead>\n",
       "  <tbody>\n",
       "    <tr>\n",
       "      <th>488</th>\n",
       "      <td>4472-LVYGI</td>\n",
       "      <td>Female</td>\n",
       "      <td>0</td>\n",
       "      <td>1</td>\n",
       "      <td>1</td>\n",
       "      <td>2020-02-01</td>\n",
       "      <td>No</td>\n",
       "      <td>Two year</td>\n",
       "      <td>1</td>\n",
       "      <td>Bank transfer (automatic)</td>\n",
       "      <td>...</td>\n",
       "      <td></td>\n",
       "      <td>DSL</td>\n",
       "      <td>1.0</td>\n",
       "      <td>0.0</td>\n",
       "      <td>1.0</td>\n",
       "      <td>1.0</td>\n",
       "      <td>1.0</td>\n",
       "      <td>0.0</td>\n",
       "      <td>NaN</td>\n",
       "      <td>0</td>\n",
       "    </tr>\n",
       "    <tr>\n",
       "      <th>753</th>\n",
       "      <td>3115-CZMZD</td>\n",
       "      <td>Male</td>\n",
       "      <td>0</td>\n",
       "      <td>0</td>\n",
       "      <td>1</td>\n",
       "      <td>2020-02-01</td>\n",
       "      <td>No</td>\n",
       "      <td>Two year</td>\n",
       "      <td>0</td>\n",
       "      <td>Mailed check</td>\n",
       "      <td>...</td>\n",
       "      <td></td>\n",
       "      <td>NaN</td>\n",
       "      <td>NaN</td>\n",
       "      <td>NaN</td>\n",
       "      <td>NaN</td>\n",
       "      <td>NaN</td>\n",
       "      <td>NaN</td>\n",
       "      <td>NaN</td>\n",
       "      <td>0.0</td>\n",
       "      <td>0</td>\n",
       "    </tr>\n",
       "    <tr>\n",
       "      <th>936</th>\n",
       "      <td>5709-LVOEQ</td>\n",
       "      <td>Female</td>\n",
       "      <td>0</td>\n",
       "      <td>1</td>\n",
       "      <td>1</td>\n",
       "      <td>2020-02-01</td>\n",
       "      <td>No</td>\n",
       "      <td>Two year</td>\n",
       "      <td>0</td>\n",
       "      <td>Mailed check</td>\n",
       "      <td>...</td>\n",
       "      <td></td>\n",
       "      <td>DSL</td>\n",
       "      <td>1.0</td>\n",
       "      <td>1.0</td>\n",
       "      <td>1.0</td>\n",
       "      <td>0.0</td>\n",
       "      <td>1.0</td>\n",
       "      <td>1.0</td>\n",
       "      <td>0.0</td>\n",
       "      <td>0</td>\n",
       "    </tr>\n",
       "    <tr>\n",
       "      <th>1082</th>\n",
       "      <td>4367-NUYAO</td>\n",
       "      <td>Male</td>\n",
       "      <td>0</td>\n",
       "      <td>1</td>\n",
       "      <td>1</td>\n",
       "      <td>2020-02-01</td>\n",
       "      <td>No</td>\n",
       "      <td>Two year</td>\n",
       "      <td>0</td>\n",
       "      <td>Mailed check</td>\n",
       "      <td>...</td>\n",
       "      <td></td>\n",
       "      <td>NaN</td>\n",
       "      <td>NaN</td>\n",
       "      <td>NaN</td>\n",
       "      <td>NaN</td>\n",
       "      <td>NaN</td>\n",
       "      <td>NaN</td>\n",
       "      <td>NaN</td>\n",
       "      <td>1.0</td>\n",
       "      <td>0</td>\n",
       "    </tr>\n",
       "    <tr>\n",
       "      <th>1340</th>\n",
       "      <td>1371-DWPAZ</td>\n",
       "      <td>Female</td>\n",
       "      <td>0</td>\n",
       "      <td>1</td>\n",
       "      <td>1</td>\n",
       "      <td>2020-02-01</td>\n",
       "      <td>No</td>\n",
       "      <td>Two year</td>\n",
       "      <td>0</td>\n",
       "      <td>Credit card (automatic)</td>\n",
       "      <td>...</td>\n",
       "      <td></td>\n",
       "      <td>DSL</td>\n",
       "      <td>1.0</td>\n",
       "      <td>1.0</td>\n",
       "      <td>1.0</td>\n",
       "      <td>1.0</td>\n",
       "      <td>1.0</td>\n",
       "      <td>0.0</td>\n",
       "      <td>NaN</td>\n",
       "      <td>0</td>\n",
       "    </tr>\n",
       "    <tr>\n",
       "      <th>3331</th>\n",
       "      <td>7644-OMVMY</td>\n",
       "      <td>Male</td>\n",
       "      <td>0</td>\n",
       "      <td>1</td>\n",
       "      <td>1</td>\n",
       "      <td>2020-02-01</td>\n",
       "      <td>No</td>\n",
       "      <td>Two year</td>\n",
       "      <td>0</td>\n",
       "      <td>Mailed check</td>\n",
       "      <td>...</td>\n",
       "      <td></td>\n",
       "      <td>NaN</td>\n",
       "      <td>NaN</td>\n",
       "      <td>NaN</td>\n",
       "      <td>NaN</td>\n",
       "      <td>NaN</td>\n",
       "      <td>NaN</td>\n",
       "      <td>NaN</td>\n",
       "      <td>0.0</td>\n",
       "      <td>0</td>\n",
       "    </tr>\n",
       "    <tr>\n",
       "      <th>3826</th>\n",
       "      <td>3213-VVOLG</td>\n",
       "      <td>Male</td>\n",
       "      <td>0</td>\n",
       "      <td>1</td>\n",
       "      <td>1</td>\n",
       "      <td>2020-02-01</td>\n",
       "      <td>No</td>\n",
       "      <td>Two year</td>\n",
       "      <td>0</td>\n",
       "      <td>Mailed check</td>\n",
       "      <td>...</td>\n",
       "      <td></td>\n",
       "      <td>NaN</td>\n",
       "      <td>NaN</td>\n",
       "      <td>NaN</td>\n",
       "      <td>NaN</td>\n",
       "      <td>NaN</td>\n",
       "      <td>NaN</td>\n",
       "      <td>NaN</td>\n",
       "      <td>1.0</td>\n",
       "      <td>0</td>\n",
       "    </tr>\n",
       "    <tr>\n",
       "      <th>4380</th>\n",
       "      <td>2520-SGTTA</td>\n",
       "      <td>Female</td>\n",
       "      <td>0</td>\n",
       "      <td>1</td>\n",
       "      <td>1</td>\n",
       "      <td>2020-02-01</td>\n",
       "      <td>No</td>\n",
       "      <td>Two year</td>\n",
       "      <td>0</td>\n",
       "      <td>Mailed check</td>\n",
       "      <td>...</td>\n",
       "      <td></td>\n",
       "      <td>NaN</td>\n",
       "      <td>NaN</td>\n",
       "      <td>NaN</td>\n",
       "      <td>NaN</td>\n",
       "      <td>NaN</td>\n",
       "      <td>NaN</td>\n",
       "      <td>NaN</td>\n",
       "      <td>0.0</td>\n",
       "      <td>0</td>\n",
       "    </tr>\n",
       "    <tr>\n",
       "      <th>5218</th>\n",
       "      <td>2923-ARZLG</td>\n",
       "      <td>Male</td>\n",
       "      <td>0</td>\n",
       "      <td>1</td>\n",
       "      <td>1</td>\n",
       "      <td>2020-02-01</td>\n",
       "      <td>No</td>\n",
       "      <td>One year</td>\n",
       "      <td>1</td>\n",
       "      <td>Mailed check</td>\n",
       "      <td>...</td>\n",
       "      <td></td>\n",
       "      <td>NaN</td>\n",
       "      <td>NaN</td>\n",
       "      <td>NaN</td>\n",
       "      <td>NaN</td>\n",
       "      <td>NaN</td>\n",
       "      <td>NaN</td>\n",
       "      <td>NaN</td>\n",
       "      <td>0.0</td>\n",
       "      <td>0</td>\n",
       "    </tr>\n",
       "    <tr>\n",
       "      <th>6670</th>\n",
       "      <td>4075-WKNIU</td>\n",
       "      <td>Female</td>\n",
       "      <td>0</td>\n",
       "      <td>1</td>\n",
       "      <td>1</td>\n",
       "      <td>2020-02-01</td>\n",
       "      <td>No</td>\n",
       "      <td>Two year</td>\n",
       "      <td>0</td>\n",
       "      <td>Mailed check</td>\n",
       "      <td>...</td>\n",
       "      <td></td>\n",
       "      <td>DSL</td>\n",
       "      <td>0.0</td>\n",
       "      <td>1.0</td>\n",
       "      <td>1.0</td>\n",
       "      <td>1.0</td>\n",
       "      <td>1.0</td>\n",
       "      <td>0.0</td>\n",
       "      <td>1.0</td>\n",
       "      <td>0</td>\n",
       "    </tr>\n",
       "    <tr>\n",
       "      <th>6754</th>\n",
       "      <td>2775-SEFEE</td>\n",
       "      <td>Male</td>\n",
       "      <td>0</td>\n",
       "      <td>0</td>\n",
       "      <td>1</td>\n",
       "      <td>2020-02-01</td>\n",
       "      <td>No</td>\n",
       "      <td>Two year</td>\n",
       "      <td>1</td>\n",
       "      <td>Bank transfer (automatic)</td>\n",
       "      <td>...</td>\n",
       "      <td></td>\n",
       "      <td>DSL</td>\n",
       "      <td>1.0</td>\n",
       "      <td>1.0</td>\n",
       "      <td>0.0</td>\n",
       "      <td>1.0</td>\n",
       "      <td>0.0</td>\n",
       "      <td>0.0</td>\n",
       "      <td>1.0</td>\n",
       "      <td>0</td>\n",
       "    </tr>\n",
       "  </tbody>\n",
       "</table>\n",
       "<p>11 rows × 21 columns</p>\n",
       "</div>"
      ],
      "text/plain": [
       "      customerID  gender  SeniorCitizen  Partner  Dependents   BeginDate  \\\n",
       "488   4472-LVYGI  Female              0        1           1  2020-02-01   \n",
       "753   3115-CZMZD    Male              0        0           1  2020-02-01   \n",
       "936   5709-LVOEQ  Female              0        1           1  2020-02-01   \n",
       "1082  4367-NUYAO    Male              0        1           1  2020-02-01   \n",
       "1340  1371-DWPAZ  Female              0        1           1  2020-02-01   \n",
       "3331  7644-OMVMY    Male              0        1           1  2020-02-01   \n",
       "3826  3213-VVOLG    Male              0        1           1  2020-02-01   \n",
       "4380  2520-SGTTA  Female              0        1           1  2020-02-01   \n",
       "5218  2923-ARZLG    Male              0        1           1  2020-02-01   \n",
       "6670  4075-WKNIU  Female              0        1           1  2020-02-01   \n",
       "6754  2775-SEFEE    Male              0        0           1  2020-02-01   \n",
       "\n",
       "     EndDate      Type  PaperlessBilling              PaymentMethod  ...  \\\n",
       "488       No  Two year                 1  Bank transfer (automatic)  ...   \n",
       "753       No  Two year                 0               Mailed check  ...   \n",
       "936       No  Two year                 0               Mailed check  ...   \n",
       "1082      No  Two year                 0               Mailed check  ...   \n",
       "1340      No  Two year                 0    Credit card (automatic)  ...   \n",
       "3331      No  Two year                 0               Mailed check  ...   \n",
       "3826      No  Two year                 0               Mailed check  ...   \n",
       "4380      No  Two year                 0               Mailed check  ...   \n",
       "5218      No  One year                 1               Mailed check  ...   \n",
       "6670      No  Two year                 0               Mailed check  ...   \n",
       "6754      No  Two year                 1  Bank transfer (automatic)  ...   \n",
       "\n",
       "      TotalCharges InternetService OnlineSecurity  OnlineBackup  \\\n",
       "488                            DSL            1.0           0.0   \n",
       "753                            NaN            NaN           NaN   \n",
       "936                            DSL            1.0           1.0   \n",
       "1082                           NaN            NaN           NaN   \n",
       "1340                           DSL            1.0           1.0   \n",
       "3331                           NaN            NaN           NaN   \n",
       "3826                           NaN            NaN           NaN   \n",
       "4380                           NaN            NaN           NaN   \n",
       "5218                           NaN            NaN           NaN   \n",
       "6670                           DSL            0.0           1.0   \n",
       "6754                           DSL            1.0           1.0   \n",
       "\n",
       "      DeviceProtection  TechSupport  StreamingTV  StreamingMovies  \\\n",
       "488                1.0          1.0          1.0              0.0   \n",
       "753                NaN          NaN          NaN              NaN   \n",
       "936                1.0          0.0          1.0              1.0   \n",
       "1082               NaN          NaN          NaN              NaN   \n",
       "1340               1.0          1.0          1.0              0.0   \n",
       "3331               NaN          NaN          NaN              NaN   \n",
       "3826               NaN          NaN          NaN              NaN   \n",
       "4380               NaN          NaN          NaN              NaN   \n",
       "5218               NaN          NaN          NaN              NaN   \n",
       "6670               1.0          1.0          1.0              0.0   \n",
       "6754               0.0          1.0          0.0              0.0   \n",
       "\n",
       "      MultipleLines  Target  \n",
       "488             NaN       0  \n",
       "753             0.0       0  \n",
       "936             0.0       0  \n",
       "1082            1.0       0  \n",
       "1340            NaN       0  \n",
       "3331            0.0       0  \n",
       "3826            1.0       0  \n",
       "4380            0.0       0  \n",
       "5218            0.0       0  \n",
       "6670            1.0       0  \n",
       "6754            1.0       0  \n",
       "\n",
       "[11 rows x 21 columns]"
      ]
     },
     "execution_count": 29,
     "metadata": {},
     "output_type": "execute_result"
    }
   ],
   "source": [
    "non_numeric_values"
   ]
  },
  {
   "cell_type": "markdown",
   "metadata": {},
   "source": [
    "В срез попали все клиенты, которые пришли в компанию в день выгрузки. Очистим датасет от этих клиентов, так как эти данные малоинформативны в контексте задачи."
   ]
  },
  {
   "cell_type": "code",
   "execution_count": 30,
   "metadata": {},
   "outputs": [
    {
     "data": {
      "text/plain": [
       "7032"
      ]
     },
     "execution_count": 30,
     "metadata": {},
     "output_type": "execute_result"
    }
   ],
   "source": [
    "index_to_drop = non_numeric_values.index.tolist()\n",
    "df.drop(index_to_drop, inplace=True)\n",
    "len(df)"
   ]
  },
  {
   "cell_type": "code",
   "execution_count": 31,
   "metadata": {},
   "outputs": [],
   "source": [
    "df['TotalCharges'] = df['TotalCharges'].astype(float)"
   ]
  },
  {
   "cell_type": "code",
   "execution_count": 32,
   "metadata": {
    "scrolled": true
   },
   "outputs": [
    {
     "data": {
      "text/html": [
       "<div>\n",
       "<style scoped>\n",
       "    .dataframe tbody tr th:only-of-type {\n",
       "        vertical-align: middle;\n",
       "    }\n",
       "\n",
       "    .dataframe tbody tr th {\n",
       "        vertical-align: top;\n",
       "    }\n",
       "\n",
       "    .dataframe thead th {\n",
       "        text-align: right;\n",
       "    }\n",
       "</style>\n",
       "<table border=\"1\" class=\"dataframe\">\n",
       "  <thead>\n",
       "    <tr style=\"text-align: right;\">\n",
       "      <th></th>\n",
       "      <th>MonthlyCharges</th>\n",
       "      <th>TotalCharges</th>\n",
       "      <th>Target</th>\n",
       "    </tr>\n",
       "  </thead>\n",
       "  <tbody>\n",
       "    <tr>\n",
       "      <th>MonthlyCharges</th>\n",
       "      <td>1.000000</td>\n",
       "      <td>0.630297</td>\n",
       "      <td>0.153927</td>\n",
       "    </tr>\n",
       "    <tr>\n",
       "      <th>TotalCharges</th>\n",
       "      <td>0.630297</td>\n",
       "      <td>1.000000</td>\n",
       "      <td>0.051548</td>\n",
       "    </tr>\n",
       "    <tr>\n",
       "      <th>Target</th>\n",
       "      <td>0.153927</td>\n",
       "      <td>0.051548</td>\n",
       "      <td>1.000000</td>\n",
       "    </tr>\n",
       "  </tbody>\n",
       "</table>\n",
       "</div>"
      ],
      "text/plain": [
       "                MonthlyCharges  TotalCharges    Target\n",
       "MonthlyCharges        1.000000      0.630297  0.153927\n",
       "TotalCharges          0.630297      1.000000  0.051548\n",
       "Target                0.153927      0.051548  1.000000"
      ]
     },
     "execution_count": 32,
     "metadata": {},
     "output_type": "execute_result"
    }
   ],
   "source": [
    "selected_cols = ['MonthlyCharges', 'TotalCharges', 'Target']\n",
    "corr_matrix = df[selected_cols].corr()\n",
    "corr_matrix "
   ]
  },
  {
   "cell_type": "markdown",
   "metadata": {},
   "source": [
    "**Работа с датами**"
   ]
  },
  {
   "cell_type": "code",
   "execution_count": 33,
   "metadata": {},
   "outputs": [
    {
     "name": "stdout",
     "output_type": "stream",
     "text": [
      "<class 'pandas.core.frame.DataFrame'>\n",
      "Int64Index: 7032 entries, 0 to 7042\n",
      "Data columns (total 21 columns):\n",
      " #   Column            Non-Null Count  Dtype         \n",
      "---  ------            --------------  -----         \n",
      " 0   customerID        7032 non-null   object        \n",
      " 1   gender            7032 non-null   object        \n",
      " 2   SeniorCitizen     7032 non-null   int64         \n",
      " 3   Partner           7032 non-null   int64         \n",
      " 4   Dependents        7032 non-null   int64         \n",
      " 5   BeginDate         7032 non-null   datetime64[ns]\n",
      " 6   EndDate           7032 non-null   object        \n",
      " 7   Type              7032 non-null   object        \n",
      " 8   PaperlessBilling  7032 non-null   int64         \n",
      " 9   PaymentMethod     7032 non-null   object        \n",
      " 10  MonthlyCharges    7032 non-null   float64       \n",
      " 11  TotalCharges      7032 non-null   float64       \n",
      " 12  InternetService   5512 non-null   object        \n",
      " 13  OnlineSecurity    5512 non-null   float64       \n",
      " 14  OnlineBackup      5512 non-null   float64       \n",
      " 15  DeviceProtection  5512 non-null   float64       \n",
      " 16  TechSupport       5512 non-null   float64       \n",
      " 17  StreamingTV       5512 non-null   float64       \n",
      " 18  StreamingMovies   5512 non-null   float64       \n",
      " 19  MultipleLines     6352 non-null   float64       \n",
      " 20  Target            7032 non-null   int64         \n",
      "dtypes: datetime64[ns](1), float64(9), int64(5), object(6)\n",
      "memory usage: 1.2+ MB\n"
     ]
    }
   ],
   "source": [
    "df['BeginDate'] = pd.to_datetime(df['BeginDate'])\n",
    "df.info()"
   ]
  },
  {
   "cell_type": "code",
   "execution_count": 34,
   "metadata": {},
   "outputs": [],
   "source": [
    "def end_date(x):\n",
    "    if x == \"No\":\n",
    "        return ''\n",
    "    else:\n",
    "        x = pd.to_datetime(x)\n",
    "        return x"
   ]
  },
  {
   "cell_type": "code",
   "execution_count": 35,
   "metadata": {},
   "outputs": [],
   "source": [
    "df['EndDate'] = df['EndDate'].apply(end_date)"
   ]
  },
  {
   "cell_type": "code",
   "execution_count": 36,
   "metadata": {},
   "outputs": [],
   "source": [
    "df['EndDate'] = pd.to_datetime(df['EndDate'])"
   ]
  },
  {
   "cell_type": "code",
   "execution_count": 37,
   "metadata": {},
   "outputs": [
    {
     "name": "stdout",
     "output_type": "stream",
     "text": [
      "Данные представлены за период c 2013-10-01 00:00:00 по 2020-01-01 00:00:00\n"
     ]
    }
   ],
   "source": [
    "max_date = df['BeginDate'].max()\n",
    "min_date = df['BeginDate'].min()\n",
    "print(f'Данные представлены за период c {min_date} по {max_date}')"
   ]
  },
  {
   "cell_type": "code",
   "execution_count": 38,
   "metadata": {},
   "outputs": [
    {
     "name": "stdout",
     "output_type": "stream",
     "text": [
      "<class 'pandas.core.frame.DataFrame'>\n",
      "Int64Index: 7032 entries, 0 to 7042\n",
      "Data columns (total 21 columns):\n",
      " #   Column            Non-Null Count  Dtype         \n",
      "---  ------            --------------  -----         \n",
      " 0   customerID        7032 non-null   object        \n",
      " 1   gender            7032 non-null   object        \n",
      " 2   SeniorCitizen     7032 non-null   int64         \n",
      " 3   Partner           7032 non-null   int64         \n",
      " 4   Dependents        7032 non-null   int64         \n",
      " 5   BeginDate         7032 non-null   datetime64[ns]\n",
      " 6   EndDate           1101 non-null   datetime64[ns]\n",
      " 7   Type              7032 non-null   object        \n",
      " 8   PaperlessBilling  7032 non-null   int64         \n",
      " 9   PaymentMethod     7032 non-null   object        \n",
      " 10  MonthlyCharges    7032 non-null   float64       \n",
      " 11  TotalCharges      7032 non-null   float64       \n",
      " 12  InternetService   5512 non-null   object        \n",
      " 13  OnlineSecurity    5512 non-null   float64       \n",
      " 14  OnlineBackup      5512 non-null   float64       \n",
      " 15  DeviceProtection  5512 non-null   float64       \n",
      " 16  TechSupport       5512 non-null   float64       \n",
      " 17  StreamingTV       5512 non-null   float64       \n",
      " 18  StreamingMovies   5512 non-null   float64       \n",
      " 19  MultipleLines     6352 non-null   float64       \n",
      " 20  Target            7032 non-null   int64         \n",
      "dtypes: datetime64[ns](2), float64(9), int64(5), object(5)\n",
      "memory usage: 1.2+ MB\n"
     ]
    }
   ],
   "source": [
    "df.info()"
   ]
  },
  {
   "cell_type": "markdown",
   "metadata": {},
   "source": [
    "**Добавим доп.признак - кол-во дней сотрудничества для всех клиентов**"
   ]
  },
  {
   "cell_type": "code",
   "execution_count": 39,
   "metadata": {},
   "outputs": [],
   "source": [
    "def happy_days(row):\n",
    "    if pd.isna(row['EndDate']):\n",
    "        const_date = datetime.datetime(2020, 2, 1, 0, 0)\n",
    "        y = (const_date - row['BeginDate']).days\n",
    "        return y\n",
    "    else:\n",
    "        x = (row['EndDate'] - row['BeginDate']).days\n",
    "        return x"
   ]
  },
  {
   "cell_type": "code",
   "execution_count": 40,
   "metadata": {},
   "outputs": [],
   "source": [
    "df['happy_days'] = df.apply(happy_days, axis=1) "
   ]
  },
  {
   "cell_type": "code",
   "execution_count": 41,
   "metadata": {},
   "outputs": [
    {
     "data": {
      "image/png": "[encoded data removed]",
      "text/plain": [
       "<Figure size 720x360 with 1 Axes>"
      ]
     },
     "metadata": {
      "needs_background": "light"
     },
     "output_type": "display_data"
    }
   ],
   "source": [
    "df['happy_days'].hist(grid=False, figsize = (10,5), color='green', bins=55)\n",
    "plt.show()"
   ]
  },
  {
   "cell_type": "code",
   "execution_count": 42,
   "metadata": {},
   "outputs": [],
   "source": [
    "df_BeginDate_all = df['BeginDate']"
   ]
  },
  {
   "cell_type": "code",
   "execution_count": 43,
   "metadata": {},
   "outputs": [
    {
     "data": {
      "image/png": "[encoded data removed]",
      "text/plain": [
       "<Figure size 1080x720 with 1 Axes>"
      ]
     },
     "metadata": {
      "needs_background": "light"
     },
     "output_type": "display_data"
    }
   ],
   "source": [
    "df_BeginDate_all.groupby([df_BeginDate_all.dt.year, df_BeginDate_all.dt.month]).count().plot(kind=\"bar\", figsize = (15,10))\n",
    "plt.show()"
   ]
  },
  {
   "cell_type": "markdown",
   "metadata": {},
   "source": [
    "Добавим доп.признак - кол-во дней сотрудничества для всех тех кто отписался от сервиса. Изучим его, но в модели использовать не будем."
   ]
  },
  {
   "cell_type": "code",
   "execution_count": 44,
   "metadata": {},
   "outputs": [],
   "source": [
    "df_signout = df.query(\"Target == 1\")\n",
    "df_BeginDate_signout = df_signout['BeginDate']\n",
    "df_EndDate_signout = df_signout['EndDate']\n",
    "\n",
    "df_BeginDate_signin_count  = df_BeginDate_signout.groupby([df_BeginDate_signout.dt.year, df_BeginDate_signout.dt.month]).count()\n",
    "df_BeginDate_signin_cumsum = df_BeginDate_signin_count.cumsum()\n",
    "\n",
    "df_EndDate_signout_count = df_EndDate_signout.groupby([df_EndDate_signout.dt.year, df_EndDate_signout.dt.month]).count()\n",
    "df_EndDate_signout_cumsum = df_EndDate_signout_count.cumsum()"
   ]
  },
  {
   "cell_type": "code",
   "execution_count": 45,
   "metadata": {},
   "outputs": [
    {
     "data": {
      "image/png": "[encoded data removed]",
      "text/plain": [
       "<Figure size 1080x1080 with 1 Axes>"
      ]
     },
     "metadata": {
      "needs_background": "light"
     },
     "output_type": "display_data"
    }
   ],
   "source": [
    "df_BeginDate_signin_count.plot(kind=\"bar\", figsize = (15,15))\n",
    "plt.show()"
   ]
  },
  {
   "cell_type": "markdown",
   "metadata": {},
   "source": [
    "**Добавим доп.признак - средняя стоимость одного для обслуживания для каждого клиента**"
   ]
  },
  {
   "cell_type": "code",
   "execution_count": 46,
   "metadata": {},
   "outputs": [],
   "source": [
    "df['day_price'] = df['TotalCharges'] / df['happy_days']"
   ]
  },
  {
   "cell_type": "code",
   "execution_count": 47,
   "metadata": {},
   "outputs": [
    {
     "data": {
      "image/png": "[encoded data removed]",
      "text/plain": [
       "<Figure size 720x360 with 1 Axes>"
      ]
     },
     "metadata": {
      "needs_background": "light"
     },
     "output_type": "display_data"
    }
   ],
   "source": [
    "df['day_price'].hist(grid=False, figsize = (10,5), color='purple', bins=55)\n",
    "plt.show()"
   ]
  },
  {
   "cell_type": "code",
   "execution_count": 48,
   "metadata": {
    "scrolled": true
   },
   "outputs": [
    {
     "data": {
      "image/png": "[encoded data removed]",
      "text/plain": [
       "<Figure size 720x360 with 1 Axes>"
      ]
     },
     "metadata": {
      "needs_background": "light"
     },
     "output_type": "display_data"
    }
   ],
   "source": [
    "clients_away = df.query('Target == 1')\n",
    "clients_away['day_price'].hist(grid=False, figsize = (10,5), color='purple', bins=55)\n",
    "plt.show()"
   ]
  },
  {
   "cell_type": "markdown",
   "metadata": {},
   "source": [
    "**Заполнение пропусков**"
   ]
  },
  {
   "cell_type": "code",
   "execution_count": 49,
   "metadata": {},
   "outputs": [],
   "source": [
    "df.fillna(0, inplace=True)"
   ]
  },
  {
   "cell_type": "code",
   "execution_count": 50,
   "metadata": {},
   "outputs": [
    {
     "data": {
      "text/html": [
       "<style  type=\"text/css\" >\n",
       "#T_fd91f_row0_col0,#T_fd91f_row1_col0,#T_fd91f_row2_col0,#T_fd91f_row3_col0,#T_fd91f_row4_col0,#T_fd91f_row5_col0,#T_fd91f_row6_col0,#T_fd91f_row7_col0,#T_fd91f_row8_col0,#T_fd91f_row9_col0,#T_fd91f_row10_col0,#T_fd91f_row11_col0,#T_fd91f_row12_col0,#T_fd91f_row13_col0,#T_fd91f_row14_col0,#T_fd91f_row15_col0,#T_fd91f_row16_col0,#T_fd91f_row17_col0,#T_fd91f_row18_col0,#T_fd91f_row19_col0,#T_fd91f_row20_col0,#T_fd91f_row21_col0,#T_fd91f_row22_col0{\n",
       "            background-color:  #000000;\n",
       "            color:  #f1f1f1;\n",
       "        }</style><table id=\"T_fd91f_\" ><thead>    <tr>        <th class=\"blank level0\" ></th>        <th class=\"col_heading level0 col0\" >0</th>    </tr></thead><tbody>\n",
       "                <tr>\n",
       "                        <th id=\"T_fd91f_level0_row0\" class=\"row_heading level0 row0\" >customerID</th>\n",
       "                        <td id=\"T_fd91f_row0_col0\" class=\"data row0 col0\" >0.000000</td>\n",
       "            </tr>\n",
       "            <tr>\n",
       "                        <th id=\"T_fd91f_level0_row1\" class=\"row_heading level0 row1\" >gender</th>\n",
       "                        <td id=\"T_fd91f_row1_col0\" class=\"data row1 col0\" >0.000000</td>\n",
       "            </tr>\n",
       "            <tr>\n",
       "                        <th id=\"T_fd91f_level0_row2\" class=\"row_heading level0 row2\" >SeniorCitizen</th>\n",
       "                        <td id=\"T_fd91f_row2_col0\" class=\"data row2 col0\" >0.000000</td>\n",
       "            </tr>\n",
       "            <tr>\n",
       "                        <th id=\"T_fd91f_level0_row3\" class=\"row_heading level0 row3\" >Partner</th>\n",
       "                        <td id=\"T_fd91f_row3_col0\" class=\"data row3 col0\" >0.000000</td>\n",
       "            </tr>\n",
       "            <tr>\n",
       "                        <th id=\"T_fd91f_level0_row4\" class=\"row_heading level0 row4\" >Dependents</th>\n",
       "                        <td id=\"T_fd91f_row4_col0\" class=\"data row4 col0\" >0.000000</td>\n",
       "            </tr>\n",
       "            <tr>\n",
       "                        <th id=\"T_fd91f_level0_row5\" class=\"row_heading level0 row5\" >BeginDate</th>\n",
       "                        <td id=\"T_fd91f_row5_col0\" class=\"data row5 col0\" >0.000000</td>\n",
       "            </tr>\n",
       "            <tr>\n",
       "                        <th id=\"T_fd91f_level0_row6\" class=\"row_heading level0 row6\" >EndDate</th>\n",
       "                        <td id=\"T_fd91f_row6_col0\" class=\"data row6 col0\" >0.000000</td>\n",
       "            </tr>\n",
       "            <tr>\n",
       "                        <th id=\"T_fd91f_level0_row7\" class=\"row_heading level0 row7\" >Type</th>\n",
       "                        <td id=\"T_fd91f_row7_col0\" class=\"data row7 col0\" >0.000000</td>\n",
       "            </tr>\n",
       "            <tr>\n",
       "                        <th id=\"T_fd91f_level0_row8\" class=\"row_heading level0 row8\" >PaperlessBilling</th>\n",
       "                        <td id=\"T_fd91f_row8_col0\" class=\"data row8 col0\" >0.000000</td>\n",
       "            </tr>\n",
       "            <tr>\n",
       "                        <th id=\"T_fd91f_level0_row9\" class=\"row_heading level0 row9\" >PaymentMethod</th>\n",
       "                        <td id=\"T_fd91f_row9_col0\" class=\"data row9 col0\" >0.000000</td>\n",
       "            </tr>\n",
       "            <tr>\n",
       "                        <th id=\"T_fd91f_level0_row10\" class=\"row_heading level0 row10\" >MonthlyCharges</th>\n",
       "                        <td id=\"T_fd91f_row10_col0\" class=\"data row10 col0\" >0.000000</td>\n",
       "            </tr>\n",
       "            <tr>\n",
       "                        <th id=\"T_fd91f_level0_row11\" class=\"row_heading level0 row11\" >TotalCharges</th>\n",
       "                        <td id=\"T_fd91f_row11_col0\" class=\"data row11 col0\" >0.000000</td>\n",
       "            </tr>\n",
       "            <tr>\n",
       "                        <th id=\"T_fd91f_level0_row12\" class=\"row_heading level0 row12\" >InternetService</th>\n",
       "                        <td id=\"T_fd91f_row12_col0\" class=\"data row12 col0\" >0.000000</td>\n",
       "            </tr>\n",
       "            <tr>\n",
       "                        <th id=\"T_fd91f_level0_row13\" class=\"row_heading level0 row13\" >OnlineSecurity</th>\n",
       "                        <td id=\"T_fd91f_row13_col0\" class=\"data row13 col0\" >0.000000</td>\n",
       "            </tr>\n",
       "            <tr>\n",
       "                        <th id=\"T_fd91f_level0_row14\" class=\"row_heading level0 row14\" >OnlineBackup</th>\n",
       "                        <td id=\"T_fd91f_row14_col0\" class=\"data row14 col0\" >0.000000</td>\n",
       "            </tr>\n",
       "            <tr>\n",
       "                        <th id=\"T_fd91f_level0_row15\" class=\"row_heading level0 row15\" >DeviceProtection</th>\n",
       "                        <td id=\"T_fd91f_row15_col0\" class=\"data row15 col0\" >0.000000</td>\n",
       "            </tr>\n",
       "            <tr>\n",
       "                        <th id=\"T_fd91f_level0_row16\" class=\"row_heading level0 row16\" >TechSupport</th>\n",
       "                        <td id=\"T_fd91f_row16_col0\" class=\"data row16 col0\" >0.000000</td>\n",
       "            </tr>\n",
       "            <tr>\n",
       "                        <th id=\"T_fd91f_level0_row17\" class=\"row_heading level0 row17\" >StreamingTV</th>\n",
       "                        <td id=\"T_fd91f_row17_col0\" class=\"data row17 col0\" >0.000000</td>\n",
       "            </tr>\n",
       "            <tr>\n",
       "                        <th id=\"T_fd91f_level0_row18\" class=\"row_heading level0 row18\" >StreamingMovies</th>\n",
       "                        <td id=\"T_fd91f_row18_col0\" class=\"data row18 col0\" >0.000000</td>\n",
       "            </tr>\n",
       "            <tr>\n",
       "                        <th id=\"T_fd91f_level0_row19\" class=\"row_heading level0 row19\" >MultipleLines</th>\n",
       "                        <td id=\"T_fd91f_row19_col0\" class=\"data row19 col0\" >0.000000</td>\n",
       "            </tr>\n",
       "            <tr>\n",
       "                        <th id=\"T_fd91f_level0_row20\" class=\"row_heading level0 row20\" >Target</th>\n",
       "                        <td id=\"T_fd91f_row20_col0\" class=\"data row20 col0\" >0.000000</td>\n",
       "            </tr>\n",
       "            <tr>\n",
       "                        <th id=\"T_fd91f_level0_row21\" class=\"row_heading level0 row21\" >happy_days</th>\n",
       "                        <td id=\"T_fd91f_row21_col0\" class=\"data row21 col0\" >0.000000</td>\n",
       "            </tr>\n",
       "            <tr>\n",
       "                        <th id=\"T_fd91f_level0_row22\" class=\"row_heading level0 row22\" >day_price</th>\n",
       "                        <td id=\"T_fd91f_row22_col0\" class=\"data row22 col0\" >0.000000</td>\n",
       "            </tr>\n",
       "    </tbody></table>"
      ],
      "text/plain": [
       "<pandas.io.formats.style.Styler at 0x7f9b225f4940>"
      ]
     },
     "execution_count": 50,
     "metadata": {},
     "output_type": "execute_result"
    }
   ],
   "source": [
    "pd.DataFrame(round(df.isna().mean()*100,1)).style.background_gradient('gnuplot')"
   ]
  },
  {
   "cell_type": "markdown",
   "metadata": {},
   "source": [
    "**Дроп столбцов**"
   ]
  },
  {
   "cell_type": "code",
   "execution_count": 51,
   "metadata": {},
   "outputs": [
    {
     "name": "stdout",
     "output_type": "stream",
     "text": [
      "<class 'pandas.core.frame.DataFrame'>\n",
      "Int64Index: 7032 entries, 0 to 7042\n",
      "Data columns (total 20 columns):\n",
      " #   Column            Non-Null Count  Dtype  \n",
      "---  ------            --------------  -----  \n",
      " 0   gender            7032 non-null   object \n",
      " 1   SeniorCitizen     7032 non-null   int64  \n",
      " 2   Partner           7032 non-null   int64  \n",
      " 3   Dependents        7032 non-null   int64  \n",
      " 4   Type              7032 non-null   object \n",
      " 5   PaperlessBilling  7032 non-null   int64  \n",
      " 6   PaymentMethod     7032 non-null   object \n",
      " 7   MonthlyCharges    7032 non-null   float64\n",
      " 8   TotalCharges      7032 non-null   float64\n",
      " 9   InternetService   7032 non-null   object \n",
      " 10  OnlineSecurity    7032 non-null   float64\n",
      " 11  OnlineBackup      7032 non-null   float64\n",
      " 12  DeviceProtection  7032 non-null   float64\n",
      " 13  TechSupport       7032 non-null   float64\n",
      " 14  StreamingTV       7032 non-null   float64\n",
      " 15  StreamingMovies   7032 non-null   float64\n",
      " 16  MultipleLines     7032 non-null   float64\n",
      " 17  Target            7032 non-null   int64  \n",
      " 18  happy_days        7032 non-null   int64  \n",
      " 19  day_price         7032 non-null   float64\n",
      "dtypes: float64(10), int64(6), object(4)\n",
      "memory usage: 1.4+ MB\n"
     ]
    }
   ],
   "source": [
    "df = df.drop(columns=['EndDate', 'customerID', 'BeginDate'])\n",
    "df.info()"
   ]
  },
  {
   "cell_type": "code",
   "execution_count": 52,
   "metadata": {},
   "outputs": [
    {
     "name": "stdout",
     "output_type": "stream",
     "text": [
      "interval columns not set, guessing: ['SeniorCitizen', 'Partner', 'Dependents', 'PaperlessBilling', 'MonthlyCharges', 'TotalCharges', 'OnlineSecurity', 'OnlineBackup', 'DeviceProtection', 'TechSupport', 'StreamingTV', 'StreamingMovies', 'MultipleLines', 'Target', 'happy_days', 'day_price']\n"
     ]
    }
   ],
   "source": [
    "phik_overview = df.phik_matrix()"
   ]
  },
  {
   "cell_type": "code",
   "execution_count": 53,
   "metadata": {},
   "outputs": [
    {
     "data": {
      "image/png": "[encoded data removed]",
      "text/plain": [
       "<Figure size 1500x1000 with 2 Axes>"
      ]
     },
     "metadata": {
      "needs_background": "light"
     },
     "output_type": "display_data"
    }
   ],
   "source": [
    "fig, ax = plt.subplots(figsize=(15, 10), dpi=100)\n",
    "sns.heatmap(data = phik_overview, cmap='brg')\n",
    "plt.show()"
   ]
  },
  {
   "cell_type": "code",
   "execution_count": 54,
   "metadata": {},
   "outputs": [
    {
     "data": {
      "text/html": [
       "<style  type=\"text/css\" >\n",
       "#T_94ee3_row0_col1{\n",
       "            background-color:  #fef8fe;\n",
       "            color:  #000000;\n",
       "        }#T_94ee3_row1_col1{\n",
       "            background-color:  #60ce00;\n",
       "            color:  #000000;\n",
       "        }#T_94ee3_row2_col1{\n",
       "            background-color:  #00fd3f;\n",
       "            color:  #000000;\n",
       "        }#T_94ee3_row3_col1{\n",
       "            background-color:  #00faaa;\n",
       "            color:  #000000;\n",
       "        }#T_94ee3_row4_col1{\n",
       "            background-color:  #00fede;\n",
       "            color:  #000000;\n",
       "        }#T_94ee3_row5_col1,#T_94ee3_row6_col1,#T_94ee3_row7_col1{\n",
       "            background-color:  #00ffe5;\n",
       "            color:  #000000;\n",
       "        }#T_94ee3_row8_col1{\n",
       "            background-color:  #00ffeb;\n",
       "            color:  #000000;\n",
       "        }#T_94ee3_row9_col1{\n",
       "            background-color:  #00fbf2;\n",
       "            color:  #000000;\n",
       "        }#T_94ee3_row10_col1{\n",
       "            background-color:  #00f6f8;\n",
       "            color:  #000000;\n",
       "        }#T_94ee3_row11_col1{\n",
       "            background-color:  #00e5ff;\n",
       "            color:  #000000;\n",
       "        }#T_94ee3_row12_col1{\n",
       "            background-color:  #0047ff;\n",
       "            color:  #f1f1f1;\n",
       "        }#T_94ee3_row13_col1{\n",
       "            background-color:  #0014bc;\n",
       "            color:  #f1f1f1;\n",
       "        }#T_94ee3_row14_col1{\n",
       "            background-color:  #00229b;\n",
       "            color:  #f1f1f1;\n",
       "        }#T_94ee3_row15_col1,#T_94ee3_row16_col1{\n",
       "            background-color:  #003669;\n",
       "            color:  #f1f1f1;\n",
       "        }#T_94ee3_row17_col1{\n",
       "            background-color:  #00580f;\n",
       "            color:  #f1f1f1;\n",
       "        }#T_94ee3_row18_col1{\n",
       "            background-color:  #004922;\n",
       "            color:  #f1f1f1;\n",
       "        }#T_94ee3_row19_col1{\n",
       "            background-color:  #000080;\n",
       "            color:  #f1f1f1;\n",
       "        }</style><table id=\"T_94ee3_\" ><thead>    <tr>        <th class=\"blank level0\" ></th>        <th class=\"col_heading level0 col0\" >index</th>        <th class=\"col_heading level0 col1\" >Target</th>    </tr></thead><tbody>\n",
       "                <tr>\n",
       "                        <th id=\"T_94ee3_level0_row0\" class=\"row_heading level0 row0\" >0</th>\n",
       "                        <td id=\"T_94ee3_row0_col0\" class=\"data row0 col0\" >Target</td>\n",
       "                        <td id=\"T_94ee3_row0_col1\" class=\"data row0 col1\" >1.000000</td>\n",
       "            </tr>\n",
       "            <tr>\n",
       "                        <th id=\"T_94ee3_level0_row1\" class=\"row_heading level0 row1\" >1</th>\n",
       "                        <td id=\"T_94ee3_row1_col0\" class=\"data row1 col0\" >happy_days</td>\n",
       "                        <td id=\"T_94ee3_row1_col1\" class=\"data row1 col1\" >0.374101</td>\n",
       "            </tr>\n",
       "            <tr>\n",
       "                        <th id=\"T_94ee3_level0_row2\" class=\"row_heading level0 row2\" >2</th>\n",
       "                        <td id=\"T_94ee3_row2_col0\" class=\"data row2 col0\" >TotalCharges</td>\n",
       "                        <td id=\"T_94ee3_row2_col1\" class=\"data row2 col1\" >0.303758</td>\n",
       "            </tr>\n",
       "            <tr>\n",
       "                        <th id=\"T_94ee3_level0_row3\" class=\"row_heading level0 row3\" >3</th>\n",
       "                        <td id=\"T_94ee3_row3_col0\" class=\"data row3 col0\" >MultipleLines</td>\n",
       "                        <td id=\"T_94ee3_row3_col1\" class=\"data row3 col1\" >0.261345</td>\n",
       "            </tr>\n",
       "            <tr>\n",
       "                        <th id=\"T_94ee3_level0_row4\" class=\"row_heading level0 row4\" >4</th>\n",
       "                        <td id=\"T_94ee3_row4_col0\" class=\"data row4 col0\" >OnlineBackup</td>\n",
       "                        <td id=\"T_94ee3_row4_col1\" class=\"data row4 col1\" >0.229736</td>\n",
       "            </tr>\n",
       "            <tr>\n",
       "                        <th id=\"T_94ee3_level0_row5\" class=\"row_heading level0 row5\" >5</th>\n",
       "                        <td id=\"T_94ee3_row5_col0\" class=\"data row5 col0\" >Partner</td>\n",
       "                        <td id=\"T_94ee3_row5_col1\" class=\"data row5 col1\" >0.227597</td>\n",
       "            </tr>\n",
       "            <tr>\n",
       "                        <th id=\"T_94ee3_level0_row6\" class=\"row_heading level0 row6\" >6</th>\n",
       "                        <td id=\"T_94ee3_row6_col0\" class=\"data row6 col0\" >day_price</td>\n",
       "                        <td id=\"T_94ee3_row6_col1\" class=\"data row6 col1\" >0.226463</td>\n",
       "            </tr>\n",
       "            <tr>\n",
       "                        <th id=\"T_94ee3_level0_row7\" class=\"row_heading level0 row7\" >7</th>\n",
       "                        <td id=\"T_94ee3_row7_col0\" class=\"data row7 col0\" >MonthlyCharges</td>\n",
       "                        <td id=\"T_94ee3_row7_col1\" class=\"data row7 col1\" >0.225823</td>\n",
       "            </tr>\n",
       "            <tr>\n",
       "                        <th id=\"T_94ee3_level0_row8\" class=\"row_heading level0 row8\" >8</th>\n",
       "                        <td id=\"T_94ee3_row8_col0\" class=\"data row8 col0\" >StreamingMovies</td>\n",
       "                        <td id=\"T_94ee3_row8_col1\" class=\"data row8 col1\" >0.221756</td>\n",
       "            </tr>\n",
       "            <tr>\n",
       "                        <th id=\"T_94ee3_level0_row9\" class=\"row_heading level0 row9\" >9</th>\n",
       "                        <td id=\"T_94ee3_row9_col0\" class=\"data row9 col0\" >DeviceProtection</td>\n",
       "                        <td id=\"T_94ee3_row9_col1\" class=\"data row9 col1\" >0.218622</td>\n",
       "            </tr>\n",
       "            <tr>\n",
       "                        <th id=\"T_94ee3_level0_row10\" class=\"row_heading level0 row10\" >10</th>\n",
       "                        <td id=\"T_94ee3_row10_col0\" class=\"data row10 col0\" >PaymentMethod</td>\n",
       "                        <td id=\"T_94ee3_row10_col1\" class=\"data row10 col1\" >0.214300</td>\n",
       "            </tr>\n",
       "            <tr>\n",
       "                        <th id=\"T_94ee3_level0_row11\" class=\"row_heading level0 row11\" >11</th>\n",
       "                        <td id=\"T_94ee3_row11_col0\" class=\"data row11 col0\" >StreamingTV</td>\n",
       "                        <td id=\"T_94ee3_row11_col1\" class=\"data row11 col1\" >0.200334</td>\n",
       "            </tr>\n",
       "            <tr>\n",
       "                        <th id=\"T_94ee3_level0_row12\" class=\"row_heading level0 row12\" >12</th>\n",
       "                        <td id=\"T_94ee3_row12_col0\" class=\"data row12 col0\" >OnlineSecurity</td>\n",
       "                        <td id=\"T_94ee3_row12_col1\" class=\"data row12 col1\" >0.132914</td>\n",
       "            </tr>\n",
       "            <tr>\n",
       "                        <th id=\"T_94ee3_level0_row13\" class=\"row_heading level0 row13\" >13</th>\n",
       "                        <td id=\"T_94ee3_row13_col0\" class=\"data row13 col0\" >TechSupport</td>\n",
       "                        <td id=\"T_94ee3_row13_col1\" class=\"data row13 col1\" >0.103933</td>\n",
       "            </tr>\n",
       "            <tr>\n",
       "                        <th id=\"T_94ee3_level0_row14\" class=\"row_heading level0 row14\" >14</th>\n",
       "                        <td id=\"T_94ee3_row14_col0\" class=\"data row14 col0\" >Type</td>\n",
       "                        <td id=\"T_94ee3_row14_col1\" class=\"data row14 col1\" >0.094622</td>\n",
       "            </tr>\n",
       "            <tr>\n",
       "                        <th id=\"T_94ee3_level0_row15\" class=\"row_heading level0 row15\" >15</th>\n",
       "                        <td id=\"T_94ee3_row15_col0\" class=\"data row15 col0\" >SeniorCitizen</td>\n",
       "                        <td id=\"T_94ee3_row15_col1\" class=\"data row15 col1\" >0.085708</td>\n",
       "            </tr>\n",
       "            <tr>\n",
       "                        <th id=\"T_94ee3_level0_row16\" class=\"row_heading level0 row16\" >16</th>\n",
       "                        <td id=\"T_94ee3_row16_col0\" class=\"data row16 col0\" >PaperlessBilling</td>\n",
       "                        <td id=\"T_94ee3_row16_col1\" class=\"data row16 col1\" >0.082789</td>\n",
       "            </tr>\n",
       "            <tr>\n",
       "                        <th id=\"T_94ee3_level0_row17\" class=\"row_heading level0 row17\" >17</th>\n",
       "                        <td id=\"T_94ee3_row17_col0\" class=\"data row17 col0\" >InternetService</td>\n",
       "                        <td id=\"T_94ee3_row17_col1\" class=\"data row17 col1\" >0.056279</td>\n",
       "            </tr>\n",
       "            <tr>\n",
       "                        <th id=\"T_94ee3_level0_row18\" class=\"row_heading level0 row18\" >18</th>\n",
       "                        <td id=\"T_94ee3_row18_col0\" class=\"data row18 col0\" >Dependents</td>\n",
       "                        <td id=\"T_94ee3_row18_col1\" class=\"data row18 col1\" >0.048710</td>\n",
       "            </tr>\n",
       "            <tr>\n",
       "                        <th id=\"T_94ee3_level0_row19\" class=\"row_heading level0 row19\" >19</th>\n",
       "                        <td id=\"T_94ee3_row19_col0\" class=\"data row19 col0\" >gender</td>\n",
       "                        <td id=\"T_94ee3_row19_col1\" class=\"data row19 col1\" >0.008800</td>\n",
       "            </tr>\n",
       "    </tbody></table>"
      ],
      "text/plain": [
       "<pandas.io.formats.style.Styler at 0x7f9b225a4c70>"
      ]
     },
     "execution_count": 54,
     "metadata": {},
     "output_type": "execute_result"
    }
   ],
   "source": [
    "phik_overview['Target'].sort_values(ascending=False).reset_index().style.background_gradient('gist_ncar')"
   ]
  },
  {
   "cell_type": "markdown",
   "metadata": {},
   "source": [
    "**Вывод**: наиболее важными признаками можно назвать количество дней в компании, общую сумму оплаты за весь период, использование многоканальной линии. А вот пол настолько не важен, что его можно смело удалить из датасета, как бесполезный."
   ]
  },
  {
   "cell_type": "markdown",
   "metadata": {},
   "source": [
    "### EDA"
   ]
  },
  {
   "cell_type": "markdown",
   "metadata": {},
   "source": [
    "**Пол клиента**"
   ]
  },
  {
   "cell_type": "code",
   "execution_count": 55,
   "metadata": {
    "scrolled": true
   },
   "outputs": [
    {
     "data": {
      "image/png": "[encoded data removed]",
      "text/plain": [
       "<Figure size 432x288 with 1 Axes>"
      ]
     },
     "metadata": {},
     "output_type": "display_data"
    }
   ],
   "source": [
    "df['gender'].value_counts().plot.pie(autopct='%.2f')\n",
    "plt.show()"
   ]
  },
  {
   "cell_type": "code",
   "execution_count": 56,
   "metadata": {},
   "outputs": [
    {
     "data": {
      "text/html": [
       "<div>\n",
       "<style scoped>\n",
       "    .dataframe tbody tr th:only-of-type {\n",
       "        vertical-align: middle;\n",
       "    }\n",
       "\n",
       "    .dataframe tbody tr th {\n",
       "        vertical-align: top;\n",
       "    }\n",
       "\n",
       "    .dataframe thead th {\n",
       "        text-align: right;\n",
       "    }\n",
       "</style>\n",
       "<table border=\"1\" class=\"dataframe\">\n",
       "  <thead>\n",
       "    <tr style=\"text-align: right;\">\n",
       "      <th></th>\n",
       "      <th>count</th>\n",
       "      <th>mean</th>\n",
       "    </tr>\n",
       "    <tr>\n",
       "      <th>gender</th>\n",
       "      <th></th>\n",
       "      <th></th>\n",
       "    </tr>\n",
       "  </thead>\n",
       "  <tbody>\n",
       "    <tr>\n",
       "      <th>Female</th>\n",
       "      <td>3483</td>\n",
       "      <td>0.151593</td>\n",
       "    </tr>\n",
       "    <tr>\n",
       "      <th>Male</th>\n",
       "      <td>3549</td>\n",
       "      <td>0.161454</td>\n",
       "    </tr>\n",
       "  </tbody>\n",
       "</table>\n",
       "</div>"
      ],
      "text/plain": [
       "        count      mean\n",
       "gender                 \n",
       "Female   3483  0.151593\n",
       "Male     3549  0.161454"
      ]
     },
     "execution_count": 56,
     "metadata": {},
     "output_type": "execute_result"
    }
   ],
   "source": [
    "df.groupby('gender')['Target'].agg(['count', 'mean'])"
   ]
  },
  {
   "cell_type": "markdown",
   "metadata": {},
   "source": [
    "**Вывод**: количество мужчин и женщин в датасете практически идентично. Их показатели отточности практически не отличаются."
   ]
  },
  {
   "cell_type": "markdown",
   "metadata": {},
   "source": [
    "**Клиент-пенсионер**"
   ]
  },
  {
   "cell_type": "code",
   "execution_count": 57,
   "metadata": {},
   "outputs": [
    {
     "data": {
      "text/html": [
       "<div>\n",
       "<style scoped>\n",
       "    .dataframe tbody tr th:only-of-type {\n",
       "        vertical-align: middle;\n",
       "    }\n",
       "\n",
       "    .dataframe tbody tr th {\n",
       "        vertical-align: top;\n",
       "    }\n",
       "\n",
       "    .dataframe thead th {\n",
       "        text-align: right;\n",
       "    }\n",
       "</style>\n",
       "<table border=\"1\" class=\"dataframe\">\n",
       "  <thead>\n",
       "    <tr style=\"text-align: right;\">\n",
       "      <th></th>\n",
       "      <th>count</th>\n",
       "      <th>mean</th>\n",
       "    </tr>\n",
       "    <tr>\n",
       "      <th>SeniorCitizen</th>\n",
       "      <th></th>\n",
       "      <th></th>\n",
       "    </tr>\n",
       "  </thead>\n",
       "  <tbody>\n",
       "    <tr>\n",
       "      <th>0</th>\n",
       "      <td>5890</td>\n",
       "      <td>0.147538</td>\n",
       "    </tr>\n",
       "    <tr>\n",
       "      <th>1</th>\n",
       "      <td>1142</td>\n",
       "      <td>0.203152</td>\n",
       "    </tr>\n",
       "  </tbody>\n",
       "</table>\n",
       "</div>"
      ],
      "text/plain": [
       "               count      mean\n",
       "SeniorCitizen                 \n",
       "0               5890  0.147538\n",
       "1               1142  0.203152"
      ]
     },
     "execution_count": 57,
     "metadata": {},
     "output_type": "execute_result"
    }
   ],
   "source": [
    "df.groupby('SeniorCitizen')['Target'].agg(['count', 'mean'])"
   ]
  },
  {
   "cell_type": "markdown",
   "metadata": {},
   "source": [
    "**Вывод**: Около 15% клиентов - пенсионеры. При этом среди них показатель отточности значительно выше среднего показателя. \n",
    "Вероятно пенсионеры - группа риска по оттоку."
   ]
  },
  {
   "cell_type": "markdown",
   "metadata": {},
   "source": [
    "**Наличие супруга/супруги**"
   ]
  },
  {
   "cell_type": "code",
   "execution_count": 58,
   "metadata": {},
   "outputs": [
    {
     "data": {
      "text/html": [
       "<div>\n",
       "<style scoped>\n",
       "    .dataframe tbody tr th:only-of-type {\n",
       "        vertical-align: middle;\n",
       "    }\n",
       "\n",
       "    .dataframe tbody tr th {\n",
       "        vertical-align: top;\n",
       "    }\n",
       "\n",
       "    .dataframe thead th {\n",
       "        text-align: right;\n",
       "    }\n",
       "</style>\n",
       "<table border=\"1\" class=\"dataframe\">\n",
       "  <thead>\n",
       "    <tr style=\"text-align: right;\">\n",
       "      <th></th>\n",
       "      <th>count</th>\n",
       "      <th>mean</th>\n",
       "    </tr>\n",
       "    <tr>\n",
       "      <th>Partner</th>\n",
       "      <th></th>\n",
       "      <th></th>\n",
       "    </tr>\n",
       "  </thead>\n",
       "  <tbody>\n",
       "    <tr>\n",
       "      <th>0</th>\n",
       "      <td>3639</td>\n",
       "      <td>0.104974</td>\n",
       "    </tr>\n",
       "    <tr>\n",
       "      <th>1</th>\n",
       "      <td>3393</td>\n",
       "      <td>0.211907</td>\n",
       "    </tr>\n",
       "  </tbody>\n",
       "</table>\n",
       "</div>"
      ],
      "text/plain": [
       "         count      mean\n",
       "Partner                 \n",
       "0         3639  0.104974\n",
       "1         3393  0.211907"
      ]
     },
     "execution_count": 58,
     "metadata": {},
     "output_type": "execute_result"
    }
   ],
   "source": [
    "df.groupby('Partner')['Target'].agg(['count', 'mean'])"
   ]
  },
  {
   "cell_type": "markdown",
   "metadata": {},
   "source": [
    "**Вывод**: Количество людей в браке и вне его в датасете примерно одинаково.  \n",
    "Однако, показатели отточности среди этих сегментов значительно различается.  \n",
    "Люди вне брака - менее склонны к оттоку.\n",
    "Люди в браке - более склонны к оттоку. **Это еще одна группа риска.**"
   ]
  },
  {
   "cell_type": "markdown",
   "metadata": {},
   "source": [
    "**Наличие детей**"
   ]
  },
  {
   "cell_type": "code",
   "execution_count": 59,
   "metadata": {},
   "outputs": [
    {
     "data": {
      "text/html": [
       "<div>\n",
       "<style scoped>\n",
       "    .dataframe tbody tr th:only-of-type {\n",
       "        vertical-align: middle;\n",
       "    }\n",
       "\n",
       "    .dataframe tbody tr th {\n",
       "        vertical-align: top;\n",
       "    }\n",
       "\n",
       "    .dataframe thead th {\n",
       "        text-align: right;\n",
       "    }\n",
       "</style>\n",
       "<table border=\"1\" class=\"dataframe\">\n",
       "  <thead>\n",
       "    <tr style=\"text-align: right;\">\n",
       "      <th></th>\n",
       "      <th>count</th>\n",
       "      <th>mean</th>\n",
       "    </tr>\n",
       "    <tr>\n",
       "      <th>Dependents</th>\n",
       "      <th></th>\n",
       "      <th></th>\n",
       "    </tr>\n",
       "  </thead>\n",
       "  <tbody>\n",
       "    <tr>\n",
       "      <th>0</th>\n",
       "      <td>4933</td>\n",
       "      <td>0.148591</td>\n",
       "    </tr>\n",
       "    <tr>\n",
       "      <th>1</th>\n",
       "      <td>2099</td>\n",
       "      <td>0.175322</td>\n",
       "    </tr>\n",
       "  </tbody>\n",
       "</table>\n",
       "</div>"
      ],
      "text/plain": [
       "            count      mean\n",
       "Dependents                 \n",
       "0            4933  0.148591\n",
       "1            2099  0.175322"
      ]
     },
     "execution_count": 59,
     "metadata": {},
     "output_type": "execute_result"
    }
   ],
   "source": [
    "df.groupby('Dependents')['Target'].agg(['count', 'mean'])"
   ]
  },
  {
   "cell_type": "markdown",
   "metadata": {},
   "source": [
    "**Вывод**: В датасет попали преимущественно люди без детей. Таких около - 65%.  \n",
    "Показатели отточности в них различаются, но не так критично, как в предыдущем сегменте.  \n",
    "Люди с детьми более склонны к оттоку, чем без них. Возможно тут присутствует связь с людьми в браке."
   ]
  },
  {
   "cell_type": "code",
   "execution_count": 60,
   "metadata": {},
   "outputs": [
    {
     "data": {
      "text/html": [
       "<div>\n",
       "<style scoped>\n",
       "    .dataframe tbody tr th:only-of-type {\n",
       "        vertical-align: middle;\n",
       "    }\n",
       "\n",
       "    .dataframe tbody tr th {\n",
       "        vertical-align: top;\n",
       "    }\n",
       "\n",
       "    .dataframe thead th {\n",
       "        text-align: right;\n",
       "    }\n",
       "</style>\n",
       "<table border=\"1\" class=\"dataframe\">\n",
       "  <thead>\n",
       "    <tr style=\"text-align: right;\">\n",
       "      <th></th>\n",
       "      <th></th>\n",
       "      <th>count</th>\n",
       "      <th>mean</th>\n",
       "    </tr>\n",
       "    <tr>\n",
       "      <th>Dependents</th>\n",
       "      <th>Partner</th>\n",
       "      <th></th>\n",
       "      <th></th>\n",
       "    </tr>\n",
       "  </thead>\n",
       "  <tbody>\n",
       "    <tr>\n",
       "      <th rowspan=\"2\" valign=\"top\">0</th>\n",
       "      <th>0</th>\n",
       "      <td>3280</td>\n",
       "      <td>0.105488</td>\n",
       "    </tr>\n",
       "    <tr>\n",
       "      <th>1</th>\n",
       "      <td>1653</td>\n",
       "      <td>0.234120</td>\n",
       "    </tr>\n",
       "    <tr>\n",
       "      <th rowspan=\"2\" valign=\"top\">1</th>\n",
       "      <th>0</th>\n",
       "      <td>359</td>\n",
       "      <td>0.100279</td>\n",
       "    </tr>\n",
       "    <tr>\n",
       "      <th>1</th>\n",
       "      <td>1740</td>\n",
       "      <td>0.190805</td>\n",
       "    </tr>\n",
       "  </tbody>\n",
       "</table>\n",
       "</div>"
      ],
      "text/plain": [
       "                    count      mean\n",
       "Dependents Partner                 \n",
       "0          0         3280  0.105488\n",
       "           1         1653  0.234120\n",
       "1          0          359  0.100279\n",
       "           1         1740  0.190805"
      ]
     },
     "execution_count": 60,
     "metadata": {},
     "output_type": "execute_result"
    }
   ],
   "source": [
    "df.groupby(['Dependents','Partner'])['Target'].agg(['count', 'mean'])"
   ]
  },
  {
   "cell_type": "markdown",
   "metadata": {},
   "source": [
    "**Вывод 2**: Неожиданно: люди в браке и без детей наиболее склонны к отоку, доля 23%.  \n",
    "Люди в браке тоже находятся в рисковой группе, доля 19%.  \n",
    "А вот люди без детей и не в браке или с детьми, но не в браке имеют низкую долю оттока, всего 10%."
   ]
  },
  {
   "cell_type": "markdown",
   "metadata": {},
   "source": [
    "**Тип оплаты**"
   ]
  },
  {
   "cell_type": "code",
   "execution_count": 61,
   "metadata": {},
   "outputs": [
    {
     "data": {
      "text/html": [
       "<div>\n",
       "<style scoped>\n",
       "    .dataframe tbody tr th:only-of-type {\n",
       "        vertical-align: middle;\n",
       "    }\n",
       "\n",
       "    .dataframe tbody tr th {\n",
       "        vertical-align: top;\n",
       "    }\n",
       "\n",
       "    .dataframe thead th {\n",
       "        text-align: right;\n",
       "    }\n",
       "</style>\n",
       "<table border=\"1\" class=\"dataframe\">\n",
       "  <thead>\n",
       "    <tr style=\"text-align: right;\">\n",
       "      <th></th>\n",
       "      <th>count</th>\n",
       "      <th>mean</th>\n",
       "    </tr>\n",
       "    <tr>\n",
       "      <th>Type</th>\n",
       "      <th></th>\n",
       "      <th></th>\n",
       "    </tr>\n",
       "  </thead>\n",
       "  <tbody>\n",
       "    <tr>\n",
       "      <th>Month-to-month</th>\n",
       "      <td>3875</td>\n",
       "      <td>0.105032</td>\n",
       "    </tr>\n",
       "    <tr>\n",
       "      <th>One year</th>\n",
       "      <td>1472</td>\n",
       "      <td>0.212636</td>\n",
       "    </tr>\n",
       "    <tr>\n",
       "      <th>Two year</th>\n",
       "      <td>1685</td>\n",
       "      <td>0.226113</td>\n",
       "    </tr>\n",
       "  </tbody>\n",
       "</table>\n",
       "</div>"
      ],
      "text/plain": [
       "                count      mean\n",
       "Type                           \n",
       "Month-to-month   3875  0.105032\n",
       "One year         1472  0.212636\n",
       "Two year         1685  0.226113"
      ]
     },
     "execution_count": 61,
     "metadata": {},
     "output_type": "execute_result"
    }
   ],
   "source": [
    "df.groupby('Type')['Target'].agg(['count', 'mean'])"
   ]
  },
  {
   "cell_type": "markdown",
   "metadata": {},
   "source": [
    "**Вывод**: сегментация по типу оплаты показывает большой разрыв в доле отточников.  \n",
    "Люди, которые оплачивают связь сразу за год/несколько лет более склонны к оттоку, чем ежемесячные абоненты."
   ]
  },
  {
   "cell_type": "markdown",
   "metadata": {},
   "source": [
    "**Запрос чека**"
   ]
  },
  {
   "cell_type": "code",
   "execution_count": 62,
   "metadata": {},
   "outputs": [
    {
     "data": {
      "text/html": [
       "<div>\n",
       "<style scoped>\n",
       "    .dataframe tbody tr th:only-of-type {\n",
       "        vertical-align: middle;\n",
       "    }\n",
       "\n",
       "    .dataframe tbody tr th {\n",
       "        vertical-align: top;\n",
       "    }\n",
       "\n",
       "    .dataframe thead th {\n",
       "        text-align: right;\n",
       "    }\n",
       "</style>\n",
       "<table border=\"1\" class=\"dataframe\">\n",
       "  <thead>\n",
       "    <tr style=\"text-align: right;\">\n",
       "      <th></th>\n",
       "      <th>count</th>\n",
       "      <th>mean</th>\n",
       "    </tr>\n",
       "    <tr>\n",
       "      <th>PaperlessBilling</th>\n",
       "      <th></th>\n",
       "      <th></th>\n",
       "    </tr>\n",
       "  </thead>\n",
       "  <tbody>\n",
       "    <tr>\n",
       "      <th>0</th>\n",
       "      <td>2864</td>\n",
       "      <td>0.132682</td>\n",
       "    </tr>\n",
       "    <tr>\n",
       "      <th>1</th>\n",
       "      <td>4168</td>\n",
       "      <td>0.172985</td>\n",
       "    </tr>\n",
       "  </tbody>\n",
       "</table>\n",
       "</div>"
      ],
      "text/plain": [
       "                  count      mean\n",
       "PaperlessBilling                 \n",
       "0                  2864  0.132682\n",
       "1                  4168  0.172985"
      ]
     },
     "execution_count": 62,
     "metadata": {},
     "output_type": "execute_result"
    }
   ],
   "source": [
    "df.groupby('PaperlessBilling')['Target'].agg(['count', 'mean'])"
   ]
  },
  {
   "cell_type": "markdown",
   "metadata": {},
   "source": [
    "**Вывод**: люди, которые запрашивают чек более склонны к оттоку, их доля 17%."
   ]
  },
  {
   "cell_type": "markdown",
   "metadata": {},
   "source": [
    "**Тип интернета**"
   ]
  },
  {
   "cell_type": "code",
   "execution_count": 63,
   "metadata": {},
   "outputs": [
    {
     "data": {
      "text/html": [
       "<div>\n",
       "<style scoped>\n",
       "    .dataframe tbody tr th:only-of-type {\n",
       "        vertical-align: middle;\n",
       "    }\n",
       "\n",
       "    .dataframe tbody tr th {\n",
       "        vertical-align: top;\n",
       "    }\n",
       "\n",
       "    .dataframe thead th {\n",
       "        text-align: right;\n",
       "    }\n",
       "</style>\n",
       "<table border=\"1\" class=\"dataframe\">\n",
       "  <thead>\n",
       "    <tr style=\"text-align: right;\">\n",
       "      <th></th>\n",
       "      <th>count</th>\n",
       "      <th>mean</th>\n",
       "    </tr>\n",
       "    <tr>\n",
       "      <th>InternetService</th>\n",
       "      <th></th>\n",
       "      <th></th>\n",
       "    </tr>\n",
       "  </thead>\n",
       "  <tbody>\n",
       "    <tr>\n",
       "      <th>0</th>\n",
       "      <td>1520</td>\n",
       "      <td>0.105263</td>\n",
       "    </tr>\n",
       "    <tr>\n",
       "      <th>DSL</th>\n",
       "      <td>2416</td>\n",
       "      <td>0.143212</td>\n",
       "    </tr>\n",
       "    <tr>\n",
       "      <th>Fiber optic</th>\n",
       "      <td>3096</td>\n",
       "      <td>0.192183</td>\n",
       "    </tr>\n",
       "  </tbody>\n",
       "</table>\n",
       "</div>"
      ],
      "text/plain": [
       "                 count      mean\n",
       "InternetService                 \n",
       "0                 1520  0.105263\n",
       "DSL               2416  0.143212\n",
       "Fiber optic       3096  0.192183"
      ]
     },
     "execution_count": 63,
     "metadata": {},
     "output_type": "execute_result"
    }
   ],
   "source": [
    "df.groupby('InternetService')['Target'].agg(['count', 'mean'])"
   ]
  },
  {
   "cell_type": "markdown",
   "metadata": {},
   "source": [
    "**Вывод**: высокая доля отточников среди клиентов оптоволоконного интернета - 19%."
   ]
  },
  {
   "cell_type": "markdown",
   "metadata": {},
   "source": [
    "**Общие сборы**"
   ]
  },
  {
   "cell_type": "code",
   "execution_count": 64,
   "metadata": {},
   "outputs": [
    {
     "data": {
      "image/png": "[encoded data removed]",
      "text/plain": [
       "<Figure size 1080x360 with 1 Axes>"
      ]
     },
     "metadata": {
      "needs_background": "light"
     },
     "output_type": "display_data"
    }
   ],
   "source": [
    "df['TotalCharges'].hist(bins=50, figsize=(15,5), ec='black', linewidth=2)\n",
    "plt.show()"
   ]
  },
  {
   "cell_type": "markdown",
   "metadata": {},
   "source": [
    "**Месячные сборы**"
   ]
  },
  {
   "cell_type": "code",
   "execution_count": 65,
   "metadata": {},
   "outputs": [
    {
     "data": {
      "image/png": "[encoded data removed]",
      "text/plain": [
       "<Figure size 1080x360 with 1 Axes>"
      ]
     },
     "metadata": {
      "needs_background": "light"
     },
     "output_type": "display_data"
    }
   ],
   "source": [
    "df['MonthlyCharges'].hist(bins=50, figsize=(15,5), ec='black', linewidth=2)\n",
    "plt.show()"
   ]
  },
  {
   "cell_type": "markdown",
   "metadata": {},
   "source": [
    "**Метод оплаты**"
   ]
  },
  {
   "cell_type": "code",
   "execution_count": 66,
   "metadata": {},
   "outputs": [
    {
     "data": {
      "text/html": [
       "<div>\n",
       "<style scoped>\n",
       "    .dataframe tbody tr th:only-of-type {\n",
       "        vertical-align: middle;\n",
       "    }\n",
       "\n",
       "    .dataframe tbody tr th {\n",
       "        vertical-align: top;\n",
       "    }\n",
       "\n",
       "    .dataframe thead th {\n",
       "        text-align: right;\n",
       "    }\n",
       "</style>\n",
       "<table border=\"1\" class=\"dataframe\">\n",
       "  <thead>\n",
       "    <tr style=\"text-align: right;\">\n",
       "      <th></th>\n",
       "      <th>count</th>\n",
       "      <th>mean</th>\n",
       "    </tr>\n",
       "    <tr>\n",
       "      <th>PaymentMethod</th>\n",
       "      <th></th>\n",
       "      <th></th>\n",
       "    </tr>\n",
       "  </thead>\n",
       "  <tbody>\n",
       "    <tr>\n",
       "      <th>Bank transfer (automatic)</th>\n",
       "      <td>1542</td>\n",
       "      <td>0.205577</td>\n",
       "    </tr>\n",
       "    <tr>\n",
       "      <th>Credit card (automatic)</th>\n",
       "      <td>1521</td>\n",
       "      <td>0.208416</td>\n",
       "    </tr>\n",
       "    <tr>\n",
       "      <th>Electronic check</th>\n",
       "      <td>2365</td>\n",
       "      <td>0.147992</td>\n",
       "    </tr>\n",
       "    <tr>\n",
       "      <th>Mailed check</th>\n",
       "      <td>1604</td>\n",
       "      <td>0.072943</td>\n",
       "    </tr>\n",
       "  </tbody>\n",
       "</table>\n",
       "</div>"
      ],
      "text/plain": [
       "                           count      mean\n",
       "PaymentMethod                             \n",
       "Bank transfer (automatic)   1542  0.205577\n",
       "Credit card (automatic)     1521  0.208416\n",
       "Electronic check            2365  0.147992\n",
       "Mailed check                1604  0.072943"
      ]
     },
     "execution_count": 66,
     "metadata": {},
     "output_type": "execute_result"
    }
   ],
   "source": [
    "df.groupby('PaymentMethod')['Target'].agg(['count', 'mean'])"
   ]
  },
  {
   "cell_type": "code",
   "execution_count": 67,
   "metadata": {},
   "outputs": [
    {
     "data": {
      "text/html": [
       "<div>\n",
       "<style scoped>\n",
       "    .dataframe tbody tr th:only-of-type {\n",
       "        vertical-align: middle;\n",
       "    }\n",
       "\n",
       "    .dataframe tbody tr th {\n",
       "        vertical-align: top;\n",
       "    }\n",
       "\n",
       "    .dataframe thead th {\n",
       "        text-align: right;\n",
       "    }\n",
       "</style>\n",
       "<table border=\"1\" class=\"dataframe\">\n",
       "  <thead>\n",
       "    <tr style=\"text-align: right;\">\n",
       "      <th></th>\n",
       "      <th></th>\n",
       "      <th>count</th>\n",
       "      <th>mean</th>\n",
       "    </tr>\n",
       "    <tr>\n",
       "      <th>PaymentMethod</th>\n",
       "      <th>PaperlessBilling</th>\n",
       "      <th></th>\n",
       "      <th></th>\n",
       "    </tr>\n",
       "  </thead>\n",
       "  <tbody>\n",
       "    <tr>\n",
       "      <th rowspan=\"2\" valign=\"top\">Bank transfer (automatic)</th>\n",
       "      <th>0</th>\n",
       "      <td>653</td>\n",
       "      <td>0.166922</td>\n",
       "    </tr>\n",
       "    <tr>\n",
       "      <th>1</th>\n",
       "      <td>889</td>\n",
       "      <td>0.233971</td>\n",
       "    </tr>\n",
       "    <tr>\n",
       "      <th rowspan=\"2\" valign=\"top\">Credit card (automatic)</th>\n",
       "      <th>0</th>\n",
       "      <td>639</td>\n",
       "      <td>0.192488</td>\n",
       "    </tr>\n",
       "    <tr>\n",
       "      <th>1</th>\n",
       "      <td>882</td>\n",
       "      <td>0.219955</td>\n",
       "    </tr>\n",
       "    <tr>\n",
       "      <th rowspan=\"2\" valign=\"top\">Electronic check</th>\n",
       "      <th>0</th>\n",
       "      <td>623</td>\n",
       "      <td>0.123596</td>\n",
       "    </tr>\n",
       "    <tr>\n",
       "      <th>1</th>\n",
       "      <td>1742</td>\n",
       "      <td>0.156716</td>\n",
       "    </tr>\n",
       "    <tr>\n",
       "      <th rowspan=\"2\" valign=\"top\">Mailed check</th>\n",
       "      <th>0</th>\n",
       "      <td>949</td>\n",
       "      <td>0.074816</td>\n",
       "    </tr>\n",
       "    <tr>\n",
       "      <th>1</th>\n",
       "      <td>655</td>\n",
       "      <td>0.070229</td>\n",
       "    </tr>\n",
       "  </tbody>\n",
       "</table>\n",
       "</div>"
      ],
      "text/plain": [
       "                                            count      mean\n",
       "PaymentMethod             PaperlessBilling                 \n",
       "Bank transfer (automatic) 0                   653  0.166922\n",
       "                          1                   889  0.233971\n",
       "Credit card (automatic)   0                   639  0.192488\n",
       "                          1                   882  0.219955\n",
       "Electronic check          0                   623  0.123596\n",
       "                          1                  1742  0.156716\n",
       "Mailed check              0                   949  0.074816\n",
       "                          1                   655  0.070229"
      ]
     },
     "execution_count": 67,
     "metadata": {},
     "output_type": "execute_result"
    }
   ],
   "source": [
    "df.groupby(['PaymentMethod', 'PaperlessBilling'])['Target'].agg(['count', 'mean'])"
   ]
  },
  {
   "cell_type": "markdown",
   "metadata": {},
   "source": [
    "**Вывод**: Наибольшая доля отточников зафиксирована в сегментах с автоматическими платежами."
   ]
  },
  {
   "cell_type": "markdown",
   "metadata": {},
   "source": [
    "**Многоканальная линия**"
   ]
  },
  {
   "cell_type": "code",
   "execution_count": 68,
   "metadata": {},
   "outputs": [
    {
     "data": {
      "text/html": [
       "<div>\n",
       "<style scoped>\n",
       "    .dataframe tbody tr th:only-of-type {\n",
       "        vertical-align: middle;\n",
       "    }\n",
       "\n",
       "    .dataframe tbody tr th {\n",
       "        vertical-align: top;\n",
       "    }\n",
       "\n",
       "    .dataframe thead th {\n",
       "        text-align: right;\n",
       "    }\n",
       "</style>\n",
       "<table border=\"1\" class=\"dataframe\">\n",
       "  <thead>\n",
       "    <tr style=\"text-align: right;\">\n",
       "      <th></th>\n",
       "      <th>count</th>\n",
       "      <th>mean</th>\n",
       "    </tr>\n",
       "    <tr>\n",
       "      <th>MultipleLines</th>\n",
       "      <th></th>\n",
       "      <th></th>\n",
       "    </tr>\n",
       "  </thead>\n",
       "  <tbody>\n",
       "    <tr>\n",
       "      <th>0.0</th>\n",
       "      <td>4065</td>\n",
       "      <td>0.104059</td>\n",
       "    </tr>\n",
       "    <tr>\n",
       "      <th>1.0</th>\n",
       "      <td>2967</td>\n",
       "      <td>0.228514</td>\n",
       "    </tr>\n",
       "  </tbody>\n",
       "</table>\n",
       "</div>"
      ],
      "text/plain": [
       "               count      mean\n",
       "MultipleLines                 \n",
       "0.0             4065  0.104059\n",
       "1.0             2967  0.228514"
      ]
     },
     "execution_count": 68,
     "metadata": {},
     "output_type": "execute_result"
    }
   ],
   "source": [
    "df.groupby('MultipleLines')['Target'].agg(['count', 'mean'])"
   ]
  },
  {
   "cell_type": "markdown",
   "metadata": {},
   "source": [
    "**Вывод**: Самый существенный разрыв в отточниках по признаку многканальной связи.  \n",
    "Почти 23% отточников среди клиентов, у которых подключена многоканальная связь."
   ]
  },
  {
   "cell_type": "markdown",
   "metadata": {},
   "source": [
    "**Вывод**  \n",
    "**Пол**: значительных различий нет. Оба гендера склонны к оттоку примерно одинаково.  \n",
    "**Статус пенсионера**: высокая доля отточников среди пенсионеров - группа риска.  \n",
    "**Нахождение в браке**: люди с официально оформленными отношениями - группа риска. Разница с холостыми по оттоку более чем в два раза.\n",
    "**Наличие детей**: люди с детьми более склонны к оттоку по сравнению с клиентами без детей.  \n",
    "**Тип оплаты**: люди оплачивающие связь ежемесячно менее склонны к оттоку, чем люди с ежегодными(двухлетними) платежами. Разница более чем в 2 раза. Наиболее рисковая группа.  \n",
    "**Тип оплаты**: клиенты с электронными чеками более склонны к оттоку.  \n",
    "**Тип интернета**: по данному признаку наиболее рисковой группой являются пользователи проводного опто-волоконного интернета.  \n",
    "**Метод оплаты**: выявлены рисковые группы связанны с рекурентными платежами(ежемесячные безакцептные списания). Стоит отметить, что эти сегмента коррелируют с типом оплаты и являются наиболее рисковыми.  \n",
    "**Многоканальность**: одна из самых рисковых групп в контексте оттока это пользователя с многоканальной линией. В данным сегменте доля отточников наиболее трагичная\n"
   ]
  },
  {
   "cell_type": "code",
   "execution_count": 69,
   "metadata": {},
   "outputs": [
    {
     "data": {
      "text/plain": [
       "2.113380465435934"
      ]
     },
     "execution_count": 69,
     "metadata": {},
     "output_type": "execute_result"
    }
   ],
   "source": [
    "all_clients = df.query('Target == 0')\n",
    "all_clients['day_price'].mean()"
   ]
  },
  {
   "cell_type": "code",
   "execution_count": 70,
   "metadata": {},
   "outputs": [
    {
     "data": {
      "text/plain": [
       "2.5515787653142814"
      ]
     },
     "execution_count": 70,
     "metadata": {},
     "output_type": "execute_result"
    }
   ],
   "source": [
    "away_clients = df.query('Target == 1')\n",
    "away_clients['day_price'].mean()"
   ]
  },
  {
   "cell_type": "markdown",
   "metadata": {},
   "source": [
    "**Вывод**\n",
    "Отточные клиенты в среднем платят больше, чем те кто остался в компании.  \n",
    "**2,55** против **2,12**"
   ]
  },
  {
   "cell_type": "markdown",
   "metadata": {},
   "source": [
    "### Выбор модели"
   ]
  },
  {
   "cell_type": "markdown",
   "metadata": {},
   "source": [
    "**Catboost**"
   ]
  },
  {
   "cell_type": "code",
   "execution_count": 71,
   "metadata": {},
   "outputs": [],
   "source": [
    "train, test = train_test_split(df, train_size=0.75, random_state=220523, stratify=df['Target'])"
   ]
  },
  {
   "cell_type": "code",
   "execution_count": 72,
   "metadata": {},
   "outputs": [
    {
     "name": "stdout",
     "output_type": "stream",
     "text": [
      "(5274, 20)\n",
      "(1758, 20)\n"
     ]
    }
   ],
   "source": [
    "print(train.shape)\n",
    "print(test.shape)"
   ]
  },
  {
   "cell_type": "code",
   "execution_count": 73,
   "metadata": {},
   "outputs": [
    {
     "name": "stdout",
     "output_type": "stream",
     "text": [
      "Доля отточников в обучающей выборке 0.157\n",
      "Доля отточников в тестовой выборке: 0.156\n"
     ]
    }
   ],
   "source": [
    "print(\"Доля отточников в обучающей выборке\", round(train['Target'].mean(),3))\n",
    "print(\"Доля отточников в тестовой выборке:\", round(test['Target'].mean(),3))"
   ]
  },
  {
   "cell_type": "code",
   "execution_count": 74,
   "metadata": {},
   "outputs": [
    {
     "data": {
      "text/plain": [
       "Index(['gender', 'SeniorCitizen', 'Partner', 'Dependents', 'Type',\n",
       "       'PaperlessBilling', 'PaymentMethod', 'MonthlyCharges', 'TotalCharges',\n",
       "       'InternetService', 'OnlineSecurity', 'OnlineBackup', 'DeviceProtection',\n",
       "       'TechSupport', 'StreamingTV', 'StreamingMovies', 'MultipleLines',\n",
       "       'Target', 'happy_days', 'day_price'],\n",
       "      dtype='object')"
      ]
     },
     "execution_count": 74,
     "metadata": {},
     "output_type": "execute_result"
    }
   ],
   "source": [
    "df.columns"
   ]
  },
  {
   "cell_type": "code",
   "execution_count": 75,
   "metadata": {},
   "outputs": [
    {
     "data": {
      "text/html": [
       "<div>\n",
       "<style scoped>\n",
       "    .dataframe tbody tr th:only-of-type {\n",
       "        vertical-align: middle;\n",
       "    }\n",
       "\n",
       "    .dataframe tbody tr th {\n",
       "        vertical-align: top;\n",
       "    }\n",
       "\n",
       "    .dataframe thead th {\n",
       "        text-align: right;\n",
       "    }\n",
       "</style>\n",
       "<table border=\"1\" class=\"dataframe\">\n",
       "  <thead>\n",
       "    <tr style=\"text-align: right;\">\n",
       "      <th></th>\n",
       "      <th>gender</th>\n",
       "      <th>SeniorCitizen</th>\n",
       "      <th>Partner</th>\n",
       "      <th>Dependents</th>\n",
       "      <th>Type</th>\n",
       "      <th>PaperlessBilling</th>\n",
       "      <th>PaymentMethod</th>\n",
       "      <th>MonthlyCharges</th>\n",
       "      <th>TotalCharges</th>\n",
       "      <th>InternetService</th>\n",
       "      <th>OnlineSecurity</th>\n",
       "      <th>OnlineBackup</th>\n",
       "      <th>DeviceProtection</th>\n",
       "      <th>TechSupport</th>\n",
       "      <th>StreamingTV</th>\n",
       "      <th>StreamingMovies</th>\n",
       "      <th>MultipleLines</th>\n",
       "      <th>Target</th>\n",
       "      <th>happy_days</th>\n",
       "      <th>day_price</th>\n",
       "    </tr>\n",
       "  </thead>\n",
       "  <tbody>\n",
       "    <tr>\n",
       "      <th>1624</th>\n",
       "      <td>Female</td>\n",
       "      <td>0</td>\n",
       "      <td>1</td>\n",
       "      <td>0</td>\n",
       "      <td>One year</td>\n",
       "      <td>1</td>\n",
       "      <td>Electronic check</td>\n",
       "      <td>98.25</td>\n",
       "      <td>2554.50</td>\n",
       "      <td>Fiber optic</td>\n",
       "      <td>0.0</td>\n",
       "      <td>1.0</td>\n",
       "      <td>0.0</td>\n",
       "      <td>0.0</td>\n",
       "      <td>1.0</td>\n",
       "      <td>1.0</td>\n",
       "      <td>1.0</td>\n",
       "      <td>1</td>\n",
       "      <td>792</td>\n",
       "      <td>3.225379</td>\n",
       "    </tr>\n",
       "    <tr>\n",
       "      <th>3157</th>\n",
       "      <td>Male</td>\n",
       "      <td>0</td>\n",
       "      <td>0</td>\n",
       "      <td>0</td>\n",
       "      <td>Month-to-month</td>\n",
       "      <td>0</td>\n",
       "      <td>Mailed check</td>\n",
       "      <td>44.95</td>\n",
       "      <td>509.28</td>\n",
       "      <td>DSL</td>\n",
       "      <td>0.0</td>\n",
       "      <td>0.0</td>\n",
       "      <td>0.0</td>\n",
       "      <td>0.0</td>\n",
       "      <td>0.0</td>\n",
       "      <td>0.0</td>\n",
       "      <td>0.0</td>\n",
       "      <td>0</td>\n",
       "      <td>337</td>\n",
       "      <td>1.511217</td>\n",
       "    </tr>\n",
       "    <tr>\n",
       "      <th>5229</th>\n",
       "      <td>Female</td>\n",
       "      <td>1</td>\n",
       "      <td>1</td>\n",
       "      <td>0</td>\n",
       "      <td>One year</td>\n",
       "      <td>1</td>\n",
       "      <td>Electronic check</td>\n",
       "      <td>107.55</td>\n",
       "      <td>3161.97</td>\n",
       "      <td>Fiber optic</td>\n",
       "      <td>0.0</td>\n",
       "      <td>0.0</td>\n",
       "      <td>1.0</td>\n",
       "      <td>1.0</td>\n",
       "      <td>1.0</td>\n",
       "      <td>1.0</td>\n",
       "      <td>1.0</td>\n",
       "      <td>1</td>\n",
       "      <td>852</td>\n",
       "      <td>3.711232</td>\n",
       "    </tr>\n",
       "  </tbody>\n",
       "</table>\n",
       "</div>"
      ],
      "text/plain": [
       "      gender  SeniorCitizen  Partner  Dependents            Type  \\\n",
       "1624  Female              0        1           0        One year   \n",
       "3157    Male              0        0           0  Month-to-month   \n",
       "5229  Female              1        1           0        One year   \n",
       "\n",
       "      PaperlessBilling     PaymentMethod  MonthlyCharges  TotalCharges  \\\n",
       "1624                 1  Electronic check           98.25       2554.50   \n",
       "3157                 0      Mailed check           44.95        509.28   \n",
       "5229                 1  Electronic check          107.55       3161.97   \n",
       "\n",
       "     InternetService  OnlineSecurity  OnlineBackup  DeviceProtection  \\\n",
       "1624     Fiber optic             0.0           1.0               0.0   \n",
       "3157             DSL             0.0           0.0               0.0   \n",
       "5229     Fiber optic             0.0           0.0               1.0   \n",
       "\n",
       "      TechSupport  StreamingTV  StreamingMovies  MultipleLines  Target  \\\n",
       "1624          0.0          1.0              1.0            1.0       1   \n",
       "3157          0.0          0.0              0.0            0.0       0   \n",
       "5229          1.0          1.0              1.0            1.0       1   \n",
       "\n",
       "      happy_days  day_price  \n",
       "1624         792   3.225379  \n",
       "3157         337   1.511217  \n",
       "5229         852   3.711232  "
      ]
     },
     "execution_count": 75,
     "metadata": {},
     "output_type": "execute_result"
    }
   ],
   "source": [
    "df.sample(3)"
   ]
  },
  {
   "cell_type": "markdown",
   "metadata": {},
   "source": [
    "**Catboost**"
   ]
  },
  {
   "cell_type": "code",
   "execution_count": 76,
   "metadata": {},
   "outputs": [],
   "source": [
    "X = ['SeniorCitizen', 'Partner', 'Dependents', 'Type',\n",
    "       'PaperlessBilling', 'PaymentMethod', 'MonthlyCharges', 'TotalCharges',\n",
    "       'InternetService', 'OnlineSecurity', 'OnlineBackup', 'DeviceProtection',\n",
    "       'TechSupport', 'StreamingTV', 'StreamingMovies', 'MultipleLines',\n",
    "        'happy_days', 'day_price']\n",
    "\n",
    "cat_features = ['Type', 'PaymentMethod', 'InternetService']\n",
    "y = ['Target']"
   ]
  },
  {
   "cell_type": "code",
   "execution_count": 77,
   "metadata": {},
   "outputs": [],
   "source": [
    "pool_train = Pool(data=train[X], label=train[y], cat_features = cat_features\n",
    "                  )\n",
    "\n",
    "pool_test =  Pool(data=test[X], label=test[y], cat_features = cat_features\n",
    "                  )"
   ]
  },
  {
   "cell_type": "code",
   "execution_count": 78,
   "metadata": {},
   "outputs": [],
   "source": [
    "params = {\n",
    "          'random_seed':220523, \n",
    "          'learning_rate':0.015, \n",
    "          'eval_metric': 'AUC', \n",
    "        'auto_class_weights': 'Balanced',\n",
    "         'loss_function': 'Logloss',\n",
    "         }"
   ]
  },
  {
   "cell_type": "code",
   "execution_count": 79,
   "metadata": {},
   "outputs": [
    {
     "name": "stdout",
     "output_type": "stream",
     "text": [
      "Training on fold [0/5]\n",
      "\n",
      "bestTest = 0.871666441\n",
      "bestIteration = 997\n",
      "\n",
      "Training on fold [1/5]\n",
      "\n",
      "bestTest = 0.8426830099\n",
      "bestIteration = 990\n",
      "\n",
      "Training on fold [2/5]\n",
      "\n",
      "bestTest = 0.8571467484\n",
      "bestIteration = 984\n",
      "\n",
      "Training on fold [3/5]\n",
      "\n",
      "bestTest = 0.8504755087\n",
      "bestIteration = 999\n",
      "\n",
      "Training on fold [4/5]\n",
      "\n",
      "bestTest = 0.8540409722\n",
      "bestIteration = 999\n",
      "\n"
     ]
    }
   ],
   "source": [
    "cv_data = cv(params = params,\n",
    "            pool = pool_train,\n",
    "            fold_count = 5,\n",
    "            partition_random_seed = 220523, \n",
    "            stratified=True,\n",
    "            verbose=False)"
   ]
  },
  {
   "cell_type": "code",
   "execution_count": 80,
   "metadata": {},
   "outputs": [
    {
     "data": {
      "text/html": [
       "<div>\n",
       "<style scoped>\n",
       "    .dataframe tbody tr th:only-of-type {\n",
       "        vertical-align: middle;\n",
       "    }\n",
       "\n",
       "    .dataframe tbody tr th {\n",
       "        vertical-align: top;\n",
       "    }\n",
       "\n",
       "    .dataframe thead th {\n",
       "        text-align: right;\n",
       "    }\n",
       "</style>\n",
       "<table border=\"1\" class=\"dataframe\">\n",
       "  <thead>\n",
       "    <tr style=\"text-align: right;\">\n",
       "      <th></th>\n",
       "      <th>iterations</th>\n",
       "      <th>test-AUC-mean</th>\n",
       "      <th>test-AUC-std</th>\n",
       "      <th>test-Logloss-mean</th>\n",
       "      <th>test-Logloss-std</th>\n",
       "      <th>train-Logloss-mean</th>\n",
       "      <th>train-Logloss-std</th>\n",
       "    </tr>\n",
       "  </thead>\n",
       "  <tbody>\n",
       "    <tr>\n",
       "      <th>999</th>\n",
       "      <td>999</td>\n",
       "      <td>0.85516</td>\n",
       "      <td>0.010687</td>\n",
       "      <td>0.475774</td>\n",
       "      <td>0.014428</td>\n",
       "      <td>0.333519</td>\n",
       "      <td>0.004055</td>\n",
       "    </tr>\n",
       "  </tbody>\n",
       "</table>\n",
       "</div>"
      ],
      "text/plain": [
       "     iterations  test-AUC-mean  test-AUC-std  test-Logloss-mean  \\\n",
       "999         999        0.85516      0.010687           0.475774   \n",
       "\n",
       "     test-Logloss-std  train-Logloss-mean  train-Logloss-std  \n",
       "999          0.014428            0.333519           0.004055  "
      ]
     },
     "execution_count": 80,
     "metadata": {},
     "output_type": "execute_result"
    }
   ],
   "source": [
    "cv_data[cv_data['test-AUC-mean'] == cv_data['test-AUC-mean'].max()]"
   ]
  },
  {
   "cell_type": "code",
   "execution_count": 81,
   "metadata": {},
   "outputs": [
    {
     "name": "stdout",
     "output_type": "stream",
     "text": [
      "0:\ttotal: 10.4ms\tremaining: 10.3s\n",
      "100:\ttotal: 822ms\tremaining: 7.24s\n",
      "200:\ttotal: 1.57s\tremaining: 6.16s\n",
      "300:\ttotal: 2.33s\tremaining: 5.34s\n",
      "400:\ttotal: 3.06s\tremaining: 4.49s\n",
      "500:\ttotal: 3.82s\tremaining: 3.73s\n",
      "600:\ttotal: 4.59s\tremaining: 2.97s\n",
      "700:\ttotal: 5.47s\tremaining: 2.25s\n",
      "800:\ttotal: 6.37s\tremaining: 1.5s\n",
      "900:\ttotal: 7.25s\tremaining: 717ms\n",
      "989:\ttotal: 8.06s\tremaining: 0us\n"
     ]
    },
    {
     "data": {
      "text/plain": [
       "<catboost.core.CatBoostClassifier at 0x7f9b225d9cd0>"
      ]
     },
     "execution_count": 81,
     "metadata": {},
     "output_type": "execute_result"
    }
   ],
   "source": [
    "params = {'verbose':100, \n",
    "          'random_seed':220523, \n",
    "          'learning_rate':0.015, \n",
    "          'eval_metric': 'AUC', \n",
    "         'auto_class_weights': 'Balanced',\n",
    "         'loss_function': 'Logloss',\n",
    "         'iterations': 990}\n",
    "model = CatBoostClassifier(**params)\n",
    "model.fit(pool_train)"
   ]
  },
  {
   "cell_type": "code",
   "execution_count": 82,
   "metadata": {},
   "outputs": [
    {
     "name": "stdout",
     "output_type": "stream",
     "text": [
      "              precision    recall  f1-score   support\n",
      "\n",
      "           0       0.98      0.81      0.88      4448\n",
      "           1       0.46      0.89      0.61       826\n",
      "\n",
      "    accuracy                           0.82      5274\n",
      "   macro avg       0.72      0.85      0.75      5274\n",
      "weighted avg       0.89      0.82      0.84      5274\n",
      "\n"
     ]
    }
   ],
   "source": [
    "print(classification_report(train[y],model.predict(pool_train)))"
   ]
  },
  {
   "cell_type": "code",
   "execution_count": 83,
   "metadata": {},
   "outputs": [
    {
     "data": {
      "text/plain": [
       "<sklearn.metrics._plot.confusion_matrix.ConfusionMatrixDisplay at 0x7f9b2266ed90>"
      ]
     },
     "execution_count": 83,
     "metadata": {},
     "output_type": "execute_result"
    },
    {
     "data": {
      "image/png": "[encoded data removed]",
      "text/plain": [
       "<Figure size 432x288 with 2 Axes>"
      ]
     },
     "metadata": {
      "needs_background": "light"
     },
     "output_type": "display_data"
    }
   ],
   "source": [
    "cm = confusion_matrix(train[y],model.predict(pool_train))\n",
    "disp = ConfusionMatrixDisplay(cm)\n",
    "disp.plot()"
   ]
  },
  {
   "cell_type": "markdown",
   "metadata": {},
   "source": [
    "**Desicion Tree**"
   ]
  },
  {
   "cell_type": "code",
   "execution_count": 84,
   "metadata": {},
   "outputs": [],
   "source": [
    "def split_data(data, target_column):\n",
    "    return data.drop(columns=[target_column], axis=1), data[target_column]"
   ]
  },
  {
   "cell_type": "code",
   "execution_count": 85,
   "metadata": {},
   "outputs": [],
   "source": [
    "df_features, df_target = split_data(train, 'Target')"
   ]
  },
  {
   "cell_type": "code",
   "execution_count": 86,
   "metadata": {},
   "outputs": [],
   "source": [
    "gender_ohe = pd.get_dummies(df_features[\"gender\"], drop_first=True)\n",
    "payment_ohe = pd.get_dummies(df_features[\"PaymentMethod\"], drop_first=True)\n",
    "type_ohe = pd.get_dummies(df_features[\"Type\"], drop_first=True)\n",
    "is_ohe = pd.get_dummies(df_features[\"InternetService\"], drop_first=True)\n",
    "\n",
    "df_features.drop([\"gender\", \"PaymentMethod\", \"Type\", \"InternetService\", 'MonthlyCharges'], axis=1, inplace=True)\n",
    "df_ohe = pd.concat([df_features, gender_ohe, payment_ohe, type_ohe, is_ohe], axis=1)"
   ]
  },
  {
   "cell_type": "code",
   "execution_count": 87,
   "metadata": {},
   "outputs": [
    {
     "data": {
      "text/html": [
       "<div>\n",
       "<style scoped>\n",
       "    .dataframe tbody tr th:only-of-type {\n",
       "        vertical-align: middle;\n",
       "    }\n",
       "\n",
       "    .dataframe tbody tr th {\n",
       "        vertical-align: top;\n",
       "    }\n",
       "\n",
       "    .dataframe thead th {\n",
       "        text-align: right;\n",
       "    }\n",
       "</style>\n",
       "<table border=\"1\" class=\"dataframe\">\n",
       "  <thead>\n",
       "    <tr style=\"text-align: right;\">\n",
       "      <th></th>\n",
       "      <th>SeniorCitizen</th>\n",
       "      <th>Partner</th>\n",
       "      <th>Dependents</th>\n",
       "      <th>PaperlessBilling</th>\n",
       "      <th>TotalCharges</th>\n",
       "      <th>OnlineSecurity</th>\n",
       "      <th>OnlineBackup</th>\n",
       "      <th>DeviceProtection</th>\n",
       "      <th>TechSupport</th>\n",
       "      <th>StreamingTV</th>\n",
       "      <th>StreamingMovies</th>\n",
       "      <th>MultipleLines</th>\n",
       "      <th>happy_days</th>\n",
       "      <th>day_price</th>\n",
       "    </tr>\n",
       "  </thead>\n",
       "  <tbody>\n",
       "    <tr>\n",
       "      <th>4096</th>\n",
       "      <td>0</td>\n",
       "      <td>0</td>\n",
       "      <td>0</td>\n",
       "      <td>1</td>\n",
       "      <td>1913.16</td>\n",
       "      <td>1.0</td>\n",
       "      <td>0.0</td>\n",
       "      <td>1.0</td>\n",
       "      <td>0.0</td>\n",
       "      <td>1.0</td>\n",
       "      <td>0.0</td>\n",
       "      <td>0.0</td>\n",
       "      <td>610</td>\n",
       "      <td>3.136328</td>\n",
       "    </tr>\n",
       "    <tr>\n",
       "      <th>5423</th>\n",
       "      <td>0</td>\n",
       "      <td>0</td>\n",
       "      <td>0</td>\n",
       "      <td>1</td>\n",
       "      <td>1212.75</td>\n",
       "      <td>0.0</td>\n",
       "      <td>0.0</td>\n",
       "      <td>0.0</td>\n",
       "      <td>0.0</td>\n",
       "      <td>0.0</td>\n",
       "      <td>1.0</td>\n",
       "      <td>0.0</td>\n",
       "      <td>457</td>\n",
       "      <td>2.653720</td>\n",
       "    </tr>\n",
       "    <tr>\n",
       "      <th>3628</th>\n",
       "      <td>0</td>\n",
       "      <td>0</td>\n",
       "      <td>0</td>\n",
       "      <td>1</td>\n",
       "      <td>625.50</td>\n",
       "      <td>1.0</td>\n",
       "      <td>0.0</td>\n",
       "      <td>1.0</td>\n",
       "      <td>1.0</td>\n",
       "      <td>1.0</td>\n",
       "      <td>0.0</td>\n",
       "      <td>0.0</td>\n",
       "      <td>276</td>\n",
       "      <td>2.266304</td>\n",
       "    </tr>\n",
       "    <tr>\n",
       "      <th>992</th>\n",
       "      <td>0</td>\n",
       "      <td>1</td>\n",
       "      <td>1</td>\n",
       "      <td>0</td>\n",
       "      <td>577.72</td>\n",
       "      <td>0.0</td>\n",
       "      <td>0.0</td>\n",
       "      <td>0.0</td>\n",
       "      <td>0.0</td>\n",
       "      <td>0.0</td>\n",
       "      <td>0.0</td>\n",
       "      <td>1.0</td>\n",
       "      <td>671</td>\n",
       "      <td>0.860984</td>\n",
       "    </tr>\n",
       "    <tr>\n",
       "      <th>2640</th>\n",
       "      <td>0</td>\n",
       "      <td>0</td>\n",
       "      <td>0</td>\n",
       "      <td>1</td>\n",
       "      <td>2088.90</td>\n",
       "      <td>0.0</td>\n",
       "      <td>1.0</td>\n",
       "      <td>1.0</td>\n",
       "      <td>1.0</td>\n",
       "      <td>0.0</td>\n",
       "      <td>1.0</td>\n",
       "      <td>0.0</td>\n",
       "      <td>671</td>\n",
       "      <td>3.113115</td>\n",
       "    </tr>\n",
       "  </tbody>\n",
       "</table>\n",
       "</div>"
      ],
      "text/plain": [
       "      SeniorCitizen  Partner  Dependents  PaperlessBilling  TotalCharges  \\\n",
       "4096              0        0           0                 1       1913.16   \n",
       "5423              0        0           0                 1       1212.75   \n",
       "3628              0        0           0                 1        625.50   \n",
       "992               0        1           1                 0        577.72   \n",
       "2640              0        0           0                 1       2088.90   \n",
       "\n",
       "      OnlineSecurity  OnlineBackup  DeviceProtection  TechSupport  \\\n",
       "4096             1.0           0.0               1.0          0.0   \n",
       "5423             0.0           0.0               0.0          0.0   \n",
       "3628             1.0           0.0               1.0          1.0   \n",
       "992              0.0           0.0               0.0          0.0   \n",
       "2640             0.0           1.0               1.0          1.0   \n",
       "\n",
       "      StreamingTV  StreamingMovies  MultipleLines  happy_days  day_price  \n",
       "4096          1.0              0.0            0.0         610   3.136328  \n",
       "5423          0.0              1.0            0.0         457   2.653720  \n",
       "3628          1.0              0.0            0.0         276   2.266304  \n",
       "992           0.0              0.0            1.0         671   0.860984  \n",
       "2640          0.0              1.0            0.0         671   3.113115  "
      ]
     },
     "execution_count": 87,
     "metadata": {},
     "output_type": "execute_result"
    }
   ],
   "source": [
    "df_features.head(5)"
   ]
  },
  {
   "cell_type": "code",
   "execution_count": 88,
   "metadata": {},
   "outputs": [
    {
     "data": {
      "text/plain": [
       "GridSearchCV(cv=5, estimator=DecisionTreeClassifier(random_state=220523),\n",
       "             param_grid={'max_depth': [None, 6, 7, 8, 9, 10],\n",
       "                         'min_samples_split': range(2, 15)},\n",
       "             scoring='roc_auc')"
      ]
     },
     "execution_count": 88,
     "metadata": {},
     "output_type": "execute_result"
    }
   ],
   "source": [
    "param_grid = {'min_samples_split': range(2, 15),\n",
    "              'max_depth': [None, 6, 7, 8, 9, 10]\n",
    "             }\n",
    "\n",
    "model = DecisionTreeClassifier (random_state=220523)\n",
    "\n",
    "grid_search = GridSearchCV(model, param_grid, cv=5,\n",
    "                           scoring='roc_auc'\n",
    "                          )\n",
    "grid_search.fit(df_features, df_target)"
   ]
  },
  {
   "cell_type": "code",
   "execution_count": 89,
   "metadata": {},
   "outputs": [
    {
     "data": {
      "text/plain": [
       "{'max_depth': 6, 'min_samples_split': 14}"
      ]
     },
     "execution_count": 89,
     "metadata": {},
     "output_type": "execute_result"
    }
   ],
   "source": [
    "grid_search.best_params_"
   ]
  },
  {
   "cell_type": "code",
   "execution_count": 90,
   "metadata": {},
   "outputs": [
    {
     "data": {
      "text/plain": [
       "0.775827719684122"
      ]
     },
     "execution_count": 90,
     "metadata": {},
     "output_type": "execute_result"
    }
   ],
   "source": [
    "grid_search.best_score_"
   ]
  },
  {
   "cell_type": "markdown",
   "metadata": {},
   "source": [
    "**Случайный лес**"
   ]
  },
  {
   "cell_type": "code",
   "execution_count": 91,
   "metadata": {},
   "outputs": [
    {
     "data": {
      "text/plain": [
       "GridSearchCV(cv=5, estimator=RandomForestClassifier(random_state=220523),\n",
       "             param_grid={'criterion': ['gini', 'entropy'],\n",
       "                         'min_samples_split': range(5, 15),\n",
       "                         'n_estimators': [3, 10, 30]},\n",
       "             scoring='roc_auc')"
      ]
     },
     "execution_count": 91,
     "metadata": {},
     "output_type": "execute_result"
    }
   ],
   "source": [
    "par_grid_ensemble = {'n_estimators': [3, 10, 30],\n",
    "                     'criterion': ['gini', 'entropy'],\n",
    "                     'min_samples_split': range(5, 15)\n",
    "                    }\n",
    "model = RandomForestClassifier(random_state=220523)\n",
    "\n",
    "grid_search = GridSearchCV(model, par_grid_ensemble, cv=5,\n",
    "                           scoring='roc_auc'\n",
    "                          )\n",
    "grid_search.fit(df_features, df_target)"
   ]
  },
  {
   "cell_type": "code",
   "execution_count": 92,
   "metadata": {},
   "outputs": [
    {
     "data": {
      "text/plain": [
       "{'criterion': 'entropy', 'min_samples_split': 13, 'n_estimators': 30}"
      ]
     },
     "execution_count": 92,
     "metadata": {},
     "output_type": "execute_result"
    }
   ],
   "source": [
    "grid_search.best_params_"
   ]
  },
  {
   "cell_type": "code",
   "execution_count": 93,
   "metadata": {},
   "outputs": [
    {
     "data": {
      "text/plain": [
       "0.7959374091338993"
      ]
     },
     "execution_count": 93,
     "metadata": {},
     "output_type": "execute_result"
    }
   ],
   "source": [
    "grid_search.best_score_"
   ]
  },
  {
   "cell_type": "markdown",
   "metadata": {},
   "source": [
    "**Логистическая регрессия**"
   ]
  },
  {
   "cell_type": "code",
   "execution_count": 94,
   "metadata": {},
   "outputs": [
    {
     "data": {
      "text/plain": [
       "GridSearchCV(cv=5,\n",
       "             estimator=LogisticRegression(random_state=220523,\n",
       "                                          solver='liblinear'),\n",
       "             param_grid={'C': [0.5, 1, 1.5], 'class_weight': [None, 'balanced'],\n",
       "                         'intercept_scaling': [0.5, 1.0, 1.5]},\n",
       "             scoring='roc_auc')"
      ]
     },
     "execution_count": 94,
     "metadata": {},
     "output_type": "execute_result"
    }
   ],
   "source": [
    "par_grid_logist = {\n",
    "                   'intercept_scaling': [0.5, 1.0, 1.5],\n",
    "                   'class_weight': [None, 'balanced'],\n",
    "                   'C': [0.5, 1, 1.5]\n",
    "                   }\n",
    "model = LogisticRegression(solver='liblinear',random_state=220523)\n",
    "\n",
    "grid_search = GridSearchCV(model, par_grid_logist, cv=5,\n",
    "                           scoring='roc_auc')\n",
    "grid_search.fit(df_features, df_target)"
   ]
  },
  {
   "cell_type": "code",
   "execution_count": 95,
   "metadata": {},
   "outputs": [
    {
     "data": {
      "text/plain": [
       "{'C': 1, 'class_weight': 'balanced', 'intercept_scaling': 0.5}"
      ]
     },
     "execution_count": 95,
     "metadata": {},
     "output_type": "execute_result"
    }
   ],
   "source": [
    "grid_search.best_params_"
   ]
  },
  {
   "cell_type": "code",
   "execution_count": 96,
   "metadata": {},
   "outputs": [
    {
     "data": {
      "text/plain": [
       "0.7206751909497167"
      ]
     },
     "execution_count": 96,
     "metadata": {},
     "output_type": "execute_result"
    }
   ],
   "source": [
    "grid_search.best_score_"
   ]
  },
  {
   "cell_type": "markdown",
   "metadata": {},
   "source": [
    "**k ближайших соседей**"
   ]
  },
  {
   "cell_type": "code",
   "execution_count": 97,
   "metadata": {},
   "outputs": [
    {
     "data": {
      "text/plain": [
       "GridSearchCV(cv=5, estimator=KNeighborsClassifier(),\n",
       "             param_grid={'algorithm': ['ball_tree', 'kd_tree'],\n",
       "                         'leaf_size': [1, 3, 5], 'n_neighbors': [5, 10, 15],\n",
       "                         'weights': ['uniform', 'distance']},\n",
       "             scoring='roc_auc')"
      ]
     },
     "execution_count": 97,
     "metadata": {},
     "output_type": "execute_result"
    }
   ],
   "source": [
    "par_grid_kneigh = {\n",
    "                   'n_neighbors': [5,10,15],\n",
    "                   'leaf_size': [1,3,5],\n",
    "                   'weights': ['uniform', 'distance'],\n",
    "                   'algorithm': ['ball_tree', 'kd_tree']\n",
    "                   }\n",
    "model = KNeighborsClassifier()\n",
    "\n",
    "grid_search = GridSearchCV(model, par_grid_kneigh, cv=5,\n",
    "                           scoring='roc_auc')\n",
    "grid_search.fit(df_features, df_target)"
   ]
  },
  {
   "cell_type": "code",
   "execution_count": 98,
   "metadata": {},
   "outputs": [
    {
     "data": {
      "text/plain": [
       "{'algorithm': 'ball_tree',\n",
       " 'leaf_size': 1,\n",
       " 'n_neighbors': 15,\n",
       " 'weights': 'uniform'}"
      ]
     },
     "execution_count": 98,
     "metadata": {},
     "output_type": "execute_result"
    }
   ],
   "source": [
    "grid_search.best_params_"
   ]
  },
  {
   "cell_type": "code",
   "execution_count": 99,
   "metadata": {},
   "outputs": [
    {
     "data": {
      "text/plain": [
       "0.7271468589347434"
      ]
     },
     "execution_count": 99,
     "metadata": {},
     "output_type": "execute_result"
    }
   ],
   "source": [
    "grid_search.best_score_"
   ]
  },
  {
   "cell_type": "markdown",
   "metadata": {},
   "source": [
    "### Тест модели"
   ]
  },
  {
   "cell_type": "markdown",
   "metadata": {},
   "source": [
    "По результатам исследования лучшей моделью признан - Catboost. Проверим её на тестовой выборке."
   ]
  },
  {
   "cell_type": "code",
   "execution_count": 100,
   "metadata": {},
   "outputs": [
    {
     "name": "stdout",
     "output_type": "stream",
     "text": [
      "0:\ttotal: 8.8ms\tremaining: 8.71s\n",
      "100:\ttotal: 754ms\tremaining: 6.64s\n",
      "200:\ttotal: 1.47s\tremaining: 5.78s\n",
      "300:\ttotal: 2.2s\tremaining: 5.04s\n",
      "400:\ttotal: 2.87s\tremaining: 4.21s\n",
      "500:\ttotal: 3.56s\tremaining: 3.48s\n",
      "600:\ttotal: 4.29s\tremaining: 2.78s\n",
      "700:\ttotal: 5.11s\tremaining: 2.1s\n",
      "800:\ttotal: 5.99s\tremaining: 1.41s\n",
      "900:\ttotal: 6.8s\tremaining: 672ms\n",
      "989:\ttotal: 7.53s\tremaining: 0us\n"
     ]
    },
    {
     "data": {
      "text/plain": [
       "<catboost.core.CatBoostClassifier at 0x7f9b2ab2d730>"
      ]
     },
     "execution_count": 100,
     "metadata": {},
     "output_type": "execute_result"
    }
   ],
   "source": [
    "params = {'verbose':100, \n",
    "          'random_seed':220523, \n",
    "          'learning_rate':0.015, \n",
    "          'eval_metric': 'AUC', \n",
    "         'auto_class_weights': 'Balanced',\n",
    "         'loss_function': 'Logloss',\n",
    "         'iterations': 990}\n",
    "model = CatBoostClassifier(**params)\n",
    "model.fit(pool_train)"
   ]
  },
  {
   "cell_type": "code",
   "execution_count": 101,
   "metadata": {},
   "outputs": [
    {
     "data": {
      "image/png": "[encoded data removed]",
      "text/plain": [
       "<Figure size 720x720 with 1 Axes>"
      ]
     },
     "metadata": {
      "needs_background": "light"
     },
     "output_type": "display_data"
    },
    {
     "name": "stdout",
     "output_type": "stream",
     "text": [
      "AUC: 0.8583877888800344\n"
     ]
    }
   ],
   "source": [
    "probabilities_test = model.predict_proba(test[X])\n",
    "probabilities_one_test = probabilities_test[:, 1]\n",
    "\n",
    "fpr, tpr, thresholds = roc_curve(test[y], probabilities_one_test) \n",
    "\n",
    "plt.figure(figsize=(10, 10))\n",
    "plt.plot(fpr, tpr, linestyle='-')\n",
    "plt.plot([0, 1], [0, 1], linestyle='--')\n",
    "plt.xlim([0.0, 1.0])\n",
    "plt.ylim([0.0, 1.0])\n",
    "plt.xlabel('False Positive Rate')\n",
    "plt.ylabel('True Positive Rate')\n",
    "plt.title('ROC-кривая')\n",
    "plt.show()\n",
    "\n",
    "auc_roc = roc_auc_score(test[y], probabilities_one_test)\n",
    "\n",
    "print(\"AUC:\", auc_roc)"
   ]
  },
  {
   "cell_type": "code",
   "execution_count": 102,
   "metadata": {},
   "outputs": [
    {
     "name": "stdout",
     "output_type": "stream",
     "text": [
      "              precision    recall  f1-score   support\n",
      "\n",
      "           0       0.95      0.78      0.86      1483\n",
      "           1       0.40      0.77      0.52       275\n",
      "\n",
      "    accuracy                           0.78      1758\n",
      "   macro avg       0.67      0.78      0.69      1758\n",
      "weighted avg       0.86      0.78      0.81      1758\n",
      "\n"
     ]
    }
   ],
   "source": [
    "print(classification_report(test[y],model.predict(pool_test)))"
   ]
  },
  {
   "cell_type": "code",
   "execution_count": 103,
   "metadata": {},
   "outputs": [
    {
     "data": {
      "text/plain": [
       "<sklearn.metrics._plot.confusion_matrix.ConfusionMatrixDisplay at 0x7f9b226d02b0>"
      ]
     },
     "execution_count": 103,
     "metadata": {},
     "output_type": "execute_result"
    },
    {
     "data": {
      "image/png": "[encoded data removed]",
      "text/plain": [
       "<Figure size 432x288 with 2 Axes>"
      ]
     },
     "metadata": {
      "needs_background": "light"
     },
     "output_type": "display_data"
    }
   ],
   "source": [
    "cm = confusion_matrix(test[y],model.predict(pool_test))\n",
    "disp = ConfusionMatrixDisplay(cm)\n",
    "disp.plot()"
   ]
  },
  {
   "cell_type": "code",
   "execution_count": 104,
   "metadata": {},
   "outputs": [
    {
     "data": {
      "image/png": "[encoded data removed]",
      "text/plain": [
       "<Figure size 864x216 with 1 Axes>"
      ]
     },
     "metadata": {
      "needs_background": "light"
     },
     "output_type": "display_data"
    }
   ],
   "source": [
    "fi = model.get_feature_importance(prettified=True)\n",
    "\n",
    "plt.figure(figsize=(12, 3));\n",
    "sns.barplot(x=\"Importances\", y=\"Feature Id\", data=fi);\n",
    "plt.title('CatBoost features importance:');"
   ]
  },
  {
   "cell_type": "markdown",
   "metadata": {},
   "source": [
    "**Вывод**: выбранная модель была протестирована на неизвестных ей данных, модели удалось пройти заданный порог в 0.85. При этом показатели precision и recall по положительному классу требуют дополнительных изучений, в контексте бизнеса. Если для бизнеса важно удержание максимального количества отточников, даже с учётом увеличения количества FP, то рекомендуется применение метода predict_proba и подбор оптимального порога учитвающего потребности и экономику бизнеса."
   ]
  },
  {
   "cell_type": "markdown",
   "metadata": {},
   "source": [
    "### Отчёт \n"
   ]
  },
  {
   "cell_type": "markdown",
   "metadata": {},
   "source": [
    "1. **Знакомство с данными**  \n",
    "В рамках проекта была поставлена задача определить факторы влияющие на отказ клиента от обслуживания в телеком-компании и построить модель предсказывающую вероятность отказа клиента.  \n",
    "На вход было получено 4 датасета, разной длины: от 5517 до 7043 строк. В рамках подготовки к предобработку данных, датасеты были объединены в 1 длинной 7043 строк.\n",
    "2. **Предобработка**  \n",
    "В ходе предобраотки была проведена проверка на наличие дубликатов, выделение таргета по дате ухода из компании, выявление аномалий в столбце по общим тратам за весь период обслуживания, изменение форматов дат, добавление нового признака количество дней в компании, изучение сезонности. После добавления признака по средней стоимости обслуживания в день на каждого клиента, выяснилось, что отточные клиенты платили больше.  \n",
    "В заключительной части были дропнуты айди клиентов, как неинформативаные и даты, как источники утечки.\n",
    "Далее c помощью phik_overview были визуализирована важность признаков.  \n",
    "3. **EDA**  \n",
    "В рамках EDA были изучены все важные признаки и выявлены следующие группы риска: пенсионеры, в браке, имеющие детей, оплачивающие телеком-услуги раз в 1-2 года, используюзие оптоволоконный интернет, использующие автоматическое списание через кредитку или банковский счёт, использующие многоканальную связь. \n",
    "4. **Выбор модели**  \n",
    "Было рассмотрено 3 модели: CatBoostClassifier, Desicion Tree, RandomForestClassifier. По итогам исследования пороговое значение удалось пройти только модели CatBoostClassifier с результатом 0.85. Для деревянных моделей был применен ГридСерч для подбора гиперпараметров, а к категорилаьным переменным был применён One-Hot Encoding. Но это не дало ощутимых результатов и моделям не удалось пройти даже поро 0.80. \n",
    "5. **Тест модели**  \n",
    "При тестировании CatBoostClassifie показал ROC-AUC - 0.859.\n",
    "Отмечена возможность корректировки нужных метрик за счёт изменения порога."
   ]
  }
 ],
 "metadata": {
  "ExecuteTimeLog": [
   {
    "duration": 1464,
    "start_time": "2023-05-22T18:50:07.682Z"
   },
   {
    "duration": 345,
    "start_time": "2023-05-22T19:39:25.767Z"
   },
   {
    "duration": 75,
    "start_time": "2023-05-22T19:41:21.192Z"
   },
   {
    "duration": 116,
    "start_time": "2023-05-22T19:41:47.998Z"
   },
   {
    "duration": 88,
    "start_time": "2023-05-22T19:45:34.511Z"
   },
   {
    "duration": 78,
    "start_time": "2023-05-22T19:49:29.064Z"
   },
   {
    "duration": 101,
    "start_time": "2023-05-22T19:49:39.229Z"
   },
   {
    "duration": 3,
    "start_time": "2023-05-22T19:49:49.031Z"
   },
   {
    "duration": 47,
    "start_time": "2023-05-22T19:49:49.651Z"
   },
   {
    "duration": 29,
    "start_time": "2023-05-22T19:49:50.391Z"
   },
   {
    "duration": 40,
    "start_time": "2023-05-22T19:49:51.091Z"
   },
   {
    "duration": 23,
    "start_time": "2023-05-22T19:49:51.802Z"
   },
   {
    "duration": 36,
    "start_time": "2023-05-22T19:50:23.460Z"
   },
   {
    "duration": 68,
    "start_time": "2023-05-22T19:53:50.768Z"
   },
   {
    "duration": 26,
    "start_time": "2023-05-22T20:07:03.410Z"
   },
   {
    "duration": 45,
    "start_time": "2023-05-23T06:06:29.303Z"
   },
   {
    "duration": 1285,
    "start_time": "2023-05-23T06:06:33.357Z"
   },
   {
    "duration": 153,
    "start_time": "2023-05-23T06:06:35.173Z"
   },
   {
    "duration": 62,
    "start_time": "2023-05-23T06:06:35.910Z"
   },
   {
    "duration": 115,
    "start_time": "2023-05-23T06:06:36.550Z"
   },
   {
    "duration": 75,
    "start_time": "2023-05-23T06:06:37.150Z"
   },
   {
    "duration": 36,
    "start_time": "2023-05-23T06:06:37.813Z"
   },
   {
    "duration": 26,
    "start_time": "2023-05-23T06:06:39.614Z"
   },
   {
    "duration": 20,
    "start_time": "2023-05-23T06:06:40.293Z"
   },
   {
    "duration": 15,
    "start_time": "2023-05-23T06:07:05.438Z"
   },
   {
    "duration": 15,
    "start_time": "2023-05-23T06:07:32.342Z"
   },
   {
    "duration": 29,
    "start_time": "2023-05-23T06:07:43.974Z"
   },
   {
    "duration": 17,
    "start_time": "2023-05-23T06:07:59.493Z"
   },
   {
    "duration": 67,
    "start_time": "2023-05-23T06:13:37.757Z"
   },
   {
    "duration": 193,
    "start_time": "2023-05-23T06:13:58.989Z"
   },
   {
    "duration": 171,
    "start_time": "2023-05-23T06:16:44.966Z"
   },
   {
    "duration": 21262,
    "start_time": "2023-05-23T06:16:59.397Z"
   },
   {
    "duration": 199,
    "start_time": "2023-05-23T06:17:28.669Z"
   },
   {
    "duration": 5352,
    "start_time": "2023-05-23T06:17:29.775Z"
   },
   {
    "duration": 42405,
    "start_time": "2023-05-23T06:17:40.021Z"
   },
   {
    "duration": 5,
    "start_time": "2023-05-23T06:19:20.581Z"
   },
   {
    "duration": 8,
    "start_time": "2023-05-23T06:19:36.820Z"
   },
   {
    "duration": 8,
    "start_time": "2023-05-23T06:25:33.811Z"
   },
   {
    "duration": 8,
    "start_time": "2023-05-23T06:25:40.595Z"
   },
   {
    "duration": 9,
    "start_time": "2023-05-23T06:25:45.851Z"
   },
   {
    "duration": 8,
    "start_time": "2023-05-23T06:25:53.067Z"
   },
   {
    "duration": 8,
    "start_time": "2023-05-23T06:25:58.108Z"
   },
   {
    "duration": 15,
    "start_time": "2023-05-23T06:26:38.323Z"
   },
   {
    "duration": 23,
    "start_time": "2023-05-23T06:27:26.820Z"
   },
   {
    "duration": 16,
    "start_time": "2023-05-23T06:27:31.595Z"
   },
   {
    "duration": 4,
    "start_time": "2023-05-23T06:28:45.884Z"
   },
   {
    "duration": 20,
    "start_time": "2023-05-23T06:43:52.400Z"
   },
   {
    "duration": 100,
    "start_time": "2023-05-23T06:45:43.992Z"
   },
   {
    "duration": 3,
    "start_time": "2023-05-23T06:45:52.129Z"
   },
   {
    "duration": 21,
    "start_time": "2023-05-23T06:46:35.416Z"
   },
   {
    "duration": 3,
    "start_time": "2023-05-23T06:47:41.208Z"
   },
   {
    "duration": 23,
    "start_time": "2023-05-23T06:48:15.224Z"
   },
   {
    "duration": 27,
    "start_time": "2023-05-23T06:48:32.462Z"
   },
   {
    "duration": 5,
    "start_time": "2023-05-23T06:48:45.472Z"
   },
   {
    "duration": 75,
    "start_time": "2023-05-23T06:49:09.712Z"
   },
   {
    "duration": 4,
    "start_time": "2023-05-23T06:49:27.464Z"
   },
   {
    "duration": 3,
    "start_time": "2023-05-23T06:49:39.744Z"
   },
   {
    "duration": 3,
    "start_time": "2023-05-23T06:49:50.392Z"
   },
   {
    "duration": 80,
    "start_time": "2023-05-23T06:54:05.631Z"
   },
   {
    "duration": 9,
    "start_time": "2023-05-23T06:54:34.863Z"
   },
   {
    "duration": 19,
    "start_time": "2023-05-23T06:54:57.247Z"
   },
   {
    "duration": 8,
    "start_time": "2023-05-23T06:55:38.808Z"
   },
   {
    "duration": 10,
    "start_time": "2023-05-23T06:55:42.183Z"
   },
   {
    "duration": 12,
    "start_time": "2023-05-23T06:56:07.759Z"
   },
   {
    "duration": 17,
    "start_time": "2023-05-23T06:56:26.143Z"
   },
   {
    "duration": 12,
    "start_time": "2023-05-23T06:56:47.644Z"
   },
   {
    "duration": 11,
    "start_time": "2023-05-23T06:57:08.975Z"
   },
   {
    "duration": 11,
    "start_time": "2023-05-23T06:57:31.887Z"
   },
   {
    "duration": 18,
    "start_time": "2023-05-23T06:57:58.247Z"
   },
   {
    "duration": 8,
    "start_time": "2023-05-23T06:58:59.007Z"
   },
   {
    "duration": 8,
    "start_time": "2023-05-23T06:59:28.182Z"
   },
   {
    "duration": 3313,
    "start_time": "2023-05-23T06:59:37.871Z"
   },
   {
    "duration": 24,
    "start_time": "2023-05-23T06:59:53.047Z"
   },
   {
    "duration": 39,
    "start_time": "2023-05-23T07:00:11.775Z"
   },
   {
    "duration": 52,
    "start_time": "2023-05-23T07:05:01.599Z"
   },
   {
    "duration": 6,
    "start_time": "2023-05-23T07:05:16.351Z"
   },
   {
    "duration": 8,
    "start_time": "2023-05-23T07:05:19.864Z"
   },
   {
    "duration": 1214,
    "start_time": "2023-05-23T07:05:24.052Z"
   },
   {
    "duration": 158,
    "start_time": "2023-05-23T07:05:25.268Z"
   },
   {
    "duration": 213,
    "start_time": "2023-05-23T07:05:26.348Z"
   },
   {
    "duration": 19,
    "start_time": "2023-05-23T07:05:26.991Z"
   },
   {
    "duration": 79,
    "start_time": "2023-05-23T07:05:27.598Z"
   },
   {
    "duration": 22,
    "start_time": "2023-05-23T07:05:28.244Z"
   },
   {
    "duration": 123,
    "start_time": "2023-05-23T07:05:28.767Z"
   },
   {
    "duration": 34,
    "start_time": "2023-05-23T07:05:29.430Z"
   },
   {
    "duration": 105,
    "start_time": "2023-05-23T07:05:30.362Z"
   },
   {
    "duration": 17,
    "start_time": "2023-05-23T07:05:30.903Z"
   },
   {
    "duration": 43,
    "start_time": "2023-05-23T07:05:31.547Z"
   },
   {
    "duration": 25,
    "start_time": "2023-05-23T07:05:32.648Z"
   },
   {
    "duration": 5,
    "start_time": "2023-05-23T07:05:33.155Z"
   },
   {
    "duration": 21,
    "start_time": "2023-05-23T07:05:33.983Z"
   },
   {
    "duration": 3,
    "start_time": "2023-05-23T07:05:34.468Z"
   },
   {
    "duration": 27,
    "start_time": "2023-05-23T07:05:35.055Z"
   },
   {
    "duration": 4,
    "start_time": "2023-05-23T07:05:35.622Z"
   },
   {
    "duration": 59,
    "start_time": "2023-05-23T07:05:36.359Z"
   },
   {
    "duration": 3584,
    "start_time": "2023-05-23T07:05:37.278Z"
   },
   {
    "duration": 73,
    "start_time": "2023-05-23T07:05:47.711Z"
   },
   {
    "duration": 12,
    "start_time": "2023-05-23T07:05:48.267Z"
   },
   {
    "duration": 10,
    "start_time": "2023-05-23T07:05:48.902Z"
   },
   {
    "duration": 10,
    "start_time": "2023-05-23T07:05:49.360Z"
   },
   {
    "duration": 10,
    "start_time": "2023-05-23T07:05:49.783Z"
   },
   {
    "duration": 10,
    "start_time": "2023-05-23T07:05:50.302Z"
   },
   {
    "duration": 11,
    "start_time": "2023-05-23T07:05:50.867Z"
   },
   {
    "duration": 11,
    "start_time": "2023-05-23T07:05:51.718Z"
   },
   {
    "duration": 10,
    "start_time": "2023-05-23T07:05:52.566Z"
   },
   {
    "duration": 6,
    "start_time": "2023-05-23T07:06:01.015Z"
   },
   {
    "duration": 29,
    "start_time": "2023-05-23T07:06:08.502Z"
   },
   {
    "duration": 8,
    "start_time": "2023-05-23T07:06:31.607Z"
   },
   {
    "duration": 4,
    "start_time": "2023-05-23T07:08:47.918Z"
   },
   {
    "duration": 16,
    "start_time": "2023-05-23T07:09:17.119Z"
   },
   {
    "duration": 7,
    "start_time": "2023-05-23T07:09:48.448Z"
   },
   {
    "duration": 9,
    "start_time": "2023-05-23T07:09:54.774Z"
   },
   {
    "duration": 5,
    "start_time": "2023-05-23T07:11:06.424Z"
   },
   {
    "duration": 13,
    "start_time": "2023-05-23T07:11:11.278Z"
   },
   {
    "duration": 21,
    "start_time": "2023-05-23T07:11:57.686Z"
   },
   {
    "duration": 8,
    "start_time": "2023-05-23T07:15:15.277Z"
   },
   {
    "duration": 7,
    "start_time": "2023-05-23T07:15:15.805Z"
   },
   {
    "duration": 82,
    "start_time": "2023-05-23T07:15:39.325Z"
   },
   {
    "duration": 184,
    "start_time": "2023-05-23T07:15:45.605Z"
   },
   {
    "duration": 29182,
    "start_time": "2023-05-23T07:15:56.126Z"
   },
   {
    "duration": 5,
    "start_time": "2023-05-23T07:16:39.067Z"
   },
   {
    "duration": 510,
    "start_time": "2023-05-23T07:16:41.759Z"
   },
   {
    "duration": 4,
    "start_time": "2023-05-23T08:44:28.874Z"
   },
   {
    "duration": 69,
    "start_time": "2023-05-23T08:44:30.248Z"
   },
   {
    "duration": 236,
    "start_time": "2023-05-23T08:44:47.911Z"
   },
   {
    "duration": 40,
    "start_time": "2023-05-23T08:48:25.975Z"
   },
   {
    "duration": 18,
    "start_time": "2023-05-23T08:51:40.271Z"
   },
   {
    "duration": 85,
    "start_time": "2023-05-23T08:52:59.247Z"
   },
   {
    "duration": 75,
    "start_time": "2023-05-23T08:53:46.815Z"
   },
   {
    "duration": 11,
    "start_time": "2023-05-23T08:59:26.467Z"
   },
   {
    "duration": 69,
    "start_time": "2023-05-23T08:59:33.718Z"
   },
   {
    "duration": 19,
    "start_time": "2023-05-23T08:59:45.966Z"
   },
   {
    "duration": 18,
    "start_time": "2023-05-23T09:00:06.575Z"
   },
   {
    "duration": 88,
    "start_time": "2023-05-23T09:00:37.078Z"
   },
   {
    "duration": 21,
    "start_time": "2023-05-23T09:13:10.580Z"
   },
   {
    "duration": 74,
    "start_time": "2023-05-23T09:25:31.944Z"
   },
   {
    "duration": 12,
    "start_time": "2023-05-23T09:31:50.043Z"
   },
   {
    "duration": 7,
    "start_time": "2023-05-23T09:52:32.402Z"
   },
   {
    "duration": 11,
    "start_time": "2023-05-23T09:52:51.409Z"
   },
   {
    "duration": 221,
    "start_time": "2023-05-23T09:58:31.520Z"
   },
   {
    "duration": 73,
    "start_time": "2023-05-23T09:58:45.281Z"
   },
   {
    "duration": 11,
    "start_time": "2023-05-23T10:00:14.456Z"
   },
   {
    "duration": 18,
    "start_time": "2023-05-23T10:01:28.921Z"
   },
   {
    "duration": 165,
    "start_time": "2023-05-23T10:06:00.368Z"
   },
   {
    "duration": 1211,
    "start_time": "2023-05-23T10:10:57.279Z"
   },
   {
    "duration": 70,
    "start_time": "2023-05-23T10:10:58.492Z"
   },
   {
    "duration": 21,
    "start_time": "2023-05-23T10:10:58.567Z"
   },
   {
    "duration": 29,
    "start_time": "2023-05-23T10:10:58.589Z"
   },
   {
    "duration": 35,
    "start_time": "2023-05-23T10:10:58.620Z"
   },
   {
    "duration": 98,
    "start_time": "2023-05-23T10:10:58.657Z"
   },
   {
    "duration": 30,
    "start_time": "2023-05-23T10:10:58.757Z"
   },
   {
    "duration": 25,
    "start_time": "2023-05-23T10:10:58.789Z"
   },
   {
    "duration": 25,
    "start_time": "2023-05-23T10:10:58.817Z"
   },
   {
    "duration": 26,
    "start_time": "2023-05-23T10:10:58.851Z"
   },
   {
    "duration": 99,
    "start_time": "2023-05-23T10:10:58.879Z"
   },
   {
    "duration": 47,
    "start_time": "2023-05-23T10:10:58.980Z"
   },
   {
    "duration": 40,
    "start_time": "2023-05-23T10:10:59.029Z"
   },
   {
    "duration": 24,
    "start_time": "2023-05-23T10:10:59.071Z"
   },
   {
    "duration": 3,
    "start_time": "2023-05-23T10:10:59.097Z"
   },
   {
    "duration": 49,
    "start_time": "2023-05-23T10:10:59.103Z"
   },
   {
    "duration": 4,
    "start_time": "2023-05-23T10:10:59.154Z"
   },
   {
    "duration": 25,
    "start_time": "2023-05-23T10:10:59.160Z"
   },
   {
    "duration": 5,
    "start_time": "2023-05-23T10:10:59.187Z"
   },
   {
    "duration": 82,
    "start_time": "2023-05-23T10:10:59.194Z"
   },
   {
    "duration": 7,
    "start_time": "2023-05-23T10:10:59.278Z"
   },
   {
    "duration": 27,
    "start_time": "2023-05-23T10:10:59.287Z"
   },
   {
    "duration": 8,
    "start_time": "2023-05-23T10:10:59.316Z"
   },
   {
    "duration": 28,
    "start_time": "2023-05-23T10:10:59.326Z"
   },
   {
    "duration": 80,
    "start_time": "2023-05-23T10:10:59.356Z"
   },
   {
    "duration": 19,
    "start_time": "2023-05-23T10:10:59.438Z"
   },
   {
    "duration": 10,
    "start_time": "2023-05-23T10:10:59.461Z"
   },
   {
    "duration": 10,
    "start_time": "2023-05-23T10:10:59.473Z"
   },
   {
    "duration": 11,
    "start_time": "2023-05-23T10:10:59.485Z"
   },
   {
    "duration": 15,
    "start_time": "2023-05-23T10:10:59.497Z"
   },
   {
    "duration": 13,
    "start_time": "2023-05-23T10:10:59.549Z"
   },
   {
    "duration": 12,
    "start_time": "2023-05-23T10:10:59.564Z"
   },
   {
    "duration": 12,
    "start_time": "2023-05-23T10:10:59.578Z"
   },
   {
    "duration": 214,
    "start_time": "2023-05-23T10:10:59.592Z"
   },
   {
    "duration": 198,
    "start_time": "2023-05-23T10:10:59.808Z"
   },
   {
    "duration": 11,
    "start_time": "2023-05-23T10:11:00.008Z"
   },
   {
    "duration": 50,
    "start_time": "2023-05-23T10:11:00.021Z"
   },
   {
    "duration": 14,
    "start_time": "2023-05-23T10:13:19.983Z"
   },
   {
    "duration": 104,
    "start_time": "2023-05-23T10:15:40.024Z"
   },
   {
    "duration": 3,
    "start_time": "2023-05-23T10:52:53.343Z"
   },
   {
    "duration": 1065,
    "start_time": "2023-05-23T10:53:18.787Z"
   },
   {
    "duration": 4,
    "start_time": "2023-05-23T10:53:39.249Z"
   },
   {
    "duration": 887,
    "start_time": "2023-05-23T10:53:42.889Z"
   },
   {
    "duration": 17,
    "start_time": "2023-05-23T10:54:27.850Z"
   },
   {
    "duration": 8,
    "start_time": "2023-05-23T10:56:47.973Z"
   },
   {
    "duration": 1862,
    "start_time": "2023-05-23T10:57:14.275Z"
   },
   {
    "duration": 6,
    "start_time": "2023-05-23T10:58:54.577Z"
   },
   {
    "duration": 971,
    "start_time": "2023-05-23T10:59:10.344Z"
   },
   {
    "duration": 3,
    "start_time": "2023-05-23T10:59:40.340Z"
   },
   {
    "duration": 917,
    "start_time": "2023-05-23T10:59:41.143Z"
   },
   {
    "duration": 4,
    "start_time": "2023-05-23T11:00:35.744Z"
   },
   {
    "duration": 15,
    "start_time": "2023-05-23T11:01:08.889Z"
   },
   {
    "duration": 95,
    "start_time": "2023-05-23T11:01:15.496Z"
   },
   {
    "duration": 3,
    "start_time": "2023-05-23T11:03:11.655Z"
   },
   {
    "duration": 73,
    "start_time": "2023-05-23T11:03:39.254Z"
   },
   {
    "duration": 3,
    "start_time": "2023-05-23T11:04:02.096Z"
   },
   {
    "duration": 896,
    "start_time": "2023-05-23T11:04:03.152Z"
   },
   {
    "duration": 3,
    "start_time": "2023-05-23T11:04:44.443Z"
   },
   {
    "duration": 912,
    "start_time": "2023-05-23T11:04:47.873Z"
   },
   {
    "duration": 4,
    "start_time": "2023-05-23T11:06:05.523Z"
   },
   {
    "duration": 913,
    "start_time": "2023-05-23T11:06:06.088Z"
   },
   {
    "duration": 4,
    "start_time": "2023-05-23T11:06:21.287Z"
   },
   {
    "duration": 891,
    "start_time": "2023-05-23T11:06:22.643Z"
   },
   {
    "duration": 3,
    "start_time": "2023-05-23T11:07:08.243Z"
   },
   {
    "duration": 888,
    "start_time": "2023-05-23T11:07:08.742Z"
   },
   {
    "duration": 3,
    "start_time": "2023-05-23T11:10:29.184Z"
   },
   {
    "duration": 5,
    "start_time": "2023-05-23T11:10:33.448Z"
   },
   {
    "duration": 3,
    "start_time": "2023-05-23T11:10:36.045Z"
   },
   {
    "duration": 933,
    "start_time": "2023-05-23T11:10:38.392Z"
   },
   {
    "duration": 30,
    "start_time": "2023-05-23T11:10:50.021Z"
   },
   {
    "duration": 6,
    "start_time": "2023-05-23T11:11:22.033Z"
   },
   {
    "duration": 7,
    "start_time": "2023-05-23T11:11:44.879Z"
   },
   {
    "duration": 1314,
    "start_time": "2023-05-23T11:11:48.939Z"
   },
   {
    "duration": 17,
    "start_time": "2023-05-23T11:11:58.040Z"
   },
   {
    "duration": 6,
    "start_time": "2023-05-23T11:12:22.591Z"
   },
   {
    "duration": 132,
    "start_time": "2023-05-23T11:12:37.875Z"
   },
   {
    "duration": 125,
    "start_time": "2023-05-23T11:13:00.224Z"
   },
   {
    "duration": 120,
    "start_time": "2023-05-23T11:14:38.784Z"
   },
   {
    "duration": 126,
    "start_time": "2023-05-23T11:14:50.486Z"
   },
   {
    "duration": 190,
    "start_time": "2023-05-23T11:14:53.216Z"
   },
   {
    "duration": 22,
    "start_time": "2023-05-23T11:21:40.566Z"
   },
   {
    "duration": 21,
    "start_time": "2023-05-23T11:23:26.238Z"
   },
   {
    "duration": 1198,
    "start_time": "2023-05-23T11:28:35.006Z"
   },
   {
    "duration": 46,
    "start_time": "2023-05-23T11:28:36.206Z"
   },
   {
    "duration": 23,
    "start_time": "2023-05-23T11:28:36.254Z"
   },
   {
    "duration": 31,
    "start_time": "2023-05-23T11:28:36.280Z"
   },
   {
    "duration": 15,
    "start_time": "2023-05-23T11:28:36.312Z"
   },
   {
    "duration": 99,
    "start_time": "2023-05-23T11:28:36.329Z"
   },
   {
    "duration": 41,
    "start_time": "2023-05-23T11:28:36.429Z"
   },
   {
    "duration": 28,
    "start_time": "2023-05-23T11:28:36.476Z"
   },
   {
    "duration": 24,
    "start_time": "2023-05-23T11:28:36.505Z"
   },
   {
    "duration": 20,
    "start_time": "2023-05-23T11:28:36.532Z"
   },
   {
    "duration": 99,
    "start_time": "2023-05-23T11:28:36.554Z"
   },
   {
    "duration": 44,
    "start_time": "2023-05-23T11:28:36.656Z"
   },
   {
    "duration": 23,
    "start_time": "2023-05-23T11:28:36.702Z"
   },
   {
    "duration": 50,
    "start_time": "2023-05-23T11:28:36.726Z"
   },
   {
    "duration": 3,
    "start_time": "2023-05-23T11:28:36.778Z"
   },
   {
    "duration": 28,
    "start_time": "2023-05-23T11:28:36.782Z"
   },
   {
    "duration": 2,
    "start_time": "2023-05-23T11:28:36.812Z"
   },
   {
    "duration": 45,
    "start_time": "2023-05-23T11:28:36.816Z"
   },
   {
    "duration": 5,
    "start_time": "2023-05-23T11:28:36.863Z"
   },
   {
    "duration": 53,
    "start_time": "2023-05-23T11:28:36.870Z"
   },
   {
    "duration": 30,
    "start_time": "2023-05-23T11:28:36.924Z"
   },
   {
    "duration": 32,
    "start_time": "2023-05-23T11:28:36.956Z"
   },
   {
    "duration": 7,
    "start_time": "2023-05-23T11:28:36.990Z"
   },
   {
    "duration": 6,
    "start_time": "2023-05-23T11:28:36.999Z"
   },
   {
    "duration": 64,
    "start_time": "2023-05-23T11:28:37.007Z"
   },
   {
    "duration": 4,
    "start_time": "2023-05-23T11:28:37.073Z"
   },
   {
    "duration": 84,
    "start_time": "2023-05-23T11:28:37.078Z"
   },
   {
    "duration": 10,
    "start_time": "2023-05-23T11:28:37.169Z"
   },
   {
    "duration": 195,
    "start_time": "2023-05-23T11:28:37.181Z"
   },
   {
    "duration": 74,
    "start_time": "2023-05-23T11:28:37.378Z"
   },
   {
    "duration": 13,
    "start_time": "2023-05-23T11:28:37.454Z"
   },
   {
    "duration": 18,
    "start_time": "2023-05-23T11:28:37.469Z"
   },
   {
    "duration": 10,
    "start_time": "2023-05-23T11:28:37.488Z"
   },
   {
    "duration": 10,
    "start_time": "2023-05-23T11:28:37.499Z"
   },
   {
    "duration": 46,
    "start_time": "2023-05-23T11:28:37.511Z"
   },
   {
    "duration": 15,
    "start_time": "2023-05-23T11:28:37.558Z"
   },
   {
    "duration": 9,
    "start_time": "2023-05-23T11:28:37.574Z"
   },
   {
    "duration": 9,
    "start_time": "2023-05-23T11:28:37.585Z"
   },
   {
    "duration": 199,
    "start_time": "2023-05-23T11:28:37.596Z"
   },
   {
    "duration": 195,
    "start_time": "2023-05-23T11:28:37.796Z"
   },
   {
    "duration": 10,
    "start_time": "2023-05-23T11:28:37.993Z"
   },
   {
    "duration": 20,
    "start_time": "2023-05-23T11:28:38.005Z"
   },
   {
    "duration": 31,
    "start_time": "2023-05-23T11:28:38.026Z"
   },
   {
    "duration": 4,
    "start_time": "2023-05-23T11:29:52.318Z"
   },
   {
    "duration": 1209,
    "start_time": "2023-05-23T11:30:31.222Z"
   },
   {
    "duration": 50,
    "start_time": "2023-05-23T11:30:32.434Z"
   },
   {
    "duration": 28,
    "start_time": "2023-05-23T11:30:32.486Z"
   },
   {
    "duration": 29,
    "start_time": "2023-05-23T11:30:32.517Z"
   },
   {
    "duration": 16,
    "start_time": "2023-05-23T11:30:32.547Z"
   },
   {
    "duration": 100,
    "start_time": "2023-05-23T11:30:32.564Z"
   },
   {
    "duration": 29,
    "start_time": "2023-05-23T11:30:32.665Z"
   },
   {
    "duration": 26,
    "start_time": "2023-05-23T11:30:32.695Z"
   },
   {
    "duration": 29,
    "start_time": "2023-05-23T11:30:32.723Z"
   },
   {
    "duration": 16,
    "start_time": "2023-05-23T11:30:32.755Z"
   },
   {
    "duration": 80,
    "start_time": "2023-05-23T11:30:32.772Z"
   },
   {
    "duration": 37,
    "start_time": "2023-05-23T11:30:32.854Z"
   },
   {
    "duration": 23,
    "start_time": "2023-05-23T11:30:32.892Z"
   },
   {
    "duration": 46,
    "start_time": "2023-05-23T11:30:32.916Z"
   },
   {
    "duration": 4,
    "start_time": "2023-05-23T11:30:32.964Z"
   },
   {
    "duration": 40,
    "start_time": "2023-05-23T11:30:32.970Z"
   },
   {
    "duration": 3,
    "start_time": "2023-05-23T11:30:33.012Z"
   },
   {
    "duration": 35,
    "start_time": "2023-05-23T11:30:33.016Z"
   },
   {
    "duration": 5,
    "start_time": "2023-05-23T11:30:33.053Z"
   },
   {
    "duration": 60,
    "start_time": "2023-05-23T11:30:33.060Z"
   },
   {
    "duration": 7,
    "start_time": "2023-05-23T11:30:33.122Z"
   },
   {
    "duration": 23,
    "start_time": "2023-05-23T11:30:33.149Z"
   },
   {
    "duration": 7,
    "start_time": "2023-05-23T11:30:33.174Z"
   },
   {
    "duration": 5,
    "start_time": "2023-05-23T11:30:33.182Z"
   },
   {
    "duration": 20,
    "start_time": "2023-05-23T11:30:33.189Z"
   },
   {
    "duration": 3,
    "start_time": "2023-05-23T11:30:33.210Z"
   },
   {
    "duration": 101,
    "start_time": "2023-05-23T11:30:33.214Z"
   },
   {
    "duration": 7,
    "start_time": "2023-05-23T11:30:33.318Z"
   },
   {
    "duration": 6,
    "start_time": "2023-05-23T11:30:33.326Z"
   },
   {
    "duration": 177,
    "start_time": "2023-05-23T11:30:33.334Z"
   },
   {
    "duration": 79,
    "start_time": "2023-05-23T11:30:33.513Z"
   },
   {
    "duration": 10,
    "start_time": "2023-05-23T11:30:33.594Z"
   },
   {
    "duration": 9,
    "start_time": "2023-05-23T11:30:33.605Z"
   },
   {
    "duration": 36,
    "start_time": "2023-05-23T11:30:33.615Z"
   },
   {
    "duration": 11,
    "start_time": "2023-05-23T11:30:33.653Z"
   },
   {
    "duration": 13,
    "start_time": "2023-05-23T11:30:33.665Z"
   },
   {
    "duration": 10,
    "start_time": "2023-05-23T11:30:33.680Z"
   },
   {
    "duration": 9,
    "start_time": "2023-05-23T11:30:33.692Z"
   },
   {
    "duration": 9,
    "start_time": "2023-05-23T11:30:33.702Z"
   },
   {
    "duration": 223,
    "start_time": "2023-05-23T11:30:33.713Z"
   },
   {
    "duration": 243,
    "start_time": "2023-05-23T11:30:33.937Z"
   },
   {
    "duration": 13,
    "start_time": "2023-05-23T11:30:34.182Z"
   },
   {
    "duration": 16,
    "start_time": "2023-05-23T11:30:34.197Z"
   },
   {
    "duration": 36,
    "start_time": "2023-05-23T11:30:34.216Z"
   },
   {
    "duration": 6,
    "start_time": "2023-05-23T11:31:18.893Z"
   },
   {
    "duration": 7,
    "start_time": "2023-05-23T12:16:33.784Z"
   },
   {
    "duration": 7,
    "start_time": "2023-05-23T12:21:00.742Z"
   },
   {
    "duration": 8,
    "start_time": "2023-05-23T12:23:02.940Z"
   },
   {
    "duration": 7,
    "start_time": "2023-05-23T12:23:47.139Z"
   },
   {
    "duration": 12,
    "start_time": "2023-05-23T14:45:09.440Z"
   },
   {
    "duration": 10,
    "start_time": "2023-05-23T14:45:37.274Z"
   },
   {
    "duration": 59,
    "start_time": "2023-05-23T17:48:32.445Z"
   },
   {
    "duration": 1322,
    "start_time": "2023-05-23T17:48:38.126Z"
   },
   {
    "duration": 88,
    "start_time": "2023-05-23T17:48:39.450Z"
   },
   {
    "duration": 18,
    "start_time": "2023-05-23T17:48:40.086Z"
   },
   {
    "duration": 14,
    "start_time": "2023-05-23T17:48:40.521Z"
   },
   {
    "duration": 126,
    "start_time": "2023-05-23T17:48:41.143Z"
   },
   {
    "duration": 17,
    "start_time": "2023-05-23T17:48:42.097Z"
   },
   {
    "duration": 11,
    "start_time": "2023-05-23T17:48:42.895Z"
   },
   {
    "duration": 78,
    "start_time": "2023-05-23T17:48:58.790Z"
   },
   {
    "duration": 102,
    "start_time": "2023-05-23T17:49:04.920Z"
   },
   {
    "duration": 41,
    "start_time": "2023-05-23T17:49:05.758Z"
   },
   {
    "duration": 13,
    "start_time": "2023-05-23T17:49:06.861Z"
   },
   {
    "duration": 82,
    "start_time": "2023-05-23T17:49:09.368Z"
   },
   {
    "duration": 20,
    "start_time": "2023-05-23T17:49:11.958Z"
   },
   {
    "duration": 9,
    "start_time": "2023-05-23T17:49:23.875Z"
   },
   {
    "duration": 7,
    "start_time": "2023-05-23T17:49:33.111Z"
   },
   {
    "duration": 1118,
    "start_time": "2023-05-23T17:53:51.872Z"
   },
   {
    "duration": 56,
    "start_time": "2023-05-23T17:53:52.992Z"
   },
   {
    "duration": 19,
    "start_time": "2023-05-23T17:53:53.050Z"
   },
   {
    "duration": 11,
    "start_time": "2023-05-23T17:53:53.071Z"
   },
   {
    "duration": 42,
    "start_time": "2023-05-23T17:53:53.083Z"
   },
   {
    "duration": 14,
    "start_time": "2023-05-23T17:53:53.127Z"
   },
   {
    "duration": 13,
    "start_time": "2023-05-23T17:53:53.143Z"
   },
   {
    "duration": 101,
    "start_time": "2023-05-23T17:53:53.158Z"
   },
   {
    "duration": 31,
    "start_time": "2023-05-23T17:53:53.261Z"
   },
   {
    "duration": 37,
    "start_time": "2023-05-23T17:53:53.294Z"
   },
   {
    "duration": 10,
    "start_time": "2023-05-23T17:53:53.332Z"
   },
   {
    "duration": 47,
    "start_time": "2023-05-23T17:53:53.344Z"
   },
   {
    "duration": 15,
    "start_time": "2023-05-23T17:53:53.393Z"
   },
   {
    "duration": 6,
    "start_time": "2023-05-23T17:53:53.410Z"
   },
   {
    "duration": 73,
    "start_time": "2023-05-23T17:53:53.418Z"
   },
   {
    "duration": 71,
    "start_time": "2023-05-23T17:53:53.492Z"
   },
   {
    "duration": 28,
    "start_time": "2023-05-23T17:53:53.565Z"
   },
   {
    "duration": 39,
    "start_time": "2023-05-23T17:53:53.595Z"
   },
   {
    "duration": 4,
    "start_time": "2023-05-23T17:53:53.636Z"
   },
   {
    "duration": 33,
    "start_time": "2023-05-23T17:53:53.643Z"
   },
   {
    "duration": 3,
    "start_time": "2023-05-23T17:53:53.678Z"
   },
   {
    "duration": 44,
    "start_time": "2023-05-23T17:53:53.682Z"
   },
   {
    "duration": 5,
    "start_time": "2023-05-23T17:53:53.728Z"
   },
   {
    "duration": 68,
    "start_time": "2023-05-23T17:53:53.735Z"
   },
   {
    "duration": 8,
    "start_time": "2023-05-23T17:53:53.818Z"
   },
   {
    "duration": 32,
    "start_time": "2023-05-23T17:53:53.827Z"
   },
   {
    "duration": 27,
    "start_time": "2023-05-23T17:53:53.861Z"
   },
   {
    "duration": 18,
    "start_time": "2023-05-23T17:53:53.891Z"
   },
   {
    "duration": 51,
    "start_time": "2023-05-23T17:53:53.910Z"
   },
   {
    "duration": 3,
    "start_time": "2023-05-23T17:53:53.962Z"
   },
   {
    "duration": 94,
    "start_time": "2023-05-23T17:53:53.967Z"
   },
   {
    "duration": 8,
    "start_time": "2023-05-23T17:53:54.062Z"
   },
   {
    "duration": 11,
    "start_time": "2023-05-23T17:53:54.073Z"
   },
   {
    "duration": 176,
    "start_time": "2023-05-23T17:53:54.085Z"
   },
   {
    "duration": 81,
    "start_time": "2023-05-23T17:53:54.263Z"
   },
   {
    "duration": 12,
    "start_time": "2023-05-23T17:53:54.346Z"
   },
   {
    "duration": 15,
    "start_time": "2023-05-23T17:53:54.360Z"
   },
   {
    "duration": 18,
    "start_time": "2023-05-23T17:53:54.377Z"
   },
   {
    "duration": 25,
    "start_time": "2023-05-23T17:53:54.397Z"
   },
   {
    "duration": 16,
    "start_time": "2023-05-23T17:53:54.423Z"
   },
   {
    "duration": 66,
    "start_time": "2023-05-23T17:53:54.441Z"
   },
   {
    "duration": 22,
    "start_time": "2023-05-23T17:53:54.509Z"
   },
   {
    "duration": 14,
    "start_time": "2023-05-23T17:53:54.533Z"
   },
   {
    "duration": 278,
    "start_time": "2023-05-23T17:53:54.549Z"
   },
   {
    "duration": 207,
    "start_time": "2023-05-23T17:53:54.831Z"
   },
   {
    "duration": 13,
    "start_time": "2023-05-23T17:53:55.040Z"
   },
   {
    "duration": 29,
    "start_time": "2023-05-23T17:53:55.055Z"
   },
   {
    "duration": 8,
    "start_time": "2023-05-23T17:53:55.086Z"
   },
   {
    "duration": 225,
    "start_time": "2023-05-23T17:54:06.125Z"
   },
   {
    "duration": 154,
    "start_time": "2023-05-23T17:54:12.080Z"
   },
   {
    "duration": 3,
    "start_time": "2023-05-23T18:01:19.823Z"
   },
   {
    "duration": 376,
    "start_time": "2023-05-23T18:01:21.093Z"
   },
   {
    "duration": 5,
    "start_time": "2023-05-23T18:01:26.063Z"
   },
   {
    "duration": 4,
    "start_time": "2023-05-23T18:01:26.485Z"
   },
   {
    "duration": 18,
    "start_time": "2023-05-23T18:01:44.107Z"
   },
   {
    "duration": 11,
    "start_time": "2023-05-24T14:04:43.770Z"
   },
   {
    "duration": 61,
    "start_time": "2023-05-24T14:05:07.058Z"
   },
   {
    "duration": 1419,
    "start_time": "2023-05-24T14:05:12.204Z"
   },
   {
    "duration": 386,
    "start_time": "2023-05-24T14:05:13.625Z"
   },
   {
    "duration": 22,
    "start_time": "2023-05-24T14:05:14.012Z"
   },
   {
    "duration": 18,
    "start_time": "2023-05-24T14:05:14.037Z"
   },
   {
    "duration": 90,
    "start_time": "2023-05-24T14:05:14.057Z"
   },
   {
    "duration": 21,
    "start_time": "2023-05-24T14:05:14.149Z"
   },
   {
    "duration": 27,
    "start_time": "2023-05-24T14:05:14.172Z"
   },
   {
    "duration": 124,
    "start_time": "2023-05-24T14:05:14.200Z"
   },
   {
    "duration": 210,
    "start_time": "2023-05-24T14:05:14.326Z"
   },
   {
    "duration": 25,
    "start_time": "2023-05-24T14:05:14.538Z"
   },
   {
    "duration": 10,
    "start_time": "2023-05-24T14:05:14.565Z"
   },
   {
    "duration": 99,
    "start_time": "2023-05-24T14:05:14.579Z"
   },
   {
    "duration": 30,
    "start_time": "2023-05-24T14:05:14.679Z"
   },
   {
    "duration": 7,
    "start_time": "2023-05-24T14:05:14.711Z"
   },
   {
    "duration": 96,
    "start_time": "2023-05-24T14:05:14.720Z"
   },
   {
    "duration": 45,
    "start_time": "2023-05-24T14:05:14.818Z"
   },
   {
    "duration": 30,
    "start_time": "2023-05-24T14:05:14.881Z"
   },
   {
    "duration": 17,
    "start_time": "2023-05-24T14:05:14.915Z"
   },
   {
    "duration": 2,
    "start_time": "2023-05-24T14:05:14.934Z"
   },
   {
    "duration": 43,
    "start_time": "2023-05-24T14:05:14.938Z"
   },
   {
    "duration": 5,
    "start_time": "2023-05-24T14:05:14.983Z"
   },
   {
    "duration": 34,
    "start_time": "2023-05-24T14:05:14.990Z"
   },
   {
    "duration": 15,
    "start_time": "2023-05-24T14:05:15.026Z"
   },
   {
    "duration": 89,
    "start_time": "2023-05-24T14:05:15.043Z"
   },
   {
    "duration": 9,
    "start_time": "2023-05-24T14:05:15.134Z"
   },
   {
    "duration": 27,
    "start_time": "2023-05-24T14:05:15.144Z"
   },
   {
    "duration": 8,
    "start_time": "2023-05-24T14:05:15.176Z"
   },
   {
    "duration": 7,
    "start_time": "2023-05-24T14:05:15.189Z"
   },
   {
    "duration": 28,
    "start_time": "2023-05-24T14:05:15.198Z"
   },
   {
    "duration": 3,
    "start_time": "2023-05-24T14:05:15.228Z"
   },
   {
    "duration": 114,
    "start_time": "2023-05-24T14:05:15.233Z"
   },
   {
    "duration": 7,
    "start_time": "2023-05-24T14:05:15.348Z"
   },
   {
    "duration": 7,
    "start_time": "2023-05-24T14:05:15.357Z"
   },
   {
    "duration": 36,
    "start_time": "2023-05-24T14:05:15.365Z"
   },
   {
    "duration": 161,
    "start_time": "2023-05-24T14:05:15.403Z"
   },
   {
    "duration": 0,
    "start_time": "2023-05-24T14:05:15.566Z"
   },
   {
    "duration": 0,
    "start_time": "2023-05-24T14:05:15.567Z"
   },
   {
    "duration": 0,
    "start_time": "2023-05-24T14:05:15.568Z"
   },
   {
    "duration": 0,
    "start_time": "2023-05-24T14:05:15.569Z"
   },
   {
    "duration": 0,
    "start_time": "2023-05-24T14:05:15.576Z"
   },
   {
    "duration": 0,
    "start_time": "2023-05-24T14:05:15.578Z"
   },
   {
    "duration": 0,
    "start_time": "2023-05-24T14:05:15.580Z"
   },
   {
    "duration": 0,
    "start_time": "2023-05-24T14:05:15.583Z"
   },
   {
    "duration": 0,
    "start_time": "2023-05-24T14:05:15.584Z"
   },
   {
    "duration": 0,
    "start_time": "2023-05-24T14:05:15.586Z"
   },
   {
    "duration": 0,
    "start_time": "2023-05-24T14:05:15.588Z"
   },
   {
    "duration": 0,
    "start_time": "2023-05-24T14:05:15.589Z"
   },
   {
    "duration": 0,
    "start_time": "2023-05-24T14:05:15.590Z"
   },
   {
    "duration": 0,
    "start_time": "2023-05-24T14:05:15.592Z"
   },
   {
    "duration": 0,
    "start_time": "2023-05-24T14:05:15.593Z"
   },
   {
    "duration": 159,
    "start_time": "2023-05-24T14:05:31.703Z"
   },
   {
    "duration": 156,
    "start_time": "2023-05-24T14:05:33.359Z"
   },
   {
    "duration": 37,
    "start_time": "2023-05-24T14:05:46.163Z"
   },
   {
    "duration": 68,
    "start_time": "2023-05-24T14:09:24.559Z"
   },
   {
    "duration": 51,
    "start_time": "2023-05-24T14:09:55.855Z"
   },
   {
    "duration": 12,
    "start_time": "2023-05-24T14:13:10.686Z"
   },
   {
    "duration": 123,
    "start_time": "2023-05-24T14:13:11.614Z"
   },
   {
    "duration": 5,
    "start_time": "2023-05-24T14:14:08.170Z"
   },
   {
    "duration": 42,
    "start_time": "2023-05-24T14:14:10.126Z"
   },
   {
    "duration": 43,
    "start_time": "2023-05-24T14:14:32.982Z"
   },
   {
    "duration": 50,
    "start_time": "2023-05-24T14:15:16.198Z"
   },
   {
    "duration": 4,
    "start_time": "2023-05-24T14:15:31.318Z"
   },
   {
    "duration": 44,
    "start_time": "2023-05-24T14:15:42.974Z"
   },
   {
    "duration": 3,
    "start_time": "2023-05-24T14:15:55.070Z"
   },
   {
    "duration": 4,
    "start_time": "2023-05-24T14:15:55.589Z"
   },
   {
    "duration": 77,
    "start_time": "2023-05-24T14:15:56.181Z"
   },
   {
    "duration": 4,
    "start_time": "2023-05-24T14:16:32.039Z"
   },
   {
    "duration": 54,
    "start_time": "2023-05-24T14:16:33.071Z"
   },
   {
    "duration": 3,
    "start_time": "2023-05-24T14:18:37.067Z"
   },
   {
    "duration": 224,
    "start_time": "2023-05-24T14:18:37.882Z"
   },
   {
    "duration": 155,
    "start_time": "2023-05-24T14:18:48.077Z"
   },
   {
    "duration": 22,
    "start_time": "2023-05-24T14:18:55.773Z"
   },
   {
    "duration": 4,
    "start_time": "2023-05-24T14:19:06.892Z"
   },
   {
    "duration": 223,
    "start_time": "2023-05-24T14:19:07.476Z"
   },
   {
    "duration": 206,
    "start_time": "2023-05-24T14:19:08.454Z"
   },
   {
    "duration": 33,
    "start_time": "2023-05-24T14:19:11.476Z"
   },
   {
    "duration": 5,
    "start_time": "2023-05-24T14:20:47.959Z"
   },
   {
    "duration": 151,
    "start_time": "2023-05-24T14:21:22.674Z"
   },
   {
    "duration": 146,
    "start_time": "2023-05-24T14:21:27.374Z"
   },
   {
    "duration": 160,
    "start_time": "2023-05-24T14:21:34.467Z"
   },
   {
    "duration": 128,
    "start_time": "2023-05-24T14:22:09.109Z"
   },
   {
    "duration": 150,
    "start_time": "2023-05-24T14:22:12.292Z"
   },
   {
    "duration": 189,
    "start_time": "2023-05-24T14:22:16.613Z"
   },
   {
    "duration": 212,
    "start_time": "2023-05-24T14:22:24.267Z"
   },
   {
    "duration": 270,
    "start_time": "2023-05-24T14:23:09.059Z"
   },
   {
    "duration": 108,
    "start_time": "2023-05-24T14:24:00.109Z"
   },
   {
    "duration": 31,
    "start_time": "2023-05-24T14:24:03.573Z"
   },
   {
    "duration": 32,
    "start_time": "2023-05-24T14:25:50.877Z"
   },
   {
    "duration": 80,
    "start_time": "2023-05-24T14:26:04.470Z"
   },
   {
    "duration": 13,
    "start_time": "2023-05-24T14:26:05.166Z"
   },
   {
    "duration": 11,
    "start_time": "2023-05-24T14:26:06.980Z"
   },
   {
    "duration": 10,
    "start_time": "2023-05-24T14:26:08.167Z"
   },
   {
    "duration": 12,
    "start_time": "2023-05-24T14:26:09.270Z"
   },
   {
    "duration": 17,
    "start_time": "2023-05-24T14:26:10.055Z"
   },
   {
    "duration": 13,
    "start_time": "2023-05-24T14:26:11.228Z"
   },
   {
    "duration": 13,
    "start_time": "2023-05-24T14:26:12.372Z"
   },
   {
    "duration": 13,
    "start_time": "2023-05-24T14:26:13.459Z"
   },
   {
    "duration": 208,
    "start_time": "2023-05-24T14:26:14.492Z"
   },
   {
    "duration": 266,
    "start_time": "2023-05-24T14:26:15.099Z"
   },
   {
    "duration": 13,
    "start_time": "2023-05-24T14:26:15.867Z"
   },
   {
    "duration": 18,
    "start_time": "2023-05-24T14:26:16.292Z"
   },
   {
    "duration": 13,
    "start_time": "2023-05-24T14:26:18.267Z"
   },
   {
    "duration": 348,
    "start_time": "2023-05-24T14:29:19.820Z"
   },
   {
    "duration": 26,
    "start_time": "2023-05-24T14:32:24.058Z"
   },
   {
    "duration": 5,
    "start_time": "2023-05-24T14:32:29.971Z"
   },
   {
    "duration": 9,
    "start_time": "2023-05-24T14:32:47.758Z"
   },
   {
    "duration": 8,
    "start_time": "2023-05-24T14:32:56.524Z"
   },
   {
    "duration": 4,
    "start_time": "2023-05-24T14:33:22.411Z"
   },
   {
    "duration": 4,
    "start_time": "2023-05-24T14:33:57.788Z"
   },
   {
    "duration": 78,
    "start_time": "2023-05-24T14:34:13.987Z"
   },
   {
    "duration": 4,
    "start_time": "2023-05-24T14:34:17.459Z"
   },
   {
    "duration": 3,
    "start_time": "2023-05-24T14:34:22.151Z"
   },
   {
    "duration": 15,
    "start_time": "2023-05-24T14:35:04.356Z"
   },
   {
    "duration": 9,
    "start_time": "2023-05-24T14:35:17.099Z"
   },
   {
    "duration": 4,
    "start_time": "2023-05-24T14:35:19.668Z"
   },
   {
    "duration": 5,
    "start_time": "2023-05-24T14:39:10.571Z"
   },
   {
    "duration": 12,
    "start_time": "2023-05-24T14:40:38.315Z"
   },
   {
    "duration": 2132,
    "start_time": "2023-05-24T14:41:03.343Z"
   },
   {
    "duration": 4,
    "start_time": "2023-05-24T14:41:46.578Z"
   },
   {
    "duration": 28,
    "start_time": "2023-05-24T14:41:47.387Z"
   },
   {
    "duration": 3,
    "start_time": "2023-05-24T14:42:43.787Z"
   },
   {
    "duration": 73788,
    "start_time": "2023-05-24T14:43:00.350Z"
   },
   {
    "duration": 15,
    "start_time": "2023-05-24T14:44:53.652Z"
   },
   {
    "duration": 12,
    "start_time": "2023-05-24T14:45:26.994Z"
   },
   {
    "duration": 14420,
    "start_time": "2023-05-24T14:45:38.767Z"
   },
   {
    "duration": 184,
    "start_time": "2023-05-24T14:47:35.342Z"
   },
   {
    "duration": 159,
    "start_time": "2023-05-24T14:48:09.459Z"
   },
   {
    "duration": 4,
    "start_time": "2023-05-24T14:49:18.284Z"
   },
   {
    "duration": 24,
    "start_time": "2023-05-24T14:49:19.091Z"
   },
   {
    "duration": 3,
    "start_time": "2023-05-24T14:49:19.763Z"
   },
   {
    "duration": 79564,
    "start_time": "2023-05-24T14:49:20.995Z"
   },
   {
    "duration": 6,
    "start_time": "2023-05-24T14:50:56.646Z"
   },
   {
    "duration": 26,
    "start_time": "2023-05-24T14:50:59.074Z"
   },
   {
    "duration": 4,
    "start_time": "2023-05-24T14:50:59.738Z"
   },
   {
    "duration": 75396,
    "start_time": "2023-05-24T14:51:01.466Z"
   },
   {
    "duration": 11,
    "start_time": "2023-05-24T14:53:02.098Z"
   },
   {
    "duration": 15160,
    "start_time": "2023-05-24T14:53:07.186Z"
   },
   {
    "duration": 206,
    "start_time": "2023-05-24T14:53:22.969Z"
   },
   {
    "duration": 181,
    "start_time": "2023-05-24T14:53:28.442Z"
   },
   {
    "duration": 3,
    "start_time": "2023-05-24T14:54:45.473Z"
   },
   {
    "duration": 2619,
    "start_time": "2023-05-24T14:54:46.163Z"
   },
   {
    "duration": 0,
    "start_time": "2023-05-24T14:54:48.783Z"
   },
   {
    "duration": 2641,
    "start_time": "2023-05-24T14:55:10.586Z"
   },
   {
    "duration": 4,
    "start_time": "2023-05-24T14:55:30.147Z"
   },
   {
    "duration": 35,
    "start_time": "2023-05-24T14:55:32.273Z"
   },
   {
    "duration": 4,
    "start_time": "2023-05-24T14:55:34.244Z"
   },
   {
    "duration": 5266,
    "start_time": "2023-05-24T14:55:34.897Z"
   },
   {
    "duration": 46051,
    "start_time": "2023-05-24T14:55:44.140Z"
   },
   {
    "duration": 1217,
    "start_time": "2023-05-24T18:03:44.457Z"
   },
   {
    "duration": 95,
    "start_time": "2023-05-24T18:03:45.676Z"
   },
   {
    "duration": 16,
    "start_time": "2023-05-24T18:03:45.773Z"
   },
   {
    "duration": 19,
    "start_time": "2023-05-24T18:03:45.790Z"
   },
   {
    "duration": 205,
    "start_time": "2023-05-24T18:03:45.812Z"
   },
   {
    "duration": 15,
    "start_time": "2023-05-24T18:03:46.018Z"
   },
   {
    "duration": 8,
    "start_time": "2023-05-24T18:03:46.034Z"
   },
   {
    "duration": 94,
    "start_time": "2023-05-24T18:03:46.044Z"
   },
   {
    "duration": 131,
    "start_time": "2023-05-24T18:03:46.140Z"
   },
   {
    "duration": 23,
    "start_time": "2023-05-24T18:03:46.273Z"
   },
   {
    "duration": 10,
    "start_time": "2023-05-24T18:03:46.304Z"
   },
   {
    "duration": 81,
    "start_time": "2023-05-24T18:03:46.315Z"
   },
   {
    "duration": 20,
    "start_time": "2023-05-24T18:03:46.398Z"
   },
   {
    "duration": 6,
    "start_time": "2023-05-24T18:03:46.421Z"
   },
   {
    "duration": 83,
    "start_time": "2023-05-24T18:03:46.429Z"
   },
   {
    "duration": 35,
    "start_time": "2023-05-24T18:03:46.514Z"
   },
   {
    "duration": 20,
    "start_time": "2023-05-24T18:03:46.550Z"
   },
   {
    "duration": 33,
    "start_time": "2023-05-24T18:03:46.572Z"
   },
   {
    "duration": 2,
    "start_time": "2023-05-24T18:03:46.607Z"
   },
   {
    "duration": 24,
    "start_time": "2023-05-24T18:03:46.611Z"
   },
   {
    "duration": 3,
    "start_time": "2023-05-24T18:03:46.637Z"
   },
   {
    "duration": 23,
    "start_time": "2023-05-24T18:03:46.642Z"
   },
   {
    "duration": 5,
    "start_time": "2023-05-24T18:03:46.666Z"
   },
   {
    "duration": 74,
    "start_time": "2023-05-24T18:03:46.673Z"
   },
   {
    "duration": 6,
    "start_time": "2023-05-24T18:03:46.748Z"
   },
   {
    "duration": 24,
    "start_time": "2023-05-24T18:03:46.756Z"
   },
   {
    "duration": 23,
    "start_time": "2023-05-24T18:03:46.781Z"
   },
   {
    "duration": 11,
    "start_time": "2023-05-24T18:03:46.806Z"
   },
   {
    "duration": 25,
    "start_time": "2023-05-24T18:03:46.818Z"
   },
   {
    "duration": 3,
    "start_time": "2023-05-24T18:03:46.844Z"
   },
   {
    "duration": 92,
    "start_time": "2023-05-24T18:03:46.848Z"
   },
   {
    "duration": 6,
    "start_time": "2023-05-24T18:03:46.941Z"
   },
   {
    "duration": 10,
    "start_time": "2023-05-24T18:03:46.948Z"
   },
   {
    "duration": 16,
    "start_time": "2023-05-24T18:03:46.960Z"
   },
   {
    "duration": 3,
    "start_time": "2023-05-24T18:03:46.996Z"
   },
   {
    "duration": 15,
    "start_time": "2023-05-24T18:03:47.001Z"
   },
   {
    "duration": 187,
    "start_time": "2023-05-24T18:03:47.017Z"
   },
   {
    "duration": 186,
    "start_time": "2023-05-24T18:03:47.206Z"
   },
   {
    "duration": 20,
    "start_time": "2023-05-24T18:03:47.393Z"
   },
   {
    "duration": 209,
    "start_time": "2023-05-24T18:03:47.416Z"
   },
   {
    "duration": 309,
    "start_time": "2023-05-24T18:03:47.629Z"
   },
   {
    "duration": 74,
    "start_time": "2023-05-24T18:03:47.939Z"
   },
   {
    "duration": 18,
    "start_time": "2023-05-24T18:03:48.014Z"
   },
   {
    "duration": 22,
    "start_time": "2023-05-24T18:03:48.033Z"
   },
   {
    "duration": 79,
    "start_time": "2023-05-24T18:03:48.057Z"
   },
   {
    "duration": 9,
    "start_time": "2023-05-24T18:03:48.138Z"
   },
   {
    "duration": 21,
    "start_time": "2023-05-24T18:03:48.148Z"
   },
   {
    "duration": 13,
    "start_time": "2023-05-24T18:03:48.170Z"
   },
   {
    "duration": 16,
    "start_time": "2023-05-24T18:03:48.185Z"
   },
   {
    "duration": 15,
    "start_time": "2023-05-24T18:03:48.203Z"
   },
   {
    "duration": 12,
    "start_time": "2023-05-24T18:03:48.219Z"
   },
   {
    "duration": 8,
    "start_time": "2023-05-24T18:03:48.232Z"
   },
   {
    "duration": 9,
    "start_time": "2023-05-24T18:03:48.242Z"
   },
   {
    "duration": 224,
    "start_time": "2023-05-24T18:03:48.252Z"
   },
   {
    "duration": 196,
    "start_time": "2023-05-24T18:03:48.479Z"
   },
   {
    "duration": 9,
    "start_time": "2023-05-24T18:03:48.676Z"
   },
   {
    "duration": 26,
    "start_time": "2023-05-24T18:03:48.687Z"
   },
   {
    "duration": 10,
    "start_time": "2023-05-24T18:03:48.715Z"
   },
   {
    "duration": 351,
    "start_time": "2023-05-24T18:03:48.726Z"
   },
   {
    "duration": 4,
    "start_time": "2023-05-24T18:03:49.079Z"
   },
   {
    "duration": 21,
    "start_time": "2023-05-24T18:03:49.085Z"
   },
   {
    "duration": 13,
    "start_time": "2023-05-24T18:03:49.107Z"
   },
   {
    "duration": 17,
    "start_time": "2023-05-24T18:03:49.122Z"
   },
   {
    "duration": 9,
    "start_time": "2023-05-24T18:03:49.141Z"
   },
   {
    "duration": 45,
    "start_time": "2023-05-24T18:03:49.151Z"
   },
   {
    "duration": 8,
    "start_time": "2023-05-24T18:03:49.197Z"
   },
   {
    "duration": 39963,
    "start_time": "2023-05-24T18:03:49.211Z"
   },
   {
    "duration": 0,
    "start_time": "2023-05-24T18:04:29.176Z"
   },
   {
    "duration": 0,
    "start_time": "2023-05-24T18:04:29.178Z"
   },
   {
    "duration": 0,
    "start_time": "2023-05-24T18:04:29.179Z"
   },
   {
    "duration": 0,
    "start_time": "2023-05-24T18:04:29.181Z"
   },
   {
    "duration": 3,
    "start_time": "2023-05-24T18:04:46.551Z"
   },
   {
    "duration": 26,
    "start_time": "2023-05-24T18:04:47.426Z"
   },
   {
    "duration": 3,
    "start_time": "2023-05-24T18:04:48.479Z"
   },
   {
    "duration": 47542,
    "start_time": "2023-05-24T18:04:51.830Z"
   },
   {
    "duration": 11,
    "start_time": "2023-05-24T18:07:12.256Z"
   },
   {
    "duration": 12603,
    "start_time": "2023-05-24T18:07:13.156Z"
   },
   {
    "duration": 181,
    "start_time": "2023-05-24T18:07:30.195Z"
   },
   {
    "duration": 145,
    "start_time": "2023-05-24T18:07:34.090Z"
   },
   {
    "duration": 4,
    "start_time": "2023-05-24T19:51:21.198Z"
   },
   {
    "duration": 23,
    "start_time": "2023-05-24T19:51:23.032Z"
   },
   {
    "duration": 3,
    "start_time": "2023-05-24T19:51:23.680Z"
   },
   {
    "duration": 48235,
    "start_time": "2023-05-24T19:51:32.887Z"
   },
   {
    "duration": 13,
    "start_time": "2023-05-24T19:53:10.381Z"
   },
   {
    "duration": 1572,
    "start_time": "2023-05-25T06:05:55.833Z"
   },
   {
    "duration": 120,
    "start_time": "2023-05-25T06:05:58.964Z"
   },
   {
    "duration": 23,
    "start_time": "2023-05-25T06:05:59.721Z"
   },
   {
    "duration": 18,
    "start_time": "2023-05-25T06:06:00.283Z"
   },
   {
    "duration": 140,
    "start_time": "2023-05-25T06:06:00.961Z"
   },
   {
    "duration": 19,
    "start_time": "2023-05-25T06:06:01.713Z"
   },
   {
    "duration": 12,
    "start_time": "2023-05-25T06:06:02.168Z"
   },
   {
    "duration": 107,
    "start_time": "2023-05-25T06:06:02.785Z"
   },
   {
    "duration": 153,
    "start_time": "2023-05-25T06:06:03.401Z"
   },
   {
    "duration": 28,
    "start_time": "2023-05-25T06:06:04.337Z"
   },
   {
    "duration": 12,
    "start_time": "2023-05-25T06:06:04.961Z"
   },
   {
    "duration": 105,
    "start_time": "2023-05-25T06:06:05.793Z"
   },
   {
    "duration": 19,
    "start_time": "2023-05-25T06:06:06.537Z"
   },
   {
    "duration": 9,
    "start_time": "2023-05-25T06:06:10.441Z"
   },
   {
    "duration": 85,
    "start_time": "2023-05-25T06:06:11.071Z"
   },
   {
    "duration": 47,
    "start_time": "2023-05-25T06:06:12.392Z"
   },
   {
    "duration": 26,
    "start_time": "2023-05-25T06:06:15.673Z"
   },
   {
    "duration": 23,
    "start_time": "2023-05-25T06:06:18.776Z"
   },
   {
    "duration": 5,
    "start_time": "2023-05-25T06:06:19.896Z"
   },
   {
    "duration": 34,
    "start_time": "2023-05-25T06:06:26.297Z"
   },
   {
    "duration": 4,
    "start_time": "2023-05-25T06:06:28.088Z"
   },
   {
    "duration": 30,
    "start_time": "2023-05-25T06:06:30.090Z"
   },
   {
    "duration": 4,
    "start_time": "2023-05-25T06:06:36.960Z"
   },
   {
    "duration": 66,
    "start_time": "2023-05-25T06:06:39.472Z"
   },
   {
    "duration": 8,
    "start_time": "2023-05-25T06:06:41.633Z"
   },
   {
    "duration": 24,
    "start_time": "2023-05-25T06:06:42.577Z"
   },
   {
    "duration": 8,
    "start_time": "2023-05-25T06:06:48.120Z"
   },
   {
    "duration": 6,
    "start_time": "2023-05-25T06:06:48.752Z"
   },
   {
    "duration": 36,
    "start_time": "2023-05-25T06:06:50.465Z"
   },
   {
    "duration": 3,
    "start_time": "2023-05-25T06:06:51.344Z"
   },
   {
    "duration": 86,
    "start_time": "2023-05-25T06:06:52.217Z"
   },
   {
    "duration": 7,
    "start_time": "2023-05-25T06:06:53.241Z"
   },
   {
    "duration": 8,
    "start_time": "2023-05-25T06:06:53.978Z"
   },
   {
    "duration": 17,
    "start_time": "2023-05-25T06:06:55.744Z"
   },
   {
    "duration": 3,
    "start_time": "2023-05-25T06:06:57.624Z"
   },
   {
    "duration": 4,
    "start_time": "2023-05-25T06:06:58.664Z"
   },
   {
    "duration": 3,
    "start_time": "2023-05-25T06:07:30.137Z"
   },
   {
    "duration": 214,
    "start_time": "2023-05-25T06:07:30.816Z"
   },
   {
    "duration": 196,
    "start_time": "2023-05-25T06:07:31.617Z"
   },
   {
    "duration": 1351,
    "start_time": "2023-05-25T06:07:34.504Z"
   },
   {
    "duration": 916,
    "start_time": "2023-05-25T06:07:35.893Z"
   },
   {
    "duration": 4,
    "start_time": "2023-05-25T06:07:42.497Z"
   },
   {
    "duration": 254,
    "start_time": "2023-05-25T06:07:43.224Z"
   },
   {
    "duration": 299,
    "start_time": "2023-05-25T06:07:45.226Z"
   },
   {
    "duration": 74,
    "start_time": "2023-05-25T06:07:59.857Z"
   },
   {
    "duration": 29,
    "start_time": "2023-05-25T06:08:00.664Z"
   },
   {
    "duration": 17,
    "start_time": "2023-05-25T06:43:46.591Z"
   },
   {
    "duration": 3359,
    "start_time": "2023-05-25T06:43:47.196Z"
   },
   {
    "duration": 3,
    "start_time": "2023-05-25T06:44:02.141Z"
   },
   {
    "duration": 65,
    "start_time": "2023-05-25T06:44:03.229Z"
   },
   {
    "duration": 18,
    "start_time": "2023-05-25T06:44:03.845Z"
   },
   {
    "duration": 13,
    "start_time": "2023-05-25T06:44:04.304Z"
   },
   {
    "duration": 51,
    "start_time": "2023-05-25T06:44:05.132Z"
   },
   {
    "duration": 20,
    "start_time": "2023-05-25T06:44:05.806Z"
   },
   {
    "duration": 10,
    "start_time": "2023-05-25T06:44:06.548Z"
   },
   {
    "duration": 105,
    "start_time": "2023-05-25T06:44:07.052Z"
   },
   {
    "duration": 50,
    "start_time": "2023-05-25T06:44:07.693Z"
   },
   {
    "duration": 27,
    "start_time": "2023-05-25T06:44:08.326Z"
   },
   {
    "duration": 18,
    "start_time": "2023-05-25T06:44:09.095Z"
   },
   {
    "duration": 54,
    "start_time": "2023-05-25T06:44:09.669Z"
   },
   {
    "duration": 17,
    "start_time": "2023-05-25T06:44:10.325Z"
   },
   {
    "duration": 30,
    "start_time": "2023-05-25T06:44:11.165Z"
   },
   {
    "duration": 102,
    "start_time": "2023-05-25T06:44:11.697Z"
   },
   {
    "duration": 46,
    "start_time": "2023-05-25T06:44:13.098Z"
   },
   {
    "duration": 27,
    "start_time": "2023-05-25T06:44:14.606Z"
   },
   {
    "duration": 17,
    "start_time": "2023-05-25T06:44:17.316Z"
   },
   {
    "duration": 5,
    "start_time": "2023-05-25T06:44:18.403Z"
   },
   {
    "duration": 30,
    "start_time": "2023-05-25T06:44:19.200Z"
   },
   {
    "duration": 3,
    "start_time": "2023-05-25T06:44:20.341Z"
   },
   {
    "duration": 25,
    "start_time": "2023-05-25T06:44:21.732Z"
   },
   {
    "duration": 5,
    "start_time": "2023-05-25T06:44:23.652Z"
   },
   {
    "duration": 36,
    "start_time": "2023-05-25T06:44:24.773Z"
   },
   {
    "duration": 12,
    "start_time": "2023-05-25T06:44:26.288Z"
   },
   {
    "duration": 31,
    "start_time": "2023-05-25T06:44:26.852Z"
   },
   {
    "duration": 8,
    "start_time": "2023-05-25T06:44:28.452Z"
   },
   {
    "duration": 7,
    "start_time": "2023-05-25T06:44:28.957Z"
   },
   {
    "duration": 23,
    "start_time": "2023-05-25T06:44:32.191Z"
   },
   {
    "duration": 5,
    "start_time": "2023-05-25T06:44:32.901Z"
   },
   {
    "duration": 84,
    "start_time": "2023-05-25T06:44:33.845Z"
   },
   {
    "duration": 11,
    "start_time": "2023-05-25T06:44:35.069Z"
   },
   {
    "duration": 6,
    "start_time": "2023-05-25T06:44:35.636Z"
   },
   {
    "duration": 16,
    "start_time": "2023-05-25T06:44:36.621Z"
   },
   {
    "duration": 4,
    "start_time": "2023-05-25T06:44:37.797Z"
   },
   {
    "duration": 211,
    "start_time": "2023-05-25T06:44:38.405Z"
   },
   {
    "duration": 202,
    "start_time": "2023-05-25T06:44:40.613Z"
   },
   {
    "duration": 9,
    "start_time": "2023-05-25T06:44:42.372Z"
   },
   {
    "duration": 232,
    "start_time": "2023-05-25T06:44:43.598Z"
   },
   {
    "duration": 234,
    "start_time": "2023-05-25T06:44:44.533Z"
   },
   {
    "duration": 191,
    "start_time": "2023-05-25T06:44:46.757Z"
   },
   {
    "duration": 35,
    "start_time": "2023-05-25T06:44:48.396Z"
   },
   {
    "duration": 29,
    "start_time": "2023-05-25T06:44:50.452Z"
   },
   {
    "duration": 81,
    "start_time": "2023-05-25T06:45:09.798Z"
   },
   {
    "duration": 11,
    "start_time": "2023-05-25T06:45:10.199Z"
   },
   {
    "duration": 12,
    "start_time": "2023-05-25T06:45:11.316Z"
   },
   {
    "duration": 12,
    "start_time": "2023-05-25T06:45:12.564Z"
   },
   {
    "duration": 23,
    "start_time": "2023-05-25T06:45:13.572Z"
   },
   {
    "duration": 13,
    "start_time": "2023-05-25T06:45:14.300Z"
   },
   {
    "duration": 11,
    "start_time": "2023-05-25T06:45:15.300Z"
   },
   {
    "duration": 17,
    "start_time": "2023-05-25T06:45:15.912Z"
   },
   {
    "duration": 25,
    "start_time": "2023-05-25T06:45:16.468Z"
   },
   {
    "duration": 270,
    "start_time": "2023-05-25T06:45:17.085Z"
   },
   {
    "duration": 209,
    "start_time": "2023-05-25T06:45:18.086Z"
   },
   {
    "duration": 14,
    "start_time": "2023-05-25T06:45:19.373Z"
   },
   {
    "duration": 15,
    "start_time": "2023-05-25T06:45:20.164Z"
   },
   {
    "duration": 12,
    "start_time": "2023-05-25T06:45:27.052Z"
   },
   {
    "duration": 369,
    "start_time": "2023-05-25T06:45:28.533Z"
   },
   {
    "duration": 6,
    "start_time": "2023-05-25T06:45:30.129Z"
   },
   {
    "duration": 11,
    "start_time": "2023-05-25T06:45:38.551Z"
   },
   {
    "duration": 5,
    "start_time": "2023-05-25T06:45:40.925Z"
   },
   {
    "duration": 3,
    "start_time": "2023-05-25T06:46:23.205Z"
   },
   {
    "duration": 4,
    "start_time": "2023-05-25T06:46:29.908Z"
   },
   {
    "duration": 29,
    "start_time": "2023-05-25T06:46:30.949Z"
   },
   {
    "duration": 2923,
    "start_time": "2023-05-25T06:46:38.887Z"
   },
   {
    "duration": 0,
    "start_time": "2023-05-25T06:46:41.812Z"
   },
   {
    "duration": 3,
    "start_time": "2023-05-25T06:53:43.236Z"
   },
   {
    "duration": 15,
    "start_time": "2023-05-25T06:54:04.717Z"
   },
   {
    "duration": 10,
    "start_time": "2023-05-25T06:54:09.132Z"
   },
   {
    "duration": 7,
    "start_time": "2023-05-25T06:54:30.877Z"
   },
   {
    "duration": 67,
    "start_time": "2023-05-25T06:54:39.288Z"
   },
   {
    "duration": 8,
    "start_time": "2023-05-25T06:54:57.381Z"
   },
   {
    "duration": 67,
    "start_time": "2023-05-25T06:56:08.356Z"
   },
   {
    "duration": 15,
    "start_time": "2023-05-25T06:56:12.052Z"
   },
   {
    "duration": 5,
    "start_time": "2023-05-25T06:56:32.268Z"
   },
   {
    "duration": 49,
    "start_time": "2023-05-25T06:56:32.837Z"
   },
   {
    "duration": 3,
    "start_time": "2023-05-25T06:56:35.219Z"
   },
   {
    "duration": 73177,
    "start_time": "2023-05-25T06:56:45.812Z"
   },
   {
    "duration": 17,
    "start_time": "2023-05-25T06:58:13.430Z"
   },
   {
    "duration": 15590,
    "start_time": "2023-05-25T06:58:21.100Z"
   },
   {
    "duration": 225,
    "start_time": "2023-05-25T06:58:48.211Z"
   },
   {
    "duration": 401,
    "start_time": "2023-05-25T06:59:26.947Z"
   },
   {
    "duration": 4,
    "start_time": "2023-05-25T07:00:57.141Z"
   },
   {
    "duration": 2500,
    "start_time": "2023-05-25T07:02:34.268Z"
   },
   {
    "duration": 43,
    "start_time": "2023-05-25T07:02:41.213Z"
   },
   {
    "duration": 67,
    "start_time": "2023-05-25T07:02:55.375Z"
   },
   {
    "duration": 25,
    "start_time": "2023-05-25T07:03:42.037Z"
   },
   {
    "duration": 50,
    "start_time": "2023-05-25T07:04:20.202Z"
   },
   {
    "duration": 27,
    "start_time": "2023-05-25T07:22:24.069Z"
   },
   {
    "duration": 8,
    "start_time": "2023-05-25T07:22:28.347Z"
   },
   {
    "duration": 37,
    "start_time": "2023-05-25T07:22:40.459Z"
   },
   {
    "duration": 89,
    "start_time": "2023-05-25T07:23:01.564Z"
   },
   {
    "duration": 5,
    "start_time": "2023-05-25T07:23:04.105Z"
   },
   {
    "duration": 46,
    "start_time": "2023-05-25T07:23:43.180Z"
   },
   {
    "duration": 74,
    "start_time": "2023-05-25T07:24:29.326Z"
   },
   {
    "duration": 99,
    "start_time": "2023-05-25T07:25:15.893Z"
   },
   {
    "duration": 21,
    "start_time": "2023-05-25T07:25:32.436Z"
   },
   {
    "duration": 17,
    "start_time": "2023-05-25T07:26:15.019Z"
   },
   {
    "duration": 27,
    "start_time": "2023-05-25T07:26:49.372Z"
   },
   {
    "duration": 7,
    "start_time": "2023-05-25T07:27:05.797Z"
   },
   {
    "duration": 13,
    "start_time": "2023-05-25T07:27:41.019Z"
   },
   {
    "duration": 222,
    "start_time": "2023-05-25T07:29:34.906Z"
   },
   {
    "duration": 6,
    "start_time": "2023-05-25T07:29:44.512Z"
   },
   {
    "duration": 117,
    "start_time": "2023-05-25T07:29:46.682Z"
   },
   {
    "duration": 128,
    "start_time": "2023-05-25T07:29:52.515Z"
   },
   {
    "duration": 9,
    "start_time": "2023-05-25T07:31:44.668Z"
   },
   {
    "duration": 19,
    "start_time": "2023-05-25T07:31:45.207Z"
   },
   {
    "duration": 4,
    "start_time": "2023-05-25T07:32:57.962Z"
   },
   {
    "duration": 12,
    "start_time": "2023-05-25T07:33:09.316Z"
   },
   {
    "duration": 6,
    "start_time": "2023-05-25T07:33:14.156Z"
   },
   {
    "duration": 6,
    "start_time": "2023-05-25T07:38:37.325Z"
   },
   {
    "duration": 6,
    "start_time": "2023-05-25T07:38:42.307Z"
   },
   {
    "duration": 4,
    "start_time": "2023-05-25T07:57:56.614Z"
   },
   {
    "duration": 5,
    "start_time": "2023-05-25T07:57:58.706Z"
   },
   {
    "duration": 1669,
    "start_time": "2023-05-25T07:58:35.198Z"
   },
   {
    "duration": 13,
    "start_time": "2023-05-25T08:03:34.684Z"
   },
   {
    "duration": 15,
    "start_time": "2023-05-25T08:04:08.121Z"
   },
   {
    "duration": 3,
    "start_time": "2023-05-25T08:04:19.029Z"
   },
   {
    "duration": 42,
    "start_time": "2023-05-25T08:22:45.401Z"
   },
   {
    "duration": 7,
    "start_time": "2023-05-25T09:05:54.804Z"
   },
   {
    "duration": 34,
    "start_time": "2023-05-25T09:06:16.955Z"
   },
   {
    "duration": 935,
    "start_time": "2023-05-25T09:24:46.928Z"
   },
   {
    "duration": 2580,
    "start_time": "2023-05-25T09:25:33.739Z"
   },
   {
    "duration": 928,
    "start_time": "2023-05-25T09:25:51.089Z"
   },
   {
    "duration": 5709,
    "start_time": "2023-05-25T09:26:44.418Z"
   },
   {
    "duration": 14,
    "start_time": "2023-05-25T09:28:15.024Z"
   },
   {
    "duration": 8,
    "start_time": "2023-05-25T09:28:46.424Z"
   },
   {
    "duration": 31,
    "start_time": "2023-05-25T09:28:48.133Z"
   },
   {
    "duration": 14,
    "start_time": "2023-05-25T09:28:51.147Z"
   },
   {
    "duration": 5697,
    "start_time": "2023-05-25T09:29:05.222Z"
   },
   {
    "duration": 13,
    "start_time": "2023-05-25T09:29:31.523Z"
   },
   {
    "duration": 20,
    "start_time": "2023-05-25T09:30:03.960Z"
   },
   {
    "duration": 17,
    "start_time": "2023-05-25T09:30:08.723Z"
   },
   {
    "duration": 16,
    "start_time": "2023-05-25T09:30:50.217Z"
   },
   {
    "duration": 18,
    "start_time": "2023-05-25T09:30:56.197Z"
   },
   {
    "duration": 31,
    "start_time": "2023-05-25T09:31:04.423Z"
   },
   {
    "duration": 3304,
    "start_time": "2023-05-25T09:32:05.341Z"
   },
   {
    "duration": 301,
    "start_time": "2023-05-25T09:32:32.348Z"
   },
   {
    "duration": 17,
    "start_time": "2023-05-25T09:32:37.468Z"
   },
   {
    "duration": 7,
    "start_time": "2023-05-25T09:33:21.387Z"
   },
   {
    "duration": 25,
    "start_time": "2023-05-25T09:33:24.786Z"
   },
   {
    "duration": 16,
    "start_time": "2023-05-25T09:33:36.933Z"
   },
   {
    "duration": 913,
    "start_time": "2023-05-25T09:37:01.697Z"
   },
   {
    "duration": 923,
    "start_time": "2023-05-25T09:37:29.479Z"
   },
   {
    "duration": 1601,
    "start_time": "2023-05-25T09:38:21.896Z"
   },
   {
    "duration": 4860,
    "start_time": "2023-05-25T09:38:39.398Z"
   },
   {
    "duration": 5,
    "start_time": "2023-05-25T09:41:07.506Z"
   },
   {
    "duration": 7,
    "start_time": "2023-05-25T09:41:21.157Z"
   },
   {
    "duration": 1225,
    "start_time": "2023-05-25T09:41:46.893Z"
   },
   {
    "duration": 187,
    "start_time": "2023-05-25T09:42:17.206Z"
   },
   {
    "duration": 4,
    "start_time": "2023-05-25T09:42:58.907Z"
   },
   {
    "duration": 1946,
    "start_time": "2023-05-25T09:43:22.946Z"
   },
   {
    "duration": 4,
    "start_time": "2023-05-25T09:43:41.591Z"
   },
   {
    "duration": 187,
    "start_time": "2023-05-25T09:44:40.553Z"
   },
   {
    "duration": 1869,
    "start_time": "2023-05-25T09:44:52.936Z"
   },
   {
    "duration": 1421,
    "start_time": "2023-05-25T09:45:10.425Z"
   },
   {
    "duration": 154,
    "start_time": "2023-05-25T09:46:22.600Z"
   },
   {
    "duration": 5,
    "start_time": "2023-05-25T09:50:20.467Z"
   },
   {
    "duration": 50,
    "start_time": "2023-05-25T09:50:22.701Z"
   },
   {
    "duration": 23,
    "start_time": "2023-05-25T09:50:25.805Z"
   },
   {
    "duration": 12,
    "start_time": "2023-05-25T09:50:28.795Z"
   },
   {
    "duration": 44,
    "start_time": "2023-05-25T09:50:31.811Z"
   },
   {
    "duration": 11,
    "start_time": "2023-05-25T09:50:34.763Z"
   },
   {
    "duration": 82,
    "start_time": "2023-05-25T09:50:37.499Z"
   },
   {
    "duration": 46,
    "start_time": "2023-05-25T09:50:40.171Z"
   },
   {
    "duration": 42,
    "start_time": "2023-05-25T09:50:54.053Z"
   },
   {
    "duration": 17,
    "start_time": "2023-05-25T09:51:12.178Z"
   },
   {
    "duration": 3,
    "start_time": "2023-05-25T09:51:20.267Z"
   },
   {
    "duration": 25,
    "start_time": "2023-05-25T09:51:24.267Z"
   },
   {
    "duration": 3,
    "start_time": "2023-05-25T09:51:32.738Z"
   },
   {
    "duration": 25,
    "start_time": "2023-05-25T09:51:37.162Z"
   },
   {
    "duration": 8,
    "start_time": "2023-05-25T09:52:09.907Z"
   },
   {
    "duration": 6,
    "start_time": "2023-05-25T09:52:12.978Z"
   },
   {
    "duration": 21,
    "start_time": "2023-05-25T09:52:17.035Z"
   },
   {
    "duration": 3,
    "start_time": "2023-05-25T09:52:21.475Z"
   },
   {
    "duration": 77,
    "start_time": "2023-05-25T09:52:24.457Z"
   },
   {
    "duration": 8,
    "start_time": "2023-05-25T09:52:27.106Z"
   },
   {
    "duration": 5,
    "start_time": "2023-05-25T09:52:29.451Z"
   },
   {
    "duration": 4,
    "start_time": "2023-05-25T09:52:48.163Z"
   },
   {
    "duration": 194,
    "start_time": "2023-05-25T09:52:50.578Z"
   },
   {
    "duration": 180,
    "start_time": "2023-05-25T09:52:52.162Z"
   },
   {
    "duration": 3,
    "start_time": "2023-05-25T09:52:56.626Z"
   },
   {
    "duration": 166,
    "start_time": "2023-05-25T09:52:58.394Z"
   },
   {
    "duration": 1237,
    "start_time": "2023-05-25T09:53:01.618Z"
   },
   {
    "duration": 153,
    "start_time": "2023-05-25T09:53:07.530Z"
   },
   {
    "duration": 8,
    "start_time": "2023-05-25T09:53:22.778Z"
   },
   {
    "duration": 11,
    "start_time": "2023-05-25T09:53:37.275Z"
   },
   {
    "duration": 7,
    "start_time": "2023-05-25T09:53:39.546Z"
   },
   {
    "duration": 4,
    "start_time": "2023-05-25T09:55:15.049Z"
   },
   {
    "duration": 179,
    "start_time": "2023-05-25T09:55:28.387Z"
   },
   {
    "duration": 1163,
    "start_time": "2023-05-25T09:56:05.946Z"
   },
   {
    "duration": 126,
    "start_time": "2023-05-25T09:57:11.762Z"
   },
   {
    "duration": 9,
    "start_time": "2023-05-25T09:58:15.592Z"
   },
   {
    "duration": 7,
    "start_time": "2023-05-25T09:59:09.376Z"
   },
   {
    "duration": 159,
    "start_time": "2023-05-25T10:00:24.079Z"
   },
   {
    "duration": 1240,
    "start_time": "2023-05-25T10:00:54.792Z"
   },
   {
    "duration": 153,
    "start_time": "2023-05-25T10:01:36.118Z"
   },
   {
    "duration": 202,
    "start_time": "2023-05-25T10:06:00.620Z"
   },
   {
    "duration": 404,
    "start_time": "2023-05-25T10:06:33.011Z"
   },
   {
    "duration": 465,
    "start_time": "2023-05-25T10:06:35.810Z"
   },
   {
    "duration": 377,
    "start_time": "2023-05-25T10:06:43.020Z"
   },
   {
    "duration": 6,
    "start_time": "2023-05-25T10:06:45.234Z"
   },
   {
    "duration": 1884,
    "start_time": "2023-05-25T10:07:27.370Z"
   },
   {
    "duration": 178,
    "start_time": "2023-05-25T10:07:32.074Z"
   },
   {
    "duration": 6,
    "start_time": "2023-05-25T10:08:00.730Z"
   },
   {
    "duration": 7,
    "start_time": "2023-05-25T10:08:04.074Z"
   },
   {
    "duration": 6,
    "start_time": "2023-05-25T10:08:20.569Z"
   },
   {
    "duration": 8,
    "start_time": "2023-05-25T10:18:13.588Z"
   },
   {
    "duration": 12,
    "start_time": "2023-05-25T10:19:10.785Z"
   },
   {
    "duration": 11,
    "start_time": "2023-05-25T10:19:26.842Z"
   },
   {
    "duration": 17,
    "start_time": "2023-05-25T10:21:52.214Z"
   },
   {
    "duration": 12,
    "start_time": "2023-05-25T10:21:57.014Z"
   },
   {
    "duration": 6,
    "start_time": "2023-05-25T10:22:56.381Z"
   },
   {
    "duration": 13,
    "start_time": "2023-05-25T10:23:32.988Z"
   },
   {
    "duration": 8,
    "start_time": "2023-05-25T10:24:09.483Z"
   },
   {
    "duration": 24,
    "start_time": "2023-05-25T10:28:54.643Z"
   },
   {
    "duration": 16,
    "start_time": "2023-05-25T10:29:01.471Z"
   },
   {
    "duration": 9,
    "start_time": "2023-05-25T10:29:46.726Z"
   },
   {
    "duration": 8,
    "start_time": "2023-05-25T10:30:49.623Z"
   },
   {
    "duration": 4,
    "start_time": "2023-05-25T10:31:04.414Z"
   },
   {
    "duration": 9,
    "start_time": "2023-05-25T10:31:07.021Z"
   },
   {
    "duration": 1401,
    "start_time": "2023-05-25T10:32:16.525Z"
   },
   {
    "duration": 37,
    "start_time": "2023-05-25T10:32:44.684Z"
   },
   {
    "duration": 15,
    "start_time": "2023-05-25T10:33:15.188Z"
   },
   {
    "duration": 149,
    "start_time": "2023-05-25T10:34:25.770Z"
   },
   {
    "duration": 143,
    "start_time": "2023-05-25T10:34:32.419Z"
   },
   {
    "duration": 7,
    "start_time": "2023-05-25T10:36:26.200Z"
   },
   {
    "duration": 17,
    "start_time": "2023-05-25T11:00:26.451Z"
   },
   {
    "duration": 22,
    "start_time": "2023-05-25T11:00:30.467Z"
   },
   {
    "duration": 9,
    "start_time": "2023-05-25T11:00:46.786Z"
   },
   {
    "duration": 9,
    "start_time": "2023-05-25T11:01:01.377Z"
   },
   {
    "duration": 11,
    "start_time": "2023-05-25T11:02:54.919Z"
   },
   {
    "duration": 15,
    "start_time": "2023-05-25T11:04:22.119Z"
   },
   {
    "duration": 18,
    "start_time": "2023-05-25T11:06:27.661Z"
   },
   {
    "duration": 11,
    "start_time": "2023-05-25T11:07:09.556Z"
   },
   {
    "duration": 1081,
    "start_time": "2023-05-25T11:07:19.676Z"
   },
   {
    "duration": 1094,
    "start_time": "2023-05-25T11:07:31.788Z"
   },
   {
    "duration": 1169,
    "start_time": "2023-05-25T11:08:03.643Z"
   },
   {
    "duration": 1216,
    "start_time": "2023-05-26T06:54:34.751Z"
   },
   {
    "duration": 48,
    "start_time": "2023-05-26T06:54:35.969Z"
   },
   {
    "duration": 20,
    "start_time": "2023-05-26T06:54:36.018Z"
   },
   {
    "duration": 11,
    "start_time": "2023-05-26T06:54:36.040Z"
   },
   {
    "duration": 29,
    "start_time": "2023-05-26T06:54:36.054Z"
   },
   {
    "duration": 23,
    "start_time": "2023-05-26T06:54:36.085Z"
   },
   {
    "duration": 9,
    "start_time": "2023-05-26T06:54:36.110Z"
   },
   {
    "duration": 111,
    "start_time": "2023-05-26T06:54:36.121Z"
   },
   {
    "duration": 29,
    "start_time": "2023-05-26T06:54:36.234Z"
   },
   {
    "duration": 24,
    "start_time": "2023-05-26T06:54:36.265Z"
   },
   {
    "duration": 10,
    "start_time": "2023-05-26T06:54:36.291Z"
   },
   {
    "duration": 25,
    "start_time": "2023-05-26T06:54:36.303Z"
   },
   {
    "duration": 32,
    "start_time": "2023-05-26T06:54:36.329Z"
   },
   {
    "duration": 7,
    "start_time": "2023-05-26T06:54:36.364Z"
   },
   {
    "duration": 95,
    "start_time": "2023-05-26T06:54:36.372Z"
   },
   {
    "duration": 37,
    "start_time": "2023-05-26T06:54:36.469Z"
   },
   {
    "duration": 44,
    "start_time": "2023-05-26T06:54:36.508Z"
   },
   {
    "duration": 15,
    "start_time": "2023-05-26T06:54:36.553Z"
   },
   {
    "duration": 3,
    "start_time": "2023-05-26T06:54:36.569Z"
   },
   {
    "duration": 47,
    "start_time": "2023-05-26T06:54:36.573Z"
   },
   {
    "duration": 3,
    "start_time": "2023-05-26T06:54:36.621Z"
   },
   {
    "duration": 45,
    "start_time": "2023-05-26T06:54:36.625Z"
   },
   {
    "duration": 4,
    "start_time": "2023-05-26T06:54:36.672Z"
   },
   {
    "duration": 73,
    "start_time": "2023-05-26T06:54:36.678Z"
   },
   {
    "duration": 6,
    "start_time": "2023-05-26T06:54:36.753Z"
   },
   {
    "duration": 26,
    "start_time": "2023-05-26T06:54:36.761Z"
   },
   {
    "duration": 6,
    "start_time": "2023-05-26T06:54:36.788Z"
   },
   {
    "duration": 7,
    "start_time": "2023-05-26T06:54:36.796Z"
   },
   {
    "duration": 52,
    "start_time": "2023-05-26T06:54:36.805Z"
   },
   {
    "duration": 3,
    "start_time": "2023-05-26T06:54:36.859Z"
   },
   {
    "duration": 69,
    "start_time": "2023-05-26T06:54:36.863Z"
   },
   {
    "duration": 18,
    "start_time": "2023-05-26T06:54:36.934Z"
   },
   {
    "duration": 10,
    "start_time": "2023-05-26T06:54:36.954Z"
   },
   {
    "duration": 18,
    "start_time": "2023-05-26T06:54:36.965Z"
   },
   {
    "duration": 3,
    "start_time": "2023-05-26T06:54:36.985Z"
   },
   {
    "duration": 209,
    "start_time": "2023-05-26T06:54:36.989Z"
   },
   {
    "duration": 181,
    "start_time": "2023-05-26T06:54:37.200Z"
   },
   {
    "duration": 3,
    "start_time": "2023-05-26T06:54:37.382Z"
   },
   {
    "duration": 1264,
    "start_time": "2023-05-26T06:54:37.386Z"
   },
   {
    "duration": 16,
    "start_time": "2023-05-26T06:54:38.651Z"
   },
   {
    "duration": 1055,
    "start_time": "2023-05-26T06:54:38.672Z"
   },
   {
    "duration": 4,
    "start_time": "2023-05-26T06:54:39.729Z"
   },
   {
    "duration": 198,
    "start_time": "2023-05-26T06:54:39.734Z"
   },
   {
    "duration": 194,
    "start_time": "2023-05-26T06:54:39.933Z"
   },
   {
    "duration": 66,
    "start_time": "2023-05-26T06:54:40.129Z"
   },
   {
    "duration": 15,
    "start_time": "2023-05-26T06:54:40.197Z"
   },
   {
    "duration": 14,
    "start_time": "2023-05-26T06:54:40.214Z"
   },
   {
    "duration": 90,
    "start_time": "2023-05-26T06:54:40.229Z"
   },
   {
    "duration": 31,
    "start_time": "2023-05-26T06:54:40.320Z"
   },
   {
    "duration": 11,
    "start_time": "2023-05-26T06:54:40.353Z"
   },
   {
    "duration": 9,
    "start_time": "2023-05-26T06:54:40.366Z"
   },
   {
    "duration": 10,
    "start_time": "2023-05-26T06:54:40.377Z"
   },
   {
    "duration": 13,
    "start_time": "2023-05-26T06:54:40.388Z"
   },
   {
    "duration": 49,
    "start_time": "2023-05-26T06:54:40.403Z"
   },
   {
    "duration": 11,
    "start_time": "2023-05-26T06:54:40.454Z"
   },
   {
    "duration": 23,
    "start_time": "2023-05-26T06:54:40.467Z"
   },
   {
    "duration": 282,
    "start_time": "2023-05-26T06:54:40.492Z"
   },
   {
    "duration": 188,
    "start_time": "2023-05-26T06:54:40.776Z"
   },
   {
    "duration": 10,
    "start_time": "2023-05-26T06:54:40.965Z"
   },
   {
    "duration": 10,
    "start_time": "2023-05-26T06:54:40.977Z"
   },
   {
    "duration": 9,
    "start_time": "2023-05-26T06:54:40.988Z"
   },
   {
    "duration": 336,
    "start_time": "2023-05-26T06:54:40.998Z"
   },
   {
    "duration": 7,
    "start_time": "2023-05-26T06:54:41.335Z"
   },
   {
    "duration": 6,
    "start_time": "2023-05-26T06:54:41.344Z"
   },
   {
    "duration": 6,
    "start_time": "2023-05-26T06:54:41.351Z"
   },
   {
    "duration": 4,
    "start_time": "2023-05-26T06:54:41.358Z"
   },
   {
    "duration": 5,
    "start_time": "2023-05-26T06:54:41.363Z"
   },
   {
    "duration": 141,
    "start_time": "2023-05-26T06:54:41.370Z"
   },
   {
    "duration": 0,
    "start_time": "2023-05-26T06:54:41.513Z"
   },
   {
    "duration": 0,
    "start_time": "2023-05-26T06:54:41.514Z"
   },
   {
    "duration": 0,
    "start_time": "2023-05-26T06:54:41.515Z"
   },
   {
    "duration": 0,
    "start_time": "2023-05-26T06:54:41.517Z"
   },
   {
    "duration": 0,
    "start_time": "2023-05-26T06:54:41.519Z"
   },
   {
    "duration": 0,
    "start_time": "2023-05-26T06:54:41.520Z"
   },
   {
    "duration": 0,
    "start_time": "2023-05-26T06:54:41.522Z"
   },
   {
    "duration": 0,
    "start_time": "2023-05-26T06:54:41.522Z"
   },
   {
    "duration": 0,
    "start_time": "2023-05-26T06:54:41.523Z"
   },
   {
    "duration": 0,
    "start_time": "2023-05-26T06:54:41.525Z"
   },
   {
    "duration": 0,
    "start_time": "2023-05-26T06:54:41.550Z"
   },
   {
    "duration": 0,
    "start_time": "2023-05-26T06:54:41.552Z"
   },
   {
    "duration": 0,
    "start_time": "2023-05-26T06:54:41.553Z"
   },
   {
    "duration": 0,
    "start_time": "2023-05-26T06:54:41.554Z"
   },
   {
    "duration": 0,
    "start_time": "2023-05-26T06:54:41.555Z"
   },
   {
    "duration": 0,
    "start_time": "2023-05-26T06:54:41.556Z"
   },
   {
    "duration": 0,
    "start_time": "2023-05-26T06:54:41.557Z"
   },
   {
    "duration": 25,
    "start_time": "2023-05-26T06:55:29.460Z"
   },
   {
    "duration": 3,
    "start_time": "2023-05-26T06:55:53.299Z"
   },
   {
    "duration": 15,
    "start_time": "2023-05-26T06:55:54.234Z"
   },
   {
    "duration": 4,
    "start_time": "2023-05-26T06:56:00.801Z"
   },
   {
    "duration": 4087,
    "start_time": "2023-05-26T06:56:01.242Z"
   },
   {
    "duration": 5,
    "start_time": "2023-05-26T06:56:36.183Z"
   },
   {
    "duration": 22,
    "start_time": "2023-05-26T06:56:36.786Z"
   },
   {
    "duration": 3,
    "start_time": "2023-05-26T06:56:38.769Z"
   },
   {
    "duration": 3,
    "start_time": "2023-05-26T06:56:49.177Z"
   },
   {
    "duration": 34648,
    "start_time": "2023-05-26T06:56:59.489Z"
   },
   {
    "duration": 3,
    "start_time": "2023-05-26T06:58:00.074Z"
   },
   {
    "duration": 9,
    "start_time": "2023-05-26T06:58:00.874Z"
   },
   {
    "duration": 3,
    "start_time": "2023-05-26T06:58:01.705Z"
   },
   {
    "duration": 6,
    "start_time": "2023-05-26T06:58:02.489Z"
   },
   {
    "duration": 5,
    "start_time": "2023-05-26T06:58:03.920Z"
   },
   {
    "duration": 24,
    "start_time": "2023-05-26T06:58:05.530Z"
   },
   {
    "duration": 3,
    "start_time": "2023-05-26T06:58:06.401Z"
   },
   {
    "duration": 23,
    "start_time": "2023-05-26T06:58:08.680Z"
   },
   {
    "duration": 2,
    "start_time": "2023-05-26T06:58:12.513Z"
   },
   {
    "duration": 20672,
    "start_time": "2023-05-26T06:58:13.833Z"
   },
   {
    "duration": 6972,
    "start_time": "2023-05-26T06:58:34.833Z"
   },
   {
    "duration": 24,
    "start_time": "2023-05-26T06:58:54.594Z"
   },
   {
    "duration": 4,
    "start_time": "2023-05-26T06:58:55.880Z"
   },
   {
    "duration": 20,
    "start_time": "2023-05-26T06:58:58.409Z"
   },
   {
    "duration": 3,
    "start_time": "2023-05-26T06:58:59.776Z"
   },
   {
    "duration": 20290,
    "start_time": "2023-05-26T06:59:02.288Z"
   },
   {
    "duration": 117,
    "start_time": "2023-05-26T06:59:28.905Z"
   },
   {
    "duration": 4,
    "start_time": "2023-05-26T06:59:36.648Z"
   },
   {
    "duration": 21,
    "start_time": "2023-05-26T06:59:38.465Z"
   },
   {
    "duration": 2,
    "start_time": "2023-05-26T06:59:40.185Z"
   },
   {
    "duration": 44552,
    "start_time": "2023-05-26T06:59:41.513Z"
   },
   {
    "duration": 11,
    "start_time": "2023-05-26T07:00:46.185Z"
   },
   {
    "duration": 7844,
    "start_time": "2023-05-26T07:00:51.536Z"
   },
   {
    "duration": 182,
    "start_time": "2023-05-26T07:01:09.754Z"
   },
   {
    "duration": 250,
    "start_time": "2023-05-26T07:01:15.408Z"
   },
   {
    "duration": 20,
    "start_time": "2023-05-26T07:01:30.136Z"
   },
   {
    "duration": 26,
    "start_time": "2023-05-26T07:01:34.992Z"
   },
   {
    "duration": 3,
    "start_time": "2023-05-26T07:05:09.160Z"
   },
   {
    "duration": 5,
    "start_time": "2023-05-26T07:05:09.744Z"
   },
   {
    "duration": 4,
    "start_time": "2023-05-26T07:05:10.544Z"
   },
   {
    "duration": 11,
    "start_time": "2023-05-26T07:05:11.608Z"
   },
   {
    "duration": 16,
    "start_time": "2023-05-26T07:05:23.033Z"
   },
   {
    "duration": 3,
    "start_time": "2023-05-26T07:05:43.384Z"
   },
   {
    "duration": 14,
    "start_time": "2023-05-26T07:05:45.864Z"
   },
   {
    "duration": 28,
    "start_time": "2023-05-26T07:07:04.272Z"
   },
   {
    "duration": 135,
    "start_time": "2023-05-26T07:09:36.432Z"
   },
   {
    "duration": 9,
    "start_time": "2023-05-26T07:09:47.647Z"
   },
   {
    "duration": 13,
    "start_time": "2023-05-26T07:11:55.752Z"
   },
   {
    "duration": 42,
    "start_time": "2023-05-26T07:12:12.739Z"
   },
   {
    "duration": 6,
    "start_time": "2023-05-26T07:12:43.184Z"
   },
   {
    "duration": 7,
    "start_time": "2023-05-26T07:13:05.375Z"
   },
   {
    "duration": 6,
    "start_time": "2023-05-26T07:13:18.943Z"
   },
   {
    "duration": 4,
    "start_time": "2023-05-26T07:14:32.143Z"
   },
   {
    "duration": 6,
    "start_time": "2023-05-26T07:14:32.551Z"
   },
   {
    "duration": 15,
    "start_time": "2023-05-26T07:14:43.103Z"
   },
   {
    "duration": 20906,
    "start_time": "2023-05-26T07:14:50.136Z"
   },
   {
    "duration": 4,
    "start_time": "2023-05-26T07:18:52.279Z"
   },
   {
    "duration": 25,
    "start_time": "2023-05-26T07:19:32.543Z"
   },
   {
    "duration": 536,
    "start_time": "2023-05-26T07:19:56.303Z"
   },
   {
    "duration": 28,
    "start_time": "2023-05-26T07:20:00.489Z"
   },
   {
    "duration": 250,
    "start_time": "2023-05-26T07:20:48.461Z"
   },
   {
    "duration": 24814,
    "start_time": "2023-05-26T07:21:05.486Z"
   },
   {
    "duration": 4,
    "start_time": "2023-05-26T07:21:42.926Z"
   },
   {
    "duration": 2018,
    "start_time": "2023-05-26T07:22:18.423Z"
   },
   {
    "duration": 1318,
    "start_time": "2023-05-26T07:34:59.965Z"
   },
   {
    "duration": 50,
    "start_time": "2023-05-26T07:35:01.286Z"
   },
   {
    "duration": 31,
    "start_time": "2023-05-26T07:35:01.338Z"
   },
   {
    "duration": 52,
    "start_time": "2023-05-26T07:35:01.371Z"
   },
   {
    "duration": 76,
    "start_time": "2023-05-26T07:35:01.425Z"
   },
   {
    "duration": 34,
    "start_time": "2023-05-26T07:35:01.503Z"
   },
   {
    "duration": 29,
    "start_time": "2023-05-26T07:35:01.539Z"
   },
   {
    "duration": 130,
    "start_time": "2023-05-26T07:35:01.570Z"
   },
   {
    "duration": 30,
    "start_time": "2023-05-26T07:35:01.702Z"
   },
   {
    "duration": 41,
    "start_time": "2023-05-26T07:35:01.735Z"
   },
   {
    "duration": 12,
    "start_time": "2023-05-26T07:35:01.778Z"
   },
   {
    "duration": 67,
    "start_time": "2023-05-26T07:35:01.792Z"
   },
   {
    "duration": 25,
    "start_time": "2023-05-26T07:35:01.860Z"
   },
   {
    "duration": 10,
    "start_time": "2023-05-26T07:35:01.887Z"
   },
   {
    "duration": 120,
    "start_time": "2023-05-26T07:35:01.899Z"
   },
   {
    "duration": 66,
    "start_time": "2023-05-26T07:35:02.022Z"
   },
   {
    "duration": 27,
    "start_time": "2023-05-26T07:35:02.090Z"
   },
   {
    "duration": 50,
    "start_time": "2023-05-26T07:35:02.119Z"
   },
   {
    "duration": 4,
    "start_time": "2023-05-26T07:35:02.171Z"
   },
   {
    "duration": 99,
    "start_time": "2023-05-26T07:35:02.176Z"
   },
   {
    "duration": 3,
    "start_time": "2023-05-26T07:35:02.277Z"
   },
   {
    "duration": 31,
    "start_time": "2023-05-26T07:35:02.282Z"
   },
   {
    "duration": 4,
    "start_time": "2023-05-26T07:35:02.315Z"
   },
   {
    "duration": 84,
    "start_time": "2023-05-26T07:35:02.320Z"
   },
   {
    "duration": 9,
    "start_time": "2023-05-26T07:35:02.406Z"
   },
   {
    "duration": 58,
    "start_time": "2023-05-26T07:35:02.416Z"
   },
   {
    "duration": 25,
    "start_time": "2023-05-26T07:35:02.477Z"
   },
   {
    "duration": 28,
    "start_time": "2023-05-26T07:35:02.509Z"
   },
   {
    "duration": 28,
    "start_time": "2023-05-26T07:35:02.539Z"
   },
   {
    "duration": 6,
    "start_time": "2023-05-26T07:35:02.570Z"
   },
   {
    "duration": 107,
    "start_time": "2023-05-26T07:35:02.579Z"
   },
   {
    "duration": 7,
    "start_time": "2023-05-26T07:35:02.689Z"
   },
   {
    "duration": 9,
    "start_time": "2023-05-26T07:35:02.698Z"
   },
   {
    "duration": 32,
    "start_time": "2023-05-26T07:35:02.709Z"
   },
   {
    "duration": 16,
    "start_time": "2023-05-26T07:35:02.743Z"
   },
   {
    "duration": 216,
    "start_time": "2023-05-26T07:35:02.760Z"
   },
   {
    "duration": 196,
    "start_time": "2023-05-26T07:35:02.978Z"
   },
   {
    "duration": 3,
    "start_time": "2023-05-26T07:35:03.176Z"
   },
   {
    "duration": 1452,
    "start_time": "2023-05-26T07:35:03.180Z"
   },
   {
    "duration": 29,
    "start_time": "2023-05-26T07:35:04.633Z"
   },
   {
    "duration": 1195,
    "start_time": "2023-05-26T07:35:04.670Z"
   },
   {
    "duration": 4,
    "start_time": "2023-05-26T07:35:05.868Z"
   },
   {
    "duration": 230,
    "start_time": "2023-05-26T07:35:05.875Z"
   },
   {
    "duration": 225,
    "start_time": "2023-05-26T07:35:06.107Z"
   },
   {
    "duration": 84,
    "start_time": "2023-05-26T07:35:06.334Z"
   },
   {
    "duration": 33,
    "start_time": "2023-05-26T07:35:06.420Z"
   },
   {
    "duration": 21,
    "start_time": "2023-05-26T07:35:06.455Z"
   },
   {
    "duration": 97,
    "start_time": "2023-05-26T07:35:06.478Z"
   },
   {
    "duration": 10,
    "start_time": "2023-05-26T07:35:06.577Z"
   },
   {
    "duration": 10,
    "start_time": "2023-05-26T07:35:06.589Z"
   },
   {
    "duration": 9,
    "start_time": "2023-05-26T07:35:06.600Z"
   },
   {
    "duration": 53,
    "start_time": "2023-05-26T07:35:06.611Z"
   },
   {
    "duration": 13,
    "start_time": "2023-05-26T07:35:06.665Z"
   },
   {
    "duration": 11,
    "start_time": "2023-05-26T07:35:06.680Z"
   },
   {
    "duration": 13,
    "start_time": "2023-05-26T07:35:06.693Z"
   },
   {
    "duration": 44,
    "start_time": "2023-05-26T07:35:06.708Z"
   },
   {
    "duration": 312,
    "start_time": "2023-05-26T07:35:06.756Z"
   },
   {
    "duration": 199,
    "start_time": "2023-05-26T07:35:07.070Z"
   },
   {
    "duration": 10,
    "start_time": "2023-05-26T07:35:07.271Z"
   },
   {
    "duration": 29,
    "start_time": "2023-05-26T07:35:07.283Z"
   },
   {
    "duration": 10,
    "start_time": "2023-05-26T07:35:07.313Z"
   },
   {
    "duration": 345,
    "start_time": "2023-05-26T07:35:07.324Z"
   },
   {
    "duration": 8,
    "start_time": "2023-05-26T07:35:07.671Z"
   },
   {
    "duration": 7,
    "start_time": "2023-05-26T07:35:07.680Z"
   },
   {
    "duration": 24,
    "start_time": "2023-05-26T07:35:07.688Z"
   },
   {
    "duration": 25,
    "start_time": "2023-05-26T07:35:07.714Z"
   },
   {
    "duration": 45,
    "start_time": "2023-05-26T07:35:07.741Z"
   },
   {
    "duration": 4,
    "start_time": "2023-05-26T07:35:07.789Z"
   },
   {
    "duration": 24,
    "start_time": "2023-05-26T07:35:07.795Z"
   },
   {
    "duration": 4,
    "start_time": "2023-05-26T07:35:07.820Z"
   },
   {
    "duration": 49441,
    "start_time": "2023-05-26T07:35:07.825Z"
   },
   {
    "duration": 17,
    "start_time": "2023-05-26T07:35:57.268Z"
   },
   {
    "duration": 8726,
    "start_time": "2023-05-26T07:35:57.288Z"
   },
   {
    "duration": 194,
    "start_time": "2023-05-26T07:36:06.015Z"
   },
   {
    "duration": 306,
    "start_time": "2023-05-26T07:36:06.211Z"
   },
   {
    "duration": 55,
    "start_time": "2023-05-26T07:36:06.519Z"
   },
   {
    "duration": 20,
    "start_time": "2023-05-26T07:36:06.575Z"
   },
   {
    "duration": 176,
    "start_time": "2023-05-26T07:36:06.597Z"
   },
   {
    "duration": 1,
    "start_time": "2023-05-26T07:36:06.776Z"
   },
   {
    "duration": 1,
    "start_time": "2023-05-26T07:36:06.778Z"
   },
   {
    "duration": 0,
    "start_time": "2023-05-26T07:36:06.780Z"
   },
   {
    "duration": 0,
    "start_time": "2023-05-26T07:36:06.781Z"
   },
   {
    "duration": 0,
    "start_time": "2023-05-26T07:36:06.783Z"
   },
   {
    "duration": 0,
    "start_time": "2023-05-26T07:36:06.784Z"
   },
   {
    "duration": 0,
    "start_time": "2023-05-26T07:36:06.785Z"
   },
   {
    "duration": 0,
    "start_time": "2023-05-26T07:36:06.786Z"
   },
   {
    "duration": 0,
    "start_time": "2023-05-26T07:36:06.787Z"
   },
   {
    "duration": 0,
    "start_time": "2023-05-26T07:36:06.788Z"
   },
   {
    "duration": 0,
    "start_time": "2023-05-26T07:36:06.789Z"
   },
   {
    "duration": 0,
    "start_time": "2023-05-26T07:36:06.790Z"
   },
   {
    "duration": 0,
    "start_time": "2023-05-26T07:36:06.791Z"
   },
   {
    "duration": 17,
    "start_time": "2023-05-26T07:36:16.843Z"
   },
   {
    "duration": 42,
    "start_time": "2023-05-26T07:36:18.981Z"
   },
   {
    "duration": 9,
    "start_time": "2023-05-26T07:36:19.597Z"
   },
   {
    "duration": 9,
    "start_time": "2023-05-26T07:36:23.437Z"
   },
   {
    "duration": 3,
    "start_time": "2023-05-26T07:37:55.877Z"
   },
   {
    "duration": 5,
    "start_time": "2023-05-26T07:37:56.269Z"
   },
   {
    "duration": 6,
    "start_time": "2023-05-26T07:37:57.732Z"
   },
   {
    "duration": 2,
    "start_time": "2023-05-26T07:37:59.941Z"
   },
   {
    "duration": 21539,
    "start_time": "2023-05-26T07:38:00.413Z"
   },
   {
    "duration": 2,
    "start_time": "2023-05-26T07:38:43.366Z"
   },
   {
    "duration": 168,
    "start_time": "2023-05-26T07:38:45.702Z"
   },
   {
    "duration": 195,
    "start_time": "2023-05-26T07:38:51.238Z"
   },
   {
    "duration": 25,
    "start_time": "2023-05-26T07:39:30.581Z"
   },
   {
    "duration": 4,
    "start_time": "2023-05-26T07:39:39.541Z"
   },
   {
    "duration": 17,
    "start_time": "2023-05-26T07:40:35.013Z"
   },
   {
    "duration": 50,
    "start_time": "2023-05-26T07:40:45.220Z"
   },
   {
    "duration": 19,
    "start_time": "2023-05-26T07:41:29.428Z"
   },
   {
    "duration": 5,
    "start_time": "2023-05-26T07:41:48.828Z"
   },
   {
    "duration": 22,
    "start_time": "2023-05-26T07:42:34.445Z"
   },
   {
    "duration": 254,
    "start_time": "2023-05-26T07:45:08.072Z"
   },
   {
    "duration": 222,
    "start_time": "2023-05-26T07:45:23.892Z"
   },
   {
    "duration": 205,
    "start_time": "2023-05-26T07:45:56.005Z"
   },
   {
    "duration": 22231,
    "start_time": "2023-05-26T07:46:19.267Z"
   },
   {
    "duration": 21842,
    "start_time": "2023-05-26T07:50:07.915Z"
   },
   {
    "duration": 4,
    "start_time": "2023-05-26T07:52:16.623Z"
   },
   {
    "duration": 237,
    "start_time": "2023-05-26T07:52:17.412Z"
   },
   {
    "duration": 300,
    "start_time": "2023-05-26T07:52:20.932Z"
   },
   {
    "duration": 1731,
    "start_time": "2023-05-26T07:53:02.572Z"
   },
   {
    "duration": 0,
    "start_time": "2023-05-26T07:53:04.306Z"
   },
   {
    "duration": 2033,
    "start_time": "2023-05-26T07:53:12.871Z"
   },
   {
    "duration": 61,
    "start_time": "2023-05-26T07:53:14.907Z"
   },
   {
    "duration": 30,
    "start_time": "2023-05-26T07:53:14.971Z"
   },
   {
    "duration": 19,
    "start_time": "2023-05-26T07:53:15.004Z"
   },
   {
    "duration": 36,
    "start_time": "2023-05-26T07:53:15.052Z"
   },
   {
    "duration": 57,
    "start_time": "2023-05-26T07:53:15.091Z"
   },
   {
    "duration": 14,
    "start_time": "2023-05-26T07:53:15.151Z"
   },
   {
    "duration": 155,
    "start_time": "2023-05-26T07:53:15.167Z"
   },
   {
    "duration": 35,
    "start_time": "2023-05-26T07:53:15.324Z"
   },
   {
    "duration": 32,
    "start_time": "2023-05-26T07:53:15.363Z"
   },
   {
    "duration": 16,
    "start_time": "2023-05-26T07:53:15.398Z"
   },
   {
    "duration": 54,
    "start_time": "2023-05-26T07:53:15.417Z"
   },
   {
    "duration": 26,
    "start_time": "2023-05-26T07:53:15.474Z"
   },
   {
    "duration": 10,
    "start_time": "2023-05-26T07:53:15.502Z"
   },
   {
    "duration": 181,
    "start_time": "2023-05-26T07:53:15.516Z"
   },
   {
    "duration": 86,
    "start_time": "2023-05-26T07:53:15.700Z"
   },
   {
    "duration": 36,
    "start_time": "2023-05-26T07:53:15.789Z"
   },
   {
    "duration": 27,
    "start_time": "2023-05-26T07:53:15.852Z"
   },
   {
    "duration": 4,
    "start_time": "2023-05-26T07:53:15.883Z"
   },
   {
    "duration": 121,
    "start_time": "2023-05-26T07:53:15.890Z"
   },
   {
    "duration": 4,
    "start_time": "2023-05-26T07:53:16.013Z"
   },
   {
    "duration": 66,
    "start_time": "2023-05-26T07:53:16.020Z"
   },
   {
    "duration": 4,
    "start_time": "2023-05-26T07:53:16.089Z"
   },
   {
    "duration": 75,
    "start_time": "2023-05-26T07:53:16.095Z"
   },
   {
    "duration": 9,
    "start_time": "2023-05-26T07:53:16.171Z"
   },
   {
    "duration": 31,
    "start_time": "2023-05-26T07:53:16.182Z"
   },
   {
    "duration": 35,
    "start_time": "2023-05-26T07:53:16.215Z"
   },
   {
    "duration": 6,
    "start_time": "2023-05-26T07:53:16.260Z"
   },
   {
    "duration": 20,
    "start_time": "2023-05-26T07:53:16.268Z"
   },
   {
    "duration": 4,
    "start_time": "2023-05-26T07:53:16.290Z"
   },
   {
    "duration": 124,
    "start_time": "2023-05-26T07:53:16.297Z"
   },
   {
    "duration": 7,
    "start_time": "2023-05-26T07:53:16.423Z"
   },
   {
    "duration": 19,
    "start_time": "2023-05-26T07:53:16.431Z"
   },
   {
    "duration": 26,
    "start_time": "2023-05-26T07:53:16.452Z"
   },
   {
    "duration": 5,
    "start_time": "2023-05-26T07:53:16.480Z"
   },
   {
    "duration": 267,
    "start_time": "2023-05-26T07:53:16.488Z"
   },
   {
    "duration": 194,
    "start_time": "2023-05-26T07:53:16.757Z"
   },
   {
    "duration": 5,
    "start_time": "2023-05-26T07:53:16.953Z"
   },
   {
    "duration": 1380,
    "start_time": "2023-05-26T07:53:16.960Z"
   },
   {
    "duration": 25,
    "start_time": "2023-05-26T07:53:18.349Z"
   },
   {
    "duration": 1245,
    "start_time": "2023-05-26T07:53:18.378Z"
   },
   {
    "duration": 5,
    "start_time": "2023-05-26T07:53:19.625Z"
   },
   {
    "duration": 272,
    "start_time": "2023-05-26T07:53:19.632Z"
   },
   {
    "duration": 246,
    "start_time": "2023-05-26T07:53:19.905Z"
   },
   {
    "duration": 105,
    "start_time": "2023-05-26T07:53:20.154Z"
   },
   {
    "duration": 20,
    "start_time": "2023-05-26T07:53:20.261Z"
   },
   {
    "duration": 25,
    "start_time": "2023-05-26T07:53:20.284Z"
   },
   {
    "duration": 150,
    "start_time": "2023-05-26T07:53:20.312Z"
   },
   {
    "duration": 19,
    "start_time": "2023-05-26T07:53:20.464Z"
   },
   {
    "duration": 18,
    "start_time": "2023-05-26T07:53:20.485Z"
   },
   {
    "duration": 14,
    "start_time": "2023-05-26T07:53:20.505Z"
   },
   {
    "duration": 30,
    "start_time": "2023-05-26T07:53:20.521Z"
   },
   {
    "duration": 19,
    "start_time": "2023-05-26T07:53:20.553Z"
   },
   {
    "duration": 11,
    "start_time": "2023-05-26T07:53:20.573Z"
   },
   {
    "duration": 10,
    "start_time": "2023-05-26T07:53:20.586Z"
   },
   {
    "duration": 54,
    "start_time": "2023-05-26T07:53:20.598Z"
   },
   {
    "duration": 353,
    "start_time": "2023-05-26T07:53:20.655Z"
   },
   {
    "duration": 223,
    "start_time": "2023-05-26T07:53:21.009Z"
   },
   {
    "duration": 22,
    "start_time": "2023-05-26T07:53:21.234Z"
   },
   {
    "duration": 29,
    "start_time": "2023-05-26T07:53:21.258Z"
   },
   {
    "duration": 15,
    "start_time": "2023-05-26T07:53:21.289Z"
   },
   {
    "duration": 457,
    "start_time": "2023-05-26T07:53:21.306Z"
   },
   {
    "duration": 10,
    "start_time": "2023-05-26T07:53:21.765Z"
   },
   {
    "duration": 5,
    "start_time": "2023-05-26T07:53:21.777Z"
   },
   {
    "duration": 8,
    "start_time": "2023-05-26T07:53:21.784Z"
   },
   {
    "duration": 7,
    "start_time": "2023-05-26T07:53:21.793Z"
   },
   {
    "duration": 57,
    "start_time": "2023-05-26T07:53:21.801Z"
   },
   {
    "duration": 6,
    "start_time": "2023-05-26T07:53:21.860Z"
   },
   {
    "duration": 25,
    "start_time": "2023-05-26T07:53:21.868Z"
   },
   {
    "duration": 8,
    "start_time": "2023-05-26T07:53:21.895Z"
   },
   {
    "duration": 51038,
    "start_time": "2023-05-26T07:53:21.905Z"
   },
   {
    "duration": 23,
    "start_time": "2023-05-26T07:54:12.945Z"
   },
   {
    "duration": 8864,
    "start_time": "2023-05-26T07:54:12.972Z"
   },
   {
    "duration": 220,
    "start_time": "2023-05-26T07:54:21.838Z"
   },
   {
    "duration": 301,
    "start_time": "2023-05-26T07:54:22.061Z"
   },
   {
    "duration": 28,
    "start_time": "2023-05-26T07:54:22.364Z"
   },
   {
    "duration": 55,
    "start_time": "2023-05-26T07:54:22.395Z"
   },
   {
    "duration": 17,
    "start_time": "2023-05-26T07:54:22.461Z"
   },
   {
    "duration": 75,
    "start_time": "2023-05-26T07:54:22.483Z"
   },
   {
    "duration": 4,
    "start_time": "2023-05-26T07:54:22.570Z"
   },
   {
    "duration": 7,
    "start_time": "2023-05-26T07:54:22.576Z"
   },
   {
    "duration": 8,
    "start_time": "2023-05-26T07:54:22.593Z"
   },
   {
    "duration": 6,
    "start_time": "2023-05-26T07:54:22.603Z"
   },
   {
    "duration": 20329,
    "start_time": "2023-05-26T07:54:22.610Z"
   },
   {
    "duration": 3,
    "start_time": "2023-05-26T07:54:42.940Z"
   },
   {
    "duration": 151,
    "start_time": "2023-05-26T07:54:42.954Z"
   },
   {
    "duration": 199,
    "start_time": "2023-05-26T07:54:43.106Z"
   },
   {
    "duration": 59,
    "start_time": "2023-05-26T07:54:43.307Z"
   },
   {
    "duration": 25,
    "start_time": "2023-05-26T07:54:43.371Z"
   },
   {
    "duration": 5,
    "start_time": "2023-05-26T07:54:43.398Z"
   },
   {
    "duration": 288,
    "start_time": "2023-05-26T07:54:43.406Z"
   },
   {
    "duration": 112,
    "start_time": "2023-05-26T07:54:43.696Z"
   },
   {
    "duration": 11,
    "start_time": "2023-05-26T07:54:43.810Z"
   },
   {
    "duration": 0,
    "start_time": "2023-05-26T07:54:43.823Z"
   },
   {
    "duration": 1280,
    "start_time": "2023-05-26T07:58:12.474Z"
   },
   {
    "duration": 51,
    "start_time": "2023-05-26T07:58:13.760Z"
   },
   {
    "duration": 18,
    "start_time": "2023-05-26T07:58:13.813Z"
   },
   {
    "duration": 13,
    "start_time": "2023-05-26T07:58:13.832Z"
   },
   {
    "duration": 47,
    "start_time": "2023-05-26T07:58:13.847Z"
   },
   {
    "duration": 14,
    "start_time": "2023-05-26T07:58:13.896Z"
   },
   {
    "duration": 8,
    "start_time": "2023-05-26T07:58:13.912Z"
   },
   {
    "duration": 107,
    "start_time": "2023-05-26T07:58:13.921Z"
   },
   {
    "duration": 39,
    "start_time": "2023-05-26T07:58:14.030Z"
   },
   {
    "duration": 35,
    "start_time": "2023-05-26T07:58:14.079Z"
   },
   {
    "duration": 11,
    "start_time": "2023-05-26T07:58:14.116Z"
   },
   {
    "duration": 45,
    "start_time": "2023-05-26T07:58:14.129Z"
   },
   {
    "duration": 24,
    "start_time": "2023-05-26T07:58:14.176Z"
   },
   {
    "duration": 8,
    "start_time": "2023-05-26T07:58:14.204Z"
   },
   {
    "duration": 114,
    "start_time": "2023-05-26T07:58:14.215Z"
   },
   {
    "duration": 60,
    "start_time": "2023-05-26T07:58:14.331Z"
   },
   {
    "duration": 27,
    "start_time": "2023-05-26T07:58:14.395Z"
   },
   {
    "duration": 45,
    "start_time": "2023-05-26T07:58:14.424Z"
   },
   {
    "duration": 3,
    "start_time": "2023-05-26T07:58:14.471Z"
   },
   {
    "duration": 64,
    "start_time": "2023-05-26T07:58:14.475Z"
   },
   {
    "duration": 9,
    "start_time": "2023-05-26T07:58:14.541Z"
   },
   {
    "duration": 40,
    "start_time": "2023-05-26T07:58:14.552Z"
   },
   {
    "duration": 3,
    "start_time": "2023-05-26T07:58:14.594Z"
   },
   {
    "duration": 93,
    "start_time": "2023-05-26T07:58:14.599Z"
   },
   {
    "duration": 8,
    "start_time": "2023-05-26T07:58:14.693Z"
   },
   {
    "duration": 34,
    "start_time": "2023-05-26T07:58:14.704Z"
   },
   {
    "duration": 12,
    "start_time": "2023-05-26T07:58:14.739Z"
   },
   {
    "duration": 9,
    "start_time": "2023-05-26T07:58:14.753Z"
   },
   {
    "duration": 25,
    "start_time": "2023-05-26T07:58:14.763Z"
   },
   {
    "duration": 3,
    "start_time": "2023-05-26T07:58:14.790Z"
   },
   {
    "duration": 118,
    "start_time": "2023-05-26T07:58:14.794Z"
   },
   {
    "duration": 6,
    "start_time": "2023-05-26T07:58:14.914Z"
   },
   {
    "duration": 7,
    "start_time": "2023-05-26T07:58:14.921Z"
   },
   {
    "duration": 38,
    "start_time": "2023-05-26T07:58:14.929Z"
   },
   {
    "duration": 4,
    "start_time": "2023-05-26T07:58:14.968Z"
   },
   {
    "duration": 227,
    "start_time": "2023-05-26T07:58:14.974Z"
   },
   {
    "duration": 204,
    "start_time": "2023-05-26T07:58:15.203Z"
   },
   {
    "duration": 4,
    "start_time": "2023-05-26T07:58:15.410Z"
   },
   {
    "duration": 1410,
    "start_time": "2023-05-26T07:58:15.415Z"
   },
   {
    "duration": 29,
    "start_time": "2023-05-26T07:58:16.827Z"
   },
   {
    "duration": 1153,
    "start_time": "2023-05-26T07:58:16.866Z"
   },
   {
    "duration": 6,
    "start_time": "2023-05-26T07:58:18.021Z"
   },
   {
    "duration": 255,
    "start_time": "2023-05-26T07:58:18.028Z"
   },
   {
    "duration": 242,
    "start_time": "2023-05-26T07:58:18.285Z"
   },
   {
    "duration": 82,
    "start_time": "2023-05-26T07:58:18.529Z"
   },
   {
    "duration": 40,
    "start_time": "2023-05-26T07:58:18.613Z"
   },
   {
    "duration": 21,
    "start_time": "2023-05-26T07:58:18.662Z"
   },
   {
    "duration": 86,
    "start_time": "2023-05-26T07:58:18.685Z"
   },
   {
    "duration": 11,
    "start_time": "2023-05-26T07:58:18.773Z"
   },
   {
    "duration": 11,
    "start_time": "2023-05-26T07:58:18.785Z"
   },
   {
    "duration": 9,
    "start_time": "2023-05-26T07:58:18.798Z"
   },
   {
    "duration": 49,
    "start_time": "2023-05-26T07:58:18.809Z"
   },
   {
    "duration": 15,
    "start_time": "2023-05-26T07:58:18.859Z"
   },
   {
    "duration": 13,
    "start_time": "2023-05-26T07:58:18.876Z"
   },
   {
    "duration": 9,
    "start_time": "2023-05-26T07:58:18.891Z"
   },
   {
    "duration": 10,
    "start_time": "2023-05-26T07:58:18.902Z"
   },
   {
    "duration": 323,
    "start_time": "2023-05-26T07:58:18.913Z"
   },
   {
    "duration": 208,
    "start_time": "2023-05-26T07:58:19.238Z"
   },
   {
    "duration": 17,
    "start_time": "2023-05-26T07:58:19.452Z"
   },
   {
    "duration": 25,
    "start_time": "2023-05-26T07:58:19.471Z"
   },
   {
    "duration": 10,
    "start_time": "2023-05-26T07:58:19.498Z"
   },
   {
    "duration": 376,
    "start_time": "2023-05-26T07:58:19.510Z"
   },
   {
    "duration": 8,
    "start_time": "2023-05-26T07:58:19.888Z"
   },
   {
    "duration": 9,
    "start_time": "2023-05-26T07:58:19.898Z"
   },
   {
    "duration": 32,
    "start_time": "2023-05-26T07:58:19.909Z"
   },
   {
    "duration": 25,
    "start_time": "2023-05-26T07:58:19.943Z"
   },
   {
    "duration": 29,
    "start_time": "2023-05-26T07:58:19.970Z"
   },
   {
    "duration": 16,
    "start_time": "2023-05-26T07:58:20.001Z"
   },
   {
    "duration": 22,
    "start_time": "2023-05-26T07:58:20.019Z"
   },
   {
    "duration": 23,
    "start_time": "2023-05-26T07:58:20.042Z"
   },
   {
    "duration": 50984,
    "start_time": "2023-05-26T07:58:20.068Z"
   },
   {
    "duration": 17,
    "start_time": "2023-05-26T07:59:11.059Z"
   },
   {
    "duration": 8877,
    "start_time": "2023-05-26T07:59:11.078Z"
   },
   {
    "duration": 207,
    "start_time": "2023-05-26T07:59:19.959Z"
   },
   {
    "duration": 272,
    "start_time": "2023-05-26T07:59:20.168Z"
   },
   {
    "duration": 38,
    "start_time": "2023-05-26T07:59:20.442Z"
   },
   {
    "duration": 22,
    "start_time": "2023-05-26T07:59:20.484Z"
   },
   {
    "duration": 46,
    "start_time": "2023-05-26T07:59:20.509Z"
   },
   {
    "duration": 50,
    "start_time": "2023-05-26T07:59:20.560Z"
   },
   {
    "duration": 3,
    "start_time": "2023-05-26T07:59:20.613Z"
   },
   {
    "duration": 30,
    "start_time": "2023-05-26T07:59:20.619Z"
   },
   {
    "duration": 11,
    "start_time": "2023-05-26T07:59:20.652Z"
   },
   {
    "duration": 15,
    "start_time": "2023-05-26T07:59:20.665Z"
   },
   {
    "duration": 19002,
    "start_time": "2023-05-26T07:59:20.682Z"
   },
   {
    "duration": 3,
    "start_time": "2023-05-26T07:59:39.686Z"
   },
   {
    "duration": 138,
    "start_time": "2023-05-26T07:59:39.691Z"
   },
   {
    "duration": 227,
    "start_time": "2023-05-26T07:59:39.831Z"
   },
   {
    "duration": 41,
    "start_time": "2023-05-26T07:59:40.067Z"
   },
   {
    "duration": 45,
    "start_time": "2023-05-26T07:59:40.109Z"
   },
   {
    "duration": 13,
    "start_time": "2023-05-26T07:59:40.155Z"
   },
   {
    "duration": 38,
    "start_time": "2023-05-26T08:02:21.260Z"
   },
   {
    "duration": 1331,
    "start_time": "2023-05-26T08:04:12.011Z"
   },
   {
    "duration": 3,
    "start_time": "2023-05-26T08:04:40.988Z"
   },
   {
    "duration": 5,
    "start_time": "2023-05-26T08:04:41.547Z"
   },
   {
    "duration": 6,
    "start_time": "2023-05-26T08:04:42.083Z"
   },
   {
    "duration": 3,
    "start_time": "2023-05-26T08:04:42.859Z"
   },
   {
    "duration": 17592,
    "start_time": "2023-05-26T08:04:43.700Z"
   },
   {
    "duration": 2,
    "start_time": "2023-05-26T08:05:04.748Z"
   },
   {
    "duration": 125,
    "start_time": "2023-05-26T08:05:05.651Z"
   },
   {
    "duration": 181,
    "start_time": "2023-05-26T08:05:17.763Z"
   },
   {
    "duration": 39,
    "start_time": "2023-05-26T08:05:23.028Z"
   },
   {
    "duration": 1388,
    "start_time": "2023-05-27T04:15:59.875Z"
   },
   {
    "duration": 152,
    "start_time": "2023-05-27T04:16:01.265Z"
   },
   {
    "duration": 21,
    "start_time": "2023-05-27T04:16:01.418Z"
   },
   {
    "duration": 36,
    "start_time": "2023-05-27T04:16:01.441Z"
   },
   {
    "duration": 114,
    "start_time": "2023-05-27T04:16:01.479Z"
   },
   {
    "duration": 17,
    "start_time": "2023-05-27T04:16:01.595Z"
   },
   {
    "duration": 15,
    "start_time": "2023-05-27T04:16:01.615Z"
   },
   {
    "duration": 123,
    "start_time": "2023-05-27T04:16:01.632Z"
   },
   {
    "duration": 107,
    "start_time": "2023-05-27T04:16:01.757Z"
   },
   {
    "duration": 25,
    "start_time": "2023-05-27T04:16:01.867Z"
   },
   {
    "duration": 10,
    "start_time": "2023-05-27T04:16:01.894Z"
   },
   {
    "duration": 69,
    "start_time": "2023-05-27T04:16:01.906Z"
   },
   {
    "duration": 18,
    "start_time": "2023-05-27T04:16:02.470Z"
   },
   {
    "duration": 7,
    "start_time": "2023-05-27T04:16:02.637Z"
   },
   {
    "duration": 76,
    "start_time": "2023-05-27T04:16:02.805Z"
   },
   {
    "duration": 39,
    "start_time": "2023-05-27T04:16:03.116Z"
   },
   {
    "duration": 26,
    "start_time": "2023-05-27T04:16:03.605Z"
   },
   {
    "duration": 16,
    "start_time": "2023-05-27T04:16:04.404Z"
   },
   {
    "duration": 2,
    "start_time": "2023-05-27T04:16:05.614Z"
   },
   {
    "duration": 47,
    "start_time": "2023-05-27T04:16:05.652Z"
   },
   {
    "duration": 3,
    "start_time": "2023-05-27T04:16:05.701Z"
   },
   {
    "duration": 27,
    "start_time": "2023-05-27T04:16:05.705Z"
   },
   {
    "duration": 3,
    "start_time": "2023-05-27T04:16:05.849Z"
   },
   {
    "duration": 50,
    "start_time": "2023-05-27T04:16:06.189Z"
   },
   {
    "duration": 7,
    "start_time": "2023-05-27T04:16:06.685Z"
   },
   {
    "duration": 25,
    "start_time": "2023-05-27T04:16:07.134Z"
   },
   {
    "duration": 6,
    "start_time": "2023-05-27T04:16:07.621Z"
   },
   {
    "duration": 6,
    "start_time": "2023-05-27T04:16:07.781Z"
   },
   {
    "duration": 18,
    "start_time": "2023-05-27T04:16:08.093Z"
   },
   {
    "duration": 3,
    "start_time": "2023-05-27T04:16:08.261Z"
   },
   {
    "duration": 79,
    "start_time": "2023-05-27T04:16:08.429Z"
   },
   {
    "duration": 6,
    "start_time": "2023-05-27T04:16:08.590Z"
   },
   {
    "duration": 5,
    "start_time": "2023-05-27T04:16:08.749Z"
   },
   {
    "duration": 13,
    "start_time": "2023-05-27T04:16:08.917Z"
   },
   {
    "duration": 4,
    "start_time": "2023-05-27T04:16:09.237Z"
   },
   {
    "duration": 187,
    "start_time": "2023-05-27T04:16:09.413Z"
   },
   {
    "duration": 184,
    "start_time": "2023-05-27T04:16:09.602Z"
   },
   {
    "duration": 2,
    "start_time": "2023-05-27T04:16:09.788Z"
   },
   {
    "duration": 1189,
    "start_time": "2023-05-27T04:16:09.904Z"
   },
   {
    "duration": 93,
    "start_time": "2023-05-27T04:16:11.096Z"
   },
   {
    "duration": 1096,
    "start_time": "2023-05-27T04:16:11.191Z"
   },
   {
    "duration": 4,
    "start_time": "2023-05-27T04:16:12.289Z"
   },
   {
    "duration": 214,
    "start_time": "2023-05-27T04:16:12.295Z"
   },
   {
    "duration": 210,
    "start_time": "2023-05-27T04:16:12.511Z"
   },
   {
    "duration": 70,
    "start_time": "2023-05-27T04:16:12.722Z"
   },
   {
    "duration": 16,
    "start_time": "2023-05-27T04:16:12.793Z"
   },
   {
    "duration": 14,
    "start_time": "2023-05-27T04:16:12.810Z"
   },
   {
    "duration": 71,
    "start_time": "2023-05-27T04:16:13.429Z"
   },
   {
    "duration": 10,
    "start_time": "2023-05-27T04:16:13.590Z"
   },
   {
    "duration": 12,
    "start_time": "2023-05-27T04:16:14.077Z"
   },
   {
    "duration": 9,
    "start_time": "2023-05-27T04:16:15.021Z"
   },
   {
    "duration": 10,
    "start_time": "2023-05-27T04:16:15.773Z"
   },
   {
    "duration": 12,
    "start_time": "2023-05-27T04:16:16.093Z"
   },
   {
    "duration": 10,
    "start_time": "2023-05-27T04:16:16.749Z"
   },
   {
    "duration": 10,
    "start_time": "2023-05-27T04:16:17.277Z"
   },
   {
    "duration": 11,
    "start_time": "2023-05-27T04:16:17.877Z"
   },
   {
    "duration": 187,
    "start_time": "2023-05-27T04:16:18.493Z"
   },
   {
    "duration": 261,
    "start_time": "2023-05-27T04:16:19.038Z"
   },
   {
    "duration": 10,
    "start_time": "2023-05-27T04:16:19.381Z"
   },
   {
    "duration": 12,
    "start_time": "2023-05-27T04:16:19.550Z"
   },
   {
    "duration": 11,
    "start_time": "2023-05-27T04:16:20.141Z"
   },
   {
    "duration": 1292,
    "start_time": "2023-05-28T07:47:51.213Z"
   },
   {
    "duration": 88,
    "start_time": "2023-05-28T07:47:55.149Z"
   },
   {
    "duration": 17,
    "start_time": "2023-05-28T07:47:56.315Z"
   },
   {
    "duration": 10,
    "start_time": "2023-05-28T07:47:57.309Z"
   },
   {
    "duration": 187,
    "start_time": "2023-05-28T07:47:57.817Z"
   },
   {
    "duration": 13,
    "start_time": "2023-05-28T07:47:58.277Z"
   },
   {
    "duration": 8,
    "start_time": "2023-05-28T07:47:58.774Z"
   },
   {
    "duration": 79,
    "start_time": "2023-05-28T07:47:59.239Z"
   },
   {
    "duration": 96,
    "start_time": "2023-05-28T07:47:59.692Z"
   },
   {
    "duration": 23,
    "start_time": "2023-05-28T07:48:00.283Z"
   },
   {
    "duration": 10,
    "start_time": "2023-05-28T07:48:00.659Z"
   },
   {
    "duration": 82,
    "start_time": "2023-05-28T07:48:01.077Z"
   },
   {
    "duration": 15,
    "start_time": "2023-05-28T07:48:01.511Z"
   },
   {
    "duration": 8,
    "start_time": "2023-05-28T07:48:01.976Z"
   },
   {
    "duration": 69,
    "start_time": "2023-05-28T07:48:02.404Z"
   },
   {
    "duration": 37,
    "start_time": "2023-05-28T07:48:03.584Z"
   },
   {
    "duration": 20,
    "start_time": "2023-05-28T07:48:05.392Z"
   },
   {
    "duration": 16,
    "start_time": "2023-05-28T07:48:09.300Z"
   },
   {
    "duration": 2,
    "start_time": "2023-05-28T07:48:10.438Z"
   },
   {
    "duration": 42,
    "start_time": "2023-05-28T07:48:11.243Z"
   },
   {
    "duration": 2,
    "start_time": "2023-05-28T07:48:31.750Z"
   },
   {
    "duration": 23,
    "start_time": "2023-05-28T07:48:32.754Z"
   },
   {
    "duration": 3,
    "start_time": "2023-05-28T07:48:33.722Z"
   },
   {
    "duration": 50,
    "start_time": "2023-05-28T07:48:34.864Z"
   },
   {
    "duration": 7,
    "start_time": "2023-05-28T07:48:36.389Z"
   },
   {
    "duration": 24,
    "start_time": "2023-05-28T07:48:37.205Z"
   },
   {
    "duration": 5,
    "start_time": "2023-05-28T07:48:38.712Z"
   },
   {
    "duration": 5,
    "start_time": "2023-05-28T07:48:39.194Z"
   },
   {
    "duration": 15,
    "start_time": "2023-05-28T07:48:43.358Z"
   },
   {
    "duration": 3,
    "start_time": "2023-05-28T07:48:43.872Z"
   },
   {
    "duration": 70,
    "start_time": "2023-05-28T07:48:44.685Z"
   },
   {
    "duration": 5,
    "start_time": "2023-05-28T07:48:45.961Z"
   },
   {
    "duration": 3,
    "start_time": "2023-05-28T07:48:46.466Z"
   },
   {
    "duration": 11,
    "start_time": "2023-05-28T07:48:48.320Z"
   },
   {
    "duration": 4,
    "start_time": "2023-05-28T07:49:13.623Z"
   },
   {
    "duration": 190,
    "start_time": "2023-05-28T07:49:14.138Z"
   },
   {
    "duration": 148,
    "start_time": "2023-05-28T07:49:14.918Z"
   },
   {
    "duration": 3,
    "start_time": "2023-05-28T07:49:16.918Z"
   },
   {
    "duration": 1004,
    "start_time": "2023-05-28T07:49:17.443Z"
   },
   {
    "duration": 64,
    "start_time": "2023-05-28T07:49:29.891Z"
   },
   {
    "duration": 947,
    "start_time": "2023-05-28T07:49:30.552Z"
   },
   {
    "duration": 5,
    "start_time": "2023-05-28T07:49:34.749Z"
   },
   {
    "duration": 169,
    "start_time": "2023-05-28T07:49:35.241Z"
   },
   {
    "duration": 160,
    "start_time": "2023-05-28T07:49:36.367Z"
   },
   {
    "duration": 63,
    "start_time": "2023-05-28T07:49:53.272Z"
   },
   {
    "duration": 14,
    "start_time": "2023-05-28T07:49:56.166Z"
   },
   {
    "duration": 3061,
    "start_time": "2023-05-28T08:39:46.407Z"
   },
   {
    "duration": 27,
    "start_time": "2023-05-28T08:49:05.709Z"
   },
   {
    "duration": 113,
    "start_time": "2023-05-28T08:49:13.782Z"
   },
   {
    "duration": 1633,
    "start_time": "2023-05-28T08:49:18.209Z"
   },
   {
    "duration": 11,
    "start_time": "2023-05-28T08:49:31.417Z"
   },
   {
    "duration": 10803,
    "start_time": "2023-05-28T08:49:46.858Z"
   },
   {
    "duration": 9,
    "start_time": "2023-05-28T08:50:16.517Z"
   },
   {
    "duration": 4,
    "start_time": "2023-05-28T08:51:28.343Z"
   },
   {
    "duration": 55,
    "start_time": "2023-05-28T08:51:29.235Z"
   },
   {
    "duration": 21,
    "start_time": "2023-05-28T08:51:29.712Z"
   },
   {
    "duration": 11,
    "start_time": "2023-05-28T08:51:30.185Z"
   },
   {
    "duration": 45,
    "start_time": "2023-05-28T08:51:30.739Z"
   },
   {
    "duration": 15,
    "start_time": "2023-05-28T08:51:31.390Z"
   },
   {
    "duration": 9,
    "start_time": "2023-05-28T08:51:31.945Z"
   },
   {
    "duration": 68,
    "start_time": "2023-05-28T08:51:32.419Z"
   },
   {
    "duration": 40,
    "start_time": "2023-05-28T08:51:32.850Z"
   },
   {
    "duration": 24,
    "start_time": "2023-05-28T08:51:33.289Z"
   },
   {
    "duration": 10,
    "start_time": "2023-05-28T08:51:33.790Z"
   },
   {
    "duration": 37,
    "start_time": "2023-05-28T08:51:34.320Z"
   },
   {
    "duration": 24,
    "start_time": "2023-05-28T08:51:34.844Z"
   },
   {
    "duration": 7,
    "start_time": "2023-05-28T08:51:35.354Z"
   },
   {
    "duration": 65,
    "start_time": "2023-05-28T08:51:35.838Z"
   },
   {
    "duration": 34,
    "start_time": "2023-05-28T08:51:36.914Z"
   },
   {
    "duration": 18,
    "start_time": "2023-05-28T08:51:38.339Z"
   },
   {
    "duration": 51,
    "start_time": "2023-05-28T08:52:29.209Z"
   },
   {
    "duration": 1112,
    "start_time": "2023-05-28T08:52:36.944Z"
   },
   {
    "duration": 86,
    "start_time": "2023-05-28T08:52:38.536Z"
   },
   {
    "duration": 25,
    "start_time": "2023-05-28T08:52:39.786Z"
   },
   {
    "duration": 14,
    "start_time": "2023-05-28T08:52:40.243Z"
   },
   {
    "duration": 165,
    "start_time": "2023-05-28T08:52:40.497Z"
   },
   {
    "duration": 19,
    "start_time": "2023-05-28T08:52:40.743Z"
   },
   {
    "duration": 11,
    "start_time": "2023-05-28T08:52:40.968Z"
   },
   {
    "duration": 93,
    "start_time": "2023-05-28T08:52:41.253Z"
   },
   {
    "duration": 86,
    "start_time": "2023-05-28T08:52:41.485Z"
   },
   {
    "duration": 24,
    "start_time": "2023-05-28T08:52:41.710Z"
   },
   {
    "duration": 10,
    "start_time": "2023-05-28T08:52:42.006Z"
   },
   {
    "duration": 81,
    "start_time": "2023-05-28T08:52:42.309Z"
   },
   {
    "duration": 15,
    "start_time": "2023-05-28T08:52:42.812Z"
   },
   {
    "duration": 7,
    "start_time": "2023-05-28T08:52:43.282Z"
   },
   {
    "duration": 63,
    "start_time": "2023-05-28T08:52:43.788Z"
   },
   {
    "duration": 34,
    "start_time": "2023-05-28T08:52:44.623Z"
   },
   {
    "duration": 21,
    "start_time": "2023-05-28T08:52:45.789Z"
   },
   {
    "duration": 1486,
    "start_time": "2023-05-28T08:57:05.025Z"
   },
   {
    "duration": 141,
    "start_time": "2023-05-28T08:57:50.782Z"
   },
   {
    "duration": 1505,
    "start_time": "2023-05-28T08:57:58.516Z"
   },
   {
    "duration": 87,
    "start_time": "2023-05-28T08:58:00.022Z"
   },
   {
    "duration": 17,
    "start_time": "2023-05-28T08:58:00.110Z"
   },
   {
    "duration": 40,
    "start_time": "2023-05-28T08:58:00.129Z"
   },
   {
    "duration": 179,
    "start_time": "2023-05-28T08:58:00.172Z"
   },
   {
    "duration": 14,
    "start_time": "2023-05-28T08:58:00.352Z"
   },
   {
    "duration": 37,
    "start_time": "2023-05-28T08:58:00.368Z"
   },
   {
    "duration": 122,
    "start_time": "2023-05-28T08:58:00.406Z"
   },
   {
    "duration": 87,
    "start_time": "2023-05-28T08:58:00.530Z"
   },
   {
    "duration": 23,
    "start_time": "2023-05-28T08:58:00.619Z"
   },
   {
    "duration": 18,
    "start_time": "2023-05-28T08:58:00.643Z"
   },
   {
    "duration": 79,
    "start_time": "2023-05-28T08:58:00.662Z"
   },
   {
    "duration": 15,
    "start_time": "2023-05-28T08:58:00.743Z"
   },
   {
    "duration": 19,
    "start_time": "2023-05-28T08:58:00.762Z"
   },
   {
    "duration": 94,
    "start_time": "2023-05-28T08:58:00.784Z"
   },
   {
    "duration": 54,
    "start_time": "2023-05-28T08:58:00.880Z"
   },
   {
    "duration": 19,
    "start_time": "2023-05-28T08:58:00.936Z"
   },
   {
    "duration": 21,
    "start_time": "2023-05-28T08:58:00.957Z"
   },
   {
    "duration": 21,
    "start_time": "2023-05-28T08:58:00.979Z"
   },
   {
    "duration": 60,
    "start_time": "2023-05-28T08:58:01.002Z"
   },
   {
    "duration": 27,
    "start_time": "2023-05-28T08:58:01.064Z"
   },
   {
    "duration": 57,
    "start_time": "2023-05-28T08:58:01.093Z"
   },
   {
    "duration": 28,
    "start_time": "2023-05-28T08:58:01.152Z"
   },
   {
    "duration": 69,
    "start_time": "2023-05-28T08:58:01.182Z"
   },
   {
    "duration": 7,
    "start_time": "2023-05-28T08:58:01.252Z"
   },
   {
    "duration": 36,
    "start_time": "2023-05-28T08:58:01.261Z"
   },
   {
    "duration": 34,
    "start_time": "2023-05-28T08:58:01.299Z"
   },
   {
    "duration": 28,
    "start_time": "2023-05-28T08:58:01.335Z"
   },
   {
    "duration": 116,
    "start_time": "2023-05-28T08:58:01.365Z"
   },
   {
    "duration": 3,
    "start_time": "2023-05-28T08:58:01.483Z"
   },
   {
    "duration": 81,
    "start_time": "2023-05-28T08:58:01.487Z"
   },
   {
    "duration": 6,
    "start_time": "2023-05-28T08:58:01.569Z"
   },
   {
    "duration": 25,
    "start_time": "2023-05-28T08:58:01.578Z"
   },
   {
    "duration": 30,
    "start_time": "2023-05-28T08:58:01.605Z"
   },
   {
    "duration": 17,
    "start_time": "2023-05-28T08:58:01.637Z"
   },
   {
    "duration": 228,
    "start_time": "2023-05-28T08:58:01.656Z"
   },
   {
    "duration": 156,
    "start_time": "2023-05-28T08:58:01.886Z"
   },
   {
    "duration": 3,
    "start_time": "2023-05-28T08:58:02.044Z"
   },
   {
    "duration": 1042,
    "start_time": "2023-05-28T08:58:02.049Z"
   },
   {
    "duration": 15,
    "start_time": "2023-05-28T08:58:03.093Z"
   },
   {
    "duration": 949,
    "start_time": "2023-05-28T08:58:03.119Z"
   },
   {
    "duration": 4,
    "start_time": "2023-05-28T08:58:04.070Z"
   },
   {
    "duration": 199,
    "start_time": "2023-05-28T08:58:04.076Z"
   },
   {
    "duration": 257,
    "start_time": "2023-05-28T08:58:04.277Z"
   },
   {
    "duration": 63,
    "start_time": "2023-05-28T08:58:04.536Z"
   },
   {
    "duration": 25,
    "start_time": "2023-05-28T08:58:04.600Z"
   },
   {
    "duration": 18,
    "start_time": "2023-05-28T08:58:04.626Z"
   },
   {
    "duration": 100,
    "start_time": "2023-05-28T08:58:04.646Z"
   },
   {
    "duration": 15,
    "start_time": "2023-05-28T08:58:04.748Z"
   },
   {
    "duration": 23,
    "start_time": "2023-05-28T08:58:04.765Z"
   },
   {
    "duration": 9,
    "start_time": "2023-05-28T08:58:04.790Z"
   },
   {
    "duration": 27,
    "start_time": "2023-05-28T08:58:04.801Z"
   },
   {
    "duration": 11,
    "start_time": "2023-05-28T08:58:04.829Z"
   },
   {
    "duration": 10,
    "start_time": "2023-05-28T08:58:04.841Z"
   },
   {
    "duration": 8,
    "start_time": "2023-05-28T08:58:04.852Z"
   },
   {
    "duration": 8,
    "start_time": "2023-05-28T08:58:04.862Z"
   },
   {
    "duration": 195,
    "start_time": "2023-05-28T08:58:04.872Z"
   },
   {
    "duration": 172,
    "start_time": "2023-05-28T08:58:05.068Z"
   },
   {
    "duration": 10,
    "start_time": "2023-05-28T08:58:05.241Z"
   },
   {
    "duration": 11,
    "start_time": "2023-05-28T08:58:05.253Z"
   },
   {
    "duration": 12,
    "start_time": "2023-05-28T08:58:05.266Z"
   },
   {
    "duration": 50,
    "start_time": "2023-05-28T08:58:05.280Z"
   },
   {
    "duration": 1537,
    "start_time": "2023-05-28T08:58:05.332Z"
   },
   {
    "duration": 9,
    "start_time": "2023-05-28T08:58:06.871Z"
   },
   {
    "duration": 4,
    "start_time": "2023-05-28T08:58:06.882Z"
   },
   {
    "duration": 25,
    "start_time": "2023-05-28T08:58:06.887Z"
   },
   {
    "duration": 21,
    "start_time": "2023-05-28T08:58:06.913Z"
   },
   {
    "duration": 36,
    "start_time": "2023-05-28T08:58:06.936Z"
   },
   {
    "duration": 3,
    "start_time": "2023-05-28T08:58:06.974Z"
   },
   {
    "duration": 18,
    "start_time": "2023-05-28T08:58:06.978Z"
   },
   {
    "duration": 4,
    "start_time": "2023-05-28T08:58:06.997Z"
   },
   {
    "duration": 43451,
    "start_time": "2023-05-28T08:58:07.002Z"
   },
   {
    "duration": 10,
    "start_time": "2023-05-28T08:58:50.454Z"
   },
   {
    "duration": 7109,
    "start_time": "2023-05-28T08:58:50.465Z"
   },
   {
    "duration": 167,
    "start_time": "2023-05-28T08:58:57.576Z"
   },
   {
    "duration": 310,
    "start_time": "2023-05-28T08:58:57.744Z"
   },
   {
    "duration": 27,
    "start_time": "2023-05-28T08:58:58.055Z"
   },
   {
    "duration": 17,
    "start_time": "2023-05-28T08:58:58.084Z"
   },
   {
    "duration": 11,
    "start_time": "2023-05-28T08:58:58.118Z"
   },
   {
    "duration": 3,
    "start_time": "2023-05-28T08:58:58.130Z"
   },
   {
    "duration": 13,
    "start_time": "2023-05-28T08:58:58.134Z"
   },
   {
    "duration": 14,
    "start_time": "2023-05-28T08:58:58.148Z"
   },
   {
    "duration": 3,
    "start_time": "2023-05-28T08:58:58.163Z"
   },
   {
    "duration": 17929,
    "start_time": "2023-05-28T08:58:58.168Z"
   },
   {
    "duration": 2,
    "start_time": "2023-05-28T08:59:16.101Z"
   },
   {
    "duration": 168,
    "start_time": "2023-05-28T08:59:16.106Z"
   },
   {
    "duration": 203,
    "start_time": "2023-05-28T08:59:16.275Z"
   },
   {
    "duration": 42,
    "start_time": "2023-05-28T08:59:16.479Z"
   },
   {
    "duration": 4,
    "start_time": "2023-05-28T08:59:16.522Z"
   },
   {
    "duration": 122,
    "start_time": "2023-05-28T09:10:05.198Z"
   },
   {
    "duration": 12,
    "start_time": "2023-05-28T09:10:19.011Z"
   },
   {
    "duration": 4,
    "start_time": "2023-05-28T09:10:28.886Z"
   },
   {
    "duration": 45,
    "start_time": "2023-05-28T09:10:30.241Z"
   },
   {
    "duration": 14,
    "start_time": "2023-05-28T09:10:30.814Z"
   },
   {
    "duration": 11,
    "start_time": "2023-05-28T09:10:31.444Z"
   },
   {
    "duration": 38,
    "start_time": "2023-05-28T09:10:32.004Z"
   },
   {
    "duration": 15,
    "start_time": "2023-05-28T09:10:32.437Z"
   },
   {
    "duration": 8,
    "start_time": "2023-05-28T09:10:32.810Z"
   },
   {
    "duration": 70,
    "start_time": "2023-05-28T09:10:33.305Z"
   },
   {
    "duration": 42,
    "start_time": "2023-05-28T09:10:33.742Z"
   },
   {
    "duration": 26,
    "start_time": "2023-05-28T09:10:34.086Z"
   },
   {
    "duration": 12,
    "start_time": "2023-05-28T09:10:34.547Z"
   },
   {
    "duration": 39,
    "start_time": "2023-05-28T09:10:35.038Z"
   },
   {
    "duration": 17,
    "start_time": "2023-05-28T09:10:35.506Z"
   },
   {
    "duration": 8,
    "start_time": "2023-05-28T09:10:36.044Z"
   },
   {
    "duration": 65,
    "start_time": "2023-05-28T09:10:36.541Z"
   },
   {
    "duration": 39,
    "start_time": "2023-05-28T09:10:37.608Z"
   },
   {
    "duration": 26,
    "start_time": "2023-05-28T09:10:39.306Z"
   },
   {
    "duration": 6,
    "start_time": "2023-05-28T09:10:40.750Z"
   },
   {
    "duration": 9,
    "start_time": "2023-05-28T09:10:51.157Z"
   },
   {
    "duration": 11,
    "start_time": "2023-05-28T09:11:15.654Z"
   },
   {
    "duration": 8,
    "start_time": "2023-05-28T09:11:23.634Z"
   },
   {
    "duration": 15,
    "start_time": "2023-05-28T09:11:25.849Z"
   },
   {
    "duration": 2,
    "start_time": "2023-05-28T09:11:26.848Z"
   },
   {
    "duration": 45,
    "start_time": "2023-05-28T09:11:27.372Z"
   },
   {
    "duration": 3,
    "start_time": "2023-05-28T09:11:28.710Z"
   },
   {
    "duration": 24,
    "start_time": "2023-05-28T09:11:29.686Z"
   },
   {
    "duration": 13,
    "start_time": "2023-05-28T09:11:30.933Z"
   },
   {
    "duration": 13,
    "start_time": "2023-05-28T09:12:16.846Z"
   },
   {
    "duration": 1353,
    "start_time": "2023-05-28T09:14:30.189Z"
   },
   {
    "duration": 1440,
    "start_time": "2023-05-28T09:15:20.967Z"
   },
   {
    "duration": 48,
    "start_time": "2023-05-28T09:15:22.410Z"
   },
   {
    "duration": 18,
    "start_time": "2023-05-28T09:15:22.459Z"
   },
   {
    "duration": 10,
    "start_time": "2023-05-28T09:15:22.479Z"
   },
   {
    "duration": 36,
    "start_time": "2023-05-28T09:15:22.491Z"
   },
   {
    "duration": 13,
    "start_time": "2023-05-28T09:15:22.529Z"
   },
   {
    "duration": 9,
    "start_time": "2023-05-28T09:15:22.543Z"
   },
   {
    "duration": 94,
    "start_time": "2023-05-28T09:15:22.554Z"
   },
   {
    "duration": 30,
    "start_time": "2023-05-28T09:15:22.650Z"
   },
   {
    "duration": 47,
    "start_time": "2023-05-28T09:15:22.682Z"
   },
   {
    "duration": 32,
    "start_time": "2023-05-28T09:15:22.730Z"
   },
   {
    "duration": 39,
    "start_time": "2023-05-28T09:15:22.763Z"
   },
   {
    "duration": 14,
    "start_time": "2023-05-28T09:15:22.804Z"
   },
   {
    "duration": 7,
    "start_time": "2023-05-28T09:15:22.821Z"
   },
   {
    "duration": 66,
    "start_time": "2023-05-28T09:15:22.829Z"
   },
   {
    "duration": 49,
    "start_time": "2023-05-28T09:15:22.896Z"
   },
   {
    "duration": 19,
    "start_time": "2023-05-28T09:15:22.947Z"
   },
   {
    "duration": 10,
    "start_time": "2023-05-28T09:15:22.968Z"
   },
   {
    "duration": 28,
    "start_time": "2023-05-28T09:15:22.980Z"
   },
   {
    "duration": 9,
    "start_time": "2023-05-28T09:15:23.009Z"
   },
   {
    "duration": 57,
    "start_time": "2023-05-28T09:15:23.019Z"
   },
   {
    "duration": 3,
    "start_time": "2023-05-28T09:15:23.078Z"
   },
   {
    "duration": 52,
    "start_time": "2023-05-28T09:15:23.082Z"
   },
   {
    "duration": 11,
    "start_time": "2023-05-28T09:15:23.136Z"
   },
   {
    "duration": 21,
    "start_time": "2023-05-28T09:15:23.149Z"
   },
   {
    "duration": 67,
    "start_time": "2023-05-28T09:15:23.172Z"
   },
   {
    "duration": 6,
    "start_time": "2023-05-28T09:15:23.241Z"
   },
   {
    "duration": 48,
    "start_time": "2023-05-28T09:15:23.249Z"
   },
   {
    "duration": 11,
    "start_time": "2023-05-28T09:15:23.298Z"
   },
   {
    "duration": 19,
    "start_time": "2023-05-28T09:15:23.310Z"
   },
   {
    "duration": 59,
    "start_time": "2023-05-28T09:15:23.330Z"
   },
   {
    "duration": 107,
    "start_time": "2023-05-28T09:15:23.391Z"
   },
   {
    "duration": 3,
    "start_time": "2023-05-28T09:15:23.500Z"
   },
   {
    "duration": 80,
    "start_time": "2023-05-28T09:15:23.505Z"
   },
   {
    "duration": 6,
    "start_time": "2023-05-28T09:15:23.588Z"
   },
   {
    "duration": 6,
    "start_time": "2023-05-28T09:15:23.595Z"
   },
   {
    "duration": 23,
    "start_time": "2023-05-28T09:15:23.602Z"
   },
   {
    "duration": 3,
    "start_time": "2023-05-28T09:15:23.627Z"
   },
   {
    "duration": 202,
    "start_time": "2023-05-28T09:15:23.632Z"
   },
   {
    "duration": 155,
    "start_time": "2023-05-28T09:15:23.836Z"
   },
   {
    "duration": 3,
    "start_time": "2023-05-28T09:15:23.996Z"
   },
   {
    "duration": 1145,
    "start_time": "2023-05-28T09:15:24.000Z"
   },
   {
    "duration": 15,
    "start_time": "2023-05-28T09:15:25.146Z"
   },
   {
    "duration": 947,
    "start_time": "2023-05-28T09:15:25.162Z"
   },
   {
    "duration": 6,
    "start_time": "2023-05-28T09:15:26.111Z"
   },
   {
    "duration": 188,
    "start_time": "2023-05-28T09:15:26.119Z"
   },
   {
    "duration": 197,
    "start_time": "2023-05-28T09:15:26.308Z"
   },
   {
    "duration": 157,
    "start_time": "2023-05-28T09:15:26.507Z"
   },
   {
    "duration": 16,
    "start_time": "2023-05-28T09:15:26.666Z"
   },
   {
    "duration": 15,
    "start_time": "2023-05-28T09:15:26.683Z"
   },
   {
    "duration": 83,
    "start_time": "2023-05-28T09:15:26.699Z"
   },
   {
    "duration": 9,
    "start_time": "2023-05-28T09:15:26.784Z"
   },
   {
    "duration": 31,
    "start_time": "2023-05-28T09:15:26.795Z"
   },
   {
    "duration": 10,
    "start_time": "2023-05-28T09:15:26.828Z"
   },
   {
    "duration": 16,
    "start_time": "2023-05-28T09:15:26.839Z"
   },
   {
    "duration": 27,
    "start_time": "2023-05-28T09:15:26.856Z"
   },
   {
    "duration": 14,
    "start_time": "2023-05-28T09:15:26.885Z"
   },
   {
    "duration": 19,
    "start_time": "2023-05-28T09:15:26.901Z"
   },
   {
    "duration": 11,
    "start_time": "2023-05-28T09:15:26.922Z"
   },
   {
    "duration": 173,
    "start_time": "2023-05-28T09:15:26.934Z"
   },
   {
    "duration": 171,
    "start_time": "2023-05-28T09:15:27.108Z"
   },
   {
    "duration": 10,
    "start_time": "2023-05-28T09:15:27.280Z"
   },
   {
    "duration": 16,
    "start_time": "2023-05-28T09:15:27.292Z"
   },
   {
    "duration": 9,
    "start_time": "2023-05-28T09:15:27.318Z"
   },
   {
    "duration": 5,
    "start_time": "2023-05-28T09:15:27.328Z"
   },
   {
    "duration": 18,
    "start_time": "2023-05-28T09:15:27.335Z"
   },
   {
    "duration": 10,
    "start_time": "2023-05-28T09:15:27.355Z"
   },
   {
    "duration": 24,
    "start_time": "2023-05-28T09:15:27.366Z"
   },
   {
    "duration": 10,
    "start_time": "2023-05-28T09:15:27.392Z"
   },
   {
    "duration": 31,
    "start_time": "2023-05-28T09:15:27.403Z"
   },
   {
    "duration": 4,
    "start_time": "2023-05-28T09:15:27.435Z"
   },
   {
    "duration": 23,
    "start_time": "2023-05-28T09:15:27.441Z"
   },
   {
    "duration": 16,
    "start_time": "2023-05-28T09:15:27.466Z"
   },
   {
    "duration": 217,
    "start_time": "2023-05-28T09:15:27.484Z"
   },
   {
    "duration": 0,
    "start_time": "2023-05-28T09:15:27.703Z"
   },
   {
    "duration": 0,
    "start_time": "2023-05-28T09:15:27.704Z"
   },
   {
    "duration": 0,
    "start_time": "2023-05-28T09:15:27.705Z"
   },
   {
    "duration": 0,
    "start_time": "2023-05-28T09:15:27.705Z"
   },
   {
    "duration": 0,
    "start_time": "2023-05-28T09:15:27.706Z"
   },
   {
    "duration": 0,
    "start_time": "2023-05-28T09:15:27.707Z"
   },
   {
    "duration": 0,
    "start_time": "2023-05-28T09:15:27.708Z"
   },
   {
    "duration": 0,
    "start_time": "2023-05-28T09:15:27.709Z"
   },
   {
    "duration": 0,
    "start_time": "2023-05-28T09:15:27.709Z"
   },
   {
    "duration": 0,
    "start_time": "2023-05-28T09:15:27.710Z"
   },
   {
    "duration": 0,
    "start_time": "2023-05-28T09:15:27.717Z"
   },
   {
    "duration": 0,
    "start_time": "2023-05-28T09:15:27.718Z"
   },
   {
    "duration": 0,
    "start_time": "2023-05-28T09:15:27.719Z"
   },
   {
    "duration": 0,
    "start_time": "2023-05-28T09:15:27.719Z"
   },
   {
    "duration": 0,
    "start_time": "2023-05-28T09:15:27.720Z"
   },
   {
    "duration": 0,
    "start_time": "2023-05-28T09:15:27.721Z"
   },
   {
    "duration": 0,
    "start_time": "2023-05-28T09:15:27.722Z"
   },
   {
    "duration": 9,
    "start_time": "2023-05-28T09:17:01.986Z"
   },
   {
    "duration": 8,
    "start_time": "2023-05-28T09:17:07.738Z"
   },
   {
    "duration": 8,
    "start_time": "2023-05-28T09:17:19.386Z"
   },
   {
    "duration": 11,
    "start_time": "2023-05-28T09:17:19.820Z"
   },
   {
    "duration": 7,
    "start_time": "2023-05-28T09:17:25.814Z"
   },
   {
    "duration": 7,
    "start_time": "2023-05-28T09:20:37.402Z"
   },
   {
    "duration": 4,
    "start_time": "2023-05-28T09:20:37.962Z"
   },
   {
    "duration": 5,
    "start_time": "2023-05-28T09:20:38.553Z"
   },
   {
    "duration": 4,
    "start_time": "2023-05-28T09:20:40.453Z"
   },
   {
    "duration": 16,
    "start_time": "2023-05-28T09:20:42.457Z"
   },
   {
    "duration": 3,
    "start_time": "2023-05-28T09:21:01.051Z"
   },
   {
    "duration": 17,
    "start_time": "2023-05-28T09:21:01.850Z"
   },
   {
    "duration": 2,
    "start_time": "2023-05-28T09:21:09.452Z"
   },
   {
    "duration": 36140,
    "start_time": "2023-05-28T09:21:12.279Z"
   },
   {
    "duration": 36719,
    "start_time": "2023-05-28T09:22:43.200Z"
   },
   {
    "duration": 4,
    "start_time": "2023-05-28T09:23:36.497Z"
   },
   {
    "duration": 27118,
    "start_time": "2023-05-28T09:23:37.221Z"
   },
   {
    "duration": 3,
    "start_time": "2023-05-28T09:24:07.433Z"
   },
   {
    "duration": 35399,
    "start_time": "2023-05-28T09:24:10.724Z"
   },
   {
    "duration": 3859,
    "start_time": "2023-05-28T09:25:36.145Z"
   },
   {
    "duration": 0,
    "start_time": "2023-05-28T09:25:40.006Z"
   },
   {
    "duration": 73004,
    "start_time": "2023-05-28T09:25:51.422Z"
   },
   {
    "duration": 3,
    "start_time": "2023-05-28T09:28:03.522Z"
   },
   {
    "duration": 10,
    "start_time": "2023-05-28T09:28:06.122Z"
   },
   {
    "duration": 3,
    "start_time": "2023-05-28T09:28:18.006Z"
   },
   {
    "duration": 23807,
    "start_time": "2023-05-28T09:28:18.530Z"
   },
   {
    "duration": 3,
    "start_time": "2023-05-28T09:28:46.112Z"
   },
   {
    "duration": 12826,
    "start_time": "2023-05-28T09:28:47.437Z"
   },
   {
    "duration": 3,
    "start_time": "2023-05-28T09:29:04.324Z"
   },
   {
    "duration": 37098,
    "start_time": "2023-05-28T09:29:04.642Z"
   },
   {
    "duration": 11,
    "start_time": "2023-05-28T09:29:51.081Z"
   },
   {
    "duration": 8190,
    "start_time": "2023-05-28T09:30:01.610Z"
   },
   {
    "duration": 7813,
    "start_time": "2023-05-28T09:30:49.722Z"
   },
   {
    "duration": 8,
    "start_time": "2023-05-28T09:31:48.035Z"
   },
   {
    "duration": 4,
    "start_time": "2023-05-28T09:32:44.814Z"
   },
   {
    "duration": 8,
    "start_time": "2023-05-28T09:32:59.570Z"
   },
   {
    "duration": 1332,
    "start_time": "2023-05-28T09:36:57.341Z"
   },
   {
    "duration": 4,
    "start_time": "2023-05-28T09:38:30.779Z"
   },
   {
    "duration": 39331,
    "start_time": "2023-05-28T09:38:31.356Z"
   },
   {
    "duration": 12,
    "start_time": "2023-05-28T09:39:33.285Z"
   },
   {
    "duration": 1294,
    "start_time": "2023-05-28T09:39:33.817Z"
   },
   {
    "duration": 7754,
    "start_time": "2023-05-28T09:39:51.069Z"
   },
   {
    "duration": 198,
    "start_time": "2023-05-28T09:40:17.352Z"
   },
   {
    "duration": 152,
    "start_time": "2023-05-28T09:40:49.851Z"
   },
   {
    "duration": 222,
    "start_time": "2023-05-28T09:41:07.557Z"
   },
   {
    "duration": 469,
    "start_time": "2023-05-28T09:55:45.272Z"
   },
   {
    "duration": 182,
    "start_time": "2023-05-28T09:56:10.461Z"
   },
   {
    "duration": 626,
    "start_time": "2023-05-28T09:56:24.911Z"
   },
   {
    "duration": 24,
    "start_time": "2023-05-28T11:32:58.750Z"
   },
   {
    "duration": 92,
    "start_time": "2023-05-28T11:54:02.020Z"
   },
   {
    "duration": 4,
    "start_time": "2023-05-28T11:55:49.383Z"
   },
   {
    "duration": 74,
    "start_time": "2023-05-28T11:55:54.642Z"
   },
   {
    "duration": 87,
    "start_time": "2023-05-28T11:55:59.883Z"
   },
   {
    "duration": 15,
    "start_time": "2023-05-28T11:56:05.992Z"
   },
   {
    "duration": 20,
    "start_time": "2023-05-28T11:56:10.413Z"
   },
   {
    "duration": 20,
    "start_time": "2023-05-28T11:56:23.618Z"
   },
   {
    "duration": 21,
    "start_time": "2023-05-28T11:56:42.851Z"
   },
   {
    "duration": 4,
    "start_time": "2023-05-28T11:56:53.596Z"
   },
   {
    "duration": 44,
    "start_time": "2023-05-28T11:56:54.623Z"
   },
   {
    "duration": 14,
    "start_time": "2023-05-28T11:56:55.095Z"
   },
   {
    "duration": 10,
    "start_time": "2023-05-28T11:56:55.543Z"
   },
   {
    "duration": 39,
    "start_time": "2023-05-28T11:56:55.912Z"
   },
   {
    "duration": 14,
    "start_time": "2023-05-28T11:56:56.200Z"
   },
   {
    "duration": 9,
    "start_time": "2023-05-28T11:56:56.683Z"
   },
   {
    "duration": 65,
    "start_time": "2023-05-28T11:56:56.992Z"
   },
   {
    "duration": 40,
    "start_time": "2023-05-28T11:56:57.315Z"
   },
   {
    "duration": 24,
    "start_time": "2023-05-28T11:56:57.624Z"
   },
   {
    "duration": 10,
    "start_time": "2023-05-28T11:56:58.087Z"
   },
   {
    "duration": 34,
    "start_time": "2023-05-28T11:56:58.616Z"
   },
   {
    "duration": 16,
    "start_time": "2023-05-28T11:56:58.934Z"
   },
   {
    "duration": 7,
    "start_time": "2023-05-28T11:56:59.225Z"
   },
   {
    "duration": 145,
    "start_time": "2023-05-28T11:56:59.546Z"
   },
   {
    "duration": 37,
    "start_time": "2023-05-28T11:57:00.141Z"
   },
   {
    "duration": 20,
    "start_time": "2023-05-28T11:57:01.087Z"
   },
   {
    "duration": 9,
    "start_time": "2023-05-28T11:57:01.395Z"
   },
   {
    "duration": 15,
    "start_time": "2023-05-28T11:57:03.417Z"
   },
   {
    "duration": 3,
    "start_time": "2023-05-28T11:57:04.151Z"
   },
   {
    "duration": 54,
    "start_time": "2023-05-28T11:57:04.584Z"
   },
   {
    "duration": 3,
    "start_time": "2023-05-28T11:57:05.353Z"
   },
   {
    "duration": 26,
    "start_time": "2023-05-28T11:57:06.188Z"
   },
   {
    "duration": 11,
    "start_time": "2023-05-28T11:57:06.522Z"
   },
   {
    "duration": 4,
    "start_time": "2023-05-28T11:57:07.315Z"
   },
   {
    "duration": 20,
    "start_time": "2023-05-28T11:57:08.214Z"
   },
   {
    "duration": 7,
    "start_time": "2023-05-28T11:57:09.571Z"
   },
   {
    "duration": 23,
    "start_time": "2023-05-28T11:57:10.043Z"
   },
   {
    "duration": 6,
    "start_time": "2023-05-28T11:57:11.199Z"
   },
   {
    "duration": 4,
    "start_time": "2023-05-28T11:57:11.683Z"
   },
   {
    "duration": 10,
    "start_time": "2023-05-28T11:57:12.095Z"
   },
   {
    "duration": 13,
    "start_time": "2023-05-28T11:57:12.914Z"
   },
   {
    "duration": 3,
    "start_time": "2023-05-28T11:57:13.556Z"
   },
   {
    "duration": 74,
    "start_time": "2023-05-28T11:57:14.025Z"
   },
   {
    "duration": 9,
    "start_time": "2023-05-28T11:57:14.509Z"
   },
   {
    "duration": 5,
    "start_time": "2023-05-28T11:57:15.044Z"
   },
   {
    "duration": 13,
    "start_time": "2023-05-28T11:57:15.492Z"
   },
   {
    "duration": 3,
    "start_time": "2023-05-28T11:57:16.383Z"
   },
   {
    "duration": 188,
    "start_time": "2023-05-28T11:57:16.918Z"
   },
   {
    "duration": 155,
    "start_time": "2023-05-28T11:57:17.415Z"
   },
   {
    "duration": 2,
    "start_time": "2023-05-28T11:57:17.824Z"
   },
   {
    "duration": 1035,
    "start_time": "2023-05-28T11:57:18.318Z"
   },
   {
    "duration": 14,
    "start_time": "2023-05-28T11:57:19.354Z"
   },
   {
    "duration": 960,
    "start_time": "2023-05-28T11:57:19.742Z"
   },
   {
    "duration": 4,
    "start_time": "2023-05-28T11:57:20.706Z"
   },
   {
    "duration": 179,
    "start_time": "2023-05-28T11:57:21.391Z"
   },
   {
    "duration": 249,
    "start_time": "2023-05-28T11:57:22.218Z"
   },
   {
    "duration": 62,
    "start_time": "2023-05-28T11:57:24.154Z"
   },
   {
    "duration": 15,
    "start_time": "2023-05-28T11:57:24.883Z"
   },
   {
    "duration": 13,
    "start_time": "2023-05-28T11:57:26.195Z"
   },
   {
    "duration": 63,
    "start_time": "2023-05-28T11:57:29.922Z"
   },
   {
    "duration": 10,
    "start_time": "2023-05-28T11:57:30.157Z"
   },
   {
    "duration": 10,
    "start_time": "2023-05-28T11:57:30.799Z"
   },
   {
    "duration": 10,
    "start_time": "2023-05-28T11:57:31.394Z"
   },
   {
    "duration": 11,
    "start_time": "2023-05-28T11:57:31.913Z"
   },
   {
    "duration": 11,
    "start_time": "2023-05-28T11:57:32.275Z"
   },
   {
    "duration": 9,
    "start_time": "2023-05-28T11:57:32.794Z"
   },
   {
    "duration": 9,
    "start_time": "2023-05-28T11:57:33.339Z"
   },
   {
    "duration": 9,
    "start_time": "2023-05-28T11:57:33.918Z"
   },
   {
    "duration": 185,
    "start_time": "2023-05-28T11:57:34.494Z"
   },
   {
    "duration": 178,
    "start_time": "2023-05-28T11:57:34.936Z"
   },
   {
    "duration": 9,
    "start_time": "2023-05-28T11:57:35.384Z"
   },
   {
    "duration": 11,
    "start_time": "2023-05-28T11:57:35.644Z"
   },
   {
    "duration": 9,
    "start_time": "2023-05-28T11:57:36.615Z"
   },
   {
    "duration": 8,
    "start_time": "2023-05-28T11:57:38.835Z"
   },
   {
    "duration": 7,
    "start_time": "2023-05-28T11:57:39.384Z"
   },
   {
    "duration": 7,
    "start_time": "2023-05-28T11:57:41.695Z"
   },
   {
    "duration": 4,
    "start_time": "2023-05-28T11:57:41.890Z"
   },
   {
    "duration": 5,
    "start_time": "2023-05-28T11:57:42.812Z"
   },
   {
    "duration": 5,
    "start_time": "2023-05-28T11:57:42.954Z"
   },
   {
    "duration": 16,
    "start_time": "2023-05-28T11:57:43.394Z"
   },
   {
    "duration": 3,
    "start_time": "2023-05-28T11:57:45.010Z"
   },
   {
    "duration": 15,
    "start_time": "2023-05-28T11:57:45.494Z"
   },
   {
    "duration": 4,
    "start_time": "2023-05-28T11:57:45.994Z"
   },
   {
    "duration": 37422,
    "start_time": "2023-05-28T11:57:48.156Z"
   },
   {
    "duration": 26,
    "start_time": "2023-05-28T16:19:39.440Z"
   },
   {
    "duration": 16,
    "start_time": "2023-05-28T16:19:52.181Z"
   },
   {
    "duration": 26,
    "start_time": "2023-05-28T16:19:54.849Z"
   },
   {
    "duration": 20,
    "start_time": "2023-05-28T16:20:02.276Z"
   },
   {
    "duration": 17,
    "start_time": "2023-05-28T16:21:09.644Z"
   },
   {
    "duration": 1185,
    "start_time": "2023-05-28T16:21:15.693Z"
   },
   {
    "duration": 1356,
    "start_time": "2023-05-28T18:43:45.077Z"
   },
   {
    "duration": 7,
    "start_time": "2023-05-28T18:44:04.479Z"
   },
   {
    "duration": 3,
    "start_time": "2023-05-28T18:44:05.008Z"
   },
   {
    "duration": 5,
    "start_time": "2023-05-28T18:44:05.498Z"
   },
   {
    "duration": 4,
    "start_time": "2023-05-28T18:44:06.003Z"
   },
   {
    "duration": 16,
    "start_time": "2023-05-28T18:44:06.540Z"
   },
   {
    "duration": 4,
    "start_time": "2023-05-28T18:44:07.608Z"
   },
   {
    "duration": 14,
    "start_time": "2023-05-28T18:44:08.206Z"
   },
   {
    "duration": 2,
    "start_time": "2023-05-28T18:44:08.725Z"
   },
   {
    "duration": 37715,
    "start_time": "2023-05-28T18:44:09.676Z"
   },
   {
    "duration": 10,
    "start_time": "2023-05-28T18:45:51.860Z"
   },
   {
    "duration": 7850,
    "start_time": "2023-05-28T18:45:52.908Z"
   },
   {
    "duration": 39,
    "start_time": "2023-05-28T18:46:56.745Z"
   },
   {
    "duration": 171,
    "start_time": "2023-05-28T18:48:18.503Z"
   },
   {
    "duration": 4,
    "start_time": "2023-05-28T18:49:11.680Z"
   },
   {
    "duration": 10,
    "start_time": "2023-05-28T18:50:05.983Z"
   },
   {
    "duration": 4,
    "start_time": "2023-05-28T18:50:13.139Z"
   },
   {
    "duration": 10,
    "start_time": "2023-05-28T18:50:54.047Z"
   },
   {
    "duration": 12,
    "start_time": "2023-05-28T18:50:58.594Z"
   },
   {
    "duration": 11,
    "start_time": "2023-05-28T18:51:10.443Z"
   },
   {
    "duration": 3,
    "start_time": "2023-05-28T18:51:23.100Z"
   },
   {
    "duration": 6823,
    "start_time": "2023-05-28T18:51:23.587Z"
   },
   {
    "duration": 7146,
    "start_time": "2023-05-28T18:52:01.360Z"
   },
   {
    "duration": 4,
    "start_time": "2023-05-28T18:52:18.451Z"
   },
   {
    "duration": 5,
    "start_time": "2023-05-28T18:53:38.294Z"
   },
   {
    "duration": 6679,
    "start_time": "2023-05-28T18:54:11.846Z"
   },
   {
    "duration": 21644,
    "start_time": "2023-05-28T18:54:29.738Z"
   },
   {
    "duration": 4,
    "start_time": "2023-05-28T18:54:58.907Z"
   },
   {
    "duration": 4,
    "start_time": "2023-05-28T18:55:00.282Z"
   },
   {
    "duration": 8296,
    "start_time": "2023-05-28T18:58:23.346Z"
   },
   {
    "duration": 179,
    "start_time": "2023-05-28T18:58:32.103Z"
   },
   {
    "duration": 224,
    "start_time": "2023-05-28T18:58:36.241Z"
   },
   {
    "duration": 1520,
    "start_time": "2023-05-28T19:02:09.540Z"
   },
   {
    "duration": 51,
    "start_time": "2023-05-28T19:02:11.062Z"
   },
   {
    "duration": 20,
    "start_time": "2023-05-28T19:02:11.114Z"
   },
   {
    "duration": 12,
    "start_time": "2023-05-28T19:02:11.135Z"
   },
   {
    "duration": 36,
    "start_time": "2023-05-28T19:02:11.149Z"
   },
   {
    "duration": 21,
    "start_time": "2023-05-28T19:02:11.187Z"
   },
   {
    "duration": 12,
    "start_time": "2023-05-28T19:02:11.218Z"
   },
   {
    "duration": 108,
    "start_time": "2023-05-28T19:02:11.232Z"
   },
   {
    "duration": 30,
    "start_time": "2023-05-28T19:02:11.342Z"
   },
   {
    "duration": 27,
    "start_time": "2023-05-28T19:02:11.374Z"
   },
   {
    "duration": 19,
    "start_time": "2023-05-28T19:02:11.402Z"
   },
   {
    "duration": 27,
    "start_time": "2023-05-28T19:02:11.423Z"
   },
   {
    "duration": 17,
    "start_time": "2023-05-28T19:02:11.452Z"
   },
   {
    "duration": 7,
    "start_time": "2023-05-28T19:02:11.472Z"
   },
   {
    "duration": 87,
    "start_time": "2023-05-28T19:02:11.481Z"
   },
   {
    "duration": 48,
    "start_time": "2023-05-28T19:02:11.569Z"
   },
   {
    "duration": 21,
    "start_time": "2023-05-28T19:02:11.619Z"
   },
   {
    "duration": 9,
    "start_time": "2023-05-28T19:02:11.641Z"
   },
   {
    "duration": 20,
    "start_time": "2023-05-28T19:02:11.652Z"
   },
   {
    "duration": 3,
    "start_time": "2023-05-28T19:02:11.673Z"
   },
   {
    "duration": 72,
    "start_time": "2023-05-28T19:02:11.678Z"
   },
   {
    "duration": 3,
    "start_time": "2023-05-28T19:02:11.752Z"
   },
   {
    "duration": 36,
    "start_time": "2023-05-28T19:02:11.757Z"
   },
   {
    "duration": 29,
    "start_time": "2023-05-28T19:02:11.794Z"
   },
   {
    "duration": 4,
    "start_time": "2023-05-28T19:02:11.826Z"
   },
   {
    "duration": 62,
    "start_time": "2023-05-28T19:02:11.832Z"
   },
   {
    "duration": 26,
    "start_time": "2023-05-28T19:02:11.896Z"
   },
   {
    "duration": 26,
    "start_time": "2023-05-28T19:02:11.923Z"
   },
   {
    "duration": 8,
    "start_time": "2023-05-28T19:02:11.951Z"
   },
   {
    "duration": 6,
    "start_time": "2023-05-28T19:02:11.961Z"
   },
   {
    "duration": 14,
    "start_time": "2023-05-28T19:02:11.969Z"
   },
   {
    "duration": 111,
    "start_time": "2023-05-28T19:02:11.985Z"
   },
   {
    "duration": 4,
    "start_time": "2023-05-28T19:02:12.097Z"
   },
   {
    "duration": 77,
    "start_time": "2023-05-28T19:02:12.120Z"
   },
   {
    "duration": 18,
    "start_time": "2023-05-28T19:02:12.199Z"
   },
   {
    "duration": 5,
    "start_time": "2023-05-28T19:02:12.220Z"
   },
   {
    "duration": 20,
    "start_time": "2023-05-28T19:02:12.227Z"
   },
   {
    "duration": 4,
    "start_time": "2023-05-28T19:02:12.249Z"
   },
   {
    "duration": 214,
    "start_time": "2023-05-28T19:02:12.254Z"
   },
   {
    "duration": 163,
    "start_time": "2023-05-28T19:02:12.470Z"
   },
   {
    "duration": 3,
    "start_time": "2023-05-28T19:02:12.638Z"
   },
   {
    "duration": 1036,
    "start_time": "2023-05-28T19:02:12.643Z"
   },
   {
    "duration": 17,
    "start_time": "2023-05-28T19:02:13.681Z"
   },
   {
    "duration": 1064,
    "start_time": "2023-05-28T19:02:13.700Z"
   },
   {
    "duration": 5,
    "start_time": "2023-05-28T19:02:14.766Z"
   },
   {
    "duration": 220,
    "start_time": "2023-05-28T19:02:14.773Z"
   },
   {
    "duration": 285,
    "start_time": "2023-05-28T19:02:14.995Z"
   },
   {
    "duration": 71,
    "start_time": "2023-05-28T19:02:15.281Z"
   },
   {
    "duration": 21,
    "start_time": "2023-05-28T19:02:15.354Z"
   },
   {
    "duration": 17,
    "start_time": "2023-05-28T19:02:15.377Z"
   },
   {
    "duration": 67,
    "start_time": "2023-05-28T19:02:15.417Z"
   },
   {
    "duration": 32,
    "start_time": "2023-05-28T19:02:15.485Z"
   },
   {
    "duration": 11,
    "start_time": "2023-05-28T19:02:15.520Z"
   },
   {
    "duration": 11,
    "start_time": "2023-05-28T19:02:15.533Z"
   },
   {
    "duration": 9,
    "start_time": "2023-05-28T19:02:15.546Z"
   },
   {
    "duration": 11,
    "start_time": "2023-05-28T19:02:15.557Z"
   },
   {
    "duration": 10,
    "start_time": "2023-05-28T19:02:15.570Z"
   },
   {
    "duration": 44,
    "start_time": "2023-05-28T19:02:15.581Z"
   },
   {
    "duration": 9,
    "start_time": "2023-05-28T19:02:15.627Z"
   },
   {
    "duration": 188,
    "start_time": "2023-05-28T19:02:15.638Z"
   },
   {
    "duration": 178,
    "start_time": "2023-05-28T19:02:15.829Z"
   },
   {
    "duration": 15,
    "start_time": "2023-05-28T19:02:16.009Z"
   },
   {
    "duration": 21,
    "start_time": "2023-05-28T19:02:16.026Z"
   },
   {
    "duration": 16,
    "start_time": "2023-05-28T19:02:16.048Z"
   },
   {
    "duration": 16,
    "start_time": "2023-05-28T19:02:16.066Z"
   },
   {
    "duration": 18,
    "start_time": "2023-05-28T19:02:16.084Z"
   },
   {
    "duration": 26,
    "start_time": "2023-05-28T19:02:16.104Z"
   },
   {
    "duration": 26,
    "start_time": "2023-05-28T19:02:16.133Z"
   },
   {
    "duration": 18,
    "start_time": "2023-05-28T19:02:16.161Z"
   },
   {
    "duration": 17,
    "start_time": "2023-05-28T19:02:16.181Z"
   },
   {
    "duration": 31,
    "start_time": "2023-05-28T19:02:16.200Z"
   },
   {
    "duration": 25,
    "start_time": "2023-05-28T19:02:16.233Z"
   },
   {
    "duration": 39,
    "start_time": "2023-05-28T19:02:16.260Z"
   },
   {
    "duration": 18,
    "start_time": "2023-05-28T19:02:16.301Z"
   },
   {
    "duration": 40759,
    "start_time": "2023-05-28T19:02:16.321Z"
   },
   {
    "duration": 9,
    "start_time": "2023-05-28T19:02:57.082Z"
   },
   {
    "duration": 8287,
    "start_time": "2023-05-28T19:02:57.093Z"
   },
   {
    "duration": 37,
    "start_time": "2023-05-28T19:03:05.383Z"
   },
   {
    "duration": 181,
    "start_time": "2023-05-28T19:03:05.422Z"
   },
   {
    "duration": 3,
    "start_time": "2023-05-28T19:03:05.605Z"
   },
   {
    "duration": 9,
    "start_time": "2023-05-28T19:03:05.617Z"
   },
   {
    "duration": 22,
    "start_time": "2023-05-28T19:03:05.628Z"
   },
   {
    "duration": 17,
    "start_time": "2023-05-28T19:03:05.652Z"
   },
   {
    "duration": 9,
    "start_time": "2023-05-28T19:03:05.670Z"
   },
   {
    "duration": 7281,
    "start_time": "2023-05-28T19:03:05.680Z"
   },
   {
    "duration": 4,
    "start_time": "2023-05-28T19:03:12.962Z"
   },
   {
    "duration": 5,
    "start_time": "2023-05-28T19:03:12.969Z"
   },
   {
    "duration": 21783,
    "start_time": "2023-05-28T19:03:12.976Z"
   },
   {
    "duration": 4,
    "start_time": "2023-05-28T19:03:34.761Z"
   },
   {
    "duration": 14,
    "start_time": "2023-05-28T19:03:34.768Z"
   },
   {
    "duration": 8330,
    "start_time": "2023-05-28T19:03:34.785Z"
   },
   {
    "duration": 173,
    "start_time": "2023-05-28T19:03:43.117Z"
   },
   {
    "duration": 240,
    "start_time": "2023-05-28T19:03:43.291Z"
   },
   {
    "duration": 14,
    "start_time": "2023-05-28T19:03:47.964Z"
   },
   {
    "duration": 52,
    "start_time": "2023-05-29T17:19:18.463Z"
   },
   {
    "duration": 1379,
    "start_time": "2023-05-29T17:19:26.106Z"
   },
   {
    "duration": 0,
    "start_time": "2023-05-29T17:19:27.487Z"
   },
   {
    "duration": 0,
    "start_time": "2023-05-29T17:19:27.488Z"
   },
   {
    "duration": 2886,
    "start_time": "2023-05-29T17:19:39.874Z"
   },
   {
    "duration": 389,
    "start_time": "2023-05-29T17:19:44.200Z"
   },
   {
    "duration": 153,
    "start_time": "2023-05-29T17:19:46.196Z"
   },
   {
    "duration": 23,
    "start_time": "2023-05-29T17:19:47.098Z"
   },
   {
    "duration": 11,
    "start_time": "2023-05-29T17:19:47.768Z"
   },
   {
    "duration": 73,
    "start_time": "2023-05-29T17:19:48.249Z"
   },
   {
    "duration": 16,
    "start_time": "2023-05-29T17:19:48.766Z"
   },
   {
    "duration": 9,
    "start_time": "2023-05-29T17:19:49.287Z"
   },
   {
    "duration": 94,
    "start_time": "2023-05-29T17:19:49.706Z"
   },
   {
    "duration": 186,
    "start_time": "2023-05-29T17:19:50.016Z"
   },
   {
    "duration": 27,
    "start_time": "2023-05-29T17:19:50.487Z"
   },
   {
    "duration": 11,
    "start_time": "2023-05-29T17:19:50.972Z"
   },
   {
    "duration": 110,
    "start_time": "2023-05-29T17:19:51.412Z"
   },
   {
    "duration": 16,
    "start_time": "2023-05-29T17:19:51.863Z"
   },
   {
    "duration": 8,
    "start_time": "2023-05-29T17:19:52.347Z"
   },
   {
    "duration": 71,
    "start_time": "2023-05-29T17:19:52.692Z"
   },
   {
    "duration": 39,
    "start_time": "2023-05-29T17:19:53.456Z"
   },
   {
    "duration": 23,
    "start_time": "2023-05-29T17:19:55.614Z"
   },
   {
    "duration": 9,
    "start_time": "2023-05-29T17:19:56.114Z"
   },
   {
    "duration": 16,
    "start_time": "2023-05-29T17:19:58.495Z"
   },
   {
    "duration": 3,
    "start_time": "2023-05-29T17:19:59.492Z"
   },
   {
    "duration": 43,
    "start_time": "2023-05-29T17:20:00.104Z"
   },
   {
    "duration": 3,
    "start_time": "2023-05-29T17:20:01.109Z"
   },
   {
    "duration": 32,
    "start_time": "2023-05-29T17:20:02.252Z"
   },
   {
    "duration": 11,
    "start_time": "2023-05-29T17:20:02.744Z"
   },
   {
    "duration": 4,
    "start_time": "2023-05-29T17:20:06.412Z"
   },
   {
    "duration": 142,
    "start_time": "2023-05-29T17:20:07.249Z"
   },
   {
    "duration": 7,
    "start_time": "2023-05-29T17:20:08.613Z"
   },
   {
    "duration": 28,
    "start_time": "2023-05-29T17:20:09.089Z"
   },
   {
    "duration": 7,
    "start_time": "2023-05-29T17:20:10.451Z"
   },
   {
    "duration": 5,
    "start_time": "2023-05-29T17:20:10.859Z"
   },
   {
    "duration": 11,
    "start_time": "2023-05-29T17:20:11.167Z"
   },
   {
    "duration": 20,
    "start_time": "2023-05-29T17:20:12.494Z"
   },
   {
    "duration": 4,
    "start_time": "2023-05-29T17:20:12.920Z"
   },
   {
    "duration": 72,
    "start_time": "2023-05-29T17:20:13.398Z"
   },
   {
    "duration": 7,
    "start_time": "2023-05-29T17:20:13.854Z"
   },
   {
    "duration": 5,
    "start_time": "2023-05-29T17:20:14.162Z"
   },
   {
    "duration": 13,
    "start_time": "2023-05-29T17:20:14.552Z"
   },
   {
    "duration": 4,
    "start_time": "2023-05-29T17:20:15.646Z"
   },
   {
    "duration": 190,
    "start_time": "2023-05-29T17:20:16.449Z"
   },
   {
    "duration": 189,
    "start_time": "2023-05-29T17:20:16.947Z"
   },
   {
    "duration": 2,
    "start_time": "2023-05-29T17:20:17.749Z"
   },
   {
    "duration": 1158,
    "start_time": "2023-05-29T17:20:18.255Z"
   },
   {
    "duration": 14,
    "start_time": "2023-05-29T17:20:19.415Z"
   },
   {
    "duration": 1074,
    "start_time": "2023-05-29T17:20:19.795Z"
   },
   {
    "duration": 4,
    "start_time": "2023-05-29T17:20:20.871Z"
   },
   {
    "duration": 198,
    "start_time": "2023-05-29T17:20:21.174Z"
   },
   {
    "duration": 281,
    "start_time": "2023-05-29T17:20:21.899Z"
   },
   {
    "duration": 63,
    "start_time": "2023-05-29T17:20:23.400Z"
   },
   {
    "duration": 16,
    "start_time": "2023-05-29T17:20:23.949Z"
   },
   {
    "duration": 14,
    "start_time": "2023-05-29T17:20:25.900Z"
   },
   {
    "duration": 1161,
    "start_time": "2023-05-29T17:20:30.552Z"
   },
   {
    "duration": 527,
    "start_time": "2023-05-29T17:20:39.872Z"
   },
   {
    "duration": 620,
    "start_time": "2023-05-29T17:21:37.900Z"
   },
   {
    "duration": 588,
    "start_time": "2023-05-29T17:21:58.362Z"
   },
   {
    "duration": 657,
    "start_time": "2023-05-29T17:22:02.705Z"
   },
   {
    "duration": 622,
    "start_time": "2023-05-29T17:22:09.104Z"
   },
   {
    "duration": 315,
    "start_time": "2023-05-29T17:23:01.889Z"
   },
   {
    "duration": 660,
    "start_time": "2023-05-29T17:23:23.884Z"
   },
   {
    "duration": 2,
    "start_time": "2023-05-29T17:23:41.614Z"
   },
   {
    "duration": 5,
    "start_time": "2023-05-29T17:23:47.162Z"
   },
   {
    "duration": 575,
    "start_time": "2023-05-29T17:24:45.383Z"
   },
   {
    "duration": 624,
    "start_time": "2023-05-29T17:25:43.590Z"
   },
   {
    "duration": 678,
    "start_time": "2023-05-29T17:26:02.052Z"
   },
   {
    "duration": 615,
    "start_time": "2023-05-29T17:26:14.898Z"
   },
   {
    "duration": 644,
    "start_time": "2023-05-29T17:26:38.959Z"
   },
   {
    "duration": 774,
    "start_time": "2023-05-29T17:27:01.751Z"
   },
   {
    "duration": 693,
    "start_time": "2023-05-29T17:27:14.062Z"
   },
   {
    "duration": 613,
    "start_time": "2023-05-29T17:29:33.387Z"
   },
   {
    "duration": 2022,
    "start_time": "2023-05-29T17:31:20.359Z"
   },
   {
    "duration": 1427,
    "start_time": "2023-05-29T17:31:22.383Z"
   },
   {
    "duration": 49,
    "start_time": "2023-05-29T17:31:23.811Z"
   },
   {
    "duration": 18,
    "start_time": "2023-05-29T17:31:23.870Z"
   },
   {
    "duration": 11,
    "start_time": "2023-05-29T17:31:23.889Z"
   },
   {
    "duration": 28,
    "start_time": "2023-05-29T17:31:23.901Z"
   },
   {
    "duration": 33,
    "start_time": "2023-05-29T17:31:23.931Z"
   },
   {
    "duration": 9,
    "start_time": "2023-05-29T17:31:23.965Z"
   },
   {
    "duration": 105,
    "start_time": "2023-05-29T17:31:23.976Z"
   },
   {
    "duration": 31,
    "start_time": "2023-05-29T17:31:24.085Z"
   },
   {
    "duration": 48,
    "start_time": "2023-05-29T17:31:24.118Z"
   },
   {
    "duration": 15,
    "start_time": "2023-05-29T17:31:24.171Z"
   },
   {
    "duration": 42,
    "start_time": "2023-05-29T17:31:24.188Z"
   },
   {
    "duration": 27,
    "start_time": "2023-05-29T17:31:24.232Z"
   },
   {
    "duration": 15,
    "start_time": "2023-05-29T17:31:24.265Z"
   },
   {
    "duration": 117,
    "start_time": "2023-05-29T17:31:24.282Z"
   },
   {
    "duration": 51,
    "start_time": "2023-05-29T17:31:24.401Z"
   },
   {
    "duration": 44,
    "start_time": "2023-05-29T17:31:24.458Z"
   },
   {
    "duration": 13,
    "start_time": "2023-05-29T17:31:24.504Z"
   },
   {
    "duration": 20,
    "start_time": "2023-05-29T17:31:24.519Z"
   },
   {
    "duration": 17,
    "start_time": "2023-05-29T17:31:24.540Z"
   },
   {
    "duration": 48,
    "start_time": "2023-05-29T17:31:24.563Z"
   },
   {
    "duration": 3,
    "start_time": "2023-05-29T17:31:24.613Z"
   },
   {
    "duration": 62,
    "start_time": "2023-05-29T17:31:24.617Z"
   },
   {
    "duration": 9,
    "start_time": "2023-05-29T17:31:24.680Z"
   },
   {
    "duration": 4,
    "start_time": "2023-05-29T17:31:24.691Z"
   },
   {
    "duration": 71,
    "start_time": "2023-05-29T17:31:24.696Z"
   },
   {
    "duration": 97,
    "start_time": "2023-05-29T17:31:24.771Z"
   },
   {
    "duration": 40,
    "start_time": "2023-05-29T17:31:24.869Z"
   },
   {
    "duration": 90,
    "start_time": "2023-05-29T17:31:24.911Z"
   },
   {
    "duration": 11,
    "start_time": "2023-05-29T17:31:25.003Z"
   },
   {
    "duration": 30,
    "start_time": "2023-05-29T17:31:25.016Z"
   },
   {
    "duration": 28,
    "start_time": "2023-05-29T17:31:25.048Z"
   },
   {
    "duration": 4,
    "start_time": "2023-05-29T17:31:25.077Z"
   },
   {
    "duration": 100,
    "start_time": "2023-05-29T17:31:25.083Z"
   },
   {
    "duration": 6,
    "start_time": "2023-05-29T17:31:25.185Z"
   },
   {
    "duration": 7,
    "start_time": "2023-05-29T17:31:25.193Z"
   },
   {
    "duration": 13,
    "start_time": "2023-05-29T17:31:25.201Z"
   },
   {
    "duration": 3,
    "start_time": "2023-05-29T17:31:25.216Z"
   },
   {
    "duration": 216,
    "start_time": "2023-05-29T17:31:25.221Z"
   },
   {
    "duration": 203,
    "start_time": "2023-05-29T17:31:25.438Z"
   },
   {
    "duration": 13,
    "start_time": "2023-05-29T17:31:25.643Z"
   },
   {
    "duration": 1222,
    "start_time": "2023-05-29T17:31:25.664Z"
   },
   {
    "duration": 16,
    "start_time": "2023-05-29T17:31:26.888Z"
   },
   {
    "duration": 1122,
    "start_time": "2023-05-29T17:31:26.906Z"
   },
   {
    "duration": 4,
    "start_time": "2023-05-29T17:31:28.030Z"
   },
   {
    "duration": 220,
    "start_time": "2023-05-29T17:31:28.036Z"
   },
   {
    "duration": 304,
    "start_time": "2023-05-29T17:31:28.257Z"
   },
   {
    "duration": 70,
    "start_time": "2023-05-29T17:31:28.567Z"
   },
   {
    "duration": 27,
    "start_time": "2023-05-29T17:31:28.639Z"
   },
   {
    "duration": 13,
    "start_time": "2023-05-29T17:31:28.668Z"
   },
   {
    "duration": 1165,
    "start_time": "2023-05-29T17:31:28.683Z"
   },
   {
    "duration": 682,
    "start_time": "2023-05-29T17:31:29.850Z"
   },
   {
    "duration": 90,
    "start_time": "2023-05-29T17:31:30.535Z"
   },
   {
    "duration": 10,
    "start_time": "2023-05-29T17:31:30.626Z"
   },
   {
    "duration": 45,
    "start_time": "2023-05-29T17:31:30.638Z"
   },
   {
    "duration": 28,
    "start_time": "2023-05-29T17:31:30.684Z"
   },
   {
    "duration": 38,
    "start_time": "2023-05-29T17:31:30.713Z"
   },
   {
    "duration": 29,
    "start_time": "2023-05-29T17:31:30.759Z"
   },
   {
    "duration": 41,
    "start_time": "2023-05-29T17:31:30.790Z"
   },
   {
    "duration": 69,
    "start_time": "2023-05-29T17:31:30.833Z"
   },
   {
    "duration": 46,
    "start_time": "2023-05-29T17:31:30.904Z"
   },
   {
    "duration": 221,
    "start_time": "2023-05-29T17:31:30.952Z"
   },
   {
    "duration": 203,
    "start_time": "2023-05-29T17:31:31.174Z"
   },
   {
    "duration": 10,
    "start_time": "2023-05-29T17:31:31.379Z"
   },
   {
    "duration": 28,
    "start_time": "2023-05-29T17:31:31.391Z"
   },
   {
    "duration": 24,
    "start_time": "2023-05-29T17:31:31.420Z"
   },
   {
    "duration": 22,
    "start_time": "2023-05-29T17:31:31.446Z"
   },
   {
    "duration": 22,
    "start_time": "2023-05-29T17:31:31.470Z"
   },
   {
    "duration": 22,
    "start_time": "2023-05-29T17:31:31.494Z"
   },
   {
    "duration": 11,
    "start_time": "2023-05-29T17:31:31.518Z"
   },
   {
    "duration": 26,
    "start_time": "2023-05-29T17:31:31.531Z"
   },
   {
    "duration": 14,
    "start_time": "2023-05-29T17:31:31.559Z"
   },
   {
    "duration": 23,
    "start_time": "2023-05-29T17:31:31.575Z"
   },
   {
    "duration": 6,
    "start_time": "2023-05-29T17:31:31.600Z"
   },
   {
    "duration": 31,
    "start_time": "2023-05-29T17:31:31.608Z"
   },
   {
    "duration": 25,
    "start_time": "2023-05-29T17:31:31.641Z"
   },
   {
    "duration": 44273,
    "start_time": "2023-05-29T17:31:31.668Z"
   },
   {
    "duration": 22,
    "start_time": "2023-05-29T17:32:15.942Z"
   },
   {
    "duration": 9009,
    "start_time": "2023-05-29T17:32:15.966Z"
   },
   {
    "duration": 26,
    "start_time": "2023-05-29T17:32:24.977Z"
   },
   {
    "duration": 192,
    "start_time": "2023-05-29T17:32:25.008Z"
   },
   {
    "duration": 3,
    "start_time": "2023-05-29T17:32:25.202Z"
   },
   {
    "duration": 9,
    "start_time": "2023-05-29T17:32:25.207Z"
   },
   {
    "duration": 20,
    "start_time": "2023-05-29T17:32:25.218Z"
   },
   {
    "duration": 22,
    "start_time": "2023-05-29T17:32:25.239Z"
   },
   {
    "duration": 10,
    "start_time": "2023-05-29T17:32:25.264Z"
   },
   {
    "duration": 6864,
    "start_time": "2023-05-29T17:32:25.275Z"
   },
   {
    "duration": 23,
    "start_time": "2023-05-29T17:32:32.142Z"
   },
   {
    "duration": 9,
    "start_time": "2023-05-29T17:32:32.167Z"
   },
   {
    "duration": 21513,
    "start_time": "2023-05-29T17:32:32.177Z"
   },
   {
    "duration": 3,
    "start_time": "2023-05-29T17:32:53.692Z"
   },
   {
    "duration": 8,
    "start_time": "2023-05-29T17:32:53.696Z"
   },
   {
    "duration": 9003,
    "start_time": "2023-05-29T17:32:53.706Z"
   },
   {
    "duration": 168,
    "start_time": "2023-05-29T17:33:02.710Z"
   },
   {
    "duration": 17,
    "start_time": "2023-05-29T17:33:02.879Z"
   },
   {
    "duration": 283,
    "start_time": "2023-05-29T17:33:02.897Z"
   },
   {
    "duration": 2374,
    "start_time": "2023-05-29T19:20:14.608Z"
   },
   {
    "duration": 1574,
    "start_time": "2023-05-29T19:20:16.985Z"
   },
   {
    "duration": 59,
    "start_time": "2023-05-29T19:20:18.561Z"
   },
   {
    "duration": 19,
    "start_time": "2023-05-29T19:20:18.623Z"
   },
   {
    "duration": 14,
    "start_time": "2023-05-29T19:20:18.643Z"
   },
   {
    "duration": 38,
    "start_time": "2023-05-29T19:20:18.658Z"
   },
   {
    "duration": 15,
    "start_time": "2023-05-29T19:20:18.697Z"
   },
   {
    "duration": 9,
    "start_time": "2023-05-29T19:20:18.713Z"
   },
   {
    "duration": 100,
    "start_time": "2023-05-29T19:20:18.723Z"
   },
   {
    "duration": 40,
    "start_time": "2023-05-29T19:20:18.826Z"
   },
   {
    "duration": 29,
    "start_time": "2023-05-29T19:20:18.868Z"
   },
   {
    "duration": 10,
    "start_time": "2023-05-29T19:20:18.898Z"
   },
   {
    "duration": 27,
    "start_time": "2023-05-29T19:20:18.909Z"
   },
   {
    "duration": 26,
    "start_time": "2023-05-29T19:20:18.937Z"
   },
   {
    "duration": 9,
    "start_time": "2023-05-29T19:20:18.969Z"
   },
   {
    "duration": 86,
    "start_time": "2023-05-29T19:20:18.980Z"
   },
   {
    "duration": 38,
    "start_time": "2023-05-29T19:20:19.073Z"
   },
   {
    "duration": 22,
    "start_time": "2023-05-29T19:20:19.113Z"
   },
   {
    "duration": 37,
    "start_time": "2023-05-29T19:20:19.137Z"
   },
   {
    "duration": 18,
    "start_time": "2023-05-29T19:20:19.175Z"
   },
   {
    "duration": 3,
    "start_time": "2023-05-29T19:20:19.195Z"
   },
   {
    "duration": 57,
    "start_time": "2023-05-29T19:20:19.200Z"
   },
   {
    "duration": 4,
    "start_time": "2023-05-29T19:20:19.259Z"
   },
   {
    "duration": 45,
    "start_time": "2023-05-29T19:20:19.266Z"
   },
   {
    "duration": 8,
    "start_time": "2023-05-29T19:20:19.313Z"
   },
   {
    "duration": 3,
    "start_time": "2023-05-29T19:20:19.323Z"
   },
   {
    "duration": 78,
    "start_time": "2023-05-29T19:20:19.328Z"
   },
   {
    "duration": 93,
    "start_time": "2023-05-29T19:20:19.410Z"
   },
   {
    "duration": 48,
    "start_time": "2023-05-29T19:20:19.505Z"
   },
   {
    "duration": 24,
    "start_time": "2023-05-29T19:20:19.555Z"
   },
   {
    "duration": 6,
    "start_time": "2023-05-29T19:20:19.581Z"
   },
   {
    "duration": 12,
    "start_time": "2023-05-29T19:20:19.589Z"
   },
   {
    "duration": 16,
    "start_time": "2023-05-29T19:20:19.603Z"
   },
   {
    "duration": 4,
    "start_time": "2023-05-29T19:20:19.620Z"
   },
   {
    "duration": 100,
    "start_time": "2023-05-29T19:20:19.626Z"
   },
   {
    "duration": 7,
    "start_time": "2023-05-29T19:20:19.728Z"
   },
   {
    "duration": 15,
    "start_time": "2023-05-29T19:20:19.737Z"
   },
   {
    "duration": 18,
    "start_time": "2023-05-29T19:20:19.754Z"
   },
   {
    "duration": 10,
    "start_time": "2023-05-29T19:20:19.774Z"
   },
   {
    "duration": 221,
    "start_time": "2023-05-29T19:20:19.785Z"
   },
   {
    "duration": 194,
    "start_time": "2023-05-29T19:20:20.008Z"
   },
   {
    "duration": 3,
    "start_time": "2023-05-29T19:20:20.204Z"
   },
   {
    "duration": 1256,
    "start_time": "2023-05-29T19:20:20.208Z"
   },
   {
    "duration": 17,
    "start_time": "2023-05-29T19:20:21.468Z"
   },
   {
    "duration": 1202,
    "start_time": "2023-05-29T19:20:21.487Z"
   },
   {
    "duration": 4,
    "start_time": "2023-05-29T19:20:22.691Z"
   },
   {
    "duration": 240,
    "start_time": "2023-05-29T19:20:22.696Z"
   },
   {
    "duration": 323,
    "start_time": "2023-05-29T19:20:22.937Z"
   },
   {
    "duration": 65,
    "start_time": "2023-05-29T19:20:23.267Z"
   },
   {
    "duration": 32,
    "start_time": "2023-05-29T19:20:23.333Z"
   },
   {
    "duration": 17,
    "start_time": "2023-05-29T19:20:23.371Z"
   },
   {
    "duration": 1297,
    "start_time": "2023-05-29T19:20:23.390Z"
   },
   {
    "duration": 639,
    "start_time": "2023-05-29T19:20:24.689Z"
   },
   {
    "duration": 22,
    "start_time": "2023-05-29T19:20:25.329Z"
   },
   {
    "duration": 71,
    "start_time": "2023-05-29T19:20:25.359Z"
   },
   {
    "duration": 27,
    "start_time": "2023-05-29T19:20:25.431Z"
   },
   {
    "duration": 12,
    "start_time": "2023-05-29T19:20:25.460Z"
   },
   {
    "duration": 10,
    "start_time": "2023-05-29T19:20:25.474Z"
   },
   {
    "duration": 9,
    "start_time": "2023-05-29T19:20:25.485Z"
   },
   {
    "duration": 15,
    "start_time": "2023-05-29T19:20:25.495Z"
   },
   {
    "duration": 8,
    "start_time": "2023-05-29T19:20:25.512Z"
   },
   {
    "duration": 39,
    "start_time": "2023-05-29T19:20:25.521Z"
   },
   {
    "duration": 11,
    "start_time": "2023-05-29T19:20:25.569Z"
   },
   {
    "duration": 169,
    "start_time": "2023-05-29T19:20:25.581Z"
   },
   {
    "duration": 212,
    "start_time": "2023-05-29T19:20:25.751Z"
   },
   {
    "duration": 13,
    "start_time": "2023-05-29T19:20:25.965Z"
   },
   {
    "duration": 14,
    "start_time": "2023-05-29T19:20:25.982Z"
   },
   {
    "duration": 10,
    "start_time": "2023-05-29T19:20:25.997Z"
   },
   {
    "duration": 9,
    "start_time": "2023-05-29T19:20:26.009Z"
   },
   {
    "duration": 9,
    "start_time": "2023-05-29T19:20:26.020Z"
   },
   {
    "duration": 34,
    "start_time": "2023-05-29T19:20:26.030Z"
   },
   {
    "duration": 4,
    "start_time": "2023-05-29T19:20:26.066Z"
   },
   {
    "duration": 10,
    "start_time": "2023-05-29T19:20:26.071Z"
   },
   {
    "duration": 21,
    "start_time": "2023-05-29T19:20:26.083Z"
   },
   {
    "duration": 18,
    "start_time": "2023-05-29T19:20:26.106Z"
   },
   {
    "duration": 14,
    "start_time": "2023-05-29T19:20:26.126Z"
   },
   {
    "duration": 25,
    "start_time": "2023-05-29T19:20:26.142Z"
   },
   {
    "duration": 3,
    "start_time": "2023-05-29T19:20:26.171Z"
   },
   {
    "duration": 45744,
    "start_time": "2023-05-29T19:20:26.178Z"
   },
   {
    "duration": 10,
    "start_time": "2023-05-29T19:21:11.924Z"
   },
   {
    "duration": 9025,
    "start_time": "2023-05-29T19:21:11.936Z"
   },
   {
    "duration": 28,
    "start_time": "2023-05-29T19:21:20.970Z"
   },
   {
    "duration": 190,
    "start_time": "2023-05-29T19:21:20.999Z"
   },
   {
    "duration": 2,
    "start_time": "2023-05-29T19:21:21.191Z"
   },
   {
    "duration": 6,
    "start_time": "2023-05-29T19:21:21.195Z"
   },
   {
    "duration": 11,
    "start_time": "2023-05-29T19:21:21.202Z"
   },
   {
    "duration": 15,
    "start_time": "2023-05-29T19:21:21.214Z"
   },
   {
    "duration": 6,
    "start_time": "2023-05-29T19:21:21.252Z"
   },
   {
    "duration": 6777,
    "start_time": "2023-05-29T19:21:21.264Z"
   },
   {
    "duration": 27,
    "start_time": "2023-05-29T19:21:28.043Z"
   },
   {
    "duration": 6,
    "start_time": "2023-05-29T19:21:28.071Z"
   },
   {
    "duration": 21362,
    "start_time": "2023-05-29T19:21:28.079Z"
   },
   {
    "duration": 25,
    "start_time": "2023-05-29T19:21:49.443Z"
   },
   {
    "duration": 5,
    "start_time": "2023-05-29T19:21:49.475Z"
   },
   {
    "duration": 8898,
    "start_time": "2023-05-29T19:21:49.481Z"
   },
   {
    "duration": 171,
    "start_time": "2023-05-29T19:21:58.381Z"
   },
   {
    "duration": 19,
    "start_time": "2023-05-29T19:21:58.562Z"
   },
   {
    "duration": 254,
    "start_time": "2023-05-29T19:21:58.583Z"
   },
   {
    "duration": 144,
    "start_time": "2023-05-29T20:37:35.918Z"
   },
   {
    "duration": 3,
    "start_time": "2023-05-29T20:37:43.145Z"
   },
   {
    "duration": 2,
    "start_time": "2023-05-29T20:38:26.494Z"
   },
   {
    "duration": 3,
    "start_time": "2023-05-29T20:39:56.810Z"
   },
   {
    "duration": 3629,
    "start_time": "2023-05-31T13:02:32.404Z"
   },
   {
    "duration": 2028,
    "start_time": "2023-05-31T13:02:36.036Z"
   },
   {
    "duration": 110,
    "start_time": "2023-05-31T13:02:39.986Z"
   },
   {
    "duration": 35,
    "start_time": "2023-05-31T13:02:40.789Z"
   },
   {
    "duration": 11,
    "start_time": "2023-05-31T13:02:42.066Z"
   },
   {
    "duration": 129,
    "start_time": "2023-05-31T13:02:43.889Z"
   },
   {
    "duration": 21,
    "start_time": "2023-05-31T13:02:44.786Z"
   },
   {
    "duration": 9,
    "start_time": "2023-05-31T13:02:45.771Z"
   },
   {
    "duration": 102,
    "start_time": "2023-05-31T13:02:46.441Z"
   },
   {
    "duration": 103,
    "start_time": "2023-05-31T13:02:47.289Z"
   },
   {
    "duration": 31,
    "start_time": "2023-05-31T13:02:47.915Z"
   },
   {
    "duration": 11,
    "start_time": "2023-05-31T13:02:48.378Z"
   },
   {
    "duration": 85,
    "start_time": "2023-05-31T13:02:48.907Z"
   },
   {
    "duration": 18,
    "start_time": "2023-05-31T13:02:49.414Z"
   },
   {
    "duration": 8,
    "start_time": "2023-05-31T13:02:49.979Z"
   },
   {
    "duration": 79,
    "start_time": "2023-05-31T13:02:50.513Z"
   },
   {
    "duration": 45,
    "start_time": "2023-05-31T13:02:51.937Z"
   },
   {
    "duration": 32,
    "start_time": "2023-05-31T13:03:00.217Z"
   },
   {
    "duration": 9,
    "start_time": "2023-05-31T13:03:00.850Z"
   },
   {
    "duration": 17,
    "start_time": "2023-05-31T13:03:04.152Z"
   },
   {
    "duration": 3,
    "start_time": "2023-05-31T13:03:05.177Z"
   },
   {
    "duration": 63,
    "start_time": "2023-05-31T13:03:06.002Z"
   },
   {
    "duration": 2,
    "start_time": "2023-05-31T13:03:07.658Z"
   },
   {
    "duration": 29,
    "start_time": "2023-05-31T13:03:09.761Z"
   },
   {
    "duration": 9,
    "start_time": "2023-05-31T13:03:10.921Z"
   },
   {
    "duration": 4,
    "start_time": "2023-05-31T13:03:14.225Z"
   },
   {
    "duration": 55,
    "start_time": "2023-05-31T13:03:15.633Z"
   },
   {
    "duration": 10,
    "start_time": "2023-05-31T13:03:17.168Z"
   },
   {
    "duration": 28,
    "start_time": "2023-05-31T13:03:17.665Z"
   },
   {
    "duration": 7,
    "start_time": "2023-05-31T13:03:18.610Z"
   },
   {
    "duration": 5,
    "start_time": "2023-05-31T13:03:19.113Z"
   },
   {
    "duration": 11,
    "start_time": "2023-05-31T13:03:19.561Z"
   },
   {
    "duration": 20,
    "start_time": "2023-05-31T13:03:20.609Z"
   },
   {
    "duration": 3,
    "start_time": "2023-05-31T13:03:21.105Z"
   },
   {
    "duration": 154,
    "start_time": "2023-05-31T13:03:21.545Z"
   },
   {
    "duration": 7,
    "start_time": "2023-05-31T13:03:21.993Z"
   },
   {
    "duration": 5,
    "start_time": "2023-05-31T13:03:22.545Z"
   },
   {
    "duration": 18,
    "start_time": "2023-05-31T13:03:23.113Z"
   },
   {
    "duration": 4,
    "start_time": "2023-05-31T13:03:24.592Z"
   },
   {
    "duration": 214,
    "start_time": "2023-05-31T13:03:25.073Z"
   },
   {
    "duration": 189,
    "start_time": "2023-05-31T13:03:25.649Z"
   },
   {
    "duration": 2,
    "start_time": "2023-05-31T13:03:26.338Z"
   },
   {
    "duration": 1330,
    "start_time": "2023-05-31T13:03:26.929Z"
   },
   {
    "duration": 18,
    "start_time": "2023-05-31T13:03:28.945Z"
   },
   {
    "duration": 1207,
    "start_time": "2023-05-31T13:03:29.652Z"
   },
   {
    "duration": 5,
    "start_time": "2023-05-31T13:03:32.073Z"
   },
   {
    "duration": 218,
    "start_time": "2023-05-31T13:03:32.841Z"
   },
   {
    "duration": 211,
    "start_time": "2023-05-31T13:03:33.625Z"
   },
   {
    "duration": 175,
    "start_time": "2023-05-31T13:03:35.072Z"
   },
   {
    "duration": 18,
    "start_time": "2023-05-31T13:03:35.861Z"
   },
   {
    "duration": 16,
    "start_time": "2023-05-31T13:03:37.433Z"
   },
   {
    "duration": 1293,
    "start_time": "2023-05-31T13:03:37.929Z"
   },
   {
    "duration": 713,
    "start_time": "2023-05-31T13:03:39.224Z"
   },
   {
    "duration": 15,
    "start_time": "2023-05-31T13:03:40.569Z"
   },
   {
    "duration": 83,
    "start_time": "2023-05-31T13:03:43.833Z"
   },
   {
    "duration": 12,
    "start_time": "2023-05-31T13:03:44.281Z"
   },
   {
    "duration": 11,
    "start_time": "2023-05-31T13:03:45.465Z"
   },
   {
    "duration": 10,
    "start_time": "2023-05-31T13:03:46.497Z"
   },
   {
    "duration": 10,
    "start_time": "2023-05-31T13:03:47.585Z"
   },
   {
    "duration": 13,
    "start_time": "2023-05-31T13:03:48.272Z"
   },
   {
    "duration": 12,
    "start_time": "2023-05-31T13:03:49.096Z"
   },
   {
    "duration": 11,
    "start_time": "2023-05-31T13:03:49.873Z"
   },
   {
    "duration": 16,
    "start_time": "2023-05-31T13:03:50.594Z"
   },
   {
    "duration": 227,
    "start_time": "2023-05-31T13:03:51.370Z"
   },
   {
    "duration": 206,
    "start_time": "2023-05-31T13:03:52.025Z"
   },
   {
    "duration": 12,
    "start_time": "2023-05-31T13:03:52.745Z"
   },
   {
    "duration": 13,
    "start_time": "2023-05-31T13:03:53.130Z"
   },
   {
    "duration": 13,
    "start_time": "2023-05-31T13:03:54.289Z"
   },
   {
    "duration": 12,
    "start_time": "2023-05-31T13:03:55.049Z"
   },
   {
    "duration": 9,
    "start_time": "2023-05-31T13:03:55.481Z"
   },
   {
    "duration": 9,
    "start_time": "2023-05-31T13:03:57.217Z"
   },
   {
    "duration": 3,
    "start_time": "2023-05-31T13:03:57.657Z"
   },
   {
    "duration": 5,
    "start_time": "2023-05-31T13:03:58.226Z"
   },
   {
    "duration": 4,
    "start_time": "2023-05-31T13:03:58.937Z"
   },
   {
    "duration": 21,
    "start_time": "2023-05-31T13:04:00.073Z"
   },
   {
    "duration": 5,
    "start_time": "2023-05-31T13:04:09.073Z"
   },
   {
    "duration": 137,
    "start_time": "2023-05-31T13:04:09.890Z"
   },
   {
    "duration": 5,
    "start_time": "2023-05-31T13:04:19.807Z"
   },
   {
    "duration": 17,
    "start_time": "2023-05-31T13:04:20.602Z"
   },
   {
    "duration": 4,
    "start_time": "2023-05-31T13:04:23.673Z"
   },
   {
    "duration": 48609,
    "start_time": "2023-05-31T13:04:29.697Z"
   },
   {
    "duration": 12,
    "start_time": "2023-05-31T13:07:13.369Z"
   },
   {
    "duration": 10,
    "start_time": "2023-05-31T13:09:12.610Z"
   },
   {
    "duration": 9255,
    "start_time": "2023-05-31T13:09:21.161Z"
   },
   {
    "duration": 24,
    "start_time": "2023-05-31T13:09:31.073Z"
   },
   {
    "duration": 131,
    "start_time": "2023-05-31T13:15:48.523Z"
   },
   {
    "duration": 172,
    "start_time": "2023-05-31T13:16:03.458Z"
   },
   {
    "duration": 36,
    "start_time": "2023-05-31T13:22:05.435Z"
   },
   {
    "duration": 5,
    "start_time": "2023-05-31T13:22:18.816Z"
   },
   {
    "duration": 182,
    "start_time": "2023-05-31T13:22:25.136Z"
   },
   {
    "duration": 173,
    "start_time": "2023-05-31T13:22:45.340Z"
   },
   {
    "duration": 11,
    "start_time": "2023-05-31T13:24:23.824Z"
   },
   {
    "duration": 3,
    "start_time": "2023-05-31T13:25:15.048Z"
   },
   {
    "duration": 16,
    "start_time": "2023-05-31T13:25:46.113Z"
   },
   {
    "duration": 10,
    "start_time": "2023-05-31T13:26:04.725Z"
   },
   {
    "duration": 4,
    "start_time": "2023-05-31T13:26:13.353Z"
   },
   {
    "duration": 11,
    "start_time": "2023-05-31T13:26:19.712Z"
   },
   {
    "duration": 2331,
    "start_time": "2023-05-31T13:26:54.408Z"
   },
   {
    "duration": 1546,
    "start_time": "2023-05-31T13:26:56.741Z"
   },
   {
    "duration": 49,
    "start_time": "2023-05-31T13:26:58.291Z"
   },
   {
    "duration": 20,
    "start_time": "2023-05-31T13:26:58.341Z"
   },
   {
    "duration": 31,
    "start_time": "2023-05-31T13:26:58.363Z"
   },
   {
    "duration": 40,
    "start_time": "2023-05-31T13:26:58.396Z"
   },
   {
    "duration": 24,
    "start_time": "2023-05-31T13:26:58.437Z"
   },
   {
    "duration": 21,
    "start_time": "2023-05-31T13:26:58.463Z"
   },
   {
    "duration": 100,
    "start_time": "2023-05-31T13:26:58.487Z"
   },
   {
    "duration": 30,
    "start_time": "2023-05-31T13:26:58.589Z"
   },
   {
    "duration": 26,
    "start_time": "2023-05-31T13:26:58.621Z"
   },
   {
    "duration": 12,
    "start_time": "2023-05-31T13:26:58.649Z"
   },
   {
    "duration": 56,
    "start_time": "2023-05-31T13:26:58.663Z"
   },
   {
    "duration": 20,
    "start_time": "2023-05-31T13:26:58.720Z"
   },
   {
    "duration": 24,
    "start_time": "2023-05-31T13:26:58.742Z"
   },
   {
    "duration": 112,
    "start_time": "2023-05-31T13:26:58.767Z"
   },
   {
    "duration": 38,
    "start_time": "2023-05-31T13:26:58.881Z"
   },
   {
    "duration": 22,
    "start_time": "2023-05-31T13:26:58.921Z"
   },
   {
    "duration": 33,
    "start_time": "2023-05-31T13:26:58.946Z"
   },
   {
    "duration": 41,
    "start_time": "2023-05-31T13:26:58.981Z"
   },
   {
    "duration": 17,
    "start_time": "2023-05-31T13:26:59.024Z"
   },
   {
    "duration": 87,
    "start_time": "2023-05-31T13:26:59.043Z"
   },
   {
    "duration": 4,
    "start_time": "2023-05-31T13:26:59.132Z"
   },
   {
    "duration": 53,
    "start_time": "2023-05-31T13:26:59.138Z"
   },
   {
    "duration": 11,
    "start_time": "2023-05-31T13:26:59.193Z"
   },
   {
    "duration": 16,
    "start_time": "2023-05-31T13:26:59.205Z"
   },
   {
    "duration": 146,
    "start_time": "2023-05-31T13:26:59.227Z"
   },
   {
    "duration": 8,
    "start_time": "2023-05-31T13:26:59.375Z"
   },
   {
    "duration": 58,
    "start_time": "2023-05-31T13:26:59.385Z"
   },
   {
    "duration": 37,
    "start_time": "2023-05-31T13:26:59.445Z"
   },
   {
    "duration": 36,
    "start_time": "2023-05-31T13:26:59.484Z"
   },
   {
    "duration": 34,
    "start_time": "2023-05-31T13:26:59.522Z"
   },
   {
    "duration": 18,
    "start_time": "2023-05-31T13:26:59.558Z"
   },
   {
    "duration": 11,
    "start_time": "2023-05-31T13:26:59.578Z"
   },
   {
    "duration": 89,
    "start_time": "2023-05-31T13:26:59.591Z"
   },
   {
    "duration": 6,
    "start_time": "2023-05-31T13:26:59.682Z"
   },
   {
    "duration": 13,
    "start_time": "2023-05-31T13:26:59.689Z"
   },
   {
    "duration": 44,
    "start_time": "2023-05-31T13:26:59.703Z"
   },
   {
    "duration": 19,
    "start_time": "2023-05-31T13:26:59.749Z"
   },
   {
    "duration": 213,
    "start_time": "2023-05-31T13:26:59.770Z"
   },
   {
    "duration": 184,
    "start_time": "2023-05-31T13:26:59.985Z"
   },
   {
    "duration": 3,
    "start_time": "2023-05-31T13:27:00.170Z"
   },
   {
    "duration": 1229,
    "start_time": "2023-05-31T13:27:00.176Z"
   },
   {
    "duration": 19,
    "start_time": "2023-05-31T13:27:01.407Z"
   },
   {
    "duration": 1152,
    "start_time": "2023-05-31T13:27:01.427Z"
   },
   {
    "duration": 4,
    "start_time": "2023-05-31T13:27:02.581Z"
   },
   {
    "duration": 220,
    "start_time": "2023-05-31T13:27:02.586Z"
   },
   {
    "duration": 284,
    "start_time": "2023-05-31T13:27:02.808Z"
   },
   {
    "duration": 61,
    "start_time": "2023-05-31T13:27:03.094Z"
   },
   {
    "duration": 17,
    "start_time": "2023-05-31T13:27:03.156Z"
   },
   {
    "duration": 34,
    "start_time": "2023-05-31T13:27:03.174Z"
   },
   {
    "duration": 1201,
    "start_time": "2023-05-31T13:27:03.210Z"
   },
   {
    "duration": 664,
    "start_time": "2023-05-31T13:27:04.413Z"
   },
   {
    "duration": 14,
    "start_time": "2023-05-31T13:27:05.079Z"
   },
   {
    "duration": 68,
    "start_time": "2023-05-31T13:27:05.095Z"
   },
   {
    "duration": 9,
    "start_time": "2023-05-31T13:27:05.165Z"
   },
   {
    "duration": 22,
    "start_time": "2023-05-31T13:27:05.176Z"
   },
   {
    "duration": 10,
    "start_time": "2023-05-31T13:27:05.200Z"
   },
   {
    "duration": 12,
    "start_time": "2023-05-31T13:27:05.211Z"
   },
   {
    "duration": 11,
    "start_time": "2023-05-31T13:27:05.224Z"
   },
   {
    "duration": 9,
    "start_time": "2023-05-31T13:27:05.237Z"
   },
   {
    "duration": 12,
    "start_time": "2023-05-31T13:27:05.248Z"
   },
   {
    "duration": 44,
    "start_time": "2023-05-31T13:27:05.262Z"
   },
   {
    "duration": 212,
    "start_time": "2023-05-31T13:27:05.308Z"
   },
   {
    "duration": 192,
    "start_time": "2023-05-31T13:27:05.522Z"
   },
   {
    "duration": 11,
    "start_time": "2023-05-31T13:27:05.715Z"
   },
   {
    "duration": 11,
    "start_time": "2023-05-31T13:27:05.728Z"
   },
   {
    "duration": 17,
    "start_time": "2023-05-31T13:27:05.740Z"
   },
   {
    "duration": 7,
    "start_time": "2023-05-31T13:27:05.759Z"
   },
   {
    "duration": 31,
    "start_time": "2023-05-31T13:27:05.768Z"
   },
   {
    "duration": 8,
    "start_time": "2023-05-31T13:27:05.801Z"
   },
   {
    "duration": 28,
    "start_time": "2023-05-31T13:27:05.811Z"
   },
   {
    "duration": 17,
    "start_time": "2023-05-31T13:27:05.841Z"
   },
   {
    "duration": 7,
    "start_time": "2023-05-31T13:27:05.860Z"
   },
   {
    "duration": 22,
    "start_time": "2023-05-31T13:27:05.868Z"
   },
   {
    "duration": 16,
    "start_time": "2023-05-31T13:27:05.891Z"
   },
   {
    "duration": 21,
    "start_time": "2023-05-31T13:27:05.909Z"
   },
   {
    "duration": 12,
    "start_time": "2023-05-31T13:27:05.932Z"
   },
   {
    "duration": 42539,
    "start_time": "2023-05-31T13:27:05.945Z"
   },
   {
    "duration": 13,
    "start_time": "2023-05-31T13:27:48.486Z"
   },
   {
    "duration": 9040,
    "start_time": "2023-05-31T13:27:48.504Z"
   },
   {
    "duration": 30,
    "start_time": "2023-05-31T13:27:57.546Z"
   },
   {
    "duration": 181,
    "start_time": "2023-05-31T13:27:57.578Z"
   },
   {
    "duration": 4,
    "start_time": "2023-05-31T13:27:57.761Z"
   },
   {
    "duration": 27,
    "start_time": "2023-05-31T13:27:57.766Z"
   },
   {
    "duration": 25,
    "start_time": "2023-05-31T13:27:57.795Z"
   },
   {
    "duration": 52,
    "start_time": "2023-05-31T13:27:57.822Z"
   },
   {
    "duration": 7345,
    "start_time": "2023-05-31T13:27:57.876Z"
   },
   {
    "duration": 5,
    "start_time": "2023-05-31T13:28:05.222Z"
   },
   {
    "duration": 16,
    "start_time": "2023-05-31T13:28:05.229Z"
   },
   {
    "duration": 22133,
    "start_time": "2023-05-31T13:28:05.246Z"
   },
   {
    "duration": 5,
    "start_time": "2023-05-31T13:28:27.382Z"
   },
   {
    "duration": 10,
    "start_time": "2023-05-31T13:28:27.389Z"
   },
   {
    "duration": 139,
    "start_time": "2023-05-31T13:28:27.401Z"
   },
   {
    "duration": 0,
    "start_time": "2023-05-31T13:28:27.542Z"
   },
   {
    "duration": 0,
    "start_time": "2023-05-31T13:28:27.543Z"
   },
   {
    "duration": 0,
    "start_time": "2023-05-31T13:28:27.544Z"
   },
   {
    "duration": 0,
    "start_time": "2023-05-31T13:28:27.546Z"
   },
   {
    "duration": 0,
    "start_time": "2023-05-31T13:28:27.547Z"
   },
   {
    "duration": 0,
    "start_time": "2023-05-31T13:28:27.548Z"
   },
   {
    "duration": 0,
    "start_time": "2023-05-31T13:28:27.550Z"
   },
   {
    "duration": 18049,
    "start_time": "2023-05-31T13:28:37.384Z"
   },
   {
    "duration": 4,
    "start_time": "2023-05-31T13:29:05.560Z"
   },
   {
    "duration": 5,
    "start_time": "2023-05-31T13:29:06.760Z"
   },
   {
    "duration": 5,
    "start_time": "2023-05-31T13:31:19.792Z"
   },
   {
    "duration": 6588,
    "start_time": "2023-05-31T13:31:30.552Z"
   },
   {
    "duration": 17604,
    "start_time": "2023-05-31T13:31:49.712Z"
   },
   {
    "duration": 5,
    "start_time": "2023-05-31T13:32:10.424Z"
   },
   {
    "duration": 5,
    "start_time": "2023-05-31T13:32:11.015Z"
   },
   {
    "duration": 6708,
    "start_time": "2023-05-31T13:32:24.119Z"
   },
   {
    "duration": 4,
    "start_time": "2023-05-31T13:32:33.664Z"
   },
   {
    "duration": 4601,
    "start_time": "2023-05-31T13:32:45.688Z"
   },
   {
    "duration": 4,
    "start_time": "2023-05-31T13:33:21.124Z"
   },
   {
    "duration": 4,
    "start_time": "2023-05-31T13:33:21.767Z"
   },
   {
    "duration": 7,
    "start_time": "2023-05-31T13:33:31.754Z"
   },
   {
    "duration": 2549,
    "start_time": "2023-05-31T13:36:06.292Z"
   },
   {
    "duration": 1532,
    "start_time": "2023-05-31T13:36:08.843Z"
   },
   {
    "duration": 53,
    "start_time": "2023-05-31T13:36:10.376Z"
   },
   {
    "duration": 21,
    "start_time": "2023-05-31T13:36:10.431Z"
   },
   {
    "duration": 31,
    "start_time": "2023-05-31T13:36:10.453Z"
   },
   {
    "duration": 54,
    "start_time": "2023-05-31T13:36:10.486Z"
   },
   {
    "duration": 43,
    "start_time": "2023-05-31T13:36:10.543Z"
   },
   {
    "duration": 52,
    "start_time": "2023-05-31T13:36:10.588Z"
   },
   {
    "duration": 158,
    "start_time": "2023-05-31T13:36:10.641Z"
   },
   {
    "duration": 35,
    "start_time": "2023-05-31T13:36:10.804Z"
   },
   {
    "duration": 27,
    "start_time": "2023-05-31T13:36:10.841Z"
   },
   {
    "duration": 30,
    "start_time": "2023-05-31T13:36:10.870Z"
   },
   {
    "duration": 42,
    "start_time": "2023-05-31T13:36:10.903Z"
   },
   {
    "duration": 37,
    "start_time": "2023-05-31T13:36:10.947Z"
   },
   {
    "duration": 48,
    "start_time": "2023-05-31T13:36:10.986Z"
   },
   {
    "duration": 112,
    "start_time": "2023-05-31T13:36:11.036Z"
   },
   {
    "duration": 39,
    "start_time": "2023-05-31T13:36:11.149Z"
   },
   {
    "duration": 29,
    "start_time": "2023-05-31T13:36:11.198Z"
   },
   {
    "duration": 12,
    "start_time": "2023-05-31T13:36:11.228Z"
   },
   {
    "duration": 32,
    "start_time": "2023-05-31T13:36:11.242Z"
   },
   {
    "duration": 45,
    "start_time": "2023-05-31T13:36:11.275Z"
   },
   {
    "duration": 113,
    "start_time": "2023-05-31T13:36:11.322Z"
   },
   {
    "duration": 13,
    "start_time": "2023-05-31T13:36:11.437Z"
   },
   {
    "duration": 73,
    "start_time": "2023-05-31T13:36:11.452Z"
   },
   {
    "duration": 48,
    "start_time": "2023-05-31T13:36:11.527Z"
   },
   {
    "duration": 46,
    "start_time": "2023-05-31T13:36:11.577Z"
   },
   {
    "duration": 76,
    "start_time": "2023-05-31T13:36:11.625Z"
   },
   {
    "duration": 82,
    "start_time": "2023-05-31T13:36:11.709Z"
   },
   {
    "duration": 56,
    "start_time": "2023-05-31T13:36:11.792Z"
   },
   {
    "duration": 29,
    "start_time": "2023-05-31T13:36:11.849Z"
   },
   {
    "duration": 55,
    "start_time": "2023-05-31T13:36:11.880Z"
   },
   {
    "duration": 43,
    "start_time": "2023-05-31T13:36:11.936Z"
   },
   {
    "duration": 63,
    "start_time": "2023-05-31T13:36:11.980Z"
   },
   {
    "duration": 16,
    "start_time": "2023-05-31T13:36:12.045Z"
   },
   {
    "duration": 117,
    "start_time": "2023-05-31T13:36:12.063Z"
   },
   {
    "duration": 6,
    "start_time": "2023-05-31T13:36:12.183Z"
   },
   {
    "duration": 23,
    "start_time": "2023-05-31T13:36:12.191Z"
   },
   {
    "duration": 55,
    "start_time": "2023-05-31T13:36:12.217Z"
   },
   {
    "duration": 18,
    "start_time": "2023-05-31T13:36:12.273Z"
   },
   {
    "duration": 234,
    "start_time": "2023-05-31T13:36:12.293Z"
   },
   {
    "duration": 213,
    "start_time": "2023-05-31T13:36:12.529Z"
   },
   {
    "duration": 4,
    "start_time": "2023-05-31T13:36:12.744Z"
   },
   {
    "duration": 1404,
    "start_time": "2023-05-31T13:36:12.749Z"
   },
   {
    "duration": 17,
    "start_time": "2023-05-31T13:36:14.155Z"
   },
   {
    "duration": 1250,
    "start_time": "2023-05-31T13:36:14.174Z"
   },
   {
    "duration": 7,
    "start_time": "2023-05-31T13:36:15.426Z"
   },
   {
    "duration": 249,
    "start_time": "2023-05-31T13:36:15.436Z"
   },
   {
    "duration": 304,
    "start_time": "2023-05-31T13:36:15.686Z"
   },
   {
    "duration": 65,
    "start_time": "2023-05-31T13:36:15.997Z"
   },
   {
    "duration": 17,
    "start_time": "2023-05-31T13:36:16.064Z"
   },
   {
    "duration": 36,
    "start_time": "2023-05-31T13:36:16.082Z"
   },
   {
    "duration": 1434,
    "start_time": "2023-05-31T13:36:16.120Z"
   },
   {
    "duration": 757,
    "start_time": "2023-05-31T13:36:17.556Z"
   },
   {
    "duration": 20,
    "start_time": "2023-05-31T13:36:18.315Z"
   },
   {
    "duration": 89,
    "start_time": "2023-05-31T13:36:18.338Z"
   },
   {
    "duration": 12,
    "start_time": "2023-05-31T13:36:18.429Z"
   },
   {
    "duration": 41,
    "start_time": "2023-05-31T13:36:18.443Z"
   },
   {
    "duration": 55,
    "start_time": "2023-05-31T13:36:18.485Z"
   },
   {
    "duration": 45,
    "start_time": "2023-05-31T13:36:18.541Z"
   },
   {
    "duration": 46,
    "start_time": "2023-05-31T13:36:18.588Z"
   },
   {
    "duration": 46,
    "start_time": "2023-05-31T13:36:18.635Z"
   },
   {
    "duration": 28,
    "start_time": "2023-05-31T13:36:18.683Z"
   },
   {
    "duration": 15,
    "start_time": "2023-05-31T13:36:18.714Z"
   },
   {
    "duration": 232,
    "start_time": "2023-05-31T13:36:18.731Z"
   },
   {
    "duration": 223,
    "start_time": "2023-05-31T13:36:18.965Z"
   },
   {
    "duration": 22,
    "start_time": "2023-05-31T13:36:19.189Z"
   },
   {
    "duration": 21,
    "start_time": "2023-05-31T13:36:19.213Z"
   },
   {
    "duration": 46,
    "start_time": "2023-05-31T13:36:19.235Z"
   },
   {
    "duration": 46,
    "start_time": "2023-05-31T13:36:19.283Z"
   },
   {
    "duration": 22,
    "start_time": "2023-05-31T13:36:19.331Z"
   },
   {
    "duration": 54,
    "start_time": "2023-05-31T13:36:19.355Z"
   },
   {
    "duration": 51,
    "start_time": "2023-05-31T13:36:19.412Z"
   },
   {
    "duration": 39,
    "start_time": "2023-05-31T13:36:19.465Z"
   },
   {
    "duration": 46,
    "start_time": "2023-05-31T13:36:19.507Z"
   },
   {
    "duration": 58,
    "start_time": "2023-05-31T13:36:19.555Z"
   },
   {
    "duration": 29,
    "start_time": "2023-05-31T13:36:19.616Z"
   },
   {
    "duration": 29,
    "start_time": "2023-05-31T13:36:19.647Z"
   },
   {
    "duration": 38,
    "start_time": "2023-05-31T13:36:19.677Z"
   },
   {
    "duration": 46769,
    "start_time": "2023-05-31T13:36:19.718Z"
   },
   {
    "duration": 13,
    "start_time": "2023-05-31T13:37:06.489Z"
   },
   {
    "duration": 9239,
    "start_time": "2023-05-31T13:37:06.504Z"
   },
   {
    "duration": 28,
    "start_time": "2023-05-31T13:37:15.749Z"
   },
   {
    "duration": 197,
    "start_time": "2023-05-31T13:37:15.779Z"
   },
   {
    "duration": 4,
    "start_time": "2023-05-31T13:37:15.977Z"
   },
   {
    "duration": 22,
    "start_time": "2023-05-31T13:37:15.982Z"
   },
   {
    "duration": 15,
    "start_time": "2023-05-31T13:37:16.006Z"
   },
   {
    "duration": 18,
    "start_time": "2023-05-31T13:37:16.023Z"
   },
   {
    "duration": 7558,
    "start_time": "2023-05-31T13:37:16.043Z"
   },
   {
    "duration": 7,
    "start_time": "2023-05-31T13:37:23.605Z"
   },
   {
    "duration": 13,
    "start_time": "2023-05-31T13:37:23.617Z"
   },
   {
    "duration": 22320,
    "start_time": "2023-05-31T13:37:23.632Z"
   },
   {
    "duration": 4,
    "start_time": "2023-05-31T13:37:45.953Z"
   },
   {
    "duration": 13,
    "start_time": "2023-05-31T13:37:45.958Z"
   },
   {
    "duration": 17338,
    "start_time": "2023-05-31T13:37:45.972Z"
   },
   {
    "duration": 6,
    "start_time": "2023-05-31T13:38:03.312Z"
   },
   {
    "duration": 18,
    "start_time": "2023-05-31T13:38:03.320Z"
   },
   {
    "duration": 5145,
    "start_time": "2023-05-31T13:38:03.341Z"
   },
   {
    "duration": 11,
    "start_time": "2023-05-31T13:38:08.488Z"
   },
   {
    "duration": 12,
    "start_time": "2023-05-31T13:38:08.502Z"
   },
   {
    "duration": 8650,
    "start_time": "2023-05-31T13:38:08.516Z"
   },
   {
    "duration": 282,
    "start_time": "2023-05-31T13:38:17.168Z"
   },
   {
    "duration": 15,
    "start_time": "2023-05-31T13:38:17.451Z"
   },
   {
    "duration": 161,
    "start_time": "2023-05-31T13:38:17.468Z"
   },
   {
    "duration": 293,
    "start_time": "2023-05-31T13:38:17.631Z"
   }
  ],
  "kernelspec": {
   "display_name": "Python 3 (ipykernel)",
   "language": "python",
   "name": "python3"
  },
  "language_info": {
   "codemirror_mode": {
    "name": "ipython",
    "version": 3
   },
   "file_extension": ".py",
   "mimetype": "text/x-python",
   "name": "python",
   "nbconvert_exporter": "python",
   "pygments_lexer": "ipython3",
   "version": "3.9.5"
  },
  "toc": {
   "base_numbering": 1,
   "nav_menu": {},
   "number_sections": true,
   "sideBar": true,
   "skip_h1_title": true,
   "title_cell": "Table of Contents",
   "title_sidebar": "Contents",
   "toc_cell": false,
   "toc_position": {},
   "toc_section_display": true,
   "toc_window_display": false
  }
 },
 "nbformat": 4,
 "nbformat_minor": 2
}
