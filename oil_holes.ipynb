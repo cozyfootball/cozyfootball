{
 "cells": [
  {
   "cell_type": "markdown",
   "metadata": {},
   "source": [
    "# Выбор локации для нефтяной скважины"
   ]
  },
  {
   "cell_type": "markdown",
   "metadata": {},
   "source": [
    "**Задача:** Построит модель машинного обучения, которая поможет определить регион, где добыча принесёт наибольшую прибыль.  \n",
    "\n",
    "**Дано:** пробы нефти в трёх регионах: в каждом 10 000 месторождений, где измерили качество нефти и объём её запасов.   \n",
    "\n",
    "**План:**  \n",
    "\n",
    "- В избранном регионе ищут месторождения, для каждого определяют значения признаков;\n",
    "- Строят модель и оценивают объём запасов;\n",
    "- Выбирают месторождения с самым высокими оценками значений. Количество месторождений зависит от бюджета компании и стоимости разработки одной скважины;\n",
    "- Прибыль равна суммарной прибыли отобранных месторождений.\n",
    "\n",
    "**Особенности**    \n",
    "При разведке региона исследуют 500 точек, из которых с помощью машинного обучения выбирают 200 лучших для разработки.    \n",
    "Бюджет на разработку скважин в регионе — **10 млрд рублей.**   \n",
    "Цена за баррель **450 рублей дохода.**  \n",
    "Доход с каждой единицы продукта составляет 450 тыс.рублей, поскольку объём указан в тысячах баррелей.  \n",
    "После оценки рисков нужно оставить лишь те регионы, в которых вероятность убытков меньше 2.5%.   \n"
   ]
  },
  {
   "cell_type": "markdown",
   "metadata": {},
   "source": [
    "## Загрузка и подготовка данных"
   ]
  },
  {
   "cell_type": "markdown",
   "metadata": {},
   "source": [
    "**Импорты**"
   ]
  },
  {
   "cell_type": "code",
   "execution_count": 1,
   "metadata": {},
   "outputs": [],
   "source": [
    "import pandas as pd\n",
    "import numpy as np\n",
    "import matplotlib.pyplot as plt\n",
    "import seaborn as sns\n",
    "from scipy import stats as st\n",
    "from sklearn.linear_model import LinearRegression\n",
    "from sklearn.metrics import mean_squared_error, mean_absolute_error, r2_score\n",
    "from sklearn.model_selection import train_test_split, GridSearchCV\n",
    "import warnings\n",
    "warnings.filterwarnings(\"ignore\")"
   ]
  },
  {
   "cell_type": "markdown",
   "metadata": {},
   "source": [
    "**Датасеты**"
   ]
  },
  {
   "cell_type": "code",
   "execution_count": 2,
   "metadata": {},
   "outputs": [],
   "source": [
    "reg_1 = pd.read_csv('/datasets/geo_data_0.csv')\n",
    "reg_2 = pd.read_csv('/datasets/geo_data_1.csv')\n",
    "reg_3 = pd.read_csv('/datasets/geo_data_2.csv')"
   ]
  },
  {
   "cell_type": "code",
   "execution_count": 3,
   "metadata": {},
   "outputs": [
    {
     "data": {
      "text/html": [
       "<div>\n",
       "<style scoped>\n",
       "    .dataframe tbody tr th:only-of-type {\n",
       "        vertical-align: middle;\n",
       "    }\n",
       "\n",
       "    .dataframe tbody tr th {\n",
       "        vertical-align: top;\n",
       "    }\n",
       "\n",
       "    .dataframe thead th {\n",
       "        text-align: right;\n",
       "    }\n",
       "</style>\n",
       "<table border=\"1\" class=\"dataframe\">\n",
       "  <thead>\n",
       "    <tr style=\"text-align: right;\">\n",
       "      <th></th>\n",
       "      <th>id</th>\n",
       "      <th>f0</th>\n",
       "      <th>f1</th>\n",
       "      <th>f2</th>\n",
       "      <th>product</th>\n",
       "    </tr>\n",
       "  </thead>\n",
       "  <tbody>\n",
       "    <tr>\n",
       "      <th>0</th>\n",
       "      <td>txEyH</td>\n",
       "      <td>0.705745</td>\n",
       "      <td>-0.497823</td>\n",
       "      <td>1.221170</td>\n",
       "      <td>105.280062</td>\n",
       "    </tr>\n",
       "    <tr>\n",
       "      <th>1</th>\n",
       "      <td>2acmU</td>\n",
       "      <td>1.334711</td>\n",
       "      <td>-0.340164</td>\n",
       "      <td>4.365080</td>\n",
       "      <td>73.037750</td>\n",
       "    </tr>\n",
       "    <tr>\n",
       "      <th>2</th>\n",
       "      <td>409Wp</td>\n",
       "      <td>1.022732</td>\n",
       "      <td>0.151990</td>\n",
       "      <td>1.419926</td>\n",
       "      <td>85.265647</td>\n",
       "    </tr>\n",
       "    <tr>\n",
       "      <th>3</th>\n",
       "      <td>iJLyR</td>\n",
       "      <td>-0.032172</td>\n",
       "      <td>0.139033</td>\n",
       "      <td>2.978566</td>\n",
       "      <td>168.620776</td>\n",
       "    </tr>\n",
       "    <tr>\n",
       "      <th>4</th>\n",
       "      <td>Xdl7t</td>\n",
       "      <td>1.988431</td>\n",
       "      <td>0.155413</td>\n",
       "      <td>4.751769</td>\n",
       "      <td>154.036647</td>\n",
       "    </tr>\n",
       "  </tbody>\n",
       "</table>\n",
       "</div>"
      ],
      "text/plain": [
       "      id        f0        f1        f2     product\n",
       "0  txEyH  0.705745 -0.497823  1.221170  105.280062\n",
       "1  2acmU  1.334711 -0.340164  4.365080   73.037750\n",
       "2  409Wp  1.022732  0.151990  1.419926   85.265647\n",
       "3  iJLyR -0.032172  0.139033  2.978566  168.620776\n",
       "4  Xdl7t  1.988431  0.155413  4.751769  154.036647"
      ]
     },
     "execution_count": 3,
     "metadata": {},
     "output_type": "execute_result"
    }
   ],
   "source": [
    "reg_1.head(5)"
   ]
  },
  {
   "cell_type": "code",
   "execution_count": 4,
   "metadata": {},
   "outputs": [
    {
     "data": {
      "text/html": [
       "<div>\n",
       "<style scoped>\n",
       "    .dataframe tbody tr th:only-of-type {\n",
       "        vertical-align: middle;\n",
       "    }\n",
       "\n",
       "    .dataframe tbody tr th {\n",
       "        vertical-align: top;\n",
       "    }\n",
       "\n",
       "    .dataframe thead th {\n",
       "        text-align: right;\n",
       "    }\n",
       "</style>\n",
       "<table border=\"1\" class=\"dataframe\">\n",
       "  <thead>\n",
       "    <tr style=\"text-align: right;\">\n",
       "      <th></th>\n",
       "      <th>id</th>\n",
       "      <th>f0</th>\n",
       "      <th>f1</th>\n",
       "      <th>f2</th>\n",
       "      <th>product</th>\n",
       "    </tr>\n",
       "  </thead>\n",
       "  <tbody>\n",
       "    <tr>\n",
       "      <th>0</th>\n",
       "      <td>kBEdx</td>\n",
       "      <td>-15.001348</td>\n",
       "      <td>-8.276000</td>\n",
       "      <td>-0.005876</td>\n",
       "      <td>3.179103</td>\n",
       "    </tr>\n",
       "    <tr>\n",
       "      <th>1</th>\n",
       "      <td>62mP7</td>\n",
       "      <td>14.272088</td>\n",
       "      <td>-3.475083</td>\n",
       "      <td>0.999183</td>\n",
       "      <td>26.953261</td>\n",
       "    </tr>\n",
       "    <tr>\n",
       "      <th>2</th>\n",
       "      <td>vyE1P</td>\n",
       "      <td>6.263187</td>\n",
       "      <td>-5.948386</td>\n",
       "      <td>5.001160</td>\n",
       "      <td>134.766305</td>\n",
       "    </tr>\n",
       "    <tr>\n",
       "      <th>3</th>\n",
       "      <td>KcrkZ</td>\n",
       "      <td>-13.081196</td>\n",
       "      <td>-11.506057</td>\n",
       "      <td>4.999415</td>\n",
       "      <td>137.945408</td>\n",
       "    </tr>\n",
       "    <tr>\n",
       "      <th>4</th>\n",
       "      <td>AHL4O</td>\n",
       "      <td>12.702195</td>\n",
       "      <td>-8.147433</td>\n",
       "      <td>5.004363</td>\n",
       "      <td>134.766305</td>\n",
       "    </tr>\n",
       "  </tbody>\n",
       "</table>\n",
       "</div>"
      ],
      "text/plain": [
       "      id         f0         f1        f2     product\n",
       "0  kBEdx -15.001348  -8.276000 -0.005876    3.179103\n",
       "1  62mP7  14.272088  -3.475083  0.999183   26.953261\n",
       "2  vyE1P   6.263187  -5.948386  5.001160  134.766305\n",
       "3  KcrkZ -13.081196 -11.506057  4.999415  137.945408\n",
       "4  AHL4O  12.702195  -8.147433  5.004363  134.766305"
      ]
     },
     "execution_count": 4,
     "metadata": {},
     "output_type": "execute_result"
    }
   ],
   "source": [
    "reg_2.head(5)"
   ]
  },
  {
   "cell_type": "code",
   "execution_count": 5,
   "metadata": {},
   "outputs": [
    {
     "data": {
      "text/html": [
       "<div>\n",
       "<style scoped>\n",
       "    .dataframe tbody tr th:only-of-type {\n",
       "        vertical-align: middle;\n",
       "    }\n",
       "\n",
       "    .dataframe tbody tr th {\n",
       "        vertical-align: top;\n",
       "    }\n",
       "\n",
       "    .dataframe thead th {\n",
       "        text-align: right;\n",
       "    }\n",
       "</style>\n",
       "<table border=\"1\" class=\"dataframe\">\n",
       "  <thead>\n",
       "    <tr style=\"text-align: right;\">\n",
       "      <th></th>\n",
       "      <th>id</th>\n",
       "      <th>f0</th>\n",
       "      <th>f1</th>\n",
       "      <th>f2</th>\n",
       "      <th>product</th>\n",
       "    </tr>\n",
       "  </thead>\n",
       "  <tbody>\n",
       "    <tr>\n",
       "      <th>0</th>\n",
       "      <td>fwXo0</td>\n",
       "      <td>-1.146987</td>\n",
       "      <td>0.963328</td>\n",
       "      <td>-0.828965</td>\n",
       "      <td>27.758673</td>\n",
       "    </tr>\n",
       "    <tr>\n",
       "      <th>1</th>\n",
       "      <td>WJtFt</td>\n",
       "      <td>0.262778</td>\n",
       "      <td>0.269839</td>\n",
       "      <td>-2.530187</td>\n",
       "      <td>56.069697</td>\n",
       "    </tr>\n",
       "    <tr>\n",
       "      <th>2</th>\n",
       "      <td>ovLUW</td>\n",
       "      <td>0.194587</td>\n",
       "      <td>0.289035</td>\n",
       "      <td>-5.586433</td>\n",
       "      <td>62.871910</td>\n",
       "    </tr>\n",
       "    <tr>\n",
       "      <th>3</th>\n",
       "      <td>q6cA6</td>\n",
       "      <td>2.236060</td>\n",
       "      <td>-0.553760</td>\n",
       "      <td>0.930038</td>\n",
       "      <td>114.572842</td>\n",
       "    </tr>\n",
       "    <tr>\n",
       "      <th>4</th>\n",
       "      <td>WPMUX</td>\n",
       "      <td>-0.515993</td>\n",
       "      <td>1.716266</td>\n",
       "      <td>5.899011</td>\n",
       "      <td>149.600746</td>\n",
       "    </tr>\n",
       "  </tbody>\n",
       "</table>\n",
       "</div>"
      ],
      "text/plain": [
       "      id        f0        f1        f2     product\n",
       "0  fwXo0 -1.146987  0.963328 -0.828965   27.758673\n",
       "1  WJtFt  0.262778  0.269839 -2.530187   56.069697\n",
       "2  ovLUW  0.194587  0.289035 -5.586433   62.871910\n",
       "3  q6cA6  2.236060 -0.553760  0.930038  114.572842\n",
       "4  WPMUX -0.515993  1.716266  5.899011  149.600746"
      ]
     },
     "execution_count": 5,
     "metadata": {},
     "output_type": "execute_result"
    }
   ],
   "source": [
    "reg_3.head(5)"
   ]
  },
  {
   "cell_type": "code",
   "execution_count": 6,
   "metadata": {},
   "outputs": [
    {
     "name": "stdout",
     "output_type": "stream",
     "text": [
      "<class 'pandas.core.frame.DataFrame'>\n",
      "RangeIndex: 100000 entries, 0 to 99999\n",
      "Data columns (total 5 columns):\n",
      " #   Column   Non-Null Count   Dtype  \n",
      "---  ------   --------------   -----  \n",
      " 0   id       100000 non-null  object \n",
      " 1   f0       100000 non-null  float64\n",
      " 2   f1       100000 non-null  float64\n",
      " 3   f2       100000 non-null  float64\n",
      " 4   product  100000 non-null  float64\n",
      "dtypes: float64(4), object(1)\n",
      "memory usage: 3.8+ MB\n"
     ]
    }
   ],
   "source": [
    "reg_1.info()"
   ]
  },
  {
   "cell_type": "code",
   "execution_count": 7,
   "metadata": {},
   "outputs": [
    {
     "name": "stdout",
     "output_type": "stream",
     "text": [
      "<class 'pandas.core.frame.DataFrame'>\n",
      "RangeIndex: 100000 entries, 0 to 99999\n",
      "Data columns (total 5 columns):\n",
      " #   Column   Non-Null Count   Dtype  \n",
      "---  ------   --------------   -----  \n",
      " 0   id       100000 non-null  object \n",
      " 1   f0       100000 non-null  float64\n",
      " 2   f1       100000 non-null  float64\n",
      " 3   f2       100000 non-null  float64\n",
      " 4   product  100000 non-null  float64\n",
      "dtypes: float64(4), object(1)\n",
      "memory usage: 3.8+ MB\n"
     ]
    }
   ],
   "source": [
    "reg_2.info()"
   ]
  },
  {
   "cell_type": "code",
   "execution_count": 8,
   "metadata": {},
   "outputs": [
    {
     "name": "stdout",
     "output_type": "stream",
     "text": [
      "<class 'pandas.core.frame.DataFrame'>\n",
      "RangeIndex: 100000 entries, 0 to 99999\n",
      "Data columns (total 5 columns):\n",
      " #   Column   Non-Null Count   Dtype  \n",
      "---  ------   --------------   -----  \n",
      " 0   id       100000 non-null  object \n",
      " 1   f0       100000 non-null  float64\n",
      " 2   f1       100000 non-null  float64\n",
      " 3   f2       100000 non-null  float64\n",
      " 4   product  100000 non-null  float64\n",
      "dtypes: float64(4), object(1)\n",
      "memory usage: 3.8+ MB\n"
     ]
    }
   ],
   "source": [
    "reg_3.info()"
   ]
  },
  {
   "cell_type": "markdown",
   "metadata": {},
   "source": [
    "Пропусков в данных не выявлено."
   ]
  },
  {
   "cell_type": "markdown",
   "metadata": {},
   "source": [
    "- id — идентификатор скважины\n",
    "- f0, f1, f2 — три признака точек\n",
    "- product — объём запасов в скважине "
   ]
  },
  {
   "cell_type": "code",
   "execution_count": 9,
   "metadata": {},
   "outputs": [
    {
     "data": {
      "text/html": [
       "<div>\n",
       "<style scoped>\n",
       "    .dataframe tbody tr th:only-of-type {\n",
       "        vertical-align: middle;\n",
       "    }\n",
       "\n",
       "    .dataframe tbody tr th {\n",
       "        vertical-align: top;\n",
       "    }\n",
       "\n",
       "    .dataframe thead th {\n",
       "        text-align: right;\n",
       "    }\n",
       "</style>\n",
       "<table border=\"1\" class=\"dataframe\">\n",
       "  <thead>\n",
       "    <tr style=\"text-align: right;\">\n",
       "      <th></th>\n",
       "      <th>f0</th>\n",
       "      <th>f1</th>\n",
       "      <th>f2</th>\n",
       "      <th>product</th>\n",
       "    </tr>\n",
       "  </thead>\n",
       "  <tbody>\n",
       "    <tr>\n",
       "      <th>count</th>\n",
       "      <td>100000.000000</td>\n",
       "      <td>100000.000000</td>\n",
       "      <td>100000.000000</td>\n",
       "      <td>100000.000000</td>\n",
       "    </tr>\n",
       "    <tr>\n",
       "      <th>mean</th>\n",
       "      <td>0.500419</td>\n",
       "      <td>0.250143</td>\n",
       "      <td>2.502647</td>\n",
       "      <td>92.500000</td>\n",
       "    </tr>\n",
       "    <tr>\n",
       "      <th>std</th>\n",
       "      <td>0.871832</td>\n",
       "      <td>0.504433</td>\n",
       "      <td>3.248248</td>\n",
       "      <td>44.288691</td>\n",
       "    </tr>\n",
       "    <tr>\n",
       "      <th>min</th>\n",
       "      <td>-1.408605</td>\n",
       "      <td>-0.848218</td>\n",
       "      <td>-12.088328</td>\n",
       "      <td>0.000000</td>\n",
       "    </tr>\n",
       "    <tr>\n",
       "      <th>25%</th>\n",
       "      <td>-0.072580</td>\n",
       "      <td>-0.200881</td>\n",
       "      <td>0.287748</td>\n",
       "      <td>56.497507</td>\n",
       "    </tr>\n",
       "    <tr>\n",
       "      <th>50%</th>\n",
       "      <td>0.502360</td>\n",
       "      <td>0.250252</td>\n",
       "      <td>2.515969</td>\n",
       "      <td>91.849972</td>\n",
       "    </tr>\n",
       "    <tr>\n",
       "      <th>75%</th>\n",
       "      <td>1.073581</td>\n",
       "      <td>0.700646</td>\n",
       "      <td>4.715088</td>\n",
       "      <td>128.564089</td>\n",
       "    </tr>\n",
       "    <tr>\n",
       "      <th>max</th>\n",
       "      <td>2.362331</td>\n",
       "      <td>1.343769</td>\n",
       "      <td>16.003790</td>\n",
       "      <td>185.364347</td>\n",
       "    </tr>\n",
       "  </tbody>\n",
       "</table>\n",
       "</div>"
      ],
      "text/plain": [
       "                  f0             f1             f2        product\n",
       "count  100000.000000  100000.000000  100000.000000  100000.000000\n",
       "mean        0.500419       0.250143       2.502647      92.500000\n",
       "std         0.871832       0.504433       3.248248      44.288691\n",
       "min        -1.408605      -0.848218     -12.088328       0.000000\n",
       "25%        -0.072580      -0.200881       0.287748      56.497507\n",
       "50%         0.502360       0.250252       2.515969      91.849972\n",
       "75%         1.073581       0.700646       4.715088     128.564089\n",
       "max         2.362331       1.343769      16.003790     185.364347"
      ]
     },
     "execution_count": 9,
     "metadata": {},
     "output_type": "execute_result"
    }
   ],
   "source": [
    "reg_1.describe()"
   ]
  },
  {
   "cell_type": "code",
   "execution_count": 10,
   "metadata": {},
   "outputs": [
    {
     "data": {
      "text/html": [
       "<div>\n",
       "<style scoped>\n",
       "    .dataframe tbody tr th:only-of-type {\n",
       "        vertical-align: middle;\n",
       "    }\n",
       "\n",
       "    .dataframe tbody tr th {\n",
       "        vertical-align: top;\n",
       "    }\n",
       "\n",
       "    .dataframe thead th {\n",
       "        text-align: right;\n",
       "    }\n",
       "</style>\n",
       "<table border=\"1\" class=\"dataframe\">\n",
       "  <thead>\n",
       "    <tr style=\"text-align: right;\">\n",
       "      <th></th>\n",
       "      <th>f0</th>\n",
       "      <th>f1</th>\n",
       "      <th>f2</th>\n",
       "      <th>product</th>\n",
       "    </tr>\n",
       "  </thead>\n",
       "  <tbody>\n",
       "    <tr>\n",
       "      <th>count</th>\n",
       "      <td>100000.000000</td>\n",
       "      <td>100000.000000</td>\n",
       "      <td>100000.000000</td>\n",
       "      <td>100000.000000</td>\n",
       "    </tr>\n",
       "    <tr>\n",
       "      <th>mean</th>\n",
       "      <td>1.141296</td>\n",
       "      <td>-4.796579</td>\n",
       "      <td>2.494541</td>\n",
       "      <td>68.825000</td>\n",
       "    </tr>\n",
       "    <tr>\n",
       "      <th>std</th>\n",
       "      <td>8.965932</td>\n",
       "      <td>5.119872</td>\n",
       "      <td>1.703572</td>\n",
       "      <td>45.944423</td>\n",
       "    </tr>\n",
       "    <tr>\n",
       "      <th>min</th>\n",
       "      <td>-31.609576</td>\n",
       "      <td>-26.358598</td>\n",
       "      <td>-0.018144</td>\n",
       "      <td>0.000000</td>\n",
       "    </tr>\n",
       "    <tr>\n",
       "      <th>25%</th>\n",
       "      <td>-6.298551</td>\n",
       "      <td>-8.267985</td>\n",
       "      <td>1.000021</td>\n",
       "      <td>26.953261</td>\n",
       "    </tr>\n",
       "    <tr>\n",
       "      <th>50%</th>\n",
       "      <td>1.153055</td>\n",
       "      <td>-4.813172</td>\n",
       "      <td>2.011479</td>\n",
       "      <td>57.085625</td>\n",
       "    </tr>\n",
       "    <tr>\n",
       "      <th>75%</th>\n",
       "      <td>8.621015</td>\n",
       "      <td>-1.332816</td>\n",
       "      <td>3.999904</td>\n",
       "      <td>107.813044</td>\n",
       "    </tr>\n",
       "    <tr>\n",
       "      <th>max</th>\n",
       "      <td>29.421755</td>\n",
       "      <td>18.734063</td>\n",
       "      <td>5.019721</td>\n",
       "      <td>137.945408</td>\n",
       "    </tr>\n",
       "  </tbody>\n",
       "</table>\n",
       "</div>"
      ],
      "text/plain": [
       "                  f0             f1             f2        product\n",
       "count  100000.000000  100000.000000  100000.000000  100000.000000\n",
       "mean        1.141296      -4.796579       2.494541      68.825000\n",
       "std         8.965932       5.119872       1.703572      45.944423\n",
       "min       -31.609576     -26.358598      -0.018144       0.000000\n",
       "25%        -6.298551      -8.267985       1.000021      26.953261\n",
       "50%         1.153055      -4.813172       2.011479      57.085625\n",
       "75%         8.621015      -1.332816       3.999904     107.813044\n",
       "max        29.421755      18.734063       5.019721     137.945408"
      ]
     },
     "execution_count": 10,
     "metadata": {},
     "output_type": "execute_result"
    }
   ],
   "source": [
    "reg_2.describe()"
   ]
  },
  {
   "cell_type": "code",
   "execution_count": 11,
   "metadata": {},
   "outputs": [
    {
     "data": {
      "text/html": [
       "<div>\n",
       "<style scoped>\n",
       "    .dataframe tbody tr th:only-of-type {\n",
       "        vertical-align: middle;\n",
       "    }\n",
       "\n",
       "    .dataframe tbody tr th {\n",
       "        vertical-align: top;\n",
       "    }\n",
       "\n",
       "    .dataframe thead th {\n",
       "        text-align: right;\n",
       "    }\n",
       "</style>\n",
       "<table border=\"1\" class=\"dataframe\">\n",
       "  <thead>\n",
       "    <tr style=\"text-align: right;\">\n",
       "      <th></th>\n",
       "      <th>f0</th>\n",
       "      <th>f1</th>\n",
       "      <th>f2</th>\n",
       "      <th>product</th>\n",
       "    </tr>\n",
       "  </thead>\n",
       "  <tbody>\n",
       "    <tr>\n",
       "      <th>count</th>\n",
       "      <td>100000.000000</td>\n",
       "      <td>100000.000000</td>\n",
       "      <td>100000.000000</td>\n",
       "      <td>100000.000000</td>\n",
       "    </tr>\n",
       "    <tr>\n",
       "      <th>mean</th>\n",
       "      <td>0.002023</td>\n",
       "      <td>-0.002081</td>\n",
       "      <td>2.495128</td>\n",
       "      <td>95.000000</td>\n",
       "    </tr>\n",
       "    <tr>\n",
       "      <th>std</th>\n",
       "      <td>1.732045</td>\n",
       "      <td>1.730417</td>\n",
       "      <td>3.473445</td>\n",
       "      <td>44.749921</td>\n",
       "    </tr>\n",
       "    <tr>\n",
       "      <th>min</th>\n",
       "      <td>-8.760004</td>\n",
       "      <td>-7.084020</td>\n",
       "      <td>-11.970335</td>\n",
       "      <td>0.000000</td>\n",
       "    </tr>\n",
       "    <tr>\n",
       "      <th>25%</th>\n",
       "      <td>-1.162288</td>\n",
       "      <td>-1.174820</td>\n",
       "      <td>0.130359</td>\n",
       "      <td>59.450441</td>\n",
       "    </tr>\n",
       "    <tr>\n",
       "      <th>50%</th>\n",
       "      <td>0.009424</td>\n",
       "      <td>-0.009482</td>\n",
       "      <td>2.484236</td>\n",
       "      <td>94.925613</td>\n",
       "    </tr>\n",
       "    <tr>\n",
       "      <th>75%</th>\n",
       "      <td>1.158535</td>\n",
       "      <td>1.163678</td>\n",
       "      <td>4.858794</td>\n",
       "      <td>130.595027</td>\n",
       "    </tr>\n",
       "    <tr>\n",
       "      <th>max</th>\n",
       "      <td>7.238262</td>\n",
       "      <td>7.844801</td>\n",
       "      <td>16.739402</td>\n",
       "      <td>190.029838</td>\n",
       "    </tr>\n",
       "  </tbody>\n",
       "</table>\n",
       "</div>"
      ],
      "text/plain": [
       "                  f0             f1             f2        product\n",
       "count  100000.000000  100000.000000  100000.000000  100000.000000\n",
       "mean        0.002023      -0.002081       2.495128      95.000000\n",
       "std         1.732045       1.730417       3.473445      44.749921\n",
       "min        -8.760004      -7.084020     -11.970335       0.000000\n",
       "25%        -1.162288      -1.174820       0.130359      59.450441\n",
       "50%         0.009424      -0.009482       2.484236      94.925613\n",
       "75%         1.158535       1.163678       4.858794     130.595027\n",
       "max         7.238262       7.844801      16.739402     190.029838"
      ]
     },
     "execution_count": 11,
     "metadata": {},
     "output_type": "execute_result"
    }
   ],
   "source": [
    "reg_3.describe()"
   ]
  },
  {
   "cell_type": "markdown",
   "metadata": {},
   "source": [
    "**Дубликаты**"
   ]
  },
  {
   "cell_type": "code",
   "execution_count": 12,
   "metadata": {},
   "outputs": [
    {
     "name": "stdout",
     "output_type": "stream",
     "text": [
      "Количество полных дубликатов по региону 1: 0\n",
      "Количество полных дубликатов по региону 2: 0\n",
      "Количество полных дубликатов по региону 3: 0\n"
     ]
    }
   ],
   "source": [
    "print('Количество полных дубликатов по региону 1:', reg_1.duplicated().sum())\n",
    "print('Количество полных дубликатов по региону 2:', reg_2.duplicated().sum())\n",
    "print('Количество полных дубликатов по региону 3:', reg_3.duplicated().sum())"
   ]
  },
  {
   "cell_type": "markdown",
   "metadata": {},
   "source": [
    "**Распределение переменных**"
   ]
  },
  {
   "cell_type": "code",
   "execution_count": 13,
   "metadata": {},
   "outputs": [
    {
     "data": {
      "image/png": "[encoded data removed]",
      "text/plain": [
       "<Figure size 1080x720 with 4 Axes>"
      ]
     },
     "metadata": {
      "needs_background": "light"
     },
     "output_type": "display_data"
    }
   ],
   "source": [
    "reg_1.hist(bins=50, figsize=(15,10))\n",
    "plt.show()"
   ]
  },
  {
   "cell_type": "code",
   "execution_count": 14,
   "metadata": {},
   "outputs": [
    {
     "data": {
      "image/png": "[encoded data removed]",
      "text/plain": [
       "<Figure size 1080x720 with 4 Axes>"
      ]
     },
     "metadata": {
      "needs_background": "light"
     },
     "output_type": "display_data"
    }
   ],
   "source": [
    "reg_2.hist(bins=50, figsize=(15,10))\n",
    "plt.show()"
   ]
  },
  {
   "cell_type": "code",
   "execution_count": 15,
   "metadata": {},
   "outputs": [
    {
     "data": {
      "image/png": "[encoded data removed]",
      "text/plain": [
       "<Figure size 1080x720 with 4 Axes>"
      ]
     },
     "metadata": {
      "needs_background": "light"
     },
     "output_type": "display_data"
    }
   ],
   "source": [
    "reg_3.hist(bins=50, figsize=(15,10))\n",
    "plt.show()"
   ]
  },
  {
   "cell_type": "code",
   "execution_count": 16,
   "metadata": {},
   "outputs": [
    {
     "data": {
      "text/html": [
       "<div>\n",
       "<style scoped>\n",
       "    .dataframe tbody tr th:only-of-type {\n",
       "        vertical-align: middle;\n",
       "    }\n",
       "\n",
       "    .dataframe tbody tr th {\n",
       "        vertical-align: top;\n",
       "    }\n",
       "\n",
       "    .dataframe thead th {\n",
       "        text-align: right;\n",
       "    }\n",
       "</style>\n",
       "<table border=\"1\" class=\"dataframe\">\n",
       "  <thead>\n",
       "    <tr style=\"text-align: right;\">\n",
       "      <th></th>\n",
       "      <th>f0</th>\n",
       "      <th>f1</th>\n",
       "      <th>f2</th>\n",
       "      <th>product</th>\n",
       "    </tr>\n",
       "  </thead>\n",
       "  <tbody>\n",
       "    <tr>\n",
       "      <th>f0</th>\n",
       "      <td>1.000000</td>\n",
       "      <td>-0.440723</td>\n",
       "      <td>-0.003153</td>\n",
       "      <td>0.143536</td>\n",
       "    </tr>\n",
       "    <tr>\n",
       "      <th>f1</th>\n",
       "      <td>-0.440723</td>\n",
       "      <td>1.000000</td>\n",
       "      <td>0.001724</td>\n",
       "      <td>-0.192356</td>\n",
       "    </tr>\n",
       "    <tr>\n",
       "      <th>f2</th>\n",
       "      <td>-0.003153</td>\n",
       "      <td>0.001724</td>\n",
       "      <td>1.000000</td>\n",
       "      <td>0.483663</td>\n",
       "    </tr>\n",
       "    <tr>\n",
       "      <th>product</th>\n",
       "      <td>0.143536</td>\n",
       "      <td>-0.192356</td>\n",
       "      <td>0.483663</td>\n",
       "      <td>1.000000</td>\n",
       "    </tr>\n",
       "  </tbody>\n",
       "</table>\n",
       "</div>"
      ],
      "text/plain": [
       "               f0        f1        f2   product\n",
       "f0       1.000000 -0.440723 -0.003153  0.143536\n",
       "f1      -0.440723  1.000000  0.001724 -0.192356\n",
       "f2      -0.003153  0.001724  1.000000  0.483663\n",
       "product  0.143536 -0.192356  0.483663  1.000000"
      ]
     },
     "execution_count": 16,
     "metadata": {},
     "output_type": "execute_result"
    }
   ],
   "source": [
    "reg_1.corr()"
   ]
  },
  {
   "cell_type": "code",
   "execution_count": 17,
   "metadata": {},
   "outputs": [
    {
     "data": {
      "text/html": [
       "<div>\n",
       "<style scoped>\n",
       "    .dataframe tbody tr th:only-of-type {\n",
       "        vertical-align: middle;\n",
       "    }\n",
       "\n",
       "    .dataframe tbody tr th {\n",
       "        vertical-align: top;\n",
       "    }\n",
       "\n",
       "    .dataframe thead th {\n",
       "        text-align: right;\n",
       "    }\n",
       "</style>\n",
       "<table border=\"1\" class=\"dataframe\">\n",
       "  <thead>\n",
       "    <tr style=\"text-align: right;\">\n",
       "      <th></th>\n",
       "      <th>f0</th>\n",
       "      <th>f1</th>\n",
       "      <th>f2</th>\n",
       "      <th>product</th>\n",
       "    </tr>\n",
       "  </thead>\n",
       "  <tbody>\n",
       "    <tr>\n",
       "      <th>f0</th>\n",
       "      <td>1.000000</td>\n",
       "      <td>0.182287</td>\n",
       "      <td>-0.001777</td>\n",
       "      <td>-0.030491</td>\n",
       "    </tr>\n",
       "    <tr>\n",
       "      <th>f1</th>\n",
       "      <td>0.182287</td>\n",
       "      <td>1.000000</td>\n",
       "      <td>-0.002595</td>\n",
       "      <td>-0.010155</td>\n",
       "    </tr>\n",
       "    <tr>\n",
       "      <th>f2</th>\n",
       "      <td>-0.001777</td>\n",
       "      <td>-0.002595</td>\n",
       "      <td>1.000000</td>\n",
       "      <td>0.999397</td>\n",
       "    </tr>\n",
       "    <tr>\n",
       "      <th>product</th>\n",
       "      <td>-0.030491</td>\n",
       "      <td>-0.010155</td>\n",
       "      <td>0.999397</td>\n",
       "      <td>1.000000</td>\n",
       "    </tr>\n",
       "  </tbody>\n",
       "</table>\n",
       "</div>"
      ],
      "text/plain": [
       "               f0        f1        f2   product\n",
       "f0       1.000000  0.182287 -0.001777 -0.030491\n",
       "f1       0.182287  1.000000 -0.002595 -0.010155\n",
       "f2      -0.001777 -0.002595  1.000000  0.999397\n",
       "product -0.030491 -0.010155  0.999397  1.000000"
      ]
     },
     "execution_count": 17,
     "metadata": {},
     "output_type": "execute_result"
    }
   ],
   "source": [
    "reg_2.corr()"
   ]
  },
  {
   "cell_type": "code",
   "execution_count": 18,
   "metadata": {},
   "outputs": [
    {
     "data": {
      "text/html": [
       "<div>\n",
       "<style scoped>\n",
       "    .dataframe tbody tr th:only-of-type {\n",
       "        vertical-align: middle;\n",
       "    }\n",
       "\n",
       "    .dataframe tbody tr th {\n",
       "        vertical-align: top;\n",
       "    }\n",
       "\n",
       "    .dataframe thead th {\n",
       "        text-align: right;\n",
       "    }\n",
       "</style>\n",
       "<table border=\"1\" class=\"dataframe\">\n",
       "  <thead>\n",
       "    <tr style=\"text-align: right;\">\n",
       "      <th></th>\n",
       "      <th>f0</th>\n",
       "      <th>f1</th>\n",
       "      <th>f2</th>\n",
       "      <th>product</th>\n",
       "    </tr>\n",
       "  </thead>\n",
       "  <tbody>\n",
       "    <tr>\n",
       "      <th>f0</th>\n",
       "      <td>1.000000</td>\n",
       "      <td>0.000528</td>\n",
       "      <td>-0.000448</td>\n",
       "      <td>-0.001987</td>\n",
       "    </tr>\n",
       "    <tr>\n",
       "      <th>f1</th>\n",
       "      <td>0.000528</td>\n",
       "      <td>1.000000</td>\n",
       "      <td>0.000779</td>\n",
       "      <td>-0.001012</td>\n",
       "    </tr>\n",
       "    <tr>\n",
       "      <th>f2</th>\n",
       "      <td>-0.000448</td>\n",
       "      <td>0.000779</td>\n",
       "      <td>1.000000</td>\n",
       "      <td>0.445871</td>\n",
       "    </tr>\n",
       "    <tr>\n",
       "      <th>product</th>\n",
       "      <td>-0.001987</td>\n",
       "      <td>-0.001012</td>\n",
       "      <td>0.445871</td>\n",
       "      <td>1.000000</td>\n",
       "    </tr>\n",
       "  </tbody>\n",
       "</table>\n",
       "</div>"
      ],
      "text/plain": [
       "               f0        f1        f2   product\n",
       "f0       1.000000  0.000528 -0.000448 -0.001987\n",
       "f1       0.000528  1.000000  0.000779 -0.001012\n",
       "f2      -0.000448  0.000779  1.000000  0.445871\n",
       "product -0.001987 -0.001012  0.445871  1.000000"
      ]
     },
     "execution_count": 18,
     "metadata": {},
     "output_type": "execute_result"
    }
   ],
   "source": [
    "reg_3.corr()"
   ]
  },
  {
   "cell_type": "markdown",
   "metadata": {},
   "source": [
    "**Удаление столбца ID**"
   ]
  },
  {
   "cell_type": "code",
   "execution_count": 19,
   "metadata": {},
   "outputs": [],
   "source": [
    "df_1 = reg_1.drop('id', axis=1)\n",
    "df_2 = reg_2.drop('id', axis=1)\n",
    "df_3 = reg_3.drop('id', axis=1)"
   ]
  },
  {
   "cell_type": "markdown",
   "metadata": {},
   "source": [
    "**Вывод**  \n",
    "Без понимания смысла признаков затруднительно проверить наличие шума и аномалий в типах признаков точек.  \n",
    "Признак id малополезен для обучения модели, поэтому он удален из датасетов.  \n",
    "По датасету №2 обнаружено алогичное распределение по фичам: f2 и product. Корректность данных по вопросом. Следует уточнить у коллег, почему данные по второму региону так разительно отличаются от первого и третьего регионов. "
   ]
  },
  {
   "cell_type": "markdown",
   "metadata": {},
   "source": [
    "## Обучение и проверка модели"
   ]
  },
  {
   "cell_type": "markdown",
   "metadata": {},
   "source": [
    "Линейная регрессия"
   ]
  },
  {
   "cell_type": "code",
   "execution_count": 20,
   "metadata": {},
   "outputs": [],
   "source": [
    "model = LinearRegression()"
   ]
  },
  {
   "cell_type": "markdown",
   "metadata": {},
   "source": [
    "Параметры для подбора"
   ]
  },
  {
   "cell_type": "code",
   "execution_count": 21,
   "metadata": {},
   "outputs": [],
   "source": [
    "par_grid = {\n",
    "              'fit_intercept':[True, False], \n",
    "              'normalize':[True, False], \n",
    "              'copy_X':[True, False]\n",
    "         }\n"
   ]
  },
  {
   "cell_type": "markdown",
   "metadata": {},
   "source": [
    "Регион 1"
   ]
  },
  {
   "cell_type": "code",
   "execution_count": 22,
   "metadata": {},
   "outputs": [],
   "source": [
    "# функция разделения выборки на фичи и таргеты\n",
    "def split_data(data, target_column):\n",
    "    return data.drop(columns=[target_column], axis=1), data[target_column]\n"
   ]
  },
  {
   "cell_type": "code",
   "execution_count": 23,
   "metadata": {},
   "outputs": [],
   "source": [
    "features_1, target_1 = split_data(df_1,'product')\n",
    "X_train_1, X_test_1, y_train_1, y_test_1 = ( \n",
    "                                     train_test_split(\n",
    "                                     features_1, target_1, test_size=.25, \n",
    "                                      random_state=1589)\n",
    "                                     )"
   ]
  },
  {
   "cell_type": "code",
   "execution_count": 24,
   "metadata": {},
   "outputs": [],
   "source": [
    "grid_search = GridSearchCV(model, par_grid, cv=5)\n",
    "grid_search.fit(X_train_1, y_train_1)\n",
    "lr_1 = grid_search.best_estimator_"
   ]
  },
  {
   "cell_type": "code",
   "execution_count": 25,
   "metadata": {},
   "outputs": [],
   "source": [
    "predicted_prod_1 = lr_1.predict(X_test_1)"
   ]
  },
  {
   "cell_type": "code",
   "execution_count": 26,
   "metadata": {},
   "outputs": [],
   "source": [
    "def report(rep, y, region, pred):\n",
    "    rep = pd.DataFrame(y)\n",
    "    rep['predicted'] = pred\n",
    "    rep['region'] = region\n",
    "    return rep"
   ]
  },
  {
   "cell_type": "code",
   "execution_count": 27,
   "metadata": {},
   "outputs": [
    {
     "data": {
      "text/html": [
       "<div>\n",
       "<style scoped>\n",
       "    .dataframe tbody tr th:only-of-type {\n",
       "        vertical-align: middle;\n",
       "    }\n",
       "\n",
       "    .dataframe tbody tr th {\n",
       "        vertical-align: top;\n",
       "    }\n",
       "\n",
       "    .dataframe thead th {\n",
       "        text-align: right;\n",
       "    }\n",
       "</style>\n",
       "<table border=\"1\" class=\"dataframe\">\n",
       "  <thead>\n",
       "    <tr style=\"text-align: right;\">\n",
       "      <th></th>\n",
       "      <th>product</th>\n",
       "      <th>predicted</th>\n",
       "      <th>region</th>\n",
       "    </tr>\n",
       "  </thead>\n",
       "  <tbody>\n",
       "    <tr>\n",
       "      <th>67799</th>\n",
       "      <td>159.898358</td>\n",
       "      <td>138.261314</td>\n",
       "      <td>1</td>\n",
       "    </tr>\n",
       "    <tr>\n",
       "      <th>89387</th>\n",
       "      <td>95.882141</td>\n",
       "      <td>113.621241</td>\n",
       "      <td>1</td>\n",
       "    </tr>\n",
       "    <tr>\n",
       "      <th>36175</th>\n",
       "      <td>112.308916</td>\n",
       "      <td>129.709500</td>\n",
       "      <td>1</td>\n",
       "    </tr>\n",
       "    <tr>\n",
       "      <th>34868</th>\n",
       "      <td>110.996795</td>\n",
       "      <td>62.774885</td>\n",
       "      <td>1</td>\n",
       "    </tr>\n",
       "    <tr>\n",
       "      <th>97580</th>\n",
       "      <td>87.723043</td>\n",
       "      <td>90.824260</td>\n",
       "      <td>1</td>\n",
       "    </tr>\n",
       "  </tbody>\n",
       "</table>\n",
       "</div>"
      ],
      "text/plain": [
       "          product   predicted  region\n",
       "67799  159.898358  138.261314       1\n",
       "89387   95.882141  113.621241       1\n",
       "36175  112.308916  129.709500       1\n",
       "34868  110.996795   62.774885       1\n",
       "97580   87.723043   90.824260       1"
      ]
     },
     "execution_count": 27,
     "metadata": {},
     "output_type": "execute_result"
    }
   ],
   "source": [
    "reg_1_report = []\n",
    "reg_1_report = report(reg_1_report, y_test_1, 1, predicted_prod_1)\n",
    "reg_1_report.head()"
   ]
  },
  {
   "cell_type": "code",
   "execution_count": 28,
   "metadata": {},
   "outputs": [
    {
     "name": "stdout",
     "output_type": "stream",
     "text": [
      "Средние запасы в региону: 92.20564421296301\n",
      " MSE:1429.8372137283825\n",
      " MAE:31.11398563068198\n",
      " RMSE:37.81318835708492\n"
     ]
    }
   ],
   "source": [
    "def prms(report, true, pred):\n",
    "    return print(f'Средние запасы в региону: {report.mean()}\\n',\n",
    "                f'MSE:{mean_squared_error(true, pred)}\\n',\n",
    "                f'MAE:{mean_absolute_error(true, pred)}\\n',\n",
    "                f'RMSE:{np.sqrt(mean_squared_error(true, pred))}')\n",
    "prms(reg_1_report['predicted'], y_test_1, predicted_prod_1)"
   ]
  },
  {
   "cell_type": "markdown",
   "metadata": {},
   "source": [
    "**Вывод:**\n",
    "\n",
    "Модель предсказывает 92.2 тыс. баррелей нефти по региону  \n",
    "Среднеквадратичная ошибка прогноза - 1429.83  \n",
    "Квадратный корень из среднеквадратичной ошибки - 37.81  \n",
    "Средняя абсолютная ошибка для первого региона - 31.12"
   ]
  },
  {
   "cell_type": "markdown",
   "metadata": {},
   "source": [
    "Регион 2"
   ]
  },
  {
   "cell_type": "code",
   "execution_count": 29,
   "metadata": {},
   "outputs": [],
   "source": [
    "features_2, target_2 = split_data(df_2,'product')"
   ]
  },
  {
   "cell_type": "code",
   "execution_count": 30,
   "metadata": {},
   "outputs": [],
   "source": [
    "X_train_2, X_test_2, y_train_2, y_test_2 = ( \n",
    "                                     train_test_split(\n",
    "                                     features_2, target_2, test_size=.25, \n",
    "                                      random_state=1589)\n",
    "                                     )"
   ]
  },
  {
   "cell_type": "code",
   "execution_count": 31,
   "metadata": {},
   "outputs": [],
   "source": [
    "grid_search = GridSearchCV(model, par_grid, cv=5)\n",
    "grid_search.fit(X_train_2, y_train_2)\n",
    "lr_2 = grid_search.best_estimator_\n",
    "predicted_prod_2 = lr_2.predict(X_test_2)"
   ]
  },
  {
   "cell_type": "code",
   "execution_count": 32,
   "metadata": {},
   "outputs": [
    {
     "data": {
      "text/html": [
       "<div>\n",
       "<style scoped>\n",
       "    .dataframe tbody tr th:only-of-type {\n",
       "        vertical-align: middle;\n",
       "    }\n",
       "\n",
       "    .dataframe tbody tr th {\n",
       "        vertical-align: top;\n",
       "    }\n",
       "\n",
       "    .dataframe thead th {\n",
       "        text-align: right;\n",
       "    }\n",
       "</style>\n",
       "<table border=\"1\" class=\"dataframe\">\n",
       "  <thead>\n",
       "    <tr style=\"text-align: right;\">\n",
       "      <th></th>\n",
       "      <th>product</th>\n",
       "      <th>predicted</th>\n",
       "      <th>region</th>\n",
       "    </tr>\n",
       "  </thead>\n",
       "  <tbody>\n",
       "    <tr>\n",
       "      <th>67799</th>\n",
       "      <td>137.945408</td>\n",
       "      <td>138.603276</td>\n",
       "      <td>2</td>\n",
       "    </tr>\n",
       "    <tr>\n",
       "      <th>89387</th>\n",
       "      <td>26.953261</td>\n",
       "      <td>28.534749</td>\n",
       "      <td>2</td>\n",
       "    </tr>\n",
       "    <tr>\n",
       "      <th>36175</th>\n",
       "      <td>84.038886</td>\n",
       "      <td>83.254194</td>\n",
       "      <td>2</td>\n",
       "    </tr>\n",
       "    <tr>\n",
       "      <th>34868</th>\n",
       "      <td>30.132364</td>\n",
       "      <td>28.810559</td>\n",
       "      <td>2</td>\n",
       "    </tr>\n",
       "    <tr>\n",
       "      <th>97580</th>\n",
       "      <td>26.953261</td>\n",
       "      <td>28.788898</td>\n",
       "      <td>2</td>\n",
       "    </tr>\n",
       "  </tbody>\n",
       "</table>\n",
       "</div>"
      ],
      "text/plain": [
       "          product   predicted  region\n",
       "67799  137.945408  138.603276       2\n",
       "89387   26.953261   28.534749       2\n",
       "36175   84.038886   83.254194       2\n",
       "34868   30.132364   28.810559       2\n",
       "97580   26.953261   28.788898       2"
      ]
     },
     "execution_count": 32,
     "metadata": {},
     "output_type": "execute_result"
    }
   ],
   "source": [
    "reg_2_report = []\n",
    "reg_2_report = report(reg_2_report, y_test_2, 2, predicted_prod_2)\n",
    "reg_2_report.head()"
   ]
  },
  {
   "cell_type": "code",
   "execution_count": 33,
   "metadata": {},
   "outputs": [
    {
     "name": "stdout",
     "output_type": "stream",
     "text": [
      "Средние запасы в региону: 68.4860978315421\n",
      " MSE:0.7972533325844734\n",
      " MAE:0.7194678555764945\n",
      " RMSE:0.8928904370551145\n"
     ]
    }
   ],
   "source": [
    "prms(reg_2_report['predicted'], y_test_2, predicted_prod_2)"
   ]
  },
  {
   "cell_type": "markdown",
   "metadata": {},
   "source": [
    "**Вывод:**\n",
    "\n",
    "Модель предсказывает 68.48 тыс. баррелей нефти по региону  \n",
    "Среднеквадратичная ошибка прогноза - 0.79 \n",
    "Квадратный корень из среднеквадратичной ошибки - 0.71  \n",
    "Средняя абсолютная ошибка для первого региона - 0.89\n",
    "\n",
    "**Распределение данных и метрики значительно отличаются от первого и третьего региона, вероятно данные ошибочны или некорректны. Необходимо уточнить у заказчика**"
   ]
  },
  {
   "cell_type": "markdown",
   "metadata": {},
   "source": [
    "Регион 3"
   ]
  },
  {
   "cell_type": "code",
   "execution_count": 34,
   "metadata": {},
   "outputs": [],
   "source": [
    "features_3, target_3 = split_data(df_3,'product')"
   ]
  },
  {
   "cell_type": "code",
   "execution_count": 35,
   "metadata": {},
   "outputs": [],
   "source": [
    "X_train_3, X_test_3, y_train_3, y_test_3 = ( \n",
    "                                     train_test_split(\n",
    "                                     features_3, target_3, test_size=.25, \n",
    "                                      random_state=1589)\n",
    "                                     )"
   ]
  },
  {
   "cell_type": "code",
   "execution_count": 36,
   "metadata": {},
   "outputs": [],
   "source": [
    "grid_search = GridSearchCV(model, par_grid, cv=5)\n",
    "grid_search.fit(X_train_3, y_train_3)\n",
    "lr_3 = grid_search.best_estimator_\n",
    "predicted_prod_3 = lr_3.predict(X_test_3)"
   ]
  },
  {
   "cell_type": "code",
   "execution_count": 37,
   "metadata": {},
   "outputs": [
    {
     "data": {
      "text/html": [
       "<div>\n",
       "<style scoped>\n",
       "    .dataframe tbody tr th:only-of-type {\n",
       "        vertical-align: middle;\n",
       "    }\n",
       "\n",
       "    .dataframe tbody tr th {\n",
       "        vertical-align: top;\n",
       "    }\n",
       "\n",
       "    .dataframe thead th {\n",
       "        text-align: right;\n",
       "    }\n",
       "</style>\n",
       "<table border=\"1\" class=\"dataframe\">\n",
       "  <thead>\n",
       "    <tr style=\"text-align: right;\">\n",
       "      <th></th>\n",
       "      <th>product</th>\n",
       "      <th>predicted</th>\n",
       "      <th>region</th>\n",
       "    </tr>\n",
       "  </thead>\n",
       "  <tbody>\n",
       "    <tr>\n",
       "      <th>67799</th>\n",
       "      <td>51.682963</td>\n",
       "      <td>102.640412</td>\n",
       "      <td>3</td>\n",
       "    </tr>\n",
       "    <tr>\n",
       "      <th>89387</th>\n",
       "      <td>72.973424</td>\n",
       "      <td>71.153994</td>\n",
       "      <td>3</td>\n",
       "    </tr>\n",
       "    <tr>\n",
       "      <th>36175</th>\n",
       "      <td>164.029923</td>\n",
       "      <td>67.188506</td>\n",
       "      <td>3</td>\n",
       "    </tr>\n",
       "    <tr>\n",
       "      <th>34868</th>\n",
       "      <td>120.691336</td>\n",
       "      <td>107.248482</td>\n",
       "      <td>3</td>\n",
       "    </tr>\n",
       "    <tr>\n",
       "      <th>97580</th>\n",
       "      <td>37.604379</td>\n",
       "      <td>68.699091</td>\n",
       "      <td>3</td>\n",
       "    </tr>\n",
       "  </tbody>\n",
       "</table>\n",
       "</div>"
      ],
      "text/plain": [
       "          product   predicted  region\n",
       "67799   51.682963  102.640412       3\n",
       "89387   72.973424   71.153994       3\n",
       "36175  164.029923   67.188506       3\n",
       "34868  120.691336  107.248482       3\n",
       "97580   37.604379   68.699091       3"
      ]
     },
     "execution_count": 37,
     "metadata": {},
     "output_type": "execute_result"
    }
   ],
   "source": [
    "reg_3_report = []\n",
    "reg_3_report = report(reg_3_report, y_test_3, 3, predicted_prod_3)\n",
    "reg_3_report.head()"
   ]
  },
  {
   "cell_type": "code",
   "execution_count": 38,
   "metadata": {},
   "outputs": [
    {
     "name": "stdout",
     "output_type": "stream",
     "text": [
      "Средние запасы в региону: 95.06236588758902\n",
      " MSE:1606.6645410382546\n",
      " MAE:32.837657124296875\n",
      " RMSE:40.0832201929717\n"
     ]
    }
   ],
   "source": [
    "prms(reg_3_report['predicted'], y_test_3, predicted_prod_3)"
   ]
  },
  {
   "cell_type": "markdown",
   "metadata": {},
   "source": [
    "**Вывод:**\n",
    "\n",
    "Модель предсказывает 95.06 тыс. баррелей нефти по региону  \n",
    "Среднеквадратичная ошибка прогноза - 1 606.66  \n",
    "Квадратный корень из среднеквадратичной ошибки - 32.83  \n",
    "Средняя абсолютная ошибка для первого региона - 40.08\n",
    "\n",
    "**Данные похожи на данные первого региона и значительно отличаются от второго. Вероятно данные по второму региону некорректны**"
   ]
  },
  {
   "cell_type": "code",
   "execution_count": 39,
   "metadata": {},
   "outputs": [],
   "source": [
    "# функция сбора метрик по каждой модели\n",
    "results = []\n",
    "def big_data(report, true, pred, name):\n",
    "    mean_prod = report.mean()\n",
    "    mse = mean_squared_error(true, pred)\n",
    "    rmse = np.sqrt(mse)\n",
    "    mae = mean_absolute_error(true, pred)\n",
    "    r2 = r2_score(true, pred)\n",
    "    return results.append((name, mean_prod, mse, rmse, mae, r2))"
   ]
  },
  {
   "cell_type": "code",
   "execution_count": 40,
   "metadata": {},
   "outputs": [],
   "source": [
    "big_data(reg_1_report['predicted'], y_test_1, predicted_prod_1, 'Region_1')\n",
    "big_data(reg_2_report['predicted'], y_test_2, predicted_prod_2, 'Region_2')\n",
    "big_data(reg_3_report['predicted'], y_test_3, predicted_prod_3, 'Region_3')"
   ]
  },
  {
   "cell_type": "markdown",
   "metadata": {},
   "source": [
    "Объедининим итоги изучения моделей в один дф."
   ]
  },
  {
   "cell_type": "code",
   "execution_count": 41,
   "metadata": {},
   "outputs": [
    {
     "data": {
      "text/html": [
       "<div>\n",
       "<style scoped>\n",
       "    .dataframe tbody tr th:only-of-type {\n",
       "        vertical-align: middle;\n",
       "    }\n",
       "\n",
       "    .dataframe tbody tr th {\n",
       "        vertical-align: top;\n",
       "    }\n",
       "\n",
       "    .dataframe thead th {\n",
       "        text-align: right;\n",
       "    }\n",
       "</style>\n",
       "<table border=\"1\" class=\"dataframe\">\n",
       "  <thead>\n",
       "    <tr style=\"text-align: right;\">\n",
       "      <th></th>\n",
       "      <th>model</th>\n",
       "      <th>mean</th>\n",
       "      <th>mse</th>\n",
       "      <th>rmse</th>\n",
       "      <th>mae</th>\n",
       "      <th>r2</th>\n",
       "    </tr>\n",
       "  </thead>\n",
       "  <tbody>\n",
       "    <tr>\n",
       "      <th>0</th>\n",
       "      <td>Region_1</td>\n",
       "      <td>92.205644</td>\n",
       "      <td>1429.837214</td>\n",
       "      <td>37.813188</td>\n",
       "      <td>31.113986</td>\n",
       "      <td>0.270045</td>\n",
       "    </tr>\n",
       "    <tr>\n",
       "      <th>1</th>\n",
       "      <td>Region_2</td>\n",
       "      <td>68.486098</td>\n",
       "      <td>0.797253</td>\n",
       "      <td>0.892890</td>\n",
       "      <td>0.719468</td>\n",
       "      <td>0.999624</td>\n",
       "    </tr>\n",
       "    <tr>\n",
       "      <th>2</th>\n",
       "      <td>Region_3</td>\n",
       "      <td>95.062366</td>\n",
       "      <td>1606.664541</td>\n",
       "      <td>40.083220</td>\n",
       "      <td>32.837657</td>\n",
       "      <td>0.197502</td>\n",
       "    </tr>\n",
       "  </tbody>\n",
       "</table>\n",
       "</div>"
      ],
      "text/plain": [
       "      model       mean          mse       rmse        mae        r2\n",
       "0  Region_1  92.205644  1429.837214  37.813188  31.113986  0.270045\n",
       "1  Region_2  68.486098     0.797253   0.892890   0.719468  0.999624\n",
       "2  Region_3  95.062366  1606.664541  40.083220  32.837657  0.197502"
      ]
     },
     "execution_count": 41,
     "metadata": {},
     "output_type": "execute_result"
    }
   ],
   "source": [
    "reg_info = pd.DataFrame(results, columns=['model', 'mean', 'mse', 'rmse', 'mae', 'r2'])\n",
    "reg_info "
   ]
  },
  {
   "cell_type": "markdown",
   "metadata": {},
   "source": [
    "**Вывод**\n",
    "Модели линейной регрессии:\n",
    "- RMSE 1 модели: 37.81\n",
    "- RMSE 2 модели: 0.89\n",
    "- RMSE 3 модели: 40.08\n",
    "\n",
    "Средние запасы, предсказанные моделью:\n",
    "- Среднее 1 модели: 92.2\n",
    "- Среднее 2 модели: 68.4\n",
    "- Среднее 3 модели: 95.06"
   ]
  },
  {
   "cell_type": "markdown",
   "metadata": {},
   "source": [
    "## Подготовка к расчёту прибыли"
   ]
  },
  {
   "cell_type": "code",
   "execution_count": 42,
   "metadata": {},
   "outputs": [],
   "source": [
    "# константные переменные для расчёта прибыли\n",
    "BUDGET = 10*10**9\n",
    "ALL_HOLLES = 200\n",
    "BARELL_PRICE = 450*10**3\n",
    "GOOD_PRICE = int(BUDGET / ALL_HOLLES)"
   ]
  },
  {
   "cell_type": "markdown",
   "metadata": {},
   "source": [
    "Соберём данные в таблицу."
   ]
  },
  {
   "cell_type": "code",
   "execution_count": 43,
   "metadata": {},
   "outputs": [
    {
     "data": {
      "text/html": [
       "<div>\n",
       "<style scoped>\n",
       "    .dataframe tbody tr th:only-of-type {\n",
       "        vertical-align: middle;\n",
       "    }\n",
       "\n",
       "    .dataframe tbody tr th {\n",
       "        vertical-align: top;\n",
       "    }\n",
       "\n",
       "    .dataframe thead th {\n",
       "        text-align: right;\n",
       "    }\n",
       "</style>\n",
       "<table border=\"1\" class=\"dataframe\">\n",
       "  <thead>\n",
       "    <tr style=\"text-align: right;\">\n",
       "      <th></th>\n",
       "      <th>Бюджет, руб</th>\n",
       "      <th>Количество скважин, ед.</th>\n",
       "      <th>Стоимость бурения, руб</th>\n",
       "      <th>Цена за 1000 баррелей, руб</th>\n",
       "    </tr>\n",
       "  </thead>\n",
       "  <tbody>\n",
       "    <tr>\n",
       "      <th>0</th>\n",
       "      <td>10000000000</td>\n",
       "      <td>200</td>\n",
       "      <td>50000000</td>\n",
       "      <td>450000</td>\n",
       "    </tr>\n",
       "  </tbody>\n",
       "</table>\n",
       "</div>"
      ],
      "text/plain": [
       "   Бюджет, руб  Количество скважин, ед.  Стоимость бурения, руб  \\\n",
       "0  10000000000                      200                50000000   \n",
       "\n",
       "   Цена за 1000 баррелей, руб  \n",
       "0                      450000  "
      ]
     },
     "execution_count": 43,
     "metadata": {},
     "output_type": "execute_result"
    }
   ],
   "source": [
    "all_var = pd.DataFrame({'Бюджет, руб': [BUDGET], 'Количество скважин, ед.':[ALL_HOLLES],\n",
    "                        'Стоимость бурения, руб': [GOOD_PRICE], 'Цена за 1000 баррелей, руб':[BARELL_PRICE]}\n",
    "                       )\n",
    "\n",
    "all_var"
   ]
  },
  {
   "cell_type": "markdown",
   "metadata": {},
   "source": [
    "Точка безубыточности. Мин.запас на 1 скважину."
   ]
  },
  {
   "cell_type": "code",
   "execution_count": 44,
   "metadata": {},
   "outputs": [
    {
     "data": {
      "text/plain": [
       "111.11111111111111"
      ]
     },
     "execution_count": 44,
     "metadata": {},
     "output_type": "execute_result"
    }
   ],
   "source": [
    "OIL_BASE = GOOD_PRICE / BARELL_PRICE\n",
    "OIL_BASE "
   ]
  },
  {
   "cell_type": "code",
   "execution_count": 45,
   "metadata": {},
   "outputs": [
    {
     "data": {
      "text/html": [
       "<div>\n",
       "<style scoped>\n",
       "    .dataframe tbody tr th:only-of-type {\n",
       "        vertical-align: middle;\n",
       "    }\n",
       "\n",
       "    .dataframe tbody tr th {\n",
       "        vertical-align: top;\n",
       "    }\n",
       "\n",
       "    .dataframe thead th {\n",
       "        text-align: right;\n",
       "    }\n",
       "</style>\n",
       "<table border=\"1\" class=\"dataframe\">\n",
       "  <thead>\n",
       "    <tr style=\"text-align: right;\">\n",
       "      <th></th>\n",
       "      <th>model</th>\n",
       "      <th>mean</th>\n",
       "      <th>mse</th>\n",
       "      <th>rmse</th>\n",
       "      <th>mae</th>\n",
       "      <th>r2</th>\n",
       "      <th>difference</th>\n",
       "    </tr>\n",
       "  </thead>\n",
       "  <tbody>\n",
       "    <tr>\n",
       "      <th>0</th>\n",
       "      <td>Region_1</td>\n",
       "      <td>92.205644</td>\n",
       "      <td>1429.837214</td>\n",
       "      <td>37.813188</td>\n",
       "      <td>31.113986</td>\n",
       "      <td>0.270045</td>\n",
       "      <td>-18.905467</td>\n",
       "    </tr>\n",
       "    <tr>\n",
       "      <th>1</th>\n",
       "      <td>Region_2</td>\n",
       "      <td>68.486098</td>\n",
       "      <td>0.797253</td>\n",
       "      <td>0.892890</td>\n",
       "      <td>0.719468</td>\n",
       "      <td>0.999624</td>\n",
       "      <td>-42.625013</td>\n",
       "    </tr>\n",
       "    <tr>\n",
       "      <th>2</th>\n",
       "      <td>Region_3</td>\n",
       "      <td>95.062366</td>\n",
       "      <td>1606.664541</td>\n",
       "      <td>40.083220</td>\n",
       "      <td>32.837657</td>\n",
       "      <td>0.197502</td>\n",
       "      <td>-16.048745</td>\n",
       "    </tr>\n",
       "  </tbody>\n",
       "</table>\n",
       "</div>"
      ],
      "text/plain": [
       "      model       mean          mse       rmse        mae        r2  \\\n",
       "0  Region_1  92.205644  1429.837214  37.813188  31.113986  0.270045   \n",
       "1  Region_2  68.486098     0.797253   0.892890   0.719468  0.999624   \n",
       "2  Region_3  95.062366  1606.664541  40.083220  32.837657  0.197502   \n",
       "\n",
       "   difference  \n",
       "0  -18.905467  \n",
       "1  -42.625013  \n",
       "2  -16.048745  "
      ]
     },
     "execution_count": 45,
     "metadata": {},
     "output_type": "execute_result"
    }
   ],
   "source": [
    "reg_info['difference'] = reg_info['mean'] - OIL_BASE \n",
    "reg_info"
   ]
  },
  {
   "cell_type": "markdown",
   "metadata": {},
   "source": [
    "Выясним доли перспективных скважин по регионам."
   ]
  },
  {
   "cell_type": "code",
   "execution_count": 46,
   "metadata": {},
   "outputs": [
    {
     "data": {
      "text/plain": [
       "0.36812"
      ]
     },
     "execution_count": 46,
     "metadata": {},
     "output_type": "execute_result"
    }
   ],
   "source": [
    "reg_1_profit = reg_1_report.query('product >= 111.11').shape[0]/  reg_1_report.shape[0]\n",
    "reg_1_profit"
   ]
  },
  {
   "cell_type": "code",
   "execution_count": 47,
   "metadata": {},
   "outputs": [
    {
     "data": {
      "text/plain": [
       "0.1626"
      ]
     },
     "execution_count": 47,
     "metadata": {},
     "output_type": "execute_result"
    }
   ],
   "source": [
    "reg_2_profit = reg_2_report.query('product >= 111.11').shape[0]/  reg_2_report.shape[0]\n",
    "reg_2_profit"
   ]
  },
  {
   "cell_type": "code",
   "execution_count": 48,
   "metadata": {},
   "outputs": [
    {
     "data": {
      "text/plain": [
       "0.38308"
      ]
     },
     "execution_count": 48,
     "metadata": {},
     "output_type": "execute_result"
    }
   ],
   "source": [
    "reg_3_profit = reg_3_report.query('product >= 111.11').shape[0]/  reg_3_report.shape[0]\n",
    "reg_3_profit"
   ]
  },
  {
   "cell_type": "code",
   "execution_count": 49,
   "metadata": {},
   "outputs": [
    {
     "data": {
      "text/plain": [
       "6882500.000000002"
      ]
     },
     "execution_count": 49,
     "metadata": {},
     "output_type": "execute_result"
    }
   ],
   "source": [
    "reg_2['product'].sum()"
   ]
  },
  {
   "cell_type": "code",
   "execution_count": 50,
   "metadata": {},
   "outputs": [
    {
     "data": {
      "text/plain": [
       "9250000.000000002"
      ]
     },
     "execution_count": 50,
     "metadata": {},
     "output_type": "execute_result"
    }
   ],
   "source": [
    "reg_1['product'].sum()"
   ]
  },
  {
   "cell_type": "code",
   "execution_count": 51,
   "metadata": {},
   "outputs": [
    {
     "data": {
      "text/plain": [
       "9500000.000000004"
      ]
     },
     "execution_count": 51,
     "metadata": {},
     "output_type": "execute_result"
    }
   ],
   "source": [
    "reg_3['product'].sum()"
   ]
  },
  {
   "cell_type": "markdown",
   "metadata": {},
   "source": [
    "Доля безубыточных скважин:\n",
    "- Регион 1: 36%\n",
    "- Регион 2: 16%\n",
    "- Регион 3: 38%    \n",
    "\n",
    "**Вывод** \n",
    "В начальных данных регион 2 проигрывает региону 1 и 2 по запасам нефти. При этом по прогнозам модели это самый успешный регион. Вероятно это связано с некорректными данными. Так как доля безубыточных скважин согласно расчётом во втором регионе в 2 раза меньше, чем в первом и третьем."
   ]
  },
  {
   "cell_type": "markdown",
   "metadata": {},
   "source": [
    "## Расчёт прибыли и рисков "
   ]
  },
  {
   "cell_type": "code",
   "execution_count": 52,
   "metadata": {},
   "outputs": [],
   "source": [
    "# функция отбора 200 лучших скважин по каждому региону и расчёту прибыли\n",
    "def big_profit(report):\n",
    "    top_200 = report.sort_values(by=['predicted'], ascending=False)[:200]\n",
    "    true_sort_sum = report['product'][top_200.index].sum() \n",
    "    return (((true_sort_sum * BARELL_PRICE) - BUDGET)/ (10**9))\n",
    "reg_1_income = big_profit(reg_1_report)\n",
    "reg_2_income = big_profit(reg_2_report)\n",
    "reg_3_income = big_profit(reg_3_report)"
   ]
  },
  {
   "cell_type": "code",
   "execution_count": 53,
   "metadata": {},
   "outputs": [
    {
     "name": "stdout",
     "output_type": "stream",
     "text": [
      "Прогноз дохода, регион 1 3.3875565525201665\n",
      "Прогноз дохода, регион 2 2.4150866966815108\n",
      "Прогноз дохода, регион 3 2.5031506159786625\n"
     ]
    }
   ],
   "source": [
    "print(f'Прогноз дохода, регион 1', reg_1_income)\n",
    "print(f'Прогноз дохода, регион 2', reg_2_income)\n",
    "print(f'Прогноз дохода, регион 3', reg_3_income)"
   ]
  },
  {
   "cell_type": "code",
   "execution_count": 54,
   "metadata": {},
   "outputs": [],
   "source": [
    "reg_1_pure_prof = reg_1_income*10**9/BUDGET\n",
    "reg_2_pure_prof = reg_2_income*10**9/BUDGET\n",
    "reg_3_pure_prof = reg_3_income*10**9/BUDGET"
   ]
  },
  {
   "cell_type": "code",
   "execution_count": 55,
   "metadata": {},
   "outputs": [
    {
     "name": "stdout",
     "output_type": "stream",
     "text": [
      "Прогноз прибыли, регион 1 0.3387556552520166\n",
      "Прогноз прибыли, регион 2 0.2415086696681511\n",
      "Прогноз прибыли, регион 3 0.25031506159786626\n"
     ]
    }
   ],
   "source": [
    "print(f'Прогноз прибыли, регион 1', reg_1_pure_prof)\n",
    "print(f'Прогноз прибыли, регион 2', reg_2_pure_prof)\n",
    "print(f'Прогноз прибыли, регион 3', reg_3_pure_prof)"
   ]
  },
  {
   "cell_type": "markdown",
   "metadata": {},
   "source": [
    "Прибыль с региона 1 относительно затрат: 33.8%  \n",
    "Прибыль с региона 2 относительно затрат: - 26.0%  \n",
    "Прибыль с региона 3 относительно затрат: 26.7%"
   ]
  },
  {
   "cell_type": "code",
   "execution_count": 56,
   "metadata": {},
   "outputs": [],
   "source": [
    "# функция расчёта выручки и риска по полученным ранее репортам\n",
    "def risks_profit(report):\n",
    "    values = []\n",
    "    state = np.random.RandomState(1589) \n",
    "    \n",
    "    for i in range(1000):\n",
    "        \n",
    "        probs_subsample = report['predicted'].sample(n=500, replace=True, random_state=state)     \n",
    "        probs_top = probs_subsample.sort_values(ascending=False)\n",
    "        cur_top_200 = report['product'][probs_top.index][:200]\n",
    "        profit = ((BARELL_PRICE * cur_top_200.sum()) - BUDGET)/ (10**9)\n",
    "        values.append(profit)\n",
    "        \n",
    "    values = pd.Series(values)\n",
    "    mean = values.mean()\n",
    "    lower = values.quantile(0.025)\n",
    "    upper = values.quantile(0.975)\n",
    "    confidence_interval = st.t.interval(0.95, len(values)-1, \n",
    "                                        mean, values.sem())\n",
    "    \n",
    "\n",
    "    risk = (values < 0).mean() * 100\n",
    "        \n",
    "    print(f'Средняя выручка: {mean}')\n",
    "    print(f'2.5%-квантиль: {lower}')\n",
    "    print(f'97.5%-квантиль: {upper}')\n",
    "    print(f'95% доверительный интервал: {confidence_interval}')\n",
    "    print(f'Риски: {risk}%')"
   ]
  },
  {
   "cell_type": "code",
   "execution_count": 57,
   "metadata": {},
   "outputs": [
    {
     "name": "stdout",
     "output_type": "stream",
     "text": [
      "Средняя выручка: 0.4456370317256681\n",
      "2.5%-квантиль: -0.06200955515184459\n",
      "97.5%-квантиль: 0.9447532693735963\n",
      "95% доверительный интервал: (0.4299889107256871, 0.4612851527256491)\n",
      "Риски: 4.2%\n"
     ]
    }
   ],
   "source": [
    "risks_profit(reg_1_report)"
   ]
  },
  {
   "cell_type": "markdown",
   "metadata": {},
   "source": [
    "Вероятность получить более 0.43 млрд. составляет более 95%. Риск убыточности: 4.2%"
   ]
  },
  {
   "cell_type": "code",
   "execution_count": 58,
   "metadata": {},
   "outputs": [
    {
     "name": "stdout",
     "output_type": "stream",
     "text": [
      "Средняя выручка: 0.4275249894915243\n",
      "2.5%-квантиль: 0.03882137598422027\n",
      "97.5%-квантиль: 0.8188352736064665\n",
      "95% доверительный интервал: (0.41480796844161333, 0.44024201054143525)\n",
      "Риски: 1.3%\n"
     ]
    }
   ],
   "source": [
    "risks_profit(reg_2_report)"
   ]
  },
  {
   "cell_type": "markdown",
   "metadata": {},
   "source": [
    "Вероятность получить более 0.41 млрд. составляет более 95%. Риск убыточности: 1.3% "
   ]
  },
  {
   "cell_type": "code",
   "execution_count": 59,
   "metadata": {},
   "outputs": [
    {
     "name": "stdout",
     "output_type": "stream",
     "text": [
      "Средняя выручка: 0.3772701655525899\n",
      "2.5%-квантиль: -0.16544558104210608\n",
      "97.5%-квантиль: 0.8978051334551966\n",
      "95% доверительный интервал: (0.36071457906856613, 0.3938257520366137)\n",
      "Риски: 7.199999999999999%\n"
     ]
    }
   ],
   "source": [
    "risks_profit(reg_3_report)"
   ]
  },
  {
   "cell_type": "markdown",
   "metadata": {},
   "source": [
    "Вероятность получить более 0.36 млрд. составляет более 95%. Риск убыточности: 7.2% "
   ]
  },
  {
   "cell_type": "markdown",
   "metadata": {},
   "source": [
    "## Вывод"
   ]
  },
  {
   "cell_type": "markdown",
   "metadata": {},
   "source": [
    "В рамках задачи были изучены данные по нефтерождениями в трёх регионах: в каждом 10 000 шт.  \n",
    "Была построена модель машинного обучения - Линейная регрессия, с помощью которой определен самый прибыльный регион.\n",
    "\n",
    "Лучший результаты по прибыли показал РЕГИОН 1 - 0.43 млрд рублей прогнозируемых.\n",
    "\n",
    "Проверка средней выручки техникой Bootsrap - наилучший результат и наименьшие риски показали РЕГИОН 1 и РЕГИОН 3. \n",
    "\n",
    "По РЕГИОН 2 выявлены значительные разночтения с другими регионами. Вероятно данные некорректные и не могут быть применены для анализа и прогнозов. Данную гипотезу требуется дополнительно проверить.\n",
    "\n",
    "**Итог** по результатам проведенного анализа предлагается рассмотреть РЕГИОН 1 для инвестиций в месторождения."
   ]
  }
 ],
 "metadata": {
  "ExecuteTimeLog": [
   {
    "duration": 1580,
    "start_time": "2023-01-25T07:46:15.768Z"
   },
   {
    "duration": 1497,
    "start_time": "2023-01-25T07:46:47.674Z"
   },
   {
    "duration": 20,
    "start_time": "2023-01-25T07:47:11.742Z"
   },
   {
    "duration": 14,
    "start_time": "2023-01-25T07:47:18.357Z"
   },
   {
    "duration": 16,
    "start_time": "2023-01-25T07:47:24.492Z"
   },
   {
    "duration": 17,
    "start_time": "2023-01-25T07:47:42.601Z"
   },
   {
    "duration": 22,
    "start_time": "2023-01-25T07:47:50.933Z"
   },
   {
    "duration": 16,
    "start_time": "2023-01-25T07:47:57.039Z"
   },
   {
    "duration": 39,
    "start_time": "2023-01-25T07:50:11.791Z"
   },
   {
    "duration": 38,
    "start_time": "2023-01-25T07:50:18.178Z"
   },
   {
    "duration": 36,
    "start_time": "2023-01-25T07:50:23.812Z"
   },
   {
    "duration": 126,
    "start_time": "2023-01-25T07:51:19.948Z"
   },
   {
    "duration": 850,
    "start_time": "2023-01-25T07:52:24.227Z"
   },
   {
    "duration": 798,
    "start_time": "2023-01-25T07:52:33.693Z"
   },
   {
    "duration": 734,
    "start_time": "2023-01-25T07:52:40.513Z"
   },
   {
    "duration": 167,
    "start_time": "2023-01-25T09:05:41.475Z"
   },
   {
    "duration": 30,
    "start_time": "2023-01-25T09:05:47.621Z"
   },
   {
    "duration": 17,
    "start_time": "2023-01-25T09:05:54.000Z"
   },
   {
    "duration": 15,
    "start_time": "2023-01-25T09:06:01.899Z"
   },
   {
    "duration": 4,
    "start_time": "2023-01-25T09:06:41.103Z"
   },
   {
    "duration": 3,
    "start_time": "2023-01-25T09:06:42.601Z"
   },
   {
    "duration": 1797,
    "start_time": "2023-01-25T17:08:39.655Z"
   },
   {
    "duration": 1246,
    "start_time": "2023-01-25T17:08:41.454Z"
   },
   {
    "duration": 13,
    "start_time": "2023-01-25T17:08:43.756Z"
   },
   {
    "duration": 9,
    "start_time": "2023-01-25T17:08:45.090Z"
   },
   {
    "duration": 12,
    "start_time": "2023-01-25T17:08:45.753Z"
   },
   {
    "duration": 15,
    "start_time": "2023-01-25T17:08:46.290Z"
   },
   {
    "duration": 19,
    "start_time": "2023-01-25T17:08:47.761Z"
   },
   {
    "duration": 14,
    "start_time": "2023-01-25T17:08:48.690Z"
   },
   {
    "duration": 47,
    "start_time": "2023-01-25T17:08:50.461Z"
   },
   {
    "duration": 51,
    "start_time": "2023-01-25T17:08:51.291Z"
   },
   {
    "duration": 50,
    "start_time": "2023-01-25T17:08:52.020Z"
   },
   {
    "duration": 201,
    "start_time": "2023-01-25T17:08:53.657Z"
   },
   {
    "duration": 816,
    "start_time": "2023-01-25T17:08:54.594Z"
   },
   {
    "duration": 886,
    "start_time": "2023-01-25T17:08:55.412Z"
   },
   {
    "duration": 868,
    "start_time": "2023-01-25T17:08:56.301Z"
   },
   {
    "duration": 20,
    "start_time": "2023-01-25T17:08:57.186Z"
   },
   {
    "duration": 19,
    "start_time": "2023-01-25T17:08:57.722Z"
   },
   {
    "duration": 25,
    "start_time": "2023-01-25T17:08:58.239Z"
   },
   {
    "duration": 4,
    "start_time": "2023-01-25T17:09:09.156Z"
   },
   {
    "duration": 5,
    "start_time": "2023-01-25T17:17:51.727Z"
   },
   {
    "duration": 4,
    "start_time": "2023-01-25T17:17:52.471Z"
   },
   {
    "duration": 9,
    "start_time": "2023-01-25T17:33:08.262Z"
   },
   {
    "duration": 3,
    "start_time": "2023-01-25T17:33:17.000Z"
   },
   {
    "duration": 3,
    "start_time": "2023-01-25T17:33:17.366Z"
   },
   {
    "duration": 125,
    "start_time": "2023-01-25T17:33:23.559Z"
   },
   {
    "duration": 15,
    "start_time": "2023-01-25T17:34:00.555Z"
   },
   {
    "duration": 18,
    "start_time": "2023-01-25T17:34:01.559Z"
   },
   {
    "duration": 3,
    "start_time": "2023-01-25T17:35:26.364Z"
   },
   {
    "duration": 14,
    "start_time": "2023-01-25T17:35:26.847Z"
   },
   {
    "duration": 3,
    "start_time": "2023-01-25T17:36:05.218Z"
   },
   {
    "duration": 3410,
    "start_time": "2023-01-25T17:36:05.951Z"
   },
   {
    "duration": 10,
    "start_time": "2023-01-25T17:36:16.218Z"
   },
   {
    "duration": 4,
    "start_time": "2023-01-25T17:40:10.504Z"
   },
   {
    "duration": 4,
    "start_time": "2023-01-25T17:40:18.877Z"
   },
   {
    "duration": 6,
    "start_time": "2023-01-25T17:41:43.110Z"
   },
   {
    "duration": 6,
    "start_time": "2023-01-25T17:42:41.578Z"
   },
   {
    "duration": 85,
    "start_time": "2023-01-25T17:43:47.754Z"
   },
   {
    "duration": 7,
    "start_time": "2023-01-25T17:43:59.791Z"
   },
   {
    "duration": 12,
    "start_time": "2023-01-25T17:44:40.449Z"
   },
   {
    "duration": 8,
    "start_time": "2023-01-25T17:44:52.369Z"
   },
   {
    "duration": 12,
    "start_time": "2023-01-25T17:45:42.229Z"
   },
   {
    "duration": 6,
    "start_time": "2023-01-25T17:47:22.422Z"
   },
   {
    "duration": 8,
    "start_time": "2023-01-25T17:49:02.668Z"
   },
   {
    "duration": 13,
    "start_time": "2023-01-25T17:49:18.583Z"
   },
   {
    "duration": 3702,
    "start_time": "2023-01-25T17:49:30.271Z"
   },
   {
    "duration": 10,
    "start_time": "2023-01-25T17:49:38.374Z"
   },
   {
    "duration": 5,
    "start_time": "2023-01-25T17:51:43.887Z"
   },
   {
    "duration": 5,
    "start_time": "2023-01-25T17:54:46.618Z"
   },
   {
    "duration": 12,
    "start_time": "2023-01-25T17:54:53.689Z"
   },
   {
    "duration": 21,
    "start_time": "2023-01-25T17:55:00.547Z"
   },
   {
    "duration": 3406,
    "start_time": "2023-01-25T17:55:08.871Z"
   },
   {
    "duration": 9,
    "start_time": "2023-01-25T17:55:23.816Z"
   },
   {
    "duration": 7,
    "start_time": "2023-01-25T17:55:36.582Z"
   },
   {
    "duration": 2738,
    "start_time": "2023-01-25T18:35:46.001Z"
   },
   {
    "duration": 3662,
    "start_time": "2023-01-25T18:36:25.564Z"
   },
   {
    "duration": 7,
    "start_time": "2023-01-25T18:36:31.805Z"
   },
   {
    "duration": 14,
    "start_time": "2023-01-25T18:36:36.407Z"
   },
   {
    "duration": 16,
    "start_time": "2023-01-25T18:38:12.085Z"
   },
   {
    "duration": 124,
    "start_time": "2023-01-25T19:21:30.856Z"
   },
   {
    "duration": 96,
    "start_time": "2023-01-25T19:21:40.512Z"
   },
   {
    "duration": 103,
    "start_time": "2023-01-25T19:21:56.196Z"
   },
   {
    "duration": 5,
    "start_time": "2023-01-25T19:22:02.683Z"
   },
   {
    "duration": 35,
    "start_time": "2023-01-25T19:22:10.478Z"
   },
   {
    "duration": 4,
    "start_time": "2023-01-25T19:22:29.571Z"
   },
   {
    "duration": 24,
    "start_time": "2023-01-25T19:22:32.176Z"
   },
   {
    "duration": 21,
    "start_time": "2023-01-25T19:22:48.083Z"
   },
   {
    "duration": 2,
    "start_time": "2023-01-25T19:30:44.852Z"
   },
   {
    "duration": 32,
    "start_time": "2023-01-25T19:30:48.056Z"
   },
   {
    "duration": 2,
    "start_time": "2023-01-25T19:31:07.604Z"
   },
   {
    "duration": 3806,
    "start_time": "2023-01-25T19:31:10.753Z"
   },
   {
    "duration": 5,
    "start_time": "2023-01-25T19:31:17.270Z"
   },
   {
    "duration": 10,
    "start_time": "2023-01-25T19:31:18.612Z"
   },
   {
    "duration": 7,
    "start_time": "2023-01-25T19:31:20.912Z"
   },
   {
    "duration": 7,
    "start_time": "2023-01-25T19:31:36.615Z"
   },
   {
    "duration": 6,
    "start_time": "2023-01-25T19:31:42.481Z"
   },
   {
    "duration": 8,
    "start_time": "2023-01-25T19:31:48.143Z"
   },
   {
    "duration": 2770,
    "start_time": "2023-01-25T19:50:01.061Z"
   },
   {
    "duration": 3164,
    "start_time": "2023-01-25T19:50:48.279Z"
   },
   {
    "duration": 16,
    "start_time": "2023-01-25T19:50:54.158Z"
   },
   {
    "duration": 7,
    "start_time": "2023-01-25T19:50:58.362Z"
   },
   {
    "duration": 4,
    "start_time": "2023-01-25T19:53:36.823Z"
   },
   {
    "duration": 8,
    "start_time": "2023-01-25T19:54:41.946Z"
   },
   {
    "duration": 16,
    "start_time": "2023-01-25T19:54:43.668Z"
   },
   {
    "duration": 3,
    "start_time": "2023-01-25T19:54:59.209Z"
   },
   {
    "duration": 21,
    "start_time": "2023-01-25T19:54:59.948Z"
   },
   {
    "duration": 6,
    "start_time": "2023-01-25T19:55:20.676Z"
   },
   {
    "duration": 12,
    "start_time": "2023-01-25T19:55:41.071Z"
   },
   {
    "duration": 10,
    "start_time": "2023-01-25T19:56:11.673Z"
   },
   {
    "duration": 10,
    "start_time": "2023-01-25T19:59:06.480Z"
   },
   {
    "duration": 33,
    "start_time": "2023-01-25T20:16:54.708Z"
   },
   {
    "duration": 1352,
    "start_time": "2023-01-26T06:04:36.891Z"
   },
   {
    "duration": 782,
    "start_time": "2023-01-26T06:04:38.245Z"
   },
   {
    "duration": 13,
    "start_time": "2023-01-26T06:04:39.028Z"
   },
   {
    "duration": 15,
    "start_time": "2023-01-26T06:04:39.043Z"
   },
   {
    "duration": 16,
    "start_time": "2023-01-26T06:04:39.060Z"
   },
   {
    "duration": 24,
    "start_time": "2023-01-26T06:04:39.077Z"
   },
   {
    "duration": 12,
    "start_time": "2023-01-26T06:04:39.103Z"
   },
   {
    "duration": 20,
    "start_time": "2023-01-26T06:04:39.117Z"
   },
   {
    "duration": 41,
    "start_time": "2023-01-26T06:04:39.139Z"
   },
   {
    "duration": 49,
    "start_time": "2023-01-26T06:04:39.182Z"
   },
   {
    "duration": 35,
    "start_time": "2023-01-26T06:04:39.232Z"
   },
   {
    "duration": 127,
    "start_time": "2023-01-26T06:04:39.269Z"
   },
   {
    "duration": 693,
    "start_time": "2023-01-26T06:04:39.397Z"
   },
   {
    "duration": 750,
    "start_time": "2023-01-26T06:04:40.092Z"
   },
   {
    "duration": 657,
    "start_time": "2023-01-26T06:04:40.844Z"
   },
   {
    "duration": 15,
    "start_time": "2023-01-26T06:04:41.503Z"
   },
   {
    "duration": 29,
    "start_time": "2023-01-26T06:04:41.527Z"
   },
   {
    "duration": 37,
    "start_time": "2023-01-26T06:04:41.558Z"
   },
   {
    "duration": 36,
    "start_time": "2023-01-26T06:04:41.597Z"
   },
   {
    "duration": 38,
    "start_time": "2023-01-26T06:04:41.635Z"
   },
   {
    "duration": 30,
    "start_time": "2023-01-26T06:04:41.675Z"
   },
   {
    "duration": 46,
    "start_time": "2023-01-26T06:04:41.707Z"
   },
   {
    "duration": 29,
    "start_time": "2023-01-26T06:04:41.755Z"
   },
   {
    "duration": 4242,
    "start_time": "2023-01-26T06:04:41.785Z"
   },
   {
    "duration": 6,
    "start_time": "2023-01-26T06:04:46.029Z"
   },
   {
    "duration": 276,
    "start_time": "2023-01-26T06:04:46.037Z"
   },
   {
    "duration": 0,
    "start_time": "2023-01-26T06:04:46.327Z"
   },
   {
    "duration": 0,
    "start_time": "2023-01-26T06:04:46.329Z"
   },
   {
    "duration": 0,
    "start_time": "2023-01-26T06:04:46.330Z"
   },
   {
    "duration": 0,
    "start_time": "2023-01-26T06:04:46.332Z"
   },
   {
    "duration": 0,
    "start_time": "2023-01-26T06:04:46.333Z"
   },
   {
    "duration": 0,
    "start_time": "2023-01-26T06:04:46.334Z"
   },
   {
    "duration": 0,
    "start_time": "2023-01-26T06:04:46.335Z"
   },
   {
    "duration": 0,
    "start_time": "2023-01-26T06:04:46.336Z"
   },
   {
    "duration": 0,
    "start_time": "2023-01-26T06:04:46.337Z"
   },
   {
    "duration": 0,
    "start_time": "2023-01-26T06:04:46.337Z"
   },
   {
    "duration": 0,
    "start_time": "2023-01-26T06:04:46.339Z"
   },
   {
    "duration": 0,
    "start_time": "2023-01-26T06:04:46.339Z"
   },
   {
    "duration": 0,
    "start_time": "2023-01-26T06:04:46.340Z"
   },
   {
    "duration": 0,
    "start_time": "2023-01-26T06:04:46.341Z"
   },
   {
    "duration": 0,
    "start_time": "2023-01-26T06:04:46.342Z"
   },
   {
    "duration": 3,
    "start_time": "2023-01-26T06:11:27.400Z"
   },
   {
    "duration": 10,
    "start_time": "2023-01-26T06:11:27.981Z"
   },
   {
    "duration": 7,
    "start_time": "2023-01-26T06:11:30.196Z"
   },
   {
    "duration": 5,
    "start_time": "2023-01-26T06:11:31.733Z"
   },
   {
    "duration": 12,
    "start_time": "2023-01-26T06:11:32.172Z"
   },
   {
    "duration": 4058,
    "start_time": "2023-01-26T06:11:32.772Z"
   },
   {
    "duration": 102,
    "start_time": "2023-01-26T06:11:36.832Z"
   },
   {
    "duration": 103,
    "start_time": "2023-01-26T06:11:36.936Z"
   },
   {
    "duration": 4,
    "start_time": "2023-01-26T06:11:39.806Z"
   },
   {
    "duration": 15,
    "start_time": "2023-01-26T06:11:40.265Z"
   },
   {
    "duration": 4097,
    "start_time": "2023-01-26T06:11:40.734Z"
   },
   {
    "duration": 101,
    "start_time": "2023-01-26T06:11:44.834Z"
   },
   {
    "duration": 6,
    "start_time": "2023-01-26T06:11:45.738Z"
   },
   {
    "duration": 3,
    "start_time": "2023-01-26T06:11:46.571Z"
   },
   {
    "duration": 9,
    "start_time": "2023-01-26T06:11:47.102Z"
   },
   {
    "duration": 11,
    "start_time": "2023-01-26T06:11:47.672Z"
   },
   {
    "duration": 8,
    "start_time": "2023-01-26T06:11:50.177Z"
   },
   {
    "duration": 9,
    "start_time": "2023-01-26T06:32:41.336Z"
   },
   {
    "duration": 8,
    "start_time": "2023-01-26T06:32:43.766Z"
   },
   {
    "duration": 4,
    "start_time": "2023-01-26T06:33:58.180Z"
   },
   {
    "duration": 1077,
    "start_time": "2023-01-26T06:34:24.036Z"
   },
   {
    "duration": 9,
    "start_time": "2023-01-26T06:34:29.880Z"
   },
   {
    "duration": 4,
    "start_time": "2023-01-26T06:34:30.863Z"
   },
   {
    "duration": 1149,
    "start_time": "2023-01-26T06:34:33.487Z"
   },
   {
    "duration": 6,
    "start_time": "2023-01-26T06:34:56.376Z"
   },
   {
    "duration": 4,
    "start_time": "2023-01-26T06:35:02.573Z"
   },
   {
    "duration": 11,
    "start_time": "2023-01-26T06:35:05.471Z"
   },
   {
    "duration": 6,
    "start_time": "2023-01-26T06:38:19.243Z"
   },
   {
    "duration": 7,
    "start_time": "2023-01-26T06:38:22.943Z"
   },
   {
    "duration": 7,
    "start_time": "2023-01-26T06:38:38.922Z"
   },
   {
    "duration": 7,
    "start_time": "2023-01-26T06:38:52.488Z"
   },
   {
    "duration": 19,
    "start_time": "2023-01-26T06:40:10.795Z"
   },
   {
    "duration": 18,
    "start_time": "2023-01-26T06:40:53.788Z"
   },
   {
    "duration": 5,
    "start_time": "2023-01-26T06:41:34.318Z"
   },
   {
    "duration": 2,
    "start_time": "2023-01-26T06:43:05.628Z"
   },
   {
    "duration": 3,
    "start_time": "2023-01-26T06:43:16.840Z"
   },
   {
    "duration": 4,
    "start_time": "2023-01-26T06:43:43.848Z"
   },
   {
    "duration": 7,
    "start_time": "2023-01-26T06:45:08.176Z"
   },
   {
    "duration": 14,
    "start_time": "2023-01-26T06:45:31.277Z"
   },
   {
    "duration": 6,
    "start_time": "2023-01-26T06:46:08.727Z"
   },
   {
    "duration": 817,
    "start_time": "2023-01-26T06:46:09.984Z"
   },
   {
    "duration": 6,
    "start_time": "2023-01-26T06:47:53.633Z"
   },
   {
    "duration": 695,
    "start_time": "2023-01-26T06:47:54.314Z"
   },
   {
    "duration": 703,
    "start_time": "2023-01-26T06:48:36.974Z"
   },
   {
    "duration": 670,
    "start_time": "2023-01-26T06:48:43.348Z"
   },
   {
    "duration": 3,
    "start_time": "2023-01-26T08:07:33.836Z"
   },
   {
    "duration": 80,
    "start_time": "2023-01-26T08:13:33.181Z"
   },
   {
    "duration": 6,
    "start_time": "2023-01-26T08:15:08.707Z"
   },
   {
    "duration": 13,
    "start_time": "2023-01-26T08:15:09.168Z"
   },
   {
    "duration": 4017,
    "start_time": "2023-01-26T08:15:09.711Z"
   },
   {
    "duration": 10,
    "start_time": "2023-01-26T08:15:14.313Z"
   },
   {
    "duration": 5,
    "start_time": "2023-01-26T08:15:16.499Z"
   },
   {
    "duration": 3,
    "start_time": "2023-01-26T08:15:19.018Z"
   },
   {
    "duration": 4,
    "start_time": "2023-01-26T08:18:31.320Z"
   },
   {
    "duration": 9,
    "start_time": "2023-01-26T08:18:33.791Z"
   },
   {
    "duration": 5,
    "start_time": "2023-01-26T08:33:11.037Z"
   },
   {
    "duration": 9,
    "start_time": "2023-01-26T08:33:11.656Z"
   },
   {
    "duration": 5,
    "start_time": "2023-01-26T08:33:13.555Z"
   },
   {
    "duration": 12,
    "start_time": "2023-01-26T08:33:14.497Z"
   },
   {
    "duration": 11,
    "start_time": "2023-01-26T08:41:47.333Z"
   },
   {
    "duration": 5,
    "start_time": "2023-01-26T08:54:41.896Z"
   },
   {
    "duration": 6,
    "start_time": "2023-01-26T08:54:50.355Z"
   },
   {
    "duration": 4,
    "start_time": "2023-01-26T08:55:05.999Z"
   },
   {
    "duration": 19,
    "start_time": "2023-01-26T08:57:45.164Z"
   },
   {
    "duration": 16,
    "start_time": "2023-01-26T08:58:08.148Z"
   },
   {
    "duration": 4,
    "start_time": "2023-01-26T08:58:10.558Z"
   },
   {
    "duration": 6,
    "start_time": "2023-01-26T08:59:55.315Z"
   },
   {
    "duration": 676,
    "start_time": "2023-01-26T08:59:59.112Z"
   },
   {
    "duration": 661,
    "start_time": "2023-01-26T09:00:01.606Z"
   },
   {
    "duration": 667,
    "start_time": "2023-01-26T09:00:03.712Z"
   },
   {
    "duration": 10,
    "start_time": "2023-01-26T09:51:33.285Z"
   },
   {
    "duration": 782,
    "start_time": "2023-01-26T09:51:37.143Z"
   },
   {
    "duration": 853,
    "start_time": "2023-01-26T09:51:40.131Z"
   },
   {
    "duration": 73,
    "start_time": "2023-01-26T09:51:57.828Z"
   },
   {
    "duration": 5,
    "start_time": "2023-01-26T10:45:19.955Z"
   },
   {
    "duration": 1461,
    "start_time": "2023-01-26T10:46:23.638Z"
   },
   {
    "duration": 837,
    "start_time": "2023-01-26T10:46:25.101Z"
   },
   {
    "duration": 16,
    "start_time": "2023-01-26T10:46:25.940Z"
   },
   {
    "duration": 10,
    "start_time": "2023-01-26T10:46:25.958Z"
   },
   {
    "duration": 19,
    "start_time": "2023-01-26T10:46:25.970Z"
   },
   {
    "duration": 17,
    "start_time": "2023-01-26T10:46:25.991Z"
   },
   {
    "duration": 30,
    "start_time": "2023-01-26T10:46:26.010Z"
   },
   {
    "duration": 20,
    "start_time": "2023-01-26T10:46:26.042Z"
   },
   {
    "duration": 39,
    "start_time": "2023-01-26T10:46:26.064Z"
   },
   {
    "duration": 48,
    "start_time": "2023-01-26T10:46:26.127Z"
   },
   {
    "duration": 55,
    "start_time": "2023-01-26T10:46:26.176Z"
   },
   {
    "duration": 157,
    "start_time": "2023-01-26T10:46:26.233Z"
   },
   {
    "duration": 801,
    "start_time": "2023-01-26T10:46:26.392Z"
   },
   {
    "duration": 808,
    "start_time": "2023-01-26T10:46:27.195Z"
   },
   {
    "duration": 783,
    "start_time": "2023-01-26T10:46:28.005Z"
   },
   {
    "duration": 15,
    "start_time": "2023-01-26T10:46:28.789Z"
   },
   {
    "duration": 26,
    "start_time": "2023-01-26T10:46:28.806Z"
   },
   {
    "duration": 14,
    "start_time": "2023-01-26T10:46:28.834Z"
   },
   {
    "duration": 10,
    "start_time": "2023-01-26T10:46:28.849Z"
   },
   {
    "duration": 15,
    "start_time": "2023-01-26T10:46:28.860Z"
   },
   {
    "duration": 21,
    "start_time": "2023-01-26T10:46:28.877Z"
   },
   {
    "duration": 19,
    "start_time": "2023-01-26T10:46:28.900Z"
   },
   {
    "duration": 23,
    "start_time": "2023-01-26T10:46:28.921Z"
   },
   {
    "duration": 4281,
    "start_time": "2023-01-26T10:46:28.946Z"
   },
   {
    "duration": 5,
    "start_time": "2023-01-26T10:46:33.229Z"
   },
   {
    "duration": 93,
    "start_time": "2023-01-26T10:46:33.235Z"
   },
   {
    "duration": 101,
    "start_time": "2023-01-26T10:46:33.334Z"
   },
   {
    "duration": 9,
    "start_time": "2023-01-26T10:46:33.438Z"
   },
   {
    "duration": 27,
    "start_time": "2023-01-26T10:46:33.448Z"
   },
   {
    "duration": 22,
    "start_time": "2023-01-26T10:46:33.476Z"
   },
   {
    "duration": 4135,
    "start_time": "2023-01-26T10:46:33.500Z"
   },
   {
    "duration": 101,
    "start_time": "2023-01-26T10:46:37.726Z"
   },
   {
    "duration": 6,
    "start_time": "2023-01-26T10:46:37.829Z"
   },
   {
    "duration": 12,
    "start_time": "2023-01-26T10:46:37.837Z"
   },
   {
    "duration": 18,
    "start_time": "2023-01-26T10:46:37.850Z"
   },
   {
    "duration": 4265,
    "start_time": "2023-01-26T10:46:37.870Z"
   },
   {
    "duration": 93,
    "start_time": "2023-01-26T10:46:42.139Z"
   },
   {
    "duration": 118,
    "start_time": "2023-01-26T10:46:42.236Z"
   },
   {
    "duration": 22,
    "start_time": "2023-01-26T10:46:42.356Z"
   },
   {
    "duration": 38,
    "start_time": "2023-01-26T10:46:42.379Z"
   },
   {
    "duration": 22,
    "start_time": "2023-01-26T10:46:42.419Z"
   },
   {
    "duration": 26,
    "start_time": "2023-01-26T10:46:42.442Z"
   },
   {
    "duration": 25,
    "start_time": "2023-01-26T10:46:42.470Z"
   },
   {
    "duration": 29,
    "start_time": "2023-01-26T10:46:42.497Z"
   },
   {
    "duration": 21,
    "start_time": "2023-01-26T10:46:42.528Z"
   },
   {
    "duration": 17,
    "start_time": "2023-01-26T10:46:42.551Z"
   },
   {
    "duration": 19,
    "start_time": "2023-01-26T10:46:42.570Z"
   },
   {
    "duration": 32,
    "start_time": "2023-01-26T10:46:42.591Z"
   },
   {
    "duration": 12,
    "start_time": "2023-01-26T10:46:42.625Z"
   },
   {
    "duration": 16,
    "start_time": "2023-01-26T10:46:42.639Z"
   },
   {
    "duration": 23,
    "start_time": "2023-01-26T10:46:42.657Z"
   },
   {
    "duration": 33,
    "start_time": "2023-01-26T10:46:42.682Z"
   },
   {
    "duration": 27,
    "start_time": "2023-01-26T10:46:42.717Z"
   },
   {
    "duration": 18,
    "start_time": "2023-01-26T10:46:42.746Z"
   },
   {
    "duration": 20,
    "start_time": "2023-01-26T10:46:42.766Z"
   },
   {
    "duration": 35,
    "start_time": "2023-01-26T10:46:42.787Z"
   },
   {
    "duration": 802,
    "start_time": "2023-01-26T10:46:42.824Z"
   },
   {
    "duration": 0,
    "start_time": "2023-01-26T10:46:43.628Z"
   },
   {
    "duration": 0,
    "start_time": "2023-01-26T10:46:43.629Z"
   },
   {
    "duration": 3,
    "start_time": "2023-01-26T10:47:24.534Z"
   },
   {
    "duration": 5,
    "start_time": "2023-01-26T10:47:29.380Z"
   },
   {
    "duration": 764,
    "start_time": "2023-01-26T10:47:30.191Z"
   },
   {
    "duration": 656,
    "start_time": "2023-01-26T10:47:32.293Z"
   },
   {
    "duration": 669,
    "start_time": "2023-01-26T10:47:33.738Z"
   },
   {
    "duration": 3249,
    "start_time": "2023-01-26T21:02:56.316Z"
   },
   {
    "duration": 4,
    "start_time": "2023-01-26T21:06:11.025Z"
   },
   {
    "duration": 506,
    "start_time": "2023-01-26T21:06:11.031Z"
   },
   {
    "duration": 15,
    "start_time": "2023-01-26T21:06:11.539Z"
   },
   {
    "duration": 11,
    "start_time": "2023-01-26T21:06:11.556Z"
   },
   {
    "duration": 13,
    "start_time": "2023-01-26T21:06:11.569Z"
   },
   {
    "duration": 31,
    "start_time": "2023-01-26T21:06:11.584Z"
   },
   {
    "duration": 15,
    "start_time": "2023-01-26T21:06:11.617Z"
   },
   {
    "duration": 31,
    "start_time": "2023-01-26T21:06:11.634Z"
   },
   {
    "duration": 38,
    "start_time": "2023-01-26T21:06:11.667Z"
   },
   {
    "duration": 56,
    "start_time": "2023-01-26T21:06:11.706Z"
   },
   {
    "duration": 36,
    "start_time": "2023-01-26T21:06:11.763Z"
   },
   {
    "duration": 146,
    "start_time": "2023-01-26T21:06:11.800Z"
   },
   {
    "duration": 741,
    "start_time": "2023-01-26T21:06:11.953Z"
   },
   {
    "duration": 942,
    "start_time": "2023-01-26T21:06:12.698Z"
   },
   {
    "duration": 745,
    "start_time": "2023-01-26T21:06:13.641Z"
   },
   {
    "duration": 15,
    "start_time": "2023-01-26T21:06:14.388Z"
   },
   {
    "duration": 15,
    "start_time": "2023-01-26T21:06:14.405Z"
   },
   {
    "duration": 44,
    "start_time": "2023-01-26T21:06:14.422Z"
   },
   {
    "duration": 11,
    "start_time": "2023-01-26T21:06:14.468Z"
   },
   {
    "duration": 5,
    "start_time": "2023-01-26T21:06:14.481Z"
   },
   {
    "duration": 6,
    "start_time": "2023-01-26T21:06:14.488Z"
   },
   {
    "duration": 13,
    "start_time": "2023-01-26T21:06:14.495Z"
   },
   {
    "duration": 28,
    "start_time": "2023-01-26T21:06:14.510Z"
   },
   {
    "duration": 4621,
    "start_time": "2023-01-26T21:06:14.539Z"
   },
   {
    "duration": 10,
    "start_time": "2023-01-26T21:06:19.252Z"
   },
   {
    "duration": 191,
    "start_time": "2023-01-26T21:06:19.264Z"
   },
   {
    "duration": 15,
    "start_time": "2023-01-26T21:06:19.457Z"
   },
   {
    "duration": 8,
    "start_time": "2023-01-26T21:06:19.474Z"
   },
   {
    "duration": 7,
    "start_time": "2023-01-26T21:06:19.484Z"
   },
   {
    "duration": 17,
    "start_time": "2023-01-26T21:06:19.493Z"
   },
   {
    "duration": 4542,
    "start_time": "2023-01-26T21:06:19.512Z"
   },
   {
    "duration": 102,
    "start_time": "2023-01-26T21:06:24.058Z"
   },
   {
    "duration": 97,
    "start_time": "2023-01-26T21:06:24.162Z"
   },
   {
    "duration": 5,
    "start_time": "2023-01-26T21:06:24.261Z"
   },
   {
    "duration": 15,
    "start_time": "2023-01-26T21:06:24.267Z"
   },
   {
    "duration": 4679,
    "start_time": "2023-01-26T21:06:24.283Z"
   },
   {
    "duration": 192,
    "start_time": "2023-01-26T21:06:28.963Z"
   },
   {
    "duration": 8,
    "start_time": "2023-01-26T21:06:29.156Z"
   },
   {
    "duration": 14,
    "start_time": "2023-01-26T21:06:29.166Z"
   },
   {
    "duration": 22,
    "start_time": "2023-01-26T21:06:29.182Z"
   },
   {
    "duration": 14,
    "start_time": "2023-01-26T21:06:29.208Z"
   },
   {
    "duration": 17,
    "start_time": "2023-01-26T21:06:29.224Z"
   },
   {
    "duration": 28,
    "start_time": "2023-01-26T21:06:29.243Z"
   },
   {
    "duration": 14,
    "start_time": "2023-01-26T21:06:29.273Z"
   },
   {
    "duration": 23,
    "start_time": "2023-01-26T21:06:29.289Z"
   },
   {
    "duration": 7,
    "start_time": "2023-01-26T21:06:29.314Z"
   },
   {
    "duration": 13,
    "start_time": "2023-01-26T21:06:29.323Z"
   },
   {
    "duration": 11,
    "start_time": "2023-01-26T21:06:29.338Z"
   },
   {
    "duration": 18,
    "start_time": "2023-01-26T21:06:29.350Z"
   },
   {
    "duration": 9,
    "start_time": "2023-01-26T21:06:29.370Z"
   },
   {
    "duration": 13,
    "start_time": "2023-01-26T21:06:29.381Z"
   },
   {
    "duration": 24,
    "start_time": "2023-01-26T21:06:29.395Z"
   },
   {
    "duration": 7,
    "start_time": "2023-01-26T21:06:29.421Z"
   },
   {
    "duration": 13,
    "start_time": "2023-01-26T21:06:29.430Z"
   },
   {
    "duration": 22,
    "start_time": "2023-01-26T21:06:29.444Z"
   },
   {
    "duration": 11,
    "start_time": "2023-01-26T21:06:29.467Z"
   },
   {
    "duration": 694,
    "start_time": "2023-01-26T21:06:29.480Z"
   },
   {
    "duration": 655,
    "start_time": "2023-01-26T21:06:30.175Z"
   },
   {
    "duration": 675,
    "start_time": "2023-01-26T21:06:30.832Z"
   },
   {
    "duration": 46,
    "start_time": "2023-01-30T18:00:35.623Z"
   },
   {
    "duration": 6,
    "start_time": "2023-01-30T18:01:11.596Z"
   },
   {
    "duration": 1345,
    "start_time": "2023-01-30T18:01:20.462Z"
   },
   {
    "duration": 1113,
    "start_time": "2023-01-30T18:01:21.809Z"
   },
   {
    "duration": 13,
    "start_time": "2023-01-30T18:01:22.923Z"
   },
   {
    "duration": 22,
    "start_time": "2023-01-30T18:01:22.938Z"
   },
   {
    "duration": 25,
    "start_time": "2023-01-30T18:01:22.962Z"
   },
   {
    "duration": 20,
    "start_time": "2023-01-30T18:01:22.989Z"
   },
   {
    "duration": 14,
    "start_time": "2023-01-30T18:01:23.011Z"
   },
   {
    "duration": 17,
    "start_time": "2023-01-30T18:01:23.026Z"
   },
   {
    "duration": 51,
    "start_time": "2023-01-30T18:01:23.044Z"
   },
   {
    "duration": 34,
    "start_time": "2023-01-30T18:01:23.098Z"
   },
   {
    "duration": 42,
    "start_time": "2023-01-30T18:01:23.133Z"
   },
   {
    "duration": 123,
    "start_time": "2023-01-30T18:01:23.177Z"
   },
   {
    "duration": 672,
    "start_time": "2023-01-30T18:01:23.301Z"
   },
   {
    "duration": 778,
    "start_time": "2023-01-30T18:01:23.975Z"
   },
   {
    "duration": 668,
    "start_time": "2023-01-30T18:01:24.754Z"
   },
   {
    "duration": 14,
    "start_time": "2023-01-30T18:01:25.423Z"
   },
   {
    "duration": 13,
    "start_time": "2023-01-30T18:01:25.438Z"
   },
   {
    "duration": 14,
    "start_time": "2023-01-30T18:01:25.452Z"
   },
   {
    "duration": 31,
    "start_time": "2023-01-30T18:01:25.468Z"
   },
   {
    "duration": 11,
    "start_time": "2023-01-30T18:01:25.501Z"
   },
   {
    "duration": 15,
    "start_time": "2023-01-30T18:01:25.514Z"
   },
   {
    "duration": 7,
    "start_time": "2023-01-30T18:01:25.531Z"
   },
   {
    "duration": 18,
    "start_time": "2023-01-30T18:01:25.539Z"
   },
   {
    "duration": 3749,
    "start_time": "2023-01-30T18:01:25.559Z"
   },
   {
    "duration": 4,
    "start_time": "2023-01-30T18:01:29.400Z"
   },
   {
    "duration": 94,
    "start_time": "2023-01-30T18:01:29.406Z"
   },
   {
    "duration": 104,
    "start_time": "2023-01-30T18:01:29.502Z"
   },
   {
    "duration": 18,
    "start_time": "2023-01-30T18:01:29.609Z"
   },
   {
    "duration": 22,
    "start_time": "2023-01-30T18:01:29.629Z"
   },
   {
    "duration": 26,
    "start_time": "2023-01-30T18:01:29.653Z"
   },
   {
    "duration": 4022,
    "start_time": "2023-01-30T18:01:29.680Z"
   },
   {
    "duration": 97,
    "start_time": "2023-01-30T18:01:33.703Z"
   },
   {
    "duration": 101,
    "start_time": "2023-01-30T18:01:33.803Z"
   },
   {
    "duration": 15,
    "start_time": "2023-01-30T18:01:33.907Z"
   },
   {
    "duration": 34,
    "start_time": "2023-01-30T18:01:33.924Z"
   },
   {
    "duration": 3841,
    "start_time": "2023-01-30T18:01:33.960Z"
   },
   {
    "duration": 98,
    "start_time": "2023-01-30T18:01:37.802Z"
   },
   {
    "duration": 7,
    "start_time": "2023-01-30T18:01:37.902Z"
   },
   {
    "duration": 7,
    "start_time": "2023-01-30T18:01:37.910Z"
   },
   {
    "duration": 9,
    "start_time": "2023-01-30T18:01:37.999Z"
   },
   {
    "duration": 10,
    "start_time": "2023-01-30T18:01:38.009Z"
   },
   {
    "duration": 7,
    "start_time": "2023-01-30T18:01:38.020Z"
   },
   {
    "duration": 16,
    "start_time": "2023-01-30T18:01:38.028Z"
   },
   {
    "duration": 8,
    "start_time": "2023-01-30T18:01:38.045Z"
   },
   {
    "duration": 15,
    "start_time": "2023-01-30T18:01:38.054Z"
   },
   {
    "duration": 7,
    "start_time": "2023-01-30T18:01:38.070Z"
   },
   {
    "duration": 7,
    "start_time": "2023-01-30T18:01:38.098Z"
   },
   {
    "duration": 11,
    "start_time": "2023-01-30T18:01:38.107Z"
   },
   {
    "duration": 7,
    "start_time": "2023-01-30T18:01:38.119Z"
   },
   {
    "duration": 6,
    "start_time": "2023-01-30T18:01:38.128Z"
   },
   {
    "duration": 13,
    "start_time": "2023-01-30T18:01:38.135Z"
   },
   {
    "duration": 18,
    "start_time": "2023-01-30T18:01:38.150Z"
   },
   {
    "duration": 4,
    "start_time": "2023-01-30T18:01:38.170Z"
   },
   {
    "duration": 10,
    "start_time": "2023-01-30T18:01:38.175Z"
   },
   {
    "duration": 5,
    "start_time": "2023-01-30T18:01:38.199Z"
   },
   {
    "duration": 7,
    "start_time": "2023-01-30T18:01:38.206Z"
   },
   {
    "duration": 664,
    "start_time": "2023-01-30T18:01:38.214Z"
   },
   {
    "duration": 644,
    "start_time": "2023-01-30T18:01:38.880Z"
   },
   {
    "duration": 647,
    "start_time": "2023-01-30T18:01:39.525Z"
   },
   {
    "duration": 3,
    "start_time": "2023-01-30T18:03:34.874Z"
   },
   {
    "duration": 7,
    "start_time": "2023-01-30T18:03:36.681Z"
   },
   {
    "duration": 3,
    "start_time": "2023-01-30T18:03:40.323Z"
   },
   {
    "duration": 13,
    "start_time": "2023-01-30T18:03:40.948Z"
   },
   {
    "duration": 8,
    "start_time": "2023-01-30T18:03:43.199Z"
   },
   {
    "duration": 8,
    "start_time": "2023-01-30T18:03:43.950Z"
   },
   {
    "duration": 7,
    "start_time": "2023-01-30T18:03:44.626Z"
   },
   {
    "duration": 5,
    "start_time": "2023-01-30T18:03:46.655Z"
   },
   {
    "duration": 5,
    "start_time": "2023-01-30T18:03:50.954Z"
   },
   {
    "duration": 5,
    "start_time": "2023-01-30T18:03:51.539Z"
   },
   {
    "duration": 92,
    "start_time": "2023-01-30T18:05:27.922Z"
   },
   {
    "duration": 1523,
    "start_time": "2023-01-30T18:06:13.689Z"
   },
   {
    "duration": 361,
    "start_time": "2023-01-30T18:06:15.214Z"
   },
   {
    "duration": 13,
    "start_time": "2023-01-30T18:06:15.576Z"
   },
   {
    "duration": 9,
    "start_time": "2023-01-30T18:06:15.598Z"
   },
   {
    "duration": 13,
    "start_time": "2023-01-30T18:06:15.609Z"
   },
   {
    "duration": 16,
    "start_time": "2023-01-30T18:06:15.624Z"
   },
   {
    "duration": 12,
    "start_time": "2023-01-30T18:06:15.642Z"
   },
   {
    "duration": 24,
    "start_time": "2023-01-30T18:06:15.656Z"
   },
   {
    "duration": 48,
    "start_time": "2023-01-30T18:06:15.681Z"
   },
   {
    "duration": 33,
    "start_time": "2023-01-30T18:06:15.731Z"
   },
   {
    "duration": 49,
    "start_time": "2023-01-30T18:06:15.766Z"
   },
   {
    "duration": 132,
    "start_time": "2023-01-30T18:06:15.817Z"
   },
   {
    "duration": 712,
    "start_time": "2023-01-30T18:06:15.950Z"
   },
   {
    "duration": 790,
    "start_time": "2023-01-30T18:06:16.664Z"
   },
   {
    "duration": 696,
    "start_time": "2023-01-30T18:06:17.455Z"
   },
   {
    "duration": 16,
    "start_time": "2023-01-30T18:06:18.152Z"
   },
   {
    "duration": 54,
    "start_time": "2023-01-30T18:06:18.169Z"
   },
   {
    "duration": 26,
    "start_time": "2023-01-30T18:06:18.224Z"
   },
   {
    "duration": 12,
    "start_time": "2023-01-30T18:06:18.252Z"
   },
   {
    "duration": 41,
    "start_time": "2023-01-30T18:06:18.265Z"
   },
   {
    "duration": 102,
    "start_time": "2023-01-30T18:06:18.308Z"
   },
   {
    "duration": 86,
    "start_time": "2023-01-30T18:06:18.411Z"
   },
   {
    "duration": 31,
    "start_time": "2023-01-30T18:06:18.499Z"
   },
   {
    "duration": 3968,
    "start_time": "2023-01-30T18:06:18.531Z"
   },
   {
    "duration": 7,
    "start_time": "2023-01-30T18:06:22.501Z"
   },
   {
    "duration": 191,
    "start_time": "2023-01-30T18:06:22.509Z"
   },
   {
    "duration": 15,
    "start_time": "2023-01-30T18:06:22.702Z"
   },
   {
    "duration": 11,
    "start_time": "2023-01-30T18:06:22.721Z"
   },
   {
    "duration": 9,
    "start_time": "2023-01-30T18:06:22.734Z"
   },
   {
    "duration": 17,
    "start_time": "2023-01-30T18:06:22.745Z"
   },
   {
    "duration": 3837,
    "start_time": "2023-01-30T18:06:22.764Z"
   },
   {
    "duration": 96,
    "start_time": "2023-01-30T18:06:26.604Z"
   },
   {
    "duration": 113,
    "start_time": "2023-01-30T18:06:26.702Z"
   },
   {
    "duration": 5,
    "start_time": "2023-01-30T18:06:26.817Z"
   },
   {
    "duration": 18,
    "start_time": "2023-01-30T18:06:26.824Z"
   },
   {
    "duration": 3958,
    "start_time": "2023-01-30T18:06:26.843Z"
   },
   {
    "duration": 100,
    "start_time": "2023-01-30T18:06:30.803Z"
   },
   {
    "duration": 128,
    "start_time": "2023-01-30T18:06:30.904Z"
   },
   {
    "duration": 73,
    "start_time": "2023-01-30T18:06:31.034Z"
   },
   {
    "duration": 63,
    "start_time": "2023-01-30T18:06:31.109Z"
   },
   {
    "duration": 55,
    "start_time": "2023-01-30T18:06:31.173Z"
   },
   {
    "duration": 37,
    "start_time": "2023-01-30T18:06:31.230Z"
   },
   {
    "duration": 80,
    "start_time": "2023-01-30T18:06:31.269Z"
   },
   {
    "duration": 117,
    "start_time": "2023-01-30T18:06:31.351Z"
   },
   {
    "duration": 81,
    "start_time": "2023-01-30T18:06:31.471Z"
   },
   {
    "duration": 56,
    "start_time": "2023-01-30T18:06:31.554Z"
   },
   {
    "duration": 65,
    "start_time": "2023-01-30T18:06:31.612Z"
   },
   {
    "duration": 71,
    "start_time": "2023-01-30T18:06:31.678Z"
   },
   {
    "duration": 47,
    "start_time": "2023-01-30T18:06:31.750Z"
   },
   {
    "duration": 50,
    "start_time": "2023-01-30T18:06:31.798Z"
   },
   {
    "duration": 83,
    "start_time": "2023-01-30T18:06:31.849Z"
   },
   {
    "duration": 163,
    "start_time": "2023-01-30T18:06:31.935Z"
   },
   {
    "duration": 0,
    "start_time": "2023-01-30T18:06:32.100Z"
   },
   {
    "duration": 0,
    "start_time": "2023-01-30T18:06:32.101Z"
   },
   {
    "duration": 0,
    "start_time": "2023-01-30T18:06:32.103Z"
   },
   {
    "duration": 0,
    "start_time": "2023-01-30T18:06:32.104Z"
   },
   {
    "duration": 0,
    "start_time": "2023-01-30T18:06:32.105Z"
   },
   {
    "duration": 0,
    "start_time": "2023-01-30T18:06:32.106Z"
   },
   {
    "duration": 0,
    "start_time": "2023-01-30T18:06:32.108Z"
   },
   {
    "duration": 17,
    "start_time": "2023-01-30T18:08:28.080Z"
   },
   {
    "duration": 4,
    "start_time": "2023-01-30T18:08:29.655Z"
   },
   {
    "duration": 11,
    "start_time": "2023-01-30T18:08:30.577Z"
   },
   {
    "duration": 9,
    "start_time": "2023-01-30T18:08:38.504Z"
   },
   {
    "duration": 4,
    "start_time": "2023-01-30T18:08:49.396Z"
   },
   {
    "duration": 4,
    "start_time": "2023-01-30T18:08:50.900Z"
   },
   {
    "duration": 6,
    "start_time": "2023-01-30T18:08:55.818Z"
   },
   {
    "duration": 15,
    "start_time": "2023-01-30T18:09:02.507Z"
   },
   {
    "duration": 6,
    "start_time": "2023-01-30T18:09:25.274Z"
   },
   {
    "duration": 729,
    "start_time": "2023-01-30T18:09:28.739Z"
   },
   {
    "duration": 782,
    "start_time": "2023-01-30T18:09:32.094Z"
   },
   {
    "duration": 697,
    "start_time": "2023-01-30T18:09:35.105Z"
   },
   {
    "duration": 726,
    "start_time": "2023-01-30T18:11:09.014Z"
   },
   {
    "duration": 1358,
    "start_time": "2023-01-30T18:56:10.996Z"
   },
   {
    "duration": 355,
    "start_time": "2023-01-30T18:56:12.356Z"
   },
   {
    "duration": 14,
    "start_time": "2023-01-30T18:56:12.712Z"
   },
   {
    "duration": 33,
    "start_time": "2023-01-30T18:56:12.727Z"
   },
   {
    "duration": 37,
    "start_time": "2023-01-30T18:56:12.763Z"
   },
   {
    "duration": 47,
    "start_time": "2023-01-30T18:56:12.802Z"
   },
   {
    "duration": 41,
    "start_time": "2023-01-30T18:56:12.850Z"
   },
   {
    "duration": 44,
    "start_time": "2023-01-30T18:56:12.893Z"
   },
   {
    "duration": 49,
    "start_time": "2023-01-30T18:56:12.938Z"
   },
   {
    "duration": 40,
    "start_time": "2023-01-30T18:56:12.989Z"
   },
   {
    "duration": 32,
    "start_time": "2023-01-30T18:56:13.031Z"
   },
   {
    "duration": 144,
    "start_time": "2023-01-30T18:56:13.064Z"
   },
   {
    "duration": 717,
    "start_time": "2023-01-30T18:56:13.210Z"
   },
   {
    "duration": 816,
    "start_time": "2023-01-30T18:56:13.930Z"
   },
   {
    "duration": 665,
    "start_time": "2023-01-30T18:56:14.748Z"
   },
   {
    "duration": 15,
    "start_time": "2023-01-30T18:56:15.415Z"
   },
   {
    "duration": 13,
    "start_time": "2023-01-30T18:56:15.432Z"
   },
   {
    "duration": 13,
    "start_time": "2023-01-30T18:56:15.447Z"
   },
   {
    "duration": 9,
    "start_time": "2023-01-30T18:56:15.462Z"
   },
   {
    "duration": 2,
    "start_time": "2023-01-30T18:56:15.500Z"
   },
   {
    "duration": 7,
    "start_time": "2023-01-30T18:56:15.503Z"
   },
   {
    "duration": 9,
    "start_time": "2023-01-30T18:56:15.511Z"
   },
   {
    "duration": 21,
    "start_time": "2023-01-30T18:56:15.522Z"
   },
   {
    "duration": 3654,
    "start_time": "2023-01-30T18:56:15.545Z"
   },
   {
    "duration": 7,
    "start_time": "2023-01-30T18:56:19.201Z"
   },
   {
    "duration": 205,
    "start_time": "2023-01-30T18:56:19.209Z"
   },
   {
    "duration": 23,
    "start_time": "2023-01-30T18:56:19.416Z"
   },
   {
    "duration": 24,
    "start_time": "2023-01-30T18:56:19.440Z"
   },
   {
    "duration": 36,
    "start_time": "2023-01-30T18:56:19.465Z"
   },
   {
    "duration": 26,
    "start_time": "2023-01-30T18:56:19.503Z"
   },
   {
    "duration": 4168,
    "start_time": "2023-01-30T18:56:19.531Z"
   },
   {
    "duration": 98,
    "start_time": "2023-01-30T18:56:23.701Z"
   },
   {
    "duration": 5,
    "start_time": "2023-01-30T18:56:23.801Z"
   },
   {
    "duration": 12,
    "start_time": "2023-01-30T18:56:23.808Z"
   },
   {
    "duration": 19,
    "start_time": "2023-01-30T18:56:23.822Z"
   },
   {
    "duration": 3459,
    "start_time": "2023-01-30T18:56:23.843Z"
   },
   {
    "duration": 97,
    "start_time": "2023-01-30T18:56:27.303Z"
   },
   {
    "duration": 101,
    "start_time": "2023-01-30T18:56:27.402Z"
   },
   {
    "duration": 5,
    "start_time": "2023-01-30T18:56:27.505Z"
   },
   {
    "duration": 17,
    "start_time": "2023-01-30T18:56:27.511Z"
   },
   {
    "duration": 13,
    "start_time": "2023-01-30T18:56:27.532Z"
   },
   {
    "duration": 10,
    "start_time": "2023-01-30T18:56:27.547Z"
   },
   {
    "duration": 11,
    "start_time": "2023-01-30T18:56:27.559Z"
   },
   {
    "duration": 14,
    "start_time": "2023-01-30T18:56:27.572Z"
   },
   {
    "duration": 12,
    "start_time": "2023-01-30T18:56:27.599Z"
   },
   {
    "duration": 8,
    "start_time": "2023-01-30T18:56:27.613Z"
   },
   {
    "duration": 10,
    "start_time": "2023-01-30T18:56:27.622Z"
   },
   {
    "duration": 14,
    "start_time": "2023-01-30T18:56:27.633Z"
   },
   {
    "duration": 7,
    "start_time": "2023-01-30T18:56:27.650Z"
   },
   {
    "duration": 8,
    "start_time": "2023-01-30T18:56:27.659Z"
   },
   {
    "duration": 6,
    "start_time": "2023-01-30T18:56:27.700Z"
   },
   {
    "duration": 20,
    "start_time": "2023-01-30T18:56:27.708Z"
   },
   {
    "duration": 3,
    "start_time": "2023-01-30T18:56:27.730Z"
   },
   {
    "duration": 9,
    "start_time": "2023-01-30T18:56:27.734Z"
   },
   {
    "duration": 12,
    "start_time": "2023-01-30T18:56:27.744Z"
   },
   {
    "duration": 8,
    "start_time": "2023-01-30T18:56:27.759Z"
   },
   {
    "duration": 764,
    "start_time": "2023-01-30T18:56:27.769Z"
   },
   {
    "duration": 685,
    "start_time": "2023-01-30T18:56:28.535Z"
   },
   {
    "duration": 651,
    "start_time": "2023-01-30T18:56:29.222Z"
   }
  ],
  "kernelspec": {
   "display_name": "Python 3 (ipykernel)",
   "language": "python",
   "name": "python3"
  },
  "language_info": {
   "codemirror_mode": {
    "name": "ipython",
    "version": 3
   },
   "file_extension": ".py",
   "mimetype": "text/x-python",
   "name": "python",
   "nbconvert_exporter": "python",
   "pygments_lexer": "ipython3",
   "version": "3.9.5"
  },
  "toc": {
   "base_numbering": 1,
   "nav_menu": {},
   "number_sections": true,
   "sideBar": true,
   "skip_h1_title": true,
   "title_cell": "Table of Contents",
   "title_sidebar": "Contents",
   "toc_cell": false,
   "toc_position": {},
   "toc_section_display": true,
   "toc_window_display": false
  }
 },
 "nbformat": 4,
 "nbformat_minor": 2
}
