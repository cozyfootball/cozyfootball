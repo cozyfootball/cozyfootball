{
 "cells": [
  {
   "cell_type": "markdown",
   "id": "c30fcdc0",
   "metadata": {},
   "source": [
    "# SQL Roadmap"
   ]
  },
  {
   "cell_type": "markdown",
   "id": "bea2eb97",
   "metadata": {},
   "source": [
    "### Приоритеты операций:\n",
    "\n",
    "1. круглые скобки\n",
    "2. умножение  (*),  деление (/)\n",
    "3. сложение  (+), вычитание (-)\n",
    "4. операторы сравнения (=, >, <, >=, <=, <>)\n",
    "5. NOT\n",
    "6. AND\n",
    "7. OR"
   ]
  },
  {
   "cell_type": "markdown",
   "id": "ceafa5db",
   "metadata": {},
   "source": [
    "### Запросы выполняются в таком порядке:\n",
    "1. **FROM**\n",
    "На этом же этапе объединяются таблицы операторами JOIN и назначаются для них псевдонимы. Важно учесть, что присоединение предшествует фильтрации и группировке. Это означает, что большие таблицы будут объединяться очень долго. В этом случае выручат временные таблицы.\n",
    "2. **WHERE**. Остаются только те данные, которые соответствуют условиям.\n",
    "3. **GROUP BY**\n",
    "4. **HAVING**  \n",
    "5. **SELECT**, а полям в итоговой таблице присваиваются псевдонимы. По этой причине псевдонимы нельзя использовать после WHERE и HAVING — они ещё не назначены. В некоторых СУБД псевдонимы нельзя использовать и после GROUP BY. В PostgreSQL есть расширение, которое устраняет эту проблему.\n",
    "6. После SELECT срабатывает ключевое слово **DISTINCT**, которое отбирает уникальные значения.\n",
    "7. Оператор **ORDER BY** действует предпоследним.\n",
    "8. Замыкающим будет оператор **LIMIT**"
   ]
  },
  {
   "cell_type": "markdown",
   "id": "0380ad29",
   "metadata": {},
   "source": [
    "### Виды JOIN\n",
    "1. **LEFT OUTER JOIN** — тип объединения, который предполагает, что в результат слияния войдут все записи из левой таблицы. Записи из правой таблицы сохранятся только в том случае, если значения в нужном поле совпадают со значениями в левой таблице.\n",
    "2. **INNER JOIN** предполагает объединение по «внутренней» области, общей для двух таблиц. Покажем на примере таблиц с фамилией покупателей и числом покупок. Объединить две таблицы можно с помощью общего поля ID_покупателя. Если использовать оператор INNER JOIN, таблица сложится из совпадающих значений в поле ID_покупателя в обеих таблицах.\n",
    "3. **FULL OUTER JOIN** объединяет все данные из левой и правой таблиц. Если не нашлось совпадения, на месте значения будет NULL."
   ]
  },
  {
   "cell_type": "markdown",
   "id": "9be4aca6",
   "metadata": {},
   "source": [
    "### Типы данных"
   ]
  },
  {
   "cell_type": "markdown",
   "id": "d3eca084",
   "metadata": {},
   "source": [
    "1. **Числовые типы**:  \n",
    "- integer(целые числа)\n",
    "- real (вещественные числа)\n",
    "2. **Символьные типы**:\n",
    "- character или char(n) где n это лимит по количеству символов (Если не указывать n, его значение по умолчанию будет 1)\n",
    "- character varying или  varchar(n) (Значение n управляет лимитом строки, но его можно не указывать)\n",
    "3. **Дата и время**:\n",
    "- timestamp\n",
    "В PostgreSQL типов **timestamp** два: timestamp with time zone, который включает данные о часовом поясе, и timestamp without time zone, который данных о часовом поясе не содержит. Часовые пояса указывают по стандарту UTC: '2004-10-19 10:23:54+02'\n",
    "В тип date входит только дата. Дату можно задавать в любом формате, например October 19, 2004, 2004-Oct-19 или даже 20041019.\n",
    "Тип **time** хранит только время и принимает значения от 00:00:00 до 24:00:00.\n",
    "Тип **interval** используют для обозначения интервала между датами. Задать нужный интервал можно с помощью условных обозначений или в свободной форме. Например, запись '1 12:59:10' обозначает 1 день 12 часов 59 минут 10 секунд.\n",
    "4. **Логические типы**:\n",
    "- Для **TRUE** список аналогий такой: 'true', 't', 'yes', 'y', 'on', '1'\n",
    "- Вместо **FALSE** можно написать: 'false', 'f', 'no', 'n', 'off', '0'"
   ]
  },
  {
   "cell_type": "markdown",
   "id": "79e7d1ad",
   "metadata": {},
   "source": [
    "**Управление типом данных**"
   ]
  },
  {
   "cell_type": "code",
   "execution_count": 1,
   "id": "04517c87",
   "metadata": {},
   "outputs": [],
   "source": [
    "SQL = '''SELECT CAST(поле AS тип данных)\n",
    "FROM table'''"
   ]
  },
  {
   "cell_type": "code",
   "execution_count": 2,
   "id": "050b14af",
   "metadata": {},
   "outputs": [],
   "source": [
    "SQL = 'SELECT CAST(birth_date as date) FROM staff'\n",
    "SQL = 'SELECT CAST(total AS integer) FROM invoice' \n",
    "SQL =  '''SELECT \n",
    "           CAST(milliseconds AS varchar),\n",
    "           CAST(bytes AS varchar)\n",
    "FROM track; '''"
   ]
  },
  {
   "cell_type": "markdown",
   "id": "3f670558",
   "metadata": {},
   "source": [
    "### Агрегирующие функции"
   ]
  },
  {
   "cell_type": "markdown",
   "id": "a41cb2f3",
   "metadata": {},
   "source": [
    "**Основные агрегирующие функции в SQL**\n",
    "\n",
    "- **SUM**(поле) возвращает сумму значений в поле;  \n",
    "- **AVG**(поле) находит среднее арифметическое для значений в поле;  \n",
    "- **MIN**(поле) возвращает минимальное значение в поле;  \n",
    "- **МАХ**(поле) возвращает максимальное значение в поле;  \n",
    "- **COUNT**(*) выводит количество записей в таблице, а COUNT(поле) — количество записей в поле. "
   ]
  },
  {
   "cell_type": "code",
   "execution_count": 3,
   "id": "3a4371a6",
   "metadata": {},
   "outputs": [],
   "source": [
    "SQL = '''\n",
    "SELECT MIN(total),\n",
    "       MAX(total),\n",
    "       ROUND(AVG(total)),\n",
    "       COUNT(DISTINCT(customer_id)),\n",
    "       SUM(total)\n",
    "FROM invoice\n",
    "WHERE EXTRACT(MONTH FROM CAST(invoice_date AS timestamp)) = 9\n",
    "  AND customer_id in (11, 13, 44, 36, 48, 52, 54, 56)'''"
   ]
  },
  {
   "cell_type": "markdown",
   "id": "447a0ae9",
   "metadata": {},
   "source": [
    "**ABS**\tВозвращает модуль числа  \n",
    "**Пример:** ABS(-14) => 14  \n",
    "\n",
    "**CEILING** Возвращает число, округлённое до целого в большую сторону  \n",
    "**Пример:** CEILING(42.8) => 43\n",
    "\n",
    "**FLOOR** Возвращает число, округлённое до целого в меньшую сторону  \n",
    "**Пример:** FLOOR(42.8) => 42\n",
    "\n",
    "**ROUND** Округляет значение до ближайшего числа, округляет число до определённого количества знаков после запятой  \n",
    "**Пример:** ROUND(42.4) ROUND(42.4382, 2) => 42 42.44\n",
    "\n",
    "**TRUNC** Усекает значение до ближайшего числа, усекает число до указанного количества знаков после запятой, но число при этом не округляет  \n",
    "**Пример:** TRUNC(42.4) TRUNC(42.4382, 2) => 42 42.43\n",
    "\n",
    "**POWER** Возвращает число, возведённое в степень, — нужную степень указывают вторым аргументом  \n",
    "**Пример:** POWER(9, 3) => 729  \n",
    "\n",
    "**SQRT** Извлекает квадратный корень из числа  \n",
    "**Пример:** SQRT(9) => 3  "
   ]
  },
  {
   "cell_type": "markdown",
   "id": "fa3f46e2",
   "metadata": {},
   "source": [
    "**DISTINCT** - возвращает уникальные значения  \n",
    "Если перечислить несколько полей после DISTINCT, запрос выведет все уникальные комбинации значений в этих полях.  \n",
    "C помощью DISTINCT можно вывести именно комбинации уникальных значений: идентификаторов и стран.  \n",
    "Ключевое слово DISTINCT можно сочетать с агрегирующими функциями. Например, уникальные значения можно посчитать.  \n",
    "Здесь пригодится функция COUNT.  \n",
    "DISTINCT с агрегирующими функциями сочетать нельзя"
   ]
  },
  {
   "cell_type": "markdown",
   "id": "7667d741",
   "metadata": {},
   "source": [
    "### Работа с датой и временем"
   ]
  },
  {
   "cell_type": "markdown",
   "id": "e0d3bbfd",
   "metadata": {},
   "source": [
    "В PostgreSQL есть несколько подходящих операторов для такой задачи:\n",
    "- **CURRENT_DATE** вернёт текущую дату.\n",
    "- **CURRENT_TIME** выведет текущее время.\n",
    "- **CURRENT_TIMESTAMP** вернёт текущие дату и время."
   ]
  },
  {
   "cell_type": "markdown",
   "id": "9792376c",
   "metadata": {},
   "source": [
    "Функция **DATE_TRUNC** «усекает» дату и время до необходимого значения: года, месяца или дня.  \n",
    "Синтаксис функции такой: DATE_TRUNC('отрезок времени', поле)."
   ]
  },
  {
   "cell_type": "markdown",
   "id": "03db52c0",
   "metadata": {},
   "source": [
    "Отрезок времени может быть разным, главное, не забыть одинарные кавычки:  \n",
    "**'microseconds'** — микросекунды;  \n",
    "**'milliseconds'** — миллисекунды;  \n",
    "**'second'** — секунда;  \n",
    "**'minute'** — минута;  \n",
    "**'hour'** — час;  \n",
    "**'day'** — день;  \n",
    "**'week'** — неделя;  \n",
    "**'month'** — месяц;  \n",
    "**'quarter'** — квартал;  \n",
    "**'year'** — год;  \n",
    "**'decade'** — десятилетие;  \n",
    "**'century'** — век.  \n",
    "DATE_TRUNC вернёт данные типов timestamp или interval"
   ]
  },
  {
   "cell_type": "code",
   "execution_count": 4,
   "id": "b09a0366",
   "metadata": {},
   "outputs": [],
   "source": [
    "SQL = '''\n",
    "SELECT DATE_TRUNC('year', birth_date)\n",
    "FROM staff\n",
    "'''\n",
    "SQL = '''\n",
    "SELECT DATE_TRUNC('month', birth_date)\n",
    "FROM staff\n",
    "LIMIT 5;\n",
    "'''"
   ]
  },
  {
   "cell_type": "markdown",
   "id": "db6e731d",
   "metadata": {},
   "source": [
    "Обратите внимание, что дата отображена в том же формате, но теперь она «округлилась» до первого числа года.  \n",
    "Если поменять значение на 'month', появится первое число месяц."
   ]
  },
  {
   "cell_type": "markdown",
   "id": "77fa33c1",
   "metadata": {},
   "source": [
    "**EXTRACT** когда нужно получить конкретную часть даты: год, месяц или минуту.  \n",
    "Cинтаксис  EXTRACT(отрезок времени FROM поле). \n",
    "\n",
    "**CENTURY** — век;  \n",
    "**DAY** — день;  \n",
    "**DOY (от англ. day of the year)** — день года, выраженный числом от 1 до 365 или 366, если год високосный;  \n",
    "**DOW (от англ. day of the week)** — день недели, выраженный числом от 0 до 6, где понедельник — 1, воскресенье — 0.  \n",
    "**ISODOW (от англ. day of the week и ISO 8601)** — день недели, выраженный числом от 1 до 7, где понедельник — 1, воскресенье — 7.  \n",
    "**HOUR** — час;  \n",
    "**MILLISECOND** — миллисекунда;  \n",
    "**MINUTE** — минута;  \n",
    "**MONTH** — месяц;  \n",
    "**SECOND** — секунда;  \n",
    "**QUARTER** — квартал;  \n",
    "**WEEK** — неделя в году;  \n",
    "**YEAR** — год.   \n",
    "EXTRACT — данные типа double precision."
   ]
  },
  {
   "cell_type": "code",
   "execution_count": 5,
   "id": "6d295a88",
   "metadata": {},
   "outputs": [],
   "source": [
    "SQL = '''\n",
    "SELECT EXTRACT(YEAR FROM birth_date)\n",
    "FROM staff\n",
    "'''\n",
    "\n",
    "SQL = '''\n",
    "SELECT customer_id,\n",
    "       total,\n",
    "       invoice_date,\n",
    "       DATE_TRUNC('month',CAST (invoice_date AS timestamp without time zone)),\n",
    "       EXTRACT(WEEK FROM CAST (invoice_date AS timestamp without time zone))\n",
    "FROM invoice\n",
    "WHERE customer_id BETWEEN 20 AND 50\n",
    "'''\n",
    "\n",
    "SQL = '''\n",
    "SELECT customer_id,\n",
    "       invoice_date,\n",
    "       total,\n",
    "       DATE_TRUNC('month', CAST(invoice_date AS timestamp)),\n",
    "       EXTRACT(WEEK FROM CAST(invoice_date AS timestamp)) as og\n",
    "FROM invoice\n",
    "WHERE customer_id BETWEEN 20 AND 50 AND EXTRACT(WEEK FROM CAST(invoice_date AS timestamp)) IN (5,7,10,33,48);\n",
    "'''\n",
    "\n",
    "SQL = 'SELECT * FROM invoice WHERE EXTRACT(DAY FROM CAST(invoice_date AS timestamp)) IN (1)'\n",
    "\n",
    "SQL = 'SELECT email FROM staff WHERE EXTRACT(YEAR FROM CAST(hire_date AS timestamp)) IN (2002) AND city = \"Calgary\";'"
   ]
  },
  {
   "cell_type": "markdown",
   "id": "fb1b8e03",
   "metadata": {},
   "source": [
    "**Важно:**  \n",
    "Функции **DATE_TRUNC и EXTRACT** принимают на вход данные тех типов, которые используют для работы с датой и временем. Но есть особенности. Типы date и time функции автоматически переведут в timestamp with time zone. Будьте осторожны: при автоматическом переводе date в timestamp with time zone время подстроится к часовому поясу пользователя и потому может сместиться."
   ]
  },
  {
   "cell_type": "markdown",
   "id": "0372e8d8",
   "metadata": {},
   "source": [
    "### Простой SELECT"
   ]
  },
  {
   "cell_type": "markdown",
   "id": "279b0db1",
   "metadata": {},
   "source": [
    "**Выгрузить таблицу полностью**"
   ]
  },
  {
   "cell_type": "code",
   "execution_count": 6,
   "id": "ce367919",
   "metadata": {},
   "outputs": [],
   "source": [
    "SQL = \"SELECT * FROM table\""
   ]
  },
  {
   "cell_type": "markdown",
   "id": "3621d260",
   "metadata": {},
   "source": [
    "**Выгрузить конкретные столбцы из таблицы**"
   ]
  },
  {
   "cell_type": "code",
   "execution_count": 7,
   "id": "996a4f20",
   "metadata": {},
   "outputs": [],
   "source": [
    "SQL = \"SELECT column1, column2, column3 FROM table\""
   ]
  },
  {
   "cell_type": "markdown",
   "id": "de585f7e",
   "metadata": {},
   "source": [
    "**Ограничить выгрузку**"
   ]
  },
  {
   "cell_type": "code",
   "execution_count": 8,
   "id": "7b54ebec",
   "metadata": {},
   "outputs": [],
   "source": [
    "SQL = \"SELECT *  FROM table LIMIT 13\""
   ]
  },
  {
   "cell_type": "markdown",
   "id": "1f3900ff",
   "metadata": {},
   "source": [
    "**Ограничить выгрузку, но выгружать с конкретной строки**"
   ]
  },
  {
   "cell_type": "code",
   "execution_count": 9,
   "id": "83cf2884",
   "metadata": {},
   "outputs": [],
   "source": [
    "SQL = \"SELECT *  FROM table LIMIT 13 OFFSET 21\""
   ]
  },
  {
   "cell_type": "markdown",
   "id": "6d452c6a",
   "metadata": {},
   "source": [
    "**Выгружать с конкретной строки**"
   ]
  },
  {
   "cell_type": "code",
   "execution_count": 10,
   "id": "00cb8bf0",
   "metadata": {},
   "outputs": [],
   "source": [
    "SQL = \"SELECT *  FROM table OFFSET 21\""
   ]
  },
  {
   "cell_type": "markdown",
   "id": "3182d25a",
   "metadata": {},
   "source": [
    "### WHERE"
   ]
  },
  {
   "cell_type": "markdown",
   "id": "b17303dd",
   "metadata": {},
   "source": [
    "Оператор SQL WHERE используется для фильтрации данных в запросах SELECT, UPDATE или DELETE. Он позволяет выбирать только те строки таблицы, которые удовлетворяют определенным критериям.\n",
    "\n",
    "Например, если вы хотите выбрать все заказы из таблицы \"Заказы\", сделанные клиентом с идентификатором 1, вы можете написать запрос следующего вида:\n",
    "\n",
    "**SELECT * FROM Заказы WHERE КлиентID = 1;**\n",
    "\n",
    "\n",
    "Также оператор WHERE может использоваться в командах UPDATE и DELETE для обновления и удаления только тех строк таблицы, которые соответствуют заданным условиям."
   ]
  },
  {
   "cell_type": "code",
   "execution_count": 11,
   "id": "8aab7d09",
   "metadata": {},
   "outputs": [],
   "source": [
    "SQL = '''SELECT *\n",
    "FROM invoice_line\n",
    "WHERE unit_price > 0.99'''\n",
    "SQL = '''SELECT billing_address, \n",
    "cast(invoice_date as date) \n",
    "FROM invoice \n",
    "WHERE total >=8'''\n",
    "SQL = '''SELECT first_name, \n",
    "last_name, \n",
    "city \n",
    "FROM client \n",
    "WHERE country ='Brazil'''"
   ]
  },
  {
   "cell_type": "markdown",
   "id": "e24de295",
   "metadata": {},
   "source": [
    "Оператор WHERE работает только с изначальной таблицей, но не с результатом агрегирующих функций."
   ]
  },
  {
   "cell_type": "markdown",
   "id": "b44b94e9",
   "metadata": {},
   "source": [
    "### Логические операторы AND, OR, NOT"
   ]
  },
  {
   "cell_type": "markdown",
   "id": "d0d9824d",
   "metadata": {},
   "source": [
    "Условия с разными логическими операторами различаются приоритетом.   \n",
    "\n",
    "Первым всегда выполняется условие  \n",
    "с оператором **NOT**  \n",
    "за ним **AND**  \n",
    "и только в последнюю очередь — условие с **OR**   \n",
    "- AND возвращает TRUE, только если оба логических значения тоже TRUE.  \n",
    "- OR возвращает TRUE, если хотя бы одно логическое значение тоже TRUE.  \n",
    "- NOT меняет значение выражения на противоположное: TRUE на FALSE, а FALSE на TRUE.  "
   ]
  },
  {
   "cell_type": "code",
   "execution_count": 12,
   "id": "22269321",
   "metadata": {},
   "outputs": [],
   "source": [
    "SQL = '''\n",
    "SELECT total,\n",
    "       customer_id\n",
    "FROM invoice\n",
    "WHERE billing_city = 'Paris' OR billing_city = 'London' OR billing_city = 'Dublin';\n",
    "'''\n",
    "\n",
    "SQL = '''\n",
    "SELECT total, \n",
    "customer_id \n",
    "FROM invoice \n",
    "WHERE total >= 5 AND (customer_id = 40 OR customer_id = 46)\n",
    "'''\n",
    "\n",
    "SQL = '''\n",
    "SELECT total,\n",
    "       customer_id\n",
    "FROM invoice\n",
    "WHERE (billing_city = 'Paris' OR billing_city = 'London' OR billing_city = 'Dublin')\n",
    "AND total >= 5 AND (customer_id = 40 OR customer_id = 46);\n",
    "'''\n",
    "\n",
    "SQL = '''\n",
    "SELECT last_name, \n",
    "phone  \n",
    "FROM client \n",
    "WHERE (country = 'USA' OR country = 'France') AND support_rep_id = 3\n",
    "'''\n",
    "\n",
    "SQL = '''\n",
    "SELECT title \n",
    "FROM movie \n",
    "WHERE rental_rate <= 2 AND rental_duration > 6 \n",
    "AND (rating != 'PG' AND rating != 'PG-13');\n",
    "'''\n",
    "\n",
    "SQL = '''\n",
    "SELECT billing_address, \n",
    "billing_city FROM invoice \n",
    "WHERE invoice_date BETWEEN '2009-09-01' AND '2009-10-01' \n",
    "AND billing_country NOT IN ('USA', 'Brazil') AND total > 2;\n",
    "'''"
   ]
  },
  {
   "cell_type": "markdown",
   "id": "46758be1",
   "metadata": {},
   "source": [
    "### LIKE, IN, BETWEEN"
   ]
  },
  {
   "cell_type": "markdown",
   "id": "c0cdd7a9",
   "metadata": {},
   "source": [
    "Оператор **IN**.  \n",
    "Значения, по которым нужно фильтровать данные, перечисляют в скобках."
   ]
  },
  {
   "cell_type": "code",
   "execution_count": 13,
   "id": "d6211fca",
   "metadata": {},
   "outputs": [],
   "source": [
    "SQL = '''SELECT total,\n",
    "       customer_id\n",
    "FROM invoice\n",
    "WHERE billing_city IN ('Dublin',\n",
    "                       'London',\n",
    "                       'Paris',\n",
    "                       'Boston',\n",
    "                       'Berlin',\n",
    "                       'Stuttgart');\n",
    "                       '''\n",
    "\n",
    "SQL = '''\n",
    "SELECT billing_address, \n",
    "billing_country \n",
    "FROM invoice \n",
    "WHERE billing_country IN ('USA', 'India', 'Canada', 'Argentina', 'France')\n",
    "'''\n",
    "\n",
    "SQL = '''\n",
    "SELECT billing_address,\n",
    "       billing_country\n",
    "FROM invoice\n",
    "WHERE billing_country IN ('USA',\n",
    "                          'India',\n",
    "                          'Canada',\n",
    "                          'Argentina',\n",
    "                          'France')\n",
    " AND billing_city NOT IN ('Redmond' , 'Lyon', 'Delhi')'''"
   ]
  },
  {
   "cell_type": "markdown",
   "id": "f7d5fc29",
   "metadata": {},
   "source": [
    "В SQL можно получить срез не только по конкретному значению, но и по шаблону.  \n",
    "Для этого используют оператор **LIKE**, а с помощью знака % показывают, какую позицию в строке занимает шаблон.  \n",
    "Оператор LIKE ищет не слова, а символы в строке."
   ]
  },
  {
   "cell_type": "markdown",
   "id": "954ebc87",
   "metadata": {},
   "source": [
    "**'text%'**\tЗначения, которые начинаются с text **WHERE quotes LIKE 'кот%'**   \n",
    "**'%text'**\tЗначения, которые заканчиваются на text **WHERE quotes LIKE '%кот'**  \n",
    "**'%text%'**\tЗначения, в которых text занимает любую позицию **WHERE quotes LIKE '%кот%'**  \n",
    "**'te%xt'**\tЗначения, которые начинаются на te и заканчиваются на xt **WHERE quotes LIKE 'ко%т'**"
   ]
  },
  {
   "cell_type": "code",
   "execution_count": 14,
   "id": "d468d7ed",
   "metadata": {},
   "outputs": [],
   "source": [
    "SQL = '''\n",
    "SELECT name F\n",
    "ROM playlist \n",
    "WHERE name LIKE '%Classic%' '''\n",
    "\n",
    "SQL = '''\n",
    "SELECT title \n",
    "FROM movie \n",
    "WHERE description \n",
    "LIKE '%Mexico' AND (rental_rate < 2 OR rating !='PG-13')'''\n",
    "\n",
    "SQL = '''\n",
    "SELECT name \n",
    "FROM track \n",
    "WHERE (milliseconds>300000 AND composer LIKE '%Bono%' AND genre_id IN (7,8,9,10)) \n",
    "OR bytes > 1000000000'''"
   ]
  },
  {
   "cell_type": "markdown",
   "id": "70ce094c",
   "metadata": {},
   "source": [
    "Оператор **BETWEEN**   \n",
    "Границы диапазона указывают так: WHERE [ключевое слово] BETWEEN [начало диапазона] AND [конец диапазона].  \n",
    "Начало и конец диапазона включены в проверку условием. "
   ]
  },
  {
   "cell_type": "code",
   "execution_count": 15,
   "id": "b29a08c9",
   "metadata": {},
   "outputs": [],
   "source": [
    "SQL = '''SELECT *\n",
    "FROM invoice\n",
    "WHERE customer_id BETWEEN 23 AND 48'''\n",
    "\n",
    "SQL = '''SELECT last_name\n",
    "FROM staff\n",
    "WHERE birth_date BETWEEN \"1970-01-01\" AND \"1970-12-31\" '''\n",
    "\n",
    "\n",
    "SQL = '''SELECT * \n",
    "FROM invoice \n",
    "WHERE cast(invoice_date as DATE) BETWEEN '2009-03-04' AND '2012-02-09' \n",
    "AND total < 5\n",
    "AND billing_country NOT\n",
    "IN ('Canada', 'Finland', 'Brazil');'''"
   ]
  },
  {
   "cell_type": "markdown",
   "id": "42a632fb",
   "metadata": {},
   "source": [
    "### CASE"
   ]
  },
  {
   "cell_type": "markdown",
   "id": "93f9a20a",
   "metadata": {},
   "source": [
    "Так выглядит синтаксис условных конструкций в **SQL**: \n",
    "- начало конструкции обозначают оператором **CASE**,\n",
    "- после оператора **WHEN** пишут условие,\n",
    "- после оператора **THEN** — возвращаемый результат;\n",
    "- а в конце указывают оператор **END**."
   ]
  },
  {
   "cell_type": "code",
   "execution_count": 16,
   "id": "65fa6be8",
   "metadata": {},
   "outputs": [],
   "source": [
    "SQL = '''SELECT last_name, first_name, title,\n",
    "      CASE \n",
    "          WHEN title LIKE '%IT%' THEN 'разработка'\n",
    "          WHEN title LIKE '%Manager%' AND title NOT LIKE '%IT%' THEN 'отдел продаж'\n",
    "          WHEN title LIKE '%Support%' THEN 'поддержка'\n",
    "      END\n",
    "FROM staff'''\n",
    "\n",
    "SQL = '''\n",
    "SELECT total,\n",
    "       CASE\n",
    "           WHEN total < 5 THEN 'маленький'\n",
    "           WHEN total >= 5 AND total < 10 THEN 'средний'\n",
    "           WHEN total >= 10 THEN 'крупный'\n",
    "       END\n",
    "FROM invoice\n",
    "LIMIT 10'''\n",
    "\n",
    "SQL = '''\n",
    "SELECT title, rental_rate,\n",
    "    CASE\n",
    "        WHEN rental_rate <1 THEN 'категория 1'\n",
    "        WHEN rental_rate >=  1 AND rental_rate <3 THEN 'категория 2'\n",
    "        WHEN rental_rate >=  3 THEN 'категория 3'\n",
    "    END\n",
    "FROM movie'''"
   ]
  },
  {
   "cell_type": "markdown",
   "id": "38467b19",
   "metadata": {},
   "source": [
    "### GROUP BY"
   ]
  },
  {
   "cell_type": "markdown",
   "id": "07ebcf0b",
   "metadata": {},
   "source": [
    "В запросе GROUP BY всегда располагается после условного оператора WHERE.  \n",
    "Если WHERE в запросе нет, оператор GROUP BY нужно указать после FROM.\n",
    "\n",
    "*-- нужно указать поля и необходимые вычисления  \n",
    "SELECT billing_city,   \n",
    "       ROUND(AVG(total))  \n",
    "FROM invoice -- не забыть таблицу  \n",
    "GROUP BY billing_city -- здесь указывают поле, по которому группируют данные  \n",
    "LIMIT 5;*"
   ]
  },
  {
   "cell_type": "code",
   "execution_count": 17,
   "id": "87b8febf",
   "metadata": {},
   "outputs": [],
   "source": [
    "SQL = '''\n",
    "SELECT billing_city, \n",
    "SUM(total), \n",
    "COUNT(total), \n",
    "AVG(total)\n",
    "FROM invoice\n",
    "WHERE billing_country = 'USA'\n",
    "GROUP BY billing_city\n",
    "'''\n",
    "\n",
    "SQL = '''\n",
    "SELECT SUM(total), \n",
    "COUNT(DISTINCT(customer_id)), \n",
    "SUM(total)/COUNT(DISTINCT(customer_id))\n",
    "FROM invoice\n",
    "WHERE billing_country = 'USA' '''\n",
    "\n",
    "SQL = '''\n",
    "SELECT DATE_TRUNC('week', CAST(invoice_date AS timestamp)),\n",
    "       SUM(total),\n",
    "       COUNT(DISTINCT customer_id),\n",
    "       SUM(total)/COUNT(DISTINCT customer_id)\n",
    "FROM invoice\n",
    "WHERE billing_country = 'USA'\n",
    "GROUP BY DATE_TRUNC('week', CAST(invoice_date AS timestamp))\n",
    "'''\n",
    "\n",
    "SQL = '''\n",
    "SELECT support_rep_id, \n",
    "COUNT(customer_id)\n",
    "FROM client\n",
    "WHERE cast(email as varchar) LIKE '%yahoo%' OR cast(email as varchar) LIKE '%gmail%'\n",
    "GROUP BY support_rep_id\n",
    "'''\n",
    "\n",
    "SQL = '''\n",
    "SELECT \n",
    "       CASE \n",
    "           WHEN total < 1 THEN 'low cost'\n",
    "           WHEN total >= 1 THEN 'high cost'\n",
    "       END AS cost_cat,\n",
    "       SUM(total)\n",
    "FROM invoice\n",
    "WHERE billing_postal_code IS NOT NULL\n",
    "GROUP BY cost_cat\n",
    "'''"
   ]
  },
  {
   "cell_type": "markdown",
   "id": "9c3ccf5f",
   "metadata": {},
   "source": [
    "**Группировка и сортировка по нескольким полям** "
   ]
  },
  {
   "cell_type": "markdown",
   "id": "97a27439",
   "metadata": {},
   "source": [
    "Сортировать можно не только числа, но и строки: страна заказа будет отсортирована в лексикографическом порядке. Идентификатор пользователя будет отсортирован по возрастанию, а сумма заказа — по убыванию. "
   ]
  },
  {
   "cell_type": "code",
   "execution_count": 18,
   "id": "92578fc5",
   "metadata": {},
   "outputs": [],
   "source": [
    "SQL = '''SELECT billing_country,\n",
    "       customer_id,\n",
    "       total\n",
    "FROM invoice\n",
    "WHERE billing_country = 'India' or billing_country = 'Portugal'\n",
    "ORDER BY billing_country, \n",
    "         customer_id,\n",
    "         total DESC'''"
   ]
  },
  {
   "cell_type": "markdown",
   "id": "8b941c31",
   "metadata": {},
   "source": [
    "### HAVING"
   ]
  },
  {
   "cell_type": "markdown",
   "id": "ce3c5a5f",
   "metadata": {},
   "source": [
    "Если нужно получить срез данных после группировки, используют оператор **HAVING**. **HAVING** похож на оператор **WHERE**, но с отличием: **HAVING** всегда идёт после **GROUP BY**.\n",
    "\n",
    "**WHERE**  \n",
    "- используют чтобы получить срез данных перед группировкой или отфильтровать записи для агрегирующих функций\n",
    "- можно применить без оператора GROUP BY\n",
    "- используют перед оператором GROUP BY\n",
    "- нельзя сочитать с агрегирующими функциями\n",
    "\n",
    "**HAVING**  \n",
    "- используют чтобы получить срез данных после группировки\n",
    "- нельзя применить без оператора GROUP BY\n",
    "- используют после оператора GROUP BY\n",
    "- можно сочитать с агрегирующими функциями"
   ]
  },
  {
   "cell_type": "code",
   "execution_count": 19,
   "id": "b6a682b0",
   "metadata": {},
   "outputs": [],
   "source": [
    "#Сравните фильмы разных возрастных рейтингов. Найдите среднее значение цены аренды фильма в поле rental_rate для каждого рейтинга (поле rating). Оставьте в таблице только те записи, в которых среднее значение rental_rate больше 3.\n",
    "SQL = '''SELECT rating, AVG(rental_rate)\n",
    "FROM movie\n",
    "GROUP BY rating\n",
    "HAVING AVG(rental_rate) > 3'''\n",
    "\n",
    "#Изучите заказы, которые оформили в сентябре 2011 года. Сравните общую сумму выручки (поле total) за каждый день этого месяца: выведите день в формате '2011-09-01'  и сумму. Информацию о дате заказа хранит поле invoice_date. Не забудьте изменить тип данных в этом поле, чтобы использовать операторы для работы с датой. Оставьте в таблице только те значения суммы, которые больше 1 и меньше 10.\n",
    "SQL = '''SELECT CAST(invoice_date AS date), SUM(total)\n",
    "FROM invoice\n",
    "WHERE CAST(invoice_date AS date) BETWEEN '2011-09-01' AND '2011-10-01'\n",
    "GROUP BY CAST(invoice_date AS date)\n",
    "HAVING SUM(total) BETWEEN 2 AND 9'''\n",
    "\n",
    "#Посчитайте пропуски в поле с почтовым индексом billing_postal_code для каждой страны (поле billing_country). Получите срез: в таблицу должны войти только те записи, в которых поле billing_address не содержит слов Street, Way, Road или Drive. Отобразите в таблице страну и число пропусков, если их больше 10.\n",
    "SQL = '''\n",
    "SELECT COUNT(*),\n",
    "       billing_country -- укажите нужные поля\n",
    "FROM invoice\n",
    "WHERE billing_postal_code IS NULL AND billing_address NOT LIKE '%Street%' AND billing_address NOT LIKE '%Way%' AND billing_address NOT LIKE '%Road%' AND billing_address NOT LIKE '%Drive%' -- сгруппируйте данные\n",
    "GROUP BY billing_country\n",
    "HAVING COUNT(*) > 10\n",
    "'''\n",
    "\n",
    "SQL = '''SELECT customer_id,\n",
    "       SUM(total)\n",
    "FROM invoice\n",
    "GROUP BY customer_id\n",
    "HAVING SUM(total) > 41\n",
    "ORDER BY SUM(total) DESC'''"
   ]
  },
  {
   "cell_type": "markdown",
   "id": "b0fd7fe5",
   "metadata": {},
   "source": [
    "### ORDER BY"
   ]
  },
  {
   "cell_type": "markdown",
   "id": "095022b5",
   "metadata": {},
   "source": [
    "Для сортировки данных в SQL используют оператор ORDER BY.  \n",
    "Его пишут в самом конце запроса, после него можно указать только оператор LIMIT. "
   ]
  },
  {
   "cell_type": "code",
   "execution_count": 20,
   "id": "1e2beaf1",
   "metadata": {},
   "outputs": [],
   "source": [
    "SQL = '''\n",
    "SELECT *\n",
    "FROM invoice\n",
    "ORDER BY total DESC\n",
    "LIMIT 5\n",
    "'''\n",
    "\n",
    "SQL = '''\n",
    "SELECT billing_city,\n",
    "       SUM(total),\n",
    "       COUNT(total),\n",
    "       AVG(total)\n",
    "FROM invoice\n",
    "WHERE billing_country = 'USA'\n",
    "GROUP BY billing_city\n",
    "ORDER BY AVG(total)'''\n",
    "\n",
    "SQL = '''\n",
    "SELECT billing_city,\n",
    "       AVG(total)\n",
    "FROM invoice\n",
    "WHERE billing_country = 'USA'\n",
    "GROUP BY billing_city\n",
    "ORDER BY AVG(total) DESC\n",
    "LIMIT 5 \n",
    "'''\n",
    "\n",
    "#Отберите пятерых самых активных клиентов в США с 25 мая 2011 по 25 сентября 2011. Дату хранит поле invoice_date, тип данных поля — varchar. Выведите два поля: идентификатор клиента и количество заказов. Расположите записи по убыванию количества заказов. \n",
    "#В выдаче встретятся записи с одинаковым числом заказов. Их нужно отсортировать по возрастанию идентификаторов клиентов. Таким образом, получится двойная сортировка. \n",
    "\n",
    "SQL = '''\n",
    "SELECT customer_id,\n",
    "       COUNT(customer_id)\n",
    "FROM invoice\n",
    "WHERE cast(invoice_date AS date) BETWEEN '25.05.2011' AND '25.09.2011' AND billing_country = 'USA'\n",
    "GROUP BY customer_id\n",
    "ORDER BY COUNT(customer_id) DESC\n",
    "LIMIT 5\n",
    "'''\n",
    "\n",
    "# Отсортируйте таблицу по году от большего к меньшему. Отберите только те записи, в которых в поле billing_country указаны страны: США (англ. USA), Великобритания (англ. United Kingdom) и Германия (англ. Germany).\n",
    "SQL = '''\n",
    "SELECT EXTRACT(YEAR FROM CAST (invoice_date AS timestamp without time zone)),\n",
    "       MIN(total),\n",
    "       MAX(total),\n",
    "              SUM(total),\n",
    "       COUNT(total),\n",
    "       ROUND(SUM(total)/COUNT(DISTINCT(customer_id)))\n",
    "       \n",
    "FROM invoice\n",
    "WHERE billing_country IN ('USA', 'United Kingdom', 'Germany')\n",
    "GROUP BY EXTRACT(YEAR FROM CAST (invoice_date AS timestamp without time zone))\n",
    "ORDER BY EXTRACT(YEAR FROM CAST (invoice_date AS timestamp without time zone)) DESC; '''"
   ]
  },
  {
   "cell_type": "markdown",
   "id": "06c2dae5",
   "metadata": {},
   "source": [
    "### Подзапросы FROM"
   ]
  },
  {
   "cell_type": "markdown",
   "id": "ecb1a354",
   "metadata": {},
   "source": [
    "Подзапросу во FROM нужно всегда назначать псевдоним, иначе произойдёт ошибка."
   ]
  },
  {
   "cell_type": "markdown",
   "id": "7c295fba",
   "metadata": {},
   "source": [
    "Проанализируйте данные о возрастных рейтингах отобранных фильмов. \n",
    "Выгрузите в итоговую таблицу следующие поля:  \n",
    "возрастной рейтинг (поле rating);  \n",
    "минимальное и максимальное значения длительности (поле length); назовите поля min_length и max_length соответственно;  \n",
    "среднее значение длительности (поле length); назовите поле avg_length;  \n",
    "минимум, максимум и среднее для цены просмотра (поле rental_rate); назовите поля min_rental_rate, max_rental_rate, avg_rental_rate соответственно.  \n",
    "Отсортируйте среднюю длительность фильма по возрастанию."
   ]
  },
  {
   "cell_type": "code",
   "execution_count": 21,
   "id": "004edc8e",
   "metadata": {},
   "outputs": [],
   "source": [
    "SQL = '''SELECT rating,\n",
    "    MIN(length) AS min_length,\n",
    "    MAX(length) AS max_length,\n",
    "    AVG(length) AS avg_length,\n",
    "    MIN(rental_rate) AS min_rental_rate,\n",
    "    MAX(rental_rate) AS max_rental_rate,\n",
    "    AVG(rental_rate) AS avg_rental_rate\n",
    "FROM (\n",
    "SELECT *\n",
    "FROM movie AS mov\n",
    "WHERE rental_rate > 2\n",
    "ORDER BY mov.length DESC\n",
    "LIMIT 40)\n",
    "AS lim\n",
    "GROUP BY lim.rating\n",
    "ORDER BY avg_length'''"
   ]
  },
  {
   "cell_type": "markdown",
   "id": "7657b3a4",
   "metadata": {},
   "source": [
    "\n",
    "Найдите средние значения полей, в которых указаны минимальная и максимальная длительность отобранных фильмов. Отобразите только два этих поля. Назовите их avg_min_length и avg_max_length соответственно."
   ]
  },
  {
   "cell_type": "code",
   "execution_count": 22,
   "id": "e327cc46",
   "metadata": {},
   "outputs": [],
   "source": [
    "SQL = '''SELECT\n",
    "    AVG(min_length) AS avg_min_length,\n",
    "    AVG(max_length) AS avg_max_length\n",
    "\n",
    "FROM (SELECT top.rating,\n",
    "       MIN(top.length) AS min_length,\n",
    "       MAX(top.length) AS max_length,\n",
    "       AVG(top.length) AS avg_length,\n",
    "       MIN(top.rental_rate) AS min_rental_rate,\n",
    "       MAX(top.rental_rate) AS max_rental_rate,\n",
    "       AVG(top.rental_rate) AS avg_rental_rate\n",
    "\n",
    "FROM\n",
    "  (SELECT title,\n",
    "          rental_rate,\n",
    "          length,\n",
    "          rating\n",
    "   FROM movie\n",
    "   WHERE rental_rate > 2\n",
    "   ORDER BY length DESC\n",
    "   LIMIT 40) AS top\n",
    "\n",
    "GROUP BY top.rating\n",
    "ORDER BY avg_length) AS xyz\n",
    "'''"
   ]
  },
  {
   "cell_type": "markdown",
   "id": "0996be3a",
   "metadata": {},
   "source": [
    "Отберите альбомы, названия которых содержат слово 'Rock' и его производные. В этих альбомах должно быть восемь или более треков. Выведите на экран одно число — среднее количество композиций в отобранных альбомах."
   ]
  },
  {
   "cell_type": "code",
   "execution_count": 23,
   "id": "3f8a8edd",
   "metadata": {},
   "outputs": [],
   "source": [
    "SQL = '''SELECT AVG(count)\n",
    "FROM\n",
    "(SELECT album.title, COUNT(track.name) AS count\n",
    "FROM album\n",
    "INNER JOIN track ON album.album_id = track.album_id\n",
    "WHERE album.title LIKE '%Rock%'\n",
    "GROUP BY album.title\n",
    "HAVING COUNT(track.name)>=8) AS xyz'''"
   ]
  },
  {
   "cell_type": "markdown",
   "id": "0bce059b",
   "metadata": {},
   "source": [
    "Для каждой страны посчитайте среднюю стоимость заказов в 2009 году по месяцам. Отберите данные за 2, 5, 7 и 10 месяцы и сложите средние значения стоимости заказов. Выведите названия стран, у которых это число превышает 10 долларов."
   ]
  },
  {
   "cell_type": "code",
   "execution_count": 24,
   "id": "949fbe7a",
   "metadata": {},
   "outputs": [],
   "source": [
    "SQL = '''SELECT x.country\n",
    "FROM\n",
    "(SELECT \n",
    "billing_country AS country, \n",
    "EXTRACT(YEAR FROM CAST(invoice_date AS date)) AS year, EXTRACT(MONTH FROM CAST  (invoice_date AS date)) AS month,\n",
    "AVG(total) AS avg_total\n",
    "FROM invoice\n",
    "WHERE EXTRACT(YEAR FROM CAST(invoice_date AS date)) = 2009\n",
    "GROUP BY billing_country, EXTRACT(YEAR FROM CAST(invoice_date AS date)), EXTRACT    (MONTH FROM CAST(invoice_date AS date))) AS x\n",
    "WHERE x.month IN (2,5,7,10)\n",
    "GROUP BY x.country\n",
    "HAVING SUM(x.avg_total)>10'''"
   ]
  },
  {
   "cell_type": "markdown",
   "id": "912626e1",
   "metadata": {},
   "source": [
    "### Подзапросы в WHERE"
   ]
  },
  {
   "cell_type": "markdown",
   "id": "9287ebfd",
   "metadata": {},
   "source": [
    "У способа с подзапросами есть преимущество: данные сначала отбирают, а потом объединяют в итоговую таблицу. Если отбор данных следует за объединением, как в запросах с JOIN, выгрузка занимает больше времени."
   ]
  },
  {
   "cell_type": "code",
   "execution_count": 25,
   "id": "31e979cd",
   "metadata": {},
   "outputs": [],
   "source": [
    "SQL = '''SELECT *\n",
    "FROM client\n",
    "WHERE customer_id IN (SELECT customer_id\n",
    "                      FROM invoice\n",
    "                      GROUP BY customer_id\n",
    "                      ORDER BY SUM(total) DESC\n",
    "                      LIMIT 10)'''"
   ]
  },
  {
   "cell_type": "markdown",
   "id": "c8d1b049",
   "metadata": {},
   "source": [
    "Для каждой страны (поле billing_country) посчитайте минимальное, максимальное и среднее значение выручки из поля total. Назовите поля так: min_total, max_total и avg_total. Нужные поля для выгрузки хранит таблица invoice. \n",
    "При подсчёте учитывайте только те заказы, которые включают более пяти треков. Стоимость заказа должна превышать среднюю цену одного трека. Используйте код, написанный в предыдущих заданиях. \n",
    "Отсортируйте итоговую таблицу по значению в поле avg_total от большего к меньшему."
   ]
  },
  {
   "cell_type": "code",
   "execution_count": 26,
   "id": "e62e8f00",
   "metadata": {},
   "outputs": [],
   "source": [
    "SQL = '''SELECT billing_country,\n",
    "MIN(total) AS min_total,\n",
    "MAX(total) AS max_total,\n",
    "AVG(total) AS avg_total\n",
    "FROM invoice\n",
    "WHERE invoice_id IN (\n",
    "    SELECT invoice_id\n",
    "    FROM invoice_line\n",
    "    GROUP BY invoice_id\n",
    "    HAVING COUNT(invoice_id)>5\n",
    "    ) \n",
    "\n",
    "AND total > (\n",
    "    SELECT AVG(unit_price)\n",
    "    FROM invoice_line)\n",
    "\n",
    "GROUP BY billing_country\n",
    "ORDER BY avg_total DESC'''"
   ]
  },
  {
   "cell_type": "markdown",
   "id": "2675848d",
   "metadata": {},
   "source": [
    "Отберите десять самых коротких по продолжительности треков и выгрузите названия их жанров."
   ]
  },
  {
   "cell_type": "code",
   "execution_count": 27,
   "id": "b0eaaece",
   "metadata": {},
   "outputs": [],
   "source": [
    "SQL = '''SELECT name\n",
    "FROM genre\n",
    "WHERE genre_id IN \n",
    "(SELECT DISTINCT(genre_id) \n",
    "FROM\n",
    "(SELECT genre_id\n",
    "FROM track\n",
    "ORDER BY milliseconds\n",
    "LIMIT 10) AS xyz);'''"
   ]
  },
  {
   "cell_type": "markdown",
   "id": "4a9b7794",
   "metadata": {},
   "source": [
    "Выгрузите уникальные названия городов, в которых стоимость заказов превышает среднее значение за 2009 год."
   ]
  },
  {
   "cell_type": "code",
   "execution_count": 28,
   "id": "7ac13bd8",
   "metadata": {},
   "outputs": [],
   "source": [
    "SQL = '''\n",
    "SELECT billing_city\n",
    "FROM invoice\n",
    "WHERE total > (SELECT AVG(total)\n",
    "FROM invoice\n",
    "WHERE EXTRACT(YEAR FROM CAST(invoice_date AS date)) = 2009)\n",
    "GROUP BY billing_city'''"
   ]
  },
  {
   "cell_type": "markdown",
   "id": "52494eed",
   "metadata": {},
   "source": [
    "Посчитайте среднюю стоимость аренды фильма каждого возрастного рейтинга. Среди них найдите рейтинг с самыми дорогими для аренды фильмами.\n",
    "Выведите на экран названия категорий фильмов с этим рейтингом. Добавьте второе поле со средним значением продолжительности фильмов категории."
   ]
  },
  {
   "cell_type": "code",
   "execution_count": 29,
   "id": "35bceb58",
   "metadata": {},
   "outputs": [],
   "source": [
    "SQL = '''SELECT category.name, AVG(movie.length)\n",
    "FROM movie\n",
    "INNER JOIN film_category ON movie.film_id = film_category.film_id\n",
    "INNER JOIN category ON  film_category.category_id = category.category_id\n",
    "WHERE rating IN (SELECT rating\n",
    "FROM movie \n",
    "GROUP BY rating\n",
    "ORDER BY AVG(rental_rate) DESC\n",
    "LIMIT 1)\n",
    "GROUP BY category.name'''"
   ]
  },
  {
   "cell_type": "markdown",
   "id": "d77dc5d3",
   "metadata": {},
   "source": [
    "### Как сочетать объединения и подзапросы"
   ]
  },
  {
   "cell_type": "markdown",
   "id": "a4bc4c38",
   "metadata": {},
   "source": [
    "Чаще всего таблицы объединяют уже после того, как получили срез и сгруппировали данные. Причина проста: объединение больших таблиц занимает много времени. Таблицу лучше предварительно обработать, а уже потом объединять данные.  \n",
    "**Напомним правила объединения таблиц:**  \n",
    "после оператора FROM назначают первую таблицу;  \n",
    "затем следует оператор присоединения для выбранного типа — LEFT OUTER JOIN;  \n",
    "после оператора указывают вторую таблицу и поля, по которым объединяют данные."
   ]
  },
  {
   "cell_type": "code",
   "execution_count": 30,
   "id": "df7b9c5e",
   "metadata": {},
   "outputs": [],
   "source": [
    "SQL  = '''SELECT i.country,\n",
    "       i.total_invoice,\n",
    "       c.total_clients\n",
    "FROM\n",
    "  (SELECT billing_country AS country,\n",
    "          COUNT(total) AS total_invoice\n",
    "   FROM invoice\n",
    "   GROUP BY billing_country\n",
    "   ORDER BY total_invoice DESC\n",
    "   LIMIT 5) AS i\n",
    "LEFT OUTER JOIN\n",
    "  (SELECT country AS country,\n",
    "          COUNT(customer_id) AS total_clients\n",
    "   FROM client\n",
    "   GROUP BY country) AS c ON i.country = c.country\n",
    "ORDER BY i.total_invoice DESC'''"
   ]
  },
  {
   "cell_type": "markdown",
   "id": "7453d636",
   "metadata": {},
   "source": [
    "\n",
    "Составьте сводную таблицу. Посчитайте заказы, оформленные за каждый месяц в течение нескольких лет: с 2011 по 2013 год. Итоговая таблица должна включать четыре поля: invoice_month, year_2011, year_2012, year_2013. Поле invoice_month должно хранить месяц в виде числа от 1 до 12. \n",
    "Если в какой-либо месяц заказы не оформляли, номер такого месяца всё равно должен попасть в таблицу."
   ]
  },
  {
   "cell_type": "code",
   "execution_count": 31,
   "id": "49caf614",
   "metadata": {},
   "outputs": [],
   "source": [
    "SQL = '''\n",
    "SELECT iM.invoice_month, i2011.year_2011, i2012.year_2012, i2013.year_2013\n",
    "FROM \n",
    "(SELECT EXTRACT(MONTH FROM CAST(invoice_date AS date)) AS invoice_month\n",
    "FROM invoice\n",
    "GROUP BY invoice_month\n",
    "ORDER BY invoice_month) AS iM\n",
    "LEFT JOIN\n",
    "(SELECT\n",
    "EXTRACT(MONTH FROM CAST(invoice_date AS date)) AS invoice_month, COUNT(invoice_id) AS   year_2011\n",
    "FROM invoice\n",
    "WHERE EXTRACT(YEAR FROM CAST(invoice_date AS date)) = 2011\n",
    "GROUP BY invoice_month\n",
    ") AS i2011\n",
    "ON iM.invoice_month = i2011.invoice_month\n",
    "LEFT JOIN\n",
    "(SELECT\n",
    "EXTRACT(MONTH FROM CAST(invoice_date AS date)) AS invoice_month, COUNT(invoice_id) AS   year_2012\n",
    "FROM invoice\n",
    "WHERE EXTRACT(YEAR FROM CAST(invoice_date AS date)) = 2012\n",
    "GROUP BY invoice_month\n",
    ") AS i2012\n",
    "ON iM.invoice_month = i2012.invoice_month\n",
    "LEFT JOIN\n",
    "(SELECT\n",
    "EXTRACT(MONTH FROM CAST(invoice_date AS date)) AS invoice_month, COUNT(invoice_id) AS   year_2013\n",
    "FROM invoice\n",
    "WHERE EXTRACT(YEAR FROM CAST(invoice_date AS date)) = 2013\n",
    "GROUP BY invoice_month\n",
    ") AS i2013\n",
    "ON iM.invoice_month = i2013.invoice_month'''"
   ]
  },
  {
   "cell_type": "markdown",
   "id": "50f828f4",
   "metadata": {},
   "source": [
    "Отберите фамилии пользователей, которые:\n",
    "оформили хотя бы один заказ в январе 2013 года,\n",
    "а также сделали хотя бы один заказ в остальные месяцы того же года.\n",
    "Пользователей, которые оформили заказы только в январе, а в остальное время ничего не заказывали, в таблицу включать не нужно."
   ]
  },
  {
   "cell_type": "code",
   "execution_count": 32,
   "id": "d55f4db2",
   "metadata": {},
   "outputs": [],
   "source": [
    "SQL = '''\n",
    "SELECT  last_name\n",
    "FROM client\n",
    "WHERE customer_id IN \n",
    "(SELECT notjanyary.customer_id FROM\n",
    "(SELECT DISTINCT(customer_id)\n",
    "FROM invoice\n",
    "WHERE (CAST(invoice_date AS date) BETWEEN '2013-01-01' AND '2013-01-31'))\n",
    "AS janyary\n",
    "INNER JOIN\n",
    "(SELECT DISTINCT(customer_id)\n",
    "FROM invoice\n",
    "WHERE (CAST(invoice_date AS date) BETWEEN '2013-02-01' AND '2013-12-31'))\n",
    "AS notjanyary\n",
    "ON janyary.customer_id = notjanyary.customer_id)'''"
   ]
  },
  {
   "cell_type": "markdown",
   "id": "289b661e",
   "metadata": {},
   "source": [
    "Сформируйте статистику по категориям фильмов. Отобразите в итоговой таблице два поля:\n",
    "название категории;\n",
    "число фильмов из этой категории.\n",
    "Фильмы для второго поля нужно отобрать по условию. Посчитайте фильмы только с теми актёрами и актрисами, которые больше семи раз снимались в фильмах, вышедших после 2013 года. \n",
    "Назовите поля name_category и total_films соответственно. Отсортируйте таблицу по количеству фильмов от большего к меньшему, а затем по полю с названием категории в лексикографическом порядке."
   ]
  },
  {
   "cell_type": "code",
   "execution_count": 33,
   "id": "4fbc0489",
   "metadata": {},
   "outputs": [],
   "source": [
    "SQL = '''SELECT\n",
    "category.name AS name_category, \n",
    "COUNT(movie.film_id) AS total_films\n",
    "FROM movie\n",
    "INNER JOIN film_category \n",
    "ON movie.film_id = film_category.film_id\n",
    "INNER JOIN category\n",
    "ON category.category_id = film_category.category_id\n",
    "WHERE movie.film_id IN (SELECT movie.film_id\n",
    "FROM movie\n",
    "INNER JOIN film_actor \n",
    "ON movie.film_id = film_actor.film_id\n",
    "WHERE film_actor.actor_id IN \n",
    "(SELECT actor_id\n",
    "FROM film_actor\n",
    "INNER JOIN movie\n",
    "ON movie.film_id = film_actor.film_id\n",
    "WHERE movie.release_year > 2013\n",
    "GROUP BY actor_id\n",
    "HAVING COUNT(actor_id)>7)\n",
    "GROUP BY movie.film_id)\n",
    "GROUP BY category.name\n",
    "ORDER BY COUNT(movie.film_id) DESC, category.name'''"
   ]
  },
  {
   "cell_type": "markdown",
   "id": "3450ec50",
   "metadata": {},
   "source": [
    "Определите, летом какого года общая выручка в магазине была максимальной. Затем проанализируйте данные за этот год по странам. Выгрузите таблицу с полями:\n",
    "country — название страны;\n",
    "total_invoice — число заказов, оформленных в этой стране в тот год, когда общая выручка за лето была максимальной;\n",
    "total_customer — число клиентов, зарегистрированных в этой стране.\n",
    "Отсортируйте таблицу по убыванию значений в поле total_invoice, а затем добавьте сортировку по названию страны в лексикографическом порядке."
   ]
  },
  {
   "cell_type": "code",
   "execution_count": 34,
   "id": "f57c1d7c",
   "metadata": {},
   "outputs": [],
   "source": [
    "SQL = '''\n",
    "SELECT one.country, one.total_invoice, two.total_customer\n",
    "FROM \n",
    "(SELECT invoice.billing_country AS country,\n",
    "      COUNT(invoice.total) AS total_invoice\n",
    "      FROM invoice\n",
    "WHERE EXTRACT(YEAR FROM CAST(invoice_date AS date)) = 2011\n",
    "GROUP BY country) AS one\n",
    "LEFT JOIN\n",
    "(SELECT country, COUNT(customer_id) AS total_customer\n",
    "FROM client\n",
    "GROUP BY country) AS two\n",
    "ON one.country = two.country\n",
    "ORDER BY total_invoice DESC, country'''"
   ]
  },
  {
   "cell_type": "markdown",
   "id": "d7d8d7a3",
   "metadata": {},
   "source": [
    "### Временные таблицы WITH"
   ]
  },
  {
   "cell_type": "markdown",
   "id": "272360e2",
   "metadata": {},
   "source": [
    "Временные таблицы помогают структурировать подзапросы, указывать их вне основного запроса. \n",
    "Создание временных таблиц напоминает назначение переменных: псевдониму назначается таблица, сформированная подзапросом. Затем пишут общий запрос, в котором работают с временной таблицей."
   ]
  },
  {
   "cell_type": "markdown",
   "id": "e2446f5c",
   "metadata": {},
   "source": [
    "После ключевого слова WITH указывают подзапросы. Порядок здесь другой, чем в обычном запросе: сначала пишут псевдоним, затем ключевое слово AS, а затем в скобках указывают подзапрос.  \n",
    "Все конструкции перечисляют через запятую. После последнего подзапроса запятую не ставят — это означает начало основного запроса.  \n",
    "\n",
    "*WITH   \n",
    "-- первый подзапрос с псевдонимом i  \n",
    "i AS (SELECT billing_country AS country,  \n",
    "             COUNT(total) AS total_invoice  \n",
    "      FROM invoice  \n",
    "      GROUP BY billing_country  \n",
    "      ORDER BY total_invoice DESC  \n",
    "      LIMIT 5), -- подзапросы разделяют запятыми  \n",
    "-- второй подзапрос с псевдонимом c  \n",
    " c AS (SELECT country AS country,  \n",
    "              COUNT(customer_id) AS total_clients  \n",
    "              FROM client  \n",
    "              GROUP BY country)*  \n",
    "\n",
    "*-- основной запрос, в котором указаны псевдонимы для подзапросов  \n",
    "SELECT i.country,  \n",
    "       i.total_invoice,  \n",
    "       c.total_clients  \n",
    "FROM i LEFT OUTER JOIN c ON i.country=c.country  \n",
    "ORDER BY i.total_invoice DESC;*   "
   ]
  },
  {
   "cell_type": "markdown",
   "id": "b71d55e5",
   "metadata": {},
   "source": [
    "Перепишите один из своих прошлых запросов с использованием оператора WITH. \n",
    "Выведите топ-40 самых длинных фильмов, аренда которых составляет больше 2 долларов. Проанализируйте данные о возрастных рейтингах отобранных фильмов. Выгрузите в итоговую таблицу следующие поля:\n",
    "возрастной рейтинг (поле rating);\n",
    "минимальное и максимальное значения длительности (поле length), назовите поля min_length и max_length соответственно;\n",
    "среднее значение длительности (поле length), назовите поле avg_length;\n",
    "минимум, максимум и среднее для цены просмотра (поле rental_rate), назовите поля min_rental_rate, max_rental_rate, avg_rental_rate соответственно.\n",
    "Отсортируйте среднюю длительность фильма по возрастанию."
   ]
  },
  {
   "cell_type": "code",
   "execution_count": 35,
   "id": "7af39bfb",
   "metadata": {},
   "outputs": [],
   "source": [
    "SQL = '''WITH\n",
    "top40 AS (\n",
    "SELECT film_id\n",
    "FROM movie\n",
    "WHERE rental_rate >2\n",
    "ORDER BY length DESC\n",
    "LIMIT 40\n",
    ")\n",
    "SELECT rating,\n",
    "MIN(length) AS min_length,\n",
    "MAX(length) AS max_length,\n",
    "AVG(length) AS avg_length,\n",
    "MIN(rental_rate) AS min_rental_rate,\n",
    "MAX(rental_rate) AS max_rental_rate,\n",
    "AVG(rental_rate) AS avg_rental_rate\n",
    "FROM\n",
    "movie INNER JOIN top40 ON\n",
    "movie.film_id = top40.film_id\n",
    "GROUP BY rating\n",
    "ORDER BY AVG(length)'''"
   ]
  },
  {
   "cell_type": "markdown",
   "id": "e60886ad",
   "metadata": {},
   "source": [
    "Перепишите один из своих прошлых запросов, используя оператор WITH. \n",
    "Составьте сводную таблицу. Посчитайте заказы, оформленные за каждый месяц в течение нескольких лет: с 2011 по 2013 год. Итоговая таблица должна включать четыре поля: invoice_month, year_2011, year_2012, year_2013. Поле month должно хранить месяц в виде числа от 1 до 12. \n",
    "Если в какой-либо месяц заказы не оформляли, номер такого месяца всё равно должен попасть в таблицу."
   ]
  },
  {
   "cell_type": "code",
   "execution_count": 36,
   "id": "8c0e051c",
   "metadata": {},
   "outputs": [],
   "source": [
    "SQL = '''SELECT iM.invoice_month, i2011.year_2011, i2012.year_2012, i2013.year_2013\n",
    "FROM \n",
    "(SELECT EXTRACT(MONTH FROM CAST(invoice_date AS date)) AS invoice_month\n",
    "FROM invoice\n",
    "GROUP BY invoice_month\n",
    "ORDER BY invoice_month) AS iM\n",
    "LEFT JOIN\n",
    "(SELECT\n",
    "EXTRACT(MONTH FROM CAST(invoice_date AS date)) AS invoice_month, COUNT(invoice_id) AS   year_2011\n",
    "FROM invoice\n",
    "WHERE EXTRACT(YEAR FROM CAST(invoice_date AS date)) = 2011\n",
    "GROUP BY invoice_month\n",
    ") AS i2011\n",
    "ON iM.invoice_month = i2011.invoice_month\n",
    "LEFT JOIN\n",
    "(SELECT\n",
    "EXTRACT(MONTH FROM CAST(invoice_date AS date)) AS invoice_month, COUNT(invoice_id) AS   year_2012\n",
    "FROM invoice\n",
    "WHERE EXTRACT(YEAR FROM CAST(invoice_date AS date)) = 2012\n",
    "GROUP BY invoice_month\n",
    ") AS i2012\n",
    "ON iM.invoice_month = i2012.invoice_month\n",
    "LEFT JOIN\n",
    "(SELECT\n",
    "EXTRACT(MONTH FROM CAST(invoice_date AS date)) AS invoice_month, COUNT(invoice_id) AS   year_2013\n",
    "FROM invoice\n",
    "WHERE EXTRACT(YEAR FROM CAST(invoice_date AS date)) = 2013\n",
    "GROUP BY invoice_month\n",
    ") AS i2013\n",
    "ON iM.invoice_month = i2013.invoice_month'''"
   ]
  },
  {
   "cell_type": "markdown",
   "id": "d7b8859b",
   "metadata": {},
   "source": [
    "Проанализируйте данные из таблицы invoice за 2012 и 2013 годы. В итоговую таблицу должны войти поля:\n",
    "month — номер месяца;\n",
    "sum_total_2012 — выручка за этот месяц в 2012 году;\n",
    "sum_total_2013 — выручка за этот месяц в 2013 году;\n",
    "perc — процент, который отображает, насколько изменилась месячная выручка в 2013 году по сравнению с 2012 годом.\n",
    "Округлите значение в поле perc до ближайшего целого числа. Отсортируйте таблицу по значению в поле month от меньшего к большему."
   ]
  },
  {
   "cell_type": "code",
   "execution_count": 37,
   "id": "aa5457ca",
   "metadata": {},
   "outputs": [],
   "source": [
    "SQL = '''\n",
    "with \n",
    "    t12 as (select extract(month from cast(invoice_date as date)) as month, sum(total)\n",
    "    from invoice\n",
    "    where extract(year from cast(invoice_date as date)) = 2012\n",
    "    group by extract(month from cast(invoice_date as date))),\n",
    "    t13 as (select extract(month from cast(invoice_date as date)) as month, sum(total)\n",
    "    from invoice\n",
    "    where extract(year from cast(invoice_date as date)) = 2013\n",
    "    group by extract(month from cast(invoice_date as date)))\n",
    "select t12.month as month,\n",
    "    t12.sum as sum_total_2012,\n",
    "    t13.sum as sum_total_2013,\n",
    "    round(100 * cast((t13.sum - t12.sum) as real)/t12.sum) as perc\n",
    "from t12 full outer join t13 on t12.month=t13.month;\n",
    "'''"
   ]
  },
  {
   "cell_type": "markdown",
   "id": "dd880408",
   "metadata": {},
   "source": [
    "### Оконные функции"
   ]
  },
  {
   "cell_type": "markdown",
   "id": "3b50f42d",
   "metadata": {},
   "source": [
    "Оконные функции выполняют вычисления для набора записей, объединённых по какому-либо признаку. Такой набор называют окном — отсюда и название функций."
   ]
  },
  {
   "cell_type": "markdown",
   "id": "4a0bfad0",
   "metadata": {},
   "source": [
    "Вместе с текущей записью оконная функция обрабатывает остальные записи, которые входят в то же окно. Для каждой записи функция выводит одно значение. Этим оконная функция отличается от агрегирующей: и та и другая вычисляются для набора записей, но оконная функция не объединяет записи в одну, как агрегирующая, сохраняя независимость записей. Проще говоря, оконные функции возвращают столько же значений, сколько получили на вход. "
   ]
  },
  {
   "cell_type": "markdown",
   "id": "7080b37b",
   "metadata": {},
   "source": [
    "Окна, по которым будет рассчитана оконная функция, можно задать внутри выражения OVER — его содержат все оконные функции. "
   ]
  },
  {
   "cell_type": "code",
   "execution_count": 38,
   "id": "85c83e32",
   "metadata": {},
   "outputs": [],
   "source": [
    "SQL = '''\n",
    "SELECT *,\n",
    "       AVG(revenue) OVER (PARTITION BY user_id) AS user_avg\n",
    "FROM online_store.orders\n",
    "WHERE user_id IN (300768196,\n",
    "                  840452722,\n",
    "                  59432616)\n",
    "ORDER BY user_id'''"
   ]
  },
  {
   "cell_type": "markdown",
   "id": "dde12735",
   "metadata": {},
   "source": [
    "Внутри выражения OVER находится оператор PARTITION BY. Он разделяет записи на группы, или разделы, в зависимости от значения в поле user_id.\n",
    "Записи с одинаковым user_id окажутся в одном окне. Для каждого из окон будет рассчитан результат оконной функции.  \n",
    "Для каждого раздела, который выделит оператор PARTITION BY, будет рассчитан результат оконной функции.  \n",
    "\n",
    "**Выражение OVER может быть пустым. В таком случае оконная функция будет равнозначна агрегирующей функции.**\n"
   ]
  },
  {
   "cell_type": "markdown",
   "id": "71c9b689",
   "metadata": {},
   "source": [
    "В качестве оконных можно использовать и другие агрегирующие функции. Например, функция MIN(event_dt) OVER (PARTITION BY user_id) вернёт минимальное значение event_dt для каждого окна с идентификатором пользователя."
   ]
  },
  {
   "cell_type": "code",
   "execution_count": 39,
   "id": "92ea81bf",
   "metadata": {},
   "outputs": [],
   "source": [
    "SQL = '''SELECT *,\n",
    "       MIN(event_dt) OVER (PARTITION BY user_id) AS user_min\n",
    "FROM online_store.orders \n",
    "WHERE user_id IN (300768196,\n",
    "                  840452722,\n",
    "                  59432616)\n",
    "ORDER BY user_id;''' "
   ]
  },
  {
   "cell_type": "markdown",
   "id": "114d7eac",
   "metadata": {},
   "source": [
    "Если все значения в поле, по которому формируют окна, будут уникальными, оконная функция будет рассчитана в каждой записи отдельно. "
   ]
  },
  {
   "cell_type": "markdown",
   "id": "e2cc64cd",
   "metadata": {},
   "source": [
    "Напишите запрос, который выведет все поля таблицы tools_shop.orders и отдельным полем суммарную стоимость всех заказов."
   ]
  },
  {
   "cell_type": "code",
   "execution_count": 40,
   "id": "6c09e311",
   "metadata": {},
   "outputs": [],
   "source": [
    "SQL = '''\n",
    "SELECT * , \n",
    "SUM(total_amt) OVER() AS sum\n",
    "FROM tools_shop.orders'''\n",
    "\n",
    "#2.Напишите запрос, который выведет все поля таблицы tools_shop.users и отдельным полем количество пользователей в этой таблице.\n",
    "SQL = '''SELECT *, COUNT(user_id) OVER()\n",
    "FROM tools_shop.users \n",
    "'''"
   ]
  },
  {
   "cell_type": "markdown",
   "id": "eb0b1b8c",
   "metadata": {},
   "source": [
    "**Оператор PARTITION BY**, который может входить в выражение OVER, объединяет записи в разделы. Этим он похож на оператор GROUP BY, который группирует записи, объединённые одним признаком или несколькими. "
   ]
  },
  {
   "cell_type": "markdown",
   "id": "7b6b964a",
   "metadata": {},
   "source": [
    "После PARTITION BY, как и после GROUP BY, можно указать несколько полей, и тогда окно будет сформировано по нескольким полям сразу. Если в запросе после PARTITION BY указать два поля: user_id и event_dt, — в одно окно войдёт каждая уникальная комбинация значений из этих полей.\n",
    "Как и в случае с GROUP BY, порядок, в котором указывают поля после PARTITION BY, не важен: он не влияет на формирование окна."
   ]
  },
  {
   "cell_type": "code",
   "execution_count": 41,
   "id": "6a50b267",
   "metadata": {},
   "outputs": [],
   "source": [
    "SQL = '''\n",
    "SELECT *,\n",
    "       AVG(revenue) OVER (PARTITION BY user_id, event_dt)\n",
    "FROM online_store.orders \n",
    "WHERE user_id IN (300768196,\n",
    "                  840452722,\n",
    "                  59432616)\n",
    "ORDER BY user_id; '''"
   ]
  },
  {
   "cell_type": "markdown",
   "id": "7200dcda",
   "metadata": {},
   "source": [
    "Напишите запрос, который выведет все поля таблицы tools_shop.orders и отдельным полем суммарную стоимость заказов для каждого пользователя."
   ]
  },
  {
   "cell_type": "code",
   "execution_count": 42,
   "id": "96998624",
   "metadata": {},
   "outputs": [],
   "source": [
    "SQL = '''\n",
    "SELECT *, SUM(total_amt) OVER(PARTITION BY user_id)\n",
    "FROM tools_shop.orders'''"
   ]
  },
  {
   "cell_type": "markdown",
   "id": "1d677570",
   "metadata": {},
   "source": [
    "Напишите запрос, который выведет все поля таблицы tools_shop.orders и отдельным полем суммарную стоимость заказов за каждый месяц."
   ]
  },
  {
   "cell_type": "code",
   "execution_count": 43,
   "id": "38d65adc",
   "metadata": {},
   "outputs": [],
   "source": [
    "SQL = '''SELECT *, \n",
    "SUM(total_amt) OVER (PARTITION BY CAST(DATE_TRUNC('month', paid_at) AS date))  \n",
    "FROM tools_shop.orders'''"
   ]
  },
  {
   "cell_type": "markdown",
   "id": "c28aa235",
   "metadata": {},
   "source": [
    "С помощью оконных функций можно ранжировать записи, то есть нумеровать их по определённому правилу. Для ранжирования в SQL используют функцию **ROW_NUMBER(). Эта функция возвращает порядковый номер записи в окне.**  \n",
    "Обратите внимание, что функция ROW_NUMBER() не требует аргумента. "
   ]
  },
  {
   "cell_type": "code",
   "execution_count": 44,
   "id": "7e25ce87",
   "metadata": {},
   "outputs": [],
   "source": [
    "SQL = '''SELECT *,\n",
    "       ROW_NUMBER() OVER ()\n",
    "FROM online_store.orders \n",
    "WHERE user_id IN (300768196,\n",
    "                  840452722,\n",
    "                  59432616)'''"
   ]
  },
  {
   "cell_type": "markdown",
   "id": "6e2dbe58",
   "metadata": {},
   "source": [
    " Если добавить в запрос оператор ORDER BY, который изменит порядок записей, каждая запись сохранит первоначальный ранг"
   ]
  },
  {
   "cell_type": "code",
   "execution_count": 45,
   "id": "4ebcec22",
   "metadata": {},
   "outputs": [],
   "source": [
    "SQL = '''SELECT *,\n",
    "       ROW_NUMBER() OVER ()\n",
    "FROM online_store.orders \n",
    "WHERE user_id IN (300768196,\n",
    "                  840452722,\n",
    "                  59432616)\n",
    "ORDER BY user_id; '''"
   ]
  },
  {
   "cell_type": "markdown",
   "id": "b962d286",
   "metadata": {},
   "source": [
    "Выведите все поля таблицы tools_shop.items, добавив поле с рангом записи."
   ]
  },
  {
   "cell_type": "code",
   "execution_count": 46,
   "id": "e3bb9e54",
   "metadata": {},
   "outputs": [],
   "source": [
    "SQL = '''SELECT *, ROW_NUMBER() OVER ()\n",
    "FROM tools_shop.items'''"
   ]
  },
  {
   "cell_type": "markdown",
   "id": "dbf85c95",
   "metadata": {},
   "source": [
    "Функция ROW_NUMBER() пронумеровала записи в зависимости от позиции в таблице, но порядком ранжирования можно управлять. Чтобы задать другой порядок, в выражение OVER можно добавить оператор ORDER BY вместе с полем, по которому ранжировать записи. "
   ]
  },
  {
   "cell_type": "code",
   "execution_count": 47,
   "id": "4a6d1ce9",
   "metadata": {},
   "outputs": [],
   "source": [
    "SQL = '''SELECT *, \n",
    "       ROW_NUMBER() OVER (ORDER BY user_id)\n",
    "FROM online_store.orders \n",
    "WHERE user_id IN (300768196,\n",
    "                  840452722,\n",
    "                  59432616)\n",
    "ORDER BY user_id;''' "
   ]
  },
  {
   "cell_type": "markdown",
   "id": "c508f1a0",
   "metadata": {},
   "source": [
    "Ранжировать записи можно не только по возрастанию значений в поле, но и по убыванию. Для этого можно использовать ключевое слово DESC. Если указать ASC, записи будут проранжированы по возрастанию — так же, как и по умолчанию. "
   ]
  },
  {
   "cell_type": "markdown",
   "id": "cfaa785c",
   "metadata": {},
   "source": [
    "Вы уже знаете, что сортировать записи можно по нескольким полям сразу. Так же и в оконных функциях: выражение с оператором ORDER BY может содержать сразу несколько полей. Порядок, в котором указаны поля, определяет приоритет ранжирования."
   ]
  },
  {
   "cell_type": "markdown",
   "id": "08eb8f61",
   "metadata": {},
   "source": [
    "С помощью оконной функции ROW_NUMBER() и оператора ORDER BY можно выбрать запись с определённым рангом. Например, из таблицы online_store.sessions можно выбрать запись с рангом 100 в зависимости от даты сессии. Проранжированные записи можно поместить во временную таблицу и из неё уже выбрать запись с нужным рангом. "
   ]
  },
  {
   "cell_type": "code",
   "execution_count": 48,
   "id": "8aac5d5c",
   "metadata": {},
   "outputs": [],
   "source": [
    "SQL = '''WITH sessions AS\n",
    "  (SELECT *,\n",
    "          ROW_NUMBER() OVER (ORDER BY session_start) AS rn\n",
    "   FROM online_store.sessions)\n",
    "SELECT *\n",
    "FROM sessions\n",
    "WHERE rn = 100; '''"
   ]
  },
  {
   "cell_type": "markdown",
   "id": "d035b156",
   "metadata": {},
   "source": [
    "Проранжируйте записи в таблице tools_shop.users по дате регистрации — от меньшей к большей. Напишите запрос, который выведет идентификатор пользователя с рангом 2021."
   ]
  },
  {
   "cell_type": "code",
   "execution_count": 49,
   "id": "1ae54fae",
   "metadata": {},
   "outputs": [],
   "source": [
    "SQL = '''WITH dr AS\n",
    "  (SELECT *,\n",
    "          ROW_NUMBER() OVER (ORDER BY created_at) AS dr\n",
    "   FROM tools_shop.users)\n",
    "SELECT user_id\n",
    "FROM dr\n",
    "WHERE dr = 2021'''"
   ]
  },
  {
   "cell_type": "markdown",
   "id": "d3387d87",
   "metadata": {},
   "source": [
    "**Функции RANK() и DENSE_RANK() отличаются от ROW_NUMBER() логикой ранжирования повторяющихся значений.** В случае повтора функция ROW_NUMBER() присваивает такой записи следующий ранг, как в уже знакомом вам запросе.\n",
    "В случае повтора функция ROW_NUMBER() присваивает такой записи следующий ранг.\n",
    "\n",
    "Функция **RANK()** присваивает одинаковым значениям одинаковый ранг. "
   ]
  },
  {
   "cell_type": "code",
   "execution_count": 50,
   "id": "73417af6",
   "metadata": {},
   "outputs": [],
   "source": [
    "SQL = '''SELECT *, \n",
    "       RANK() OVER (ORDER BY user_id)\n",
    "FROM online_store.orders\n",
    "WHERE user_id IN (300768196,\n",
    "                  840452722,\n",
    "                  59432616)\n",
    "ORDER BY user_id; '''"
   ]
  },
  {
   "cell_type": "markdown",
   "id": "7fe8b262",
   "metadata": {},
   "source": [
    "Обратите внимание, что у записи с user_id, равным 840452722, ранг 4. Функция RANK() присваивает один ранг одинаковым записям, но, чтобы вычислить каждый следующий ранг, к текущему номеру ранга прибавляется количество записей этого ранга. Именно поэтому ранги получились непоследовательными: 1, 2, 4. Записям со следующим user_id был бы назначен ранг 7."
   ]
  },
  {
   "cell_type": "markdown",
   "id": "ea3b7c80",
   "metadata": {},
   "source": [
    "В отличие от функции RANK(), **DENSE_RANK() не учитывает количество записей и назначает ранги последовательно**. "
   ]
  },
  {
   "cell_type": "code",
   "execution_count": 51,
   "id": "bfdeac40",
   "metadata": {},
   "outputs": [],
   "source": [
    "SQL = '''SELECT *, \n",
    "       DENSE_RANK() OVER (ORDER BY user_id)\n",
    "FROM online_store.orders \n",
    "WHERE user_id IN (300768196,\n",
    "                  840452722,\n",
    "                  59432616)\n",
    "ORDER BY user_id; '''"
   ]
  },
  {
   "cell_type": "markdown",
   "id": "3616e7df",
   "metadata": {},
   "source": [
    "Проранжируйте записи в таблице tools_shop.order_x_item в зависимости от значения item_id — от меньшего к большему. Записи с одинаковым item_id должны получить один ранг. Ранги можно указать непоследовательно."
   ]
  },
  {
   "cell_type": "code",
   "execution_count": 52,
   "id": "53f0b394",
   "metadata": {},
   "outputs": [],
   "source": [
    "SQL = '''SELECT *, RANK() OVER (ORDER BY item_id)\n",
    "FROM tools_shop.order_x_item'''"
   ]
  },
  {
   "cell_type": "markdown",
   "id": "e3c31dbc",
   "metadata": {},
   "source": [
    "Проранжируйте записи в таблице tools_shop.users в зависимости от значения в поле created_at — от большего к меньшему. Записи с одинаковым значением created_at должны получить один ранг. Ранги должны быть указаны последовательно."
   ]
  },
  {
   "cell_type": "code",
   "execution_count": 53,
   "id": "651dd5cb",
   "metadata": {},
   "outputs": [],
   "source": [
    "SQL = '''SELECT *, DENSE_RANK() OVER (ORDER BY created_at DESC) FROM tools_shop.users'''"
   ]
  },
  {
   "cell_type": "markdown",
   "id": "21bdfd3e",
   "metadata": {},
   "source": [
    "**NTILE()** — ещё одна функция ранжирования, которую используют в SQL. Она позволяет назначать записям фиксированное количество рангов — в зависимости от аргумента, который передают функции.  \n",
    "Функция NTILE() с аргументом 3 разделит записи на три группы в зависимости от значения revenue:"
   ]
  },
  {
   "cell_type": "code",
   "execution_count": 54,
   "id": "d8c91858",
   "metadata": {},
   "outputs": [],
   "source": [
    "SQL = '''SELECT *,\n",
    "         NTILE(3) OVER (ORDER BY revenue)\n",
    "FROM online_store.orders \n",
    "WHERE user_id IN (300768196,\n",
    "                  840452722,\n",
    "                  59432616)\n",
    "ORDER BY revenue; '''"
   ]
  },
  {
   "cell_type": "markdown",
   "id": "5ecb60cb",
   "metadata": {},
   "source": [
    "Посмотрите внимательно на запрос: в выражении OVER находится оператор ORDER BY, который сортирует записи по значению revenue. Функция NTILE() присваивает отсортированным записям ранг от 1 до 3 так, чтобы количество записей в группах было максимально близким.\n",
    "Синтаксис NTILE() похож на синтаксис других функций ранжирования, но, в отличие от них, NTILE() принимает в качестве аргумента количество рангов, или групп, на которые будут разбиты записи: NTILE(<количество групп>) OVER (<определение окна>). Без этого аргумента функция вызовет ошибку. \n",
    "Если записи не получается разбить на группы поровну, предпочтение отдаётся первым группам — в них войдёт больше записей. В запросе ниже NTILE() передали аргумент 4, и записи не удастся разделить поровну. В группы с рангом 1 и 2 попадут по две записи, а в группы с рангом 3 и 4 — по одной."
   ]
  },
  {
   "cell_type": "code",
   "execution_count": 55,
   "id": "a4a02494",
   "metadata": {},
   "outputs": [],
   "source": [
    "SQL = '''SELECT *,\n",
    "         NTILE(4) OVER (ORDER BY revenue)\n",
    "FROM online_store.orders \n",
    "WHERE user_id IN (300768196,\n",
    "                  840452722,\n",
    "                  59432616)\n",
    "ORDER BY revenue'''"
   ]
  },
  {
   "cell_type": "markdown",
   "id": "2494d1c7",
   "metadata": {},
   "source": [
    "В запросе ниже функции NTILE() передали аргумент 5, и в группу с рангом 1 попадут две записи, а в остальные — по одной."
   ]
  },
  {
   "cell_type": "code",
   "execution_count": 56,
   "id": "f59f8213",
   "metadata": {},
   "outputs": [],
   "source": [
    "SQL = '''SELECT *,\n",
    "       NTILE(5) OVER (ORDER BY revenue)\n",
    "FROM online_store.orders \n",
    "WHERE user_id IN (300768196,\n",
    "                  840452722,\n",
    "                  59432616)\n",
    "ORDER BY revenue; '''"
   ]
  },
  {
   "cell_type": "markdown",
   "id": "0ab11f43",
   "metadata": {},
   "source": [
    "Разбейте пользователей в таблице tools_shop.users на пять групп так, чтобы в первую группу попали пользователи, которые недавно зарегистрировались. "
   ]
  },
  {
   "cell_type": "code",
   "execution_count": 57,
   "id": "42fe1d83",
   "metadata": {},
   "outputs": [],
   "source": [
    "SQL = '''SELECT user_id, created_at, NTILE(5) OVER (ORDER BY created_at DESC)\n",
    "FROM tools_shop.users'''"
   ]
  },
  {
   "cell_type": "markdown",
   "id": "aa44dd10",
   "metadata": {},
   "source": [
    "Операторы PARTITION BY и ORDER BY влияют на результат работы оконной функции. В выражении OVER их можно использовать вместе. Комбинация операторов позволит разделить строки на группы и одновременно отсортировать значения внутри групп. \n",
    "Порядок, в котором указывают операторы, всегда одинаковый: сначала указывают PARTITION BY, затем ORDER BY. Чтобы запомнить, ориентируйтесь на порядок в о"
   ]
  },
  {
   "cell_type": "markdown",
   "id": "9cdf05fe",
   "metadata": {},
   "source": [
    "Сочетание с ROW_NUMBER()\n",
    "Сочетая PARTITION BY и ORDER BY с функциями ранжирования, значения можно проранжировать внутри групп. Например, можно отобрать данные о втором по счёту заказе для каждого пользователя:"
   ]
  },
  {
   "cell_type": "code",
   "execution_count": 58,
   "id": "b9ec946c",
   "metadata": {},
   "outputs": [],
   "source": [
    "SQL = '''WITH orders AS\n",
    "  (SELECT *,\n",
    "          ROW_NUMBER() OVER (PARTITION BY user_id ORDER BY event_dt) AS rn\n",
    "   FROM online_store.orders)\n",
    "SELECT *\n",
    "FROM orders\n",
    "WHERE rn = 2; '''"
   ]
  },
  {
   "cell_type": "markdown",
   "id": "73ff8cd3",
   "metadata": {},
   "source": [
    "\n",
    "Выведите все поля таблицы tools_shop.orders и проранжируйте заказы для каждого клиента в зависимости от даты оплаты заказа — от меньшей к большей."
   ]
  },
  {
   "cell_type": "code",
   "execution_count": 59,
   "id": "25d6fc89",
   "metadata": {},
   "outputs": [],
   "source": [
    "SQL = '''SELECT *, \n",
    "RANK() OVER (PARTITION BY user_id ORDER BY paid_at)\n",
    "FROM tools_shop.orders'''"
   ]
  },
  {
   "cell_type": "markdown",
   "id": "5d866048",
   "metadata": {},
   "source": [
    "\n",
    "Выведите все поля таблицы tools_shop.events и проранжируйте события для каждого клиента в зависимости от его даты — от большей к меньшей."
   ]
  },
  {
   "cell_type": "code",
   "execution_count": 60,
   "id": "83ebec2c",
   "metadata": {},
   "outputs": [],
   "source": [
    "SQL = '''SELECT *,\n",
    "ROW_NUMBER() OVER (PARTITION BY user_id ORDER BY CAST(event_time AS timestamp) DESC) \n",
    "FROM tools_shop.events'''"
   ]
  },
  {
   "cell_type": "markdown",
   "id": "4c3515ad",
   "metadata": {},
   "source": [
    "Чтобы использовать агрегирующие функции в качестве оконных, после функции указывают выражение OVER и передают функции аргумент — поле, по которому нужно рассчитать значение. Также в выражении OVER можно указать операторы PARTITION BY и ORDER BY.  \n",
    "Объединив данные в окно по дате заказа, можно найти средний чек по дням."
   ]
  },
  {
   "cell_type": "code",
   "execution_count": 61,
   "id": "51d93dc0",
   "metadata": {},
   "outputs": [],
   "source": [
    "SQL = '''SELECT *,\n",
    "       AVG(revenue) OVER (PARTITION BY event_dt) AS avg_rev\n",
    "FROM online_store.orders; '''"
   ]
  },
  {
   "cell_type": "markdown",
   "id": "c3a2da05",
   "metadata": {},
   "source": [
    "Как и в случае с обычными агрегирующими функциями, результат можно округлить. Обратите внимание на аргумент, который передают функции ROUND:"
   ]
  },
  {
   "cell_type": "code",
   "execution_count": 62,
   "id": "1ef263c9",
   "metadata": {},
   "outputs": [],
   "source": [
    "SQL = '''SELECT *,\n",
    "       ROUND(AVG(revenue) OVER (PARTITION BY event_dt), 2) AS avg_rev\n",
    "FROM online_store.orders; '''"
   ]
  },
  {
   "cell_type": "markdown",
   "id": "9988b1c7",
   "metadata": {},
   "source": [
    "Для каждого пользователя можно найти дату последнего заказа. Данные объединены в окно по user_id."
   ]
  },
  {
   "cell_type": "code",
   "execution_count": 63,
   "id": "09cc44b9",
   "metadata": {},
   "outputs": [],
   "source": [
    "SQL = '''SELECT *,\n",
    "       MAX(event_dt) OVER (PARTITION BY user_id) AS last_order_dt\n",
    "FROM online_store.orders'''"
   ]
  },
  {
   "cell_type": "markdown",
   "id": "e1e417ba",
   "metadata": {},
   "source": [
    "Сформировав окна по event_dt, можно посчитать сумму выручки за каждый день. "
   ]
  },
  {
   "cell_type": "code",
   "execution_count": 64,
   "id": "a3fdb8c5",
   "metadata": {},
   "outputs": [],
   "source": [
    "SQL = '''SELECT *,\n",
    "       SUM(revenue) OVER (PARTITION BY event_dt) AS daily_rev\n",
    "FROM online_store.orders; '''"
   ]
  },
  {
   "cell_type": "markdown",
   "id": "db7c76c2",
   "metadata": {},
   "source": [
    "Объединив данные по пользователям, можно посчитать, сколько у каждого из них заказов."
   ]
  },
  {
   "cell_type": "code",
   "execution_count": 65,
   "id": "13e8e92a",
   "metadata": {},
   "outputs": [],
   "source": [
    "SQL = '''SELECT *,\n",
    "       COUNT(*) OVER (PARTITION BY user_id) AS orders_cnt\n",
    "FROM online_store.orders; '''"
   ]
  },
  {
   "cell_type": "markdown",
   "id": "c6340f01",
   "metadata": {},
   "source": [
    "Рассчитайте общее количество заказов в таблице tools_shop.orders по дням. Выведите все поля таблицы и новое поле с количеством заказов."
   ]
  },
  {
   "cell_type": "code",
   "execution_count": 66,
   "id": "2bb2f4c9",
   "metadata": {},
   "outputs": [],
   "source": [
    "SQL = '''SELECT *, COUNT(created_at) OVER (PARTITION BY created_at::date)\n",
    "FROM tools_shop.orders'''"
   ]
  },
  {
   "cell_type": "markdown",
   "id": "46baf34e",
   "metadata": {},
   "source": [
    "Оператор ORDER BY в выражении OVER позволяет не только сортировать значения. Если сочетать оператор с агрегирующими функциями, можно производить вычисления кумулятивно, то есть с накоплением.   \n",
    "Сумма с накоплением  \n",
    "Чаще всего считают сумму с накоплением: она показывает сумму всех чисел в наборе данных до текущего значения.  \n",
    "Покажем, как сделать такие расчёты в SQL. Можно рассчитать сумму затрат на рекламу для канала Yandex с накоплением.  "
   ]
  },
  {
   "cell_type": "code",
   "execution_count": 67,
   "id": "d600d3b4",
   "metadata": {},
   "outputs": [],
   "source": [
    "SQL = '''SELECT *,\n",
    "       SUM(costs) OVER (ORDER BY dt) AS costs_cum\n",
    "FROM online_store.costs\n",
    "WHERE channel = 'Yandex'; '''"
   ]
  },
  {
   "cell_type": "markdown",
   "id": "0840914f",
   "metadata": {},
   "source": [
    "Запрос отсортировал данные по возрастанию значения в поле dt — это поле указано после оператора ORDER BY в выражении OVER. Сумма с накоплением считается так: к значению предыдущей записи прибавляется значение текущей — и так с каждой записью до конца таблицы.\n",
    "Посмотрите, как выглядит итоговая таблица, которую выведет запрос без фильтра channel = 'Yandex'. В поле dt, по которому сортируют данные, встречается несколько одинаковых значений, и в таком случае значения costs в записях с одинаковой датой будут складываться. При этом сумма будет также рассчитана кумулятивно. "
   ]
  },
  {
   "cell_type": "markdown",
   "id": "b3076f9f",
   "metadata": {},
   "source": [
    "Сумму с накоплением можно рассчитать и для каждого окна отдельно. Для этого нужно добавить оператор PARTITION BY и указать нужное поле. Этот запрос рассчитает общее время сессий с накоплением для каждого пользователя:"
   ]
  },
  {
   "cell_type": "code",
   "execution_count": 68,
   "id": "099357f0",
   "metadata": {},
   "outputs": [],
   "source": [
    "SQL = '''SELECT user_id,\n",
    "       session_duration,\n",
    "       session_start,\n",
    "       SUM(session_duration) OVER (PARTITION BY user_id ORDER BY session_start)\n",
    "FROM online_store.sessions; '''"
   ]
  },
  {
   "cell_type": "markdown",
   "id": "46b6cb25",
   "metadata": {},
   "source": [
    "Если вы хотите проранжировать записи, используйте функцию ROW_NUMBER() — так ваш код будет логичнее и понятнее другим. \n",
    "Функции MIN(), MAX(), AVG() тоже используют для расчёта кумулятивных значений. Если сочетать эти функции с оператором ORDER BY в выражении OVER, при каждом новом расчёте минимума или среднего будет учитываться текущая запись вместе с предыдущими. \n",
    "Взгляните на результаты следующих запросов:"
   ]
  },
  {
   "cell_type": "code",
   "execution_count": 69,
   "id": "2ac425cb",
   "metadata": {},
   "outputs": [],
   "source": [
    "SQL = '''SELECT *,\n",
    "       MIN(costs) OVER (ORDER BY dt) AS costs_cum\n",
    "FROM online_store.costs\n",
    "WHERE channel = 'Yandex'; '''\n",
    "SQL = '''SELECT *,\n",
    "       MAX(costs) OVER (ORDER BY dt) AS costs_cum\n",
    "FROM online_store.costs\n",
    "WHERE channel = 'Yandex'; '''\n",
    "SQL = '''SELECT *,\n",
    "       AVG(costs) OVER (ORDER BY dt) AS costs_cum\n",
    "FROM online_store.costs\n",
    "WHERE channel = 'Yandex' '''"
   ]
  },
  {
   "cell_type": "markdown",
   "id": "a7046331",
   "metadata": {},
   "source": [
    "hапишите запрос к таблице tools_shop.orders, который выведет:\n",
    "дату и время заказа created_at;\n",
    "сумму заказа total_amt;\n",
    "сумму заказа с накоплением, отсортированную по возрастанию даты и времени заказа."
   ]
  },
  {
   "cell_type": "code",
   "execution_count": 70,
   "id": "1cd4296e",
   "metadata": {},
   "outputs": [],
   "source": [
    "SQL = '''SELECT created_at, total_amt,\n",
    "SUM(total_amt) OVER (ORDER BY created_at)\n",
    "FROM tools_shop.orders'''"
   ]
  },
  {
   "cell_type": "markdown",
   "id": "af8cca96",
   "metadata": {},
   "source": [
    "\n",
    "Напишите запрос к таблице tools_shop.orders, который выведет:\n",
    "дату и время заказа created_at;\n",
    "сумму заказа total_amt;\n",
    "сумму заказа с накоплением, отсортированную по возрастанию даты и времени заказа."
   ]
  },
  {
   "cell_type": "code",
   "execution_count": 71,
   "id": "8902a70c",
   "metadata": {},
   "outputs": [],
   "source": [
    "SQL = '''SELECT created_at, total_amt,\n",
    "SUM(total_amt) OVER (ORDER BY created_at)\n",
    "FROM tools_shop.orders'''"
   ]
  },
  {
   "cell_type": "markdown",
   "id": "0a30c302",
   "metadata": {},
   "source": [
    "Функции LEAD() и LAG() относятся к третьему типу оконных функций — функциям смещения. Функции смещения возвращают данные из других записей в зависимости от их расстояния от текущей записи. \n",
    "С помощью функций смещения можно для каждой записи с заказом пользователя вернуть дату прошлого или следующего заказа — previous_order_dt и next_order_dt соответственно. Функция LAG() позволяет возвращать предыдущие записи, а LEAD() — следующие."
   ]
  },
  {
   "cell_type": "code",
   "execution_count": 72,
   "id": "b17e136b",
   "metadata": {},
   "outputs": [],
   "source": [
    "SQL = '''SELECT user_id,\n",
    "       event_dt,\n",
    "       LAG(event_dt) OVER (PARTITION BY user_id ORDER BY event_dt) AS previous_order_dt,\n",
    "       LEAD(event_dt) OVER (PARTITION BY user_id ORDER BY event_dt) AS next_order_dt\n",
    "FROM online_store.orders\n",
    "WHERE user_id IN (300768196,\n",
    "                  840452722,\n",
    "                  59432616)\n",
    "ORDER BY user_id; '''"
   ]
  },
  {
   "cell_type": "markdown",
   "id": "69d36f46",
   "metadata": {},
   "source": [
    "Pазберём синтаксис подробнее. У функций есть несколько аргументов:\n",
    "LEAD(<поле>, <смещение>, <значение по умолчанию>) OVER (<определение окна>);\n",
    "LAG(<поле>, <смещение>, <значение по умолчанию>) OVER (<определение окна>).\n",
    "Аргумент <поле> указывает, из какого поля нужно вернуть значения. \n",
    "Аргумент <смещение> показывает, на какое количество строк относительно текущей должно произойти смещение. \n",
    "Аргумент <значение по умолчанию> указывает, какое значение нужно вернуть в случае, если нужной строки в таблице нет. \n",
    "В запросе выше функциям LEAD() и LAG() передали всего один аргумент — поле event_dt. Дело в том, что у двух других аргументов есть значения по умолчанию. Если не указать аргумент для смещения, он будет составлять 1. В таком случае функции будут возвращать записи, которые находятся либо сразу за текущей записью, либо перед ней. \n",
    "Третий аргумент тоже можно не указывать — в этом случае функции по умолчанию вернут NULL в тех случаях, если нужного значения в поле нет.\n",
    "К запросам"
   ]
  },
  {
   "cell_type": "code",
   "execution_count": null,
   "id": "9e0d01b5",
   "metadata": {},
   "outputs": [],
   "source": []
  }
 ],
 "metadata": {
  "ExecuteTimeLog": [
   {
    "duration": 7,
    "start_time": "2023-06-14T13:52:16.531Z"
   },
   {
    "duration": 2,
    "start_time": "2023-06-14T13:53:11.076Z"
   },
   {
    "duration": 3,
    "start_time": "2023-06-14T13:53:51.099Z"
   },
   {
    "duration": 2,
    "start_time": "2023-06-14T13:54:39.740Z"
   },
   {
    "duration": 5,
    "start_time": "2023-06-14T13:55:14.716Z"
   },
   {
    "duration": 3,
    "start_time": "2023-06-14T14:09:57.920Z"
   },
   {
    "duration": 3,
    "start_time": "2023-06-14T14:15:02.393Z"
   },
   {
    "duration": 2,
    "start_time": "2023-06-14T14:15:02.825Z"
   },
   {
    "duration": 95,
    "start_time": "2023-06-14T14:20:11.473Z"
   },
   {
    "duration": 3,
    "start_time": "2023-06-14T14:20:16.555Z"
   },
   {
    "duration": 8,
    "start_time": "2023-06-15T07:44:36.648Z"
   },
   {
    "duration": 4,
    "start_time": "2023-06-15T07:45:00.857Z"
   },
   {
    "duration": 3,
    "start_time": "2023-06-15T07:55:29.055Z"
   },
   {
    "duration": 4,
    "start_time": "2023-06-15T08:04:05.247Z"
   },
   {
    "duration": 3,
    "start_time": "2023-06-15T08:06:16.032Z"
   },
   {
    "duration": 5,
    "start_time": "2023-06-15T08:49:07.330Z"
   },
   {
    "duration": 2,
    "start_time": "2023-06-15T08:51:04.174Z"
   },
   {
    "duration": 4,
    "start_time": "2023-06-15T08:53:41.886Z"
   },
   {
    "duration": 10,
    "start_time": "2023-06-15T08:56:16.140Z"
   },
   {
    "duration": 3,
    "start_time": "2023-06-15T09:15:20.321Z"
   },
   {
    "duration": 3,
    "start_time": "2023-06-15T09:21:48.579Z"
   },
   {
    "duration": 3,
    "start_time": "2023-06-15T11:34:43.352Z"
   },
   {
    "duration": 4,
    "start_time": "2023-06-15T11:36:17.073Z"
   },
   {
    "duration": 3,
    "start_time": "2023-06-15T11:46:19.450Z"
   },
   {
    "duration": 3,
    "start_time": "2023-06-15T12:46:41.697Z"
   },
   {
    "duration": 2,
    "start_time": "2023-06-15T12:56:04.223Z"
   },
   {
    "duration": 4,
    "start_time": "2023-06-15T12:57:01.072Z"
   },
   {
    "duration": 2,
    "start_time": "2023-06-15T12:58:20.809Z"
   },
   {
    "duration": 2,
    "start_time": "2023-06-15T12:58:40.921Z"
   },
   {
    "duration": 2,
    "start_time": "2023-06-15T13:08:51.691Z"
   },
   {
    "duration": 4,
    "start_time": "2023-06-15T13:09:20.391Z"
   },
   {
    "duration": 100,
    "start_time": "2023-06-15T13:09:35.254Z"
   },
   {
    "duration": 3,
    "start_time": "2023-06-15T13:09:47.923Z"
   },
   {
    "duration": 3,
    "start_time": "2023-06-15T13:10:30.205Z"
   },
   {
    "duration": 3,
    "start_time": "2023-06-15T13:10:57.670Z"
   },
   {
    "duration": 3,
    "start_time": "2023-06-15T13:12:55.438Z"
   },
   {
    "duration": 2,
    "start_time": "2023-06-15T13:17:41.301Z"
   },
   {
    "duration": 3,
    "start_time": "2023-06-15T13:46:50.631Z"
   },
   {
    "duration": 4,
    "start_time": "2023-06-15T13:47:23.234Z"
   },
   {
    "duration": 3,
    "start_time": "2023-06-15T13:49:10.726Z"
   },
   {
    "duration": 3,
    "start_time": "2023-06-15T13:53:47.528Z"
   },
   {
    "duration": 3,
    "start_time": "2023-06-15T13:55:13.010Z"
   },
   {
    "duration": 3,
    "start_time": "2023-06-15T13:55:39.413Z"
   },
   {
    "duration": 9,
    "start_time": "2023-06-16T09:17:24.805Z"
   },
   {
    "duration": 3,
    "start_time": "2023-06-16T09:23:55.508Z"
   },
   {
    "duration": 11,
    "start_time": "2023-06-18T11:03:20.975Z"
   },
   {
    "duration": 3,
    "start_time": "2023-06-18T11:17:22.172Z"
   },
   {
    "duration": 2,
    "start_time": "2023-06-18T11:18:30.115Z"
   },
   {
    "duration": 2,
    "start_time": "2023-06-18T11:18:52.597Z"
   },
   {
    "duration": 3,
    "start_time": "2023-06-18T11:19:51.102Z"
   },
   {
    "duration": 2,
    "start_time": "2023-06-18T11:21:09.200Z"
   },
   {
    "duration": 200,
    "start_time": "2023-06-18T11:21:36.525Z"
   },
   {
    "duration": 129,
    "start_time": "2023-06-18T11:21:46.975Z"
   },
   {
    "duration": 5,
    "start_time": "2023-06-18T11:21:54.968Z"
   },
   {
    "duration": 2,
    "start_time": "2023-06-18T11:22:50.118Z"
   },
   {
    "duration": 2,
    "start_time": "2023-06-18T11:24:36.021Z"
   },
   {
    "duration": 3,
    "start_time": "2023-06-18T11:24:57.097Z"
   },
   {
    "duration": 3,
    "start_time": "2023-06-18T11:26:47.738Z"
   },
   {
    "duration": 3,
    "start_time": "2023-06-18T11:27:37.080Z"
   },
   {
    "duration": 2,
    "start_time": "2023-06-18T11:27:59.383Z"
   },
   {
    "duration": 3,
    "start_time": "2023-06-18T11:28:17.778Z"
   },
   {
    "duration": 3,
    "start_time": "2023-06-18T11:30:34.477Z"
   },
   {
    "duration": 2,
    "start_time": "2023-06-18T11:31:10.836Z"
   },
   {
    "duration": 3,
    "start_time": "2023-06-18T11:31:40.420Z"
   },
   {
    "duration": 3,
    "start_time": "2023-06-18T11:32:14.434Z"
   },
   {
    "duration": 2,
    "start_time": "2023-06-18T11:43:19.013Z"
   },
   {
    "duration": 2,
    "start_time": "2023-06-18T17:29:49.091Z"
   },
   {
    "duration": 3,
    "start_time": "2023-06-18T17:50:28.212Z"
   },
   {
    "duration": 41,
    "start_time": "2023-06-18T17:51:39.180Z"
   },
   {
    "duration": 2,
    "start_time": "2023-06-18T17:51:57.923Z"
   },
   {
    "duration": 2,
    "start_time": "2023-06-18T17:52:11.324Z"
   },
   {
    "duration": 2,
    "start_time": "2023-06-18T17:52:24.425Z"
   },
   {
    "duration": 3,
    "start_time": "2023-06-18T17:52:40.632Z"
   },
   {
    "duration": 2,
    "start_time": "2023-06-18T17:53:58.176Z"
   },
   {
    "duration": 3,
    "start_time": "2023-06-18T17:55:04.207Z"
   },
   {
    "duration": 3,
    "start_time": "2023-06-18T17:56:50.236Z"
   },
   {
    "duration": 3,
    "start_time": "2023-06-18T17:57:06.461Z"
   },
   {
    "duration": 4,
    "start_time": "2023-06-18T17:57:07.269Z"
   },
   {
    "duration": 106,
    "start_time": "2023-06-18T17:57:17.445Z"
   },
   {
    "duration": 2,
    "start_time": "2023-06-18T17:57:21.070Z"
   },
   {
    "duration": 3,
    "start_time": "2023-06-18T17:57:48.341Z"
   },
   {
    "duration": 3,
    "start_time": "2023-06-18T17:58:09.170Z"
   },
   {
    "duration": 3,
    "start_time": "2023-06-18T17:58:49.630Z"
   },
   {
    "duration": 7,
    "start_time": "2023-06-18T18:21:29.633Z"
   },
   {
    "duration": 4,
    "start_time": "2023-06-18T18:21:29.642Z"
   },
   {
    "duration": 13,
    "start_time": "2023-06-18T18:21:29.648Z"
   },
   {
    "duration": 3,
    "start_time": "2023-06-18T18:21:29.667Z"
   },
   {
    "duration": 3,
    "start_time": "2023-06-18T18:21:29.695Z"
   },
   {
    "duration": 4,
    "start_time": "2023-06-18T18:21:29.700Z"
   },
   {
    "duration": 7,
    "start_time": "2023-06-18T18:21:29.705Z"
   },
   {
    "duration": 7,
    "start_time": "2023-06-18T18:21:29.713Z"
   },
   {
    "duration": 4,
    "start_time": "2023-06-18T18:21:29.722Z"
   },
   {
    "duration": 4,
    "start_time": "2023-06-18T18:21:29.727Z"
   },
   {
    "duration": 4,
    "start_time": "2023-06-18T18:21:29.733Z"
   },
   {
    "duration": 6,
    "start_time": "2023-06-18T18:21:29.738Z"
   },
   {
    "duration": 17,
    "start_time": "2023-06-18T18:21:29.745Z"
   },
   {
    "duration": 6,
    "start_time": "2023-06-18T18:21:29.767Z"
   },
   {
    "duration": 10,
    "start_time": "2023-06-18T18:21:29.775Z"
   },
   {
    "duration": 3,
    "start_time": "2023-06-18T18:21:29.787Z"
   },
   {
    "duration": 7,
    "start_time": "2023-06-18T18:21:29.792Z"
   },
   {
    "duration": 3,
    "start_time": "2023-06-18T18:21:29.803Z"
   },
   {
    "duration": 5,
    "start_time": "2023-06-18T18:21:29.808Z"
   },
   {
    "duration": 7,
    "start_time": "2023-06-18T18:21:29.814Z"
   },
   {
    "duration": 6,
    "start_time": "2023-06-18T18:21:29.822Z"
   },
   {
    "duration": 4,
    "start_time": "2023-06-18T18:21:29.829Z"
   },
   {
    "duration": 3,
    "start_time": "2023-06-18T18:21:29.854Z"
   },
   {
    "duration": 4,
    "start_time": "2023-06-18T18:21:29.864Z"
   },
   {
    "duration": 8,
    "start_time": "2023-06-18T18:21:29.869Z"
   },
   {
    "duration": 5,
    "start_time": "2023-06-18T18:21:29.878Z"
   },
   {
    "duration": 4,
    "start_time": "2023-06-18T18:21:29.885Z"
   },
   {
    "duration": 4,
    "start_time": "2023-06-18T18:21:29.891Z"
   },
   {
    "duration": 7,
    "start_time": "2023-06-18T18:21:29.897Z"
   },
   {
    "duration": 4,
    "start_time": "2023-06-18T18:21:29.906Z"
   },
   {
    "duration": 7,
    "start_time": "2023-06-18T18:21:29.912Z"
   },
   {
    "duration": 11,
    "start_time": "2023-06-18T18:21:29.921Z"
   },
   {
    "duration": 5,
    "start_time": "2023-06-18T18:21:29.956Z"
   },
   {
    "duration": 8,
    "start_time": "2023-06-18T18:21:29.963Z"
   },
   {
    "duration": 6,
    "start_time": "2023-06-18T18:21:29.973Z"
   },
   {
    "duration": 13,
    "start_time": "2023-06-18T18:21:29.980Z"
   },
   {
    "duration": 77,
    "start_time": "2023-06-18T18:21:29.995Z"
   },
   {
    "duration": 46,
    "start_time": "2023-06-18T18:21:30.074Z"
   },
   {
    "duration": 26,
    "start_time": "2023-06-18T18:21:30.121Z"
   },
   {
    "duration": 30,
    "start_time": "2023-06-18T18:21:30.149Z"
   },
   {
    "duration": 14,
    "start_time": "2023-06-18T18:21:30.181Z"
   },
   {
    "duration": 6,
    "start_time": "2023-06-18T18:21:30.198Z"
   },
   {
    "duration": 14,
    "start_time": "2023-06-18T18:21:30.205Z"
   },
   {
    "duration": 20,
    "start_time": "2023-06-18T18:21:30.221Z"
   },
   {
    "duration": 44,
    "start_time": "2023-06-18T18:21:30.243Z"
   },
   {
    "duration": 37,
    "start_time": "2023-06-18T18:21:30.289Z"
   },
   {
    "duration": 60,
    "start_time": "2023-06-18T18:21:30.328Z"
   },
   {
    "duration": 24,
    "start_time": "2023-06-18T18:21:30.390Z"
   },
   {
    "duration": 47,
    "start_time": "2023-06-18T18:21:30.416Z"
   },
   {
    "duration": 21,
    "start_time": "2023-06-18T18:21:30.465Z"
   },
   {
    "duration": 42,
    "start_time": "2023-06-18T18:21:30.488Z"
   },
   {
    "duration": 37,
    "start_time": "2023-06-18T18:21:30.531Z"
   },
   {
    "duration": 41,
    "start_time": "2023-06-18T18:21:30.570Z"
   },
   {
    "duration": 26,
    "start_time": "2023-06-18T18:21:30.613Z"
   },
   {
    "duration": 34,
    "start_time": "2023-06-18T18:21:30.641Z"
   },
   {
    "duration": 117,
    "start_time": "2023-06-18T18:21:30.677Z"
   },
   {
    "duration": 25,
    "start_time": "2023-06-18T18:21:30.795Z"
   },
   {
    "duration": 29,
    "start_time": "2023-06-18T18:21:30.822Z"
   },
   {
    "duration": 23,
    "start_time": "2023-06-18T18:21:30.861Z"
   },
   {
    "duration": 33,
    "start_time": "2023-06-18T18:21:30.885Z"
   },
   {
    "duration": 45,
    "start_time": "2023-06-18T18:21:30.920Z"
   },
   {
    "duration": 62,
    "start_time": "2023-06-18T18:21:30.967Z"
   },
   {
    "duration": 49,
    "start_time": "2023-06-18T18:21:31.032Z"
   },
   {
    "duration": 63,
    "start_time": "2023-06-18T18:21:31.084Z"
   },
   {
    "duration": 46,
    "start_time": "2023-06-18T18:21:31.149Z"
   },
   {
    "duration": 30,
    "start_time": "2023-06-18T18:21:31.197Z"
   },
   {
    "duration": 31,
    "start_time": "2023-06-18T18:21:31.229Z"
   },
   {
    "duration": 15,
    "start_time": "2023-06-18T18:21:31.263Z"
   },
   {
    "duration": 35,
    "start_time": "2023-06-18T18:21:31.280Z"
   },
   {
    "duration": 36,
    "start_time": "2023-06-18T18:21:31.317Z"
   },
   {
    "duration": 32,
    "start_time": "2023-06-18T18:21:31.354Z"
   },
   {
    "duration": 122,
    "start_time": "2023-06-18T18:21:31.388Z"
   }
  ],
  "kernelspec": {
   "display_name": "Python 3 (ipykernel)",
   "language": "python",
   "name": "python3"
  },
  "language_info": {
   "codemirror_mode": {
    "name": "ipython",
    "version": 3
   },
   "file_extension": ".py",
   "mimetype": "text/x-python",
   "name": "python",
   "nbconvert_exporter": "python",
   "pygments_lexer": "ipython3",
   "version": "3.9.5"
  },
  "toc": {
   "base_numbering": 1,
   "nav_menu": {},
   "number_sections": true,
   "sideBar": true,
   "skip_h1_title": true,
   "title_cell": "Table of Contents",
   "title_sidebar": "Contents",
   "toc_cell": false,
   "toc_position": {},
   "toc_section_display": true,
   "toc_window_display": false
  }
 },
 "nbformat": 4,
 "nbformat_minor": 5
}
